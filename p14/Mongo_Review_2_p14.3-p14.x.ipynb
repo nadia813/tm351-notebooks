{
 "cells": [
  {
   "cell_type": "markdown",
   "metadata": {},
   "source": [
    "# Mongo_review p14.3 - "
   ]
  },
  {
   "cell_type": "markdown",
   "metadata": {},
   "source": [
    "# 14.3 - Using Statistical Tests\n",
    "Shows some examples of using statistical tests to get qualitative results from questions asked of the accidents dataset."
   ]
  },
  {
   "cell_type": "code",
   "execution_count": 1,
   "metadata": {
    "collapsed": true
   },
   "outputs": [],
   "source": [
    "# Import the required libraries\n",
    "\n",
    "import pymongo\n",
    "import datetime\n",
    "import collections\n",
    "\n",
    "import pandas as pd\n",
    "import scipy.stats"
   ]
  },
  {
   "cell_type": "code",
   "execution_count": 2,
   "metadata": {
    "collapsed": true
   },
   "outputs": [],
   "source": [
    "# Open a connection to the Mongo server, open the accidents database and name the collections of accidents and labels\n",
    "client = pymongo.MongoClient('mongodb://localhost:27351/')\n",
    "\n",
    "db = client.accidents\n",
    "accidents = db.accidents\n",
    "labels = db.labels"
   ]
  },
  {
   "cell_type": "code",
   "execution_count": 3,
   "metadata": {
    "collapsed": true
   },
   "outputs": [],
   "source": [
    "# load the expanded names of keys and human-readable codes into memory\n",
    "expanded_name = collections.defaultdict(str)\n",
    "for e in labels.find({'expanded': {'$exists': True}}):\n",
    "    expanded_name[e['label']] = e['expanded']\n",
    "\n",
    "label_of = collections.defaultdict(str)\n",
    "for l in labels.find({'codes': {'$exists': True}}):\n",
    "    for c in l['codes']:\n",
    "        try:\n",
    "            label_of[l['label'], int(c)] = l['codes'][c]\n",
    "        except ValueError:\n",
    "            label_of[l['label'], c ] = l['codes'][c]\n"
   ]
  },
  {
   "cell_type": "markdown",
   "metadata": {},
   "source": [
    "## Pearson's _R^2_\n",
    "### Comparing the number of casualties and vehicles\n",
    "This is the same investigation as in pt `14.2 - Introdution to accidents`"
   ]
  },
  {
   "cell_type": "code",
   "execution_count": 4,
   "metadata": {},
   "outputs": [
    {
     "data": {
      "text/html": [
       "<div>\n",
       "<style>\n",
       "    .dataframe thead tr:only-child th {\n",
       "        text-align: right;\n",
       "    }\n",
       "\n",
       "    .dataframe thead th {\n",
       "        text-align: left;\n",
       "    }\n",
       "\n",
       "    .dataframe tbody tr th {\n",
       "        vertical-align: top;\n",
       "    }\n",
       "</style>\n",
       "<table border=\"1\" class=\"dataframe\">\n",
       "  <thead>\n",
       "    <tr style=\"text-align: right;\">\n",
       "      <th></th>\n",
       "      <th>Number_of_Casualties</th>\n",
       "      <th>Number_of_Vehicles</th>\n",
       "      <th>0</th>\n",
       "    </tr>\n",
       "  </thead>\n",
       "  <tbody>\n",
       "    <tr>\n",
       "      <th>0</th>\n",
       "      <td>1</td>\n",
       "      <td>1</td>\n",
       "      <td>39217</td>\n",
       "    </tr>\n",
       "    <tr>\n",
       "      <th>1</th>\n",
       "      <td>1</td>\n",
       "      <td>2</td>\n",
       "      <td>65680</td>\n",
       "    </tr>\n",
       "    <tr>\n",
       "      <th>2</th>\n",
       "      <td>1</td>\n",
       "      <td>3</td>\n",
       "      <td>6168</td>\n",
       "    </tr>\n",
       "    <tr>\n",
       "      <th>3</th>\n",
       "      <td>1</td>\n",
       "      <td>4</td>\n",
       "      <td>1056</td>\n",
       "    </tr>\n",
       "    <tr>\n",
       "      <th>4</th>\n",
       "      <td>1</td>\n",
       "      <td>5</td>\n",
       "      <td>197</td>\n",
       "    </tr>\n",
       "  </tbody>\n",
       "</table>\n",
       "</div>"
      ],
      "text/plain": [
       "   Number_of_Casualties  Number_of_Vehicles      0\n",
       "0                     1                   1  39217\n",
       "1                     1                   2  65680\n",
       "2                     1                   3   6168\n",
       "3                     1                   4   1056\n",
       "4                     1                   5    197"
      ]
     },
     "execution_count": 4,
     "metadata": {},
     "output_type": "execute_result"
    }
   ],
   "source": [
    "# Build a dataframe, one row for each accident\n",
    "cas_veh_unrolled_df = pd.DataFrame(list(accidents.find({}, ['Number_of_Casualties', 'Number_of_Vehicles'])))\n",
    "\n",
    "# Count the number of each severity\n",
    "cas_veh_df = pd.crosstab(cas_veh_unrolled_df['Number_of_Casualties'], \n",
    "                         cas_veh_unrolled_df['Number_of_Vehicles'])\n",
    "\n",
    "# Reshape the dataframe\n",
    "cas_veh_long_df = cas_veh_df.stack().reset_index()\n",
    "cas_veh_long_df.head()"
   ]
  },
  {
   "cell_type": "markdown",
   "metadata": {},
   "source": [
    "Let's plot it like earlier with the regression line"
   ]
  },
  {
   "cell_type": "code",
   "execution_count": 5,
   "metadata": {},
   "outputs": [
    {
     "data": {
      "text/plain": [
       "(0.21101011188488833, 1.5427349394560317)"
      ]
     },
     "execution_count": 5,
     "metadata": {},
     "output_type": "execute_result"
    }
   ],
   "source": [
    "regressionline = scipy.stats.linregress(cas_veh_unrolled_df['Number_of_Casualties'], \n",
    "                                        cas_veh_unrolled_df['Number_of_Vehicles'])\n",
    "\n",
    "# the regression line is of the form y = m * x + b\n",
    "m = regressionline[0]\n",
    "b = regressionline[1]\n",
    "(m,b)"
   ]
  },
  {
   "cell_type": "code",
   "execution_count": 6,
   "metadata": {},
   "outputs": [
    {
     "data": {
      "text/plain": [
       "<matplotlib.text.Text at 0x7fe462aeea20>"
      ]
     },
     "execution_count": 6,
     "metadata": {},
     "output_type": "execute_result"
    },
    {
     "data": {
      "image/png": "[encoded data removed]",
      "text/plain": [
       "<matplotlib.figure.Figure at 0x7fe462e029b0>"
      ]
     },
     "metadata": {},
     "output_type": "display_data"
    }
   ],
   "source": [
    "# Make the scatter plot\n",
    "import seaborn as sb\n",
    "\n",
    "plt.scatter(cas_veh_long_df['Number_of_Casualties'], \n",
    "            cas_veh_long_df['Number_of_Vehicles'], \n",
    "            s=np.sqrt(cas_veh_long_df[0])*1.5, \n",
    "            alpha=0.5\n",
    "           )\n",
    "\n",
    "x = np.linspace(0, 30, 20)\n",
    "plt.plot(m*x+b)\n",
    "\n",
    "plt.xlabel('Number of Casualties')\n",
    "plt.ylabel('Number of Vehicles')"
   ]
  },
  {
   "cell_type": "code",
   "execution_count": 7,
   "metadata": {
    "collapsed": true
   },
   "outputs": [],
   "source": [
    "sb.set_style('white')\n",
    "sb.set_palette('dark')"
   ]
  },
  {
   "cell_type": "code",
   "execution_count": 17,
   "metadata": {},
   "outputs": [
    {
     "data": {
      "text/plain": [
       "<matplotlib.text.Text at 0x7fe4633cac18>"
      ]
     },
     "execution_count": 17,
     "metadata": {},
     "output_type": "execute_result"
    },
    {
     "data": {
      "image/png": "[encoded data removed]",
      "text/plain": [
       "<matplotlib.figure.Figure at 0x7fe46345c9e8>"
      ]
     },
     "metadata": {},
     "output_type": "display_data"
    }
   ],
   "source": [
    "plt.scatter(cas_veh_long_df['Number_of_Casualties'], \n",
    "            cas_veh_long_df['Number_of_Vehicles'], \n",
    "            s=np.sqrt(cas_veh_long_df[0])*1.5, \n",
    "            alpha=0.5\n",
    "           )\n",
    "\n",
    "x = np.linspace(0, 20, 50)\n",
    "plt.plot(m*x+b)\n",
    "\n",
    "plt.xlabel('Number of Casualties')\n",
    "plt.ylabel('Number of Vehicles')"
   ]
  },
  {
   "cell_type": "markdown",
   "metadata": {},
   "source": [
    "The `pearsonr` function calculates Pearson's *R*² value of correlation. The function takes two lists of numbers, of equal lengths. The pearson's *R*² function looks at the values at the same index in both lists and finds how the values in one column vary with respect to the other column.\n",
    "\n",
    "Note that we have to give each accident on it's own row: if there are 145,000 accidents, the `pearsonr` function must be passed lists with 145,000 items.\n",
    "\n",
    "Recall that values near +1 show good positive correlation, values near -1 show good negative correlation, and values near 0 show no particular correlation. The `scipy` function rturns a second value, the *p* value of the result."
   ]
  },
  {
   "cell_type": "code",
   "execution_count": 19,
   "metadata": {},
   "outputs": [
    {
     "data": {
      "text/plain": [
       "(0.2415849093923253, 0.0)"
      ]
     },
     "execution_count": 19,
     "metadata": {},
     "output_type": "execute_result"
    }
   ],
   "source": [
    "scipy.stats.pearsonr(cas_veh_unrolled_df['Number_of_Casualties'], \n",
    "                     cas_veh_unrolled_df['Number_of_Vehicles'])"
   ]
  },
  {
   "cell_type": "markdown",
   "metadata": {},
   "source": [
    "This result shows a small, positive correlation with avewy small _p_ value. In other words, there's not much correlation, and the result is statistically significant.  this means we can reject the null hypothesis that the number of casualties in an accident is unrelated to the number of vehicles.\n",
    "\n",
    "Looking at the data, it seems that to be a result that most accidents result in very few casualties, and the accidents with the most casualties have few vehicles.\n",
    "\n",
    "Can you think of a reason for this?\n"
   ]
  },
  {
   "cell_type": "markdown",
   "metadata": {},
   "source": [
    "_Coach / bus accidents could result in many casualties despite having few vehicles involved._"
   ]
  },
  {
   "cell_type": "markdown",
   "metadata": {
    "activity": "activityAns"
   },
   "source": [
    "### Activity 1\n",
    "Ages of people in the accidents dataset are stored as bands, not continuous values. This means that correlations between them must use Spearman's *r*.\n",
    "\n",
    "Calculate the Spearman rank-order correlation coefficient between the age of a vehicle's driver and the age of the passengers. \n",
    "\n",
    "Similar to the Pearson function above, the `scipy.stats.spearmanr()` function takes two parameters, each a list of values for the two variables being compared. \n",
    "\n",
    "You'll need to create an `unrolled` DataFrame with one row for each injured passenger. Each row should have two values: one for the age band of the driver, and one for the age band of a passenger. If the vehicle has multiple passengers, the DataFrame should have one row for each passenger. (Each element of `Casualties` has a `Vehicle_Reference` that relates it to the vehicle the casualty was in.)\n",
    "\n",
    "We're interested in the relationship between drivers and passengers, so don't include the driver as a casualty. (Use the `Casualty_Class` to find out.)\n",
    "\n",
    "Don't include any driver-passenger pairs where the age of one of them is unknown (code -1).\n",
    "\n",
    "**Hint**\n",
    "\n",
    "Each accident document contains a list of vehicles and a list of casualties. For each accident, you'll need to iterate through both of these to find the information for each individual casualty.\n",
    "\n",
    "The solution is in the [`14.3solutions`](14.3solutions.ipynb) Notebook."
   ]
  },
  {
   "cell_type": "code",
   "execution_count": 27,
   "metadata": {},
   "outputs": [
    {
     "data": {
      "text/plain": [
       "{'1st_Road_Class': 3,\n",
       " '1st_Road_Number': 308,\n",
       " '2nd_Road_Class': 5,\n",
       " '2nd_Road_Number': 0,\n",
       " 'Accident_Index': '201201BS70001',\n",
       " 'Accident_Severity': 3,\n",
       " 'Carriageway_Hazards': 0,\n",
       " 'Casualties': [{'Age_Band_of_Casualty': 7,\n",
       "   'Bus_or_Coach_Passenger': 0,\n",
       "   'Car_Passenger': 0,\n",
       "   'Casualty_Class': 1,\n",
       "   'Casualty_Home_Area_Type': 1,\n",
       "   'Casualty_Reference': 1,\n",
       "   'Casualty_Severity': 3,\n",
       "   'Casualty_Type': 1,\n",
       "   'Pedestrian_Location': 0,\n",
       "   'Pedestrian_Movement': 0,\n",
       "   'Pedestrian_Road_Maintenance_Worker': 0,\n",
       "   'Sex_of_Casualty': 1,\n",
       "   'Vehicle_Reference': 2}],\n",
       " 'Date': '19/01/2012',\n",
       " 'Datetime': datetime.datetime(2012, 1, 19, 20, 35),\n",
       " 'Day_of_Week': 5,\n",
       " 'Did_Police_Officer_Attend_Scene_of_Accident': 1,\n",
       " 'Junction_Control': 2,\n",
       " 'Junction_Detail': 6,\n",
       " 'LSOA_of_Accident_Location': 'E01002821',\n",
       " 'Latitude': 51.493429,\n",
       " 'Light_Conditions': 4,\n",
       " 'Local_Authority_(District)': 12,\n",
       " 'Local_Authority_(Highway)': 'E09000020',\n",
       " 'Location_Easting_OSGR': 527200,\n",
       " 'Location_Northing_OSGR': 178760,\n",
       " 'Longitude': -0.169101,\n",
       " 'Number_of_Casualties': 1,\n",
       " 'Number_of_Vehicles': 2,\n",
       " 'Pedestrian_Crossing-Human_Control': 0,\n",
       " 'Pedestrian_Crossing-Physical_Facilities': 5,\n",
       " 'Police_Force': 1,\n",
       " 'Road_Surface_Conditions': 1,\n",
       " 'Road_Type': 6,\n",
       " 'Special_Conditions_at_Site': 0,\n",
       " 'Speed_limit': 30,\n",
       " 'Time': '20:35',\n",
       " 'Urban_or_Rural_Area': 1,\n",
       " 'Vehicles': [{'1st_Point_of_Impact': 4,\n",
       "   'Age_Band_of_Driver': 4,\n",
       "   'Age_of_Vehicle': 5,\n",
       "   'Driver_Home_Area_Type': 1,\n",
       "   'Driver_IMD_Decile': 7,\n",
       "   'Engine_Capacity_(CC)': 1390,\n",
       "   'Hit_Object_in_Carriageway': 0,\n",
       "   'Hit_Object_off_Carriageway': 0,\n",
       "   'Journey_Purpose_of_Driver': 6,\n",
       "   'Junction_Location': 8,\n",
       "   'Propulsion_Code': 1,\n",
       "   'Sex_of_Driver': 2,\n",
       "   'Skidding_and_Overturning': 0,\n",
       "   'Towing_and_Articulation': 0,\n",
       "   'Vehicle_Leaving_Carriageway': 0,\n",
       "   'Vehicle_Location-Restricted_Lane': 0,\n",
       "   'Vehicle_Manoeuvre': 9,\n",
       "   'Vehicle_Reference': 1,\n",
       "   'Vehicle_Type': 9,\n",
       "   'Was_Vehicle_Left_Hand_Drive?': 1},\n",
       "  {'1st_Point_of_Impact': 1,\n",
       "   'Age_Band_of_Driver': 7,\n",
       "   'Age_of_Vehicle': -1,\n",
       "   'Driver_Home_Area_Type': 1,\n",
       "   'Driver_IMD_Decile': 3,\n",
       "   'Engine_Capacity_(CC)': -1,\n",
       "   'Hit_Object_in_Carriageway': 0,\n",
       "   'Hit_Object_off_Carriageway': 0,\n",
       "   'Journey_Purpose_of_Driver': 6,\n",
       "   'Junction_Location': 8,\n",
       "   'Propulsion_Code': -1,\n",
       "   'Sex_of_Driver': 1,\n",
       "   'Skidding_and_Overturning': 0,\n",
       "   'Towing_and_Articulation': 0,\n",
       "   'Vehicle_Leaving_Carriageway': 0,\n",
       "   'Vehicle_Location-Restricted_Lane': 0,\n",
       "   'Vehicle_Manoeuvre': 18,\n",
       "   'Vehicle_Reference': 2,\n",
       "   'Vehicle_Type': 1,\n",
       "   'Was_Vehicle_Left_Hand_Drive?': 1}],\n",
       " 'Weather_Conditions': 1,\n",
       " '_id': ObjectId('52a9c97c92c4e16686d13265'),\n",
       " 'loc': {'coordinates': [-0.169101, 51.493429], 'type': 'Point'}}"
      ]
     },
     "execution_count": 27,
     "metadata": {},
     "output_type": "execute_result"
    }
   ],
   "source": [
    "accidents.find_one()"
   ]
  },
  {
   "cell_type": "code",
   "execution_count": 26,
   "metadata": {},
   "outputs": [
    {
     "data": {
      "text/html": [
       "<div>\n",
       "<style>\n",
       "    .dataframe thead tr:only-child th {\n",
       "        text-align: right;\n",
       "    }\n",
       "\n",
       "    .dataframe thead th {\n",
       "        text-align: left;\n",
       "    }\n",
       "\n",
       "    .dataframe tbody tr th {\n",
       "        vertical-align: top;\n",
       "    }\n",
       "</style>\n",
       "<table border=\"1\" class=\"dataframe\">\n",
       "  <thead>\n",
       "    <tr style=\"text-align: right;\">\n",
       "      <th></th>\n",
       "      <th>Age_Band_of_Casualty</th>\n",
       "      <th>Age_Band_of_Driver</th>\n",
       "    </tr>\n",
       "  </thead>\n",
       "  <tbody>\n",
       "    <tr>\n",
       "      <th>0</th>\n",
       "      <td>5</td>\n",
       "      <td>5</td>\n",
       "    </tr>\n",
       "    <tr>\n",
       "      <th>1</th>\n",
       "      <td>11</td>\n",
       "      <td>5</td>\n",
       "    </tr>\n",
       "    <tr>\n",
       "      <th>2</th>\n",
       "      <td>4</td>\n",
       "      <td>4</td>\n",
       "    </tr>\n",
       "    <tr>\n",
       "      <th>3</th>\n",
       "      <td>4</td>\n",
       "      <td>4</td>\n",
       "    </tr>\n",
       "    <tr>\n",
       "      <th>4</th>\n",
       "      <td>4</td>\n",
       "      <td>4</td>\n",
       "    </tr>\n",
       "  </tbody>\n",
       "</table>\n",
       "</div>"
      ],
      "text/plain": [
       "   Age_Band_of_Casualty  Age_Band_of_Driver\n",
       "0                     5                   5\n",
       "1                    11                   5\n",
       "2                     4                   4\n",
       "3                     4                   4\n",
       "4                     4                   4"
      ]
     },
     "execution_count": 26,
     "metadata": {},
     "output_type": "execute_result"
    }
   ],
   "source": [
    "# monstrous list comprehension\n",
    "\n",
    "# get the vehicle age of driver, and the casualty age\n",
    "# for each accident's cashualties, and vehicles\n",
    "driver_passenger_unrolled_df = pd.DataFrame([\n",
    "    {'Age_Band_of_Driver': v['Age_Band_of_Driver'],\n",
    "    'Age_Band_of_Casualty': c['Age_Band_of_Casualty']}\n",
    "    for a in accidents.find({})\n",
    "    for c in a['Casualties']\n",
    "    for v in a ['Vehicles']\n",
    "    if c['Vehicle_Reference'] == v['Vehicle_Reference']\n",
    "    if c['Casualty_Class'] == 2\n",
    "    if c['Age_Band_of_Casualty'] != -1\n",
    "    if v['Age_Band_of_Driver'] != -1\n",
    "])\n",
    "\n",
    "driver_passenger_unrolled_df.head()"
   ]
  },
  {
   "cell_type": "code",
   "execution_count": 22,
   "metadata": {
    "collapsed": true
   },
   "outputs": [],
   "source": [
    "# reshape to plot\n",
    "# crosstab to get the counts\n",
    "driver_passenger_df = pd.crosstab(driver_passenger_unrolled_df['Age_Band_of_Driver'], \n",
    "                                  driver_passenger_unrolled_df['Age_Band_of_Casualty'])\n",
    "# stack so we can plot a scatter\n",
    "driver_passenger_long_df = driver_passenger_df.stack().reset_index()\n",
    "\n"
   ]
  },
  {
   "cell_type": "code",
   "execution_count": 23,
   "metadata": {},
   "outputs": [
    {
     "data": {
      "image/png": "[encoded data removed]",
      "text/plain": [
       "<matplotlib.figure.Figure at 0x7fe4632ccda0>"
      ]
     },
     "metadata": {},
     "output_type": "display_data"
    }
   ],
   "source": [
    "plt.scatter(driver_passenger_long_df['Age_Band_of_Driver'],\n",
    "            driver_passenger_long_df['Age_Band_of_Casualty'], \n",
    "            s=np.sqrt(driver_passenger_long_df[0])*1.5, \n",
    "            alpha=0.8)\n",
    "\n",
    "plt.xlabel('Driver age band')\n",
    "plt.ylabel('Passenger agr band')\n",
    "\n",
    "plt.show()"
   ]
  },
  {
   "cell_type": "markdown",
   "metadata": {},
   "source": [
    "We can now apply the Spearmenr function to calculate the rho value"
   ]
  },
  {
   "cell_type": "code",
   "execution_count": 24,
   "metadata": {},
   "outputs": [
    {
     "data": {
      "text/plain": [
       "SpearmanrResult(correlation=0.40612591615498272, pvalue=0.0)"
      ]
     },
     "execution_count": 24,
     "metadata": {},
     "output_type": "execute_result"
    }
   ],
   "source": [
    "scipy.stats.spearmanr(driver_passenger_unrolled_df['Age_Band_of_Driver'], \n",
    "                      driver_passenger_unrolled_df['Age_Band_of_Casualty'])"
   ]
  },
  {
   "cell_type": "markdown",
   "metadata": {},
   "source": [
    "This shows a reasonable positive correlation.  The older the driver is the older the passenger tends to be.\n",
    "\n",
    "the _p_ value of 0.0 means that this correlation could not have happened by chance."
   ]
  },
  {
   "cell_type": "markdown",
   "metadata": {},
   "source": [
    "## Chi-Squared example 1: hypothetical voting intention\n"
   ]
  },
  {
   "cell_type": "code",
   "execution_count": 28,
   "metadata": {},
   "outputs": [
    {
     "data": {
      "text/html": [
       "<div>\n",
       "<style>\n",
       "    .dataframe thead tr:only-child th {\n",
       "        text-align: right;\n",
       "    }\n",
       "\n",
       "    .dataframe thead th {\n",
       "        text-align: left;\n",
       "    }\n",
       "\n",
       "    .dataframe tbody tr th {\n",
       "        vertical-align: top;\n",
       "    }\n",
       "</style>\n",
       "<table border=\"1\" class=\"dataframe\">\n",
       "  <thead>\n",
       "    <tr style=\"text-align: right;\">\n",
       "      <th></th>\n",
       "      <th>Conservative</th>\n",
       "      <th>Labour</th>\n",
       "      <th>Other</th>\n",
       "    </tr>\n",
       "  </thead>\n",
       "  <tbody>\n",
       "    <tr>\n",
       "      <th>Men</th>\n",
       "      <td>170</td>\n",
       "      <td>240</td>\n",
       "      <td>80</td>\n",
       "    </tr>\n",
       "    <tr>\n",
       "      <th>Women</th>\n",
       "      <td>220</td>\n",
       "      <td>190</td>\n",
       "      <td>100</td>\n",
       "    </tr>\n",
       "  </tbody>\n",
       "</table>\n",
       "</div>"
      ],
      "text/plain": [
       "       Conservative  Labour  Other\n",
       "Men             170     240     80\n",
       "Women           220     190    100"
      ]
     },
     "execution_count": 28,
     "metadata": {},
     "output_type": "execute_result"
    }
   ],
   "source": [
    "actual_survey_results = pd.DataFrame({'Conservative': {'Men': 170, 'Women': 220},\n",
    "                                      'Labour': {'Men': 240, 'Women':190}, \n",
    "                                      'Other': {'Men': 80, 'Women': 100}})\n",
    "actual_survey_results"
   ]
  },
  {
   "cell_type": "markdown",
   "metadata": {},
   "source": [
    "We could find the expected counts manually, or we could use the `scipi.stats.contingency.expected_freq()` function to do it for us.  Note that this returns an array, rather than a DataFrame, but it's the samie shape as the original."
   ]
  },
  {
   "cell_type": "code",
   "execution_count": 30,
   "metadata": {},
   "outputs": [
    {
     "data": {
      "text/plain": [
       "array([[ 191.1,  210.7,   88.2],\n",
       "       [ 198.9,  219.3,   91.8]])"
      ]
     },
     "execution_count": 30,
     "metadata": {},
     "output_type": "execute_result"
    }
   ],
   "source": [
    "scipy.stats.contingency.expected_freq(actual_survey_results)"
   ]
  },
  {
   "cell_type": "code",
   "execution_count": 35,
   "metadata": {
    "collapsed": true
   },
   "outputs": [],
   "source": [
    "# manually calculate the expeched counts\n",
    "def expected_of_df(actual_df):\n",
    "    df = pd.DataFrame(\n",
    "        {col:\n",
    "         {row: actual_df[col].sum() * actual_df.loc[row].sum() / actual_df.sum().sum() for row in actual_df[col].index}\n",
    "         for col in actual_df})\n",
    "    # fix the order of the columns\n",
    "    df = df[actual_df.columns]\n",
    "    df = df.reindex(actual_df.index)\n",
    "    return df"
   ]
  },
  {
   "cell_type": "code",
   "execution_count": 36,
   "metadata": {},
   "outputs": [
    {
     "data": {
      "text/html": [
       "<div>\n",
       "<style>\n",
       "    .dataframe thead tr:only-child th {\n",
       "        text-align: right;\n",
       "    }\n",
       "\n",
       "    .dataframe thead th {\n",
       "        text-align: left;\n",
       "    }\n",
       "\n",
       "    .dataframe tbody tr th {\n",
       "        vertical-align: top;\n",
       "    }\n",
       "</style>\n",
       "<table border=\"1\" class=\"dataframe\">\n",
       "  <thead>\n",
       "    <tr style=\"text-align: right;\">\n",
       "      <th></th>\n",
       "      <th>Conservative</th>\n",
       "      <th>Labour</th>\n",
       "      <th>Other</th>\n",
       "    </tr>\n",
       "  </thead>\n",
       "  <tbody>\n",
       "    <tr>\n",
       "      <th>Men</th>\n",
       "      <td>191.1</td>\n",
       "      <td>210.7</td>\n",
       "      <td>88.2</td>\n",
       "    </tr>\n",
       "    <tr>\n",
       "      <th>Women</th>\n",
       "      <td>198.9</td>\n",
       "      <td>219.3</td>\n",
       "      <td>91.8</td>\n",
       "    </tr>\n",
       "  </tbody>\n",
       "</table>\n",
       "</div>"
      ],
      "text/plain": [
       "       Conservative  Labour  Other\n",
       "Men           191.1   210.7   88.2\n",
       "Women         198.9   219.3   91.8"
      ]
     },
     "execution_count": 36,
     "metadata": {},
     "output_type": "execute_result"
    }
   ],
   "source": [
    "expected_survey_results = expected_of_df(actual_survey_results)\n",
    "expected_survey_results"
   ]
  },
  {
   "cell_type": "markdown",
   "metadata": {
    "collapsed": true
   },
   "source": [
    "As we're using a table of several rows and columns, we use the `scipy.stats.chi2_contingency()` function to find the $\\chi ^ 2$ statistic ant the _p_ value.\n",
    "\n",
    "Note that the function returns $\\chi ^ 2$, the _p_ value, the number of degrees of freedom, and the matrix of expected frequencies.  Fe're generally after just the second returned value, the _p_ value."
   ]
  },
  {
   "cell_type": "code",
   "execution_count": 37,
   "metadata": {},
   "outputs": [
    {
     "data": {
      "text/plain": [
       "(14.05205294202754, 0.00088845507800327844, 2, array([[ 191.1,  210.7,   88.2],\n",
       "        [ 198.9,  219.3,   91.8]]))"
      ]
     },
     "execution_count": 37,
     "metadata": {},
     "output_type": "execute_result"
    }
   ],
   "source": [
    "scipy.stats.chi2_contingency(actual_survey_results)\n"
   ]
  },
  {
   "cell_type": "code",
   "execution_count": 38,
   "metadata": {},
   "outputs": [
    {
     "data": {
      "text/plain": [
       "(14.05205294202754, 0.00088845507800327844)"
      ]
     },
     "execution_count": 38,
     "metadata": {},
     "output_type": "execute_result"
    }
   ],
   "source": [
    "# assign the results we want to variables\n",
    "chi2, p, _, _ = scipy.stats.chi2_contingency(actual_survey_results)\n",
    "\n",
    "chi2, p"
   ]
  },
  {
   "cell_type": "markdown",
   "metadata": {},
   "source": [
    "The _p_ value of 0.0009 means that we can reject the null hypothesis that voting intention is independent of gender: for this example, it seems that we can say that men and women vote differently.\n",
    "\n",
    "Adjusting the numbers we can get a very different result/\n"
   ]
  },
  {
   "cell_type": "code",
   "execution_count": 39,
   "metadata": {},
   "outputs": [
    {
     "data": {
      "text/html": [
       "<div>\n",
       "<style>\n",
       "    .dataframe thead tr:only-child th {\n",
       "        text-align: right;\n",
       "    }\n",
       "\n",
       "    .dataframe thead th {\n",
       "        text-align: left;\n",
       "    }\n",
       "\n",
       "    .dataframe tbody tr th {\n",
       "        vertical-align: top;\n",
       "    }\n",
       "</style>\n",
       "<table border=\"1\" class=\"dataframe\">\n",
       "  <thead>\n",
       "    <tr style=\"text-align: right;\">\n",
       "      <th></th>\n",
       "      <th>Conservatives</th>\n",
       "      <th>Labour</th>\n",
       "      <th>Other</th>\n",
       "    </tr>\n",
       "  </thead>\n",
       "  <tbody>\n",
       "    <tr>\n",
       "      <th>Men</th>\n",
       "      <td>170</td>\n",
       "      <td>220</td>\n",
       "      <td>80</td>\n",
       "    </tr>\n",
       "    <tr>\n",
       "      <th>Women</th>\n",
       "      <td>220</td>\n",
       "      <td>210</td>\n",
       "      <td>100</td>\n",
       "    </tr>\n",
       "  </tbody>\n",
       "</table>\n",
       "</div>"
      ],
      "text/plain": [
       "       Conservatives  Labour  Other\n",
       "Men              170     220     80\n",
       "Women            220     210    100"
      ]
     },
     "execution_count": 39,
     "metadata": {},
     "output_type": "execute_result"
    }
   ],
   "source": [
    "actual_survey_results_2 = pd.DataFrame({'Conservatives': {'Men': 170, 'Women': 220}, \n",
    "                                        'Labour': {'Men': 220, 'Women': 210}, \n",
    "                                        'Other': {'Men': 80, 'Women': 100}})\n",
    "actual_survey_results_2"
   ]
  },
  {
   "cell_type": "code",
   "execution_count": 40,
   "metadata": {},
   "outputs": [
    {
     "data": {
      "text/html": [
       "<div>\n",
       "<style>\n",
       "    .dataframe thead tr:only-child th {\n",
       "        text-align: right;\n",
       "    }\n",
       "\n",
       "    .dataframe thead th {\n",
       "        text-align: left;\n",
       "    }\n",
       "\n",
       "    .dataframe tbody tr th {\n",
       "        vertical-align: top;\n",
       "    }\n",
       "</style>\n",
       "<table border=\"1\" class=\"dataframe\">\n",
       "  <thead>\n",
       "    <tr style=\"text-align: right;\">\n",
       "      <th></th>\n",
       "      <th>Conservatives</th>\n",
       "      <th>Labour</th>\n",
       "      <th>Other</th>\n",
       "    </tr>\n",
       "  </thead>\n",
       "  <tbody>\n",
       "    <tr>\n",
       "      <th>Men</th>\n",
       "      <td>183.3</td>\n",
       "      <td>202.1</td>\n",
       "      <td>84.6</td>\n",
       "    </tr>\n",
       "    <tr>\n",
       "      <th>Women</th>\n",
       "      <td>206.7</td>\n",
       "      <td>227.9</td>\n",
       "      <td>95.4</td>\n",
       "    </tr>\n",
       "  </tbody>\n",
       "</table>\n",
       "</div>"
      ],
      "text/plain": [
       "       Conservatives  Labour  Other\n",
       "Men            183.3   202.1   84.6\n",
       "Women          206.7   227.9   95.4"
      ]
     },
     "execution_count": 40,
     "metadata": {},
     "output_type": "execute_result"
    }
   ],
   "source": [
    "expected_survey_results_2 = expected_of_df(actual_survey_results_2)\n",
    "expected_survey_results_2"
   ]
  },
  {
   "cell_type": "code",
   "execution_count": 41,
   "metadata": {},
   "outputs": [
    {
     "data": {
      "text/plain": [
       "(5.2840593858024087, 0.071216574986591411)"
      ]
     },
     "execution_count": 41,
     "metadata": {},
     "output_type": "execute_result"
    }
   ],
   "source": [
    "chi2, p, _, _ = scipy.stats.chi2_contingency(actual_survey_results_2)\n",
    "chi2, p"
   ]
  },
  {
   "cell_type": "markdown",
   "metadata": {},
   "source": [
    "In this case the _p_ value of 0.07 means we __cannot__ reject the null hypothesis that voting intention is independent of gender: therfore for this modified example, we can't say that men and women vote differently"
   ]
  },
  {
   "cell_type": "markdown",
   "metadata": {},
   "source": [
    "## Chi Square example 2: accident frequency by day of week\n",
    "Let's look to see if more accidents occur on different days of the week."
   ]
  },
  {
   "cell_type": "code",
   "execution_count": 42,
   "metadata": {},
   "outputs": [
    {
     "data": {
      "text/plain": [
       "Sunday       15856\n",
       "Monday       20910\n",
       "Tuesday      21661\n",
       "Wednesday    21997\n",
       "Thursday     22334\n",
       "Friday       23511\n",
       "Saturday     19302\n",
       "Name: Day_of_Week, dtype: int64"
      ]
     },
     "execution_count": 42,
     "metadata": {},
     "output_type": "execute_result"
    }
   ],
   "source": [
    "# Build a DataFrame, one row for each accident\n",
    "count_by_day_unrolled_df = pd.DataFrame(list(accidents.find({}, ['Day_of_Week'])))\n",
    "\n",
    "# Find counts for each day\n",
    "count_by_day_ss = count_by_day_unrolled_df['Day_of_Week'].value_counts()\n",
    "\n",
    "# Reorder by day of week, add labels.\n",
    "count_by_day_ss.sort_index(inplace=True)\n",
    "count_by_day_ss.index = [label_of['Day_of_Week', r] for r in count_by_day_ss.index]\n",
    "\n",
    "count_by_day_ss"
   ]
  },
  {
   "cell_type": "code",
   "execution_count": 43,
   "metadata": {},
   "outputs": [
    {
     "data": {
      "text/plain": [
       "<matplotlib.axes._subplots.AxesSubplot at 0x7fe46192a908>"
      ]
     },
     "execution_count": 43,
     "metadata": {},
     "output_type": "execute_result"
    },
    {
     "data": {
      "image/png": "[encoded data removed]",
      "text/plain": [
       "<matplotlib.figure.Figure at 0x7fe462c33320>"
      ]
     },
     "metadata": {},
     "output_type": "display_data"
    }
   ],
   "source": [
    "count_by_day_ss.plot(kind='bar')"
   ]
  },
  {
   "cell_type": "markdown",
   "metadata": {},
   "source": [
    "Because the contingency chi2 function expects at least two rows and columns they don't work on series.  So we must use less convenient functions.\n",
    "\n",
    "Step 1 - find the expected values"
   ]
  },
  {
   "cell_type": "code",
   "execution_count": 44,
   "metadata": {},
   "outputs": [
    {
     "data": {
      "text/plain": [
       "Sunday       20795.857143\n",
       "Monday       20795.857143\n",
       "Tuesday      20795.857143\n",
       "Wednesday    20795.857143\n",
       "Thursday     20795.857143\n",
       "Friday       20795.857143\n",
       "Saturday     20795.857143\n",
       "dtype: float64"
      ]
     },
     "execution_count": 44,
     "metadata": {},
     "output_type": "execute_result"
    }
   ],
   "source": [
    "expected_count_by_day_ss = pd.Series(count_by_day_ss.sum() / len(count_by_day_ss),\n",
    "                                     index=count_by_day_ss.index)\n",
    "expected_count_by_day_ss"
   ]
  },
  {
   "cell_type": "markdown",
   "metadata": {},
   "source": [
    "Step 2 - use the scipy.stats.chisquare() function"
   ]
  },
  {
   "cell_type": "code",
   "execution_count": 45,
   "metadata": {},
   "outputs": [
    {
     "data": {
      "text/plain": [
       "Power_divergenceResult(statistic=1854.9813355682106, pvalue=0.0)"
      ]
     },
     "execution_count": 45,
     "metadata": {},
     "output_type": "execute_result"
    }
   ],
   "source": [
    "scipy.stats.chisquare(count_by_day_ss, expected_count_by_day_ss)"
   ]
  },
  {
   "cell_type": "markdown",
   "metadata": {},
   "source": [
    "a _p_ value of 0,0 is a significant result and shows that the varyiug number of accidents by day is significant."
   ]
  },
  {
   "cell_type": "markdown",
   "metadata": {
    "collapsed": true
   },
   "source": [
    "## P14.4 - Regression on subgroups\n",
    "Looking at some factors that affect the connection between the number of casualties and vehicles in an accident.  By splitting the accidents dataset into 2 groups and comparing them."
   ]
  },
  {
   "cell_type": "code",
   "execution_count": 89,
   "metadata": {},
   "outputs": [],
   "source": [
    "# Import the required libraries\n",
    "import pymongo\n",
    "import datetime\n",
    "import collections\n",
    "\n",
    "import pandas as pd\n",
    "import scipy.stats"
   ]
  },
  {
   "cell_type": "code",
   "execution_count": 90,
   "metadata": {
    "activity": false,
    "collapsed": true
   },
   "outputs": [],
   "source": [
    "# Open a connection to the Mongo server, open the accidents database and name the collections of accidents and labels\n",
    "client = pymongo.MongoClient('mongodb://localhost:27351/')\n",
    "\n",
    "db = client.accidents\n",
    "accidents = db.accidents\n",
    "labels = db.labels"
   ]
  },
  {
   "cell_type": "code",
   "execution_count": 91,
   "metadata": {
    "activity": false,
    "collapsed": true
   },
   "outputs": [],
   "source": [
    "# Load the expanded names of keys and human-readable codes into memory\n",
    "\n",
    "expanded_name = collections.defaultdict(str)\n",
    "for e in labels.find({'expanded': {\"$exists\": True}}):\n",
    "    expanded_name[e['label']] = e['expanded']\n",
    "    \n",
    "label_of = collections.defaultdict(str)\n",
    "for l in labels.find({'codes': {\"$exists\": True}}):\n",
    "    for c in l['codes']:\n",
    "        try:\n",
    "            label_of[l['label'], int(c)] = l['codes'][c]\n",
    "        except ValueError: \n",
    "            label_of[l['label'], c] = l['codes'][c]"
   ]
  },
  {
   "cell_type": "markdown",
   "metadata": {},
   "source": [
    "## Pearson's _R^2_\n",
    "Let's look at the whole set aqain"
   ]
  },
  {
   "cell_type": "code",
   "execution_count": 92,
   "metadata": {},
   "outputs": [
    {
     "data": {
      "text/html": [
       "<div>\n",
       "<style>\n",
       "    .dataframe thead tr:only-child th {\n",
       "        text-align: right;\n",
       "    }\n",
       "\n",
       "    .dataframe thead th {\n",
       "        text-align: left;\n",
       "    }\n",
       "\n",
       "    .dataframe tbody tr th {\n",
       "        vertical-align: top;\n",
       "    }\n",
       "</style>\n",
       "<table border=\"1\" class=\"dataframe\">\n",
       "  <thead>\n",
       "    <tr style=\"text-align: right;\">\n",
       "      <th></th>\n",
       "      <th>Number_of_Casualties</th>\n",
       "      <th>Number_of_Vehicles</th>\n",
       "      <th>0</th>\n",
       "    </tr>\n",
       "  </thead>\n",
       "  <tbody>\n",
       "    <tr>\n",
       "      <th>0</th>\n",
       "      <td>1</td>\n",
       "      <td>1</td>\n",
       "      <td>39217</td>\n",
       "    </tr>\n",
       "    <tr>\n",
       "      <th>1</th>\n",
       "      <td>1</td>\n",
       "      <td>2</td>\n",
       "      <td>65680</td>\n",
       "    </tr>\n",
       "    <tr>\n",
       "      <th>2</th>\n",
       "      <td>1</td>\n",
       "      <td>3</td>\n",
       "      <td>6168</td>\n",
       "    </tr>\n",
       "    <tr>\n",
       "      <th>3</th>\n",
       "      <td>1</td>\n",
       "      <td>4</td>\n",
       "      <td>1056</td>\n",
       "    </tr>\n",
       "    <tr>\n",
       "      <th>4</th>\n",
       "      <td>1</td>\n",
       "      <td>5</td>\n",
       "      <td>197</td>\n",
       "    </tr>\n",
       "    <tr>\n",
       "      <th>5</th>\n",
       "      <td>1</td>\n",
       "      <td>6</td>\n",
       "      <td>76</td>\n",
       "    </tr>\n",
       "    <tr>\n",
       "      <th>6</th>\n",
       "      <td>1</td>\n",
       "      <td>7</td>\n",
       "      <td>27</td>\n",
       "    </tr>\n",
       "    <tr>\n",
       "      <th>7</th>\n",
       "      <td>1</td>\n",
       "      <td>8</td>\n",
       "      <td>4</td>\n",
       "    </tr>\n",
       "    <tr>\n",
       "      <th>8</th>\n",
       "      <td>1</td>\n",
       "      <td>9</td>\n",
       "      <td>1</td>\n",
       "    </tr>\n",
       "    <tr>\n",
       "      <th>9</th>\n",
       "      <td>1</td>\n",
       "      <td>10</td>\n",
       "      <td>1</td>\n",
       "    </tr>\n",
       "    <tr>\n",
       "      <th>10</th>\n",
       "      <td>1</td>\n",
       "      <td>11</td>\n",
       "      <td>1</td>\n",
       "    </tr>\n",
       "    <tr>\n",
       "      <th>11</th>\n",
       "      <td>1</td>\n",
       "      <td>12</td>\n",
       "      <td>0</td>\n",
       "    </tr>\n",
       "    <tr>\n",
       "      <th>12</th>\n",
       "      <td>1</td>\n",
       "      <td>13</td>\n",
       "      <td>0</td>\n",
       "    </tr>\n",
       "    <tr>\n",
       "      <th>13</th>\n",
       "      <td>1</td>\n",
       "      <td>16</td>\n",
       "      <td>0</td>\n",
       "    </tr>\n",
       "    <tr>\n",
       "      <th>14</th>\n",
       "      <td>1</td>\n",
       "      <td>18</td>\n",
       "      <td>0</td>\n",
       "    </tr>\n",
       "    <tr>\n",
       "      <th>15</th>\n",
       "      <td>2</td>\n",
       "      <td>1</td>\n",
       "      <td>3781</td>\n",
       "    </tr>\n",
       "    <tr>\n",
       "      <th>16</th>\n",
       "      <td>2</td>\n",
       "      <td>2</td>\n",
       "      <td>15035</td>\n",
       "    </tr>\n",
       "    <tr>\n",
       "      <th>17</th>\n",
       "      <td>2</td>\n",
       "      <td>3</td>\n",
       "      <td>3002</td>\n",
       "    </tr>\n",
       "    <tr>\n",
       "      <th>18</th>\n",
       "      <td>2</td>\n",
       "      <td>4</td>\n",
       "      <td>716</td>\n",
       "    </tr>\n",
       "    <tr>\n",
       "      <th>19</th>\n",
       "      <td>2</td>\n",
       "      <td>5</td>\n",
       "      <td>128</td>\n",
       "    </tr>\n",
       "    <tr>\n",
       "      <th>20</th>\n",
       "      <td>2</td>\n",
       "      <td>6</td>\n",
       "      <td>41</td>\n",
       "    </tr>\n",
       "    <tr>\n",
       "      <th>21</th>\n",
       "      <td>2</td>\n",
       "      <td>7</td>\n",
       "      <td>14</td>\n",
       "    </tr>\n",
       "    <tr>\n",
       "      <th>22</th>\n",
       "      <td>2</td>\n",
       "      <td>8</td>\n",
       "      <td>4</td>\n",
       "    </tr>\n",
       "    <tr>\n",
       "      <th>23</th>\n",
       "      <td>2</td>\n",
       "      <td>9</td>\n",
       "      <td>6</td>\n",
       "    </tr>\n",
       "    <tr>\n",
       "      <th>24</th>\n",
       "      <td>2</td>\n",
       "      <td>10</td>\n",
       "      <td>3</td>\n",
       "    </tr>\n",
       "    <tr>\n",
       "      <th>25</th>\n",
       "      <td>2</td>\n",
       "      <td>11</td>\n",
       "      <td>0</td>\n",
       "    </tr>\n",
       "    <tr>\n",
       "      <th>26</th>\n",
       "      <td>2</td>\n",
       "      <td>12</td>\n",
       "      <td>1</td>\n",
       "    </tr>\n",
       "    <tr>\n",
       "      <th>27</th>\n",
       "      <td>2</td>\n",
       "      <td>13</td>\n",
       "      <td>0</td>\n",
       "    </tr>\n",
       "    <tr>\n",
       "      <th>28</th>\n",
       "      <td>2</td>\n",
       "      <td>16</td>\n",
       "      <td>1</td>\n",
       "    </tr>\n",
       "    <tr>\n",
       "      <th>29</th>\n",
       "      <td>2</td>\n",
       "      <td>18</td>\n",
       "      <td>0</td>\n",
       "    </tr>\n",
       "    <tr>\n",
       "      <th>...</th>\n",
       "      <td>...</td>\n",
       "      <td>...</td>\n",
       "      <td>...</td>\n",
       "    </tr>\n",
       "    <tr>\n",
       "      <th>300</th>\n",
       "      <td>38</td>\n",
       "      <td>1</td>\n",
       "      <td>0</td>\n",
       "    </tr>\n",
       "    <tr>\n",
       "      <th>301</th>\n",
       "      <td>38</td>\n",
       "      <td>2</td>\n",
       "      <td>0</td>\n",
       "    </tr>\n",
       "    <tr>\n",
       "      <th>302</th>\n",
       "      <td>38</td>\n",
       "      <td>3</td>\n",
       "      <td>0</td>\n",
       "    </tr>\n",
       "    <tr>\n",
       "      <th>303</th>\n",
       "      <td>38</td>\n",
       "      <td>4</td>\n",
       "      <td>1</td>\n",
       "    </tr>\n",
       "    <tr>\n",
       "      <th>304</th>\n",
       "      <td>38</td>\n",
       "      <td>5</td>\n",
       "      <td>0</td>\n",
       "    </tr>\n",
       "    <tr>\n",
       "      <th>305</th>\n",
       "      <td>38</td>\n",
       "      <td>6</td>\n",
       "      <td>0</td>\n",
       "    </tr>\n",
       "    <tr>\n",
       "      <th>306</th>\n",
       "      <td>38</td>\n",
       "      <td>7</td>\n",
       "      <td>0</td>\n",
       "    </tr>\n",
       "    <tr>\n",
       "      <th>307</th>\n",
       "      <td>38</td>\n",
       "      <td>8</td>\n",
       "      <td>0</td>\n",
       "    </tr>\n",
       "    <tr>\n",
       "      <th>308</th>\n",
       "      <td>38</td>\n",
       "      <td>9</td>\n",
       "      <td>0</td>\n",
       "    </tr>\n",
       "    <tr>\n",
       "      <th>309</th>\n",
       "      <td>38</td>\n",
       "      <td>10</td>\n",
       "      <td>0</td>\n",
       "    </tr>\n",
       "    <tr>\n",
       "      <th>310</th>\n",
       "      <td>38</td>\n",
       "      <td>11</td>\n",
       "      <td>0</td>\n",
       "    </tr>\n",
       "    <tr>\n",
       "      <th>311</th>\n",
       "      <td>38</td>\n",
       "      <td>12</td>\n",
       "      <td>0</td>\n",
       "    </tr>\n",
       "    <tr>\n",
       "      <th>312</th>\n",
       "      <td>38</td>\n",
       "      <td>13</td>\n",
       "      <td>0</td>\n",
       "    </tr>\n",
       "    <tr>\n",
       "      <th>313</th>\n",
       "      <td>38</td>\n",
       "      <td>16</td>\n",
       "      <td>0</td>\n",
       "    </tr>\n",
       "    <tr>\n",
       "      <th>314</th>\n",
       "      <td>38</td>\n",
       "      <td>18</td>\n",
       "      <td>0</td>\n",
       "    </tr>\n",
       "    <tr>\n",
       "      <th>315</th>\n",
       "      <td>42</td>\n",
       "      <td>1</td>\n",
       "      <td>0</td>\n",
       "    </tr>\n",
       "    <tr>\n",
       "      <th>316</th>\n",
       "      <td>42</td>\n",
       "      <td>2</td>\n",
       "      <td>1</td>\n",
       "    </tr>\n",
       "    <tr>\n",
       "      <th>317</th>\n",
       "      <td>42</td>\n",
       "      <td>3</td>\n",
       "      <td>0</td>\n",
       "    </tr>\n",
       "    <tr>\n",
       "      <th>318</th>\n",
       "      <td>42</td>\n",
       "      <td>4</td>\n",
       "      <td>0</td>\n",
       "    </tr>\n",
       "    <tr>\n",
       "      <th>319</th>\n",
       "      <td>42</td>\n",
       "      <td>5</td>\n",
       "      <td>0</td>\n",
       "    </tr>\n",
       "    <tr>\n",
       "      <th>320</th>\n",
       "      <td>42</td>\n",
       "      <td>6</td>\n",
       "      <td>0</td>\n",
       "    </tr>\n",
       "    <tr>\n",
       "      <th>321</th>\n",
       "      <td>42</td>\n",
       "      <td>7</td>\n",
       "      <td>0</td>\n",
       "    </tr>\n",
       "    <tr>\n",
       "      <th>322</th>\n",
       "      <td>42</td>\n",
       "      <td>8</td>\n",
       "      <td>0</td>\n",
       "    </tr>\n",
       "    <tr>\n",
       "      <th>323</th>\n",
       "      <td>42</td>\n",
       "      <td>9</td>\n",
       "      <td>0</td>\n",
       "    </tr>\n",
       "    <tr>\n",
       "      <th>324</th>\n",
       "      <td>42</td>\n",
       "      <td>10</td>\n",
       "      <td>0</td>\n",
       "    </tr>\n",
       "    <tr>\n",
       "      <th>325</th>\n",
       "      <td>42</td>\n",
       "      <td>11</td>\n",
       "      <td>0</td>\n",
       "    </tr>\n",
       "    <tr>\n",
       "      <th>326</th>\n",
       "      <td>42</td>\n",
       "      <td>12</td>\n",
       "      <td>0</td>\n",
       "    </tr>\n",
       "    <tr>\n",
       "      <th>327</th>\n",
       "      <td>42</td>\n",
       "      <td>13</td>\n",
       "      <td>0</td>\n",
       "    </tr>\n",
       "    <tr>\n",
       "      <th>328</th>\n",
       "      <td>42</td>\n",
       "      <td>16</td>\n",
       "      <td>0</td>\n",
       "    </tr>\n",
       "    <tr>\n",
       "      <th>329</th>\n",
       "      <td>42</td>\n",
       "      <td>18</td>\n",
       "      <td>0</td>\n",
       "    </tr>\n",
       "  </tbody>\n",
       "</table>\n",
       "<p>330 rows × 3 columns</p>\n",
       "</div>"
      ],
      "text/plain": [
       "     Number_of_Casualties  Number_of_Vehicles      0\n",
       "0                       1                   1  39217\n",
       "1                       1                   2  65680\n",
       "2                       1                   3   6168\n",
       "3                       1                   4   1056\n",
       "4                       1                   5    197\n",
       "5                       1                   6     76\n",
       "6                       1                   7     27\n",
       "7                       1                   8      4\n",
       "8                       1                   9      1\n",
       "9                       1                  10      1\n",
       "10                      1                  11      1\n",
       "11                      1                  12      0\n",
       "12                      1                  13      0\n",
       "13                      1                  16      0\n",
       "14                      1                  18      0\n",
       "15                      2                   1   3781\n",
       "16                      2                   2  15035\n",
       "17                      2                   3   3002\n",
       "18                      2                   4    716\n",
       "19                      2                   5    128\n",
       "20                      2                   6     41\n",
       "21                      2                   7     14\n",
       "22                      2                   8      4\n",
       "23                      2                   9      6\n",
       "24                      2                  10      3\n",
       "25                      2                  11      0\n",
       "26                      2                  12      1\n",
       "27                      2                  13      0\n",
       "28                      2                  16      1\n",
       "29                      2                  18      0\n",
       "..                    ...                 ...    ...\n",
       "300                    38                   1      0\n",
       "301                    38                   2      0\n",
       "302                    38                   3      0\n",
       "303                    38                   4      1\n",
       "304                    38                   5      0\n",
       "305                    38                   6      0\n",
       "306                    38                   7      0\n",
       "307                    38                   8      0\n",
       "308                    38                   9      0\n",
       "309                    38                  10      0\n",
       "310                    38                  11      0\n",
       "311                    38                  12      0\n",
       "312                    38                  13      0\n",
       "313                    38                  16      0\n",
       "314                    38                  18      0\n",
       "315                    42                   1      0\n",
       "316                    42                   2      1\n",
       "317                    42                   3      0\n",
       "318                    42                   4      0\n",
       "319                    42                   5      0\n",
       "320                    42                   6      0\n",
       "321                    42                   7      0\n",
       "322                    42                   8      0\n",
       "323                    42                   9      0\n",
       "324                    42                  10      0\n",
       "325                    42                  11      0\n",
       "326                    42                  12      0\n",
       "327                    42                  13      0\n",
       "328                    42                  16      0\n",
       "329                    42                  18      0\n",
       "\n",
       "[330 rows x 3 columns]"
      ]
     },
     "execution_count": 92,
     "metadata": {},
     "output_type": "execute_result"
    }
   ],
   "source": [
    "# Build a dataframe, one row for each accident\n",
    "cas_veh_unrolled_df = pd.DataFrame(list(accidents.find({}, ['Number_of_Casualties', 'Number_of_Vehicles'])))\n",
    "\n",
    "# count the number of each\n",
    "cas_veh_df = pd.crosstab(cas_veh_unrolled_df['Number_of_Casualties'], \n",
    "                         cas_veh_unrolled_df['Number_of_Vehicles'])\n",
    "\n",
    "# reshape\n",
    "cas_veh_long_df = cas_veh_df.stack().reset_index()\n",
    "cas_veh_long_df"
   ]
  },
  {
   "cell_type": "code",
   "execution_count": 94,
   "metadata": {},
   "outputs": [
    {
     "data": {
      "text/plain": [
       "(0.21101011188488833, 1.5427349394560317)"
      ]
     },
     "execution_count": 94,
     "metadata": {},
     "output_type": "execute_result"
    }
   ],
   "source": [
    "regressionline = scipy.stats.linregress(cas_veh_unrolled_df['Number_of_Casualties'], \n",
    "                                        cas_veh_unrolled_df['Number_of_Vehicles'])\n",
    "\n",
    "# the regression line is of the form y=m x + b\n",
    "m, b = regressionline[0], regressionline[1]\n",
    "m, b\n"
   ]
  },
  {
   "cell_type": "code",
   "execution_count": 95,
   "metadata": {},
   "outputs": [
    {
     "data": {
      "image/png": "[encoded data removed]",
      "text/plain": [
       "<matplotlib.figure.Figure at 0x7fe461155c50>"
      ]
     },
     "metadata": {},
     "output_type": "display_data"
    }
   ],
   "source": [
    "# plot\n",
    "plt.scatter(cas_veh_long_df['Number_of_Casualties'],\n",
    "            cas_veh_long_df['Number_of_Vehicles'], \n",
    "            s=np.sqrt(cas_veh_long_df[0])*1.5, \n",
    "            alpha=0.8\n",
    "           )\n",
    "\n",
    "x = np.linspace(0,30, 20)\n",
    "plt.plot(x*m+b)\n",
    "\n",
    "plt.xlabel('Number of casualties')\n",
    "plt.ylabel('Number of Vehicles')\n",
    "plt.show()\n"
   ]
  },
  {
   "cell_type": "markdown",
   "metadata": {},
   "source": [
    "The `pearsonr` function calculates Pearson's *R*² value of correlation. Recall that values near +1 show good positive correlation, values near -1 show good negative correlation, and values near 0 show no particular correlation. The `scipy` function returns a second value, the *p* value of the result. "
   ]
  },
  {
   "cell_type": "code",
   "execution_count": 97,
   "metadata": {},
   "outputs": [
    {
     "data": {
      "text/plain": [
       "(0.2415849093923253, 0.0)"
      ]
     },
     "execution_count": 97,
     "metadata": {},
     "output_type": "execute_result"
    }
   ],
   "source": [
    "scipy.stats.pearsonr(cas_veh_unrolled_df['Number_of_Casualties'], \n",
    "                     cas_veh_unrolled_df['Number_of_Vehicles'])"
   ]
  },
  {
   "cell_type": "markdown",
   "metadata": {},
   "source": [
    "This result shows a small, positive correlation with a very small _p_ value.  In other words there is not much correlation and the result is statistically significant.  This means we can reject the null hypothesis that the number of casualties in an accident is unrelated ti the number of vehicles. \n",
    "\n",
    "Looking at the data, it seems to be a result that most accidents result in very few casualties and the accidents with the most casualties have few vehicles."
   ]
  },
  {
   "cell_type": "markdown",
   "metadata": {},
   "source": [
    "### Activity 1\n",
    "Investigate the types of vehicles that are involved in the largest accidents (i.e. those accidents with more than 8 casualties). What types of vehicles appear in the multiple-casualty accidents?\n",
    "\n",
    "For each accident with more than 8 casualties, list the vehicles involved. For each vehicle, print the type of vehicle and the number of casualties in it, in a format similar to this:\n",
    "\n",
    "```\n",
    "Acc index 201201GD10531; 9 casualties, 3 vehicles\n",
    "\tCar: 1 casualties\n",
    "\tCar: 5 casualties\n",
    "\tBus: 3 casualties\n",
    "Acc index 201201KF60687; 11 casualties, 3 vehicles\n",
    "\tTaxi/Private: 2 casualties\n",
    "\tTaxi/Private: 4 casualties\n",
    "\tTaxi/Private: 5 casualties\n",
    "```\n",
    "\n",
    "**Hint**\n",
    "\n",
    "Because you'll want to look at the vehicles involved in each accident, it's easier to keep the data in standard Python data structures, unchanged from the result of a pymongo `find()`.\n",
    "\n",
    "The solution is in the [`14.4solutions`](14.4solutions.ipynb) Notebook."
   ]
  },
  {
   "cell_type": "code",
   "execution_count": 105,
   "metadata": {},
   "outputs": [
    {
     "data": {
      "text/plain": [
       "{'1st_Road_Class': 3,\n",
       " '1st_Road_Number': 105,\n",
       " '2nd_Road_Class': 6,\n",
       " '2nd_Road_Number': 0,\n",
       " 'Accident_Index': '201201GD10531',\n",
       " 'Accident_Severity': 3,\n",
       " 'Carriageway_Hazards': 0,\n",
       " 'Casualties': [{'Age_Band_of_Casualty': 6,\n",
       "   'Bus_or_Coach_Passenger': 0,\n",
       "   'Car_Passenger': 1,\n",
       "   'Casualty_Class': 2,\n",
       "   'Casualty_Home_Area_Type': -1,\n",
       "   'Casualty_Reference': 3,\n",
       "   'Casualty_Severity': 3,\n",
       "   'Casualty_Type': 9,\n",
       "   'Pedestrian_Location': 0,\n",
       "   'Pedestrian_Movement': 0,\n",
       "   'Pedestrian_Road_Maintenance_Worker': 0,\n",
       "   'Sex_of_Casualty': 1,\n",
       "   'Vehicle_Reference': 1},\n",
       "  {'Age_Band_of_Casualty': 7,\n",
       "   'Bus_or_Coach_Passenger': 0,\n",
       "   'Car_Passenger': 0,\n",
       "   'Casualty_Class': 1,\n",
       "   'Casualty_Home_Area_Type': 1,\n",
       "   'Casualty_Reference': 1,\n",
       "   'Casualty_Severity': 3,\n",
       "   'Casualty_Type': 9,\n",
       "   'Pedestrian_Location': 0,\n",
       "   'Pedestrian_Movement': 0,\n",
       "   'Pedestrian_Road_Maintenance_Worker': 0,\n",
       "   'Sex_of_Casualty': 1,\n",
       "   'Vehicle_Reference': 2},\n",
       "  {'Age_Band_of_Casualty': 5,\n",
       "   'Bus_or_Coach_Passenger': 0,\n",
       "   'Car_Passenger': 1,\n",
       "   'Casualty_Class': 2,\n",
       "   'Casualty_Home_Area_Type': -1,\n",
       "   'Casualty_Reference': 2,\n",
       "   'Casualty_Severity': 3,\n",
       "   'Casualty_Type': 9,\n",
       "   'Pedestrian_Location': 0,\n",
       "   'Pedestrian_Movement': 0,\n",
       "   'Pedestrian_Road_Maintenance_Worker': 0,\n",
       "   'Sex_of_Casualty': 2,\n",
       "   'Vehicle_Reference': 2},\n",
       "  {'Age_Band_of_Casualty': -1,\n",
       "   'Bus_or_Coach_Passenger': 0,\n",
       "   'Car_Passenger': 2,\n",
       "   'Casualty_Class': 2,\n",
       "   'Casualty_Home_Area_Type': 1,\n",
       "   'Casualty_Reference': 4,\n",
       "   'Casualty_Severity': 3,\n",
       "   'Casualty_Type': 9,\n",
       "   'Pedestrian_Location': 0,\n",
       "   'Pedestrian_Movement': 0,\n",
       "   'Pedestrian_Road_Maintenance_Worker': 0,\n",
       "   'Sex_of_Casualty': 2,\n",
       "   'Vehicle_Reference': 2},\n",
       "  {'Age_Band_of_Casualty': 2,\n",
       "   'Bus_or_Coach_Passenger': 0,\n",
       "   'Car_Passenger': 2,\n",
       "   'Casualty_Class': 2,\n",
       "   'Casualty_Home_Area_Type': 1,\n",
       "   'Casualty_Reference': 5,\n",
       "   'Casualty_Severity': 3,\n",
       "   'Casualty_Type': 9,\n",
       "   'Pedestrian_Location': 0,\n",
       "   'Pedestrian_Movement': 0,\n",
       "   'Pedestrian_Road_Maintenance_Worker': 0,\n",
       "   'Sex_of_Casualty': 2,\n",
       "   'Vehicle_Reference': 2},\n",
       "  {'Age_Band_of_Casualty': 1,\n",
       "   'Bus_or_Coach_Passenger': 0,\n",
       "   'Car_Passenger': 2,\n",
       "   'Casualty_Class': 2,\n",
       "   'Casualty_Home_Area_Type': 1,\n",
       "   'Casualty_Reference': 6,\n",
       "   'Casualty_Severity': 3,\n",
       "   'Casualty_Type': 9,\n",
       "   'Pedestrian_Location': 0,\n",
       "   'Pedestrian_Movement': 0,\n",
       "   'Pedestrian_Road_Maintenance_Worker': 0,\n",
       "   'Sex_of_Casualty': 2,\n",
       "   'Vehicle_Reference': 2},\n",
       "  {'Age_Band_of_Casualty': 11,\n",
       "   'Bus_or_Coach_Passenger': 4,\n",
       "   'Car_Passenger': 0,\n",
       "   'Casualty_Class': 2,\n",
       "   'Casualty_Home_Area_Type': -1,\n",
       "   'Casualty_Reference': 7,\n",
       "   'Casualty_Severity': 3,\n",
       "   'Casualty_Type': 11,\n",
       "   'Pedestrian_Location': 0,\n",
       "   'Pedestrian_Movement': 0,\n",
       "   'Pedestrian_Road_Maintenance_Worker': 0,\n",
       "   'Sex_of_Casualty': 1,\n",
       "   'Vehicle_Reference': 3},\n",
       "  {'Age_Band_of_Casualty': 9,\n",
       "   'Bus_or_Coach_Passenger': 4,\n",
       "   'Car_Passenger': 0,\n",
       "   'Casualty_Class': 2,\n",
       "   'Casualty_Home_Area_Type': -1,\n",
       "   'Casualty_Reference': 8,\n",
       "   'Casualty_Severity': 3,\n",
       "   'Casualty_Type': 11,\n",
       "   'Pedestrian_Location': 0,\n",
       "   'Pedestrian_Movement': 0,\n",
       "   'Pedestrian_Road_Maintenance_Worker': 0,\n",
       "   'Sex_of_Casualty': 2,\n",
       "   'Vehicle_Reference': 3},\n",
       "  {'Age_Band_of_Casualty': -1,\n",
       "   'Bus_or_Coach_Passenger': 4,\n",
       "   'Car_Passenger': 0,\n",
       "   'Casualty_Class': 2,\n",
       "   'Casualty_Home_Area_Type': -1,\n",
       "   'Casualty_Reference': 9,\n",
       "   'Casualty_Severity': 3,\n",
       "   'Casualty_Type': 11,\n",
       "   'Pedestrian_Location': 0,\n",
       "   'Pedestrian_Movement': 0,\n",
       "   'Pedestrian_Road_Maintenance_Worker': 0,\n",
       "   'Sex_of_Casualty': 2,\n",
       "   'Vehicle_Reference': 3}],\n",
       " 'Date': '19/09/2012',\n",
       " 'Datetime': datetime.datetime(2012, 9, 19, 21, 20),\n",
       " 'Day_of_Week': 4,\n",
       " 'Did_Police_Officer_Attend_Scene_of_Accident': 1,\n",
       " 'Junction_Control': 4,\n",
       " 'Junction_Detail': 3,\n",
       " 'LSOA_of_Accident_Location': 'E01001813',\n",
       " 'Latitude': 51.571682,\n",
       " 'Light_Conditions': 4,\n",
       " 'Local_Authority_(District)': 4,\n",
       " 'Local_Authority_(Highway)': 'E09000012',\n",
       " 'Location_Easting_OSGR': 532000,\n",
       " 'Location_Northing_OSGR': 187590,\n",
       " 'Longitude': -0.09669,\n",
       " 'Number_of_Casualties': 9,\n",
       " 'Number_of_Vehicles': 3,\n",
       " 'Pedestrian_Crossing-Human_Control': 0,\n",
       " 'Pedestrian_Crossing-Physical_Facilities': 0,\n",
       " 'Police_Force': 1,\n",
       " 'Road_Surface_Conditions': 1,\n",
       " 'Road_Type': 6,\n",
       " 'Special_Conditions_at_Site': 0,\n",
       " 'Speed_limit': 30,\n",
       " 'Time': '21:20',\n",
       " 'Urban_or_Rural_Area': 1,\n",
       " 'Vehicles': [{'1st_Point_of_Impact': 1,\n",
       "   'Age_Band_of_Driver': -1,\n",
       "   'Age_of_Vehicle': 2,\n",
       "   'Driver_Home_Area_Type': 1,\n",
       "   'Driver_IMD_Decile': 1,\n",
       "   'Engine_Capacity_(CC)': 1242,\n",
       "   'Hit_Object_in_Carriageway': 7,\n",
       "   'Hit_Object_off_Carriageway': 0,\n",
       "   'Journey_Purpose_of_Driver': 6,\n",
       "   'Junction_Location': 8,\n",
       "   'Propulsion_Code': 1,\n",
       "   'Sex_of_Driver': 2,\n",
       "   'Skidding_and_Overturning': 0,\n",
       "   'Towing_and_Articulation': 0,\n",
       "   'Vehicle_Leaving_Carriageway': 0,\n",
       "   'Vehicle_Location-Restricted_Lane': 0,\n",
       "   'Vehicle_Manoeuvre': 9,\n",
       "   'Vehicle_Reference': 1,\n",
       "   'Vehicle_Type': 9,\n",
       "   'Was_Vehicle_Left_Hand_Drive?': 1},\n",
       "  {'1st_Point_of_Impact': 3,\n",
       "   'Age_Band_of_Driver': 7,\n",
       "   'Age_of_Vehicle': 5,\n",
       "   'Driver_Home_Area_Type': 1,\n",
       "   'Driver_IMD_Decile': 1,\n",
       "   'Engine_Capacity_(CC)': 1968,\n",
       "   'Hit_Object_in_Carriageway': 0,\n",
       "   'Hit_Object_off_Carriageway': 0,\n",
       "   'Journey_Purpose_of_Driver': 6,\n",
       "   'Junction_Location': 8,\n",
       "   'Propulsion_Code': 2,\n",
       "   'Sex_of_Driver': 1,\n",
       "   'Skidding_and_Overturning': 0,\n",
       "   'Towing_and_Articulation': 0,\n",
       "   'Vehicle_Leaving_Carriageway': 1,\n",
       "   'Vehicle_Location-Restricted_Lane': 0,\n",
       "   'Vehicle_Manoeuvre': 18,\n",
       "   'Vehicle_Reference': 2,\n",
       "   'Vehicle_Type': 9,\n",
       "   'Was_Vehicle_Left_Hand_Drive?': 1},\n",
       "  {'1st_Point_of_Impact': 3,\n",
       "   'Age_Band_of_Driver': 7,\n",
       "   'Age_of_Vehicle': 10,\n",
       "   'Driver_Home_Area_Type': 1,\n",
       "   'Driver_IMD_Decile': 3,\n",
       "   'Engine_Capacity_(CC)': 7300,\n",
       "   'Hit_Object_in_Carriageway': 0,\n",
       "   'Hit_Object_off_Carriageway': 0,\n",
       "   'Journey_Purpose_of_Driver': 1,\n",
       "   'Junction_Location': 8,\n",
       "   'Propulsion_Code': 2,\n",
       "   'Sex_of_Driver': 1,\n",
       "   'Skidding_and_Overturning': 0,\n",
       "   'Towing_and_Articulation': 0,\n",
       "   'Vehicle_Leaving_Carriageway': 0,\n",
       "   'Vehicle_Location-Restricted_Lane': 0,\n",
       "   'Vehicle_Manoeuvre': 18,\n",
       "   'Vehicle_Reference': 3,\n",
       "   'Vehicle_Type': 11,\n",
       "   'Was_Vehicle_Left_Hand_Drive?': 1}],\n",
       " 'Weather_Conditions': 1,\n",
       " '_id': ObjectId('52a9c97c92c4e16686d14566'),\n",
       " 'loc': {'coordinates': [-0.09669, 51.571682], 'type': 'Point'}}"
      ]
     },
     "execution_count": 105,
     "metadata": {},
     "output_type": "execute_result"
    }
   ],
   "source": [
    "accidents.find_one({'Number_of_Casualties':{'$gt': 8}})"
   ]
  },
  {
   "cell_type": "code",
   "execution_count": 106,
   "metadata": {},
   "outputs": [
    {
     "data": {
      "text/plain": [
       "66"
      ]
     },
     "execution_count": 106,
     "metadata": {},
     "output_type": "execute_result"
    }
   ],
   "source": [
    "big_accidents = [a for a in accidents.find({'Number_of_Casualties': {'$gt': 8}},\n",
    "                                           ['Accident_Index', 'Number_of_Casualties', \n",
    "                                            'Number_of_Vehicles', 'Casualties.Vehicle_Reference',\n",
    "                                            'Vehicles.Vehicle_Reference', 'Vehicles.Vehicle_Type'])]\n",
    "len(big_accidents)"
   ]
  },
  {
   "cell_type": "code",
   "execution_count": 103,
   "metadata": {},
   "outputs": [],
   "source": [
    "# big_accidents[0]"
   ]
  },
  {
   "cell_type": "code",
   "execution_count": 113,
   "metadata": {},
   "outputs": [
    {
     "name": "stdout",
     "output_type": "stream",
     "text": [
      "Acc index 201201GD10531; 9 casualties, 3 vehicles\n",
      "\tCar: 1 casualties\n",
      "\tCar: 5 casualties\n",
      "\tBus: 3 casualties\n",
      "Acc index 201201KF60687; 11 casualties, 3 vehicles\n",
      "\tTaxi/Private: 2 casualties\n",
      "\tTaxi/Private: 4 casualties\n",
      "\tTaxi/Private: 5 casualties\n",
      "Acc index 201201WW50958; 10 casualties, 3 vehicles\n",
      "\tCar: 4 casualties\n",
      "\tTaxi/Private: 3 casualties\n",
      "\tCar: 3 casualties\n",
      "Acc index 201204EA12275; 9 casualties, 2 vehicles\n",
      "\tCar: 0 casualties\n",
      "\tMinibus: 9 casualties\n",
      "Acc index 201205EE01017; 9 casualties, 2 vehicles\n",
      "\tCar: 4 casualties\n",
      "\tBus: 5 casualties\n",
      "Acc index 201205EE03703; 12 casualties, 1 vehicles\n",
      "\tBus: 12 casualties\n",
      "Acc index 201205EE06006; 9 casualties, 3 vehicles\n",
      "\tCar: 3 casualties\n",
      "\tCar: 4 casualties\n",
      "\tCar: 2 casualties\n",
      "Acc index 201205FF02477; 9 casualties, 2 vehicles\n",
      "\tCar: 0 casualties\n",
      "\tCar: 9 casualties\n",
      "Acc index 201205FF05784; 9 casualties, 2 vehicles\n",
      "\tMinibus: 7 casualties\n",
      "\tCar: 2 casualties\n",
      "Acc index 201205FF06439; 9 casualties, 2 vehicles\n",
      "\tMotorcycle: 1 casualties\n",
      "\tOther: 8 casualties\n",
      "Acc index 201206K056158; 9 casualties, 2 vehicles\n",
      "\tVan: 1 casualties\n",
      "\tBus: 8 casualties\n",
      "Acc index 201206N061448; 9 casualties, 3 vehicles\n",
      "\tCar: 0 casualties\n",
      "\tCar: 4 casualties\n",
      "\tMinibus: 5 casualties\n",
      "Acc index 2012070353306; 11 casualties, 9 vehicles\n",
      "\tVan: 2 casualties\n",
      "\tCar: 1 casualties\n",
      "\tGoods: 1 casualties\n",
      "\tGoods: 1 casualties\n",
      "\tCar: 3 casualties\n",
      "\tCar: 0 casualties\n",
      "\tCar: 3 casualties\n",
      "\tGoods: 0 casualties\n",
      "\tCar: 0 casualties\n",
      "Acc index 2012100165012; 10 casualties, 3 vehicles\n",
      "\tCar: 3 casualties\n",
      "\tCar: 3 casualties\n",
      "\tCar: 4 casualties\n",
      "Acc index 2012100584112; 11 casualties, 4 vehicles\n",
      "\tCar: 2 casualties\n",
      "\tVan: 2 casualties\n",
      "\tCar: 5 casualties\n",
      "\tGoods: 2 casualties\n",
      "Acc index 2012100745412; 13 casualties, 2 vehicles\n",
      "\tCar: 1 casualties\n",
      "\tBus: 12 casualties\n",
      "Acc index 201211ND13382; 10 casualties, 2 vehicles\n",
      "\tBus: 10 casualties\n",
      "\tGoods: 0 casualties\n",
      "Acc index 201211SJ00052; 9 casualties, 1 vehicles\n",
      "\tMinibus: 9 casualties\n",
      "Acc index 201211SL13302; 11 casualties, 8 vehicles\n",
      "\tVan: 2 casualties\n",
      "\tVan: 0 casualties\n",
      "\tVan: 2 casualties\n",
      "\tCar: 2 casualties\n",
      "\tCar: 3 casualties\n",
      "\tCar: 0 casualties\n",
      "\tCar: 0 casualties\n",
      "\tCar: 2 casualties\n",
      "Acc index 2012130193028; 10 casualties, 3 vehicles\n",
      "\tCar: 3 casualties\n",
      "\tBus: 7 casualties\n",
      "\tCar: 0 casualties\n",
      "Acc index 2012130272986; 9 casualties, 5 vehicles\n",
      "\tCar: 3 casualties\n",
      "\tCar: 5 casualties\n",
      "\tCar: 1 casualties\n",
      "\tCar: 0 casualties\n",
      "\tCar: 0 casualties\n",
      "Acc index 2012130411236; 10 casualties, 2 vehicles\n",
      "\tCar: 5 casualties\n",
      "\tCar: 5 casualties\n",
      "Acc index 2012130488633; 15 casualties, 2 vehicles\n",
      "\tCar: 3 casualties\n",
      "\tBus: 12 casualties\n",
      "Acc index 201214K321312; 9 casualties, 2 vehicles\n",
      "\tCar: 5 casualties\n",
      "\tCar: 4 casualties\n",
      "Acc index 2012160B04151; 13 casualties, 6 vehicles\n",
      "\tCar: 4 casualties\n",
      "\tCar: 3 casualties\n",
      "\tVan: 3 casualties\n",
      "\tCar: 1 casualties\n",
      "\tCar: 1 casualties\n",
      "\tCar: 1 casualties\n",
      "Acc index 201220L005902; 10 casualties, 2 vehicles\n",
      "\tMinibus: 8 casualties\n",
      "\tCar: 2 casualties\n",
      "Acc index 201220Z000792; 42 casualties, 2 vehicles\n",
      "\tBus: 41 casualties\n",
      "\tGoods: 1 casualties\n",
      "Acc index 2012212003335; 16 casualties, 3 vehicles\n",
      "\tBus: 15 casualties\n",
      "\tCar: 1 casualties\n",
      "\tCar: 0 casualties\n",
      "Acc index 20122120X0112; 9 casualties, 1 vehicles\n",
      "\tCar: 9 casualties\n",
      "Acc index 2012233012612; 11 casualties, 2 vehicles\n",
      "\tBus: 11 casualties\n",
      "\tGoods: 0 casualties\n",
      "Acc index 201234NK13832; 9 casualties, 2 vehicles\n",
      "\tCar: 3 casualties\n",
      "\tCar: 6 casualties\n",
      "Acc index 2012350199812; 13 casualties, 2 vehicles\n",
      "\tCar: 0 casualties\n",
      "\tMinibus: 13 casualties\n",
      "Acc index 2012350341012; 11 casualties, 4 vehicles\n",
      "\tCar: 3 casualties\n",
      "\tCar: 3 casualties\n",
      "\tCar: 3 casualties\n",
      "\tCar: 2 casualties\n",
      "Acc index 2012350486612; 12 casualties, 7 vehicles\n",
      "\tCar: 0 casualties\n",
      "\tCar: 2 casualties\n",
      "\tCar: 5 casualties\n",
      "\tCar: 4 casualties\n",
      "\tCar: 0 casualties\n",
      "\tCar: 1 casualties\n",
      "\tCar: 0 casualties\n",
      "Acc index 2012370278312; 17 casualties, 2 vehicles\n",
      "\tCar: 4 casualties\n",
      "\tBus: 13 casualties\n",
      "Acc index 20124100A0194; 11 casualties, 4 vehicles\n",
      "\tCar: 3 casualties\n",
      "\tCar: 1 casualties\n",
      "\tCar: 5 casualties\n",
      "\tCar: 2 casualties\n",
      "Acc index 201242I255508; 9 casualties, 3 vehicles\n",
      "\tCar: 5 casualties\n",
      "\tCar: 3 casualties\n",
      "\tCar: 1 casualties\n",
      "Acc index 201243P048062; 16 casualties, 1 vehicles\n",
      "\tMinibus: 16 casualties\n",
      "Acc index 201243P281112; 14 casualties, 1 vehicles\n",
      "\tMinibus: 14 casualties\n",
      "Acc index 201243R197042; 9 casualties, 2 vehicles\n",
      "\tMinibus: 8 casualties\n",
      "\tCar: 1 casualties\n",
      "Acc index 2012440130142; 11 casualties, 2 vehicles\n",
      "\tBus: 6 casualties\n",
      "\tBus: 5 casualties\n",
      "Acc index 2012440139926; 11 casualties, 9 vehicles\n",
      "\tGoods: 1 casualties\n",
      "\tCar: 1 casualties\n",
      "\tVan: 0 casualties\n",
      "\tCar: 2 casualties\n",
      "\tCar: 1 casualties\n",
      "\tVan: 0 casualties\n",
      "\tCar: 2 casualties\n",
      "\tCar: 1 casualties\n",
      "\tCar: 3 casualties\n",
      "Acc index 2012440211565; 10 casualties, 2 vehicles\n",
      "\tCar: 1 casualties\n",
      "\tBus: 9 casualties\n",
      "Acc index 2012440220852; 11 casualties, 4 vehicles\n",
      "\tCar: 3 casualties\n",
      "\tCar: 2 casualties\n",
      "\tCar: 4 casualties\n",
      "\tCar: 2 casualties\n",
      "Acc index 2012440290719; 10 casualties, 2 vehicles\n",
      "\tCar: 1 casualties\n",
      "\tBus: 9 casualties\n",
      "Acc index 201245RU70950; 10 casualties, 5 vehicles\n",
      "\tGoods: 0 casualties\n",
      "\tCar: 2 casualties\n",
      "\tCar: 4 casualties\n",
      "\tCar: 2 casualties\n",
      "\tCar: 2 casualties\n",
      "Acc index 201245RU73061; 10 casualties, 2 vehicles\n",
      "\tCar: 5 casualties\n",
      "\tCar: 5 casualties\n",
      "Acc index 201245SP67820; 10 casualties, 5 vehicles\n",
      "\tCar: 0 casualties\n",
      "\tCar: 3 casualties\n",
      "\tCar: 4 casualties\n",
      "\tCar: 3 casualties\n",
      "\tCar: 0 casualties\n",
      "Acc index 2012460214225; 15 casualties, 3 vehicles\n",
      "\tMinibus: 11 casualties\n",
      "\tCar: 4 casualties\n",
      "\tMinibus: 0 casualties\n",
      "Acc index 2012460214512; 19 casualties, 2 vehicles\n",
      "\tCar: 18 casualties\n",
      "\tMinibus: 1 casualties\n",
      "Acc index 2012460222276; 9 casualties, 3 vehicles\n",
      "\tGoods: 0 casualties\n",
      "\tCar: 5 casualties\n",
      "\tCar: 4 casualties\n",
      "Acc index 2012471203224; 13 casualties, 4 vehicles\n",
      "\tBus: 4 casualties\n",
      "\tCar: 7 casualties\n",
      "\tCar: 1 casualties\n",
      "\tTaxi/Private: 1 casualties\n",
      "Acc index 201250CS2E001; 25 casualties, 2 vehicles\n",
      "\tCar: 0 casualties\n",
      "\tBus: 25 casualties\n",
      "Acc index 2012547808512; 9 casualties, 5 vehicles\n",
      "\tCar: 2 casualties\n",
      "\tCar: 3 casualties\n",
      "\tCar: 2 casualties\n",
      "\tCar: 2 casualties\n",
      "\tVan: 0 casualties\n",
      "Acc index 2012549559312; 12 casualties, 3 vehicles\n",
      "\tBus: 12 casualties\n",
      "\tCar: 0 casualties\n",
      "\tAgricultural: 0 casualties\n",
      "Acc index 2012552D43300; 33 casualties, 2 vehicles\n",
      "\tBus: 33 casualties\n",
      "\tGoods: 0 casualties\n",
      "Acc index 2012610053912; 9 casualties, 2 vehicles\n",
      "\tCar: 2 casualties\n",
      "\tBus: 7 casualties\n",
      "Acc index 2012620215176; 9 casualties, 2 vehicles\n",
      "\tCar: 0 casualties\n",
      "\tBus: 9 casualties\n",
      "Acc index 2012621200599; 9 casualties, 4 vehicles\n",
      "\tCar: 1 casualties\n",
      "\tTaxi/Private: 5 casualties\n",
      "\tCar: 2 casualties\n",
      "\tCar: 1 casualties\n",
      "Acc index 201291NM05840; 38 casualties, 4 vehicles\n",
      "\tVan: 2 casualties\n",
      "\tBus: 36 casualties\n",
      "\tCar: 0 casualties\n",
      "\tCar: 0 casualties\n",
      "Acc index 201291NM07565; 10 casualties, 5 vehicles\n",
      "\tCar: 1 casualties\n",
      "\tCar: 2 casualties\n",
      "\tCar: 1 casualties\n",
      "\tCar: 5 casualties\n",
      "\tCar: 1 casualties\n",
      "Acc index 2012930000102; 12 casualties, 2 vehicles\n",
      "\tBus: 11 casualties\n",
      "\tAgricultural: 1 casualties\n",
      "Acc index 2012961201653; 10 casualties, 2 vehicles\n",
      "\tMinibus: 7 casualties\n",
      "\tGoods: 3 casualties\n",
      "Acc index 201297NA70108; 11 casualties, 2 vehicles\n",
      "\tGoods: 0 casualties\n",
      "\tBus: 11 casualties\n",
      "Acc index 201297QC70311; 13 casualties, 1 vehicles\n",
      "\tBus: 13 casualties\n",
      "Acc index 201297QD00305; 25 casualties, 2 vehicles\n",
      "\tOther: 1 casualties\n",
      "\tBus: 24 casualties\n"
     ]
    }
   ],
   "source": [
    "for a in big_accidents:\n",
    "    print('Acc index {0}; {1} casualties, {2} vehicles'.format(\n",
    "        a['Accident_Index'],a['Number_of_Casualties'], a['Number_of_Vehicles'])\n",
    "         )\n",
    "    \n",
    "    for v in a['Vehicles']:\n",
    "        print('\\t{0}: {1} casualties'.format(label_of['Vehicle_Type', v['Vehicle_Type']].split()[0], \n",
    "                                  len([c for c in a['Casualties'] \n",
    "                                       if c['Vehicle_Reference'] == v['Vehicle_Reference']])))"
   ]
  },
  {
   "cell_type": "markdown",
   "metadata": {},
   "source": [
    "### Activity 2\n",
    "Separate out the types of accidents into those involving bus-like vehicles and those that don't, and calculate the regression scores for the subgroups.\n",
    "\n",
    "The solution is in the [`14.4solutions`](14.4solutions.ipynb) Notebook."
   ]
  },
  {
   "cell_type": "code",
   "execution_count": 115,
   "metadata": {},
   "outputs": [
    {
     "data": {
      "text/plain": [
       "[(22, 'Mobility scooter'),\n",
       " (2, 'Motorcycle 50cc and under'),\n",
       " (109, 'Car (including private hire cars)'),\n",
       " (4, 'Motorcycle over 125cc and up to 500cc'),\n",
       " (106, 'Motorcycle over 125cc'),\n",
       " (20, 'Goods over 3.5t. and under 7.5t'),\n",
       " (90, 'Other vehicle'),\n",
       " (97, 'Motorcycle - unknown cc'),\n",
       " (11, 'Bus or coach (17 or more pass seats)'),\n",
       " (104, 'Motorcycle'),\n",
       " (18, 'Tram'),\n",
       " (9, 'Car'),\n",
       " (16, 'Ridden horse'),\n",
       " (113, 'Goods vehicle over 3.5 tonnes'),\n",
       " (5, 'Motorcycle over 500cc'),\n",
       " (98, 'Goods vehicle - unknown weight'),\n",
       " (23, 'Electric motorcycle'),\n",
       " (-1, 'Data missing or out of range'),\n",
       " (3, 'Motorcycle 125cc and under'),\n",
       " (10, 'Minibus (8 - 16 passenger seats)'),\n",
       " (21, 'Goods 7.5 tonnes mgw and over'),\n",
       " (108, 'Taxi (excluding private hire cars)'),\n",
       " (17, 'Agricultural vehicle'),\n",
       " (103, 'Motorcycle - Scooter'),\n",
       " (1, 'Pedal cycle'),\n",
       " (105, 'Motorcycle - Combination'),\n",
       " (110, 'Minibus/Motor caravan'),\n",
       " (8, 'Taxi/Private hire car'),\n",
       " (19, 'Van / Goods 3.5 tonnes mgw or under')]"
      ]
     },
     "execution_count": 115,
     "metadata": {},
     "output_type": "execute_result"
    }
   ],
   "source": [
    "# what are the vehicle types?\n",
    "[(code, label_of[(key, code)]) for key, code in label_of if key == 'Vehicle_Type']"
   ]
  },
  {
   "cell_type": "code",
   "execution_count": 116,
   "metadata": {},
   "outputs": [
    {
     "data": {
      "text/plain": [
       "6941"
      ]
     },
     "execution_count": 116,
     "metadata": {},
     "output_type": "execute_result"
    }
   ],
   "source": [
    "# build a dataframe, one row for each accident\n",
    "coach_unrolled_df = pd.DataFrame(list(accidents.find({'Vehicles.Vehicle_Type': {'$in': [10, 11]}},\n",
    "                                                     ['Number_of_Casualties', 'Number_of_Vehicles'])))\n",
    "len(coach_unrolled_df)"
   ]
  },
  {
   "cell_type": "code",
   "execution_count": 117,
   "metadata": {},
   "outputs": [
    {
     "data": {
      "text/plain": [
       "138630"
      ]
     },
     "execution_count": 117,
     "metadata": {},
     "output_type": "execute_result"
    }
   ],
   "source": [
    "# check we've got them all...\n",
    "non_coach_unrolled_df = pd.DataFrame(list(accidents.find({'Vehicles.Vehicle_Type': {'$not': {'$in':[10, 11]}}}, \n",
    "                                                         ['Number_of_Casualties', 'Number_of_Vehicles'])))\n",
    "len(non_coach_unrolled_df)"
   ]
  },
  {
   "cell_type": "code",
   "execution_count": 118,
   "metadata": {},
   "outputs": [
    {
     "data": {
      "text/plain": [
       "True"
      ]
     },
     "execution_count": 118,
     "metadata": {},
     "output_type": "execute_result"
    }
   ],
   "source": [
    "len(coach_unrolled_df) + len(non_coach_unrolled_df) == accidents.find().count()"
   ]
  },
  {
   "cell_type": "markdown",
   "metadata": {},
   "source": [
    "#### Find the regression for non-coach accidents"
   ]
  },
  {
   "cell_type": "code",
   "execution_count": 119,
   "metadata": {},
   "outputs": [
    {
     "data": {
      "text/html": [
       "<div>\n",
       "<style>\n",
       "    .dataframe thead tr:only-child th {\n",
       "        text-align: right;\n",
       "    }\n",
       "\n",
       "    .dataframe thead th {\n",
       "        text-align: left;\n",
       "    }\n",
       "\n",
       "    .dataframe tbody tr th {\n",
       "        vertical-align: top;\n",
       "    }\n",
       "</style>\n",
       "<table border=\"1\" class=\"dataframe\">\n",
       "  <thead>\n",
       "    <tr style=\"text-align: right;\">\n",
       "      <th>Number_of_Vehicles</th>\n",
       "      <th>1</th>\n",
       "      <th>2</th>\n",
       "      <th>3</th>\n",
       "      <th>4</th>\n",
       "      <th>5</th>\n",
       "      <th>6</th>\n",
       "      <th>7</th>\n",
       "      <th>11</th>\n",
       "    </tr>\n",
       "    <tr>\n",
       "      <th>Number_of_Casualties</th>\n",
       "      <th></th>\n",
       "      <th></th>\n",
       "      <th></th>\n",
       "      <th></th>\n",
       "      <th></th>\n",
       "      <th></th>\n",
       "      <th></th>\n",
       "      <th></th>\n",
       "    </tr>\n",
       "  </thead>\n",
       "  <tbody>\n",
       "    <tr>\n",
       "      <th>1</th>\n",
       "      <td>2949</td>\n",
       "      <td>2228</td>\n",
       "      <td>234</td>\n",
       "      <td>32</td>\n",
       "      <td>4</td>\n",
       "      <td>3</td>\n",
       "      <td>1</td>\n",
       "      <td>1</td>\n",
       "    </tr>\n",
       "    <tr>\n",
       "      <th>2</th>\n",
       "      <td>204</td>\n",
       "      <td>530</td>\n",
       "      <td>98</td>\n",
       "      <td>15</td>\n",
       "      <td>6</td>\n",
       "      <td>2</td>\n",
       "      <td>0</td>\n",
       "      <td>0</td>\n",
       "    </tr>\n",
       "    <tr>\n",
       "      <th>3</th>\n",
       "      <td>51</td>\n",
       "      <td>205</td>\n",
       "      <td>36</td>\n",
       "      <td>13</td>\n",
       "      <td>3</td>\n",
       "      <td>1</td>\n",
       "      <td>1</td>\n",
       "      <td>1</td>\n",
       "    </tr>\n",
       "    <tr>\n",
       "      <th>4</th>\n",
       "      <td>22</td>\n",
       "      <td>86</td>\n",
       "      <td>16</td>\n",
       "      <td>9</td>\n",
       "      <td>0</td>\n",
       "      <td>1</td>\n",
       "      <td>0</td>\n",
       "      <td>0</td>\n",
       "    </tr>\n",
       "    <tr>\n",
       "      <th>5</th>\n",
       "      <td>7</td>\n",
       "      <td>54</td>\n",
       "      <td>5</td>\n",
       "      <td>0</td>\n",
       "      <td>1</td>\n",
       "      <td>0</td>\n",
       "      <td>1</td>\n",
       "      <td>0</td>\n",
       "    </tr>\n",
       "    <tr>\n",
       "      <th>6</th>\n",
       "      <td>6</td>\n",
       "      <td>31</td>\n",
       "      <td>4</td>\n",
       "      <td>2</td>\n",
       "      <td>1</td>\n",
       "      <td>0</td>\n",
       "      <td>0</td>\n",
       "      <td>0</td>\n",
       "    </tr>\n",
       "    <tr>\n",
       "      <th>7</th>\n",
       "      <td>3</td>\n",
       "      <td>17</td>\n",
       "      <td>0</td>\n",
       "      <td>2</td>\n",
       "      <td>0</td>\n",
       "      <td>0</td>\n",
       "      <td>0</td>\n",
       "      <td>0</td>\n",
       "    </tr>\n",
       "    <tr>\n",
       "      <th>8</th>\n",
       "      <td>4</td>\n",
       "      <td>9</td>\n",
       "      <td>3</td>\n",
       "      <td>1</td>\n",
       "      <td>0</td>\n",
       "      <td>0</td>\n",
       "      <td>0</td>\n",
       "      <td>0</td>\n",
       "    </tr>\n",
       "    <tr>\n",
       "      <th>9</th>\n",
       "      <td>1</td>\n",
       "      <td>7</td>\n",
       "      <td>2</td>\n",
       "      <td>0</td>\n",
       "      <td>0</td>\n",
       "      <td>0</td>\n",
       "      <td>0</td>\n",
       "      <td>0</td>\n",
       "    </tr>\n",
       "    <tr>\n",
       "      <th>10</th>\n",
       "      <td>0</td>\n",
       "      <td>5</td>\n",
       "      <td>1</td>\n",
       "      <td>0</td>\n",
       "      <td>0</td>\n",
       "      <td>0</td>\n",
       "      <td>0</td>\n",
       "      <td>0</td>\n",
       "    </tr>\n",
       "    <tr>\n",
       "      <th>11</th>\n",
       "      <td>0</td>\n",
       "      <td>3</td>\n",
       "      <td>0</td>\n",
       "      <td>0</td>\n",
       "      <td>0</td>\n",
       "      <td>0</td>\n",
       "      <td>0</td>\n",
       "      <td>0</td>\n",
       "    </tr>\n",
       "    <tr>\n",
       "      <th>12</th>\n",
       "      <td>1</td>\n",
       "      <td>1</td>\n",
       "      <td>1</td>\n",
       "      <td>0</td>\n",
       "      <td>0</td>\n",
       "      <td>0</td>\n",
       "      <td>0</td>\n",
       "      <td>0</td>\n",
       "    </tr>\n",
       "    <tr>\n",
       "      <th>13</th>\n",
       "      <td>1</td>\n",
       "      <td>2</td>\n",
       "      <td>0</td>\n",
       "      <td>1</td>\n",
       "      <td>0</td>\n",
       "      <td>0</td>\n",
       "      <td>0</td>\n",
       "      <td>0</td>\n",
       "    </tr>\n",
       "    <tr>\n",
       "      <th>14</th>\n",
       "      <td>1</td>\n",
       "      <td>0</td>\n",
       "      <td>0</td>\n",
       "      <td>0</td>\n",
       "      <td>0</td>\n",
       "      <td>0</td>\n",
       "      <td>0</td>\n",
       "      <td>0</td>\n",
       "    </tr>\n",
       "    <tr>\n",
       "      <th>15</th>\n",
       "      <td>0</td>\n",
       "      <td>1</td>\n",
       "      <td>1</td>\n",
       "      <td>0</td>\n",
       "      <td>0</td>\n",
       "      <td>0</td>\n",
       "      <td>0</td>\n",
       "      <td>0</td>\n",
       "    </tr>\n",
       "    <tr>\n",
       "      <th>16</th>\n",
       "      <td>1</td>\n",
       "      <td>0</td>\n",
       "      <td>1</td>\n",
       "      <td>0</td>\n",
       "      <td>0</td>\n",
       "      <td>0</td>\n",
       "      <td>0</td>\n",
       "      <td>0</td>\n",
       "    </tr>\n",
       "    <tr>\n",
       "      <th>17</th>\n",
       "      <td>0</td>\n",
       "      <td>1</td>\n",
       "      <td>0</td>\n",
       "      <td>0</td>\n",
       "      <td>0</td>\n",
       "      <td>0</td>\n",
       "      <td>0</td>\n",
       "      <td>0</td>\n",
       "    </tr>\n",
       "    <tr>\n",
       "      <th>19</th>\n",
       "      <td>0</td>\n",
       "      <td>1</td>\n",
       "      <td>0</td>\n",
       "      <td>0</td>\n",
       "      <td>0</td>\n",
       "      <td>0</td>\n",
       "      <td>0</td>\n",
       "      <td>0</td>\n",
       "    </tr>\n",
       "    <tr>\n",
       "      <th>25</th>\n",
       "      <td>0</td>\n",
       "      <td>2</td>\n",
       "      <td>0</td>\n",
       "      <td>0</td>\n",
       "      <td>0</td>\n",
       "      <td>0</td>\n",
       "      <td>0</td>\n",
       "      <td>0</td>\n",
       "    </tr>\n",
       "    <tr>\n",
       "      <th>33</th>\n",
       "      <td>0</td>\n",
       "      <td>1</td>\n",
       "      <td>0</td>\n",
       "      <td>0</td>\n",
       "      <td>0</td>\n",
       "      <td>0</td>\n",
       "      <td>0</td>\n",
       "      <td>0</td>\n",
       "    </tr>\n",
       "    <tr>\n",
       "      <th>38</th>\n",
       "      <td>0</td>\n",
       "      <td>0</td>\n",
       "      <td>0</td>\n",
       "      <td>1</td>\n",
       "      <td>0</td>\n",
       "      <td>0</td>\n",
       "      <td>0</td>\n",
       "      <td>0</td>\n",
       "    </tr>\n",
       "    <tr>\n",
       "      <th>42</th>\n",
       "      <td>0</td>\n",
       "      <td>1</td>\n",
       "      <td>0</td>\n",
       "      <td>0</td>\n",
       "      <td>0</td>\n",
       "      <td>0</td>\n",
       "      <td>0</td>\n",
       "      <td>0</td>\n",
       "    </tr>\n",
       "  </tbody>\n",
       "</table>\n",
       "</div>"
      ],
      "text/plain": [
       "Number_of_Vehicles      1     2    3   4   5   6   7   11\n",
       "Number_of_Casualties                                     \n",
       "1                     2949  2228  234  32   4   3   1   1\n",
       "2                      204   530   98  15   6   2   0   0\n",
       "3                       51   205   36  13   3   1   1   1\n",
       "4                       22    86   16   9   0   1   0   0\n",
       "5                        7    54    5   0   1   0   1   0\n",
       "6                        6    31    4   2   1   0   0   0\n",
       "7                        3    17    0   2   0   0   0   0\n",
       "8                        4     9    3   1   0   0   0   0\n",
       "9                        1     7    2   0   0   0   0   0\n",
       "10                       0     5    1   0   0   0   0   0\n",
       "11                       0     3    0   0   0   0   0   0\n",
       "12                       1     1    1   0   0   0   0   0\n",
       "13                       1     2    0   1   0   0   0   0\n",
       "14                       1     0    0   0   0   0   0   0\n",
       "15                       0     1    1   0   0   0   0   0\n",
       "16                       1     0    1   0   0   0   0   0\n",
       "17                       0     1    0   0   0   0   0   0\n",
       "19                       0     1    0   0   0   0   0   0\n",
       "25                       0     2    0   0   0   0   0   0\n",
       "33                       0     1    0   0   0   0   0   0\n",
       "38                       0     0    0   1   0   0   0   0\n",
       "42                       0     1    0   0   0   0   0   0"
      ]
     },
     "execution_count": 119,
     "metadata": {},
     "output_type": "execute_result"
    }
   ],
   "source": [
    "# Count the number\n",
    "coach_df = pd.crosstab(coach_unrolled_df['Number_of_Casualties'], \n",
    "                       coach_unrolled_df['Number_of_Vehicles'])\n",
    "coach_df"
   ]
  },
  {
   "cell_type": "code",
   "execution_count": 122,
   "metadata": {},
   "outputs": [
    {
     "data": {
      "text/plain": [
       "(0.094595873483424742, 1.4894575649255768)"
      ]
     },
     "execution_count": 122,
     "metadata": {},
     "output_type": "execute_result"
    }
   ],
   "source": [
    "# find the regression line\n",
    "coach_regression_line = scipy.stats.linregress(coach_unrolled_df['Number_of_Casualties'], \n",
    "                                              coach_unrolled_df['Number_of_Vehicles'])\n",
    "\n",
    "coach_m, coach_b = coach_regression_line[0], coach_regression_line[1]\n",
    "coach_m, coach_b"
   ]
  },
  {
   "cell_type": "code",
   "execution_count": 123,
   "metadata": {},
   "outputs": [
    {
     "data": {
      "image/png": "[encoded data removed]",
      "text/plain": [
       "<matplotlib.figure.Figure at 0x7fe462fd6978>"
      ]
     },
     "metadata": {},
     "output_type": "display_data"
    }
   ],
   "source": [
    "# Reshape and plot\n",
    "coach_long_df = coach_df.stack().reset_index()\n",
    "\n",
    "plt.scatter(coach_long_df['Number_of_Casualties'],\n",
    "            coach_long_df['Number_of_Vehicles'],\n",
    "            s=np.sqrt(coach_long_df[0])*1.5,\n",
    "            alpha=0.5)\n",
    "\n",
    "x = np.linspace(0, 30, 20)\n",
    "\n",
    "plt.plot(coach_m*x+coach_b)\n",
    "\n",
    "plt.xlabel('Number of casualties')\n",
    "plt.ylabel('Number of vehicles')\n",
    "plt.show()"
   ]
  },
  {
   "cell_type": "code",
   "execution_count": 124,
   "metadata": {},
   "outputs": [
    {
     "data": {
      "text/plain": [
       "(0.19583731511182584, 5.7796300309005693e-61)"
      ]
     },
     "execution_count": 124,
     "metadata": {},
     "output_type": "execute_result"
    }
   ],
   "source": [
    "scipy.stats.pearsonr(coach_unrolled_df['Number_of_Casualties'],\n",
    "                     coach_unrolled_df['Number_of_Vehicles'])"
   ]
  },
  {
   "cell_type": "code",
   "execution_count": null,
   "metadata": {
    "collapsed": true
   },
   "outputs": [],
   "source": []
  }
 ],
 "metadata": {
  "kernelspec": {
   "display_name": "Python 3",
   "language": "python",
   "name": "python3"
  },
  "language_info": {
   "codemirror_mode": {
    "name": "ipython",
    "version": 3
   },
   "file_extension": ".py",
   "mimetype": "text/x-python",
   "name": "python",
   "nbconvert_exporter": "python",
   "pygments_lexer": "ipython3",
   "version": "3.5.2"
  }
 },
 "nbformat": 4,
 "nbformat_minor": 2
}
