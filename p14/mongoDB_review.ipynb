{
 "cells": [
  {
   "cell_type": "markdown",
   "metadata": {},
   "source": [
    "# MongoDB review"
   ]
  },
  {
   "cell_type": "code",
   "execution_count": 1,
   "metadata": {
    "collapsed": true
   },
   "outputs": [],
   "source": [
    "# import the required libraries\n",
    "\n",
    "import pymongo\n",
    "from datetime import datetime\n",
    "\n",
    "import pandas as pd"
   ]
  },
  {
   "cell_type": "code",
   "execution_count": 2,
   "metadata": {
    "collapsed": true
   },
   "outputs": [],
   "source": [
    "# Open a connection to tne Mongo server\n",
    "client = pymongo.MongoClient('mongodb://localhost:27351')"
   ]
  },
  {
   "cell_type": "code",
   "execution_count": 3,
   "metadata": {},
   "outputs": [
    {
     "data": {
      "text/plain": [
       "MongoClient(host=['localhost:27351'], document_class=dict, tz_aware=False, connect=True)"
      ]
     },
     "execution_count": 3,
     "metadata": {},
     "output_type": "execute_result"
    }
   ],
   "source": [
    "client"
   ]
  },
  {
   "cell_type": "code",
   "execution_count": 4,
   "metadata": {
    "collapsed": true
   },
   "outputs": [],
   "source": [
    "# remove the doctor who db if it already exists\n",
    "try:\n",
    "    client.drop_database('doctorwho')\n",
    "except NameError:\n",
    "    print(\"DB doesn't exist yet.\")"
   ]
  },
  {
   "cell_type": "code",
   "execution_count": 5,
   "metadata": {
    "collapsed": true
   },
   "outputs": [],
   "source": [
    "# Create a doctor who database akd a test_collection within it.\n",
    "dw_db = client.doctorwho\n",
    "tc = dw_db.test_collection\n"
   ]
  },
  {
   "cell_type": "markdown",
   "metadata": {},
   "source": [
    "## Create"
   ]
  },
  {
   "cell_type": "code",
   "execution_count": 6,
   "metadata": {},
   "outputs": [
    {
     "data": {
      "text/plain": [
       "<pymongo.results.InsertOneResult at 0x7fccc0d0ed80>"
      ]
     },
     "execution_count": 6,
     "metadata": {},
     "output_type": "execute_result"
    }
   ],
   "source": [
    "# insert a single document\n",
    "tc.insert_one({'name':'William', 'birthyear': 1908})"
   ]
  },
  {
   "cell_type": "code",
   "execution_count": 7,
   "metadata": {},
   "outputs": [
    {
     "data": {
      "text/plain": [
       "{'_id': ObjectId('5ae05ec60fd01f06464543aa'),\n",
       " 'birthyear': 1908,\n",
       " 'name': 'William'}"
      ]
     },
     "execution_count": 7,
     "metadata": {},
     "output_type": "execute_result"
    }
   ],
   "source": [
    "tc.find_one()"
   ]
  },
  {
   "cell_type": "code",
   "execution_count": 8,
   "metadata": {
    "collapsed": true
   },
   "outputs": [],
   "source": [
    "# insert a few (zip takes some lists and returns a list of tuples)\n",
    "for n, b, c in zip('Patrick Jon Gom Peter Colin Sylvester Paul Christopher David Matt Peter'.split(),\n",
    "                  [1920, 1919, 1934, 1951, 1943, 1943, 1959, 1964, 1971, 1982, 1958],\n",
    "                  [1,2,3,4,5,6,7,8,9,10,11]):\n",
    "    tc.insert_one({'name': n, 'birthyear': b, 'c': c})"
   ]
  },
  {
   "cell_type": "markdown",
   "metadata": {},
   "source": [
    "## Read"
   ]
  },
  {
   "cell_type": "code",
   "execution_count": 9,
   "metadata": {},
   "outputs": [
    {
     "data": {
      "text/plain": [
       "{'_id': ObjectId('5ae05ec60fd01f06464543aa'),\n",
       " 'birthyear': 1908,\n",
       " 'name': 'William'}"
      ]
     },
     "execution_count": 9,
     "metadata": {},
     "output_type": "execute_result"
    }
   ],
   "source": [
    "tc.find_one()"
   ]
  },
  {
   "cell_type": "code",
   "execution_count": 10,
   "metadata": {},
   "outputs": [
    {
     "data": {
      "text/plain": [
       "{'_id': ObjectId('5ae05ec60fd01f06464543ae'),\n",
       " 'birthyear': 1951,\n",
       " 'c': 4,\n",
       " 'name': 'Peter'}"
      ]
     },
     "execution_count": 10,
     "metadata": {},
     "output_type": "execute_result"
    }
   ],
   "source": [
    "tc.find_one({'name':'Peter'})"
   ]
  },
  {
   "cell_type": "code",
   "execution_count": 11,
   "metadata": {},
   "outputs": [
    {
     "data": {
      "text/plain": [
       "{'_id': ObjectId('5ae05ec60fd01f06464543af'),\n",
       " 'birthyear': 1943,\n",
       " 'c': 5,\n",
       " 'name': 'Colin'}"
      ]
     },
     "execution_count": 11,
     "metadata": {},
     "output_type": "execute_result"
    }
   ],
   "source": [
    "tc.find_one({'birthyear':1943})"
   ]
  },
  {
   "cell_type": "code",
   "execution_count": 12,
   "metadata": {},
   "outputs": [
    {
     "data": {
      "text/plain": [
       "<pymongo.cursor.Cursor at 0x7fccc047ada0>"
      ]
     },
     "execution_count": 12,
     "metadata": {},
     "output_type": "execute_result"
    }
   ],
   "source": [
    "# find() will find all the documents that match the query, \n",
    "# returning a cursor that can be iterated over\n",
    "tc.find({'name': 'Peter'})"
   ]
  },
  {
   "cell_type": "code",
   "execution_count": 13,
   "metadata": {},
   "outputs": [
    {
     "data": {
      "text/plain": [
       "[{'_id': ObjectId('5ae05ec60fd01f06464543ae'),\n",
       "  'birthyear': 1951,\n",
       "  'c': 4,\n",
       "  'name': 'Peter'},\n",
       " {'_id': ObjectId('5ae05ec60fd01f06464543b5'),\n",
       "  'birthyear': 1958,\n",
       "  'c': 11,\n",
       "  'name': 'Peter'}]"
      ]
     },
     "execution_count": 13,
     "metadata": {},
     "output_type": "execute_result"
    }
   ],
   "source": [
    "# convert cursor to a list to make a list of dicts\n",
    "list(tc.find({'name': 'Peter'}))"
   ]
  },
  {
   "cell_type": "code",
   "execution_count": 14,
   "metadata": {},
   "outputs": [
    {
     "name": "stdout",
     "output_type": "stream",
     "text": [
      "{'c': 4, 'birthyear': 1951, 'name': 'Peter', '_id': ObjectId('5ae05ec60fd01f06464543ae')}\n",
      "{'c': 11, 'birthyear': 1958, 'name': 'Peter', '_id': ObjectId('5ae05ec60fd01f06464543b5')}\n"
     ]
    }
   ],
   "source": [
    "# we can iterate directly over the cursor \n",
    "# but this is a one pass process\n",
    "cursor = tc.find({'name': 'Peter'})\n",
    "for p in cursor:\n",
    "    print(p)"
   ]
  },
  {
   "cell_type": "code",
   "execution_count": 15,
   "metadata": {
    "collapsed": true
   },
   "outputs": [],
   "source": [
    "# if we try to print again we get nothing as the cursor has\n",
    "# already been iterated over once\n",
    "for p in cursor:\n",
    "    print(p)"
   ]
  },
  {
   "cell_type": "markdown",
   "metadata": {},
   "source": [
    "### using the cursor to tell us how many documents match the query"
   ]
  },
  {
   "cell_type": "code",
   "execution_count": 16,
   "metadata": {},
   "outputs": [
    {
     "data": {
      "text/plain": [
       "2"
      ]
     },
     "execution_count": 16,
     "metadata": {},
     "output_type": "execute_result"
    }
   ],
   "source": [
    "q = {'name': 'Peter'}\n",
    "tc.find(q).count()"
   ]
  },
  {
   "cell_type": "code",
   "execution_count": 17,
   "metadata": {},
   "outputs": [
    {
     "name": "stdout",
     "output_type": "stream",
     "text": [
      "{'birthyear': 1951, '_id': ObjectId('5ae05ec60fd01f06464543ae')}\n",
      "{'birthyear': 1958, '_id': ObjectId('5ae05ec60fd01f06464543b5')}\n"
     ]
    }
   ],
   "source": [
    "# Mongo projection\n",
    "for p in tc.find({'name': 'Peter'}, ['birthyear']):\n",
    "    print(p)"
   ]
  },
  {
   "cell_type": "markdown",
   "metadata": {},
   "source": [
    "`_id` is included by default.  we can adjust using include/exclude"
   ]
  },
  {
   "cell_type": "code",
   "execution_count": 18,
   "metadata": {},
   "outputs": [
    {
     "name": "stdout",
     "output_type": "stream",
     "text": [
      "{'birthyear': 1951}\n",
      "{'birthyear': 1958}\n"
     ]
    }
   ],
   "source": [
    "for p in tc.find({'name': 'Peter'}, {'birthyear':1,'_id':0}):\n",
    "    print(p)"
   ]
  },
  {
   "cell_type": "markdown",
   "metadata": {},
   "source": [
    "### Limit the number of documents returned"
   ]
  },
  {
   "cell_type": "code",
   "execution_count": 19,
   "metadata": {},
   "outputs": [
    {
     "name": "stdout",
     "output_type": "stream",
     "text": [
      "William\n",
      "Patrick\n",
      "Jon\n"
     ]
    }
   ],
   "source": [
    "for p in tc.find({'birthyear': {'$lt':1950}}, ['name','birthyear'], limit=3):\n",
    "    print(p['name'])"
   ]
  },
  {
   "cell_type": "markdown",
   "metadata": {},
   "source": [
    "## Reading into DataFrames\n"
   ]
  },
  {
   "cell_type": "code",
   "execution_count": 20,
   "metadata": {},
   "outputs": [
    {
     "data": {
      "text/html": [
       "<div>\n",
       "<style>\n",
       "    .dataframe thead tr:only-child th {\n",
       "        text-align: right;\n",
       "    }\n",
       "\n",
       "    .dataframe thead th {\n",
       "        text-align: left;\n",
       "    }\n",
       "\n",
       "    .dataframe tbody tr th {\n",
       "        vertical-align: top;\n",
       "    }\n",
       "</style>\n",
       "<table border=\"1\" class=\"dataframe\">\n",
       "  <thead>\n",
       "    <tr style=\"text-align: right;\">\n",
       "      <th></th>\n",
       "      <th>_id</th>\n",
       "      <th>birthyear</th>\n",
       "      <th>c</th>\n",
       "      <th>name</th>\n",
       "    </tr>\n",
       "  </thead>\n",
       "  <tbody>\n",
       "    <tr>\n",
       "      <th>0</th>\n",
       "      <td>5ae05ec60fd01f06464543aa</td>\n",
       "      <td>1908</td>\n",
       "      <td>NaN</td>\n",
       "      <td>William</td>\n",
       "    </tr>\n",
       "    <tr>\n",
       "      <th>1</th>\n",
       "      <td>5ae05ec60fd01f06464543ab</td>\n",
       "      <td>1920</td>\n",
       "      <td>1.0</td>\n",
       "      <td>Patrick</td>\n",
       "    </tr>\n",
       "    <tr>\n",
       "      <th>2</th>\n",
       "      <td>5ae05ec60fd01f06464543ac</td>\n",
       "      <td>1919</td>\n",
       "      <td>2.0</td>\n",
       "      <td>Jon</td>\n",
       "    </tr>\n",
       "    <tr>\n",
       "      <th>3</th>\n",
       "      <td>5ae05ec60fd01f06464543ad</td>\n",
       "      <td>1934</td>\n",
       "      <td>3.0</td>\n",
       "      <td>Gom</td>\n",
       "    </tr>\n",
       "    <tr>\n",
       "      <th>4</th>\n",
       "      <td>5ae05ec60fd01f06464543ae</td>\n",
       "      <td>1951</td>\n",
       "      <td>4.0</td>\n",
       "      <td>Peter</td>\n",
       "    </tr>\n",
       "    <tr>\n",
       "      <th>5</th>\n",
       "      <td>5ae05ec60fd01f06464543af</td>\n",
       "      <td>1943</td>\n",
       "      <td>5.0</td>\n",
       "      <td>Colin</td>\n",
       "    </tr>\n",
       "    <tr>\n",
       "      <th>6</th>\n",
       "      <td>5ae05ec60fd01f06464543b0</td>\n",
       "      <td>1943</td>\n",
       "      <td>6.0</td>\n",
       "      <td>Sylvester</td>\n",
       "    </tr>\n",
       "    <tr>\n",
       "      <th>7</th>\n",
       "      <td>5ae05ec60fd01f06464543b1</td>\n",
       "      <td>1959</td>\n",
       "      <td>7.0</td>\n",
       "      <td>Paul</td>\n",
       "    </tr>\n",
       "    <tr>\n",
       "      <th>8</th>\n",
       "      <td>5ae05ec60fd01f06464543b2</td>\n",
       "      <td>1964</td>\n",
       "      <td>8.0</td>\n",
       "      <td>Christopher</td>\n",
       "    </tr>\n",
       "    <tr>\n",
       "      <th>9</th>\n",
       "      <td>5ae05ec60fd01f06464543b3</td>\n",
       "      <td>1971</td>\n",
       "      <td>9.0</td>\n",
       "      <td>David</td>\n",
       "    </tr>\n",
       "    <tr>\n",
       "      <th>10</th>\n",
       "      <td>5ae05ec60fd01f06464543b4</td>\n",
       "      <td>1982</td>\n",
       "      <td>10.0</td>\n",
       "      <td>Matt</td>\n",
       "    </tr>\n",
       "    <tr>\n",
       "      <th>11</th>\n",
       "      <td>5ae05ec60fd01f06464543b5</td>\n",
       "      <td>1958</td>\n",
       "      <td>11.0</td>\n",
       "      <td>Peter</td>\n",
       "    </tr>\n",
       "  </tbody>\n",
       "</table>\n",
       "</div>"
      ],
      "text/plain": [
       "                         _id  birthyear     c         name\n",
       "0   5ae05ec60fd01f06464543aa       1908   NaN      William\n",
       "1   5ae05ec60fd01f06464543ab       1920   1.0      Patrick\n",
       "2   5ae05ec60fd01f06464543ac       1919   2.0          Jon\n",
       "3   5ae05ec60fd01f06464543ad       1934   3.0          Gom\n",
       "4   5ae05ec60fd01f06464543ae       1951   4.0        Peter\n",
       "5   5ae05ec60fd01f06464543af       1943   5.0        Colin\n",
       "6   5ae05ec60fd01f06464543b0       1943   6.0    Sylvester\n",
       "7   5ae05ec60fd01f06464543b1       1959   7.0         Paul\n",
       "8   5ae05ec60fd01f06464543b2       1964   8.0  Christopher\n",
       "9   5ae05ec60fd01f06464543b3       1971   9.0        David\n",
       "10  5ae05ec60fd01f06464543b4       1982  10.0         Matt\n",
       "11  5ae05ec60fd01f06464543b5       1958  11.0        Peter"
      ]
     },
     "execution_count": 20,
     "metadata": {},
     "output_type": "execute_result"
    }
   ],
   "source": [
    "# we can create a DF from a list of Dicts\n",
    "# so via a cast we can create a DF using the results of a find() \n",
    "pd.DataFrame(list(tc.find({})))"
   ]
  },
  {
   "cell_type": "markdown",
   "metadata": {},
   "source": [
    "## Update"
   ]
  },
  {
   "cell_type": "markdown",
   "metadata": {},
   "source": [
    "adding a surname to one of the records\"\""
   ]
  },
  {
   "cell_type": "code",
   "execution_count": 21,
   "metadata": {},
   "outputs": [
    {
     "name": "stdout",
     "output_type": "stream",
     "text": [
      "{'c': 1, 'birthyear': 1920, 'name': 'Patrick', '_id': ObjectId('5ae05ec60fd01f06464543ab')}\n"
     ]
    }
   ],
   "source": [
    "patrick = tc.find_one({\"name\": \"Patrick\"})\n",
    "print(patrick)"
   ]
  },
  {
   "cell_type": "code",
   "execution_count": 22,
   "metadata": {},
   "outputs": [
    {
     "data": {
      "text/plain": [
       "(1, 1)"
      ]
     },
     "execution_count": 22,
     "metadata": {},
     "output_type": "execute_result"
    }
   ],
   "source": [
    "result = tc.update_one({'name': 'Patrick'}, {'$set': {'surname': 'Trouton'}})\n",
    "# we can interrogate the result to see what effect the update had on the collection\n",
    "result.matched_count, result.modified_count"
   ]
  },
  {
   "cell_type": "markdown",
   "metadata": {},
   "source": [
    "(one document found, one document updated)."
   ]
  },
  {
   "cell_type": "code",
   "execution_count": 23,
   "metadata": {},
   "outputs": [
    {
     "name": "stdout",
     "output_type": "stream",
     "text": [
      "{'c': 1, 'birthyear': 1920, 'name': 'Patrick', 'surname': 'Trouton', '_id': ObjectId('5ae05ec60fd01f06464543ab')}\n"
     ]
    }
   ],
   "source": [
    "for p in tc.find({'name': 'Patrick'}):\n",
    "    print(p)"
   ]
  },
  {
   "cell_type": "code",
   "execution_count": 24,
   "metadata": {},
   "outputs": [
    {
     "data": {
      "text/plain": [
       "(2, 2)"
      ]
     },
     "execution_count": 24,
     "metadata": {},
     "output_type": "execute_result"
    }
   ],
   "source": [
    "# Update many\n",
    "# set a new key:value for those doctors named Peter\n",
    "result = tc.update_many({'name': 'Peter'}, {'$set': {'multi_updated': True}})\n",
    "result.matched_count, result.modified_count"
   ]
  },
  {
   "cell_type": "code",
   "execution_count": 25,
   "metadata": {},
   "outputs": [
    {
     "name": "stdout",
     "output_type": "stream",
     "text": [
      "{'birthyear': 1908, 'name': 'William', '_id': ObjectId('5ae05ec60fd01f06464543aa')}\n",
      "{'c': 1, 'birthyear': 1920, 'name': 'Patrick', 'surname': 'Trouton', '_id': ObjectId('5ae05ec60fd01f06464543ab')}\n",
      "{'c': 2, 'birthyear': 1919, 'name': 'Jon', '_id': ObjectId('5ae05ec60fd01f06464543ac')}\n",
      "{'c': 3, 'birthyear': 1934, 'name': 'Gom', '_id': ObjectId('5ae05ec60fd01f06464543ad')}\n",
      "{'c': 4, 'birthyear': 1951, 'name': 'Peter', 'multi_updated': True, '_id': ObjectId('5ae05ec60fd01f06464543ae')}\n",
      "{'c': 5, 'birthyear': 1943, 'name': 'Colin', '_id': ObjectId('5ae05ec60fd01f06464543af')}\n",
      "{'c': 6, 'birthyear': 1943, 'name': 'Sylvester', '_id': ObjectId('5ae05ec60fd01f06464543b0')}\n",
      "{'c': 7, 'birthyear': 1959, 'name': 'Paul', '_id': ObjectId('5ae05ec60fd01f06464543b1')}\n",
      "{'c': 8, 'birthyear': 1964, 'name': 'Christopher', '_id': ObjectId('5ae05ec60fd01f06464543b2')}\n",
      "{'c': 9, 'birthyear': 1971, 'name': 'David', '_id': ObjectId('5ae05ec60fd01f06464543b3')}\n",
      "{'c': 10, 'birthyear': 1982, 'name': 'Matt', '_id': ObjectId('5ae05ec60fd01f06464543b4')}\n",
      "{'c': 11, 'birthyear': 1958, 'name': 'Peter', 'multi_updated': True, '_id': ObjectId('5ae05ec60fd01f06464543b5')}\n"
     ]
    }
   ],
   "source": [
    "for p in tc.find():\n",
    "    print(p)"
   ]
  },
  {
   "cell_type": "code",
   "execution_count": 26,
   "metadata": {},
   "outputs": [
    {
     "name": "stdout",
     "output_type": "stream",
     "text": [
      "{'birthyear': 1908, 'name': 'William', '_id': ObjectId('5ae05ec60fd01f06464543aa')}\n",
      "{'c': 1, 'birthyear': 1920, 'name': 'Patrick', 'surname': 'Trouton', '_id': ObjectId('5ae05ec60fd01f06464543ab')}\n",
      "{'c': 2, 'birthyear': 1919, 'name': 'Jon', '_id': ObjectId('5ae05ec60fd01f06464543ac')}\n",
      "{'c': 3, 'birthyear': 1934, 'name': 'Gom', '_id': ObjectId('5ae05ec60fd01f06464543ad')}\n",
      "{'c': 4, 'birthyear': 1951, 'name': 'Peter', '_id': ObjectId('5ae05ec60fd01f06464543ae')}\n",
      "{'c': 5, 'birthyear': 1943, 'name': 'Colin', '_id': ObjectId('5ae05ec60fd01f06464543af')}\n",
      "{'c': 6, 'birthyear': 1943, 'name': 'Sylvester', '_id': ObjectId('5ae05ec60fd01f06464543b0')}\n",
      "{'c': 7, 'birthyear': 1959, 'name': 'Paul', '_id': ObjectId('5ae05ec60fd01f06464543b1')}\n",
      "{'c': 8, 'birthyear': 1964, 'name': 'Christopher', '_id': ObjectId('5ae05ec60fd01f06464543b2')}\n",
      "{'c': 9, 'birthyear': 1971, 'name': 'David', '_id': ObjectId('5ae05ec60fd01f06464543b3')}\n",
      "{'c': 10, 'birthyear': 1982, 'name': 'Matt', '_id': ObjectId('5ae05ec60fd01f06464543b4')}\n",
      "{'c': 11, 'birthyear': 1958, 'name': 'Peter', '_id': ObjectId('5ae05ec60fd01f06464543b5')}\n"
     ]
    }
   ],
   "source": [
    "# remove the new value using the unset method (the value is ignored)\n",
    "tc.update_many({'name':'Peter'},{'$unset':{'multi_updated': ''}})\n",
    "for p in tc.find():\n",
    "    print(p)"
   ]
  },
  {
   "cell_type": "code",
   "execution_count": 27,
   "metadata": {},
   "outputs": [
    {
     "name": "stdout",
     "output_type": "stream",
     "text": [
      "{'birthyear': 1908, 'name': 'William', 'age': 110, '_id': ObjectId('5ae05ec60fd01f06464543aa')}\n",
      "{'c': 1, 'age': 98, 'birthyear': 1920, 'name': 'Patrick', 'surname': 'Trouton', '_id': ObjectId('5ae05ec60fd01f06464543ab')}\n",
      "{'c': 2, 'birthyear': 1919, 'name': 'Jon', 'age': 99, '_id': ObjectId('5ae05ec60fd01f06464543ac')}\n",
      "{'c': 3, 'birthyear': 1934, 'name': 'Gom', 'age': 84, '_id': ObjectId('5ae05ec60fd01f06464543ad')}\n",
      "{'c': 4, 'birthyear': 1951, 'name': 'Peter', 'age': 67, '_id': ObjectId('5ae05ec60fd01f06464543ae')}\n",
      "{'c': 5, 'birthyear': 1943, 'name': 'Colin', 'age': 75, '_id': ObjectId('5ae05ec60fd01f06464543af')}\n",
      "{'c': 6, 'birthyear': 1943, 'name': 'Sylvester', 'age': 75, '_id': ObjectId('5ae05ec60fd01f06464543b0')}\n",
      "{'c': 7, 'birthyear': 1959, 'name': 'Paul', 'age': 59, '_id': ObjectId('5ae05ec60fd01f06464543b1')}\n",
      "{'c': 8, 'birthyear': 1964, 'name': 'Christopher', 'age': 54, '_id': ObjectId('5ae05ec60fd01f06464543b2')}\n",
      "{'c': 9, 'birthyear': 1971, 'name': 'David', 'age': 47, '_id': ObjectId('5ae05ec60fd01f06464543b3')}\n",
      "{'c': 10, 'birthyear': 1982, 'name': 'Matt', 'age': 36, '_id': ObjectId('5ae05ec60fd01f06464543b4')}\n",
      "{'c': 11, 'birthyear': 1958, 'name': 'Peter', 'age': 60, '_id': ObjectId('5ae05ec60fd01f06464543b5')}\n"
     ]
    }
   ],
   "source": [
    "# to make individual updates to each document, we can use the \n",
    "# documents `_id`\n",
    "\n",
    "import datetime\n",
    "for p in tc.find():\n",
    "    tc.update_one({'_id': p['_id']}, {'$set': {'age': datetime.datetime.now().year - p['birthyear']}})\n",
    "\n",
    "for p in tc.find():\n",
    "    print(p)"
   ]
  },
  {
   "cell_type": "markdown",
   "metadata": {},
   "source": [
    "## Activity 3\n",
    "Classify the people into 2 groups born in or before 1945 and those born after\n",
    "\n",
    "`'age': 'old'` and '`age':'young'`"
   ]
  },
  {
   "cell_type": "code",
   "execution_count": 28,
   "metadata": {},
   "outputs": [
    {
     "name": "stdout",
     "output_type": "stream",
     "text": [
      "{'birthyear': 1908, 'name': 'William', 'age': 'old', '_id': ObjectId('5ae05ec60fd01f06464543aa')}\n",
      "{'c': 1, 'age': 'old', 'birthyear': 1920, 'name': 'Patrick', 'surname': 'Trouton', '_id': ObjectId('5ae05ec60fd01f06464543ab')}\n",
      "{'c': 2, 'birthyear': 1919, 'name': 'Jon', 'age': 'old', '_id': ObjectId('5ae05ec60fd01f06464543ac')}\n",
      "{'c': 3, 'birthyear': 1934, 'name': 'Gom', 'age': 'old', '_id': ObjectId('5ae05ec60fd01f06464543ad')}\n",
      "{'c': 4, 'birthyear': 1951, 'name': 'Peter', 'age': 'young', '_id': ObjectId('5ae05ec60fd01f06464543ae')}\n",
      "{'c': 5, 'birthyear': 1943, 'name': 'Colin', 'age': 'old', '_id': ObjectId('5ae05ec60fd01f06464543af')}\n",
      "{'c': 6, 'birthyear': 1943, 'name': 'Sylvester', 'age': 'old', '_id': ObjectId('5ae05ec60fd01f06464543b0')}\n",
      "{'c': 7, 'birthyear': 1959, 'name': 'Paul', 'age': 'young', '_id': ObjectId('5ae05ec60fd01f06464543b1')}\n",
      "{'c': 8, 'birthyear': 1964, 'name': 'Christopher', 'age': 'young', '_id': ObjectId('5ae05ec60fd01f06464543b2')}\n",
      "{'c': 9, 'birthyear': 1971, 'name': 'David', 'age': 'young', '_id': ObjectId('5ae05ec60fd01f06464543b3')}\n",
      "{'c': 10, 'birthyear': 1982, 'name': 'Matt', 'age': 'young', '_id': ObjectId('5ae05ec60fd01f06464543b4')}\n",
      "{'c': 11, 'birthyear': 1958, 'name': 'Peter', 'age': 'young', '_id': ObjectId('5ae05ec60fd01f06464543b5')}\n"
     ]
    }
   ],
   "source": [
    "tc.update_many({'birthyear': {'$lte': 1945}}, {'$set': {'age': 'old'}})\n",
    "tc.update_many({'birthyear': {'$gt': 1945}}, {'$set': {'age': 'young'}})\n",
    "\n",
    "for p in tc.find():\n",
    "    print(p)"
   ]
  },
  {
   "cell_type": "markdown",
   "metadata": {
    "collapsed": true
   },
   "source": [
    "## Embedded Documents\n",
    "Values in documents can be themselves documents.  For instance, we can encapsulate each person's name in a subdocument."
   ]
  },
  {
   "cell_type": "code",
   "execution_count": 29,
   "metadata": {},
   "outputs": [
    {
     "name": "stdout",
     "output_type": "stream",
     "text": [
      "{'birthyear': 1908, 'name': {'surname': 'Hartnell', 'forename': 'William'}, '_id': ObjectId('5ae05ec60fd01f06464543b6')}\n",
      "{'birthyear': 1920, 'name': {'surname': 'Troughten', 'forename': 'Patrick'}, '_id': ObjectId('5ae05ec60fd01f06464543b7')}\n",
      "{'birthyear': 1919, 'name': {'surname': 'Pertwee', 'forename': 'Jon'}, '_id': ObjectId('5ae05ec60fd01f06464543b8')}\n",
      "{'birthyear': 1934, 'name': {'surname': 'Baker', 'forename': 'Tom'}, '_id': ObjectId('5ae05ec60fd01f06464543b9')}\n",
      "{'birthyear': 1951, 'name': {'surname': 'McCoy', 'forename': 'Peter'}, '_id': ObjectId('5ae05ec60fd01f06464543ba')}\n",
      "{'birthyear': 1943, 'name': {'surname': 'McGann', 'forename': 'Colin'}, '_id': ObjectId('5ae05ec60fd01f06464543bb')}\n",
      "{'birthyear': 1943, 'name': {'surname': 'Eccleston', 'forename': 'Sylvester'}, '_id': ObjectId('5ae05ec60fd01f06464543bc')}\n",
      "{'birthyear': 1959, 'name': {'surname': 'Tennant', 'forename': 'Paul'}, '_id': ObjectId('5ae05ec60fd01f06464543bd')}\n",
      "{'birthyear': 1964, 'name': {'surname': 'Smith', 'forename': 'Christopher'}, '_id': ObjectId('5ae05ec60fd01f06464543be')}\n",
      "{'birthyear': 1971, 'name': {'surname': 'Capaldi', 'forename': 'David'}, '_id': ObjectId('5ae05ec60fd01f06464543bf')}\n"
     ]
    }
   ],
   "source": [
    "# delete the test collection data\n",
    "tc.drop()\n",
    "# insert a few doctors\n",
    "for f, s, b in zip('William Patrick Jon Tom Peter Colin Sylvester Paul Christopher David Matt Peter'.split(),\n",
    "                  'Hartnell Troughten Pertwee Baker McCoy McGann Eccleston Tennant Smith Capaldi'.split(),\n",
    "                  [1908, 1920, 1919, 1934, 1951, 1943, 1943, 1959, 1964, 1971, 1982, 1958]):\n",
    "    tc.insert_one({'name': {'forename': f, 'surname': s}, 'birthyear': b})\n",
    "for p in tc.find():\n",
    "    print(p)\n"
   ]
  },
  {
   "cell_type": "markdown",
   "metadata": {},
   "source": [
    "We can also include a list of notable stories for each person. Note the use of the dot notation to identify keys in a sub-document."
   ]
  },
  {
   "cell_type": "code",
   "execution_count": 31,
   "metadata": {},
   "outputs": [
    {
     "data": {
      "text/plain": [
       "(1, 1)"
      ]
     },
     "execution_count": 31,
     "metadata": {},
     "output_type": "execute_result"
    }
   ],
   "source": [
    "result = tc.update_one({'name.forename': 'William', 'name.surname': 'Hartnell'},\n",
    "                       {'$set': {'episodes': ['An Unearthly Child', 'The Daleks', 'The Tenth Planet']}})\n",
    "result.matched_count, result.modified_count"
   ]
  },
  {
   "cell_type": "code",
   "execution_count": 32,
   "metadata": {},
   "outputs": [
    {
     "data": {
      "text/plain": [
       "{'_id': ObjectId('5ae05ec60fd01f06464543b6'),\n",
       " 'birthyear': 1908,\n",
       " 'episodes': ['An Unearthly Child', 'The Daleks', 'The Tenth Planet'],\n",
       " 'name': {'forename': 'William', 'surname': 'Hartnell'}}"
      ]
     },
     "execution_count": 32,
     "metadata": {},
     "output_type": "execute_result"
    }
   ],
   "source": [
    "tc.find_one({'name.forename': 'William'})"
   ]
  },
  {
   "cell_type": "markdown",
   "metadata": {},
   "source": [
    "# Importing Data\n",
    "\n",
    "we will now import a larger dataset.  Using the [Ultimate Doctor Who](http://www.ultimatedoctorwho.com/).  First let's look at the data in the csv"
   ]
  },
  {
   "cell_type": "code",
   "execution_count": 34,
   "metadata": {},
   "outputs": [
    {
     "name": "stdout",
     "output_type": "stream",
     "text": [
      "Story ID,Year,Season,Title,No. of parts,Pt. 1 air date,Pt. 1 viewers (in millons),Pt. 2 air date,Pt.2 viewers,Pt. 3 air date,Pt.3 viewers,Pt. 4 air date,Pt.4 viewers,Pt.5 air date,Pt. 5 viewers,Pt.6 air date,Pt.6 viewers,Pt. 7 air date,Pt.7 viewers,pt. 8 air date,pt. 8 viewers,pt. 9 air date,pt. 9 viewers,pt. 10 air date,pt. 10 viewers,pt. 11 air date,pt. 11 viewers,pt. 12 air date,pt. 12 viewers,Type of Broadcast,Doctor Number,Doctor,Guest Doctor(s),Companion 1,Companion 2,Companion 3,Companion 4,Companion 5,Companion 6,Companion 7,Companion 8,Appearance of UNIT,Recurring Villains,Firsts\r\n",
      "1,1963,1,An Unearthly Child,4,11/26/63,4.4,11/30/63,5.9,12/7/63,6.9,12/14/63,6.4,,,,,,,,,,,,,,,,,Serial,1,William Hartnell,,Susan Foreman,Barbara Wright,Ian Chesterton,,,,,,,,\r\n",
      "2,1964,1,The Daleks,7,12/21/63,6.9,12/28/13,6.4,1/4/64,8.9,1/11/64,9.9,1/18/64,9.9,1/25/64,10.4,2/1/64,10.4,,,,,,,,,,,Serial,1,William Hartnell,,Susan Foreman,Barbara Wright,Ian Chesterton,,,,,,,Daleks,\r\n",
      "3,1964,1,The Edge of Destruction,2,2/8/64,10.4,2/15/64,9.9,,,,,,,,,,,,,,,,,,,,,Serial,1,William Hartnell,,Susan Foreman,Barbara Wright,Ian Chesterton,,,,,,,,\r\n",
      "4,1964,1,Marco Polo,7,2/22/64,9.4,2/29/64,9.4,3/7/64,9.4,3/14/64,9.9,3/21/64,9.4,3/28/64,8.4,4/4/64,10.4,,,,,,,,,,,Serial,1,William Hartnell,,Susan Foreman,Barbara Wright,Ian Chesterton,,,,,,,,\r\n",
      "5,1964,1,The Keys of Marinus,6,4/11/64,9.9,4/18/64,9.4,4/25/64,9.9,5/2/64,10.4,5/9/64,7.9,5/16/64,6.9,,,,,,,,,,,,,Serial,1,William Hartnell,,Susan Foreman,Barbara Wright,Ian Chesterton,,,,,,,,\r\n",
      "6,1964,1,The Aztecs,4,5/23/64,7.4,5/30/64,7.4,6/6/64,7.9,6/13/64,7.4,,,,,,,,,,,,,,,,,Serial,1,William Hartnell,,Susan Foreman,Barbara Wright,Ian Chesterton,,,,,,,,\r\n",
      "7,1964,1,The Sensorites,6,6/20/64,7.9,6/27/64,6.9,7/11/64,7.4,7/18/64,5.5,7/25/64,6.9,8/1/64,6.9,,,,,,,,,,,,,Serial,1,William Hartnell,,Susan Foreman,Barbara Wright,Ian Chesterton,,,,,,,,\r\n",
      "8,1964,1,The Reign of Terror,6,8/8/64,6.9,8/15/64,6.9,8/22/64,6.9,8/29/64,6.4,9/5/64,6.9,9/12/64,6.4,,,,,,,,,,,,,Serial,1,William Hartnell,,Susan Foreman,Barbara Wright,Ian Chesterton,,,,,,,,\r\n",
      "9,1964,2,Planet of Giants,3,10/31/64,8.4,11/7/64,8.4,11/14/64,8.9,,,,,,,,,,,,,,,,,,,Serial,1,William Hartnell,,Susan Foreman,Barbara Wright,Ian Chesterton,,,,,,,,\r\n"
     ]
    }
   ],
   "source": [
    "!head data/Ultimate_Doctor_Who_resave.csv"
   ]
  },
  {
   "cell_type": "markdown",
   "metadata": {},
   "source": [
    "Looks like a CSV file.\n",
    "\n",
    "## `mongoimport`\n",
    "\n",
    "important parameters:\n",
    "\n",
    "    - `drop`, drops collection\n",
    "    - `db` and `collection` specify where the data should go.\n",
    "    - `headerline` indicates first line is a header\n",
    "    - `ignore blanks` empty values will not be created\n",
    "    - `file` where the data resides.\n",
    "   "
   ]
  },
  {
   "cell_type": "code",
   "execution_count": 35,
   "metadata": {},
   "outputs": [
    {
     "name": "stdout",
     "output_type": "stream",
     "text": [
      "2018-04-25T11:18:28.805+0000\tconnected to: localhost:27351\n",
      "2018-04-25T11:18:28.805+0000\tdropping: doctorwho.episodes\n",
      "2018-04-25T11:18:28.826+0000\timported 244 documents\n"
     ]
    }
   ],
   "source": [
    "!/usr/bin/mongoimport --port 27351 --drop --db doctorwho --collection episodes \\\n",
    "    --type csv --headerline --ignoreBlanks \\\n",
    "    --file data/Ultimate_Doctor_Who_resave.csv"
   ]
  },
  {
   "cell_type": "code",
   "execution_count": 36,
   "metadata": {
    "collapsed": true
   },
   "outputs": [],
   "source": [
    "# Open the imported database and collection\n",
    "episodes = dw_db.episodes"
   ]
  },
  {
   "cell_type": "code",
   "execution_count": 37,
   "metadata": {},
   "outputs": [
    {
     "data": {
      "text/plain": [
       "244"
      ]
     },
     "execution_count": 37,
     "metadata": {},
     "output_type": "execute_result"
    }
   ],
   "source": [
    "# see the size of the dataset\n",
    "episodes.find().count()"
   ]
  },
  {
   "cell_type": "code",
   "execution_count": 38,
   "metadata": {},
   "outputs": [
    {
     "data": {
      "text/plain": [
       "{'Companion 1': 'Susan Foreman',\n",
       " 'Companion 2': 'Barbara Wright',\n",
       " 'Companion 3': 'Ian Chesterton',\n",
       " 'Doctor': 'William Hartnell',\n",
       " 'Doctor Number': 1,\n",
       " 'No': {' of parts': 4},\n",
       " 'Pt': {' 1 air date': '11/26/63',\n",
       "  ' 1 viewers (in millons)': 4.4,\n",
       "  ' 2 air date': '11/30/63',\n",
       "  ' 3 air date': '12/7/63',\n",
       "  ' 4 air date': '12/14/63',\n",
       "  '2 viewers': 5.9,\n",
       "  '3 viewers': 6.9,\n",
       "  '4 viewers': 6.4},\n",
       " 'Season': 1,\n",
       " 'Story ID': 1,\n",
       " 'Title': 'An Unearthly Child',\n",
       " 'Type of Broadcast': 'Serial',\n",
       " 'Year': 1963,\n",
       " '_id': ObjectId('5ae064042efe9851395cc307')}"
      ]
     },
     "execution_count": 38,
     "metadata": {},
     "output_type": "execute_result"
    }
   ],
   "source": [
    "# look at a sample document\n",
    "episodes.find_one()"
   ]
  },
  {
   "cell_type": "markdown",
   "metadata": {},
   "source": [
    "_note that 'No. of parts' became_\n",
    "        \n",
    "        'No': {' of parts': 4}\n",
    "\n",
    "_this is due to the way mongoympost handles dots in the column name._"
   ]
  },
  {
   "cell_type": "markdown",
   "metadata": {},
   "source": [
    "## Cleaning the dataset.\n",
    "\n",
    "Collect the various companions into a list.  and delete the fields using `'$push'` and `'$unset'`\n",
    "\n",
    "`$push` adds an item to a list and creates one if it doesn't already exist."
   ]
  },
  {
   "cell_type": "code",
   "execution_count": 40,
   "metadata": {
    "collapsed": true
   },
   "outputs": [],
   "source": [
    "# iterate through all episodes\n",
    "for e in episodes.find():\n",
    "    # iterate through each key\n",
    "    for key in list(e.keys()):\n",
    "        # check if it is a companion key\n",
    "        if key.startswith('Companion '):\n",
    "            # update the information\n",
    "            episodes.update_one({'_id': e['_id']},\n",
    "                               {'$push': {'Companions': e[key]},\n",
    "                               '$unset': {key: 1}})"
   ]
  },
  {
   "cell_type": "code",
   "execution_count": 41,
   "metadata": {},
   "outputs": [
    {
     "data": {
      "text/plain": [
       "{'Companions': ['Barbara Wright', 'Ian Chesterton', 'Susan Foreman'],\n",
       " 'Doctor': 'William Hartnell',\n",
       " 'Doctor Number': 1,\n",
       " 'No': {' of parts': 4},\n",
       " 'Pt': {' 1 air date': '11/26/63',\n",
       "  ' 1 viewers (in millons)': 4.4,\n",
       "  ' 2 air date': '11/30/63',\n",
       "  ' 3 air date': '12/7/63',\n",
       "  ' 4 air date': '12/14/63',\n",
       "  '2 viewers': 5.9,\n",
       "  '3 viewers': 6.9,\n",
       "  '4 viewers': 6.4},\n",
       " 'Season': 1,\n",
       " 'Story ID': 1,\n",
       " 'Title': 'An Unearthly Child',\n",
       " 'Type of Broadcast': 'Serial',\n",
       " 'Year': 1963,\n",
       " '_id': ObjectId('5ae064042efe9851395cc307')}"
      ]
     },
     "execution_count": 41,
     "metadata": {},
     "output_type": "execute_result"
    }
   ],
   "source": [
    "episodes.find_one()"
   ]
  },
  {
   "cell_type": "code",
   "execution_count": null,
   "metadata": {
    "collapsed": true
   },
   "outputs": [],
   "source": []
  }
 ],
 "metadata": {
  "kernelspec": {
   "display_name": "Python 3",
   "language": "python",
   "name": "python3"
  },
  "language_info": {
   "codemirror_mode": {
    "name": "ipython",
    "version": 3
   },
   "file_extension": ".py",
   "mimetype": "text/x-python",
   "name": "python",
   "nbconvert_exporter": "python",
   "pygments_lexer": "ipython3",
   "version": "3.5.2"
  }
 },
 "nbformat": 4,
 "nbformat_minor": 2
}
