{
 "cells": [
  {
   "cell_type": "code",
   "execution_count": 1,
   "metadata": {
    "collapsed": true
   },
   "outputs": [],
   "source": [
    "# Import the required libraries\n",
    "\n",
    "import pymongo\n",
    "import datetime\n",
    "import collections\n",
    "\n",
    "import pandas as pd\n",
    "import scipy.stats"
   ]
  },
  {
   "cell_type": "code",
   "execution_count": 2,
   "metadata": {
    "collapsed": true
   },
   "outputs": [],
   "source": [
    "# Open a connection to the Mongo server, open the accidents database and name the collections of accidents and labels\n",
    "client = pymongo.MongoClient('mongodb://localhost:27351/')\n",
    "\n",
    "db = client.accidents\n",
    "accidents = db.accidents\n",
    "labels = db.labels"
   ]
  },
  {
   "cell_type": "code",
   "execution_count": 3,
   "metadata": {
    "collapsed": true
   },
   "outputs": [],
   "source": [
    "# Load the expanded names of keys and human-readable codes into memory\n",
    "\n",
    "expanded_name = collections.defaultdict(str)\n",
    "for e in labels.find({'expanded': {\"$exists\": True}}):\n",
    "    expanded_name[e['label']] = e['expanded']\n",
    "    \n",
    "label_of = collections.defaultdict(str)\n",
    "for l in labels.find({'codes': {\"$exists\": True}}):\n",
    "    for c in l['codes']:\n",
    "        try:\n",
    "            label_of[l['label'], int(c)] = l['codes'][c]\n",
    "        except ValueError: \n",
    "            label_of[l['label'], c] = l['codes'][c]"
   ]
  },
  {
   "cell_type": "markdown",
   "metadata": {},
   "source": [
    "# Activity 1"
   ]
  },
  {
   "cell_type": "code",
   "execution_count": null,
   "metadata": {
    "collapsed": true
   },
   "outputs": [],
   "source": [
    "big_accidents = [a for a in accidents.find({'Number_of_Casualties': {'$gt': 8}}, \n",
    "                                           ['Accident_Index', \n",
    "                                            'Number_of_Casualties', 'Number_of_Vehicles', \n",
    "                                            'Vehicles.Vehicle_Type', 'Vehicles.Vehicle_Reference', \n",
    "                                            'Casualties.Vehicle_Reference'])]\n",
    "len(big_accidents)"
   ]
  },
  {
   "cell_type": "code",
   "execution_count": null,
   "metadata": {
    "collapsed": true
   },
   "outputs": [],
   "source": [
    "big_accidents"
   ]
  },
  {
   "cell_type": "code",
   "execution_count": null,
   "metadata": {
    "collapsed": true
   },
   "outputs": [],
   "source": [
    "for a in big_accidents:\n",
    "    print('Acc index {}; {} casualties, {} vehicles'.format(a['Accident_Index'], \n",
    "                                                            a['Number_of_Casualties'], \n",
    "                                                            a['Number_of_Vehicles']))\n",
    "    for v in a['Vehicles']:\n",
    "        print('\\t{}: {} casualties'.format(label_of[('Vehicle_Type', v['Vehicle_Type'])].split()[0],\n",
    "                                           len([c \n",
    "                                                for c in a['Casualties'] \n",
    "                                                if c['Vehicle_Reference'] == v['Vehicle_Reference']])\n",
    "                                           ))"
   ]
  },
  {
   "cell_type": "markdown",
   "metadata": {},
   "source": [
    "Many of these involve buses and minibuses, which explains why the accidents with the most casualties have few vehicles: they're all the passengers on a bus."
   ]
  },
  {
   "cell_type": "markdown",
   "metadata": {},
   "source": [
    "# Activity 2"
   ]
  },
  {
   "cell_type": "code",
   "execution_count": 4,
   "metadata": {},
   "outputs": [
    {
     "data": {
      "text/plain": [
       "[(5, 'Motorcycle over 500cc'),\n",
       " (16, 'Ridden horse'),\n",
       " (2, 'Motorcycle 50cc and under'),\n",
       " (97, 'Motorcycle - unknown cc'),\n",
       " (11, 'Bus or coach (17 or more pass seats)'),\n",
       " (103, 'Motorcycle - Scooter'),\n",
       " (106, 'Motorcycle over 125cc'),\n",
       " (22, 'Mobility scooter'),\n",
       " (19, 'Van / Goods 3.5 tonnes mgw or under'),\n",
       " (104, 'Motorcycle'),\n",
       " (20, 'Goods over 3.5t. and under 7.5t'),\n",
       " (90, 'Other vehicle'),\n",
       " (17, 'Agricultural vehicle'),\n",
       " (110, 'Minibus/Motor caravan'),\n",
       " (3, 'Motorcycle 125cc and under'),\n",
       " (9, 'Car'),\n",
       " (4, 'Motorcycle over 125cc and up to 500cc'),\n",
       " (23, 'Electric motorcycle'),\n",
       " (108, 'Taxi (excluding private hire cars)'),\n",
       " (8, 'Taxi/Private hire car'),\n",
       " (1, 'Pedal cycle'),\n",
       " (10, 'Minibus (8 - 16 passenger seats)'),\n",
       " (105, 'Motorcycle - Combination'),\n",
       " (109, 'Car (including private hire cars)'),\n",
       " (21, 'Goods 7.5 tonnes mgw and over'),\n",
       " (98, 'Goods vehicle - unknown weight'),\n",
       " (-1, 'Data missing or out of range'),\n",
       " (18, 'Tram'),\n",
       " (113, 'Goods vehicle over 3.5 tonnes')]"
      ]
     },
     "execution_count": 4,
     "metadata": {},
     "output_type": "execute_result"
    }
   ],
   "source": [
    "# What are the vehicle types?\n",
    "[(code, label_of[(key, code)]) for key, code in label_of if key == 'Vehicle_Type']"
   ]
  },
  {
   "cell_type": "code",
   "execution_count": 5,
   "metadata": {},
   "outputs": [
    {
     "data": {
      "text/plain": [
       "6941"
      ]
     },
     "execution_count": 5,
     "metadata": {},
     "output_type": "execute_result"
    }
   ],
   "source": [
    "# Build a DataFrame, one row for each accident\n",
    "coach_unrolled_df = pd.DataFrame(list(accidents.find({'Vehicles.Vehicle_Type': {'$in': [10, 11]}}, \n",
    "                                                       ['Number_of_Casualties', 'Number_of_Vehicles'])))\n",
    "len(coach_unrolled_df)"
   ]
  },
  {
   "cell_type": "code",
   "execution_count": 6,
   "metadata": {},
   "outputs": [
    {
     "data": {
      "text/plain": [
       "138630"
      ]
     },
     "execution_count": 6,
     "metadata": {},
     "output_type": "execute_result"
    }
   ],
   "source": [
    "# Build a DataFrame, one row for each accident\n",
    "non_coach_unrolled_df = pd.DataFrame(list(accidents.find({'Vehicles.Vehicle_Type': {'$not': {'$in': [10, 11]}}}, \n",
    "                                                       ['Number_of_Casualties', 'Number_of_Vehicles'])))\n",
    "len(non_coach_unrolled_df)"
   ]
  },
  {
   "cell_type": "markdown",
   "metadata": {},
   "source": [
    "Check we've got them all ..."
   ]
  },
  {
   "cell_type": "code",
   "execution_count": 7,
   "metadata": {},
   "outputs": [
    {
     "data": {
      "text/plain": [
       "True"
      ]
     },
     "execution_count": 7,
     "metadata": {},
     "output_type": "execute_result"
    }
   ],
   "source": [
    "len(coach_unrolled_df) + len(non_coach_unrolled_df) == accidents.find().count()"
   ]
  },
  {
   "cell_type": "markdown",
   "metadata": {},
   "source": [
    "### Find the regression for non-coach accidents"
   ]
  },
  {
   "cell_type": "code",
   "execution_count": 8,
   "metadata": {
    "scrolled": true
   },
   "outputs": [
    {
     "data": {
      "text/html": [
       "<div>\n",
       "<style>\n",
       "    .dataframe thead tr:only-child th {\n",
       "        text-align: right;\n",
       "    }\n",
       "\n",
       "    .dataframe thead th {\n",
       "        text-align: left;\n",
       "    }\n",
       "\n",
       "    .dataframe tbody tr th {\n",
       "        vertical-align: top;\n",
       "    }\n",
       "</style>\n",
       "<table border=\"1\" class=\"dataframe\">\n",
       "  <thead>\n",
       "    <tr style=\"text-align: right;\">\n",
       "      <th>Number_of_Vehicles</th>\n",
       "      <th>1</th>\n",
       "      <th>2</th>\n",
       "      <th>3</th>\n",
       "      <th>4</th>\n",
       "      <th>5</th>\n",
       "      <th>6</th>\n",
       "      <th>7</th>\n",
       "      <th>11</th>\n",
       "    </tr>\n",
       "    <tr>\n",
       "      <th>Number_of_Casualties</th>\n",
       "      <th></th>\n",
       "      <th></th>\n",
       "      <th></th>\n",
       "      <th></th>\n",
       "      <th></th>\n",
       "      <th></th>\n",
       "      <th></th>\n",
       "      <th></th>\n",
       "    </tr>\n",
       "  </thead>\n",
       "  <tbody>\n",
       "    <tr>\n",
       "      <th>1</th>\n",
       "      <td>2949</td>\n",
       "      <td>2228</td>\n",
       "      <td>234</td>\n",
       "      <td>32</td>\n",
       "      <td>4</td>\n",
       "      <td>3</td>\n",
       "      <td>1</td>\n",
       "      <td>1</td>\n",
       "    </tr>\n",
       "    <tr>\n",
       "      <th>2</th>\n",
       "      <td>204</td>\n",
       "      <td>530</td>\n",
       "      <td>98</td>\n",
       "      <td>15</td>\n",
       "      <td>6</td>\n",
       "      <td>2</td>\n",
       "      <td>0</td>\n",
       "      <td>0</td>\n",
       "    </tr>\n",
       "    <tr>\n",
       "      <th>3</th>\n",
       "      <td>51</td>\n",
       "      <td>205</td>\n",
       "      <td>36</td>\n",
       "      <td>13</td>\n",
       "      <td>3</td>\n",
       "      <td>1</td>\n",
       "      <td>1</td>\n",
       "      <td>1</td>\n",
       "    </tr>\n",
       "    <tr>\n",
       "      <th>4</th>\n",
       "      <td>22</td>\n",
       "      <td>86</td>\n",
       "      <td>16</td>\n",
       "      <td>9</td>\n",
       "      <td>0</td>\n",
       "      <td>1</td>\n",
       "      <td>0</td>\n",
       "      <td>0</td>\n",
       "    </tr>\n",
       "    <tr>\n",
       "      <th>5</th>\n",
       "      <td>7</td>\n",
       "      <td>54</td>\n",
       "      <td>5</td>\n",
       "      <td>0</td>\n",
       "      <td>1</td>\n",
       "      <td>0</td>\n",
       "      <td>1</td>\n",
       "      <td>0</td>\n",
       "    </tr>\n",
       "    <tr>\n",
       "      <th>6</th>\n",
       "      <td>6</td>\n",
       "      <td>31</td>\n",
       "      <td>4</td>\n",
       "      <td>2</td>\n",
       "      <td>1</td>\n",
       "      <td>0</td>\n",
       "      <td>0</td>\n",
       "      <td>0</td>\n",
       "    </tr>\n",
       "    <tr>\n",
       "      <th>7</th>\n",
       "      <td>3</td>\n",
       "      <td>17</td>\n",
       "      <td>0</td>\n",
       "      <td>2</td>\n",
       "      <td>0</td>\n",
       "      <td>0</td>\n",
       "      <td>0</td>\n",
       "      <td>0</td>\n",
       "    </tr>\n",
       "    <tr>\n",
       "      <th>8</th>\n",
       "      <td>4</td>\n",
       "      <td>9</td>\n",
       "      <td>3</td>\n",
       "      <td>1</td>\n",
       "      <td>0</td>\n",
       "      <td>0</td>\n",
       "      <td>0</td>\n",
       "      <td>0</td>\n",
       "    </tr>\n",
       "    <tr>\n",
       "      <th>9</th>\n",
       "      <td>1</td>\n",
       "      <td>7</td>\n",
       "      <td>2</td>\n",
       "      <td>0</td>\n",
       "      <td>0</td>\n",
       "      <td>0</td>\n",
       "      <td>0</td>\n",
       "      <td>0</td>\n",
       "    </tr>\n",
       "    <tr>\n",
       "      <th>10</th>\n",
       "      <td>0</td>\n",
       "      <td>5</td>\n",
       "      <td>1</td>\n",
       "      <td>0</td>\n",
       "      <td>0</td>\n",
       "      <td>0</td>\n",
       "      <td>0</td>\n",
       "      <td>0</td>\n",
       "    </tr>\n",
       "    <tr>\n",
       "      <th>11</th>\n",
       "      <td>0</td>\n",
       "      <td>3</td>\n",
       "      <td>0</td>\n",
       "      <td>0</td>\n",
       "      <td>0</td>\n",
       "      <td>0</td>\n",
       "      <td>0</td>\n",
       "      <td>0</td>\n",
       "    </tr>\n",
       "    <tr>\n",
       "      <th>12</th>\n",
       "      <td>1</td>\n",
       "      <td>1</td>\n",
       "      <td>1</td>\n",
       "      <td>0</td>\n",
       "      <td>0</td>\n",
       "      <td>0</td>\n",
       "      <td>0</td>\n",
       "      <td>0</td>\n",
       "    </tr>\n",
       "    <tr>\n",
       "      <th>13</th>\n",
       "      <td>1</td>\n",
       "      <td>2</td>\n",
       "      <td>0</td>\n",
       "      <td>1</td>\n",
       "      <td>0</td>\n",
       "      <td>0</td>\n",
       "      <td>0</td>\n",
       "      <td>0</td>\n",
       "    </tr>\n",
       "    <tr>\n",
       "      <th>14</th>\n",
       "      <td>1</td>\n",
       "      <td>0</td>\n",
       "      <td>0</td>\n",
       "      <td>0</td>\n",
       "      <td>0</td>\n",
       "      <td>0</td>\n",
       "      <td>0</td>\n",
       "      <td>0</td>\n",
       "    </tr>\n",
       "    <tr>\n",
       "      <th>15</th>\n",
       "      <td>0</td>\n",
       "      <td>1</td>\n",
       "      <td>1</td>\n",
       "      <td>0</td>\n",
       "      <td>0</td>\n",
       "      <td>0</td>\n",
       "      <td>0</td>\n",
       "      <td>0</td>\n",
       "    </tr>\n",
       "    <tr>\n",
       "      <th>16</th>\n",
       "      <td>1</td>\n",
       "      <td>0</td>\n",
       "      <td>1</td>\n",
       "      <td>0</td>\n",
       "      <td>0</td>\n",
       "      <td>0</td>\n",
       "      <td>0</td>\n",
       "      <td>0</td>\n",
       "    </tr>\n",
       "    <tr>\n",
       "      <th>17</th>\n",
       "      <td>0</td>\n",
       "      <td>1</td>\n",
       "      <td>0</td>\n",
       "      <td>0</td>\n",
       "      <td>0</td>\n",
       "      <td>0</td>\n",
       "      <td>0</td>\n",
       "      <td>0</td>\n",
       "    </tr>\n",
       "    <tr>\n",
       "      <th>19</th>\n",
       "      <td>0</td>\n",
       "      <td>1</td>\n",
       "      <td>0</td>\n",
       "      <td>0</td>\n",
       "      <td>0</td>\n",
       "      <td>0</td>\n",
       "      <td>0</td>\n",
       "      <td>0</td>\n",
       "    </tr>\n",
       "    <tr>\n",
       "      <th>25</th>\n",
       "      <td>0</td>\n",
       "      <td>2</td>\n",
       "      <td>0</td>\n",
       "      <td>0</td>\n",
       "      <td>0</td>\n",
       "      <td>0</td>\n",
       "      <td>0</td>\n",
       "      <td>0</td>\n",
       "    </tr>\n",
       "    <tr>\n",
       "      <th>33</th>\n",
       "      <td>0</td>\n",
       "      <td>1</td>\n",
       "      <td>0</td>\n",
       "      <td>0</td>\n",
       "      <td>0</td>\n",
       "      <td>0</td>\n",
       "      <td>0</td>\n",
       "      <td>0</td>\n",
       "    </tr>\n",
       "    <tr>\n",
       "      <th>38</th>\n",
       "      <td>0</td>\n",
       "      <td>0</td>\n",
       "      <td>0</td>\n",
       "      <td>1</td>\n",
       "      <td>0</td>\n",
       "      <td>0</td>\n",
       "      <td>0</td>\n",
       "      <td>0</td>\n",
       "    </tr>\n",
       "    <tr>\n",
       "      <th>42</th>\n",
       "      <td>0</td>\n",
       "      <td>1</td>\n",
       "      <td>0</td>\n",
       "      <td>0</td>\n",
       "      <td>0</td>\n",
       "      <td>0</td>\n",
       "      <td>0</td>\n",
       "      <td>0</td>\n",
       "    </tr>\n",
       "  </tbody>\n",
       "</table>\n",
       "</div>"
      ],
      "text/plain": [
       "Number_of_Vehicles      1     2    3   4   5   6   7   11\n",
       "Number_of_Casualties                                     \n",
       "1                     2949  2228  234  32   4   3   1   1\n",
       "2                      204   530   98  15   6   2   0   0\n",
       "3                       51   205   36  13   3   1   1   1\n",
       "4                       22    86   16   9   0   1   0   0\n",
       "5                        7    54    5   0   1   0   1   0\n",
       "6                        6    31    4   2   1   0   0   0\n",
       "7                        3    17    0   2   0   0   0   0\n",
       "8                        4     9    3   1   0   0   0   0\n",
       "9                        1     7    2   0   0   0   0   0\n",
       "10                       0     5    1   0   0   0   0   0\n",
       "11                       0     3    0   0   0   0   0   0\n",
       "12                       1     1    1   0   0   0   0   0\n",
       "13                       1     2    0   1   0   0   0   0\n",
       "14                       1     0    0   0   0   0   0   0\n",
       "15                       0     1    1   0   0   0   0   0\n",
       "16                       1     0    1   0   0   0   0   0\n",
       "17                       0     1    0   0   0   0   0   0\n",
       "19                       0     1    0   0   0   0   0   0\n",
       "25                       0     2    0   0   0   0   0   0\n",
       "33                       0     1    0   0   0   0   0   0\n",
       "38                       0     0    0   1   0   0   0   0\n",
       "42                       0     1    0   0   0   0   0   0"
      ]
     },
     "execution_count": 8,
     "metadata": {},
     "output_type": "execute_result"
    }
   ],
   "source": [
    "# Count the number of each severity\n",
    "coach_df = pd.crosstab(coach_unrolled_df['Number_of_Casualties'], \n",
    "                                      coach_unrolled_df['Number_of_Vehicles'])\n",
    "coach_df"
   ]
  },
  {
   "cell_type": "code",
   "execution_count": 9,
   "metadata": {},
   "outputs": [
    {
     "data": {
      "text/plain": [
       "(0.094595873483424742, 1.4894575649255768)"
      ]
     },
     "execution_count": 9,
     "metadata": {},
     "output_type": "execute_result"
    }
   ],
   "source": [
    "coach_regressionline = scipy.stats.linregress(coach_unrolled_df['Number_of_Casualties'],\n",
    "                                       coach_unrolled_df['Number_of_Vehicles'])\n",
    "\n",
    "# The regression line is of the form y = m x + b\n",
    "coach_m = coach_regressionline[0]\n",
    "coach_b = coach_regressionline[1]\n",
    "(coach_m, coach_b)"
   ]
  },
  {
   "cell_type": "code",
   "execution_count": 10,
   "metadata": {},
   "outputs": [
    {
     "data": {
      "image/png": "[encoded data removed]",
      "text/plain": [
       "<matplotlib.figure.Figure at 0x7f5d08abf710>"
      ]
     },
     "metadata": {},
     "output_type": "display_data"
    }
   ],
   "source": [
    "# Reshape\n",
    "coach_long_df = coach_df.stack().reset_index()\n",
    "coach_long_df\n",
    "\n",
    "plt.scatter(coach_long_df['Number_of_Casualties'], \n",
    "            coach_long_df['Number_of_Vehicles'],\n",
    "            s=np.sqrt(coach_long_df[0])*1.5,\n",
    "            alpha=0.5\n",
    "            )\n",
    "\n",
    "x = np.linspace(0, 30, 20)\n",
    "plt.plot(x, coach_m*x + coach_b)\n",
    "\n",
    "plt.xlabel('Number of casualties')\n",
    "plt.ylabel('Number of vehicles')\n",
    "plt.show()"
   ]
  },
  {
   "cell_type": "code",
   "execution_count": 11,
   "metadata": {},
   "outputs": [
    {
     "data": {
      "text/plain": [
       "(0.19583731511182584, 5.7796300309005693e-61)"
      ]
     },
     "execution_count": 11,
     "metadata": {},
     "output_type": "execute_result"
    }
   ],
   "source": [
    "scipy.stats.pearsonr(coach_unrolled_df['Number_of_Casualties'], \n",
    "                     coach_unrolled_df['Number_of_Vehicles'])"
   ]
  },
  {
   "cell_type": "markdown",
   "metadata": {},
   "source": [
    "This shows very little correlation, and the extremely small *p* value means we can reject the null hypothesis that the number of casualties is independent of the number of vehicles. In other words, there's small but real correlation: more vehicles leads to more casualties."
   ]
  },
  {
   "cell_type": "markdown",
   "metadata": {},
   "source": [
    "### Find the regression for coach accidents"
   ]
  },
  {
   "cell_type": "code",
   "execution_count": 12,
   "metadata": {},
   "outputs": [
    {
     "data": {
      "text/html": [
       "<div>\n",
       "<style>\n",
       "    .dataframe thead tr:only-child th {\n",
       "        text-align: right;\n",
       "    }\n",
       "\n",
       "    .dataframe thead th {\n",
       "        text-align: left;\n",
       "    }\n",
       "\n",
       "    .dataframe tbody tr th {\n",
       "        vertical-align: top;\n",
       "    }\n",
       "</style>\n",
       "<table border=\"1\" class=\"dataframe\">\n",
       "  <thead>\n",
       "    <tr style=\"text-align: right;\">\n",
       "      <th>Number_of_Vehicles</th>\n",
       "      <th>1</th>\n",
       "      <th>2</th>\n",
       "      <th>3</th>\n",
       "      <th>4</th>\n",
       "      <th>5</th>\n",
       "      <th>6</th>\n",
       "      <th>7</th>\n",
       "      <th>8</th>\n",
       "      <th>9</th>\n",
       "      <th>10</th>\n",
       "      <th>12</th>\n",
       "      <th>13</th>\n",
       "      <th>16</th>\n",
       "      <th>18</th>\n",
       "    </tr>\n",
       "    <tr>\n",
       "      <th>Number_of_Casualties</th>\n",
       "      <th></th>\n",
       "      <th></th>\n",
       "      <th></th>\n",
       "      <th></th>\n",
       "      <th></th>\n",
       "      <th></th>\n",
       "      <th></th>\n",
       "      <th></th>\n",
       "      <th></th>\n",
       "      <th></th>\n",
       "      <th></th>\n",
       "      <th></th>\n",
       "      <th></th>\n",
       "      <th></th>\n",
       "    </tr>\n",
       "  </thead>\n",
       "  <tbody>\n",
       "    <tr>\n",
       "      <th>1</th>\n",
       "      <td>36268</td>\n",
       "      <td>63452</td>\n",
       "      <td>5934</td>\n",
       "      <td>1024</td>\n",
       "      <td>193</td>\n",
       "      <td>73</td>\n",
       "      <td>26</td>\n",
       "      <td>4</td>\n",
       "      <td>1</td>\n",
       "      <td>1</td>\n",
       "      <td>0</td>\n",
       "      <td>0</td>\n",
       "      <td>0</td>\n",
       "      <td>0</td>\n",
       "    </tr>\n",
       "    <tr>\n",
       "      <th>2</th>\n",
       "      <td>3577</td>\n",
       "      <td>14505</td>\n",
       "      <td>2904</td>\n",
       "      <td>701</td>\n",
       "      <td>122</td>\n",
       "      <td>39</td>\n",
       "      <td>14</td>\n",
       "      <td>4</td>\n",
       "      <td>6</td>\n",
       "      <td>3</td>\n",
       "      <td>1</td>\n",
       "      <td>0</td>\n",
       "      <td>1</td>\n",
       "      <td>0</td>\n",
       "    </tr>\n",
       "    <tr>\n",
       "      <th>3</th>\n",
       "      <td>631</td>\n",
       "      <td>3981</td>\n",
       "      <td>1167</td>\n",
       "      <td>306</td>\n",
       "      <td>70</td>\n",
       "      <td>24</td>\n",
       "      <td>11</td>\n",
       "      <td>6</td>\n",
       "      <td>2</td>\n",
       "      <td>0</td>\n",
       "      <td>0</td>\n",
       "      <td>0</td>\n",
       "      <td>0</td>\n",
       "      <td>0</td>\n",
       "    </tr>\n",
       "    <tr>\n",
       "      <th>4</th>\n",
       "      <td>265</td>\n",
       "      <td>1354</td>\n",
       "      <td>465</td>\n",
       "      <td>157</td>\n",
       "      <td>48</td>\n",
       "      <td>10</td>\n",
       "      <td>2</td>\n",
       "      <td>3</td>\n",
       "      <td>2</td>\n",
       "      <td>0</td>\n",
       "      <td>0</td>\n",
       "      <td>1</td>\n",
       "      <td>0</td>\n",
       "      <td>1</td>\n",
       "    </tr>\n",
       "    <tr>\n",
       "      <th>5</th>\n",
       "      <td>72</td>\n",
       "      <td>467</td>\n",
       "      <td>164</td>\n",
       "      <td>63</td>\n",
       "      <td>28</td>\n",
       "      <td>10</td>\n",
       "      <td>5</td>\n",
       "      <td>1</td>\n",
       "      <td>1</td>\n",
       "      <td>0</td>\n",
       "      <td>0</td>\n",
       "      <td>0</td>\n",
       "      <td>0</td>\n",
       "      <td>0</td>\n",
       "    </tr>\n",
       "    <tr>\n",
       "      <th>6</th>\n",
       "      <td>16</td>\n",
       "      <td>152</td>\n",
       "      <td>68</td>\n",
       "      <td>44</td>\n",
       "      <td>12</td>\n",
       "      <td>4</td>\n",
       "      <td>7</td>\n",
       "      <td>1</td>\n",
       "      <td>0</td>\n",
       "      <td>0</td>\n",
       "      <td>0</td>\n",
       "      <td>0</td>\n",
       "      <td>0</td>\n",
       "      <td>0</td>\n",
       "    </tr>\n",
       "    <tr>\n",
       "      <th>7</th>\n",
       "      <td>4</td>\n",
       "      <td>35</td>\n",
       "      <td>28</td>\n",
       "      <td>10</td>\n",
       "      <td>7</td>\n",
       "      <td>2</td>\n",
       "      <td>1</td>\n",
       "      <td>2</td>\n",
       "      <td>0</td>\n",
       "      <td>0</td>\n",
       "      <td>0</td>\n",
       "      <td>0</td>\n",
       "      <td>0</td>\n",
       "      <td>0</td>\n",
       "    </tr>\n",
       "    <tr>\n",
       "      <th>8</th>\n",
       "      <td>1</td>\n",
       "      <td>15</td>\n",
       "      <td>9</td>\n",
       "      <td>8</td>\n",
       "      <td>3</td>\n",
       "      <td>2</td>\n",
       "      <td>0</td>\n",
       "      <td>0</td>\n",
       "      <td>0</td>\n",
       "      <td>1</td>\n",
       "      <td>0</td>\n",
       "      <td>0</td>\n",
       "      <td>0</td>\n",
       "      <td>0</td>\n",
       "    </tr>\n",
       "    <tr>\n",
       "      <th>9</th>\n",
       "      <td>1</td>\n",
       "      <td>4</td>\n",
       "      <td>3</td>\n",
       "      <td>1</td>\n",
       "      <td>2</td>\n",
       "      <td>0</td>\n",
       "      <td>0</td>\n",
       "      <td>0</td>\n",
       "      <td>0</td>\n",
       "      <td>0</td>\n",
       "      <td>0</td>\n",
       "      <td>0</td>\n",
       "      <td>0</td>\n",
       "      <td>0</td>\n",
       "    </tr>\n",
       "    <tr>\n",
       "      <th>10</th>\n",
       "      <td>0</td>\n",
       "      <td>2</td>\n",
       "      <td>2</td>\n",
       "      <td>0</td>\n",
       "      <td>3</td>\n",
       "      <td>0</td>\n",
       "      <td>0</td>\n",
       "      <td>0</td>\n",
       "      <td>0</td>\n",
       "      <td>0</td>\n",
       "      <td>0</td>\n",
       "      <td>0</td>\n",
       "      <td>0</td>\n",
       "      <td>0</td>\n",
       "    </tr>\n",
       "    <tr>\n",
       "      <th>11</th>\n",
       "      <td>0</td>\n",
       "      <td>0</td>\n",
       "      <td>1</td>\n",
       "      <td>4</td>\n",
       "      <td>0</td>\n",
       "      <td>0</td>\n",
       "      <td>0</td>\n",
       "      <td>1</td>\n",
       "      <td>2</td>\n",
       "      <td>0</td>\n",
       "      <td>0</td>\n",
       "      <td>0</td>\n",
       "      <td>0</td>\n",
       "      <td>0</td>\n",
       "    </tr>\n",
       "    <tr>\n",
       "      <th>12</th>\n",
       "      <td>0</td>\n",
       "      <td>0</td>\n",
       "      <td>0</td>\n",
       "      <td>0</td>\n",
       "      <td>0</td>\n",
       "      <td>0</td>\n",
       "      <td>1</td>\n",
       "      <td>0</td>\n",
       "      <td>0</td>\n",
       "      <td>0</td>\n",
       "      <td>0</td>\n",
       "      <td>0</td>\n",
       "      <td>0</td>\n",
       "      <td>0</td>\n",
       "    </tr>\n",
       "    <tr>\n",
       "      <th>13</th>\n",
       "      <td>0</td>\n",
       "      <td>0</td>\n",
       "      <td>0</td>\n",
       "      <td>0</td>\n",
       "      <td>0</td>\n",
       "      <td>1</td>\n",
       "      <td>0</td>\n",
       "      <td>0</td>\n",
       "      <td>0</td>\n",
       "      <td>0</td>\n",
       "      <td>0</td>\n",
       "      <td>0</td>\n",
       "      <td>0</td>\n",
       "      <td>0</td>\n",
       "    </tr>\n",
       "  </tbody>\n",
       "</table>\n",
       "</div>"
      ],
      "text/plain": [
       "Number_of_Vehicles       1      2     3     4    5   6   7   8   9   10  12  \\\n",
       "Number_of_Casualties                                                          \n",
       "1                     36268  63452  5934  1024  193  73  26   4   1   1   0   \n",
       "2                      3577  14505  2904   701  122  39  14   4   6   3   1   \n",
       "3                       631   3981  1167   306   70  24  11   6   2   0   0   \n",
       "4                       265   1354   465   157   48  10   2   3   2   0   0   \n",
       "5                        72    467   164    63   28  10   5   1   1   0   0   \n",
       "6                        16    152    68    44   12   4   7   1   0   0   0   \n",
       "7                         4     35    28    10    7   2   1   2   0   0   0   \n",
       "8                         1     15     9     8    3   2   0   0   0   1   0   \n",
       "9                         1      4     3     1    2   0   0   0   0   0   0   \n",
       "10                        0      2     2     0    3   0   0   0   0   0   0   \n",
       "11                        0      0     1     4    0   0   0   1   2   0   0   \n",
       "12                        0      0     0     0    0   0   1   0   0   0   0   \n",
       "13                        0      0     0     0    0   1   0   0   0   0   0   \n",
       "\n",
       "Number_of_Vehicles    13  16  18  \n",
       "Number_of_Casualties              \n",
       "1                      0   0   0  \n",
       "2                      0   1   0  \n",
       "3                      0   0   0  \n",
       "4                      1   0   1  \n",
       "5                      0   0   0  \n",
       "6                      0   0   0  \n",
       "7                      0   0   0  \n",
       "8                      0   0   0  \n",
       "9                      0   0   0  \n",
       "10                     0   0   0  \n",
       "11                     0   0   0  \n",
       "12                     0   0   0  \n",
       "13                     0   0   0  "
      ]
     },
     "execution_count": 12,
     "metadata": {},
     "output_type": "execute_result"
    }
   ],
   "source": [
    "# Count the number of each severity\n",
    "non_coach_df = pd.crosstab(non_coach_unrolled_df['Number_of_Casualties'], \n",
    "                                      non_coach_unrolled_df['Number_of_Vehicles'])\n",
    "non_coach_df"
   ]
  },
  {
   "cell_type": "code",
   "execution_count": 13,
   "metadata": {},
   "outputs": [
    {
     "data": {
      "text/plain": [
       "(0.23497413421215951, 1.5217671646486632)"
      ]
     },
     "execution_count": 13,
     "metadata": {},
     "output_type": "execute_result"
    }
   ],
   "source": [
    "non_coach_regressionline = scipy.stats.linregress(non_coach_unrolled_df['Number_of_Casualties'],\n",
    "                                       non_coach_unrolled_df['Number_of_Vehicles'])\n",
    "\n",
    "# The regression line is of the form y = m x + b\n",
    "non_coach_m = non_coach_regressionline[0]\n",
    "non_coach_b = non_coach_regressionline[1]\n",
    "(non_coach_m, non_coach_b)"
   ]
  },
  {
   "cell_type": "code",
   "execution_count": 14,
   "metadata": {},
   "outputs": [
    {
     "data": {
      "image/png": "[encoded data removed]",
      "text/plain": [
       "<matplotlib.figure.Figure at 0x7f5d08203d68>"
      ]
     },
     "metadata": {},
     "output_type": "display_data"
    }
   ],
   "source": [
    "# Reshape\n",
    "non_coach_long_df = non_coach_df.stack().reset_index()\n",
    "non_coach_long_df\n",
    "\n",
    "plt.scatter(non_coach_long_df['Number_of_Casualties'], \n",
    "            non_coach_long_df['Number_of_Vehicles'],\n",
    "            s=np.sqrt(non_coach_long_df[0])*1.5,\n",
    "            alpha=0.5\n",
    "            )\n",
    "\n",
    "x = np.linspace(0, 30, 20)\n",
    "plt.plot(x, non_coach_m*x + non_coach_b)\n",
    "\n",
    "plt.xlabel('Number of casualties')\n",
    "plt.ylabel('Number of vehicles')\n",
    "plt.show()"
   ]
  },
  {
   "cell_type": "code",
   "execution_count": 15,
   "metadata": {},
   "outputs": [
    {
     "data": {
      "text/plain": [
       "(0.25349866887053024, 0.0)"
      ]
     },
     "execution_count": 15,
     "metadata": {},
     "output_type": "execute_result"
    }
   ],
   "source": [
    "scipy.stats.pearsonr(non_coach_unrolled_df['Number_of_Casualties'], \n",
    "                     non_coach_unrolled_df['Number_of_Vehicles'])"
   ]
  },
  {
   "cell_type": "markdown",
   "metadata": {},
   "source": [
    "This shows even less correlation than the case for non-coach accidents. Again, the very small *p* value means we can reject the null hypothesis that the number of casualties is independent of the number of vehicles. In other words, there's a slight, but real, correlation, between the number of vehicles and the number of accidents."
   ]
  }
 ],
 "metadata": {
  "kernelspec": {
   "display_name": "Python 3",
   "language": "python",
   "name": "python3"
  },
  "language_info": {
   "codemirror_mode": {
    "name": "ipython",
    "version": 3
   },
   "file_extension": ".py",
   "mimetype": "text/x-python",
   "name": "python",
   "nbconvert_exporter": "python",
   "pygments_lexer": "ipython3",
   "version": "3.5.2"
  }
 },
 "nbformat": 4,
 "nbformat_minor": 1
}
