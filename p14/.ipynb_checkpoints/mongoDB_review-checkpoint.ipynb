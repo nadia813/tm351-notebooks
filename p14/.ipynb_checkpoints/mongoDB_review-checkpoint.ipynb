{
 "cells": [
  {
   "cell_type": "markdown",
   "metadata": {
    "heading_collapsed": true
   },
   "source": [
    "# MongoDB review"
   ]
  },
  {
   "cell_type": "markdown",
   "metadata": {
    "heading_collapsed": true
   },
   "source": [
    "# 14.1 - MongoDB basic CRUD"
   ]
  },
  {
   "cell_type": "code",
   "execution_count": null,
   "metadata": {
    "collapsed": true,
    "hidden": true
   },
   "outputs": [],
   "source": [
    "# import the required libraries\n",
    "\n",
    "import pymongo\n",
    "from datetime import datetime\n",
    "\n",
    "import pandas as pd"
   ]
  },
  {
   "cell_type": "code",
   "execution_count": null,
   "metadata": {
    "collapsed": true,
    "hidden": true
   },
   "outputs": [],
   "source": [
    "# Open a connection to tne Mongo server\n",
    "client = pymongo.MongoClient('mongodb://localhost:27351')"
   ]
  },
  {
   "cell_type": "code",
   "execution_count": null,
   "metadata": {
    "collapsed": true,
    "hidden": true
   },
   "outputs": [],
   "source": [
    "client"
   ]
  },
  {
   "cell_type": "code",
   "execution_count": null,
   "metadata": {
    "collapsed": true,
    "hidden": true
   },
   "outputs": [],
   "source": [
    "# remove the doctor who db if it already exists\n",
    "try:\n",
    "    client.drop_database('doctorwho')\n",
    "except NameError:\n",
    "    print(\"DB doesn't exist yet.\")"
   ]
  },
  {
   "cell_type": "code",
   "execution_count": null,
   "metadata": {
    "collapsed": true,
    "hidden": true
   },
   "outputs": [],
   "source": [
    "# Create a doctor who database akd a test_collection within it.\n",
    "dw_db = client.doctorwho\n",
    "tc = dw_db.test_collection\n"
   ]
  },
  {
   "cell_type": "markdown",
   "metadata": {
    "hidden": true
   },
   "source": [
    "## Create"
   ]
  },
  {
   "cell_type": "code",
   "execution_count": null,
   "metadata": {
    "collapsed": true,
    "hidden": true
   },
   "outputs": [],
   "source": [
    "# insert a single document\n",
    "tc.insert_one({'name':'William', 'birthyear': 1908})"
   ]
  },
  {
   "cell_type": "code",
   "execution_count": null,
   "metadata": {
    "collapsed": true,
    "hidden": true
   },
   "outputs": [],
   "source": [
    "tc.find_one()"
   ]
  },
  {
   "cell_type": "code",
   "execution_count": null,
   "metadata": {
    "collapsed": true,
    "hidden": true
   },
   "outputs": [],
   "source": [
    "# insert a few (zip takes some lists and returns a list of tuples)\n",
    "for n, b, c in zip('Patrick Jon Gom Peter Colin Sylvester Paul Christopher David Matt Peter'.split(),\n",
    "                  [1920, 1919, 1934, 1951, 1943, 1943, 1959, 1964, 1971, 1982, 1958],\n",
    "                  [1,2,3,4,5,6,7,8,9,10,11]):\n",
    "    tc.insert_one({'name': n, 'birthyear': b, 'c': c})"
   ]
  },
  {
   "cell_type": "markdown",
   "metadata": {
    "hidden": true
   },
   "source": [
    "## Read"
   ]
  },
  {
   "cell_type": "code",
   "execution_count": null,
   "metadata": {
    "collapsed": true,
    "hidden": true
   },
   "outputs": [],
   "source": [
    "tc.find_one()"
   ]
  },
  {
   "cell_type": "code",
   "execution_count": null,
   "metadata": {
    "collapsed": true,
    "hidden": true
   },
   "outputs": [],
   "source": [
    "tc.find_one({'name':'Peter'})"
   ]
  },
  {
   "cell_type": "code",
   "execution_count": null,
   "metadata": {
    "collapsed": true,
    "hidden": true
   },
   "outputs": [],
   "source": [
    "tc.find_one({'birthyear':1943})"
   ]
  },
  {
   "cell_type": "code",
   "execution_count": null,
   "metadata": {
    "collapsed": true,
    "hidden": true
   },
   "outputs": [],
   "source": [
    "# find() will find all the documents that match the query, \n",
    "# returning a cursor that can be iterated over\n",
    "tc.find({'name': 'Peter'})"
   ]
  },
  {
   "cell_type": "code",
   "execution_count": null,
   "metadata": {
    "collapsed": true,
    "hidden": true
   },
   "outputs": [],
   "source": [
    "# convert cursor to a list to make a list of dicts\n",
    "list(tc.find({'name': 'Peter'}))"
   ]
  },
  {
   "cell_type": "code",
   "execution_count": null,
   "metadata": {
    "collapsed": true,
    "hidden": true
   },
   "outputs": [],
   "source": [
    "# we can iterate directly over the cursor \n",
    "# but this is a one pass process\n",
    "cursor = tc.find({'name': 'Peter'})\n",
    "for p in cursor:\n",
    "    print(p)"
   ]
  },
  {
   "cell_type": "code",
   "execution_count": null,
   "metadata": {
    "collapsed": true,
    "hidden": true
   },
   "outputs": [],
   "source": [
    "# if we try to print again we get nothing as the cursor has\n",
    "# already been iterated over once\n",
    "for p in cursor:\n",
    "    print(p)"
   ]
  },
  {
   "cell_type": "markdown",
   "metadata": {
    "hidden": true
   },
   "source": [
    "### using the cursor to tell us how many documents match the query"
   ]
  },
  {
   "cell_type": "code",
   "execution_count": null,
   "metadata": {
    "collapsed": true,
    "hidden": true
   },
   "outputs": [],
   "source": [
    "q = {'name': 'Peter'}\n",
    "tc.find(q).count()"
   ]
  },
  {
   "cell_type": "code",
   "execution_count": null,
   "metadata": {
    "collapsed": true,
    "hidden": true
   },
   "outputs": [],
   "source": [
    "# Mongo projection\n",
    "for p in tc.find({'name': 'Peter'}, ['birthyear']):\n",
    "    print(p)"
   ]
  },
  {
   "cell_type": "markdown",
   "metadata": {
    "hidden": true
   },
   "source": [
    "`_id` is included by default.  we can adjust using include/exclude"
   ]
  },
  {
   "cell_type": "code",
   "execution_count": null,
   "metadata": {
    "collapsed": true,
    "hidden": true
   },
   "outputs": [],
   "source": [
    "for p in tc.find({'name': 'Peter'}, {'birthyear':1,'_id':0}):\n",
    "    print(p)"
   ]
  },
  {
   "cell_type": "markdown",
   "metadata": {
    "hidden": true
   },
   "source": [
    "### Limit the number of documents returned"
   ]
  },
  {
   "cell_type": "code",
   "execution_count": null,
   "metadata": {
    "collapsed": true,
    "hidden": true
   },
   "outputs": [],
   "source": [
    "for p in tc.find({'birthyear': {'$lt':1950}}, ['name','birthyear'], limit=3):\n",
    "    print(p['name'])"
   ]
  },
  {
   "cell_type": "markdown",
   "metadata": {
    "hidden": true
   },
   "source": [
    "## Reading into DataFrames\n"
   ]
  },
  {
   "cell_type": "code",
   "execution_count": null,
   "metadata": {
    "collapsed": true,
    "hidden": true
   },
   "outputs": [],
   "source": [
    "# we can create a DF from a list of Dicts\n",
    "# so via a cast we can create a DF using the results of a find() \n",
    "pd.DataFrame(list(tc.find({})))"
   ]
  },
  {
   "cell_type": "markdown",
   "metadata": {
    "hidden": true
   },
   "source": [
    "## Update"
   ]
  },
  {
   "cell_type": "markdown",
   "metadata": {
    "hidden": true
   },
   "source": [
    "adding a surname to one of the records\"\""
   ]
  },
  {
   "cell_type": "code",
   "execution_count": null,
   "metadata": {
    "collapsed": true,
    "hidden": true
   },
   "outputs": [],
   "source": [
    "patrick = tc.find_one({\"name\": \"Patrick\"})\n",
    "print(patrick)"
   ]
  },
  {
   "cell_type": "code",
   "execution_count": null,
   "metadata": {
    "collapsed": true,
    "hidden": true
   },
   "outputs": [],
   "source": [
    "result = tc.update_one({'name': 'Patrick'}, {'$set': {'surname': 'Trouton'}})\n",
    "# we can interrogate the result to see what effect the update had on the collection\n",
    "result.matched_count, result.modified_count"
   ]
  },
  {
   "cell_type": "markdown",
   "metadata": {
    "hidden": true
   },
   "source": [
    "(one document found, one document updated)."
   ]
  },
  {
   "cell_type": "code",
   "execution_count": null,
   "metadata": {
    "collapsed": true,
    "hidden": true
   },
   "outputs": [],
   "source": [
    "for p in tc.find({'name': 'Patrick'}):\n",
    "    print(p)"
   ]
  },
  {
   "cell_type": "code",
   "execution_count": null,
   "metadata": {
    "collapsed": true,
    "hidden": true
   },
   "outputs": [],
   "source": [
    "# Update many\n",
    "# set a new key:value for those doctors named Peter\n",
    "result = tc.update_many({'name': 'Peter'}, {'$set': {'multi_updated': True}})\n",
    "result.matched_count, result.modified_count"
   ]
  },
  {
   "cell_type": "code",
   "execution_count": null,
   "metadata": {
    "collapsed": true,
    "hidden": true
   },
   "outputs": [],
   "source": [
    "for p in tc.find():\n",
    "    print(p)"
   ]
  },
  {
   "cell_type": "code",
   "execution_count": null,
   "metadata": {
    "collapsed": true,
    "hidden": true
   },
   "outputs": [],
   "source": [
    "# remove the new value using the unset method (the value is ignored)\n",
    "tc.update_many({'name':'Peter'},{'$unset':{'multi_updated': ''}})\n",
    "for p in tc.find():\n",
    "    print(p)"
   ]
  },
  {
   "cell_type": "code",
   "execution_count": null,
   "metadata": {
    "collapsed": true,
    "hidden": true
   },
   "outputs": [],
   "source": [
    "# to make individual updates to each document, we can use the \n",
    "# documents `_id`\n",
    "\n",
    "import datetime\n",
    "for p in tc.find():\n",
    "    tc.update_one({'_id': p['_id']}, {'$set': {'age': datetime.datetime.now().year - p['birthyear']}})\n",
    "\n",
    "for p in tc.find():\n",
    "    print(p)"
   ]
  },
  {
   "cell_type": "markdown",
   "metadata": {
    "hidden": true
   },
   "source": [
    "## Activity 3\n",
    "Classify the people into 2 groups born in or before 1945 and those born after\n",
    "\n",
    "`'age': 'old'` and '`age':'young'`"
   ]
  },
  {
   "cell_type": "code",
   "execution_count": null,
   "metadata": {
    "collapsed": true,
    "hidden": true
   },
   "outputs": [],
   "source": [
    "tc.update_many({'birthyear': {'$lte': 1945}}, {'$set': {'age': 'old'}})\n",
    "tc.update_many({'birthyear': {'$gt': 1945}}, {'$set': {'age': 'young'}})\n",
    "\n",
    "for p in tc.find():\n",
    "    print(p)"
   ]
  },
  {
   "cell_type": "markdown",
   "metadata": {
    "collapsed": true,
    "hidden": true
   },
   "source": [
    "## Embedded Documents\n",
    "Values in documents can be themselves documents.  For instance, we can encapsulate each person's name in a subdocument."
   ]
  },
  {
   "cell_type": "code",
   "execution_count": null,
   "metadata": {
    "collapsed": true,
    "hidden": true
   },
   "outputs": [],
   "source": [
    "# delete the test collection data\n",
    "tc.drop()\n",
    "# insert a few doctors\n",
    "for f, s, b in zip('William Patrick Jon Tom Peter Colin Sylvester Paul Christopher David Matt Peter'.split(),\n",
    "                  'Hartnell Troughten Pertwee Baker McCoy McGann Eccleston Tennant Smith Capaldi'.split(),\n",
    "                  [1908, 1920, 1919, 1934, 1951, 1943, 1943, 1959, 1964, 1971, 1982, 1958]):\n",
    "    tc.insert_one({'name': {'forename': f, 'surname': s}, 'birthyear': b})\n",
    "for p in tc.find():\n",
    "    print(p)\n"
   ]
  },
  {
   "cell_type": "markdown",
   "metadata": {
    "hidden": true
   },
   "source": [
    "We can also include a list of notable stories for each person. Note the use of the dot notation to identify keys in a sub-document."
   ]
  },
  {
   "cell_type": "code",
   "execution_count": null,
   "metadata": {
    "collapsed": true,
    "hidden": true
   },
   "outputs": [],
   "source": [
    "result = tc.update_one({'name.forename': 'William', 'name.surname': 'Hartnell'},\n",
    "                       {'$set': {'episodes': ['An Unearthly Child', 'The Daleks', 'The Tenth Planet']}})\n",
    "result.matched_count, result.modified_count"
   ]
  },
  {
   "cell_type": "code",
   "execution_count": null,
   "metadata": {
    "collapsed": true,
    "hidden": true
   },
   "outputs": [],
   "source": [
    "tc.find_one({'name.forename': 'William'})"
   ]
  },
  {
   "cell_type": "markdown",
   "metadata": {
    "hidden": true
   },
   "source": [
    "## Importing Data\n",
    "\n",
    "we will now import a larger dataset.  Using the [Ultimate Doctor Who](http://www.ultimatedoctorwho.com/).  First let's look at the data in the csv"
   ]
  },
  {
   "cell_type": "code",
   "execution_count": null,
   "metadata": {
    "collapsed": true,
    "hidden": true
   },
   "outputs": [],
   "source": [
    "!head data/Ultimate_Doctor_Who_resave.csv"
   ]
  },
  {
   "cell_type": "markdown",
   "metadata": {
    "hidden": true
   },
   "source": [
    "Looks like a CSV file.\n",
    "\n",
    "## `mongoimport`\n",
    "\n",
    "important parameters:\n",
    "\n",
    "    - `drop`, drops collection\n",
    "    - `db` and `collection` specify where the data should go.\n",
    "    - `headerline` indicates first line is a header\n",
    "    - `ignore blanks` empty values will not be created\n",
    "    - `file` where the data resides.\n",
    "   "
   ]
  },
  {
   "cell_type": "code",
   "execution_count": null,
   "metadata": {
    "collapsed": true,
    "hidden": true
   },
   "outputs": [],
   "source": [
    "!/usr/bin/mongoimport --port 27351 --drop --db doctorwho --collection episodes \\\n",
    "    --type csv --headerline --ignoreBlanks \\\n",
    "    --file data/Ultimate_Doctor_Who_resave.csv"
   ]
  },
  {
   "cell_type": "code",
   "execution_count": null,
   "metadata": {
    "collapsed": true,
    "hidden": true
   },
   "outputs": [],
   "source": [
    "# Open the imported database and collection\n",
    "episodes = dw_db.episodes"
   ]
  },
  {
   "cell_type": "code",
   "execution_count": null,
   "metadata": {
    "collapsed": true,
    "hidden": true
   },
   "outputs": [],
   "source": [
    "# see the size of the dataset\n",
    "episodes.find().count()"
   ]
  },
  {
   "cell_type": "code",
   "execution_count": null,
   "metadata": {
    "collapsed": true,
    "hidden": true
   },
   "outputs": [],
   "source": [
    "# look at a sample document\n",
    "episodes.find_one()"
   ]
  },
  {
   "cell_type": "markdown",
   "metadata": {
    "hidden": true
   },
   "source": [
    "_note that 'No. of parts' became_\n",
    "        \n",
    "        'No': {' of parts': 4}\n",
    "\n",
    "_this is due to the way mongoympost handles dots in the column name._"
   ]
  },
  {
   "cell_type": "markdown",
   "metadata": {
    "hidden": true
   },
   "source": [
    "## Cleaning the dataset.\n",
    "\n",
    "Collect the various companions into a list.  and delete the fields using `'$push'` and `'$unset'`\n",
    "\n",
    "`$push` adds an item to a list and creates one if it doesn't already exist."
   ]
  },
  {
   "cell_type": "code",
   "execution_count": null,
   "metadata": {
    "collapsed": true,
    "hidden": true
   },
   "outputs": [],
   "source": [
    "# iterate through all episodes\n",
    "for e in episodes.find():\n",
    "    # iterate through each key\n",
    "    for key in list(e.keys()):\n",
    "        # check if it is a companion key\n",
    "        if key.startswith('Companion '):\n",
    "            # update the information\n",
    "            episodes.update_one({'_id': e['_id']},\n",
    "                               {'$push': {'Companions': e[key]},\n",
    "                               '$unset': {key: 1}})"
   ]
  },
  {
   "cell_type": "code",
   "execution_count": null,
   "metadata": {
    "collapsed": true,
    "hidden": true
   },
   "outputs": [],
   "source": [
    "episodes.find_one()"
   ]
  },
  {
   "cell_type": "markdown",
   "metadata": {
    "collapsed": true,
    "hidden": true
   },
   "source": [
    "### Activity 4\n",
    "* Note that this activity is optional, and is more of a programming exercise than really teaching you much about MongoDB. You'll miss nothing by just looking at the solution.\n",
    "\n",
    "Create a list of sub-documents, one for each part. Each part sub-document should contain the part number, air date, and number of viewers. For example:\n",
    "\n",
    "`'Parts': [{'Number': 1, 'Air date': datetime.datetime(1963, 11, 26, 0, 0), 'Viewers': 4.4},\n",
    "    {'Number': 2, 'Air date': datetime.datetime(1963, 11, 30, 0, 0), 'Viewers': 5.9},\n",
    "    {'Number': 3, 'Air date': datetime.datetime(1963, 12, 7, 0, 0), 'Viewers': 6.9},\n",
    "    {'Number': 4, 'Air date': datetime.datetime(1963, 12, 14, 0, 0), 'Viewers': 6.4}]`\n",
    "\n",
    "Note that parts are sometimes identifeid by `Pt`, sometimes by `pt`, and that everything's case sensitive.\n",
    "\n",
    "Note that POSIX date conversions assume that '11/26/63' means 11 November 2063, so you'll need to fiddle with the years. The magic incantation is:\n",
    "\n",
    "`d = datetime.strptime('11/26/63', '%m/%d/%y')\n",
    "d = d.replace(year=(d.year - 100))`\n",
    "\n",
    "(hoping that the year isn't 2400 or 2000).\n",
    "\n",
    "Finally, note that if you update documents while iterating over many of them, Mongo may decide to return the updated document to you later in the same iteration (i.e. you may end up processing the same document more than once). Either check whether a document has been updated before you start processing it again, or use a _snapshot query_ which doesn't exhibit this behaviour. The format for snapshot queries is to include `modifiers={\"$snapshot\": True}` as a keyword parameter to `find()`.\n",
    "\n",
    "The solution is in the [`14.1solutions`](14.1solutions.ipynb) Notebook.\n",
    " "
   ]
  },
  {
   "cell_type": "code",
   "execution_count": null,
   "metadata": {
    "collapsed": true,
    "hidden": true
   },
   "outputs": [],
   "source": [
    "# check to see how episodes with only one part are listed\n",
    "episodes.find_one({'No. of parts': 1})"
   ]
  },
  {
   "cell_type": "code",
   "execution_count": null,
   "metadata": {
    "collapsed": true,
    "hidden": true
   },
   "outputs": [],
   "source": [
    "# check to see how episodes with four parts are listed\n",
    "episodes.find_one({'No. of parts': 4})"
   ]
  },
  {
   "cell_type": "markdown",
   "metadata": {
    "hidden": true
   },
   "source": [
    "since both return the same keys we can process them each in the same way"
   ]
  },
  {
   "cell_type": "code",
   "execution_count": null,
   "metadata": {
    "collapsed": true,
    "hidden": true
   },
   "outputs": [],
   "source": [
    "# iterate through each episode\n",
    "for e in episodes.find():\n",
    "    # make a dict to store result\n",
    "    clean_parts = {}\n",
    "    # grab the parts embedded document\n",
    "    parts = e['Pt']\n",
    "    # handle spelling variation of Pt\n",
    "    if 'pt' in e:\n",
    "        parts.update(e['pt'])\n",
    "    # iterate through the parts\n",
    "    for p in parts:\n",
    "        k = p.strip()\n",
    "        n = k[:2]\n",
    "        if n not in clean_parts:\n",
    "            clean_parts[n] = {'Number': n}\n",
    "        if 'date' in k:\n",
    "            d = datetime.strptime(parts[p], '%m/%d/%y')\n",
    "            clean_parts[n]['Air Date'] = d.replace(year=(d.year - 100))\n",
    "        if 'viewers' in k:\n",
    "            clean_parts[n]['Viewers'] = parts[p]\n",
    "    assert len(clean_parts.values()) == e['No'][' of parts']\n",
    "    episodes.update_one({'_id': e['_id']}, {'$set': {'Parts': list(clean_parts.values())}})\n",
    "\n",
    "r =  episodes.update_many({}, {'$unset': {'Pt': 1, 'pt': 1}})\n",
    "r.matched_count, r.modified_count"
   ]
  },
  {
   "cell_type": "code",
   "execution_count": null,
   "metadata": {
    "collapsed": true,
    "hidden": true
   },
   "outputs": [],
   "source": [
    "episodes.find_one({'Story ID': 123})"
   ]
  },
  {
   "cell_type": "markdown",
   "metadata": {},
   "source": [
    "# 14.2 - Introduction to accidents\n"
   ]
  },
  {
   "cell_type": "code",
   "execution_count": 1,
   "metadata": {
    "collapsed": true
   },
   "outputs": [],
   "source": [
    "# import the required libraries\n",
    "import pymongo\n",
    "import datetime\n",
    "import collections\n",
    "\n",
    "import pandas as pd\n",
    "import scipy.stats"
   ]
  },
  {
   "cell_type": "code",
   "execution_count": 2,
   "metadata": {
    "collapsed": true
   },
   "outputs": [],
   "source": [
    "# Open a connection to the Mongo server, open the accidents database\n",
    "client = pymongo.MongoClient('mongodb://localhost:27351/')\n",
    "\n",
    "db = client.accidents\n",
    "accidents = db.accidents\n",
    "labels = db.labels"
   ]
  },
  {
   "cell_type": "code",
   "execution_count": 3,
   "metadata": {
    "collapsed": true
   },
   "outputs": [],
   "source": [
    "# Load the expanded names of keys and human-readable codes into memory\n",
    "\n",
    "expanded_name = collections.defaultdict(str)\n",
    "for e in labels.find({'expanded': {'$exists': True}}):\n",
    "    expanded_name[e['label']] = e['expanded']\n",
    "\n",
    "label_of = collections.defaultdict(str)\n",
    "for l in labels.find({'codes': {'$exists': True}}):\n",
    "    for c in l['codes']:\n",
    "        try:\n",
    "            label_of[l['label'], int(c)] = l['codes'][c]\n",
    "        except ValueError:\n",
    "            label_of[l['label'], c] = l['codes'][c]"
   ]
  },
  {
   "cell_type": "markdown",
   "metadata": {},
   "source": [
    "## Getting a single document"
   ]
  },
  {
   "cell_type": "code",
   "execution_count": 4,
   "metadata": {},
   "outputs": [
    {
     "data": {
      "text/plain": [
       "{'1st_Road_Class': 3,\n",
       " '1st_Road_Number': 308,\n",
       " '2nd_Road_Class': 5,\n",
       " '2nd_Road_Number': 0,\n",
       " 'Accident_Index': '201201BS70001',\n",
       " 'Accident_Severity': 3,\n",
       " 'Carriageway_Hazards': 0,\n",
       " 'Casualties': [{'Age_Band_of_Casualty': 7,\n",
       "   'Bus_or_Coach_Passenger': 0,\n",
       "   'Car_Passenger': 0,\n",
       "   'Casualty_Class': 1,\n",
       "   'Casualty_Home_Area_Type': 1,\n",
       "   'Casualty_Reference': 1,\n",
       "   'Casualty_Severity': 3,\n",
       "   'Casualty_Type': 1,\n",
       "   'Pedestrian_Location': 0,\n",
       "   'Pedestrian_Movement': 0,\n",
       "   'Pedestrian_Road_Maintenance_Worker': 0,\n",
       "   'Sex_of_Casualty': 1,\n",
       "   'Vehicle_Reference': 2}],\n",
       " 'Date': '19/01/2012',\n",
       " 'Datetime': datetime.datetime(2012, 1, 19, 20, 35),\n",
       " 'Day_of_Week': 5,\n",
       " 'Did_Police_Officer_Attend_Scene_of_Accident': 1,\n",
       " 'Junction_Control': 2,\n",
       " 'Junction_Detail': 6,\n",
       " 'LSOA_of_Accident_Location': 'E01002821',\n",
       " 'Latitude': 51.493429,\n",
       " 'Light_Conditions': 4,\n",
       " 'Local_Authority_(District)': 12,\n",
       " 'Local_Authority_(Highway)': 'E09000020',\n",
       " 'Location_Easting_OSGR': 527200,\n",
       " 'Location_Northing_OSGR': 178760,\n",
       " 'Longitude': -0.169101,\n",
       " 'Number_of_Casualties': 1,\n",
       " 'Number_of_Vehicles': 2,\n",
       " 'Pedestrian_Crossing-Human_Control': 0,\n",
       " 'Pedestrian_Crossing-Physical_Facilities': 5,\n",
       " 'Police_Force': 1,\n",
       " 'Road_Surface_Conditions': 1,\n",
       " 'Road_Type': 6,\n",
       " 'Special_Conditions_at_Site': 0,\n",
       " 'Speed_limit': 30,\n",
       " 'Time': '20:35',\n",
       " 'Urban_or_Rural_Area': 1,\n",
       " 'Vehicles': [{'1st_Point_of_Impact': 4,\n",
       "   'Age_Band_of_Driver': 4,\n",
       "   'Age_of_Vehicle': 5,\n",
       "   'Driver_Home_Area_Type': 1,\n",
       "   'Driver_IMD_Decile': 7,\n",
       "   'Engine_Capacity_(CC)': 1390,\n",
       "   'Hit_Object_in_Carriageway': 0,\n",
       "   'Hit_Object_off_Carriageway': 0,\n",
       "   'Journey_Purpose_of_Driver': 6,\n",
       "   'Junction_Location': 8,\n",
       "   'Propulsion_Code': 1,\n",
       "   'Sex_of_Driver': 2,\n",
       "   'Skidding_and_Overturning': 0,\n",
       "   'Towing_and_Articulation': 0,\n",
       "   'Vehicle_Leaving_Carriageway': 0,\n",
       "   'Vehicle_Location-Restricted_Lane': 0,\n",
       "   'Vehicle_Manoeuvre': 9,\n",
       "   'Vehicle_Reference': 1,\n",
       "   'Vehicle_Type': 9,\n",
       "   'Was_Vehicle_Left_Hand_Drive?': 1},\n",
       "  {'1st_Point_of_Impact': 1,\n",
       "   'Age_Band_of_Driver': 7,\n",
       "   'Age_of_Vehicle': -1,\n",
       "   'Driver_Home_Area_Type': 1,\n",
       "   'Driver_IMD_Decile': 3,\n",
       "   'Engine_Capacity_(CC)': -1,\n",
       "   'Hit_Object_in_Carriageway': 0,\n",
       "   'Hit_Object_off_Carriageway': 0,\n",
       "   'Journey_Purpose_of_Driver': 6,\n",
       "   'Junction_Location': 8,\n",
       "   'Propulsion_Code': -1,\n",
       "   'Sex_of_Driver': 1,\n",
       "   'Skidding_and_Overturning': 0,\n",
       "   'Towing_and_Articulation': 0,\n",
       "   'Vehicle_Leaving_Carriageway': 0,\n",
       "   'Vehicle_Location-Restricted_Lane': 0,\n",
       "   'Vehicle_Manoeuvre': 18,\n",
       "   'Vehicle_Reference': 2,\n",
       "   'Vehicle_Type': 1,\n",
       "   'Was_Vehicle_Left_Hand_Drive?': 1}],\n",
       " 'Weather_Conditions': 1,\n",
       " '_id': ObjectId('52a9c97c92c4e16686d13265'),\n",
       " 'loc': {'coordinates': [-0.169101, 51.493429], 'type': 'Point'}}"
      ]
     },
     "execution_count": 4,
     "metadata": {},
     "output_type": "execute_result"
    }
   ],
   "source": [
    "# mongo returns the first document it finds\n",
    "accidents.find_one()"
   ]
  },
  {
   "cell_type": "code",
   "execution_count": 5,
   "metadata": {},
   "outputs": [
    {
     "data": {
      "text/plain": [
       "{'1st_Road_Class': 3,\n",
       " '1st_Road_Number': 404,\n",
       " '2nd_Road_Class': -1,\n",
       " '2nd_Road_Number': 0,\n",
       " 'Accident_Index': '201201CW10890',\n",
       " 'Accident_Severity': 3,\n",
       " 'Carriageway_Hazards': 0,\n",
       " 'Casualties': [{'Age_Band_of_Casualty': 4,\n",
       "   'Bus_or_Coach_Passenger': 0,\n",
       "   'Car_Passenger': 0,\n",
       "   'Casualty_Class': 1,\n",
       "   'Casualty_Home_Area_Type': -1,\n",
       "   'Casualty_Reference': 1,\n",
       "   'Casualty_Severity': 3,\n",
       "   'Casualty_Type': 9,\n",
       "   'Pedestrian_Location': 0,\n",
       "   'Pedestrian_Movement': 0,\n",
       "   'Pedestrian_Road_Maintenance_Worker': 0,\n",
       "   'Sex_of_Casualty': 1,\n",
       "   'Vehicle_Reference': 1}],\n",
       " 'Date': '06/07/2012',\n",
       " 'Datetime': datetime.datetime(2012, 7, 6, 1, 25),\n",
       " 'Day_of_Week': 6,\n",
       " 'Did_Police_Officer_Attend_Scene_of_Accident': 1,\n",
       " 'Junction_Control': -1,\n",
       " 'Junction_Detail': 0,\n",
       " 'LSOA_of_Accident_Location': 'E01004702',\n",
       " 'Latitude': 51.519946,\n",
       " 'Light_Conditions': 4,\n",
       " 'Local_Authority_(District)': 1,\n",
       " 'Local_Authority_(Highway)': 'E09000033',\n",
       " 'Location_Easting_OSGR': 526780,\n",
       " 'Location_Northing_OSGR': 181700,\n",
       " 'Longitude': -0.174092,\n",
       " 'Number_of_Casualties': 1,\n",
       " 'Number_of_Vehicles': 2,\n",
       " 'Pedestrian_Crossing-Human_Control': 0,\n",
       " 'Pedestrian_Crossing-Physical_Facilities': 0,\n",
       " 'Police_Force': 1,\n",
       " 'Road_Surface_Conditions': 2,\n",
       " 'Road_Type': 3,\n",
       " 'Special_Conditions_at_Site': 0,\n",
       " 'Speed_limit': 70,\n",
       " 'Time': '01:25',\n",
       " 'Urban_or_Rural_Area': 1,\n",
       " 'Vehicles': [{'1st_Point_of_Impact': 3,\n",
       "   'Age_Band_of_Driver': 4,\n",
       "   'Age_of_Vehicle': 7,\n",
       "   'Driver_Home_Area_Type': -1,\n",
       "   'Driver_IMD_Decile': -1,\n",
       "   'Engine_Capacity_(CC)': 1598,\n",
       "   'Hit_Object_in_Carriageway': 0,\n",
       "   'Hit_Object_off_Carriageway': 7,\n",
       "   'Journey_Purpose_of_Driver': 6,\n",
       "   'Junction_Location': 0,\n",
       "   'Propulsion_Code': 1,\n",
       "   'Sex_of_Driver': 1,\n",
       "   'Skidding_and_Overturning': 0,\n",
       "   'Towing_and_Articulation': 0,\n",
       "   'Vehicle_Leaving_Carriageway': 1,\n",
       "   'Vehicle_Location-Restricted_Lane': 0,\n",
       "   'Vehicle_Manoeuvre': 18,\n",
       "   'Vehicle_Reference': 1,\n",
       "   'Vehicle_Type': 9,\n",
       "   'Was_Vehicle_Left_Hand_Drive?': 1},\n",
       "  {'1st_Point_of_Impact': 4,\n",
       "   'Age_Band_of_Driver': 4,\n",
       "   'Age_of_Vehicle': 9,\n",
       "   'Driver_Home_Area_Type': 1,\n",
       "   'Driver_IMD_Decile': 2,\n",
       "   'Engine_Capacity_(CC)': 1598,\n",
       "   'Hit_Object_in_Carriageway': 0,\n",
       "   'Hit_Object_off_Carriageway': 0,\n",
       "   'Journey_Purpose_of_Driver': 6,\n",
       "   'Junction_Location': 0,\n",
       "   'Propulsion_Code': 1,\n",
       "   'Sex_of_Driver': 1,\n",
       "   'Skidding_and_Overturning': 0,\n",
       "   'Towing_and_Articulation': 0,\n",
       "   'Vehicle_Leaving_Carriageway': 0,\n",
       "   'Vehicle_Location-Restricted_Lane': 0,\n",
       "   'Vehicle_Manoeuvre': 18,\n",
       "   'Vehicle_Reference': 2,\n",
       "   'Vehicle_Type': 9,\n",
       "   'Was_Vehicle_Left_Hand_Drive?': 1}],\n",
       " 'Weather_Conditions': 1,\n",
       " '_id': ObjectId('52a9c97c92c4e16686d13914'),\n",
       " 'loc': {'coordinates': [-0.174092, 51.519946], 'type': 'Point'}}"
      ]
     },
     "execution_count": 5,
     "metadata": {},
     "output_type": "execute_result"
    }
   ],
   "source": [
    "accidents.find_one({'Speed_limit': 70})"
   ]
  },
  {
   "cell_type": "code",
   "execution_count": 6,
   "metadata": {},
   "outputs": [
    {
     "data": {
      "text/plain": [
       "{'1st_Road_Class': 3,\n",
       " '1st_Road_Number': 308,\n",
       " '2nd_Road_Class': 5,\n",
       " '2nd_Road_Number': 0,\n",
       " 'Accident_Index': '201201BS70001',\n",
       " 'Accident_Severity': 3,\n",
       " 'Carriageway_Hazards': 0,\n",
       " 'Casualties': [{'Age_Band_of_Casualty': 7,\n",
       "   'Bus_or_Coach_Passenger': 0,\n",
       "   'Car_Passenger': 0,\n",
       "   'Casualty_Class': 1,\n",
       "   'Casualty_Home_Area_Type': 1,\n",
       "   'Casualty_Reference': 1,\n",
       "   'Casualty_Severity': 3,\n",
       "   'Casualty_Type': 1,\n",
       "   'Pedestrian_Location': 0,\n",
       "   'Pedestrian_Movement': 0,\n",
       "   'Pedestrian_Road_Maintenance_Worker': 0,\n",
       "   'Sex_of_Casualty': 1,\n",
       "   'Vehicle_Reference': 2}],\n",
       " 'Date': '19/01/2012',\n",
       " 'Datetime': datetime.datetime(2012, 1, 19, 20, 35),\n",
       " 'Day_of_Week': 5,\n",
       " 'Did_Police_Officer_Attend_Scene_of_Accident': 1,\n",
       " 'Junction_Control': 2,\n",
       " 'Junction_Detail': 6,\n",
       " 'LSOA_of_Accident_Location': 'E01002821',\n",
       " 'Latitude': 51.493429,\n",
       " 'Light_Conditions': 4,\n",
       " 'Local_Authority_(District)': 12,\n",
       " 'Local_Authority_(Highway)': 'E09000020',\n",
       " 'Location_Easting_OSGR': 527200,\n",
       " 'Location_Northing_OSGR': 178760,\n",
       " 'Longitude': -0.169101,\n",
       " 'Number_of_Casualties': 1,\n",
       " 'Number_of_Vehicles': 2,\n",
       " 'Pedestrian_Crossing-Human_Control': 0,\n",
       " 'Pedestrian_Crossing-Physical_Facilities': 5,\n",
       " 'Police_Force': 1,\n",
       " 'Road_Surface_Conditions': 1,\n",
       " 'Road_Type': 6,\n",
       " 'Special_Conditions_at_Site': 0,\n",
       " 'Speed_limit': 30,\n",
       " 'Time': '20:35',\n",
       " 'Urban_or_Rural_Area': 1,\n",
       " 'Vehicles': [{'1st_Point_of_Impact': 4,\n",
       "   'Age_Band_of_Driver': 4,\n",
       "   'Age_of_Vehicle': 5,\n",
       "   'Driver_Home_Area_Type': 1,\n",
       "   'Driver_IMD_Decile': 7,\n",
       "   'Engine_Capacity_(CC)': 1390,\n",
       "   'Hit_Object_in_Carriageway': 0,\n",
       "   'Hit_Object_off_Carriageway': 0,\n",
       "   'Journey_Purpose_of_Driver': 6,\n",
       "   'Junction_Location': 8,\n",
       "   'Propulsion_Code': 1,\n",
       "   'Sex_of_Driver': 2,\n",
       "   'Skidding_and_Overturning': 0,\n",
       "   'Towing_and_Articulation': 0,\n",
       "   'Vehicle_Leaving_Carriageway': 0,\n",
       "   'Vehicle_Location-Restricted_Lane': 0,\n",
       "   'Vehicle_Manoeuvre': 9,\n",
       "   'Vehicle_Reference': 1,\n",
       "   'Vehicle_Type': 9,\n",
       "   'Was_Vehicle_Left_Hand_Drive?': 1},\n",
       "  {'1st_Point_of_Impact': 1,\n",
       "   'Age_Band_of_Driver': 7,\n",
       "   'Age_of_Vehicle': -1,\n",
       "   'Driver_Home_Area_Type': 1,\n",
       "   'Driver_IMD_Decile': 3,\n",
       "   'Engine_Capacity_(CC)': -1,\n",
       "   'Hit_Object_in_Carriageway': 0,\n",
       "   'Hit_Object_off_Carriageway': 0,\n",
       "   'Journey_Purpose_of_Driver': 6,\n",
       "   'Junction_Location': 8,\n",
       "   'Propulsion_Code': -1,\n",
       "   'Sex_of_Driver': 1,\n",
       "   'Skidding_and_Overturning': 0,\n",
       "   'Towing_and_Articulation': 0,\n",
       "   'Vehicle_Leaving_Carriageway': 0,\n",
       "   'Vehicle_Location-Restricted_Lane': 0,\n",
       "   'Vehicle_Manoeuvre': 18,\n",
       "   'Vehicle_Reference': 2,\n",
       "   'Vehicle_Type': 1,\n",
       "   'Was_Vehicle_Left_Hand_Drive?': 1}],\n",
       " 'Weather_Conditions': 1,\n",
       " '_id': ObjectId('52a9c97c92c4e16686d13265'),\n",
       " 'loc': {'coordinates': [-0.169101, 51.493429], 'type': 'Point'}}"
      ]
     },
     "execution_count": 6,
     "metadata": {},
     "output_type": "execute_result"
    }
   ],
   "source": [
    "accidents.find_one({'Speed_limit': 30, 'Number_of_Vehicles': 2, 'Number_of_Casualties': 1})"
   ]
  },
  {
   "cell_type": "markdown",
   "metadata": {},
   "source": [
    "We can limit the information returned by the query by specifying the values we are interested in. MUST be a `list`"
   ]
  },
  {
   "cell_type": "code",
   "execution_count": 7,
   "metadata": {},
   "outputs": [
    {
     "data": {
      "text/plain": [
       "{'Accident_Index': '201201BS70001',\n",
       " 'Number_of_Vehicles': 2,\n",
       " 'Speed_limit': 30,\n",
       " '_id': ObjectId('52a9c97c92c4e16686d13265')}"
      ]
     },
     "execution_count": 7,
     "metadata": {},
     "output_type": "execute_result"
    }
   ],
   "source": [
    "accidents.find_one({'Speed_limit': 30, 'Number_of_Casualties': 1, 'Number_of_Vehicles': 2},\n",
    "                  ['Accident_Index', 'Speed_limit', 'Numbes_of_Casualties', 'Number_of_Vehicles'])"
   ]
  },
  {
   "cell_type": "markdown",
   "metadata": {},
   "source": [
    "## Finding multiple documents"
   ]
  },
  {
   "cell_type": "code",
   "execution_count": 8,
   "metadata": {},
   "outputs": [
    {
     "data": {
      "text/plain": [
       "46715"
      ]
     },
     "execution_count": 8,
     "metadata": {},
     "output_type": "execute_result"
    }
   ],
   "source": [
    "\n",
    "# use the cursor to find how many documents match\n",
    "accidents.find({'Speed_limit': 30, 'Number_of_Casualties':1, 'Number_of_Vehicles':2}).count()"
   ]
  },
  {
   "cell_type": "markdown",
   "metadata": {},
   "source": [
    "When exploring a dataset it can be useful to limit the number of results returned and then put into a dataset"
   ]
  },
  {
   "cell_type": "code",
   "execution_count": 9,
   "metadata": {},
   "outputs": [
    {
     "data": {
      "text/html": [
       "<div>\n",
       "<style>\n",
       "    .dataframe thead tr:only-child th {\n",
       "        text-align: right;\n",
       "    }\n",
       "\n",
       "    .dataframe thead th {\n",
       "        text-align: left;\n",
       "    }\n",
       "\n",
       "    .dataframe tbody tr th {\n",
       "        vertical-align: top;\n",
       "    }\n",
       "</style>\n",
       "<table border=\"1\" class=\"dataframe\">\n",
       "  <thead>\n",
       "    <tr style=\"text-align: right;\">\n",
       "      <th></th>\n",
       "      <th>Accident_Index</th>\n",
       "      <th>Number_of_Vehicles</th>\n",
       "      <th>Speed_limit</th>\n",
       "      <th>_id</th>\n",
       "    </tr>\n",
       "  </thead>\n",
       "  <tbody>\n",
       "    <tr>\n",
       "      <th>0</th>\n",
       "      <td>201201BS70001</td>\n",
       "      <td>2</td>\n",
       "      <td>30</td>\n",
       "      <td>52a9c97c92c4e16686d13265</td>\n",
       "    </tr>\n",
       "    <tr>\n",
       "      <th>1</th>\n",
       "      <td>201201BS70002</td>\n",
       "      <td>2</td>\n",
       "      <td>30</td>\n",
       "      <td>52a9c97c92c4e16686d13266</td>\n",
       "    </tr>\n",
       "    <tr>\n",
       "      <th>2</th>\n",
       "      <td>201201BS70003</td>\n",
       "      <td>2</td>\n",
       "      <td>30</td>\n",
       "      <td>52a9c97c92c4e16686d13267</td>\n",
       "    </tr>\n",
       "    <tr>\n",
       "      <th>3</th>\n",
       "      <td>201201BS70006</td>\n",
       "      <td>2</td>\n",
       "      <td>30</td>\n",
       "      <td>52a9c97c92c4e16686d1326a</td>\n",
       "    </tr>\n",
       "    <tr>\n",
       "      <th>4</th>\n",
       "      <td>201201BS70008</td>\n",
       "      <td>2</td>\n",
       "      <td>30</td>\n",
       "      <td>52a9c97c92c4e16686d1326c</td>\n",
       "    </tr>\n",
       "    <tr>\n",
       "      <th>5</th>\n",
       "      <td>201201BS70010</td>\n",
       "      <td>2</td>\n",
       "      <td>30</td>\n",
       "      <td>52a9c97c92c4e16686d1326d</td>\n",
       "    </tr>\n",
       "    <tr>\n",
       "      <th>6</th>\n",
       "      <td>201201BS70011</td>\n",
       "      <td>2</td>\n",
       "      <td>30</td>\n",
       "      <td>52a9c97c92c4e16686d1326e</td>\n",
       "    </tr>\n",
       "    <tr>\n",
       "      <th>7</th>\n",
       "      <td>201201BS70014</td>\n",
       "      <td>2</td>\n",
       "      <td>30</td>\n",
       "      <td>52a9c97c92c4e16686d13271</td>\n",
       "    </tr>\n",
       "    <tr>\n",
       "      <th>8</th>\n",
       "      <td>201201BS70018</td>\n",
       "      <td>2</td>\n",
       "      <td>30</td>\n",
       "      <td>52a9c97c92c4e16686d13275</td>\n",
       "    </tr>\n",
       "    <tr>\n",
       "      <th>9</th>\n",
       "      <td>201201BS70025</td>\n",
       "      <td>2</td>\n",
       "      <td>30</td>\n",
       "      <td>52a9c97c92c4e16686d1327c</td>\n",
       "    </tr>\n",
       "  </tbody>\n",
       "</table>\n",
       "</div>"
      ],
      "text/plain": [
       "  Accident_Index  Number_of_Vehicles  Speed_limit                       _id\n",
       "0  201201BS70001                   2           30  52a9c97c92c4e16686d13265\n",
       "1  201201BS70002                   2           30  52a9c97c92c4e16686d13266\n",
       "2  201201BS70003                   2           30  52a9c97c92c4e16686d13267\n",
       "3  201201BS70006                   2           30  52a9c97c92c4e16686d1326a\n",
       "4  201201BS70008                   2           30  52a9c97c92c4e16686d1326c\n",
       "5  201201BS70010                   2           30  52a9c97c92c4e16686d1326d\n",
       "6  201201BS70011                   2           30  52a9c97c92c4e16686d1326e\n",
       "7  201201BS70014                   2           30  52a9c97c92c4e16686d13271\n",
       "8  201201BS70018                   2           30  52a9c97c92c4e16686d13275\n",
       "9  201201BS70025                   2           30  52a9c97c92c4e16686d1327c"
      ]
     },
     "execution_count": 9,
     "metadata": {},
     "output_type": "execute_result"
    }
   ],
   "source": [
    "pd.DataFrame(list(accidents.find({'Speed_limit': 30, 'Number_of_Casualties': 1, 'Number_of_Vehicles': 2},\n",
    "                                 ['Accident_Index', 'Speed_limit', 'Numbes_of_Casualties', 'Number_of_Vehicles']\n",
    "                  ,limit=10)))"
   ]
  },
  {
   "cell_type": "markdown",
   "metadata": {},
   "source": [
    "### Activity 1. How many accidents were there at less than 30mph?\n",
    "Create a DataFrame that holds the accident index, number of vehicles, and number of casualties for ach accident, where the speed limit is less than 30 mph."
   ]
  },
  {
   "cell_type": "code",
   "execution_count": 10,
   "metadata": {},
   "outputs": [
    {
     "data": {
      "text/plain": [
       "97243"
      ]
     },
     "execution_count": 10,
     "metadata": {},
     "output_type": "execute_result"
    }
   ],
   "source": [
    "# how many accidents were there under 30mph?\n",
    "accidents.find({'Speed_limit': {'$lte': 30}}).count()"
   ]
  },
  {
   "cell_type": "code",
   "execution_count": 11,
   "metadata": {},
   "outputs": [
    {
     "data": {
      "text/html": [
       "<div>\n",
       "<style>\n",
       "    .dataframe thead tr:only-child th {\n",
       "        text-align: right;\n",
       "    }\n",
       "\n",
       "    .dataframe thead th {\n",
       "        text-align: left;\n",
       "    }\n",
       "\n",
       "    .dataframe tbody tr th {\n",
       "        vertical-align: top;\n",
       "    }\n",
       "</style>\n",
       "<table border=\"1\" class=\"dataframe\">\n",
       "  <thead>\n",
       "    <tr style=\"text-align: right;\">\n",
       "      <th></th>\n",
       "      <th>Accident_Index</th>\n",
       "      <th>Number_of_Casualties</th>\n",
       "      <th>Number_of_Vehicles</th>\n",
       "    </tr>\n",
       "  </thead>\n",
       "  <tbody>\n",
       "    <tr>\n",
       "      <th>0</th>\n",
       "      <td>201297KC02607</td>\n",
       "      <td>1</td>\n",
       "      <td>1</td>\n",
       "    </tr>\n",
       "    <tr>\n",
       "      <th>1</th>\n",
       "      <td>201201CP00031</td>\n",
       "      <td>1</td>\n",
       "      <td>1</td>\n",
       "    </tr>\n",
       "    <tr>\n",
       "      <th>2</th>\n",
       "      <td>201201CP00067</td>\n",
       "      <td>3</td>\n",
       "      <td>1</td>\n",
       "    </tr>\n",
       "    <tr>\n",
       "      <th>3</th>\n",
       "      <td>201201CW10226</td>\n",
       "      <td>1</td>\n",
       "      <td>2</td>\n",
       "    </tr>\n",
       "    <tr>\n",
       "      <th>4</th>\n",
       "      <td>201201CW10270</td>\n",
       "      <td>2</td>\n",
       "      <td>2</td>\n",
       "    </tr>\n",
       "    <tr>\n",
       "      <th>5</th>\n",
       "      <td>201201CW10301</td>\n",
       "      <td>1</td>\n",
       "      <td>1</td>\n",
       "    </tr>\n",
       "    <tr>\n",
       "      <th>6</th>\n",
       "      <td>201201EK40242</td>\n",
       "      <td>1</td>\n",
       "      <td>2</td>\n",
       "    </tr>\n",
       "    <tr>\n",
       "      <th>7</th>\n",
       "      <td>201201EK40390</td>\n",
       "      <td>1</td>\n",
       "      <td>2</td>\n",
       "    </tr>\n",
       "    <tr>\n",
       "      <th>8</th>\n",
       "      <td>201201EK40426</td>\n",
       "      <td>1</td>\n",
       "      <td>2</td>\n",
       "    </tr>\n",
       "    <tr>\n",
       "      <th>9</th>\n",
       "      <td>201201EK40529</td>\n",
       "      <td>1</td>\n",
       "      <td>2</td>\n",
       "    </tr>\n",
       "  </tbody>\n",
       "</table>\n",
       "</div>"
      ],
      "text/plain": [
       "  Accident_Index  Number_of_Casualties  Number_of_Vehicles\n",
       "0  201297KC02607                     1                   1\n",
       "1  201201CP00031                     1                   1\n",
       "2  201201CP00067                     3                   1\n",
       "3  201201CW10226                     1                   2\n",
       "4  201201CW10270                     2                   2\n",
       "5  201201CW10301                     1                   1\n",
       "6  201201EK40242                     1                   2\n",
       "7  201201EK40390                     1                   2\n",
       "8  201201EK40426                     1                   2\n",
       "9  201201EK40529                     1                   2"
      ]
     },
     "execution_count": 11,
     "metadata": {},
     "output_type": "execute_result"
    }
   ],
   "source": [
    "# create a DataFrame containing accident index, num vuhicles, num casualties\n",
    "pd.DataFrame(list(accidents.find({'Speed_limit': {'$lte': 30}},\n",
    "                           {'Accident_Index':1, 'Number_of_Vehicles':1, 'Number_of_Casualties':1, '_id':0}, limit=10)))"
   ]
  },
  {
   "cell_type": "markdown",
   "metadata": {},
   "source": [
    "## Expandeng the codes\n",
    "Labels collection contains the labels for each code"
   ]
  },
  {
   "cell_type": "code",
   "execution_count": 12,
   "metadata": {},
   "outputs": [
    {
     "data": {
      "text/plain": [
       "{'_id': ObjectId('52b0c65adbc24119018372a4'),\n",
       " 'codes': {'-1': 'Data missing or out of range',\n",
       "  '1': 'Roundabout',\n",
       "  '12': 'One way street/Slip road',\n",
       "  '2': 'One way street',\n",
       "  '3': 'Dual carriageway',\n",
       "  '6': 'Single carriageway',\n",
       "  '7': 'Slip road',\n",
       "  '9': 'Unknown'},\n",
       " 'label': 'Road_Type'}"
      ]
     },
     "execution_count": 12,
     "metadata": {},
     "output_type": "execute_result"
    }
   ],
   "source": [
    "labels.find_one({'label': 'Road_Type'})"
   ]
  },
  {
   "cell_type": "markdown",
   "metadata": {},
   "source": [
    "we can det the pable of a particular road type"
   ]
  },
  {
   "cell_type": "code",
   "execution_count": 13,
   "metadata": {},
   "outputs": [
    {
     "data": {
      "text/plain": [
       "'Single carriageway'"
      ]
     },
     "execution_count": 13,
     "metadata": {},
     "output_type": "execute_result"
    }
   ],
   "source": [
    "labels.find_one({'label': 'Road_Type'})['codes']['6']"
   ]
  },
  {
   "cell_type": "markdown",
   "metadata": {
    "collapsed": true
   },
   "source": [
    "We can ask for all the labels:\n"
   ]
  },
  {
   "cell_type": "code",
   "execution_count": 14,
   "metadata": {},
   "outputs": [
    {
     "data": {
      "text/plain": [
       "['Roundabout',\n",
       " 'One way street',\n",
       " 'One way street/Slip road',\n",
       " 'Unknown',\n",
       " 'Dual carriageway',\n",
       " 'Single carriageway',\n",
       " 'Data missing or out of range',\n",
       " 'Slip road']"
      ]
     },
     "execution_count": 14,
     "metadata": {},
     "output_type": "execute_result"
    }
   ],
   "source": [
    "road_types = []\n",
    "road_code_labels = labels.find_one({'label': 'Road_Type'})['codes']\n",
    "for code in road_code_labels:\n",
    "    road_types.append(road_code_labels[code])\n",
    "road_types"
   ]
  },
  {
   "cell_type": "markdown",
   "metadata": {},
   "source": [
    "But a more Python idiomatic way is using a list comprehension:"
   ]
  },
  {
   "cell_type": "code",
   "execution_count": 15,
   "metadata": {},
   "outputs": [
    {
     "data": {
      "text/plain": [
       "['Roundabout',\n",
       " 'One way street',\n",
       " 'One way street/Slip road',\n",
       " 'Unknown',\n",
       " 'Dual carriageway',\n",
       " 'Single carriageway',\n",
       " 'Data missing or out of range',\n",
       " 'Slip road']"
      ]
     },
     "execution_count": 15,
     "metadata": {},
     "output_type": "execute_result"
    }
   ],
   "source": [
    "[road_code_labels[code] for code in road_code_labels]"
   ]
  },
  {
   "cell_type": "markdown",
   "metadata": {},
   "source": [
    "To make things easier we can use the label_of method created earlier on."
   ]
  },
  {
   "cell_type": "code",
   "execution_count": 16,
   "metadata": {},
   "outputs": [
    {
     "data": {
      "text/plain": [
       "'Single carriageway'"
      ]
     },
     "execution_count": 16,
     "metadata": {},
     "output_type": "execute_result"
    }
   ],
   "source": [
    "label_of[('Road_Type', 6)]"
   ]
  },
  {
   "cell_type": "code",
   "execution_count": 17,
   "metadata": {},
   "outputs": [
    {
     "data": {
      "text/plain": [
       "'Single carriageway'"
      ]
     },
     "execution_count": 17,
     "metadata": {},
     "output_type": "execute_result"
    }
   ],
   "source": [
    "# the brackets around the 2-tuple can be omitted\n",
    "label_of['Road_Type', 6]"
   ]
  },
  {
   "cell_type": "code",
   "execution_count": 18,
   "metadata": {},
   "outputs": [
    {
     "data": {
      "text/plain": [
       "['Slip road',\n",
       " 'Data missing or out of range',\n",
       " 'One way street',\n",
       " 'Unknown',\n",
       " 'Dual carriageway',\n",
       " 'Single carriageway',\n",
       " 'Roundabout',\n",
       " 'One way street/Slip road']"
      ]
     },
     "execution_count": 18,
     "metadata": {},
     "output_type": "execute_result"
    }
   ],
   "source": [
    "# applying this to a list comprehension\n",
    "[label_of[key, code] \n",
    " for (key, code) in label_of\n",
    " if key == 'Road_Type']"
   ]
  },
  {
   "cell_type": "code",
   "execution_count": 19,
   "metadata": {},
   "outputs": [
    {
     "data": {
      "text/plain": [
       "[(7, 'Slip road'),\n",
       " (-1, 'Data missing or out of range'),\n",
       " (2, 'One way street'),\n",
       " (9, 'Unknown'),\n",
       " (3, 'Dual carriageway'),\n",
       " (6, 'Single carriageway'),\n",
       " (1, 'Roundabout'),\n",
       " (12, 'One way street/Slip road')]"
      ]
     },
     "execution_count": 19,
     "metadata": {},
     "output_type": "execute_result"
    }
   ],
   "source": [
    "# We can also grab the code by wrapping the result in a tuple\n",
    "[(code, label_of[key, code]) \n",
    " for key, code in label_of \n",
    " if key == 'Road_Type']"
   ]
  },
  {
   "cell_type": "markdown",
   "metadata": {},
   "source": [
    "### Activity 2\n",
    "Find and display the document in the `labels` collection that stores details of weather conditions. \n",
    "\n",
    "Use the `label_of` dict to find all the labels for `Weather_Conditions`.\n",
    "\n",
    "Use the `label_of` dict in a list comprehension to find all the labels for `Weather_Conditions` that refer to wind. Note that you can include more than one `if` clause in a list comprehension: just put them one after the other, like this:\n",
    "\n",
    "    ```[item for item in thing if condition1 if condition2]```\n",
    "    \n",
    "It will only return items where both conditions are true.\n",
    "\n",
    "The solution is in the [`14.2solutions`](14.2solutions.ipynb) Notebook."
   ]
  },
  {
   "cell_type": "code",
   "execution_count": 20,
   "metadata": {},
   "outputs": [
    {
     "data": {
      "text/plain": [
       "['Raining + high winds',\n",
       " 'Snowing no high winds',\n",
       " 'Snowing + high winds',\n",
       " 'Fine no high winds',\n",
       " 'Fine + high winds',\n",
       " 'Raining no high winds']"
      ]
     },
     "execution_count": 20,
     "metadata": {},
     "output_type": "execute_result"
    }
   ],
   "source": [
    "[label_of[key, code] \n",
    " for key, code in label_of\n",
    " if key == 'Weather_Conditions' \n",
    " if 'wind' in label_of[key, code]]"
   ]
  },
  {
   "cell_type": "markdown",
   "metadata": {},
   "source": [
    "### expanded name\n"
   ]
  },
  {
   "cell_type": "markdown",
   "metadata": {},
   "source": [
    "some keys in the documents are cryptic, we can look these up:"
   ]
  },
  {
   "cell_type": "code",
   "execution_count": 21,
   "metadata": {},
   "outputs": [
    {
     "data": {
      "text/plain": [
       "{'_id': ObjectId('52e953b6dbc2410efb5efe49'),\n",
       " 'expanded': 'Rigid HGV with four axles',\n",
       " 'label': 'FdHGVR4'}"
      ]
     },
     "execution_count": 21,
     "metadata": {},
     "output_type": "execute_result"
    }
   ],
   "source": [
    "# What does 'FdHGVR4' mean?\n",
    "labels.find_one({'label': 'FdHGVR4'})"
   ]
  },
  {
   "cell_type": "code",
   "execution_count": 22,
   "metadata": {},
   "outputs": [
    {
     "data": {
      "text/plain": [
       "'Rigid HGV with four axles'"
      ]
     },
     "execution_count": 22,
     "metadata": {},
     "output_type": "execute_result"
    }
   ],
   "source": [
    "# using the expanded_name dict\n",
    "expanded_name['FdHGVR4']"
   ]
  },
  {
   "cell_type": "markdown",
   "metadata": {
    "collapsed": true
   },
   "source": [
    "## Back to Queries\n",
    "### Activity 3\n",
    "Earlier query but printing results"
   ]
  },
  {
   "cell_type": "code",
   "execution_count": 23,
   "metadata": {},
   "outputs": [
    {
     "name": "stdout",
     "output_type": "stream",
     "text": [
      "201201BS70001 3 6 1\n",
      "201201BS70002 3 6 1\n",
      "201201BS70003 3 2 1\n",
      "201201BS70006 3 6 2\n",
      "201201BS70008 3 1 1\n",
      "201201BS70010 3 2 1\n",
      "201201BS70011 3 6 2\n",
      "201201BS70014 3 3 1\n",
      "201201BS70018 3 6 2\n",
      "201201BS70025 3 6 1\n"
     ]
    }
   ],
   "source": [
    "for a in accidents.find({'Speed_limit': 30, 'Number_of_Casualties':1, 'Number_of_Vehicles': 2},\n",
    "                       ['Accident_Index', 'Accident_Severity', 'Road_Type', 'Weather_Conditions'],\n",
    "                       limit=10):\n",
    "    print(a['Accident_Index'],\n",
    "         a['Accident_Severity'],\n",
    "         a['Road_Type'],\n",
    "         a['Weather_Conditions'])\n"
   ]
  },
  {
   "cell_type": "code",
   "execution_count": 24,
   "metadata": {},
   "outputs": [
    {
     "name": "stdout",
     "output_type": "stream",
     "text": [
      "201201BS70001 Slight Single carriageway Fine no high winds\n",
      "201201BS70002 Slight Single carriageway Fine no high winds\n",
      "201201BS70003 Slight One way street Fine no high winds\n",
      "201201BS70004 Slight Single carriageway Fine no high winds\n",
      "201201BS70005 Slight Single carriageway Fine no high winds\n",
      "201201BS70006 Slight Single carriageway Raining no high winds\n",
      "201201BS70007 Slight Single carriageway Fine no high winds\n",
      "201201BS70008 Slight Roundabout Fine no high winds\n",
      "201201BS70010 Slight One way street Fine no high winds\n",
      "201201BS70011 Slight Single carriageway Raining no high winds\n"
     ]
    }
   ],
   "source": [
    "# run the same query but look up the codes\n",
    "for a in accidents.find({'Speed_limit':30, 'Number_of_Casualties':1},\n",
    "                       ['Accident_Index', 'Accident_Severity', 'Road_Type', 'Weather_Conditions'],\n",
    "                       limit=10):\n",
    "    print(a['Accident_Index'],\n",
    "         label_of['Accident_Severity', a['Accident_Severity']],\n",
    "         label_of['Road_Type', a['Road_Type']],\n",
    "         label_of['Weather_Conditions', a['Weather_Conditions']])"
   ]
  },
  {
   "cell_type": "markdown",
   "metadata": {},
   "source": [
    "Put these values into a DataFrame, using a list comprehension allows us to process each document and manually build a dict."
   ]
  },
  {
   "cell_type": "code",
   "execution_count": 25,
   "metadata": {},
   "outputs": [
    {
     "data": {
      "text/html": [
       "<div>\n",
       "<style>\n",
       "    .dataframe thead tr:only-child th {\n",
       "        text-align: right;\n",
       "    }\n",
       "\n",
       "    .dataframe thead th {\n",
       "        text-align: left;\n",
       "    }\n",
       "\n",
       "    .dataframe tbody tr th {\n",
       "        vertical-align: top;\n",
       "    }\n",
       "</style>\n",
       "<table border=\"1\" class=\"dataframe\">\n",
       "  <thead>\n",
       "    <tr style=\"text-align: right;\">\n",
       "      <th></th>\n",
       "      <th>Accident_Index</th>\n",
       "      <th>Accident_Severity</th>\n",
       "      <th>Road_Type</th>\n",
       "      <th>Weather_Conditions</th>\n",
       "    </tr>\n",
       "  </thead>\n",
       "  <tbody>\n",
       "    <tr>\n",
       "      <th>0</th>\n",
       "      <td>201201BS70001</td>\n",
       "      <td>Slight</td>\n",
       "      <td>Single carriageway</td>\n",
       "      <td>Fine no high winds</td>\n",
       "    </tr>\n",
       "    <tr>\n",
       "      <th>1</th>\n",
       "      <td>201201BS70002</td>\n",
       "      <td>Slight</td>\n",
       "      <td>Single carriageway</td>\n",
       "      <td>Fine no high winds</td>\n",
       "    </tr>\n",
       "    <tr>\n",
       "      <th>2</th>\n",
       "      <td>201201BS70003</td>\n",
       "      <td>Slight</td>\n",
       "      <td>One way street</td>\n",
       "      <td>Fine no high winds</td>\n",
       "    </tr>\n",
       "    <tr>\n",
       "      <th>3</th>\n",
       "      <td>201201BS70006</td>\n",
       "      <td>Slight</td>\n",
       "      <td>Single carriageway</td>\n",
       "      <td>Raining no high winds</td>\n",
       "    </tr>\n",
       "    <tr>\n",
       "      <th>4</th>\n",
       "      <td>201201BS70008</td>\n",
       "      <td>Slight</td>\n",
       "      <td>Roundabout</td>\n",
       "      <td>Fine no high winds</td>\n",
       "    </tr>\n",
       "    <tr>\n",
       "      <th>5</th>\n",
       "      <td>201201BS70010</td>\n",
       "      <td>Slight</td>\n",
       "      <td>One way street</td>\n",
       "      <td>Fine no high winds</td>\n",
       "    </tr>\n",
       "    <tr>\n",
       "      <th>6</th>\n",
       "      <td>201201BS70011</td>\n",
       "      <td>Slight</td>\n",
       "      <td>Single carriageway</td>\n",
       "      <td>Raining no high winds</td>\n",
       "    </tr>\n",
       "    <tr>\n",
       "      <th>7</th>\n",
       "      <td>201201BS70014</td>\n",
       "      <td>Slight</td>\n",
       "      <td>Dual carriageway</td>\n",
       "      <td>Fine no high winds</td>\n",
       "    </tr>\n",
       "    <tr>\n",
       "      <th>8</th>\n",
       "      <td>201201BS70018</td>\n",
       "      <td>Slight</td>\n",
       "      <td>Single carriageway</td>\n",
       "      <td>Raining no high winds</td>\n",
       "    </tr>\n",
       "    <tr>\n",
       "      <th>9</th>\n",
       "      <td>201201BS70025</td>\n",
       "      <td>Slight</td>\n",
       "      <td>Single carriageway</td>\n",
       "      <td>Fine no high winds</td>\n",
       "    </tr>\n",
       "  </tbody>\n",
       "</table>\n",
       "</div>"
      ],
      "text/plain": [
       "  Accident_Index Accident_Severity           Road_Type     Weather_Conditions\n",
       "0  201201BS70001            Slight  Single carriageway     Fine no high winds\n",
       "1  201201BS70002            Slight  Single carriageway     Fine no high winds\n",
       "2  201201BS70003            Slight      One way street     Fine no high winds\n",
       "3  201201BS70006            Slight  Single carriageway  Raining no high winds\n",
       "4  201201BS70008            Slight          Roundabout     Fine no high winds\n",
       "5  201201BS70010            Slight      One way street     Fine no high winds\n",
       "6  201201BS70011            Slight  Single carriageway  Raining no high winds\n",
       "7  201201BS70014            Slight    Dual carriageway     Fine no high winds\n",
       "8  201201BS70018            Slight  Single carriageway  Raining no high winds\n",
       "9  201201BS70025            Slight  Single carriageway     Fine no high winds"
      ]
     },
     "execution_count": 25,
     "metadata": {},
     "output_type": "execute_result"
    }
   ],
   "source": [
    "pd.DataFrame([\n",
    "  {'Accident_Index': a['Accident_Index'],\n",
    "   'Accident_Severity': label_of['Accident_Severity', a['Accident_Severity']],\n",
    "   'Road_Type': label_of['Road_Type', a['Road_Type']],\n",
    "   'Weather_Conditions': label_of['Weather_Conditions', a['Weather_Conditions']]}\n",
    "    \n",
    "    for a in accidents.find({'Speed_limit': 30, \n",
    "                             'Number_of_Casualties': 1, \n",
    "                             'Number_of_Vehicles': 2}, limit=10)])\n",
    "\n",
    "\n",
    "    \n"
   ]
  },
  {
   "cell_type": "markdown",
   "metadata": {},
   "source": [
    "# 14.2 - Investigating the Accidents Dataset"
   ]
  },
  {
   "cell_type": "markdown",
   "metadata": {},
   "source": [
    "## Severities at one speed\n",
    "What are the proportions of accident severities in 30 mph zones? "
   ]
  },
  {
   "cell_type": "markdown",
   "metadata": {},
   "source": [
    "### Collect summary numbers"
   ]
  },
  {
   "cell_type": "code",
   "execution_count": 26,
   "metadata": {
    "collapsed": true
   },
   "outputs": [],
   "source": [
    "# Build a DataFrame, one row for each accident\n",
    "severities_30_unrolled_df = pd.DataFrame(list(accidents.find({'Speed_limit': 30}, ['Accident_Severity'])))\n",
    "\n",
    "# Count the number of each severity\n",
    "severities_30_ss = severities_30_unrolled_df['Accident_Severity'].value_counts()"
   ]
  },
  {
   "cell_type": "code",
   "execution_count": 27,
   "metadata": {},
   "outputs": [
    {
     "data": {
      "text/plain": [
       "3    81727\n",
       "2    12686\n",
       "1      582\n",
       "Name: Accident_Severity, dtype: int64"
      ]
     },
     "execution_count": 27,
     "metadata": {},
     "output_type": "execute_result"
    }
   ],
   "source": [
    "severities_30_ss"
   ]
  },
  {
   "cell_type": "markdown",
   "metadata": {},
   "source": [
    "Plot them"
   ]
  },
  {
   "cell_type": "code",
   "execution_count": 28,
   "metadata": {},
   "outputs": [
    {
     "data": {
      "text/plain": [
       "<matplotlib.axes._subplots.AxesSubplot at 0x7f5dc34dc8d0>"
      ]
     },
     "execution_count": 28,
     "metadata": {},
     "output_type": "execute_result"
    },
    {
     "data": {
      "image/png": "[encoded data removed]",
      "text/plain": [
       "<matplotlib.figure.Figure at 0x7f5dc9373c18>"
      ]
     },
     "metadata": {},
     "output_type": "display_data"
    }
   ],
   "source": [
    "import seaborn as sb\n",
    "severities_30_ss.sort_index().plot(kind='bar')"
   ]
  },
  {
   "cell_type": "markdown",
   "metadata": {},
   "source": [
    "Add human readable labels"
   ]
  },
  {
   "cell_type": "code",
   "execution_count": 29,
   "metadata": {},
   "outputs": [
    {
     "data": {
      "text/plain": [
       "Fatal        582\n",
       "Serious    12686\n",
       "Slight     81727\n",
       "Name: Accident_Severity, dtype: int64"
      ]
     },
     "execution_count": 29,
     "metadata": {},
     "output_type": "execute_result"
    }
   ],
   "source": [
    "severities_30_ss.sort_index(inplace=True)\n",
    "severities_30_ss.index = [label_of['Accident_Severity', code] for code in severities_30_ss.index]\n",
    "severities_30_ss"
   ]
  },
  {
   "cell_type": "code",
   "execution_count": 30,
   "metadata": {},
   "outputs": [
    {
     "data": {
      "text/plain": [
       "<matplotlib.axes._subplots.AxesSubplot at 0x7f5dc32d4be0>"
      ]
     },
     "execution_count": 30,
     "metadata": {},
     "output_type": "execute_result"
    },
    {
     "data": {
      "image/png": "[encoded data removed]",
      "text/plain": [
       "<matplotlib.figure.Figure at 0x7f5dc9373908>"
      ]
     },
     "metadata": {},
     "output_type": "display_data"
    }
   ],
   "source": [
    "# Plot it\n",
    "severities_30_ss.plot(kind='bar')"
   ]
  },
  {
   "cell_type": "markdown",
   "metadata": {},
   "source": [
    "### Activity 4\n",
    "What are the numbers of accidents at each severity in 60 mph zones? Show results as a bar chart."
   ]
  },
  {
   "cell_type": "code",
   "execution_count": 31,
   "metadata": {},
   "outputs": [
    {
     "data": {
      "text/plain": [
       "3    16416\n",
       "2     4157\n",
       "1      599\n",
       "Name: Accident_Severity, dtype: int64"
      ]
     },
     "execution_count": 31,
     "metadata": {},
     "output_type": "execute_result"
    }
   ],
   "source": [
    "# construct a dataframe, one row for each \n",
    "severities_60_unrolled_df = pd.DataFrame(list(accidents.find({'Speed_limit': 60},['Accident_Severity'])))\n",
    "# total the numbers of each severity\n",
    "severities_60_ss = severities_60_unrolled_df['Accident_Severity'].value_counts()\n",
    "\n",
    "severities_60_ss"
   ]
  },
  {
   "cell_type": "code",
   "execution_count": 32,
   "metadata": {
    "collapsed": true
   },
   "outputs": [],
   "source": [
    "# get the labels for each severity\n",
    "severities_60_ss.sort_index(inplace=True)\n",
    "severities_60_ss.index = [label_of['Accident_Severity', rating] for rating in severities_60_ss.index]\n"
   ]
  },
  {
   "cell_type": "code",
   "execution_count": 33,
   "metadata": {},
   "outputs": [
    {
     "data": {
      "text/plain": [
       "<matplotlib.axes._subplots.AxesSubplot at 0x7f5dc30f0f28>"
      ]
     },
     "execution_count": 33,
     "metadata": {},
     "output_type": "execute_result"
    },
    {
     "data": {
      "image/png": "[encoded data removed]",
      "text/plain": [
       "<matplotlib.figure.Figure at 0x7f5dc2fb67b8>"
      ]
     },
     "metadata": {},
     "output_type": "display_data"
    }
   ],
   "source": [
    "severities_60_ss.plot(kind='bar')"
   ]
  },
  {
   "cell_type": "markdown",
   "metadata": {},
   "source": [
    "## Severities across speeds\n",
    "let's summarize all the data and put it in a DataFrame.\n",
    "\n",
    "Build a DF one row for each accident.  Count the number of rows at each speed/severity using pandas crosstab.\n"
   ]
  },
  {
   "cell_type": "code",
   "execution_count": 34,
   "metadata": {},
   "outputs": [
    {
     "data": {
      "text/html": [
       "<div>\n",
       "<style>\n",
       "    .dataframe thead tr:only-child th {\n",
       "        text-align: right;\n",
       "    }\n",
       "\n",
       "    .dataframe thead th {\n",
       "        text-align: left;\n",
       "    }\n",
       "\n",
       "    .dataframe tbody tr th {\n",
       "        vertical-align: top;\n",
       "    }\n",
       "</style>\n",
       "<table border=\"1\" class=\"dataframe\">\n",
       "  <thead>\n",
       "    <tr style=\"text-align: right;\">\n",
       "      <th>Accident_Severity</th>\n",
       "      <th>1</th>\n",
       "      <th>2</th>\n",
       "      <th>3</th>\n",
       "    </tr>\n",
       "    <tr>\n",
       "      <th>Speed_limit</th>\n",
       "      <th></th>\n",
       "      <th></th>\n",
       "      <th></th>\n",
       "    </tr>\n",
       "  </thead>\n",
       "  <tbody>\n",
       "    <tr>\n",
       "      <th>10</th>\n",
       "      <td>0</td>\n",
       "      <td>0</td>\n",
       "      <td>1</td>\n",
       "    </tr>\n",
       "    <tr>\n",
       "      <th>20</th>\n",
       "      <td>9</td>\n",
       "      <td>333</td>\n",
       "      <td>1905</td>\n",
       "    </tr>\n",
       "    <tr>\n",
       "      <th>30</th>\n",
       "      <td>582</td>\n",
       "      <td>12686</td>\n",
       "      <td>81727</td>\n",
       "    </tr>\n",
       "    <tr>\n",
       "      <th>40</th>\n",
       "      <td>155</td>\n",
       "      <td>1798</td>\n",
       "      <td>9961</td>\n",
       "    </tr>\n",
       "    <tr>\n",
       "      <th>50</th>\n",
       "      <td>94</td>\n",
       "      <td>770</td>\n",
       "      <td>4356</td>\n",
       "    </tr>\n",
       "    <tr>\n",
       "      <th>60</th>\n",
       "      <td>599</td>\n",
       "      <td>4157</td>\n",
       "      <td>16416</td>\n",
       "    </tr>\n",
       "    <tr>\n",
       "      <th>70</th>\n",
       "      <td>198</td>\n",
       "      <td>1157</td>\n",
       "      <td>8667</td>\n",
       "    </tr>\n",
       "  </tbody>\n",
       "</table>\n",
       "</div>"
      ],
      "text/plain": [
       "Accident_Severity    1      2      3\n",
       "Speed_limit                         \n",
       "10                   0      0      1\n",
       "20                   9    333   1905\n",
       "30                 582  12686  81727\n",
       "40                 155   1798   9961\n",
       "50                  94    770   4356\n",
       "60                 599   4157  16416\n",
       "70                 198   1157   8667"
      ]
     },
     "execution_count": 34,
     "metadata": {},
     "output_type": "execute_result"
    }
   ],
   "source": [
    "# Build a DataFrame, one row for each accident\n",
    "severity_by_speed_unrolled_df = pd.DataFrame(list(accidents.find({}, ['Speed_limit', 'Accident_Severity'])))\n",
    "\n",
    "# Count the number of each severity\n",
    "severity_by_speed_df = pd.crosstab(severity_by_speed_unrolled_df['Speed_limit'],\n",
    "                                            severity_by_speed_unrolled_df['Accident_Severity'])\n",
    "severity_by_speed_df"
   ]
  },
  {
   "cell_type": "code",
   "execution_count": 35,
   "metadata": {},
   "outputs": [
    {
     "data": {
      "text/html": [
       "<div>\n",
       "<style>\n",
       "    .dataframe thead tr:only-child th {\n",
       "        text-align: right;\n",
       "    }\n",
       "\n",
       "    .dataframe thead th {\n",
       "        text-align: left;\n",
       "    }\n",
       "\n",
       "    .dataframe tbody tr th {\n",
       "        vertical-align: top;\n",
       "    }\n",
       "</style>\n",
       "<table border=\"1\" class=\"dataframe\">\n",
       "  <thead>\n",
       "    <tr style=\"text-align: right;\">\n",
       "      <th></th>\n",
       "      <th>Fatal</th>\n",
       "      <th>Serious</th>\n",
       "      <th>Slight</th>\n",
       "    </tr>\n",
       "    <tr>\n",
       "      <th>Speed_limit</th>\n",
       "      <th></th>\n",
       "      <th></th>\n",
       "      <th></th>\n",
       "    </tr>\n",
       "  </thead>\n",
       "  <tbody>\n",
       "    <tr>\n",
       "      <th>10</th>\n",
       "      <td>0</td>\n",
       "      <td>0</td>\n",
       "      <td>1</td>\n",
       "    </tr>\n",
       "    <tr>\n",
       "      <th>20</th>\n",
       "      <td>9</td>\n",
       "      <td>333</td>\n",
       "      <td>1905</td>\n",
       "    </tr>\n",
       "    <tr>\n",
       "      <th>30</th>\n",
       "      <td>582</td>\n",
       "      <td>12686</td>\n",
       "      <td>81727</td>\n",
       "    </tr>\n",
       "    <tr>\n",
       "      <th>40</th>\n",
       "      <td>155</td>\n",
       "      <td>1798</td>\n",
       "      <td>9961</td>\n",
       "    </tr>\n",
       "    <tr>\n",
       "      <th>50</th>\n",
       "      <td>94</td>\n",
       "      <td>770</td>\n",
       "      <td>4356</td>\n",
       "    </tr>\n",
       "    <tr>\n",
       "      <th>60</th>\n",
       "      <td>599</td>\n",
       "      <td>4157</td>\n",
       "      <td>16416</td>\n",
       "    </tr>\n",
       "    <tr>\n",
       "      <th>70</th>\n",
       "      <td>198</td>\n",
       "      <td>1157</td>\n",
       "      <td>8667</td>\n",
       "    </tr>\n",
       "  </tbody>\n",
       "</table>\n",
       "</div>"
      ],
      "text/plain": [
       "             Fatal  Serious  Slight\n",
       "Speed_limit                        \n",
       "10               0        0       1\n",
       "20               9      333    1905\n",
       "30             582    12686   81727\n",
       "40             155     1798    9961\n",
       "50              94      770    4356\n",
       "60             599     4157   16416\n",
       "70             198     1157    8667"
      ]
     },
     "execution_count": 35,
     "metadata": {},
     "output_type": "execute_result"
    }
   ],
   "source": [
    "# relaabel the columns\n",
    "severity_by_speed_df.columns = [label_of['Accident_Severity', rating] for rating in severity_by_speed_df.columns]\n",
    "severity_by_speed_df"
   ]
  },
  {
   "cell_type": "code",
   "execution_count": 36,
   "metadata": {},
   "outputs": [
    {
     "data": {
      "text/plain": [
       "<matplotlib.axes._subplots.AxesSubplot at 0x7f5dc22dcef0>"
      ]
     },
     "execution_count": 36,
     "metadata": {},
     "output_type": "execute_result"
    },
    {
     "data": {
      "image/png": "[encoded data removed]",
      "text/plain": [
       "<matplotlib.figure.Figure at 0x7f5dc22dc710>"
      ]
     },
     "metadata": {},
     "output_type": "display_data"
    }
   ],
   "source": [
    "severity_by_speed_df.plot(kind='bar')"
   ]
  },
  {
   "cell_type": "markdown",
   "metadata": {},
   "source": [
    "move the axis to the side"
   ]
  },
  {
   "cell_type": "code",
   "execution_count": 37,
   "metadata": {},
   "outputs": [
    {
     "data": {
      "text/plain": [
       "<matplotlib.legend.Legend at 0x7f5dc3629400>"
      ]
     },
     "execution_count": 37,
     "metadata": {},
     "output_type": "execute_result"
    },
    {
     "data": {
      "image/png": "[encoded data removed]",
      "text/plain": [
       "<matplotlib.figure.Figure at 0x7f5dc3629dd8>"
      ]
     },
     "metadata": {},
     "output_type": "display_data"
    }
   ],
   "source": [
    "ax = severity_by_speed_df.plot(kind='bar')\n",
    "ax.legend(loc='center left', bbox_to_anchor=(1, 0.5))"
   ]
  },
  {
   "cell_type": "markdown",
   "metadata": {},
   "source": [
    "It is pretty clear that there are a lot more accidents in 30mph zones than at any other speed limit."
   ]
  },
  {
   "cell_type": "markdown",
   "metadata": {},
   "source": [
    "### Activity 5\n",
    "What are the proportions of accident severities by junction type (roundabout, crossroads, etc)?\n",
    "\n",
    "This is a more in-depth activity than before, so I've broken it down into steps.\n",
    "\n",
    "* What are the different types of junction? You'll need to look at the `label_of` dict to find the right key\n",
    "* What different severities happen at each junction type?\n",
    "\n",
    "Comment on your results.\n",
    "\n",
    "The solution is in the [`14.2solutions`](14.2solutions.ipynb) Notebook."
   ]
  },
  {
   "cell_type": "code",
   "execution_count": 38,
   "metadata": {},
   "outputs": [
    {
     "data": {
      "text/plain": [
       "{'Junction_Control', 'Junction_Detail', 'Junction_Location'}"
      ]
     },
     "execution_count": 38,
     "metadata": {},
     "output_type": "execute_result"
    }
   ],
   "source": [
    "# list out all the different types of junction\n",
    "set(key for key, _ in label_of if 'Junction' in key)\n"
   ]
  },
  {
   "cell_type": "code",
   "execution_count": 39,
   "metadata": {},
   "outputs": [
    {
     "data": {
      "text/plain": [
       "[('Junction_Control', 'Authorised person'),\n",
       " ('Junction_Control', 'Auto traffic signal'),\n",
       " ('Junction_Control', 'Data missing or out of range'),\n",
       " ('Junction_Control', 'Give way or uncontrolled'),\n",
       " ('Junction_Control', 'Not at junction or within 20 metres'),\n",
       " ('Junction_Control', 'Stop sign'),\n",
       " ('Junction_Detail', 'Crossroads'),\n",
       " ('Junction_Detail', 'Data missing or out of range'),\n",
       " ('Junction_Detail', 'Mini-roundabout'),\n",
       " ('Junction_Detail', 'More than 4 arms (not roundabout)'),\n",
       " ('Junction_Detail', 'Not at junction or within 20 metres'),\n",
       " ('Junction_Detail', 'Other junction'),\n",
       " ('Junction_Detail', 'Private drive or entrance'),\n",
       " ('Junction_Detail', 'Roundabout'),\n",
       " ('Junction_Detail', 'Slip road'),\n",
       " ('Junction_Detail', 'T or staggered junction'),\n",
       " ('Junction_Location',\n",
       "  'Approaching junction or waiting/parked at junction approach'),\n",
       " ('Junction_Location', 'Cleared junction or waiting/parked at junction exit'),\n",
       " ('Junction_Location', 'Data missing or out of range'),\n",
       " ('Junction_Location', 'Entering from slip road'),\n",
       " ('Junction_Location', 'Entering main road'),\n",
       " ('Junction_Location', 'Entering roundabout'),\n",
       " ('Junction_Location', 'Leaving main road'),\n",
       " ('Junction_Location', 'Leaving roundabout'),\n",
       " ('Junction_Location', 'Mid Junction - on roundabout or on main road'),\n",
       " ('Junction_Location', 'Not at or within 20 metres of junction')]"
      ]
     },
     "execution_count": 39,
     "metadata": {},
     "output_type": "execute_result"
    }
   ],
   "source": [
    "# list all junction related labels\n",
    "list(sorted((key, label_of[key, code]) \n",
    "            for key, code in label_of \n",
    "            if 'Junction' in key))"
   ]
  },
  {
   "cell_type": "markdown",
   "metadata": {},
   "source": [
    "Junction detail is the one we want to investigate"
   ]
  },
  {
   "cell_type": "code",
   "execution_count": 40,
   "metadata": {},
   "outputs": [
    {
     "data": {
      "text/html": [
       "<div>\n",
       "<style>\n",
       "    .dataframe thead tr:only-child th {\n",
       "        text-align: right;\n",
       "    }\n",
       "\n",
       "    .dataframe thead th {\n",
       "        text-align: left;\n",
       "    }\n",
       "\n",
       "    .dataframe tbody tr th {\n",
       "        vertical-align: top;\n",
       "    }\n",
       "</style>\n",
       "<table border=\"1\" class=\"dataframe\">\n",
       "  <thead>\n",
       "    <tr style=\"text-align: right;\">\n",
       "      <th>Accident_Severity</th>\n",
       "      <th>1</th>\n",
       "      <th>2</th>\n",
       "      <th>3</th>\n",
       "    </tr>\n",
       "    <tr>\n",
       "      <th>Junction_Detail</th>\n",
       "      <th></th>\n",
       "      <th></th>\n",
       "      <th></th>\n",
       "    </tr>\n",
       "  </thead>\n",
       "  <tbody>\n",
       "    <tr>\n",
       "      <th>0</th>\n",
       "      <td>995</td>\n",
       "      <td>9209</td>\n",
       "      <td>46083</td>\n",
       "    </tr>\n",
       "    <tr>\n",
       "      <th>1</th>\n",
       "      <td>32</td>\n",
       "      <td>1212</td>\n",
       "      <td>12012</td>\n",
       "    </tr>\n",
       "    <tr>\n",
       "      <th>2</th>\n",
       "      <td>11</td>\n",
       "      <td>161</td>\n",
       "      <td>1532</td>\n",
       "    </tr>\n",
       "    <tr>\n",
       "      <th>3</th>\n",
       "      <td>370</td>\n",
       "      <td>6802</td>\n",
       "      <td>39540</td>\n",
       "    </tr>\n",
       "    <tr>\n",
       "      <th>5</th>\n",
       "      <td>29</td>\n",
       "      <td>217</td>\n",
       "      <td>1902</td>\n",
       "    </tr>\n",
       "    <tr>\n",
       "      <th>6</th>\n",
       "      <td>87</td>\n",
       "      <td>1824</td>\n",
       "      <td>12599</td>\n",
       "    </tr>\n",
       "    <tr>\n",
       "      <th>7</th>\n",
       "      <td>16</td>\n",
       "      <td>269</td>\n",
       "      <td>1759</td>\n",
       "    </tr>\n",
       "    <tr>\n",
       "      <th>8</th>\n",
       "      <td>57</td>\n",
       "      <td>765</td>\n",
       "      <td>4681</td>\n",
       "    </tr>\n",
       "    <tr>\n",
       "      <th>9</th>\n",
       "      <td>40</td>\n",
       "      <td>442</td>\n",
       "      <td>2925</td>\n",
       "    </tr>\n",
       "  </tbody>\n",
       "</table>\n",
       "</div>"
      ],
      "text/plain": [
       "Accident_Severity    1     2      3\n",
       "Junction_Detail                    \n",
       "0                  995  9209  46083\n",
       "1                   32  1212  12012\n",
       "2                   11   161   1532\n",
       "3                  370  6802  39540\n",
       "5                   29   217   1902\n",
       "6                   87  1824  12599\n",
       "7                   16   269   1759\n",
       "8                   57   765   4681\n",
       "9                   40   442   2925"
      ]
     },
     "execution_count": 40,
     "metadata": {},
     "output_type": "execute_result"
    }
   ],
   "source": [
    "severity_by_junction_unrolled_df = pd.DataFrame(list(accidents.find({}, ['Accident_Severity', 'Junction_Detail'])))\n",
    "# severity_by_junction_unrolled_df\n",
    "severity_by_junction_df = pd.crosstab(severity_by_junction_unrolled_df['Junction_Detail'],\n",
    "                                      severity_by_junction_unrolled_df['Accident_Severity'])\n",
    "severity_by_junction_df"
   ]
  },
  {
   "cell_type": "code",
   "execution_count": 41,
   "metadata": {},
   "outputs": [
    {
     "data": {
      "text/html": [
       "<div>\n",
       "<style>\n",
       "    .dataframe thead tr:only-child th {\n",
       "        text-align: right;\n",
       "    }\n",
       "\n",
       "    .dataframe thead th {\n",
       "        text-align: left;\n",
       "    }\n",
       "\n",
       "    .dataframe tbody tr th {\n",
       "        vertical-align: top;\n",
       "    }\n",
       "</style>\n",
       "<table border=\"1\" class=\"dataframe\">\n",
       "  <thead>\n",
       "    <tr style=\"text-align: right;\">\n",
       "      <th></th>\n",
       "      <th>Fatal</th>\n",
       "      <th>Serious</th>\n",
       "      <th>Slight</th>\n",
       "    </tr>\n",
       "  </thead>\n",
       "  <tbody>\n",
       "    <tr>\n",
       "      <th>Not at junction or within 20 metres</th>\n",
       "      <td>995</td>\n",
       "      <td>9209</td>\n",
       "      <td>46083</td>\n",
       "    </tr>\n",
       "    <tr>\n",
       "      <th>Roundabout</th>\n",
       "      <td>32</td>\n",
       "      <td>1212</td>\n",
       "      <td>12012</td>\n",
       "    </tr>\n",
       "    <tr>\n",
       "      <th>Mini-roundabout</th>\n",
       "      <td>11</td>\n",
       "      <td>161</td>\n",
       "      <td>1532</td>\n",
       "    </tr>\n",
       "    <tr>\n",
       "      <th>T or staggered junction</th>\n",
       "      <td>370</td>\n",
       "      <td>6802</td>\n",
       "      <td>39540</td>\n",
       "    </tr>\n",
       "    <tr>\n",
       "      <th>Slip road</th>\n",
       "      <td>29</td>\n",
       "      <td>217</td>\n",
       "      <td>1902</td>\n",
       "    </tr>\n",
       "    <tr>\n",
       "      <th>Crossroads</th>\n",
       "      <td>87</td>\n",
       "      <td>1824</td>\n",
       "      <td>12599</td>\n",
       "    </tr>\n",
       "    <tr>\n",
       "      <th>More than 4 arms (not roundabout)</th>\n",
       "      <td>16</td>\n",
       "      <td>269</td>\n",
       "      <td>1759</td>\n",
       "    </tr>\n",
       "    <tr>\n",
       "      <th>Private drive or entrance</th>\n",
       "      <td>57</td>\n",
       "      <td>765</td>\n",
       "      <td>4681</td>\n",
       "    </tr>\n",
       "    <tr>\n",
       "      <th>Other junction</th>\n",
       "      <td>40</td>\n",
       "      <td>442</td>\n",
       "      <td>2925</td>\n",
       "    </tr>\n",
       "  </tbody>\n",
       "</table>\n",
       "</div>"
      ],
      "text/plain": [
       "                                     Fatal  Serious  Slight\n",
       "Not at junction or within 20 metres    995     9209   46083\n",
       "Roundabout                              32     1212   12012\n",
       "Mini-roundabout                         11      161    1532\n",
       "T or staggered junction                370     6802   39540\n",
       "Slip road                               29      217    1902\n",
       "Crossroads                              87     1824   12599\n",
       "More than 4 arms (not roundabout)       16      269    1759\n",
       "Private drive or entrance               57      765    4681\n",
       "Other junction                          40      442    2925"
      ]
     },
     "execution_count": 41,
     "metadata": {},
     "output_type": "execute_result"
    }
   ],
   "source": [
    "# relabel the columns\n",
    "severity_by_junction_df.columns = [label_of['Accident_Severity', r] for r in severity_by_junction_df.columns]\n",
    "# relabel the index\n",
    "severity_by_junction_df.index = [label_of['Junction_Detail', j] for j in severity_by_junction_df.index]\n",
    "\n",
    "# look at result\n",
    "severity_by_junction_df"
   ]
  },
  {
   "cell_type": "code",
   "execution_count": 42,
   "metadata": {},
   "outputs": [
    {
     "data": {
      "text/plain": [
       "<matplotlib.axes._subplots.AxesSubplot at 0x7f5dc1fe1ac8>"
      ]
     },
     "execution_count": 42,
     "metadata": {},
     "output_type": "execute_result"
    },
    {
     "data": {
      "image/png": "[encoded data removed]",
      "text/plain": [
       "<matplotlib.figure.Figure at 0x7f5dc3544908>"
      ]
     },
     "metadata": {},
     "output_type": "display_data"
    }
   ],
   "source": [
    "severity_by_junction_df.plot(kind='bar')"
   ]
  },
  {
   "cell_type": "markdown",
   "metadata": {},
   "source": [
    "## Looking at subdocuments"
   ]
  },
  {
   "cell_type": "markdown",
   "metadata": {},
   "source": [
    "Each accident document has two lists of subdocuments. One for each casualty, and one for each vehicle involved in the accident.  This section will explore how we can access them."
   ]
  },
  {
   "cell_type": "markdown",
   "metadata": {},
   "source": [
    "### Let's look at the distribution of age across all accidents, restricted to the Milton Keynes area"
   ]
  },
  {
   "cell_type": "code",
   "execution_count": 43,
   "metadata": {},
   "outputs": [
    {
     "data": {
      "text/plain": [
       "[('Local_Authority_(Highway)', 'E06000042', 'Milton Keynes'),\n",
       " ('Local_Authority_(District)', 479, 'Milton Keynes')]"
      ]
     },
     "execution_count": 43,
     "metadata": {},
     "output_type": "execute_result"
    }
   ],
   "source": [
    "# all the labels that are related to 'Milton'\n",
    "[(key, code, label_of[key, code]) for key, code in label_of if 'Milton' in label_of[key,code]]"
   ]
  },
  {
   "cell_type": "markdown",
   "metadata": {},
   "source": [
    "Although District looks better to us, the UK government uses `Local_Authoity_(Highway)` so we will use that "
   ]
  },
  {
   "cell_type": "markdown",
   "metadata": {},
   "source": [
    "The casualty and vehicle subdocuments are held in lists and there can be different numbers of them for each accident.  Therefor we will need to iterate over each.\n",
    "\n",
    "One way to get the ages is to use an explicit 2-level iteration\n"
   ]
  },
  {
   "cell_type": "code",
   "execution_count": 44,
   "metadata": {},
   "outputs": [
    {
     "data": {
      "text/plain": [
       "(1060, 0    5\n",
       " 1    8\n",
       " 2    7\n",
       " 3    5\n",
       " 4    6\n",
       " 5    6\n",
       " 6    7\n",
       " 7    7\n",
       " 8    2\n",
       " 9    9\n",
       " dtype: int64)"
      ]
     },
     "execution_count": 44,
     "metadata": {},
     "output_type": "execute_result"
    }
   ],
   "source": [
    "age_bands_of_casualties_list = []\n",
    "for a in accidents.find({'Local_Authority_(Highway)': 'E06000042'}):\n",
    "    for c in a['Casualties']:\n",
    "        age_bands_of_casualties_list += [c['Age_Band_of_Casualty']]\n",
    "\n",
    "# convert into a series\n",
    "aboc_ss = pd.Series(age_bands_of_casualties_list)\n",
    "aboc_ss.count(), aboc_ss.head(10)"
   ]
  },
  {
   "cell_type": "markdown",
   "metadata": {},
   "source": [
    "We can now use pandas operations on the series, such as counting how many casualties there are in each age band.\n"
   ]
  },
  {
   "cell_type": "code",
   "execution_count": 45,
   "metadata": {},
   "outputs": [
    {
     "data": {
      "text/plain": [
       " 6     236\n",
       " 7     183\n",
       " 5     150\n",
       " 8     135\n",
       " 4     127\n",
       " 9      71\n",
       " 10     37\n",
       " 3      37\n",
       " 2      29\n",
       " 11     24\n",
       " 1      23\n",
       "-1       8\n",
       "dtype: int64"
      ]
     },
     "execution_count": 45,
     "metadata": {},
     "output_type": "execute_result"
    }
   ],
   "source": [
    "# count how many casualties there are for each age band\n",
    "age_bands_of_casualties_ss = aboc_ss.value_counts()\n",
    "age_bands_of_casualties_ss"
   ]
  },
  {
   "cell_type": "markdown",
   "metadata": {},
   "source": [
    "__A simpler, more pythonic way to do this is by using a list comprehension__"
   ]
  },
  {
   "cell_type": "code",
   "execution_count": 46,
   "metadata": {},
   "outputs": [
    {
     "data": {
      "text/plain": [
       " 6     236\n",
       " 7     183\n",
       " 5     150\n",
       " 8     135\n",
       " 4     127\n",
       " 9      71\n",
       " 10     37\n",
       " 3      37\n",
       " 2      29\n",
       " 11     24\n",
       " 1      23\n",
       "-1       8\n",
       "dtype: int64"
      ]
     },
     "execution_count": 46,
     "metadata": {},
     "output_type": "execute_result"
    }
   ],
   "source": [
    "aboc_ss = pd.Series(c['Age_Band_of_Casualty'] \n",
    "                    for a in accidents.find({'Local_Authority_(Highway)': 'E06000042'})\n",
    "                    for c in a['Casualties'])\n",
    "\n",
    "age_bands_of_casualties_ss = aboc_ss.value_counts()\n",
    "age_bands_of_casualties_ss\n"
   ]
  },
  {
   "cell_type": "markdown",
   "metadata": {},
   "source": [
    "An even better way to do it is to skip the intermediate step altogether:"
   ]
  },
  {
   "cell_type": "code",
   "execution_count": 47,
   "metadata": {},
   "outputs": [
    {
     "data": {
      "text/plain": [
       "-1       8\n",
       " 1      23\n",
       " 2      29\n",
       " 3      37\n",
       " 4     127\n",
       " 5     150\n",
       " 6     236\n",
       " 7     183\n",
       " 8     135\n",
       " 9      71\n",
       " 10     37\n",
       " 11     24\n",
       "dtype: int64"
      ]
     },
     "execution_count": 47,
     "metadata": {},
     "output_type": "execute_result"
    }
   ],
   "source": [
    "age_band_of_casualties_ss = pd.Series(c['Age_Band_of_Casualty'] \n",
    "                                     for a in accidents.find({'Local_Authority_(Highway)': 'E06000042'}) \n",
    "                                     for c in a['Casualties']).value_counts()\n",
    "# sort the index\n",
    "age_band_of_casualties_ss.sort_index(inplace=True)\n",
    "age_band_of_casualties_ss"
   ]
  },
  {
   "cell_type": "code",
   "execution_count": 48,
   "metadata": {},
   "outputs": [
    {
     "data": {
      "text/plain": [
       "<matplotlib.axes._subplots.AxesSubplot at 0x7f5dc3410630>"
      ]
     },
     "execution_count": 48,
     "metadata": {},
     "output_type": "execute_result"
    },
    {
     "data": {
      "image/png": "[encoded data removed]",
      "text/plain": [
       "<matplotlib.figure.Figure at 0x7f5dc804d9e8>"
      ]
     },
     "metadata": {},
     "output_type": "display_data"
    }
   ],
   "source": [
    "age_band_of_casualties_ss.plot(kind='bar')"
   ]
  },
  {
   "cell_type": "markdown",
   "metadata": {
    "collapsed": true
   },
   "source": [
    "### Activity 6\n",
    "We can also ask if different age people respond to injuries differently. In other words, are old people more frail and so therefore more likely to be seriously or fatally injured?\n",
    "\n",
    "Following the examples above, let's build a DataFrame that counts the number of casualties for each age band / severity combination, and use the human-readable labels for the data rather than the codes.\n",
    "\n",
    "You should end up with a `DataFrame` called `severity_by_age_df` that looks like this:\n",
    "\n",
    "\n",
    "Severity | Fatal | Serious | Slight\n",
    "-|-|-|-\n",
    "Unknown | 0 | 0 | 8\n",
    "0 - 5 | 0 | 3 | 20\n",
    "6 - 10 | 0 | 1 | 28\n",
    "11 - 15 | 0 | 3 | 34\n",
    "16 - 20 | 1 | 11 | 115\n",
    "21 - 25 | 1 | 16 | 133\n",
    "26 - 35 | 2 | 15 | 219\n",
    "36 - 45 | 3 | 12 | 168\n",
    "46 - 55 | 0 | 10 | 125\n",
    "56 - 65 | 1 | 7 | 63\n",
    "66 - 75 | 0 | 9 | 28\n",
    "Over 75 | 2 | 2 | 20\n",
    "\n",
    "The solution is in the [`14.2solutions`](14.2solutions.ipynb) Notebook."
   ]
  },
  {
   "cell_type": "code",
   "execution_count": 59,
   "metadata": {},
   "outputs": [
    {
     "data": {
      "text/html": [
       "<div>\n",
       "<style>\n",
       "    .dataframe thead tr:only-child th {\n",
       "        text-align: right;\n",
       "    }\n",
       "\n",
       "    .dataframe thead th {\n",
       "        text-align: left;\n",
       "    }\n",
       "\n",
       "    .dataframe tbody tr th {\n",
       "        vertical-align: top;\n",
       "    }\n",
       "</style>\n",
       "<table border=\"1\" class=\"dataframe\">\n",
       "  <thead>\n",
       "    <tr style=\"text-align: right;\">\n",
       "      <th>Severity</th>\n",
       "      <th>1</th>\n",
       "      <th>2</th>\n",
       "      <th>3</th>\n",
       "    </tr>\n",
       "    <tr>\n",
       "      <th>Age_Band_of_Casualty</th>\n",
       "      <th></th>\n",
       "      <th></th>\n",
       "      <th></th>\n",
       "    </tr>\n",
       "  </thead>\n",
       "  <tbody>\n",
       "    <tr>\n",
       "      <th>-1</th>\n",
       "      <td>0</td>\n",
       "      <td>0</td>\n",
       "      <td>8</td>\n",
       "    </tr>\n",
       "    <tr>\n",
       "      <th>1</th>\n",
       "      <td>0</td>\n",
       "      <td>3</td>\n",
       "      <td>20</td>\n",
       "    </tr>\n",
       "    <tr>\n",
       "      <th>2</th>\n",
       "      <td>0</td>\n",
       "      <td>1</td>\n",
       "      <td>28</td>\n",
       "    </tr>\n",
       "    <tr>\n",
       "      <th>3</th>\n",
       "      <td>0</td>\n",
       "      <td>3</td>\n",
       "      <td>34</td>\n",
       "    </tr>\n",
       "    <tr>\n",
       "      <th>4</th>\n",
       "      <td>1</td>\n",
       "      <td>11</td>\n",
       "      <td>115</td>\n",
       "    </tr>\n",
       "    <tr>\n",
       "      <th>5</th>\n",
       "      <td>1</td>\n",
       "      <td>16</td>\n",
       "      <td>133</td>\n",
       "    </tr>\n",
       "    <tr>\n",
       "      <th>6</th>\n",
       "      <td>2</td>\n",
       "      <td>15</td>\n",
       "      <td>219</td>\n",
       "    </tr>\n",
       "    <tr>\n",
       "      <th>7</th>\n",
       "      <td>3</td>\n",
       "      <td>12</td>\n",
       "      <td>168</td>\n",
       "    </tr>\n",
       "    <tr>\n",
       "      <th>8</th>\n",
       "      <td>0</td>\n",
       "      <td>10</td>\n",
       "      <td>125</td>\n",
       "    </tr>\n",
       "    <tr>\n",
       "      <th>9</th>\n",
       "      <td>1</td>\n",
       "      <td>7</td>\n",
       "      <td>63</td>\n",
       "    </tr>\n",
       "    <tr>\n",
       "      <th>10</th>\n",
       "      <td>0</td>\n",
       "      <td>9</td>\n",
       "      <td>28</td>\n",
       "    </tr>\n",
       "    <tr>\n",
       "      <th>11</th>\n",
       "      <td>2</td>\n",
       "      <td>2</td>\n",
       "      <td>20</td>\n",
       "    </tr>\n",
       "  </tbody>\n",
       "</table>\n",
       "</div>"
      ],
      "text/plain": [
       "Severity              1   2    3\n",
       "Age_Band_of_Casualty            \n",
       "-1                    0   0    8\n",
       " 1                    0   3   20\n",
       " 2                    0   1   28\n",
       " 3                    0   3   34\n",
       " 4                    1  11  115\n",
       " 5                    1  16  133\n",
       " 6                    2  15  219\n",
       " 7                    3  12  168\n",
       " 8                    0  10  125\n",
       " 9                    1   7   63\n",
       " 10                   0   9   28\n",
       " 11                   2   2   20"
      ]
     },
     "execution_count": 59,
     "metadata": {},
     "output_type": "execute_result"
    }
   ],
   "source": [
    "severity_by_age_unrolled_df = pd.DataFrame(list({'Age_Band_of_Casualty': c['Age_Band_of_Casualty'],\n",
    "                                                 'Severity': c['Casualty_Severity']}\n",
    "                                                for a in accidents.find({'Local_Authority_(Highway)': 'E06000042'})\n",
    "                                                for c in a['Casualties']))\n",
    "\n",
    "# Count the number of each severity\n",
    "severity_by_age_df = pd.crosstab(severity_by_age_unrolled_df['Age_Band_of_Casualty'],\n",
    "                                 severity_by_age_unrolled_df['Severity'])\n",
    "\n",
    "severity_by_age_df \n"
   ]
  },
  {
   "cell_type": "code",
   "execution_count": 60,
   "metadata": {},
   "outputs": [
    {
     "data": {
      "text/html": [
       "<div>\n",
       "<style>\n",
       "    .dataframe thead tr:only-child th {\n",
       "        text-align: right;\n",
       "    }\n",
       "\n",
       "    .dataframe thead th {\n",
       "        text-align: left;\n",
       "    }\n",
       "\n",
       "    .dataframe tbody tr th {\n",
       "        vertical-align: top;\n",
       "    }\n",
       "</style>\n",
       "<table border=\"1\" class=\"dataframe\">\n",
       "  <thead>\n",
       "    <tr style=\"text-align: right;\">\n",
       "      <th>Severity</th>\n",
       "      <th>1</th>\n",
       "      <th>2</th>\n",
       "      <th>3</th>\n",
       "    </tr>\n",
       "  </thead>\n",
       "  <tbody>\n",
       "    <tr>\n",
       "      <th></th>\n",
       "      <td>0</td>\n",
       "      <td>0</td>\n",
       "      <td>8</td>\n",
       "    </tr>\n",
       "    <tr>\n",
       "      <th></th>\n",
       "      <td>0</td>\n",
       "      <td>3</td>\n",
       "      <td>20</td>\n",
       "    </tr>\n",
       "    <tr>\n",
       "      <th></th>\n",
       "      <td>0</td>\n",
       "      <td>1</td>\n",
       "      <td>28</td>\n",
       "    </tr>\n",
       "    <tr>\n",
       "      <th></th>\n",
       "      <td>0</td>\n",
       "      <td>3</td>\n",
       "      <td>34</td>\n",
       "    </tr>\n",
       "    <tr>\n",
       "      <th></th>\n",
       "      <td>1</td>\n",
       "      <td>11</td>\n",
       "      <td>115</td>\n",
       "    </tr>\n",
       "    <tr>\n",
       "      <th></th>\n",
       "      <td>1</td>\n",
       "      <td>16</td>\n",
       "      <td>133</td>\n",
       "    </tr>\n",
       "    <tr>\n",
       "      <th></th>\n",
       "      <td>2</td>\n",
       "      <td>15</td>\n",
       "      <td>219</td>\n",
       "    </tr>\n",
       "    <tr>\n",
       "      <th></th>\n",
       "      <td>3</td>\n",
       "      <td>12</td>\n",
       "      <td>168</td>\n",
       "    </tr>\n",
       "    <tr>\n",
       "      <th></th>\n",
       "      <td>0</td>\n",
       "      <td>10</td>\n",
       "      <td>125</td>\n",
       "    </tr>\n",
       "    <tr>\n",
       "      <th></th>\n",
       "      <td>1</td>\n",
       "      <td>7</td>\n",
       "      <td>63</td>\n",
       "    </tr>\n",
       "    <tr>\n",
       "      <th></th>\n",
       "      <td>0</td>\n",
       "      <td>9</td>\n",
       "      <td>28</td>\n",
       "    </tr>\n",
       "    <tr>\n",
       "      <th></th>\n",
       "      <td>2</td>\n",
       "      <td>2</td>\n",
       "      <td>20</td>\n",
       "    </tr>\n",
       "  </tbody>\n",
       "</table>\n",
       "</div>"
      ],
      "text/plain": [
       "Severity  1   2    3\n",
       "          0   0    8\n",
       "          0   3   20\n",
       "          0   1   28\n",
       "          0   3   34\n",
       "          1  11  115\n",
       "          1  16  133\n",
       "          2  15  219\n",
       "          3  12  168\n",
       "          0  10  125\n",
       "          1   7   63\n",
       "          0   9   28\n",
       "          2   2   20"
      ]
     },
     "execution_count": 60,
     "metadata": {},
     "output_type": "execute_result"
    }
   ],
   "source": [
    "# now we need to look up the labels\n",
    "# severity_by_age_df.columns = [label_of['Casualty_Severity', code] for code in severity_by_age_df.columns]\n",
    "severity_by_age_df.index = [label_of['Age_Band_of_Casualty', code] for code in severity_by_age_df.index]\n",
    "\n",
    "severity_by_age_df"
   ]
  },
  {
   "cell_type": "markdown",
   "metadata": {},
   "source": [
    "That didn't work so well, lets use the age of drivers "
   ]
  },
  {
   "cell_type": "code",
   "execution_count": 73,
   "metadata": {},
   "outputs": [
    {
     "data": {
      "text/html": [
       "<div>\n",
       "<style>\n",
       "    .dataframe thead tr:only-child th {\n",
       "        text-align: right;\n",
       "    }\n",
       "\n",
       "    .dataframe thead th {\n",
       "        text-align: left;\n",
       "    }\n",
       "\n",
       "    .dataframe tbody tr th {\n",
       "        vertical-align: top;\n",
       "    }\n",
       "</style>\n",
       "<table border=\"1\" class=\"dataframe\">\n",
       "  <thead>\n",
       "    <tr style=\"text-align: right;\">\n",
       "      <th>Severity</th>\n",
       "      <th>1</th>\n",
       "      <th>2</th>\n",
       "      <th>3</th>\n",
       "    </tr>\n",
       "    <tr>\n",
       "      <th>Age_Band_of_Casualty</th>\n",
       "      <th></th>\n",
       "      <th></th>\n",
       "      <th></th>\n",
       "    </tr>\n",
       "  </thead>\n",
       "  <tbody>\n",
       "    <tr>\n",
       "      <th>-1</th>\n",
       "      <td>0</td>\n",
       "      <td>0</td>\n",
       "      <td>8</td>\n",
       "    </tr>\n",
       "    <tr>\n",
       "      <th>1</th>\n",
       "      <td>0</td>\n",
       "      <td>3</td>\n",
       "      <td>20</td>\n",
       "    </tr>\n",
       "    <tr>\n",
       "      <th>2</th>\n",
       "      <td>0</td>\n",
       "      <td>1</td>\n",
       "      <td>28</td>\n",
       "    </tr>\n",
       "    <tr>\n",
       "      <th>3</th>\n",
       "      <td>0</td>\n",
       "      <td>3</td>\n",
       "      <td>34</td>\n",
       "    </tr>\n",
       "    <tr>\n",
       "      <th>4</th>\n",
       "      <td>1</td>\n",
       "      <td>11</td>\n",
       "      <td>115</td>\n",
       "    </tr>\n",
       "    <tr>\n",
       "      <th>5</th>\n",
       "      <td>1</td>\n",
       "      <td>16</td>\n",
       "      <td>133</td>\n",
       "    </tr>\n",
       "    <tr>\n",
       "      <th>6</th>\n",
       "      <td>2</td>\n",
       "      <td>15</td>\n",
       "      <td>219</td>\n",
       "    </tr>\n",
       "    <tr>\n",
       "      <th>7</th>\n",
       "      <td>3</td>\n",
       "      <td>12</td>\n",
       "      <td>168</td>\n",
       "    </tr>\n",
       "    <tr>\n",
       "      <th>8</th>\n",
       "      <td>0</td>\n",
       "      <td>10</td>\n",
       "      <td>125</td>\n",
       "    </tr>\n",
       "    <tr>\n",
       "      <th>9</th>\n",
       "      <td>1</td>\n",
       "      <td>7</td>\n",
       "      <td>63</td>\n",
       "    </tr>\n",
       "    <tr>\n",
       "      <th>10</th>\n",
       "      <td>0</td>\n",
       "      <td>9</td>\n",
       "      <td>28</td>\n",
       "    </tr>\n",
       "    <tr>\n",
       "      <th>11</th>\n",
       "      <td>2</td>\n",
       "      <td>2</td>\n",
       "      <td>20</td>\n",
       "    </tr>\n",
       "  </tbody>\n",
       "</table>\n",
       "</div>"
      ],
      "text/plain": [
       "Severity              1   2    3\n",
       "Age_Band_of_Casualty            \n",
       "-1                    0   0    8\n",
       " 1                    0   3   20\n",
       " 2                    0   1   28\n",
       " 3                    0   3   34\n",
       " 4                    1  11  115\n",
       " 5                    1  16  133\n",
       " 6                    2  15  219\n",
       " 7                    3  12  168\n",
       " 8                    0  10  125\n",
       " 9                    1   7   63\n",
       " 10                   0   9   28\n",
       " 11                   2   2   20"
      ]
     },
     "execution_count": 73,
     "metadata": {},
     "output_type": "execute_result"
    }
   ],
   "source": [
    "severity_by_age_unrolled_df = pd.DataFrame(list({'Age_Band_of_Casualty': c['Age_Band_of_Casualty'],\n",
    "                                                 'Severity': c['Casualty_Severity']}\n",
    "                                                for a in accidents.find({'Local_Authority_(Highway)': 'E06000042'})\n",
    "                                                for c in a['Casualties']))\n",
    "\n",
    "# Count the number of each severity\n",
    "severity_by_age_df = pd.crosstab(severity_by_age_unrolled_df['Age_Band_of_Casualty'],\n",
    "                                 severity_by_age_unrolled_df['Severity'])\n",
    "\n",
    "severity_by_age_df \n",
    "\n"
   ]
  },
  {
   "cell_type": "code",
   "execution_count": 74,
   "metadata": {},
   "outputs": [
    {
     "name": "stdout",
     "output_type": "stream",
     "text": [
      "Age_Band_of_Casualty \n",
      "Age_Band_of_Driver 56 - 65\n",
      "Age_Band_of_Casualty \n",
      "Age_Band_of_Casualty \n",
      "Age_Band_of_Driver \n",
      "Age_Band_of_Driver 16 - 20\n",
      "Age_Band_of_Casualty \n",
      "Age_Band_of_Driver \n",
      "Age_Band_of_Driver \n",
      "Age_Band_of_Driver 66 - 75\n",
      "Age_Band_of_Driver \n",
      "Age_Band_of_Casualty \n",
      "Age_Band_of_Driver \n",
      "Age_Band_of_Driver \n",
      "Age_Band_of_Casualty \n",
      "Age_Band_of_Driver 0 - 5\n",
      "Age_Band_of_Casualty \n",
      "Age_Band_of_Driver 46 - 55\n",
      "Age_Band_of_Driver 11 - 15\n",
      "Age_Band_of_Driver \n",
      "Age_Band_of_Driver \n",
      "Age_Band_of_Casualty \n",
      "Age_Band_of_Driver \n",
      "Age_Band_of_Driver 36 - 45\n",
      "Age_Band_of_Driver \n",
      "Age_Band_of_Casualty \n",
      "Age_Band_of_Casualty \n",
      "Age_Band_of_Driver 6 - 10\n",
      "Age_Band_of_Driver 21 - 25\n",
      "Age_Band_of_Casualty \n",
      "Age_Band_of_Driver \n",
      "Age_Band_of_Driver \n",
      "Age_Band_of_Driver Over 75\n",
      "Age_Band_of_Driver \n",
      "Age_Band_of_Casualty \n",
      "Age_Band_of_Driver 26 - 35\n"
     ]
    }
   ],
   "source": [
    "# check all labels that relate to 'age'\n",
    "for (k, c) in label_of:\n",
    "    if 'Age' in k:\n",
    "        print(k, label_of[k, c])"
   ]
  },
  {
   "cell_type": "markdown",
   "metadata": {},
   "source": [
    "It looks like the age_band_of driver is going to appoximate the same ranges"
   ]
  },
  {
   "cell_type": "code",
   "execution_count": 76,
   "metadata": {},
   "outputs": [
    {
     "data": {
      "text/html": [
       "<div>\n",
       "<style>\n",
       "    .dataframe thead tr:only-child th {\n",
       "        text-align: right;\n",
       "    }\n",
       "\n",
       "    .dataframe thead th {\n",
       "        text-align: left;\n",
       "    }\n",
       "\n",
       "    .dataframe tbody tr th {\n",
       "        vertical-align: top;\n",
       "    }\n",
       "</style>\n",
       "<table border=\"1\" class=\"dataframe\">\n",
       "  <thead>\n",
       "    <tr style=\"text-align: right;\">\n",
       "      <th></th>\n",
       "      <th>Fatal</th>\n",
       "      <th>Serious</th>\n",
       "      <th>Slight</th>\n",
       "    </tr>\n",
       "    <tr>\n",
       "      <th>Age band of driver</th>\n",
       "      <th></th>\n",
       "      <th></th>\n",
       "      <th></th>\n",
       "    </tr>\n",
       "  </thead>\n",
       "  <tbody>\n",
       "    <tr>\n",
       "      <th>Unknown</th>\n",
       "      <td>0</td>\n",
       "      <td>0</td>\n",
       "      <td>8</td>\n",
       "    </tr>\n",
       "    <tr>\n",
       "      <th>0 - 5</th>\n",
       "      <td>0</td>\n",
       "      <td>3</td>\n",
       "      <td>20</td>\n",
       "    </tr>\n",
       "    <tr>\n",
       "      <th>6 - 10</th>\n",
       "      <td>0</td>\n",
       "      <td>1</td>\n",
       "      <td>28</td>\n",
       "    </tr>\n",
       "    <tr>\n",
       "      <th>11 - 15</th>\n",
       "      <td>0</td>\n",
       "      <td>3</td>\n",
       "      <td>34</td>\n",
       "    </tr>\n",
       "    <tr>\n",
       "      <th>16 - 20</th>\n",
       "      <td>1</td>\n",
       "      <td>11</td>\n",
       "      <td>115</td>\n",
       "    </tr>\n",
       "    <tr>\n",
       "      <th>21 - 25</th>\n",
       "      <td>1</td>\n",
       "      <td>16</td>\n",
       "      <td>133</td>\n",
       "    </tr>\n",
       "    <tr>\n",
       "      <th>26 - 35</th>\n",
       "      <td>2</td>\n",
       "      <td>15</td>\n",
       "      <td>219</td>\n",
       "    </tr>\n",
       "    <tr>\n",
       "      <th>36 - 45</th>\n",
       "      <td>3</td>\n",
       "      <td>12</td>\n",
       "      <td>168</td>\n",
       "    </tr>\n",
       "    <tr>\n",
       "      <th>46 - 55</th>\n",
       "      <td>0</td>\n",
       "      <td>10</td>\n",
       "      <td>125</td>\n",
       "    </tr>\n",
       "    <tr>\n",
       "      <th>56 - 65</th>\n",
       "      <td>1</td>\n",
       "      <td>7</td>\n",
       "      <td>63</td>\n",
       "    </tr>\n",
       "    <tr>\n",
       "      <th>66 - 75</th>\n",
       "      <td>0</td>\n",
       "      <td>9</td>\n",
       "      <td>28</td>\n",
       "    </tr>\n",
       "    <tr>\n",
       "      <th>Over 75</th>\n",
       "      <td>2</td>\n",
       "      <td>2</td>\n",
       "      <td>20</td>\n",
       "    </tr>\n",
       "  </tbody>\n",
       "</table>\n",
       "</div>"
      ],
      "text/plain": [
       "                    Fatal  Serious  Slight\n",
       "Age band of driver                        \n",
       "Unknown                 0        0       8\n",
       "0 - 5                   0        3      20\n",
       "6 - 10                  0        1      28\n",
       "11 - 15                 0        3      34\n",
       "16 - 20                 1       11     115\n",
       "21 - 25                 1       16     133\n",
       "26 - 35                 2       15     219\n",
       "36 - 45                 3       12     168\n",
       "46 - 55                 0       10     125\n",
       "56 - 65                 1        7      63\n",
       "66 - 75                 0        9      28\n",
       "Over 75                 2        2      20"
      ]
     },
     "execution_count": 76,
     "metadata": {},
     "output_type": "execute_result"
    }
   ],
   "source": [
    "# relabel the index\n",
    "severity_list = [label_of['Age_Band_of_Driver', c] \n",
    "                            for c in severity_by_age_df.index]\n",
    "# there is a problem with this as the first value dousn't tally up\n",
    "# work around is to add an uknown\n",
    "severity_by_age_df.index = ['Unknown'] + severity_list[1:]\n",
    "# add a meaningful column name\n",
    "severity_by_age_df.index.name = 'Age band of driver'\n",
    "\n",
    "# relabel the columns\n",
    "severity_by_age_df.columns = [label_of['Casualty_Severity', c] \n",
    "                              for c in severity_by_age_df.columns]\n",
    "\n",
    "severity_by_age_df"
   ]
  },
  {
   "cell_type": "code",
   "execution_count": 78,
   "metadata": {},
   "outputs": [
    {
     "data": {
      "text/plain": [
       "array([<matplotlib.axes._subplots.AxesSubplot object at 0x7f5dc2db8780>,\n",
       "       <matplotlib.axes._subplots.AxesSubplot object at 0x7f5db865a400>,\n",
       "       <matplotlib.axes._subplots.AxesSubplot object at 0x7f5db8120e10>], dtype=object)"
      ]
     },
     "execution_count": 78,
     "metadata": {},
     "output_type": "execute_result"
    },
    {
     "data": {
      "image/png": "[encoded data removed]",
      "text/plain": [
       "<matplotlib.figure.Figure at 0x7f5dc3266a90>"
      ]
     },
     "metadata": {},
     "output_type": "display_data"
    }
   ],
   "source": [
    "severity_by_age_df.plot(kind='bar', subplots=True)"
   ]
  },
  {
   "cell_type": "code",
   "execution_count": 79,
   "metadata": {},
   "outputs": [
    {
     "data": {
      "text/plain": [
       "<matplotlib.axes._subplots.AxesSubplot at 0x7f5dc32e4b00>"
      ]
     },
     "execution_count": 79,
     "metadata": {},
     "output_type": "execute_result"
    },
    {
     "data": {
      "image/png": "[encoded data removed]",
      "text/plain": [
       "<matplotlib.figure.Figure at 0x7f5dc0338e80>"
      ]
     },
     "metadata": {},
     "output_type": "display_data"
    }
   ],
   "source": [
    "severity_by_age_df.plot()"
   ]
  },
  {
   "cell_type": "markdown",
   "metadata": {},
   "source": [
    "The number of `slight` casualties is (thankfully) much larger than the other severities, so it's difficult to see if the proportions in different ave bands remain similar. We can try plotting the data in separate graphs, mindful that the y-axis scales will be different in each graph. (It will show if there's a different pattern across severities.)"
   ]
  },
  {
   "cell_type": "code",
   "execution_count": 81,
   "metadata": {},
   "outputs": [
    {
     "data": {
      "text/plain": [
       "array([<matplotlib.axes._subplots.AxesSubplot object at 0x7f5db8757e48>,\n",
       "       <matplotlib.axes._subplots.AxesSubplot object at 0x7f5db7a17f98>,\n",
       "       <matplotlib.axes._subplots.AxesSubplot object at 0x7f5db7ab2908>], dtype=object)"
      ]
     },
     "execution_count": 81,
     "metadata": {},
     "output_type": "execute_result"
    },
    {
     "data": {
      "image/png": "[encoded data removed]",
      "text/plain": [
       "<matplotlib.figure.Figure at 0x7f5db8eae4a8>"
      ]
     },
     "metadata": {},
     "output_type": "display_data"
    }
   ],
   "source": [
    "severity_by_age_df.plot(subplots=True)"
   ]
  },
  {
   "cell_type": "markdown",
   "metadata": {},
   "source": [
    "... or on one graph, using a secondary y axis for non-slight casualties."
   ]
  },
  {
   "cell_type": "code",
   "execution_count": 82,
   "metadata": {},
   "outputs": [
    {
     "data": {
      "text/plain": [
       "<matplotlib.axes._subplots.AxesSubplot at 0x7f5dc00954a8>"
      ]
     },
     "execution_count": 82,
     "metadata": {},
     "output_type": "execute_result"
    },
    {
     "data": {
      "image/png": "[encoded data removed]",
      "text/plain": [
       "<matplotlib.figure.Figure at 0x7f5dc0396e10>"
      ]
     },
     "metadata": {},
     "output_type": "display_data"
    }
   ],
   "source": [
    "severity_by_age_df['Slight'].plot()\n",
    "severity_by_age_df['Serious'].plot(secondary_y=True)\n",
    "severity_by_age_df['Fatal'].plot(secondary_y=True)"
   ]
  },
  {
   "cell_type": "markdown",
   "metadata": {},
   "source": [
    "There doesn't seem to be a vast difference in the proportion of casualties. (The number of deaths is too low to dray any firm conclusions from.)"
   ]
  },
  {
   "cell_type": "markdown",
   "metadata": {},
   "source": [
    "## Size of accidents: comparing numbers of vehicles and casualties\n",
    "Some accidents are 'big' and some are 'small'. There are two obvious ways of describing such accidents: the number of casualties or the number of vehicles. We'd expect these two measures to be correlated. Let's find oout if that's the case.\n",
    "\n",
    "First, we'll sead the sizes of accidents from the database and count them, as before"
   ]
  },
  {
   "cell_type": "code",
   "execution_count": 86,
   "metadata": {},
   "outputs": [
    {
     "data": {
      "text/html": [
       "<div>\n",
       "<style>\n",
       "    .dataframe thead tr:only-child th {\n",
       "        text-align: right;\n",
       "    }\n",
       "\n",
       "    .dataframe thead th {\n",
       "        text-align: left;\n",
       "    }\n",
       "\n",
       "    .dataframe tbody tr th {\n",
       "        vertical-align: top;\n",
       "    }\n",
       "</style>\n",
       "<table border=\"1\" class=\"dataframe\">\n",
       "  <thead>\n",
       "    <tr style=\"text-align: right;\">\n",
       "      <th>Number_of_Vehicles</th>\n",
       "      <th>1</th>\n",
       "      <th>2</th>\n",
       "      <th>3</th>\n",
       "      <th>4</th>\n",
       "      <th>5</th>\n",
       "      <th>6</th>\n",
       "      <th>7</th>\n",
       "      <th>8</th>\n",
       "      <th>9</th>\n",
       "      <th>10</th>\n",
       "      <th>11</th>\n",
       "      <th>12</th>\n",
       "      <th>13</th>\n",
       "      <th>16</th>\n",
       "      <th>18</th>\n",
       "    </tr>\n",
       "    <tr>\n",
       "      <th>Number_of_Casualties</th>\n",
       "      <th></th>\n",
       "      <th></th>\n",
       "      <th></th>\n",
       "      <th></th>\n",
       "      <th></th>\n",
       "      <th></th>\n",
       "      <th></th>\n",
       "      <th></th>\n",
       "      <th></th>\n",
       "      <th></th>\n",
       "      <th></th>\n",
       "      <th></th>\n",
       "      <th></th>\n",
       "      <th></th>\n",
       "      <th></th>\n",
       "    </tr>\n",
       "  </thead>\n",
       "  <tbody>\n",
       "    <tr>\n",
       "      <th>1</th>\n",
       "      <td>39217</td>\n",
       "      <td>65680</td>\n",
       "      <td>6168</td>\n",
       "      <td>1056</td>\n",
       "      <td>197</td>\n",
       "      <td>76</td>\n",
       "      <td>27</td>\n",
       "      <td>4</td>\n",
       "      <td>1</td>\n",
       "      <td>1</td>\n",
       "      <td>1</td>\n",
       "      <td>0</td>\n",
       "      <td>0</td>\n",
       "      <td>0</td>\n",
       "      <td>0</td>\n",
       "    </tr>\n",
       "    <tr>\n",
       "      <th>2</th>\n",
       "      <td>3781</td>\n",
       "      <td>15035</td>\n",
       "      <td>3002</td>\n",
       "      <td>716</td>\n",
       "      <td>128</td>\n",
       "      <td>41</td>\n",
       "      <td>14</td>\n",
       "      <td>4</td>\n",
       "      <td>6</td>\n",
       "      <td>3</td>\n",
       "      <td>0</td>\n",
       "      <td>1</td>\n",
       "      <td>0</td>\n",
       "      <td>1</td>\n",
       "      <td>0</td>\n",
       "    </tr>\n",
       "    <tr>\n",
       "      <th>3</th>\n",
       "      <td>682</td>\n",
       "      <td>4186</td>\n",
       "      <td>1203</td>\n",
       "      <td>319</td>\n",
       "      <td>73</td>\n",
       "      <td>25</td>\n",
       "      <td>12</td>\n",
       "      <td>6</td>\n",
       "      <td>2</td>\n",
       "      <td>0</td>\n",
       "      <td>1</td>\n",
       "      <td>0</td>\n",
       "      <td>0</td>\n",
       "      <td>0</td>\n",
       "      <td>0</td>\n",
       "    </tr>\n",
       "    <tr>\n",
       "      <th>4</th>\n",
       "      <td>287</td>\n",
       "      <td>1440</td>\n",
       "      <td>481</td>\n",
       "      <td>166</td>\n",
       "      <td>48</td>\n",
       "      <td>11</td>\n",
       "      <td>2</td>\n",
       "      <td>3</td>\n",
       "      <td>2</td>\n",
       "      <td>0</td>\n",
       "      <td>0</td>\n",
       "      <td>0</td>\n",
       "      <td>1</td>\n",
       "      <td>0</td>\n",
       "      <td>1</td>\n",
       "    </tr>\n",
       "    <tr>\n",
       "      <th>5</th>\n",
       "      <td>79</td>\n",
       "      <td>521</td>\n",
       "      <td>169</td>\n",
       "      <td>63</td>\n",
       "      <td>29</td>\n",
       "      <td>10</td>\n",
       "      <td>6</td>\n",
       "      <td>1</td>\n",
       "      <td>1</td>\n",
       "      <td>0</td>\n",
       "      <td>0</td>\n",
       "      <td>0</td>\n",
       "      <td>0</td>\n",
       "      <td>0</td>\n",
       "      <td>0</td>\n",
       "    </tr>\n",
       "    <tr>\n",
       "      <th>6</th>\n",
       "      <td>22</td>\n",
       "      <td>183</td>\n",
       "      <td>72</td>\n",
       "      <td>46</td>\n",
       "      <td>13</td>\n",
       "      <td>4</td>\n",
       "      <td>7</td>\n",
       "      <td>1</td>\n",
       "      <td>0</td>\n",
       "      <td>0</td>\n",
       "      <td>0</td>\n",
       "      <td>0</td>\n",
       "      <td>0</td>\n",
       "      <td>0</td>\n",
       "      <td>0</td>\n",
       "    </tr>\n",
       "    <tr>\n",
       "      <th>7</th>\n",
       "      <td>7</td>\n",
       "      <td>52</td>\n",
       "      <td>28</td>\n",
       "      <td>12</td>\n",
       "      <td>7</td>\n",
       "      <td>2</td>\n",
       "      <td>1</td>\n",
       "      <td>2</td>\n",
       "      <td>0</td>\n",
       "      <td>0</td>\n",
       "      <td>0</td>\n",
       "      <td>0</td>\n",
       "      <td>0</td>\n",
       "      <td>0</td>\n",
       "      <td>0</td>\n",
       "    </tr>\n",
       "    <tr>\n",
       "      <th>8</th>\n",
       "      <td>5</td>\n",
       "      <td>24</td>\n",
       "      <td>12</td>\n",
       "      <td>9</td>\n",
       "      <td>3</td>\n",
       "      <td>2</td>\n",
       "      <td>0</td>\n",
       "      <td>0</td>\n",
       "      <td>0</td>\n",
       "      <td>1</td>\n",
       "      <td>0</td>\n",
       "      <td>0</td>\n",
       "      <td>0</td>\n",
       "      <td>0</td>\n",
       "      <td>0</td>\n",
       "    </tr>\n",
       "    <tr>\n",
       "      <th>9</th>\n",
       "      <td>2</td>\n",
       "      <td>11</td>\n",
       "      <td>5</td>\n",
       "      <td>1</td>\n",
       "      <td>2</td>\n",
       "      <td>0</td>\n",
       "      <td>0</td>\n",
       "      <td>0</td>\n",
       "      <td>0</td>\n",
       "      <td>0</td>\n",
       "      <td>0</td>\n",
       "      <td>0</td>\n",
       "      <td>0</td>\n",
       "      <td>0</td>\n",
       "      <td>0</td>\n",
       "    </tr>\n",
       "    <tr>\n",
       "      <th>10</th>\n",
       "      <td>0</td>\n",
       "      <td>7</td>\n",
       "      <td>3</td>\n",
       "      <td>0</td>\n",
       "      <td>3</td>\n",
       "      <td>0</td>\n",
       "      <td>0</td>\n",
       "      <td>0</td>\n",
       "      <td>0</td>\n",
       "      <td>0</td>\n",
       "      <td>0</td>\n",
       "      <td>0</td>\n",
       "      <td>0</td>\n",
       "      <td>0</td>\n",
       "      <td>0</td>\n",
       "    </tr>\n",
       "    <tr>\n",
       "      <th>11</th>\n",
       "      <td>0</td>\n",
       "      <td>3</td>\n",
       "      <td>1</td>\n",
       "      <td>4</td>\n",
       "      <td>0</td>\n",
       "      <td>0</td>\n",
       "      <td>0</td>\n",
       "      <td>1</td>\n",
       "      <td>2</td>\n",
       "      <td>0</td>\n",
       "      <td>0</td>\n",
       "      <td>0</td>\n",
       "      <td>0</td>\n",
       "      <td>0</td>\n",
       "      <td>0</td>\n",
       "    </tr>\n",
       "    <tr>\n",
       "      <th>12</th>\n",
       "      <td>1</td>\n",
       "      <td>1</td>\n",
       "      <td>1</td>\n",
       "      <td>0</td>\n",
       "      <td>0</td>\n",
       "      <td>0</td>\n",
       "      <td>1</td>\n",
       "      <td>0</td>\n",
       "      <td>0</td>\n",
       "      <td>0</td>\n",
       "      <td>0</td>\n",
       "      <td>0</td>\n",
       "      <td>0</td>\n",
       "      <td>0</td>\n",
       "      <td>0</td>\n",
       "    </tr>\n",
       "    <tr>\n",
       "      <th>13</th>\n",
       "      <td>1</td>\n",
       "      <td>2</td>\n",
       "      <td>0</td>\n",
       "      <td>1</td>\n",
       "      <td>0</td>\n",
       "      <td>1</td>\n",
       "      <td>0</td>\n",
       "      <td>0</td>\n",
       "      <td>0</td>\n",
       "      <td>0</td>\n",
       "      <td>0</td>\n",
       "      <td>0</td>\n",
       "      <td>0</td>\n",
       "      <td>0</td>\n",
       "      <td>0</td>\n",
       "    </tr>\n",
       "    <tr>\n",
       "      <th>14</th>\n",
       "      <td>1</td>\n",
       "      <td>0</td>\n",
       "      <td>0</td>\n",
       "      <td>0</td>\n",
       "      <td>0</td>\n",
       "      <td>0</td>\n",
       "      <td>0</td>\n",
       "      <td>0</td>\n",
       "      <td>0</td>\n",
       "      <td>0</td>\n",
       "      <td>0</td>\n",
       "      <td>0</td>\n",
       "      <td>0</td>\n",
       "      <td>0</td>\n",
       "      <td>0</td>\n",
       "    </tr>\n",
       "    <tr>\n",
       "      <th>15</th>\n",
       "      <td>0</td>\n",
       "      <td>1</td>\n",
       "      <td>1</td>\n",
       "      <td>0</td>\n",
       "      <td>0</td>\n",
       "      <td>0</td>\n",
       "      <td>0</td>\n",
       "      <td>0</td>\n",
       "      <td>0</td>\n",
       "      <td>0</td>\n",
       "      <td>0</td>\n",
       "      <td>0</td>\n",
       "      <td>0</td>\n",
       "      <td>0</td>\n",
       "      <td>0</td>\n",
       "    </tr>\n",
       "    <tr>\n",
       "      <th>16</th>\n",
       "      <td>1</td>\n",
       "      <td>0</td>\n",
       "      <td>1</td>\n",
       "      <td>0</td>\n",
       "      <td>0</td>\n",
       "      <td>0</td>\n",
       "      <td>0</td>\n",
       "      <td>0</td>\n",
       "      <td>0</td>\n",
       "      <td>0</td>\n",
       "      <td>0</td>\n",
       "      <td>0</td>\n",
       "      <td>0</td>\n",
       "      <td>0</td>\n",
       "      <td>0</td>\n",
       "    </tr>\n",
       "    <tr>\n",
       "      <th>17</th>\n",
       "      <td>0</td>\n",
       "      <td>1</td>\n",
       "      <td>0</td>\n",
       "      <td>0</td>\n",
       "      <td>0</td>\n",
       "      <td>0</td>\n",
       "      <td>0</td>\n",
       "      <td>0</td>\n",
       "      <td>0</td>\n",
       "      <td>0</td>\n",
       "      <td>0</td>\n",
       "      <td>0</td>\n",
       "      <td>0</td>\n",
       "      <td>0</td>\n",
       "      <td>0</td>\n",
       "    </tr>\n",
       "    <tr>\n",
       "      <th>19</th>\n",
       "      <td>0</td>\n",
       "      <td>1</td>\n",
       "      <td>0</td>\n",
       "      <td>0</td>\n",
       "      <td>0</td>\n",
       "      <td>0</td>\n",
       "      <td>0</td>\n",
       "      <td>0</td>\n",
       "      <td>0</td>\n",
       "      <td>0</td>\n",
       "      <td>0</td>\n",
       "      <td>0</td>\n",
       "      <td>0</td>\n",
       "      <td>0</td>\n",
       "      <td>0</td>\n",
       "    </tr>\n",
       "    <tr>\n",
       "      <th>25</th>\n",
       "      <td>0</td>\n",
       "      <td>2</td>\n",
       "      <td>0</td>\n",
       "      <td>0</td>\n",
       "      <td>0</td>\n",
       "      <td>0</td>\n",
       "      <td>0</td>\n",
       "      <td>0</td>\n",
       "      <td>0</td>\n",
       "      <td>0</td>\n",
       "      <td>0</td>\n",
       "      <td>0</td>\n",
       "      <td>0</td>\n",
       "      <td>0</td>\n",
       "      <td>0</td>\n",
       "    </tr>\n",
       "    <tr>\n",
       "      <th>33</th>\n",
       "      <td>0</td>\n",
       "      <td>1</td>\n",
       "      <td>0</td>\n",
       "      <td>0</td>\n",
       "      <td>0</td>\n",
       "      <td>0</td>\n",
       "      <td>0</td>\n",
       "      <td>0</td>\n",
       "      <td>0</td>\n",
       "      <td>0</td>\n",
       "      <td>0</td>\n",
       "      <td>0</td>\n",
       "      <td>0</td>\n",
       "      <td>0</td>\n",
       "      <td>0</td>\n",
       "    </tr>\n",
       "    <tr>\n",
       "      <th>38</th>\n",
       "      <td>0</td>\n",
       "      <td>0</td>\n",
       "      <td>0</td>\n",
       "      <td>1</td>\n",
       "      <td>0</td>\n",
       "      <td>0</td>\n",
       "      <td>0</td>\n",
       "      <td>0</td>\n",
       "      <td>0</td>\n",
       "      <td>0</td>\n",
       "      <td>0</td>\n",
       "      <td>0</td>\n",
       "      <td>0</td>\n",
       "      <td>0</td>\n",
       "      <td>0</td>\n",
       "    </tr>\n",
       "    <tr>\n",
       "      <th>42</th>\n",
       "      <td>0</td>\n",
       "      <td>1</td>\n",
       "      <td>0</td>\n",
       "      <td>0</td>\n",
       "      <td>0</td>\n",
       "      <td>0</td>\n",
       "      <td>0</td>\n",
       "      <td>0</td>\n",
       "      <td>0</td>\n",
       "      <td>0</td>\n",
       "      <td>0</td>\n",
       "      <td>0</td>\n",
       "      <td>0</td>\n",
       "      <td>0</td>\n",
       "      <td>0</td>\n",
       "    </tr>\n",
       "  </tbody>\n",
       "</table>\n",
       "</div>"
      ],
      "text/plain": [
       "Number_of_Vehicles       1      2     3     4    5   6   7   8   9   10  11  \\\n",
       "Number_of_Casualties                                                          \n",
       "1                     39217  65680  6168  1056  197  76  27   4   1   1   1   \n",
       "2                      3781  15035  3002   716  128  41  14   4   6   3   0   \n",
       "3                       682   4186  1203   319   73  25  12   6   2   0   1   \n",
       "4                       287   1440   481   166   48  11   2   3   2   0   0   \n",
       "5                        79    521   169    63   29  10   6   1   1   0   0   \n",
       "6                        22    183    72    46   13   4   7   1   0   0   0   \n",
       "7                         7     52    28    12    7   2   1   2   0   0   0   \n",
       "8                         5     24    12     9    3   2   0   0   0   1   0   \n",
       "9                         2     11     5     1    2   0   0   0   0   0   0   \n",
       "10                        0      7     3     0    3   0   0   0   0   0   0   \n",
       "11                        0      3     1     4    0   0   0   1   2   0   0   \n",
       "12                        1      1     1     0    0   0   1   0   0   0   0   \n",
       "13                        1      2     0     1    0   1   0   0   0   0   0   \n",
       "14                        1      0     0     0    0   0   0   0   0   0   0   \n",
       "15                        0      1     1     0    0   0   0   0   0   0   0   \n",
       "16                        1      0     1     0    0   0   0   0   0   0   0   \n",
       "17                        0      1     0     0    0   0   0   0   0   0   0   \n",
       "19                        0      1     0     0    0   0   0   0   0   0   0   \n",
       "25                        0      2     0     0    0   0   0   0   0   0   0   \n",
       "33                        0      1     0     0    0   0   0   0   0   0   0   \n",
       "38                        0      0     0     1    0   0   0   0   0   0   0   \n",
       "42                        0      1     0     0    0   0   0   0   0   0   0   \n",
       "\n",
       "Number_of_Vehicles    12  13  16  18  \n",
       "Number_of_Casualties                  \n",
       "1                      0   0   0   0  \n",
       "2                      1   0   1   0  \n",
       "3                      0   0   0   0  \n",
       "4                      0   1   0   1  \n",
       "5                      0   0   0   0  \n",
       "6                      0   0   0   0  \n",
       "7                      0   0   0   0  \n",
       "8                      0   0   0   0  \n",
       "9                      0   0   0   0  \n",
       "10                     0   0   0   0  \n",
       "11                     0   0   0   0  \n",
       "12                     0   0   0   0  \n",
       "13                     0   0   0   0  \n",
       "14                     0   0   0   0  \n",
       "15                     0   0   0   0  \n",
       "16                     0   0   0   0  \n",
       "17                     0   0   0   0  \n",
       "19                     0   0   0   0  \n",
       "25                     0   0   0   0  \n",
       "33                     0   0   0   0  \n",
       "38                     0   0   0   0  \n",
       "42                     0   0   0   0  "
      ]
     },
     "execution_count": 86,
     "metadata": {},
     "output_type": "execute_result"
    }
   ],
   "source": [
    "# Build a DataFrame, one row for each accident\n",
    "cas_veh_unrolled_df = pd.DataFrame(list(accidents.find({}, ['Number_of_Casualties', 'Number_of_Vehicles'])))\n",
    "\n",
    "# Count the number of eavh severity\n",
    "cas_veh_df = pd.crosstab(cas_veh_unrolled_df['Number_of_Casualties'], \n",
    "                         cas_veh_unrolled_df['Number_of_Vehicles'])\n",
    "\n",
    "# habe a look at the resultant DF\n",
    "cas_veh_df"
   ]
  },
  {
   "cell_type": "markdown",
   "metadata": {
    "collapsed": true
   },
   "source": [
    "We want to plot this data as a scatter plot, but that function requires a sequence of casualty numbers, vehicle numbers, and counts of accidents for each pair To convert this data into three sequences, we'll use the `stack()` and `reset_index()` methods we saw earlier"
   ]
  },
  {
   "cell_type": "code",
   "execution_count": 87,
   "metadata": {},
   "outputs": [
    {
     "data": {
      "text/html": [
       "<div>\n",
       "<style>\n",
       "    .dataframe thead tr:only-child th {\n",
       "        text-align: right;\n",
       "    }\n",
       "\n",
       "    .dataframe thead th {\n",
       "        text-align: left;\n",
       "    }\n",
       "\n",
       "    .dataframe tbody tr th {\n",
       "        vertical-align: top;\n",
       "    }\n",
       "</style>\n",
       "<table border=\"1\" class=\"dataframe\">\n",
       "  <thead>\n",
       "    <tr style=\"text-align: right;\">\n",
       "      <th></th>\n",
       "      <th>Number_of_Casualties</th>\n",
       "      <th>Number_of_Vehicles</th>\n",
       "      <th>0</th>\n",
       "    </tr>\n",
       "  </thead>\n",
       "  <tbody>\n",
       "    <tr>\n",
       "      <th>0</th>\n",
       "      <td>1</td>\n",
       "      <td>1</td>\n",
       "      <td>39217</td>\n",
       "    </tr>\n",
       "    <tr>\n",
       "      <th>1</th>\n",
       "      <td>1</td>\n",
       "      <td>2</td>\n",
       "      <td>65680</td>\n",
       "    </tr>\n",
       "    <tr>\n",
       "      <th>2</th>\n",
       "      <td>1</td>\n",
       "      <td>3</td>\n",
       "      <td>6168</td>\n",
       "    </tr>\n",
       "    <tr>\n",
       "      <th>3</th>\n",
       "      <td>1</td>\n",
       "      <td>4</td>\n",
       "      <td>1056</td>\n",
       "    </tr>\n",
       "    <tr>\n",
       "      <th>4</th>\n",
       "      <td>1</td>\n",
       "      <td>5</td>\n",
       "      <td>197</td>\n",
       "    </tr>\n",
       "    <tr>\n",
       "      <th>5</th>\n",
       "      <td>1</td>\n",
       "      <td>6</td>\n",
       "      <td>76</td>\n",
       "    </tr>\n",
       "    <tr>\n",
       "      <th>6</th>\n",
       "      <td>1</td>\n",
       "      <td>7</td>\n",
       "      <td>27</td>\n",
       "    </tr>\n",
       "    <tr>\n",
       "      <th>7</th>\n",
       "      <td>1</td>\n",
       "      <td>8</td>\n",
       "      <td>4</td>\n",
       "    </tr>\n",
       "    <tr>\n",
       "      <th>8</th>\n",
       "      <td>1</td>\n",
       "      <td>9</td>\n",
       "      <td>1</td>\n",
       "    </tr>\n",
       "    <tr>\n",
       "      <th>9</th>\n",
       "      <td>1</td>\n",
       "      <td>10</td>\n",
       "      <td>1</td>\n",
       "    </tr>\n",
       "    <tr>\n",
       "      <th>10</th>\n",
       "      <td>1</td>\n",
       "      <td>11</td>\n",
       "      <td>1</td>\n",
       "    </tr>\n",
       "    <tr>\n",
       "      <th>11</th>\n",
       "      <td>1</td>\n",
       "      <td>12</td>\n",
       "      <td>0</td>\n",
       "    </tr>\n",
       "    <tr>\n",
       "      <th>12</th>\n",
       "      <td>1</td>\n",
       "      <td>13</td>\n",
       "      <td>0</td>\n",
       "    </tr>\n",
       "    <tr>\n",
       "      <th>13</th>\n",
       "      <td>1</td>\n",
       "      <td>16</td>\n",
       "      <td>0</td>\n",
       "    </tr>\n",
       "    <tr>\n",
       "      <th>14</th>\n",
       "      <td>1</td>\n",
       "      <td>18</td>\n",
       "      <td>0</td>\n",
       "    </tr>\n",
       "    <tr>\n",
       "      <th>15</th>\n",
       "      <td>2</td>\n",
       "      <td>1</td>\n",
       "      <td>3781</td>\n",
       "    </tr>\n",
       "    <tr>\n",
       "      <th>16</th>\n",
       "      <td>2</td>\n",
       "      <td>2</td>\n",
       "      <td>15035</td>\n",
       "    </tr>\n",
       "    <tr>\n",
       "      <th>17</th>\n",
       "      <td>2</td>\n",
       "      <td>3</td>\n",
       "      <td>3002</td>\n",
       "    </tr>\n",
       "    <tr>\n",
       "      <th>18</th>\n",
       "      <td>2</td>\n",
       "      <td>4</td>\n",
       "      <td>716</td>\n",
       "    </tr>\n",
       "    <tr>\n",
       "      <th>19</th>\n",
       "      <td>2</td>\n",
       "      <td>5</td>\n",
       "      <td>128</td>\n",
       "    </tr>\n",
       "    <tr>\n",
       "      <th>20</th>\n",
       "      <td>2</td>\n",
       "      <td>6</td>\n",
       "      <td>41</td>\n",
       "    </tr>\n",
       "    <tr>\n",
       "      <th>21</th>\n",
       "      <td>2</td>\n",
       "      <td>7</td>\n",
       "      <td>14</td>\n",
       "    </tr>\n",
       "    <tr>\n",
       "      <th>22</th>\n",
       "      <td>2</td>\n",
       "      <td>8</td>\n",
       "      <td>4</td>\n",
       "    </tr>\n",
       "    <tr>\n",
       "      <th>23</th>\n",
       "      <td>2</td>\n",
       "      <td>9</td>\n",
       "      <td>6</td>\n",
       "    </tr>\n",
       "    <tr>\n",
       "      <th>24</th>\n",
       "      <td>2</td>\n",
       "      <td>10</td>\n",
       "      <td>3</td>\n",
       "    </tr>\n",
       "    <tr>\n",
       "      <th>25</th>\n",
       "      <td>2</td>\n",
       "      <td>11</td>\n",
       "      <td>0</td>\n",
       "    </tr>\n",
       "    <tr>\n",
       "      <th>26</th>\n",
       "      <td>2</td>\n",
       "      <td>12</td>\n",
       "      <td>1</td>\n",
       "    </tr>\n",
       "    <tr>\n",
       "      <th>27</th>\n",
       "      <td>2</td>\n",
       "      <td>13</td>\n",
       "      <td>0</td>\n",
       "    </tr>\n",
       "    <tr>\n",
       "      <th>28</th>\n",
       "      <td>2</td>\n",
       "      <td>16</td>\n",
       "      <td>1</td>\n",
       "    </tr>\n",
       "    <tr>\n",
       "      <th>29</th>\n",
       "      <td>2</td>\n",
       "      <td>18</td>\n",
       "      <td>0</td>\n",
       "    </tr>\n",
       "    <tr>\n",
       "      <th>...</th>\n",
       "      <td>...</td>\n",
       "      <td>...</td>\n",
       "      <td>...</td>\n",
       "    </tr>\n",
       "    <tr>\n",
       "      <th>300</th>\n",
       "      <td>38</td>\n",
       "      <td>1</td>\n",
       "      <td>0</td>\n",
       "    </tr>\n",
       "    <tr>\n",
       "      <th>301</th>\n",
       "      <td>38</td>\n",
       "      <td>2</td>\n",
       "      <td>0</td>\n",
       "    </tr>\n",
       "    <tr>\n",
       "      <th>302</th>\n",
       "      <td>38</td>\n",
       "      <td>3</td>\n",
       "      <td>0</td>\n",
       "    </tr>\n",
       "    <tr>\n",
       "      <th>303</th>\n",
       "      <td>38</td>\n",
       "      <td>4</td>\n",
       "      <td>1</td>\n",
       "    </tr>\n",
       "    <tr>\n",
       "      <th>304</th>\n",
       "      <td>38</td>\n",
       "      <td>5</td>\n",
       "      <td>0</td>\n",
       "    </tr>\n",
       "    <tr>\n",
       "      <th>305</th>\n",
       "      <td>38</td>\n",
       "      <td>6</td>\n",
       "      <td>0</td>\n",
       "    </tr>\n",
       "    <tr>\n",
       "      <th>306</th>\n",
       "      <td>38</td>\n",
       "      <td>7</td>\n",
       "      <td>0</td>\n",
       "    </tr>\n",
       "    <tr>\n",
       "      <th>307</th>\n",
       "      <td>38</td>\n",
       "      <td>8</td>\n",
       "      <td>0</td>\n",
       "    </tr>\n",
       "    <tr>\n",
       "      <th>308</th>\n",
       "      <td>38</td>\n",
       "      <td>9</td>\n",
       "      <td>0</td>\n",
       "    </tr>\n",
       "    <tr>\n",
       "      <th>309</th>\n",
       "      <td>38</td>\n",
       "      <td>10</td>\n",
       "      <td>0</td>\n",
       "    </tr>\n",
       "    <tr>\n",
       "      <th>310</th>\n",
       "      <td>38</td>\n",
       "      <td>11</td>\n",
       "      <td>0</td>\n",
       "    </tr>\n",
       "    <tr>\n",
       "      <th>311</th>\n",
       "      <td>38</td>\n",
       "      <td>12</td>\n",
       "      <td>0</td>\n",
       "    </tr>\n",
       "    <tr>\n",
       "      <th>312</th>\n",
       "      <td>38</td>\n",
       "      <td>13</td>\n",
       "      <td>0</td>\n",
       "    </tr>\n",
       "    <tr>\n",
       "      <th>313</th>\n",
       "      <td>38</td>\n",
       "      <td>16</td>\n",
       "      <td>0</td>\n",
       "    </tr>\n",
       "    <tr>\n",
       "      <th>314</th>\n",
       "      <td>38</td>\n",
       "      <td>18</td>\n",
       "      <td>0</td>\n",
       "    </tr>\n",
       "    <tr>\n",
       "      <th>315</th>\n",
       "      <td>42</td>\n",
       "      <td>1</td>\n",
       "      <td>0</td>\n",
       "    </tr>\n",
       "    <tr>\n",
       "      <th>316</th>\n",
       "      <td>42</td>\n",
       "      <td>2</td>\n",
       "      <td>1</td>\n",
       "    </tr>\n",
       "    <tr>\n",
       "      <th>317</th>\n",
       "      <td>42</td>\n",
       "      <td>3</td>\n",
       "      <td>0</td>\n",
       "    </tr>\n",
       "    <tr>\n",
       "      <th>318</th>\n",
       "      <td>42</td>\n",
       "      <td>4</td>\n",
       "      <td>0</td>\n",
       "    </tr>\n",
       "    <tr>\n",
       "      <th>319</th>\n",
       "      <td>42</td>\n",
       "      <td>5</td>\n",
       "      <td>0</td>\n",
       "    </tr>\n",
       "    <tr>\n",
       "      <th>320</th>\n",
       "      <td>42</td>\n",
       "      <td>6</td>\n",
       "      <td>0</td>\n",
       "    </tr>\n",
       "    <tr>\n",
       "      <th>321</th>\n",
       "      <td>42</td>\n",
       "      <td>7</td>\n",
       "      <td>0</td>\n",
       "    </tr>\n",
       "    <tr>\n",
       "      <th>322</th>\n",
       "      <td>42</td>\n",
       "      <td>8</td>\n",
       "      <td>0</td>\n",
       "    </tr>\n",
       "    <tr>\n",
       "      <th>323</th>\n",
       "      <td>42</td>\n",
       "      <td>9</td>\n",
       "      <td>0</td>\n",
       "    </tr>\n",
       "    <tr>\n",
       "      <th>324</th>\n",
       "      <td>42</td>\n",
       "      <td>10</td>\n",
       "      <td>0</td>\n",
       "    </tr>\n",
       "    <tr>\n",
       "      <th>325</th>\n",
       "      <td>42</td>\n",
       "      <td>11</td>\n",
       "      <td>0</td>\n",
       "    </tr>\n",
       "    <tr>\n",
       "      <th>326</th>\n",
       "      <td>42</td>\n",
       "      <td>12</td>\n",
       "      <td>0</td>\n",
       "    </tr>\n",
       "    <tr>\n",
       "      <th>327</th>\n",
       "      <td>42</td>\n",
       "      <td>13</td>\n",
       "      <td>0</td>\n",
       "    </tr>\n",
       "    <tr>\n",
       "      <th>328</th>\n",
       "      <td>42</td>\n",
       "      <td>16</td>\n",
       "      <td>0</td>\n",
       "    </tr>\n",
       "    <tr>\n",
       "      <th>329</th>\n",
       "      <td>42</td>\n",
       "      <td>18</td>\n",
       "      <td>0</td>\n",
       "    </tr>\n",
       "  </tbody>\n",
       "</table>\n",
       "<p>330 rows × 3 columns</p>\n",
       "</div>"
      ],
      "text/plain": [
       "     Number_of_Casualties  Number_of_Vehicles      0\n",
       "0                       1                   1  39217\n",
       "1                       1                   2  65680\n",
       "2                       1                   3   6168\n",
       "3                       1                   4   1056\n",
       "4                       1                   5    197\n",
       "5                       1                   6     76\n",
       "6                       1                   7     27\n",
       "7                       1                   8      4\n",
       "8                       1                   9      1\n",
       "9                       1                  10      1\n",
       "10                      1                  11      1\n",
       "11                      1                  12      0\n",
       "12                      1                  13      0\n",
       "13                      1                  16      0\n",
       "14                      1                  18      0\n",
       "15                      2                   1   3781\n",
       "16                      2                   2  15035\n",
       "17                      2                   3   3002\n",
       "18                      2                   4    716\n",
       "19                      2                   5    128\n",
       "20                      2                   6     41\n",
       "21                      2                   7     14\n",
       "22                      2                   8      4\n",
       "23                      2                   9      6\n",
       "24                      2                  10      3\n",
       "25                      2                  11      0\n",
       "26                      2                  12      1\n",
       "27                      2                  13      0\n",
       "28                      2                  16      1\n",
       "29                      2                  18      0\n",
       "..                    ...                 ...    ...\n",
       "300                    38                   1      0\n",
       "301                    38                   2      0\n",
       "302                    38                   3      0\n",
       "303                    38                   4      1\n",
       "304                    38                   5      0\n",
       "305                    38                   6      0\n",
       "306                    38                   7      0\n",
       "307                    38                   8      0\n",
       "308                    38                   9      0\n",
       "309                    38                  10      0\n",
       "310                    38                  11      0\n",
       "311                    38                  12      0\n",
       "312                    38                  13      0\n",
       "313                    38                  16      0\n",
       "314                    38                  18      0\n",
       "315                    42                   1      0\n",
       "316                    42                   2      1\n",
       "317                    42                   3      0\n",
       "318                    42                   4      0\n",
       "319                    42                   5      0\n",
       "320                    42                   6      0\n",
       "321                    42                   7      0\n",
       "322                    42                   8      0\n",
       "323                    42                   9      0\n",
       "324                    42                  10      0\n",
       "325                    42                  11      0\n",
       "326                    42                  12      0\n",
       "327                    42                  13      0\n",
       "328                    42                  16      0\n",
       "329                    42                  18      0\n",
       "\n",
       "[330 rows x 3 columns]"
      ]
     },
     "execution_count": 87,
     "metadata": {},
     "output_type": "execute_result"
    }
   ],
   "source": [
    "cas_veh_long_df = cas_veh_df.stack().reset_index()\n",
    "cas_veh_long_df"
   ]
  },
  {
   "cell_type": "markdown",
   "metadata": {},
   "source": [
    "We can now plot the number of accidents at each casualty/vehicle combination on a scatter chart, a scatter plot that additionally uses the size of each point to communicate information about a dimension of the data. In this case, we'll scale the point size by the number of accidents of that 'size'."
   ]
  },
  {
   "cell_type": "code",
   "execution_count": 88,
   "metadata": {},
   "outputs": [
    {
     "data": {
      "image/png": "[encoded data removed]",
      "text/plain": [
       "<matplotlib.figure.Figure at 0x7f5db7b34668>"
      ]
     },
     "metadata": {},
     "output_type": "display_data"
    }
   ],
   "source": [
    "plt.scatter(cas_veh_long_df['Number_of_Casualties'], # x axis \n",
    "            cas_veh_long_df['Number_of_Vehicles'], # y axis\n",
    "            s=np.sqrt(cas_veh_long_df[0])*1.5, # scaling points\n",
    "            alpha=0.5\n",
    "           )\n",
    "plt.xlabel('Number of casualties')\n",
    "plt.ylabel('Number of Vehicles')\n",
    "\n",
    "\n",
    "plt.show()"
   ]
  },
  {
   "cell_type": "markdown",
   "metadata": {},
   "source": [
    "I'm not a fan of the color scheme.  Let's find a way to change it using seaborn."
   ]
  },
  {
   "cell_type": "code",
   "execution_count": 89,
   "metadata": {},
   "outputs": [
    {
     "data": {
      "image/png": "[encoded data removed]",
      "text/plain": [
       "<matplotlib.figure.Figure at 0x7f5dc3544d30>"
      ]
     },
     "metadata": {},
     "output_type": "display_data"
    }
   ],
   "source": [
    "current_palette = sb.color_palette()\n",
    "sb.palplot(current_palette)"
   ]
  },
  {
   "cell_type": "code",
   "execution_count": 91,
   "metadata": {},
   "outputs": [],
   "source": [
    "sb.set_palette(\"PuBuGn_d\")"
   ]
  },
  {
   "cell_type": "code",
   "execution_count": 92,
   "metadata": {},
   "outputs": [
    {
     "data": {
      "image/png": "[encoded data removed]",
      "text/plain": [
       "<matplotlib.figure.Figure at 0x7f5dc2950358>"
      ]
     },
     "metadata": {},
     "output_type": "display_data"
    }
   ],
   "source": [
    "plt.scatter(cas_veh_long_df['Number_of_Casualties'], # x axis \n",
    "            cas_veh_long_df['Number_of_Vehicles'], # y axis\n",
    "            s=np.sqrt(cas_veh_long_df[0])*1.5, # scaling points\n",
    "            alpha=0.5\n",
    "           )\n",
    "plt.xlabel('Number of casualties')\n",
    "plt.ylabel('Number of Vehicles')\n",
    "\n",
    "\n",
    "plt.show()"
   ]
  },
  {
   "cell_type": "markdown",
   "metadata": {},
   "source": [
    "There are a number of outliers, so let's remove them to see the rest of the points more easily. Limiting the data to 20 vehicles and 10 casualties looks reasonable."
   ]
  },
  {
   "cell_type": "code",
   "execution_count": 95,
   "metadata": {},
   "outputs": [
    {
     "data": {
      "image/png": "[encoded data removed]",
      "text/plain": [
       "<matplotlib.figure.Figure at 0x7f5dc1f28be0>"
      ]
     },
     "metadata": {},
     "output_type": "display_data"
    }
   ],
   "source": [
    "small_cvcl_df = cas_veh_long_df[(cas_veh_long_df['Number_of_Casualties'] <= 10) & \n",
    "                                (cas_veh_long_df['Number_of_Vehicles'] <= 20)]\n",
    "\n",
    "plt.scatter(small_cvcl_df['Number_of_Casualties'], \n",
    "            small_cvcl_df['Number_of_Vehicles'], \n",
    "            s=np.sqrt(small_cvcl_df[0])*3,\n",
    "            alpha=0.5\n",
    "           )\n",
    "\n",
    "plt.xlabel('Number of casualties')\n",
    "plt.ylabel('Number of vehicles')\n",
    "\n",
    "plt.show()"
   ]
  },
  {
   "cell_type": "markdown",
   "metadata": {},
   "source": [
    "Now we have some data plotted, can we ray anytheng about the correlation of the two different metrics for 'sizs' of accident? From first impressions, there's not much correlation between the two measures: most of the axxidents are small in both number of casualties and tend to be in the lower-left corner.\n",
    "\n",
    "THE OBVIOUS first step is to find the __line of best fit__ and plot it."
   ]
  },
  {
   "cell_type": "markdown",
   "metadata": {},
   "source": [
    "Unfortunately finding a regression line requires the data to be unrolled.  `cas_veh_unrolled_df` has this information."
   ]
  },
  {
   "cell_type": "code",
   "execution_count": 96,
   "metadata": {},
   "outputs": [
    {
     "data": {
      "text/html": [
       "<div>\n",
       "<style>\n",
       "    .dataframe thead tr:only-child th {\n",
       "        text-align: right;\n",
       "    }\n",
       "\n",
       "    .dataframe thead th {\n",
       "        text-align: left;\n",
       "    }\n",
       "\n",
       "    .dataframe tbody tr th {\n",
       "        vertical-align: top;\n",
       "    }\n",
       "</style>\n",
       "<table border=\"1\" class=\"dataframe\">\n",
       "  <thead>\n",
       "    <tr style=\"text-align: right;\">\n",
       "      <th></th>\n",
       "      <th>Number_of_Casualties</th>\n",
       "      <th>Number_of_Vehicles</th>\n",
       "      <th>_id</th>\n",
       "    </tr>\n",
       "  </thead>\n",
       "  <tbody>\n",
       "    <tr>\n",
       "      <th>0</th>\n",
       "      <td>1</td>\n",
       "      <td>2</td>\n",
       "      <td>52a9c97c92c4e16686d13265</td>\n",
       "    </tr>\n",
       "    <tr>\n",
       "      <th>1</th>\n",
       "      <td>1</td>\n",
       "      <td>2</td>\n",
       "      <td>52a9c97c92c4e16686d13266</td>\n",
       "    </tr>\n",
       "    <tr>\n",
       "      <th>2</th>\n",
       "      <td>1</td>\n",
       "      <td>2</td>\n",
       "      <td>52a9c97c92c4e16686d13267</td>\n",
       "    </tr>\n",
       "    <tr>\n",
       "      <th>3</th>\n",
       "      <td>1</td>\n",
       "      <td>1</td>\n",
       "      <td>52a9c97c92c4e16686d13268</td>\n",
       "    </tr>\n",
       "    <tr>\n",
       "      <th>4</th>\n",
       "      <td>1</td>\n",
       "      <td>1</td>\n",
       "      <td>52a9c97c92c4e16686d13269</td>\n",
       "    </tr>\n",
       "  </tbody>\n",
       "</table>\n",
       "</div>"
      ],
      "text/plain": [
       "   Number_of_Casualties  Number_of_Vehicles                       _id\n",
       "0                     1                   2  52a9c97c92c4e16686d13265\n",
       "1                     1                   2  52a9c97c92c4e16686d13266\n",
       "2                     1                   2  52a9c97c92c4e16686d13267\n",
       "3                     1                   1  52a9c97c92c4e16686d13268\n",
       "4                     1                   1  52a9c97c92c4e16686d13269"
      ]
     },
     "execution_count": 96,
     "metadata": {},
     "output_type": "execute_result"
    }
   ],
   "source": [
    "cas_veh_unrolled_df.head()"
   ]
  },
  {
   "cell_type": "markdown",
   "metadata": {},
   "source": [
    "But we don't need the id info. so we will pull out the info we need.\n",
    "\n"
   ]
  },
  {
   "cell_type": "code",
   "execution_count": 98,
   "metadata": {},
   "outputs": [
    {
     "data": {
      "text/plain": [
       "(0.21101011188488833, 1.5427349394560317)"
      ]
     },
     "execution_count": 98,
     "metadata": {},
     "output_type": "execute_result"
    }
   ],
   "source": [
    "regressionline = scipy.stats.linregress(cas_veh_unrolled_df['Number_of_Casualties'],\n",
    "                                        cas_veh_unrolled_df['Number_of_Vehicles'])\n",
    "# the regression line is of the form y = m x + b\n",
    "m = regressionline[0]\n",
    "b = regressionline[1]\n",
    "(m, b)"
   ]
  },
  {
   "cell_type": "markdown",
   "metadata": {},
   "source": [
    "Now we can plot the regression line on top of the scatter plot\n"
   ]
  },
  {
   "cell_type": "code",
   "execution_count": 99,
   "metadata": {},
   "outputs": [
    {
     "data": {
      "image/png": "[encoded data removed]",
      "text/plain": [
       "<matplotlib.figure.Figure at 0x7f5db7c620b8>"
      ]
     },
     "metadata": {},
     "output_type": "display_data"
    }
   ],
   "source": [
    "plt.scatter(small_cvcl_df['Number_of_Casualties'], \n",
    "            small_cvcl_df['Number_of_Vehicles'], \n",
    "            s=np.sqrt(small_cvcl_df[0])*3, \n",
    "            alpha=0.5\n",
    "           )\n",
    "\n",
    "plt.xlabel('Number of casualties')\n",
    "plt.ylabel('Number of Vehicles')\n",
    "\n",
    "x = np.linspace(0, 30 , 20)\n",
    "plt.plot(x, m*x + b)\n",
    "\n",
    "plt.show()"
   ]
  },
  {
   "cell_type": "markdown",
   "metadata": {},
   "source": [
    "While this is the line of best fit it doesn't seem to describe the data that well.  In the next section we'll look at how to get a better handle on this correlation."
   ]
  },
  {
   "cell_type": "markdown",
   "metadata": {},
   "source": [
    "## Activity 7\n",
    "How does the number of vehicles in an accident vary with the speed limit?\n",
    "\n",
    "Find the results, find the line of best fit, then plot the data and line of best fit on a scatter gragh."
   ]
  },
  {
   "cell_type": "code",
   "execution_count": 103,
   "metadata": {},
   "outputs": [],
   "source": [
    "# remind myself of the keys\n",
    "# accidents.find_one()"
   ]
  },
  {
   "cell_type": "code",
   "execution_count": 111,
   "metadata": {},
   "outputs": [
    {
     "data": {
      "text/html": [
       "<div>\n",
       "<style>\n",
       "    .dataframe thead tr:only-child th {\n",
       "        text-align: right;\n",
       "    }\n",
       "\n",
       "    .dataframe thead th {\n",
       "        text-align: left;\n",
       "    }\n",
       "\n",
       "    .dataframe tbody tr th {\n",
       "        vertical-align: top;\n",
       "    }\n",
       "</style>\n",
       "<table border=\"1\" class=\"dataframe\">\n",
       "  <thead>\n",
       "    <tr style=\"text-align: right;\">\n",
       "      <th>Number_of_Vehicles</th>\n",
       "      <th>1</th>\n",
       "      <th>2</th>\n",
       "      <th>3</th>\n",
       "      <th>4</th>\n",
       "      <th>5</th>\n",
       "      <th>6</th>\n",
       "      <th>7</th>\n",
       "      <th>8</th>\n",
       "      <th>9</th>\n",
       "      <th>10</th>\n",
       "      <th>11</th>\n",
       "      <th>12</th>\n",
       "      <th>13</th>\n",
       "      <th>16</th>\n",
       "      <th>18</th>\n",
       "    </tr>\n",
       "    <tr>\n",
       "      <th>Speed_limit</th>\n",
       "      <th></th>\n",
       "      <th></th>\n",
       "      <th></th>\n",
       "      <th></th>\n",
       "      <th></th>\n",
       "      <th></th>\n",
       "      <th></th>\n",
       "      <th></th>\n",
       "      <th></th>\n",
       "      <th></th>\n",
       "      <th></th>\n",
       "      <th></th>\n",
       "      <th></th>\n",
       "      <th></th>\n",
       "      <th></th>\n",
       "    </tr>\n",
       "  </thead>\n",
       "  <tbody>\n",
       "    <tr>\n",
       "      <th>10</th>\n",
       "      <td>1</td>\n",
       "      <td>0</td>\n",
       "      <td>0</td>\n",
       "      <td>0</td>\n",
       "      <td>0</td>\n",
       "      <td>0</td>\n",
       "      <td>0</td>\n",
       "      <td>0</td>\n",
       "      <td>0</td>\n",
       "      <td>0</td>\n",
       "      <td>0</td>\n",
       "      <td>0</td>\n",
       "      <td>0</td>\n",
       "      <td>0</td>\n",
       "      <td>0</td>\n",
       "    </tr>\n",
       "    <tr>\n",
       "      <th>20</th>\n",
       "      <td>1003</td>\n",
       "      <td>1137</td>\n",
       "      <td>92</td>\n",
       "      <td>12</td>\n",
       "      <td>2</td>\n",
       "      <td>1</td>\n",
       "      <td>0</td>\n",
       "      <td>0</td>\n",
       "      <td>0</td>\n",
       "      <td>0</td>\n",
       "      <td>0</td>\n",
       "      <td>0</td>\n",
       "      <td>0</td>\n",
       "      <td>0</td>\n",
       "      <td>0</td>\n",
       "    </tr>\n",
       "    <tr>\n",
       "      <th>30</th>\n",
       "      <td>28972</td>\n",
       "      <td>58841</td>\n",
       "      <td>5900</td>\n",
       "      <td>1031</td>\n",
       "      <td>169</td>\n",
       "      <td>57</td>\n",
       "      <td>18</td>\n",
       "      <td>3</td>\n",
       "      <td>1</td>\n",
       "      <td>2</td>\n",
       "      <td>0</td>\n",
       "      <td>0</td>\n",
       "      <td>1</td>\n",
       "      <td>0</td>\n",
       "      <td>0</td>\n",
       "    </tr>\n",
       "    <tr>\n",
       "      <th>40</th>\n",
       "      <td>2564</td>\n",
       "      <td>7839</td>\n",
       "      <td>1176</td>\n",
       "      <td>271</td>\n",
       "      <td>49</td>\n",
       "      <td>8</td>\n",
       "      <td>6</td>\n",
       "      <td>0</td>\n",
       "      <td>1</td>\n",
       "      <td>0</td>\n",
       "      <td>0</td>\n",
       "      <td>0</td>\n",
       "      <td>0</td>\n",
       "      <td>0</td>\n",
       "      <td>0</td>\n",
       "    </tr>\n",
       "    <tr>\n",
       "      <th>50</th>\n",
       "      <td>1232</td>\n",
       "      <td>3062</td>\n",
       "      <td>684</td>\n",
       "      <td>177</td>\n",
       "      <td>53</td>\n",
       "      <td>6</td>\n",
       "      <td>3</td>\n",
       "      <td>1</td>\n",
       "      <td>0</td>\n",
       "      <td>1</td>\n",
       "      <td>0</td>\n",
       "      <td>1</td>\n",
       "      <td>0</td>\n",
       "      <td>0</td>\n",
       "      <td>0</td>\n",
       "    </tr>\n",
       "    <tr>\n",
       "      <th>60</th>\n",
       "      <td>7629</td>\n",
       "      <td>11215</td>\n",
       "      <td>1813</td>\n",
       "      <td>403</td>\n",
       "      <td>82</td>\n",
       "      <td>19</td>\n",
       "      <td>7</td>\n",
       "      <td>1</td>\n",
       "      <td>2</td>\n",
       "      <td>0</td>\n",
       "      <td>0</td>\n",
       "      <td>0</td>\n",
       "      <td>0</td>\n",
       "      <td>0</td>\n",
       "      <td>1</td>\n",
       "    </tr>\n",
       "    <tr>\n",
       "      <th>70</th>\n",
       "      <td>2685</td>\n",
       "      <td>5058</td>\n",
       "      <td>1482</td>\n",
       "      <td>500</td>\n",
       "      <td>148</td>\n",
       "      <td>81</td>\n",
       "      <td>36</td>\n",
       "      <td>17</td>\n",
       "      <td>10</td>\n",
       "      <td>2</td>\n",
       "      <td>2</td>\n",
       "      <td>0</td>\n",
       "      <td>0</td>\n",
       "      <td>1</td>\n",
       "      <td>0</td>\n",
       "    </tr>\n",
       "  </tbody>\n",
       "</table>\n",
       "</div>"
      ],
      "text/plain": [
       "Number_of_Vehicles     1      2     3     4    5   6   7   8   9   10  11  12  \\\n",
       "Speed_limit                                                                     \n",
       "10                      1      0     0     0    0   0   0   0   0   0   0   0   \n",
       "20                   1003   1137    92    12    2   1   0   0   0   0   0   0   \n",
       "30                  28972  58841  5900  1031  169  57  18   3   1   2   0   0   \n",
       "40                   2564   7839  1176   271   49   8   6   0   1   0   0   0   \n",
       "50                   1232   3062   684   177   53   6   3   1   0   1   0   1   \n",
       "60                   7629  11215  1813   403   82  19   7   1   2   0   0   0   \n",
       "70                   2685   5058  1482   500  148  81  36  17  10   2   2   0   \n",
       "\n",
       "Number_of_Vehicles  13  16  18  \n",
       "Speed_limit                     \n",
       "10                   0   0   0  \n",
       "20                   0   0   0  \n",
       "30                   1   0   0  \n",
       "40                   0   0   0  \n",
       "50                   0   0   0  \n",
       "60                   0   0   1  \n",
       "70                   0   1   0  "
      ]
     },
     "execution_count": 111,
     "metadata": {},
     "output_type": "execute_result"
    }
   ],
   "source": [
    "veh_spe_unrolled_df = pd.DataFrame(list(accidents.find({}, ['Speed_limit', 'Number_of_Vehicles'])))\n",
    "\n",
    "veh_spe_df = pd.crosstab(veh_spe_unrolled_df['Speed_limit'], \n",
    "                         veh_spe_unrolled_df['Number_of_Vehicles'])\n",
    "\n",
    "veh_spe_df"
   ]
  },
  {
   "cell_type": "code",
   "execution_count": 136,
   "metadata": {},
   "outputs": [
    {
     "data": {
      "text/html": [
       "<div>\n",
       "<style>\n",
       "    .dataframe thead tr:only-child th {\n",
       "        text-align: right;\n",
       "    }\n",
       "\n",
       "    .dataframe thead th {\n",
       "        text-align: left;\n",
       "    }\n",
       "\n",
       "    .dataframe tbody tr th {\n",
       "        vertical-align: top;\n",
       "    }\n",
       "</style>\n",
       "<table border=\"1\" class=\"dataframe\">\n",
       "  <thead>\n",
       "    <tr style=\"text-align: right;\">\n",
       "      <th></th>\n",
       "      <th>Speed_limit</th>\n",
       "      <th>Number_of_Vehicles</th>\n",
       "      <th>0</th>\n",
       "    </tr>\n",
       "  </thead>\n",
       "  <tbody>\n",
       "    <tr>\n",
       "      <th>0</th>\n",
       "      <td>10</td>\n",
       "      <td>1</td>\n",
       "      <td>1</td>\n",
       "    </tr>\n",
       "    <tr>\n",
       "      <th>1</th>\n",
       "      <td>10</td>\n",
       "      <td>2</td>\n",
       "      <td>0</td>\n",
       "    </tr>\n",
       "    <tr>\n",
       "      <th>2</th>\n",
       "      <td>10</td>\n",
       "      <td>3</td>\n",
       "      <td>0</td>\n",
       "    </tr>\n",
       "    <tr>\n",
       "      <th>3</th>\n",
       "      <td>10</td>\n",
       "      <td>4</td>\n",
       "      <td>0</td>\n",
       "    </tr>\n",
       "    <tr>\n",
       "      <th>4</th>\n",
       "      <td>10</td>\n",
       "      <td>5</td>\n",
       "      <td>0</td>\n",
       "    </tr>\n",
       "  </tbody>\n",
       "</table>\n",
       "</div>"
      ],
      "text/plain": [
       "   Speed_limit  Number_of_Vehicles  0\n",
       "0           10                   1  1\n",
       "1           10                   2  0\n",
       "2           10                   3  0\n",
       "3           10                   4  0\n",
       "4           10                   5  0"
      ]
     },
     "execution_count": 136,
     "metadata": {},
     "output_type": "execute_result"
    }
   ],
   "source": [
    "# scatter needs the df in long format\n",
    "veh_spe_long_df = veh_spe_df.stack().reset_index()\n",
    "veh_spe_long_df.head()"
   ]
  },
  {
   "cell_type": "code",
   "execution_count": 138,
   "metadata": {},
   "outputs": [
    {
     "data": {
      "text/plain": [
       "<matplotlib.collections.PathCollection at 0x7f5db6009cf8>"
      ]
     },
     "execution_count": 138,
     "metadata": {},
     "output_type": "execute_result"
    },
    {
     "data": {
      "image/png": "[encoded data removed]",
      "text/plain": [
       "<matplotlib.figure.Figure at 0x7f5db649cba8>"
      ]
     },
     "metadata": {},
     "output_type": "display_data"
    }
   ],
   "source": [
    "# make the scatter plot\n",
    "plt.scatter(veh_spe_long_df['Speed_limit'], \n",
    "            veh_spe_long_df['Number_of_Vehicles'], \n",
    "            s=np.sqrt(veh_spe_long_df[0])*2,\n",
    "            alpha=0.5)\n",
    "\n"
   ]
  },
  {
   "cell_type": "markdown",
   "metadata": {},
   "source": [
    "Let's remove the outliers and then add the regression line"
   ]
  },
  {
   "cell_type": "code",
   "execution_count": 140,
   "metadata": {},
   "outputs": [
    {
     "data": {
      "image/png": "[encoded data removed]",
      "text/plain": [
       "<matplotlib.figure.Figure at 0x7f5db62c5e48>"
      ]
     },
     "metadata": {},
     "output_type": "display_data"
    }
   ],
   "source": [
    "small_df = veh_spe_long_df[(veh_spe_long_df['Number_of_Vehicles'] <= 20) &\n",
    "                           (veh_spe_long_df['Speed_limit'] >= 30)]\n",
    "\n",
    "plt.scatter(small_df['Speed_limit'],\n",
    "           small_df['Number_of_Vehicles'],\n",
    "           s=np.sqrt(small_df[0])*3,\n",
    "           alpha=0.5\n",
    "           )\n",
    "plt.xlabel('Speed limit')\n",
    "plt.ylabel('Number of Vehicles')\n",
    "\n",
    "x = np.linspace(30,70, 20)\n",
    "plt.plot(x, m*x + b)\n",
    "\n",
    "plt.show()"
   ]
  },
  {
   "cell_type": "code",
   "execution_count": 113,
   "metadata": {},
   "outputs": [
    {
     "data": {
      "text/plain": [
       "(0.0041966018714761745, 1.6648805040827896)"
      ]
     },
     "execution_count": 113,
     "metadata": {},
     "output_type": "execute_result"
    }
   ],
   "source": [
    "regression_line = scipy.stats.linregress(veh_spe_unrolled_df['Speed_limit'], \n",
    "                                         veh_spe_unrolled_df['Number_of_Vehicles'])\n",
    "\n",
    "# the regression line is of form y = m*x + b\n",
    "m = regression_line[0]\n",
    "b = regression_line[1]\n",
    "(m, b)"
   ]
  },
  {
   "cell_type": "markdown",
   "metadata": {},
   "source": [
    "# 14.3 - Using Statistical Tests\n",
    "Shows some examples of using statistical tests to get qualitative results from questions asked of the accidents dataset."
   ]
  },
  {
   "cell_type": "code",
   "execution_count": 141,
   "metadata": {
    "collapsed": true
   },
   "outputs": [],
   "source": [
    "# Import the required libraries\n",
    "\n",
    "import pymongo\n",
    "import datetime\n",
    "import collections\n",
    "\n",
    "import pandas as pd\n",
    "import scipy.stats"
   ]
  },
  {
   "cell_type": "code",
   "execution_count": 143,
   "metadata": {},
   "outputs": [],
   "source": [
    "# Open a connection to the Mongo server, open the accidents database and name the collections of accidents and labels\n",
    "client = pymongo.MongoClient('mongodb://localhost:27351/')\n",
    "\n",
    "db = client.accidents\n",
    "accidents = db.accidents\n",
    "labels = db.labels"
   ]
  },
  {
   "cell_type": "code",
   "execution_count": 144,
   "metadata": {
    "collapsed": true
   },
   "outputs": [],
   "source": [
    "# load the expanded names of keys and human-readable codes into memory\n",
    "expanded_name = collections.defaultdict(str)\n",
    "for e in labels.find({'expanded': {'$exists': True}}):\n",
    "    expanded_name[e['label']] = e['expanded']\n",
    "\n",
    "label_of = collections.defaultdict(str)\n",
    "for l in labels.find({'codes': {'$exists': True}}):\n",
    "    for c in l['codes']:\n",
    "        try:\n",
    "            label_of[l['label'], int(c)] = l['codes'][c]\n",
    "        except ValueError:\n",
    "            label_of[l['label'], c ] = l['codes'][c]\n"
   ]
  },
  {
   "cell_type": "markdown",
   "metadata": {},
   "source": [
    "## Pearson's _R^2_\n",
    "### Comparing the number of casualties and vehicles\n",
    "This is the same investigation as in pt `14.2 - Introdution to accidents`"
   ]
  },
  {
   "cell_type": "code",
   "execution_count": 145,
   "metadata": {},
   "outputs": [
    {
     "data": {
      "text/html": [
       "<div>\n",
       "<style>\n",
       "    .dataframe thead tr:only-child th {\n",
       "        text-align: right;\n",
       "    }\n",
       "\n",
       "    .dataframe thead th {\n",
       "        text-align: left;\n",
       "    }\n",
       "\n",
       "    .dataframe tbody tr th {\n",
       "        vertical-align: top;\n",
       "    }\n",
       "</style>\n",
       "<table border=\"1\" class=\"dataframe\">\n",
       "  <thead>\n",
       "    <tr style=\"text-align: right;\">\n",
       "      <th></th>\n",
       "      <th>Number_of_Casualties</th>\n",
       "      <th>Number_of_Vehicles</th>\n",
       "      <th>0</th>\n",
       "    </tr>\n",
       "  </thead>\n",
       "  <tbody>\n",
       "    <tr>\n",
       "      <th>0</th>\n",
       "      <td>1</td>\n",
       "      <td>1</td>\n",
       "      <td>39217</td>\n",
       "    </tr>\n",
       "    <tr>\n",
       "      <th>1</th>\n",
       "      <td>1</td>\n",
       "      <td>2</td>\n",
       "      <td>65680</td>\n",
       "    </tr>\n",
       "    <tr>\n",
       "      <th>2</th>\n",
       "      <td>1</td>\n",
       "      <td>3</td>\n",
       "      <td>6168</td>\n",
       "    </tr>\n",
       "    <tr>\n",
       "      <th>3</th>\n",
       "      <td>1</td>\n",
       "      <td>4</td>\n",
       "      <td>1056</td>\n",
       "    </tr>\n",
       "    <tr>\n",
       "      <th>4</th>\n",
       "      <td>1</td>\n",
       "      <td>5</td>\n",
       "      <td>197</td>\n",
       "    </tr>\n",
       "  </tbody>\n",
       "</table>\n",
       "</div>"
      ],
      "text/plain": [
       "   Number_of_Casualties  Number_of_Vehicles      0\n",
       "0                     1                   1  39217\n",
       "1                     1                   2  65680\n",
       "2                     1                   3   6168\n",
       "3                     1                   4   1056\n",
       "4                     1                   5    197"
      ]
     },
     "execution_count": 145,
     "metadata": {},
     "output_type": "execute_result"
    }
   ],
   "source": [
    "# Build a dataframe, one row for each accident\n",
    "cas_veh_unrolled_df = pd.DataFrame(list(accidents.find({}, ['Number_of_Casualties', 'Number_of_Vehicles'])))\n",
    "\n",
    "# Count the number of each severity\n",
    "cas_veh_df = pd.crosstab(cas_veh_unrolled_df['Number_of_Casualties'], \n",
    "                         cas_veh_unrolled_df['Number_of_Vehicles'])\n",
    "\n",
    "# Reshape the dataframe\n",
    "cas_veh_long_df = cas_veh_df.stack().reset_index()\n",
    "cas_veh_long_df.head()"
   ]
  },
  {
   "cell_type": "markdown",
   "metadata": {},
   "source": [
    "Let's plot it like earlier with the regression line"
   ]
  },
  {
   "cell_type": "code",
   "execution_count": 147,
   "metadata": {},
   "outputs": [
    {
     "data": {
      "text/plain": [
       "(0.21101011188488833, 1.5427349394560317)"
      ]
     },
     "execution_count": 147,
     "metadata": {},
     "output_type": "execute_result"
    }
   ],
   "source": [
    "regressionline = scipy.stats.linregress(cas_veh_unrolled_df['Number_of_Casualties'], \n",
    "                                        cas_veh_unrolled_df['Number_of_Vehicles'])\n",
    "\n",
    "# the regression line is of the form y = m * x + b\n",
    "m = regressionline[0]\n",
    "b = regressionline[1]\n",
    "(m,b)"
   ]
  },
  {
   "cell_type": "code",
   "execution_count": 150,
   "metadata": {},
   "outputs": [
    {
     "data": {
      "text/plain": [
       "<matplotlib.text.Text at 0x7f5db5860898>"
      ]
     },
     "execution_count": 150,
     "metadata": {},
     "output_type": "execute_result"
    },
    {
     "data": {
      "image/png": "[encoded data removed]",
      "text/plain": [
       "<matplotlib.figure.Figure at 0x7f5db5bf8eb8>"
      ]
     },
     "metadata": {},
     "output_type": "display_data"
    }
   ],
   "source": [
    "# Make the scatter plot\n",
    "import seaborn as sb\n",
    "\n",
    "plt.scatter(cas_veh_long_df['Number_of_Casualties'], \n",
    "            cas_veh_long_df['Number_of_Vehicles'], \n",
    "            s=np.sqrt(cas_veh_long_df[0])*1.5, \n",
    "            alpha=0.5\n",
    "           )\n",
    "\n",
    "x = np.linspace(0, 30, 20)\n",
    "plt.plot(m*x+b)\n",
    "\n",
    "plt.xlabel('Number of Casualties')\n",
    "plt.ylabel('Number of Vehicles')"
   ]
  },
  {
   "cell_type": "code",
   "execution_count": 154,
   "metadata": {},
   "outputs": [],
   "source": [
    "sb.set_style('white')\n",
    "sb.set_palette('dark')"
   ]
  },
  {
   "cell_type": "code",
   "execution_count": 155,
   "metadata": {},
   "outputs": [
    {
     "data": {
      "text/plain": [
       "<matplotlib.text.Text at 0x7f5db64fbe48>"
      ]
     },
     "execution_count": 155,
     "metadata": {},
     "output_type": "execute_result"
    },
    {
     "data": {
      "image/png": "[encoded data removed]",
      "text/plain": [
       "<matplotlib.figure.Figure at 0x7f5db5f5a3c8>"
      ]
     },
     "metadata": {},
     "output_type": "display_data"
    }
   ],
   "source": [
    "plt.scatter(cas_veh_long_df['Number_of_Casualties'], \n",
    "            cas_veh_long_df['Number_of_Vehicles'], \n",
    "            s=np.sqrt(cas_veh_long_df[0])*1.5, \n",
    "            alpha=0.5\n",
    "           )\n",
    "\n",
    "x = np.linspace(0, 30, 20)\n",
    "plt.plot(m*x+b)\n",
    "\n",
    "plt.xlabel('Number of Casualties')\n",
    "plt.ylabel('Number of Vehicles')"
   ]
  },
  {
   "cell_type": "code",
   "execution_count": null,
   "metadata": {
    "collapsed": true
   },
   "outputs": [],
   "source": []
  },
  {
   "cell_type": "code",
   "execution_count": null,
   "metadata": {
    "collapsed": true
   },
   "outputs": [],
   "source": []
  },
  {
   "cell_type": "code",
   "execution_count": null,
   "metadata": {
    "collapsed": true
   },
   "outputs": [],
   "source": []
  },
  {
   "cell_type": "code",
   "execution_count": null,
   "metadata": {
    "collapsed": true
   },
   "outputs": [],
   "source": []
  },
  {
   "cell_type": "code",
   "execution_count": null,
   "metadata": {
    "collapsed": true
   },
   "outputs": [],
   "source": []
  },
  {
   "cell_type": "code",
   "execution_count": null,
   "metadata": {
    "collapsed": true
   },
   "outputs": [],
   "source": []
  },
  {
   "cell_type": "code",
   "execution_count": null,
   "metadata": {
    "collapsed": true
   },
   "outputs": [],
   "source": []
  }
 ],
 "metadata": {
  "kernelspec": {
   "display_name": "Python 3",
   "language": "python",
   "name": "python3"
  },
  "language_info": {
   "codemirror_mode": {
    "name": "ipython",
    "version": 3
   },
   "file_extension": ".py",
   "mimetype": "text/x-python",
   "name": "python",
   "nbconvert_exporter": "python",
   "pygments_lexer": "ipython3",
   "version": "3.5.2"
  }
 },
 "nbformat": 4,
 "nbformat_minor": 2
}
