{
 "cells": [
  {
   "cell_type": "markdown",
   "metadata": {},
   "source": [
    "# Introduction to the accidents dataset\n",
    "In this Notebook, you'll take your first look at the accidents dataset. We'll only be looking at the accidents for 2012, as that's all that will fit into the 32-bit MongoDB instance running on the virtual machine. \n",
    "\n",
    "This dataset contains details of every road traffic accident in Britain in 2012. The data is anonymised, but the date, time, and location of the accidents is recorded, along with the number and severity of casualties.\n",
    "\n",
    "It will reinforce some of the ways of querying data with MongoDB and recap some ways of using *pandas* to analyse the data. "
   ]
  },
  {
   "cell_type": "code",
   "execution_count": 95,
   "metadata": {
    "collapsed": true
   },
   "outputs": [],
   "source": [
    "# Import the required libraries\n",
    "\n",
    "import pymongo\n",
    "import datetime\n",
    "import collections\n",
    "\n",
    "import pandas as pd\n",
    "import scipy.stats"
   ]
  },
  {
   "cell_type": "code",
   "execution_count": 96,
   "metadata": {
    "collapsed": true
   },
   "outputs": [],
   "source": [
    "# Open a connection to the Mongo server, open the accidents database and name the collections of accidents and labels\n",
    "client = pymongo.MongoClient('mongodb://localhost:27351/')\n",
    "\n",
    "db = client.accidents\n",
    "accidents = db.accidents\n",
    "labels = db.labels"
   ]
  },
  {
   "cell_type": "code",
   "execution_count": 97,
   "metadata": {
    "collapsed": true
   },
   "outputs": [],
   "source": [
    "# Load the expanded names of keys and human-readable codes into memory\n",
    "# Don't bother reading this cell yet: we'll use it in a bit.\n",
    "\n",
    "expanded_name = collections.defaultdict(str)\n",
    "for e in labels.find({'expanded': {\"$exists\": True}}):\n",
    "    expanded_name[e['label']] = e['expanded']\n",
    "    \n",
    "label_of = collections.defaultdict(str)\n",
    "for l in labels.find({'codes': {\"$exists\": True}}):\n",
    "    for c in l['codes']:\n",
    "        try:\n",
    "            label_of[l['label'], int(c)] = l['codes'][c]\n",
    "        except ValueError: \n",
    "            label_of[l['label'], c] = l['codes'][c]"
   ]
  },
  {
   "cell_type": "markdown",
   "metadata": {},
   "source": [
    "# A note on speed limits\n",
    "The speed limit data in this dataset shows the speed limit of the road at the location of the accident. It says nothing about the speed of any particular vehicle, so you can't use this data to infer anything about whether speeding causes more accidents. However, it's reasonable to assume that vehicles will often be going faster in a 60mph zone than in a 30mph zone."
   ]
  },
  {
   "cell_type": "markdown",
   "metadata": {},
   "source": [
    "# Getting a single document\n",
    "`find_one()` is the basic method for returning a single document from a collection. With no arguments, it just returns the first document it finds (chosen arbitrarily by Mongo)."
   ]
  },
  {
   "cell_type": "code",
   "execution_count": 98,
   "metadata": {
    "scrolled": true
   },
   "outputs": [
    {
     "data": {
      "text/plain": [
       "{'1st_Road_Class': 3,\n",
       " '1st_Road_Number': 308,\n",
       " '2nd_Road_Class': 5,\n",
       " '2nd_Road_Number': 0,\n",
       " 'Accident_Index': '201201BS70001',\n",
       " 'Accident_Severity': 3,\n",
       " 'Carriageway_Hazards': 0,\n",
       " 'Casualties': [{'Age_Band_of_Casualty': 7,\n",
       "   'Bus_or_Coach_Passenger': 0,\n",
       "   'Car_Passenger': 0,\n",
       "   'Casualty_Class': 1,\n",
       "   'Casualty_Home_Area_Type': 1,\n",
       "   'Casualty_Reference': 1,\n",
       "   'Casualty_Severity': 3,\n",
       "   'Casualty_Type': 1,\n",
       "   'Pedestrian_Location': 0,\n",
       "   'Pedestrian_Movement': 0,\n",
       "   'Pedestrian_Road_Maintenance_Worker': 0,\n",
       "   'Sex_of_Casualty': 1,\n",
       "   'Vehicle_Reference': 2}],\n",
       " 'Date': '19/01/2012',\n",
       " 'Datetime': datetime.datetime(2012, 1, 19, 20, 35),\n",
       " 'Day_of_Week': 5,\n",
       " 'Did_Police_Officer_Attend_Scene_of_Accident': 1,\n",
       " 'Junction_Control': 2,\n",
       " 'Junction_Detail': 6,\n",
       " 'LSOA_of_Accident_Location': 'E01002821',\n",
       " 'Latitude': 51.493429,\n",
       " 'Light_Conditions': 4,\n",
       " 'Local_Authority_(District)': 12,\n",
       " 'Local_Authority_(Highway)': 'E09000020',\n",
       " 'Location_Easting_OSGR': 527200,\n",
       " 'Location_Northing_OSGR': 178760,\n",
       " 'Longitude': -0.169101,\n",
       " 'Number_of_Casualties': 1,\n",
       " 'Number_of_Vehicles': 2,\n",
       " 'Pedestrian_Crossing-Human_Control': 0,\n",
       " 'Pedestrian_Crossing-Physical_Facilities': 5,\n",
       " 'Police_Force': 1,\n",
       " 'Road_Surface_Conditions': 1,\n",
       " 'Road_Type': 6,\n",
       " 'Special_Conditions_at_Site': 0,\n",
       " 'Speed_limit': 30,\n",
       " 'Time': '20:35',\n",
       " 'Urban_or_Rural_Area': 1,\n",
       " 'Vehicles': [{'1st_Point_of_Impact': 4,\n",
       "   'Age_Band_of_Driver': 4,\n",
       "   'Age_of_Vehicle': 5,\n",
       "   'Driver_Home_Area_Type': 1,\n",
       "   'Driver_IMD_Decile': 7,\n",
       "   'Engine_Capacity_(CC)': 1390,\n",
       "   'Hit_Object_in_Carriageway': 0,\n",
       "   'Hit_Object_off_Carriageway': 0,\n",
       "   'Journey_Purpose_of_Driver': 6,\n",
       "   'Junction_Location': 8,\n",
       "   'Propulsion_Code': 1,\n",
       "   'Sex_of_Driver': 2,\n",
       "   'Skidding_and_Overturning': 0,\n",
       "   'Towing_and_Articulation': 0,\n",
       "   'Vehicle_Leaving_Carriageway': 0,\n",
       "   'Vehicle_Location-Restricted_Lane': 0,\n",
       "   'Vehicle_Manoeuvre': 9,\n",
       "   'Vehicle_Reference': 1,\n",
       "   'Vehicle_Type': 9,\n",
       "   'Was_Vehicle_Left_Hand_Drive?': 1},\n",
       "  {'1st_Point_of_Impact': 1,\n",
       "   'Age_Band_of_Driver': 7,\n",
       "   'Age_of_Vehicle': -1,\n",
       "   'Driver_Home_Area_Type': 1,\n",
       "   'Driver_IMD_Decile': 3,\n",
       "   'Engine_Capacity_(CC)': -1,\n",
       "   'Hit_Object_in_Carriageway': 0,\n",
       "   'Hit_Object_off_Carriageway': 0,\n",
       "   'Journey_Purpose_of_Driver': 6,\n",
       "   'Junction_Location': 8,\n",
       "   'Propulsion_Code': -1,\n",
       "   'Sex_of_Driver': 1,\n",
       "   'Skidding_and_Overturning': 0,\n",
       "   'Towing_and_Articulation': 0,\n",
       "   'Vehicle_Leaving_Carriageway': 0,\n",
       "   'Vehicle_Location-Restricted_Lane': 0,\n",
       "   'Vehicle_Manoeuvre': 18,\n",
       "   'Vehicle_Reference': 2,\n",
       "   'Vehicle_Type': 1,\n",
       "   'Was_Vehicle_Left_Hand_Drive?': 1}],\n",
       " 'Weather_Conditions': 1,\n",
       " '_id': ObjectId('52a9c97c92c4e16686d13265'),\n",
       " 'loc': {'coordinates': [-0.169101, 51.493429], 'type': 'Point'}}"
      ]
     },
     "execution_count": 98,
     "metadata": {},
     "output_type": "execute_result"
    }
   ],
   "source": [
    "accidents.find_one()"
   ]
  },
  {
   "cell_type": "markdown",
   "metadata": {},
   "source": [
    "That's quite a bit of data, and it's not that useful to select an arbitrary accident report. Let's pull out an accident that happened in a 70 mph zone. We do that by giving a document that must match one in the database before it's returned."
   ]
  },
  {
   "cell_type": "code",
   "execution_count": 99,
   "metadata": {
    "scrolled": true
   },
   "outputs": [
    {
     "data": {
      "text/plain": [
       "{'1st_Road_Class': 3,\n",
       " '1st_Road_Number': 404,\n",
       " '2nd_Road_Class': -1,\n",
       " '2nd_Road_Number': 0,\n",
       " 'Accident_Index': '201201CW10890',\n",
       " 'Accident_Severity': 3,\n",
       " 'Carriageway_Hazards': 0,\n",
       " 'Casualties': [{'Age_Band_of_Casualty': 4,\n",
       "   'Bus_or_Coach_Passenger': 0,\n",
       "   'Car_Passenger': 0,\n",
       "   'Casualty_Class': 1,\n",
       "   'Casualty_Home_Area_Type': -1,\n",
       "   'Casualty_Reference': 1,\n",
       "   'Casualty_Severity': 3,\n",
       "   'Casualty_Type': 9,\n",
       "   'Pedestrian_Location': 0,\n",
       "   'Pedestrian_Movement': 0,\n",
       "   'Pedestrian_Road_Maintenance_Worker': 0,\n",
       "   'Sex_of_Casualty': 1,\n",
       "   'Vehicle_Reference': 1}],\n",
       " 'Date': '06/07/2012',\n",
       " 'Datetime': datetime.datetime(2012, 7, 6, 1, 25),\n",
       " 'Day_of_Week': 6,\n",
       " 'Did_Police_Officer_Attend_Scene_of_Accident': 1,\n",
       " 'Junction_Control': -1,\n",
       " 'Junction_Detail': 0,\n",
       " 'LSOA_of_Accident_Location': 'E01004702',\n",
       " 'Latitude': 51.519946,\n",
       " 'Light_Conditions': 4,\n",
       " 'Local_Authority_(District)': 1,\n",
       " 'Local_Authority_(Highway)': 'E09000033',\n",
       " 'Location_Easting_OSGR': 526780,\n",
       " 'Location_Northing_OSGR': 181700,\n",
       " 'Longitude': -0.174092,\n",
       " 'Number_of_Casualties': 1,\n",
       " 'Number_of_Vehicles': 2,\n",
       " 'Pedestrian_Crossing-Human_Control': 0,\n",
       " 'Pedestrian_Crossing-Physical_Facilities': 0,\n",
       " 'Police_Force': 1,\n",
       " 'Road_Surface_Conditions': 2,\n",
       " 'Road_Type': 3,\n",
       " 'Special_Conditions_at_Site': 0,\n",
       " 'Speed_limit': 70,\n",
       " 'Time': '01:25',\n",
       " 'Urban_or_Rural_Area': 1,\n",
       " 'Vehicles': [{'1st_Point_of_Impact': 3,\n",
       "   'Age_Band_of_Driver': 4,\n",
       "   'Age_of_Vehicle': 7,\n",
       "   'Driver_Home_Area_Type': -1,\n",
       "   'Driver_IMD_Decile': -1,\n",
       "   'Engine_Capacity_(CC)': 1598,\n",
       "   'Hit_Object_in_Carriageway': 0,\n",
       "   'Hit_Object_off_Carriageway': 7,\n",
       "   'Journey_Purpose_of_Driver': 6,\n",
       "   'Junction_Location': 0,\n",
       "   'Propulsion_Code': 1,\n",
       "   'Sex_of_Driver': 1,\n",
       "   'Skidding_and_Overturning': 0,\n",
       "   'Towing_and_Articulation': 0,\n",
       "   'Vehicle_Leaving_Carriageway': 1,\n",
       "   'Vehicle_Location-Restricted_Lane': 0,\n",
       "   'Vehicle_Manoeuvre': 18,\n",
       "   'Vehicle_Reference': 1,\n",
       "   'Vehicle_Type': 9,\n",
       "   'Was_Vehicle_Left_Hand_Drive?': 1},\n",
       "  {'1st_Point_of_Impact': 4,\n",
       "   'Age_Band_of_Driver': 4,\n",
       "   'Age_of_Vehicle': 9,\n",
       "   'Driver_Home_Area_Type': 1,\n",
       "   'Driver_IMD_Decile': 2,\n",
       "   'Engine_Capacity_(CC)': 1598,\n",
       "   'Hit_Object_in_Carriageway': 0,\n",
       "   'Hit_Object_off_Carriageway': 0,\n",
       "   'Journey_Purpose_of_Driver': 6,\n",
       "   'Junction_Location': 0,\n",
       "   'Propulsion_Code': 1,\n",
       "   'Sex_of_Driver': 1,\n",
       "   'Skidding_and_Overturning': 0,\n",
       "   'Towing_and_Articulation': 0,\n",
       "   'Vehicle_Leaving_Carriageway': 0,\n",
       "   'Vehicle_Location-Restricted_Lane': 0,\n",
       "   'Vehicle_Manoeuvre': 18,\n",
       "   'Vehicle_Reference': 2,\n",
       "   'Vehicle_Type': 9,\n",
       "   'Was_Vehicle_Left_Hand_Drive?': 1}],\n",
       " 'Weather_Conditions': 1,\n",
       " '_id': ObjectId('52a9c97c92c4e16686d13914'),\n",
       " 'loc': {'coordinates': [-0.174092, 51.519946], 'type': 'Point'}}"
      ]
     },
     "execution_count": 99,
     "metadata": {},
     "output_type": "execute_result"
    }
   ],
   "source": [
    "accidents.find_one({'Speed_limit': 70})"
   ]
  },
  {
   "cell_type": "markdown",
   "metadata": {},
   "source": [
    "If we give more than one key-value pair in the query document, the returned document must match all of them (an AND). For instance, to find an accident in a 30mph zone that involved two vehicles and one casualty, we specify that information in the query document:"
   ]
  },
  {
   "cell_type": "code",
   "execution_count": 100,
   "metadata": {
    "scrolled": true
   },
   "outputs": [
    {
     "data": {
      "text/plain": [
       "{'1st_Road_Class': 3,\n",
       " '1st_Road_Number': 308,\n",
       " '2nd_Road_Class': 5,\n",
       " '2nd_Road_Number': 0,\n",
       " 'Accident_Index': '201201BS70001',\n",
       " 'Accident_Severity': 3,\n",
       " 'Carriageway_Hazards': 0,\n",
       " 'Casualties': [{'Age_Band_of_Casualty': 7,\n",
       "   'Bus_or_Coach_Passenger': 0,\n",
       "   'Car_Passenger': 0,\n",
       "   'Casualty_Class': 1,\n",
       "   'Casualty_Home_Area_Type': 1,\n",
       "   'Casualty_Reference': 1,\n",
       "   'Casualty_Severity': 3,\n",
       "   'Casualty_Type': 1,\n",
       "   'Pedestrian_Location': 0,\n",
       "   'Pedestrian_Movement': 0,\n",
       "   'Pedestrian_Road_Maintenance_Worker': 0,\n",
       "   'Sex_of_Casualty': 1,\n",
       "   'Vehicle_Reference': 2}],\n",
       " 'Date': '19/01/2012',\n",
       " 'Datetime': datetime.datetime(2012, 1, 19, 20, 35),\n",
       " 'Day_of_Week': 5,\n",
       " 'Did_Police_Officer_Attend_Scene_of_Accident': 1,\n",
       " 'Junction_Control': 2,\n",
       " 'Junction_Detail': 6,\n",
       " 'LSOA_of_Accident_Location': 'E01002821',\n",
       " 'Latitude': 51.493429,\n",
       " 'Light_Conditions': 4,\n",
       " 'Local_Authority_(District)': 12,\n",
       " 'Local_Authority_(Highway)': 'E09000020',\n",
       " 'Location_Easting_OSGR': 527200,\n",
       " 'Location_Northing_OSGR': 178760,\n",
       " 'Longitude': -0.169101,\n",
       " 'Number_of_Casualties': 1,\n",
       " 'Number_of_Vehicles': 2,\n",
       " 'Pedestrian_Crossing-Human_Control': 0,\n",
       " 'Pedestrian_Crossing-Physical_Facilities': 5,\n",
       " 'Police_Force': 1,\n",
       " 'Road_Surface_Conditions': 1,\n",
       " 'Road_Type': 6,\n",
       " 'Special_Conditions_at_Site': 0,\n",
       " 'Speed_limit': 30,\n",
       " 'Time': '20:35',\n",
       " 'Urban_or_Rural_Area': 1,\n",
       " 'Vehicles': [{'1st_Point_of_Impact': 4,\n",
       "   'Age_Band_of_Driver': 4,\n",
       "   'Age_of_Vehicle': 5,\n",
       "   'Driver_Home_Area_Type': 1,\n",
       "   'Driver_IMD_Decile': 7,\n",
       "   'Engine_Capacity_(CC)': 1390,\n",
       "   'Hit_Object_in_Carriageway': 0,\n",
       "   'Hit_Object_off_Carriageway': 0,\n",
       "   'Journey_Purpose_of_Driver': 6,\n",
       "   'Junction_Location': 8,\n",
       "   'Propulsion_Code': 1,\n",
       "   'Sex_of_Driver': 2,\n",
       "   'Skidding_and_Overturning': 0,\n",
       "   'Towing_and_Articulation': 0,\n",
       "   'Vehicle_Leaving_Carriageway': 0,\n",
       "   'Vehicle_Location-Restricted_Lane': 0,\n",
       "   'Vehicle_Manoeuvre': 9,\n",
       "   'Vehicle_Reference': 1,\n",
       "   'Vehicle_Type': 9,\n",
       "   'Was_Vehicle_Left_Hand_Drive?': 1},\n",
       "  {'1st_Point_of_Impact': 1,\n",
       "   'Age_Band_of_Driver': 7,\n",
       "   'Age_of_Vehicle': -1,\n",
       "   'Driver_Home_Area_Type': 1,\n",
       "   'Driver_IMD_Decile': 3,\n",
       "   'Engine_Capacity_(CC)': -1,\n",
       "   'Hit_Object_in_Carriageway': 0,\n",
       "   'Hit_Object_off_Carriageway': 0,\n",
       "   'Journey_Purpose_of_Driver': 6,\n",
       "   'Junction_Location': 8,\n",
       "   'Propulsion_Code': -1,\n",
       "   'Sex_of_Driver': 1,\n",
       "   'Skidding_and_Overturning': 0,\n",
       "   'Towing_and_Articulation': 0,\n",
       "   'Vehicle_Leaving_Carriageway': 0,\n",
       "   'Vehicle_Location-Restricted_Lane': 0,\n",
       "   'Vehicle_Manoeuvre': 18,\n",
       "   'Vehicle_Reference': 2,\n",
       "   'Vehicle_Type': 1,\n",
       "   'Was_Vehicle_Left_Hand_Drive?': 1}],\n",
       " 'Weather_Conditions': 1,\n",
       " '_id': ObjectId('52a9c97c92c4e16686d13265'),\n",
       " 'loc': {'coordinates': [-0.169101, 51.493429], 'type': 'Point'}}"
      ]
     },
     "execution_count": 100,
     "metadata": {},
     "output_type": "execute_result"
    }
   ],
   "source": [
    "accidents.find_one({'Speed_limit': 30, 'Number_of_Vehicles': 2, 'Number_of_Casualties': 1})"
   ]
  },
  {
   "cell_type": "markdown",
   "metadata": {},
   "source": [
    "Recall that we can limit the key-value pairs returned by specifying the second argument to `find_one()`. \n",
    "\n",
    "This combines *selection* (the speed limit, one casualty, and two vehicles) and *projection* (only retrieving some parts of the document)."
   ]
  },
  {
   "cell_type": "code",
   "execution_count": 101,
   "metadata": {},
   "outputs": [
    {
     "data": {
      "text/plain": [
       "{'Accident_Index': '201201BS70001',\n",
       " 'Number_of_Casualties': 1,\n",
       " 'Number_of_Vehicles': 2,\n",
       " 'Speed_limit': 30,\n",
       " '_id': ObjectId('52a9c97c92c4e16686d13265')}"
      ]
     },
     "execution_count": 101,
     "metadata": {},
     "output_type": "execute_result"
    }
   ],
   "source": [
    "accidents.find_one({'Speed_limit': 30, 'Number_of_Casualties': 1, 'Number_of_Vehicles': 2}, \n",
    "                   ['Accident_Index', 'Speed_limit', 'Number_of_Casualties', 'Number_of_Vehicles'])"
   ]
  },
  {
   "cell_type": "markdown",
   "metadata": {},
   "source": [
    "# Finding multiple documents\n",
    "If we want to find more than one document at a time, we use the imaginatively named `find()` function."
   ]
  },
  {
   "cell_type": "markdown",
   "metadata": {},
   "source": [
    "One useful thing the cursor can do is tell us how many documents match."
   ]
  },
  {
   "cell_type": "code",
   "execution_count": 102,
   "metadata": {},
   "outputs": [
    {
     "data": {
      "text/plain": [
       "46715"
      ]
     },
     "execution_count": 102,
     "metadata": {},
     "output_type": "execute_result"
    }
   ],
   "source": [
    "accidents.find({'Speed_limit': 30, 'Number_of_Casualties': 1, 'Number_of_Vehicles': 2}).count()"
   ]
  },
  {
   "cell_type": "markdown",
   "metadata": {},
   "source": [
    "With this dataset, the `limit` query keyword is extremely useful when exploring, as it stops us being overwhelmed by data. Let's create a small DataFrame to pick out a few attributes of a few accidents.\n",
    "\n",
    "Recall that the output of `find()` is an iterator of `dict`s. If we convert the iterator to a `list`, we can create a DataFrame directly."
   ]
  },
  {
   "cell_type": "code",
   "execution_count": 103,
   "metadata": {},
   "outputs": [
    {
     "data": {
      "text/html": [
       "<div>\n",
       "<style>\n",
       "    .dataframe thead tr:only-child th {\n",
       "        text-align: right;\n",
       "    }\n",
       "\n",
       "    .dataframe thead th {\n",
       "        text-align: left;\n",
       "    }\n",
       "\n",
       "    .dataframe tbody tr th {\n",
       "        vertical-align: top;\n",
       "    }\n",
       "</style>\n",
       "<table border=\"1\" class=\"dataframe\">\n",
       "  <thead>\n",
       "    <tr style=\"text-align: right;\">\n",
       "      <th></th>\n",
       "      <th>Accident_Index</th>\n",
       "      <th>Accident_Severity</th>\n",
       "      <th>Road_Type</th>\n",
       "      <th>Weather_Conditions</th>\n",
       "      <th>_id</th>\n",
       "    </tr>\n",
       "  </thead>\n",
       "  <tbody>\n",
       "    <tr>\n",
       "      <th>0</th>\n",
       "      <td>201201BS70001</td>\n",
       "      <td>3</td>\n",
       "      <td>6</td>\n",
       "      <td>1</td>\n",
       "      <td>52a9c97c92c4e16686d13265</td>\n",
       "    </tr>\n",
       "    <tr>\n",
       "      <th>1</th>\n",
       "      <td>201201BS70002</td>\n",
       "      <td>3</td>\n",
       "      <td>6</td>\n",
       "      <td>1</td>\n",
       "      <td>52a9c97c92c4e16686d13266</td>\n",
       "    </tr>\n",
       "    <tr>\n",
       "      <th>2</th>\n",
       "      <td>201201BS70003</td>\n",
       "      <td>3</td>\n",
       "      <td>2</td>\n",
       "      <td>1</td>\n",
       "      <td>52a9c97c92c4e16686d13267</td>\n",
       "    </tr>\n",
       "    <tr>\n",
       "      <th>3</th>\n",
       "      <td>201201BS70006</td>\n",
       "      <td>3</td>\n",
       "      <td>6</td>\n",
       "      <td>2</td>\n",
       "      <td>52a9c97c92c4e16686d1326a</td>\n",
       "    </tr>\n",
       "    <tr>\n",
       "      <th>4</th>\n",
       "      <td>201201BS70008</td>\n",
       "      <td>3</td>\n",
       "      <td>1</td>\n",
       "      <td>1</td>\n",
       "      <td>52a9c97c92c4e16686d1326c</td>\n",
       "    </tr>\n",
       "    <tr>\n",
       "      <th>5</th>\n",
       "      <td>201201BS70010</td>\n",
       "      <td>3</td>\n",
       "      <td>2</td>\n",
       "      <td>1</td>\n",
       "      <td>52a9c97c92c4e16686d1326d</td>\n",
       "    </tr>\n",
       "    <tr>\n",
       "      <th>6</th>\n",
       "      <td>201201BS70011</td>\n",
       "      <td>3</td>\n",
       "      <td>6</td>\n",
       "      <td>2</td>\n",
       "      <td>52a9c97c92c4e16686d1326e</td>\n",
       "    </tr>\n",
       "    <tr>\n",
       "      <th>7</th>\n",
       "      <td>201201BS70014</td>\n",
       "      <td>3</td>\n",
       "      <td>3</td>\n",
       "      <td>1</td>\n",
       "      <td>52a9c97c92c4e16686d13271</td>\n",
       "    </tr>\n",
       "    <tr>\n",
       "      <th>8</th>\n",
       "      <td>201201BS70018</td>\n",
       "      <td>3</td>\n",
       "      <td>6</td>\n",
       "      <td>2</td>\n",
       "      <td>52a9c97c92c4e16686d13275</td>\n",
       "    </tr>\n",
       "    <tr>\n",
       "      <th>9</th>\n",
       "      <td>201201BS70025</td>\n",
       "      <td>3</td>\n",
       "      <td>6</td>\n",
       "      <td>1</td>\n",
       "      <td>52a9c97c92c4e16686d1327c</td>\n",
       "    </tr>\n",
       "  </tbody>\n",
       "</table>\n",
       "</div>"
      ],
      "text/plain": [
       "  Accident_Index  Accident_Severity  Road_Type  Weather_Conditions  \\\n",
       "0  201201BS70001                  3          6                   1   \n",
       "1  201201BS70002                  3          6                   1   \n",
       "2  201201BS70003                  3          2                   1   \n",
       "3  201201BS70006                  3          6                   2   \n",
       "4  201201BS70008                  3          1                   1   \n",
       "5  201201BS70010                  3          2                   1   \n",
       "6  201201BS70011                  3          6                   2   \n",
       "7  201201BS70014                  3          3                   1   \n",
       "8  201201BS70018                  3          6                   2   \n",
       "9  201201BS70025                  3          6                   1   \n",
       "\n",
       "                        _id  \n",
       "0  52a9c97c92c4e16686d13265  \n",
       "1  52a9c97c92c4e16686d13266  \n",
       "2  52a9c97c92c4e16686d13267  \n",
       "3  52a9c97c92c4e16686d1326a  \n",
       "4  52a9c97c92c4e16686d1326c  \n",
       "5  52a9c97c92c4e16686d1326d  \n",
       "6  52a9c97c92c4e16686d1326e  \n",
       "7  52a9c97c92c4e16686d13271  \n",
       "8  52a9c97c92c4e16686d13275  \n",
       "9  52a9c97c92c4e16686d1327c  "
      ]
     },
     "execution_count": 103,
     "metadata": {},
     "output_type": "execute_result"
    }
   ],
   "source": [
    "pd.DataFrame(list(accidents.find({'Speed_limit': 30, 'Number_of_Casualties': 1, 'Number_of_Vehicles': 2}, \n",
    "                                 ['Accident_Index', 'Accident_Severity', 'Road_Type','Weather_Conditions'],\n",
    "                                 limit=10)))"
   ]
  },
  {
   "cell_type": "markdown",
   "metadata": {
    "activity": "activity"
   },
   "source": [
    "### Activity 1\n",
    "How many accidents were there at less than 30mph?\n",
    "\n",
    "Create a DataFrame that holds the accident index, number of vehicles, and number of casualties for each accident, where the speed limit is less than 30mph. \n",
    "\n",
    "(You may find it useful to revise 'Query criteria' in _MongoDB: The Definitive Guide_.)\n",
    "\n",
    "The solution is in the [`14.2solutions`](14.2solutions.ipynb) Notebook."
   ]
  },
  {
   "cell_type": "code",
   "execution_count": 104,
   "metadata": {},
   "outputs": [
    {
     "data": {
      "text/plain": [
       "2248"
      ]
     },
     "execution_count": 104,
     "metadata": {},
     "output_type": "execute_result"
    }
   ],
   "source": [
    "accidents.find({'Speed_limit': {'$lt':30}}).count()"
   ]
  },
  {
   "cell_type": "code",
   "execution_count": 105,
   "metadata": {},
   "outputs": [
    {
     "data": {
      "text/html": [
       "<div>\n",
       "<style>\n",
       "    .dataframe thead tr:only-child th {\n",
       "        text-align: right;\n",
       "    }\n",
       "\n",
       "    .dataframe thead th {\n",
       "        text-align: left;\n",
       "    }\n",
       "\n",
       "    .dataframe tbody tr th {\n",
       "        vertical-align: top;\n",
       "    }\n",
       "</style>\n",
       "<table border=\"1\" class=\"dataframe\">\n",
       "  <thead>\n",
       "    <tr style=\"text-align: right;\">\n",
       "      <th></th>\n",
       "      <th>Number_of_Casualties</th>\n",
       "      <th>Number_of_Vehicles</th>\n",
       "      <th>_id</th>\n",
       "    </tr>\n",
       "  </thead>\n",
       "  <tbody>\n",
       "    <tr>\n",
       "      <th>0</th>\n",
       "      <td>1</td>\n",
       "      <td>1</td>\n",
       "      <td>52a9c98492c4e16686d36229</td>\n",
       "    </tr>\n",
       "    <tr>\n",
       "      <th>1</th>\n",
       "      <td>1</td>\n",
       "      <td>1</td>\n",
       "      <td>52a9c97c92c4e16686d134e3</td>\n",
       "    </tr>\n",
       "    <tr>\n",
       "      <th>2</th>\n",
       "      <td>3</td>\n",
       "      <td>1</td>\n",
       "      <td>52a9c97c92c4e16686d13506</td>\n",
       "    </tr>\n",
       "    <tr>\n",
       "      <th>3</th>\n",
       "      <td>1</td>\n",
       "      <td>2</td>\n",
       "      <td>52a9c97c92c4e16686d13707</td>\n",
       "    </tr>\n",
       "    <tr>\n",
       "      <th>4</th>\n",
       "      <td>2</td>\n",
       "      <td>2</td>\n",
       "      <td>52a9c97c92c4e16686d13724</td>\n",
       "    </tr>\n",
       "    <tr>\n",
       "      <th>5</th>\n",
       "      <td>1</td>\n",
       "      <td>1</td>\n",
       "      <td>52a9c97c92c4e16686d13740</td>\n",
       "    </tr>\n",
       "    <tr>\n",
       "      <th>6</th>\n",
       "      <td>1</td>\n",
       "      <td>2</td>\n",
       "      <td>52a9c97c92c4e16686d13cd6</td>\n",
       "    </tr>\n",
       "    <tr>\n",
       "      <th>7</th>\n",
       "      <td>1</td>\n",
       "      <td>2</td>\n",
       "      <td>52a9c97c92c4e16686d13d56</td>\n",
       "    </tr>\n",
       "    <tr>\n",
       "      <th>8</th>\n",
       "      <td>1</td>\n",
       "      <td>2</td>\n",
       "      <td>52a9c97c92c4e16686d13d77</td>\n",
       "    </tr>\n",
       "    <tr>\n",
       "      <th>9</th>\n",
       "      <td>1</td>\n",
       "      <td>2</td>\n",
       "      <td>52a9c97c92c4e16686d13dd5</td>\n",
       "    </tr>\n",
       "    <tr>\n",
       "      <th>10</th>\n",
       "      <td>1</td>\n",
       "      <td>1</td>\n",
       "      <td>52a9c97c92c4e16686d13dd7</td>\n",
       "    </tr>\n",
       "    <tr>\n",
       "      <th>11</th>\n",
       "      <td>1</td>\n",
       "      <td>2</td>\n",
       "      <td>52a9c97c92c4e16686d13de3</td>\n",
       "    </tr>\n",
       "  </tbody>\n",
       "</table>\n",
       "</div>"
      ],
      "text/plain": [
       "    Number_of_Casualties  Number_of_Vehicles                       _id\n",
       "0                      1                   1  52a9c98492c4e16686d36229\n",
       "1                      1                   1  52a9c97c92c4e16686d134e3\n",
       "2                      3                   1  52a9c97c92c4e16686d13506\n",
       "3                      1                   2  52a9c97c92c4e16686d13707\n",
       "4                      2                   2  52a9c97c92c4e16686d13724\n",
       "5                      1                   1  52a9c97c92c4e16686d13740\n",
       "6                      1                   2  52a9c97c92c4e16686d13cd6\n",
       "7                      1                   2  52a9c97c92c4e16686d13d56\n",
       "8                      1                   2  52a9c97c92c4e16686d13d77\n",
       "9                      1                   2  52a9c97c92c4e16686d13dd5\n",
       "10                     1                   1  52a9c97c92c4e16686d13dd7\n",
       "11                     1                   2  52a9c97c92c4e16686d13de3"
      ]
     },
     "execution_count": 105,
     "metadata": {},
     "output_type": "execute_result"
    }
   ],
   "source": [
    "pd.DataFrame(list(accidents.find({'Speed_limit':{'$lt':30}},['Accident_index','Number_of_Vehicles','Number_of_Casualties'], limit=12)))"
   ]
  },
  {
   "cell_type": "code",
   "execution_count": null,
   "metadata": {
    "collapsed": true
   },
   "outputs": [],
   "source": []
  },
  {
   "cell_type": "code",
   "execution_count": null,
   "metadata": {
    "collapsed": true
   },
   "outputs": [],
   "source": [
    "#Insert your solution here"
   ]
  },
  {
   "cell_type": "markdown",
   "metadata": {},
   "source": [
    "# Expanding the codes\n",
    "A lot of the information in this dataset is recorded as codes rather than human-readable labels. The `labels` collection contains the labels for each code. \n",
    "\n",
    "Here are some examples for both looking up individual values and seeing what labels and codes there are. Treat these as recipes for your own explorations."
   ]
  },
  {
   "cell_type": "markdown",
   "metadata": {},
   "source": [
    "The `labels` collection contains the human-readable labels for all the codes in in the accident descriptions. We can ask for the labels and codes for `Road_Type`:"
   ]
  },
  {
   "cell_type": "code",
   "execution_count": 106,
   "metadata": {},
   "outputs": [
    {
     "data": {
      "text/plain": [
       "{'_id': ObjectId('52b0c65adbc24119018372a4'),\n",
       " 'codes': {'-1': 'Data missing or out of range',\n",
       "  '1': 'Roundabout',\n",
       "  '12': 'One way street/Slip road',\n",
       "  '2': 'One way street',\n",
       "  '3': 'Dual carriageway',\n",
       "  '6': 'Single carriageway',\n",
       "  '7': 'Slip road',\n",
       "  '9': 'Unknown'},\n",
       " 'label': 'Road_Type'}"
      ]
     },
     "execution_count": 106,
     "metadata": {},
     "output_type": "execute_result"
    }
   ],
   "source": [
    "labels.find_one({'label': 'Road_Type'})"
   ]
  },
  {
   "cell_type": "markdown",
   "metadata": {},
   "source": [
    "We can ask for the label of on particular type of road."
   ]
  },
  {
   "cell_type": "code",
   "execution_count": 16,
   "metadata": {},
   "outputs": [
    {
     "data": {
      "text/plain": [
       "'Single carriageway'"
      ]
     },
     "execution_count": 16,
     "metadata": {},
     "output_type": "execute_result"
    }
   ],
   "source": [
    "labels.find_one({'label': 'Road_Type'})['codes']['6']"
   ]
  },
  {
   "cell_type": "markdown",
   "metadata": {},
   "source": [
    "We can ask for all the labels:"
   ]
  },
  {
   "cell_type": "code",
   "execution_count": 17,
   "metadata": {},
   "outputs": [
    {
     "data": {
      "text/plain": [
       "['Roundabout',\n",
       " 'One way street',\n",
       " 'One way street/Slip road',\n",
       " 'Unknown',\n",
       " 'Data missing or out of range',\n",
       " 'Slip road',\n",
       " 'Single carriageway',\n",
       " 'Dual carriageway']"
      ]
     },
     "execution_count": 17,
     "metadata": {},
     "output_type": "execute_result"
    }
   ],
   "source": [
    "road_types = []\n",
    "road_code_labels = labels.find_one({'label': 'Road_Type'})['codes']\n",
    "for code in road_code_labels:\n",
    "    road_types.append(road_code_labels[code])\n",
    "road_types"
   ]
  },
  {
   "cell_type": "markdown",
   "metadata": {},
   "source": [
    "But, rather than doing lots of `append`s in a `for` loop, there's a more idiomatic Python approach: a _list comprehension_."
   ]
  },
  {
   "cell_type": "code",
   "execution_count": 18,
   "metadata": {},
   "outputs": [
    {
     "data": {
      "text/plain": [
       "['Roundabout',\n",
       " 'One way street',\n",
       " 'One way street/Slip road',\n",
       " 'Unknown',\n",
       " 'Data missing or out of range',\n",
       " 'Slip road',\n",
       " 'Single carriageway',\n",
       " 'Dual carriageway']"
      ]
     },
     "execution_count": 18,
     "metadata": {},
     "output_type": "execute_result"
    }
   ],
   "source": [
    "[road_code_labels[code] for code in road_code_labels]"
   ]
  },
  {
   "cell_type": "markdown",
   "metadata": {},
   "source": [
    "To make things easier, the piece of code at the top of the notebook loads all the labels and codes into a `dict` called `label_of`. You can find the label of a code for a key by looking in there. The dict's keys are 2-tuples; the first element is the accident document's key we're looking up and the second is the code. The value is the human-readable label for that code. "
   ]
  },
  {
   "cell_type": "code",
   "execution_count": 19,
   "metadata": {},
   "outputs": [
    {
     "data": {
      "text/plain": [
       "'Single carriageway'"
      ]
     },
     "execution_count": 19,
     "metadata": {},
     "output_type": "execute_result"
    }
   ],
   "source": [
    "label_of[('Road_Type', 6)]"
   ]
  },
  {
   "cell_type": "markdown",
   "metadata": {},
   "source": [
    "Note that we dn't need the brackets around the 2-tuple when Python knows that's what we mean, which can make the code a little more readable."
   ]
  },
  {
   "cell_type": "code",
   "execution_count": 20,
   "metadata": {},
   "outputs": [
    {
     "data": {
      "text/plain": [
       "'Single carriageway'"
      ]
     },
     "execution_count": 20,
     "metadata": {},
     "output_type": "execute_result"
    }
   ],
   "source": [
    "label_of['Road_Type', 6]"
   ]
  },
  {
   "cell_type": "markdown",
   "metadata": {},
   "source": [
    "You can find all the codes and labels for a key by walking over the `dict`:"
   ]
  },
  {
   "cell_type": "code",
   "execution_count": 21,
   "metadata": {},
   "outputs": [
    {
     "data": {
      "text/plain": [
       "['One way street/Slip road',\n",
       " 'One way street',\n",
       " 'Slip road',\n",
       " 'Data missing or out of range',\n",
       " 'Roundabout',\n",
       " 'Dual carriageway',\n",
       " 'Single carriageway',\n",
       " 'Unknown']"
      ]
     },
     "execution_count": 21,
     "metadata": {},
     "output_type": "execute_result"
    }
   ],
   "source": [
    "road_types = []\n",
    "for (key, code) in label_of:\n",
    "    if key == 'Road_Type':\n",
    "        road_types.append(label_of[key, code])\n",
    "road_types"
   ]
  },
  {
   "cell_type": "markdown",
   "metadata": {},
   "source": [
    "or, more idiomatically, with a list comprehension. Note how the important parts of the cell above, the `for` and `if`, are still in the comprehension form."
   ]
  },
  {
   "cell_type": "code",
   "execution_count": 23,
   "metadata": {},
   "outputs": [
    {
     "data": {
      "text/plain": [
       "['One way street/Slip road',\n",
       " 'One way street',\n",
       " 'Slip road',\n",
       " 'Data missing or out of range',\n",
       " 'Roundabout',\n",
       " 'Dual carriageway',\n",
       " 'Single carriageway',\n",
       " 'Unknown']"
      ]
     },
     "execution_count": 23,
     "metadata": {},
     "output_type": "execute_result"
    }
   ],
   "source": [
    "[label_of[key, code] \n",
    " for (key, code) in label_of \n",
    " if key == 'Road_Type']"
   ]
  },
  {
   "cell_type": "code",
   "execution_count": 24,
   "metadata": {},
   "outputs": [
    {
     "data": {
      "text/plain": [
       "['One way street/Slip road',\n",
       " 'One way street',\n",
       " 'Slip road',\n",
       " 'Data missing or out of range',\n",
       " 'Roundabout',\n",
       " 'Dual carriageway',\n",
       " 'Single carriageway',\n",
       " 'Unknown']"
      ]
     },
     "execution_count": 24,
     "metadata": {},
     "output_type": "execute_result"
    }
   ],
   "source": [
    "[label_of[key,code] for (key, code) in label_of if key == 'Road_Type']"
   ]
  },
  {
   "cell_type": "markdown",
   "metadata": {},
   "source": [
    "You can return the code with the label by wrapping them in a `tuple`. Again, note that we don't always need brackets aroun the tuple. The brackets are needed in the \"return\" position, but not in the `for` statement."
   ]
  },
  {
   "cell_type": "code",
   "execution_count": 25,
   "metadata": {},
   "outputs": [
    {
     "data": {
      "text/plain": [
       "[(12, 'One way street/Slip road'),\n",
       " (2, 'One way street'),\n",
       " (7, 'Slip road'),\n",
       " (-1, 'Data missing or out of range'),\n",
       " (1, 'Roundabout'),\n",
       " (3, 'Dual carriageway'),\n",
       " (6, 'Single carriageway'),\n",
       " (9, 'Unknown')]"
      ]
     },
     "execution_count": 25,
     "metadata": {},
     "output_type": "execute_result"
    }
   ],
   "source": [
    "[(code, label_of[key, code]) \n",
    " for key, code in label_of \n",
    " if key == 'Road_Type']"
   ]
  },
  {
   "cell_type": "code",
   "execution_count": 28,
   "metadata": {},
   "outputs": [
    {
     "data": {
      "text/plain": [
       "[(12, 'One way street/Slip road'),\n",
       " (2, 'One way street'),\n",
       " (7, 'Slip road'),\n",
       " (-1, 'Data missing or out of range'),\n",
       " (1, 'Roundabout'),\n",
       " (3, 'Dual carriageway'),\n",
       " (6, 'Single carriageway'),\n",
       " (9, 'Unknown')]"
      ]
     },
     "execution_count": 28,
     "metadata": {},
     "output_type": "execute_result"
    }
   ],
   "source": [
    "[(code, label_of[key, code]) for key, code in label_of if key == 'Road_Type']"
   ]
  },
  {
   "cell_type": "markdown",
   "metadata": {
    "activity": "activityAns"
   },
   "source": [
    "### Activity 2\n",
    "Find and display the document in the `labels` collection that stores details of weather conditions. \n",
    "\n",
    "Use the `label_of` dict to find all the labels for `Weather_Conditions`.\n",
    "\n",
    "Use the `label_of` dict in a list comprehension to find all the labels for `Weather_Conditions` that refer to wind. Note that you can include more than one `if` clause in a list comprehension: just put them one after the other, like this:\n",
    "\n",
    "    ```[item for item in thing if condition1 if condition2]```\n",
    "    \n",
    "It will only return items where both conditions are true.\n",
    "\n",
    "The solution is in the [`14.2solutions`](14.2solutions.ipynb) Notebook."
   ]
  },
  {
   "cell_type": "code",
   "execution_count": 30,
   "metadata": {},
   "outputs": [
    {
     "data": {
      "text/plain": [
       "['Data missing or out of range',\n",
       " 'Other',\n",
       " 'Fine no high winds',\n",
       " 'Snowing + high winds',\n",
       " 'Snowing no high winds',\n",
       " 'Fine + high winds',\n",
       " 'Raining + high winds',\n",
       " 'Fog or mist',\n",
       " 'Unknown',\n",
       " 'Raining no high winds']"
      ]
     },
     "execution_count": 30,
     "metadata": {},
     "output_type": "execute_result"
    }
   ],
   "source": [
    "[label_of[key, code] for key, code in label_of if key == 'Weather_Conditions']"
   ]
  },
  {
   "cell_type": "code",
   "execution_count": 36,
   "metadata": {},
   "outputs": [
    {
     "data": {
      "text/plain": [
       "[(1, 'Fine no high winds'),\n",
       " (6, 'Snowing + high winds'),\n",
       " (3, 'Snowing no high winds'),\n",
       " (4, 'Fine + high winds'),\n",
       " (5, 'Raining + high winds'),\n",
       " (2, 'Raining no high winds')]"
      ]
     },
     "execution_count": 36,
     "metadata": {},
     "output_type": "execute_result"
    }
   ],
   "source": [
    "[(code, label_of[key, code])\n",
    " for key, code in label_of \n",
    " if key == 'Weather_Conditions' \n",
    " if 'winds' in label_of[key, code]]"
   ]
  },
  {
   "cell_type": "code",
   "execution_count": null,
   "metadata": {
    "collapsed": true
   },
   "outputs": [],
   "source": [
    "# Insert your solution here"
   ]
  },
  {
   "cell_type": "markdown",
   "metadata": {},
   "source": [
    "Some keys in the documents are themselves cryptic, and the human-readable expanions of them are available in the `labels` collection. `expanded_name` dict gives their full names. You'll see these more in Part 15 when we look at the road census data."
   ]
  },
  {
   "cell_type": "code",
   "execution_count": 37,
   "metadata": {},
   "outputs": [
    {
     "data": {
      "text/plain": [
       "{'_id': ObjectId('52e953b6dbc2410efb5efe49'),\n",
       " 'expanded': 'Rigid HGV with four axles',\n",
       " 'label': 'FdHGVR4'}"
      ]
     },
     "execution_count": 37,
     "metadata": {},
     "output_type": "execute_result"
    }
   ],
   "source": [
    "# What does 'FdHGVR4' mean?\n",
    "labels.find_one({'label': 'FdHGVR4'})"
   ]
  },
  {
   "cell_type": "markdown",
   "metadata": {},
   "source": [
    "The `expanded_name` dict also gives their full names. You'll see these more in Part 15 when we look at the road census data."
   ]
  },
  {
   "cell_type": "code",
   "execution_count": 38,
   "metadata": {},
   "outputs": [
    {
     "data": {
      "text/plain": [
       "'Rigid HGV with four axles'"
      ]
     },
     "execution_count": 38,
     "metadata": {},
     "output_type": "execute_result"
    }
   ],
   "source": [
    "# What does 'FdHGVR4' mean?\n",
    "expanded_name['FdHGVR4']"
   ]
  },
  {
   "cell_type": "markdown",
   "metadata": {},
   "source": [
    "We can see which keys have labels for codes:"
   ]
  },
  {
   "cell_type": "markdown",
   "metadata": {},
   "source": [
    "## Back to queries\n",
    "Armed with this information, we can repeat the query earlier and list the accident indexes together with the human-readable data."
   ]
  },
  {
   "cell_type": "markdown",
   "metadata": {
    "activity": "activity"
   },
   "source": [
    "### Activity 3\n",
    "The earlier query is below, but it prints the results rather than putting them in a DataFrame."
   ]
  },
  {
   "cell_type": "code",
   "execution_count": 39,
   "metadata": {
    "activity": "activity"
   },
   "outputs": [
    {
     "name": "stdout",
     "output_type": "stream",
     "text": [
      "201201BS70001 3 6 1 52a9c97c92c4e16686d13265\n",
      "201201BS70002 3 6 1 52a9c97c92c4e16686d13266\n",
      "201201BS70003 3 2 1 52a9c97c92c4e16686d13267\n",
      "201201BS70006 3 6 2 52a9c97c92c4e16686d1326a\n",
      "201201BS70008 3 1 1 52a9c97c92c4e16686d1326c\n",
      "201201BS70010 3 2 1 52a9c97c92c4e16686d1326d\n",
      "201201BS70011 3 6 2 52a9c97c92c4e16686d1326e\n",
      "201201BS70014 3 3 1 52a9c97c92c4e16686d13271\n",
      "201201BS70018 3 6 2 52a9c97c92c4e16686d13275\n",
      "201201BS70025 3 6 1 52a9c97c92c4e16686d1327c\n"
     ]
    }
   ],
   "source": [
    "for a in accidents.find({'Speed_limit': 30, 'Number_of_Casualties': 1, 'Number_of_Vehicles': 2}, \n",
    "                                 ['Accident_Index', 'Accident_Severity', 'Road_Type','Weather_Conditions'],\n",
    "                                 limit=10):\n",
    "    print(a['Accident_Index'],  \n",
    "          a['Accident_Severity'],\n",
    "          a['Road_Type'], \n",
    "          a['Weather_Conditions'],\n",
    "          a['_id'])"
   ]
  },
  {
   "cell_type": "code",
   "execution_count": 48,
   "metadata": {},
   "outputs": [
    {
     "name": "stdout",
     "output_type": "stream",
     "text": [
      "201201BS70001 Slight Single carriageway Fine no high winds\n",
      "201201BS70002 Slight Single carriageway Fine no high winds\n",
      "201201BS70003 Slight One way street Fine no high winds\n",
      "201201BS70006 Slight Single carriageway Raining no high winds\n",
      "201201BS70008 Slight Roundabout Fine no high winds\n",
      "201201BS70010 Slight One way street Fine no high winds\n",
      "201201BS70011 Slight Single carriageway Raining no high winds\n",
      "201201BS70014 Slight Dual carriageway Fine no high winds\n",
      "201201BS70018 Slight Single carriageway Raining no high winds\n",
      "201201BS70025 Slight Single carriageway Fine no high winds\n"
     ]
    }
   ],
   "source": [
    "for a in accidents.find({'Speed_limit': 30, 'Number_of_Casualties': 1, 'Number_of_Vehicles': 2}, \n",
    "                                 ['Accident_Index', 'Accident_Severity', 'Road_Type','Weather_Conditions'],\n",
    "                                 limit=10):\n",
    "    print(a['Accident_Index'],  \n",
    "          label_of['Accident_Severity', a['Accident_Severity']],\n",
    "          label_of['Road_Type', a['Road_Type']], \n",
    "          label_of['Weather_Conditions', a['Weather_Conditions']],\n",
    "          )"
   ]
  },
  {
   "cell_type": "markdown",
   "metadata": {
    "activity": "activity"
   },
   "source": [
    "Repeat this query, but print the labels of the accident severity, road type, and weather conditions (e.g. \n",
    "```\n",
    "201201BS70001 Slight Single carriageway Fine no high winds\n",
    "```\n",
    ")\n",
    "\n",
    "The solution is in the [`14.2solutions`](14.2solutions.ipynb) Notebook."
   ]
  },
  {
   "cell_type": "code",
   "execution_count": null,
   "metadata": {
    "collapsed": true
   },
   "outputs": [],
   "source": [
    "# Insert your solution here"
   ]
  },
  {
   "cell_type": "markdown",
   "metadata": {},
   "source": [
    "In this case, storing the looked-up values in the DataFrame is tricker, as we can't just use the dicts that come out of the `find()`. We have to do some processing and manually build a new dict for each document found."
   ]
  },
  {
   "cell_type": "code",
   "execution_count": null,
   "metadata": {
    "collapsed": true
   },
   "outputs": [],
   "source": [
    "pd.DataFrame([\n",
    "        {'Accident_Index': a['Accident_Index'],\n",
    "          'Accident_Severity': label_of['Accident_Severity', a['Accident_Severity']],\n",
    "          'Road_Type': label_of['Road_Type', a['Road_Type']], \n",
    "          'Weather_Conditions': label_of['Weather_Conditions', a['Weather_Conditions']]}\n",
    "        for a in accidents.find({'Speed_limit': 30, \n",
    "                                 'Number_of_Casualties': 1, 'Number_of_Vehicles': 2}, limit=10)])                  "
   ]
  },
  {
   "cell_type": "markdown",
   "metadata": {},
   "source": [
    "# Investigating the accident data\n",
    "## Severities at one speed\n",
    "We can now start to investigate the data. What are the proportions of accident severities in 30mph zones?\n",
    "\n",
    "Note that the basic `find()` just returns documents: it can't do any aggregation and doesn't have anything like SQL's `GROUP BY` clause. In Part 15, we'll look at Mongo's aggregation pipelines, where we can get Mongo to do this kind of processing for us.\n",
    "\n",
    "First, we'll collect the summary numbers ..."
   ]
  },
  {
   "cell_type": "code",
   "execution_count": 49,
   "metadata": {},
   "outputs": [
    {
     "data": {
      "text/plain": [
       "3    81727\n",
       "2    12686\n",
       "1      582\n",
       "Name: Accident_Severity, dtype: int64"
      ]
     },
     "execution_count": 49,
     "metadata": {},
     "output_type": "execute_result"
    }
   ],
   "source": [
    "# Build a DataFrame, one row for each accident\n",
    "severities_30_unrolled_df = pd.DataFrame(list(accidents.find({'Speed_limit': 30}, ['Accident_Severity'])))\n",
    "\n",
    "# Count the number of each severity\n",
    "severities_30_ss = severities_30_unrolled_df['Accident_Severity'].value_counts()\n",
    "severities_30_ss"
   ]
  },
  {
   "cell_type": "markdown",
   "metadata": {},
   "source": [
    "...and plot them."
   ]
  },
  {
   "cell_type": "code",
   "execution_count": 50,
   "metadata": {},
   "outputs": [
    {
     "data": {
      "text/plain": [
       "<matplotlib.axes._subplots.AxesSubplot at 0x7fdb8d5089b0>"
      ]
     },
     "execution_count": 50,
     "metadata": {},
     "output_type": "execute_result"
    },
    {
     "data": {
      "image/png": "[encoded data removed]",
      "text/plain": [
       "<matplotlib.figure.Figure at 0x7fdb8d40b8d0>"
      ]
     },
     "metadata": {},
     "output_type": "display_data"
    }
   ],
   "source": [
    "severities_30_ss.sort_index().plot(kind='bar')"
   ]
  },
  {
   "cell_type": "markdown",
   "metadata": {},
   "source": [
    "...or, using the `label_of` dict to find the human-readable labels:"
   ]
  },
  {
   "cell_type": "code",
   "execution_count": 51,
   "metadata": {},
   "outputs": [
    {
     "data": {
      "text/plain": [
       "Fatal        582\n",
       "Serious    12686\n",
       "Slight     81727\n",
       "Name: Accident_Severity, dtype: int64"
      ]
     },
     "execution_count": 51,
     "metadata": {},
     "output_type": "execute_result"
    }
   ],
   "source": [
    "severities_30_ss.sort_index(inplace=True)\n",
    "severities_30_ss.index = [label_of['Accident_Severity', r] for r in severities_30_ss.index]\n",
    "severities_30_ss"
   ]
  },
  {
   "cell_type": "code",
   "execution_count": 52,
   "metadata": {},
   "outputs": [
    {
     "data": {
      "text/plain": [
       "<matplotlib.axes._subplots.AxesSubplot at 0x7fdb8e5fde48>"
      ]
     },
     "execution_count": 52,
     "metadata": {},
     "output_type": "execute_result"
    },
    {
     "data": {
      "image/png": "[encoded data removed]",
      "text/plain": [
       "<matplotlib.figure.Figure at 0x7fdb8d489710>"
      ]
     },
     "metadata": {},
     "output_type": "display_data"
    }
   ],
   "source": [
    "severities_30_ss.plot(kind='bar')"
   ]
  },
  {
   "cell_type": "markdown",
   "metadata": {
    "activity": "activityAns"
   },
   "source": [
    "### Activity 4\n",
    "What are the numbers of accidents at each severity in 60mph zones? Show your results as a bar chart.\n",
    "\n",
    "The solution is in the [`14.2solutions`](14.2solutions.ipynb) Notebook."
   ]
  },
  {
   "cell_type": "code",
   "execution_count": 53,
   "metadata": {
    "collapsed": true
   },
   "outputs": [],
   "source": [
    "# Insert your solution here."
   ]
  },
  {
   "cell_type": "code",
   "execution_count": 72,
   "metadata": {},
   "outputs": [
    {
     "data": {
      "text/plain": [
       "3    16416\n",
       "2     4157\n",
       "1      599\n",
       "Name: Accident_Severity, dtype: int64"
      ]
     },
     "execution_count": 72,
     "metadata": {},
     "output_type": "execute_result"
    }
   ],
   "source": [
    "# Build a dataframe, one row per accident\n",
    "severities_60_unrolled_df = pd.DataFrame(list(accidents.find({'Speed_limit':60},['Accident_Severity'])))\n",
    "\n",
    "# get the value counts of each severity\n",
    "severities_60_ss = severities_60_unrolled_df['Accident_Severity'].value_counts()\n",
    "severities_60_ss"
   ]
  },
  {
   "cell_type": "code",
   "execution_count": 73,
   "metadata": {},
   "outputs": [
    {
     "data": {
      "text/plain": [
       "Fatal        599\n",
       "Serious     4157\n",
       "Slight     16416\n",
       "Name: Accident_Severity, dtype: int64"
      ]
     },
     "execution_count": 73,
     "metadata": {},
     "output_type": "execute_result"
    }
   ],
   "source": [
    "severities_60_ss.sort_index(inplace=True)\n",
    "severities_60_ss.index = [label_of['Accident_Severity', r] for r in severities_60_ss.index]\n",
    "severities_60_ss"
   ]
  },
  {
   "cell_type": "code",
   "execution_count": 74,
   "metadata": {},
   "outputs": [
    {
     "data": {
      "text/plain": [
       "<matplotlib.axes._subplots.AxesSubplot at 0x7fdb876d4c88>"
      ]
     },
     "execution_count": 74,
     "metadata": {},
     "output_type": "execute_result"
    },
    {
     "data": {
      "image/png": "[encoded data removed]",
      "text/plain": [
       "<matplotlib.figure.Figure at 0x7fdb87a7c6d8>"
      ]
     },
     "metadata": {},
     "output_type": "display_data"
    }
   ],
   "source": [
    "severities_60_ss.plot(kind='bar')"
   ]
  },
  {
   "cell_type": "markdown",
   "metadata": {},
   "source": [
    "## Severities across speeds\n",
    "It's a bit tedious doing one speed at a time. Let's summarise all the data and put it in a *pandas* DataFrame so we can see it all together. \n",
    "\n",
    "Let's start by building a DataFrame with one row for each accident. We can then count the number of rows at each speed/severity combination with a _pandas_ `crosstab`. "
   ]
  },
  {
   "cell_type": "code",
   "execution_count": 75,
   "metadata": {
    "scrolled": true
   },
   "outputs": [
    {
     "data": {
      "text/html": [
       "<div>\n",
       "<style>\n",
       "    .dataframe thead tr:only-child th {\n",
       "        text-align: right;\n",
       "    }\n",
       "\n",
       "    .dataframe thead th {\n",
       "        text-align: left;\n",
       "    }\n",
       "\n",
       "    .dataframe tbody tr th {\n",
       "        vertical-align: top;\n",
       "    }\n",
       "</style>\n",
       "<table border=\"1\" class=\"dataframe\">\n",
       "  <thead>\n",
       "    <tr style=\"text-align: right;\">\n",
       "      <th>Accident_Severity</th>\n",
       "      <th>1</th>\n",
       "      <th>2</th>\n",
       "      <th>3</th>\n",
       "    </tr>\n",
       "    <tr>\n",
       "      <th>Speed_limit</th>\n",
       "      <th></th>\n",
       "      <th></th>\n",
       "      <th></th>\n",
       "    </tr>\n",
       "  </thead>\n",
       "  <tbody>\n",
       "    <tr>\n",
       "      <th>10</th>\n",
       "      <td>0</td>\n",
       "      <td>0</td>\n",
       "      <td>1</td>\n",
       "    </tr>\n",
       "    <tr>\n",
       "      <th>20</th>\n",
       "      <td>9</td>\n",
       "      <td>333</td>\n",
       "      <td>1905</td>\n",
       "    </tr>\n",
       "    <tr>\n",
       "      <th>30</th>\n",
       "      <td>582</td>\n",
       "      <td>12686</td>\n",
       "      <td>81727</td>\n",
       "    </tr>\n",
       "    <tr>\n",
       "      <th>40</th>\n",
       "      <td>155</td>\n",
       "      <td>1798</td>\n",
       "      <td>9961</td>\n",
       "    </tr>\n",
       "    <tr>\n",
       "      <th>50</th>\n",
       "      <td>94</td>\n",
       "      <td>770</td>\n",
       "      <td>4356</td>\n",
       "    </tr>\n",
       "    <tr>\n",
       "      <th>60</th>\n",
       "      <td>599</td>\n",
       "      <td>4157</td>\n",
       "      <td>16416</td>\n",
       "    </tr>\n",
       "    <tr>\n",
       "      <th>70</th>\n",
       "      <td>198</td>\n",
       "      <td>1157</td>\n",
       "      <td>8667</td>\n",
       "    </tr>\n",
       "  </tbody>\n",
       "</table>\n",
       "</div>"
      ],
      "text/plain": [
       "Accident_Severity    1      2      3\n",
       "Speed_limit                         \n",
       "10                   0      0      1\n",
       "20                   9    333   1905\n",
       "30                 582  12686  81727\n",
       "40                 155   1798   9961\n",
       "50                  94    770   4356\n",
       "60                 599   4157  16416\n",
       "70                 198   1157   8667"
      ]
     },
     "execution_count": 75,
     "metadata": {},
     "output_type": "execute_result"
    }
   ],
   "source": [
    "# Build a DataFrame, one row for each accident\n",
    "severity_by_speed_unrolled_df = pd.DataFrame(list(accidents.find({}, ['Speed_limit', 'Accident_Severity'])))\n",
    "\n",
    "# Count the number of each severity\n",
    "severity_by_speed_df = pd.crosstab(severity_by_speed_unrolled_df['Speed_limit'], \n",
    "                                   severity_by_speed_unrolled_df['Accident_Severity'])\n",
    "severity_by_speed_df"
   ]
  },
  {
   "cell_type": "markdown",
   "metadata": {},
   "source": [
    "We can make the DataFrame more informative by relabelling the columns."
   ]
  },
  {
   "cell_type": "code",
   "execution_count": 78,
   "metadata": {},
   "outputs": [
    {
     "data": {
      "text/html": [
       "<div>\n",
       "<style>\n",
       "    .dataframe thead tr:only-child th {\n",
       "        text-align: right;\n",
       "    }\n",
       "\n",
       "    .dataframe thead th {\n",
       "        text-align: left;\n",
       "    }\n",
       "\n",
       "    .dataframe tbody tr th {\n",
       "        vertical-align: top;\n",
       "    }\n",
       "</style>\n",
       "<table border=\"1\" class=\"dataframe\">\n",
       "  <thead>\n",
       "    <tr style=\"text-align: right;\">\n",
       "      <th></th>\n",
       "      <th>Fatal</th>\n",
       "      <th>Serious</th>\n",
       "      <th>Slight</th>\n",
       "    </tr>\n",
       "    <tr>\n",
       "      <th>Speed_limit</th>\n",
       "      <th></th>\n",
       "      <th></th>\n",
       "      <th></th>\n",
       "    </tr>\n",
       "  </thead>\n",
       "  <tbody>\n",
       "    <tr>\n",
       "      <th>10</th>\n",
       "      <td>0</td>\n",
       "      <td>0</td>\n",
       "      <td>1</td>\n",
       "    </tr>\n",
       "    <tr>\n",
       "      <th>20</th>\n",
       "      <td>9</td>\n",
       "      <td>333</td>\n",
       "      <td>1905</td>\n",
       "    </tr>\n",
       "    <tr>\n",
       "      <th>30</th>\n",
       "      <td>582</td>\n",
       "      <td>12686</td>\n",
       "      <td>81727</td>\n",
       "    </tr>\n",
       "    <tr>\n",
       "      <th>40</th>\n",
       "      <td>155</td>\n",
       "      <td>1798</td>\n",
       "      <td>9961</td>\n",
       "    </tr>\n",
       "    <tr>\n",
       "      <th>50</th>\n",
       "      <td>94</td>\n",
       "      <td>770</td>\n",
       "      <td>4356</td>\n",
       "    </tr>\n",
       "    <tr>\n",
       "      <th>60</th>\n",
       "      <td>599</td>\n",
       "      <td>4157</td>\n",
       "      <td>16416</td>\n",
       "    </tr>\n",
       "    <tr>\n",
       "      <th>70</th>\n",
       "      <td>198</td>\n",
       "      <td>1157</td>\n",
       "      <td>8667</td>\n",
       "    </tr>\n",
       "  </tbody>\n",
       "</table>\n",
       "</div>"
      ],
      "text/plain": [
       "             Fatal  Serious  Slight\n",
       "Speed_limit                        \n",
       "10               0        0       1\n",
       "20               9      333    1905\n",
       "30             582    12686   81727\n",
       "40             155     1798    9961\n",
       "50              94      770    4356\n",
       "60             599     4157   16416\n",
       "70             198     1157    8667"
      ]
     },
     "execution_count": 78,
     "metadata": {},
     "output_type": "execute_result"
    }
   ],
   "source": [
    "# Relabel the columns\n",
    "severity_by_speed_df.columns = [label_of['Accident_Severity', s] for s in severity_by_speed_df.columns]\n",
    "severity_by_speed_df"
   ]
  },
  {
   "cell_type": "code",
   "execution_count": 79,
   "metadata": {},
   "outputs": [
    {
     "data": {
      "text/plain": [
       "<matplotlib.axes._subplots.AxesSubplot at 0x7fdb87a7c908>"
      ]
     },
     "execution_count": 79,
     "metadata": {},
     "output_type": "execute_result"
    },
    {
     "data": {
      "image/png": "[encoded data removed]",
      "text/plain": [
       "<matplotlib.figure.Figure at 0x7fdb8d404470>"
      ]
     },
     "metadata": {},
     "output_type": "display_data"
    }
   ],
   "source": [
    "severity_by_speed_df.plot(kind='bar')"
   ]
  },
  {
   "cell_type": "markdown",
   "metadata": {},
   "source": [
    "As an aside, it's sometimes useful to move the graph legend off to the side. Use this reformulation of the plotting to do so."
   ]
  },
  {
   "cell_type": "code",
   "execution_count": 88,
   "metadata": {},
   "outputs": [
    {
     "data": {
      "text/plain": [
       "<matplotlib.legend.Legend at 0x7fdb7fdf8160>"
      ]
     },
     "execution_count": 88,
     "metadata": {},
     "output_type": "execute_result"
    },
    {
     "data": {
      "image/png": "[encoded data removed]",
      "text/plain": [
       "<matplotlib.figure.Figure at 0x7fdb84d489b0>"
      ]
     },
     "metadata": {},
     "output_type": "display_data"
    }
   ],
   "source": [
    "ax = severity_by_speed_df.plot(kind='bar')\n",
    "ax.legend(loc='center left', bbox_to_anchor=(1, 0.5))"
   ]
  },
  {
   "cell_type": "markdown",
   "metadata": {},
   "source": [
    "As you can see, there are a lot more accidents in 30mph zones than at any other speed limit. We'll have to account for that when we do some more detailed analysis later."
   ]
  },
  {
   "cell_type": "markdown",
   "metadata": {
    "activity": "activityAns"
   },
   "source": [
    "### Activity 5\n",
    "What are the proportions of accident severities by junction type (roundabout, crossroads, etc)?\n",
    "\n",
    "This is a more in-depth activity than before, so I've broken it down into steps.\n",
    "\n",
    "* What are the different types of junction? You'll need to look at the `label_of` dict to find the right key\n",
    "* What different severities happen at each junction type?\n",
    "\n",
    "Comment on your results.\n",
    "\n",
    "The solution is in the [`14.2solutions`](14.2solutions.ipynb) Notebook."
   ]
  },
  {
   "cell_type": "code",
   "execution_count": 89,
   "metadata": {
    "collapsed": true
   },
   "outputs": [],
   "source": [
    "# Insert your solution here. \n",
    "# You will likely need several cells to complete this activity"
   ]
  },
  {
   "cell_type": "code",
   "execution_count": 111,
   "metadata": {},
   "outputs": [
    {
     "data": {
      "text/plain": [
       "{'Junction_Control', 'Junction_Detail', 'Junction_Location'}"
      ]
     },
     "execution_count": 111,
     "metadata": {},
     "output_type": "execute_result"
    }
   ],
   "source": [
    "# find labels that relate to junctions\n",
    "set(key for key, _ in label_of if 'Junction' in key)"
   ]
  },
  {
   "cell_type": "code",
   "execution_count": 115,
   "metadata": {},
   "outputs": [
    {
     "data": {
      "text/plain": [
       "[('Junction_Control', 'Authorised person'),\n",
       " ('Junction_Control', 'Auto traffic signal'),\n",
       " ('Junction_Control', 'Data missing or out of range'),\n",
       " ('Junction_Control', 'Give way or uncontrolled'),\n",
       " ('Junction_Control', 'Not at junction or within 20 metres'),\n",
       " ('Junction_Control', 'Stop sign'),\n",
       " ('Junction_Detail', 'Crossroads'),\n",
       " ('Junction_Detail', 'Data missing or out of range'),\n",
       " ('Junction_Detail', 'Mini-roundabout'),\n",
       " ('Junction_Detail', 'More than 4 arms (not roundabout)'),\n",
       " ('Junction_Detail', 'Not at junction or within 20 metres'),\n",
       " ('Junction_Detail', 'Other junction'),\n",
       " ('Junction_Detail', 'Private drive or entrance'),\n",
       " ('Junction_Detail', 'Roundabout'),\n",
       " ('Junction_Detail', 'Slip road'),\n",
       " ('Junction_Detail', 'T or staggered junction'),\n",
       " ('Junction_Location',\n",
       "  'Approaching junction or waiting/parked at junction approach'),\n",
       " ('Junction_Location', 'Cleared junction or waiting/parked at junction exit'),\n",
       " ('Junction_Location', 'Data missing or out of range'),\n",
       " ('Junction_Location', 'Entering from slip road'),\n",
       " ('Junction_Location', 'Entering main road'),\n",
       " ('Junction_Location', 'Entering roundabout'),\n",
       " ('Junction_Location', 'Leaving main road'),\n",
       " ('Junction_Location', 'Leaving roundabout'),\n",
       " ('Junction_Location', 'Mid Junction - on roundabout or on main road'),\n",
       " ('Junction_Location', 'Not at or within 20 metres of junction')]"
      ]
     },
     "execution_count": 115,
     "metadata": {},
     "output_type": "execute_result"
    }
   ],
   "source": [
    "# list of all the junction related labels\n",
    "list(sorted((key, label_of[key, code]) for key, code in label_of if 'Junction' in key))"
   ]
  },
  {
   "cell_type": "markdown",
   "metadata": {},
   "source": [
    "Junction detail is the one we want\n",
    "\n",
    "We can now build counter that summarises the counts at each junction detail/severity combination."
   ]
  },
  {
   "cell_type": "code",
   "execution_count": 125,
   "metadata": {},
   "outputs": [
    {
     "data": {
      "text/html": [
       "<div>\n",
       "<style>\n",
       "    .dataframe thead tr:only-child th {\n",
       "        text-align: right;\n",
       "    }\n",
       "\n",
       "    .dataframe thead th {\n",
       "        text-align: left;\n",
       "    }\n",
       "\n",
       "    .dataframe tbody tr th {\n",
       "        vertical-align: top;\n",
       "    }\n",
       "</style>\n",
       "<table border=\"1\" class=\"dataframe\">\n",
       "  <thead>\n",
       "    <tr style=\"text-align: right;\">\n",
       "      <th>Accident_Severity</th>\n",
       "      <th>1</th>\n",
       "      <th>2</th>\n",
       "      <th>3</th>\n",
       "    </tr>\n",
       "    <tr>\n",
       "      <th>Junction_Detail</th>\n",
       "      <th></th>\n",
       "      <th></th>\n",
       "      <th></th>\n",
       "    </tr>\n",
       "  </thead>\n",
       "  <tbody>\n",
       "    <tr>\n",
       "      <th>0</th>\n",
       "      <td>995</td>\n",
       "      <td>9209</td>\n",
       "      <td>46083</td>\n",
       "    </tr>\n",
       "    <tr>\n",
       "      <th>1</th>\n",
       "      <td>32</td>\n",
       "      <td>1212</td>\n",
       "      <td>12012</td>\n",
       "    </tr>\n",
       "    <tr>\n",
       "      <th>2</th>\n",
       "      <td>11</td>\n",
       "      <td>161</td>\n",
       "      <td>1532</td>\n",
       "    </tr>\n",
       "    <tr>\n",
       "      <th>3</th>\n",
       "      <td>370</td>\n",
       "      <td>6802</td>\n",
       "      <td>39540</td>\n",
       "    </tr>\n",
       "    <tr>\n",
       "      <th>5</th>\n",
       "      <td>29</td>\n",
       "      <td>217</td>\n",
       "      <td>1902</td>\n",
       "    </tr>\n",
       "  </tbody>\n",
       "</table>\n",
       "</div>"
      ],
      "text/plain": [
       "Accident_Severity    1     2      3\n",
       "Junction_Detail                    \n",
       "0                  995  9209  46083\n",
       "1                   32  1212  12012\n",
       "2                   11   161   1532\n",
       "3                  370  6802  39540\n",
       "5                   29   217   1902"
      ]
     },
     "execution_count": 125,
     "metadata": {},
     "output_type": "execute_result"
    }
   ],
   "source": [
    "# Build a DataFrame, one row for each accident\n",
    "severity_by_junction_unrolled_df = pd.DataFrame(list(accidents.find({}, ['Junction_Detail', 'Accident_Severity'])))\n",
    "\n",
    "# Count the number of each severity\n",
    "severity_by_junction_df = pd.crosstab(severity_by_junction_unrolled_df['Junction_Detail'],\n",
    "                                     severity_by_junction_unrolled_df['Accident_Severity'])\n",
    "severity_by_junction_df[:5]"
   ]
  },
  {
   "cell_type": "code",
   "execution_count": 126,
   "metadata": {
    "collapsed": true
   },
   "outputs": [
    {
     "data": {
      "text/html": [
       "<div>\n",
       "<style>\n",
       "    .dataframe thead tr:only-child th {\n",
       "        text-align: right;\n",
       "    }\n",
       "\n",
       "    .dataframe thead th {\n",
       "        text-align: left;\n",
       "    }\n",
       "\n",
       "    .dataframe tbody tr th {\n",
       "        vertical-align: top;\n",
       "    }\n",
       "</style>\n",
       "<table border=\"1\" class=\"dataframe\">\n",
       "  <thead>\n",
       "    <tr style=\"text-align: right;\">\n",
       "      <th>Accident severity</th>\n",
       "      <th>Fatal</th>\n",
       "      <th>Serious</th>\n",
       "      <th>Slight</th>\n",
       "    </tr>\n",
       "    <tr>\n",
       "      <th>Junction type</th>\n",
       "      <th></th>\n",
       "      <th></th>\n",
       "      <th></th>\n",
       "    </tr>\n",
       "  </thead>\n",
       "  <tbody>\n",
       "    <tr>\n",
       "      <th>Not at junction or within 20 metres</th>\n",
       "      <td>995</td>\n",
       "      <td>9209</td>\n",
       "      <td>46083</td>\n",
       "    </tr>\n",
       "    <tr>\n",
       "      <th>Roundabout</th>\n",
       "      <td>32</td>\n",
       "      <td>1212</td>\n",
       "      <td>12012</td>\n",
       "    </tr>\n",
       "    <tr>\n",
       "      <th>Mini-roundabout</th>\n",
       "      <td>11</td>\n",
       "      <td>161</td>\n",
       "      <td>1532</td>\n",
       "    </tr>\n",
       "    <tr>\n",
       "      <th>T or staggered junction</th>\n",
       "      <td>370</td>\n",
       "      <td>6802</td>\n",
       "      <td>39540</td>\n",
       "    </tr>\n",
       "    <tr>\n",
       "      <th>Slip road</th>\n",
       "      <td>29</td>\n",
       "      <td>217</td>\n",
       "      <td>1902</td>\n",
       "    </tr>\n",
       "    <tr>\n",
       "      <th>Crossroads</th>\n",
       "      <td>87</td>\n",
       "      <td>1824</td>\n",
       "      <td>12599</td>\n",
       "    </tr>\n",
       "    <tr>\n",
       "      <th>More than 4 arms (not roundabout)</th>\n",
       "      <td>16</td>\n",
       "      <td>269</td>\n",
       "      <td>1759</td>\n",
       "    </tr>\n",
       "    <tr>\n",
       "      <th>Private drive or entrance</th>\n",
       "      <td>57</td>\n",
       "      <td>765</td>\n",
       "      <td>4681</td>\n",
       "    </tr>\n",
       "    <tr>\n",
       "      <th>Other junction</th>\n",
       "      <td>40</td>\n",
       "      <td>442</td>\n",
       "      <td>2925</td>\n",
       "    </tr>\n",
       "  </tbody>\n",
       "</table>\n",
       "</div>"
      ],
      "text/plain": [
       "Accident severity                    Fatal  Serious  Slight\n",
       "Junction type                                              \n",
       "Not at junction or within 20 metres    995     9209   46083\n",
       "Roundabout                              32     1212   12012\n",
       "Mini-roundabout                         11      161    1532\n",
       "T or staggered junction                370     6802   39540\n",
       "Slip road                               29      217    1902\n",
       "Crossroads                              87     1824   12599\n",
       "More than 4 arms (not roundabout)       16      269    1759\n",
       "Private drive or entrance               57      765    4681\n",
       "Other junction                          40      442    2925"
      ]
     },
     "execution_count": 126,
     "metadata": {},
     "output_type": "execute_result"
    }
   ],
   "source": [
    "# Relabel the index to the junction types (using label_of)\n",
    "severity_by_junction_df.index = [label_of['Junction_Detail', code] for code in severity_by_junction_df.index]\n",
    "severity_by_junction_df.index.name = 'Junction type'\n",
    "\n",
    "# Relabel the columns\n",
    "severity_by_junction_df.columns = [label_of['Accident_Severity', s] for s in severity_by_junction_df.columns]\n",
    "severity_by_junction_df.columns.name = 'Accident severity'\n",
    "severity_by_junction_df"
   ]
  },
  {
   "cell_type": "code",
   "execution_count": 130,
   "metadata": {},
   "outputs": [
    {
     "data": {
      "text/plain": [
       "<matplotlib.axes._subplots.AxesSubplot at 0x7fdb7e41fe80>"
      ]
     },
     "execution_count": 130,
     "metadata": {},
     "output_type": "execute_result"
    },
    {
     "data": {
      "image/png": "[encoded data removed]",
      "text/plain": [
       "<matplotlib.figure.Figure at 0x7fdb7fcf6978>"
      ]
     },
     "metadata": {},
     "output_type": "display_data"
    }
   ],
   "source": [
    "# plot the bar chart\n",
    "severity_by_junction_df.plot(kind='bar')"
   ]
  },
  {
   "cell_type": "markdown",
   "metadata": {},
   "source": [
    "_Observations_ It is difficult to judge whether the proportions of accident severities are different for the various junction types."
   ]
  },
  {
   "cell_type": "code",
   "execution_count": 132,
   "metadata": {},
   "outputs": [
    {
     "data": {
      "text/plain": [
       "<matplotlib.legend.Legend at 0x7fdb7e40eeb8>"
      ]
     },
     "execution_count": 132,
     "metadata": {},
     "output_type": "execute_result"
    },
    {
     "data": {
      "image/png": "[encoded data removed]",
      "text/plain": [
       "<matplotlib.figure.Figure at 0x7fdb843cf470>"
      ]
     },
     "metadata": {},
     "output_type": "display_data"
    }
   ],
   "source": [
    "ax = severity_by_junction_df.plot(kind='bar')\n",
    "ax.legend(loc='center left', bbox_to_anchor=(1, 0.5))"
   ]
  },
  {
   "cell_type": "markdown",
   "metadata": {},
   "source": [
    "# Looking at subdocuments\n",
    "Each `accident` document contains two lists of subdocuments: one for each casualty, and one for each vehicle involved in the accident. How can we analyse those subdocuments?\n",
    "\n",
    "Let's look at the distribution of ages across all accidents, but restrict our investigation to just the area around Milton Keynes, the home of The Open University. \n",
    "\n",
    "Is there any metadata about the accidents that relates to Milton Keynes?"
   ]
  },
  {
   "cell_type": "code",
   "execution_count": 133,
   "metadata": {},
   "outputs": [
    {
     "data": {
      "text/plain": [
       "[('Local_Authority_(District)', 479, 'Milton Keynes'),\n",
       " ('Local_Authority_(Highway)', 'E06000042', 'Milton Keynes')]"
      ]
     },
     "execution_count": 133,
     "metadata": {},
     "output_type": "execute_result"
    }
   ],
   "source": [
    "# All the labels that are to do with 'Milton'.\n",
    "[(k, c, label_of[k, c]) for k, c in label_of if 'Milton' in label_of[k, c]]"
   ]
  },
  {
   "cell_type": "markdown",
   "metadata": {},
   "source": [
    "While the district authority looks like the one that would have most meaning for people, the \"highway\" district authority is the one used by the rest of UK government. \n",
    "\n",
    "The casualty and vehicle subdocuments are held in arrays/lists, as there are different numbers of them for each accidents. This means we need to iterate over the casualty list within each accident. \n",
    "\n",
    "One way to get to the ages is by explicit two-level iteration, building up a list of age bands."
   ]
  },
  {
   "cell_type": "code",
   "execution_count": 134,
   "metadata": {},
   "outputs": [
    {
     "data": {
      "text/plain": [
       "(1060, 0    5\n",
       " 1    8\n",
       " 2    7\n",
       " 3    5\n",
       " 4    6\n",
       " 5    6\n",
       " 6    7\n",
       " 7    7\n",
       " 8    2\n",
       " 9    9\n",
       " dtype: int64)"
      ]
     },
     "execution_count": 134,
     "metadata": {},
     "output_type": "execute_result"
    }
   ],
   "source": [
    "age_bands_of_casualties_list = []\n",
    "for a in accidents.find({'Local_Authority_(Highway)': 'E06000042'}):\n",
    "    for c in a['Casualties']:\n",
    "        age_bands_of_casualties_list += [c['Age_Band_of_Casualty']]\n",
    "        \n",
    "aboc_ss = pd.Series(age_bands_of_casualties_list)\n",
    "aboc_ss.count(), aboc_ss.head(10)"
   ]
  },
  {
   "cell_type": "markdown",
   "metadata": {},
   "source": [
    "We can now use standard _pandas_ operations on the series, such as counting how many casualties there are in each age band."
   ]
  },
  {
   "cell_type": "code",
   "execution_count": 159,
   "metadata": {},
   "outputs": [
    {
     "data": {
      "text/plain": [
       " 6     236\n",
       " 7     183\n",
       " 5     150\n",
       " 8     135\n",
       " 4     127\n",
       " 9      71\n",
       " 10     37\n",
       " 3      37\n",
       " 2      29\n",
       " 11     24\n",
       " 1      23\n",
       "-1       8\n",
       "dtype: int64"
      ]
     },
     "execution_count": 159,
     "metadata": {},
     "output_type": "execute_result"
    }
   ],
   "source": [
    "age_bands_of_casualties_ss = aboc_ss.value_counts()\n",
    "age_bands_of_casualties_ss"
   ]
  },
  {
   "cell_type": "markdown",
   "metadata": {},
   "source": [
    "We can do the same thing with a comprehension, to avoid all the list appending. Note that there are two iterators in the comprehension, and they are in the same order as the nested `for` statements above."
   ]
  },
  {
   "cell_type": "code",
   "execution_count": 160,
   "metadata": {},
   "outputs": [
    {
     "data": {
      "text/plain": [
       " 6     236\n",
       " 7     183\n",
       " 5     150\n",
       " 8     135\n",
       " 4     127\n",
       " 9      71\n",
       " 10     37\n",
       " 3      37\n",
       " 2      29\n",
       " 11     24\n",
       " 1      23\n",
       "-1       8\n",
       "dtype: int64"
      ]
     },
     "execution_count": 160,
     "metadata": {},
     "output_type": "execute_result"
    }
   ],
   "source": [
    "aboc_ss = pd.Series(c['Age_Band_of_Casualty']\n",
    "                    for a in accidents.find({'Local_Authority_(Highway)': 'E06000042'})\n",
    "                    for c in a['Casualties'])\n",
    "\n",
    "age_bands_of_casualties_ss = aboc_ss.value_counts()\n",
    "age_bands_of_casualties_ss"
   ]
  },
  {
   "cell_type": "markdown",
   "metadata": {},
   "source": [
    "Finally, we can skip the intermediate `aboc` series by combining the Series creation and counting stages."
   ]
  },
  {
   "cell_type": "code",
   "execution_count": 161,
   "metadata": {},
   "outputs": [
    {
     "data": {
      "text/plain": [
       " 6     236\n",
       " 7     183\n",
       " 5     150\n",
       " 8     135\n",
       " 4     127\n",
       " 9      71\n",
       " 10     37\n",
       " 3      37\n",
       " 2      29\n",
       " 11     24\n",
       " 1      23\n",
       "-1       8\n",
       "dtype: int64"
      ]
     },
     "execution_count": 161,
     "metadata": {},
     "output_type": "execute_result"
    }
   ],
   "source": [
    "age_bands_of_casualties_ss = pd.Series(c['Age_Band_of_Casualty']\n",
    "                    for a in accidents.find({'Local_Authority_(Highway)': 'E06000042'})\n",
    "                    for c in a['Casualties']).value_counts()\n",
    "age_bands_of_casualties_ss"
   ]
  },
  {
   "cell_type": "code",
   "execution_count": 162,
   "metadata": {},
   "outputs": [
    {
     "data": {
      "text/plain": [
       "-1       8\n",
       " 1      23\n",
       " 2      29\n",
       " 3      37\n",
       " 4     127\n",
       " 5     150\n",
       " 6     236\n",
       " 7     183\n",
       " 8     135\n",
       " 9      71\n",
       " 10     37\n",
       " 11     24\n",
       "dtype: int64"
      ]
     },
     "execution_count": 162,
     "metadata": {},
     "output_type": "execute_result"
    }
   ],
   "source": [
    "age_bands_of_casualties_ss.sort_index(inplace=True)\n",
    "age_bands_of_casualties_ss"
   ]
  },
  {
   "cell_type": "code",
   "execution_count": 163,
   "metadata": {},
   "outputs": [
    {
     "data": {
      "text/plain": [
       "<matplotlib.axes._subplots.AxesSubplot at 0x7fdb8449bc88>"
      ]
     },
     "execution_count": 163,
     "metadata": {},
     "output_type": "execute_result"
    },
    {
     "data": {
      "image/png": "[encoded data removed]",
      "text/plain": [
       "<matplotlib.figure.Figure at 0x7fdb7e4d9c50>"
      ]
     },
     "metadata": {},
     "output_type": "display_data"
    }
   ],
   "source": [
    "pd.Series(age_bands_of_casualties_ss).plot(kind='bar')"
   ]
  },
  {
   "cell_type": "markdown",
   "metadata": {},
   "source": [
    "That's similar to what we'd expect, with fewer young and old casualties as there will be fewer of them on the road."
   ]
  },
  {
   "cell_type": "markdown",
   "metadata": {
    "activity": "activity"
   },
   "source": [
    "### Activity 6\n",
    "We can also ask if different age people respond to injuries differently. In other words, are old people more frail and so therefore more likely to be seriously or fatally injured?\n",
    "\n",
    "Following the examples above, let's build a DataFrame that counts the number of casualties for each age band / severity combination, and use the human-readable labels for the data rather than the codes.\n",
    "\n",
    "You should end up with a `DataFrame` called `severity_by_age_df` that looks like this:\n",
    "\n",
    "\n",
    "Severity | Fatal | Serious | Slight\n",
    "-|-|-|-\n",
    "Unknown | 0 | 0 | 8\n",
    "0 - 5 | 0 | 3 | 20\n",
    "6 - 10 | 0 | 1 | 28\n",
    "11 - 15 | 0 | 3 | 34\n",
    "16 - 20 | 1 | 11 | 115\n",
    "21 - 25 | 1 | 16 | 133\n",
    "26 - 35 | 2 | 15 | 219\n",
    "36 - 45 | 3 | 12 | 168\n",
    "46 - 55 | 0 | 10 | 125\n",
    "56 - 65 | 1 | 7 | 63\n",
    "66 - 75 | 0 | 9 | 28\n",
    "Over 75 | 2 | 2 | 20\n",
    "\n",
    "The solution is in the [`14.2solutions`](14.2solutions.ipynb) Notebook."
   ]
  },
  {
   "cell_type": "code",
   "execution_count": 164,
   "metadata": {
    "collapsed": true
   },
   "outputs": [],
   "source": [
    "# Insert your solution here."
   ]
  },
  {
   "cell_type": "code",
   "execution_count": 180,
   "metadata": {},
   "outputs": [
    {
     "data": {
      "text/html": [
       "<div>\n",
       "<style>\n",
       "    .dataframe thead tr:only-child th {\n",
       "        text-align: right;\n",
       "    }\n",
       "\n",
       "    .dataframe thead th {\n",
       "        text-align: left;\n",
       "    }\n",
       "\n",
       "    .dataframe tbody tr th {\n",
       "        vertical-align: top;\n",
       "    }\n",
       "</style>\n",
       "<table border=\"1\" class=\"dataframe\">\n",
       "  <thead>\n",
       "    <tr style=\"text-align: right;\">\n",
       "      <th>Casualty_Severity</th>\n",
       "      <th>1</th>\n",
       "      <th>2</th>\n",
       "      <th>3</th>\n",
       "    </tr>\n",
       "    <tr>\n",
       "      <th>Age_Band_of_Casualty</th>\n",
       "      <th></th>\n",
       "      <th></th>\n",
       "      <th></th>\n",
       "    </tr>\n",
       "  </thead>\n",
       "  <tbody>\n",
       "    <tr>\n",
       "      <th>-1</th>\n",
       "      <td>0</td>\n",
       "      <td>0</td>\n",
       "      <td>8</td>\n",
       "    </tr>\n",
       "    <tr>\n",
       "      <th>1</th>\n",
       "      <td>0</td>\n",
       "      <td>3</td>\n",
       "      <td>20</td>\n",
       "    </tr>\n",
       "    <tr>\n",
       "      <th>2</th>\n",
       "      <td>0</td>\n",
       "      <td>1</td>\n",
       "      <td>28</td>\n",
       "    </tr>\n",
       "    <tr>\n",
       "      <th>3</th>\n",
       "      <td>0</td>\n",
       "      <td>3</td>\n",
       "      <td>34</td>\n",
       "    </tr>\n",
       "    <tr>\n",
       "      <th>4</th>\n",
       "      <td>1</td>\n",
       "      <td>11</td>\n",
       "      <td>115</td>\n",
       "    </tr>\n",
       "    <tr>\n",
       "      <th>5</th>\n",
       "      <td>1</td>\n",
       "      <td>16</td>\n",
       "      <td>133</td>\n",
       "    </tr>\n",
       "    <tr>\n",
       "      <th>6</th>\n",
       "      <td>2</td>\n",
       "      <td>15</td>\n",
       "      <td>219</td>\n",
       "    </tr>\n",
       "    <tr>\n",
       "      <th>7</th>\n",
       "      <td>3</td>\n",
       "      <td>12</td>\n",
       "      <td>168</td>\n",
       "    </tr>\n",
       "    <tr>\n",
       "      <th>8</th>\n",
       "      <td>0</td>\n",
       "      <td>10</td>\n",
       "      <td>125</td>\n",
       "    </tr>\n",
       "    <tr>\n",
       "      <th>9</th>\n",
       "      <td>1</td>\n",
       "      <td>7</td>\n",
       "      <td>63</td>\n",
       "    </tr>\n",
       "    <tr>\n",
       "      <th>10</th>\n",
       "      <td>0</td>\n",
       "      <td>9</td>\n",
       "      <td>28</td>\n",
       "    </tr>\n",
       "    <tr>\n",
       "      <th>11</th>\n",
       "      <td>2</td>\n",
       "      <td>2</td>\n",
       "      <td>20</td>\n",
       "    </tr>\n",
       "  </tbody>\n",
       "</table>\n",
       "</div>"
      ],
      "text/plain": [
       "Casualty_Severity     1   2    3\n",
       "Age_Band_of_Casualty            \n",
       "-1                    0   0    8\n",
       " 1                    0   3   20\n",
       " 2                    0   1   28\n",
       " 3                    0   3   34\n",
       " 4                    1  11  115\n",
       " 5                    1  16  133\n",
       " 6                    2  15  219\n",
       " 7                    3  12  168\n",
       " 8                    0  10  125\n",
       " 9                    1   7   63\n",
       " 10                   0   9   28\n",
       " 11                   2   2   20"
      ]
     },
     "execution_count": 180,
     "metadata": {},
     "output_type": "execute_result"
    }
   ],
   "source": [
    "# Build a DataFrame, one row at a time for each accident\n",
    "severity_by_age_unrolled_df = pd.DataFrame({'Age_Band_of_Casualty': c['Age_Band_of_Casualty'],\n",
    "                                           'Casualty_Severity': c['Casualty_Severity']}\n",
    "                                           for a in accidents.find({'Local_Authority_(Highway)': 'E06000042'})\n",
    "                                           for c in a['Casualties'])\n",
    "\n",
    "# count the number of each severity\n",
    "severity_by_age_df = pd.crosstab(severity_by_age_unrolled_df['Age_Band_of_Casualty'],\n",
    "                                 severity_by_age_unrolled_df['Casualty_Severity'])\n",
    "\n",
    "severity_by_age_df"
   ]
  },
  {
   "cell_type": "code",
   "execution_count": 181,
   "metadata": {},
   "outputs": [
    {
     "name": "stdout",
     "output_type": "stream",
     "text": [
      "Age_Band_of_Driver \n",
      "Age_Band_of_Driver 46 - 55\n",
      "Age_Band_of_Driver 36 - 45\n",
      "Age_Band_of_Casualty \n",
      "Age_Band_of_Driver 66 - 75\n",
      "Age_Band_of_Driver 0 - 5\n",
      "Age_Band_of_Driver \n",
      "Age_Band_of_Driver \n",
      "Age_Band_of_Casualty \n",
      "Age_Band_of_Casualty \n",
      "Age_Band_of_Driver \n",
      "Age_Band_of_Driver 16 - 20\n",
      "Age_Band_of_Casualty \n",
      "Age_Band_of_Driver 11 - 15\n",
      "Age_Band_of_Casualty \n",
      "Age_Band_of_Casualty \n",
      "Age_Band_of_Driver \n",
      "Age_Band_of_Casualty \n",
      "Age_Band_of_Driver 26 - 35\n",
      "Age_Band_of_Driver \n",
      "Age_Band_of_Casualty \n",
      "Age_Band_of_Casualty \n",
      "Age_Band_of_Driver 56 - 65\n",
      "Age_Band_of_Casualty \n",
      "Age_Band_of_Casualty \n",
      "Age_Band_of_Driver \n",
      "Age_Band_of_Driver \n",
      "Age_Band_of_Driver \n",
      "Age_Band_of_Driver \n",
      "Age_Band_of_Driver Over 75\n",
      "Age_Band_of_Driver 6 - 10\n",
      "Age_Band_of_Driver \n",
      "Age_Band_of_Casualty \n",
      "Age_Band_of_Driver \n",
      "Age_Band_of_Casualty \n",
      "Age_Band_of_Driver \n",
      "Age_Band_of_Driver 21 - 25\n",
      "Age_Band_of_Casualty \n",
      "Age_Band_of_Driver \n"
     ]
    }
   ],
   "source": [
    "for (key,code) in label_of:\n",
    "    if 'Age' in key:\n",
    "        print(key, label_of[key,code])"
   ]
  },
  {
   "cell_type": "code",
   "execution_count": 182,
   "metadata": {},
   "outputs": [
    {
     "data": {
      "text/html": [
       "<div>\n",
       "<style>\n",
       "    .dataframe thead tr:only-child th {\n",
       "        text-align: right;\n",
       "    }\n",
       "\n",
       "    .dataframe thead th {\n",
       "        text-align: left;\n",
       "    }\n",
       "\n",
       "    .dataframe tbody tr th {\n",
       "        vertical-align: top;\n",
       "    }\n",
       "</style>\n",
       "<table border=\"1\" class=\"dataframe\">\n",
       "  <thead>\n",
       "    <tr style=\"text-align: right;\">\n",
       "      <th>Casualty severity</th>\n",
       "      <th>Fatal</th>\n",
       "      <th>Serious</th>\n",
       "      <th>Slight</th>\n",
       "    </tr>\n",
       "    <tr>\n",
       "      <th>Age band of driver</th>\n",
       "      <th></th>\n",
       "      <th></th>\n",
       "      <th></th>\n",
       "    </tr>\n",
       "  </thead>\n",
       "  <tbody>\n",
       "    <tr>\n",
       "      <th>Unknown</th>\n",
       "      <td>0</td>\n",
       "      <td>0</td>\n",
       "      <td>8</td>\n",
       "    </tr>\n",
       "    <tr>\n",
       "      <th>0 - 5</th>\n",
       "      <td>0</td>\n",
       "      <td>3</td>\n",
       "      <td>20</td>\n",
       "    </tr>\n",
       "    <tr>\n",
       "      <th>6 - 10</th>\n",
       "      <td>0</td>\n",
       "      <td>1</td>\n",
       "      <td>28</td>\n",
       "    </tr>\n",
       "    <tr>\n",
       "      <th>11 - 15</th>\n",
       "      <td>0</td>\n",
       "      <td>3</td>\n",
       "      <td>34</td>\n",
       "    </tr>\n",
       "    <tr>\n",
       "      <th>16 - 20</th>\n",
       "      <td>1</td>\n",
       "      <td>11</td>\n",
       "      <td>115</td>\n",
       "    </tr>\n",
       "    <tr>\n",
       "      <th>21 - 25</th>\n",
       "      <td>1</td>\n",
       "      <td>16</td>\n",
       "      <td>133</td>\n",
       "    </tr>\n",
       "    <tr>\n",
       "      <th>26 - 35</th>\n",
       "      <td>2</td>\n",
       "      <td>15</td>\n",
       "      <td>219</td>\n",
       "    </tr>\n",
       "    <tr>\n",
       "      <th>36 - 45</th>\n",
       "      <td>3</td>\n",
       "      <td>12</td>\n",
       "      <td>168</td>\n",
       "    </tr>\n",
       "    <tr>\n",
       "      <th>46 - 55</th>\n",
       "      <td>0</td>\n",
       "      <td>10</td>\n",
       "      <td>125</td>\n",
       "    </tr>\n",
       "    <tr>\n",
       "      <th>56 - 65</th>\n",
       "      <td>1</td>\n",
       "      <td>7</td>\n",
       "      <td>63</td>\n",
       "    </tr>\n",
       "    <tr>\n",
       "      <th>66 - 75</th>\n",
       "      <td>0</td>\n",
       "      <td>9</td>\n",
       "      <td>28</td>\n",
       "    </tr>\n",
       "    <tr>\n",
       "      <th>Over 75</th>\n",
       "      <td>2</td>\n",
       "      <td>2</td>\n",
       "      <td>20</td>\n",
       "    </tr>\n",
       "  </tbody>\n",
       "</table>\n",
       "</div>"
      ],
      "text/plain": [
       "Casualty severity   Fatal  Serious  Slight\n",
       "Age band of driver                        \n",
       "Unknown                 0        0       8\n",
       "0 - 5                   0        3      20\n",
       "6 - 10                  0        1      28\n",
       "11 - 15                 0        3      34\n",
       "16 - 20                 1       11     115\n",
       "21 - 25                 1       16     133\n",
       "26 - 35                 2       15     219\n",
       "36 - 45                 3       12     168\n",
       "46 - 55                 0       10     125\n",
       "56 - 65                 1        7      63\n",
       "66 - 75                 0        9      28\n",
       "Over 75                 2        2      20"
      ]
     },
     "execution_count": 182,
     "metadata": {},
     "output_type": "execute_result"
    }
   ],
   "source": [
    "# Now we need to relabel the index to the age bands age bands into readible categories\n",
    "severity_by_age_df.index = [label_of['Age_Band_of_Driver', code] for code in severity_by_age_df.index]\n",
    "severity_by_age_df.index = ['Unknown'] + list(severity_by_age_df.index[1:])\n",
    "severity_by_age_df.index.name = 'Age band of driver'\n",
    "\n",
    "# Label the columns\n",
    "severity_by_age_df.columns = [label_of['Casualty_Severity',s] for s in severity_by_age_df.columns]\n",
    "severity_by_age_df.columns.name = 'Casualty severity'\n",
    "\n",
    "severity_by_age_df"
   ]
  },
  {
   "cell_type": "markdown",
   "metadata": {},
   "source": [
    "Now you have the age data, can we plot it to see what it means?"
   ]
  },
  {
   "cell_type": "code",
   "execution_count": 183,
   "metadata": {},
   "outputs": [
    {
     "data": {
      "text/plain": [
       "<matplotlib.axes._subplots.AxesSubplot at 0x7fdb7f15efd0>"
      ]
     },
     "execution_count": 183,
     "metadata": {},
     "output_type": "execute_result"
    },
    {
     "data": {
      "image/png": "[encoded data removed]",
      "text/plain": [
       "<matplotlib.figure.Figure at 0x7fdb7e97aa20>"
      ]
     },
     "metadata": {},
     "output_type": "display_data"
    }
   ],
   "source": [
    "severity_by_age_df.plot()"
   ]
  },
  {
   "cell_type": "markdown",
   "metadata": {},
   "source": [
    "The number of `slight` casualties is (thankfully) much larger than the other severities, so it's difficult to see if the proportions in different age bands remain similar. We can try plotting the data in separate graphs, mindful that the y-axis scales will be different in each graph. (It will show if there's a different pattern across severities.)"
   ]
  },
  {
   "cell_type": "code",
   "execution_count": 184,
   "metadata": {},
   "outputs": [
    {
     "data": {
      "text/plain": [
       "array([<matplotlib.axes._subplots.AxesSubplot object at 0x7fdb7e332908>,\n",
       "       <matplotlib.axes._subplots.AxesSubplot object at 0x7fdb8ccb05f8>,\n",
       "       <matplotlib.axes._subplots.AxesSubplot object at 0x7fdb8cf09f28>], dtype=object)"
      ]
     },
     "execution_count": 184,
     "metadata": {},
     "output_type": "execute_result"
    },
    {
     "data": {
      "image/png": "[encoded data removed]",
      "text/plain": [
       "<matplotlib.figure.Figure at 0x7fdb7ef0aa90>"
      ]
     },
     "metadata": {},
     "output_type": "display_data"
    }
   ],
   "source": [
    "severity_by_age_df.plot(subplots='True')"
   ]
  },
  {
   "cell_type": "markdown",
   "metadata": {},
   "source": [
    "…or on one graph, using secondary y axis for non-slight casualties."
   ]
  },
  {
   "cell_type": "code",
   "execution_count": 185,
   "metadata": {},
   "outputs": [
    {
     "data": {
      "text/plain": [
       "<matplotlib.axes._subplots.AxesSubplot at 0x7fdb7ec31668>"
      ]
     },
     "execution_count": 185,
     "metadata": {},
     "output_type": "execute_result"
    },
    {
     "data": {
      "image/png": "[encoded data removed]",
      "text/plain": [
       "<matplotlib.figure.Figure at 0x7fdb7e967048>"
      ]
     },
     "metadata": {},
     "output_type": "display_data"
    }
   ],
   "source": [
    "severity_by_age_df['Slight'].plot()\n",
    "severity_by_age_df['Serious'].plot(secondary_y=True)\n",
    "severity_by_age_df['Fatal'].plot(secondary_y=True)"
   ]
  },
  {
   "cell_type": "markdown",
   "metadata": {},
   "source": [
    "There doesn't seem to be a vast difference in the proportion of casualties. (The number of deaths is too low to draw any firm conclusions from.)"
   ]
  },
  {
   "cell_type": "markdown",
   "metadata": {},
   "source": [
    "## Size of accidents: comparing numbers of vehicles and casualties\n",
    "Some accidents are 'big' and some are 'small'. There are two obvious ways of describing such accidents: the number of casualties or the number of vehicles. We'd expect these two measures to be correlated. Let's find out if that's the case."
   ]
  },
  {
   "cell_type": "markdown",
   "metadata": {},
   "source": [
    "First, we'll read the sizes of accidents from the database and count them, as before"
   ]
  },
  {
   "cell_type": "code",
   "execution_count": 186,
   "metadata": {
    "scrolled": true
   },
   "outputs": [
    {
     "data": {
      "text/html": [
       "<div>\n",
       "<style>\n",
       "    .dataframe thead tr:only-child th {\n",
       "        text-align: right;\n",
       "    }\n",
       "\n",
       "    .dataframe thead th {\n",
       "        text-align: left;\n",
       "    }\n",
       "\n",
       "    .dataframe tbody tr th {\n",
       "        vertical-align: top;\n",
       "    }\n",
       "</style>\n",
       "<table border=\"1\" class=\"dataframe\">\n",
       "  <thead>\n",
       "    <tr style=\"text-align: right;\">\n",
       "      <th>Number_of_Vehicles</th>\n",
       "      <th>1</th>\n",
       "      <th>2</th>\n",
       "      <th>3</th>\n",
       "      <th>4</th>\n",
       "      <th>5</th>\n",
       "      <th>6</th>\n",
       "      <th>7</th>\n",
       "      <th>8</th>\n",
       "      <th>9</th>\n",
       "      <th>10</th>\n",
       "      <th>11</th>\n",
       "      <th>12</th>\n",
       "      <th>13</th>\n",
       "      <th>16</th>\n",
       "      <th>18</th>\n",
       "    </tr>\n",
       "    <tr>\n",
       "      <th>Number_of_Casualties</th>\n",
       "      <th></th>\n",
       "      <th></th>\n",
       "      <th></th>\n",
       "      <th></th>\n",
       "      <th></th>\n",
       "      <th></th>\n",
       "      <th></th>\n",
       "      <th></th>\n",
       "      <th></th>\n",
       "      <th></th>\n",
       "      <th></th>\n",
       "      <th></th>\n",
       "      <th></th>\n",
       "      <th></th>\n",
       "      <th></th>\n",
       "    </tr>\n",
       "  </thead>\n",
       "  <tbody>\n",
       "    <tr>\n",
       "      <th>1</th>\n",
       "      <td>39217</td>\n",
       "      <td>65680</td>\n",
       "      <td>6168</td>\n",
       "      <td>1056</td>\n",
       "      <td>197</td>\n",
       "      <td>76</td>\n",
       "      <td>27</td>\n",
       "      <td>4</td>\n",
       "      <td>1</td>\n",
       "      <td>1</td>\n",
       "      <td>1</td>\n",
       "      <td>0</td>\n",
       "      <td>0</td>\n",
       "      <td>0</td>\n",
       "      <td>0</td>\n",
       "    </tr>\n",
       "    <tr>\n",
       "      <th>2</th>\n",
       "      <td>3781</td>\n",
       "      <td>15035</td>\n",
       "      <td>3002</td>\n",
       "      <td>716</td>\n",
       "      <td>128</td>\n",
       "      <td>41</td>\n",
       "      <td>14</td>\n",
       "      <td>4</td>\n",
       "      <td>6</td>\n",
       "      <td>3</td>\n",
       "      <td>0</td>\n",
       "      <td>1</td>\n",
       "      <td>0</td>\n",
       "      <td>1</td>\n",
       "      <td>0</td>\n",
       "    </tr>\n",
       "    <tr>\n",
       "      <th>3</th>\n",
       "      <td>682</td>\n",
       "      <td>4186</td>\n",
       "      <td>1203</td>\n",
       "      <td>319</td>\n",
       "      <td>73</td>\n",
       "      <td>25</td>\n",
       "      <td>12</td>\n",
       "      <td>6</td>\n",
       "      <td>2</td>\n",
       "      <td>0</td>\n",
       "      <td>1</td>\n",
       "      <td>0</td>\n",
       "      <td>0</td>\n",
       "      <td>0</td>\n",
       "      <td>0</td>\n",
       "    </tr>\n",
       "    <tr>\n",
       "      <th>4</th>\n",
       "      <td>287</td>\n",
       "      <td>1440</td>\n",
       "      <td>481</td>\n",
       "      <td>166</td>\n",
       "      <td>48</td>\n",
       "      <td>11</td>\n",
       "      <td>2</td>\n",
       "      <td>3</td>\n",
       "      <td>2</td>\n",
       "      <td>0</td>\n",
       "      <td>0</td>\n",
       "      <td>0</td>\n",
       "      <td>1</td>\n",
       "      <td>0</td>\n",
       "      <td>1</td>\n",
       "    </tr>\n",
       "    <tr>\n",
       "      <th>5</th>\n",
       "      <td>79</td>\n",
       "      <td>521</td>\n",
       "      <td>169</td>\n",
       "      <td>63</td>\n",
       "      <td>29</td>\n",
       "      <td>10</td>\n",
       "      <td>6</td>\n",
       "      <td>1</td>\n",
       "      <td>1</td>\n",
       "      <td>0</td>\n",
       "      <td>0</td>\n",
       "      <td>0</td>\n",
       "      <td>0</td>\n",
       "      <td>0</td>\n",
       "      <td>0</td>\n",
       "    </tr>\n",
       "    <tr>\n",
       "      <th>6</th>\n",
       "      <td>22</td>\n",
       "      <td>183</td>\n",
       "      <td>72</td>\n",
       "      <td>46</td>\n",
       "      <td>13</td>\n",
       "      <td>4</td>\n",
       "      <td>7</td>\n",
       "      <td>1</td>\n",
       "      <td>0</td>\n",
       "      <td>0</td>\n",
       "      <td>0</td>\n",
       "      <td>0</td>\n",
       "      <td>0</td>\n",
       "      <td>0</td>\n",
       "      <td>0</td>\n",
       "    </tr>\n",
       "    <tr>\n",
       "      <th>7</th>\n",
       "      <td>7</td>\n",
       "      <td>52</td>\n",
       "      <td>28</td>\n",
       "      <td>12</td>\n",
       "      <td>7</td>\n",
       "      <td>2</td>\n",
       "      <td>1</td>\n",
       "      <td>2</td>\n",
       "      <td>0</td>\n",
       "      <td>0</td>\n",
       "      <td>0</td>\n",
       "      <td>0</td>\n",
       "      <td>0</td>\n",
       "      <td>0</td>\n",
       "      <td>0</td>\n",
       "    </tr>\n",
       "    <tr>\n",
       "      <th>8</th>\n",
       "      <td>5</td>\n",
       "      <td>24</td>\n",
       "      <td>12</td>\n",
       "      <td>9</td>\n",
       "      <td>3</td>\n",
       "      <td>2</td>\n",
       "      <td>0</td>\n",
       "      <td>0</td>\n",
       "      <td>0</td>\n",
       "      <td>1</td>\n",
       "      <td>0</td>\n",
       "      <td>0</td>\n",
       "      <td>0</td>\n",
       "      <td>0</td>\n",
       "      <td>0</td>\n",
       "    </tr>\n",
       "    <tr>\n",
       "      <th>9</th>\n",
       "      <td>2</td>\n",
       "      <td>11</td>\n",
       "      <td>5</td>\n",
       "      <td>1</td>\n",
       "      <td>2</td>\n",
       "      <td>0</td>\n",
       "      <td>0</td>\n",
       "      <td>0</td>\n",
       "      <td>0</td>\n",
       "      <td>0</td>\n",
       "      <td>0</td>\n",
       "      <td>0</td>\n",
       "      <td>0</td>\n",
       "      <td>0</td>\n",
       "      <td>0</td>\n",
       "    </tr>\n",
       "    <tr>\n",
       "      <th>10</th>\n",
       "      <td>0</td>\n",
       "      <td>7</td>\n",
       "      <td>3</td>\n",
       "      <td>0</td>\n",
       "      <td>3</td>\n",
       "      <td>0</td>\n",
       "      <td>0</td>\n",
       "      <td>0</td>\n",
       "      <td>0</td>\n",
       "      <td>0</td>\n",
       "      <td>0</td>\n",
       "      <td>0</td>\n",
       "      <td>0</td>\n",
       "      <td>0</td>\n",
       "      <td>0</td>\n",
       "    </tr>\n",
       "    <tr>\n",
       "      <th>11</th>\n",
       "      <td>0</td>\n",
       "      <td>3</td>\n",
       "      <td>1</td>\n",
       "      <td>4</td>\n",
       "      <td>0</td>\n",
       "      <td>0</td>\n",
       "      <td>0</td>\n",
       "      <td>1</td>\n",
       "      <td>2</td>\n",
       "      <td>0</td>\n",
       "      <td>0</td>\n",
       "      <td>0</td>\n",
       "      <td>0</td>\n",
       "      <td>0</td>\n",
       "      <td>0</td>\n",
       "    </tr>\n",
       "    <tr>\n",
       "      <th>12</th>\n",
       "      <td>1</td>\n",
       "      <td>1</td>\n",
       "      <td>1</td>\n",
       "      <td>0</td>\n",
       "      <td>0</td>\n",
       "      <td>0</td>\n",
       "      <td>1</td>\n",
       "      <td>0</td>\n",
       "      <td>0</td>\n",
       "      <td>0</td>\n",
       "      <td>0</td>\n",
       "      <td>0</td>\n",
       "      <td>0</td>\n",
       "      <td>0</td>\n",
       "      <td>0</td>\n",
       "    </tr>\n",
       "    <tr>\n",
       "      <th>13</th>\n",
       "      <td>1</td>\n",
       "      <td>2</td>\n",
       "      <td>0</td>\n",
       "      <td>1</td>\n",
       "      <td>0</td>\n",
       "      <td>1</td>\n",
       "      <td>0</td>\n",
       "      <td>0</td>\n",
       "      <td>0</td>\n",
       "      <td>0</td>\n",
       "      <td>0</td>\n",
       "      <td>0</td>\n",
       "      <td>0</td>\n",
       "      <td>0</td>\n",
       "      <td>0</td>\n",
       "    </tr>\n",
       "    <tr>\n",
       "      <th>14</th>\n",
       "      <td>1</td>\n",
       "      <td>0</td>\n",
       "      <td>0</td>\n",
       "      <td>0</td>\n",
       "      <td>0</td>\n",
       "      <td>0</td>\n",
       "      <td>0</td>\n",
       "      <td>0</td>\n",
       "      <td>0</td>\n",
       "      <td>0</td>\n",
       "      <td>0</td>\n",
       "      <td>0</td>\n",
       "      <td>0</td>\n",
       "      <td>0</td>\n",
       "      <td>0</td>\n",
       "    </tr>\n",
       "    <tr>\n",
       "      <th>15</th>\n",
       "      <td>0</td>\n",
       "      <td>1</td>\n",
       "      <td>1</td>\n",
       "      <td>0</td>\n",
       "      <td>0</td>\n",
       "      <td>0</td>\n",
       "      <td>0</td>\n",
       "      <td>0</td>\n",
       "      <td>0</td>\n",
       "      <td>0</td>\n",
       "      <td>0</td>\n",
       "      <td>0</td>\n",
       "      <td>0</td>\n",
       "      <td>0</td>\n",
       "      <td>0</td>\n",
       "    </tr>\n",
       "    <tr>\n",
       "      <th>16</th>\n",
       "      <td>1</td>\n",
       "      <td>0</td>\n",
       "      <td>1</td>\n",
       "      <td>0</td>\n",
       "      <td>0</td>\n",
       "      <td>0</td>\n",
       "      <td>0</td>\n",
       "      <td>0</td>\n",
       "      <td>0</td>\n",
       "      <td>0</td>\n",
       "      <td>0</td>\n",
       "      <td>0</td>\n",
       "      <td>0</td>\n",
       "      <td>0</td>\n",
       "      <td>0</td>\n",
       "    </tr>\n",
       "    <tr>\n",
       "      <th>17</th>\n",
       "      <td>0</td>\n",
       "      <td>1</td>\n",
       "      <td>0</td>\n",
       "      <td>0</td>\n",
       "      <td>0</td>\n",
       "      <td>0</td>\n",
       "      <td>0</td>\n",
       "      <td>0</td>\n",
       "      <td>0</td>\n",
       "      <td>0</td>\n",
       "      <td>0</td>\n",
       "      <td>0</td>\n",
       "      <td>0</td>\n",
       "      <td>0</td>\n",
       "      <td>0</td>\n",
       "    </tr>\n",
       "    <tr>\n",
       "      <th>19</th>\n",
       "      <td>0</td>\n",
       "      <td>1</td>\n",
       "      <td>0</td>\n",
       "      <td>0</td>\n",
       "      <td>0</td>\n",
       "      <td>0</td>\n",
       "      <td>0</td>\n",
       "      <td>0</td>\n",
       "      <td>0</td>\n",
       "      <td>0</td>\n",
       "      <td>0</td>\n",
       "      <td>0</td>\n",
       "      <td>0</td>\n",
       "      <td>0</td>\n",
       "      <td>0</td>\n",
       "    </tr>\n",
       "    <tr>\n",
       "      <th>25</th>\n",
       "      <td>0</td>\n",
       "      <td>2</td>\n",
       "      <td>0</td>\n",
       "      <td>0</td>\n",
       "      <td>0</td>\n",
       "      <td>0</td>\n",
       "      <td>0</td>\n",
       "      <td>0</td>\n",
       "      <td>0</td>\n",
       "      <td>0</td>\n",
       "      <td>0</td>\n",
       "      <td>0</td>\n",
       "      <td>0</td>\n",
       "      <td>0</td>\n",
       "      <td>0</td>\n",
       "    </tr>\n",
       "    <tr>\n",
       "      <th>33</th>\n",
       "      <td>0</td>\n",
       "      <td>1</td>\n",
       "      <td>0</td>\n",
       "      <td>0</td>\n",
       "      <td>0</td>\n",
       "      <td>0</td>\n",
       "      <td>0</td>\n",
       "      <td>0</td>\n",
       "      <td>0</td>\n",
       "      <td>0</td>\n",
       "      <td>0</td>\n",
       "      <td>0</td>\n",
       "      <td>0</td>\n",
       "      <td>0</td>\n",
       "      <td>0</td>\n",
       "    </tr>\n",
       "    <tr>\n",
       "      <th>38</th>\n",
       "      <td>0</td>\n",
       "      <td>0</td>\n",
       "      <td>0</td>\n",
       "      <td>1</td>\n",
       "      <td>0</td>\n",
       "      <td>0</td>\n",
       "      <td>0</td>\n",
       "      <td>0</td>\n",
       "      <td>0</td>\n",
       "      <td>0</td>\n",
       "      <td>0</td>\n",
       "      <td>0</td>\n",
       "      <td>0</td>\n",
       "      <td>0</td>\n",
       "      <td>0</td>\n",
       "    </tr>\n",
       "    <tr>\n",
       "      <th>42</th>\n",
       "      <td>0</td>\n",
       "      <td>1</td>\n",
       "      <td>0</td>\n",
       "      <td>0</td>\n",
       "      <td>0</td>\n",
       "      <td>0</td>\n",
       "      <td>0</td>\n",
       "      <td>0</td>\n",
       "      <td>0</td>\n",
       "      <td>0</td>\n",
       "      <td>0</td>\n",
       "      <td>0</td>\n",
       "      <td>0</td>\n",
       "      <td>0</td>\n",
       "      <td>0</td>\n",
       "    </tr>\n",
       "  </tbody>\n",
       "</table>\n",
       "</div>"
      ],
      "text/plain": [
       "Number_of_Vehicles       1      2     3     4    5   6   7   8   9   10  11  \\\n",
       "Number_of_Casualties                                                          \n",
       "1                     39217  65680  6168  1056  197  76  27   4   1   1   1   \n",
       "2                      3781  15035  3002   716  128  41  14   4   6   3   0   \n",
       "3                       682   4186  1203   319   73  25  12   6   2   0   1   \n",
       "4                       287   1440   481   166   48  11   2   3   2   0   0   \n",
       "5                        79    521   169    63   29  10   6   1   1   0   0   \n",
       "6                        22    183    72    46   13   4   7   1   0   0   0   \n",
       "7                         7     52    28    12    7   2   1   2   0   0   0   \n",
       "8                         5     24    12     9    3   2   0   0   0   1   0   \n",
       "9                         2     11     5     1    2   0   0   0   0   0   0   \n",
       "10                        0      7     3     0    3   0   0   0   0   0   0   \n",
       "11                        0      3     1     4    0   0   0   1   2   0   0   \n",
       "12                        1      1     1     0    0   0   1   0   0   0   0   \n",
       "13                        1      2     0     1    0   1   0   0   0   0   0   \n",
       "14                        1      0     0     0    0   0   0   0   0   0   0   \n",
       "15                        0      1     1     0    0   0   0   0   0   0   0   \n",
       "16                        1      0     1     0    0   0   0   0   0   0   0   \n",
       "17                        0      1     0     0    0   0   0   0   0   0   0   \n",
       "19                        0      1     0     0    0   0   0   0   0   0   0   \n",
       "25                        0      2     0     0    0   0   0   0   0   0   0   \n",
       "33                        0      1     0     0    0   0   0   0   0   0   0   \n",
       "38                        0      0     0     1    0   0   0   0   0   0   0   \n",
       "42                        0      1     0     0    0   0   0   0   0   0   0   \n",
       "\n",
       "Number_of_Vehicles    12  13  16  18  \n",
       "Number_of_Casualties                  \n",
       "1                      0   0   0   0  \n",
       "2                      1   0   1   0  \n",
       "3                      0   0   0   0  \n",
       "4                      0   1   0   1  \n",
       "5                      0   0   0   0  \n",
       "6                      0   0   0   0  \n",
       "7                      0   0   0   0  \n",
       "8                      0   0   0   0  \n",
       "9                      0   0   0   0  \n",
       "10                     0   0   0   0  \n",
       "11                     0   0   0   0  \n",
       "12                     0   0   0   0  \n",
       "13                     0   0   0   0  \n",
       "14                     0   0   0   0  \n",
       "15                     0   0   0   0  \n",
       "16                     0   0   0   0  \n",
       "17                     0   0   0   0  \n",
       "19                     0   0   0   0  \n",
       "25                     0   0   0   0  \n",
       "33                     0   0   0   0  \n",
       "38                     0   0   0   0  \n",
       "42                     0   0   0   0  "
      ]
     },
     "execution_count": 186,
     "metadata": {},
     "output_type": "execute_result"
    }
   ],
   "source": [
    "# Build a DataFrame, one row for each accident\n",
    "cas_veh_unrolled_df = pd.DataFrame(list(accidents.find({}, ['Number_of_Casualties', 'Number_of_Vehicles'])))\n",
    "\n",
    "# Count the number of each severity\n",
    "cas_veh_df = pd.crosstab(cas_veh_unrolled_df['Number_of_Casualties'], \n",
    "                                      cas_veh_unrolled_df['Number_of_Vehicles'])\n",
    "cas_veh_df"
   ]
  },
  {
   "cell_type": "markdown",
   "metadata": {},
   "source": [
    "We want to plot this data as a scatter plot, but that function requires a sequences of casualty numbers, vehicle numbers, and counts of accidents for each pair. To convert this data into three sequences, we'll use the `stack()` and `reset_index()` methods you saw earlier."
   ]
  },
  {
   "cell_type": "code",
   "execution_count": 187,
   "metadata": {
    "scrolled": true
   },
   "outputs": [
    {
     "data": {
      "text/html": [
       "<div>\n",
       "<style>\n",
       "    .dataframe thead tr:only-child th {\n",
       "        text-align: right;\n",
       "    }\n",
       "\n",
       "    .dataframe thead th {\n",
       "        text-align: left;\n",
       "    }\n",
       "\n",
       "    .dataframe tbody tr th {\n",
       "        vertical-align: top;\n",
       "    }\n",
       "</style>\n",
       "<table border=\"1\" class=\"dataframe\">\n",
       "  <thead>\n",
       "    <tr style=\"text-align: right;\">\n",
       "      <th></th>\n",
       "      <th>Number_of_Casualties</th>\n",
       "      <th>Number_of_Vehicles</th>\n",
       "      <th>0</th>\n",
       "    </tr>\n",
       "  </thead>\n",
       "  <tbody>\n",
       "    <tr>\n",
       "      <th>0</th>\n",
       "      <td>1</td>\n",
       "      <td>1</td>\n",
       "      <td>39217</td>\n",
       "    </tr>\n",
       "    <tr>\n",
       "      <th>1</th>\n",
       "      <td>1</td>\n",
       "      <td>2</td>\n",
       "      <td>65680</td>\n",
       "    </tr>\n",
       "    <tr>\n",
       "      <th>2</th>\n",
       "      <td>1</td>\n",
       "      <td>3</td>\n",
       "      <td>6168</td>\n",
       "    </tr>\n",
       "    <tr>\n",
       "      <th>3</th>\n",
       "      <td>1</td>\n",
       "      <td>4</td>\n",
       "      <td>1056</td>\n",
       "    </tr>\n",
       "    <tr>\n",
       "      <th>4</th>\n",
       "      <td>1</td>\n",
       "      <td>5</td>\n",
       "      <td>197</td>\n",
       "    </tr>\n",
       "    <tr>\n",
       "      <th>5</th>\n",
       "      <td>1</td>\n",
       "      <td>6</td>\n",
       "      <td>76</td>\n",
       "    </tr>\n",
       "    <tr>\n",
       "      <th>6</th>\n",
       "      <td>1</td>\n",
       "      <td>7</td>\n",
       "      <td>27</td>\n",
       "    </tr>\n",
       "    <tr>\n",
       "      <th>7</th>\n",
       "      <td>1</td>\n",
       "      <td>8</td>\n",
       "      <td>4</td>\n",
       "    </tr>\n",
       "    <tr>\n",
       "      <th>8</th>\n",
       "      <td>1</td>\n",
       "      <td>9</td>\n",
       "      <td>1</td>\n",
       "    </tr>\n",
       "    <tr>\n",
       "      <th>9</th>\n",
       "      <td>1</td>\n",
       "      <td>10</td>\n",
       "      <td>1</td>\n",
       "    </tr>\n",
       "    <tr>\n",
       "      <th>10</th>\n",
       "      <td>1</td>\n",
       "      <td>11</td>\n",
       "      <td>1</td>\n",
       "    </tr>\n",
       "    <tr>\n",
       "      <th>11</th>\n",
       "      <td>1</td>\n",
       "      <td>12</td>\n",
       "      <td>0</td>\n",
       "    </tr>\n",
       "    <tr>\n",
       "      <th>12</th>\n",
       "      <td>1</td>\n",
       "      <td>13</td>\n",
       "      <td>0</td>\n",
       "    </tr>\n",
       "    <tr>\n",
       "      <th>13</th>\n",
       "      <td>1</td>\n",
       "      <td>16</td>\n",
       "      <td>0</td>\n",
       "    </tr>\n",
       "    <tr>\n",
       "      <th>14</th>\n",
       "      <td>1</td>\n",
       "      <td>18</td>\n",
       "      <td>0</td>\n",
       "    </tr>\n",
       "    <tr>\n",
       "      <th>15</th>\n",
       "      <td>2</td>\n",
       "      <td>1</td>\n",
       "      <td>3781</td>\n",
       "    </tr>\n",
       "    <tr>\n",
       "      <th>16</th>\n",
       "      <td>2</td>\n",
       "      <td>2</td>\n",
       "      <td>15035</td>\n",
       "    </tr>\n",
       "    <tr>\n",
       "      <th>17</th>\n",
       "      <td>2</td>\n",
       "      <td>3</td>\n",
       "      <td>3002</td>\n",
       "    </tr>\n",
       "    <tr>\n",
       "      <th>18</th>\n",
       "      <td>2</td>\n",
       "      <td>4</td>\n",
       "      <td>716</td>\n",
       "    </tr>\n",
       "    <tr>\n",
       "      <th>19</th>\n",
       "      <td>2</td>\n",
       "      <td>5</td>\n",
       "      <td>128</td>\n",
       "    </tr>\n",
       "    <tr>\n",
       "      <th>20</th>\n",
       "      <td>2</td>\n",
       "      <td>6</td>\n",
       "      <td>41</td>\n",
       "    </tr>\n",
       "    <tr>\n",
       "      <th>21</th>\n",
       "      <td>2</td>\n",
       "      <td>7</td>\n",
       "      <td>14</td>\n",
       "    </tr>\n",
       "    <tr>\n",
       "      <th>22</th>\n",
       "      <td>2</td>\n",
       "      <td>8</td>\n",
       "      <td>4</td>\n",
       "    </tr>\n",
       "    <tr>\n",
       "      <th>23</th>\n",
       "      <td>2</td>\n",
       "      <td>9</td>\n",
       "      <td>6</td>\n",
       "    </tr>\n",
       "    <tr>\n",
       "      <th>24</th>\n",
       "      <td>2</td>\n",
       "      <td>10</td>\n",
       "      <td>3</td>\n",
       "    </tr>\n",
       "    <tr>\n",
       "      <th>25</th>\n",
       "      <td>2</td>\n",
       "      <td>11</td>\n",
       "      <td>0</td>\n",
       "    </tr>\n",
       "    <tr>\n",
       "      <th>26</th>\n",
       "      <td>2</td>\n",
       "      <td>12</td>\n",
       "      <td>1</td>\n",
       "    </tr>\n",
       "    <tr>\n",
       "      <th>27</th>\n",
       "      <td>2</td>\n",
       "      <td>13</td>\n",
       "      <td>0</td>\n",
       "    </tr>\n",
       "    <tr>\n",
       "      <th>28</th>\n",
       "      <td>2</td>\n",
       "      <td>16</td>\n",
       "      <td>1</td>\n",
       "    </tr>\n",
       "    <tr>\n",
       "      <th>29</th>\n",
       "      <td>2</td>\n",
       "      <td>18</td>\n",
       "      <td>0</td>\n",
       "    </tr>\n",
       "    <tr>\n",
       "      <th>...</th>\n",
       "      <td>...</td>\n",
       "      <td>...</td>\n",
       "      <td>...</td>\n",
       "    </tr>\n",
       "    <tr>\n",
       "      <th>300</th>\n",
       "      <td>38</td>\n",
       "      <td>1</td>\n",
       "      <td>0</td>\n",
       "    </tr>\n",
       "    <tr>\n",
       "      <th>301</th>\n",
       "      <td>38</td>\n",
       "      <td>2</td>\n",
       "      <td>0</td>\n",
       "    </tr>\n",
       "    <tr>\n",
       "      <th>302</th>\n",
       "      <td>38</td>\n",
       "      <td>3</td>\n",
       "      <td>0</td>\n",
       "    </tr>\n",
       "    <tr>\n",
       "      <th>303</th>\n",
       "      <td>38</td>\n",
       "      <td>4</td>\n",
       "      <td>1</td>\n",
       "    </tr>\n",
       "    <tr>\n",
       "      <th>304</th>\n",
       "      <td>38</td>\n",
       "      <td>5</td>\n",
       "      <td>0</td>\n",
       "    </tr>\n",
       "    <tr>\n",
       "      <th>305</th>\n",
       "      <td>38</td>\n",
       "      <td>6</td>\n",
       "      <td>0</td>\n",
       "    </tr>\n",
       "    <tr>\n",
       "      <th>306</th>\n",
       "      <td>38</td>\n",
       "      <td>7</td>\n",
       "      <td>0</td>\n",
       "    </tr>\n",
       "    <tr>\n",
       "      <th>307</th>\n",
       "      <td>38</td>\n",
       "      <td>8</td>\n",
       "      <td>0</td>\n",
       "    </tr>\n",
       "    <tr>\n",
       "      <th>308</th>\n",
       "      <td>38</td>\n",
       "      <td>9</td>\n",
       "      <td>0</td>\n",
       "    </tr>\n",
       "    <tr>\n",
       "      <th>309</th>\n",
       "      <td>38</td>\n",
       "      <td>10</td>\n",
       "      <td>0</td>\n",
       "    </tr>\n",
       "    <tr>\n",
       "      <th>310</th>\n",
       "      <td>38</td>\n",
       "      <td>11</td>\n",
       "      <td>0</td>\n",
       "    </tr>\n",
       "    <tr>\n",
       "      <th>311</th>\n",
       "      <td>38</td>\n",
       "      <td>12</td>\n",
       "      <td>0</td>\n",
       "    </tr>\n",
       "    <tr>\n",
       "      <th>312</th>\n",
       "      <td>38</td>\n",
       "      <td>13</td>\n",
       "      <td>0</td>\n",
       "    </tr>\n",
       "    <tr>\n",
       "      <th>313</th>\n",
       "      <td>38</td>\n",
       "      <td>16</td>\n",
       "      <td>0</td>\n",
       "    </tr>\n",
       "    <tr>\n",
       "      <th>314</th>\n",
       "      <td>38</td>\n",
       "      <td>18</td>\n",
       "      <td>0</td>\n",
       "    </tr>\n",
       "    <tr>\n",
       "      <th>315</th>\n",
       "      <td>42</td>\n",
       "      <td>1</td>\n",
       "      <td>0</td>\n",
       "    </tr>\n",
       "    <tr>\n",
       "      <th>316</th>\n",
       "      <td>42</td>\n",
       "      <td>2</td>\n",
       "      <td>1</td>\n",
       "    </tr>\n",
       "    <tr>\n",
       "      <th>317</th>\n",
       "      <td>42</td>\n",
       "      <td>3</td>\n",
       "      <td>0</td>\n",
       "    </tr>\n",
       "    <tr>\n",
       "      <th>318</th>\n",
       "      <td>42</td>\n",
       "      <td>4</td>\n",
       "      <td>0</td>\n",
       "    </tr>\n",
       "    <tr>\n",
       "      <th>319</th>\n",
       "      <td>42</td>\n",
       "      <td>5</td>\n",
       "      <td>0</td>\n",
       "    </tr>\n",
       "    <tr>\n",
       "      <th>320</th>\n",
       "      <td>42</td>\n",
       "      <td>6</td>\n",
       "      <td>0</td>\n",
       "    </tr>\n",
       "    <tr>\n",
       "      <th>321</th>\n",
       "      <td>42</td>\n",
       "      <td>7</td>\n",
       "      <td>0</td>\n",
       "    </tr>\n",
       "    <tr>\n",
       "      <th>322</th>\n",
       "      <td>42</td>\n",
       "      <td>8</td>\n",
       "      <td>0</td>\n",
       "    </tr>\n",
       "    <tr>\n",
       "      <th>323</th>\n",
       "      <td>42</td>\n",
       "      <td>9</td>\n",
       "      <td>0</td>\n",
       "    </tr>\n",
       "    <tr>\n",
       "      <th>324</th>\n",
       "      <td>42</td>\n",
       "      <td>10</td>\n",
       "      <td>0</td>\n",
       "    </tr>\n",
       "    <tr>\n",
       "      <th>325</th>\n",
       "      <td>42</td>\n",
       "      <td>11</td>\n",
       "      <td>0</td>\n",
       "    </tr>\n",
       "    <tr>\n",
       "      <th>326</th>\n",
       "      <td>42</td>\n",
       "      <td>12</td>\n",
       "      <td>0</td>\n",
       "    </tr>\n",
       "    <tr>\n",
       "      <th>327</th>\n",
       "      <td>42</td>\n",
       "      <td>13</td>\n",
       "      <td>0</td>\n",
       "    </tr>\n",
       "    <tr>\n",
       "      <th>328</th>\n",
       "      <td>42</td>\n",
       "      <td>16</td>\n",
       "      <td>0</td>\n",
       "    </tr>\n",
       "    <tr>\n",
       "      <th>329</th>\n",
       "      <td>42</td>\n",
       "      <td>18</td>\n",
       "      <td>0</td>\n",
       "    </tr>\n",
       "  </tbody>\n",
       "</table>\n",
       "<p>330 rows × 3 columns</p>\n",
       "</div>"
      ],
      "text/plain": [
       "     Number_of_Casualties  Number_of_Vehicles      0\n",
       "0                       1                   1  39217\n",
       "1                       1                   2  65680\n",
       "2                       1                   3   6168\n",
       "3                       1                   4   1056\n",
       "4                       1                   5    197\n",
       "5                       1                   6     76\n",
       "6                       1                   7     27\n",
       "7                       1                   8      4\n",
       "8                       1                   9      1\n",
       "9                       1                  10      1\n",
       "10                      1                  11      1\n",
       "11                      1                  12      0\n",
       "12                      1                  13      0\n",
       "13                      1                  16      0\n",
       "14                      1                  18      0\n",
       "15                      2                   1   3781\n",
       "16                      2                   2  15035\n",
       "17                      2                   3   3002\n",
       "18                      2                   4    716\n",
       "19                      2                   5    128\n",
       "20                      2                   6     41\n",
       "21                      2                   7     14\n",
       "22                      2                   8      4\n",
       "23                      2                   9      6\n",
       "24                      2                  10      3\n",
       "25                      2                  11      0\n",
       "26                      2                  12      1\n",
       "27                      2                  13      0\n",
       "28                      2                  16      1\n",
       "29                      2                  18      0\n",
       "..                    ...                 ...    ...\n",
       "300                    38                   1      0\n",
       "301                    38                   2      0\n",
       "302                    38                   3      0\n",
       "303                    38                   4      1\n",
       "304                    38                   5      0\n",
       "305                    38                   6      0\n",
       "306                    38                   7      0\n",
       "307                    38                   8      0\n",
       "308                    38                   9      0\n",
       "309                    38                  10      0\n",
       "310                    38                  11      0\n",
       "311                    38                  12      0\n",
       "312                    38                  13      0\n",
       "313                    38                  16      0\n",
       "314                    38                  18      0\n",
       "315                    42                   1      0\n",
       "316                    42                   2      1\n",
       "317                    42                   3      0\n",
       "318                    42                   4      0\n",
       "319                    42                   5      0\n",
       "320                    42                   6      0\n",
       "321                    42                   7      0\n",
       "322                    42                   8      0\n",
       "323                    42                   9      0\n",
       "324                    42                  10      0\n",
       "325                    42                  11      0\n",
       "326                    42                  12      0\n",
       "327                    42                  13      0\n",
       "328                    42                  16      0\n",
       "329                    42                  18      0\n",
       "\n",
       "[330 rows x 3 columns]"
      ]
     },
     "execution_count": 187,
     "metadata": {},
     "output_type": "execute_result"
    }
   ],
   "source": [
    "cas_veh_long_df = cas_veh_df.stack().reset_index()\n",
    "cas_veh_long_df"
   ]
  },
  {
   "cell_type": "markdown",
   "metadata": {},
   "source": [
    "We can now plot the number of accidents at each casualty/vehicle combination on a *scatter chart*, a scatter plot that additionally uses the _size_ of each point to communicate information about a dimension of the data. In this case, we'll scale the point size by the number of accidents of that 'size'."
   ]
  },
  {
   "cell_type": "code",
   "execution_count": 188,
   "metadata": {},
   "outputs": [
    {
     "data": {
      "image/png": "[encoded data removed]",
      "text/plain": [
       "<matplotlib.figure.Figure at 0x7fdb7e4d9dd8>"
      ]
     },
     "metadata": {},
     "output_type": "display_data"
    }
   ],
   "source": [
    "plt.scatter(cas_veh_long_df['Number_of_Casualties'], \n",
    "            cas_veh_long_df['Number_of_Vehicles'],\n",
    "            s=np.sqrt(cas_veh_long_df[0])*1.5,\n",
    "            alpha=0.5\n",
    "            )\n",
    "plt.xlabel('Number of casualties')\n",
    "plt.ylabel('Number of vehicles')\n",
    "plt.show()"
   ]
  },
  {
   "cell_type": "markdown",
   "metadata": {},
   "source": [
    "There are a number of outliers, so let's remove them to see the rest of the points more easily. Limiting the data to 20 vehicles and 10 casualties looks reasonable."
   ]
  },
  {
   "cell_type": "code",
   "execution_count": 189,
   "metadata": {},
   "outputs": [
    {
     "data": {
      "image/png": "[encoded data removed]",
      "text/plain": [
       "<matplotlib.figure.Figure at 0x7fdb84ec8ef0>"
      ]
     },
     "metadata": {},
     "output_type": "display_data"
    }
   ],
   "source": [
    "small_cvcl_df = cas_veh_long_df[(cas_veh_long_df['Number_of_Casualties'] <= 10) & \n",
    "                                (cas_veh_long_df['Number_of_Vehicles'] <= 20)]\n",
    "\n",
    "plt.scatter(small_cvcl_df['Number_of_Casualties'], \n",
    "            small_cvcl_df['Number_of_Vehicles'],\n",
    "            s=np.sqrt(small_cvcl_df[0])*3,\n",
    "            alpha=0.5\n",
    "            )\n",
    "plt.xlabel('Number of casualties')\n",
    "plt.ylabel('Number of vehicles')\n",
    "plt.show()"
   ]
  },
  {
   "cell_type": "markdown",
   "metadata": {},
   "source": [
    "Now we have some data plotted, can we say anything about the correlation of the two different metrics for 'size' of accident? From first impressions, there's not much correlation between the two measures: most of the accidents are small in both number of casualties and vehicles, and tend to be in the lower-left corner."
   ]
  },
  {
   "cell_type": "markdown",
   "metadata": {},
   "source": [
    "The obvious first step is to find the line of best fit, and then plot it.\n",
    "\n",
    "Unfortunately, finding a regression line requires the data to be 'unrolled', with one row for each accident. The `cas_veh_unrolled_df` has this information, but we need to pull out the relevant columns."
   ]
  },
  {
   "cell_type": "code",
   "execution_count": 190,
   "metadata": {},
   "outputs": [
    {
     "data": {
      "text/html": [
       "<div>\n",
       "<style>\n",
       "    .dataframe thead tr:only-child th {\n",
       "        text-align: right;\n",
       "    }\n",
       "\n",
       "    .dataframe thead th {\n",
       "        text-align: left;\n",
       "    }\n",
       "\n",
       "    .dataframe tbody tr th {\n",
       "        vertical-align: top;\n",
       "    }\n",
       "</style>\n",
       "<table border=\"1\" class=\"dataframe\">\n",
       "  <thead>\n",
       "    <tr style=\"text-align: right;\">\n",
       "      <th></th>\n",
       "      <th>Number_of_Casualties</th>\n",
       "      <th>Number_of_Vehicles</th>\n",
       "      <th>_id</th>\n",
       "    </tr>\n",
       "  </thead>\n",
       "  <tbody>\n",
       "    <tr>\n",
       "      <th>0</th>\n",
       "      <td>1</td>\n",
       "      <td>2</td>\n",
       "      <td>52a9c97c92c4e16686d13265</td>\n",
       "    </tr>\n",
       "    <tr>\n",
       "      <th>1</th>\n",
       "      <td>1</td>\n",
       "      <td>2</td>\n",
       "      <td>52a9c97c92c4e16686d13266</td>\n",
       "    </tr>\n",
       "    <tr>\n",
       "      <th>2</th>\n",
       "      <td>1</td>\n",
       "      <td>2</td>\n",
       "      <td>52a9c97c92c4e16686d13267</td>\n",
       "    </tr>\n",
       "    <tr>\n",
       "      <th>3</th>\n",
       "      <td>1</td>\n",
       "      <td>1</td>\n",
       "      <td>52a9c97c92c4e16686d13268</td>\n",
       "    </tr>\n",
       "    <tr>\n",
       "      <th>4</th>\n",
       "      <td>1</td>\n",
       "      <td>1</td>\n",
       "      <td>52a9c97c92c4e16686d13269</td>\n",
       "    </tr>\n",
       "  </tbody>\n",
       "</table>\n",
       "</div>"
      ],
      "text/plain": [
       "   Number_of_Casualties  Number_of_Vehicles                       _id\n",
       "0                     1                   2  52a9c97c92c4e16686d13265\n",
       "1                     1                   2  52a9c97c92c4e16686d13266\n",
       "2                     1                   2  52a9c97c92c4e16686d13267\n",
       "3                     1                   1  52a9c97c92c4e16686d13268\n",
       "4                     1                   1  52a9c97c92c4e16686d13269"
      ]
     },
     "execution_count": 190,
     "metadata": {},
     "output_type": "execute_result"
    }
   ],
   "source": [
    "cas_veh_unrolled_df.head()"
   ]
  },
  {
   "cell_type": "code",
   "execution_count": 191,
   "metadata": {},
   "outputs": [
    {
     "data": {
      "text/plain": [
       "(0.21101011188488833, 1.5427349394560317)"
      ]
     },
     "execution_count": 191,
     "metadata": {},
     "output_type": "execute_result"
    }
   ],
   "source": [
    "regressionline = scipy.stats.linregress(cas_veh_unrolled_df['Number_of_Casualties'],\n",
    "                                       cas_veh_unrolled_df['Number_of_Vehicles'])\n",
    "# The regression line is of the form y = m x + b\n",
    "m = regressionline[0]\n",
    "b = regressionline[1]\n",
    "(m, b)"
   ]
  },
  {
   "cell_type": "markdown",
   "metadata": {},
   "source": [
    "Now, plot the regression line on top of the scatter plot"
   ]
  },
  {
   "cell_type": "code",
   "execution_count": 192,
   "metadata": {},
   "outputs": [
    {
     "data": {
      "image/png": "[encoded data removed]",
      "text/plain": [
       "<matplotlib.figure.Figure at 0x7fdb840a6128>"
      ]
     },
     "metadata": {},
     "output_type": "display_data"
    }
   ],
   "source": [
    "plt.scatter(small_cvcl_df['Number_of_Casualties'], \n",
    "            small_cvcl_df['Number_of_Vehicles'],\n",
    "            s=np.sqrt(small_cvcl_df[0])*3,\n",
    "            alpha=0.5\n",
    "            )\n",
    "plt.xlabel('Number of casualties')\n",
    "plt.ylabel('Number of vehicles')\n",
    "\n",
    "x = np.linspace(0, 30, 20)\n",
    "plt.plot(x, m*x + b)\n",
    "\n",
    "plt.show()"
   ]
  },
  {
   "cell_type": "markdown",
   "metadata": {},
   "source": [
    "There is a line of best fit, but it doesn't seem to describe the data very well. In the next Notebook, we'll look at how to get a better handle on the this correlation."
   ]
  },
  {
   "cell_type": "markdown",
   "metadata": {
    "activity": "activity"
   },
   "source": [
    "### Activity 7\n",
    "\n",
    "How does the number of vehicles in an accident vary with the speed limit?\n",
    "\n",
    "Find the results, find the line of best fit, then plot the data and line of best fit on a scatter graph.\n",
    "\n",
    "The solution is in the [`14.2solutions`](14.2solutions.ipynb) Notebook."
   ]
  },
  {
   "cell_type": "code",
   "execution_count": 216,
   "metadata": {},
   "outputs": [
    {
     "data": {
      "text/plain": [
       "{'1st_Road_Class': 3,\n",
       " '1st_Road_Number': 308,\n",
       " '2nd_Road_Class': 5,\n",
       " '2nd_Road_Number': 0,\n",
       " 'Accident_Index': '201201BS70001',\n",
       " 'Accident_Severity': 3,\n",
       " 'Carriageway_Hazards': 0,\n",
       " 'Casualties': [{'Age_Band_of_Casualty': 7,\n",
       "   'Bus_or_Coach_Passenger': 0,\n",
       "   'Car_Passenger': 0,\n",
       "   'Casualty_Class': 1,\n",
       "   'Casualty_Home_Area_Type': 1,\n",
       "   'Casualty_Reference': 1,\n",
       "   'Casualty_Severity': 3,\n",
       "   'Casualty_Type': 1,\n",
       "   'Pedestrian_Location': 0,\n",
       "   'Pedestrian_Movement': 0,\n",
       "   'Pedestrian_Road_Maintenance_Worker': 0,\n",
       "   'Sex_of_Casualty': 1,\n",
       "   'Vehicle_Reference': 2}],\n",
       " 'Date': '19/01/2012',\n",
       " 'Datetime': datetime.datetime(2012, 1, 19, 20, 35),\n",
       " 'Day_of_Week': 5,\n",
       " 'Did_Police_Officer_Attend_Scene_of_Accident': 1,\n",
       " 'Junction_Control': 2,\n",
       " 'Junction_Detail': 6,\n",
       " 'LSOA_of_Accident_Location': 'E01002821',\n",
       " 'Latitude': 51.493429,\n",
       " 'Light_Conditions': 4,\n",
       " 'Local_Authority_(District)': 12,\n",
       " 'Local_Authority_(Highway)': 'E09000020',\n",
       " 'Location_Easting_OSGR': 527200,\n",
       " 'Location_Northing_OSGR': 178760,\n",
       " 'Longitude': -0.169101,\n",
       " 'Number_of_Casualties': 1,\n",
       " 'Number_of_Vehicles': 2,\n",
       " 'Pedestrian_Crossing-Human_Control': 0,\n",
       " 'Pedestrian_Crossing-Physical_Facilities': 5,\n",
       " 'Police_Force': 1,\n",
       " 'Road_Surface_Conditions': 1,\n",
       " 'Road_Type': 6,\n",
       " 'Special_Conditions_at_Site': 0,\n",
       " 'Speed_limit': 30,\n",
       " 'Time': '20:35',\n",
       " 'Urban_or_Rural_Area': 1,\n",
       " 'Vehicles': [{'1st_Point_of_Impact': 4,\n",
       "   'Age_Band_of_Driver': 4,\n",
       "   'Age_of_Vehicle': 5,\n",
       "   'Driver_Home_Area_Type': 1,\n",
       "   'Driver_IMD_Decile': 7,\n",
       "   'Engine_Capacity_(CC)': 1390,\n",
       "   'Hit_Object_in_Carriageway': 0,\n",
       "   'Hit_Object_off_Carriageway': 0,\n",
       "   'Journey_Purpose_of_Driver': 6,\n",
       "   'Junction_Location': 8,\n",
       "   'Propulsion_Code': 1,\n",
       "   'Sex_of_Driver': 2,\n",
       "   'Skidding_and_Overturning': 0,\n",
       "   'Towing_and_Articulation': 0,\n",
       "   'Vehicle_Leaving_Carriageway': 0,\n",
       "   'Vehicle_Location-Restricted_Lane': 0,\n",
       "   'Vehicle_Manoeuvre': 9,\n",
       "   'Vehicle_Reference': 1,\n",
       "   'Vehicle_Type': 9,\n",
       "   'Was_Vehicle_Left_Hand_Drive?': 1},\n",
       "  {'1st_Point_of_Impact': 1,\n",
       "   'Age_Band_of_Driver': 7,\n",
       "   'Age_of_Vehicle': -1,\n",
       "   'Driver_Home_Area_Type': 1,\n",
       "   'Driver_IMD_Decile': 3,\n",
       "   'Engine_Capacity_(CC)': -1,\n",
       "   'Hit_Object_in_Carriageway': 0,\n",
       "   'Hit_Object_off_Carriageway': 0,\n",
       "   'Journey_Purpose_of_Driver': 6,\n",
       "   'Junction_Location': 8,\n",
       "   'Propulsion_Code': -1,\n",
       "   'Sex_of_Driver': 1,\n",
       "   'Skidding_and_Overturning': 0,\n",
       "   'Towing_and_Articulation': 0,\n",
       "   'Vehicle_Leaving_Carriageway': 0,\n",
       "   'Vehicle_Location-Restricted_Lane': 0,\n",
       "   'Vehicle_Manoeuvre': 18,\n",
       "   'Vehicle_Reference': 2,\n",
       "   'Vehicle_Type': 1,\n",
       "   'Was_Vehicle_Left_Hand_Drive?': 1}],\n",
       " 'Weather_Conditions': 1,\n",
       " '_id': ObjectId('52a9c97c92c4e16686d13265'),\n",
       " 'loc': {'coordinates': [-0.169101, 51.493429], 'type': 'Point'}}"
      ]
     },
     "execution_count": 216,
     "metadata": {},
     "output_type": "execute_result"
    }
   ],
   "source": [
    "# Insert your solution here.\n",
    "accidents.find_one()"
   ]
  },
  {
   "cell_type": "code",
   "execution_count": 217,
   "metadata": {},
   "outputs": [
    {
     "data": {
      "text/html": [
       "<div>\n",
       "<style>\n",
       "    .dataframe thead tr:only-child th {\n",
       "        text-align: right;\n",
       "    }\n",
       "\n",
       "    .dataframe thead th {\n",
       "        text-align: left;\n",
       "    }\n",
       "\n",
       "    .dataframe tbody tr th {\n",
       "        vertical-align: top;\n",
       "    }\n",
       "</style>\n",
       "<table border=\"1\" class=\"dataframe\">\n",
       "  <thead>\n",
       "    <tr style=\"text-align: right;\">\n",
       "      <th>Number_of_Vehicles</th>\n",
       "      <th>1</th>\n",
       "      <th>2</th>\n",
       "      <th>3</th>\n",
       "      <th>4</th>\n",
       "      <th>5</th>\n",
       "      <th>6</th>\n",
       "      <th>7</th>\n",
       "      <th>8</th>\n",
       "      <th>9</th>\n",
       "      <th>10</th>\n",
       "      <th>11</th>\n",
       "      <th>12</th>\n",
       "      <th>13</th>\n",
       "      <th>16</th>\n",
       "      <th>18</th>\n",
       "    </tr>\n",
       "    <tr>\n",
       "      <th>Speed_limit</th>\n",
       "      <th></th>\n",
       "      <th></th>\n",
       "      <th></th>\n",
       "      <th></th>\n",
       "      <th></th>\n",
       "      <th></th>\n",
       "      <th></th>\n",
       "      <th></th>\n",
       "      <th></th>\n",
       "      <th></th>\n",
       "      <th></th>\n",
       "      <th></th>\n",
       "      <th></th>\n",
       "      <th></th>\n",
       "      <th></th>\n",
       "    </tr>\n",
       "  </thead>\n",
       "  <tbody>\n",
       "    <tr>\n",
       "      <th>10</th>\n",
       "      <td>1</td>\n",
       "      <td>0</td>\n",
       "      <td>0</td>\n",
       "      <td>0</td>\n",
       "      <td>0</td>\n",
       "      <td>0</td>\n",
       "      <td>0</td>\n",
       "      <td>0</td>\n",
       "      <td>0</td>\n",
       "      <td>0</td>\n",
       "      <td>0</td>\n",
       "      <td>0</td>\n",
       "      <td>0</td>\n",
       "      <td>0</td>\n",
       "      <td>0</td>\n",
       "    </tr>\n",
       "    <tr>\n",
       "      <th>20</th>\n",
       "      <td>1003</td>\n",
       "      <td>1137</td>\n",
       "      <td>92</td>\n",
       "      <td>12</td>\n",
       "      <td>2</td>\n",
       "      <td>1</td>\n",
       "      <td>0</td>\n",
       "      <td>0</td>\n",
       "      <td>0</td>\n",
       "      <td>0</td>\n",
       "      <td>0</td>\n",
       "      <td>0</td>\n",
       "      <td>0</td>\n",
       "      <td>0</td>\n",
       "      <td>0</td>\n",
       "    </tr>\n",
       "    <tr>\n",
       "      <th>30</th>\n",
       "      <td>28972</td>\n",
       "      <td>58841</td>\n",
       "      <td>5900</td>\n",
       "      <td>1031</td>\n",
       "      <td>169</td>\n",
       "      <td>57</td>\n",
       "      <td>18</td>\n",
       "      <td>3</td>\n",
       "      <td>1</td>\n",
       "      <td>2</td>\n",
       "      <td>0</td>\n",
       "      <td>0</td>\n",
       "      <td>1</td>\n",
       "      <td>0</td>\n",
       "      <td>0</td>\n",
       "    </tr>\n",
       "    <tr>\n",
       "      <th>40</th>\n",
       "      <td>2564</td>\n",
       "      <td>7839</td>\n",
       "      <td>1176</td>\n",
       "      <td>271</td>\n",
       "      <td>49</td>\n",
       "      <td>8</td>\n",
       "      <td>6</td>\n",
       "      <td>0</td>\n",
       "      <td>1</td>\n",
       "      <td>0</td>\n",
       "      <td>0</td>\n",
       "      <td>0</td>\n",
       "      <td>0</td>\n",
       "      <td>0</td>\n",
       "      <td>0</td>\n",
       "    </tr>\n",
       "    <tr>\n",
       "      <th>50</th>\n",
       "      <td>1232</td>\n",
       "      <td>3062</td>\n",
       "      <td>684</td>\n",
       "      <td>177</td>\n",
       "      <td>53</td>\n",
       "      <td>6</td>\n",
       "      <td>3</td>\n",
       "      <td>1</td>\n",
       "      <td>0</td>\n",
       "      <td>1</td>\n",
       "      <td>0</td>\n",
       "      <td>1</td>\n",
       "      <td>0</td>\n",
       "      <td>0</td>\n",
       "      <td>0</td>\n",
       "    </tr>\n",
       "    <tr>\n",
       "      <th>60</th>\n",
       "      <td>7629</td>\n",
       "      <td>11215</td>\n",
       "      <td>1813</td>\n",
       "      <td>403</td>\n",
       "      <td>82</td>\n",
       "      <td>19</td>\n",
       "      <td>7</td>\n",
       "      <td>1</td>\n",
       "      <td>2</td>\n",
       "      <td>0</td>\n",
       "      <td>0</td>\n",
       "      <td>0</td>\n",
       "      <td>0</td>\n",
       "      <td>0</td>\n",
       "      <td>1</td>\n",
       "    </tr>\n",
       "    <tr>\n",
       "      <th>70</th>\n",
       "      <td>2685</td>\n",
       "      <td>5058</td>\n",
       "      <td>1482</td>\n",
       "      <td>500</td>\n",
       "      <td>148</td>\n",
       "      <td>81</td>\n",
       "      <td>36</td>\n",
       "      <td>17</td>\n",
       "      <td>10</td>\n",
       "      <td>2</td>\n",
       "      <td>2</td>\n",
       "      <td>0</td>\n",
       "      <td>0</td>\n",
       "      <td>1</td>\n",
       "      <td>0</td>\n",
       "    </tr>\n",
       "  </tbody>\n",
       "</table>\n",
       "</div>"
      ],
      "text/plain": [
       "Number_of_Vehicles     1      2     3     4    5   6   7   8   9   10  11  12  \\\n",
       "Speed_limit                                                                     \n",
       "10                      1      0     0     0    0   0   0   0   0   0   0   0   \n",
       "20                   1003   1137    92    12    2   1   0   0   0   0   0   0   \n",
       "30                  28972  58841  5900  1031  169  57  18   3   1   2   0   0   \n",
       "40                   2564   7839  1176   271   49   8   6   0   1   0   0   0   \n",
       "50                   1232   3062   684   177   53   6   3   1   0   1   0   1   \n",
       "60                   7629  11215  1813   403   82  19   7   1   2   0   0   0   \n",
       "70                   2685   5058  1482   500  148  81  36  17  10   2   2   0   \n",
       "\n",
       "Number_of_Vehicles  13  16  18  \n",
       "Speed_limit                     \n",
       "10                   0   0   0  \n",
       "20                   0   0   0  \n",
       "30                   1   0   0  \n",
       "40                   0   0   0  \n",
       "50                   0   0   0  \n",
       "60                   0   0   1  \n",
       "70                   0   1   0  "
      ]
     },
     "execution_count": 217,
     "metadata": {},
     "output_type": "execute_result"
    }
   ],
   "source": [
    "# Build a DataFrame, one row for each accident\n",
    "veh_spe_unrolled_df = pd.DataFrame(list(accidents.find({},['Number_of_Vehicles','Speed_limit'])))\n",
    "\n",
    "# count the number of vehicles of each speed limit\n",
    "veh_spe_df = pd.crosstab(veh_spe_unrolled_df['Speed_limit'],\n",
    "                         veh_spe_unrolled_df['Number_of_Vehicles']\n",
    "                        )\n",
    "\n",
    "veh_spe_df"
   ]
  },
  {
   "cell_type": "code",
   "execution_count": 218,
   "metadata": {},
   "outputs": [
    {
     "data": {
      "text/html": [
       "<div>\n",
       "<style>\n",
       "    .dataframe thead tr:only-child th {\n",
       "        text-align: right;\n",
       "    }\n",
       "\n",
       "    .dataframe thead th {\n",
       "        text-align: left;\n",
       "    }\n",
       "\n",
       "    .dataframe tbody tr th {\n",
       "        vertical-align: top;\n",
       "    }\n",
       "</style>\n",
       "<table border=\"1\" class=\"dataframe\">\n",
       "  <thead>\n",
       "    <tr style=\"text-align: right;\">\n",
       "      <th></th>\n",
       "      <th>Speed_limit</th>\n",
       "      <th>Number_of_Vehicles</th>\n",
       "      <th>0</th>\n",
       "    </tr>\n",
       "  </thead>\n",
       "  <tbody>\n",
       "    <tr>\n",
       "      <th>0</th>\n",
       "      <td>10</td>\n",
       "      <td>1</td>\n",
       "      <td>1</td>\n",
       "    </tr>\n",
       "    <tr>\n",
       "      <th>1</th>\n",
       "      <td>10</td>\n",
       "      <td>2</td>\n",
       "      <td>0</td>\n",
       "    </tr>\n",
       "    <tr>\n",
       "      <th>2</th>\n",
       "      <td>10</td>\n",
       "      <td>3</td>\n",
       "      <td>0</td>\n",
       "    </tr>\n",
       "    <tr>\n",
       "      <th>3</th>\n",
       "      <td>10</td>\n",
       "      <td>4</td>\n",
       "      <td>0</td>\n",
       "    </tr>\n",
       "    <tr>\n",
       "      <th>4</th>\n",
       "      <td>10</td>\n",
       "      <td>5</td>\n",
       "      <td>0</td>\n",
       "    </tr>\n",
       "  </tbody>\n",
       "</table>\n",
       "</div>"
      ],
      "text/plain": [
       "   Speed_limit  Number_of_Vehicles  0\n",
       "0           10                   1  1\n",
       "1           10                   2  0\n",
       "2           10                   3  0\n",
       "3           10                   4  0\n",
       "4           10                   5  0"
      ]
     },
     "execution_count": 218,
     "metadata": {},
     "output_type": "execute_result"
    }
   ],
   "source": [
    "# next we want to stack the data\n",
    "veh_spe_long_df = veh_spe_df.stack().reset_index()\n",
    "veh_spe_long_df[:5]"
   ]
  },
  {
   "cell_type": "code",
   "execution_count": 219,
   "metadata": {},
   "outputs": [
    {
     "data": {
      "image/png": "[encoded data removed]",
      "text/plain": [
       "<matplotlib.figure.Figure at 0x7fdb7f34bfd0>"
      ]
     },
     "metadata": {},
     "output_type": "display_data"
    }
   ],
   "source": [
    "# plot as a scatter\n",
    "plt.scatter(veh_spe_long_df['Speed_limit'],\n",
    "           veh_spe_long_df['Number_of_Vehicles'],\n",
    "           s=np.sqrt(veh_spe_long_df[0])*1.5,\n",
    "           alpha=0.5)\n",
    "plt.xlabel('Speed limit')\n",
    "plt.ylabel('Number of vehicles')\n",
    "plt.show()"
   ]
  },
  {
   "cell_type": "code",
   "execution_count": 229,
   "metadata": {},
   "outputs": [
    {
     "data": {
      "text/plain": [
       "(0.0041966018714761745, 1.6648805040827896)"
      ]
     },
     "execution_count": 229,
     "metadata": {},
     "output_type": "execute_result"
    }
   ],
   "source": [
    "# Now lets add a regression line\n",
    "regressionline = scipy.stats.linregress(veh_spe_unrolled_df['Speed_limit'],\n",
    "                                       veh_spe_unrolled_df['Number_of_Vehicles'])\n",
    "# regression lin is of form y = m x + b\n",
    "m = regressionline[0]\n",
    "b = regressionline[1]\n",
    "(m,b)"
   ]
  },
  {
   "cell_type": "markdown",
   "metadata": {},
   "source": [
    "lets remove outliers then add regression line"
   ]
  },
  {
   "cell_type": "code",
   "execution_count": 234,
   "metadata": {},
   "outputs": [
    {
     "data": {
      "image/png": "[encoded data removed]",
      "text/plain": [
       "<matplotlib.figure.Figure at 0x7fdb8cee3780>"
      ]
     },
     "metadata": {},
     "output_type": "display_data"
    }
   ],
   "source": [
    "small_df = veh_spe_long_df[(veh_spe_long_df['Number_of_Vehicles'] <= 20) &\n",
    "                           (veh_spe_long_df['Speed_limit'] >= 30)]\n",
    "\n",
    "plt.scatter(small_df['Speed_limit'],\n",
    "           small_df['Number_of_Vehicles'],\n",
    "           s=np.sqrt(small_df[0])*3,\n",
    "           alpha=0.5\n",
    "           )\n",
    "plt.xlabel('Speed limit')\n",
    "plt.ylabel('Number of Vehicles')\n",
    "\n",
    "x = np.linspace(30,70, 20)\n",
    "plt.plot(x, m*x + b)\n",
    "\n",
    "plt.show()"
   ]
  },
  {
   "cell_type": "markdown",
   "metadata": {},
   "source": [
    "## What next?\n",
    "If you are working through this Notebook as part of an inline exercise, return to the module materials now.\n",
    "\n",
    "If you are working through this set of Notebooks as a whole, move on to `14.3 Using statistical tests`."
   ]
  }
 ],
 "metadata": {
  "kernelspec": {
   "display_name": "Python 3",
   "language": "python",
   "name": "python3"
  },
  "language_info": {
   "codemirror_mode": {
    "name": "ipython",
    "version": 3
   },
   "file_extension": ".py",
   "mimetype": "text/x-python",
   "name": "python",
   "nbconvert_exporter": "python",
   "pygments_lexer": "ipython3",
   "version": "3.5.2"
  }
 },
 "nbformat": 4,
 "nbformat_minor": 1
}
