{
 "cells": [
  {
   "cell_type": "markdown",
   "metadata": {},
   "source": [
    "# Optional Activity - Movie Actor Career History\n",
    "\n",
    "This week's activity is an optional activity to build on the \"questions to queries\" activities presented previously."
   ]
  },
  {
   "cell_type": "code",
   "execution_count": 1,
   "metadata": {},
   "outputs": [],
   "source": [
    "import pandas as pd\n",
    "from pandasql import sqldf\n",
    "pysqldf = lambda q: sqldf(q, globals())\n",
    "\n",
    "# Create the DataFrame 'movie' from the CSV data file 'movie.csv'.\n",
    "movie = pd.read_csv('../Part 08 Notebooks/data/movie.csv')\n",
    "# Create the DataFrame 'movie_actor' from the CSV data file 'movie_actor.csv'.\n",
    "movie_actor = pd.read_csv('../Part 08 Notebooks/data/movie_actor.csv')\n",
    "# Create the DataFrame 'movie_country' from the CSV data file 'movie_country.csv'.\n",
    "movie_country = pd.read_csv('../Part 08 Notebooks/data/movie_country.csv')\n",
    "# Create the DataFrame 'movie_director' from the CSV data file 'movie_director.csv'.\n",
    "movie_director = pd.read_csv('../Part 08 Notebooks/data/movie_director.csv')\n",
    "# Create the DataFrame 'movie_genre' from the CSV data file 'movie_genre.csv'.\n",
    "movie_genre = pd.read_csv('../Part 08 Notebooks/data/movie_genre.csv')"
   ]
  },
  {
   "cell_type": "markdown",
   "metadata": {
    "activity": "activity"
   },
   "source": [
    "## Activity\n",
    "\n",
    "Suppose that you are trying to put together a history of the movie related activity of a movie actor or movie director.\n",
    "\n",
    "Using questions previously identified, or new questions of your own, produce a notebook that can be used to pull out interesting aspects of one or more movie actor or director's film-making career, or period from their career, based on information contained in the Movies dataset.\n",
    "\n",
    "Ideally, you would consider parameterising your notebook so that it is reusable, and so that a similar analytic treatment could be applied using the same code but applied to different actors, directors and/or periods.\n",
    "\n",
    "*If you decide to attempt this task, feel free to share your notebook in the course forums.*"
   ]
  }
 ],
 "metadata": {
  "kernelspec": {
   "display_name": "Python 3",
   "language": "python",
   "name": "python3"
  },
  "language_info": {
   "codemirror_mode": {
    "name": "ipython",
    "version": 3
   },
   "file_extension": ".py",
   "mimetype": "text/x-python",
   "name": "python",
   "nbconvert_exporter": "python",
   "pygments_lexer": "ipython3",
   "version": "3.5.2"
  }
 },
 "nbformat": 4,
 "nbformat_minor": 1
}
