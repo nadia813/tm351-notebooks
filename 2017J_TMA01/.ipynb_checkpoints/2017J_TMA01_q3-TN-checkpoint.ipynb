{
 "cells": [
  {
   "cell_type": "markdown",
   "metadata": {},
   "source": [
    "# TMA 01, question 3 (45 marks)"
   ]
  },
  {
   "cell_type": "markdown",
   "metadata": {},
   "source": [
    "**Name**: [Enter your name here]\n",
    "    \n",
    "**PI**: [Enter your student id here]"
   ]
  },
  {
   "cell_type": "markdown",
   "metadata": {},
   "source": [
    "### The task"
   ]
  },
  {
   "cell_type": "markdown",
   "metadata": {
    "collapsed": true
   },
   "source": [
    "In question 1, you started looking at a dataset covering the wholesale values for fruit and vegetables for the years 2004-2012. The dataset was available at:\n",
    "\n",
    "https://data.gov.uk/dataset/agricultural_market_reports\n",
    "    \n",
    "The entire dataset is available for download, but we have also provided a download of the data in the file <code>fruitveg.csv</code> in the <code>datasets</code> directory.\n",
    "\n",
    "Visit the website via the above link, read the description of the data and then answer the following questions."
   ]
  },
  {
   "cell_type": "markdown",
   "metadata": {
    "collapsed": true
   },
   "source": [
    "You are now required to combine some of the information from this dataset with data about the amount of orchard space in England and Wales, which you can download from this site:\n",
    "\n",
    "    https://data.gov.uk/dataset/orchard_fruit_survey\n",
    "\n",
    "but which is also contained in the file <code>orchfruit_ap&pr_30may13.csv</code> in the <code>datasets</code> directory."
   ]
  },
  {
   "cell_type": "markdown",
   "metadata": {},
   "source": [
    "**You must produce a graphical representation of the changes in average wholesale price and orchard space for each type of dessert apple grown in England and Wales. You should then discuss what your representation shows.**"
   ]
  },
  {
   "cell_type": "markdown",
   "metadata": {},
   "source": [
    "*(45 marks)*"
   ]
  },
  {
   "cell_type": "markdown",
   "metadata": {},
   "source": [
    "### Some guidance"
   ]
  },
  {
   "cell_type": "markdown",
   "metadata": {
    "collapsed": true
   },
   "source": [
    "This TMA question gives you the opportunity to demonstrate your mastery of the techniques in carrying out a small-scale data analysis. Specifically, this question requires you to clean two datasets, combine and reshape them, and graphically present the cleaned data. All the techniques required to answer this question can be found in Parts 2-5, and are illustrated in the associated notebooks."
   ]
  },
  {
   "cell_type": "markdown",
   "metadata": {},
   "source": [
    "There are many ways you could approach this task, but one way might be to produce a pandas dataframe, containing the values so that for each variety of apple, and for each year, the average wholesale price for the year is listed, and the total orchard space given over to that variety. The final dataframe could look something like this:\n"
   ]
  },
  {
   "cell_type": "markdown",
   "metadata": {},
   "source": [
    "\n",
    "|Apple variety|Year|Average wholesale price|Orchard space|\n",
    "|---|---|---|---|\n",
    "|Cox|2004 | 45 | 12 |\n",
    "|Cox|2012 | 45 | 12 |\n",
    "|Worcester|2004 | 23 | 1 |\n",
    "|Worcester|2012 | 23 | 1 |\n",
    "|$\\vdots$ | $\\vdots$ | $\\vdots$ | $\\vdots$ |"
   ]
  },
  {
   "cell_type": "markdown",
   "metadata": {},
   "source": [
    "\n",
    "(although note that the figures 45, 12, 23 and 1 are just for illustration; they are not necessarily the correct values for the question).\n"
   ]
  },
  {
   "cell_type": "markdown",
   "metadata": {},
   "source": [
    "You should then construct one or more plots showing how the relationships between the type of apple, the average wholesale price of that type, and the England and Wales orchard space for each type has changed over the period 2004-2015. You should also give an explanation of what you believe the plot shows."
   ]
  },
  {
   "cell_type": "markdown",
   "metadata": {},
   "source": [
    "This question requires that you complete a number of tasks:\n",
    "\n",
    "1. You need to examine the datasets. You should consider questions such as how missing data is handled, whether there is any dirtiness or ambiguity in the data, and any differences in how data is represented in the two datasets. This task uses the techniques described in Part 3, section 2.\n",
    "\n",
    "2. You will need to capture the data in a dataframe in the form described above. This task uses the techniques described in Part 3, section 3 and Part 4.\n",
    "\n",
    "3. Finally, you should select a visualisation method for the data in the dataset, and present a plot of the data, with a description of how you think it should be interpreted. This task uses the techniques described in Part 5. We are not prescribing a particular choice of visualisation: you should choose one that you think is appropriate.\n"
   ]
  },
  {
   "cell_type": "markdown",
   "metadata": {},
   "source": [
    "It is crucial for this question to bear in mind that at each stage, you must describe what you have done in sufficient detail that someone could replicate your work. This means that you must:\n",
    "\n",
    "* explain what any code that you have written does, and execute it in the body of your submitted notebook,\n",
    "\n",
    "* where you have used tools that are not accessed via python or the notebooks (such as OpenRefine), you should include some screenshots to show what you did, and to help the marker understand your thinking,\n",
    "\n",
    "* clearly explain any assumptions or simplifications that you have made about the data, and\n",
    "\n",
    "* interpret your final results in the context of these assumptions and simplifications.\n"
   ]
  },
  {
   "cell_type": "markdown",
   "metadata": {},
   "source": [
    "Some guidance on presentation:\n",
    "\n",
    "* You must present your answer in this notebook.\n",
    "    \n",
    "* Do not put too much text or code into each notebook cell. Each cell should contain one or two paragraphs at most, or around ten lines of python.\n",
    "\n",
    "* Ensure that in your code, you use meaningful variable names.\n",
    "\n",
    "* You should have a specific cell whose return value is the dataframe described above.\n",
    "\n",
    "* You should have a specific cell which plots the data in the dataframe."
   ]
  },
  {
   "cell_type": "markdown",
   "metadata": {},
   "source": [
    "We have provided a structure for your answer, and you should describe your work under the appropriate headings in the rest of the TMA. The headings do not represent equal amounts of work, nor do they necessarily carry the same weight as the equivalent headings in question 2, because different datasets and different tasks require the effort to be spent in different places. You may need to use several cells to address a particular heading. For example, you would expect to present substantially more work on identifying and handling the missing data, than on importing the datasets. "
   ]
  },
  {
   "cell_type": "markdown",
   "metadata": {},
   "source": [
    "### Your answer"
   ]
  },
  {
   "cell_type": "markdown",
   "metadata": {},
   "source": [
    "#### 1. Import the two datasets"
   ]
  },
  {
   "cell_type": "code",
   "execution_count": null,
   "metadata": {
    "collapsed": true
   },
   "outputs": [],
   "source": []
  },
  {
   "cell_type": "markdown",
   "metadata": {},
   "source": [
    "#### 2. Identify and handle missing data"
   ]
  },
  {
   "cell_type": "code",
   "execution_count": null,
   "metadata": {
    "collapsed": true
   },
   "outputs": [],
   "source": []
  },
  {
   "cell_type": "markdown",
   "metadata": {},
   "source": [
    "#### 3. Identify and handle inconsistent or dirty data"
   ]
  },
  {
   "cell_type": "code",
   "execution_count": null,
   "metadata": {
    "collapsed": true
   },
   "outputs": [],
   "source": []
  },
  {
   "cell_type": "markdown",
   "metadata": {},
   "source": [
    "#### 4. Identify and handle ambiguity and vagueness"
   ]
  },
  {
   "cell_type": "code",
   "execution_count": null,
   "metadata": {
    "collapsed": true
   },
   "outputs": [],
   "source": []
  },
  {
   "cell_type": "markdown",
   "metadata": {},
   "source": [
    "#### 5. Put the data into an appropriate form for plotting"
   ]
  },
  {
   "cell_type": "code",
   "execution_count": null,
   "metadata": {
    "collapsed": true
   },
   "outputs": [],
   "source": []
  },
  {
   "cell_type": "markdown",
   "metadata": {},
   "source": [
    "#### 6. Visualise the data"
   ]
  },
  {
   "cell_type": "code",
   "execution_count": null,
   "metadata": {
    "collapsed": true
   },
   "outputs": [],
   "source": []
  },
  {
   "cell_type": "markdown",
   "metadata": {},
   "source": [
    "#### 7. Interpret your plot"
   ]
  },
  {
   "cell_type": "code",
   "execution_count": null,
   "metadata": {
    "collapsed": true
   },
   "outputs": [],
   "source": []
  },
  {
   "cell_type": "code",
   "execution_count": 1,
   "metadata": {},
   "outputs": [
    {
     "ename": "SyntaxError",
     "evalue": "invalid syntax (<ipython-input-1-2da7899a9694>, line 1)",
     "output_type": "error",
     "traceback": [
      "\u001b[0;36m  File \u001b[0;32m\"<ipython-input-1-2da7899a9694>\"\u001b[0;36m, line \u001b[0;32m1\u001b[0m\n\u001b[0;31m    Jupyter Notebook2017J_TMA01_q3-TN Last Checkpoint: 06/13/2017 (autosaved) Python 3\u001b[0m\n\u001b[0m                                 ^\u001b[0m\n\u001b[0;31mSyntaxError\u001b[0m\u001b[0;31m:\u001b[0m invalid syntax\n"
     ]
    }
   ],
   "source": [
    "Jupyter Notebook2017J_TMA01_q3-TN Last Checkpoint: 06/13/2017 (autosaved) Python 3\n",
    "Python 3 Trusted\n",
    "File\n",
    "Edit\n",
    "View\n",
    "Insert\n",
    "Cell\n",
    "Kernel\n",
    "Help\n",
    "   \n",
    "TMA 01, question 3\n",
    "Name: [Enter your name here]\n",
    "PI: [Enter your student id here]\n",
    "This TMA question gives you the opportunity to demonstrate your mastery of the techniques in carrying out a small-scale data analysis. In the TMA, you will apply some of the ideas that you've seen in the module so far.\n",
    "Specifically, this question requires you to clean two datasets, combine and reshape them, and graphically present the cleaned data. All the techniques required to answer this question can be found in Parts 2-5, and are illustrated in the associated notebooks.\n",
    "AW: Unlike last year, I'm not going to ask the students to obtain the data, because we found that the sites were generally too fragile. I'm inclined to give them the data (and the date it was downloaded). I don't think that this will affect the first task in question 1 of looking at the site and talking about the provenance of the data.\n",
    "In question 1, you started looking at a dataset covering the wholesale values for fruit and vegetables for the years 2004-2012. In this question, you are required to combine some of the information from this dataset with data about the amount of orchard space in England and Wales, which you can download from this site:\n",
    "https://data.gov.uk/dataset/orchard_fruit_survey\n",
    "but which is also contained in the file orchfruit_ap&pr_30may13.csv in the datasets directory.\n",
    "For this question, you are asked to produce a graphical representation of the changes in average wholesale price and orchard space for each type of dessert apple grown in England and Wales.\n",
    "There are many ways you could approach this task, but one way might be to produce a pandas dataframe, containing the values so that for each variety of apple, and for each year, the average wholesale price for the year is listed, and the total orchard space given over to that variety. The final dataframe should look something like this:\n",
    "Apple variety\tYear\tAverage wholesale price\tOrchard space\n",
    "Cox\t2004\t45\t12\n",
    "Cox\t2012\t45\t12\n",
    "Worcester\t2004\t23\t1\n",
    "Worcester\t2012\t23\t1\n",
    "⋮⋮\t⋮⋮\t⋮⋮\t⋮⋮\n",
    "(although note that the figures 45, 12, 23 and 1 are just for illustration; they are not necessarily the correct values for the question).\n",
    "You should then construct one or more plots showing how the relationships between the variety of apple, the average wholesale price of that variety, and the England and Wales orchard space for each type has changed over the period 2004-2015. You should also give an explanation of what you believe the plot shows.\n",
    "This question requires that you complete a number of tasks:\n",
    "You need to examine the datasets. You should consider questions such as how missing data is handled, whether there is any dirtiness or ambiguity in the data, and any differences in how data is represented in the two datasets. This task uses the techniques described in Part 3, section 2.\n",
    "You will need to capture the data in a dataframe in the form described above. This task uses the techniques described in Part 3, section 3 and Part 4.\n",
    "Finally, you should select a visualisation method for the data in the dataset, and present a plot of the data, with a description of how you think it should be interpreted. This task uses the techniques described in Part 5.\n",
    "It is crucial for this question to bear in mind that at each stage, you must describe what you have done in sufficient detail that someone could replicate your work. This means that you must:\n",
    "explain what any code that you have written does, and execute it in the body of your submitted notebook,\n",
    "where you have used tools that are not accessed via python or the Notebooks (such as OpenRefine), you should include some screenshots to show what you did, and to help the marker understand your thinking,\n",
    "clearly explain any assumptions or simplifications that you have made about the data, and\n",
    "interpret your final results in the context of these assumptions and simplifications.\n",
    "Some guidance on presentation:\n",
    "You must present your answer in this notebook.\n",
    "Do not put too much text or code into each notebook cell. Each cell should contain one or two paragraphs at most, or around ten lines of python.\n",
    "Ensure that in your code, you use meaningful variable names.\n",
    "You should have a specific cell whose return value is the dataframe described above.\n",
    "You should have a specific cell which plots the data in the dataframe.\n",
    "(45 marks)\n",
    "\n",
    "#### Tutor Notes \n",
    "​\n",
    "For a good mark, the students should:\n",
    "​\n",
    "* identify that both datasets have missing data, although in both cases this is represented by an empty cell in the the spreadsheet,\n",
    "​\n",
    "* come up with a credible account of how they are interpreting the missing data: for the acreage dataset, this is often down to figures not being collected for particular varieties of apple, whereas for the wholesale price dataset, data is missing when the apples are (presumably) not in season,\n",
    "​\n",
    "* notice that most of the apple varieties are represented by different strings in the two datasets (eg. \"Cox’s Orange-group\" and \"Cox(andclones)\"), and take suitable steps to remedy this, either directly in pandas, or using a suitable tool such as OpenRefine,\n",
    "​\n",
    "* recognise that \"average wholesale price\" is very vague and open to interpretation (note especially that there is no average price given for, say, red pippins, in 2004: how should this be interpreted? Also, does it make sense to average all the prices over the year? and so on),\n",
    "​\n",
    "* provide a plot of the data with reasonably scaled and labelled axes etc.,\n",
    "​\n",
    "* and an interpretation of the plots to draw a conclusion about prices and land use.\n",
    "​\n",
    "It is important that this question is not attempting to find some sort of \"correct\" answer from the students. Rather, the question is aimed at getting the students to recognise the vagaries and problems of tasks that occur in genuine data investigations. Credit should be awarded for recognising the issues and proposing appropriate or realistic solutions, rather than steering students towards a single gold standard. In particular, we will meet many techniques for handling these uncertainties through the module: at this point it is more important that the students recognise the potential problems and have the confidence to suggest solutions, even if those solutions are not what we would hope for in the EMA.\n",
    "For example, I first generated a series of plots for different years, as:\n",
    "Test\n",
    "Test\n",
    "and so on for the rest of the years in the dataset,\n",
    "but equally valid responses would be to plot line graphs of the different varieties against time, or a separate scatter plot for each variety, plotting acreage against average price, and so on.\n"
   ]
  },
  {
   "cell_type": "code",
   "execution_count": null,
   "metadata": {
    "collapsed": true
   },
   "outputs": [],
   "source": [
    "Jupyter Notebook2017J_TMA01_q3-TN Last Checkpoint: 06/13/2017 (autosaved) Python 3\n",
    "Python 3 Trusted\n",
    "File\n",
    "Edit\n",
    "View\n",
    "Insert\n",
    "Cell\n",
    "Kernel\n",
    "Help\n",
    "   \n",
    "TMA 01, question 3\n",
    "Name: [Enter your name here]\n",
    "PI: [Enter your student id here]\n",
    "This TMA question gives you the opportunity to demonstrate your mastery of the techniques in carrying out a small-scale data analysis. In the TMA, you will apply some of the ideas that you've seen in the module so far.\n",
    "Specifically, this question requires you to clean two datasets, combine and reshape them, and graphically present the cleaned data. All the techniques required to answer this question can be found in Parts 2-5, and are illustrated in the associated notebooks.\n",
    "AW: Unlike last year, I'm not going to ask the students to obtain the data, because we found that the sites were generally too fragile. I'm inclined to give them the data (and the date it was downloaded). I don't think that this will affect the first task in question 1 of looking at the site and talking about the provenance of the data.\n",
    "In question 1, you started looking at a dataset covering the wholesale values for fruit and vegetables for the years 2004-2012. In this question, you are required to combine some of the information from this dataset with data about the amount of orchard space in England and Wales, which you can download from this site:\n",
    "https://data.gov.uk/dataset/orchard_fruit_survey\n",
    "but which is also contained in the file orchfruit_ap&pr_30may13.csv in the datasets directory.\n",
    "For this question, you are asked to produce a graphical representation of the changes in average wholesale price and orchard space for each type of dessert apple grown in England and Wales.\n",
    "There are many ways you could approach this task, but one way might be to produce a pandas dataframe, containing the values so that for each variety of apple, and for each year, the average wholesale price for the year is listed, and the total orchard space given over to that variety. The final dataframe should look something like this:\n",
    "Apple variety\tYear\tAverage wholesale price\tOrchard space\n",
    "Cox\t2004\t45\t12\n",
    "Cox\t2012\t45\t12\n",
    "Worcester\t2004\t23\t1\n",
    "Worcester\t2012\t23\t1\n",
    "⋮⋮\t⋮⋮\t⋮⋮\t⋮⋮\n",
    "(although note that the figures 45, 12, 23 and 1 are just for illustration; they are not necessarily the correct values for the question).\n",
    "You should then construct one or more plots showing how the relationships between the variety of apple, the average wholesale price of that variety, and the England and Wales orchard space for each type has changed over the period 2004-2015. You should also give an explanation of what you believe the plot shows.\n",
    "This question requires that you complete a number of tasks:\n",
    "You need to examine the datasets. You should consider questions such as how missing data is handled, whether there is any dirtiness or ambiguity in the data, and any differences in how data is represented in the two datasets. This task uses the techniques described in Part 3, section 2.\n",
    "You will need to capture the data in a dataframe in the form described above. This task uses the techniques described in Part 3, section 3 and Part 4.\n",
    "Finally, you should select a visualisation method for the data in the dataset, and present a plot of the data, with a description of how you think it should be interpreted. This task uses the techniques described in Part 5.\n",
    "It is crucial for this question to bear in mind that at each stage, you must describe what you have done in sufficient detail that someone could replicate your work. This means that you must:\n",
    "explain what any code that you have written does, and execute it in the body of your submitted notebook,\n",
    "where you have used tools that are not accessed via python or the Notebooks (such as OpenRefine), you should include some screenshots to show what you did, and to help the marker understand your thinking,\n",
    "clearly explain any assumptions or simplifications that you have made about the data, and\n",
    "interpret your final results in the context of these assumptions and simplifications.\n",
    "Some guidance on presentation:\n",
    "You must present your answer in this notebook.\n",
    "Do not put too much text or code into each notebook cell. Each cell should contain one or two paragraphs at most, or around ten lines of python.\n",
    "Ensure that in your code, you use meaningful variable names.\n",
    "You should have a specific cell whose return value is the dataframe described above.\n",
    "You should have a specific cell which plots the data in the dataframe.\n",
    "(45 marks)\n",
    "\n",
    "#### Tutor Notes \n",
    "​\n",
    "For a good mark, the students should:\n",
    "​\n",
    "* identify that both datasets have missing data, although in both cases this is represented by an empty cell in the the spreadsheet,\n",
    "​\n",
    "* come up with a credible account of how they are interpreting the missing data: for the acreage dataset, this is often down to figures not being collected for particular varieties of apple, whereas for the wholesale price dataset, data is missing when the apples are (presumably) not in season,\n",
    "​\n",
    "* notice that most of the apple varieties are represented by different strings in the two datasets (eg. \"Cox’s Orange-group\" and \"Cox(andclones)\"), and take suitable steps to remedy this, either directly in pandas, or using a suitable tool such as OpenRefine,\n",
    "​\n",
    "* recognise that \"average wholesale price\" is very vague and open to interpretation (note especially that there is no average price given for, say, red pippins, in 2004: how should this be interpreted? Also, does it make sense to average all the prices over the year? and so on),\n",
    "​\n",
    "* provide a plot of the data with reasonably scaled and labelled axes etc.,\n",
    "​\n",
    "* and an interpretation of the plots to draw a conclusion about prices and land use.\n",
    "​\n",
    "\n",
    "​\n",
    "It is important that this question is **not** attempting to find some sort of \"correct\" answer from the students. Rather, the question is aimed at getting the students to recognise the vagaries and problems of tasks that occur in genuine data investigations. Credit should be awarded for recognising the issues and proposing appropriate or realistic solutions, rather than steering students towards a single gold standard. In particular, we will meet many techniques for handling these uncertainties through the module: at this point it is more important that the students recognise the potential problems and have the confidence to suggest solutions, even if those solutions are not what we would hope for in the EMA.\n",
    "For example, I first generated a series of plots for different years, as:\n",
    "Test\n",
    "Test\n",
    "and so on for the rest of the years in the dataset,\n",
    "but equally valid responses would be to plot line graphs of the different varieties against time, or a separate scatter plot for each variety, plotting acreage against average price, and so on.\n"
   ]
  },
  {
   "cell_type": "code",
   "execution_count": null,
   "metadata": {
    "collapsed": true
   },
   "outputs": [],
   "source": [
    "For example, I first generated a series of plots for different years, as:"
   ]
  },
  {
   "cell_type": "code",
   "execution_count": null,
   "metadata": {
    "collapsed": true
   },
   "outputs": [],
   "source": [
    "![Test](./download1.png)\n",
    "\n",
    "![Test](./download2.png)\n",
    "\n",
    "and so on for the rest of the years in the dataset,"
   ]
  },
  {
   "cell_type": "code",
   "execution_count": null,
   "metadata": {
    "collapsed": true
   },
   "outputs": [],
   "source": [
    "Jupyter Notebook2017J_TMA01_q3-TN Last Checkpoint: 06/13/2017 (autosaved) Python 3\n",
    "Python 3 Trusted\n",
    "File\n",
    "Edit\n",
    "View\n",
    "Insert\n",
    "Cell\n",
    "Kernel\n",
    "Help\n",
    "   \n",
    "TMA 01, question 3\n",
    "Name: [Enter your name here]\n",
    "PI: [Enter your student id here]\n",
    "This TMA question gives you the opportunity to demonstrate your mastery of the techniques in carrying out a small-scale data analysis. In the TMA, you will apply some of the ideas that you've seen in the module so far.\n",
    "Specifically, this question requires you to clean two datasets, combine and reshape them, and graphically present the cleaned data. All the techniques required to answer this question can be found in Parts 2-5, and are illustrated in the associated notebooks.\n",
    "AW: Unlike last year, I'm not going to ask the students to obtain the data, because we found that the sites were generally too fragile. I'm inclined to give them the data (and the date it was downloaded). I don't think that this will affect the first task in question 1 of looking at the site and talking about the provenance of the data.\n",
    "In question 1, you started looking at a dataset covering the wholesale values for fruit and vegetables for the years 2004-2012. In this question, you are required to combine some of the information from this dataset with data about the amount of orchard space in England and Wales, which you can download from this site:\n",
    "https://data.gov.uk/dataset/orchard_fruit_survey\n",
    "but which is also contained in the file orchfruit_ap&pr_30may13.csv in the datasets directory.\n",
    "For this question, you are asked to produce a graphical representation of the changes in average wholesale price and orchard space for each type of dessert apple grown in England and Wales.\n",
    "There are many ways you could approach this task, but one way might be to produce a pandas dataframe, containing the values so that for each variety of apple, and for each year, the average wholesale price for the year is listed, and the total orchard space given over to that variety. The final dataframe should look something like this:\n",
    "Apple variety\tYear\tAverage wholesale price\tOrchard space\n",
    "Cox\t2004\t45\t12\n",
    "Cox\t2012\t45\t12\n",
    "Worcester\t2004\t23\t1\n",
    "Worcester\t2012\t23\t1\n",
    "⋮⋮\t⋮⋮\t⋮⋮\t⋮⋮\n",
    "(although note that the figures 45, 12, 23 and 1 are just for illustration; they are not necessarily the correct values for the question).\n",
    "You should then construct one or more plots showing how the relationships between the variety of apple, the average wholesale price of that variety, and the England and Wales orchard space for each type has changed over the period 2004-2015. You should also give an explanation of what you believe the plot shows.\n",
    "This question requires that you complete a number of tasks:\n",
    "You need to examine the datasets. You should consider questions such as how missing data is handled, whether there is any dirtiness or ambiguity in the data, and any differences in how data is represented in the two datasets. This task uses the techniques described in Part 3, section 2.\n",
    "You will need to capture the data in a dataframe in the form described above. This task uses the techniques described in Part 3, section 3 and Part 4.\n",
    "Finally, you should select a visualisation method for the data in the dataset, and present a plot of the data, with a description of how you think it should be interpreted. This task uses the techniques described in Part 5.\n",
    "It is crucial for this question to bear in mind that at each stage, you must describe what you have done in sufficient detail that someone could replicate your work. This means that you must:\n",
    "explain what any code that you have written does, and execute it in the body of your submitted notebook,\n",
    "where you have used tools that are not accessed via python or the Notebooks (such as OpenRefine), you should include some screenshots to show what you did, and to help the marker understand your thinking,\n",
    "clearly explain any assumptions or simplifications that you have made about the data, and\n",
    "interpret your final results in the context of these assumptions and simplifications.\n",
    "Some guidance on presentation:\n",
    "You must present your answer in this notebook.\n",
    "Do not put too much text or code into each notebook cell. Each cell should contain one or two paragraphs at most, or around ten lines of python.\n",
    "Ensure that in your code, you use meaningful variable names.\n",
    "You should have a specific cell whose return value is the dataframe described above.\n",
    "You should have a specific cell which plots the data in the dataframe.\n",
    "(45 marks)\n",
    "\n",
    "#### Tutor Notes \n",
    "​\n",
    "For a good mark, the students should:\n",
    "​\n",
    "* identify that both datasets have missing data, although in both cases this is represented by an empty cell in the the spreadsheet,\n",
    "​\n",
    "* come up with a credible account of how they are interpreting the missing data: for the acreage dataset, this is often down to figures not being collected for particular varieties of apple, whereas for the wholesale price dataset, data is missing when the apples are (presumably) not in season,\n",
    "​\n",
    "* notice that most of the apple varieties are represented by different strings in the two datasets (eg. \"Cox’s Orange-group\" and \"Cox(andclones)\"), and take suitable steps to remedy this, either directly in pandas, or using a suitable tool such as OpenRefine,\n",
    "​\n",
    "* recognise that \"average wholesale price\" is very vague and open to interpretation (note especially that there is no average price given for, say, red pippins, in 2004: how should this be interpreted? Also, does it make sense to average all the prices over the year? and so on),\n",
    "​\n",
    "* provide a plot of the data with reasonably scaled and labelled axes etc.,\n",
    "​\n",
    "* and an interpretation of the plots to draw a conclusion about prices and land use.\n",
    "​\n",
    "\n",
    "​\n",
    "It is important that this question is **not** attempting to find some sort of \"correct\" answer from the students. Rather, the question is aimed at getting the students to recognise the vagaries and problems of tasks that occur in genuine data investigations. Credit should be awarded for recognising the issues and proposing appropriate or realistic solutions, rather than steering students towards a single gold standard. In particular, we will meet many techniques for handling these uncertainties through the module: at this point it is more important that the students recognise the potential problems and have the confidence to suggest solutions, even if those solutions are not what we would hope for in the EMA.\n",
    "\n",
    "For example, I first generated a series of plots for different years, as:\n",
    "For example, I first generated a series of plots for different years, as:\n",
    "\n",
    "![Test](./download1.png)\n",
    "\n",
    "![Test](./download2.png)\n",
    "\n",
    "and so on for the rest of the years in the dataset,\n",
    "![Test](./download1.png)\n",
    "​\n",
    "![Test](./download2.png)\n",
    "​\n",
    "and so on for the rest of the years in the dataset,\n",
    "\n",
    "but equally valid responses would be to plot line graphs of the different varieties against time, or a separate scatter plot for each variety, plotting acreage against average price, and so on.\n"
   ]
  }
 ],
 "metadata": {
  "kernelspec": {
   "display_name": "Python 3",
   "language": "python",
   "name": "python3"
  },
  "language_info": {
   "codemirror_mode": {
    "name": "ipython",
    "version": 3
   },
   "file_extension": ".py",
   "mimetype": "text/x-python",
   "name": "python",
   "nbconvert_exporter": "python",
   "pygments_lexer": "ipython3",
   "version": "3.5.2"
  }
 },
 "nbformat": 4,
 "nbformat_minor": 1
}
