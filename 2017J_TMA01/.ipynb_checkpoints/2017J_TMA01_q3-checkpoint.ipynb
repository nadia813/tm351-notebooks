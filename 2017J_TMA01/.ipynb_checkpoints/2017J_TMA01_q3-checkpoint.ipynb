{
 "cells": [
  {
   "cell_type": "markdown",
   "metadata": {},
   "source": [
    "# TMA 01, question 3 (45 marks)"
   ]
  },
  {
   "cell_type": "markdown",
   "metadata": {},
   "source": [
    "**Name**: Daniel Smith\n",
    "    \n",
    "**PI**: A7603242"
   ]
  },
  {
   "cell_type": "markdown",
   "metadata": {},
   "source": [
    "### The task"
   ]
  },
  {
   "cell_type": "markdown",
   "metadata": {
    "collapsed": true
   },
   "source": [
    "In question 1, you started looking at a dataset covering the wholesale values for fruit and vegetables for the years 2004-2012. The dataset was available at:\n",
    "\n",
    "https://data.gov.uk/dataset/agricultural_market_reports\n",
    "    \n",
    "The entire dataset is available for download, but we have also provided a download of the data in the file <code>fruitveg.csv</code> in the <code>data</code> directory.\n",
    "\n",
    "Visit the website via the above link, read the description of the data and then answer the following questions."
   ]
  },
  {
   "cell_type": "markdown",
   "metadata": {
    "collapsed": true
   },
   "source": [
    "You are now required to combine some of the information from this dataset with data about the amount of orchard space in England and Wales, which you can download from this site:\n",
    "\n",
    "    https://data.gov.uk/dataset/orchard_fruit_survey\n",
    "\n",
    "but which is also contained in the file <code>orchfruit_ap&pr_30may13.csv</code> in the <code>data</code> directory."
   ]
  },
  {
   "cell_type": "markdown",
   "metadata": {},
   "source": [
    "**You must produce a graphical representation of the changes in average wholesale price and orchard space for each type of dessert apple grown in England and Wales. You should then discuss what your representation shows.**"
   ]
  },
  {
   "cell_type": "markdown",
   "metadata": {},
   "source": [
    "*(45 marks)*"
   ]
  },
  {
   "cell_type": "markdown",
   "metadata": {},
   "source": [
    "### Some guidance"
   ]
  },
  {
   "cell_type": "markdown",
   "metadata": {
    "collapsed": true
   },
   "source": [
    "This TMA question gives you the opportunity to demonstrate your mastery of the techniques in carrying out a small-scale data analysis. Specifically, this question requires you to clean two datasets, combine and reshape them, and graphically present the cleaned data. All the techniques required to answer this question can be found in Parts 2-5, and are illustrated in the associated notebooks."
   ]
  },
  {
   "cell_type": "markdown",
   "metadata": {},
   "source": [
    "There are many ways you could approach this task, but one way might be to produce a pandas dataframe, containing the values so that for each variety of apple, and for each year, the average wholesale price for the year is listed, and the total orchard space given over to that variety. The final dataframe could look something like this:\n"
   ]
  },
  {
   "cell_type": "markdown",
   "metadata": {},
   "source": [
    "\n",
    "|Apple variety|Year|Average wholesale price|Orchard space|\n",
    "|---|---|---|---|\n",
    "|Cox|2004 | 45 | 12 |\n",
    "|Cox|2012 | 45 | 12 |\n",
    "|Worcester|2004 | 23 | 1 |\n",
    "|Worcester|2012 | 23 | 1 |\n",
    "|$\\vdots$ | $\\vdots$ | $\\vdots$ | $\\vdots$ |"
   ]
  },
  {
   "cell_type": "markdown",
   "metadata": {},
   "source": [
    "\n",
    "(although note that the figures 45, 12, 23 and 1 are just for illustration; they are not necessarily the correct values for the question).\n"
   ]
  },
  {
   "cell_type": "markdown",
   "metadata": {},
   "source": [
    "You should then construct one or more plots showing how the relationships between the type of apple, the average wholesale price of that type, and the England and Wales orchard space for each type has changed over the period 2004-2015. You should also give an explanation of what you believe the plot shows."
   ]
  },
  {
   "cell_type": "markdown",
   "metadata": {},
   "source": [
    "This question requires that you complete a number of tasks:\n",
    "\n",
    "1. You need to examine the datasets. You should consider questions such as how missing data is handled, whether there is any dirtiness or ambiguity in the data, and any differences in how data is represented in the two datasets. This task uses the techniques described in Part 3, section 2.\n",
    "\n",
    "2. You will need to capture the data in a dataframe in the form described above. This task uses the techniques described in Part 3, section 3 and Part 4.\n",
    "\n",
    "3. Finally, you should select a visualisation method for the data in the dataset, and present a plot of the data, with a description of how you think it should be interpreted. This task uses the techniques described in Part 5. We are not prescribing a particular choice of visualisation: you should choose one that you think is appropriate.\n"
   ]
  },
  {
   "cell_type": "markdown",
   "metadata": {},
   "source": [
    "It is crucial for this question to bear in mind that at each stage, you must describe what you have done in sufficient detail that someone could replicate your work. This means that you must:\n",
    "\n",
    "* explain what any code that you have written does, and execute it in the body of your submitted notebook,\n",
    "\n",
    "* where you have used tools that are not accessed via python or the notebooks (such as OpenRefine), you should include some screenshots to show what you did, and to help the marker understand your thinking,\n",
    "\n",
    "* clearly explain any assumptions or simplifications that you have made about the data, and\n",
    "\n",
    "* interpret your final results in the context of these assumptions and simplifications.\n"
   ]
  },
  {
   "cell_type": "markdown",
   "metadata": {},
   "source": [
    "Some guidance on presentation:\n",
    "\n",
    "* You must present your answer in this notebook.\n",
    "    \n",
    "* Do not put too much text or code into each notebook cell. Each cell should contain one or two paragraphs at most, or around ten lines of python.\n",
    "\n",
    "* Ensure that in your code, you use meaningful variable names.\n",
    "\n",
    "* You should have a specific cell whose return value is the dataframe described above.\n",
    "\n",
    "* You should have a specific cell which plots the data in the dataframe."
   ]
  },
  {
   "cell_type": "markdown",
   "metadata": {},
   "source": [
    "We have provided a structure for your answer, and you should describe your work under the appropriate headings in the rest of the TMA. The headings do not represent equal amounts of work, nor do they necessarily carry the same weight as the equivalent headings in question 2, because different datasets and different tasks require the effort to be spent in different places. You may need to use several cells to address a particular heading. For example, you would expect to present substantially more work on identifying and handling the missing data, than on importing the datasets. "
   ]
  },
  {
   "cell_type": "markdown",
   "metadata": {},
   "source": [
    "### Your answer"
   ]
  },
  {
   "cell_type": "markdown",
   "metadata": {},
   "source": [
    "#### 1. Import the two datasets"
   ]
  },
  {
   "cell_type": "code",
   "execution_count": 1,
   "metadata": {
    "collapsed": true
   },
   "outputs": [],
   "source": [
    "# import libraries that will be used\n",
    "import pandas as pd\n",
    "import matplotlib.pyplot as plt\n",
    "import seaborn as sn"
   ]
  },
  {
   "cell_type": "markdown",
   "metadata": {},
   "source": [
    "##### The FruitVeg data\n",
    "When I first tried to open this dataset it was giving errors, after some experimenting I realised that although it was a CSV file it was a tab separated format. "
   ]
  },
  {
   "cell_type": "code",
   "execution_count": 2,
   "metadata": {},
   "outputs": [
    {
     "data": {
      "text/html": [
       "<div>\n",
       "<style>\n",
       "    .dataframe thead tr:only-child th {\n",
       "        text-align: right;\n",
       "    }\n",
       "\n",
       "    .dataframe thead th {\n",
       "        text-align: left;\n",
       "    }\n",
       "\n",
       "    .dataframe tbody tr th {\n",
       "        vertical-align: top;\n",
       "    }\n",
       "</style>\n",
       "<table border=\"1\" class=\"dataframe\">\n",
       "  <thead>\n",
       "    <tr style=\"text-align: right;\">\n",
       "      <th></th>\n",
       "      <th>2004</th>\n",
       "      <th>Unnamed: 1</th>\n",
       "      <th>Quality</th>\n",
       "      <th>Units</th>\n",
       "      <th>Jan</th>\n",
       "      <th>Feb</th>\n",
       "      <th>Mar</th>\n",
       "      <th>Apr</th>\n",
       "      <th>May</th>\n",
       "      <th>Jun</th>\n",
       "      <th>Jul</th>\n",
       "      <th>Aug</th>\n",
       "      <th>Sep</th>\n",
       "      <th>Oct</th>\n",
       "      <th>Nov</th>\n",
       "      <th>Dec</th>\n",
       "    </tr>\n",
       "  </thead>\n",
       "  <tbody>\n",
       "    <tr>\n",
       "      <th>0</th>\n",
       "      <td>FRUIT</td>\n",
       "      <td>NaN</td>\n",
       "      <td>NaN</td>\n",
       "      <td>NaN</td>\n",
       "      <td>NaN</td>\n",
       "      <td>NaN</td>\n",
       "      <td>NaN</td>\n",
       "      <td>NaN</td>\n",
       "      <td>NaN</td>\n",
       "      <td>NaN</td>\n",
       "      <td>NaN</td>\n",
       "      <td>NaN</td>\n",
       "      <td>NaN</td>\n",
       "      <td>NaN</td>\n",
       "      <td>NaN</td>\n",
       "      <td>NaN</td>\n",
       "    </tr>\n",
       "    <tr>\n",
       "      <th>1</th>\n",
       "      <td>Blackberries</td>\n",
       "      <td>All Varieties</td>\n",
       "      <td>-</td>\n",
       "      <td>£/kg</td>\n",
       "      <td>NaN</td>\n",
       "      <td>NaN</td>\n",
       "      <td>NaN</td>\n",
       "      <td>NaN</td>\n",
       "      <td>NaN</td>\n",
       "      <td>NaN</td>\n",
       "      <td>3.26</td>\n",
       "      <td>3.24</td>\n",
       "      <td>3.61</td>\n",
       "      <td>5.06</td>\n",
       "      <td>NaN</td>\n",
       "      <td>NaN</td>\n",
       "    </tr>\n",
       "    <tr>\n",
       "      <th>2</th>\n",
       "      <td>Blackcurrants</td>\n",
       "      <td>All Varieties</td>\n",
       "      <td>-</td>\n",
       "      <td>£/kg</td>\n",
       "      <td>NaN</td>\n",
       "      <td>NaN</td>\n",
       "      <td>NaN</td>\n",
       "      <td>NaN</td>\n",
       "      <td>NaN</td>\n",
       "      <td>NaN</td>\n",
       "      <td>3.32</td>\n",
       "      <td>3.53</td>\n",
       "      <td>NaN</td>\n",
       "      <td>NaN</td>\n",
       "      <td>NaN</td>\n",
       "      <td>NaN</td>\n",
       "    </tr>\n",
       "    <tr>\n",
       "      <th>3</th>\n",
       "      <td>Cherries</td>\n",
       "      <td>Sweet Black</td>\n",
       "      <td>1st</td>\n",
       "      <td>£/kg</td>\n",
       "      <td>NaN</td>\n",
       "      <td>NaN</td>\n",
       "      <td>NaN</td>\n",
       "      <td>NaN</td>\n",
       "      <td>NaN</td>\n",
       "      <td>1.69</td>\n",
       "      <td>1.72</td>\n",
       "      <td>3.68</td>\n",
       "      <td>NaN</td>\n",
       "      <td>NaN</td>\n",
       "      <td>NaN</td>\n",
       "      <td>NaN</td>\n",
       "    </tr>\n",
       "    <tr>\n",
       "      <th>4</th>\n",
       "      <td>NaN</td>\n",
       "      <td>Sweet Black</td>\n",
       "      <td>2nd</td>\n",
       "      <td>£/kg</td>\n",
       "      <td>NaN</td>\n",
       "      <td>NaN</td>\n",
       "      <td>NaN</td>\n",
       "      <td>NaN</td>\n",
       "      <td>NaN</td>\n",
       "      <td>1.11</td>\n",
       "      <td>1.08</td>\n",
       "      <td>NaN</td>\n",
       "      <td>NaN</td>\n",
       "      <td>NaN</td>\n",
       "      <td>NaN</td>\n",
       "      <td>NaN</td>\n",
       "    </tr>\n",
       "  </tbody>\n",
       "</table>\n",
       "</div>"
      ],
      "text/plain": [
       "            2004     Unnamed: 1 Quality Units  Jan  Feb  Mar  Apr  May   Jun  \\\n",
       "0          FRUIT            NaN     NaN   NaN  NaN  NaN  NaN  NaN  NaN   NaN   \n",
       "1   Blackberries  All Varieties       -  £/kg  NaN  NaN  NaN  NaN  NaN   NaN   \n",
       "2  Blackcurrants  All Varieties       -  £/kg  NaN  NaN  NaN  NaN  NaN   NaN   \n",
       "3       Cherries    Sweet Black     1st  £/kg  NaN  NaN  NaN  NaN  NaN  1.69   \n",
       "4            NaN    Sweet Black     2nd  £/kg  NaN  NaN  NaN  NaN  NaN  1.11   \n",
       "\n",
       "    Jul   Aug   Sep   Oct  Nov  Dec  \n",
       "0   NaN   NaN   NaN   NaN  NaN  NaN  \n",
       "1  3.26  3.24  3.61  5.06  NaN  NaN  \n",
       "2  3.32  3.53   NaN   NaN  NaN  NaN  \n",
       "3  1.72  3.68   NaN   NaN  NaN  NaN  \n",
       "4  1.08   NaN   NaN   NaN  NaN  NaN  "
      ]
     },
     "execution_count": 2,
     "metadata": {},
     "output_type": "execute_result"
    }
   ],
   "source": [
    "# load the fruitveg dataset\n",
    "# this csv file uses a tab seperator '\\t'\n",
    "fruitveg_df = pd.read_csv('data/fruitveg.csv', sep='\\t')\n",
    "fruitveg_df.head()"
   ]
  },
  {
   "cell_type": "code",
   "execution_count": 3,
   "metadata": {},
   "outputs": [
    {
     "data": {
      "text/plain": [
       "2040"
      ]
     },
     "execution_count": 3,
     "metadata": {},
     "output_type": "execute_result"
    }
   ],
   "source": [
    "# check how long the dataset is\n",
    "len(fruitveg_df)"
   ]
  },
  {
   "cell_type": "markdown",
   "metadata": {},
   "source": [
    "##### The orchards data\n",
    "This dataset was more straightforward to import."
   ]
  },
  {
   "cell_type": "code",
   "execution_count": 4,
   "metadata": {},
   "outputs": [
    {
     "data": {
      "text/html": [
       "<div>\n",
       "<style>\n",
       "    .dataframe thead tr:only-child th {\n",
       "        text-align: right;\n",
       "    }\n",
       "\n",
       "    .dataframe thead th {\n",
       "        text-align: left;\n",
       "    }\n",
       "\n",
       "    .dataframe tbody tr th {\n",
       "        vertical-align: top;\n",
       "    }\n",
       "</style>\n",
       "<table border=\"1\" class=\"dataframe\">\n",
       "  <thead>\n",
       "    <tr style=\"text-align: right;\">\n",
       "      <th></th>\n",
       "      <th>year</th>\n",
       "      <th>Totalapples</th>\n",
       "      <th>Discovery</th>\n",
       "      <th>WorcesterPearmain</th>\n",
       "      <th>Cox(andclones)</th>\n",
       "      <th>EgremontRusset</th>\n",
       "      <th>Braeburn</th>\n",
       "      <th>Gala(andclones)</th>\n",
       "      <th>Jonagold(andclones)</th>\n",
       "      <th>Cameo</th>\n",
       "      <th>...</th>\n",
       "      <th>Cider apples of which:</th>\n",
       "      <th>Bush cider apples</th>\n",
       "      <th>Traditional cider apples</th>\n",
       "      <th>Total plums</th>\n",
       "      <th>Victoria</th>\n",
       "      <th>Marjorie's Seedling</th>\n",
       "      <th>Other plums</th>\n",
       "      <th>Total other orchard fruit</th>\n",
       "      <th>Cherries</th>\n",
       "      <th>Other top fruit (incl. nuts)</th>\n",
       "    </tr>\n",
       "  </thead>\n",
       "  <tbody>\n",
       "    <tr>\n",
       "      <th>0</th>\n",
       "      <td>1999</td>\n",
       "      <td>1709.0</td>\n",
       "      <td>577.0</td>\n",
       "      <td>294.0</td>\n",
       "      <td>4694.0</td>\n",
       "      <td>325.0</td>\n",
       "      <td>NaN</td>\n",
       "      <td>757.0</td>\n",
       "      <td>400.0</td>\n",
       "      <td>NaN</td>\n",
       "      <td>...</td>\n",
       "      <td>4996.0</td>\n",
       "      <td>NaN</td>\n",
       "      <td>NaN</td>\n",
       "      <td>1367.0</td>\n",
       "      <td>788.0</td>\n",
       "      <td>164.0</td>\n",
       "      <td>415.0</td>\n",
       "      <td>748.0</td>\n",
       "      <td>591.0</td>\n",
       "      <td>157.0</td>\n",
       "    </tr>\n",
       "    <tr>\n",
       "      <th>1</th>\n",
       "      <td>2000</td>\n",
       "      <td>16500.0</td>\n",
       "      <td>484.0</td>\n",
       "      <td>283.0</td>\n",
       "      <td>4186.0</td>\n",
       "      <td>334.0</td>\n",
       "      <td>NaN</td>\n",
       "      <td>828.0</td>\n",
       "      <td>353.0</td>\n",
       "      <td>NaN</td>\n",
       "      <td>...</td>\n",
       "      <td>5043.0</td>\n",
       "      <td>4024.0</td>\n",
       "      <td>1019.0</td>\n",
       "      <td>1213.0</td>\n",
       "      <td>659.0</td>\n",
       "      <td>170.0</td>\n",
       "      <td>384.0</td>\n",
       "      <td>590.0</td>\n",
       "      <td>459.0</td>\n",
       "      <td>131.0</td>\n",
       "    </tr>\n",
       "    <tr>\n",
       "      <th>2</th>\n",
       "      <td>2001</td>\n",
       "      <td>16983.0</td>\n",
       "      <td>420.0</td>\n",
       "      <td>207.0</td>\n",
       "      <td>3489.0</td>\n",
       "      <td>331.0</td>\n",
       "      <td>NaN</td>\n",
       "      <td>719.0</td>\n",
       "      <td>257.0</td>\n",
       "      <td>NaN</td>\n",
       "      <td>...</td>\n",
       "      <td>7010.0</td>\n",
       "      <td>4657.0</td>\n",
       "      <td>2353.0</td>\n",
       "      <td>1072.0</td>\n",
       "      <td>543.0</td>\n",
       "      <td>152.0</td>\n",
       "      <td>377.0</td>\n",
       "      <td>700.0</td>\n",
       "      <td>473.0</td>\n",
       "      <td>227.0</td>\n",
       "    </tr>\n",
       "    <tr>\n",
       "      <th>3</th>\n",
       "      <td>2002</td>\n",
       "      <td>15110.0</td>\n",
       "      <td>339.0</td>\n",
       "      <td>196.0</td>\n",
       "      <td>3015.0</td>\n",
       "      <td>268.0</td>\n",
       "      <td>NaN</td>\n",
       "      <td>663.0</td>\n",
       "      <td>201.0</td>\n",
       "      <td>NaN</td>\n",
       "      <td>...</td>\n",
       "      <td>6738.0</td>\n",
       "      <td>4304.0</td>\n",
       "      <td>2434.0</td>\n",
       "      <td>947.0</td>\n",
       "      <td>493.0</td>\n",
       "      <td>148.0</td>\n",
       "      <td>306.0</td>\n",
       "      <td>579.0</td>\n",
       "      <td>428.0</td>\n",
       "      <td>151.0</td>\n",
       "    </tr>\n",
       "    <tr>\n",
       "      <th>4</th>\n",
       "      <td>2003</td>\n",
       "      <td>14346.0</td>\n",
       "      <td>264.0</td>\n",
       "      <td>147.0</td>\n",
       "      <td>2738.0</td>\n",
       "      <td>264.0</td>\n",
       "      <td>306.0</td>\n",
       "      <td>674.0</td>\n",
       "      <td>227.0</td>\n",
       "      <td>NaN</td>\n",
       "      <td>...</td>\n",
       "      <td>6551.0</td>\n",
       "      <td>4909.0</td>\n",
       "      <td>1642.0</td>\n",
       "      <td>1003.0</td>\n",
       "      <td>474.0</td>\n",
       "      <td>152.0</td>\n",
       "      <td>377.0</td>\n",
       "      <td>522.0</td>\n",
       "      <td>381.0</td>\n",
       "      <td>140.0</td>\n",
       "    </tr>\n",
       "  </tbody>\n",
       "</table>\n",
       "<p>5 rows × 28 columns</p>\n",
       "</div>"
      ],
      "text/plain": [
       "   year  Totalapples  Discovery  WorcesterPearmain  Cox(andclones)  \\\n",
       "0  1999       1709.0      577.0              294.0          4694.0   \n",
       "1  2000      16500.0      484.0              283.0          4186.0   \n",
       "2  2001      16983.0      420.0              207.0          3489.0   \n",
       "3  2002      15110.0      339.0              196.0          3015.0   \n",
       "4  2003      14346.0      264.0              147.0          2738.0   \n",
       "\n",
       "   EgremontRusset  Braeburn  Gala(andclones)  Jonagold(andclones)  Cameo  \\\n",
       "0           325.0       NaN            757.0                400.0    NaN   \n",
       "1           334.0       NaN            828.0                353.0    NaN   \n",
       "2           331.0       NaN            719.0                257.0    NaN   \n",
       "3           268.0       NaN            663.0                201.0    NaN   \n",
       "4           264.0     306.0            674.0                227.0    NaN   \n",
       "\n",
       "               ...               Cider apples of which:  Bush cider apples  \\\n",
       "0              ...                               4996.0                NaN   \n",
       "1              ...                               5043.0             4024.0   \n",
       "2              ...                               7010.0             4657.0   \n",
       "3              ...                               6738.0             4304.0   \n",
       "4              ...                               6551.0             4909.0   \n",
       "\n",
       "   Traditional cider apples  Total plums  Victoria  Marjorie's Seedling  \\\n",
       "0                       NaN       1367.0     788.0                164.0   \n",
       "1                    1019.0       1213.0     659.0                170.0   \n",
       "2                    2353.0       1072.0     543.0                152.0   \n",
       "3                    2434.0        947.0     493.0                148.0   \n",
       "4                    1642.0       1003.0     474.0                152.0   \n",
       "\n",
       "   Other plums  Total other orchard fruit  Cherries  \\\n",
       "0        415.0                      748.0     591.0   \n",
       "1        384.0                      590.0     459.0   \n",
       "2        377.0                      700.0     473.0   \n",
       "3        306.0                      579.0     428.0   \n",
       "4        377.0                      522.0     381.0   \n",
       "\n",
       "   Other top fruit (incl. nuts)  \n",
       "0                         157.0  \n",
       "1                         131.0  \n",
       "2                         227.0  \n",
       "3                         151.0  \n",
       "4                         140.0  \n",
       "\n",
       "[5 rows x 28 columns]"
      ]
     },
     "execution_count": 4,
     "metadata": {},
     "output_type": "execute_result"
    }
   ],
   "source": [
    "# load the orchards dataset\n",
    "orchards_df = pd.read_csv('data/orchfruit_ap&pr_30may13.csv')\n",
    "\n",
    "orchards_df.head()"
   ]
  },
  {
   "cell_type": "markdown",
   "metadata": {},
   "source": [
    "#### 2. Identify and handle missing data"
   ]
  },
  {
   "cell_type": "markdown",
   "metadata": {
    "collapsed": true
   },
   "source": [
    "On first inspection both dataframes show that there is a lot of missing data.  Looking at each file in turn.\n",
    "##### 2.1 - Fruitveg missing data\n",
    "\n"
   ]
  },
  {
   "cell_type": "code",
   "execution_count": 5,
   "metadata": {},
   "outputs": [
    {
     "data": {
      "text/html": [
       "<div>\n",
       "<style>\n",
       "    .dataframe thead tr:only-child th {\n",
       "        text-align: right;\n",
       "    }\n",
       "\n",
       "    .dataframe thead th {\n",
       "        text-align: left;\n",
       "    }\n",
       "\n",
       "    .dataframe tbody tr th {\n",
       "        vertical-align: top;\n",
       "    }\n",
       "</style>\n",
       "<table border=\"1\" class=\"dataframe\">\n",
       "  <thead>\n",
       "    <tr style=\"text-align: right;\">\n",
       "      <th></th>\n",
       "      <th>2004</th>\n",
       "      <th>Unnamed: 1</th>\n",
       "      <th>Quality</th>\n",
       "      <th>Units</th>\n",
       "      <th>Jan</th>\n",
       "      <th>Feb</th>\n",
       "      <th>Mar</th>\n",
       "      <th>Apr</th>\n",
       "      <th>May</th>\n",
       "      <th>Jun</th>\n",
       "      <th>Jul</th>\n",
       "      <th>Aug</th>\n",
       "      <th>Sep</th>\n",
       "      <th>Oct</th>\n",
       "      <th>Nov</th>\n",
       "      <th>Dec</th>\n",
       "    </tr>\n",
       "  </thead>\n",
       "  <tbody>\n",
       "    <tr>\n",
       "      <th>0</th>\n",
       "      <td>FRUIT</td>\n",
       "      <td>NaN</td>\n",
       "      <td>NaN</td>\n",
       "      <td>NaN</td>\n",
       "      <td>NaN</td>\n",
       "      <td>NaN</td>\n",
       "      <td>NaN</td>\n",
       "      <td>NaN</td>\n",
       "      <td>NaN</td>\n",
       "      <td>NaN</td>\n",
       "      <td>NaN</td>\n",
       "      <td>NaN</td>\n",
       "      <td>NaN</td>\n",
       "      <td>NaN</td>\n",
       "      <td>NaN</td>\n",
       "      <td>NaN</td>\n",
       "    </tr>\n",
       "    <tr>\n",
       "      <th>1</th>\n",
       "      <td>Blackberries</td>\n",
       "      <td>All Varieties</td>\n",
       "      <td>-</td>\n",
       "      <td>£/kg</td>\n",
       "      <td>NaN</td>\n",
       "      <td>NaN</td>\n",
       "      <td>NaN</td>\n",
       "      <td>NaN</td>\n",
       "      <td>NaN</td>\n",
       "      <td>NaN</td>\n",
       "      <td>3.26</td>\n",
       "      <td>3.24</td>\n",
       "      <td>3.61</td>\n",
       "      <td>5.06</td>\n",
       "      <td>NaN</td>\n",
       "      <td>NaN</td>\n",
       "    </tr>\n",
       "    <tr>\n",
       "      <th>2</th>\n",
       "      <td>Blackcurrants</td>\n",
       "      <td>All Varieties</td>\n",
       "      <td>-</td>\n",
       "      <td>£/kg</td>\n",
       "      <td>NaN</td>\n",
       "      <td>NaN</td>\n",
       "      <td>NaN</td>\n",
       "      <td>NaN</td>\n",
       "      <td>NaN</td>\n",
       "      <td>NaN</td>\n",
       "      <td>3.32</td>\n",
       "      <td>3.53</td>\n",
       "      <td>NaN</td>\n",
       "      <td>NaN</td>\n",
       "      <td>NaN</td>\n",
       "      <td>NaN</td>\n",
       "    </tr>\n",
       "    <tr>\n",
       "      <th>3</th>\n",
       "      <td>Cherries</td>\n",
       "      <td>Sweet Black</td>\n",
       "      <td>1st</td>\n",
       "      <td>£/kg</td>\n",
       "      <td>NaN</td>\n",
       "      <td>NaN</td>\n",
       "      <td>NaN</td>\n",
       "      <td>NaN</td>\n",
       "      <td>NaN</td>\n",
       "      <td>1.69</td>\n",
       "      <td>1.72</td>\n",
       "      <td>3.68</td>\n",
       "      <td>NaN</td>\n",
       "      <td>NaN</td>\n",
       "      <td>NaN</td>\n",
       "      <td>NaN</td>\n",
       "    </tr>\n",
       "    <tr>\n",
       "      <th>4</th>\n",
       "      <td>NaN</td>\n",
       "      <td>Sweet Black</td>\n",
       "      <td>2nd</td>\n",
       "      <td>£/kg</td>\n",
       "      <td>NaN</td>\n",
       "      <td>NaN</td>\n",
       "      <td>NaN</td>\n",
       "      <td>NaN</td>\n",
       "      <td>NaN</td>\n",
       "      <td>1.11</td>\n",
       "      <td>1.08</td>\n",
       "      <td>NaN</td>\n",
       "      <td>NaN</td>\n",
       "      <td>NaN</td>\n",
       "      <td>NaN</td>\n",
       "      <td>NaN</td>\n",
       "    </tr>\n",
       "  </tbody>\n",
       "</table>\n",
       "</div>"
      ],
      "text/plain": [
       "            2004     Unnamed: 1 Quality Units  Jan  Feb  Mar  Apr  May   Jun  \\\n",
       "0          FRUIT            NaN     NaN   NaN  NaN  NaN  NaN  NaN  NaN   NaN   \n",
       "1   Blackberries  All Varieties       -  £/kg  NaN  NaN  NaN  NaN  NaN   NaN   \n",
       "2  Blackcurrants  All Varieties       -  £/kg  NaN  NaN  NaN  NaN  NaN   NaN   \n",
       "3       Cherries    Sweet Black     1st  £/kg  NaN  NaN  NaN  NaN  NaN  1.69   \n",
       "4            NaN    Sweet Black     2nd  £/kg  NaN  NaN  NaN  NaN  NaN  1.11   \n",
       "\n",
       "    Jul   Aug   Sep   Oct  Nov  Dec  \n",
       "0   NaN   NaN   NaN   NaN  NaN  NaN  \n",
       "1  3.26  3.24  3.61  5.06  NaN  NaN  \n",
       "2  3.32  3.53   NaN   NaN  NaN  NaN  \n",
       "3  1.72  3.68   NaN   NaN  NaN  NaN  \n",
       "4  1.08   NaN   NaN   NaN  NaN  NaN  "
      ]
     },
     "execution_count": 5,
     "metadata": {},
     "output_type": "execute_result"
    }
   ],
   "source": [
    "fruitveg_df.head()"
   ]
  },
  {
   "cell_type": "markdown",
   "metadata": {},
   "source": [
    "Even by previewing the first few rows we can see that there are a few issues with missing data:\n",
    "\n",
    "__No Year column__: The first column has mixed values. And each row is not clearly associated with a given year.\n",
    "\n",
    "__Missing price data__: A lot of the pricing values are missing.  This could cause an issue when we do calculations based on these data.\n",
    "\n",
    "_Note: At this stage I decided I would switch to OpenRefine to make it easier to look through the whole dataset, make mass edits, and better inform my decision on the price information._\n",
    "\n",
    "###### Using OpenRefine\n",
    "Creating a new OpenRefine project named apples_dcs283 with the following import settings:\n",
    "\n",
    "<img src='images/fv001.png'>"
   ]
  },
  {
   "cell_type": "markdown",
   "metadata": {},
   "source": [
    "__Adding a year column__\n",
    "\n",
    "Running a text facet on the first column we can see there are a number of Year rows in the first column that need to be copied into the new `Year` column.\n",
    "The following steps were taken:\n",
    "\n",
    "__Step 1__ - Rename the first column to `Fruit` and edit it's first cell value to `2004` (essentially swapping the two)Fruit\n",
    "\n",
    "_Before_\n",
    "<img src='images/fv_001a.png'> \n",
    "\n",
    "_After_ \n",
    "<img src='images/fv_001b.png'>"
   ]
  },
  {
   "cell_type": "markdown",
   "metadata": {},
   "source": [
    "__Step 2__ - Run a text facet on the `Fruit` column and include all the years, then add a column based on those values (Fruit>Edit column>Add column based on this column)\n",
    "\n",
    "_After_\n",
    "<img src='images/fv_001c.png'>\n",
    "_note:  These rows will be deleted after the next step as they are essentially the same as the column headers_"
   ]
  },
  {
   "cell_type": "markdown",
   "metadata": {
    "collapsed": true
   },
   "source": [
    "__Step 3__ - Remove the facet and fill down the year column (Year>Edit cells>Fill down)\n",
    "\n",
    "_After_\n",
    "<img src='images/fv_001d.png'>"
   ]
  },
  {
   "cell_type": "markdown",
   "metadata": {},
   "source": [
    "__Step 4__ - Remove the unneeded rows identified in step 2.  Run a text facet on `Fruit` once more selecting the years.Remove those matching rows (All>Edit rows>Remove all matching rows).\n",
    "\n",
    "If we exit the facets we can see there is now missing data in the fruit column.  Once more we will use the column filldown method to fill in that missing data.\n",
    "_Before_\n",
    "<img src='images/fv_001e.png'>\n",
    "\n",
    "_after_\n",
    "<img src='images/fv_001f.png'>\n",
    "\n"
   ]
  },
  {
   "cell_type": "markdown",
   "metadata": {},
   "source": [
    "_Missing Price Data_ The pricing data in some rows is complete, others are not.  Without further information about the source of the data it is hard to determine whether they are were omitted because they were not collected or if they weren't for sale during those months.  Therefore, It was decided to leave them as is, and handle them in Pandas if required."
   ]
  },
  {
   "cell_type": "markdown",
   "metadata": {},
   "source": [
    "##### 2.2 - Orchards missing data\n",
    "Looking at the orchards_df we can see there are a number of values missing in some columns.  We need to find out more before we will be ready to make decisions."
   ]
  },
  {
   "cell_type": "code",
   "execution_count": 6,
   "metadata": {},
   "outputs": [
    {
     "data": {
      "text/plain": [
       "13"
      ]
     },
     "execution_count": 6,
     "metadata": {},
     "output_type": "execute_result"
    }
   ],
   "source": [
    "# check how long the orchards dataset is\n",
    "len(orchards_df)"
   ]
  },
  {
   "cell_type": "markdown",
   "metadata": {},
   "source": [
    "Since it is so short let's quickly look at the whole dataset"
   ]
  },
  {
   "cell_type": "code",
   "execution_count": 7,
   "metadata": {},
   "outputs": [
    {
     "data": {
      "text/html": [
       "<div>\n",
       "<style>\n",
       "    .dataframe thead tr:only-child th {\n",
       "        text-align: right;\n",
       "    }\n",
       "\n",
       "    .dataframe thead th {\n",
       "        text-align: left;\n",
       "    }\n",
       "\n",
       "    .dataframe tbody tr th {\n",
       "        vertical-align: top;\n",
       "    }\n",
       "</style>\n",
       "<table border=\"1\" class=\"dataframe\">\n",
       "  <thead>\n",
       "    <tr style=\"text-align: right;\">\n",
       "      <th></th>\n",
       "      <th>year</th>\n",
       "      <th>Totalapples</th>\n",
       "      <th>Discovery</th>\n",
       "      <th>WorcesterPearmain</th>\n",
       "      <th>Cox(andclones)</th>\n",
       "      <th>EgremontRusset</th>\n",
       "      <th>Braeburn</th>\n",
       "      <th>Gala(andclones)</th>\n",
       "      <th>Jonagold(andclones)</th>\n",
       "      <th>Cameo</th>\n",
       "      <th>...</th>\n",
       "      <th>Cider apples of which:</th>\n",
       "      <th>Bush cider apples</th>\n",
       "      <th>Traditional cider apples</th>\n",
       "      <th>Total plums</th>\n",
       "      <th>Victoria</th>\n",
       "      <th>Marjorie's Seedling</th>\n",
       "      <th>Other plums</th>\n",
       "      <th>Total other orchard fruit</th>\n",
       "      <th>Cherries</th>\n",
       "      <th>Other top fruit (incl. nuts)</th>\n",
       "    </tr>\n",
       "  </thead>\n",
       "  <tbody>\n",
       "    <tr>\n",
       "      <th>0</th>\n",
       "      <td>1999</td>\n",
       "      <td>1709.0</td>\n",
       "      <td>577.0</td>\n",
       "      <td>294.0</td>\n",
       "      <td>4694.0</td>\n",
       "      <td>325.0</td>\n",
       "      <td>NaN</td>\n",
       "      <td>757.0</td>\n",
       "      <td>400.0</td>\n",
       "      <td>NaN</td>\n",
       "      <td>...</td>\n",
       "      <td>4996.0</td>\n",
       "      <td>NaN</td>\n",
       "      <td>NaN</td>\n",
       "      <td>1367.0</td>\n",
       "      <td>788.0</td>\n",
       "      <td>164.0</td>\n",
       "      <td>415.0</td>\n",
       "      <td>748.0</td>\n",
       "      <td>591.0</td>\n",
       "      <td>157.0</td>\n",
       "    </tr>\n",
       "    <tr>\n",
       "      <th>1</th>\n",
       "      <td>2000</td>\n",
       "      <td>16500.0</td>\n",
       "      <td>484.0</td>\n",
       "      <td>283.0</td>\n",
       "      <td>4186.0</td>\n",
       "      <td>334.0</td>\n",
       "      <td>NaN</td>\n",
       "      <td>828.0</td>\n",
       "      <td>353.0</td>\n",
       "      <td>NaN</td>\n",
       "      <td>...</td>\n",
       "      <td>5043.0</td>\n",
       "      <td>4024.0</td>\n",
       "      <td>1019.0</td>\n",
       "      <td>1213.0</td>\n",
       "      <td>659.0</td>\n",
       "      <td>170.0</td>\n",
       "      <td>384.0</td>\n",
       "      <td>590.0</td>\n",
       "      <td>459.0</td>\n",
       "      <td>131.0</td>\n",
       "    </tr>\n",
       "    <tr>\n",
       "      <th>2</th>\n",
       "      <td>2001</td>\n",
       "      <td>16983.0</td>\n",
       "      <td>420.0</td>\n",
       "      <td>207.0</td>\n",
       "      <td>3489.0</td>\n",
       "      <td>331.0</td>\n",
       "      <td>NaN</td>\n",
       "      <td>719.0</td>\n",
       "      <td>257.0</td>\n",
       "      <td>NaN</td>\n",
       "      <td>...</td>\n",
       "      <td>7010.0</td>\n",
       "      <td>4657.0</td>\n",
       "      <td>2353.0</td>\n",
       "      <td>1072.0</td>\n",
       "      <td>543.0</td>\n",
       "      <td>152.0</td>\n",
       "      <td>377.0</td>\n",
       "      <td>700.0</td>\n",
       "      <td>473.0</td>\n",
       "      <td>227.0</td>\n",
       "    </tr>\n",
       "    <tr>\n",
       "      <th>3</th>\n",
       "      <td>2002</td>\n",
       "      <td>15110.0</td>\n",
       "      <td>339.0</td>\n",
       "      <td>196.0</td>\n",
       "      <td>3015.0</td>\n",
       "      <td>268.0</td>\n",
       "      <td>NaN</td>\n",
       "      <td>663.0</td>\n",
       "      <td>201.0</td>\n",
       "      <td>NaN</td>\n",
       "      <td>...</td>\n",
       "      <td>6738.0</td>\n",
       "      <td>4304.0</td>\n",
       "      <td>2434.0</td>\n",
       "      <td>947.0</td>\n",
       "      <td>493.0</td>\n",
       "      <td>148.0</td>\n",
       "      <td>306.0</td>\n",
       "      <td>579.0</td>\n",
       "      <td>428.0</td>\n",
       "      <td>151.0</td>\n",
       "    </tr>\n",
       "    <tr>\n",
       "      <th>4</th>\n",
       "      <td>2003</td>\n",
       "      <td>14346.0</td>\n",
       "      <td>264.0</td>\n",
       "      <td>147.0</td>\n",
       "      <td>2738.0</td>\n",
       "      <td>264.0</td>\n",
       "      <td>306.0</td>\n",
       "      <td>674.0</td>\n",
       "      <td>227.0</td>\n",
       "      <td>NaN</td>\n",
       "      <td>...</td>\n",
       "      <td>6551.0</td>\n",
       "      <td>4909.0</td>\n",
       "      <td>1642.0</td>\n",
       "      <td>1003.0</td>\n",
       "      <td>474.0</td>\n",
       "      <td>152.0</td>\n",
       "      <td>377.0</td>\n",
       "      <td>522.0</td>\n",
       "      <td>381.0</td>\n",
       "      <td>140.0</td>\n",
       "    </tr>\n",
       "    <tr>\n",
       "      <th>5</th>\n",
       "      <td>2004</td>\n",
       "      <td>13612.0</td>\n",
       "      <td>301.0</td>\n",
       "      <td>213.0</td>\n",
       "      <td>3144.0</td>\n",
       "      <td>308.0</td>\n",
       "      <td>194.0</td>\n",
       "      <td>669.0</td>\n",
       "      <td>231.0</td>\n",
       "      <td>NaN</td>\n",
       "      <td>...</td>\n",
       "      <td>5190.0</td>\n",
       "      <td>3605.0</td>\n",
       "      <td>1585.0</td>\n",
       "      <td>978.0</td>\n",
       "      <td>532.0</td>\n",
       "      <td>152.0</td>\n",
       "      <td>293.0</td>\n",
       "      <td>623.0</td>\n",
       "      <td>389.0</td>\n",
       "      <td>234.0</td>\n",
       "    </tr>\n",
       "    <tr>\n",
       "      <th>6</th>\n",
       "      <td>2007</td>\n",
       "      <td>13364.0</td>\n",
       "      <td>189.0</td>\n",
       "      <td>124.0</td>\n",
       "      <td>2128.0</td>\n",
       "      <td>277.0</td>\n",
       "      <td>271.0</td>\n",
       "      <td>740.0</td>\n",
       "      <td>204.0</td>\n",
       "      <td>NaN</td>\n",
       "      <td>...</td>\n",
       "      <td>6271.0</td>\n",
       "      <td>4590.0</td>\n",
       "      <td>1681.0</td>\n",
       "      <td>835.0</td>\n",
       "      <td>408.0</td>\n",
       "      <td>144.0</td>\n",
       "      <td>283.0</td>\n",
       "      <td>608.0</td>\n",
       "      <td>447.0</td>\n",
       "      <td>161.0</td>\n",
       "    </tr>\n",
       "    <tr>\n",
       "      <th>7</th>\n",
       "      <td>2009</td>\n",
       "      <td>13594.0</td>\n",
       "      <td>177.0</td>\n",
       "      <td>133.0</td>\n",
       "      <td>1798.0</td>\n",
       "      <td>293.0</td>\n",
       "      <td>304.0</td>\n",
       "      <td>878.0</td>\n",
       "      <td>316.0</td>\n",
       "      <td>36.0</td>\n",
       "      <td>...</td>\n",
       "      <td>6624.0</td>\n",
       "      <td>NaN</td>\n",
       "      <td>NaN</td>\n",
       "      <td>869.0</td>\n",
       "      <td>420.0</td>\n",
       "      <td>153.0</td>\n",
       "      <td>296.0</td>\n",
       "      <td>649.0</td>\n",
       "      <td>478.0</td>\n",
       "      <td>171.0</td>\n",
       "    </tr>\n",
       "    <tr>\n",
       "      <th>8</th>\n",
       "      <td>2012</td>\n",
       "      <td>14468.0</td>\n",
       "      <td>157.0</td>\n",
       "      <td>115.0</td>\n",
       "      <td>1697.0</td>\n",
       "      <td>224.0</td>\n",
       "      <td>509.0</td>\n",
       "      <td>1312.0</td>\n",
       "      <td>283.0</td>\n",
       "      <td>41.0</td>\n",
       "      <td>...</td>\n",
       "      <td>7178.0</td>\n",
       "      <td>NaN</td>\n",
       "      <td>NaN</td>\n",
       "      <td>841.0</td>\n",
       "      <td>378.0</td>\n",
       "      <td>161.0</td>\n",
       "      <td>302.0</td>\n",
       "      <td>791.0</td>\n",
       "      <td>609.0</td>\n",
       "      <td>182.0</td>\n",
       "    </tr>\n",
       "    <tr>\n",
       "      <th>9</th>\n",
       "      <td>####Cameo Jazz and Kanzi are new categories i...</td>\n",
       "      <td>NaN</td>\n",
       "      <td>NaN</td>\n",
       "      <td>NaN</td>\n",
       "      <td>NaN</td>\n",
       "      <td>NaN</td>\n",
       "      <td>NaN</td>\n",
       "      <td>NaN</td>\n",
       "      <td>NaN</td>\n",
       "      <td>NaN</td>\n",
       "      <td>...</td>\n",
       "      <td>NaN</td>\n",
       "      <td>NaN</td>\n",
       "      <td>NaN</td>\n",
       "      <td>NaN</td>\n",
       "      <td>NaN</td>\n",
       "      <td>NaN</td>\n",
       "      <td>NaN</td>\n",
       "      <td>NaN</td>\n",
       "      <td>NaN</td>\n",
       "      <td>NaN</td>\n",
       "    </tr>\n",
       "    <tr>\n",
       "      <th>10</th>\n",
       "      <td>####Spartan have been included with' other des...</td>\n",
       "      <td>NaN</td>\n",
       "      <td>NaN</td>\n",
       "      <td>NaN</td>\n",
       "      <td>NaN</td>\n",
       "      <td>NaN</td>\n",
       "      <td>NaN</td>\n",
       "      <td>NaN</td>\n",
       "      <td>NaN</td>\n",
       "      <td>NaN</td>\n",
       "      <td>...</td>\n",
       "      <td>NaN</td>\n",
       "      <td>NaN</td>\n",
       "      <td>NaN</td>\n",
       "      <td>NaN</td>\n",
       "      <td>NaN</td>\n",
       "      <td>NaN</td>\n",
       "      <td>NaN</td>\n",
       "      <td>NaN</td>\n",
       "      <td>NaN</td>\n",
       "      <td>NaN</td>\n",
       "    </tr>\n",
       "    <tr>\n",
       "      <th>11</th>\n",
       "      <td>####Fiesta/RedPippin have been included in 'ot...</td>\n",
       "      <td>NaN</td>\n",
       "      <td>NaN</td>\n",
       "      <td>NaN</td>\n",
       "      <td>NaN</td>\n",
       "      <td>NaN</td>\n",
       "      <td>NaN</td>\n",
       "      <td>NaN</td>\n",
       "      <td>NaN</td>\n",
       "      <td>NaN</td>\n",
       "      <td>...</td>\n",
       "      <td>NaN</td>\n",
       "      <td>NaN</td>\n",
       "      <td>NaN</td>\n",
       "      <td>NaN</td>\n",
       "      <td>NaN</td>\n",
       "      <td>NaN</td>\n",
       "      <td>NaN</td>\n",
       "      <td>NaN</td>\n",
       "      <td>NaN</td>\n",
       "      <td>NaN</td>\n",
       "    </tr>\n",
       "    <tr>\n",
       "      <th>12</th>\n",
       "      <td>####Katy was included in 'other dessert apples...</td>\n",
       "      <td>NaN</td>\n",
       "      <td>NaN</td>\n",
       "      <td>NaN</td>\n",
       "      <td>NaN</td>\n",
       "      <td>NaN</td>\n",
       "      <td>NaN</td>\n",
       "      <td>NaN</td>\n",
       "      <td>NaN</td>\n",
       "      <td>NaN</td>\n",
       "      <td>...</td>\n",
       "      <td>NaN</td>\n",
       "      <td>NaN</td>\n",
       "      <td>NaN</td>\n",
       "      <td>NaN</td>\n",
       "      <td>NaN</td>\n",
       "      <td>NaN</td>\n",
       "      <td>NaN</td>\n",
       "      <td>NaN</td>\n",
       "      <td>NaN</td>\n",
       "      <td>NaN</td>\n",
       "    </tr>\n",
       "  </tbody>\n",
       "</table>\n",
       "<p>13 rows × 28 columns</p>\n",
       "</div>"
      ],
      "text/plain": [
       "                                                 year  Totalapples  Discovery  \\\n",
       "0                                                1999       1709.0      577.0   \n",
       "1                                                2000      16500.0      484.0   \n",
       "2                                                2001      16983.0      420.0   \n",
       "3                                                2002      15110.0      339.0   \n",
       "4                                                2003      14346.0      264.0   \n",
       "5                                                2004      13612.0      301.0   \n",
       "6                                                2007      13364.0      189.0   \n",
       "7                                                2009      13594.0      177.0   \n",
       "8                                                2012      14468.0      157.0   \n",
       "9    ####Cameo Jazz and Kanzi are new categories i...          NaN        NaN   \n",
       "10  ####Spartan have been included with' other des...          NaN        NaN   \n",
       "11  ####Fiesta/RedPippin have been included in 'ot...          NaN        NaN   \n",
       "12  ####Katy was included in 'other dessert apples...          NaN        NaN   \n",
       "\n",
       "    WorcesterPearmain  Cox(andclones)  EgremontRusset  Braeburn  \\\n",
       "0               294.0          4694.0           325.0       NaN   \n",
       "1               283.0          4186.0           334.0       NaN   \n",
       "2               207.0          3489.0           331.0       NaN   \n",
       "3               196.0          3015.0           268.0       NaN   \n",
       "4               147.0          2738.0           264.0     306.0   \n",
       "5               213.0          3144.0           308.0     194.0   \n",
       "6               124.0          2128.0           277.0     271.0   \n",
       "7               133.0          1798.0           293.0     304.0   \n",
       "8               115.0          1697.0           224.0     509.0   \n",
       "9                 NaN             NaN             NaN       NaN   \n",
       "10                NaN             NaN             NaN       NaN   \n",
       "11                NaN             NaN             NaN       NaN   \n",
       "12                NaN             NaN             NaN       NaN   \n",
       "\n",
       "    Gala(andclones)  Jonagold(andclones)  Cameo              ...               \\\n",
       "0             757.0                400.0    NaN              ...                \n",
       "1             828.0                353.0    NaN              ...                \n",
       "2             719.0                257.0    NaN              ...                \n",
       "3             663.0                201.0    NaN              ...                \n",
       "4             674.0                227.0    NaN              ...                \n",
       "5             669.0                231.0    NaN              ...                \n",
       "6             740.0                204.0    NaN              ...                \n",
       "7             878.0                316.0   36.0              ...                \n",
       "8            1312.0                283.0   41.0              ...                \n",
       "9               NaN                  NaN    NaN              ...                \n",
       "10              NaN                  NaN    NaN              ...                \n",
       "11              NaN                  NaN    NaN              ...                \n",
       "12              NaN                  NaN    NaN              ...                \n",
       "\n",
       "    Cider apples of which:  Bush cider apples  Traditional cider apples  \\\n",
       "0                   4996.0                NaN                       NaN   \n",
       "1                   5043.0             4024.0                    1019.0   \n",
       "2                   7010.0             4657.0                    2353.0   \n",
       "3                   6738.0             4304.0                    2434.0   \n",
       "4                   6551.0             4909.0                    1642.0   \n",
       "5                   5190.0             3605.0                    1585.0   \n",
       "6                   6271.0             4590.0                    1681.0   \n",
       "7                   6624.0                NaN                       NaN   \n",
       "8                   7178.0                NaN                       NaN   \n",
       "9                      NaN                NaN                       NaN   \n",
       "10                     NaN                NaN                       NaN   \n",
       "11                     NaN                NaN                       NaN   \n",
       "12                     NaN                NaN                       NaN   \n",
       "\n",
       "    Total plums  Victoria  Marjorie's Seedling  Other plums  \\\n",
       "0        1367.0     788.0                164.0        415.0   \n",
       "1        1213.0     659.0                170.0        384.0   \n",
       "2        1072.0     543.0                152.0        377.0   \n",
       "3         947.0     493.0                148.0        306.0   \n",
       "4        1003.0     474.0                152.0        377.0   \n",
       "5         978.0     532.0                152.0        293.0   \n",
       "6         835.0     408.0                144.0        283.0   \n",
       "7         869.0     420.0                153.0        296.0   \n",
       "8         841.0     378.0                161.0        302.0   \n",
       "9           NaN       NaN                  NaN          NaN   \n",
       "10          NaN       NaN                  NaN          NaN   \n",
       "11          NaN       NaN                  NaN          NaN   \n",
       "12          NaN       NaN                  NaN          NaN   \n",
       "\n",
       "    Total other orchard fruit  Cherries  Other top fruit (incl. nuts)  \n",
       "0                       748.0     591.0                         157.0  \n",
       "1                       590.0     459.0                         131.0  \n",
       "2                       700.0     473.0                         227.0  \n",
       "3                       579.0     428.0                         151.0  \n",
       "4                       522.0     381.0                         140.0  \n",
       "5                       623.0     389.0                         234.0  \n",
       "6                       608.0     447.0                         161.0  \n",
       "7                       649.0     478.0                         171.0  \n",
       "8                       791.0     609.0                         182.0  \n",
       "9                         NaN       NaN                           NaN  \n",
       "10                        NaN       NaN                           NaN  \n",
       "11                        NaN       NaN                           NaN  \n",
       "12                        NaN       NaN                           NaN  \n",
       "\n",
       "[13 rows x 28 columns]"
      ]
     },
     "execution_count": 7,
     "metadata": {},
     "output_type": "execute_result"
    }
   ],
   "source": [
    "# since it is so short look at whole dataset\n",
    "orchards_df"
   ]
  },
  {
   "cell_type": "markdown",
   "metadata": {},
   "source": [
    "There looks like there is some meta data at the bottom.  Let's see if it will inform us about the dataset and missing values."
   ]
  },
  {
   "cell_type": "code",
   "execution_count": 8,
   "metadata": {},
   "outputs": [
    {
     "data": {
      "text/plain": [
       "[' ####Cameo Jazz and Kanzi are new categories introduced in 2009####',\n",
       " \"####Spartan have been included with' other dessert apples 'from 2009####\",\n",
       " \"####Fiesta/RedPippin have been included in 'other dessert apples 'from 2003####\",\n",
       " \"####Katy was included in 'other dessert apples 'until 2009####\"]"
      ]
     },
     "execution_count": 8,
     "metadata": {},
     "output_type": "execute_result"
    }
   ],
   "source": [
    "# Place the meta-data into a list in case we need it later on.\n",
    "orchard_meta = list(orchards_df['year'][9:])\n",
    "# now we candrop those rows from the dataset\n",
    "orchards_df.drop(orchards_df.index[9:], inplace=True)\n",
    "# let's read the data\n",
    "orchard_meta"
   ]
  },
  {
   "cell_type": "markdown",
   "metadata": {},
   "source": [
    "So, some of the missing data was caused by reclassifications of some of the varieties into and out of the Other dessert varieties category.\n",
    "\n",
    "One way to work around this will be to sum these values into a new _Other Dessert Apples_ column. First we will need to fill those NaN with 0 in order to add them together."
   ]
  },
  {
   "cell_type": "code",
   "execution_count": 9,
   "metadata": {
    "collapsed": true
   },
   "outputs": [],
   "source": [
    "# as we are only interested in the total values for each column let's fillna with 0\n",
    "orchards_df.fillna(0, inplace=True)"
   ]
  },
  {
   "cell_type": "code",
   "execution_count": 10,
   "metadata": {},
   "outputs": [
    {
     "data": {
      "text/plain": [
       "Index(['year', 'Totalapples', 'Discovery', 'WorcesterPearmain',\n",
       "       'Cox(andclones)', 'EgremontRusset', 'Braeburn', 'Gala(andclones)',\n",
       "       'Jonagold(andclones)', 'Cameo', 'Jazz', 'Kanzi',\n",
       "       'Other dessert varieties', 'Spartan', 'Fiesta/RedPippin', 'Katy',\n",
       "       'Bramleys Seedling', 'Other culinary apples', 'Cider apples of which:',\n",
       "       'Bush cider apples', 'Traditional cider apples', 'Total plums',\n",
       "       'Victoria', 'Marjorie's Seedling', 'Other plums',\n",
       "       'Total other orchard fruit', 'Cherries',\n",
       "       'Other top fruit (incl. nuts)'],\n",
       "      dtype='object')"
      ]
     },
     "execution_count": 10,
     "metadata": {},
     "output_type": "execute_result"
    }
   ],
   "source": [
    "# Let's quickly check the spelling of the column names\n",
    "orchards_df.columns"
   ]
  },
  {
   "cell_type": "markdown",
   "metadata": {},
   "source": [
    "Now we are ready to sum those values into the new `Other Dessert Apples` column."
   ]
  },
  {
   "cell_type": "code",
   "execution_count": 11,
   "metadata": {},
   "outputs": [
    {
     "data": {
      "text/html": [
       "<div>\n",
       "<style>\n",
       "    .dataframe thead tr:only-child th {\n",
       "        text-align: right;\n",
       "    }\n",
       "\n",
       "    .dataframe thead th {\n",
       "        text-align: left;\n",
       "    }\n",
       "\n",
       "    .dataframe tbody tr th {\n",
       "        vertical-align: top;\n",
       "    }\n",
       "</style>\n",
       "<table border=\"1\" class=\"dataframe\">\n",
       "  <thead>\n",
       "    <tr style=\"text-align: right;\">\n",
       "      <th></th>\n",
       "      <th>Other dessert varieties</th>\n",
       "      <th>Spartan</th>\n",
       "      <th>Fiesta/RedPippin</th>\n",
       "      <th>Katy</th>\n",
       "      <th>Other Dessert Apples</th>\n",
       "    </tr>\n",
       "  </thead>\n",
       "  <tbody>\n",
       "    <tr>\n",
       "      <th>0</th>\n",
       "      <td>1276.0</td>\n",
       "      <td>299.0</td>\n",
       "      <td>186.0</td>\n",
       "      <td>0.0</td>\n",
       "      <td>1761.0</td>\n",
       "    </tr>\n",
       "    <tr>\n",
       "      <th>1</th>\n",
       "      <td>1194.0</td>\n",
       "      <td>286.0</td>\n",
       "      <td>163.0</td>\n",
       "      <td>0.0</td>\n",
       "      <td>1643.0</td>\n",
       "    </tr>\n",
       "    <tr>\n",
       "      <th>2</th>\n",
       "      <td>1209.0</td>\n",
       "      <td>257.0</td>\n",
       "      <td>133.0</td>\n",
       "      <td>0.0</td>\n",
       "      <td>1599.0</td>\n",
       "    </tr>\n",
       "    <tr>\n",
       "      <th>3</th>\n",
       "      <td>945.0</td>\n",
       "      <td>195.0</td>\n",
       "      <td>109.0</td>\n",
       "      <td>0.0</td>\n",
       "      <td>1249.0</td>\n",
       "    </tr>\n",
       "    <tr>\n",
       "      <th>4</th>\n",
       "      <td>729.0</td>\n",
       "      <td>142.0</td>\n",
       "      <td>0.0</td>\n",
       "      <td>0.0</td>\n",
       "      <td>871.0</td>\n",
       "    </tr>\n",
       "    <tr>\n",
       "      <th>5</th>\n",
       "      <td>957.0</td>\n",
       "      <td>164.0</td>\n",
       "      <td>0.0</td>\n",
       "      <td>0.0</td>\n",
       "      <td>1121.0</td>\n",
       "    </tr>\n",
       "    <tr>\n",
       "      <th>6</th>\n",
       "      <td>877.0</td>\n",
       "      <td>137.0</td>\n",
       "      <td>0.0</td>\n",
       "      <td>0.0</td>\n",
       "      <td>1014.0</td>\n",
       "    </tr>\n",
       "    <tr>\n",
       "      <th>7</th>\n",
       "      <td>724.0</td>\n",
       "      <td>0.0</td>\n",
       "      <td>0.0</td>\n",
       "      <td>133.0</td>\n",
       "      <td>857.0</td>\n",
       "    </tr>\n",
       "    <tr>\n",
       "      <th>8</th>\n",
       "      <td>847.0</td>\n",
       "      <td>0.0</td>\n",
       "      <td>0.0</td>\n",
       "      <td>129.0</td>\n",
       "      <td>976.0</td>\n",
       "    </tr>\n",
       "  </tbody>\n",
       "</table>\n",
       "</div>"
      ],
      "text/plain": [
       "   Other dessert varieties  Spartan  Fiesta/RedPippin   Katy  \\\n",
       "0                   1276.0    299.0             186.0    0.0   \n",
       "1                   1194.0    286.0             163.0    0.0   \n",
       "2                   1209.0    257.0             133.0    0.0   \n",
       "3                    945.0    195.0             109.0    0.0   \n",
       "4                    729.0    142.0               0.0    0.0   \n",
       "5                    957.0    164.0               0.0    0.0   \n",
       "6                    877.0    137.0               0.0    0.0   \n",
       "7                    724.0      0.0               0.0  133.0   \n",
       "8                    847.0      0.0               0.0  129.0   \n",
       "\n",
       "   Other Dessert Apples  \n",
       "0                1761.0  \n",
       "1                1643.0  \n",
       "2                1599.0  \n",
       "3                1249.0  \n",
       "4                 871.0  \n",
       "5                1121.0  \n",
       "6                1014.0  \n",
       "7                 857.0  \n",
       "8                 976.0  "
      ]
     },
     "execution_count": 11,
     "metadata": {},
     "output_type": "execute_result"
    }
   ],
   "source": [
    "# make a list of the columns we will sum\n",
    "cols = ['Other dessert varieties','Spartan','Fiesta/RedPippin','Katy']\n",
    "orchards_df['Other Dessert Apples'] = orchards_df[cols].sum(axis=1)\n",
    "\n",
    "# check it went as planned\n",
    "orchards_df[cols + ['Other Dessert Apples']]"
   ]
  },
  {
   "cell_type": "markdown",
   "metadata": {},
   "source": [
    "#### 3. Identify and handle inconsistent or dirty data"
   ]
  },
  {
   "cell_type": "markdown",
   "metadata": {
    "collapsed": true
   },
   "source": [
    "Between both datasets there are inconsistencies between how apple varieties are named.  There is also a lot of irrelevant data that we should remove from the datasets before combining them. \n",
    "\n",
    "Both data sets also have data about other produce that is clearly unrelated (e.g. cherries).  However a decision was needed on cooking apples.  Technically I do not believe them to be dessert apples, so I will not include them in the final version of the DataFrames.\n",
    "\n",
    "First we will handle the apples dataset using OpenRefine.\n",
    "\n",
    "##### OpenRefine apples_dcs283 project\n",
    "\n",
    "A few steps were required here.  \n",
    "\n",
    "Firstly Renaming the column 'Column' to 'Variety' (as we had missed that earlier!)\n",
    "\n",
    "_Start_\n",
    "<img src='images/fv_002a.png'>\n",
    "\n",
    "__Step 2__ - Make a text facet on Fruit, and then on Dessert apples.\n",
    "This gives us a list of the spellings of Variety names.\n",
    "<img src='images/fv_002b.png'>\n",
    "In comparing these to the orchard column names we can see that in general the Orchards columns do not have spaces and sometimes have more information (e.g. `Cox(andclones)`).  it was decided to simplify the naming system to just the apple variety name across both datasets.  "
   ]
  },
  {
   "cell_type": "markdown",
   "metadata": {},
   "source": [
    "Dessert apple variety name changes:\n",
    " - `Cox's Orange-group` will be edited to `Cox` (dropping the extra information)\n",
    " - `Jonogold - group` will become `Jonagold` (fixing the spelling error)\n",
    "\n",
    "Finally the Red pippin is also listed as Fiesta/RedPippin in the orchards dataset.  However, A quick look on google showed that this apple variety does go by both names.  I have opted for `Red Pippin` in this case as the audience for this data investigation is likely to be very small and have seen my reasoning.\n",
    "\n",
    "_after these changes we have the following facets_\n",
    "<img src='images/fv_002c.png'>"
   ]
  },
  {
   "cell_type": "markdown",
   "metadata": {},
   "source": [
    "Next we should combine the apple varieties of 'Other ... Season' and those varieties grouped under `Other merged` in the from orchards_df like we did earlier for the orchard data.  We can simply edit each name to `Other Dessert Apples` so that it will work well with the orchards dataset. The varieties to rename are:\n",
    " - `Other Early Season`\n",
    " - `Other Late Season`\n",
    " - `Other Mid Season`\n",
    " - `Red Pippin`\n",
    " - `Katy`\n",
    " - `Spartan`\n",
    "\n",
    "After these changes we have the following varieties:\n",
    "\n",
    "<img src='images/fv_002e.png'>\n"
   ]
  },
  {
   "cell_type": "markdown",
   "metadata": {},
   "source": [
    "Finally we will export the columns we need as a CSV file and open again in this notebook.\n",
    "\n",
    "First, we will facet the data we want to keep, by running a text facet on the `Fruit` column and including only `Dessert Apples`.\n",
    "\n",
    "<img src='images/fv_002f.png'>\n",
    "\n",
    "\n",
    "Next using the custom tabular exporter we simply select those columns needed for our our analysis. \n",
    "\n",
    "<img src='images/fv_002g.png'>\n",
    "\n",
    "Finally we download the file as a CSV and copy it into the data directory.  Then load it in as apples_df here.\n",
    "\n",
    "<img src='images/fv_002e.png'>"
   ]
  },
  {
   "cell_type": "code",
   "execution_count": 12,
   "metadata": {},
   "outputs": [
    {
     "data": {
      "text/html": [
       "<div>\n",
       "<style>\n",
       "    .dataframe thead tr:only-child th {\n",
       "        text-align: right;\n",
       "    }\n",
       "\n",
       "    .dataframe thead th {\n",
       "        text-align: left;\n",
       "    }\n",
       "\n",
       "    .dataframe tbody tr th {\n",
       "        vertical-align: top;\n",
       "    }\n",
       "</style>\n",
       "<table border=\"1\" class=\"dataframe\">\n",
       "  <thead>\n",
       "    <tr style=\"text-align: right;\">\n",
       "      <th></th>\n",
       "      <th>Year</th>\n",
       "      <th>Variety</th>\n",
       "      <th>Jan</th>\n",
       "      <th>Feb</th>\n",
       "      <th>Mar</th>\n",
       "      <th>Apr</th>\n",
       "      <th>May</th>\n",
       "      <th>Jun</th>\n",
       "      <th>Jul</th>\n",
       "      <th>Aug</th>\n",
       "      <th>Sep</th>\n",
       "      <th>Oct</th>\n",
       "      <th>Nov</th>\n",
       "      <th>Dec</th>\n",
       "    </tr>\n",
       "  </thead>\n",
       "  <tbody>\n",
       "    <tr>\n",
       "      <th>0</th>\n",
       "      <td>2004</td>\n",
       "      <td>Cox</td>\n",
       "      <td>0.62</td>\n",
       "      <td>0.63</td>\n",
       "      <td>0.6</td>\n",
       "      <td>0.58</td>\n",
       "      <td>NaN</td>\n",
       "      <td>NaN</td>\n",
       "      <td>NaN</td>\n",
       "      <td>NaN</td>\n",
       "      <td>0.68</td>\n",
       "      <td>0.51</td>\n",
       "      <td>0.53</td>\n",
       "      <td>0.58</td>\n",
       "    </tr>\n",
       "    <tr>\n",
       "      <th>1</th>\n",
       "      <td>2004</td>\n",
       "      <td>Cox</td>\n",
       "      <td>0.40</td>\n",
       "      <td>0.40</td>\n",
       "      <td>0.4</td>\n",
       "      <td>0.42</td>\n",
       "      <td>NaN</td>\n",
       "      <td>NaN</td>\n",
       "      <td>NaN</td>\n",
       "      <td>NaN</td>\n",
       "      <td>0.39</td>\n",
       "      <td>0.33</td>\n",
       "      <td>0.30</td>\n",
       "      <td>0.33</td>\n",
       "    </tr>\n",
       "    <tr>\n",
       "      <th>2</th>\n",
       "      <td>2004</td>\n",
       "      <td>Cox</td>\n",
       "      <td>0.55</td>\n",
       "      <td>0.54</td>\n",
       "      <td>0.5</td>\n",
       "      <td>0.51</td>\n",
       "      <td>NaN</td>\n",
       "      <td>NaN</td>\n",
       "      <td>NaN</td>\n",
       "      <td>NaN</td>\n",
       "      <td>0.64</td>\n",
       "      <td>0.45</td>\n",
       "      <td>0.46</td>\n",
       "      <td>0.50</td>\n",
       "    </tr>\n",
       "    <tr>\n",
       "      <th>3</th>\n",
       "      <td>2004</td>\n",
       "      <td>Discovery</td>\n",
       "      <td>NaN</td>\n",
       "      <td>NaN</td>\n",
       "      <td>NaN</td>\n",
       "      <td>NaN</td>\n",
       "      <td>NaN</td>\n",
       "      <td>NaN</td>\n",
       "      <td>0.75</td>\n",
       "      <td>0.51</td>\n",
       "      <td>0.37</td>\n",
       "      <td>NaN</td>\n",
       "      <td>NaN</td>\n",
       "      <td>NaN</td>\n",
       "    </tr>\n",
       "    <tr>\n",
       "      <th>4</th>\n",
       "      <td>2004</td>\n",
       "      <td>Discovery</td>\n",
       "      <td>NaN</td>\n",
       "      <td>NaN</td>\n",
       "      <td>NaN</td>\n",
       "      <td>NaN</td>\n",
       "      <td>NaN</td>\n",
       "      <td>NaN</td>\n",
       "      <td>0.66</td>\n",
       "      <td>0.33</td>\n",
       "      <td>0.25</td>\n",
       "      <td>NaN</td>\n",
       "      <td>NaN</td>\n",
       "      <td>NaN</td>\n",
       "    </tr>\n",
       "  </tbody>\n",
       "</table>\n",
       "</div>"
      ],
      "text/plain": [
       "   Year    Variety   Jan   Feb  Mar   Apr  May  Jun   Jul   Aug   Sep   Oct  \\\n",
       "0  2004        Cox  0.62  0.63  0.6  0.58  NaN  NaN   NaN   NaN  0.68  0.51   \n",
       "1  2004        Cox  0.40  0.40  0.4  0.42  NaN  NaN   NaN   NaN  0.39  0.33   \n",
       "2  2004        Cox  0.55  0.54  0.5  0.51  NaN  NaN   NaN   NaN  0.64  0.45   \n",
       "3  2004  Discovery   NaN   NaN  NaN   NaN  NaN  NaN  0.75  0.51  0.37   NaN   \n",
       "4  2004  Discovery   NaN   NaN  NaN   NaN  NaN  NaN  0.66  0.33  0.25   NaN   \n",
       "\n",
       "    Nov   Dec  \n",
       "0  0.53  0.58  \n",
       "1  0.30  0.33  \n",
       "2  0.46  0.50  \n",
       "3   NaN   NaN  \n",
       "4   NaN   NaN  "
      ]
     },
     "execution_count": 12,
     "metadata": {},
     "output_type": "execute_result"
    }
   ],
   "source": [
    "# load in the cleaned file\n",
    "apples_df = pd.read_csv('data/apples_dcs283.csv')\n",
    "# check it looks ok\n",
    "apples_df.head()"
   ]
  },
  {
   "cell_type": "markdown",
   "metadata": {},
   "source": [
    "##### Orchards_df\n",
    "We can apply the same simplified naming system to the DataFrame."
   ]
  },
  {
   "cell_type": "code",
   "execution_count": 13,
   "metadata": {},
   "outputs": [
    {
     "data": {
      "text/plain": [
       "Index(['year', 'Totalapples', 'Discovery', 'WorcesterPearmain',\n",
       "       'Cox(andclones)', 'EgremontRusset', 'Braeburn', 'Gala(andclones)',\n",
       "       'Jonagold(andclones)', 'Cameo', 'Jazz', 'Kanzi',\n",
       "       'Other dessert varieties', 'Spartan', 'Fiesta/RedPippin', 'Katy',\n",
       "       'Bramleys Seedling', 'Other culinary apples', 'Cider apples of which:',\n",
       "       'Bush cider apples', 'Traditional cider apples', 'Total plums',\n",
       "       'Victoria', 'Marjorie's Seedling', 'Other plums',\n",
       "       'Total other orchard fruit', 'Cherries', 'Other top fruit (incl. nuts)',\n",
       "       'Other Dessert Apples'],\n",
       "      dtype='object')"
      ]
     },
     "execution_count": 13,
     "metadata": {},
     "output_type": "execute_result"
    }
   ],
   "source": [
    "# Check the column spellings                     })\n",
    "orchards_df.columns"
   ]
  },
  {
   "cell_type": "code",
   "execution_count": 14,
   "metadata": {},
   "outputs": [
    {
     "data": {
      "text/plain": [
       "Index(['Year', 'Totalapples', 'Discovery', 'Worcester Pearmain', 'Cox',\n",
       "       'Egremont Russet', 'Braeburn', 'Gala', 'Jonagold', 'Cameo', 'Jazz',\n",
       "       'Kanzi', 'Other dessert varieties', 'Spartan', 'Fiesta/RedPippin',\n",
       "       'Katy', 'Bramleys Seedling', 'Other culinary apples',\n",
       "       'Cider apples of which:', 'Bush cider apples',\n",
       "       'Traditional cider apples', 'Total plums', 'Victoria',\n",
       "       'Marjorie's Seedling', 'Other plums', 'Total other orchard fruit',\n",
       "       'Cherries', 'Other top fruit (incl. nuts)', 'Other Dessert Apples'],\n",
       "      dtype='object')"
      ]
     },
     "execution_count": 14,
     "metadata": {},
     "output_type": "execute_result"
    }
   ],
   "source": [
    "# rename the columns \n",
    "# noticed 'year' was different here so renaming that column as well\n",
    "orchards_df.rename(columns={'year': 'Year',\n",
    "                            'WorcesterPearmain':'Worcester Pearmain',\n",
    "                            'Cox(andclones)':'Cox',\n",
    "                            'EgremontRusset':'Egremont Russet',\n",
    "                            'Gala(andclones)':'Gala',\n",
    "                            'Jonagold(andclones)':'Jonagold'},inplace=True)\n",
    "# check it was as expected\n",
    "orchards_df.columns       "
   ]
  },
  {
   "cell_type": "markdown",
   "metadata": {},
   "source": [
    "Finally redfine the DataFrame to include only those columns we will need."
   ]
  },
  {
   "cell_type": "code",
   "execution_count": 15,
   "metadata": {},
   "outputs": [
    {
     "data": {
      "text/html": [
       "<div>\n",
       "<style>\n",
       "    .dataframe thead tr:only-child th {\n",
       "        text-align: right;\n",
       "    }\n",
       "\n",
       "    .dataframe thead th {\n",
       "        text-align: left;\n",
       "    }\n",
       "\n",
       "    .dataframe tbody tr th {\n",
       "        vertical-align: top;\n",
       "    }\n",
       "</style>\n",
       "<table border=\"1\" class=\"dataframe\">\n",
       "  <thead>\n",
       "    <tr style=\"text-align: right;\">\n",
       "      <th></th>\n",
       "      <th>Year</th>\n",
       "      <th>Discovery</th>\n",
       "      <th>Worcester Pearmain</th>\n",
       "      <th>Cox</th>\n",
       "      <th>Egremont Russet</th>\n",
       "      <th>Braeburn</th>\n",
       "      <th>Gala</th>\n",
       "      <th>Jonagold</th>\n",
       "      <th>Cameo</th>\n",
       "      <th>Jazz</th>\n",
       "      <th>Kanzi</th>\n",
       "      <th>Other Dessert Apples</th>\n",
       "    </tr>\n",
       "  </thead>\n",
       "  <tbody>\n",
       "    <tr>\n",
       "      <th>0</th>\n",
       "      <td>1999</td>\n",
       "      <td>577.0</td>\n",
       "      <td>294.0</td>\n",
       "      <td>4694.0</td>\n",
       "      <td>325.0</td>\n",
       "      <td>0.0</td>\n",
       "      <td>757.0</td>\n",
       "      <td>400.0</td>\n",
       "      <td>0.0</td>\n",
       "      <td>0.0</td>\n",
       "      <td>0.0</td>\n",
       "      <td>1761.0</td>\n",
       "    </tr>\n",
       "    <tr>\n",
       "      <th>1</th>\n",
       "      <td>2000</td>\n",
       "      <td>484.0</td>\n",
       "      <td>283.0</td>\n",
       "      <td>4186.0</td>\n",
       "      <td>334.0</td>\n",
       "      <td>0.0</td>\n",
       "      <td>828.0</td>\n",
       "      <td>353.0</td>\n",
       "      <td>0.0</td>\n",
       "      <td>0.0</td>\n",
       "      <td>0.0</td>\n",
       "      <td>1643.0</td>\n",
       "    </tr>\n",
       "    <tr>\n",
       "      <th>2</th>\n",
       "      <td>2001</td>\n",
       "      <td>420.0</td>\n",
       "      <td>207.0</td>\n",
       "      <td>3489.0</td>\n",
       "      <td>331.0</td>\n",
       "      <td>0.0</td>\n",
       "      <td>719.0</td>\n",
       "      <td>257.0</td>\n",
       "      <td>0.0</td>\n",
       "      <td>0.0</td>\n",
       "      <td>0.0</td>\n",
       "      <td>1599.0</td>\n",
       "    </tr>\n",
       "    <tr>\n",
       "      <th>3</th>\n",
       "      <td>2002</td>\n",
       "      <td>339.0</td>\n",
       "      <td>196.0</td>\n",
       "      <td>3015.0</td>\n",
       "      <td>268.0</td>\n",
       "      <td>0.0</td>\n",
       "      <td>663.0</td>\n",
       "      <td>201.0</td>\n",
       "      <td>0.0</td>\n",
       "      <td>0.0</td>\n",
       "      <td>0.0</td>\n",
       "      <td>1249.0</td>\n",
       "    </tr>\n",
       "    <tr>\n",
       "      <th>4</th>\n",
       "      <td>2003</td>\n",
       "      <td>264.0</td>\n",
       "      <td>147.0</td>\n",
       "      <td>2738.0</td>\n",
       "      <td>264.0</td>\n",
       "      <td>306.0</td>\n",
       "      <td>674.0</td>\n",
       "      <td>227.0</td>\n",
       "      <td>0.0</td>\n",
       "      <td>0.0</td>\n",
       "      <td>0.0</td>\n",
       "      <td>871.0</td>\n",
       "    </tr>\n",
       "    <tr>\n",
       "      <th>5</th>\n",
       "      <td>2004</td>\n",
       "      <td>301.0</td>\n",
       "      <td>213.0</td>\n",
       "      <td>3144.0</td>\n",
       "      <td>308.0</td>\n",
       "      <td>194.0</td>\n",
       "      <td>669.0</td>\n",
       "      <td>231.0</td>\n",
       "      <td>0.0</td>\n",
       "      <td>0.0</td>\n",
       "      <td>0.0</td>\n",
       "      <td>1121.0</td>\n",
       "    </tr>\n",
       "    <tr>\n",
       "      <th>6</th>\n",
       "      <td>2007</td>\n",
       "      <td>189.0</td>\n",
       "      <td>124.0</td>\n",
       "      <td>2128.0</td>\n",
       "      <td>277.0</td>\n",
       "      <td>271.0</td>\n",
       "      <td>740.0</td>\n",
       "      <td>204.0</td>\n",
       "      <td>0.0</td>\n",
       "      <td>0.0</td>\n",
       "      <td>0.0</td>\n",
       "      <td>1014.0</td>\n",
       "    </tr>\n",
       "    <tr>\n",
       "      <th>7</th>\n",
       "      <td>2009</td>\n",
       "      <td>177.0</td>\n",
       "      <td>133.0</td>\n",
       "      <td>1798.0</td>\n",
       "      <td>293.0</td>\n",
       "      <td>304.0</td>\n",
       "      <td>878.0</td>\n",
       "      <td>316.0</td>\n",
       "      <td>36.0</td>\n",
       "      <td>83.0</td>\n",
       "      <td>144.0</td>\n",
       "      <td>857.0</td>\n",
       "    </tr>\n",
       "    <tr>\n",
       "      <th>8</th>\n",
       "      <td>2012</td>\n",
       "      <td>157.0</td>\n",
       "      <td>115.0</td>\n",
       "      <td>1697.0</td>\n",
       "      <td>224.0</td>\n",
       "      <td>509.0</td>\n",
       "      <td>1312.0</td>\n",
       "      <td>283.0</td>\n",
       "      <td>41.0</td>\n",
       "      <td>117.0</td>\n",
       "      <td>96.0</td>\n",
       "      <td>976.0</td>\n",
       "    </tr>\n",
       "  </tbody>\n",
       "</table>\n",
       "</div>"
      ],
      "text/plain": [
       "   Year  Discovery  Worcester Pearmain     Cox  Egremont Russet  Braeburn  \\\n",
       "0  1999      577.0               294.0  4694.0            325.0       0.0   \n",
       "1  2000      484.0               283.0  4186.0            334.0       0.0   \n",
       "2  2001      420.0               207.0  3489.0            331.0       0.0   \n",
       "3  2002      339.0               196.0  3015.0            268.0       0.0   \n",
       "4  2003      264.0               147.0  2738.0            264.0     306.0   \n",
       "5  2004      301.0               213.0  3144.0            308.0     194.0   \n",
       "6  2007      189.0               124.0  2128.0            277.0     271.0   \n",
       "7  2009      177.0               133.0  1798.0            293.0     304.0   \n",
       "8  2012      157.0               115.0  1697.0            224.0     509.0   \n",
       "\n",
       "     Gala  Jonagold  Cameo   Jazz  Kanzi  Other Dessert Apples  \n",
       "0   757.0     400.0    0.0    0.0    0.0                1761.0  \n",
       "1   828.0     353.0    0.0    0.0    0.0                1643.0  \n",
       "2   719.0     257.0    0.0    0.0    0.0                1599.0  \n",
       "3   663.0     201.0    0.0    0.0    0.0                1249.0  \n",
       "4   674.0     227.0    0.0    0.0    0.0                 871.0  \n",
       "5   669.0     231.0    0.0    0.0    0.0                1121.0  \n",
       "6   740.0     204.0    0.0    0.0    0.0                1014.0  \n",
       "7   878.0     316.0   36.0   83.0  144.0                 857.0  \n",
       "8  1312.0     283.0   41.0  117.0   96.0                 976.0  "
      ]
     },
     "execution_count": 15,
     "metadata": {},
     "output_type": "execute_result"
    }
   ],
   "source": [
    "# Redefine the DataFrame\n",
    "orchards_df = orchards_df[['Year','Discovery','Worcester Pearmain','Cox','Egremont Russet','Braeburn','Gala','Jonagold','Cameo','Jazz','Kanzi','Other Dessert Apples']]\n",
    "orchards_df"
   ]
  },
  {
   "cell_type": "markdown",
   "metadata": {},
   "source": [
    "#### 4. Identify and handle ambiguity and vagueness"
   ]
  },
  {
   "cell_type": "markdown",
   "metadata": {
    "collapsed": true
   },
   "source": [
    "Both datasets are coming together but there are few areas of ambiguity and vagueness that need to be considered and decided upon.\n",
    "\n",
    "There is ambiguity in how we should calculate the average sale price for an apple variety.  In the fruitveg dataset each variety has various quality levels, without more guidance it is hard to know how to weigh these values correctly (the producers may sell less volume of one quality versus another).  Also, we do not know why there are missing values in certain month columns.\n",
    "\n",
    "For the orchards dataset, there is an extremely vague definition of what the values represent in the real world.  The website says that it _'collects data on the tree areas rather than the field size'_.  However, without being in the industry it is hard to know exactly what that means!  Assuming they are like for like, some comparisons should be able to be made.\n",
    "\n",
    "The other area of ambiguity was which apple varieties were categorised as other and when they were grouped into that category.  I decided to bring all those that were known to be in that category at one point back into it in both datasets, so that we can compare them better."
   ]
  },
  {
   "cell_type": "markdown",
   "metadata": {},
   "source": [
    "##### Calculating an average sale price for the apples.\n",
    "\n",
    "The method I decided to use for calculating the average price was to get the mean of all the month values.  Pandas will automatically ignore the NaN values when calulating the mean so we can do:"
   ]
  },
  {
   "cell_type": "code",
   "execution_count": 16,
   "metadata": {},
   "outputs": [
    {
     "data": {
      "text/html": [
       "<div>\n",
       "<style>\n",
       "    .dataframe thead tr:only-child th {\n",
       "        text-align: right;\n",
       "    }\n",
       "\n",
       "    .dataframe thead th {\n",
       "        text-align: left;\n",
       "    }\n",
       "\n",
       "    .dataframe tbody tr th {\n",
       "        vertical-align: top;\n",
       "    }\n",
       "</style>\n",
       "<table border=\"1\" class=\"dataframe\">\n",
       "  <thead>\n",
       "    <tr style=\"text-align: right;\">\n",
       "      <th></th>\n",
       "      <th>Year</th>\n",
       "      <th>Variety</th>\n",
       "      <th>Average</th>\n",
       "    </tr>\n",
       "  </thead>\n",
       "  <tbody>\n",
       "    <tr>\n",
       "      <th>0</th>\n",
       "      <td>2004</td>\n",
       "      <td>Cox</td>\n",
       "      <td>0.591250</td>\n",
       "    </tr>\n",
       "    <tr>\n",
       "      <th>1</th>\n",
       "      <td>2004</td>\n",
       "      <td>Cox</td>\n",
       "      <td>0.371250</td>\n",
       "    </tr>\n",
       "    <tr>\n",
       "      <th>2</th>\n",
       "      <td>2004</td>\n",
       "      <td>Cox</td>\n",
       "      <td>0.518750</td>\n",
       "    </tr>\n",
       "    <tr>\n",
       "      <th>3</th>\n",
       "      <td>2004</td>\n",
       "      <td>Discovery</td>\n",
       "      <td>0.543333</td>\n",
       "    </tr>\n",
       "    <tr>\n",
       "      <th>4</th>\n",
       "      <td>2004</td>\n",
       "      <td>Discovery</td>\n",
       "      <td>0.413333</td>\n",
       "    </tr>\n",
       "  </tbody>\n",
       "</table>\n",
       "</div>"
      ],
      "text/plain": [
       "   Year    Variety   Average\n",
       "0  2004        Cox  0.591250\n",
       "1  2004        Cox  0.371250\n",
       "2  2004        Cox  0.518750\n",
       "3  2004  Discovery  0.543333\n",
       "4  2004  Discovery  0.413333"
      ]
     },
     "execution_count": 16,
     "metadata": {},
     "output_type": "execute_result"
    }
   ],
   "source": [
    "# first make a list of the month columns for ease of manipulation\n",
    "month_list = ['Jan','Feb','Mar','Apr','May','Jun',\n",
    "              'Jul','Aug','Sep','Oct','Nov','Dec']\n",
    "# create the new column\n",
    "apples_df['Average'] = apples_df[month_list].mean(axis=1)\n",
    "\n",
    "# drop the now uneeded month columns\n",
    "apples_df.drop(month_list, axis=1, inplace=True)\n",
    "\n",
    "# check it looks ok\n",
    "apples_df.head()"
   ]
  },
  {
   "cell_type": "code",
   "execution_count": null,
   "metadata": {
    "collapsed": true
   },
   "outputs": [],
   "source": []
  },
  {
   "cell_type": "markdown",
   "metadata": {},
   "source": [
    "At the moment the various `Quality` values are still showing.  Let's group those together now, again getting the mean value of these for each Apple variety and year."
   ]
  },
  {
   "cell_type": "code",
   "execution_count": 17,
   "metadata": {},
   "outputs": [
    {
     "data": {
      "text/html": [
       "<div>\n",
       "<style>\n",
       "    .dataframe thead tr:only-child th {\n",
       "        text-align: right;\n",
       "    }\n",
       "\n",
       "    .dataframe thead th {\n",
       "        text-align: left;\n",
       "    }\n",
       "\n",
       "    .dataframe tbody tr th {\n",
       "        vertical-align: top;\n",
       "    }\n",
       "</style>\n",
       "<table border=\"1\" class=\"dataframe\">\n",
       "  <thead>\n",
       "    <tr style=\"text-align: right;\">\n",
       "      <th></th>\n",
       "      <th>Variety</th>\n",
       "      <th>Year</th>\n",
       "      <th>Average</th>\n",
       "    </tr>\n",
       "  </thead>\n",
       "  <tbody>\n",
       "    <tr>\n",
       "      <th>0</th>\n",
       "      <td>Braeburn</td>\n",
       "      <td>2014</td>\n",
       "      <td>0.613333</td>\n",
       "    </tr>\n",
       "    <tr>\n",
       "      <th>1</th>\n",
       "      <td>Braeburn</td>\n",
       "      <td>2015</td>\n",
       "      <td>0.561333</td>\n",
       "    </tr>\n",
       "    <tr>\n",
       "      <th>2</th>\n",
       "      <td>Cox</td>\n",
       "      <td>2004</td>\n",
       "      <td>0.493750</td>\n",
       "    </tr>\n",
       "    <tr>\n",
       "      <th>3</th>\n",
       "      <td>Cox</td>\n",
       "      <td>2005</td>\n",
       "      <td>0.456852</td>\n",
       "    </tr>\n",
       "    <tr>\n",
       "      <th>4</th>\n",
       "      <td>Cox</td>\n",
       "      <td>2006</td>\n",
       "      <td>0.515787</td>\n",
       "    </tr>\n",
       "  </tbody>\n",
       "</table>\n",
       "</div>"
      ],
      "text/plain": [
       "    Variety  Year   Average\n",
       "0  Braeburn  2014  0.613333\n",
       "1  Braeburn  2015  0.561333\n",
       "2       Cox  2004  0.493750\n",
       "3       Cox  2005  0.456852\n",
       "4       Cox  2006  0.515787"
      ]
     },
     "execution_count": 17,
     "metadata": {},
     "output_type": "execute_result"
    }
   ],
   "source": [
    "# group the data by Year and Variety, averaging the average\n",
    "apples_df = apples_df.groupby(['Variety','Year'],as_index=False)['Average'].mean()\n",
    "\n",
    "# confirm it is looking right\n",
    "apples_df.head()"
   ]
  },
  {
   "cell_type": "markdown",
   "metadata": {},
   "source": [
    "#### 5. Put the data into an appropriate form for plotting"
   ]
  },
  {
   "cell_type": "markdown",
   "metadata": {},
   "source": [
    "To prepare for plotting we first need to reshape the orchards dataframe.  Using the melt method we can transform the orchards_df shape to be more similar to the apples_df"
   ]
  },
  {
   "cell_type": "code",
   "execution_count": 18,
   "metadata": {},
   "outputs": [
    {
     "data": {
      "text/html": [
       "<div>\n",
       "<style>\n",
       "    .dataframe thead tr:only-child th {\n",
       "        text-align: right;\n",
       "    }\n",
       "\n",
       "    .dataframe thead th {\n",
       "        text-align: left;\n",
       "    }\n",
       "\n",
       "    .dataframe tbody tr th {\n",
       "        vertical-align: top;\n",
       "    }\n",
       "</style>\n",
       "<table border=\"1\" class=\"dataframe\">\n",
       "  <thead>\n",
       "    <tr style=\"text-align: right;\">\n",
       "      <th></th>\n",
       "      <th>Year</th>\n",
       "      <th>Discovery</th>\n",
       "      <th>Worcester Pearmain</th>\n",
       "      <th>Cox</th>\n",
       "      <th>Egremont Russet</th>\n",
       "      <th>Braeburn</th>\n",
       "      <th>Gala</th>\n",
       "      <th>Jonagold</th>\n",
       "      <th>Cameo</th>\n",
       "      <th>Jazz</th>\n",
       "      <th>Kanzi</th>\n",
       "      <th>Other Dessert Apples</th>\n",
       "    </tr>\n",
       "  </thead>\n",
       "  <tbody>\n",
       "    <tr>\n",
       "      <th>0</th>\n",
       "      <td>1999</td>\n",
       "      <td>577.0</td>\n",
       "      <td>294.0</td>\n",
       "      <td>4694.0</td>\n",
       "      <td>325.0</td>\n",
       "      <td>0.0</td>\n",
       "      <td>757.0</td>\n",
       "      <td>400.0</td>\n",
       "      <td>0.0</td>\n",
       "      <td>0.0</td>\n",
       "      <td>0.0</td>\n",
       "      <td>1761.0</td>\n",
       "    </tr>\n",
       "    <tr>\n",
       "      <th>1</th>\n",
       "      <td>2000</td>\n",
       "      <td>484.0</td>\n",
       "      <td>283.0</td>\n",
       "      <td>4186.0</td>\n",
       "      <td>334.0</td>\n",
       "      <td>0.0</td>\n",
       "      <td>828.0</td>\n",
       "      <td>353.0</td>\n",
       "      <td>0.0</td>\n",
       "      <td>0.0</td>\n",
       "      <td>0.0</td>\n",
       "      <td>1643.0</td>\n",
       "    </tr>\n",
       "    <tr>\n",
       "      <th>2</th>\n",
       "      <td>2001</td>\n",
       "      <td>420.0</td>\n",
       "      <td>207.0</td>\n",
       "      <td>3489.0</td>\n",
       "      <td>331.0</td>\n",
       "      <td>0.0</td>\n",
       "      <td>719.0</td>\n",
       "      <td>257.0</td>\n",
       "      <td>0.0</td>\n",
       "      <td>0.0</td>\n",
       "      <td>0.0</td>\n",
       "      <td>1599.0</td>\n",
       "    </tr>\n",
       "    <tr>\n",
       "      <th>3</th>\n",
       "      <td>2002</td>\n",
       "      <td>339.0</td>\n",
       "      <td>196.0</td>\n",
       "      <td>3015.0</td>\n",
       "      <td>268.0</td>\n",
       "      <td>0.0</td>\n",
       "      <td>663.0</td>\n",
       "      <td>201.0</td>\n",
       "      <td>0.0</td>\n",
       "      <td>0.0</td>\n",
       "      <td>0.0</td>\n",
       "      <td>1249.0</td>\n",
       "    </tr>\n",
       "    <tr>\n",
       "      <th>4</th>\n",
       "      <td>2003</td>\n",
       "      <td>264.0</td>\n",
       "      <td>147.0</td>\n",
       "      <td>2738.0</td>\n",
       "      <td>264.0</td>\n",
       "      <td>306.0</td>\n",
       "      <td>674.0</td>\n",
       "      <td>227.0</td>\n",
       "      <td>0.0</td>\n",
       "      <td>0.0</td>\n",
       "      <td>0.0</td>\n",
       "      <td>871.0</td>\n",
       "    </tr>\n",
       "  </tbody>\n",
       "</table>\n",
       "</div>"
      ],
      "text/plain": [
       "   Year  Discovery  Worcester Pearmain     Cox  Egremont Russet  Braeburn  \\\n",
       "0  1999      577.0               294.0  4694.0            325.0       0.0   \n",
       "1  2000      484.0               283.0  4186.0            334.0       0.0   \n",
       "2  2001      420.0               207.0  3489.0            331.0       0.0   \n",
       "3  2002      339.0               196.0  3015.0            268.0       0.0   \n",
       "4  2003      264.0               147.0  2738.0            264.0     306.0   \n",
       "\n",
       "    Gala  Jonagold  Cameo  Jazz  Kanzi  Other Dessert Apples  \n",
       "0  757.0     400.0    0.0   0.0    0.0                1761.0  \n",
       "1  828.0     353.0    0.0   0.0    0.0                1643.0  \n",
       "2  719.0     257.0    0.0   0.0    0.0                1599.0  \n",
       "3  663.0     201.0    0.0   0.0    0.0                1249.0  \n",
       "4  674.0     227.0    0.0   0.0    0.0                 871.0  "
      ]
     },
     "execution_count": 18,
     "metadata": {},
     "output_type": "execute_result"
    }
   ],
   "source": [
    "orchards_df.head()"
   ]
  },
  {
   "cell_type": "code",
   "execution_count": 19,
   "metadata": {},
   "outputs": [
    {
     "data": {
      "text/html": [
       "<div>\n",
       "<style>\n",
       "    .dataframe thead tr:only-child th {\n",
       "        text-align: right;\n",
       "    }\n",
       "\n",
       "    .dataframe thead th {\n",
       "        text-align: left;\n",
       "    }\n",
       "\n",
       "    .dataframe tbody tr th {\n",
       "        vertical-align: top;\n",
       "    }\n",
       "</style>\n",
       "<table border=\"1\" class=\"dataframe\">\n",
       "  <thead>\n",
       "    <tr style=\"text-align: right;\">\n",
       "      <th></th>\n",
       "      <th>Year</th>\n",
       "      <th>Apple variety</th>\n",
       "      <th>Orchard space</th>\n",
       "    </tr>\n",
       "  </thead>\n",
       "  <tbody>\n",
       "    <tr>\n",
       "      <th>0</th>\n",
       "      <td>1999</td>\n",
       "      <td>Discovery</td>\n",
       "      <td>577.0</td>\n",
       "    </tr>\n",
       "    <tr>\n",
       "      <th>1</th>\n",
       "      <td>2000</td>\n",
       "      <td>Discovery</td>\n",
       "      <td>484.0</td>\n",
       "    </tr>\n",
       "    <tr>\n",
       "      <th>2</th>\n",
       "      <td>2001</td>\n",
       "      <td>Discovery</td>\n",
       "      <td>420.0</td>\n",
       "    </tr>\n",
       "    <tr>\n",
       "      <th>3</th>\n",
       "      <td>2002</td>\n",
       "      <td>Discovery</td>\n",
       "      <td>339.0</td>\n",
       "    </tr>\n",
       "    <tr>\n",
       "      <th>4</th>\n",
       "      <td>2003</td>\n",
       "      <td>Discovery</td>\n",
       "      <td>264.0</td>\n",
       "    </tr>\n",
       "  </tbody>\n",
       "</table>\n",
       "</div>"
      ],
      "text/plain": [
       "   Year Apple variety  Orchard space\n",
       "0  1999     Discovery          577.0\n",
       "1  2000     Discovery          484.0\n",
       "2  2001     Discovery          420.0\n",
       "3  2002     Discovery          339.0\n",
       "4  2003     Discovery          264.0"
      ]
     },
     "execution_count": 19,
     "metadata": {},
     "output_type": "execute_result"
    }
   ],
   "source": [
    "# melt the orchards_df into \n",
    "orchards_df = pd.melt(orchards_df, id_vars='Year',var_name='Apple variety', value_name='Orchard space')\n",
    "orchards_df.head()"
   ]
  },
  {
   "cell_type": "markdown",
   "metadata": {},
   "source": [
    "Next, we'll rename the apples_df columns to something more suitable for our target merged shape."
   ]
  },
  {
   "cell_type": "code",
   "execution_count": 20,
   "metadata": {
    "collapsed": true
   },
   "outputs": [],
   "source": [
    "# rename the apple columns to match the desired final table\n",
    "apples_df.columns = ['Apple variety','Year','Average wholesale price']"
   ]
  },
  {
   "cell_type": "markdown",
   "metadata": {
    "collapsed": true
   },
   "source": [
    "__Joining the two datasets__"
   ]
  },
  {
   "cell_type": "markdown",
   "metadata": {},
   "source": [
    "_Note: I struggled to get the two datasets to merge until I realised that I hadn't checked the data types._"
   ]
  },
  {
   "cell_type": "code",
   "execution_count": 21,
   "metadata": {},
   "outputs": [
    {
     "name": "stdout",
     "output_type": "stream",
     "text": [
      "Apple variety               object\n",
      "Year                         int64\n",
      "Average wholesale price    float64\n",
      "dtype: object\n",
      "Year              object\n",
      "Apple variety     object\n",
      "Orchard space    float64\n",
      "dtype: object\n"
     ]
    }
   ],
   "source": [
    "# check the data types of the two datasets\n",
    "print(apples_df.dtypes)\n",
    "print(orchards_df.dtypes)"
   ]
  },
  {
   "cell_type": "code",
   "execution_count": 22,
   "metadata": {
    "collapsed": true
   },
   "outputs": [],
   "source": [
    "# convert into a string object.\n",
    "apples_df['Year'] = apples_df['Year'].astype(str)"
   ]
  },
  {
   "cell_type": "code",
   "execution_count": 23,
   "metadata": {},
   "outputs": [
    {
     "data": {
      "text/html": [
       "<div>\n",
       "<style>\n",
       "    .dataframe thead tr:only-child th {\n",
       "        text-align: right;\n",
       "    }\n",
       "\n",
       "    .dataframe thead th {\n",
       "        text-align: left;\n",
       "    }\n",
       "\n",
       "    .dataframe tbody tr th {\n",
       "        vertical-align: top;\n",
       "    }\n",
       "</style>\n",
       "<table border=\"1\" class=\"dataframe\">\n",
       "  <thead>\n",
       "    <tr style=\"text-align: right;\">\n",
       "      <th></th>\n",
       "      <th>Apple variety</th>\n",
       "      <th>Year</th>\n",
       "      <th>Average wholesale price</th>\n",
       "      <th>Orchard space</th>\n",
       "    </tr>\n",
       "  </thead>\n",
       "  <tbody>\n",
       "    <tr>\n",
       "      <th>0</th>\n",
       "      <td>Cox</td>\n",
       "      <td>2004</td>\n",
       "      <td>0.493750</td>\n",
       "      <td>3144.0</td>\n",
       "    </tr>\n",
       "    <tr>\n",
       "      <th>1</th>\n",
       "      <td>Cox</td>\n",
       "      <td>2007</td>\n",
       "      <td>0.599259</td>\n",
       "      <td>2128.0</td>\n",
       "    </tr>\n",
       "    <tr>\n",
       "      <th>2</th>\n",
       "      <td>Cox</td>\n",
       "      <td>2009</td>\n",
       "      <td>0.626917</td>\n",
       "      <td>1798.0</td>\n",
       "    </tr>\n",
       "    <tr>\n",
       "      <th>3</th>\n",
       "      <td>Cox</td>\n",
       "      <td>2012</td>\n",
       "      <td>0.728009</td>\n",
       "      <td>1697.0</td>\n",
       "    </tr>\n",
       "    <tr>\n",
       "      <th>4</th>\n",
       "      <td>Discovery</td>\n",
       "      <td>2004</td>\n",
       "      <td>0.490000</td>\n",
       "      <td>301.0</td>\n",
       "    </tr>\n",
       "  </tbody>\n",
       "</table>\n",
       "</div>"
      ],
      "text/plain": [
       "  Apple variety  Year  Average wholesale price  Orchard space\n",
       "0           Cox  2004                 0.493750         3144.0\n",
       "1           Cox  2007                 0.599259         2128.0\n",
       "2           Cox  2009                 0.626917         1798.0\n",
       "3           Cox  2012                 0.728009         1697.0\n",
       "4     Discovery  2004                 0.490000          301.0"
      ]
     },
     "execution_count": 23,
     "metadata": {},
     "output_type": "execute_result"
    }
   ],
   "source": [
    "# Merge the two datasets on Apple Variety and Year keeping only those that match both keys\n",
    "merged_df = pd.merge(apples_df, orchards_df, on=['Apple variety','Year'], how='inner')\n",
    "merged_df.head()"
   ]
  },
  {
   "cell_type": "markdown",
   "metadata": {},
   "source": [
    "_Note: I opted for the inner join so as to make sure that we are only going to be comparing values for which we have data from both sources._"
   ]
  },
  {
   "cell_type": "markdown",
   "metadata": {},
   "source": [
    "#### 6. Visualise the data"
   ]
  },
  {
   "cell_type": "markdown",
   "metadata": {},
   "source": [
    "Plot 1 comparing the average orchard space against the average apple price"
   ]
  },
  {
   "cell_type": "code",
   "execution_count": 24,
   "metadata": {
    "collapsed": true
   },
   "outputs": [],
   "source": [
    "# set up the two sets of data to plot\n",
    "# average orchard space by year (All Varieties combined)\n",
    "orch_plot = merged_df[['Year','Orchard space']].groupby('Year').mean()\n",
    "\n",
    "# average wholesale price by year (All Varieties combined)\n",
    "price_plot = merged_df[['Year','Average wholesale price']].groupby('Year').mean()"
   ]
  },
  {
   "cell_type": "code",
   "execution_count": 25,
   "metadata": {},
   "outputs": [
    {
     "data": {
      "text/plain": [
       "<matplotlib.text.Text at 0x7fc110a93cc0>"
      ]
     },
     "execution_count": 25,
     "metadata": {},
     "output_type": "execute_result"
    },
    {
     "data": {
      "image/png": "[encoded data removed]",
      "text/plain": [
       "<matplotlib.figure.Figure at 0x7fc112b4e198>"
      ]
     },
     "metadata": {},
     "output_type": "display_data"
    }
   ],
   "source": [
    "# Create the plot figure\n",
    "# set up our figure object\n",
    "fig = plt.figure()\n",
    "\n",
    "# set the axes for the first plot\n",
    "orch_axes = fig.add_subplot(111)\n",
    "# apply the axes to orch_plot\n",
    "orch_plot.plot.line(ax=orch_axes, color='green')\n",
    "orch_axes.set_ylabel('Average orchard space\\nall varieties (Tree Area)')\n",
    "\n",
    "# set the axes for the price_plot (share the same x axis)\n",
    "price_axes = orch_axes.twinx()\n",
    "\n",
    "# plot on to the price_axes\n",
    "price_plot.plot.line(ax=price_axes, color='blue')\n",
    "# set the y-axis label for price plot\n",
    "price_axes.set_ylabel('Average apple price all varieties (£ / kg)')\n",
    "\n",
    "plt.title('Average wholesale price rise\\nin dessert apples and\\ndecline of orchard space 2004-2012', fontsize=15)"
   ]
  },
  {
   "cell_type": "markdown",
   "metadata": {},
   "source": [
    "_Observations_  This is quite interesting, this plot seems to suggest that there could be a connection between the two variables.\n",
    "\n",
    "Let's take a quick look at the increase in apple wholesale prices."
   ]
  },
  {
   "cell_type": "code",
   "execution_count": 26,
   "metadata": {},
   "outputs": [
    {
     "data": {
      "text/plain": [
       "<matplotlib.text.Text at 0x7fc110a28dd8>"
      ]
     },
     "execution_count": 26,
     "metadata": {},
     "output_type": "execute_result"
    },
    {
     "data": {
      "image/png": "[encoded data removed]",
      "text/plain": [
       "<matplotlib.figure.Figure at 0x7fc110a91198>"
      ]
     },
     "metadata": {},
     "output_type": "display_data"
    }
   ],
   "source": [
    "apple_prices_plot = merged_df.pivot('Year','Apple variety','Average wholesale price')\n",
    "apple_prices_plot.plot()\n",
    "\n",
    "plt.title('Average wholesale prices 2004-2012',fontsize=15)\n",
    "plt.xlabel('Year')\n",
    "plt.ylabel('Apple average wholesale price (£ / kg)')"
   ]
  },
  {
   "cell_type": "markdown",
   "metadata": {},
   "source": [
    "There looks to be a group of 3 varieties that perform far better after 2009.  Lets highlight those three."
   ]
  },
  {
   "cell_type": "code",
   "execution_count": 27,
   "metadata": {},
   "outputs": [
    {
     "data": {
      "text/plain": [
       "<matplotlib.text.Text at 0x7fc110951cc0>"
      ]
     },
     "execution_count": 27,
     "metadata": {},
     "output_type": "execute_result"
    },
    {
     "data": {
      "image/png": "[encoded data removed]",
      "text/plain": [
       "<matplotlib.figure.Figure at 0x7fc112be6780>"
      ]
     },
     "metadata": {},
     "output_type": "display_data"
    }
   ],
   "source": [
    "# highlight what looks to be the outlier\n",
    "plt.plot(apple_prices_plot[['Worcester Pearmain', 'Discovery','Other Dessert Apples']], 'green')\n",
    "\n",
    "plt.annotate('Three varieties sharply\\nincrease in price', xy=(2009.5,0.45))\n",
    "# draw attention away from the other lines\n",
    "plt.plot(apple_prices_plot['Cox'], '0.5',\n",
    "         apple_prices_plot['Gala'], '0.5',\n",
    "         apple_prices_plot['Egremont Russet'], '0.5',\n",
    "         linestyle='dotted')\n",
    "\n",
    "plt.title('Average wholesale prices 2004-2012',fontsize=15)\n",
    "plt.xlabel('Year')\n",
    "plt.ylabel('Apple average wholesale price (£ / kg)')"
   ]
  },
  {
   "cell_type": "code",
   "execution_count": 28,
   "metadata": {},
   "outputs": [
    {
     "data": {
      "text/plain": [
       "<matplotlib.text.Text at 0x7fc110962f60>"
      ]
     },
     "execution_count": 28,
     "metadata": {},
     "output_type": "execute_result"
    },
    {
     "data": {
      "image/png": "[encoded data removed]",
      "text/plain": [
       "<matplotlib.figure.Figure at 0x7fc112b9eb00>"
      ]
     },
     "metadata": {},
     "output_type": "display_data"
    }
   ],
   "source": [
    "orchard_space_plot = merged_df.pivot('Year','Apple variety','Orchard space')\n",
    "orchard_space_plot.plot.line(ylim=[100,3200])\n",
    "\n",
    "plt.title('Total orchard space for apple varieties 2004-2008',fontsize=15)\n",
    "plt.xlabel('Year')\n",
    "plt.ylabel('Total Orchard space (Tree Area)')"
   ]
  },
  {
   "cell_type": "markdown",
   "metadata": {},
   "source": [
    "Lets take a look at just Worcestor Pearmain\n"
   ]
  },
  {
   "cell_type": "code",
   "execution_count": 29,
   "metadata": {},
   "outputs": [
    {
     "data": {
      "text/plain": [
       "<matplotlib.text.Text at 0x7fc11006f278>"
      ]
     },
     "execution_count": 29,
     "metadata": {},
     "output_type": "execute_result"
    },
    {
     "data": {
      "image/png": "[encoded data removed]",
      "text/plain": [
       "<matplotlib.figure.Figure at 0x7fc11099a940>"
      ]
     },
     "metadata": {},
     "output_type": "display_data"
    }
   ],
   "source": [
    "# highlight what looks to be the outlier\n",
    "plt.plot(orchard_space_plot['Worcester Pearmain'], 'green')\n",
    "\n",
    "plt.title('Orchard space occupied by Worcestor Pearmain 2004-2008',fontsize=15)\n",
    "plt.xlabel('Year')\n",
    "plt.ylabel('Orchard space (Tree Area)')"
   ]
  },
  {
   "cell_type": "markdown",
   "metadata": {},
   "source": [
    "Let's look at to see if we can see a correlation using a scatter plot."
   ]
  },
  {
   "cell_type": "code",
   "execution_count": 30,
   "metadata": {},
   "outputs": [
    {
     "data": {
      "text/plain": [
       "<matplotlib.text.Text at 0x7fc10afdb438>"
      ]
     },
     "execution_count": 30,
     "metadata": {},
     "output_type": "execute_result"
    },
    {
     "data": {
      "image/png": "[encoded data removed]",
      "text/plain": [
       "<matplotlib.figure.Figure at 0x7fc11003e208>"
      ]
     },
     "metadata": {},
     "output_type": "display_data"
    }
   ],
   "source": [
    "# create the scatter plot\n",
    "merged_df.plot.scatter(x='Average wholesale price', y='Orchard space')\n",
    "# add the title and axis labels\n",
    "plt.title('Impact of orchard size to a apple variety prices', fontsize=15)\n",
    "plt.xlabel('Average wholesale price (£ / kg)')\n",
    "plt.ylabel('Total orchard space (Tree area)')"
   ]
  },
  {
   "cell_type": "markdown",
   "metadata": {},
   "source": [
    "_Observation_ it looks like there could be a slight inverse correlation between these two variables.  Let's colour the scatter plot to try and glean more information out of it.\n"
   ]
  },
  {
   "cell_type": "code",
   "execution_count": 31,
   "metadata": {},
   "outputs": [
    {
     "data": {
      "text/plain": [
       "['2012', '2004', '2007', '2009']"
      ]
     },
     "execution_count": 31,
     "metadata": {},
     "output_type": "execute_result"
    }
   ],
   "source": [
    "# double check how many years there are in the dataset\n",
    "years = list(set(list(merged_df['Year'])))\n",
    "years"
   ]
  },
  {
   "cell_type": "code",
   "execution_count": 32,
   "metadata": {},
   "outputs": [
    {
     "data": {
      "text/plain": [
       "<matplotlib.legend.Legend at 0x7fc1100512b0>"
      ]
     },
     "execution_count": 32,
     "metadata": {},
     "output_type": "execute_result"
    },
    {
     "data": {
      "image/png": "[encoded data removed]",
      "text/plain": [
       "<matplotlib.figure.Figure at 0x7fc1109a8320>"
      ]
     },
     "metadata": {},
     "output_type": "display_data"
    }
   ],
   "source": [
    "# make a copy of the merged_df to add a colour column to\n",
    "scatter_df = merged_df.copy()\n",
    "scatter_df['Colour'] = 'black'\n",
    "\n",
    "# give each of the years found above a different colour\n",
    "scatter_df.loc[(scatter_df['Year'] == '2004'),['Colour']] = 'purple'\n",
    "scatter_df.loc[(scatter_df['Year'] == '2007'),['Colour']] = 'blue'\n",
    "scatter_df.loc[(scatter_df['Year'] == '2009'),['Colour']] = 'green'\n",
    "scatter_df.loc[(scatter_df['Year'] == '2012'),['Colour']] = 'red'\n",
    "\n",
    "# create the colured scatter plot\n",
    "scatter_df.plot.scatter(x='Average wholesale price', y='Orchard space',\n",
    "                       s=50,\n",
    "                       c=scatter_df['Colour'])\n",
    "# add the title and axis labels\n",
    "plt.title('Impact of orchard size to a apple variety prices', fontsize=15)\n",
    "plt.xlabel('Average wholesale price (£ / kg)')\n",
    "plt.ylabel('Total orchard space (Tree area)')\n",
    "\n",
    "# adding a legend to the scatter plot\n",
    "import matplotlib.patches as mpatches\n",
    "# make the legend handles\n",
    "legend_handles = ([mpatches.Patch(color='red', label='2012')]+\n",
    "                 [mpatches.Patch(color='green', label='2009')]+\n",
    "                 [mpatches.Patch(color='blue', label='2007')]+\n",
    "                 [mpatches.Patch(color='purple', label='2004')])\n",
    "\n",
    "plt.legend(handles=legend_handles, loc=(1.05,0.7))"
   ]
  },
  {
   "cell_type": "markdown",
   "metadata": {},
   "source": [
    "#### 7. Interpret your plot"
   ]
  },
  {
   "cell_type": "markdown",
   "metadata": {
    "collapsed": true
   },
   "source": [
    "The final coloured Scatter plot does appear to suggest some kind of inverse correlation between Orchard space and wholesale prices of dessert apples. Aside from the obvious outlier higher average prices do seem to be somewhat associated with lower allocated spaces.  That said, the colouring suggests all apple prices shot up between 2009 and 2012.  So this could be reflective of something bigger happening in the produce marketplace, or even just inflation.\n",
    "\n",
    "There are a number of other issues to bear in mind when trying to draw conclusions from these datasets, and this investigation.\n",
    "\n",
    "Foremost of which is the amount of missing data within the datasets themselves.  Although I believe I handled these missing data rationally the end results of the calculations could be very different from the real world. As noted, the volume of apples sold of a given quality could greatly impact the 'average' wholesale price.  My method gives a fair approximation based on the information we had, but is far from accurate.  Unfortunately, the orchard data is also missing a quite a few years of information so we end up with a merged dataset that has far fewer data points than we would ideally want to gain insight into the impact of one variable on another.\n",
    "\n"
   ]
  }
 ],
 "metadata": {
  "kernelspec": {
   "display_name": "Python 3",
   "language": "python",
   "name": "python3"
  },
  "language_info": {
   "codemirror_mode": {
    "name": "ipython",
    "version": 3
   },
   "file_extension": ".py",
   "mimetype": "text/x-python",
   "name": "python",
   "nbconvert_exporter": "python",
   "pygments_lexer": "ipython3",
   "version": "3.5.2"
  }
 },
 "nbformat": 4,
 "nbformat_minor": 1
}
