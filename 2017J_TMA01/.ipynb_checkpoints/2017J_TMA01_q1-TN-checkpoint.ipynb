{
 "cells": [
  {
   "cell_type": "markdown",
   "metadata": {},
   "source": [
    "# TMA 01, question 1 (15 marks)"
   ]
  },
  {
   "cell_type": "markdown",
   "metadata": {},
   "source": [
    "**Name**: [Enter your name here]\n",
    "    \n",
    "**PI**: [Enter your student id here]"
   ]
  },
  {
   "cell_type": "markdown",
   "metadata": {
    "collapsed": true
   },
   "source": [
    "This TMA question is designed to start applying some of the ideas that you've seen in the module so far."
   ]
  },
  {
   "cell_type": "markdown",
   "metadata": {},
   "source": [
    "## Part a)\n"
   ]
  },
  {
   "cell_type": "markdown",
   "metadata": {
    "collapsed": true
   },
   "source": [
    "At:\n",
    "\n",
    "https://data.gov.uk/dataset/agricultural_market_reports\n",
    "    \n",
    "is a dataset containing information about the wholesale prices of various products for the period 2004-2015 in England and Wales. The entire dataset is available for download."
   ]
  },
  {
   "cell_type": "markdown",
   "metadata": {},
   "source": [
    "Visit the website via the above link, and look at the website descriptions and metadata. Read the description of the data and then answer the following questions:\n",
    "\n",
    "1. Is the provenance of the data made clear? (Explain your answer.)\n",
    "\n",
    "2. Is it clear when the data was last updated? (Explain your answer.)\n",
    "\n",
    "3. What can you infer from your answers to these questions about the completeness and reliability of the data? (Remember to describe any evidence from the website you use in your answer.)\n",
    "\n",
    "4. What are the rights granted to you to make use of the content of the website? How is this presented?\n"
   ]
  },
  {
   "cell_type": "markdown",
   "metadata": {},
   "source": [
    "*(5 marks)*"
   ]
  },
  {
   "cell_type": "markdown",
   "metadata": {},
   "source": [
    "Write your answer in this cell."
   ]
  },
  {
   "cell_type": "markdown",
   "metadata": {},
   "source": [
    "## Part b)"
   ]
  },
  {
   "cell_type": "markdown",
   "metadata": {},
   "source": [
    "The National Oceanic and Atmospheric Administration keeps a number of resources for supporting research into the behaviour of the seas and the atmosphere. One dataset that NOAA maintains is the Paleoclimatology Dataset. You can find this linked at:\n",
    "\n",
    "https://www.ncdc.noaa.gov/data-access/paleoclimatology-data\n",
    "\n",
    "Visit this website, and explore what the site tells you this data. \n",
    "\n",
    "Answer the following questions, giving brief explanations of your answers, supported by evidence from the website. As well as the particular page linked above, you should also look at other pages on the same site to help answer these questions. Some questions may have more than one possible answer.\n",
    "\n",
    "1. Who do you think is the intended audience for this website?\n",
    "\n",
    "1. What purpose does this website serve? Is it dissemination, archival or curatorial or something else?\n",
    "\n",
    "1. How have the site designers handled issues of data provenance, authority and trust with respect to the data and information it hosts?\n",
    "\n",
    "1. How have the site designers encouraged exploratory engagement with the content, and is this tailored to producing author-driven or reader-driven data stories?\n",
    "\n",
    "1. What requirements would be placed on you if you were to use data extracted from this site in your research or as the basis of a publication or news article?\n"
   ]
  },
  {
   "cell_type": "markdown",
   "metadata": {},
   "source": [
    "*(10 marks)*"
   ]
  },
  {
   "cell_type": "markdown",
   "metadata": {},
   "source": [
    "Write your answer in this cell."
   ]
  }
 ],
 "metadata": {
  "kernelspec": {
   "display_name": "Python 3",
   "language": "python",
   "name": "python3"
  },
  "language_info": {
   "codemirror_mode": {
    "name": "ipython",
    "version": 3
   },
   "file_extension": ".py",
   "mimetype": "text/x-python",
   "name": "python",
   "nbconvert_exporter": "python",
   "pygments_lexer": "ipython3",
   "version": "3.5.2"
  }
 },
 "nbformat": 4,
 "nbformat_minor": 1
}
