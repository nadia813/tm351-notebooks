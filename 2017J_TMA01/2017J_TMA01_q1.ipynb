{
 "cells": [
  {
   "cell_type": "markdown",
   "metadata": {},
   "source": [
    "# TMA 01, question 1 (15 marks)"
   ]
  },
  {
   "cell_type": "markdown",
   "metadata": {},
   "source": [
    "**Name**: Daniel Smith\n",
    "    \n",
    "**PI**: A7603242"
   ]
  },
  {
   "cell_type": "markdown",
   "metadata": {
    "collapsed": true
   },
   "source": [
    "This TMA question is designed to start applying some of the ideas that you've seen in the module so far."
   ]
  },
  {
   "cell_type": "markdown",
   "metadata": {},
   "source": [
    "## Part a)\n"
   ]
  },
  {
   "cell_type": "markdown",
   "metadata": {
    "collapsed": true
   },
   "source": [
    "At:\n",
    "\n",
    "https://data.gov.uk/dataset/agricultural_market_reports\n",
    "    \n",
    "is a dataset containing information about the wholesale prices of various products for the period 2004-2015 in England and Wales. The entire dataset is available for download."
   ]
  },
  {
   "cell_type": "markdown",
   "metadata": {},
   "source": [
    "Visit the website via the above link, and look at the website descriptions and metadata. Read the description of the data and then answer the following questions:\n",
    "\n",
    "1. Is the provenance of the data made clear? (Explain your answer.)\n",
    "\n",
    "2. Is it clear when the data was last updated? (Explain your answer.)\n",
    "\n",
    "3. What can you infer from your answers to these questions about the completeness and reliability of the data? (Remember to describe any evidence from the website you use in your answer.)\n",
    "\n",
    "4. What are the rights granted to you to make use of the content of the website? How is this presented?\n"
   ]
  },
  {
   "cell_type": "markdown",
   "metadata": {},
   "source": [
    "*(5 marks)*"
   ]
  },
  {
   "cell_type": "markdown",
   "metadata": {},
   "source": [
    "### 1. Is the provenance of the data made clear?\n",
    "The data is published by _DEFRA (Department for Environment, Food and Rural Affairs)_.  As a government agency it should be a good source of data.  However, the description states that the prices are the average of \"the most usual prices\" from a variety of wholesalers.  However, this description does allow a certain amount of ambiguity as how do they determine the most usual price, and it isn't clear if they go to every wholesaler in those locations or just a small sample.  So although the publisher is clearly identified the source is not quite so clear. \n",
    "\n",
    "### 2. Is it clear when the data was last updated?\n",
    "It is not clear when the data was last updated as there is no record of that information on the website. There is a quality check date given as 17/12/17, but that is just ensuring the csv format is ok.  You could make an assumption that it was last updated in 2015 as that is when the dataset ends, but assumptions are not concrete.\n",
    "\n",
    "### 3. What can you infer from your answers to these questions about the completeness and reliability of the data?\n",
    "Clearly these two questions have exposed that we cannot have complete faith in the completeness or reliability of this data.  The locations of the wholesalers are listed, but on a city wide level, leaving us unsure whether they refer to the city or just the market.  We can not be sure the data is complete or whether it has it is reliable.\n",
    "\n",
    "### 4. What are the rights granted to you to make use of the content of the website? How is this presented?\n",
    "\n",
    "The data is licensed for use under the _OGL (Open Government Licence)_.  The OGL enables us to copy, publish, distribute, transit, modify, and even profit from the information.  However we must acknowledge the source. (http://www.nationalarchives.gov.uk/doc/open-government-licence/version/3/) "
   ]
  },
  {
   "cell_type": "markdown",
   "metadata": {},
   "source": [
    "## Part b)"
   ]
  },
  {
   "cell_type": "markdown",
   "metadata": {},
   "source": [
    "The National Oceanic and Atmospheric Administration keeps a number of resources for supporting research into the behaviour of the seas and the atmosphere. One dataset that NOAA maintains is the Paleoclimatology Dataset. You can find this linked at:\n",
    "\n",
    "https://www.ncdc.noaa.gov/data-access/paleoclimatology-data\n",
    "\n",
    "Visit this website, and explore what the site tells you this data. \n",
    "\n",
    "Answer the following questions, giving brief explanations of your answers, supported by evidence from the website. As well as the particular page linked above, you should also look at other pages on the same site to help answer these questions. Some questions may have more than one possible answer.\n",
    "\n",
    "1. Who do you think is the intended audience for this website?\n",
    "\n",
    "1. What purpose does this website serve? Is it dissemination, archival or curatorial or something else?\n",
    "\n",
    "1. How have the site designers handled issues of data provenance, authority and trust with respect to the data and information it hosts?\n",
    "\n",
    "1. How have the site designers encouraged exploratory engagement with the content, and is this tailored to producing author-driven or reader-driven data stories?\n",
    "\n",
    "1. What requirements would be placed on you if you were to use data extracted from this site in your research or as the basis of a publication or news article?\n"
   ]
  },
  {
   "cell_type": "markdown",
   "metadata": {},
   "source": [
    "*(10 marks)*\n",
    "### 1. Who do you think are the intended audience for this website?\n",
    "I think that the intended audience for this website  and data are climatologists that model the weather. \n",
    "\n",
    "### 2. What purpose does this website serve?\n",
    "This website's purpose is to act as both an archive and dissemination repository.  On their `About the Paleoclimatology Program` page it states that their mission is to _\"provide the data needed to model inter-annual to centennial-scale environmental variability\"_(NCDC, 2017).  They hold 'proxy' climate data derived from natural sources such as ice cores, sediment etc.\n",
    "\n",
    "### 3. How have the site designers handled issues of data provenance, authority and trust with respect to the data and information it hosts?\n",
    "\n",
    "NOAA, as a US federal agency has to follow the Information Quality Act, they have an information quality system in place. Which can be accessed at (http://www.cio.noaa.gov/services_programs/info_quality.html) \n",
    "\n",
    "For each dataset they hold has a meta data header that includes Contribution date information, the investigation team, last modified date etc.\n",
    "\n",
    "__Example section of the dataset header meta-data__\n",
    "<img src='images/meta_example1.png'>\n",
    "(source https://www1.ncdc.noaa.gov/pub/data/paleo/pages2k/pages2k-temperature-v2-2017/data-version-2.0.0/Ant-DSS.DahlJensen.1999.txt)\n",
    "\n",
    "To contribute data to you need to use one of their templates and follow the guidance notes given.\n",
    "\n",
    "### 4. How have the site designers encouraged exploratory engagement with the content, and is this tailored to producing author-driven or reader-driven data stories?\n",
    "\n",
    "The designers have created a easy to follow navigation system, once on the data sets page you can choose what type of data you would like to investigate.  These datasets though are author driven stories where they explain how the data was derived and other basic information.  There is a nice interactive map that lets you explore where the datasets were derived from.  \n",
    "\n",
    "__interactive map__\n",
    "<img src='images/map.png'>\n",
    "(source https://gis.ncdc.noaa.gov/maps/ncei/paleo?layers=0010101000101001)\n",
    "\n",
    "### 5. What requirements would be placed on you if you were to use data extracted from this site in your research or as the basis of a publication or news article?\n",
    "\n",
    "The usage of publicly available data from this website requires the user to cite the original publication of the data, online resource, and date accessed.  If there is no publication information then I would need to cite the investigator, title, online resourse and data accessed.\n",
    "\n",
    "### References\n",
    "\n",
    "Anon (2017) \"About the Paleoclimatology Program | National Centers for Environmental Information (NCEI) formerly known as National Climatic Data Center (NCDC)\", Ncdc.noaa.gov, [online] Available from: https://www.ncdc.noaa.gov/data-access/paleoclimatology-data/about-the-paleoclimatology-program (Accessed 21 December 2017).\n",
    "\n",
    "https://www1.ncdc.noaa.gov/pub/data/paleo/pages2k/pages2k-temperature-v2-2017/data-version-2.0.0/Ant-DSS.DahlJensen.1999.txt"
   ]
  }
 ],
 "metadata": {
  "kernelspec": {
   "display_name": "Python 3",
   "language": "python",
   "name": "python3"
  },
  "language_info": {
   "codemirror_mode": {
    "name": "ipython",
    "version": 3
   },
   "file_extension": ".py",
   "mimetype": "text/x-python",
   "name": "python",
   "nbconvert_exporter": "python",
   "pygments_lexer": "ipython3",
   "version": "3.5.2"
  }
 },
 "nbformat": 4,
 "nbformat_minor": 1
}
