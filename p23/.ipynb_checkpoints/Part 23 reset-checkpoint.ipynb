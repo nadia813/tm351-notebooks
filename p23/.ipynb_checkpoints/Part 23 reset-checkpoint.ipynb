{
 "cells": [
  {
   "cell_type": "markdown",
   "metadata": {},
   "source": [
    "# Part 23 reset\n",
    "\n",
    "Drop everything ...\n",
    "\n",
    "Note that everything has to be done in the right order to avoid failure due to dependencies between users, roles, tables, views etc."
   ]
  },
  {
   "cell_type": "code",
   "execution_count": 1,
   "metadata": {
    "collapsed": true
   },
   "outputs": [],
   "source": [
    "# import sqlmagic\n",
    "%load_ext sql"
   ]
  },
  {
   "cell_type": "code",
   "execution_count": 2,
   "metadata": {
    "code_folding": []
   },
   "outputs": [
    {
     "data": {
      "text/plain": [
       "'Connected: None@tm351test'"
      ]
     },
     "execution_count": 2,
     "metadata": {},
     "output_type": "execute_result"
    }
   ],
   "source": [
    "# connect as root\n",
    "%sql postgresql:///tm351test"
   ]
  },
  {
   "cell_type": "code",
   "execution_count": 3,
   "metadata": {},
   "outputs": [
    {
     "name": "stdout",
     "output_type": "stream",
     "text": [
      "Done.\n",
      "Done.\n",
      "(psycopg2.ProgrammingError) \"patient_doctor\" is not a table\n",
      "HINT:  Use DROP VIEW to remove a view.\n",
      " [SQL: 'DROP TABLE IF EXISTS patient_doctor CASCADE;']\n"
     ]
    }
   ],
   "source": [
    "%%sql\n",
    "-- drop tables created in notebook 10.1\n",
    "\n",
    "DROP TABLE IF EXISTS drugs_prescribed CASCADE;\n",
    "DROP TABLE IF EXISTS patient_prescription CASCADE;\n",
    "DROP TABLE IF EXISTS patient_doctor CASCADE;\n",
    "DROP TABLE IF EXISTS prescription CASCADE;\n",
    "DROP TABLE IF EXISTS drug CASCADE;\n",
    "DROP TABLE IF EXISTS doctor CASCADE;\n",
    "DROP TABLE IF EXISTS patient CASCADE;"
   ]
  },
  {
   "cell_type": "code",
   "execution_count": 4,
   "metadata": {},
   "outputs": [
    {
     "name": "stdout",
     "output_type": "stream",
     "text": [
      "Done.\n",
      "Done.\n",
      "Done.\n",
      "Done.\n"
     ]
    },
    {
     "data": {
      "text/plain": [
       "[]"
      ]
     },
     "execution_count": 4,
     "metadata": {},
     "output_type": "execute_result"
    }
   ],
   "source": [
    "%%sql\n",
    "-- drop views\n",
    "DROP VIEW IF EXISTS my_patients;\n",
    "DROP VIEW IF EXISTS patient_doctor;\n",
    "\n",
    "-- drop tables\n",
    "DROP TABLE IF EXISTS patients CASCADE;\n",
    "DROP TABLE IF EXISTS doctors CASCADE;"
   ]
  },
  {
   "cell_type": "code",
   "execution_count": 5,
   "metadata": {},
   "outputs": [
    {
     "name": "stdout",
     "output_type": "stream",
     "text": [
      "Done.\n"
     ]
    },
    {
     "data": {
      "text/plain": [
       "[]"
      ]
     },
     "execution_count": 5,
     "metadata": {},
     "output_type": "execute_result"
    }
   ],
   "source": [
    "%%sql\n",
    "-- revoke privileges granted to role doctor\n",
    "-- needed if privileges have been granted before role can be dropped\n",
    "-- will fail if role does not exist\n",
    "REVOKE ALL PRIVILEGES ON ALL TABLES IN SCHEMA public FROM doctor;"
   ]
  },
  {
   "cell_type": "code",
   "execution_count": 6,
   "metadata": {},
   "outputs": [
    {
     "name": "stdout",
     "output_type": "stream",
     "text": [
      "Done.\n",
      "Done.\n",
      "Done.\n",
      "Done.\n",
      "Done.\n"
     ]
    },
    {
     "data": {
      "text/plain": [
       "[]"
      ]
     },
     "execution_count": 6,
     "metadata": {},
     "output_type": "execute_result"
    }
   ],
   "source": [
    "%%sql\n",
    "-- drop users and role\n",
    "-- drops only those users explicitly created by Notebooks provided\n",
    "\n",
    "DROP USER IF EXISTS dbadmin;\n",
    "DROP USER IF EXISTS patient_admin, doctor_admin;\n",
    "DROP USER IF EXISTS gibson, paxton, nolan, rampton, tamblin;\n",
    "DROP ROLE IF EXISTS doctor;\n",
    "DROP USER IF EXISTS a_patient;"
   ]
  },
  {
   "cell_type": "code",
   "execution_count": 7,
   "metadata": {},
   "outputs": [
    {
     "name": "stdout",
     "output_type": "stream",
     "text": [
      "4 rows affected.\n"
     ]
    },
    {
     "data": {
      "text/html": [
       "<table>\n",
       "    <tr>\n",
       "        <th>usename</th>\n",
       "        <th>usesysid</th>\n",
       "        <th>usecreatedb</th>\n",
       "        <th>usesuper</th>\n",
       "        <th>userepl</th>\n",
       "        <th>usebypassrls</th>\n",
       "        <th>passwd</th>\n",
       "        <th>valuntil</th>\n",
       "        <th>useconfig</th>\n",
       "    </tr>\n",
       "    <tr>\n",
       "        <td>postgres</td>\n",
       "        <td>10</td>\n",
       "        <td>True</td>\n",
       "        <td>True</td>\n",
       "        <td>True</td>\n",
       "        <td>True</td>\n",
       "        <td>********</td>\n",
       "        <td>None</td>\n",
       "        <td>None</td>\n",
       "    </tr>\n",
       "    <tr>\n",
       "        <td>test</td>\n",
       "        <td>16384</td>\n",
       "        <td>False</td>\n",
       "        <td>False</td>\n",
       "        <td>False</td>\n",
       "        <td>False</td>\n",
       "        <td>********</td>\n",
       "        <td>None</td>\n",
       "        <td>None</td>\n",
       "    </tr>\n",
       "    <tr>\n",
       "        <td>root</td>\n",
       "        <td>16386</td>\n",
       "        <td>False</td>\n",
       "        <td>True</td>\n",
       "        <td>False</td>\n",
       "        <td>False</td>\n",
       "        <td>********</td>\n",
       "        <td>None</td>\n",
       "        <td>None</td>\n",
       "    </tr>\n",
       "    <tr>\n",
       "        <td>tm351admin</td>\n",
       "        <td>16387</td>\n",
       "        <td>False</td>\n",
       "        <td>True</td>\n",
       "        <td>False</td>\n",
       "        <td>False</td>\n",
       "        <td>********</td>\n",
       "        <td>None</td>\n",
       "        <td>None</td>\n",
       "    </tr>\n",
       "</table>"
      ],
      "text/plain": [
       "[('postgres', 10, True, True, True, True, '********', None, None),\n",
       " ('test', 16384, False, False, False, False, '********', None, None),\n",
       " ('root', 16386, False, True, False, False, '********', None, None),\n",
       " ('tm351admin', 16387, False, True, False, False, '********', None, None)]"
      ]
     },
     "execution_count": 7,
     "metadata": {},
     "output_type": "execute_result"
    }
   ],
   "source": [
    "%%sql\n",
    "select * from pg_user;"
   ]
  },
  {
   "cell_type": "code",
   "execution_count": null,
   "metadata": {
    "collapsed": true
   },
   "outputs": [],
   "source": []
  }
 ],
 "metadata": {
  "kernelspec": {
   "display_name": "Python 3",
   "language": "python",
   "name": "python3"
  },
  "language_info": {
   "codemirror_mode": {
    "name": "ipython",
    "version": 3
   },
   "file_extension": ".py",
   "mimetype": "text/x-python",
   "name": "python",
   "nbconvert_exporter": "python",
   "pygments_lexer": "ipython3",
   "version": "3.5.2"
  }
 },
 "nbformat": 4,
 "nbformat_minor": 1
}
