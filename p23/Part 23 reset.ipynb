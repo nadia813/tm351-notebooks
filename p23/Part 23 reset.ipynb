{
 "cells": [
  {
   "cell_type": "markdown",
   "metadata": {},
   "source": [
    "# Part 23 reset\n",
    "\n",
    "Drop everything ...\n",
    "\n",
    "Note that everything has to be done in the right order to avoid failure due to dependencies between users, roles, tables, views etc."
   ]
  },
  {
   "cell_type": "code",
   "execution_count": null,
   "metadata": {
    "collapsed": true
   },
   "outputs": [],
   "source": [
    "# import sqlmagic\n",
    "%load_ext sql"
   ]
  },
  {
   "cell_type": "code",
   "execution_count": null,
   "metadata": {
    "code_folding": []
   },
   "outputs": [],
   "source": [
    "# connect as root\n",
    "%sql postgresql:///tm351test"
   ]
  },
  {
   "cell_type": "code",
   "execution_count": null,
   "metadata": {},
   "outputs": [],
   "source": [
    "%%sql\n",
    "-- drop tables created in notebook 10.1\n",
    "\n",
    "DROP TABLE IF EXISTS drugs_prescribed CASCADE;\n",
    "DROP TABLE IF EXISTS patient_prescription CASCADE;\n",
    "DROP TABLE IF EXISTS patient_doctor CASCADE;\n",
    "DROP TABLE IF EXISTS prescription CASCADE;\n",
    "DROP TABLE IF EXISTS drug CASCADE;\n",
    "DROP TABLE IF EXISTS doctor CASCADE;\n",
    "DROP TABLE IF EXISTS patient CASCADE;"
   ]
  },
  {
   "cell_type": "code",
   "execution_count": null,
   "metadata": {},
   "outputs": [],
   "source": [
    "%%sql\n",
    "-- drop views\n",
    "DROP VIEW IF EXISTS my_patients;\n",
    "DROP VIEW IF EXISTS patient_doctor;\n",
    "\n",
    "-- drop tables\n",
    "DROP TABLE IF EXISTS patients CASCADE;\n",
    "DROP TABLE IF EXISTS doctors CASCADE;"
   ]
  },
  {
   "cell_type": "code",
   "execution_count": null,
   "metadata": {},
   "outputs": [],
   "source": [
    "%%sql\n",
    "-- revoke privileges granted to role doctor\n",
    "-- needed if privileges have been granted before role can be dropped\n",
    "-- will fail if role does not exist\n",
    "REVOKE ALL PRIVILEGES ON ALL TABLES IN SCHEMA public FROM doctor;"
   ]
  },
  {
   "cell_type": "code",
   "execution_count": null,
   "metadata": {},
   "outputs": [],
   "source": [
    "%%sql\n",
    "-- drop users and role\n",
    "-- drops only those users explicitly created by Notebooks provided\n",
    "\n",
    "DROP USER IF EXISTS dbadmin;\n",
    "DROP USER IF EXISTS patient_admin, doctor_admin;\n",
    "DROP USER IF EXISTS gibson, paxton, nolan, rampton, tamblin;\n",
    "DROP ROLE IF EXISTS doctor;\n",
    "DROP USER IF EXISTS a_patient;"
   ]
  },
  {
   "cell_type": "code",
   "execution_count": null,
   "metadata": {},
   "outputs": [],
   "source": [
    "%%sql\n",
    "select * from pg_user;"
   ]
  },
  {
   "cell_type": "code",
   "execution_count": null,
   "metadata": {
    "collapsed": true
   },
   "outputs": [],
   "source": []
  }
 ],
 "metadata": {
  "kernelspec": {
   "display_name": "Python 3",
   "language": "python",
   "name": "python3"
  },
  "language_info": {
   "codemirror_mode": {
    "name": "ipython",
    "version": 3
   },
   "file_extension": ".py",
   "mimetype": "text/x-python",
   "name": "python",
   "nbconvert_exporter": "python",
   "pygments_lexer": "ipython3",
   "version": "3.5.2"
  }
 },
 "nbformat": 4,
 "nbformat_minor": 1
}
