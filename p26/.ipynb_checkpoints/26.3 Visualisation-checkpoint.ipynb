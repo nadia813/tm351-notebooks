{
 "cells": [
  {
   "cell_type": "markdown",
   "metadata": {},
   "source": [
    "# Visualisation"
   ]
  },
  {
   "cell_type": "markdown",
   "metadata": {},
   "source": [
    "In this Notebook you will look at a variety of visualisation techniques that can be used with the results from SPARQL queries.\n",
    "\n",
    "You will see how to use the folium package to draw maps and the matplotlib package to draw plots."
   ]
  },
  {
   "cell_type": "markdown",
   "metadata": {},
   "source": [
    "## Example 1: Using folium for geographical data"
   ]
  },
  {
   "cell_type": "markdown",
   "metadata": {},
   "source": [
    "In this example you will revisit a SPARQL query that you met in Notebook 26.1.\n",
    "\n",
    "First, import the SPARQLWrapper package and set up the usual helper functions."
   ]
  },
  {
   "cell_type": "code",
   "execution_count": 1,
   "metadata": {},
   "outputs": [
    {
     "name": "stdout",
     "output_type": "stream",
     "text": [
      "Helper functions set up\n"
     ]
    }
   ],
   "source": [
    "# Import the necessary packages\n",
    "from SPARQLWrapper import SPARQLWrapper, JSON\n",
    "\n",
    "# Add some helper functions\n",
    "\n",
    "# A function that will return the results of running a SPARQL query with \n",
    "# a defined set of prefixes over a specified endpoint. \n",
    "# It follows the same five-step process apart from creating the query, which is\n",
    "# provided as an argument to the function.\n",
    "def runQuery(endpoint, prefix, q):\n",
    "    ''' Run a SPARQL query with a declared prefix over a specified endpoint '''\n",
    "    sparql = SPARQLWrapper(endpoint)\n",
    "    sparql.setQuery(prefix+q) # concatenate the strings representing the prefixes and the query\n",
    "    sparql.setReturnFormat(JSON)\n",
    "    return sparql.query().convert()\n",
    "    \n",
    "# Import pandas to provide facilities for creating a DataFrame to hold results\n",
    "import pandas as pd\n",
    "\n",
    "# Function to convert query results into a DataFrame\n",
    "def dict2df(results):\n",
    "    ''' A function to flatten the SPARQL query results and return the column values '''\n",
    "    data = []\n",
    "    for result in results[\"results\"][\"bindings\"]:\n",
    "        tmp = {}\n",
    "        for el in result:\n",
    "            tmp[el] = result[el]['value']\n",
    "        data.append(tmp)\n",
    "\n",
    "    df = pd.DataFrame(data)\n",
    "    return df\n",
    "\n",
    "# Function to run a query and return results in a DataFrame\n",
    "def dfResults(endpoint, prefix, q):\n",
    "    ''' Generate a DataFrame containing the results of running\n",
    "        a SPARQL query with a declared prefix over a specified endpoint \n",
    "    '''\n",
    "    return dict2df(runQuery(endpoint, prefix, q))\n",
    "        \n",
    "# Print a limited number of results of a query\n",
    "def printQuery(results, limit=''):\n",
    "    ''' Print the results from the SPARQL query '''\n",
    "    resdata = results[\"results\"][\"bindings\"]\n",
    "    if limit!='':\n",
    "        resdata = results[\"results\"][\"bindings\"][:limit]\n",
    "    for result in resdata:\n",
    "        for ans in result:\n",
    "            print('{0}: {1}'.format(ans, result[ans]['value']))\n",
    "        print()\n",
    "\n",
    "# Run a query and print out a limited number of results\n",
    "def printRunQuery(endpoint, prefix, q, limit=''):\n",
    "    ''' Print the results from the SPARQL query '''\n",
    "    results = runQuery(endpoint, prefix, q)\n",
    "    printQuery(results, limit)\n",
    "    \n",
    "print(\"Helper functions set up\")"
   ]
  },
  {
   "cell_type": "markdown",
   "metadata": {},
   "source": [
    "The aim is to use the Environment Agency's Bathing Water Linked Data store to find information about bathing water districts within the East Sussex area, including:\n",
    "\n",
    "* name, latitude and longitude, sediment name and location.\n",
    "\n",
    "The locations of the districts are found using Ordnance Survey data via a SERVICE request.\n"
   ]
  },
  {
   "cell_type": "code",
   "execution_count": 2,
   "metadata": {},
   "outputs": [
    {
     "name": "stdout",
     "output_type": "stream",
     "text": [
      "name: Eastbourne\n",
      "districtname: Eastbourne\n",
      "location: http://environment.data.gov.uk/id/bathing-water/ukj2201-14500\n",
      "long: 0.287079793834733\n",
      "sedimentname: sand\n",
      "lat: 50.7609618329818\n",
      "\n",
      "name: Eastbourne\n",
      "districtname: Eastbourne\n",
      "location: http://environment.data.gov.uk/id/bathing-water/ukj2201-14500\n",
      "long: 0.287079793834733\n",
      "sedimentname: shingle\n",
      "lat: 50.7609618329818\n",
      "\n",
      "name: St Leonards\n",
      "districtname: Hastings\n",
      "location: http://environment.data.gov.uk/id/bathing-water/ukj2202-14150\n",
      "long: 0.551426690368772\n",
      "sedimentname: sand\n",
      "lat: 50.8499165351249\n",
      "\n",
      "name: St Leonards\n",
      "districtname: Hastings\n",
      "location: http://environment.data.gov.uk/id/bathing-water/ukj2202-14150\n",
      "long: 0.551426690368772\n",
      "sedimentname: shingle\n",
      "lat: 50.8499165351249\n",
      "\n",
      "name: Hastings Pelham Beach\n",
      "districtname: Hastings\n",
      "location: http://environment.data.gov.uk/id/bathing-water/ukj2202-14100\n",
      "long: 0.585766467133833\n",
      "sedimentname: sand\n",
      "lat: 50.8535481295427\n",
      "\n"
     ]
    }
   ],
   "source": [
    "endpoint_envAgency = 'http://environment.data.gov.uk/sparql/bwq/query'\n",
    "\n",
    "prefix = '''\n",
    "PREFIX rdfs: <http://www.w3.org/2000/01/rdf-schema#>\n",
    "PREFIX admingeo: <http://statistics.data.gov.uk/def/administrative-geography/>\n",
    "PREFIX ossr: <http://data.ordnancesurvey.co.uk/ontology/spatialrelations/>\n",
    "'''\n",
    "\n",
    "q = '''\n",
    "SELECT ?location ?districtname ?name ?sedimentname ?lat ?long\n",
    "WHERE {\n",
    "\n",
    "    SERVICE <http://data.ordnancesurvey.co.uk/datasets/boundary-line/apis/sparql> { \n",
    "        ?area rdfs:label \"East Sussex\" .\n",
    "        ?district ossr:within ?area .\n",
    "        ?district rdfs:label ?districtname .\n",
    "    }\n",
    "    \n",
    "    ?location a <http://environment.data.gov.uk/def/bathing-water/BathingWater> .\n",
    "    ?location <http://environment.data.gov.uk/def/bathing-water/sedimentTypesPresent> ?sediment .\n",
    "    ?location <http://statistics.data.gov.uk/def/administrative-geography/district> ?district .\n",
    "    ?location rdfs:label ?name .\n",
    "    ?sediment rdfs:label ?sedimentname .\n",
    "  \n",
    "     \n",
    "  \n",
    "    ?location <http://location.data.gov.uk/def/ef/SamplingPoint/samplingPoint> ?samplingpoint.\n",
    "    ?samplingpoint <http://www.w3.org/2003/01/geo/wgs84_pos#lat> ?lat.\n",
    "    ?samplingpoint <http://www.w3.org/2003/01/geo/wgs84_pos#long> ?long.\n",
    "    FILTER(LANG(?sedimentname) = \"\" || LANGMATCHES(LANG(?sedimentname), \"en\"))\n",
    "    \n",
    "}\n",
    "ORDER BY ?districtname\n",
    "'''\n",
    "\n",
    "printRunQuery(endpoint_envAgency, prefix, q, limit=5)"
   ]
  },
  {
   "cell_type": "markdown",
   "metadata": {},
   "source": [
    "The next step is to plot this data on a map using the Python library folium. For this we need the data in the form of a DataFrame.\n",
    "\n",
    "\n",
    "Convert data to a DataFrame and print out a few rows to see what they look like."
   ]
  },
  {
   "cell_type": "code",
   "execution_count": 3,
   "metadata": {},
   "outputs": [
    {
     "data": {
      "text/html": [
       "<div>\n",
       "<style>\n",
       "    .dataframe thead tr:only-child th {\n",
       "        text-align: right;\n",
       "    }\n",
       "\n",
       "    .dataframe thead th {\n",
       "        text-align: left;\n",
       "    }\n",
       "\n",
       "    .dataframe tbody tr th {\n",
       "        vertical-align: top;\n",
       "    }\n",
       "</style>\n",
       "<table border=\"1\" class=\"dataframe\">\n",
       "  <thead>\n",
       "    <tr style=\"text-align: right;\">\n",
       "      <th></th>\n",
       "      <th>districtname</th>\n",
       "      <th>lat</th>\n",
       "      <th>location</th>\n",
       "      <th>long</th>\n",
       "      <th>name</th>\n",
       "      <th>sedimentname</th>\n",
       "    </tr>\n",
       "  </thead>\n",
       "  <tbody>\n",
       "    <tr>\n",
       "      <th>0</th>\n",
       "      <td>Eastbourne</td>\n",
       "      <td>50.7609618329818</td>\n",
       "      <td>http://environment.data.gov.uk/id/bathing-wate...</td>\n",
       "      <td>0.287079793834733</td>\n",
       "      <td>Eastbourne</td>\n",
       "      <td>sand</td>\n",
       "    </tr>\n",
       "    <tr>\n",
       "      <th>1</th>\n",
       "      <td>Eastbourne</td>\n",
       "      <td>50.7609618329818</td>\n",
       "      <td>http://environment.data.gov.uk/id/bathing-wate...</td>\n",
       "      <td>0.287079793834733</td>\n",
       "      <td>Eastbourne</td>\n",
       "      <td>shingle</td>\n",
       "    </tr>\n",
       "    <tr>\n",
       "      <th>2</th>\n",
       "      <td>Hastings</td>\n",
       "      <td>50.8499165351249</td>\n",
       "      <td>http://environment.data.gov.uk/id/bathing-wate...</td>\n",
       "      <td>0.551426690368772</td>\n",
       "      <td>St Leonards</td>\n",
       "      <td>sand</td>\n",
       "    </tr>\n",
       "  </tbody>\n",
       "</table>\n",
       "</div>"
      ],
      "text/plain": [
       "  districtname               lat  \\\n",
       "0   Eastbourne  50.7609618329818   \n",
       "1   Eastbourne  50.7609618329818   \n",
       "2     Hastings  50.8499165351249   \n",
       "\n",
       "                                            location               long  \\\n",
       "0  http://environment.data.gov.uk/id/bathing-wate...  0.287079793834733   \n",
       "1  http://environment.data.gov.uk/id/bathing-wate...  0.287079793834733   \n",
       "2  http://environment.data.gov.uk/id/bathing-wate...  0.551426690368772   \n",
       "\n",
       "          name sedimentname  \n",
       "0   Eastbourne         sand  \n",
       "1   Eastbourne      shingle  \n",
       "2  St Leonards         sand  "
      ]
     },
     "execution_count": 3,
     "metadata": {},
     "output_type": "execute_result"
    }
   ],
   "source": [
    "df = dfResults(endpoint_envAgency, prefix, q)\n",
    "df[:3]"
   ]
  },
  {
   "cell_type": "markdown",
   "metadata": {},
   "source": [
    "Import the folium package and define a function that will convert the HTML source of a folium map into a form suitable for displaying in a Python Notebook.\n",
    "\n",
    "The details of this conversion need not concern you."
   ]
  },
  {
   "cell_type": "code",
   "execution_count": 4,
   "metadata": {
    "collapsed": true
   },
   "outputs": [],
   "source": [
    "# Helper function for displaying folium maps in a Notebook\n",
    "import folium\n",
    "from IPython.display import HTML\n",
    "\n",
    "# This function builds a folium map suitable for displaying in a Notebook.\n",
    "# The details of its implementation can be ignored.\n",
    "# The argument, map, is a folium map object created using folium.Map() - see later for an example.\n",
    "def inline_map(map):\n",
    "    '''Embeds the HTML source of the map directly into the IPython Notebook.\n",
    "       Note: use is made of the HTML5 srcdoc attribute which may not be \n",
    "       supported by all browsers.\n",
    "    '''\n",
    "    map._build_map()\n",
    "    srcdoc = map.HTML.replace('\"', '&quot;')\n",
    "    embed = HTML('<iframe srcdoc=\"{}\" '\n",
    "                 'style=\"width: 100%; height: 510px; '\n",
    "                 'border: none\"></iframe>'.format(srcdoc))\n",
    "    return embed\n"
   ]
  },
  {
   "cell_type": "markdown",
   "metadata": {},
   "source": [
    "Convert latitude and longitude values to floats for folium. Find mean values of results to centre the map."
   ]
  },
  {
   "cell_type": "code",
   "execution_count": 5,
   "metadata": {
    "collapsed": true
   },
   "outputs": [],
   "source": [
    "# Cast the lat and long values to floats\n",
    "df['lat'] = df['lat'].astype(float)\n",
    "df['long'] = df['long'].astype(float)\n",
    "\n",
    "# Find their mean values to centre the map\n",
    "latMean = df['lat'].mean()\n",
    "longMean = df['long'].mean()"
   ]
  },
  {
   "cell_type": "markdown",
   "metadata": {},
   "source": [
    "Create the map with appropriate zoom level and centre it. The location argument specifies the centre of the map when it is rendered on the screen. The zoom level indicates the scale of the map: the larger the zoom value, the more detail can be seen but the physical area covered by the map is smaller."
   ]
  },
  {
   "cell_type": "code",
   "execution_count": 6,
   "metadata": {
    "collapsed": true
   },
   "outputs": [],
   "source": [
    "# Create the map with an appropriate zoom level, and centre it\n",
    "bathingwater = folium.Map(location=[latMean, longMean], zoom_start=10)"
   ]
  },
  {
   "cell_type": "markdown",
   "metadata": {},
   "source": [
    "Iterate through the DataFrame, adding each sample point as a marker on the map."
   ]
  },
  {
   "cell_type": "code",
   "execution_count": 7,
   "metadata": {
    "collapsed": true
   },
   "outputs": [],
   "source": [
    "# Iterate through the DataFrame, adding each sample point as a marker on the map.\n",
    "# The marker is a simple marker (a circle with a pointer), with centre specified by the location argument.\n",
    "# When you click on a marker, the text of the popup argument is revealed.\n",
    "for ix, row in df[['name','lat','long','sedimentname']].iterrows():\n",
    "    folium.Marker(location=[row['lat'], row['long']], popup=row['sedimentname']).add_to(bathingwater)"
   ]
  },
  {
   "cell_type": "markdown",
   "metadata": {},
   "source": [
    "Render the map."
   ]
  },
  {
   "cell_type": "code",
   "execution_count": 8,
   "metadata": {},
   "outputs": [
    {
     "data": {
      "text/html": [
       "<div style=\"width:100%;\"><div style=\"position:relative;width:100%;height:0;padding-bottom:60%;\"><iframe src=\"data:text/html;charset=utf-8;base64,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\" style=\"position:absolute;width:100%;height:100%;left:0;top:0;border:none !important;\" allowfullscreen webkitallowfullscreen mozallowfullscreen></iframe></div></div>"
      ],
      "text/plain": [
       "<folium.folium.Map at 0x7fb98f3ff1d0>"
      ]
     },
     "execution_count": 8,
     "metadata": {},
     "output_type": "execute_result"
    }
   ],
   "source": [
    "# Render the map\n",
    "bathingwater"
   ]
  },
  {
   "cell_type": "markdown",
   "metadata": {},
   "source": [
    "Folium offers a range of facilities including a variety of types of marker. Markers can have 'pop-ups', small pieces of text that are revealed when the marker is clicked; try it on the map above.\n",
    "\n",
    "Use the zoom tool in the top left-hand corner of the map to alter the scale of the map."
   ]
  },
  {
   "cell_type": "markdown",
   "metadata": {
    "activity": "activity"
   },
   "source": [
    "### Activity 1\n",
    "\n",
    "Change the value of the `zoom_start` argument in the following code to see what effect this has.\n",
    "\n",
    "The type of marker has been changed from simple marker to circle marker."
   ]
  },
  {
   "cell_type": "code",
   "execution_count": 13,
   "metadata": {
    "activity": "activity"
   },
   "outputs": [
    {
     "data": {
      "text/html": [
       "<div style=\"width:100%;\"><div style=\"position:relative;width:100%;height:0;padding-bottom:60%;\"><iframe src=\"data:text/html;charset=utf-8;base64,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\" style=\"position:absolute;width:100%;height:100%;left:0;top:0;border:none !important;\" allowfullscreen webkitallowfullscreen mozallowfullscreen></iframe></div></div>"
      ],
      "text/plain": [
       "<folium.folium.Map at 0x7fb98f5d34a8>"
      ]
     },
     "execution_count": 13,
     "metadata": {},
     "output_type": "execute_result"
    }
   ],
   "source": [
    "# Change the value of zoom_start\n",
    "bathingwater = folium.Map(location=[latMean, longMean], zoom_start=8)\n",
    "\n",
    "# Calculate the locations of the markers (these change as the value of zoom_start changes)\n",
    "for ix, row in df[['name','lat','long','sedimentname']].iterrows():\n",
    "    folium.CircleMarker(location=[row['lat'], row['long']], \n",
    "                               radius       = 10,\n",
    "                               popup        = row['sedimentname'], \n",
    "                               color   = 'blue',\n",
    "                               fill_color   = 'blue', \n",
    "                               fill_opacity = 0.2).add_to(bathingwater)\n",
    "# Render the map\n",
    "bathingwater"
   ]
  },
  {
   "cell_type": "markdown",
   "metadata": {
    "activity": "activity"
   },
   "source": [
    "### Activity 2\n",
    "\n",
    "Change the arguments to the `circle_marker` method to see the effects."
   ]
  },
  {
   "cell_type": "code",
   "execution_count": 14,
   "metadata": {
    "activity": "activity"
   },
   "outputs": [
    {
     "data": {
      "text/html": [
       "<div style=\"width:100%;\"><div style=\"position:relative;width:100%;height:0;padding-bottom:60%;\"><iframe src=\"data:text/html;charset=utf-8;base64,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\" style=\"position:absolute;width:100%;height:100%;left:0;top:0;border:none !important;\" allowfullscreen webkitallowfullscreen mozallowfullscreen></iframe></div></div>"
      ],
      "text/plain": [
       "<folium.folium.Map at 0x7fb98f54f0b8>"
      ]
     },
     "execution_count": 14,
     "metadata": {},
     "output_type": "execute_result"
    }
   ],
   "source": [
    "bathingwater = folium.Map(location=[latMean, longMean], zoom_start=10)\n",
    "\n",
    "# Calculate the locations of the markers (these change as the value of zoom_start changes)\n",
    "for ix, row in df[['name','lat','long','sedimentname']].iterrows():\n",
    "    folium.CircleMarker(location = [row['lat'], row['long']], \n",
    "                               radius       = 3, #smaller circles\n",
    "                               popup        = row['sedimentname'], \n",
    "                               color   = 'blue',\n",
    "                               fill_color   = 'green', #different colour\n",
    "                               fill_opacity = 0.8 #different opacity of fill\n",
    "                               ).add_to(bathingwater)\n",
    "# Render the map\n",
    "bathingwater"
   ]
  },
  {
   "cell_type": "markdown",
   "metadata": {},
   "source": [
    "Hence, to add markers to a map and render the results, the steps are:\n",
    "\n",
    "1. Run a query and return the results as a DataFrame (the data should contain latitude and longitude values).\n",
    "\n",
    "2. Import folium and HTML and set up the `inline_map()` helper function.\n",
    "\n",
    "3. Calculate the location (latitude, longitude) of the centre of the map and choose an appropriate zoom start level and create a folium map using:\n",
    "\n",
    "        myMap = folium.Map(location=[latMean, longMean], zoom_start=10)\n",
    "    \n",
    "4. Iterate through the DataFrame, adding each sample point as a marker to the map using:\n",
    "\n",
    "        myMap.circle_marker(...)\n",
    "\n",
    "    (other types of marker are available).\n",
    "\n",
    "5. Render the map using the `inline_map()` helper function.\n"
   ]
  },
  {
   "cell_type": "markdown",
   "metadata": {},
   "source": [
    "## Example 2: Using the matplotlib package to plot results"
   ]
  },
  {
   "cell_type": "markdown",
   "metadata": {},
   "source": [
    "Here is another visualisation technique, which uses the matplotlib package.\n",
    "\n",
    "In this example the aim is to work through the column of sediments in the DataFrame containing the query results, counting the number of each sediment type and then plotting the results.\n",
    "\n",
    "Start by importing the matplotlib package."
   ]
  },
  {
   "cell_type": "code",
   "execution_count": 15,
   "metadata": {
    "collapsed": true
   },
   "outputs": [],
   "source": [
    "import matplotlib.pyplot as plt"
   ]
  },
  {
   "cell_type": "markdown",
   "metadata": {},
   "source": [
    "Use the 'ggplot' style; other styles are available.\n",
    "\n",
    "(The ggplot style emulates a popular plotting package for 'R', a software environment for statistical computing and graphics.)\n"
   ]
  },
  {
   "cell_type": "code",
   "execution_count": 16,
   "metadata": {
    "collapsed": true
   },
   "outputs": [],
   "source": [
    "# matplotlib.style.use('ggplot')\n",
    "plt.style.use('ggplot')"
   ]
  },
  {
   "cell_type": "markdown",
   "metadata": {},
   "source": [
    "Set up a Series to record the number of each sediment type in the sample. The types of sediment were found in Notebook 26.1, Activity 3. The Series is initialised with counts of zero for each type of sediment."
   ]
  },
  {
   "cell_type": "code",
   "execution_count": 17,
   "metadata": {
    "collapsed": true
   },
   "outputs": [],
   "source": [
    "s = pd.Series([0,0,0], index=['sand', 'shingle', 'other'])    "
   ]
  },
  {
   "cell_type": "markdown",
   "metadata": {},
   "source": [
    "Loop through the sediment column."
   ]
  },
  {
   "cell_type": "code",
   "execution_count": 18,
   "metadata": {},
   "outputs": [
    {
     "data": {
      "text/plain": [
       "sand       11\n",
       "shingle     9\n",
       "other       0\n",
       "dtype: int64"
      ]
     },
     "execution_count": 18,
     "metadata": {},
     "output_type": "execute_result"
    }
   ],
   "source": [
    "# Loop through the sediment \n",
    "for ix, row in df[['sedimentname']].iterrows(): \n",
    "    if (row['sedimentname'] == 'sand'):\n",
    "        s['sand'] = s['sand']+1\n",
    "    elif (row['sedimentname'] == 'shingle'):\n",
    "        s['shingle'] = s['shingle'] + 1\n",
    "    else:\n",
    "        s['other'] = s['other'] + 1\n",
    "s"
   ]
  },
  {
   "cell_type": "markdown",
   "metadata": {},
   "source": [
    "Print a bar chart of the sediment counts."
   ]
  },
  {
   "cell_type": "code",
   "execution_count": 19,
   "metadata": {},
   "outputs": [
    {
     "data": {
      "text/plain": [
       "<matplotlib.axes._subplots.AxesSubplot at 0x7fb98f5d3f28>"
      ]
     },
     "execution_count": 19,
     "metadata": {},
     "output_type": "execute_result"
    },
    {
     "data": {
      "image/png": "[encoded data removed]",
      "text/plain": [
       "<matplotlib.figure.Figure at 0x7fb98f7027f0>"
      ]
     },
     "metadata": {},
     "output_type": "display_data"
    }
   ],
   "source": [
    "s.plot(kind='bar')"
   ]
  },
  {
   "cell_type": "markdown",
   "metadata": {},
   "source": [
    "Note how the plot routine has automatically used the row indexes of the DataFrame to label the horizontal axis. The vertical axis has been automatically scaled for the tallest bar.\n",
    "\n",
    "Next, render a pie chart of the sediment counts."
   ]
  },
  {
   "cell_type": "code",
   "execution_count": 20,
   "metadata": {},
   "outputs": [
    {
     "data": {
      "text/plain": [
       "<matplotlib.axes._subplots.AxesSubplot at 0x7fb98fa7a390>"
      ]
     },
     "execution_count": 20,
     "metadata": {},
     "output_type": "execute_result"
    },
    {
     "data": {
      "image/png": "[encoded data removed]",
      "text/plain": [
       "<matplotlib.figure.Figure at 0x7fb9bc0e42b0>"
      ]
     },
     "metadata": {},
     "output_type": "display_data"
    }
   ],
   "source": [
    "s.plot(kind='pie')"
   ]
  },
  {
   "cell_type": "markdown",
   "metadata": {},
   "source": [
    "While these have been particularly simple uses of the matplotlib package, they do illustrate how easily plots of data can be rendered.\n",
    "\n",
    "The plot routine illustrated here has many arguments for tailoring the plots to your requirements (colours, shapes, titles, axes and so forth).\n"
   ]
  },
  {
   "cell_type": "markdown",
   "metadata": {
    "activity": "activity"
   },
   "source": [
    "### Activity 3\n",
    "\n",
    "Extend the sediment column loop to count all sediment types (sand, shingle, rock, marsh, mud, other).\n",
    "\n",
    "Run the bathing water query again but for a different area (try a county) and plot the results on a pie chart."
   ]
  },
  {
   "cell_type": "code",
   "execution_count": null,
   "metadata": {
    "activity": "activity",
    "collapsed": true
   },
   "outputs": [],
   "source": [
    "endpoint_evAgency = 'http://environment.data.gov.uk/spaql/bwg/query'\n",
    "prefix = '''\n",
    "PREFIX rdfs: <http://www.w3.org/2000/01/rdf-schema#>\n",
    "PREFIX admingeo: <http://statistics.data.gov.uk/def/administrative-geography/>\n",
    "PREFIX ossr: <http://data.ordanancesurvey.co.uk/ontology/spatialrelations/>\n",
    "'''\n",
    "\n",
    "# Modified query to find sediments (sampling point and other information not required)\n",
    "q = '''\n",
    "SELECT ?name ?sedimentname\n",
    "WHERE {\n",
    "    SERVICE <http://data.ordancancesurvey.co.uk/datasets/boundary-line/apis/spaql> {\n",
    "        ?area rdfs:label \"North Yorkshire\" .\n",
    "        ?district ossr:within ?area .\n",
    "        ?district rdfs:abel ?districtname .\n",
    "    }\n",
    "    \n",
    "    ?location a <ht\n",
    "}\n",
    "'''"
   ]
  },
  {
   "cell_type": "markdown",
   "metadata": {
    "activity": "activity"
   },
   "source": [
    "#### Our solution\n",
    "\n",
    "To reveal our solution, click on the triangle symbol on the left-hand end of this cell.\n"
   ]
  },
  {
   "cell_type": "code",
   "execution_count": 21,
   "metadata": {},
   "outputs": [
    {
     "name": "stdout",
     "output_type": "stream",
     "text": [
      "sand       9\n",
      "shingle    1\n",
      "rock       4\n",
      "marsh      0\n",
      "mud        0\n",
      "other      0\n",
      "dtype: int64\n"
     ]
    },
    {
     "data": {
      "text/plain": [
       "<matplotlib.axes._subplots.AxesSubplot at 0x7fb98f3adf60>"
      ]
     },
     "execution_count": 21,
     "metadata": {},
     "output_type": "execute_result"
    },
    {
     "data": {
      "image/png": "[encoded data removed]",
      "text/plain": [
       "<matplotlib.figure.Figure at 0x7fb98f3c3518>"
      ]
     },
     "metadata": {},
     "output_type": "display_data"
    }
   ],
   "source": [
    "endpoint_envAgency = 'http://environment.data.gov.uk/sparql/bwq/query'\n",
    "prefix = '''\n",
    "PREFIX rdfs: <http://www.w3.org/2000/01/rdf-schema#>\n",
    "PREFIX admingeo: <http://statistics.data.gov.uk/def/administrative-geography/>\n",
    "PREFIX ossr: <http://data.ordnancesurvey.co.uk/ontology/spatialrelations/>\n",
    "'''\n",
    "\n",
    "\n",
    "# Modified query to find sediments (sampling point and other information not required)\n",
    "q = '''\n",
    "SELECT ?name ?sedimentname\n",
    "WHERE {\n",
    "\n",
    "    SERVICE <http://data.ordnancesurvey.co.uk/datasets/boundary-line/apis/sparql> { \n",
    "        ?area rdfs:label \"North Yorkshire\" .\n",
    "        ?district ossr:within ?area .\n",
    "        ?district rdfs:label ?districtname .\n",
    "    }\n",
    "    \n",
    "    ?location a <http://environment.data.gov.uk/def/bathing-water/BathingWater> .\n",
    "    ?location <http://environment.data.gov.uk/def/bathing-water/sedimentTypesPresent> ?sediment .\n",
    "    ?location <http://statistics.data.gov.uk/def/administrative-geography/district> ?district .\n",
    "    ?location rdfs:label ?name .\n",
    "    ?sediment rdfs:label ?sedimentname .\n",
    "         \n",
    "    FILTER(LANG(?sedimentname) = \"\" || LANGMATCHES(LANG(?sedimentname), \"en\"))\n",
    "    \n",
    "}\n",
    "'''\n",
    "\n",
    "# Run query\n",
    "df = dfResults(endpoint_envAgency, prefix, q)\n",
    "\n",
    "# Set up series for all sediment types to count occurrences\n",
    "s = pd.Series([0,0,0,0,0,0], index=['sand', 'shingle', 'rock', 'marsh', 'mud', 'other'])   \n",
    "\n",
    "# Loop through the sediment \n",
    "for ix, row in df[['sedimentname']].iterrows(): \n",
    "    if (row['sedimentname'] == 'sand'):\n",
    "        s['sand'] = s['sand']+1\n",
    "    elif (row['sedimentname'] == 'shingle'):\n",
    "        s['shingle'] = s['shingle'] + 1\n",
    "    elif (row['sedimentname'] == 'rock'):\n",
    "        s['rock'] = s['rock'] + 1\n",
    "    elif (row['sedimentname'] == 'marsh'):\n",
    "        s['marsh'] = s['marsh'] + 1\n",
    "    elif (row['sedimentname'] == 'mud'):\n",
    "        s['mud'] = s['mud'] + 1\n",
    "    else:\n",
    "        s['other'] = s['other']+1\n",
    "        \n",
    "print(s)\n",
    "\n",
    "# Plot results\n",
    "s.plot(kind='pie')"
   ]
  },
  {
   "cell_type": "markdown",
   "metadata": {},
   "source": [
    "## Example 3: Visualising house price data"
   ]
  },
  {
   "cell_type": "markdown",
   "metadata": {},
   "source": [
    "In this example you will examine house price data from the Land Registry. The aim is to compare the prices of the different types of houses in various locations. The results of the query will be displayed on a simple bar chart.\n",
    "\n",
    "The query finds the prices for different types of house in a single location. Since we want to find the prices in several locations, the query has been embeded in a function with a single argument: the name of the location.\n",
    "\n",
    "The data held by the Land Registry is in a resource we have labelled `localAuthorityMonth` with a typical value of:\n",
    "\n",
    "    http://landregistry.data.gov.uk/data/hpi/region/city-of-plymouth/month/2015-01\n",
    "\n",
    "This references the data for a specific region (local authority), `city-of-plymouth`, for a specific month, January 2015."
   ]
  },
  {
   "cell_type": "code",
   "execution_count": 22,
   "metadata": {
    "collapsed": true
   },
   "outputs": [],
   "source": [
    "# Define a query to find the house price details of a given location\n",
    "def query(name):\n",
    "    s = '''\n",
    "   SELECT DISTINCT  ?avgDetached ?avgSemi ?avgFlats ?avgTerraced\n",
    "   WHERE\n",
    "      {\n",
    "         # Bind the location of the data for a local authority for the month of January 2015 \n",
    "         # to the variable ?localAuthorityMonth\n",
    "         VALUES ?localAuthorityMonth {<http://landregistry.data.gov.uk/data/hpi/region/'''\n",
    "    s = s + str(name)\n",
    "    s = s + '''/month/2015-01>}\n",
    "\n",
    "         # Extract the prices for different types of house \n",
    "         ?localAuthorityMonth\n",
    "            lrhpi:refRegion ?regionURI ;\n",
    "            lrhpi:averagePricesDetachedSASM ?avgDetached ;\n",
    "            lrhpi:averagePricesSemiDetachedSASM ?avgSemi ;\n",
    "            lrhpi:averagePricesFlatMaisonetteSASM ?avgFlats ;\n",
    "            lrhpi:averagePricesTerracedSASM ?avgTerraced .\n",
    "    \n",
    "         # Obtain name of region\n",
    "         ?regionURI rdfs:label ?regionName .\n",
    "      FILTER (langMatches(lang(?regionName), \"EN\") )\n",
    "   }\n",
    "   '''\n",
    "    return s\n",
    "    "
   ]
  },
  {
   "cell_type": "markdown",
   "metadata": {},
   "source": [
    "Run the query for three different local authorities."
   ]
  },
  {
   "cell_type": "code",
   "execution_count": 23,
   "metadata": {},
   "outputs": [
    {
     "name": "stdout",
     "output_type": "stream",
     "text": [
      "               avgDetached  avgFlats  avgSemi  avgTerraced\n",
      "Plymouth            282701     79737   145330       122538\n",
      "Tyne-and-Wear       209021     73225   111554        87684\n",
      "Oldham              203761     81147   109611        58164\n"
     ]
    }
   ],
   "source": [
    "endpoint_lr = 'http://landregistry.data.gov.uk/landregistry/query'\n",
    "\n",
    "prefix = '''\n",
    "PREFIX rdfs: <http://www.w3.org/2000/01/rdf-schema#>\n",
    "PREFIX lrhpi: <http://landregistry.data.gov.uk/def/hpi/>\n",
    "'''\n",
    "\n",
    "q1 = query('city-of-plymouth')\n",
    "df1 = dfResults(endpoint_lr, prefix, q1)\n",
    "\n",
    "q2 = query('tyne-and-wear')\n",
    "df2 = dfResults(endpoint_lr, prefix, q2)\n",
    "\n",
    "q3 = query('oldham')\n",
    "df3 = dfResults(endpoint_lr, prefix, q3)\n",
    "\n",
    "# Concatenate results into a single DataFrame with local authority names as indices\n",
    "frames = [df1, df2, df3]\n",
    "df = pd.concat(frames, ignore_index=True)\n",
    "\n",
    "# Convert the DataFrame to numeric values\n",
    "df = df.apply(pd.to_numeric)\n",
    "df.index = ['Plymouth', 'Tyne-and-Wear', 'Oldham']\n",
    "\n",
    "# Output results\n",
    "print(df)"
   ]
  },
  {
   "cell_type": "code",
   "execution_count": 24,
   "metadata": {},
   "outputs": [
    {
     "data": {
      "text/plain": [
       "<matplotlib.axes._subplots.AxesSubplot at 0x7fb98f4a40b8>"
      ]
     },
     "execution_count": 24,
     "metadata": {},
     "output_type": "execute_result"
    },
    {
     "data": {
      "image/png": "[encoded data removed]",
      "text/plain": [
       "<matplotlib.figure.Figure at 0x7fb98f464e10>"
      ]
     },
     "metadata": {},
     "output_type": "display_data"
    }
   ],
   "source": [
    "# Plot the results as a bar chart\n",
    "df.plot(kind='bar')"
   ]
  },
  {
   "cell_type": "markdown",
   "metadata": {},
   "source": [
    "This output draws your attention to the fact that, in 2015, it was cheaper, on average, to buy a terraced property in Oldham than to buy a flat, which is different from the cases of Plymouth and Tyne-and-Wear. Also, the average price of detached properties was considerably above that of other types of property (at least double) in each of these locations. "
   ]
  },
  {
   "cell_type": "markdown",
   "metadata": {
    "activity": "activity"
   },
   "source": [
    "### Activity 4\n",
    "\n",
    "Repeat the activity in Example 3 with three or four different towns or cities.\n",
    "\n",
    "In some cases, such as Plymouth, the name of the city is recorded as `city-of-plymouth` to distinguish it from other places with the same name. A list of local authority names and code numbers can be found at the ONS site https://geoportal.statistics.gov.uk/geoportal/catalog/content/filelist.page?redirect. However, it can be quite tricky to discover the name used for the local authority of a well-known town or city. You might like to try the Ordnance Survey's linked data site at http://data.ordnancesurvey.co.uk/ to view named places."
   ]
  },
  {
   "cell_type": "code",
   "execution_count": null,
   "metadata": {
    "activity": "activity",
    "collapsed": true
   },
   "outputs": [],
   "source": [
    "# Insert your solution here"
   ]
  },
  {
   "cell_type": "markdown",
   "metadata": {
    "activity": "activity"
   },
   "source": [
    "#### Our solution\n",
    "\n",
    "To reveal our solution, click on the triangle symbol on the left-hand end of this cell.\n"
   ]
  },
  {
   "cell_type": "code",
   "execution_count": 25,
   "metadata": {},
   "outputs": [
    {
     "name": "stdout",
     "output_type": "stream",
     "text": [
      "                avgDetached  avgFlats  avgSemi  avgTerraced\n",
      "Stoke-on-Trent       132868     54635    75319        42190\n",
      "York                 289590    170109   181134       167158\n",
      "Poole                336352    190859   193421       179651\n"
     ]
    },
    {
     "data": {
      "text/plain": [
       "<matplotlib.axes._subplots.AxesSubplot at 0x7fb98f25e588>"
      ]
     },
     "execution_count": 25,
     "metadata": {},
     "output_type": "execute_result"
    },
    {
     "data": {
      "image/png": "[encoded data removed]",
      "text/plain": [
       "<matplotlib.figure.Figure at 0x7fb98f472630>"
      ]
     },
     "metadata": {},
     "output_type": "display_data"
    }
   ],
   "source": [
    "endpoint_lr = 'http://landregistry.data.gov.uk/landregistry/query'\n",
    "\n",
    "prefix = '''\n",
    "PREFIX rdfs: <http://www.w3.org/2000/01/rdf-schema#>\n",
    "PREFIX lrhpi: <http://landregistry.data.gov.uk/def/hpi/>\n",
    "'''\n",
    "\n",
    "q1 = query('stoke-on-trent')\n",
    "df1 = dfResults(endpoint_lr,prefix,q1)\n",
    "\n",
    "q2 = query('york')\n",
    "df2 =  dfResults(endpoint_lr,prefix,q2)\n",
    "\n",
    "q3 = query('poole')\n",
    "df3 =  dfResults(endpoint_lr,prefix,q3)\n",
    "\n",
    "frames = [df1, df2, df3]\n",
    "df = pd.concat(frames, ignore_index=True)\n",
    "\n",
    "df = df.apply(pd.to_numeric)\n",
    "df.index = ['Stoke-on-Trent', 'York', 'Poole']\n",
    "\n",
    "print(df)\n",
    "\n",
    "df.plot(kind='bar')"
   ]
  },
  {
   "cell_type": "markdown",
   "metadata": {},
   "source": [
    "From this data it is clear that the average house prices in Stoke-on-Trent were considerably lower than those in the more affluent areas of York and Poole."
   ]
  },
  {
   "cell_type": "markdown",
   "metadata": {
    "activity": "activity"
   },
   "source": [
    "### Activity 5\n",
    "\n",
    "Find the average house price indices for detached houses in `city-of-plymouth` for each month of 2014.\n",
    "\n",
    "Plot the results on a line graph. In matplotlib a simple line graph (a series of points joined by straight lines) is easily obtained by using\n",
    "\n",
    "    plot(x,y)\n",
    "\n",
    "where `x` and `y` specify the coordinates of the points: `x` contains all the x coordinates and `y` contains all the y coordinates such that, for example, `(x[0], y[0])` is the first point.\n"
   ]
  },
  {
   "cell_type": "code",
   "execution_count": null,
   "metadata": {
    "activity": "activity",
    "collapsed": true
   },
   "outputs": [],
   "source": [
    "# Insert your solution here"
   ]
  },
  {
   "cell_type": "markdown",
   "metadata": {
    "activity": "activity"
   },
   "source": [
    "#### Our solution\n",
    "\n",
    "To reveal our solution, click on the triangle symbol on the left-hand end of this cell.\n"
   ]
  },
  {
   "cell_type": "markdown",
   "metadata": {},
   "source": [
    "Our attempt illustrates some futher features of the `plot()` function."
   ]
  },
  {
   "cell_type": "code",
   "execution_count": 26,
   "metadata": {},
   "outputs": [
    {
     "name": "stdout",
     "output_type": "stream",
     "text": [
      "Yearly change: £ 10371\n",
      "Minimum average price: £ 273773\n",
      "Maximum average price: £ 284144\n"
     ]
    },
    {
     "data": {
      "image/png": "[encoded data removed]",
      "text/plain": [
       "<matplotlib.figure.Figure at 0x7fb98f26f4e0>"
      ]
     },
     "metadata": {},
     "output_type": "display_data"
    }
   ],
   "source": [
    "endpoint_lr = 'http://landregistry.data.gov.uk/landregistry/query'\n",
    "\n",
    "prefix = '''\n",
    "PREFIX rdfs: <http://www.w3.org/2000/01/rdf-schema#>\n",
    "PREFIX lrhpi: <http://landregistry.data.gov.uk/def/hpi/>\n",
    "'''\n",
    "\n",
    "# Amend the the query to specify the local authority name and the required month\n",
    "# VALUES statement requires amending\n",
    "def query(name, month):\n",
    "    s = '''\n",
    "    SELECT DISTINCT  ?avgDetached\n",
    "    WHERE{\n",
    "    \n",
    "        VALUES ?localAuthorityMonth {<http://landregistry.data.gov.uk/data/hpi/region/'''\n",
    "    s = s + str(name) + \"/month/2014-\" + str(month) + '''>\n",
    "    }\n",
    "\n",
    "  ?localAuthorityMonth\n",
    "    lrhpi:refRegion ?regionURI ;\n",
    "    lrhpi:averagePricesDetachedSASM ?avgDetached .\n",
    "    \n",
    "    \n",
    "  ?regionURI rdfs:label ?regionName .\n",
    "  FILTER (langMatches(lang(?regionName), \"EN\") )\n",
    "}\n",
    "'''\n",
    "    return s\n",
    "    \n",
    "# Loop through months; add result to series y\n",
    "# The month is specified as a two character string, '01' to '12'\n",
    "y = []\n",
    "x = []\n",
    "for m in range(1, 13):\n",
    "    month = str(m)\n",
    "    if len(month) == 1:\n",
    "        month = '0' + month\n",
    "    q2 = query('city-of-plymouth', month)   \n",
    "    df2 = dfResults(endpoint_lr, prefix, q2)\n",
    "    y.append(df2.iloc[0,0]) # House price\n",
    "    x.append(m) # Month\n",
    "\n",
    "# Find the maximum and minimum prices\n",
    "miny = int(min(y))\n",
    "maxy = int(max(y))\n",
    "\n",
    "# Set up the axes for the graph (range of values and labels)\n",
    "plt.axis([1, 12, miny, maxy])\n",
    "plt.xlabel('Month')\n",
    "plt.ylabel('Price')\n",
    "\n",
    "# Give the graph a title\n",
    "plt.title('Average Detached House Prices 2014 for Plymouth')\n",
    "\n",
    "# Plot the graph using blue lines (instead of the default red)\n",
    "plt.plot(x, y, 'b')\n",
    "\n",
    "# Some more results\n",
    "print('Yearly change: £', (int(y[11])- int(y[0])))\n",
    "print('Minimum average price: £', miny)\n",
    "print('Maximum average price: £', maxy)"
   ]
  },
  {
   "cell_type": "markdown",
   "metadata": {},
   "source": [
    "## Summary\n",
    "\n",
    "This Notebook has illustrated the use of two visualisation techniques: one for maps (folium) and one for plots (matplotlib).\n",
    "\n",
    "Using folium, you saw how to:\n",
    "\n",
    "1. identify part of the globe via latitude and longitude and zoom level\n",
    "2. add location markers to a map\n",
    "3. render a map.\n",
    "\n",
    "The data, which included latitude and longitude values, that was added to the map was extracted via a SPARQL query.\n",
    "\n",
    "Using matplotlib, you saw how to:\n",
    "\n",
    "1. add data to a DataFrame\n",
    "2. call the `plot()` function against the DataFrame to create a plot\n",
    "3. identify the kind of plot required using the `kind` argument to `plot()`\n",
    "4. draw a line graph.\n",
    "\n",
    "The data used to create a plot came from two sources:\n",
    "\n",
    "1. the Environment Agency's bathing water linked data store\n",
    "2. the Land Registry's house price data\n",
    "\n",
    "which were searched using SPARQL queries. The data returned from the SPARQL queries had to be transformed into a format suitable for plotting."
   ]
  },
  {
   "cell_type": "markdown",
   "metadata": {},
   "source": [
    "## What next?\n",
    "\n",
    "If you are working through this Notebook as part of an inline exercise, return to the module materials now.\n",
    "\n",
    "If you are working through this set of Notebooks as a whole, you've completed the Part 26 Notebooks."
   ]
  }
 ],
 "metadata": {
  "kernelspec": {
   "display_name": "Python 3",
   "language": "python",
   "name": "python3"
  },
  "language_info": {
   "codemirror_mode": {
    "name": "ipython",
    "version": 3
   },
   "file_extension": ".py",
   "mimetype": "text/x-python",
   "name": "python",
   "nbconvert_exporter": "python",
   "pygments_lexer": "ipython3",
   "version": "3.5.2"
  }
 },
 "nbformat": 4,
 "nbformat_minor": 1
}
