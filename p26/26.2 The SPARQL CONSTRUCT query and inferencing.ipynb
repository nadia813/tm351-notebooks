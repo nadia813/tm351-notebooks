{
 "cells": [
  {
   "cell_type": "markdown",
   "metadata": {},
   "source": [
    "# The SPARQL CONSTRUCT query and inferencing"
   ]
  },
  {
   "cell_type": "markdown",
   "metadata": {},
   "source": [
    "In this Notebook you will learn how to use the SPARQL CONSTRUCT query that enables the user to create new triples. This is different from simply adding known triples, as can be done with the INSERT command, because the triples to be added are discovered by querying an existing graph.\n",
    "\n",
    "You will then see how the CONSTRUCT query can be used to provide some simple inferencing.\n",
    "\n",
    "As usual we begin by importing the appropriate packages and setting up helper functions.\n"
   ]
  },
  {
   "cell_type": "code",
   "execution_count": null,
   "metadata": {
    "collapsed": true
   },
   "outputs": [],
   "source": [
    "# Import the necessary packages\n",
    "import rdflib\n",
    "from SPARQLWrapper import SPARQLWrapper, JSON\n",
    "\n",
    "\n",
    "# Add some helper functions\n",
    "\n",
    "# Print the triples in a given graph\n",
    "def printtriples(agraph): \n",
    "    for subj, pred, obj in agraph:\n",
    "        print(subj)\n",
    "        print(pred)\n",
    "        print(obj)\n",
    "        print('')"
   ]
  },
  {
   "cell_type": "markdown",
   "metadata": {},
   "source": [
    "## The CONSTRUCT query"
   ]
  },
  {
   "cell_type": "markdown",
   "metadata": {},
   "source": [
    "\n",
    "\n",
    "The CONSTRUCT query creates a set of new triples, i.e. a new graph.\n",
    "\n",
    "The following code downloads an RDF graph, performs a query on it, constructs a new graph from the results of the query and saves the resulting graph in a file.\n",
    "\n",
    "The query finds all triples whose subjects are of type `Person` in the Berners-Lee/card dataset, then assigns each found subject together with its predicate and object to the variables `?subj`, `?pred` and `?obj` which form a triple indicated in the curly braces following the CONSTRUCT keyword.\n",
    "\n",
    "Finally, all found triples are written to the file `person.ttl` in Turtle format."
   ]
  },
  {
   "cell_type": "code",
   "execution_count": null,
   "metadata": {},
   "outputs": [],
   "source": [
    "# Create a new empty graph object(mygraph) and then download an RDF graph (Berners-Lee cards) \n",
    "# and save it in the graph object\n",
    "mygraph = rdflib.Graph()\n",
    "mygraph.parse(\"http://www.w3.org/People/Berners-Lee/card.rdf\")\n",
    "\n",
    "# Build a CONSTRUCT query\n",
    "q = '''CONSTRUCT { ?subj ?pred ?obj . }\n",
    "        WHERE {\n",
    "            # Find all individuals in the graph who are of type Person\n",
    "            ?subj\n",
    "                <http://www.w3.org/1999/02/22-rdf-syntax-ns#type>\n",
    "                <http://xmlns.com/foaf/0.1/Person> .\n",
    "            # Find all triples in the graph with a subject that is an individual \n",
    "            # found in the previous pattern\n",
    "            ?subj ?pred ?obj .\n",
    "        }'''\n",
    "\n",
    "\n",
    "# Run the CONSTRUCT query against mygraph and save the result as a graph object referenced\n",
    "# by newgraph\n",
    "newgraph = mygraph.query(q)\n",
    "\n",
    "# Print the triples in the constructed graph\n",
    "print(\"*** Facts about persons ***\")\n",
    "\n",
    "printtriples(newgraph)\n",
    "    \n",
    "# Save in turtle format\n",
    "newgraph.serialize(\"person.ttl\", format=\"turtle\")"
   ]
  },
  {
   "cell_type": "markdown",
   "metadata": {},
   "source": [
    "\n",
    "\n",
    "The CONSTRUCT query has two parts. The first part is a pattern, enclosed in curly braces, following the CONSTRUCT keyword. Values for the identifiers in this pattern are found by matching patterns in the WHERE clause, the second part of the query.\n",
    "\n",
    "The WHERE clause is identical in syntax and purpose to the WHERE clause used in a SELECT query.\n",
    "\n",
    "The aim is to search graphs for triples that match the patterns in the WHERE clause and bind values to the variables in those patterns. At the end of the processing of the WHERE clause, the bound values are used to create new triples according to the pattern following the CONSTRUCT keyword.\n",
    "\n",
    "It is permitted to have more than one pattern following the CONSTRUCT keyword (hence the use of the curly braces). The CONSTRUCT query will build triples for each pattern in the braces (the patterns must be separated by full stops)."
   ]
  },
  {
   "cell_type": "markdown",
   "metadata": {
    "activity": "activity"
   },
   "source": [
    "### Activity 1\n",
    "\n",
    "Create a file containing large countries and their populations obtained from the file `European Geography.ttl` in the `data/` folder. In this context, a large country has a population of at least 10 million.\n"
   ]
  },
  {
   "cell_type": "code",
   "execution_count": null,
   "metadata": {
    "activity": "activity",
    "collapsed": true
   },
   "outputs": [],
   "source": [
    "# Insert your solution here."
   ]
  },
  {
   "cell_type": "markdown",
   "metadata": {
    "activity": "activity",
    "heading_collapsed": true
   },
   "source": [
    "#### Our solution\n",
    "\n",
    "To reveal our solution, click on the triangle symbol on the left-hand end of this cell.\n"
   ]
  },
  {
   "cell_type": "code",
   "execution_count": null,
   "metadata": {
    "hidden": true
   },
   "outputs": [],
   "source": [
    "# Create a new empty graph\n",
    "geog = rdflib.Graph()\n",
    "\n",
    "# File is in the data/ folder\n",
    "geog.parse('data/European Geography.ttl', format=\"turtle\")\n",
    "\n",
    "q = '''CONSTRUCT { ?country ?pred ?population . }\n",
    "        WHERE {\n",
    "            ?country <http://www.example.org/hasPopulation> ?population .\n",
    "            ?country ?pred ?population\n",
    "            FILTER (?population >= 10000000)\n",
    "        }'''\n",
    "\n",
    "newgraph = geog.query(q)\n",
    "\n",
    "# Print the triples in the constructed graph\n",
    "print(\"*** Populations of Countries ***\")\n",
    "\n",
    "printtriples(newgraph)\n",
    "    \n",
    "# Save in turtle format\n",
    "newgraph.serialize(\"populations.ttl\", format=\"turtle\")"
   ]
  },
  {
   "cell_type": "markdown",
   "metadata": {},
   "source": [
    "## Merging two graphs"
   ]
  },
  {
   "cell_type": "markdown",
   "metadata": {},
   "source": [
    "When building a mash-up in which an application draws data from several sources, you may wish to combine (merge) a number of graphs into a single graph. This can be done quite simply using SPARQL's '`+`' operator as illustrated in the next example.\n",
    "\n",
    "Here, the code builds two graphs - one relating to Germany and one relating to France - each with three triples, and then merges the two graphs."
   ]
  },
  {
   "cell_type": "code",
   "execution_count": null,
   "metadata": {},
   "outputs": [],
   "source": [
    "# Create two separate graphs: one for Germany and one for France\n",
    "germg = rdflib.Graph()\n",
    "frang = rdflib.Graph()\n",
    "\n",
    "# Create namespace object\n",
    "geogNS = rdflib.Namespace(\"http://www.example.org/geography/\")\n",
    "\n",
    "# Create prefixes for property resources\n",
    "locatedIn = rdflib.URIRef(\"http://www.example.org/locatedIn\")\n",
    "hasBorders = rdflib.URIRef(\"http://example.org/hasBorders\")\n",
    "\n",
    "# Add triples to Germany graph\n",
    "germg.add((geogNS[\"Germany\"], rdflib.RDF[\"type\"], geogNS[\"country\"]))\n",
    "germg.add((geogNS[\"Germany\"], locatedIn, geogNS[\"Europe\"]))\n",
    "germg.add((geogNS[\"Germany\"], hasBorders, geogNS[\"France\"]))\n",
    "\n",
    "# Add triples for France\n",
    "frang.add((geogNS[\"France\"], rdflib.RDF[\"type\"], geogNS[\"country\"]))\n",
    "frang.add((geogNS[\"France\"], locatedIn, geogNS[\"Europe\"]))\n",
    "frang.add((geogNS[\"Germany\"], hasBorders, geogNS[\"France\"]))\n",
    "\n",
    "# Create a new graph for Europe\n",
    "eurog = rdflib.Graph()\n",
    "\n",
    "#*******************************************************\n",
    "# Merge graphs for Germany and France into Europe graph\n",
    "eurog = germg + frang\n",
    "#*******************************************************\n",
    "\n",
    "# Print number of triples in each graph\n",
    "print(\"No of triples in Germany graph = \", len(germg))\n",
    "print(\"No of triples in France graph = \", len(frang))\n",
    "print(\"No of triples in Combined graph = \", len(eurog))\n",
    "print('')\n",
    "\n",
    "# Print each triple in Europe graph\n",
    "printtriples(eurog)"
   ]
  },
  {
   "cell_type": "markdown",
   "metadata": {},
   "source": [
    "The '`+`' operator between graphs is like the union of two sets because triples occurring more than once are not duplicated in the merged graph."
   ]
  },
  {
   "cell_type": "markdown",
   "metadata": {},
   "source": [
    "## Inferencing with the CONSTRUCT query"
   ]
  },
  {
   "cell_type": "markdown",
   "metadata": {},
   "source": [
    "The first step is to create a graph to experiment with (`geog`).\n",
    "\n",
    "This will be a reduced version of the European Geography dataset that you used above."
   ]
  },
  {
   "cell_type": "code",
   "execution_count": null,
   "metadata": {},
   "outputs": [],
   "source": [
    "# Create a new empty graph\n",
    "geog = rdflib.Graph()\n",
    "\n",
    "# Create a namespace\n",
    "geogNS = rdflib.Namespace(\"http://www.example.org/geography/\")\n",
    "\n",
    "# Create resources with this namespace\n",
    "germany = geogNS[\"Germany\"]  \n",
    "france = geogNS[\"France\"] \n",
    "austria = geogNS[\"Austria\"]\n",
    "belgium = geogNS[\"Belgium\"]\n",
    "europe = geogNS[\"Europe\"]\n",
    "country = geogNS[\"country\"]\n",
    "continent = geogNS[\"continent\"]\n",
    "\n",
    "\n",
    "# Create some properties\n",
    "hasBorder = rdflib.URIRef(\"http://www.example.org/hasBorders\")\n",
    "locatedIn = rdflib.URIRef(\"http://www.example.org/locatedIn\")\n",
    "hasPopulation = rdflib.URIRef(\"http://www.example.org/hasPopulation\")\n",
    "hasName = rdflib.URIRef(\"http://www.example.org/name\")\n",
    "\n",
    "# A property for saying that Europe contains countries\n",
    "contains = rdflib.URIRef(\"http://www.example.org/contains\")\n",
    "\n",
    "# Add some data\n",
    "geog.add((germany, rdflib.RDF[\"type\"], country))\n",
    "geog.add((france, rdflib.RDF[\"type\"], country))\n",
    "geog.add((austria, rdflib.RDF[\"type\"], country))\n",
    "geog.add((belgium, rdflib.RDF[\"type\"], country))\n",
    "geog.add((europe, rdflib.RDF[\"type\"], continent))\n",
    "geog.add((germany, locatedIn, europe))\n",
    "geog.add((france, locatedIn, europe))\n",
    "geog.add((austria, locatedIn, europe))\n",
    "geog.add((belgium, locatedIn, europe))\n",
    "geog.add((germany, hasBorder, france))\n",
    "geog.add((germany, hasBorder, austria))\n",
    "geog.add((germany, hasPopulation, rdflib.Literal(82000000)))\n",
    "geog.add((germany, hasName, rdflib.Literal(\"Deutschland\")))\n",
    "\n",
    "printtriples(geog)"
   ]
  },
  {
   "cell_type": "markdown",
   "metadata": {},
   "source": [
    "Before running a query, examine the `geog` triples above. Can you say what results should be obtained if you were to ask what triples have the property `contains`?\n",
    "\n",
    "Confirm your suspicions by running the following query to find all countries contained in Europe using the property `contains`."
   ]
  },
  {
   "cell_type": "code",
   "execution_count": null,
   "metadata": {},
   "outputs": [],
   "source": [
    "from SPARQLWrapper import SPARQLWrapper\n",
    "\n",
    "# A routine to print out the countries located in a continent, if any.\n",
    "# The first argument, results, contains triples.\n",
    "# The argument, elem, should be set to 0 if the continent is the subject of a triple,\n",
    "# or 2 if the continent is the object of a triple.\n",
    "# The argument continent should be set to the name of a continent (string).\n",
    "def printCountriesInContinent(results, elem, continent):\n",
    "    if len(results) == 0:\n",
    "        print(\"None found\")\n",
    "    else:\n",
    "        continent = \"http://www.example.org/geography/\" + continent\n",
    "        for row in results:\n",
    "            if (str(row[elem]) == continent):\n",
    "                print (row[0], row[1], row[2], sep=\"\\n\")\n",
    "                print()\n",
    "                \n",
    "# A routine to print out the countries located in a continent, if any\n",
    "def printCountriesLocatedInContinent(results, continent):\n",
    "    print(\"*** Countries located in\", continent, \"***\")\n",
    "    printCountriesInContinent(results, 2, continent)\n",
    "    \n",
    "# A routine to print out the countries that a continent contains, if any\n",
    "def printContinentContainsCountries(results, continent):\n",
    "    print(\"*** \" + continent + \" contains countries ***\")\n",
    "    printCountriesInContinent(results, 0, continent)\n",
    " \n",
    "   \n",
    "# Set up query string\n",
    "# Query searches for triples with Europe as subject and with the property contains\n",
    "q1 = '''SELECT ?country\n",
    "    WHERE {\n",
    "        <http://www.example.org/geography/Europe>  \n",
    "        <http://www.example.org/contains> \n",
    "        ?country.\n",
    "    }\n",
    "'''\n",
    "# Run query against geog graph  \n",
    "r1 = geog.query(q1)\n",
    "\n",
    "# Print results\n",
    "printContinentContainsCountries(r1, \"Europe\")"
   ]
  },
  {
   "cell_type": "markdown",
   "metadata": {},
   "source": [
    "Naturally, no countries were found because there are no triples in the graph with `contains` as their predicate, which is what the SPARQL query was trying to match.\n",
    "\n",
    "Suppose we add a further triple which states that the property `contains` is the inverse of the property `locatedIn`. This is how it would be done with OWL using Manchester syntax:\n",
    "\n",
    "    ObjectProperty: contains InverseOf: locatedIn\n",
    "\n",
    "Then, if we used a query engine that was capable of inferencing, it would be able to infer, for example, that the triple `(germany locatedIn europe)` would be equivalent to `(europe contains germany)`. Note that there would not be any explicit triples in the graph with `contains` as their property.\n",
    "\n",
    "Here is an attempt to do this using rdflib."
   ]
  },
  {
   "cell_type": "code",
   "execution_count": null,
   "metadata": {},
   "outputs": [],
   "source": [
    "# Introduce the inverse property as it would be done in OWL 2\n",
    "# This is the inverseOf property characteristic\n",
    "inverseOf = rdflib.URIRef(\"http://www.example.org/inverseOf\")\n",
    "\n",
    "# Declare that *contains* is a (type of) property\n",
    "geog.add((contains, rdflib.RDF[\"type\"], rdflib.RDF[\"Property\"]))\n",
    "\n",
    "# Declare that *contains* is the inverse property of *locatedIn*\n",
    "geog.add((contains, inverseOf, locatedIn))\n",
    "\n",
    "# Re-run query against geog graph to see what the query engine does \n",
    "r1 = geog.query(q1)\n",
    "\n",
    "# Print out results\n",
    "printContinentContainsCountries(r1, \"Europe\")"
   ]
  },
  {
   "cell_type": "markdown",
   "metadata": {},
   "source": [
    "\n",
    "\n",
    "Still no results.\n",
    "\n",
    "If the query had been presented to a query engine that does have an inferencing facility, it would know that those triples involving `locatedIn` are the inverse of `contains` and would be able to tell you, for example, that since `germany` is located in `europe`, `europe` must contain `germany`. Sadly, the query engine associated with rdfib does not have an inferencing capability.\n",
    "\n",
    "However, if we now add the following SPARQL CONSTRUCT query, something amazing happens."
   ]
  },
  {
   "cell_type": "code",
   "execution_count": null,
   "metadata": {},
   "outputs": [],
   "source": [
    "q2 = '''CONSTRUCT { ?resource2 ?property1 ?resource1 . }\n",
    "    WHERE {\n",
    "        ?property1 <http://www.example.org/inverseOf> ?property2 .\n",
    "        ?resource1 ?property2 ?resource2 .\n",
    "    }\n",
    "'''\n",
    "\n",
    "r2 = geog.query(q2)\n",
    "\n",
    "printContinentContainsCountries(r2, \"Europe\")"
   ]
  },
  {
   "cell_type": "markdown",
   "metadata": {},
   "source": [
    "Suddenly, there appear to be triples in the graph with `contains` as their property. How has this happened?\n",
    "\n",
    "Before reading our explanation, can you explain from the query what triples are found by the WHERE clause and hence what triples are constructed? One way to go about this is to find one triple that matches the pattern in the WHERE clause and then determine what triple would be constructed that matches the pattern following the CONSTRUCT keyword."
   ]
  },
  {
   "cell_type": "markdown",
   "metadata": {},
   "source": [
    "The CONSTRUCT query has clearly created triples. To see how, here is a walk through of the actions taken by the SPARQL query engine when running this query.\n",
    "\n",
    "The first pattern in the CONSTRUCT's WHERE clause is:\n",
    "\n",
    "    (?property1 http://www.example.org/inverseOf ?property2)\n",
    "\n",
    "There is only one triple in the graph that matches this pattern:\n",
    "\n",
    "    (contains, inverseOf, locatedIn)\n",
    "\n",
    "Therefore, `?property1` is bound to the value `contains` and `?property2` is bound to the value `locatedIn`.\n",
    "\n",
    "Moving on to the second triple pattern:\n",
    "\n",
    "    (?resource1 ?property2 ?resource2)\n",
    "\n",
    "The above bindings result in this pattern becoming:\n",
    "\n",
    "    (?resource1 locatedIn ?resource2)\n",
    "    \n",
    "There are several triples in the graph that match with this pattern, one of which is:\n",
    "\n",
    "    (germany, locatedIn, europe)\n",
    "\n",
    "With this binding, the triple CONSTRUCTed `(?resource2 ?property1 ?resource1)` is:\n",
    "\n",
    "    (europe contains germany)\n",
    "\n",
    "which is one of the query's results that is printed out.\n",
    "\n",
    "So here is a way of using SPARQL to achieve a form of inferencing even when the query engine does not have an inferencing capability.\n",
    "\n",
    "There are several similar SPARQL inferencing rules such as the one in the SPARQL CONSTRUCT query for `inverseOf` shown above. Indeed, there is the SPARQL Inferencing Notation (SPIN) that takes this idea much further.\n",
    "\n",
    "Based on its CONSTRUCT keyword, SPARQL can be considered to be a rule language. The SPIN library at http://topbraid.org/spin/owlrl contains the complete OWL 2 RL specification in executable form, formalised in SPARQL CONSTRUCT rules.\n",
    "\n",
    "If you are interested, more information about SPIN can be found at http://www.topquadrant.com/technology/sparql-rules-spin/.\n"
   ]
  },
  {
   "cell_type": "markdown",
   "metadata": {
    "activity": "activity"
   },
   "source": [
    "### Activity 2\n",
    "\n",
    "Here is some more data about the geographical relationships between the countries of the United Kingdom. Note that only the United Kingdom is asserted to be in Europe."
   ]
  },
  {
   "cell_type": "code",
   "execution_count": null,
   "metadata": {
    "activity": "activity"
   },
   "outputs": [],
   "source": [
    "england = geogNS[\"England\"]  \n",
    "scotland = geogNS[\"Scotland\"]\n",
    "wales = geogNS[\"Wales\"]\n",
    "northernIreland = geogNS[\"Northern_Ireland\"]\n",
    "uk = geogNS[\"United_Kingdom\"]\n",
    "gb = geogNS[\"Great_Britain\"]\n",
    "\n",
    "geog.add((england, locatedIn, gb))\n",
    "geog.add((scotland, locatedIn, gb))\n",
    "geog.add((wales, locatedIn, gb))\n",
    "geog.add((gb, locatedIn, uk))\n",
    "geog.add((northernIreland, locatedIn, uk))\n",
    "geog.add((uk, locatedIn, europe))\n",
    "\n",
    "printtriples(geog)\n",
    "print('')"
   ]
  },
  {
   "cell_type": "markdown",
   "metadata": {
    "activity": "activity"
   },
   "source": [
    "\n",
    "\n",
    "It is possible to infer from this data that, for example, Wales is located in Europe because Wales is located in Great Britain and Great Britain is located in the United Kingdom which is located in Europe. This is an example of the transitive property of the predicate `locatedIn`.\n",
    "\n",
    "The following asserts that the property `locatedIn` is transitive. A triple to this effect is added to the graph."
   ]
  },
  {
   "cell_type": "code",
   "execution_count": null,
   "metadata": {
    "activity": "activity",
    "collapsed": true
   },
   "outputs": [],
   "source": [
    "# This is the transitive property characteristic for locatedIn\n",
    "transitive = rdflib.URIRef(\"http://www.example.org/transitive\")\n",
    "\n",
    "# Declare that locatedIn is transitive\n",
    "geog.add((locatedIn, rdflib.RDF[\"type\"], transitive))"
   ]
  },
  {
   "cell_type": "markdown",
   "metadata": {
    "activity": "activity"
   },
   "source": [
    "Complete the following CONSTRUCT query that implements the transitive property. That is,\n",
    "\n",
    "* if `resource1` is related to `resource2`, and `resource2` is related in the same way to `resource3`, then the relationship is transitive.\n"
   ]
  },
  {
   "cell_type": "code",
   "execution_count": null,
   "metadata": {
    "activity": "activity"
   },
   "outputs": [],
   "source": [
    "# A query that implements transitivity property\n",
    "q3 = '''CONSTRUCT { ?resource1 ?property1 ?resource3 . }\n",
    "    WHERE {\n",
    "        #Find a property from the class transitive\n",
    "        ?property  a <http://www.example.org/transitive> .\n",
    "        \n",
    "        #Additional code goes here\n",
    "        \n",
    "        \n",
    "    }\n",
    "    '''\n",
    "\n",
    "# Run query (r3 is a graph)\n",
    "r3 = geog.query(q3)\n",
    "\n",
    "# Output the triples in graph\n",
    "printCountriesLocatedInContinent(r3, \"Europe\")"
   ]
  },
  {
   "cell_type": "markdown",
   "metadata": {
    "activity": "activity",
    "heading_collapsed": true
   },
   "source": [
    "#### Our solution\n",
    "\n",
    "To reveal our solution, click on the triangle symbol on the left-hand end of this cell.\n"
   ]
  },
  {
   "cell_type": "code",
   "execution_count": null,
   "metadata": {
    "hidden": true
   },
   "outputs": [],
   "source": [
    "q3 = '''CONSTRUCT { ?resource1 ?property1 ?resource3 . }\n",
    "    WHERE {\n",
    "        #Find a property from the class transitive\n",
    "        ?property  a <http://www.example.org/transitive> .\n",
    "        \n",
    "        #Find two resources that are related by this property\n",
    "        ?resource1 ?property1 ?resource2 .\n",
    "        \n",
    "        #Find a third resource that is related in the same way to resource2\n",
    "        ?resource2 ?property1 ?resource3 .\n",
    "        \n",
    "        #If bindings for resource1 and resource3 have been found\n",
    "        #the query will create a triple.\n",
    "    }\n",
    "'''\n",
    "\n",
    "r3 = geog.query(q3)\n",
    "\n",
    "printCountriesLocatedInContinent(r3, \"Europe\")"
   ]
  },
  {
   "cell_type": "markdown",
   "metadata": {
    "hidden": true
   },
   "source": [
    "The following code simply merges the newly found triples with the existing graph."
   ]
  },
  {
   "cell_type": "code",
   "execution_count": null,
   "metadata": {
    "hidden": true
   },
   "outputs": [],
   "source": [
    "# Create a new, empty graph\n",
    "newGraph = rdflib.Graph()\n",
    "\n",
    "# Add the contents of the results to the new graph\n",
    "for row in r3:\n",
    "    newGraph.add(row)\n",
    "    \n",
    "printtriples(newGraph)\n",
    "\n",
    "# Merge new graph with existing graph\n",
    "newGraph = newGraph + geog\n",
    "\n",
    "print(\"Extended graph\")\n",
    "printtriples(newGraph)"
   ]
  },
  {
   "cell_type": "markdown",
   "metadata": {},
   "source": [
    "## Summary"
   ]
  },
  {
   "cell_type": "markdown",
   "metadata": {},
   "source": [
    "In this Notebook you have seen:\n",
    "\n",
    "1. How the CONSTRUCT query searches a graph for matches to patterns in its WHERE clause, binding variables as it does so. The values bound to the variables are used to create new triples that are defined in pattern(s) defined after the CONSTRUCT query.\n",
    "\n",
    "2. How two graphs can be merged into a third graph using the '`+`' operator.\n",
    "\n",
    "3. How it is possible to use the CONSTRUCT query to perform some simple inferencing. This is achieved by:\n",
    "\n",
    "    (a) defining a name for a property characteristic, e.g.\n",
    "\n",
    "        inverseOf = rdflib.URIRef(\"http://www.example.org/inverseOf\")\n",
    "\n",
    "    (b) ensuring that the properties (one or more) that are to have this characteristic are declared within the graph, e.g. for binary relations:\n",
    "\n",
    "        geog.add((contains, rdflib.RDF[\"type\"], rdflib.RDF[\"Property\"]))\n",
    "        geog.add((locatedIn, rdflib.RDF[\"type\"], rdflib.RDF[\"Property\"]))\n",
    "\n",
    "    (c) add a triple that denotes the fact that, in the case of binary relationships, the properties are related by the characteristic, e.g.\n",
    "\n",
    "        geog.add((contains, inverseOf, locatedIn))\n",
    "\n",
    "    or, in the case of a unary relationship, the property is defined to be of the appropriate type, e.g.\n",
    "\n",
    "         geog.add((locatedIn, rdflib.RDF[\"type\"], transitive))\n",
    "\n",
    "    (d) define a CONSTRUCT query whose WHERE clause:\n",
    "\n",
    "         selects a property with the required characteristic;\n",
    "         selects triple(s) involving the selected property\n",
    "\n",
    "    (e) define a triple pattern that expresses the new relationship (placed in braces after the CONSTRUCT keyword)."
   ]
  },
  {
   "cell_type": "markdown",
   "metadata": {},
   "source": [
    "## What next?\n",
    "\n",
    "If you are working through this Notebook as part of an inline exercise, return to the module materials now.\n",
    "\n",
    "If you are working through this set of Notebooks as a whole, move on to `26.3 Visualisation`."
   ]
  }
 ],
 "metadata": {
  "kernelspec": {
   "display_name": "Python 3",
   "language": "python",
   "name": "python3"
  },
  "language_info": {
   "codemirror_mode": {
    "name": "ipython",
    "version": 3
   },
   "file_extension": ".py",
   "mimetype": "text/x-python",
   "name": "python",
   "nbconvert_exporter": "python",
   "pygments_lexer": "ipython3",
   "version": "3.5.2"
  }
 },
 "nbformat": 4,
 "nbformat_minor": 1
}
