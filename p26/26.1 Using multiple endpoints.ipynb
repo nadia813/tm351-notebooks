{
 "cells": [
  {
   "cell_type": "markdown",
   "metadata": {},
   "source": [
    "# Using multiple endpoints"
   ]
  },
  {
   "cell_type": "markdown",
   "metadata": {},
   "source": [
    "Running queries against a dataset accessible from a single endpoint is a useful facility. Even more useful is the ability to extract and merge data from several datasets located at different endpoints. In this Notebook you will learn how to create a single query that extracts data from multiple endpoints and melds them together - a **federated query**.\n",
    "\n",
    "There are several ideas that you need to become familiar with before examining a federated query in detail, so we shall proceed through a series of incremental examples.\n",
    "\n",
    "Note that some queries may take several seconds to complete, depending on network speeds and the load on the processor at the endpoint.\n",
    "\n",
    "To start with, import SPARQLWrapper and create the usual helper functions for creating queries and printing results."
   ]
  },
  {
   "cell_type": "code",
   "execution_count": null,
   "metadata": {},
   "outputs": [],
   "source": [
    "# Import the necessary packages\n",
    "from SPARQLWrapper import SPARQLWrapper, JSON\n",
    "\n",
    "# Add some helper functions\n",
    "\n",
    "# A function that will return the results of running a SPARQL query with\n",
    "# a defined set of prefixes over a specified endpoint.\n",
    "# It follows the usual five-step process apart from creating the query, \n",
    "# which is provided as an argument to the function.\n",
    "def runQuery(endpoint, prefix, q):\n",
    "    ''' Run a SPARQL query with a declared prefix over a specified endpoint'''\n",
    "    sparql = SPARQLWrapper(endpoint)\n",
    "    sparql.setQuery(prefix+q) # concatenate the strings representing the prefixes and the query\n",
    "    sparql.setReturnFormat(JSON)\n",
    "    return sparql.query().convert()\n",
    "\n",
    "# Import pandas to provide facilities for creating a DataFrame to hold results\n",
    "import pandas as pd\n",
    "\n",
    "# Function to convert query results into a DataFrame\n",
    "def dict2df(results):\n",
    "    ''' A function to flatten the SPARQL query results and return the column values '''\n",
    "    data = []\n",
    "    for result in results[\"results\"][\"bindings\"]:\n",
    "        tmp = {}\n",
    "        for el in result:\n",
    "            tmp[el] = result[el]['value']\n",
    "            data.append(tmp)\n",
    "            \n",
    "    df = pd.DataFrame(data)\n",
    "    return df\n",
    "\n",
    "# Function to run a query and return results in a DataFrame\n",
    "def dfResults(endpoint, prefix, q):\n",
    "    ''' Generate a DataFrame containing the results of running\n",
    "        a SPARQL query with a declared prefix over a specified endpoint '''\n",
    "    return dict2df(runQuery(endpoint, prefix, q))\n",
    "\n",
    "# Print a limited number of results of a query\n",
    "def printQuery(results, limit=''):\n",
    "    ''' Print the results from the SPARQL query '''\n",
    "    resdata = results[\"results\"][\"bindings\"]\n",
    "    if limit != '':\n",
    "        resdata = results[\"results\"][\"bindings\"][:limit]\n",
    "    for result in resdata:\n",
    "        for ans in result:\n",
    "            print('{0}: {1}'.format(ans, result[ans]['value']))\n",
    "        print()\n",
    "        \n",
    "# Run a query and print out a limited number of results\n",
    "def printRunQuery(endpoint, prefix, q, limit=''):\n",
    "    ''' Print the results from the SPARQL query '''\n",
    "    results = runQuery(endpoint, prefix, q)\n",
    "    printQuery(results, limit)\n",
    "    \n",
    "print(\"Helper functions set up\")    "
   ]
  },
  {
   "cell_type": "markdown",
   "metadata": {},
   "source": [
    "## Example 1: The Environment Agency's Bathing Water Linked Data"
   ]
  },
  {
   "cell_type": "markdown",
   "metadata": {},
   "source": [
    "Recall that the Environment Agency collects water quality data each year from May to September, to ensure that designated bathing water sites on the coast and inland are safe and clean for swimming and other activities.\n",
    "\n",
    "The Environment Agency splits up the country into counties, and counties are divided into districts. The following query prints out some of the attributes of bathing water places, specifically their district number and district name.\n",
    "\n",
    "There are three triple patterns in the query that do the following:\n",
    "\n",
    "   1. find a bathing water place and bind the resuls to variable `?x`\n",
    "   2. find the name of the bathing water place\n",
    "   3. find the district of the bathing water place."
   ]
  },
  {
   "cell_type": "code",
   "execution_count": null,
   "metadata": {},
   "outputs": [],
   "source": [
    "# Define the endpoint\n",
    "endpoint_envAgency = 'http://environment.data.gov.uk/sparql/bwq/query'\n",
    "\n",
    "# Set up prefixes\n",
    "prefix = '''\n",
    "    PREFIX bw: <http://environment.data.gov.uk/def/bathing-water/>\n",
    "    PREFIX rdfs: <http://www.w3.org/2000/01/rdf-schema#>\n",
    "    PREFIX stats: <http://statistics.data.gov.uk/def/administrative-geography/>\n",
    "'''\n",
    "\n",
    "# Define the query\n",
    "query = '''\n",
    "    SELECT ?name ?district\n",
    "    WHERE {\n",
    "        ?x a bw:BathingWater . #find subjects that are of type (predicate a) bw:BathingWater\n",
    "        ?x rdfs:label ?name .  #obtain name of the subject\n",
    "        ?x stats:district ?district . #obtain district (number) of the subject\n",
    "    }\n",
    "'''\n",
    "\n",
    "# Run query and print out a limited number of results\n",
    "printRunQuery(endpoint_envAgency, prefix, query, limit=6)\n"
   ]
  },
  {
   "cell_type": "markdown",
   "metadata": {},
   "source": [
    "For each named district there are two results: one gives the location reference previously used by the Office for National Statistics (ONS) but which is no longer active, and the other gives an Ordnance Survey (OS) identification number."
   ]
  },
  {
   "cell_type": "markdown",
   "metadata": {
    "activity": "activity"
   },
   "source": [
    "### Activity 1\n",
    "Choose one of the districts and click on the URI for the OS location. This should show some data about the chosen district. What do you see?\n"
   ]
  },
  {
   "cell_type": "markdown",
   "metadata": {
    "activity": "activity"
   },
   "source": [
    "### Discussion 1\n",
    "You should see a map of the district in which the bathing area is located. For example, Ringstead Bay is located in the district of West Dorset.\n"
   ]
  },
  {
   "cell_type": "markdown",
   "metadata": {
    "activity": "activity"
   },
   "source": [
    "### Activity 2\n",
    "\n",
    "The Ordnance Survey endpoint provides a wealth of information. It uses the rdf:label predicate to associate a label with a given object. Use this predicate to find the OS district identifier for East Sussex by completing the following query."
   ]
  },
  {
   "cell_type": "code",
   "execution_count": null,
   "metadata": {
    "activity": "activity"
   },
   "outputs": [],
   "source": [
    "endpoint_os = 'http://data.ordnancesurvey.co.uk/datasets/os-linked-data/apis/sparql'\n",
    "\n",
    "prefix = '''\n",
    "    PREFIX rdfs: <http://www.w3.org/2000/01/rdf-schema#>\n",
    "'''\n",
    "\n",
    "q = '''\n",
    "    SELECT ?districtID\n",
    "        WHERE {\n",
    "            # Fill in the appropriate (single) triple pattern here\n",
    "            \n",
    "        }\n",
    "'''\n",
    "\n",
    "printRunQuery(endpoint_os, prefix, q)\n"
   ]
  },
  {
   "cell_type": "markdown",
   "metadata": {
    "activity": "activity",
    "heading_collapsed": true
   },
   "source": [
    "#### Our solution\n",
    "\n",
    "To reveal our solution, click on the triangle symbol on the left-hand end of this cell.\n"
   ]
  },
  {
   "cell_type": "markdown",
   "metadata": {
    "hidden": true
   },
   "source": [
    "The required triple is:\n",
    "\n",
    "    ?districtID rdfs:label \"East Sussex\".\n",
    "    \n",
    "The resulting query is:"
   ]
  },
  {
   "cell_type": "code",
   "execution_count": null,
   "metadata": {
    "hidden": true
   },
   "outputs": [],
   "source": [
    "endpoint_os = 'http://data.ordnancesurvey.co.uk/datasets/os-linked-data/apis/sparql'\n",
    "prefix = '''\n",
    "    PREFIX rdfs: <http://www.w3.org/2000/01/rdf-schema#>\n",
    "'''\n",
    "\n",
    "\n",
    "q = '''\n",
    "    SELECT ?districtID\n",
    "        WHERE {\n",
    "            # Fill in the appropriate (single) triple pattern here\n",
    "            ?districtID rdfs:label \"East Sussex\".\n",
    "        }\n",
    "'''\n",
    "\n",
    "printRunQuery(endpoint_os, prefix, q)"
   ]
  },
  {
   "cell_type": "markdown",
   "metadata": {},
   "source": [
    "## Example 2: Find information about bathing places in East Sussex"
   ]
  },
  {
   "cell_type": "markdown",
   "metadata": {},
   "source": [
    "In this example we are going to send a query to the Environment Agency's endpoint. However, this query will include a SERVICE request from another endpoint (OS) for some data that it will then use to complete the original query.\n",
    "\n",
    "Specifically, the SERVICE request will ask the OS endpoint for the name and identifier of a district in East Sussex. Then, using this data, the Environment Agency's endpoint will be asked to supply various data about the district.\n"
   ]
  },
  {
   "cell_type": "code",
   "execution_count": null,
   "metadata": {},
   "outputs": [],
   "source": [
    "prefix = '''\n",
    "    PREFIX rdfs: <http://www.w3.org/2000/01/rdf-schema#>\n",
    "    PREFIX admingeo: <http://statistics.data.gov.uk/def/administrative-geography/>\n",
    "    PREFIX ossr: <http://data.ordnancesurvey.co.uk/ontology/spatialrelations/>\n",
    "'''\n",
    "\n",
    "q = '''\n",
    "    SELECT ?districtname ?sedimentname ?location\n",
    "    WHERE {\n",
    "        # Ask OS endpoint to find a district, and its name, \n",
    "        # within the area East Sussex\n",
    "        SERVICE <http://data.ordnancesurvey.co.uk/datasets/boundary-line/apis/sparql> {\n",
    "            ?area rdfs:label \"East Sussex\".\n",
    "            ?district ossr:within ?area.\n",
    "            ?district rdfs:label ?districtname.\n",
    "        }\n",
    "\n",
    "        # Ask Environment Agency to find location and sediment type\n",
    "        # of district.\n",
    "        \n",
    "        # Find location of district\n",
    "        ?location <http://statistics.data.gov.uk/def/administrative-geography/district> ?district .\n",
    "        #Find whether location is that of a bathing water place\n",
    "        ?location a <http://environment.data.gov.uk/def/bathing-water/BathingWater> .\n",
    "\n",
    "        #Find type of sediment at this bathing water place\n",
    "        ?location <http://environment.data.gov.uk/def/bathing-water/sedimentTypesPresent> ?sediment .\n",
    "        ?sediment rdfs:label ?sedimentname.\n",
    "\n",
    "    }\n",
    "    ORDER BY ?districtname\n",
    "'''\n",
    "\n",
    "printRunQuery(endpoint_envAgency, prefix, q, limit=30)"
   ]
  },
  {
   "cell_type": "markdown",
   "metadata": {},
   "source": [
    "The query, `q`, is sent to the Environment Agency's endpoint:\n",
    "\n",
    "    endpoint_envAgency = 'http://environment.data.gov.uk/sparql/bwq/query'\n",
    "\n",
    "Part of that SELECT query is a request for a SERVICE from the OS endpoint:\n",
    "\n",
    "    SERVICE <http://data.ordnancesurvey.co.uk/datasets/boundary-line/apis/sparql> { \n",
    "      ...\n",
    "    }\n",
    "\n",
    "The values returned from the OS endpoint, `?district` and `?districtname`, are available to the remainder of the query.\n"
   ]
  },
  {
   "cell_type": "markdown",
   "metadata": {
    "activity": "activity"
   },
   "source": [
    "### Activity 3\n",
    "\n",
    "Click on one of the location URLs returned by the previous query to see what kind of information is available about a specific bathing place. Then answer the following:\n",
    "\n",
    "1. What kind(s) of sediment are to be found at this place?\n",
    "2. What are the different categories of sediment used by the Environment Agency?\n"
   ]
  },
  {
   "cell_type": "markdown",
   "metadata": {
    "activity": "activity"
   },
   "source": [
    "### Discussion 3\n",
    "\n",
    "1. We visited Eastbourne at http://environment.data.gov.uk/id/bathing-water/ukj2201-14500 and found that both sand and shingle are present.\n",
    "\n",
    "2. Clicking on one of the sediment types, such as sand, reveals a definition of that sediment type including the link 'sediment type'. This downloads a Turtle file from which it is possible to discover the types of sediment used by the Environment Agency:\n",
    "\n",
    "    sand, shingle, rock, marsh, mud and other\n"
   ]
  },
  {
   "cell_type": "markdown",
   "metadata": {
    "activity": "activity"
   },
   "source": [
    "### Activity 4\n",
    "\n",
    "Amend the query in Example 2 to find information about bathing places in another area (e.g. West Sussex, Dorset, Devon or another area (county) of your own choice).\n"
   ]
  },
  {
   "cell_type": "markdown",
   "metadata": {
    "heading_collapsed": true
   },
   "source": [
    "#### Our solution\n",
    "\n",
    "To reveal our solution, click on the triangle symbol on the left-hand end of this cell.\n"
   ]
  },
  {
   "cell_type": "code",
   "execution_count": null,
   "metadata": {
    "hidden": true
   },
   "outputs": [],
   "source": [
    "endpoint_envAgency = 'http://environment.data.gov.uk/sparql/bwq/query'\n",
    "\n",
    "prefix = '''\n",
    "    PREFIX rdfs: <http://www.w3.org/2000/01/rdf-schema#>\n",
    "    PREFIX admingeo: <http://statistics.data.gov.uk/def/administrative-geography/>\n",
    "    PREFIX ossr: <http://data.ordnancesurvey.co.uk/ontology/spatialrelations/>\n",
    "'''\n",
    "\n",
    "q = '''\n",
    "    SELECT ?districtname ?sedimentname ?location\n",
    "    WHERE {\n",
    "        # Ask OS endpoint to find a district, and its name, \n",
    "        # within the area East Sussex\n",
    "        SERVICE <http://data.ordnancesurvey.co.uk/datasets/boundary-line/apis/sparql> {\n",
    "            ?area rdfs:label \"Devon\". # *** CHANGE THIS TRIPLE ***\n",
    "            ?district ossr:within ?area.\n",
    "            ?district rdfs:label ?districtname.\n",
    "        }\n",
    "\n",
    "        # Ask Environment Agency to find location and sediment type \n",
    "        # of district.\n",
    "        # Find location of district\n",
    "        ?location <http://statistics.data.gov.uk/def/administrative-geography/district> ?district .\n",
    "        \n",
    "        # Find whether location is that of a bathing water place\n",
    "        ?location a <http://environment.data.gov.uk/def/bathing-water/BathingWater> .\n",
    "\n",
    "        # Find type of sediment at this bathing water place\n",
    "        ?location <http://environment.data.gov.uk/def/bathing-water/sedimentTypesPresent> ?sediment .\n",
    "        ?sediment rdfs:label ?sedimentname.\n",
    "\n",
    "    }\n",
    "    ORDER BY ?districtname\n",
    "'''\n",
    "\n",
    "printRunQuery(endpoint_envAgency, prefix, q, limit=30)\n"
   ]
  },
  {
   "cell_type": "markdown",
   "metadata": {},
   "source": [
    "## Summary"
   ]
  },
  {
   "cell_type": "markdown",
   "metadata": {},
   "source": [
    "The primary purpose of this Notebook has been to give you practical experience of federated queries in which a single query gives rise to multiple sub-queries that are sent to different endpoints to be actioned. The main query can then combine the several sets of results from the sub-queries to answer the primary question.\n",
    "\n",
    "To send a query to a remote endpoint, you use SPARQL's SERVICE mechanism in which you specify the URL of the endpoint to be used to answer a specific sub-query. A remote endpoint will find suitable bindings for the variables mentioned in the sub-query which are then available to the main query to be  used in subsequent patterns (including further SERVICE requests)."
   ]
  },
  {
   "cell_type": "markdown",
   "metadata": {},
   "source": [
    "## What next?\n",
    "\n",
    "If you are working through this Notebook as part of an inline exercise, return to the module materials now.\n",
    "\n",
    "If you are working through this set of Notebooks as a whole, move on to `26.2 The SPARQL CONSTRUCT query and inferencing`."
   ]
  }
 ],
 "metadata": {
  "kernelspec": {
   "display_name": "Python 3",
   "language": "python",
   "name": "python3"
  },
  "language_info": {
   "codemirror_mode": {
    "name": "ipython",
    "version": 3
   },
   "file_extension": ".py",
   "mimetype": "text/x-python",
   "name": "python",
   "nbconvert_exporter": "python",
   "pygments_lexer": "ipython3",
   "version": "3.5.2"
  }
 },
 "nbformat": 4,
 "nbformat_minor": 1
}
