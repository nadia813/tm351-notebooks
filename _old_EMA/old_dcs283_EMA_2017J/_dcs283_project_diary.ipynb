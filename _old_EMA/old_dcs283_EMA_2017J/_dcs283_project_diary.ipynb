{
 "cells": [
  {
   "cell_type": "markdown",
   "metadata": {},
   "source": [
    "# EMA Project Notebook\n",
    "\n",
    "__Name:__ Daniel Smith\n",
    "\n",
    "__PI:__ A7603242\n"
   ]
  },
  {
   "cell_type": "code",
   "execution_count": 1,
   "metadata": {
    "collapsed": true
   },
   "outputs": [],
   "source": [
    "# import the required libraries\n",
    "# required imports\n",
    "import pandas as pd\n",
    "import scipy.stats\n",
    "import pymongo\n",
    "import bson\n",
    "import collections\n",
    "from matplotlib import pyplot\n",
    "import seaborn as sns"
   ]
  },
  {
   "cell_type": "markdown",
   "metadata": {},
   "source": [
    "## Contents"
   ]
  },
  {
   "cell_type": "markdown",
   "metadata": {},
   "source": [
    "Use these links to jump to a section. \n",
    "\n",
    "[Data preparation](#preparation)\n",
    " - [OpenRefine](#openrefine)\n",
    " - [Cleaning the dataset](#cleaning)\n",
    "\n",
    "[Q1. KS4 Investigation](#q1)\n",
    "\n",
    "[Application of Machine Learning](#machine_learning)\n",
    "\n",
    "[Q2. KS2 - KS4 Investigation](#q)\n",
    "\n"
   ]
  },
  {
   "cell_type": "markdown",
   "metadata": {},
   "source": [
    "# Data preparation\n",
    "<a name=\"importing\"></a>"
   ]
  },
  {
   "cell_type": "markdown",
   "metadata": {},
   "source": [
    "Before we can investigate the data we will to have a look at it, determine what cleaning if any needs doing, carry out the cleaning and store it for access in an appropriate form."
   ]
  },
  {
   "cell_type": "markdown",
   "metadata": {},
   "source": [
    "## Initial look at the KS4 results dataset\n",
    "Let's have a quick look at the data we will be looking at for the EMA."
   ]
  },
  {
   "cell_type": "code",
   "execution_count": 2,
   "metadata": {},
   "outputs": [
    {
     "name": "stdout",
     "output_type": "stream",
     "text": [
      "﻿RECTYPE,ALPHAIND,LEA,ESTAB,URN,SCHNAME,SCHNAME_AC,ADDRESS1,ADDRESS2,ADDRESS3,TOWN,PCODE,TELNUM,CONTFLAG,ICLOSE,NFTYPE,RELDENOM,ADMPOL,EGENDER,FEEDER,TABKS2,TAB1618,AGERANGE,CONFEXAM,TOTPUPS,NUMBOYS,NUMGIRLS,TPUP,BPUP,PBPUP,GPUP,PGPUP,KS2APS,TPRIORLO,PTPRIORLO,TPRIORAV,PTPRIORAV,TPRIORHI,PTPRIORHI,TFSM6CLA1A,PTFSM6CLA1A,TNOTFSM6CLA1A,PTNOTFSM6CLA1A,TEALGRP2,PTEALGRP2,TEALGRP1,PTEALGRP1,TEALGRP3,PTEALGRP3,TNMOB,PTNMOB,SENSE4,PSENSE4,SENAPK4,PSENAPK4,TOTATT8,ATT8SCR,TOTATT8ENG,ATT8SCRENG,TOTATT8MAT,ATT8SCRMAT,TOTATT8EBAC,ATT8SCREBAC,TOTATT8OPEN,ATT8SCROPEN,TOTATT8OPENG,ATT8SCROPENG,TOTATT8OPENNG,ATT8SCROPENNG,P8PUP,P8MEACOV,P8MEA,P8CILOW,P8CIUPP,P8MEAENG,P8MEAENG_CILOW,P8MEAENG_CIUPP,P8MEAMAT,P8MEAMAT_CILOW,P8MEAMAT_CIUPP,P8MEAEBAC,P8MEAEBAC_CILOW,P8MEAEBAC_CIUPP,P8MEAOPEN,P8MEAOPEN_CILOW,P8MEAOPEN_CIUPP,PTL2BASICS_LL_PTQ_EE,PTL2BASICS_3YR_PTQ_EE,TEBACC_E_PTQ_EE,PTEBACC_E_PTQ_EE,PTEBACC_PTQ_EE,TEBACENG_E_PTQ_EE,PTEBACENG_E_PTQ_EE,TEBACMAT_E_PTQ_EE,PTEBACMAT_E_PTQ_EE,TEBAC2SCI_E_PTQ_EE,PTEBAC2SCI_E_PTQ_EE,TEBACHUM_E_PTQ_EE,PTEBACHUM_E_PTQ_EE,TEBACLAN_E_PTQ_EE,PTEBACLAN_E_PTQ_EE,PTEBACENG_LL_PTQ_EE,PTEBACMAT_PTQ_EE,PTEBAC2SCI_PTQ_EE,PTEBACHUM_PTQ_EE,PTEBACLAN_PTQ_EE,SCIVACOV_PTQ_EE,HUMVACOV_PTQ_EE,LANVACOV_PTQ_EE,SCIVAMEA_PTQ_EE,SCIVALOW_PTQ_EE,SCIVAUPP_PTQ_EE,HUMVAMEA_PTQ_EE,HUMVALOW_PTQ_EE,HUMVAUPP_PTQ_EE,LANVAMEA_PTQ_EE,LANVALOW_PTQ_EE,LANVAUPP_PTQ_EE,TEBACENG_LL_PTQ_EE,TEBACMAT_PTQ_EE,TEBAC2SCI_PTQ_EE,TEBACHUM_PTQ_EE,TEBACLAN_PTQ_EE,TEBACCAG_PTQ_EE,PTEBACCAG_PTQ_EE,TEBACENGAG_LL_PTQ_EE,PTEBACENGAG_LL_PTQ_EE,TEBACMATAG_PTQ_EE,PTEBACMATAG_PTQ_EE,TEBAC2SCIAG_PTQ_EE,PTEBAC2SCIAG_PTQ_EE,TEBACHUMAG_PTQ_EE,PTEBACHUMAG_PTQ_EE,TEBACLANAG_PTQ_EE,PTEBACLANAG_PTQ_EE,ATT8SCR_FSM6CLA1A,P8PUP_FSM6CLA1A,P8MEA_FSM6CLA1A,P8CILOW_FSM6CLA1A,P8CIUPP_FSM6CLA1A,ATT8SCR_NFSM6CLA1A,P8PUP_NFSM6CLA1A,P8MEA_NFSM6CLA1A,P8CILOW_NFSM6CLA1A,P8CIUPP_NFSM6CLA1A,ATT8SCRENG_FSM6CLA1A,P8MEAENG_FSM6CLA1A,P8MEAENG_CILOW_FSM6CLA1A,P8MEAENG_CIUPP_FSM6CLA1A,ATT8SCRMAT_FSM6CLA1A,P8MEAMAT_FSM6CLA1A,P8MEAMAT_CILOW_FSM6CLA1A,P8MEAMAT_CIUPP_FSM6CLA1A,ATT8SCREBAC_FSM6CLA1A,P8MEAEBAC_FSM6CLA1A,P8MEAEBAC_CILOW_FSM6CLA1A,P8MEAEBAC_CIUPP_FSM6CLA1A,ATT8SCROPEN_FSM6CLA1A,P8MEAOPEN_FSM6CLA1A,P8MEAOPEN_CILOW_FSM6CLA1A,P8MEAOPEN_CIUPP_FSM6CLA1A,ATT8SCRENG_NFSM6CLA1A,P8MEAENG_NFSM6CLA1A,P8MEAENG_CILOW_NFSM6CLA1A,P8MEAENG_CIUPP_NFSM6CLA1A,ATT8SCRMAT_NFSM6CLA1A,P8MEAMAT_NFSM6CLA1A,P8MEAMAT_CILOW_NFSM6CLA1A,P8MEAMAT_CIUPP_NFSM6CLA1A,ATT8SCREBAC_NFSM6CLA1A,P8MEAEBAC_NFSM6CLA1A,P8MEAEBAC_CILOW_NFSM6CLA1A,P8MEAEBAC_CIUPP_NFSM6CLA1A,ATT8SCROPEN_NFSM6CLA1A,P8MEAOPEN_NFSM6CLA1A,P8MEAOPEN_CILOW_NFSM6CLA1A,P8MEAOPEN_CIUPP_NFSM6CLA1A,ATT8SCROPENG_FSM6CLA1A,ATT8SCROPENNG_FSM6CLA1A,ATT8SCROPENG_NFSM6CLA1A,ATT8SCROPENNG_NFSM6CLA1A,DIFFN_ATT8,DIFFN_P8MEA,ATT8SCR_LO,P8PUP_LO,P8MEA_LO,P8CILOW_LO,P8CIUPP_LO,ATT8SCR_AV,P8PUP_AV,P8MEA_AV,P8CILOW_AV,P8CIUPP_AV,ATT8SCR_HI,P8PUP_HI,P8MEA_HI,P8CILOW_HI,P8CIUPP_HI,ATT8SCR_EAL,P8PUP_EAL,P8MEA_EAL,P8CILOW_EAL,P8CIUPP_EAL,ATT8SCR_GIRLS,P8PUP_GIRLS,P8MEA_GIRLS,P8CILOW_GIRLS,P8CIUPP_GIRLS,ATT8SCR_BOYS,P8PUP_BOYS,P8MEA_BOYS,P8CILOW_BOYS,P8CIUPP_BOYS,ATT8SCR_NMOB,P8PUP_NMOB,P8MEA_NMOB,P8CILOW_NMOB,P8CIUPP_NMOB,ATT8SCR_15,P8PUP_15,P8MEA_15,P8CILOW_15,P8CIUPP_15,TEBACC_ELO_PTQ_EE,PTEBACC_ELO_PTQ_EE,PTEBACCLO_PTQ_EE,TEBACC_EAV_PTQ_EE,PTEBACC_EAV_PTQ_EE,PTEBACCAV_PTQ_EE,TEBACC_EHI_PTQ_EE,PTEBACC_EHI_PTQ_EE,PTEBACCHI_PTQ_EE,PTEBACC_EFSM6CLA1A_PTQ_EE,PTEBACC_ENFSM6CLA1A_PTQ_EE,PTEBACC_FSM6CLA1A_PTQ_EE,PTEBACC_NFSM6CLA1A_PTQ_EE,SCIVAMEA_LO_PTQ_EE,SCIVAMEA_AV_PTQ_EE,SCIVAMEA_HI_PTQ_EE,SCIVAMEA_FSM6CLA1A_PTQ_EE,SCIVAMEA_NFSM6CLA1A_PTQ_EE,HUMVAMEA_LO_PTQ_EE,HUMVAMEA_AV_PTQ_EE,HUMVAMEA_HI_PTQ_EE,HUMVAMEA_FSM6CLA1A_PTQ_EE,HUMVAMEA_NFSM6CLA1A_PTQ_EE,LANVAMEA_LO_PTQ_EE,LANVAMEA_AV_PTQ_EE,LANVAMEA_HI_PTQ_EE,LANVAMEA_FSM6CLA1A_PTQ_EE,LANVAMEA_NFSM6CLA1A_PTQ_EE,SCIVAUPP_FSM6CLA1A_PTQ_EE,SCIVALOW_FSM6CLA1A_PTQ_EE,SCIVAUPP_NFSM6CLA1A_PTQ_EE,SCIVALOW_NFSM6CLA1A_PTQ_EE,SCIVAUPP_LO_PTQ_EE,SCIVALOW_LO_PTQ_EE,SCIVAUPP_AV_PTQ_EE,SCIVALOW_AV_PTQ_EE,SCIVAUPP_HI_PTQ_EE,SCIVALOW_HI_PTQ_EE,HUMVAUPP_FSM6CLA1A_PTQ_EE,HUMVALOW_FSM6CLA1A_PTQ_EE,HUMVAUPP_NFSM6CLA1A_PTQ_EE,HUMVALOW_NFSM6CLA1A_PTQ_EE,HUMVAUPP_LO_PTQ_EE,HUMVALOW_LO_PTQ_EE,HUMVAUPP_AV_PTQ_EE,HUMVALOW_AV_PTQ_EE,HUMVAUPP_HI_PTQ_EE,HUMVALOW_HI_PTQ_EE,LANVAUPP_FSM6CLA1A_PTQ_EE,LANVALOW_FSM6CLA1A_PTQ_EE,LANVAUPP_NFSM6CLA1A_PTQ_EE,LANVALOW_NFSM6CLA1A_PTQ_EE,LANVAUPP_LO_PTQ_EE,LANVALOW_LO_PTQ_EE,LANVAUPP_AV_PTQ_EE,LANVALOW_AV_PTQ_EE,LANVAUPP_HI_PTQ_EE,LANVALOW_HI_PTQ_EE,PTEBACC_E_13,PTEBACC_13,PTEBACC_E_14_PTQ,PTEBACC_14_PTQ,PTEBACC_E_15_PTQ_EE,PTEBACC_15_PTQ_EE,PBEBACC_E_PTQ_EE,PBEBACC_PTQ_EE,PGEBACC_E_PTQ_EE,PGEBACC_PTQ_EE,PTEBACC_ENMOB_PTQ_EE,PTEBACCNMOB_PTQ_EE,PTEBACC_EEAL_PTQ_EE,PTEBACCEAL_PTQ_EE,PTEBACC_EFSM_13,PTEBACC_FSM_13,PTEBACC_ENFSM_13,PTEBACC_NFSM_13,PTEBACC_EFSM_14_PTQ,PTEBACC_FSM_14_PTQ,PTEBACC_ENFSM_14_PTQ,PTEBACC_NFSM_14_PTQ,PTEBACC_EFSM6CLA1A_15_PTQ_EE,PTEBACC_FSM6CLA1A_15_PTQ_EE,PTEBACC_ENFSM6CLA1A_15_PTQ_EE,PTEBACC_NFSM6CLA1A_15_PTQ_EE,PTAC5EM_PTQ_EE,AC5EM13,AC5EM14_PTQ,AC5EM15_PTQ_EE,AC5EM16_PTQ_EE,PTANYQ_PTQ_EE,PTL2BASICS_13,PTL2BASICS_14_PTQ,PTL2BASICS_15_PTQ_EE,PTFSM6CLA1ABASICS_LL_PTQ_EE,PTNOTFSM6CLA1ABASICS_LL_PTQ_EE,TBASICS_LL_LO_PTQ_EE,PTBASICS_LL_LO_PTQ_EE,TBASICS_LL_AV_PTQ_EE,PTBASICS_LL_AV_PTQ_EE,TBASICS_LL_HI_PTQ_EE,PTBASICS_LL_HI_PTQ_EE,PBL2BASICS_LL_PTQ_EE,PGL2BASICS_LL_PTQ_EE,PTL2BASICS_LL_EAL_PTQ_EE,PTL2BASICS_LL_NMOB_PTQ_EE,PTFSMBASICS_13,PTNOTFSMBASICS_13,PTFSMBASICS_14_PTQ,PTNOTFSMBASICS_14_PTQ,PTFSM6CLA1ABASICS_15_PTQ_EE,PTNOTFSM6CLA1ABASICS_15_PTQ_EE,PTmultiLan_E,PTtripleSci_E,TFSMCLA_13,PTFSMCLA_13,TNOTFSMCLA_13,PTNOTFSMCLA_13,TFSMCLA_14,PTFSMCLA_14,TNOTFSMCLA_14,PTNOTFSMCLA_14,TFSM6CLA1A_15,PTFSM6CLA1A_15,TNOTFSM6CLA1A_15,PTNOTFSM6CLA1A_15,TAVENT_E_3NG_PTQ_EE,TAVENT_E_3NG_LO_PTQ_EE,TAVENT_E_3NG_AV_PTQ_EE,TAVENT_E_3NG_HI_PTQ_EE,TAVENT_E_3NG_FSM6CLA1A_PTQ_EE,TAVENT_E_3NG_NFSM6CLA1A_PTQ_EE,TAVENT_EFSM_13,TAVENT_ENFSM_13,TAVENT_EFSM_14_PTQ,TAVENT_ENFSM_14_PTQ,TAVENT_EFSM6CLA1A_15_PTQ_EE,TAVENT_ENFSM6CLA1A_15_PTQ_EE,TAVENT_G_PTQ_EE,TAVENT_GLO_PTQ_EE,TAVENT_GAV_PTQ_EE,TAVENT_GHI_PTQ_EE,TAVENT_GFSM6CLA1A_PTQ_EE,TAVENT_GNFSM6CLA1A_PTQ_EE,TAVENT_GFSM_13,TAVENT_GNFSM_13,TAVENT_GFSM_14_PTQ,TAVENT_GNFSM_14_PTQ,TAVENT_GFSM6CLA1A_15_PTQ_EE,TAVENT_GNFSM6CLA1A_15_PTQ_EE\r",
      "\r\n",
      "1,11828,201,6007,100003,City of London School, ,Queen Victoria Street, , ,London,EC4V 3AL,0207 4890291,0,0,IND,None, ,BOYS,0,0,1,10-18, ,918,918,NA,139,139,100%,NA,NA,NP,NP,NP,NP,NP,NP,NP,NP,NP,NP,NP,NP,NP,NP,NP,NP,NP,NP,NP,NA,NA,NA,NA,5849,42.1,1012,7.3,0,0,3085.3,22.2,1751.8,12.6,1452.5,10.4,299.3,2.2,NP,NP,NP,NP,NP,NP,NP,NP,NP,NP,NP,NP,NP,NP,NP,NP,NP,0%,0%,0,0%,0%,0,0%,0,0%,0,0%,135,97%,139,100%,0%,0%,NE,100%,100%,NP,NP,NP,NP,NP,NP,NP,NP,NP,NP,NP,NP,0,0,NE,135,139,0,0%,0,0%,0,0%,NE,NE,135,100%,139,100%,NP,NP,NP,NP,NP,NP,NP,NP,NP,NP,NP,NP,NP,NP,NP,NP,NP,NP,NP,NP,NP,NP,NP,NP,NP,NP,NP,NP,NP,NP,NP,NP,NP,NP,NP,NP,NP,NP,NP,NP,NP,NP,NP,NP,NP,NP,NP,NP,NP,NP,NP,NP,NP,NP,NP,NP,NP,NP,NP,NP,NP,NP,NP,NP,NP,NP,NP,NP,NA,NA,NA,NA,NA,42.1,NP,NP,NP,NP,NP,NP,NP,NP,NP,NA,NA,NA,NA,NA,NP,NP,NP,NP,NP,NP,NP,NP,NP,NP,NP,NP,NP,NP,NP,NP,NP,NP,NP,NP,NP,NP,NP,NP,NP,NP,NP,NP,NP,NP,NP,NP,NP,NP,NP,NP,NP,NP,NP,NP,NP,NP,NP,NP,NP,NP,NP,NP,NP,NP,NP,NP,NP,NP,NP,NP,NP,NP,0%,0%,0%,0%,0%,0%,0%,0%,NE,NE,NP,NP,NP,NP,NA,NA,NA,NA,NA,NA,NA,NA,NA,NA,NA,NA,0%,0%,0%,0%,0%,100%,0%,0%,0%,NP,NP,NP,NP,NP,NP,NP,NP,0%,NE,NP,NP,NA,NA,NA,NA,NA,NA,68%,0%,NA,NA,NA,NA,NA,NA,NA,NA,NA,NA,NA,NA,5.6,NP,NP,NP,NP,NP,NA,NA,NA,NA,NA,NA,5.3,NP,NP,NP,NP,NP,NA,NA,NA,NA,NA,NA\r",
      "\r\n",
      "1,11830,201,6005,100001,City of London School for Girls, ,St Giles' Terrace,Barbican, ,London,EC2Y 8BB,0207 8475500,0,0,IND,None, ,GIRLS,0,0,1,7-18, ,730,NA,730,90,NA,NA,90,100%,NP,NP,NP,NP,NP,NP,NP,NP,NP,NP,NP,NP,NP,NP,NP,NP,NP,NP,NP,NA,NA,NA,NA,2900.3,32.2,0,0,19,0.2,1517.5,16.9,1363.8,15.2,1172.8,13,191,2.1,NP,NP,NP,NP,NP,NP,NP,NP,NP,NP,NP,NP,NP,NP,NP,NP,NP,0%,0%,0,0%,0%,0,0%,1,1%,0,0%,64,71%,79,88%,0%,1%,NE,100%,100%,NP,NP,NP,NP,NP,NP,NP,NP,NP,NP,NP,NP,0,1,NE,64,79,0,0%,0,0%,1,1%,NE,NE,64,100%,79,100%,NP,NP,NP,NP,NP,NP,NP,NP,NP,NP,NP,NP,NP,NP,NP,NP,NP,NP,NP,NP,NP,NP,NP,NP,NP,NP,NP,NP,NP,NP,NP,NP,NP,NP,NP,NP,NP,NP,NP,NP,NP,NP,NP,NP,NP,NP,NP,NP,NP,NP,NP,NP,NP,NP,NP,NP,NP,NP,NP,NP,NP,NP,NP,NP,NP,NP,NP,NP,32.2,NP,NP,NP,NP,NA,NA,NA,NA,NA,NP,NP,NP,NP,NP,NA,NA,NA,NA,NA,NP,NP,NP,NP,NP,NP,NP,NP,NP,NP,NP,NP,NP,NP,NP,NP,NP,NP,NP,NP,NP,NP,NP,NP,NP,NP,NP,NP,NP,NP,NP,NP,NP,NP,NP,NP,NP,NP,NP,NP,NP,NP,NP,NP,NP,NP,NP,NP,NP,NP,NP,NP,NP,NP,NP,NP,NP,NP,68%,68%,0%,0%,0%,0%,NE,NE,0%,0%,NP,NP,NP,NP,NA,NA,NA,NA,NA,NA,NA,NA,NA,NA,NA,NA,0%,100%,0%,0%,0%,99%,100%,0%,0%,NP,NP,NP,NP,NP,NP,NP,NP,NE,0%,NP,NP,NA,NA,NA,NA,NA,NA,42%,0%,NA,NA,NA,NA,NA,NA,NA,NA,NA,NA,NA,NA,4.2,NP,NP,NP,NP,NP,NA,NA,NA,NA,NA,NA,3.9,NP,NP,NP,NP,NP,NA,NA,NA,NA,NA,NA\r",
      "\r\n",
      "4, ,201, , , , , , , , , , , , , , , , , , , ,, , , , , , , , , , , , , , , , , , , , , , , , , , , , , , , , , , , , , , , , , , , , , , , , , , , , , , , , , , , , , , , , , , , , , , , , , , , , , , , , , , , , , , , , , , , , , , , , , , , , , , , , , , , , , , , , , , , , , , , , , , , , , , , , , , , , , , , , , , , , , , , , , , , , , , , , , , , , , , , , , , , , , , , , , , , , , , , , , , , , , , , , , , , , , , , , , , , , , , , , , , , , , , , , , , , , , , , , , , , , , , , , , , , , , , , , , , , , , , , , , , , , , , , , , , , , , , , , , , , , , , , , , , , , , , , , , , , , , , , , , , , , , , , , , , , , , , , , , , , , , , , , , , , , , , , , , , , , , , , , , , , , , , , , , , , , , , , , , , , , , , , , , , , , , \r",
      "\r\n",
      "1,368,202,4285,100053,Acland Burghley School, ,Burghley Road, , ,London,NW5 1UJ,0207 4858515,0,0,CY,Does not apply,COMP,MIXED,1,0,1,11-18, ,974,628,346,172,109,63%,63,37%,28.3,22,13%,81,48%,66,39%,98,57%,74,43%,55,32%,117,68%,0,0%,166,97%,9,5%,9,5%,8622.5,50.1,1900,11,1700,9.9,2443,14.2,2579.5,15,2496,14.5,83.5,0.5,169,98%,-0.26,-0.42,-0.1,-0.02,-0.19,0.15,-0.26,-0.44,-0.07,-0.15,-0.36,0.06,-0.53,-0.72,-0.35,60%,59%,74,43%,30%,170,99%,168,98%,139,81%,131,76%,96,56%,81%,62%,75%,63%,77%,100%,99%,99%,-0.06,-0.24,0.12,-0.21,-0.46,0.04,0.31,0.03,0.58,140,107,104,83,74,74,43%,170,99%,162,94%,137,99%,131,100%,96,100%,44.6,96,-0.38,-0.59,-0.16,57.4,73,-0.1,-0.35,0.14,10.1,-0.13,-0.35,0.1,8.6,-0.4,-0.65,-0.16,12.3,-0.23,-0.51,0.05,13.6,-0.67,-0.92,-0.43,12.3,0.13,-0.13,0.39,11.6,-0.06,-0.34,0.22,16.7,-0.04,-0.36,0.28,16.9,-0.35,-0.64,-0.07,12.8,0.8,16.8,0.1,-8.7,-0.48,26,22,-0.75,-1.19,-0.3,46.8,81,-0.21,-0.44,0.02,63.1,66,-0.16,-0.41,0.1,49.9,53,-0.13,-0.41,0.16,50.5,61,-0.13,-0.39,0.14,49.9,108,-0.33,-0.53,-0.13,50.6,164,-0.23,-0.39,-0.07,NA,NA,NA,NA,NA,1,5%,0%,28,35%,15%,45,68%,61%,33%,57%,21%,42%,-0.18,0.09,-0.2,-0.03,-0.09,0.36,-0.37,-0.17,-0.33,-0.04,SUPP,0.34,0.31,0.31,0.3,0.23,-0.28,0.16,-0.34,0.57,-0.92,0.34,-0.17,0.07,-0.46,0,-0.67,0.33,-0.42,1.18,-0.46,0.01,-0.75,0.19,-0.53,0.71,-0.09,0.68,-0.08,SUPP,SUPP,0.76,-0.08,0.7,-0.07,48%,30%,57%,34%,57%,37%,42%,31%,44%,29%,44%,31%,49%,33%,29%,12%,72%,51%,46%,21%,71%,51%,44%,26%,73%,51%,53%,57%,57%,56%,53%,99%,59%,59%,56%,47%,78%,2,9%,38,47%,63,95%,63%,56%,58%,61%,43%,78%,44%,77%,45%,71%,3%,32%,97,54%,81,46%,97,55%,79,45%,94,56%,75,44%,9.1,6.9,9.1,9.9,8.7,9.6,8.7,9.9,9.2,10.3,9.7,11.5,8.8,6.1,8.9,9.8,8.4,9.5,8.1,9.8,9,10.2,8.4,10.6\r",
      "\r\n"
     ]
    }
   ],
   "source": [
    "!head -5 'data/2015-2016/england_ks4final.csv'"
   ]
  },
  {
   "cell_type": "code",
   "execution_count": 3,
   "metadata": {},
   "outputs": [
    {
     "name": "stdout",
     "output_type": "stream",
     "text": [
      "5489 data/2015-2016/england_ks4final.csv\r\n"
     ]
    }
   ],
   "source": [
    "!wc -l 'data/2015-2016/england_ks4final.csv'"
   ]
  },
  {
   "cell_type": "markdown",
   "metadata": {},
   "source": [
    "The dataset has 5489 rows of data, there appears to be a large number of columns and a lot of codes that I'll need to look up.  There are a also a number of `NA` and `NP` values that could be missing data.  As well as this results data I will need to find and import the relevent metadata file."
   ]
  },
  {
   "cell_type": "markdown",
   "metadata": {},
   "source": [
    "Looking through the data/2015-2016 folder there are a number of files that have information on these codes."
   ]
  },
  {
   "cell_type": "code",
   "execution_count": 4,
   "metadata": {},
   "outputs": [
    {
     "name": "stdout",
     "output_type": "stream",
     "text": [
      "abbreviations.xlsx\t    england_vaqual.csv\r\n",
      "abs_meta.csv\t\t    england_vasubj.csv\r\n",
      "census_meta.csv\t\t    ks2_meta.csv\r\n",
      "england_abs.csv\t\t    ks4_clean_reduced.tsv\r\n",
      "england_census.csv\t    ks4final_clean.csv\r\n",
      "england_cfrfull.xlsx\t    ks4_meta.csv\r\n",
      "england_ks2final.csv\t    ks4_meta_methodology.csv\r\n",
      "england_ks4final.csv\t    ks4-pupdest_meta.csv\r\n",
      "england_ks4-pupdest.csv     ks5_meta.csv\r\n",
      "england_ks4underlying.xlsx  ks5-studest_meta.csv\r\n",
      "england_ks5final.csv\t    la_and_region_codes_meta.csv\r\n",
      "england_ks5-studest.csv     sixth_form_centres_and_consortia_meta.xlsx\r\n",
      "england_ks5underlying.xlsx  spine_meta.csv\r\n",
      "england_spine.csv\t    swf_meta.csv\r\n",
      "england_swf.csv\r\n"
     ]
    }
   ],
   "source": [
    "!ls data/2015-2016/"
   ]
  },
  {
   "cell_type": "markdown",
   "metadata": {},
   "source": [
    "There is an abbreviations file, stored as an xlsx file.  I'll have a quick glance at it in excel.  Having looked the abbreviation up in the abbreviations file we can see that they have the following meanings:\n",
    "\n",
    "- _NA_: Not applicable\n",
    "- _NP_: Not Published\n",
    "- _NE_: No entries\n",
    "- _SUPP_: Suppressed (5 or fewer in cohort)\n",
    "- _LOWCOV_: Low coverage (less than 50% of the cohort\n",
    "- _NEW_: New institution\n",
    "\n",
    "However, before importing the results data I want to look at it in Open Refine and decide what I will do with the missing data."
   ]
  },
  {
   "cell_type": "code",
   "execution_count": 5,
   "metadata": {},
   "outputs": [
    {
     "data": {
      "text/html": [
       "<div>\n",
       "<style>\n",
       "    .dataframe thead tr:only-child th {\n",
       "        text-align: right;\n",
       "    }\n",
       "\n",
       "    .dataframe thead th {\n",
       "        text-align: left;\n",
       "    }\n",
       "\n",
       "    .dataframe tbody tr th {\n",
       "        vertical-align: top;\n",
       "    }\n",
       "</style>\n",
       "<table border=\"1\" class=\"dataframe\">\n",
       "  <thead>\n",
       "    <tr style=\"text-align: right;\">\n",
       "      <th></th>\n",
       "      <th>2016 KS4 and KS5/16-18 Performance Tables</th>\n",
       "      <th>Unnamed: 1</th>\n",
       "      <th>Unnamed: 2</th>\n",
       "    </tr>\n",
       "  </thead>\n",
       "  <tbody>\n",
       "    <tr>\n",
       "      <th>0</th>\n",
       "      <td>Abbreviations used in the csv and excel Downlo...</td>\n",
       "      <td>NaN</td>\n",
       "      <td>NaN</td>\n",
       "    </tr>\n",
       "    <tr>\n",
       "      <th>1</th>\n",
       "      <td>NaN</td>\n",
       "      <td>NaN</td>\n",
       "      <td>NaN</td>\n",
       "    </tr>\n",
       "    <tr>\n",
       "      <th>2</th>\n",
       "      <td>Institution type (NFTYPE):</td>\n",
       "      <td>NaN</td>\n",
       "      <td>NaN</td>\n",
       "    </tr>\n",
       "    <tr>\n",
       "      <th>3</th>\n",
       "      <td>AC</td>\n",
       "      <td>Sponsored academy</td>\n",
       "      <td>NaN</td>\n",
       "    </tr>\n",
       "    <tr>\n",
       "      <th>4</th>\n",
       "      <td>ACC</td>\n",
       "      <td>Academy converter - mainstream</td>\n",
       "      <td>NaN</td>\n",
       "    </tr>\n",
       "    <tr>\n",
       "      <th>5</th>\n",
       "      <td>AC1619</td>\n",
       "      <td>Academy 16-19 sponsor led</td>\n",
       "      <td>NaN</td>\n",
       "    </tr>\n",
       "    <tr>\n",
       "      <th>6</th>\n",
       "      <td>ACC1619</td>\n",
       "      <td>Academy 16-19 converter</td>\n",
       "      <td>NaN</td>\n",
       "    </tr>\n",
       "    <tr>\n",
       "      <th>7</th>\n",
       "      <td>ACCS</td>\n",
       "      <td>Academy converter - special school</td>\n",
       "      <td>NaN</td>\n",
       "    </tr>\n",
       "    <tr>\n",
       "      <th>8</th>\n",
       "      <td>ACS</td>\n",
       "      <td>Sponsored special academy</td>\n",
       "      <td>NaN</td>\n",
       "    </tr>\n",
       "    <tr>\n",
       "      <th>9</th>\n",
       "      <td>CTC</td>\n",
       "      <td>City technology college</td>\n",
       "      <td>NaN</td>\n",
       "    </tr>\n",
       "    <tr>\n",
       "      <th>10</th>\n",
       "      <td>CY</td>\n",
       "      <td>Community school</td>\n",
       "      <td>NaN</td>\n",
       "    </tr>\n",
       "    <tr>\n",
       "      <th>11</th>\n",
       "      <td>CYS</td>\n",
       "      <td>Community special school</td>\n",
       "      <td>NaN</td>\n",
       "    </tr>\n",
       "    <tr>\n",
       "      <th>12</th>\n",
       "      <td>F</td>\n",
       "      <td>Free school - mainstream</td>\n",
       "      <td>NaN</td>\n",
       "    </tr>\n",
       "    <tr>\n",
       "      <th>13</th>\n",
       "      <td>FESI</td>\n",
       "      <td>Further Education Sector Institution</td>\n",
       "      <td>NaN</td>\n",
       "    </tr>\n",
       "    <tr>\n",
       "      <th>14</th>\n",
       "      <td>FD</td>\n",
       "      <td>Foundation school</td>\n",
       "      <td>NaN</td>\n",
       "    </tr>\n",
       "    <tr>\n",
       "      <th>15</th>\n",
       "      <td>FDS</td>\n",
       "      <td>Foundation special school</td>\n",
       "      <td>NaN</td>\n",
       "    </tr>\n",
       "    <tr>\n",
       "      <th>16</th>\n",
       "      <td>FS</td>\n",
       "      <td>Free school - special</td>\n",
       "      <td>NaN</td>\n",
       "    </tr>\n",
       "    <tr>\n",
       "      <th>17</th>\n",
       "      <td>FSS</td>\n",
       "      <td>Studio school</td>\n",
       "      <td>NaN</td>\n",
       "    </tr>\n",
       "    <tr>\n",
       "      <th>18</th>\n",
       "      <td>FUTC</td>\n",
       "      <td>UTC (university technical college)</td>\n",
       "      <td>NaN</td>\n",
       "    </tr>\n",
       "    <tr>\n",
       "      <th>19</th>\n",
       "      <td>F1619</td>\n",
       "      <td>Free school - 16-19</td>\n",
       "      <td>NaN</td>\n",
       "    </tr>\n",
       "    <tr>\n",
       "      <th>20</th>\n",
       "      <td>IND</td>\n",
       "      <td>Independent school</td>\n",
       "      <td>NaN</td>\n",
       "    </tr>\n",
       "    <tr>\n",
       "      <th>21</th>\n",
       "      <td>INDSPEC</td>\n",
       "      <td>Independent special school</td>\n",
       "      <td>NaN</td>\n",
       "    </tr>\n",
       "    <tr>\n",
       "      <th>22</th>\n",
       "      <td>MODFC</td>\n",
       "      <td>College funded by Ministry of Defence</td>\n",
       "      <td>NaN</td>\n",
       "    </tr>\n",
       "    <tr>\n",
       "      <th>23</th>\n",
       "      <td>NMSS</td>\n",
       "      <td>Non-maintained special school</td>\n",
       "      <td>NaN</td>\n",
       "    </tr>\n",
       "    <tr>\n",
       "      <th>24</th>\n",
       "      <td>VA</td>\n",
       "      <td>Voluntary aided school</td>\n",
       "      <td>NaN</td>\n",
       "    </tr>\n",
       "    <tr>\n",
       "      <th>25</th>\n",
       "      <td>VC</td>\n",
       "      <td>Voluntary controlled school</td>\n",
       "      <td>NaN</td>\n",
       "    </tr>\n",
       "    <tr>\n",
       "      <th>26</th>\n",
       "      <td>NaN</td>\n",
       "      <td>NaN</td>\n",
       "      <td>NaN</td>\n",
       "    </tr>\n",
       "    <tr>\n",
       "      <th>27</th>\n",
       "      <td>Types of further education (FE) institutions:</td>\n",
       "      <td>NaN</td>\n",
       "      <td>NaN</td>\n",
       "    </tr>\n",
       "    <tr>\n",
       "      <th>28</th>\n",
       "      <td>Agriculture and horticultural college</td>\n",
       "      <td>NaN</td>\n",
       "      <td>NaN</td>\n",
       "    </tr>\n",
       "    <tr>\n",
       "      <th>29</th>\n",
       "      <td>Art, design and performing arts college</td>\n",
       "      <td>NaN</td>\n",
       "      <td>NaN</td>\n",
       "    </tr>\n",
       "    <tr>\n",
       "      <th>30</th>\n",
       "      <td>General further education college</td>\n",
       "      <td>NaN</td>\n",
       "      <td>NaN</td>\n",
       "    </tr>\n",
       "    <tr>\n",
       "      <th>31</th>\n",
       "      <td>General further education college (special)</td>\n",
       "      <td>NaN</td>\n",
       "      <td>NaN</td>\n",
       "    </tr>\n",
       "    <tr>\n",
       "      <th>32</th>\n",
       "      <td>Sixth form college</td>\n",
       "      <td>NaN</td>\n",
       "      <td>NaN</td>\n",
       "    </tr>\n",
       "    <tr>\n",
       "      <th>33</th>\n",
       "      <td>Specialist designated college</td>\n",
       "      <td>NaN</td>\n",
       "      <td>NaN</td>\n",
       "    </tr>\n",
       "    <tr>\n",
       "      <th>34</th>\n",
       "      <td>Tertiary college</td>\n",
       "      <td>NaN</td>\n",
       "      <td>NaN</td>\n",
       "    </tr>\n",
       "    <tr>\n",
       "      <th>35</th>\n",
       "      <td>NaN</td>\n",
       "      <td>NaN</td>\n",
       "      <td>NaN</td>\n",
       "    </tr>\n",
       "    <tr>\n",
       "      <th>36</th>\n",
       "      <td>Admissions policy (ADMPOL):</td>\n",
       "      <td>NaN</td>\n",
       "      <td>NaN</td>\n",
       "    </tr>\n",
       "    <tr>\n",
       "      <th>37</th>\n",
       "      <td>COMP</td>\n",
       "      <td>Comprehensive</td>\n",
       "      <td>NaN</td>\n",
       "    </tr>\n",
       "    <tr>\n",
       "      <th>38</th>\n",
       "      <td>MOD</td>\n",
       "      <td>Modern</td>\n",
       "      <td>NaN</td>\n",
       "    </tr>\n",
       "    <tr>\n",
       "      <th>39</th>\n",
       "      <td>SEL</td>\n",
       "      <td>Selective</td>\n",
       "      <td>NaN</td>\n",
       "    </tr>\n",
       "    <tr>\n",
       "      <th>40</th>\n",
       "      <td>NA</td>\n",
       "      <td>Not applicable: figures are either not availab...</td>\n",
       "      <td>NaN</td>\n",
       "    </tr>\n",
       "    <tr>\n",
       "      <th>41</th>\n",
       "      <td>UK</td>\n",
       "      <td>Unknown</td>\n",
       "      <td>NaN</td>\n",
       "    </tr>\n",
       "    <tr>\n",
       "      <th>42</th>\n",
       "      <td>&lt;blank&gt;</td>\n",
       "      <td>Admissions policy information is not available...</td>\n",
       "      <td>NaN</td>\n",
       "    </tr>\n",
       "    <tr>\n",
       "      <th>43</th>\n",
       "      <td>NaN</td>\n",
       "      <td>NaN</td>\n",
       "      <td>NaN</td>\n",
       "    </tr>\n",
       "    <tr>\n",
       "      <th>44</th>\n",
       "      <td>General abbreviations:</td>\n",
       "      <td>NaN</td>\n",
       "      <td>NaN</td>\n",
       "    </tr>\n",
       "    <tr>\n",
       "      <th>45</th>\n",
       "      <td>NEW</td>\n",
       "      <td>New institution</td>\n",
       "      <td>NaN</td>\n",
       "    </tr>\n",
       "    <tr>\n",
       "      <th>46</th>\n",
       "      <td>NE</td>\n",
       "      <td>No entries</td>\n",
       "      <td>NaN</td>\n",
       "    </tr>\n",
       "    <tr>\n",
       "      <th>47</th>\n",
       "      <td>NaN</td>\n",
       "      <td>Not applicable: figures are either not availab...</td>\n",
       "      <td>NaN</td>\n",
       "    </tr>\n",
       "    <tr>\n",
       "      <th>48</th>\n",
       "      <td>SUPP</td>\n",
       "      <td>Indicates that a school or college's figures h...</td>\n",
       "      <td>NaN</td>\n",
       "    </tr>\n",
       "    <tr>\n",
       "      <th>49</th>\n",
       "      <td>NP</td>\n",
       "      <td>Not published - for example we do not publish ...</td>\n",
       "      <td>NaN</td>\n",
       "    </tr>\n",
       "    <tr>\n",
       "      <th>50</th>\n",
       "      <td>LOWCOV</td>\n",
       "      <td>Low coverage: indicates that a school’s Progre...</td>\n",
       "      <td>NaN</td>\n",
       "    </tr>\n",
       "    <tr>\n",
       "      <th>51</th>\n",
       "      <td>NaN</td>\n",
       "      <td>NaN</td>\n",
       "      <td>NaN</td>\n",
       "    </tr>\n",
       "    <tr>\n",
       "      <th>52</th>\n",
       "      <td>Notes:</td>\n",
       "      <td>NaN</td>\n",
       "      <td>NaN</td>\n",
       "    </tr>\n",
       "    <tr>\n",
       "      <th>53</th>\n",
       "      <td>The 2016 secondary and 16-18 performance table...</td>\n",
       "      <td>NaN</td>\n",
       "      <td>NaN</td>\n",
       "    </tr>\n",
       "    <tr>\n",
       "      <th>54</th>\n",
       "      <td>If a school converted to an academy during the...</td>\n",
       "      <td>NaN</td>\n",
       "      <td>NaN</td>\n",
       "    </tr>\n",
       "    <tr>\n",
       "      <th>55</th>\n",
       "      <td>The KS4 and KS5 metadata files provide descrip...</td>\n",
       "      <td>NaN</td>\n",
       "      <td>NaN</td>\n",
       "    </tr>\n",
       "  </tbody>\n",
       "</table>\n",
       "</div>"
      ],
      "text/plain": [
       "            2016 KS4 and KS5/16-18 Performance Tables  \\\n",
       "0   Abbreviations used in the csv and excel Downlo...   \n",
       "1                                                 NaN   \n",
       "2                         Institution type (NFTYPE):    \n",
       "3                                                  AC   \n",
       "4                                                 ACC   \n",
       "5                                              AC1619   \n",
       "6                                             ACC1619   \n",
       "7                                                ACCS   \n",
       "8                                                 ACS   \n",
       "9                                                 CTC   \n",
       "10                                                 CY   \n",
       "11                                                CYS   \n",
       "12                                                  F   \n",
       "13                                               FESI   \n",
       "14                                                 FD   \n",
       "15                                                FDS   \n",
       "16                                                 FS   \n",
       "17                                                FSS   \n",
       "18                                               FUTC   \n",
       "19                                              F1619   \n",
       "20                                                IND   \n",
       "21                                            INDSPEC   \n",
       "22                                              MODFC   \n",
       "23                                               NMSS   \n",
       "24                                                 VA   \n",
       "25                                                 VC   \n",
       "26                                                NaN   \n",
       "27      Types of further education (FE) institutions:   \n",
       "28              Agriculture and horticultural college   \n",
       "29            Art, design and performing arts college   \n",
       "30                  General further education college   \n",
       "31        General further education college (special)   \n",
       "32                                 Sixth form college   \n",
       "33                      Specialist designated college   \n",
       "34                                   Tertiary college   \n",
       "35                                                NaN   \n",
       "36                       Admissions policy (ADMPOL):    \n",
       "37                                               COMP   \n",
       "38                                                MOD   \n",
       "39                                                SEL   \n",
       "40                                                NA    \n",
       "41                                                 UK   \n",
       "42                                            <blank>   \n",
       "43                                                NaN   \n",
       "44                             General abbreviations:   \n",
       "45                                                NEW   \n",
       "46                                                 NE   \n",
       "47                                                NaN   \n",
       "48                                               SUPP   \n",
       "49                                                 NP   \n",
       "50                                             LOWCOV   \n",
       "51                                                NaN   \n",
       "52                                            Notes:    \n",
       "53  The 2016 secondary and 16-18 performance table...   \n",
       "54  If a school converted to an academy during the...   \n",
       "55  The KS4 and KS5 metadata files provide descrip...   \n",
       "\n",
       "                                           Unnamed: 1  Unnamed: 2  \n",
       "0                                                 NaN         NaN  \n",
       "1                                                 NaN         NaN  \n",
       "2                                                 NaN         NaN  \n",
       "3                                 Sponsored academy           NaN  \n",
       "4                      Academy converter - mainstream         NaN  \n",
       "5                           Academy 16-19 sponsor led         NaN  \n",
       "6                             Academy 16-19 converter         NaN  \n",
       "7                  Academy converter - special school         NaN  \n",
       "8                          Sponsored special academy          NaN  \n",
       "9                             City technology college         NaN  \n",
       "10                                   Community school         NaN  \n",
       "11                           Community special school         NaN  \n",
       "12                           Free school - mainstream         NaN  \n",
       "13               Further Education Sector Institution         NaN  \n",
       "14                                  Foundation school         NaN  \n",
       "15                          Foundation special school         NaN  \n",
       "16                              Free school - special         NaN  \n",
       "17                                      Studio school         NaN  \n",
       "18                 UTC (university technical college)         NaN  \n",
       "19                                Free school - 16-19         NaN  \n",
       "20                                 Independent school         NaN  \n",
       "21                         Independent special school         NaN  \n",
       "22              College funded by Ministry of Defence         NaN  \n",
       "23                      Non-maintained special school         NaN  \n",
       "24                             Voluntary aided school         NaN  \n",
       "25                        Voluntary controlled school         NaN  \n",
       "26                                                NaN         NaN  \n",
       "27                                                NaN         NaN  \n",
       "28                                                NaN         NaN  \n",
       "29                                                NaN         NaN  \n",
       "30                                                NaN         NaN  \n",
       "31                                                NaN         NaN  \n",
       "32                                                NaN         NaN  \n",
       "33                                                NaN         NaN  \n",
       "34                                                NaN         NaN  \n",
       "35                                                NaN         NaN  \n",
       "36                                                NaN         NaN  \n",
       "37                                      Comprehensive         NaN  \n",
       "38                                             Modern         NaN  \n",
       "39                                          Selective         NaN  \n",
       "40  Not applicable: figures are either not availab...         NaN  \n",
       "41                                            Unknown         NaN  \n",
       "42  Admissions policy information is not available...         NaN  \n",
       "43                                                NaN         NaN  \n",
       "44                                                NaN         NaN  \n",
       "45                                    New institution         NaN  \n",
       "46                                         No entries         NaN  \n",
       "47  Not applicable: figures are either not availab...         NaN  \n",
       "48  Indicates that a school or college's figures h...         NaN  \n",
       "49  Not published - for example we do not publish ...         NaN  \n",
       "50  Low coverage: indicates that a school’s Progre...         NaN  \n",
       "51                                                NaN         NaN  \n",
       "52                                                NaN         NaN  \n",
       "53                                                NaN         NaN  \n",
       "54                                                NaN         NaN  \n",
       "55                                                NaN         NaN  "
      ]
     },
     "execution_count": 5,
     "metadata": {},
     "output_type": "execute_result"
    }
   ],
   "source": [
    "# read in the abbreviations file\n",
    "abbr_df = pd.read_excel('data/2015-2016/abbreviations.xlsx')\n",
    "abbr_df"
   ]
  },
  {
   "cell_type": "markdown",
   "metadata": {},
   "source": [
    "We can see from this that the NFTYPE information is in rows 3-25.  I'll store them as a dict for reference later.\n",
    "\n",
    "The General abbreviations are rows 45-50. (I noticed that the file was miss-parsed here.  The `NA` became `NaN` in the dataframe)."
   ]
  },
  {
   "cell_type": "code",
   "execution_count": 6,
   "metadata": {
    "collapsed": true
   },
   "outputs": [],
   "source": [
    "# relabel the columns\n",
    "abbr_df.columns = ['label', 'expanded', 'not_needed']"
   ]
  },
  {
   "cell_type": "code",
   "execution_count": 7,
   "metadata": {},
   "outputs": [
    {
     "data": {
      "text/plain": [
       "{'AC': 'Sponsored academy',\n",
       " 'AC1619': 'Academy 16-19 sponsor led',\n",
       " 'ACC': 'Academy converter - mainstream',\n",
       " 'ACC1619': 'Academy 16-19 converter',\n",
       " 'ACCS': 'Academy converter - special school',\n",
       " 'ACS': 'Sponsored special academy',\n",
       " 'CTC': 'City technology college',\n",
       " 'CY': 'Community school',\n",
       " 'CYS': 'Community special school',\n",
       " 'F': 'Free school - mainstream',\n",
       " 'F1619': 'Free school - 16-19',\n",
       " 'FD': 'Foundation school',\n",
       " 'FDS': 'Foundation special school',\n",
       " 'FESI': 'Further Education Sector Institution',\n",
       " 'FS': 'Free school - special',\n",
       " 'FSS': 'Studio school',\n",
       " 'FUTC': 'UTC (university technical college)',\n",
       " 'IND': 'Independent school',\n",
       " 'INDSPEC': 'Independent special school',\n",
       " 'MODFC': 'College funded by Ministry of Defence',\n",
       " 'NMSS': 'Non-maintained special school',\n",
       " 'VA': 'Voluntary aided school',\n",
       " 'VC': 'Voluntary controlled school'}"
      ]
     },
     "execution_count": 7,
     "metadata": {},
     "output_type": "execute_result"
    }
   ],
   "source": [
    "nftypes = {}\n",
    "for index, row in abbr_df[3:26].iterrows():\n",
    "    nftypes[row['label'].strip()] = row['expanded'].strip()\n",
    "\n",
    "nftypes"
   ]
  },
  {
   "cell_type": "code",
   "execution_count": 8,
   "metadata": {},
   "outputs": [
    {
     "data": {
      "text/plain": [
       "{nan: 'Not applicable: figures are either not available for the year in question, or the data field is not applicable to this school or college',\n",
       " 'NP': 'Not published - for example we do not publish Progress 8 data for independent schools and independent special schools, or breakdowns by disadvantaged and non-disadvantaged pupils for independent schools, independent special schools and non-maintained special schools.',\n",
       " 'NEW': 'New institution',\n",
       " 'LOWCOV': 'Low coverage: indicates that a school’s Progress 8 or value added measures have been suppressed because coverage is less than 50% of the cohort',\n",
       " 'NE': 'No entries',\n",
       " 'SUPP': \"Indicates that a school or college's figures have been suppressed because there are 5 or fewer pupils in the cohort\"}"
      ]
     },
     "execution_count": 8,
     "metadata": {},
     "output_type": "execute_result"
    }
   ],
   "source": [
    "abbr_dict = {}\n",
    "for i, r in abbr_df[45:51].iterrows():\n",
    "#     print(r['label'], r['expanded'])\n",
    "    abbr_dict[r['label']] = r['expanded']\n",
    "abbr_dict"
   ]
  },
  {
   "cell_type": "code",
   "execution_count": 1,
   "metadata": {},
   "outputs": [
    {
     "ename": "NameError",
     "evalue": "name 'abbr_df' is not defined",
     "output_type": "error",
     "traceback": [
      "\u001b[0;31m---------------------------------------------------------------------------\u001b[0m",
      "\u001b[0;31mNameError\u001b[0m                                 Traceback (most recent call last)",
      "\u001b[0;32m<ipython-input-1-641e62fdd077>\u001b[0m in \u001b[0;36m<module>\u001b[0;34m()\u001b[0m\n\u001b[1;32m      1\u001b[0m \u001b[0;31m# select the rows that are NFTYPES\u001b[0m\u001b[0;34m\u001b[0m\u001b[0;34m\u001b[0m\u001b[0m\n\u001b[0;32m----> 2\u001b[0;31m \u001b[0mnftype_df\u001b[0m \u001b[0;34m=\u001b[0m \u001b[0mabbr_df\u001b[0m\u001b[0;34m.\u001b[0m\u001b[0miloc\u001b[0m\u001b[0;34m[\u001b[0m\u001b[0;36m3\u001b[0m\u001b[0;34m:\u001b[0m\u001b[0;36m26\u001b[0m\u001b[0;34m]\u001b[0m\u001b[0;34m\u001b[0m\u001b[0m\n\u001b[0m\u001b[1;32m      3\u001b[0m \u001b[0;34m\u001b[0m\u001b[0m\n\u001b[1;32m      4\u001b[0m \u001b[0mnftype_df\u001b[0m\u001b[0;34m.\u001b[0m\u001b[0mcolumns\u001b[0m \u001b[0;34m=\u001b[0m \u001b[0;34m[\u001b[0m\u001b[0;34m'label'\u001b[0m\u001b[0;34m,\u001b[0m \u001b[0;34m'expanded'\u001b[0m\u001b[0;34m,\u001b[0m \u001b[0;34m'x'\u001b[0m\u001b[0;34m]\u001b[0m\u001b[0;34m\u001b[0m\u001b[0m\n\u001b[1;32m      5\u001b[0m \u001b[0mnftype_df\u001b[0m \u001b[0;34m=\u001b[0m \u001b[0mnftype_df\u001b[0m\u001b[0;34m[\u001b[0m\u001b[0;34m[\u001b[0m\u001b[0;34m'label'\u001b[0m\u001b[0;34m,\u001b[0m \u001b[0;34m'expanded'\u001b[0m\u001b[0;34m]\u001b[0m\u001b[0;34m]\u001b[0m\u001b[0;34m\u001b[0m\u001b[0m\n",
      "\u001b[0;31mNameError\u001b[0m: name 'abbr_df' is not defined"
     ]
    }
   ],
   "source": [
    "# select the rows that are NFTYPES\n",
    "nftype_df = abbr_df.iloc[3:26]\n",
    "\n",
    "nftype_df.columns = ['label', 'expanded', 'x']\n",
    "nftype_df = nftype_df[['label', 'expanded']]\n",
    "\n",
    "nftype_df"
   ]
  },
  {
   "cell_type": "code",
   "execution_count": 24,
   "metadata": {},
   "outputs": [
    {
     "data": {
      "text/plain": [
       "{'AC': 'Sponsored academy  ',\n",
       " 'AC1619': 'Academy 16-19 sponsor led',\n",
       " 'ACC': 'Academy converter - mainstream',\n",
       " 'ACC1619': 'Academy 16-19 converter',\n",
       " 'ACCS': 'Academy converter - special school',\n",
       " 'ACS': 'Sponsored special academy ',\n",
       " 'CTC': 'City technology college',\n",
       " 'CY': 'Community school',\n",
       " 'CYS': 'Community special school',\n",
       " 'F': 'Free school - mainstream',\n",
       " 'F1619': 'Free school - 16-19',\n",
       " 'FD': 'Foundation school',\n",
       " 'FDS': 'Foundation special school',\n",
       " 'FESI': 'Further Education Sector Institution',\n",
       " 'FS': 'Free school - special',\n",
       " 'FSS': 'Studio school',\n",
       " 'FUTC': 'UTC (university technical college)',\n",
       " 'IND': 'Independent school',\n",
       " 'INDSPEC': 'Independent special school',\n",
       " 'MODFC': 'College funded by Ministry of Defence',\n",
       " 'NMSS': 'Non-maintained special school',\n",
       " 'VA': 'Voluntary aided school',\n",
       " 'VC': 'Voluntary controlled school'}"
      ]
     },
     "execution_count": 24,
     "metadata": {},
     "output_type": "execute_result"
    }
   ],
   "source": [
    "nftypes = {}\n",
    "for index, row in nftype_df.iterrows():\n",
    "    nftypes[row['label'].strip()] = row['expanded']\n",
    "nftypes"
   ]
  },
  {
   "cell_type": "markdown",
   "metadata": {},
   "source": [
    "# Open Refine"
   ]
  },
  {
   "cell_type": "markdown",
   "metadata": {},
   "source": [
    "## Cleaning england_ks4final.csv"
   ]
  },
  {
   "cell_type": "markdown",
   "metadata": {},
   "source": [
    "### 1. import parameters\n",
    "Imported the `england_ks4final.csv` with the following parameters."
   ]
  },
  {
   "cell_type": "markdown",
   "metadata": {},
   "source": [
    "![ks4 import parameters](img/or_ks4_001.png)"
   ]
  },
  {
   "cell_type": "markdown",
   "metadata": {},
   "source": [
    "### 2. Remove the non-mainstream schools."
   ]
  },
  {
   "cell_type": "markdown",
   "metadata": {},
   "source": [
    "The questions posed only require the mainstream schools.  So we can reduce the file size by selecting only the rows that match `RECTYPE` == 1"
   ]
  },
  {
   "cell_type": "markdown",
   "metadata": {},
   "source": [
    "This can be done by running a text facet on the `RECTYPE` column and removing all non-matching rows.\n",
    "![ks4 remove non-mainstream schools](img/or_ks4_002.png)\n",
    "This reduces the file size by _1293_ rows."
   ]
  },
  {
   "cell_type": "markdown",
   "metadata": {},
   "source": [
    "### 3. Removing schools that are closed."
   ]
  },
  {
   "cell_type": "markdown",
   "metadata": {},
   "source": [
    "Any schools with the `ICLOSE` flag set to 1 can also be removed:\n",
    "    \n",
    "![ks4 remove closed schools](img/or_ks4_003.png)\n",
    "    "
   ]
  },
  {
   "cell_type": "markdown",
   "metadata": {},
   "source": [
    "### 4. Removing columns that will not be used in the investigation\n",
    "\n",
    "Next we can remove any columns that are definitely not needed.  With well over 300 columns the simplest approach will be to exporting the columns we want to csv and then opening a new open refine project with this subset of data.The file is saved to `data/2015-2016/ks4_clean.csv`\n",
    "\n",
    "After exporting the file I then opened a new project from the CSV file just created.  The next step is to clean up the percentages as they are currently in a string format.\n",
    "\n"
   ]
  },
  {
   "cell_type": "markdown",
   "metadata": {},
   "source": [
    "![ks4 remove closed schools](img/or_ks4_004.png)"
   ]
  },
  {
   "cell_type": "markdown",
   "metadata": {},
   "source": [
    "### 5. Converting the % strings to numbers"
   ]
  },
  {
   "cell_type": "markdown",
   "metadata": {},
   "source": [
    "After creating the new project from the semi-cleaned `ks4_clean.csv` file it is clear there is still some cleaning to do.  In particular, the columns that contain percentage values are currently strings.  To clean these I ran a text facet on the column.  The majority of the values are of the type `57%`, at the bottom are the missing data values, in the case of the column `PTEBACC_15_PTQ_EE` these were `NA` and `SUPP`.  I then included these two and then inverted the selection, leaving just the percentages left.  I then ran this transform on the cells in the column:\n",
    "    \n",
    "    toNumber(value.replace('%','')/100.0"
   ]
  },
  {
   "cell_type": "markdown",
   "metadata": {
    "collapsed": true
   },
   "source": [
    "![ks4 converting to numbers](img/or_ks4_005.png)"
   ]
  },
  {
   "cell_type": "markdown",
   "metadata": {
    "collapsed": true
   },
   "source": [
    "I then repeated this process on the remaining percentage columns.  I opted to keep the `NA` and `SUPP` values as is because it may be information I want to use during the investigation possibly for filling the data using k-NN or to help me identify the reason the data is not there for a given school."
   ]
  },
  {
   "cell_type": "markdown",
   "metadata": {
    "collapsed": true
   },
   "source": [
    "#### Open refine editing steps taken to convert the percentages from strings to number.\n",
    "Expand this section to see the JSON extract if needed. Can be found in the following file:\n",
    "    \n",
    "    data/2015-2016/openrefine_ks4_cleaning_2.json"
   ]
  },
  {
   "cell_type": "markdown",
   "metadata": {
    "collapsed": true
   },
   "source": [
    "### 6.  Exporting the cleaned file\n",
    "Having converted these columns I was now ready to export the file for the investigation.  It is saved as a tab-seperated file located at `data/2015-2016/ks4_clean_reduced.tsv` "
   ]
  },
  {
   "cell_type": "markdown",
   "metadata": {},
   "source": [
    "## Choosing MongoDB"
   ]
  },
  {
   "cell_type": "markdown",
   "metadata": {},
   "source": [
    "With so many columns to investigate I am leaning towards using a DBMS to make the querying of the data more efficient than in a pandas dataframe.  Therefore, I will import the data into MongoDB.  I chose a document database system as they are far more flexible than a relational database.  In this investigation it may become necessary to add fields to certain documents for example.  \n",
    "\n",
    "\n",
    "\n"
   ]
  },
  {
   "cell_type": "markdown",
   "metadata": {},
   "source": [
    "## Importing KS4 results data into MongoDB"
   ]
  },
  {
   "cell_type": "code",
   "execution_count": 13,
   "metadata": {},
   "outputs": [
    {
     "name": "stdout",
     "output_type": "stream",
     "text": [
      "2018-05-21T17:52:56.409+0000\tconnected to: localhost:27351\n",
      "2018-05-21T17:52:56.409+0000\tdropping: schools_db.ks4final\n",
      "2018-05-21T17:52:56.545+0000\timported 4131 documents\n"
     ]
    }
   ],
   "source": [
    "# import the results data into mongo db\n",
    "!/usr/bin/mongoimport --port 27351 --drop --db schools_db --collection ks4final \\\n",
    "    --type tsv --headerline --ignoreBlanks \\\n",
    "    --file data/2015-2016/ks4_clean_reduced.tsv"
   ]
  },
  {
   "cell_type": "code",
   "execution_count": 14,
   "metadata": {
    "collapsed": true
   },
   "outputs": [],
   "source": [
    "# open a connection to the mongo server\n",
    "client = pymongo.MongoClient('mongodb://localhost:27351/')"
   ]
  },
  {
   "cell_type": "code",
   "execution_count": 15,
   "metadata": {
    "collapsed": true
   },
   "outputs": [],
   "source": [
    "# open the imported database and collection\n",
    "db = client.schools_db\n",
    "ks4results = db.ks4final"
   ]
  },
  {
   "cell_type": "code",
   "execution_count": 16,
   "metadata": {},
   "outputs": [
    {
     "data": {
      "text/plain": [
       "4131"
      ]
     },
     "execution_count": 16,
     "metadata": {},
     "output_type": "execute_result"
    }
   ],
   "source": [
    "# check the number of imported matches the line length of the file (5489)\n",
    "ks4results.find().count()"
   ]
  },
  {
   "cell_type": "markdown",
   "metadata": {},
   "source": [
    "Good, 4131 documents as expected.  Let's have a look at one."
   ]
  },
  {
   "cell_type": "code",
   "execution_count": 21,
   "metadata": {},
   "outputs": [
    {
     "data": {
      "text/plain": [
       "{'ALPHAIND': 11828,\n",
       " 'ATT8SCR': 42.1,\n",
       " 'ATT8SCREBAC': 22.2,\n",
       " 'ATT8SCRENG': 7.3,\n",
       " 'ATT8SCRMAT': 0,\n",
       " 'ATT8SCROPENG': 10.4,\n",
       " 'ATT8SCR_15': 'NA',\n",
       " 'ATT8SCR_AV': 'NP',\n",
       " 'ATT8SCR_HI': 'NP',\n",
       " 'ATT8SCR_LO': 'NP',\n",
       " 'ESTAB': 6007,\n",
       " 'LEA': 201,\n",
       " 'NFTYPE': 'IND',\n",
       " 'PTAC5EM_PTQ_EE': 0.0,\n",
       " 'PTEBACC_15_PTQ_EE': 0.0,\n",
       " 'PTL2BASICS_3YR_PTQ_EE': 0.0,\n",
       " 'PTL2BASICS_LL_PTQ_EE': 0.0,\n",
       " 'PTPRIORAV': 'NP',\n",
       " 'PTPRIORHI': 'NP',\n",
       " 'PTPRIORLO': 'NP',\n",
       " 'SCHNAME': 'City of London School',\n",
       " 'SCHNAME_AC': ' ',\n",
       " 'TABKS2': 0,\n",
       " 'URN': 100003,\n",
       " '_id': ObjectId('5b0307780d6f84c0ce756454')}"
      ]
     },
     "execution_count": 21,
     "metadata": {},
     "output_type": "execute_result"
    }
   ],
   "source": [
    "ks4results.find_one()"
   ]
  },
  {
   "cell_type": "markdown",
   "metadata": {},
   "source": [
    "There is still a little more cleaning to do.  The `SCHNAME_AC` is a `' '` in this file. Let's handle that first."
   ]
  },
  {
   "cell_type": "code",
   "execution_count": 22,
   "metadata": {},
   "outputs": [
    {
     "data": {
      "text/plain": [
       "(4067, 4067)"
      ]
     },
     "execution_count": 22,
     "metadata": {},
     "output_type": "execute_result"
    }
   ],
   "source": [
    "r = ks4results.update_many({'SCHNAME_AC': ' '}, {'$unset':{'SCHNAME_AC': ''}})\n",
    "r.matched_count, r.modified_count"
   ]
  },
  {
   "cell_type": "code",
   "execution_count": 24,
   "metadata": {},
   "outputs": [
    {
     "data": {
      "text/plain": [
       "{'ALPHAIND': 368,\n",
       " 'ATT8SCR': 50.1,\n",
       " 'ATT8SCREBAC': 14.2,\n",
       " 'ATT8SCRENG': 11,\n",
       " 'ATT8SCRMAT': 9.9,\n",
       " 'ATT8SCROPENG': 14.5,\n",
       " 'ATT8SCR_15': 'NA',\n",
       " 'ATT8SCR_AV': 46.8,\n",
       " 'ATT8SCR_HI': 63.1,\n",
       " 'ATT8SCR_LO': 26,\n",
       " 'ESTAB': 4285,\n",
       " 'LEA': 202,\n",
       " 'NFTYPE': 'CY',\n",
       " 'PTAC5EM_PTQ_EE': 0.53,\n",
       " 'PTEBACC_15_PTQ_EE': 0.37,\n",
       " 'PTL2BASICS_3YR_PTQ_EE': 0.59,\n",
       " 'PTL2BASICS_LL_PTQ_EE': 0.6,\n",
       " 'PTPRIORAV': 0.48,\n",
       " 'PTPRIORHI': 0.39,\n",
       " 'PTPRIORLO': 0.13,\n",
       " 'SCHNAME': 'Acland Burghley School',\n",
       " 'TABKS2': 0,\n",
       " 'URN': 100053,\n",
       " '_id': ObjectId('5b0307780d6f84c0ce756456')}"
      ]
     },
     "execution_count": 24,
     "metadata": {},
     "output_type": "execute_result"
    }
   ],
   "source": [
    "ks4results.find_one({'PTAC5EM_PTQ_EE': {'$gte':0.01}})"
   ]
  },
  {
   "cell_type": "code",
   "execution_count": null,
   "metadata": {
    "collapsed": true
   },
   "outputs": [],
   "source": [
    "la"
   ]
  },
  {
   "cell_type": "markdown",
   "metadata": {},
   "source": [
    "Looking through the document we can see the large number of 'NA' and 'NP' we will need to bear them in mind as we carry out the investigation."
   ]
  },
  {
   "cell_type": "markdown",
   "metadata": {},
   "source": [
    "## Importing the KS4 Metadata file"
   ]
  },
  {
   "cell_type": "markdown",
   "metadata": {},
   "source": [
    "In the accidents dataset we explored in the module materials there were some handy functions for looking up human readable descriptions of the codes.  To help make this investigation easier I will try to do a similar thing  thing here."
   ]
  },
  {
   "cell_type": "code",
   "execution_count": null,
   "metadata": {
    "collapsed": true
   },
   "outputs": [],
   "source": [
    "!head -5 data/2015-2016/ks4_meta.csv"
   ]
  },
  {
   "cell_type": "code",
   "execution_count": null,
   "metadata": {
    "collapsed": true
   },
   "outputs": [],
   "source": [
    "!wc -l data/2015-2016/ks4_meta.csv"
   ]
  },
  {
   "cell_type": "markdown",
   "metadata": {},
   "source": [
    "0 lines... strange, I'll try loading it into Mongo"
   ]
  },
  {
   "cell_type": "code",
   "execution_count": null,
   "metadata": {
    "collapsed": true
   },
   "outputs": [],
   "source": [
    "!/usr/bin/mongoimport --port 27351 --drop --db schools_db --collection ks4_labels \\\n",
    "    --type csv --headerline --ignoreBlanks \\\n",
    "    --file data/2015-2016/ks4_meta.csv"
   ]
  },
  {
   "cell_type": "markdown",
   "metadata": {},
   "source": [
    "Clearly there is an issue with the import.  I'll try importing it into a dataframe\n"
   ]
  },
  {
   "cell_type": "code",
   "execution_count": null,
   "metadata": {
    "collapsed": true,
    "scrolled": true
   },
   "outputs": [],
   "source": [
    "ks4_meta_df = pd.read_csv('data/2015-2016/ks4_meta.csv')\n",
    "ks4_meta_df.head()"
   ]
  },
  {
   "cell_type": "markdown",
   "metadata": {},
   "source": [
    "To look up the labels I only require the `Metafile heading` and `Metafile description` Columns, so I can drop the others."
   ]
  },
  {
   "cell_type": "code",
   "execution_count": null,
   "metadata": {
    "collapsed": true
   },
   "outputs": [],
   "source": [
    "ks4_labels_df = ks4_meta_df[['Metafile heading', 'Metafile description']]\n",
    "# relabel the columns for easier access\n",
    "ks4_labels_df.columns = ['label', 'expanded']\n",
    "ks4_labels_df.head()"
   ]
  },
  {
   "cell_type": "code",
   "execution_count": null,
   "metadata": {
    "collapsed": true
   },
   "outputs": [],
   "source": [
    "# access the db ks4_labels collection\n",
    "ks4_labels = db.ks4_labels"
   ]
  },
  {
   "cell_type": "code",
   "execution_count": null,
   "metadata": {
    "collapsed": true
   },
   "outputs": [],
   "source": [
    "# iterate through each ks4_meta_df row and add it to the database\n",
    "# I will use the same keys as in\n",
    "for index, row in ks4_labels_df.iterrows():\n",
    "    ks4_labels.insert_one({'label': row['label'],\n",
    "                           'expanded': row['expanded']})\n",
    "# check it looks ok\n",
    "ks4_labels.find_one()"
   ]
  },
  {
   "cell_type": "code",
   "execution_count": null,
   "metadata": {
    "collapsed": true
   },
   "outputs": [],
   "source": [
    "# iterate through each ks4_meta_df row and add it to the database\n",
    "# I will use the same keys as in\n",
    "for index, row in ks4_labels_df.iterrows():\n",
    "#     if 'mat' in row['expanded']:\n",
    "        print(row['label'], ':', row['expanded'], '\\n\\n')"
   ]
  },
  {
   "cell_type": "code",
   "execution_count": null,
   "metadata": {
    "collapsed": true
   },
   "outputs": [],
   "source": [
    "ks4_labels_df.T\n"
   ]
  },
  {
   "cell_type": "markdown",
   "metadata": {},
   "source": [
    "I need to tidy up a little.  \n",
    "\n",
    "First, the `RECTYPE` expansion contains a list of codes that should be separated for easier access."
   ]
  },
  {
   "cell_type": "code",
   "execution_count": null,
   "metadata": {
    "collapsed": true
   },
   "outputs": [],
   "source": [
    "# select the correct document\n",
    "r = ks4_labels.find_one({'label': 'RECTYPE'})\n",
    "\n",
    "# After checking that the codes have not already been created\n",
    "# splits the description string\n",
    "# adds a codes key to reference each school type\n",
    "if 'codes' not in r.keys():    \n",
    "    expanded = r['expanded']\n",
    "    e = expanded[:11]\n",
    "    codelist = expanded[13:-1].split('; ')\n",
    "    keys = [c[:1] for c in codelist]\n",
    "    values = [c[2:] for c in codelist]\n",
    "    codes = (dict(list(zip(keys, values))))\n",
    "    ks4_labels.update_one({'_id': r['_id']}, \n",
    "                        {'$set': {'expanded': e,\n",
    "                                  'codes': codes}})\n",
    "\n",
    "# check that it was procced correctly\n",
    "ks4_labels.find_one({'label': 'RECTYPE'})"
   ]
  },
  {
   "cell_type": "markdown",
   "metadata": {},
   "source": [
    "Second, the LEA data is kept in a different file `la_and_region_codes` meta.  However, for my investigation I don't think I need to import it."
   ]
  },
  {
   "cell_type": "markdown",
   "metadata": {},
   "source": [
    "In the tm351 course materials we used some in memory collections to access the labels information.  Because, I will need to do the same for the KS2 dataset, I'll wrap them in a function."
   ]
  },
  {
   "cell_type": "code",
   "execution_count": null,
   "metadata": {
    "collapsed": true
   },
   "outputs": [],
   "source": [
    "def expanded_label(meta):\n",
    "    # Load the expanded names of keys and human-readable codes into memory\n",
    "    expanded_name = collections.defaultdict(str)\n",
    "    for e in meta.find({'expanded': {\"$exists\": True}}):\n",
    "        expanded_name[e['label']] = e['expanded']\n",
    "\n",
    "    label_of = collections.defaultdict(str)\n",
    "    for l in meta.find({'codes': {\"$exists\": True}}):\n",
    "        for c in l['codes']:\n",
    "            try:\n",
    "                label_of[l['label'], int(c)] = l['codes'][c]\n",
    "            except ValueError: \n",
    "                label_of[l['label'], c] = l['codes'][c]\n",
    "    # return both as a tuple\n",
    "    return (expanded_name, label_of)"
   ]
  },
  {
   "cell_type": "code",
   "execution_count": null,
   "metadata": {
    "collapsed": true
   },
   "outputs": [],
   "source": [
    "# test the function works\n",
    "ks4_expanded_name, ks4_label_of = expanded_label(ks4_labels)"
   ]
  },
  {
   "cell_type": "code",
   "execution_count": null,
   "metadata": {
    "collapsed": true
   },
   "outputs": [],
   "source": [
    "# test it works\n",
    "[(c, ks4_label_of['RECTYPE', c]) for k, c in ks4_label_of if k == 'RECTYPE']"
   ]
  },
  {
   "cell_type": "markdown",
   "metadata": {},
   "source": [
    "Oh that reminds me - I will need to get the School Types from the abbreviations file as I did in TMA02.  Currently the description is: "
   ]
  },
  {
   "cell_type": "code",
   "execution_count": null,
   "metadata": {
    "collapsed": true
   },
   "outputs": [],
   "source": [
    "ks4_expanded_name['NFTYPE']"
   ]
  },
  {
   "cell_type": "markdown",
   "metadata": {},
   "source": [
    "In TMA 02 I looked up this data from the abbreviations file and added made a dict to access it conveniently."
   ]
  },
  {
   "cell_type": "code",
   "execution_count": null,
   "metadata": {
    "collapsed": true
   },
   "outputs": [],
   "source": [
    "school_type_dict = {'VA': 'Voluntary aided school',\n",
    "             'AC': 'Sponsored Academy',\n",
    "             'F': 'Free school - mainstream',\n",
    "             'CY': 'Community school',\n",
    "             'FS': 'Free school - special',\n",
    "             'CYS': 'Community special school',\n",
    "             'FD': 'Foundation school',\n",
    "             'ACC': 'Academy converter - mainstream',\n",
    "             'ACCS': 'Academy converter - special school',\n",
    "             'FDS': 'Foundation special school',\n",
    "             'ACS': 'Sponsored special academy',\n",
    "             'VC': 'Voluntary controlled school'}\n",
    "len(school_type_dict)"
   ]
  },
  {
   "cell_type": "markdown",
   "metadata": {},
   "source": [
    "I can put this into the `NFTYPE` document."
   ]
  },
  {
   "cell_type": "code",
   "execution_count": null,
   "metadata": {
    "collapsed": true
   },
   "outputs": [],
   "source": [
    "# update the database document\n",
    "ks4_labels.find_one_and_update({'label': 'NFTYPE'},\n",
    "                               {'$set': {'codes': school_type_dict}})\n",
    "# check it looks ok\n",
    "ks4_labels.find_one({'label': 'NFTYPE'})"
   ]
  },
  {
   "cell_type": "code",
   "execution_count": null,
   "metadata": {
    "collapsed": true
   },
   "outputs": [],
   "source": [
    "# update the ks4_label_of and expanded name collections\n",
    "ks4_expanded_name, ks4_label_of = expanded_label(ks4_labels)"
   ]
  },
  {
   "cell_type": "code",
   "execution_count": null,
   "metadata": {
    "collapsed": true
   },
   "outputs": [],
   "source": [
    "# check the codes"
   ]
  },
  {
   "cell_type": "code",
   "execution_count": 7,
   "metadata": {},
   "outputs": [
    {
     "ename": "NameError",
     "evalue": "name 'ks4_label_of' is not defined",
     "output_type": "error",
     "traceback": [
      "\u001b[0;31m---------------------------------------------------------------------------\u001b[0m",
      "\u001b[0;31mNameError\u001b[0m                                 Traceback (most recent call last)",
      "\u001b[0;32m<ipython-input-7-9fa8fd9fae52>\u001b[0m in \u001b[0;36m<module>\u001b[0;34m()\u001b[0m\n\u001b[0;32m----> 1\u001b[0;31m \u001b[0;34m[\u001b[0m\u001b[0;34m(\u001b[0m\u001b[0mc\u001b[0m\u001b[0;34m,\u001b[0m \u001b[0mks4_label_of\u001b[0m\u001b[0;34m[\u001b[0m\u001b[0;34m'NFTYPE'\u001b[0m\u001b[0;34m,\u001b[0m \u001b[0mc\u001b[0m\u001b[0;34m]\u001b[0m\u001b[0;34m)\u001b[0m \u001b[0;32mfor\u001b[0m \u001b[0mk\u001b[0m\u001b[0;34m,\u001b[0m \u001b[0mc\u001b[0m \u001b[0;32min\u001b[0m \u001b[0mks4_label_of\u001b[0m \u001b[0;32mif\u001b[0m \u001b[0mk\u001b[0m \u001b[0;34m==\u001b[0m\u001b[0;34m'NFTYPE'\u001b[0m\u001b[0;34m]\u001b[0m\u001b[0;34m\u001b[0m\u001b[0m\n\u001b[0m",
      "\u001b[0;31mNameError\u001b[0m: name 'ks4_label_of' is not defined"
     ]
    }
   ],
   "source": [
    "[(c, ks4_label_of['NFTYPE', c]) for k, c in ks4_label_of if k =='NFTYPE']"
   ]
  },
  {
   "cell_type": "code",
   "execution_count": null,
   "metadata": {
    "collapsed": true
   },
   "outputs": [],
   "source": [
    "ks4_label_of['NFTYPE', 'FD']"
   ]
  },
  {
   "cell_type": "markdown",
   "metadata": {},
   "source": [
    "Great, now I'll quickly import the KS2 dataset for later on."
   ]
  },
  {
   "cell_type": "code",
   "execution_count": 6,
   "metadata": {},
   "outputs": [
    {
     "ename": "SyntaxError",
     "evalue": "invalid syntax (<ipython-input-6-3d74057cb8a5>, line 1)",
     "output_type": "error",
     "traceback": [
      "\u001b[0;36m  File \u001b[0;32m\"<ipython-input-6-3d74057cb8a5>\"\u001b[0;36m, line \u001b[0;32m1\u001b[0m\n\u001b[0;31m    print(k, ':', l) for k in ks4_label_of, l in label_of[k]\u001b[0m\n\u001b[0m                       ^\u001b[0m\n\u001b[0;31mSyntaxError\u001b[0m\u001b[0;31m:\u001b[0m invalid syntax\n"
     ]
    }
   ],
   "source": [
    "for k in lab"
   ]
  },
  {
   "cell_type": "markdown",
   "metadata": {},
   "source": [
    "## Importing the KS2 data into MongoDB"
   ]
  },
  {
   "cell_type": "markdown",
   "metadata": {},
   "source": [
    "Now we will follow largely the same steps for the KS2 dataset."
   ]
  },
  {
   "cell_type": "code",
   "execution_count": null,
   "metadata": {
    "collapsed": true
   },
   "outputs": [],
   "source": [
    "!head -5 data/2015-2016/england_ks2final.csv"
   ]
  },
  {
   "cell_type": "code",
   "execution_count": null,
   "metadata": {
    "collapsed": true
   },
   "outputs": [],
   "source": [
    "!wc -l data/2015-2016/england_ks2final.csv"
   ]
  },
  {
   "cell_type": "markdown",
   "metadata": {},
   "source": [
    "The dataset has 16316 rows of data, therefore there appears to be far more KS2 school records than KS4.  Again there are a large number of columns and a lots of codes to look up.  There are a also a number of `NA` and `NP` values that could be missing data.  As well as this results data I will need to find and import the relevent metadata file."
   ]
  },
  {
   "cell_type": "code",
   "execution_count": null,
   "metadata": {
    "collapsed": true
   },
   "outputs": [],
   "source": [
    "!/usr/bin/mongoimport --port 27351 --drop --db schools_db --collection ks2final \\\n",
    "    --type csv --headerline --ignoreBlanks \\\n",
    "    --file data/2015-2016/england_ks2final.csv"
   ]
  },
  {
   "cell_type": "code",
   "execution_count": null,
   "metadata": {
    "collapsed": true
   },
   "outputs": [],
   "source": [
    "# open the imported collection\n",
    "ks2results = db.ks2final"
   ]
  },
  {
   "cell_type": "code",
   "execution_count": null,
   "metadata": {
    "collapsed": true
   },
   "outputs": [],
   "source": [
    "# check the number of imported documents match the line length of the original file (16316)\n",
    "ks2results.find().count()"
   ]
  },
  {
   "cell_type": "code",
   "execution_count": null,
   "metadata": {
    "collapsed": true
   },
   "outputs": [],
   "source": [
    "# great, now have a look at one\n",
    "ks2results.find_one()"
   ]
  },
  {
   "cell_type": "code",
   "execution_count": null,
   "metadata": {
    "collapsed": true
   },
   "outputs": [],
   "source": [
    "!head -5 data/2015-2016/ks2_meta.csv"
   ]
  },
  {
   "cell_type": "markdown",
   "metadata": {},
   "source": [
    "This looks far more organised than the Ks4  I should be able to import it directly to the mongoDB"
   ]
  },
  {
   "cell_type": "code",
   "execution_count": null,
   "metadata": {
    "collapsed": true
   },
   "outputs": [],
   "source": [
    "!/usr/bin/mongoimport --port 27351 --drop --db schools_db --collection ks2_labels \\\n",
    "    -- type csv --headerline --ignoreBlanks \\\n",
    "    --file data/2015/ks2_meta.csv\n",
    "    "
   ]
  },
  {
   "cell_type": "code",
   "execution_count": null,
   "metadata": {
    "collapsed": true
   },
   "outputs": [],
   "source": [
    "ks4_expanded_name"
   ]
  },
  {
   "cell_type": "code",
   "execution_count": null,
   "metadata": {
    "collapsed": true
   },
   "outputs": [],
   "source": [
    "[(k, ks4_expanded_name[k]) for k in ks4_expanded_name if 'AVERAGE' in k]"
   ]
  },
  {
   "cell_type": "code",
   "execution_count": null,
   "metadata": {
    "collapsed": true
   },
   "outputs": [],
   "source": []
  },
  {
   "cell_type": "code",
   "execution_count": null,
   "metadata": {
    "collapsed": true
   },
   "outputs": [],
   "source": []
  },
  {
   "cell_type": "code",
   "execution_count": null,
   "metadata": {
    "collapsed": true
   },
   "outputs": [],
   "source": []
  },
  {
   "cell_type": "code",
   "execution_count": null,
   "metadata": {
    "collapsed": true
   },
   "outputs": [],
   "source": []
  },
  {
   "cell_type": "code",
   "execution_count": null,
   "metadata": {
    "collapsed": true
   },
   "outputs": [],
   "source": []
  },
  {
   "cell_type": "markdown",
   "metadata": {},
   "source": [
    "# Q1 - KS4 Investigation\n",
    "<a name=\"q1\"></a>"
   ]
  },
  {
   "cell_type": "markdown",
   "metadata": {},
   "source": [
    "## Does the type of school impact the overall academic performance results of students at KS4?"
   ]
  },
  {
   "cell_type": "markdown",
   "metadata": {},
   "source": [
    "# Application of Machine Learning\n",
    "<a name=\"machine_learning\"></a>"
   ]
  },
  {
   "cell_type": "markdown",
   "metadata": {},
   "source": [
    "# Q2 - KS2-KS4 Investigation\n",
    "<a name=\"q2\"></a>"
   ]
  },
  {
   "cell_type": "markdown",
   "metadata": {},
   "source": [
    "## Do top performing schools at KS2 deliver similar  good or better results at KS4"
   ]
  },
  {
   "cell_type": "code",
   "execution_count": null,
   "metadata": {
    "collapsed": true
   },
   "outputs": [],
   "source": []
  },
  {
   "cell_type": "code",
   "execution_count": null,
   "metadata": {
    "collapsed": true
   },
   "outputs": [],
   "source": []
  },
  {
   "cell_type": "markdown",
   "metadata": {},
   "source": [
    "# Cleanup remove the database\n",
    "\n",
    "Uncomment the lines below to remove the MongoDB created in the investigation."
   ]
  },
  {
   "cell_type": "code",
   "execution_count": 2,
   "metadata": {
    "collapsed": true
   },
   "outputs": [],
   "source": [
    "# uncomment to remove the database if needed\n",
    "# client.drop_database('schools_db')\n",
    "\n",
    "# show list the databases stored\n",
    "# client.database_names()"
   ]
  },
  {
   "cell_type": "code",
   "execution_count": null,
   "metadata": {
    "collapsed": true
   },
   "outputs": [],
   "source": []
  }
 ],
 "metadata": {
  "kernelspec": {
   "display_name": "Python 3",
   "language": "python",
   "name": "python3"
  },
  "language_info": {
   "codemirror_mode": {
    "name": "ipython",
    "version": 3
   },
   "file_extension": ".py",
   "mimetype": "text/x-python",
   "name": "python",
   "nbconvert_exporter": "python",
   "pygments_lexer": "ipython3",
   "version": "3.5.2"
  }
 },
 "nbformat": 4,
 "nbformat_minor": 2
}
