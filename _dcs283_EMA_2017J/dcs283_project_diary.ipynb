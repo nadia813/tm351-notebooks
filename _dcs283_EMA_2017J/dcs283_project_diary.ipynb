{
 "cells": [
  {
   "cell_type": "markdown",
   "metadata": {},
   "source": [
    "# EMA Project Diary"
   ]
  },
  {
   "cell_type": "markdown",
   "metadata": {},
   "source": [
    "Let's have a quick look at the data we will be looking at for the EMA."
   ]
  },
  {
   "cell_type": "code",
   "execution_count": 11,
   "metadata": {},
   "outputs": [
    {
     "name": "stdout",
     "output_type": "stream",
     "text": [
      "﻿RECTYPE,ALPHAIND,LEA,ESTAB,URN,SCHNAME,SCHNAME_AC,ADDRESS1,ADDRESS2,ADDRESS3,TOWN,PCODE,TELNUM,CONTFLAG,ICLOSE,NFTYPE,RELDENOM,ADMPOL,EGENDER,FEEDER,TABKS2,TAB1618,AGERANGE,CONFEXAM,TOTPUPS,NUMBOYS,NUMGIRLS,TPUP,BPUP,PBPUP,GPUP,PGPUP,KS2APS,TPRIORLO,PTPRIORLO,TPRIORAV,PTPRIORAV,TPRIORHI,PTPRIORHI,TFSM6CLA1A,PTFSM6CLA1A,TNOTFSM6CLA1A,PTNOTFSM6CLA1A,TEALGRP2,PTEALGRP2,TEALGRP1,PTEALGRP1,TEALGRP3,PTEALGRP3,TNMOB,PTNMOB,SENSE4,PSENSE4,SENAPK4,PSENAPK4,TOTATT8,ATT8SCR,TOTATT8ENG,ATT8SCRENG,TOTATT8MAT,ATT8SCRMAT,TOTATT8EBAC,ATT8SCREBAC,TOTATT8OPEN,ATT8SCROPEN,TOTATT8OPENG,ATT8SCROPENG,TOTATT8OPENNG,ATT8SCROPENNG,P8PUP,P8MEACOV,P8MEA,P8CILOW,P8CIUPP,P8MEAENG,P8MEAENG_CILOW,P8MEAENG_CIUPP,P8MEAMAT,P8MEAMAT_CILOW,P8MEAMAT_CIUPP,P8MEAEBAC,P8MEAEBAC_CILOW,P8MEAEBAC_CIUPP,P8MEAOPEN,P8MEAOPEN_CILOW,P8MEAOPEN_CIUPP,PTL2BASICS_LL_PTQ_EE,PTL2BASICS_3YR_PTQ_EE,TEBACC_E_PTQ_EE,PTEBACC_E_PTQ_EE,PTEBACC_PTQ_EE,TEBACENG_E_PTQ_EE,PTEBACENG_E_PTQ_EE,TEBACMAT_E_PTQ_EE,PTEBACMAT_E_PTQ_EE,TEBAC2SCI_E_PTQ_EE,PTEBAC2SCI_E_PTQ_EE,TEBACHUM_E_PTQ_EE,PTEBACHUM_E_PTQ_EE,TEBACLAN_E_PTQ_EE,PTEBACLAN_E_PTQ_EE,PTEBACENG_LL_PTQ_EE,PTEBACMAT_PTQ_EE,PTEBAC2SCI_PTQ_EE,PTEBACHUM_PTQ_EE,PTEBACLAN_PTQ_EE,SCIVACOV_PTQ_EE,HUMVACOV_PTQ_EE,LANVACOV_PTQ_EE,SCIVAMEA_PTQ_EE,SCIVALOW_PTQ_EE,SCIVAUPP_PTQ_EE,HUMVAMEA_PTQ_EE,HUMVALOW_PTQ_EE,HUMVAUPP_PTQ_EE,LANVAMEA_PTQ_EE,LANVALOW_PTQ_EE,LANVAUPP_PTQ_EE,TEBACENG_LL_PTQ_EE,TEBACMAT_PTQ_EE,TEBAC2SCI_PTQ_EE,TEBACHUM_PTQ_EE,TEBACLAN_PTQ_EE,TEBACCAG_PTQ_EE,PTEBACCAG_PTQ_EE,TEBACENGAG_LL_PTQ_EE,PTEBACENGAG_LL_PTQ_EE,TEBACMATAG_PTQ_EE,PTEBACMATAG_PTQ_EE,TEBAC2SCIAG_PTQ_EE,PTEBAC2SCIAG_PTQ_EE,TEBACHUMAG_PTQ_EE,PTEBACHUMAG_PTQ_EE,TEBACLANAG_PTQ_EE,PTEBACLANAG_PTQ_EE,ATT8SCR_FSM6CLA1A,P8PUP_FSM6CLA1A,P8MEA_FSM6CLA1A,P8CILOW_FSM6CLA1A,P8CIUPP_FSM6CLA1A,ATT8SCR_NFSM6CLA1A,P8PUP_NFSM6CLA1A,P8MEA_NFSM6CLA1A,P8CILOW_NFSM6CLA1A,P8CIUPP_NFSM6CLA1A,ATT8SCRENG_FSM6CLA1A,P8MEAENG_FSM6CLA1A,P8MEAENG_CILOW_FSM6CLA1A,P8MEAENG_CIUPP_FSM6CLA1A,ATT8SCRMAT_FSM6CLA1A,P8MEAMAT_FSM6CLA1A,P8MEAMAT_CILOW_FSM6CLA1A,P8MEAMAT_CIUPP_FSM6CLA1A,ATT8SCREBAC_FSM6CLA1A,P8MEAEBAC_FSM6CLA1A,P8MEAEBAC_CILOW_FSM6CLA1A,P8MEAEBAC_CIUPP_FSM6CLA1A,ATT8SCROPEN_FSM6CLA1A,P8MEAOPEN_FSM6CLA1A,P8MEAOPEN_CILOW_FSM6CLA1A,P8MEAOPEN_CIUPP_FSM6CLA1A,ATT8SCRENG_NFSM6CLA1A,P8MEAENG_NFSM6CLA1A,P8MEAENG_CILOW_NFSM6CLA1A,P8MEAENG_CIUPP_NFSM6CLA1A,ATT8SCRMAT_NFSM6CLA1A,P8MEAMAT_NFSM6CLA1A,P8MEAMAT_CILOW_NFSM6CLA1A,P8MEAMAT_CIUPP_NFSM6CLA1A,ATT8SCREBAC_NFSM6CLA1A,P8MEAEBAC_NFSM6CLA1A,P8MEAEBAC_CILOW_NFSM6CLA1A,P8MEAEBAC_CIUPP_NFSM6CLA1A,ATT8SCROPEN_NFSM6CLA1A,P8MEAOPEN_NFSM6CLA1A,P8MEAOPEN_CILOW_NFSM6CLA1A,P8MEAOPEN_CIUPP_NFSM6CLA1A,ATT8SCROPENG_FSM6CLA1A,ATT8SCROPENNG_FSM6CLA1A,ATT8SCROPENG_NFSM6CLA1A,ATT8SCROPENNG_NFSM6CLA1A,DIFFN_ATT8,DIFFN_P8MEA,ATT8SCR_LO,P8PUP_LO,P8MEA_LO,P8CILOW_LO,P8CIUPP_LO,ATT8SCR_AV,P8PUP_AV,P8MEA_AV,P8CILOW_AV,P8CIUPP_AV,ATT8SCR_HI,P8PUP_HI,P8MEA_HI,P8CILOW_HI,P8CIUPP_HI,ATT8SCR_EAL,P8PUP_EAL,P8MEA_EAL,P8CILOW_EAL,P8CIUPP_EAL,ATT8SCR_GIRLS,P8PUP_GIRLS,P8MEA_GIRLS,P8CILOW_GIRLS,P8CIUPP_GIRLS,ATT8SCR_BOYS,P8PUP_BOYS,P8MEA_BOYS,P8CILOW_BOYS,P8CIUPP_BOYS,ATT8SCR_NMOB,P8PUP_NMOB,P8MEA_NMOB,P8CILOW_NMOB,P8CIUPP_NMOB,ATT8SCR_15,P8PUP_15,P8MEA_15,P8CILOW_15,P8CIUPP_15,TEBACC_ELO_PTQ_EE,PTEBACC_ELO_PTQ_EE,PTEBACCLO_PTQ_EE,TEBACC_EAV_PTQ_EE,PTEBACC_EAV_PTQ_EE,PTEBACCAV_PTQ_EE,TEBACC_EHI_PTQ_EE,PTEBACC_EHI_PTQ_EE,PTEBACCHI_PTQ_EE,PTEBACC_EFSM6CLA1A_PTQ_EE,PTEBACC_ENFSM6CLA1A_PTQ_EE,PTEBACC_FSM6CLA1A_PTQ_EE,PTEBACC_NFSM6CLA1A_PTQ_EE,SCIVAMEA_LO_PTQ_EE,SCIVAMEA_AV_PTQ_EE,SCIVAMEA_HI_PTQ_EE,SCIVAMEA_FSM6CLA1A_PTQ_EE,SCIVAMEA_NFSM6CLA1A_PTQ_EE,HUMVAMEA_LO_PTQ_EE,HUMVAMEA_AV_PTQ_EE,HUMVAMEA_HI_PTQ_EE,HUMVAMEA_FSM6CLA1A_PTQ_EE,HUMVAMEA_NFSM6CLA1A_PTQ_EE,LANVAMEA_LO_PTQ_EE,LANVAMEA_AV_PTQ_EE,LANVAMEA_HI_PTQ_EE,LANVAMEA_FSM6CLA1A_PTQ_EE,LANVAMEA_NFSM6CLA1A_PTQ_EE,SCIVAUPP_FSM6CLA1A_PTQ_EE,SCIVALOW_FSM6CLA1A_PTQ_EE,SCIVAUPP_NFSM6CLA1A_PTQ_EE,SCIVALOW_NFSM6CLA1A_PTQ_EE,SCIVAUPP_LO_PTQ_EE,SCIVALOW_LO_PTQ_EE,SCIVAUPP_AV_PTQ_EE,SCIVALOW_AV_PTQ_EE,SCIVAUPP_HI_PTQ_EE,SCIVALOW_HI_PTQ_EE,HUMVAUPP_FSM6CLA1A_PTQ_EE,HUMVALOW_FSM6CLA1A_PTQ_EE,HUMVAUPP_NFSM6CLA1A_PTQ_EE,HUMVALOW_NFSM6CLA1A_PTQ_EE,HUMVAUPP_LO_PTQ_EE,HUMVALOW_LO_PTQ_EE,HUMVAUPP_AV_PTQ_EE,HUMVALOW_AV_PTQ_EE,HUMVAUPP_HI_PTQ_EE,HUMVALOW_HI_PTQ_EE,LANVAUPP_FSM6CLA1A_PTQ_EE,LANVALOW_FSM6CLA1A_PTQ_EE,LANVAUPP_NFSM6CLA1A_PTQ_EE,LANVALOW_NFSM6CLA1A_PTQ_EE,LANVAUPP_LO_PTQ_EE,LANVALOW_LO_PTQ_EE,LANVAUPP_AV_PTQ_EE,LANVALOW_AV_PTQ_EE,LANVAUPP_HI_PTQ_EE,LANVALOW_HI_PTQ_EE,PTEBACC_E_13,PTEBACC_13,PTEBACC_E_14_PTQ,PTEBACC_14_PTQ,PTEBACC_E_15_PTQ_EE,PTEBACC_15_PTQ_EE,PBEBACC_E_PTQ_EE,PBEBACC_PTQ_EE,PGEBACC_E_PTQ_EE,PGEBACC_PTQ_EE,PTEBACC_ENMOB_PTQ_EE,PTEBACCNMOB_PTQ_EE,PTEBACC_EEAL_PTQ_EE,PTEBACCEAL_PTQ_EE,PTEBACC_EFSM_13,PTEBACC_FSM_13,PTEBACC_ENFSM_13,PTEBACC_NFSM_13,PTEBACC_EFSM_14_PTQ,PTEBACC_FSM_14_PTQ,PTEBACC_ENFSM_14_PTQ,PTEBACC_NFSM_14_PTQ,PTEBACC_EFSM6CLA1A_15_PTQ_EE,PTEBACC_FSM6CLA1A_15_PTQ_EE,PTEBACC_ENFSM6CLA1A_15_PTQ_EE,PTEBACC_NFSM6CLA1A_15_PTQ_EE,PTAC5EM_PTQ_EE,AC5EM13,AC5EM14_PTQ,AC5EM15_PTQ_EE,AC5EM16_PTQ_EE,PTANYQ_PTQ_EE,PTL2BASICS_13,PTL2BASICS_14_PTQ,PTL2BASICS_15_PTQ_EE,PTFSM6CLA1ABASICS_LL_PTQ_EE,PTNOTFSM6CLA1ABASICS_LL_PTQ_EE,TBASICS_LL_LO_PTQ_EE,PTBASICS_LL_LO_PTQ_EE,TBASICS_LL_AV_PTQ_EE,PTBASICS_LL_AV_PTQ_EE,TBASICS_LL_HI_PTQ_EE,PTBASICS_LL_HI_PTQ_EE,PBL2BASICS_LL_PTQ_EE,PGL2BASICS_LL_PTQ_EE,PTL2BASICS_LL_EAL_PTQ_EE,PTL2BASICS_LL_NMOB_PTQ_EE,PTFSMBASICS_13,PTNOTFSMBASICS_13,PTFSMBASICS_14_PTQ,PTNOTFSMBASICS_14_PTQ,PTFSM6CLA1ABASICS_15_PTQ_EE,PTNOTFSM6CLA1ABASICS_15_PTQ_EE,PTmultiLan_E,PTtripleSci_E,TFSMCLA_13,PTFSMCLA_13,TNOTFSMCLA_13,PTNOTFSMCLA_13,TFSMCLA_14,PTFSMCLA_14,TNOTFSMCLA_14,PTNOTFSMCLA_14,TFSM6CLA1A_15,PTFSM6CLA1A_15,TNOTFSM6CLA1A_15,PTNOTFSM6CLA1A_15,TAVENT_E_3NG_PTQ_EE,TAVENT_E_3NG_LO_PTQ_EE,TAVENT_E_3NG_AV_PTQ_EE,TAVENT_E_3NG_HI_PTQ_EE,TAVENT_E_3NG_FSM6CLA1A_PTQ_EE,TAVENT_E_3NG_NFSM6CLA1A_PTQ_EE,TAVENT_EFSM_13,TAVENT_ENFSM_13,TAVENT_EFSM_14_PTQ,TAVENT_ENFSM_14_PTQ,TAVENT_EFSM6CLA1A_15_PTQ_EE,TAVENT_ENFSM6CLA1A_15_PTQ_EE,TAVENT_G_PTQ_EE,TAVENT_GLO_PTQ_EE,TAVENT_GAV_PTQ_EE,TAVENT_GHI_PTQ_EE,TAVENT_GFSM6CLA1A_PTQ_EE,TAVENT_GNFSM6CLA1A_PTQ_EE,TAVENT_GFSM_13,TAVENT_GNFSM_13,TAVENT_GFSM_14_PTQ,TAVENT_GNFSM_14_PTQ,TAVENT_GFSM6CLA1A_15_PTQ_EE,TAVENT_GNFSM6CLA1A_15_PTQ_EE\r",
      "\r\n",
      "1,11828,201,6007,100003,City of London School, ,Queen Victoria Street, , ,London,EC4V 3AL,0207 4890291,0,0,IND,None, ,BOYS,0,0,1,10-18, ,918,918,NA,139,139,100%,NA,NA,NP,NP,NP,NP,NP,NP,NP,NP,NP,NP,NP,NP,NP,NP,NP,NP,NP,NP,NP,NA,NA,NA,NA,5849,42.1,1012,7.3,0,0,3085.3,22.2,1751.8,12.6,1452.5,10.4,299.3,2.2,NP,NP,NP,NP,NP,NP,NP,NP,NP,NP,NP,NP,NP,NP,NP,NP,NP,0%,0%,0,0%,0%,0,0%,0,0%,0,0%,135,97%,139,100%,0%,0%,NE,100%,100%,NP,NP,NP,NP,NP,NP,NP,NP,NP,NP,NP,NP,0,0,NE,135,139,0,0%,0,0%,0,0%,NE,NE,135,100%,139,100%,NP,NP,NP,NP,NP,NP,NP,NP,NP,NP,NP,NP,NP,NP,NP,NP,NP,NP,NP,NP,NP,NP,NP,NP,NP,NP,NP,NP,NP,NP,NP,NP,NP,NP,NP,NP,NP,NP,NP,NP,NP,NP,NP,NP,NP,NP,NP,NP,NP,NP,NP,NP,NP,NP,NP,NP,NP,NP,NP,NP,NP,NP,NP,NP,NP,NP,NP,NP,NA,NA,NA,NA,NA,42.1,NP,NP,NP,NP,NP,NP,NP,NP,NP,NA,NA,NA,NA,NA,NP,NP,NP,NP,NP,NP,NP,NP,NP,NP,NP,NP,NP,NP,NP,NP,NP,NP,NP,NP,NP,NP,NP,NP,NP,NP,NP,NP,NP,NP,NP,NP,NP,NP,NP,NP,NP,NP,NP,NP,NP,NP,NP,NP,NP,NP,NP,NP,NP,NP,NP,NP,NP,NP,NP,NP,NP,NP,0%,0%,0%,0%,0%,0%,0%,0%,NE,NE,NP,NP,NP,NP,NA,NA,NA,NA,NA,NA,NA,NA,NA,NA,NA,NA,0%,0%,0%,0%,0%,100%,0%,0%,0%,NP,NP,NP,NP,NP,NP,NP,NP,0%,NE,NP,NP,NA,NA,NA,NA,NA,NA,68%,0%,NA,NA,NA,NA,NA,NA,NA,NA,NA,NA,NA,NA,5.6,NP,NP,NP,NP,NP,NA,NA,NA,NA,NA,NA,5.3,NP,NP,NP,NP,NP,NA,NA,NA,NA,NA,NA\r",
      "\r\n",
      "1,11830,201,6005,100001,City of London School for Girls, ,St Giles' Terrace,Barbican, ,London,EC2Y 8BB,0207 8475500,0,0,IND,None, ,GIRLS,0,0,1,7-18, ,730,NA,730,90,NA,NA,90,100%,NP,NP,NP,NP,NP,NP,NP,NP,NP,NP,NP,NP,NP,NP,NP,NP,NP,NP,NP,NA,NA,NA,NA,2900.3,32.2,0,0,19,0.2,1517.5,16.9,1363.8,15.2,1172.8,13,191,2.1,NP,NP,NP,NP,NP,NP,NP,NP,NP,NP,NP,NP,NP,NP,NP,NP,NP,0%,0%,0,0%,0%,0,0%,1,1%,0,0%,64,71%,79,88%,0%,1%,NE,100%,100%,NP,NP,NP,NP,NP,NP,NP,NP,NP,NP,NP,NP,0,1,NE,64,79,0,0%,0,0%,1,1%,NE,NE,64,100%,79,100%,NP,NP,NP,NP,NP,NP,NP,NP,NP,NP,NP,NP,NP,NP,NP,NP,NP,NP,NP,NP,NP,NP,NP,NP,NP,NP,NP,NP,NP,NP,NP,NP,NP,NP,NP,NP,NP,NP,NP,NP,NP,NP,NP,NP,NP,NP,NP,NP,NP,NP,NP,NP,NP,NP,NP,NP,NP,NP,NP,NP,NP,NP,NP,NP,NP,NP,NP,NP,32.2,NP,NP,NP,NP,NA,NA,NA,NA,NA,NP,NP,NP,NP,NP,NA,NA,NA,NA,NA,NP,NP,NP,NP,NP,NP,NP,NP,NP,NP,NP,NP,NP,NP,NP,NP,NP,NP,NP,NP,NP,NP,NP,NP,NP,NP,NP,NP,NP,NP,NP,NP,NP,NP,NP,NP,NP,NP,NP,NP,NP,NP,NP,NP,NP,NP,NP,NP,NP,NP,NP,NP,NP,NP,NP,NP,NP,NP,68%,68%,0%,0%,0%,0%,NE,NE,0%,0%,NP,NP,NP,NP,NA,NA,NA,NA,NA,NA,NA,NA,NA,NA,NA,NA,0%,100%,0%,0%,0%,99%,100%,0%,0%,NP,NP,NP,NP,NP,NP,NP,NP,NE,0%,NP,NP,NA,NA,NA,NA,NA,NA,42%,0%,NA,NA,NA,NA,NA,NA,NA,NA,NA,NA,NA,NA,4.2,NP,NP,NP,NP,NP,NA,NA,NA,NA,NA,NA,3.9,NP,NP,NP,NP,NP,NA,NA,NA,NA,NA,NA\r",
      "\r\n",
      "4, ,201, , , , , , , , , , , , , , , , , , , ,, , , , , , , , , , , , , , , , , , , , , , , , , , , , , , , , , , , , , , , , , , , , , , , , , , , , , , , , , , , , , , , , , , , , , , , , , , , , , , , , , , , , , , , , , , , , , , , , , , , , , , , , , , , , , , , , , , , , , , , , , , , , , , , , , , , , , , , , , , , , , , , , , , , , , , , , , , , , , , , , , , , , , , , , , , , , , , , , , , , , , , , , , , , , , , , , , , , , , , , , , , , , , , , , , , , , , , , , , , , , , , , , , , , , , , , , , , , , , , , , , , , , , , , , , , , , , , , , , , , , , , , , , , , , , , , , , , , , , , , , , , , , , , , , , , , , , , , , , , , , , , , , , , , , , , , , , , , , , , , , , , , , , , , , , , , , , , , , , , , , , , , , , , , , , \r",
      "\r\n",
      "1,368,202,4285,100053,Acland Burghley School, ,Burghley Road, , ,London,NW5 1UJ,0207 4858515,0,0,CY,Does not apply,COMP,MIXED,1,0,1,11-18, ,974,628,346,172,109,63%,63,37%,28.3,22,13%,81,48%,66,39%,98,57%,74,43%,55,32%,117,68%,0,0%,166,97%,9,5%,9,5%,8622.5,50.1,1900,11,1700,9.9,2443,14.2,2579.5,15,2496,14.5,83.5,0.5,169,98%,-0.26,-0.42,-0.1,-0.02,-0.19,0.15,-0.26,-0.44,-0.07,-0.15,-0.36,0.06,-0.53,-0.72,-0.35,60%,59%,74,43%,30%,170,99%,168,98%,139,81%,131,76%,96,56%,81%,62%,75%,63%,77%,100%,99%,99%,-0.06,-0.24,0.12,-0.21,-0.46,0.04,0.31,0.03,0.58,140,107,104,83,74,74,43%,170,99%,162,94%,137,99%,131,100%,96,100%,44.6,96,-0.38,-0.59,-0.16,57.4,73,-0.1,-0.35,0.14,10.1,-0.13,-0.35,0.1,8.6,-0.4,-0.65,-0.16,12.3,-0.23,-0.51,0.05,13.6,-0.67,-0.92,-0.43,12.3,0.13,-0.13,0.39,11.6,-0.06,-0.34,0.22,16.7,-0.04,-0.36,0.28,16.9,-0.35,-0.64,-0.07,12.8,0.8,16.8,0.1,-8.7,-0.48,26,22,-0.75,-1.19,-0.3,46.8,81,-0.21,-0.44,0.02,63.1,66,-0.16,-0.41,0.1,49.9,53,-0.13,-0.41,0.16,50.5,61,-0.13,-0.39,0.14,49.9,108,-0.33,-0.53,-0.13,50.6,164,-0.23,-0.39,-0.07,NA,NA,NA,NA,NA,1,5%,0%,28,35%,15%,45,68%,61%,33%,57%,21%,42%,-0.18,0.09,-0.2,-0.03,-0.09,0.36,-0.37,-0.17,-0.33,-0.04,SUPP,0.34,0.31,0.31,0.3,0.23,-0.28,0.16,-0.34,0.57,-0.92,0.34,-0.17,0.07,-0.46,0,-0.67,0.33,-0.42,1.18,-0.46,0.01,-0.75,0.19,-0.53,0.71,-0.09,0.68,-0.08,SUPP,SUPP,0.76,-0.08,0.7,-0.07,48%,30%,57%,34%,57%,37%,42%,31%,44%,29%,44%,31%,49%,33%,29%,12%,72%,51%,46%,21%,71%,51%,44%,26%,73%,51%,53%,57%,57%,56%,53%,99%,59%,59%,56%,47%,78%,2,9%,38,47%,63,95%,63%,56%,58%,61%,43%,78%,44%,77%,45%,71%,3%,32%,97,54%,81,46%,97,55%,79,45%,94,56%,75,44%,9.1,6.9,9.1,9.9,8.7,9.6,8.7,9.9,9.2,10.3,9.7,11.5,8.8,6.1,8.9,9.8,8.4,9.5,8.1,9.8,9,10.2,8.4,10.6\r",
      "\r\n"
     ]
    }
   ],
   "source": [
    "!head -5 'data/2015-2016/england_ks4final.csv'"
   ]
  },
  {
   "cell_type": "code",
   "execution_count": 12,
   "metadata": {},
   "outputs": [
    {
     "name": "stdout",
     "output_type": "stream",
     "text": [
      "5489 data/2015-2016/england_ks4final.csv\r\n"
     ]
    }
   ],
   "source": [
    "!wc -l 'data/2015-2016/england_ks4final.csv'"
   ]
  },
  {
   "cell_type": "markdown",
   "metadata": {
    "collapsed": true
   },
   "source": [
    "# import the data into mongo\n",
    "Let's import both the ks4 ks5 and original ks2 results into mongo so we have the information we need at hand."
   ]
  },
  {
   "cell_type": "code",
   "execution_count": 1,
   "metadata": {},
   "outputs": [
    {
     "name": "stdout",
     "output_type": "stream",
     "text": [
      "2018-05-11T16:04:29.342+0000\tconnected to: localhost:27351\n",
      "2018-05-11T16:04:29.343+0000\tdropping: schools.ks4results\n",
      "2018-05-11T16:04:31.598+0000\timported 5489 documents\n"
     ]
    }
   ],
   "source": [
    "!/usr/bin/mongoimport --port 27351 --drop --db schools --collection ks4results \\\n",
    "    --type csv --headerline --ignoreBlanks \\\n",
    "    --file data/2015-2016/england_ks4final.csv"
   ]
  },
  {
   "cell_type": "code",
   "execution_count": 2,
   "metadata": {},
   "outputs": [
    {
     "name": "stdout",
     "output_type": "stream",
     "text": [
      "LA,ESTAB,URN,PERCTOT,PPERSABS10\r",
      "\r\n",
      "201,3614,100000,3.3,3.9\r",
      "\r\n",
      "202,2000,136807,4.5,7.9\r",
      "\r\n",
      "202,2001,139837,5.1,11.7\r",
      "\r\n",
      "202,2019,100008,5.9,16.4\r",
      "\r\n"
     ]
    }
   ],
   "source": [
    "!head -5 data/2015-2016/england_abs.csv"
   ]
  },
  {
   "cell_type": "code",
   "execution_count": 3,
   "metadata": {
    "collapsed": true
   },
   "outputs": [],
   "source": [
    "# import the required libraries\n",
    "import pymongo\n",
    "import bson\n"
   ]
  },
  {
   "cell_type": "code",
   "execution_count": 4,
   "metadata": {
    "collapsed": true
   },
   "outputs": [],
   "source": [
    "# open a connection to the mongo server\n",
    "client = pymongo.MongoClient('mongodb://localhost:27351/')"
   ]
  },
  {
   "cell_type": "code",
   "execution_count": 5,
   "metadata": {
    "collapsed": true
   },
   "outputs": [],
   "source": [
    "# open the imported database and collection\n",
    "db = client.schools\n",
    "ks4results = db.ks4results"
   ]
  },
  {
   "cell_type": "code",
   "execution_count": 6,
   "metadata": {},
   "outputs": [
    {
     "data": {
      "text/plain": [
       "5489"
      ]
     },
     "execution_count": 6,
     "metadata": {},
     "output_type": "execute_result"
    }
   ],
   "source": [
    "# check the number of documents matches the line length of the csv \n",
    "ks4results.find().count()"
   ]
  },
  {
   "cell_type": "code",
   "execution_count": 7,
   "metadata": {},
   "outputs": [
    {
     "data": {
      "text/plain": [
       "{'AC5EM13': '0%',\n",
       " 'AC5EM14_PTQ': '0%',\n",
       " 'AC5EM15_PTQ_EE': '0%',\n",
       " 'AC5EM16_PTQ_EE': '0%',\n",
       " 'ADDRESS1': 'Queen Victoria Street',\n",
       " 'AGERANGE': '10-18',\n",
       " 'ALPHAIND': 11828,\n",
       " 'ATT8SCR': 42.1,\n",
       " 'ATT8SCREBAC': 22.2,\n",
       " 'ATT8SCREBAC_FSM6CLA1A': 'NP',\n",
       " 'ATT8SCREBAC_NFSM6CLA1A': 'NP',\n",
       " 'ATT8SCRENG': 7.3,\n",
       " 'ATT8SCRENG_FSM6CLA1A': 'NP',\n",
       " 'ATT8SCRENG_NFSM6CLA1A': 'NP',\n",
       " 'ATT8SCRMAT': 0,\n",
       " 'ATT8SCRMAT_FSM6CLA1A': 'NP',\n",
       " 'ATT8SCRMAT_NFSM6CLA1A': 'NP',\n",
       " 'ATT8SCROPEN': 12.6,\n",
       " 'ATT8SCROPENG': 10.4,\n",
       " 'ATT8SCROPENG_FSM6CLA1A': 'NP',\n",
       " 'ATT8SCROPENG_NFSM6CLA1A': 'NP',\n",
       " 'ATT8SCROPENNG': 2.2,\n",
       " 'ATT8SCROPENNG_FSM6CLA1A': 'NP',\n",
       " 'ATT8SCROPENNG_NFSM6CLA1A': 'NP',\n",
       " 'ATT8SCROPEN_FSM6CLA1A': 'NP',\n",
       " 'ATT8SCROPEN_NFSM6CLA1A': 'NP',\n",
       " 'ATT8SCR_15': 'NA',\n",
       " 'ATT8SCR_AV': 'NP',\n",
       " 'ATT8SCR_BOYS': 42.1,\n",
       " 'ATT8SCR_EAL': 'NP',\n",
       " 'ATT8SCR_FSM6CLA1A': 'NP',\n",
       " 'ATT8SCR_GIRLS': 'NA',\n",
       " 'ATT8SCR_HI': 'NP',\n",
       " 'ATT8SCR_LO': 'NP',\n",
       " 'ATT8SCR_NFSM6CLA1A': 'NP',\n",
       " 'ATT8SCR_NMOB': 'NP',\n",
       " 'BPUP': 139,\n",
       " 'CONTFLAG': 0,\n",
       " 'DIFFN_ATT8': 'NP',\n",
       " 'DIFFN_P8MEA': 'NP',\n",
       " 'EGENDER': 'BOYS',\n",
       " 'ESTAB': 6007,\n",
       " 'FEEDER': 0,\n",
       " 'GPUP': 'NA',\n",
       " 'HUMVACOV_PTQ_EE': 'NP',\n",
       " 'HUMVALOW_AV_PTQ_EE': 'NP',\n",
       " 'HUMVALOW_FSM6CLA1A_PTQ_EE': 'NP',\n",
       " 'HUMVALOW_HI_PTQ_EE': 'NP',\n",
       " 'HUMVALOW_LO_PTQ_EE': 'NP',\n",
       " 'HUMVALOW_NFSM6CLA1A_PTQ_EE': 'NP',\n",
       " 'HUMVALOW_PTQ_EE': 'NP',\n",
       " 'HUMVAMEA_AV_PTQ_EE': 'NP',\n",
       " 'HUMVAMEA_FSM6CLA1A_PTQ_EE': 'NP',\n",
       " 'HUMVAMEA_HI_PTQ_EE': 'NP',\n",
       " 'HUMVAMEA_LO_PTQ_EE': 'NP',\n",
       " 'HUMVAMEA_NFSM6CLA1A_PTQ_EE': 'NP',\n",
       " 'HUMVAMEA_PTQ_EE': 'NP',\n",
       " 'HUMVAUPP_AV_PTQ_EE': 'NP',\n",
       " 'HUMVAUPP_FSM6CLA1A_PTQ_EE': 'NP',\n",
       " 'HUMVAUPP_HI_PTQ_EE': 'NP',\n",
       " 'HUMVAUPP_LO_PTQ_EE': 'NP',\n",
       " 'HUMVAUPP_NFSM6CLA1A_PTQ_EE': 'NP',\n",
       " 'HUMVAUPP_PTQ_EE': 'NP',\n",
       " 'ICLOSE': 0,\n",
       " 'KS2APS': 'NP',\n",
       " 'LANVACOV_PTQ_EE': 'NP',\n",
       " 'LANVALOW_AV_PTQ_EE': 'NP',\n",
       " 'LANVALOW_FSM6CLA1A_PTQ_EE': 'NP',\n",
       " 'LANVALOW_HI_PTQ_EE': 'NP',\n",
       " 'LANVALOW_LO_PTQ_EE': 'NP',\n",
       " 'LANVALOW_NFSM6CLA1A_PTQ_EE': 'NP',\n",
       " 'LANVALOW_PTQ_EE': 'NP',\n",
       " 'LANVAMEA_AV_PTQ_EE': 'NP',\n",
       " 'LANVAMEA_FSM6CLA1A_PTQ_EE': 'NP',\n",
       " 'LANVAMEA_HI_PTQ_EE': 'NP',\n",
       " 'LANVAMEA_LO_PTQ_EE': 'NP',\n",
       " 'LANVAMEA_NFSM6CLA1A_PTQ_EE': 'NP',\n",
       " 'LANVAMEA_PTQ_EE': 'NP',\n",
       " 'LANVAUPP_AV_PTQ_EE': 'NP',\n",
       " 'LANVAUPP_FSM6CLA1A_PTQ_EE': 'NP',\n",
       " 'LANVAUPP_HI_PTQ_EE': 'NP',\n",
       " 'LANVAUPP_LO_PTQ_EE': 'NP',\n",
       " 'LANVAUPP_NFSM6CLA1A_PTQ_EE': 'NP',\n",
       " 'LANVAUPP_PTQ_EE': 'NP',\n",
       " 'LEA': 201,\n",
       " 'NFTYPE': 'IND',\n",
       " 'NUMBOYS': 918,\n",
       " 'NUMGIRLS': 'NA',\n",
       " 'P8CILOW': 'NP',\n",
       " 'P8CILOW_15': 'NA',\n",
       " 'P8CILOW_AV': 'NP',\n",
       " 'P8CILOW_BOYS': 'NP',\n",
       " 'P8CILOW_EAL': 'NP',\n",
       " 'P8CILOW_FSM6CLA1A': 'NP',\n",
       " 'P8CILOW_GIRLS': 'NA',\n",
       " 'P8CILOW_HI': 'NP',\n",
       " 'P8CILOW_LO': 'NP',\n",
       " 'P8CILOW_NFSM6CLA1A': 'NP',\n",
       " 'P8CILOW_NMOB': 'NP',\n",
       " 'P8CIUPP': 'NP',\n",
       " 'P8CIUPP_15': 'NA',\n",
       " 'P8CIUPP_AV': 'NP',\n",
       " 'P8CIUPP_BOYS': 'NP',\n",
       " 'P8CIUPP_EAL': 'NP',\n",
       " 'P8CIUPP_FSM6CLA1A': 'NP',\n",
       " 'P8CIUPP_GIRLS': 'NA',\n",
       " 'P8CIUPP_HI': 'NP',\n",
       " 'P8CIUPP_LO': 'NP',\n",
       " 'P8CIUPP_NFSM6CLA1A': 'NP',\n",
       " 'P8CIUPP_NMOB': 'NP',\n",
       " 'P8MEA': 'NP',\n",
       " 'P8MEACOV': 'NP',\n",
       " 'P8MEAEBAC': 'NP',\n",
       " 'P8MEAEBAC_CILOW': 'NP',\n",
       " 'P8MEAEBAC_CILOW_FSM6CLA1A': 'NP',\n",
       " 'P8MEAEBAC_CILOW_NFSM6CLA1A': 'NP',\n",
       " 'P8MEAEBAC_CIUPP': 'NP',\n",
       " 'P8MEAEBAC_CIUPP_FSM6CLA1A': 'NP',\n",
       " 'P8MEAEBAC_CIUPP_NFSM6CLA1A': 'NP',\n",
       " 'P8MEAEBAC_FSM6CLA1A': 'NP',\n",
       " 'P8MEAEBAC_NFSM6CLA1A': 'NP',\n",
       " 'P8MEAENG': 'NP',\n",
       " 'P8MEAENG_CILOW': 'NP',\n",
       " 'P8MEAENG_CILOW_FSM6CLA1A': 'NP',\n",
       " 'P8MEAENG_CILOW_NFSM6CLA1A': 'NP',\n",
       " 'P8MEAENG_CIUPP': 'NP',\n",
       " 'P8MEAENG_CIUPP_FSM6CLA1A': 'NP',\n",
       " 'P8MEAENG_CIUPP_NFSM6CLA1A': 'NP',\n",
       " 'P8MEAENG_FSM6CLA1A': 'NP',\n",
       " 'P8MEAENG_NFSM6CLA1A': 'NP',\n",
       " 'P8MEAMAT': 'NP',\n",
       " 'P8MEAMAT_CILOW': 'NP',\n",
       " 'P8MEAMAT_CILOW_FSM6CLA1A': 'NP',\n",
       " 'P8MEAMAT_CILOW_NFSM6CLA1A': 'NP',\n",
       " 'P8MEAMAT_CIUPP': 'NP',\n",
       " 'P8MEAMAT_CIUPP_FSM6CLA1A': 'NP',\n",
       " 'P8MEAMAT_CIUPP_NFSM6CLA1A': 'NP',\n",
       " 'P8MEAMAT_FSM6CLA1A': 'NP',\n",
       " 'P8MEAMAT_NFSM6CLA1A': 'NP',\n",
       " 'P8MEAOPEN': 'NP',\n",
       " 'P8MEAOPEN_CILOW': 'NP',\n",
       " 'P8MEAOPEN_CILOW_FSM6CLA1A': 'NP',\n",
       " 'P8MEAOPEN_CILOW_NFSM6CLA1A': 'NP',\n",
       " 'P8MEAOPEN_CIUPP': 'NP',\n",
       " 'P8MEAOPEN_CIUPP_FSM6CLA1A': 'NP',\n",
       " 'P8MEAOPEN_CIUPP_NFSM6CLA1A': 'NP',\n",
       " 'P8MEAOPEN_FSM6CLA1A': 'NP',\n",
       " 'P8MEAOPEN_NFSM6CLA1A': 'NP',\n",
       " 'P8MEA_15': 'NA',\n",
       " 'P8MEA_AV': 'NP',\n",
       " 'P8MEA_BOYS': 'NP',\n",
       " 'P8MEA_EAL': 'NP',\n",
       " 'P8MEA_FSM6CLA1A': 'NP',\n",
       " 'P8MEA_GIRLS': 'NA',\n",
       " 'P8MEA_HI': 'NP',\n",
       " 'P8MEA_LO': 'NP',\n",
       " 'P8MEA_NFSM6CLA1A': 'NP',\n",
       " 'P8MEA_NMOB': 'NP',\n",
       " 'P8PUP': 'NP',\n",
       " 'P8PUP_15': 'NA',\n",
       " 'P8PUP_AV': 'NP',\n",
       " 'P8PUP_BOYS': 'NP',\n",
       " 'P8PUP_EAL': 'NP',\n",
       " 'P8PUP_FSM6CLA1A': 'NP',\n",
       " 'P8PUP_GIRLS': 'NA',\n",
       " 'P8PUP_HI': 'NP',\n",
       " 'P8PUP_LO': 'NP',\n",
       " 'P8PUP_NFSM6CLA1A': 'NP',\n",
       " 'P8PUP_NMOB': 'NP',\n",
       " 'PBEBACC_E_PTQ_EE': '0%',\n",
       " 'PBEBACC_PTQ_EE': '0%',\n",
       " 'PBL2BASICS_LL_PTQ_EE': '0%',\n",
       " 'PBPUP': '100%',\n",
       " 'PCODE': 'EC4V 3AL',\n",
       " 'PGEBACC_E_PTQ_EE': 'NE',\n",
       " 'PGEBACC_PTQ_EE': 'NE',\n",
       " 'PGL2BASICS_LL_PTQ_EE': 'NE',\n",
       " 'PGPUP': 'NA',\n",
       " 'PSENAPK4': 'NA',\n",
       " 'PSENSE4': 'NA',\n",
       " 'PTAC5EM_PTQ_EE': '0%',\n",
       " 'PTANYQ_PTQ_EE': '100%',\n",
       " 'PTBASICS_LL_AV_PTQ_EE': 'NP',\n",
       " 'PTBASICS_LL_HI_PTQ_EE': 'NP',\n",
       " 'PTBASICS_LL_LO_PTQ_EE': 'NP',\n",
       " 'PTEALGRP1': 'NP',\n",
       " 'PTEALGRP2': 'NP',\n",
       " 'PTEALGRP3': 'NP',\n",
       " 'PTEBAC2SCIAG_PTQ_EE': 'NE',\n",
       " 'PTEBAC2SCI_E_PTQ_EE': '0%',\n",
       " 'PTEBAC2SCI_PTQ_EE': 'NE',\n",
       " 'PTEBACCAG_PTQ_EE': '0%',\n",
       " 'PTEBACCAV_PTQ_EE': 'NP',\n",
       " 'PTEBACCEAL_PTQ_EE': 'NP',\n",
       " 'PTEBACCHI_PTQ_EE': 'NP',\n",
       " 'PTEBACCLO_PTQ_EE': 'NP',\n",
       " 'PTEBACCNMOB_PTQ_EE': 'NP',\n",
       " 'PTEBACC_13': '0%',\n",
       " 'PTEBACC_14_PTQ': '0%',\n",
       " 'PTEBACC_15_PTQ_EE': '0%',\n",
       " 'PTEBACC_EAV_PTQ_EE': 'NP',\n",
       " 'PTEBACC_EEAL_PTQ_EE': 'NP',\n",
       " 'PTEBACC_EFSM6CLA1A_15_PTQ_EE': 'NA',\n",
       " 'PTEBACC_EFSM6CLA1A_PTQ_EE': 'NP',\n",
       " 'PTEBACC_EFSM_13': 'NA',\n",
       " 'PTEBACC_EFSM_14_PTQ': 'NA',\n",
       " 'PTEBACC_EHI_PTQ_EE': 'NP',\n",
       " 'PTEBACC_ELO_PTQ_EE': 'NP',\n",
       " 'PTEBACC_ENFSM6CLA1A_15_PTQ_EE': 'NA',\n",
       " 'PTEBACC_ENFSM6CLA1A_PTQ_EE': 'NP',\n",
       " 'PTEBACC_ENFSM_13': 'NA',\n",
       " 'PTEBACC_ENFSM_14_PTQ': 'NA',\n",
       " 'PTEBACC_ENMOB_PTQ_EE': 'NP',\n",
       " 'PTEBACC_E_13': '0%',\n",
       " 'PTEBACC_E_14_PTQ': '0%',\n",
       " 'PTEBACC_E_15_PTQ_EE': '0%',\n",
       " 'PTEBACC_E_PTQ_EE': '0%',\n",
       " 'PTEBACC_FSM6CLA1A_15_PTQ_EE': 'NA',\n",
       " 'PTEBACC_FSM6CLA1A_PTQ_EE': 'NP',\n",
       " 'PTEBACC_FSM_13': 'NA',\n",
       " 'PTEBACC_FSM_14_PTQ': 'NA',\n",
       " 'PTEBACC_NFSM6CLA1A_15_PTQ_EE': 'NA',\n",
       " 'PTEBACC_NFSM6CLA1A_PTQ_EE': 'NP',\n",
       " 'PTEBACC_NFSM_13': 'NA',\n",
       " 'PTEBACC_NFSM_14_PTQ': 'NA',\n",
       " 'PTEBACC_PTQ_EE': '0%',\n",
       " 'PTEBACENGAG_LL_PTQ_EE': '0%',\n",
       " 'PTEBACENG_E_PTQ_EE': '0%',\n",
       " 'PTEBACENG_LL_PTQ_EE': '0%',\n",
       " 'PTEBACHUMAG_PTQ_EE': '100%',\n",
       " 'PTEBACHUM_E_PTQ_EE': '97%',\n",
       " 'PTEBACHUM_PTQ_EE': '100%',\n",
       " 'PTEBACLANAG_PTQ_EE': '100%',\n",
       " 'PTEBACLAN_E_PTQ_EE': '100%',\n",
       " 'PTEBACLAN_PTQ_EE': '100%',\n",
       " 'PTEBACMATAG_PTQ_EE': '0%',\n",
       " 'PTEBACMAT_E_PTQ_EE': '0%',\n",
       " 'PTEBACMAT_PTQ_EE': '0%',\n",
       " 'PTFSM6CLA1A': 'NP',\n",
       " 'PTFSM6CLA1ABASICS_15_PTQ_EE': 'NA',\n",
       " 'PTFSM6CLA1ABASICS_LL_PTQ_EE': 'NP',\n",
       " 'PTFSM6CLA1A_15': 'NA',\n",
       " 'PTFSMBASICS_13': 'NA',\n",
       " 'PTFSMBASICS_14_PTQ': 'NA',\n",
       " 'PTFSMCLA_13': 'NA',\n",
       " 'PTFSMCLA_14': 'NA',\n",
       " 'PTL2BASICS_13': '0%',\n",
       " 'PTL2BASICS_14_PTQ': '0%',\n",
       " 'PTL2BASICS_15_PTQ_EE': '0%',\n",
       " 'PTL2BASICS_3YR_PTQ_EE': '0%',\n",
       " 'PTL2BASICS_LL_EAL_PTQ_EE': 'NP',\n",
       " 'PTL2BASICS_LL_NMOB_PTQ_EE': 'NP',\n",
       " 'PTL2BASICS_LL_PTQ_EE': '0%',\n",
       " 'PTNMOB': 'NP',\n",
       " 'PTNOTFSM6CLA1A': 'NP',\n",
       " 'PTNOTFSM6CLA1ABASICS_15_PTQ_EE': 'NA',\n",
       " 'PTNOTFSM6CLA1ABASICS_LL_PTQ_EE': 'NP',\n",
       " 'PTNOTFSM6CLA1A_15': 'NA',\n",
       " 'PTNOTFSMBASICS_13': 'NA',\n",
       " 'PTNOTFSMBASICS_14_PTQ': 'NA',\n",
       " 'PTNOTFSMCLA_13': 'NA',\n",
       " 'PTNOTFSMCLA_14': 'NA',\n",
       " 'PTPRIORAV': 'NP',\n",
       " 'PTPRIORHI': 'NP',\n",
       " 'PTPRIORLO': 'NP',\n",
       " 'PTmultiLan_E': '68%',\n",
       " 'PTtripleSci_E': '0%',\n",
       " 'RECTYPE': 1,\n",
       " 'RELDENOM': 'None',\n",
       " 'SCHNAME': 'City of London School',\n",
       " 'SCIVACOV_PTQ_EE': 'NP',\n",
       " 'SCIVALOW_AV_PTQ_EE': 'NP',\n",
       " 'SCIVALOW_FSM6CLA1A_PTQ_EE': 'NP',\n",
       " 'SCIVALOW_HI_PTQ_EE': 'NP',\n",
       " 'SCIVALOW_LO_PTQ_EE': 'NP',\n",
       " 'SCIVALOW_NFSM6CLA1A_PTQ_EE': 'NP',\n",
       " 'SCIVALOW_PTQ_EE': 'NP',\n",
       " 'SCIVAMEA_AV_PTQ_EE': 'NP',\n",
       " 'SCIVAMEA_FSM6CLA1A_PTQ_EE': 'NP',\n",
       " 'SCIVAMEA_HI_PTQ_EE': 'NP',\n",
       " 'SCIVAMEA_LO_PTQ_EE': 'NP',\n",
       " 'SCIVAMEA_NFSM6CLA1A_PTQ_EE': 'NP',\n",
       " 'SCIVAMEA_PTQ_EE': 'NP',\n",
       " 'SCIVAUPP_AV_PTQ_EE': 'NP',\n",
       " 'SCIVAUPP_FSM6CLA1A_PTQ_EE': 'NP',\n",
       " 'SCIVAUPP_HI_PTQ_EE': 'NP',\n",
       " 'SCIVAUPP_LO_PTQ_EE': 'NP',\n",
       " 'SCIVAUPP_NFSM6CLA1A_PTQ_EE': 'NP',\n",
       " 'SCIVAUPP_PTQ_EE': 'NP',\n",
       " 'SENAPK4': 'NA',\n",
       " 'SENSE4': 'NA',\n",
       " 'TAB1618': 1,\n",
       " 'TABKS2': 0,\n",
       " 'TAVENT_EFSM6CLA1A_15_PTQ_EE': 'NA',\n",
       " 'TAVENT_EFSM_13': 'NA',\n",
       " 'TAVENT_EFSM_14_PTQ': 'NA',\n",
       " 'TAVENT_ENFSM6CLA1A_15_PTQ_EE': 'NA',\n",
       " 'TAVENT_ENFSM_13': 'NA',\n",
       " 'TAVENT_ENFSM_14_PTQ': 'NA',\n",
       " 'TAVENT_E_3NG_AV_PTQ_EE': 'NP',\n",
       " 'TAVENT_E_3NG_FSM6CLA1A_PTQ_EE': 'NP',\n",
       " 'TAVENT_E_3NG_HI_PTQ_EE': 'NP',\n",
       " 'TAVENT_E_3NG_LO_PTQ_EE': 'NP',\n",
       " 'TAVENT_E_3NG_NFSM6CLA1A_PTQ_EE': 'NP',\n",
       " 'TAVENT_E_3NG_PTQ_EE': 5.6,\n",
       " 'TAVENT_GAV_PTQ_EE': 'NP',\n",
       " 'TAVENT_GFSM6CLA1A_15_PTQ_EE': 'NA',\n",
       " 'TAVENT_GFSM6CLA1A_PTQ_EE': 'NP',\n",
       " 'TAVENT_GFSM_13': 'NA',\n",
       " 'TAVENT_GFSM_14_PTQ': 'NA',\n",
       " 'TAVENT_GHI_PTQ_EE': 'NP',\n",
       " 'TAVENT_GLO_PTQ_EE': 'NP',\n",
       " 'TAVENT_GNFSM6CLA1A_15_PTQ_EE': 'NA',\n",
       " 'TAVENT_GNFSM6CLA1A_PTQ_EE': 'NP',\n",
       " 'TAVENT_GNFSM_13': 'NA',\n",
       " 'TAVENT_GNFSM_14_PTQ': 'NA',\n",
       " 'TAVENT_G_PTQ_EE': 5.3,\n",
       " 'TBASICS_LL_AV_PTQ_EE': 'NP',\n",
       " 'TBASICS_LL_HI_PTQ_EE': 'NP',\n",
       " 'TBASICS_LL_LO_PTQ_EE': 'NP',\n",
       " 'TEALGRP1': 'NP',\n",
       " 'TEALGRP2': 'NP',\n",
       " 'TEALGRP3': 'NP',\n",
       " 'TEBAC2SCIAG_PTQ_EE': 'NE',\n",
       " 'TEBAC2SCI_E_PTQ_EE': 0,\n",
       " 'TEBAC2SCI_PTQ_EE': 'NE',\n",
       " 'TEBACCAG_PTQ_EE': 0,\n",
       " 'TEBACC_EAV_PTQ_EE': 'NP',\n",
       " 'TEBACC_EHI_PTQ_EE': 'NP',\n",
       " 'TEBACC_ELO_PTQ_EE': 'NP',\n",
       " 'TEBACC_E_PTQ_EE': 0,\n",
       " 'TEBACENGAG_LL_PTQ_EE': 0,\n",
       " 'TEBACENG_E_PTQ_EE': 0,\n",
       " 'TEBACENG_LL_PTQ_EE': 0,\n",
       " 'TEBACHUMAG_PTQ_EE': 135,\n",
       " 'TEBACHUM_E_PTQ_EE': 135,\n",
       " 'TEBACHUM_PTQ_EE': 135,\n",
       " 'TEBACLANAG_PTQ_EE': 139,\n",
       " 'TEBACLAN_E_PTQ_EE': 139,\n",
       " 'TEBACLAN_PTQ_EE': 139,\n",
       " 'TEBACMATAG_PTQ_EE': 0,\n",
       " 'TEBACMAT_E_PTQ_EE': 0,\n",
       " 'TEBACMAT_PTQ_EE': 0,\n",
       " 'TELNUM': '0207 4890291',\n",
       " 'TFSM6CLA1A': 'NP',\n",
       " 'TFSM6CLA1A_15': 'NA',\n",
       " 'TFSMCLA_13': 'NA',\n",
       " 'TFSMCLA_14': 'NA',\n",
       " 'TNMOB': 'NP',\n",
       " 'TNOTFSM6CLA1A': 'NP',\n",
       " 'TNOTFSM6CLA1A_15': 'NA',\n",
       " 'TNOTFSMCLA_13': 'NA',\n",
       " 'TNOTFSMCLA_14': 'NA',\n",
       " 'TOTATT8': 5849,\n",
       " 'TOTATT8EBAC': 3085.3,\n",
       " 'TOTATT8ENG': 1012,\n",
       " 'TOTATT8MAT': 0,\n",
       " 'TOTATT8OPEN': 1751.8,\n",
       " 'TOTATT8OPENG': 1452.5,\n",
       " 'TOTATT8OPENNG': 299.3,\n",
       " 'TOTPUPS': 918,\n",
       " 'TOWN': 'London',\n",
       " 'TPRIORAV': 'NP',\n",
       " 'TPRIORHI': 'NP',\n",
       " 'TPRIORLO': 'NP',\n",
       " 'TPUP': 139,\n",
       " 'URN': 100003,\n",
       " '_id': ObjectId('5af5bf0d5e6c7b1cb1c3cdca')}"
      ]
     },
     "execution_count": 7,
     "metadata": {},
     "output_type": "execute_result"
    }
   ],
   "source": [
    "# take a look at one document\n",
    "ks4results.find_one()"
   ]
  },
  {
   "cell_type": "markdown",
   "metadata": {},
   "source": [
    "There a lot of codes here that need to be made sense of.  Let's have a look in the data folder for an abbreviations file."
   ]
  },
  {
   "cell_type": "code",
   "execution_count": 8,
   "metadata": {},
   "outputs": [
    {
     "name": "stdout",
     "output_type": "stream",
     "text": [
      "abbreviations.xlsx\t    england_swf.csv\r\n",
      "abs_meta.csv\t\t    england_vaqual.csv\r\n",
      "census_meta.csv\t\t    england_vasubj.csv\r\n",
      "england_abs.csv\t\t    ks2_meta.csv\r\n",
      "england_census.csv\t    ks4_meta.csv\r\n",
      "england_cfrfull.xlsx\t    ks4_meta_methodology.csv\r\n",
      "england_ks2final.csv\t    ks4-pupdest_meta.csv\r\n",
      "england_ks4final.csv\t    ks5_meta.csv\r\n",
      "england_ks4-pupdest.csv     ks5-studest_meta.csv\r\n",
      "england_ks4underlying.xlsx  la_and_region_codes_meta.csv\r\n",
      "england_ks5final.csv\t    sixth_form_centres_and_consortia_meta.xlsx\r\n",
      "england_ks5-studest.csv     spine_meta.csv\r\n",
      "england_ks5underlying.xlsx  swf_meta.csv\r\n",
      "england_spine.csv\r\n"
     ]
    }
   ],
   "source": [
    "!ls data/2015-2016/\n"
   ]
  },
  {
   "cell_type": "markdown",
   "metadata": {},
   "source": [
    "it is stored as an xlsx file.  I wonder if we can import that into mongo"
   ]
  },
  {
   "cell_type": "code",
   "execution_count": null,
   "metadata": {
    "collapsed": true
   },
   "outputs": [],
   "source": []
  }
 ],
 "metadata": {
  "kernelspec": {
   "display_name": "Python 3",
   "language": "python",
   "name": "python3"
  },
  "language_info": {
   "codemirror_mode": {
    "name": "ipython",
    "version": 3
   },
   "file_extension": ".py",
   "mimetype": "text/x-python",
   "name": "python",
   "nbconvert_exporter": "python",
   "pygments_lexer": "ipython3",
   "version": "3.5.2"
  }
 },
 "nbformat": 4,
 "nbformat_minor": 2
}
