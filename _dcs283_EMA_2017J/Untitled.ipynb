{
 "cells": [
  {
   "cell_type": "markdown",
   "metadata": {},
   "source": [
    "# EMA Project Diary / Lab Notebook"
   ]
  },
  {
   "cell_type": "markdown",
   "metadata": {},
   "source": [
    "This note book will follow the data expporation and analysis of the schools dataset."
   ]
  },
  {
   "cell_type": "markdown",
   "metadata": {},
   "source": [
    "Let's start by looking at the keystage 2 results data."
   ]
  },
  {
   "cell_type": "code",
   "execution_count": 1,
   "metadata": {},
   "outputs": [
    {
     "name": "stdout",
     "output_type": "stream",
     "text": [
      "RECTYPE,ALPHAIND,LEA,ESTAB,URN,SCHNAME,ADDRESS1,ADDRESS2,ADDRESS3,TOWN,PCODE,TELNUM,URN_AC,SCHNAME_AC,OPEN_AC,NFTYPE,ICLOSE,RELDENOM,AGERANGE,CONFEXAM,TAB15,TAB1618,TOTPUPS,TPUPYEAR,TELIG,BELIG,GELIG,PBELIG,PGELIG,TKS1AVERAGE,TKS1GROUP_L,PTKS1GROUP_L,TKS1GROUP_M,PTKS1GROUP_M,TKS1GROUP_H,PTKS1GROUP_H,TKS1GROUP_NA,PTKS1GROUP_NA,TFSM6CLA1A,PTFSM6CLA1A,TNotFSM6CLA1A,PTNotFSM6CLA1A,TEALGRP2,PTEALGRP2,TMOBN,PTMOBN,TSENELSE,PSENELSE,PTRWM_EXP,PTRWM_HIGH,READPROG,READPROG_LOWER,READPROG_UPPER,READCOV,WRITPROG,WRITPROG_LOWER,WRITPROG_UPPER,WRITCOV,MATPROG,MATPROG_LOWER,MATPROG_UPPER,MATCOV,PTREAD_EXP,PTREAD_HIGH,PTREAD_AT,READ_AVERAGE,PTGPS_EXP,PTGPS_HIGH,PTGPS_AT,GPS_AVERAGE,PTMAT_EXP,PTMAT_HIGH,PTMAT_AT,MAT_AVERAGE,PTWRITTA_EXP,PTWRITTA_HIGH,PTWRITTA_WTS,PTWRITTA_AD,PTSCITA_EXP,PTSCITA_AD,PTREADTA_EXP,PTREADTA_AD,PTMATTA_EXP,PTMATTA_AD,PTRWM_EXP_B,PTRWM_EXP_G,PTRWM_EXP_L,PTRWM_EXP_M,PTRWM_EXP_H,PTRWM_EXP_FSM6CLA1A,PTRWM_EXP_NotFSM6CLA1A,DIFFN_RWM_EXP,PTRWM_EXP_EAL,PTRWM_EXP_MOBN,PTRWM_HIGH_B,PTRWM_HIGH_G,PTRWM_HIGH_L,PTRWM_HIGH_M,PTRWM_HIGH_H,PTRWM_HIGH_FSM6CLA1A,PTRWM_HIGH_NotFSM6CLA1A,DIFFN_RWM_HIGH,PTRWM_HIGH_EAL,PTRWM_HIGH_MOBN,READPROG_B,READPROG_B_LOWER,READPROG_B_UPPER,READPROG_G,READPROG_G_LOWER,READPROG_G_UPPER,READPROG_L,READPROG_L_LOWER,READPROG_L_UPPER,READPROG_M,READPROG_M_LOWER,READPROG_M_UPPER,READPROG_H,READPROG_H_LOWER,READPROG_H_UPPER,READPROG_FSM6CLA1A,READPROG_FSM6CLA1A_LOWER,READPROG_FSM6CLA1A_UPPER,READPROG_NotFSM6CLA1A,READPROG_NotFSM6CLA1A_LOWER,READPROG_NotFSM6CLA1A_UPPER,DIFFN_READPROG,READPROG_EAL,READPROG_EAL_LOWER,READPROG_EAL_UPPER,READPROG_MOBN,READPROG_MOBN_LOWER,READPROG_MOBN_UPPER,WRITPROG_B,WRITPROG_B_LOWER,WRITPROG_B_UPPER,WRITPROG_G,WRITPROG_G_LOWER,WRITPROG_G_UPPER,WRITPROG_L,WRITPROG_L_LOWER,WRITPROG_L_UPPER,WRITPROG_M,WRITPROG_M_LOWER,WRITPROG_M_UPPER,WRITPROG_H,WRITPROG_H_LOWER,WRITPROG_H_UPPER,WRITPROG_FSM6CLA1A,WRITPROG_FSM6CLA1A_LOWER,WRITPROG_FSM6CLA1A_UPPER,WRITPROG_NotFSM6CLA1A,WRITPROG_NotFSM6CLA1A_LOWER,WRITPROG_NotFSM6CLA1A_UPPER,DIFFN_WRITPROG,WRITPROG_EAL,WRITPROG_EAL_LOWER,WRITPROG_EAL_UPPER,WRITPROG_MOBN,WRITPROG_MOBN_LOWER,WRITPROG_MOBN_UPPER,MATPROG_B,MATPROG_B_LOWER,MATPROG_B_UPPER,MATPROG_G,MATPROG_G_LOWER,MATPROG_G_UPPER,MATPROG_L,MATPROG_L_LOWER,MATPROG_L_UPPER,MATPROG_M,MATPROG_M_LOWER,MATPROG_M_UPPER,MATPROG_H,MATPROG_H_LOWER,MATPROG_H_UPPER,MATPROG_FSM6CLA1A,MATPROG_FSM6CLA1A_LOWER,MATPROG_FSM6CLA1A_UPPER,MATPROG_NotFSM6CLA1A,MATPROG_NotFSM6CLA1A_LOWER,MATPROG_NotFSM6CLA1A_UPPER,DIFFN_MATPROG,MATPROG_EAL,MATPROG_EAL_LOWER,MATPROG_EAL_UPPER,MATPROG_MOBN,MATPROG_MOBN_LOWER,MATPROG_MOBN_UPPER,READ_AVERAGE_L,READ_AVERAGE_M,READ_AVERAGE_H,READ_AVERAGE_FSM6CLA1A,READ_AVERAGE_NotFSM6CLA1A,MAT_AVERAGE_L,MAT_AVERAGE_M,MAT_AVERAGE_H,MAT_AVERAGE_FSM6CLA1A,MAT_AVERAGE_NotFSM6CLA1A,GPS_AVERAGE_L,GPS_AVERAGE_M,GPS_AVERAGE_H,GPS_AVERAGE_FSM6CLA1A,GPS_AVERAGE_NotFSM6CLA1A,PTREAD_EXP_L,PTREAD_EXP_M,PTREAD_EXP_H,PTREAD_EXP_FSM6CLA1A,PTREAD_EXP_NotFSM6CLA1A,PTGPS_EXP_L,PTGPS_EXP_M,PTGPS_EXP_H,PTGPS_EXP_FSM6CLA1A,PTGPS_EXP_NotFSM6CLA1A,PTMAT_EXP_L,PTMAT_EXP_M,PTMAT_EXP_H,PTMAT_EXP_FSM6CLA1A,PTMAT_EXP_NotFSM6CLA1A,PTWRITTA_EXP_L,PTWRITTA_EXP_M,PTWRITTA_EXP_H,PTWRITTA_EXP_FSM6CLA1A,PTWRITTA_EXP_NotFSM6CLA1A,PTREAD_HIGH_L,PTREAD_HIGH_M,PTREAD_HIGH_H,PTREAD_HIGH_FSM6CLA1A,PTREAD_HIGH_NotFSM6CLA1A,PTGPS_HIGH_L,PTGPS_HIGH_M,PTGPS_HIGH_H,PTGPS_HIGH_FSM6CLA1A,PTGPS_HIGH_NotFSM6CLA1A,PTMAT_HIGH_L,PTMAT_HIGH_M,PTMAT_HIGH_H,PTMAT_HIGH_FSM6CLA1A,PTMAT_HIGH_NotFSM6CLA1A,PTWRITTA_HIGH_L,PTWRITTA_HIGH_M,PTWRITTA_HIGH_H,PTWRITTA_HIGH_FSM6CLA1A,PTWRITTA_HIGH_NotFSM6CLA1A,TEALGRP1,PTEALGRP1,TEALGRP3,PTEALGRP3,TSENELAPK,PSENELSAPK,TSENELE,PSENELE,TSENELK,PSENELK,TSENELST,PSENELST,TSENELSAP,PSENELSAP,SENELN,PSENELN\r",
      "\r\n",
      "4,,,,,,,,,,,,,,,,,,,,,,4491850,592719,592268,302432,289836,51%,49%,15.6,68492,12%,331050,59%,160882,29%,31844,5%,187169,32%,405099,68%,111991,19%,540726,91%,,3%,53%,5%,,,,,,,,,,,,,66%,19%,0%,103,73%,23%,0%,104,70%,17%,0%,103,74%,15%,19%,0%,81%,0%,80%,0%,78%,0%,50%,57%,6%,47%,91%,39%,60%,0,50%,55%,5%,6%,0%,1%,17%,2%,7%,0,5%,6%,0,0,0,0,0,0,0,0,0,0,0,0,0,0,0,0,0,0,0,0,0,0,0,0,0,0,0,0,0,0,0,0,0,0,0,0,0,0,0,0,0,0,0,0,0,0,0,0,0,0,0,0,0,0,0,0,0,0,0,0,0,0,0,0,0,0,0,0,0,0,0,0,0,0,0,0,0,0,0,0,0,0,0,0,93,101,109,100,104,94,102,109,101,104,94,103,110,102,105,17%,64%,95%,53%,72%,17%,73%,98%,61%,78%,19%,68%,97%,57%,76%,20%,76%,97%,64%,79%,1%,10%,46%,10%,23%,1%,12%,55%,14%,27%,1%,7%,43%,9%,20%,0%,6%,39%,8%,18%,472757,80%,7520,1%,,14%,,1%,,14%,,2%,,0%,,0%\r",
      "\r\n",
      "5,,,,,,,,,,,,,,,,,,,,,,4406360,585953,586172,299318,286854,51%,49%,15.6,68164,12%,329994,59%,160036,29%,27978,5%,186792,32%,399380,68%,111953,19%,540555,92%,,3%,53%,5%,,,,,,,,,,,,,66%,19%,0%,103,72%,22%,0%,104,70%,17%,0%,103,74%,15%,19%,0%,81%,0%,80%,0%,78%,0%,50%,57%,6%,47%,91%,39%,60%,0,50%,55%,5%,6%,0%,1%,17%,2%,7%,0,5%,6%,-0.3,0,0,0.4,0,0,0,0,0,0,0,0,0,0,0,-0.7,0,0,0.3,0,0,0,0.3,0,0,0,0,0,-0.8,0,0,0.8,0,0,0,0,0,0,0,0,0,0,0,-0.3,0,0,0.1,0,0,0,1.5,0,0,0.1,0,0,0.6,0,0,-0.6,0,0,0,0,0,0,0,0,0,0,0,-0.5,0,0,0.2,0,0,0,2,0,0,0.1,0,0,93,101,109,100,104,94,102,109,101,104,94,103,110,102,105,17%,64%,95%,53%,72%,17%,73%,98%,61%,78%,19%,68%,97%,58%,76%,20%,76%,98%,64%,79%,1%,10%,46%,10%,23%,1%,12%,55%,14%,27%,1%,7%,43%,9%,20%,0%,6%,39%,8%,18%,472288,81%,1931,0%,,15%,,1%,,15%,,2%,,0%,,0%\r",
      "\r\n",
      "1,53372,201,3614,100000,Sir John Cass's Foundation Primary School,St James's Passage,Duke's Place,,London,EC3A 5DE,0207 2831147,0,,,VA,0,Church of England,3-11,,0,0,250,28,28,16,12,57%,43%,16,2,7%,20,71%,6,21%,0,0%,12,43%,16,57%,18,64%,28,100%,0,0%,89%,7%,2.7,0.4,5,100%,2.2,-0.1,4.5,100%,3,1,5,100%,93%,18%,0%,106,96%,18%,0%,106,100%,18%,0%,106,96%,14%,4%,0%,100%,0%,93%,0%,96%,0%,88%,92%,SUPP,90%,100%,83%,94%,23,83%,89%,6%,8%,SUPP,0%,33%,0%,13%,-7,11%,7%,1,-2.1,4.1,4.9,1.3,8.5,SUPP,SUPP,SUPP,1.9,-0.9,4.7,2.8,-2.2,7.8,0.9,-2.7,4.5,4,0.9,7.1,0.6,2.5,-0.4,5.4,2.7,0.4,5,1.3,-1.8,4.4,3.4,-0.2,7,SUPP,SUPP,SUPP,2,-0.8,4.8,2.2,-2.8,7.2,0.3,-3.3,3.9,3.6,0.5,6.7,0.2,2.3,-0.6,5.2,2.2,-0.1,4.5,2.9,0.3,5.5,3.1,0.1,6.1,SUPP,SUPP,SUPP,3.3,1,5.6,0.4,-3.9,4.7,2.9,-0.1,5.9,3,0.4,5.6,2.7,3.1,0.6,5.6,3,1,5,SUPP,104,111,104,107,SUPP,106,108,106,107,SUPP,105,110,105,107,SUPP,90%,100%,92%,94%,SUPP,95%,100%,100%,94%,SUPP,100%,100%,100%,100%,SUPP,100%,100%,92%,100%,SUPP,5%,67%,8%,25%,SUPP,15%,33%,0%,31%,SUPP,15%,33%,8%,25%,SUPP,5%,50%,0%,25%,10,36%,0,0%,5,18%,0,0%,5,18%,0,0%,0,0%,0,0%\r",
      "\r\n",
      "3,,201,,,City of London,,,,,,,,,,,,,,,,,250,28,28,16,12,57%,43%,16,2,7%,20,71%,6,21%,0,0%,12,43%,16,57%,18,64%,28,100%,,0%,89%,7%,2.7,0.4,5,100%,2.2,-0.1,4.5,100%,3,1,5,100%,93%,18%,0%,106,96%,18%,0%,106,100%,18%,0%,106,96%,14%,4%,0%,100%,0%,93%,0%,96%,0%,88%,92%,SUPP,90%,100%,83%,94%,23,83%,89%,6%,8%,SUPP,0%,33%,0%,13%,-7,11%,7%,1,-2.1,4.1,4.9,1.3,8.5,SUPP,SUPP,SUPP,1.9,-0.9,4.7,2.8,-2.2,7.8,0.9,-2.7,4.5,4,0.9,7.1,0.6,2.5,-0.4,5.4,2.7,0.4,5,1.3,-1.8,4.4,3.4,-0.2,7,SUPP,SUPP,SUPP,2,-0.8,4.8,2.2,-2.8,7.2,0.3,-3.3,3.9,3.6,0.5,6.7,0.2,2.3,-0.6,5.2,2.2,-0.1,4.5,2.9,0.3,5.5,3.1,0.1,6.1,SUPP,SUPP,SUPP,3.3,1,5.6,0.4,-3.9,4.7,2.9,-0.1,5.9,3,0.4,5.6,2.7,3.1,0.6,5.6,3,1,5,SUPP,104,111,104,107,SUPP,106,108,106,107,SUPP,105,110,105,107,SUPP,90%,100%,92%,94%,SUPP,95%,100%,100%,94%,SUPP,100%,100%,100%,100%,SUPP,100%,100%,92%,100%,SUPP,5%,67%,8%,25%,SUPP,15%,33%,0%,31%,SUPP,15%,33%,8%,25%,SUPP,5%,50%,0%,25%,10,36%,0,0%,,18%,,0%,,18%,,0%,,0%,,0%\r",
      "\r\n"
     ]
    }
   ],
   "source": [
    " !head -5 'data/2015-2016/england_ks2final.csv'"
   ]
  },
  {
   "cell_type": "code",
   "execution_count": 2,
   "metadata": {},
   "outputs": [
    {
     "name": "stdout",
     "output_type": "stream",
     "text": [
      "16316 data/2015-2016/england_ks2final.csv\r\n"
     ]
    }
   ],
   "source": [
    "# let's look at how many lines of data there are\n",
    "!wc -l 'data/2015-2016/england_ks2final.csv'"
   ]
  },
  {
   "cell_type": "markdown",
   "metadata": {},
   "source": [
    "From the head we can see there are a number of columns and what appears to be some missing data on some lines.  There are over 16000 rows of data.\n",
    "\n",
    "Let's have a quick look at the KS4 data as well."
   ]
  },
  {
   "cell_type": "code",
   "execution_count": 3,
   "metadata": {},
   "outputs": [
    {
     "name": "stdout",
     "output_type": "stream",
     "text": [
      "﻿RECTYPE,ALPHAIND,LEA,ESTAB,URN,SCHNAME,SCHNAME_AC,ADDRESS1,ADDRESS2,ADDRESS3,TOWN,PCODE,TELNUM,CONTFLAG,ICLOSE,NFTYPE,RELDENOM,ADMPOL,EGENDER,FEEDER,TABKS2,TAB1618,AGERANGE,CONFEXAM,TOTPUPS,NUMBOYS,NUMGIRLS,TPUP,BPUP,PBPUP,GPUP,PGPUP,KS2APS,TPRIORLO,PTPRIORLO,TPRIORAV,PTPRIORAV,TPRIORHI,PTPRIORHI,TFSM6CLA1A,PTFSM6CLA1A,TNOTFSM6CLA1A,PTNOTFSM6CLA1A,TEALGRP2,PTEALGRP2,TEALGRP1,PTEALGRP1,TEALGRP3,PTEALGRP3,TNMOB,PTNMOB,SENSE4,PSENSE4,SENAPK4,PSENAPK4,TOTATT8,ATT8SCR,TOTATT8ENG,ATT8SCRENG,TOTATT8MAT,ATT8SCRMAT,TOTATT8EBAC,ATT8SCREBAC,TOTATT8OPEN,ATT8SCROPEN,TOTATT8OPENG,ATT8SCROPENG,TOTATT8OPENNG,ATT8SCROPENNG,P8PUP,P8MEACOV,P8MEA,P8CILOW,P8CIUPP,P8MEAENG,P8MEAENG_CILOW,P8MEAENG_CIUPP,P8MEAMAT,P8MEAMAT_CILOW,P8MEAMAT_CIUPP,P8MEAEBAC,P8MEAEBAC_CILOW,P8MEAEBAC_CIUPP,P8MEAOPEN,P8MEAOPEN_CILOW,P8MEAOPEN_CIUPP,PTL2BASICS_LL_PTQ_EE,PTL2BASICS_3YR_PTQ_EE,TEBACC_E_PTQ_EE,PTEBACC_E_PTQ_EE,PTEBACC_PTQ_EE,TEBACENG_E_PTQ_EE,PTEBACENG_E_PTQ_EE,TEBACMAT_E_PTQ_EE,PTEBACMAT_E_PTQ_EE,TEBAC2SCI_E_PTQ_EE,PTEBAC2SCI_E_PTQ_EE,TEBACHUM_E_PTQ_EE,PTEBACHUM_E_PTQ_EE,TEBACLAN_E_PTQ_EE,PTEBACLAN_E_PTQ_EE,PTEBACENG_LL_PTQ_EE,PTEBACMAT_PTQ_EE,PTEBAC2SCI_PTQ_EE,PTEBACHUM_PTQ_EE,PTEBACLAN_PTQ_EE,SCIVACOV_PTQ_EE,HUMVACOV_PTQ_EE,LANVACOV_PTQ_EE,SCIVAMEA_PTQ_EE,SCIVALOW_PTQ_EE,SCIVAUPP_PTQ_EE,HUMVAMEA_PTQ_EE,HUMVALOW_PTQ_EE,HUMVAUPP_PTQ_EE,LANVAMEA_PTQ_EE,LANVALOW_PTQ_EE,LANVAUPP_PTQ_EE,TEBACENG_LL_PTQ_EE,TEBACMAT_PTQ_EE,TEBAC2SCI_PTQ_EE,TEBACHUM_PTQ_EE,TEBACLAN_PTQ_EE,TEBACCAG_PTQ_EE,PTEBACCAG_PTQ_EE,TEBACENGAG_LL_PTQ_EE,PTEBACENGAG_LL_PTQ_EE,TEBACMATAG_PTQ_EE,PTEBACMATAG_PTQ_EE,TEBAC2SCIAG_PTQ_EE,PTEBAC2SCIAG_PTQ_EE,TEBACHUMAG_PTQ_EE,PTEBACHUMAG_PTQ_EE,TEBACLANAG_PTQ_EE,PTEBACLANAG_PTQ_EE,ATT8SCR_FSM6CLA1A,P8PUP_FSM6CLA1A,P8MEA_FSM6CLA1A,P8CILOW_FSM6CLA1A,P8CIUPP_FSM6CLA1A,ATT8SCR_NFSM6CLA1A,P8PUP_NFSM6CLA1A,P8MEA_NFSM6CLA1A,P8CILOW_NFSM6CLA1A,P8CIUPP_NFSM6CLA1A,ATT8SCRENG_FSM6CLA1A,P8MEAENG_FSM6CLA1A,P8MEAENG_CILOW_FSM6CLA1A,P8MEAENG_CIUPP_FSM6CLA1A,ATT8SCRMAT_FSM6CLA1A,P8MEAMAT_FSM6CLA1A,P8MEAMAT_CILOW_FSM6CLA1A,P8MEAMAT_CIUPP_FSM6CLA1A,ATT8SCREBAC_FSM6CLA1A,P8MEAEBAC_FSM6CLA1A,P8MEAEBAC_CILOW_FSM6CLA1A,P8MEAEBAC_CIUPP_FSM6CLA1A,ATT8SCROPEN_FSM6CLA1A,P8MEAOPEN_FSM6CLA1A,P8MEAOPEN_CILOW_FSM6CLA1A,P8MEAOPEN_CIUPP_FSM6CLA1A,ATT8SCRENG_NFSM6CLA1A,P8MEAENG_NFSM6CLA1A,P8MEAENG_CILOW_NFSM6CLA1A,P8MEAENG_CIUPP_NFSM6CLA1A,ATT8SCRMAT_NFSM6CLA1A,P8MEAMAT_NFSM6CLA1A,P8MEAMAT_CILOW_NFSM6CLA1A,P8MEAMAT_CIUPP_NFSM6CLA1A,ATT8SCREBAC_NFSM6CLA1A,P8MEAEBAC_NFSM6CLA1A,P8MEAEBAC_CILOW_NFSM6CLA1A,P8MEAEBAC_CIUPP_NFSM6CLA1A,ATT8SCROPEN_NFSM6CLA1A,P8MEAOPEN_NFSM6CLA1A,P8MEAOPEN_CILOW_NFSM6CLA1A,P8MEAOPEN_CIUPP_NFSM6CLA1A,ATT8SCROPENG_FSM6CLA1A,ATT8SCROPENNG_FSM6CLA1A,ATT8SCROPENG_NFSM6CLA1A,ATT8SCROPENNG_NFSM6CLA1A,DIFFN_ATT8,DIFFN_P8MEA,ATT8SCR_LO,P8PUP_LO,P8MEA_LO,P8CILOW_LO,P8CIUPP_LO,ATT8SCR_AV,P8PUP_AV,P8MEA_AV,P8CILOW_AV,P8CIUPP_AV,ATT8SCR_HI,P8PUP_HI,P8MEA_HI,P8CILOW_HI,P8CIUPP_HI,ATT8SCR_EAL,P8PUP_EAL,P8MEA_EAL,P8CILOW_EAL,P8CIUPP_EAL,ATT8SCR_GIRLS,P8PUP_GIRLS,P8MEA_GIRLS,P8CILOW_GIRLS,P8CIUPP_GIRLS,ATT8SCR_BOYS,P8PUP_BOYS,P8MEA_BOYS,P8CILOW_BOYS,P8CIUPP_BOYS,ATT8SCR_NMOB,P8PUP_NMOB,P8MEA_NMOB,P8CILOW_NMOB,P8CIUPP_NMOB,ATT8SCR_15,P8PUP_15,P8MEA_15,P8CILOW_15,P8CIUPP_15,TEBACC_ELO_PTQ_EE,PTEBACC_ELO_PTQ_EE,PTEBACCLO_PTQ_EE,TEBACC_EAV_PTQ_EE,PTEBACC_EAV_PTQ_EE,PTEBACCAV_PTQ_EE,TEBACC_EHI_PTQ_EE,PTEBACC_EHI_PTQ_EE,PTEBACCHI_PTQ_EE,PTEBACC_EFSM6CLA1A_PTQ_EE,PTEBACC_ENFSM6CLA1A_PTQ_EE,PTEBACC_FSM6CLA1A_PTQ_EE,PTEBACC_NFSM6CLA1A_PTQ_EE,SCIVAMEA_LO_PTQ_EE,SCIVAMEA_AV_PTQ_EE,SCIVAMEA_HI_PTQ_EE,SCIVAMEA_FSM6CLA1A_PTQ_EE,SCIVAMEA_NFSM6CLA1A_PTQ_EE,HUMVAMEA_LO_PTQ_EE,HUMVAMEA_AV_PTQ_EE,HUMVAMEA_HI_PTQ_EE,HUMVAMEA_FSM6CLA1A_PTQ_EE,HUMVAMEA_NFSM6CLA1A_PTQ_EE,LANVAMEA_LO_PTQ_EE,LANVAMEA_AV_PTQ_EE,LANVAMEA_HI_PTQ_EE,LANVAMEA_FSM6CLA1A_PTQ_EE,LANVAMEA_NFSM6CLA1A_PTQ_EE,SCIVAUPP_FSM6CLA1A_PTQ_EE,SCIVALOW_FSM6CLA1A_PTQ_EE,SCIVAUPP_NFSM6CLA1A_PTQ_EE,SCIVALOW_NFSM6CLA1A_PTQ_EE,SCIVAUPP_LO_PTQ_EE,SCIVALOW_LO_PTQ_EE,SCIVAUPP_AV_PTQ_EE,SCIVALOW_AV_PTQ_EE,SCIVAUPP_HI_PTQ_EE,SCIVALOW_HI_PTQ_EE,HUMVAUPP_FSM6CLA1A_PTQ_EE,HUMVALOW_FSM6CLA1A_PTQ_EE,HUMVAUPP_NFSM6CLA1A_PTQ_EE,HUMVALOW_NFSM6CLA1A_PTQ_EE,HUMVAUPP_LO_PTQ_EE,HUMVALOW_LO_PTQ_EE,HUMVAUPP_AV_PTQ_EE,HUMVALOW_AV_PTQ_EE,HUMVAUPP_HI_PTQ_EE,HUMVALOW_HI_PTQ_EE,LANVAUPP_FSM6CLA1A_PTQ_EE,LANVALOW_FSM6CLA1A_PTQ_EE,LANVAUPP_NFSM6CLA1A_PTQ_EE,LANVALOW_NFSM6CLA1A_PTQ_EE,LANVAUPP_LO_PTQ_EE,LANVALOW_LO_PTQ_EE,LANVAUPP_AV_PTQ_EE,LANVALOW_AV_PTQ_EE,LANVAUPP_HI_PTQ_EE,LANVALOW_HI_PTQ_EE,PTEBACC_E_13,PTEBACC_13,PTEBACC_E_14_PTQ,PTEBACC_14_PTQ,PTEBACC_E_15_PTQ_EE,PTEBACC_15_PTQ_EE,PBEBACC_E_PTQ_EE,PBEBACC_PTQ_EE,PGEBACC_E_PTQ_EE,PGEBACC_PTQ_EE,PTEBACC_ENMOB_PTQ_EE,PTEBACCNMOB_PTQ_EE,PTEBACC_EEAL_PTQ_EE,PTEBACCEAL_PTQ_EE,PTEBACC_EFSM_13,PTEBACC_FSM_13,PTEBACC_ENFSM_13,PTEBACC_NFSM_13,PTEBACC_EFSM_14_PTQ,PTEBACC_FSM_14_PTQ,PTEBACC_ENFSM_14_PTQ,PTEBACC_NFSM_14_PTQ,PTEBACC_EFSM6CLA1A_15_PTQ_EE,PTEBACC_FSM6CLA1A_15_PTQ_EE,PTEBACC_ENFSM6CLA1A_15_PTQ_EE,PTEBACC_NFSM6CLA1A_15_PTQ_EE,PTAC5EM_PTQ_EE,AC5EM13,AC5EM14_PTQ,AC5EM15_PTQ_EE,AC5EM16_PTQ_EE,PTANYQ_PTQ_EE,PTL2BASICS_13,PTL2BASICS_14_PTQ,PTL2BASICS_15_PTQ_EE,PTFSM6CLA1ABASICS_LL_PTQ_EE,PTNOTFSM6CLA1ABASICS_LL_PTQ_EE,TBASICS_LL_LO_PTQ_EE,PTBASICS_LL_LO_PTQ_EE,TBASICS_LL_AV_PTQ_EE,PTBASICS_LL_AV_PTQ_EE,TBASICS_LL_HI_PTQ_EE,PTBASICS_LL_HI_PTQ_EE,PBL2BASICS_LL_PTQ_EE,PGL2BASICS_LL_PTQ_EE,PTL2BASICS_LL_EAL_PTQ_EE,PTL2BASICS_LL_NMOB_PTQ_EE,PTFSMBASICS_13,PTNOTFSMBASICS_13,PTFSMBASICS_14_PTQ,PTNOTFSMBASICS_14_PTQ,PTFSM6CLA1ABASICS_15_PTQ_EE,PTNOTFSM6CLA1ABASICS_15_PTQ_EE,PTmultiLan_E,PTtripleSci_E,TFSMCLA_13,PTFSMCLA_13,TNOTFSMCLA_13,PTNOTFSMCLA_13,TFSMCLA_14,PTFSMCLA_14,TNOTFSMCLA_14,PTNOTFSMCLA_14,TFSM6CLA1A_15,PTFSM6CLA1A_15,TNOTFSM6CLA1A_15,PTNOTFSM6CLA1A_15,TAVENT_E_3NG_PTQ_EE,TAVENT_E_3NG_LO_PTQ_EE,TAVENT_E_3NG_AV_PTQ_EE,TAVENT_E_3NG_HI_PTQ_EE,TAVENT_E_3NG_FSM6CLA1A_PTQ_EE,TAVENT_E_3NG_NFSM6CLA1A_PTQ_EE,TAVENT_EFSM_13,TAVENT_ENFSM_13,TAVENT_EFSM_14_PTQ,TAVENT_ENFSM_14_PTQ,TAVENT_EFSM6CLA1A_15_PTQ_EE,TAVENT_ENFSM6CLA1A_15_PTQ_EE,TAVENT_G_PTQ_EE,TAVENT_GLO_PTQ_EE,TAVENT_GAV_PTQ_EE,TAVENT_GHI_PTQ_EE,TAVENT_GFSM6CLA1A_PTQ_EE,TAVENT_GNFSM6CLA1A_PTQ_EE,TAVENT_GFSM_13,TAVENT_GNFSM_13,TAVENT_GFSM_14_PTQ,TAVENT_GNFSM_14_PTQ,TAVENT_GFSM6CLA1A_15_PTQ_EE,TAVENT_GNFSM6CLA1A_15_PTQ_EE\r",
      "\r\n",
      "1,11828,201,6007,100003,City of London School, ,Queen Victoria Street, , ,London,EC4V 3AL,0207 4890291,0,0,IND,None, ,BOYS,0,0,1,10-18, ,918,918,NA,139,139,100%,NA,NA,NP,NP,NP,NP,NP,NP,NP,NP,NP,NP,NP,NP,NP,NP,NP,NP,NP,NP,NP,NA,NA,NA,NA,5849,42.1,1012,7.3,0,0,3085.3,22.2,1751.8,12.6,1452.5,10.4,299.3,2.2,NP,NP,NP,NP,NP,NP,NP,NP,NP,NP,NP,NP,NP,NP,NP,NP,NP,0%,0%,0,0%,0%,0,0%,0,0%,0,0%,135,97%,139,100%,0%,0%,NE,100%,100%,NP,NP,NP,NP,NP,NP,NP,NP,NP,NP,NP,NP,0,0,NE,135,139,0,0%,0,0%,0,0%,NE,NE,135,100%,139,100%,NP,NP,NP,NP,NP,NP,NP,NP,NP,NP,NP,NP,NP,NP,NP,NP,NP,NP,NP,NP,NP,NP,NP,NP,NP,NP,NP,NP,NP,NP,NP,NP,NP,NP,NP,NP,NP,NP,NP,NP,NP,NP,NP,NP,NP,NP,NP,NP,NP,NP,NP,NP,NP,NP,NP,NP,NP,NP,NP,NP,NP,NP,NP,NP,NP,NP,NP,NP,NA,NA,NA,NA,NA,42.1,NP,NP,NP,NP,NP,NP,NP,NP,NP,NA,NA,NA,NA,NA,NP,NP,NP,NP,NP,NP,NP,NP,NP,NP,NP,NP,NP,NP,NP,NP,NP,NP,NP,NP,NP,NP,NP,NP,NP,NP,NP,NP,NP,NP,NP,NP,NP,NP,NP,NP,NP,NP,NP,NP,NP,NP,NP,NP,NP,NP,NP,NP,NP,NP,NP,NP,NP,NP,NP,NP,NP,NP,0%,0%,0%,0%,0%,0%,0%,0%,NE,NE,NP,NP,NP,NP,NA,NA,NA,NA,NA,NA,NA,NA,NA,NA,NA,NA,0%,0%,0%,0%,0%,100%,0%,0%,0%,NP,NP,NP,NP,NP,NP,NP,NP,0%,NE,NP,NP,NA,NA,NA,NA,NA,NA,68%,0%,NA,NA,NA,NA,NA,NA,NA,NA,NA,NA,NA,NA,5.6,NP,NP,NP,NP,NP,NA,NA,NA,NA,NA,NA,5.3,NP,NP,NP,NP,NP,NA,NA,NA,NA,NA,NA\r",
      "\r\n",
      "1,11830,201,6005,100001,City of London School for Girls, ,St Giles' Terrace,Barbican, ,London,EC2Y 8BB,0207 8475500,0,0,IND,None, ,GIRLS,0,0,1,7-18, ,730,NA,730,90,NA,NA,90,100%,NP,NP,NP,NP,NP,NP,NP,NP,NP,NP,NP,NP,NP,NP,NP,NP,NP,NP,NP,NA,NA,NA,NA,2900.3,32.2,0,0,19,0.2,1517.5,16.9,1363.8,15.2,1172.8,13,191,2.1,NP,NP,NP,NP,NP,NP,NP,NP,NP,NP,NP,NP,NP,NP,NP,NP,NP,0%,0%,0,0%,0%,0,0%,1,1%,0,0%,64,71%,79,88%,0%,1%,NE,100%,100%,NP,NP,NP,NP,NP,NP,NP,NP,NP,NP,NP,NP,0,1,NE,64,79,0,0%,0,0%,1,1%,NE,NE,64,100%,79,100%,NP,NP,NP,NP,NP,NP,NP,NP,NP,NP,NP,NP,NP,NP,NP,NP,NP,NP,NP,NP,NP,NP,NP,NP,NP,NP,NP,NP,NP,NP,NP,NP,NP,NP,NP,NP,NP,NP,NP,NP,NP,NP,NP,NP,NP,NP,NP,NP,NP,NP,NP,NP,NP,NP,NP,NP,NP,NP,NP,NP,NP,NP,NP,NP,NP,NP,NP,NP,32.2,NP,NP,NP,NP,NA,NA,NA,NA,NA,NP,NP,NP,NP,NP,NA,NA,NA,NA,NA,NP,NP,NP,NP,NP,NP,NP,NP,NP,NP,NP,NP,NP,NP,NP,NP,NP,NP,NP,NP,NP,NP,NP,NP,NP,NP,NP,NP,NP,NP,NP,NP,NP,NP,NP,NP,NP,NP,NP,NP,NP,NP,NP,NP,NP,NP,NP,NP,NP,NP,NP,NP,NP,NP,NP,NP,NP,NP,68%,68%,0%,0%,0%,0%,NE,NE,0%,0%,NP,NP,NP,NP,NA,NA,NA,NA,NA,NA,NA,NA,NA,NA,NA,NA,0%,100%,0%,0%,0%,99%,100%,0%,0%,NP,NP,NP,NP,NP,NP,NP,NP,NE,0%,NP,NP,NA,NA,NA,NA,NA,NA,42%,0%,NA,NA,NA,NA,NA,NA,NA,NA,NA,NA,NA,NA,4.2,NP,NP,NP,NP,NP,NA,NA,NA,NA,NA,NA,3.9,NP,NP,NP,NP,NP,NA,NA,NA,NA,NA,NA\r",
      "\r\n",
      "4, ,201, , , , , , , , , , , , , , , , , , , ,, , , , , , , , , , , , , , , , , , , , , , , , , , , , , , , , , , , , , , , , , , , , , , , , , , , , , , , , , , , , , , , , , , , , , , , , , , , , , , , , , , , , , , , , , , , , , , , , , , , , , , , , , , , , , , , , , , , , , , , , , , , , , , , , , , , , , , , , , , , , , , , , , , , , , , , , , , , , , , , , , , , , , , , , , , , , , , , , , , , , , , , , , , , , , , , , , , , , , , , , , , , , , , , , , , , , , , , , , , , , , , , , , , , , , , , , , , , , , , , , , , , , , , , , , , , , , , , , , , , , , , , , , , , , , , , , , , , , , , , , , , , , , , , , , , , , , , , , , , , , , , , , , , , , , , , , , , , , , , , , , , , , , , , , , , , , , , , , , , , , , , , , , , , , , \r",
      "\r\n",
      "1,368,202,4285,100053,Acland Burghley School, ,Burghley Road, , ,London,NW5 1UJ,0207 4858515,0,0,CY,Does not apply,COMP,MIXED,1,0,1,11-18, ,974,628,346,172,109,63%,63,37%,28.3,22,13%,81,48%,66,39%,98,57%,74,43%,55,32%,117,68%,0,0%,166,97%,9,5%,9,5%,8622.5,50.1,1900,11,1700,9.9,2443,14.2,2579.5,15,2496,14.5,83.5,0.5,169,98%,-0.26,-0.42,-0.1,-0.02,-0.19,0.15,-0.26,-0.44,-0.07,-0.15,-0.36,0.06,-0.53,-0.72,-0.35,60%,59%,74,43%,30%,170,99%,168,98%,139,81%,131,76%,96,56%,81%,62%,75%,63%,77%,100%,99%,99%,-0.06,-0.24,0.12,-0.21,-0.46,0.04,0.31,0.03,0.58,140,107,104,83,74,74,43%,170,99%,162,94%,137,99%,131,100%,96,100%,44.6,96,-0.38,-0.59,-0.16,57.4,73,-0.1,-0.35,0.14,10.1,-0.13,-0.35,0.1,8.6,-0.4,-0.65,-0.16,12.3,-0.23,-0.51,0.05,13.6,-0.67,-0.92,-0.43,12.3,0.13,-0.13,0.39,11.6,-0.06,-0.34,0.22,16.7,-0.04,-0.36,0.28,16.9,-0.35,-0.64,-0.07,12.8,0.8,16.8,0.1,-8.7,-0.48,26,22,-0.75,-1.19,-0.3,46.8,81,-0.21,-0.44,0.02,63.1,66,-0.16,-0.41,0.1,49.9,53,-0.13,-0.41,0.16,50.5,61,-0.13,-0.39,0.14,49.9,108,-0.33,-0.53,-0.13,50.6,164,-0.23,-0.39,-0.07,NA,NA,NA,NA,NA,1,5%,0%,28,35%,15%,45,68%,61%,33%,57%,21%,42%,-0.18,0.09,-0.2,-0.03,-0.09,0.36,-0.37,-0.17,-0.33,-0.04,SUPP,0.34,0.31,0.31,0.3,0.23,-0.28,0.16,-0.34,0.57,-0.92,0.34,-0.17,0.07,-0.46,0,-0.67,0.33,-0.42,1.18,-0.46,0.01,-0.75,0.19,-0.53,0.71,-0.09,0.68,-0.08,SUPP,SUPP,0.76,-0.08,0.7,-0.07,48%,30%,57%,34%,57%,37%,42%,31%,44%,29%,44%,31%,49%,33%,29%,12%,72%,51%,46%,21%,71%,51%,44%,26%,73%,51%,53%,57%,57%,56%,53%,99%,59%,59%,56%,47%,78%,2,9%,38,47%,63,95%,63%,56%,58%,61%,43%,78%,44%,77%,45%,71%,3%,32%,97,54%,81,46%,97,55%,79,45%,94,56%,75,44%,9.1,6.9,9.1,9.9,8.7,9.6,8.7,9.9,9.2,10.3,9.7,11.5,8.8,6.1,8.9,9.8,8.4,9.5,8.1,9.8,9,10.2,8.4,10.6\r",
      "\r\n"
     ]
    }
   ],
   "source": [
    " !head -5 'data/2015-2016/england_ks4final.csv'"
   ]
  },
  {
   "cell_type": "code",
   "execution_count": 4,
   "metadata": {},
   "outputs": [
    {
     "name": "stdout",
     "output_type": "stream",
     "text": [
      "5489 data/2015-2016/england_ks4final.csv\r\n"
     ]
    }
   ],
   "source": [
    "# let's look at how many lines of data there are\n",
    "!wc -l 'data/2015-2016/england_ks4final.csv'"
   ]
  },
  {
   "cell_type": "markdown",
   "metadata": {},
   "source": [
    "The KS4 data looks to have more missing data than the KS2 data, indicated by the number of `,`.  At almost 5500 lines it is a far smaller dataset.\n",
    "\n",
    "I'll have a quick look at both files in open refine to see if it needs cleaning."
   ]
  },
  {
   "cell_type": "markdown",
   "metadata": {},
   "source": [
    "# TODO - OpenRefine"
   ]
  },
  {
   "cell_type": "markdown",
   "metadata": {},
   "source": [
    "# Import into MongoDB\n",
    "\n",
    "Due to the size of the datasets I will import them into MongoDB to help with the organisation and access to the data during the investigation."
   ]
  },
  {
   "cell_type": "code",
   "execution_count": 5,
   "metadata": {
    "collapsed": true
   },
   "outputs": [],
   "source": [
    "# import required libraries\n",
    "import pymongo\n",
    "import bson\n",
    "\n",
    "import pandas as pd"
   ]
  },
  {
   "cell_type": "code",
   "execution_count": 6,
   "metadata": {},
   "outputs": [
    {
     "name": "stdout",
     "output_type": "stream",
     "text": [
      "2018-05-11T16:50:09.280+0000\tconnected to: localhost:27351\n",
      "2018-05-11T16:50:09.281+0000\tdropping: schools.ks2results\n",
      "2018-05-11T16:50:12.279+0000\t[##############..........] schools.ks2results\t10.1MB/16.5MB (61.3%)\n",
      "2018-05-11T16:50:14.397+0000\t[########################] schools.ks2results\t16.5MB/16.5MB (100.0%)\n",
      "2018-05-11T16:50:14.398+0000\timported 16316 documents\n"
     ]
    }
   ],
   "source": [
    "# import the KS2 results data\n",
    "!/usr/bin/mongoimport --port 27351 --drop --db schools --collection ks2results \\\n",
    "    --type csv --headerline --ignoreBlanks \\\n",
    "    --file data/2015-2016/england_ks2final.csv"
   ]
  },
  {
   "cell_type": "markdown",
   "metadata": {},
   "source": [
    "\n",
    "That looks good the database has 16316 documents as expected from the line count.  Let's check they look ok."
   ]
  },
  {
   "cell_type": "code",
   "execution_count": 7,
   "metadata": {},
   "outputs": [
    {
     "name": "stdout",
     "output_type": "stream",
     "text": [
      "2018-05-11T16:50:14.533+0000\tconnected to: localhost:27351\n",
      "2018-05-11T16:50:14.533+0000\tdropping: schools.ks4results\n",
      "2018-05-11T16:50:16.520+0000\timported 5489 documents\n"
     ]
    }
   ],
   "source": [
    "# import the KS4 results data\n",
    "!/usr/bin/mongoimport --port 27351 --drop --db schools --collection ks4results \\\n",
    "    --type csv --headerline --ignoreBlanks \\\n",
    "    --file data/2015-2016/england_ks4final.csv"
   ]
  },
  {
   "cell_type": "markdown",
   "metadata": {},
   "source": [
    "That looks good too, 5489 documents as expected."
   ]
  },
  {
   "cell_type": "code",
   "execution_count": 8,
   "metadata": {
    "collapsed": true
   },
   "outputs": [],
   "source": [
    "# open a connection to the mongo server\n",
    "client = pymongo.MongoClient('mongodb://localhost:27351')"
   ]
  },
  {
   "cell_type": "code",
   "execution_count": 9,
   "metadata": {
    "collapsed": true
   },
   "outputs": [],
   "source": [
    "# open the imported database and collections\n",
    "db = client.schools\n",
    "ks2 = db.ks2results\n",
    "ks4 = db.ks4results"
   ]
  },
  {
   "cell_type": "code",
   "execution_count": 10,
   "metadata": {},
   "outputs": [
    {
     "data": {
      "text/plain": [
       "(16316, 5489)"
      ]
     },
     "execution_count": 10,
     "metadata": {},
     "output_type": "execute_result"
    }
   ],
   "source": [
    "# double check that we have all the documents\n",
    "ks2.find().count(), ks4.find().count()"
   ]
  },
  {
   "cell_type": "code",
   "execution_count": 11,
   "metadata": {},
   "outputs": [
    {
     "data": {
      "text/plain": [
       "{'BELIG': 302432,\n",
       " 'DIFFN_MATPROG': 0,\n",
       " 'DIFFN_READPROG': 0,\n",
       " 'DIFFN_RWM_EXP': 0,\n",
       " 'DIFFN_RWM_HIGH': 0,\n",
       " 'DIFFN_WRITPROG': 0,\n",
       " 'GELIG': 289836,\n",
       " 'GPS_AVERAGE': 104,\n",
       " 'GPS_AVERAGE_FSM6CLA1A': 102,\n",
       " 'GPS_AVERAGE_H': 110,\n",
       " 'GPS_AVERAGE_L': 94,\n",
       " 'GPS_AVERAGE_M': 103,\n",
       " 'GPS_AVERAGE_NotFSM6CLA1A': 105,\n",
       " 'MATPROG_B': 0,\n",
       " 'MATPROG_B_LOWER': 0,\n",
       " 'MATPROG_B_UPPER': 0,\n",
       " 'MATPROG_EAL': 0,\n",
       " 'MATPROG_EAL_LOWER': 0,\n",
       " 'MATPROG_EAL_UPPER': 0,\n",
       " 'MATPROG_FSM6CLA1A': 0,\n",
       " 'MATPROG_FSM6CLA1A_LOWER': 0,\n",
       " 'MATPROG_FSM6CLA1A_UPPER': 0,\n",
       " 'MATPROG_G': 0,\n",
       " 'MATPROG_G_LOWER': 0,\n",
       " 'MATPROG_G_UPPER': 0,\n",
       " 'MATPROG_H': 0,\n",
       " 'MATPROG_H_LOWER': 0,\n",
       " 'MATPROG_H_UPPER': 0,\n",
       " 'MATPROG_L': 0,\n",
       " 'MATPROG_L_LOWER': 0,\n",
       " 'MATPROG_L_UPPER': 0,\n",
       " 'MATPROG_M': 0,\n",
       " 'MATPROG_MOBN': 0,\n",
       " 'MATPROG_MOBN_LOWER': 0,\n",
       " 'MATPROG_MOBN_UPPER': 0,\n",
       " 'MATPROG_M_LOWER': 0,\n",
       " 'MATPROG_M_UPPER': 0,\n",
       " 'MATPROG_NotFSM6CLA1A': 0,\n",
       " 'MATPROG_NotFSM6CLA1A_LOWER': 0,\n",
       " 'MATPROG_NotFSM6CLA1A_UPPER': 0,\n",
       " 'MAT_AVERAGE': 103,\n",
       " 'MAT_AVERAGE_FSM6CLA1A': 101,\n",
       " 'MAT_AVERAGE_H': 109,\n",
       " 'MAT_AVERAGE_L': 94,\n",
       " 'MAT_AVERAGE_M': 102,\n",
       " 'MAT_AVERAGE_NotFSM6CLA1A': 104,\n",
       " 'PBELIG': '51%',\n",
       " 'PGELIG': '49%',\n",
       " 'PSENELE': '1%',\n",
       " 'PSENELK': '14%',\n",
       " 'PSENELN': '0%',\n",
       " 'PSENELSAP': '0%',\n",
       " 'PSENELSAPK': '14%',\n",
       " 'PSENELSE': '3%',\n",
       " 'PSENELST': '2%',\n",
       " 'PTEALGRP1': '80%',\n",
       " 'PTEALGRP2': '19%',\n",
       " 'PTEALGRP3': '1%',\n",
       " 'PTFSM6CLA1A': '32%',\n",
       " 'PTGPS_AT': '0%',\n",
       " 'PTGPS_EXP': '73%',\n",
       " 'PTGPS_EXP_FSM6CLA1A': '61%',\n",
       " 'PTGPS_EXP_H': '98%',\n",
       " 'PTGPS_EXP_L': '17%',\n",
       " 'PTGPS_EXP_M': '73%',\n",
       " 'PTGPS_EXP_NotFSM6CLA1A': '78%',\n",
       " 'PTGPS_HIGH': '23%',\n",
       " 'PTGPS_HIGH_FSM6CLA1A': '14%',\n",
       " 'PTGPS_HIGH_H': '55%',\n",
       " 'PTGPS_HIGH_L': '1%',\n",
       " 'PTGPS_HIGH_M': '12%',\n",
       " 'PTGPS_HIGH_NotFSM6CLA1A': '27%',\n",
       " 'PTKS1GROUP_H': '29%',\n",
       " 'PTKS1GROUP_L': '12%',\n",
       " 'PTKS1GROUP_M': '59%',\n",
       " 'PTKS1GROUP_NA': '5%',\n",
       " 'PTMATTA_AD': '0%',\n",
       " 'PTMATTA_EXP': '78%',\n",
       " 'PTMAT_AT': '0%',\n",
       " 'PTMAT_EXP': '70%',\n",
       " 'PTMAT_EXP_FSM6CLA1A': '57%',\n",
       " 'PTMAT_EXP_H': '97%',\n",
       " 'PTMAT_EXP_L': '19%',\n",
       " 'PTMAT_EXP_M': '68%',\n",
       " 'PTMAT_EXP_NotFSM6CLA1A': '76%',\n",
       " 'PTMAT_HIGH': '17%',\n",
       " 'PTMAT_HIGH_FSM6CLA1A': '9%',\n",
       " 'PTMAT_HIGH_H': '43%',\n",
       " 'PTMAT_HIGH_L': '1%',\n",
       " 'PTMAT_HIGH_M': '7%',\n",
       " 'PTMAT_HIGH_NotFSM6CLA1A': '20%',\n",
       " 'PTMOBN': '91%',\n",
       " 'PTNotFSM6CLA1A': '68%',\n",
       " 'PTREADTA_AD': '0%',\n",
       " 'PTREADTA_EXP': '80%',\n",
       " 'PTREAD_AT': '0%',\n",
       " 'PTREAD_EXP': '66%',\n",
       " 'PTREAD_EXP_FSM6CLA1A': '53%',\n",
       " 'PTREAD_EXP_H': '95%',\n",
       " 'PTREAD_EXP_L': '17%',\n",
       " 'PTREAD_EXP_M': '64%',\n",
       " 'PTREAD_EXP_NotFSM6CLA1A': '72%',\n",
       " 'PTREAD_HIGH': '19%',\n",
       " 'PTREAD_HIGH_FSM6CLA1A': '10%',\n",
       " 'PTREAD_HIGH_H': '46%',\n",
       " 'PTREAD_HIGH_L': '1%',\n",
       " 'PTREAD_HIGH_M': '10%',\n",
       " 'PTREAD_HIGH_NotFSM6CLA1A': '23%',\n",
       " 'PTRWM_EXP': '53%',\n",
       " 'PTRWM_EXP_B': '50%',\n",
       " 'PTRWM_EXP_EAL': '50%',\n",
       " 'PTRWM_EXP_FSM6CLA1A': '39%',\n",
       " 'PTRWM_EXP_G': '57%',\n",
       " 'PTRWM_EXP_H': '91%',\n",
       " 'PTRWM_EXP_L': '6%',\n",
       " 'PTRWM_EXP_M': '47%',\n",
       " 'PTRWM_EXP_MOBN': '55%',\n",
       " 'PTRWM_EXP_NotFSM6CLA1A': '60%',\n",
       " 'PTRWM_HIGH': '5%',\n",
       " 'PTRWM_HIGH_B': '5%',\n",
       " 'PTRWM_HIGH_EAL': '5%',\n",
       " 'PTRWM_HIGH_FSM6CLA1A': '2%',\n",
       " 'PTRWM_HIGH_G': '6%',\n",
       " 'PTRWM_HIGH_H': '17%',\n",
       " 'PTRWM_HIGH_L': '0%',\n",
       " 'PTRWM_HIGH_M': '1%',\n",
       " 'PTRWM_HIGH_MOBN': '6%',\n",
       " 'PTRWM_HIGH_NotFSM6CLA1A': '7%',\n",
       " 'PTSCITA_AD': '0%',\n",
       " 'PTSCITA_EXP': '81%',\n",
       " 'PTWRITTA_AD': '0%',\n",
       " 'PTWRITTA_EXP': '74%',\n",
       " 'PTWRITTA_EXP_FSM6CLA1A': '64%',\n",
       " 'PTWRITTA_EXP_H': '97%',\n",
       " 'PTWRITTA_EXP_L': '20%',\n",
       " 'PTWRITTA_EXP_M': '76%',\n",
       " 'PTWRITTA_EXP_NotFSM6CLA1A': '79%',\n",
       " 'PTWRITTA_HIGH': '15%',\n",
       " 'PTWRITTA_HIGH_FSM6CLA1A': '8%',\n",
       " 'PTWRITTA_HIGH_H': '39%',\n",
       " 'PTWRITTA_HIGH_L': '0%',\n",
       " 'PTWRITTA_HIGH_M': '6%',\n",
       " 'PTWRITTA_HIGH_NotFSM6CLA1A': '18%',\n",
       " 'PTWRITTA_WTS': '19%',\n",
       " 'READPROG_B': 0,\n",
       " 'READPROG_B_LOWER': 0,\n",
       " 'READPROG_B_UPPER': 0,\n",
       " 'READPROG_EAL': 0,\n",
       " 'READPROG_EAL_LOWER': 0,\n",
       " 'READPROG_EAL_UPPER': 0,\n",
       " 'READPROG_FSM6CLA1A': 0,\n",
       " 'READPROG_FSM6CLA1A_LOWER': 0,\n",
       " 'READPROG_FSM6CLA1A_UPPER': 0,\n",
       " 'READPROG_G': 0,\n",
       " 'READPROG_G_LOWER': 0,\n",
       " 'READPROG_G_UPPER': 0,\n",
       " 'READPROG_H': 0,\n",
       " 'READPROG_H_LOWER': 0,\n",
       " 'READPROG_H_UPPER': 0,\n",
       " 'READPROG_L': 0,\n",
       " 'READPROG_L_LOWER': 0,\n",
       " 'READPROG_L_UPPER': 0,\n",
       " 'READPROG_M': 0,\n",
       " 'READPROG_MOBN': 0,\n",
       " 'READPROG_MOBN_LOWER': 0,\n",
       " 'READPROG_MOBN_UPPER': 0,\n",
       " 'READPROG_M_LOWER': 0,\n",
       " 'READPROG_M_UPPER': 0,\n",
       " 'READPROG_NotFSM6CLA1A': 0,\n",
       " 'READPROG_NotFSM6CLA1A_LOWER': 0,\n",
       " 'READPROG_NotFSM6CLA1A_UPPER': 0,\n",
       " 'READ_AVERAGE': 103,\n",
       " 'READ_AVERAGE_FSM6CLA1A': 100,\n",
       " 'READ_AVERAGE_H': 109,\n",
       " 'READ_AVERAGE_L': 93,\n",
       " 'READ_AVERAGE_M': 101,\n",
       " 'READ_AVERAGE_NotFSM6CLA1A': 104,\n",
       " 'RECTYPE': 4,\n",
       " 'TEALGRP1': 472757,\n",
       " 'TEALGRP2': 111991,\n",
       " 'TEALGRP3': 7520,\n",
       " 'TELIG': 592268,\n",
       " 'TFSM6CLA1A': 187169,\n",
       " 'TKS1AVERAGE': 15.6,\n",
       " 'TKS1GROUP_H': 160882,\n",
       " 'TKS1GROUP_L': 68492,\n",
       " 'TKS1GROUP_M': 331050,\n",
       " 'TKS1GROUP_NA': 31844,\n",
       " 'TMOBN': 540726,\n",
       " 'TNotFSM6CLA1A': 405099,\n",
       " 'TOTPUPS': 4491850,\n",
       " 'TPUPYEAR': 592719,\n",
       " 'WRITPROG_B': 0,\n",
       " 'WRITPROG_B_LOWER': 0,\n",
       " 'WRITPROG_B_UPPER': 0,\n",
       " 'WRITPROG_EAL': 0,\n",
       " 'WRITPROG_EAL_LOWER': 0,\n",
       " 'WRITPROG_EAL_UPPER': 0,\n",
       " 'WRITPROG_FSM6CLA1A': 0,\n",
       " 'WRITPROG_FSM6CLA1A_LOWER': 0,\n",
       " 'WRITPROG_FSM6CLA1A_UPPER': 0,\n",
       " 'WRITPROG_G': 0,\n",
       " 'WRITPROG_G_LOWER': 0,\n",
       " 'WRITPROG_G_UPPER': 0,\n",
       " 'WRITPROG_H': 0,\n",
       " 'WRITPROG_H_LOWER': 0,\n",
       " 'WRITPROG_H_UPPER': 0,\n",
       " 'WRITPROG_L': 0,\n",
       " 'WRITPROG_L_LOWER': 0,\n",
       " 'WRITPROG_L_UPPER': 0,\n",
       " 'WRITPROG_M': 0,\n",
       " 'WRITPROG_MOBN': 0,\n",
       " 'WRITPROG_MOBN_LOWER': 0,\n",
       " 'WRITPROG_MOBN_UPPER': 0,\n",
       " 'WRITPROG_M_LOWER': 0,\n",
       " 'WRITPROG_M_UPPER': 0,\n",
       " 'WRITPROG_NotFSM6CLA1A': 0,\n",
       " 'WRITPROG_NotFSM6CLA1A_LOWER': 0,\n",
       " 'WRITPROG_NotFSM6CLA1A_UPPER': 0,\n",
       " '_id': ObjectId('5af5c9c15e6c7b1cb1c4ba68')}"
      ]
     },
     "execution_count": 11,
     "metadata": {},
     "output_type": "execute_result"
    }
   ],
   "source": [
    "ks2.find_one()"
   ]
  },
  {
   "cell_type": "code",
   "execution_count": 12,
   "metadata": {},
   "outputs": [
    {
     "data": {
      "text/plain": [
       "{'AC5EM13': '0%',\n",
       " 'AC5EM14_PTQ': '0%',\n",
       " 'AC5EM15_PTQ_EE': '0%',\n",
       " 'AC5EM16_PTQ_EE': '0%',\n",
       " 'ADDRESS1': 'Queen Victoria Street',\n",
       " 'AGERANGE': '10-18',\n",
       " 'ALPHAIND': 11828,\n",
       " 'ATT8SCR': 42.1,\n",
       " 'ATT8SCREBAC': 22.2,\n",
       " 'ATT8SCREBAC_FSM6CLA1A': 'NP',\n",
       " 'ATT8SCREBAC_NFSM6CLA1A': 'NP',\n",
       " 'ATT8SCRENG': 7.3,\n",
       " 'ATT8SCRENG_FSM6CLA1A': 'NP',\n",
       " 'ATT8SCRENG_NFSM6CLA1A': 'NP',\n",
       " 'ATT8SCRMAT': 0,\n",
       " 'ATT8SCRMAT_FSM6CLA1A': 'NP',\n",
       " 'ATT8SCRMAT_NFSM6CLA1A': 'NP',\n",
       " 'ATT8SCROPEN': 12.6,\n",
       " 'ATT8SCROPENG': 10.4,\n",
       " 'ATT8SCROPENG_FSM6CLA1A': 'NP',\n",
       " 'ATT8SCROPENG_NFSM6CLA1A': 'NP',\n",
       " 'ATT8SCROPENNG': 2.2,\n",
       " 'ATT8SCROPENNG_FSM6CLA1A': 'NP',\n",
       " 'ATT8SCROPENNG_NFSM6CLA1A': 'NP',\n",
       " 'ATT8SCROPEN_FSM6CLA1A': 'NP',\n",
       " 'ATT8SCROPEN_NFSM6CLA1A': 'NP',\n",
       " 'ATT8SCR_15': 'NA',\n",
       " 'ATT8SCR_AV': 'NP',\n",
       " 'ATT8SCR_BOYS': 42.1,\n",
       " 'ATT8SCR_EAL': 'NP',\n",
       " 'ATT8SCR_FSM6CLA1A': 'NP',\n",
       " 'ATT8SCR_GIRLS': 'NA',\n",
       " 'ATT8SCR_HI': 'NP',\n",
       " 'ATT8SCR_LO': 'NP',\n",
       " 'ATT8SCR_NFSM6CLA1A': 'NP',\n",
       " 'ATT8SCR_NMOB': 'NP',\n",
       " 'BPUP': 139,\n",
       " 'CONTFLAG': 0,\n",
       " 'DIFFN_ATT8': 'NP',\n",
       " 'DIFFN_P8MEA': 'NP',\n",
       " 'EGENDER': 'BOYS',\n",
       " 'ESTAB': 6007,\n",
       " 'FEEDER': 0,\n",
       " 'GPUP': 'NA',\n",
       " 'HUMVACOV_PTQ_EE': 'NP',\n",
       " 'HUMVALOW_AV_PTQ_EE': 'NP',\n",
       " 'HUMVALOW_FSM6CLA1A_PTQ_EE': 'NP',\n",
       " 'HUMVALOW_HI_PTQ_EE': 'NP',\n",
       " 'HUMVALOW_LO_PTQ_EE': 'NP',\n",
       " 'HUMVALOW_NFSM6CLA1A_PTQ_EE': 'NP',\n",
       " 'HUMVALOW_PTQ_EE': 'NP',\n",
       " 'HUMVAMEA_AV_PTQ_EE': 'NP',\n",
       " 'HUMVAMEA_FSM6CLA1A_PTQ_EE': 'NP',\n",
       " 'HUMVAMEA_HI_PTQ_EE': 'NP',\n",
       " 'HUMVAMEA_LO_PTQ_EE': 'NP',\n",
       " 'HUMVAMEA_NFSM6CLA1A_PTQ_EE': 'NP',\n",
       " 'HUMVAMEA_PTQ_EE': 'NP',\n",
       " 'HUMVAUPP_AV_PTQ_EE': 'NP',\n",
       " 'HUMVAUPP_FSM6CLA1A_PTQ_EE': 'NP',\n",
       " 'HUMVAUPP_HI_PTQ_EE': 'NP',\n",
       " 'HUMVAUPP_LO_PTQ_EE': 'NP',\n",
       " 'HUMVAUPP_NFSM6CLA1A_PTQ_EE': 'NP',\n",
       " 'HUMVAUPP_PTQ_EE': 'NP',\n",
       " 'ICLOSE': 0,\n",
       " 'KS2APS': 'NP',\n",
       " 'LANVACOV_PTQ_EE': 'NP',\n",
       " 'LANVALOW_AV_PTQ_EE': 'NP',\n",
       " 'LANVALOW_FSM6CLA1A_PTQ_EE': 'NP',\n",
       " 'LANVALOW_HI_PTQ_EE': 'NP',\n",
       " 'LANVALOW_LO_PTQ_EE': 'NP',\n",
       " 'LANVALOW_NFSM6CLA1A_PTQ_EE': 'NP',\n",
       " 'LANVALOW_PTQ_EE': 'NP',\n",
       " 'LANVAMEA_AV_PTQ_EE': 'NP',\n",
       " 'LANVAMEA_FSM6CLA1A_PTQ_EE': 'NP',\n",
       " 'LANVAMEA_HI_PTQ_EE': 'NP',\n",
       " 'LANVAMEA_LO_PTQ_EE': 'NP',\n",
       " 'LANVAMEA_NFSM6CLA1A_PTQ_EE': 'NP',\n",
       " 'LANVAMEA_PTQ_EE': 'NP',\n",
       " 'LANVAUPP_AV_PTQ_EE': 'NP',\n",
       " 'LANVAUPP_FSM6CLA1A_PTQ_EE': 'NP',\n",
       " 'LANVAUPP_HI_PTQ_EE': 'NP',\n",
       " 'LANVAUPP_LO_PTQ_EE': 'NP',\n",
       " 'LANVAUPP_NFSM6CLA1A_PTQ_EE': 'NP',\n",
       " 'LANVAUPP_PTQ_EE': 'NP',\n",
       " 'LEA': 201,\n",
       " 'NFTYPE': 'IND',\n",
       " 'NUMBOYS': 918,\n",
       " 'NUMGIRLS': 'NA',\n",
       " 'P8CILOW': 'NP',\n",
       " 'P8CILOW_15': 'NA',\n",
       " 'P8CILOW_AV': 'NP',\n",
       " 'P8CILOW_BOYS': 'NP',\n",
       " 'P8CILOW_EAL': 'NP',\n",
       " 'P8CILOW_FSM6CLA1A': 'NP',\n",
       " 'P8CILOW_GIRLS': 'NA',\n",
       " 'P8CILOW_HI': 'NP',\n",
       " 'P8CILOW_LO': 'NP',\n",
       " 'P8CILOW_NFSM6CLA1A': 'NP',\n",
       " 'P8CILOW_NMOB': 'NP',\n",
       " 'P8CIUPP': 'NP',\n",
       " 'P8CIUPP_15': 'NA',\n",
       " 'P8CIUPP_AV': 'NP',\n",
       " 'P8CIUPP_BOYS': 'NP',\n",
       " 'P8CIUPP_EAL': 'NP',\n",
       " 'P8CIUPP_FSM6CLA1A': 'NP',\n",
       " 'P8CIUPP_GIRLS': 'NA',\n",
       " 'P8CIUPP_HI': 'NP',\n",
       " 'P8CIUPP_LO': 'NP',\n",
       " 'P8CIUPP_NFSM6CLA1A': 'NP',\n",
       " 'P8CIUPP_NMOB': 'NP',\n",
       " 'P8MEA': 'NP',\n",
       " 'P8MEACOV': 'NP',\n",
       " 'P8MEAEBAC': 'NP',\n",
       " 'P8MEAEBAC_CILOW': 'NP',\n",
       " 'P8MEAEBAC_CILOW_FSM6CLA1A': 'NP',\n",
       " 'P8MEAEBAC_CILOW_NFSM6CLA1A': 'NP',\n",
       " 'P8MEAEBAC_CIUPP': 'NP',\n",
       " 'P8MEAEBAC_CIUPP_FSM6CLA1A': 'NP',\n",
       " 'P8MEAEBAC_CIUPP_NFSM6CLA1A': 'NP',\n",
       " 'P8MEAEBAC_FSM6CLA1A': 'NP',\n",
       " 'P8MEAEBAC_NFSM6CLA1A': 'NP',\n",
       " 'P8MEAENG': 'NP',\n",
       " 'P8MEAENG_CILOW': 'NP',\n",
       " 'P8MEAENG_CILOW_FSM6CLA1A': 'NP',\n",
       " 'P8MEAENG_CILOW_NFSM6CLA1A': 'NP',\n",
       " 'P8MEAENG_CIUPP': 'NP',\n",
       " 'P8MEAENG_CIUPP_FSM6CLA1A': 'NP',\n",
       " 'P8MEAENG_CIUPP_NFSM6CLA1A': 'NP',\n",
       " 'P8MEAENG_FSM6CLA1A': 'NP',\n",
       " 'P8MEAENG_NFSM6CLA1A': 'NP',\n",
       " 'P8MEAMAT': 'NP',\n",
       " 'P8MEAMAT_CILOW': 'NP',\n",
       " 'P8MEAMAT_CILOW_FSM6CLA1A': 'NP',\n",
       " 'P8MEAMAT_CILOW_NFSM6CLA1A': 'NP',\n",
       " 'P8MEAMAT_CIUPP': 'NP',\n",
       " 'P8MEAMAT_CIUPP_FSM6CLA1A': 'NP',\n",
       " 'P8MEAMAT_CIUPP_NFSM6CLA1A': 'NP',\n",
       " 'P8MEAMAT_FSM6CLA1A': 'NP',\n",
       " 'P8MEAMAT_NFSM6CLA1A': 'NP',\n",
       " 'P8MEAOPEN': 'NP',\n",
       " 'P8MEAOPEN_CILOW': 'NP',\n",
       " 'P8MEAOPEN_CILOW_FSM6CLA1A': 'NP',\n",
       " 'P8MEAOPEN_CILOW_NFSM6CLA1A': 'NP',\n",
       " 'P8MEAOPEN_CIUPP': 'NP',\n",
       " 'P8MEAOPEN_CIUPP_FSM6CLA1A': 'NP',\n",
       " 'P8MEAOPEN_CIUPP_NFSM6CLA1A': 'NP',\n",
       " 'P8MEAOPEN_FSM6CLA1A': 'NP',\n",
       " 'P8MEAOPEN_NFSM6CLA1A': 'NP',\n",
       " 'P8MEA_15': 'NA',\n",
       " 'P8MEA_AV': 'NP',\n",
       " 'P8MEA_BOYS': 'NP',\n",
       " 'P8MEA_EAL': 'NP',\n",
       " 'P8MEA_FSM6CLA1A': 'NP',\n",
       " 'P8MEA_GIRLS': 'NA',\n",
       " 'P8MEA_HI': 'NP',\n",
       " 'P8MEA_LO': 'NP',\n",
       " 'P8MEA_NFSM6CLA1A': 'NP',\n",
       " 'P8MEA_NMOB': 'NP',\n",
       " 'P8PUP': 'NP',\n",
       " 'P8PUP_15': 'NA',\n",
       " 'P8PUP_AV': 'NP',\n",
       " 'P8PUP_BOYS': 'NP',\n",
       " 'P8PUP_EAL': 'NP',\n",
       " 'P8PUP_FSM6CLA1A': 'NP',\n",
       " 'P8PUP_GIRLS': 'NA',\n",
       " 'P8PUP_HI': 'NP',\n",
       " 'P8PUP_LO': 'NP',\n",
       " 'P8PUP_NFSM6CLA1A': 'NP',\n",
       " 'P8PUP_NMOB': 'NP',\n",
       " 'PBEBACC_E_PTQ_EE': '0%',\n",
       " 'PBEBACC_PTQ_EE': '0%',\n",
       " 'PBL2BASICS_LL_PTQ_EE': '0%',\n",
       " 'PBPUP': '100%',\n",
       " 'PCODE': 'EC4V 3AL',\n",
       " 'PGEBACC_E_PTQ_EE': 'NE',\n",
       " 'PGEBACC_PTQ_EE': 'NE',\n",
       " 'PGL2BASICS_LL_PTQ_EE': 'NE',\n",
       " 'PGPUP': 'NA',\n",
       " 'PSENAPK4': 'NA',\n",
       " 'PSENSE4': 'NA',\n",
       " 'PTAC5EM_PTQ_EE': '0%',\n",
       " 'PTANYQ_PTQ_EE': '100%',\n",
       " 'PTBASICS_LL_AV_PTQ_EE': 'NP',\n",
       " 'PTBASICS_LL_HI_PTQ_EE': 'NP',\n",
       " 'PTBASICS_LL_LO_PTQ_EE': 'NP',\n",
       " 'PTEALGRP1': 'NP',\n",
       " 'PTEALGRP2': 'NP',\n",
       " 'PTEALGRP3': 'NP',\n",
       " 'PTEBAC2SCIAG_PTQ_EE': 'NE',\n",
       " 'PTEBAC2SCI_E_PTQ_EE': '0%',\n",
       " 'PTEBAC2SCI_PTQ_EE': 'NE',\n",
       " 'PTEBACCAG_PTQ_EE': '0%',\n",
       " 'PTEBACCAV_PTQ_EE': 'NP',\n",
       " 'PTEBACCEAL_PTQ_EE': 'NP',\n",
       " 'PTEBACCHI_PTQ_EE': 'NP',\n",
       " 'PTEBACCLO_PTQ_EE': 'NP',\n",
       " 'PTEBACCNMOB_PTQ_EE': 'NP',\n",
       " 'PTEBACC_13': '0%',\n",
       " 'PTEBACC_14_PTQ': '0%',\n",
       " 'PTEBACC_15_PTQ_EE': '0%',\n",
       " 'PTEBACC_EAV_PTQ_EE': 'NP',\n",
       " 'PTEBACC_EEAL_PTQ_EE': 'NP',\n",
       " 'PTEBACC_EFSM6CLA1A_15_PTQ_EE': 'NA',\n",
       " 'PTEBACC_EFSM6CLA1A_PTQ_EE': 'NP',\n",
       " 'PTEBACC_EFSM_13': 'NA',\n",
       " 'PTEBACC_EFSM_14_PTQ': 'NA',\n",
       " 'PTEBACC_EHI_PTQ_EE': 'NP',\n",
       " 'PTEBACC_ELO_PTQ_EE': 'NP',\n",
       " 'PTEBACC_ENFSM6CLA1A_15_PTQ_EE': 'NA',\n",
       " 'PTEBACC_ENFSM6CLA1A_PTQ_EE': 'NP',\n",
       " 'PTEBACC_ENFSM_13': 'NA',\n",
       " 'PTEBACC_ENFSM_14_PTQ': 'NA',\n",
       " 'PTEBACC_ENMOB_PTQ_EE': 'NP',\n",
       " 'PTEBACC_E_13': '0%',\n",
       " 'PTEBACC_E_14_PTQ': '0%',\n",
       " 'PTEBACC_E_15_PTQ_EE': '0%',\n",
       " 'PTEBACC_E_PTQ_EE': '0%',\n",
       " 'PTEBACC_FSM6CLA1A_15_PTQ_EE': 'NA',\n",
       " 'PTEBACC_FSM6CLA1A_PTQ_EE': 'NP',\n",
       " 'PTEBACC_FSM_13': 'NA',\n",
       " 'PTEBACC_FSM_14_PTQ': 'NA',\n",
       " 'PTEBACC_NFSM6CLA1A_15_PTQ_EE': 'NA',\n",
       " 'PTEBACC_NFSM6CLA1A_PTQ_EE': 'NP',\n",
       " 'PTEBACC_NFSM_13': 'NA',\n",
       " 'PTEBACC_NFSM_14_PTQ': 'NA',\n",
       " 'PTEBACC_PTQ_EE': '0%',\n",
       " 'PTEBACENGAG_LL_PTQ_EE': '0%',\n",
       " 'PTEBACENG_E_PTQ_EE': '0%',\n",
       " 'PTEBACENG_LL_PTQ_EE': '0%',\n",
       " 'PTEBACHUMAG_PTQ_EE': '100%',\n",
       " 'PTEBACHUM_E_PTQ_EE': '97%',\n",
       " 'PTEBACHUM_PTQ_EE': '100%',\n",
       " 'PTEBACLANAG_PTQ_EE': '100%',\n",
       " 'PTEBACLAN_E_PTQ_EE': '100%',\n",
       " 'PTEBACLAN_PTQ_EE': '100%',\n",
       " 'PTEBACMATAG_PTQ_EE': '0%',\n",
       " 'PTEBACMAT_E_PTQ_EE': '0%',\n",
       " 'PTEBACMAT_PTQ_EE': '0%',\n",
       " 'PTFSM6CLA1A': 'NP',\n",
       " 'PTFSM6CLA1ABASICS_15_PTQ_EE': 'NA',\n",
       " 'PTFSM6CLA1ABASICS_LL_PTQ_EE': 'NP',\n",
       " 'PTFSM6CLA1A_15': 'NA',\n",
       " 'PTFSMBASICS_13': 'NA',\n",
       " 'PTFSMBASICS_14_PTQ': 'NA',\n",
       " 'PTFSMCLA_13': 'NA',\n",
       " 'PTFSMCLA_14': 'NA',\n",
       " 'PTL2BASICS_13': '0%',\n",
       " 'PTL2BASICS_14_PTQ': '0%',\n",
       " 'PTL2BASICS_15_PTQ_EE': '0%',\n",
       " 'PTL2BASICS_3YR_PTQ_EE': '0%',\n",
       " 'PTL2BASICS_LL_EAL_PTQ_EE': 'NP',\n",
       " 'PTL2BASICS_LL_NMOB_PTQ_EE': 'NP',\n",
       " 'PTL2BASICS_LL_PTQ_EE': '0%',\n",
       " 'PTNMOB': 'NP',\n",
       " 'PTNOTFSM6CLA1A': 'NP',\n",
       " 'PTNOTFSM6CLA1ABASICS_15_PTQ_EE': 'NA',\n",
       " 'PTNOTFSM6CLA1ABASICS_LL_PTQ_EE': 'NP',\n",
       " 'PTNOTFSM6CLA1A_15': 'NA',\n",
       " 'PTNOTFSMBASICS_13': 'NA',\n",
       " 'PTNOTFSMBASICS_14_PTQ': 'NA',\n",
       " 'PTNOTFSMCLA_13': 'NA',\n",
       " 'PTNOTFSMCLA_14': 'NA',\n",
       " 'PTPRIORAV': 'NP',\n",
       " 'PTPRIORHI': 'NP',\n",
       " 'PTPRIORLO': 'NP',\n",
       " 'PTmultiLan_E': '68%',\n",
       " 'PTtripleSci_E': '0%',\n",
       " 'RECTYPE': 1,\n",
       " 'RELDENOM': 'None',\n",
       " 'SCHNAME': 'City of London School',\n",
       " 'SCIVACOV_PTQ_EE': 'NP',\n",
       " 'SCIVALOW_AV_PTQ_EE': 'NP',\n",
       " 'SCIVALOW_FSM6CLA1A_PTQ_EE': 'NP',\n",
       " 'SCIVALOW_HI_PTQ_EE': 'NP',\n",
       " 'SCIVALOW_LO_PTQ_EE': 'NP',\n",
       " 'SCIVALOW_NFSM6CLA1A_PTQ_EE': 'NP',\n",
       " 'SCIVALOW_PTQ_EE': 'NP',\n",
       " 'SCIVAMEA_AV_PTQ_EE': 'NP',\n",
       " 'SCIVAMEA_FSM6CLA1A_PTQ_EE': 'NP',\n",
       " 'SCIVAMEA_HI_PTQ_EE': 'NP',\n",
       " 'SCIVAMEA_LO_PTQ_EE': 'NP',\n",
       " 'SCIVAMEA_NFSM6CLA1A_PTQ_EE': 'NP',\n",
       " 'SCIVAMEA_PTQ_EE': 'NP',\n",
       " 'SCIVAUPP_AV_PTQ_EE': 'NP',\n",
       " 'SCIVAUPP_FSM6CLA1A_PTQ_EE': 'NP',\n",
       " 'SCIVAUPP_HI_PTQ_EE': 'NP',\n",
       " 'SCIVAUPP_LO_PTQ_EE': 'NP',\n",
       " 'SCIVAUPP_NFSM6CLA1A_PTQ_EE': 'NP',\n",
       " 'SCIVAUPP_PTQ_EE': 'NP',\n",
       " 'SENAPK4': 'NA',\n",
       " 'SENSE4': 'NA',\n",
       " 'TAB1618': 1,\n",
       " 'TABKS2': 0,\n",
       " 'TAVENT_EFSM6CLA1A_15_PTQ_EE': 'NA',\n",
       " 'TAVENT_EFSM_13': 'NA',\n",
       " 'TAVENT_EFSM_14_PTQ': 'NA',\n",
       " 'TAVENT_ENFSM6CLA1A_15_PTQ_EE': 'NA',\n",
       " 'TAVENT_ENFSM_13': 'NA',\n",
       " 'TAVENT_ENFSM_14_PTQ': 'NA',\n",
       " 'TAVENT_E_3NG_AV_PTQ_EE': 'NP',\n",
       " 'TAVENT_E_3NG_FSM6CLA1A_PTQ_EE': 'NP',\n",
       " 'TAVENT_E_3NG_HI_PTQ_EE': 'NP',\n",
       " 'TAVENT_E_3NG_LO_PTQ_EE': 'NP',\n",
       " 'TAVENT_E_3NG_NFSM6CLA1A_PTQ_EE': 'NP',\n",
       " 'TAVENT_E_3NG_PTQ_EE': 5.6,\n",
       " 'TAVENT_GAV_PTQ_EE': 'NP',\n",
       " 'TAVENT_GFSM6CLA1A_15_PTQ_EE': 'NA',\n",
       " 'TAVENT_GFSM6CLA1A_PTQ_EE': 'NP',\n",
       " 'TAVENT_GFSM_13': 'NA',\n",
       " 'TAVENT_GFSM_14_PTQ': 'NA',\n",
       " 'TAVENT_GHI_PTQ_EE': 'NP',\n",
       " 'TAVENT_GLO_PTQ_EE': 'NP',\n",
       " 'TAVENT_GNFSM6CLA1A_15_PTQ_EE': 'NA',\n",
       " 'TAVENT_GNFSM6CLA1A_PTQ_EE': 'NP',\n",
       " 'TAVENT_GNFSM_13': 'NA',\n",
       " 'TAVENT_GNFSM_14_PTQ': 'NA',\n",
       " 'TAVENT_G_PTQ_EE': 5.3,\n",
       " 'TBASICS_LL_AV_PTQ_EE': 'NP',\n",
       " 'TBASICS_LL_HI_PTQ_EE': 'NP',\n",
       " 'TBASICS_LL_LO_PTQ_EE': 'NP',\n",
       " 'TEALGRP1': 'NP',\n",
       " 'TEALGRP2': 'NP',\n",
       " 'TEALGRP3': 'NP',\n",
       " 'TEBAC2SCIAG_PTQ_EE': 'NE',\n",
       " 'TEBAC2SCI_E_PTQ_EE': 0,\n",
       " 'TEBAC2SCI_PTQ_EE': 'NE',\n",
       " 'TEBACCAG_PTQ_EE': 0,\n",
       " 'TEBACC_EAV_PTQ_EE': 'NP',\n",
       " 'TEBACC_EHI_PTQ_EE': 'NP',\n",
       " 'TEBACC_ELO_PTQ_EE': 'NP',\n",
       " 'TEBACC_E_PTQ_EE': 0,\n",
       " 'TEBACENGAG_LL_PTQ_EE': 0,\n",
       " 'TEBACENG_E_PTQ_EE': 0,\n",
       " 'TEBACENG_LL_PTQ_EE': 0,\n",
       " 'TEBACHUMAG_PTQ_EE': 135,\n",
       " 'TEBACHUM_E_PTQ_EE': 135,\n",
       " 'TEBACHUM_PTQ_EE': 135,\n",
       " 'TEBACLANAG_PTQ_EE': 139,\n",
       " 'TEBACLAN_E_PTQ_EE': 139,\n",
       " 'TEBACLAN_PTQ_EE': 139,\n",
       " 'TEBACMATAG_PTQ_EE': 0,\n",
       " 'TEBACMAT_E_PTQ_EE': 0,\n",
       " 'TEBACMAT_PTQ_EE': 0,\n",
       " 'TELNUM': '0207 4890291',\n",
       " 'TFSM6CLA1A': 'NP',\n",
       " 'TFSM6CLA1A_15': 'NA',\n",
       " 'TFSMCLA_13': 'NA',\n",
       " 'TFSMCLA_14': 'NA',\n",
       " 'TNMOB': 'NP',\n",
       " 'TNOTFSM6CLA1A': 'NP',\n",
       " 'TNOTFSM6CLA1A_15': 'NA',\n",
       " 'TNOTFSMCLA_13': 'NA',\n",
       " 'TNOTFSMCLA_14': 'NA',\n",
       " 'TOTATT8': 5849,\n",
       " 'TOTATT8EBAC': 3085.3,\n",
       " 'TOTATT8ENG': 1012,\n",
       " 'TOTATT8MAT': 0,\n",
       " 'TOTATT8OPEN': 1751.8,\n",
       " 'TOTATT8OPENG': 1452.5,\n",
       " 'TOTATT8OPENNG': 299.3,\n",
       " 'TOTPUPS': 918,\n",
       " 'TOWN': 'London',\n",
       " 'TPRIORAV': 'NP',\n",
       " 'TPRIORHI': 'NP',\n",
       " 'TPRIORLO': 'NP',\n",
       " 'TPUP': 139,\n",
       " 'URN': 100003,\n",
       " '_id': ObjectId('5af5c9c65e6c7b1cb1c4fa3d')}"
      ]
     },
     "execution_count": 12,
     "metadata": {},
     "output_type": "execute_result"
    }
   ],
   "source": [
    "ks4.find_one()"
   ]
  },
  {
   "cell_type": "markdown",
   "metadata": {},
   "source": [
    "there are a lot of abbreviations it would be useful to have a way to easily access them.  Let's look for an abbreviations file."
   ]
  },
  {
   "cell_type": "code",
   "execution_count": 13,
   "metadata": {},
   "outputs": [
    {
     "name": "stdout",
     "output_type": "stream",
     "text": [
      "abbreviations.xlsx\t    england_swf.csv\r\n",
      "abs_meta.csv\t\t    england_vaqual.csv\r\n",
      "census_meta.csv\t\t    england_vasubj.csv\r\n",
      "england_abs.csv\t\t    ks2_meta.csv\r\n",
      "england_census.csv\t    ks4_meta.csv\r\n",
      "england_cfrfull.xlsx\t    ks4_meta_methodology.csv\r\n",
      "england_ks2final.csv\t    ks4-pupdest_meta.csv\r\n",
      "england_ks4final.csv\t    ks5_meta.csv\r\n",
      "england_ks4-pupdest.csv     ks5-studest_meta.csv\r\n",
      "england_ks4underlying.xlsx  la_and_region_codes_meta.csv\r\n",
      "england_ks5final.csv\t    sixth_form_centres_and_consortia_meta.xlsx\r\n",
      "england_ks5-studest.csv     spine_meta.csv\r\n",
      "england_ks5underlying.xlsx  swf_meta.csv\r\n",
      "england_spine.csv\r\n"
     ]
    }
   ],
   "source": [
    "!ls data/2015-2016/"
   ]
  },
  {
   "cell_type": "code",
   "execution_count": 23,
   "metadata": {},
   "outputs": [
    {
     "name": "stdout",
     "output_type": "stream",
     "text": [
      "Column,Field Name,Label/Description\r",
      "\r\n",
      "1,RECTYPE,Record type (1=mainstream school; 2=special school; 3=Local Authority; 4=National (all schools); 5=National (maintained schools))\r",
      "\r\n",
      "2,ALPHAIND,Alphabetic index\r",
      "\r\n",
      "3,LEA,Local authority number\r",
      "\r\n",
      "4,ESTAB,Establishment number\r",
      "\r\n",
      "5,URN,School unique reference number\r",
      "\r\n",
      "6,SCHNAME,School/Local authority name\r",
      "\r\n",
      "7,ADDRESS1,School address (1)\r",
      "\r\n",
      "8,ADDRESS2,School address (2)\r",
      "\r\n",
      "9,ADDRESS3,School address (3)\r",
      "\r\n"
     ]
    }
   ],
   "source": [
    "!head data/2015-2016/ks2_meta.csv"
   ]
  },
  {
   "cell_type": "markdown",
   "metadata": {},
   "source": [
    "Ah, it is in an xlsx file.  I'll need to convert it into a csv file before I can import it to mongodb.\n",
    "\n",
    "I opened it in excel and then saved it as a csv file."
   ]
  },
  {
   "cell_type": "code",
   "execution_count": 21,
   "metadata": {},
   "outputs": [
    {
     "name": "stdout",
     "output_type": "stream",
     "text": [
      "﻿2016 KS4 and KS5/16-18 Performance Tables,,\r",
      "\r\n",
      "Abbreviations used in the csv and excel Download Data files.,,\r",
      "\r\n",
      ",,\r",
      "\r\n",
      "Institution type (NFTYPE): ,,\r",
      "\r\n",
      "AC,Sponsored academy  ,\r",
      "\r\n"
     ]
    }
   ],
   "source": [
    "!head -5 data/2015-2016/abbreviations.csv"
   ]
  },
  {
   "cell_type": "code",
   "execution_count": null,
   "metadata": {
    "collapsed": true
   },
   "outputs": [],
   "source": [
    "still not great it needs to be transposed I think.  I'll pop it i '"
   ]
  }
 ],
 "metadata": {
  "kernelspec": {
   "display_name": "Python 3",
   "language": "python",
   "name": "python3"
  },
  "language_info": {
   "codemirror_mode": {
    "name": "ipython",
    "version": 3
   },
   "file_extension": ".py",
   "mimetype": "text/x-python",
   "name": "python",
   "nbconvert_exporter": "python",
   "pygments_lexer": "ipython3",
   "version": "3.5.2"
  }
 },
 "nbformat": 4,
 "nbformat_minor": 2
}
