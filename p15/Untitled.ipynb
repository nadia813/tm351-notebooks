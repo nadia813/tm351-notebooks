{
 "cells": [
  {
   "cell_type": "markdown",
   "metadata": {},
   "source": [
    "# Folium"
   ]
  },
  {
   "cell_type": "code",
   "execution_count": 1,
   "metadata": {},
   "outputs": [
    {
     "ename": "NameError",
     "evalue": "name 'locations' is not defined",
     "output_type": "error",
     "traceback": [
      "\u001b[0;31m---------------------------------------------------------------------------\u001b[0m",
      "\u001b[0;31mNameError\u001b[0m                                 Traceback (most recent call last)",
      "\u001b[0;32m<ipython-input-1-445a194c1f8e>\u001b[0m in \u001b[0;36m<module>\u001b[0;34m()\u001b[0m\n\u001b[1;32m     28\u001b[0m \u001b[0;31m# We will look at folium in more detail in Notebooks for Part 5 of the module.\u001b[0m\u001b[0;34m\u001b[0m\u001b[0;34m\u001b[0m\u001b[0m\n\u001b[1;32m     29\u001b[0m \u001b[0;34m\u001b[0m\u001b[0m\n\u001b[0;32m---> 30\u001b[0;31m \u001b[0;32mfor\u001b[0m \u001b[0mname\u001b[0m\u001b[0;34m,\u001b[0m \u001b[0mlocation\u001b[0m \u001b[0;32min\u001b[0m \u001b[0mlocations\u001b[0m\u001b[0;34m.\u001b[0m\u001b[0mitems\u001b[0m\u001b[0;34m(\u001b[0m\u001b[0;34m)\u001b[0m\u001b[0;34m:\u001b[0m\u001b[0;34m\u001b[0m\u001b[0m\n\u001b[0m\u001b[1;32m     31\u001b[0m     folium.CircleMarker(location=location,\n\u001b[1;32m     32\u001b[0m                         \u001b[0mpopup\u001b[0m\u001b[0;34m=\u001b[0m\u001b[0mname\u001b[0m\u001b[0;34m,\u001b[0m\u001b[0;34m\u001b[0m\u001b[0m\n",
      "\u001b[0;31mNameError\u001b[0m: name 'locations' is not defined"
     ]
    }
   ],
   "source": [
    "# Let's quickly map the markers to show how the parser \n",
    "#       has pulled out the placemark information:\n",
    "import folium\n",
    "# We will look at folium in more detail in Notebooks for Part 5 of the module.\n",
    "\n",
    "# NOTE: folium uses an external tileset to render the map background appearance.\n",
    "#       This requires that you have an internet connection when the map is being\n",
    "#       displayed, it may use cached tile data, but some tiles will be missing if you \n",
    "#       change scale by zooming.\n",
    "\n",
    "# If we know the latitude and longitude at the centre of the map we want to display, \n",
    "#    we can set it directly:\n",
    "carparks = folium.Map(location=[50.68, -1.2667], width = 960, height = 500, zoom_start=11)\n",
    "\n",
    "# Alternatively, we could calculate it as the mean latitude and longitude \n",
    "#     of the points we wish to plot (a handy recipe):\n",
    "#latSum = lonSum = 0\n",
    "#for name, location in locations.items():\n",
    "#    latSum += location[0]\n",
    "#    lonSum += location[1]\n",
    "#carparks = folium.Map(location=[latSum/len(locations.items()), \n",
    "#                                lonSum/len(locations.items())], \n",
    "#                               width = 960, height = 500, zoom_start=11)\n",
    "\n",
    "# The following loops through the location items, splitting out the car part name\n",
    "#                    and the location as a pair of latitude and longitude values.\n",
    "# For each location, it then plots a circle marker on the map with the name as a popup string.\n",
    "# We will look at folium in more detail in Notebooks for Part 5 of the module.\n",
    "\n",
    "for name, location in locations.items():\n",
    "    folium.CircleMarker(location=location,\n",
    "                        popup=name,\n",
    "                        radius=20,\n",
    "                        fill_color='blue',\n",
    "                        fill_opacity=0.2\n",
    "                   ).add_to(carparks)\n",
    "\n",
    "# Display the map (this will not display a map if you are offline)\n",
    "carparks"
   ]
  },
  {
   "cell_type": "code",
   "execution_count": null,
   "metadata": {
    "collapsed": true
   },
   "outputs": [],
   "source": []
  }
 ],
 "metadata": {
  "kernelspec": {
   "display_name": "Python 3",
   "language": "python",
   "name": "python3"
  },
  "language_info": {
   "codemirror_mode": {
    "name": "ipython",
    "version": 3
   },
   "file_extension": ".py",
   "mimetype": "text/x-python",
   "name": "python",
   "nbconvert_exporter": "python",
   "pygments_lexer": "ipython3",
   "version": "3.5.2"
  }
 },
 "nbformat": 4,
 "nbformat_minor": 2
}
