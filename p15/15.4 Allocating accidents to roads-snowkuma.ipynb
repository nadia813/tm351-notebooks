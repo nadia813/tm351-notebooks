{
 "cells": [
  {
   "cell_type": "markdown",
   "metadata": {},
   "source": [
    "# Allocating accidents to roads - snowkuma\n",
    "\n",
    "This Notebook will allocate accidents to the appropriate road segment. This will allow you to find accident hotspots based on accident rates relative to traffic density."
   ]
  },
  {
   "cell_type": "markdown",
   "metadata": {},
   "source": [
    "First, some boilerplate imports."
   ]
  },
  {
   "cell_type": "code",
   "execution_count": 1,
   "metadata": {
    "collapsed": true
   },
   "outputs": [],
   "source": [
    "# Import the required libraries\n",
    "\n",
    "import pymongo\n",
    "import datetime\n",
    "import collections\n",
    "\n",
    "import pandas as pd\n",
    "import scipy.stats"
   ]
  },
  {
   "cell_type": "code",
   "execution_count": 2,
   "metadata": {
    "collapsed": true
   },
   "outputs": [],
   "source": [
    "# Open a connection to the Mongo server, open the accidents database and name the collections of accidents and labels\n",
    "client = pymongo.MongoClient('mongodb://localhost:27351/')\n",
    "\n",
    "db = client.accidents\n",
    "accidents = db.accidents\n",
    "labels = db.labels\n",
    "roads = db.roads"
   ]
  },
  {
   "cell_type": "markdown",
   "metadata": {},
   "source": [
    "Bugfix: there's an index on the `roads` collection that shouldn't be there. This will remove the index if it exists."
   ]
  },
  {
   "cell_type": "code",
   "execution_count": 3,
   "metadata": {
    "collapsed": true
   },
   "outputs": [],
   "source": [
    "if 'Road_1_loc_2dsphere' in roads.index_information():\n",
    "    roads.drop_index('Road_1_loc_2dsphere')"
   ]
  },
  {
   "cell_type": "code",
   "execution_count": 4,
   "metadata": {
    "collapsed": true
   },
   "outputs": [],
   "source": [
    "# Load the expanded names of keys and human-readable codes into memory\n",
    "expanded_name = collections.defaultdict(str)\n",
    "for e in labels.find({'expanded': {\"$exists\": True}}):\n",
    "    expanded_name[e['label']] = e['expanded']\n",
    "    \n",
    "label_of = collections.defaultdict(str)\n",
    "for l in labels.find({'codes': {\"$exists\": True}}):\n",
    "    for c in l['codes']:\n",
    "        try:\n",
    "            label_of[l['label'], int(c)] = l['codes'][c]\n",
    "        except ValueError: \n",
    "            label_of[l['label'], c] = l['codes'][c]"
   ]
  },
  {
   "cell_type": "markdown",
   "metadata": {},
   "source": [
    "You'd expect the number of accidents to vary proportionally with the number of vehicles on a road, and the number of vehicle journeys to vary with population. This means that simply looking at the number of accidents in a location or region doesn't tell us much about the risk of using that road.\n",
    "\n",
    "To start work on the 'danger' of each road section, we need to identify which accidents took place on it. \n",
    "\n",
    "The simple approach is to associate each accident with the nearest road census point. However, this has two problems. One is that the accident may be on a minor road that isn't associated with the traffic census point. The other is that the road on which the accident occurs may not be the one with the closest road census point (for instance, if the accident occurs near a junction).\n",
    "\n",
    "Therefore, we need to annotate each road census document with the accidents that occur on that road section. To avoid too much duplication, we'll just annotate the `road` document with the relevant accident indexes. If we want more details about the accidents, we can look them up directly from the `accidents` collection."
   ]
  },
  {
   "cell_type": "markdown",
   "metadata": {
    "activity": "activity"
   },
   "source": [
    "### Activity 1\n",
    "Convert the road information in the `accident` document into the standard name as used in the `road` document.\n",
    "\n",
    "You're starting with information like this:"
   ]
  },
  {
   "cell_type": "code",
   "execution_count": 5,
   "metadata": {
    "activity": "activity"
   },
   "outputs": [
    {
     "data": {
      "text/html": [
       "<div>\n",
       "<style>\n",
       "    .dataframe thead tr:only-child th {\n",
       "        text-align: right;\n",
       "    }\n",
       "\n",
       "    .dataframe thead th {\n",
       "        text-align: left;\n",
       "    }\n",
       "\n",
       "    .dataframe tbody tr th {\n",
       "        vertical-align: top;\n",
       "    }\n",
       "</style>\n",
       "<table border=\"1\" class=\"dataframe\">\n",
       "  <thead>\n",
       "    <tr style=\"text-align: right;\">\n",
       "      <th></th>\n",
       "      <th>1st_Road_Class</th>\n",
       "      <th>1st_Road_Number</th>\n",
       "      <th>2nd_Road_Class</th>\n",
       "      <th>2nd_Road_Number</th>\n",
       "    </tr>\n",
       "  </thead>\n",
       "  <tbody>\n",
       "    <tr>\n",
       "      <th>0</th>\n",
       "      <td>3</td>\n",
       "      <td>308</td>\n",
       "      <td>5</td>\n",
       "      <td>0</td>\n",
       "    </tr>\n",
       "    <tr>\n",
       "      <th>1</th>\n",
       "      <td>4</td>\n",
       "      <td>412</td>\n",
       "      <td>6</td>\n",
       "      <td>0</td>\n",
       "    </tr>\n",
       "    <tr>\n",
       "      <th>2</th>\n",
       "      <td>3</td>\n",
       "      <td>3220</td>\n",
       "      <td>6</td>\n",
       "      <td>0</td>\n",
       "    </tr>\n",
       "    <tr>\n",
       "      <th>3</th>\n",
       "      <td>5</td>\n",
       "      <td>0</td>\n",
       "      <td>6</td>\n",
       "      <td>0</td>\n",
       "    </tr>\n",
       "    <tr>\n",
       "      <th>4</th>\n",
       "      <td>4</td>\n",
       "      <td>325</td>\n",
       "      <td>6</td>\n",
       "      <td>0</td>\n",
       "    </tr>\n",
       "  </tbody>\n",
       "</table>\n",
       "</div>"
      ],
      "text/plain": [
       "   1st_Road_Class  1st_Road_Number  2nd_Road_Class  2nd_Road_Number\n",
       "0               3              308               5                0\n",
       "1               4              412               6                0\n",
       "2               3             3220               6                0\n",
       "3               5                0               6                0\n",
       "4               4              325               6                0"
      ]
     },
     "execution_count": 5,
     "metadata": {},
     "output_type": "execute_result"
    }
   ],
   "source": [
    "pd.DataFrame(list(accidents.find({}, ['1st_Road_Class', '1st_Road_Number', '2nd_Road_Class', '2nd_Road_Number'], \n",
    "                                 limit=5)),\n",
    "             columns=['1st_Road_Class', '1st_Road_Number', '2nd_Road_Class', '2nd_Road_Number'])"
   ]
  },
  {
   "cell_type": "markdown",
   "metadata": {
    "activity": "activity"
   },
   "source": [
    "... and this ..."
   ]
  },
  {
   "cell_type": "code",
   "execution_count": 6,
   "metadata": {
    "activity": "activity"
   },
   "outputs": [
    {
     "data": {
      "text/plain": [
       "[(0, 'Not at junction or within 20 metres'),\n",
       " (1, 'Motorway'),\n",
       " (2, 'A(M)'),\n",
       " (3, 'A'),\n",
       " (4, 'B'),\n",
       " (5, 'C'),\n",
       " (6, 'Unclassified')]"
      ]
     },
     "execution_count": 6,
     "metadata": {},
     "output_type": "execute_result"
    }
   ],
   "source": [
    "sorted((code, label_of[label, code]) for label, code in label_of \n",
    " if label == '2nd_Road_Class')"
   ]
  },
  {
   "cell_type": "markdown",
   "metadata": {
    "activity": "activity"
   },
   "source": [
    "and you have to convert it to the 'typical' road numbers like this:"
   ]
  },
  {
   "cell_type": "code",
   "execution_count": 7,
   "metadata": {
    "activity": "activity"
   },
   "outputs": [
    {
     "data": {
      "text/html": [
       "<div>\n",
       "<style>\n",
       "    .dataframe thead tr:only-child th {\n",
       "        text-align: right;\n",
       "    }\n",
       "\n",
       "    .dataframe thead th {\n",
       "        text-align: left;\n",
       "    }\n",
       "\n",
       "    .dataframe tbody tr th {\n",
       "        vertical-align: top;\n",
       "    }\n",
       "</style>\n",
       "<table border=\"1\" class=\"dataframe\">\n",
       "  <thead>\n",
       "    <tr style=\"text-align: right;\">\n",
       "      <th></th>\n",
       "      <th>Road</th>\n",
       "      <th>RCat</th>\n",
       "    </tr>\n",
       "  </thead>\n",
       "  <tbody>\n",
       "    <tr>\n",
       "      <th>0</th>\n",
       "      <td>A5</td>\n",
       "      <td>TR</td>\n",
       "    </tr>\n",
       "    <tr>\n",
       "      <th>1</th>\n",
       "      <td>A5</td>\n",
       "      <td>TR</td>\n",
       "    </tr>\n",
       "    <tr>\n",
       "      <th>2</th>\n",
       "      <td>A40</td>\n",
       "      <td>TR</td>\n",
       "    </tr>\n",
       "    <tr>\n",
       "      <th>3</th>\n",
       "      <td>A40</td>\n",
       "      <td>TR</td>\n",
       "    </tr>\n",
       "    <tr>\n",
       "      <th>4</th>\n",
       "      <td>A40</td>\n",
       "      <td>TR</td>\n",
       "    </tr>\n",
       "  </tbody>\n",
       "</table>\n",
       "</div>"
      ],
      "text/plain": [
       "  Road RCat\n",
       "0   A5   TR\n",
       "1   A5   TR\n",
       "2  A40   TR\n",
       "3  A40   TR\n",
       "4  A40   TR"
      ]
     },
     "execution_count": 7,
     "metadata": {},
     "output_type": "execute_result"
    }
   ],
   "source": [
    "pd.DataFrame(list(roads.find({}, ['Road', 'RCat'], limit=5)),\n",
    "                             columns=['Road', 'RCat'])"
   ]
  },
  {
   "cell_type": "code",
   "execution_count": 8,
   "metadata": {
    "activity": "activity"
   },
   "outputs": [
    {
     "data": {
      "text/plain": [
       "[('BR', 'Rural B road'),\n",
       " ('BU', 'Urban B road'),\n",
       " ('CR', 'Rural C road'),\n",
       " ('CU', 'Urban C road'),\n",
       " ('PM', 'Principal motorway'),\n",
       " ('PR', 'Rural principal road'),\n",
       " ('PU', 'Urban principal road'),\n",
       " ('TM', 'Trunk motorway'),\n",
       " ('TR', 'Rural trunk road'),\n",
       " ('TU', 'Urban trunk road'),\n",
       " ('UR', 'Rural U road'),\n",
       " ('UU', 'Urban U road')]"
      ]
     },
     "execution_count": 8,
     "metadata": {},
     "output_type": "execute_result"
    }
   ],
   "source": [
    "sorted((code, label_of[label, code]) for label, code in label_of \n",
    " if label == 'RCat')"
   ]
  },
  {
   "cell_type": "markdown",
   "metadata": {
    "activity": "activity"
   },
   "source": [
    "Pay particular attention to A(M) roads: they're not handled consistently in the data.\n",
    "\n",
    "The solution is in the [`15.4solutions`](15.4solutions.ipynb) Notebook."
   ]
  },
  {
   "cell_type": "code",
   "execution_count": 12,
   "metadata": {
    "collapsed": true
   },
   "outputs": [],
   "source": [
    "# solution from 15.4\n",
    "\n",
    "# function that takes the road class and then returns a value\n",
    "def normalise_road_name(road_class, road_number):\n",
    "    if road_number == 0:\n",
    "        return None\n",
    "    if road_class ==1:\n",
    "        return 'M' + str(road_number)\n",
    "    elif road_class == 2:\n",
    "        if road_number == 1:\n",
    "            return 'A1(M)'\n",
    "        else:\n",
    "            return 'A' + str(road_number) + 'M'\n",
    "    elif road_class >= 3 and road_class <=5:\n",
    "        return label_of[('2nd_Road_Class', road_class)] + str(road_number)\n",
    "    else:\n",
    "        return None"
   ]
  },
  {
   "cell_type": "code",
   "execution_count": 13,
   "metadata": {},
   "outputs": [
    {
     "data": {
      "text/plain": [
       "[('A308', None),\n",
       " ('B412', None),\n",
       " ('A3220', None),\n",
       " (None, None),\n",
       " ('B325', None),\n",
       " ('A308', 'A3220'),\n",
       " ('A3216', 'A4'),\n",
       " ('B450', None),\n",
       " (None, None),\n",
       " (None, None),\n",
       " ('A315', None),\n",
       " ('A315', 'A3220'),\n",
       " ('A402', 'A4206'),\n",
       " ('B415', 'B450'),\n",
       " ('B450', 'B412'),\n",
       " ('A3217', None),\n",
       " (None, None),\n",
       " ('A3220', 'A3220'),\n",
       " ('B316', None),\n",
       " ('A4204', None)]"
      ]
     },
     "execution_count": 13,
     "metadata": {},
     "output_type": "execute_result"
    }
   ],
   "source": [
    "# test the function works ok\n",
    "[(normalise_road_name(a['1st_Road_Class'], a['1st_Road_Number']),\n",
    " normalise_road_name(a['2nd_Road_Class'], a['2nd_Road_Number']))\n",
    "for a in accidents.find(limit=20)]"
   ]
  },
  {
   "cell_type": "markdown",
   "metadata": {
    "activity": "activity"
   },
   "source": [
    "### Activity 2\n",
    "When given an accident, find the closest road census document for the same road. Return `None` if there isn't one for this road.\n",
    "\n",
    "Note that the relevant road could be for either the accident's first or second recorded road.\n",
    "\n",
    "Also note that you'll need to add\n",
    "\n",
    "```\n",
    "from bson.son import SON\n",
    "```\n",
    "\n",
    "and use the direct MongoDB command `geoNear` to find the nearest road segment to a given point. \n",
    "\n",
    "```\n",
    "road_result = db.command(SON([('geoNear', 'roads'), \n",
    "                ('near', <the given point>),\n",
    "                ('spherical', True),\n",
    "                ('query', <document for additional features on road segment>),\n",
    "                ('limit', 1)]))\n",
    "```\n",
    "For example, the cell below will pick an arbitrary accident, then find the motorway segment nearest to it."
   ]
  },
  {
   "cell_type": "code",
   "execution_count": 14,
   "metadata": {
    "activity": "activity"
   },
   "outputs": [
    {
     "name": "stdout",
     "output_type": "stream",
     "text": [
      "201201BS70001 {'coordinates': [-0.169101, 51.493429], 'type': 'Point'}\n",
      "47892 Hounslow M4\n"
     ]
    }
   ],
   "source": [
    "from bson.son import SON\n",
    "\n",
    "a = accidents.find_one()\n",
    "print(a['Accident_Index'], a['loc'])\n",
    "\n",
    "nearest_road_result = db.command(SON([('geoNear', 'roads'), \n",
    "                ('near', a['loc']),                      \n",
    "                ('spherical', True),\n",
    "                ('query', {'RCat': 'TM'}),\n",
    "                ('limit', 1)]))\n",
    "\n",
    "print(nearest_road_result['results'][0]['obj']['CP'], \n",
    "      nearest_road_result['results'][0]['obj']['ONS LA Name'],\n",
    "      nearest_road_result['results'][0]['obj']['Road'])"
   ]
  },
  {
   "cell_type": "markdown",
   "metadata": {
    "activity": "activity"
   },
   "source": [
    "The solution is in the [`15.4solutions`](15.4solutions.ipynb) Notebook."
   ]
  },
  {
   "cell_type": "code",
   "execution_count": 15,
   "metadata": {
    "collapsed": true
   },
   "outputs": [],
   "source": [
    "def road_for_accident(accident):\n",
    "    first_road_name = normalise_road_name(accident['1st_Road_Class'], accident['1st_Road_Number'])\n",
    "    second_road_name = normalise_road_name(accident['2nd_Road_Class'], accident['2nd_Road_Number'])\n",
    "    \n",
    "    if first_road_name:\n",
    "        first_road_result = db.command(SON([('geoNear', 'roads'),\n",
    "                                           ('near', accident['loc']),\n",
    "                                           ('spherical', True),\n",
    "                                           ('query', {'Road': first_road_name}),\n",
    "                                           ('limit', 1)]))\n",
    "    else:\n",
    "        first_road_result = {'results': []}\n",
    "        \n",
    "    if second_road_name:\n",
    "        second_road_result = db.command(SON([('geoNear', 'roads'),\n",
    "                                           ('near', accident['loc']),\n",
    "                                           ('spherical', True),\n",
    "                                           ('query', {'Road': second_road_name}),\n",
    "                                           ('limit', 1)]))\n",
    "    else:\n",
    "        second_road_result = {'results': []}\n",
    "    \n",
    "    all_results = first_road_result['results'] + second_road_result['results']\n",
    "    sorted_results = sorted(all_results, key=lambda r: r['dis'])\n",
    "    \n",
    "    if sorted_results:\n",
    "        nearest_road = sorted_results[0]['obj']\n",
    "        return nearest_road\n",
    "    else:\n",
    "        return None\n"
   ]
  },
  {
   "cell_type": "code",
   "execution_count": 17,
   "metadata": {},
   "outputs": [
    {
     "data": {
      "text/plain": [
       "{'A-Junction': 'A3220',\n",
       " 'AADFYear': 2012,\n",
       " 'B-Junction': 'A4',\n",
       " 'CP': 16854,\n",
       " 'Fd2WMV': 1083.0,\n",
       " 'FdAll_MV': 17673.0,\n",
       " 'FdBUS': 1114.0,\n",
       " 'FdCar': 12867.0,\n",
       " 'FdHGV': 687.0,\n",
       " 'FdHGVA3': 2.0,\n",
       " 'FdHGVA5': 13.0,\n",
       " 'FdHGVA6': 3.0,\n",
       " 'FdHGVR2': 492.0,\n",
       " 'FdHGVR3': 109.0,\n",
       " 'FdHGVR4': 67.0,\n",
       " 'FdLGV': 1922.0,\n",
       " 'FdPC': 1232.0,\n",
       " 'Latitude': 51.491641149098996,\n",
       " 'LenNet': 1.8,\n",
       " 'LenNet_miles': 1.11,\n",
       " 'Longitude': -0.17207541184187886,\n",
       " 'ONS GOR Name': 'London',\n",
       " 'ONS LA Name': 'Kensington and Chelsea',\n",
       " 'RCat': 'PU',\n",
       " 'Road': 'A308',\n",
       " 'S Ref E': 527000,\n",
       " 'S Ref N': 178550,\n",
       " '_id': ObjectId('533ed2c589f6f9ee18baf4d9'),\n",
       " 'loc': {'coordinates': [-0.17207541184187886, 51.491641149098996],\n",
       "  'type': 'Point'}}"
      ]
     },
     "execution_count": 17,
     "metadata": {},
     "output_type": "execute_result"
    }
   ],
   "source": [
    "# test it works\n",
    "road_for_accident(accidents.find_one())"
   ]
  },
  {
   "cell_type": "code",
   "execution_count": 18,
   "metadata": {},
   "outputs": [
    {
     "data": {
      "text/plain": [
       "[('A308', 16854, 'A308', None),\n",
       " (None, None, 'B412', None),\n",
       " ('A3220', 57668, 'A3220', None),\n",
       " (None, None, None, None),\n",
       " (None, None, 'B325', None),\n",
       " ('A308', 18268, 'A308', 'A3220'),\n",
       " ('A4', 46120, 'A3216', 'A4'),\n",
       " (None, None, 'B450', None),\n",
       " (None, None, None, None),\n",
       " (None, None, None, None),\n",
       " ('A315', 38590, 'A315', None),\n",
       " ('A315', 18366, 'A315', 'A3220'),\n",
       " ('A402', 16403, 'A402', 'A4206'),\n",
       " (None, None, 'B415', 'B450'),\n",
       " (None, None, 'B450', 'B412'),\n",
       " ('A3217', 37707, 'A3217', None),\n",
       " (None, None, None, None),\n",
       " ('A3220', 73640, 'A3220', 'A3220'),\n",
       " (None, None, 'B316', None),\n",
       " ('A4204', 27734, 'A4204', None)]"
      ]
     },
     "execution_count": 18,
     "metadata": {},
     "output_type": "execute_result"
    }
   ],
   "source": [
    "# test it works a lot\n",
    "res = []\n",
    "for a in accidents.find(limit=20):\n",
    "    rfa = road_for_accident(a)\n",
    "    if rfa:\n",
    "        res.append((rfa['Road'], rfa['CP'],\n",
    "                    normalise_road_name(a['1st_Road_Class'], a['1st_Road_Number']),\n",
    "                    normalise_road_name(a['2nd_Road_Class'], a['2nd_Road_Number'])))\n",
    "    else:\n",
    "        res.append((None, None,\n",
    "                    normalise_road_name(a['1st_Road_Class'], a['1st_Road_Number']),\n",
    "                    normalise_road_name(a['2nd_Road_Class'], a['2nd_Road_Number'])))\n",
    "res"
   ]
  },
  {
   "cell_type": "markdown",
   "metadata": {
    "activity": "activity"
   },
   "source": [
    "### Activity 3\n",
    "For each accident, add its `Accident_Index` to the nearest relevant road census point. Each road census point should have a **list** of accident indexes if there are any accidents nearby.\n",
    "\n",
    "Note that this could take **several hours** to run to completion, so you should test it works on a small set of road records first. \n",
    "\n",
    "Notes:\n",
    "1. Use the `$push` update operator to add to the list of accident indexes\n",
    "2. Make sure this process is [idempotent](https://en.wikipedia.org/wiki/Idempotence#Computer_science_meaning): you don't want accident indexes added again if you run the procedure again (do a bulk `$unset` before you start).\n",
    "\n",
    "The solution is in the [`15.4solutions`](15.4solutions.ipynb) Notebook."
   ]
  },
  {
   "cell_type": "code",
   "execution_count": 19,
   "metadata": {},
   "outputs": [
    {
     "data": {
      "text/plain": [
       "<pymongo.results.UpdateResult at 0x7fdc30fd1990>"
      ]
     },
     "execution_count": 19,
     "metadata": {},
     "output_type": "execute_result"
    }
   ],
   "source": [
    "# First remove all existing cached accident indexes\n",
    "roads.update_many({}, {'$unset': {'nearby_accidents': True},\n",
    "                      '$set': {'nearby_accident_count': 0}})"
   ]
  },
  {
   "cell_type": "code",
   "execution_count": 22,
   "metadata": {},
   "outputs": [],
   "source": [
    "# include the accident indexes in the road documents\n",
    "# also maintain a count of how many accidents there are for each record.\n",
    "for a in accidents.find():\n",
    "    rfa = road_for_accident(a)\n",
    "    if rfa and ('nearby_accidents' not in rfa or a['Accident_Index'] not in rfa['nearby_accidents']):\n",
    "        roads.update_one({'_id': rfa['_id']}, {'$push': {'nearby_accidents': a['Accident_Index']},\n",
    "                                   '$inc': {'nearby_accident_count': 1}})"
   ]
  },
  {
   "cell_type": "code",
   "execution_count": 23,
   "metadata": {},
   "outputs": [
    {
     "data": {
      "text/plain": [
       "[{'A-Junction': 'A3220',\n",
       "  'AADFYear': 2012,\n",
       "  'B-Junction': 'A4',\n",
       "  'CP': 16854,\n",
       "  'Fd2WMV': 1083.0,\n",
       "  'FdAll_MV': 17673.0,\n",
       "  'FdBUS': 1114.0,\n",
       "  'FdCar': 12867.0,\n",
       "  'FdHGV': 687.0,\n",
       "  'FdHGVA3': 2.0,\n",
       "  'FdHGVA5': 13.0,\n",
       "  'FdHGVA6': 3.0,\n",
       "  'FdHGVR2': 492.0,\n",
       "  'FdHGVR3': 109.0,\n",
       "  'FdHGVR4': 67.0,\n",
       "  'FdLGV': 1922.0,\n",
       "  'FdPC': 1232.0,\n",
       "  'Latitude': 51.491641149098996,\n",
       "  'LenNet': 1.8,\n",
       "  'LenNet_miles': 1.11,\n",
       "  'Longitude': -0.17207541184187886,\n",
       "  'ONS GOR Name': 'London',\n",
       "  'ONS LA Name': 'Kensington and Chelsea',\n",
       "  'RCat': 'PU',\n",
       "  'Road': 'A308',\n",
       "  'S Ref E': 527000,\n",
       "  'S Ref N': 178550,\n",
       "  '_id': ObjectId('533ed2c589f6f9ee18baf4d9'),\n",
       "  'loc': {'coordinates': [-0.17207541184187886, 51.491641149098996],\n",
       "   'type': 'Point'},\n",
       "  'nearby_accident_count': 11,\n",
       "  'nearby_accidents': ['201201BS70001',\n",
       "   '201201BS70066',\n",
       "   '201201BS70142',\n",
       "   '201201BS70210',\n",
       "   '201201BS70469',\n",
       "   '201201BS70512',\n",
       "   '201201BS70535',\n",
       "   '201201BS70598',\n",
       "   '201201BS70620',\n",
       "   '201201BS70624',\n",
       "   '201201TA00930']}]"
      ]
     },
     "execution_count": 23,
     "metadata": {},
     "output_type": "execute_result"
    }
   ],
   "source": [
    "list(roads.find({'CP': 16854}))"
   ]
  },
  {
   "cell_type": "markdown",
   "metadata": {},
   "source": [
    "## Summary\n",
    "This Notebook has worked through how to relate datasets to give different perspectives on the same phenomenon. Differing occurrences of accidents across space, time, and conditions is interesting, but can only give a partial picture if we don't have an understanding of the background rate of unremarkable journeys. However, different datasets are unlikely to ever align perfectly and will require some manipulation to allow the lessons from one set to be applied to another. \n",
    "\n",
    "The next Notebook looks at what new insights we can gain from the combination of these two datasets."
   ]
  },
  {
   "cell_type": "markdown",
   "metadata": {},
   "source": [
    "## What next?\n",
    "If you are working through this Notebook as part of an inline exercise, return to the module materials now.\n",
    "\n",
    "If you are working through this set of Notebooks as a whole, move on to `15.5 Investigating accident rates`.\n"
   ]
  }
 ],
 "metadata": {
  "kernelspec": {
   "display_name": "Python 3",
   "language": "python",
   "name": "python3"
  },
  "language_info": {
   "codemirror_mode": {
    "name": "ipython",
    "version": 3
   },
   "file_extension": ".py",
   "mimetype": "text/x-python",
   "name": "python",
   "nbconvert_exporter": "python",
   "pygments_lexer": "ipython3",
   "version": "3.5.2"
  }
 },
 "nbformat": 4,
 "nbformat_minor": 1
}
