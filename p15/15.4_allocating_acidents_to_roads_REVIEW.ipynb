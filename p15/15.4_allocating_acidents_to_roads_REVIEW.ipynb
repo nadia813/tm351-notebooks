{
 "cells": [
  {
   "cell_type": "markdown",
   "metadata": {},
   "source": [
    "# 15.4_allocating_accidents_to_roads_REVIEW"
   ]
  },
  {
   "cell_type": "code",
   "execution_count": 5,
   "metadata": {
    "collapsed": true
   },
   "outputs": [],
   "source": [
    "# Import the required libraries\n",
    "import pymongo\n",
    "import datetime\n",
    "import collections\n",
    "\n",
    "import pandas as pd\n",
    "import scipy.stats\n",
    "\n",
    "import folium\n",
    "import uuid\n",
    "\n",
    "from bson.objectid import ObjectId\n",
    "from bson.son import SON"
   ]
  },
  {
   "cell_type": "code",
   "execution_count": 2,
   "metadata": {
    "collapsed": true
   },
   "outputs": [],
   "source": [
    "# Open a connection to the Mongo server, open the accidents database and name the collections of accidents and labels\n",
    "client = pymongo.MongoClient('mongodb://localhost:27351/')\n",
    "\n",
    "db = client.accidents\n",
    "accidents = db.accidents\n",
    "labels = db.labels\n",
    "roads = db.roads"
   ]
  },
  {
   "cell_type": "markdown",
   "metadata": {},
   "source": [
    "Bugfix: there's an index on the `roads` collection that shouldn't be there. This will remove the index if it exists."
   ]
  },
  {
   "cell_type": "code",
   "execution_count": 3,
   "metadata": {
    "collapsed": true
   },
   "outputs": [],
   "source": [
    "if 'Road_1_loc_2dsphere' in roads.index_information():\n",
    "    roads.drop_index('Road_1_loc_2dsphere')"
   ]
  },
  {
   "cell_type": "code",
   "execution_count": 4,
   "metadata": {
    "collapsed": true
   },
   "outputs": [],
   "source": [
    "# Load the expanded names of keys and human-readable codes into memory\n",
    "expanded_name = collections.defaultdict(str)\n",
    "for e in labels.find({'expanded': {\"$exists\": True}}):\n",
    "    expanded_name[e['label']] = e['expanded']\n",
    "    \n",
    "label_of = collections.defaultdict(str)\n",
    "for l in labels.find({'codes': {\"$exists\": True}}):\n",
    "    for c in l['codes']:\n",
    "        try:\n",
    "            label_of[l['label'], int(c)] = l['codes'][c]\n",
    "        except ValueError: \n",
    "            label_of[l['label'], c] = l['codes'][c]"
   ]
  },
  {
   "cell_type": "markdown",
   "metadata": {},
   "source": [
    "To start work on the _danger_ of each road section, we need to identify which accidents took place on which road.\n",
    "\n",
    "The simple approach is to associate each accident with the nearest road census point. However, this has two problems. One is that the accident may be on a minor road that isn't associated with the traffic census point. The other is that the road on which the accident occurs may not be the one with the closest road census point (for instance, if the accident occurs near a junction).\n",
    "\n",
    "Therefore, we need to annotate each road census document with the accidents that occur on that road section. To avoid too much duplication, we'll just annotate the `road` document with the relevant accident indexes. If we want more details about the accidents, we can look them up directly from the `accidents` collection."
   ]
  },
  {
   "cell_type": "markdown",
   "metadata": {},
   "source": [
    "## Activity 1\n",
    "\n",
    "Convert the road information in the accident document into the standard name as used in the `road` document.\n",
    "\n",
    "We are starting with information lice this"
   ]
  },
  {
   "cell_type": "code",
   "execution_count": 6,
   "metadata": {},
   "outputs": [
    {
     "data": {
      "text/html": [
       "<div>\n",
       "<style>\n",
       "    .dataframe thead tr:only-child th {\n",
       "        text-align: right;\n",
       "    }\n",
       "\n",
       "    .dataframe thead th {\n",
       "        text-align: left;\n",
       "    }\n",
       "\n",
       "    .dataframe tbody tr th {\n",
       "        vertical-align: top;\n",
       "    }\n",
       "</style>\n",
       "<table border=\"1\" class=\"dataframe\">\n",
       "  <thead>\n",
       "    <tr style=\"text-align: right;\">\n",
       "      <th></th>\n",
       "      <th>1st_Road_Class</th>\n",
       "      <th>1st_Road_Number</th>\n",
       "      <th>2nd_Road_Class</th>\n",
       "      <th>2nd_Road_Number</th>\n",
       "    </tr>\n",
       "  </thead>\n",
       "  <tbody>\n",
       "    <tr>\n",
       "      <th>0</th>\n",
       "      <td>3</td>\n",
       "      <td>308</td>\n",
       "      <td>5</td>\n",
       "      <td>0</td>\n",
       "    </tr>\n",
       "    <tr>\n",
       "      <th>1</th>\n",
       "      <td>4</td>\n",
       "      <td>412</td>\n",
       "      <td>6</td>\n",
       "      <td>0</td>\n",
       "    </tr>\n",
       "    <tr>\n",
       "      <th>2</th>\n",
       "      <td>3</td>\n",
       "      <td>3220</td>\n",
       "      <td>6</td>\n",
       "      <td>0</td>\n",
       "    </tr>\n",
       "    <tr>\n",
       "      <th>3</th>\n",
       "      <td>5</td>\n",
       "      <td>0</td>\n",
       "      <td>6</td>\n",
       "      <td>0</td>\n",
       "    </tr>\n",
       "    <tr>\n",
       "      <th>4</th>\n",
       "      <td>4</td>\n",
       "      <td>325</td>\n",
       "      <td>6</td>\n",
       "      <td>0</td>\n",
       "    </tr>\n",
       "  </tbody>\n",
       "</table>\n",
       "</div>"
      ],
      "text/plain": [
       "   1st_Road_Class  1st_Road_Number  2nd_Road_Class  2nd_Road_Number\n",
       "0               3              308               5                0\n",
       "1               4              412               6                0\n",
       "2               3             3220               6                0\n",
       "3               5                0               6                0\n",
       "4               4              325               6                0"
      ]
     },
     "execution_count": 6,
     "metadata": {},
     "output_type": "execute_result"
    }
   ],
   "source": [
    "pd.DataFrame(list(accidents.find({},['1st_Road_Class', '1st_Road_Number', \n",
    "                                     '2nd_Road_Class', '2nd_Road_Number'], \n",
    "                                 limit=5)),\n",
    "             columns=['1st_Road_Class', '1st_Road_Number', \n",
    "                      '2nd_Road_Class', '2nd_Road_Number'])\n"
   ]
  },
  {
   "cell_type": "markdown",
   "metadata": {},
   "source": [
    "... and this ...\n"
   ]
  },
  {
   "cell_type": "code",
   "execution_count": 7,
   "metadata": {},
   "outputs": [
    {
     "data": {
      "text/plain": [
       "[(0, 'Not at junction or within 20 metres'),\n",
       " (1, 'Motorway'),\n",
       " (2, 'A(M)'),\n",
       " (3, 'A'),\n",
       " (4, 'B'),\n",
       " (5, 'C'),\n",
       " (6, 'Unclassified')]"
      ]
     },
     "execution_count": 7,
     "metadata": {},
     "output_type": "execute_result"
    }
   ],
   "source": [
    "sorted((c, label_of[l, c]) for l, c in label_of if l == '2nd_Road_Class')"
   ]
  },
  {
   "cell_type": "markdown",
   "metadata": {},
   "source": [
    "and you have to convert it to the 'typical' road numbers like this:"
   ]
  },
  {
   "cell_type": "code",
   "execution_count": 8,
   "metadata": {},
   "outputs": [
    {
     "data": {
      "text/html": [
       "<div>\n",
       "<style>\n",
       "    .dataframe thead tr:only-child th {\n",
       "        text-align: right;\n",
       "    }\n",
       "\n",
       "    .dataframe thead th {\n",
       "        text-align: left;\n",
       "    }\n",
       "\n",
       "    .dataframe tbody tr th {\n",
       "        vertical-align: top;\n",
       "    }\n",
       "</style>\n",
       "<table border=\"1\" class=\"dataframe\">\n",
       "  <thead>\n",
       "    <tr style=\"text-align: right;\">\n",
       "      <th></th>\n",
       "      <th>Road</th>\n",
       "      <th>RCat</th>\n",
       "    </tr>\n",
       "  </thead>\n",
       "  <tbody>\n",
       "    <tr>\n",
       "      <th>0</th>\n",
       "      <td>A5</td>\n",
       "      <td>TR</td>\n",
       "    </tr>\n",
       "    <tr>\n",
       "      <th>1</th>\n",
       "      <td>A5</td>\n",
       "      <td>TR</td>\n",
       "    </tr>\n",
       "    <tr>\n",
       "      <th>2</th>\n",
       "      <td>A40</td>\n",
       "      <td>TR</td>\n",
       "    </tr>\n",
       "    <tr>\n",
       "      <th>3</th>\n",
       "      <td>A40</td>\n",
       "      <td>TR</td>\n",
       "    </tr>\n",
       "    <tr>\n",
       "      <th>4</th>\n",
       "      <td>A40</td>\n",
       "      <td>TR</td>\n",
       "    </tr>\n",
       "  </tbody>\n",
       "</table>\n",
       "</div>"
      ],
      "text/plain": [
       "  Road RCat\n",
       "0   A5   TR\n",
       "1   A5   TR\n",
       "2  A40   TR\n",
       "3  A40   TR\n",
       "4  A40   TR"
      ]
     },
     "execution_count": 8,
     "metadata": {},
     "output_type": "execute_result"
    }
   ],
   "source": [
    "pd.DataFrame(list(roads.find({}, ['Road', 'RCat'], limit=5)),\n",
    "             columns=['Road', 'RCat'])"
   ]
  },
  {
   "cell_type": "code",
   "execution_count": 9,
   "metadata": {},
   "outputs": [
    {
     "data": {
      "text/plain": [
       "[('BR', 'Rural B road'),\n",
       " ('BU', 'Urban B road'),\n",
       " ('CR', 'Rural C road'),\n",
       " ('CU', 'Urban C road'),\n",
       " ('PM', 'Principal motorway'),\n",
       " ('PR', 'Rural principal road'),\n",
       " ('PU', 'Urban principal road'),\n",
       " ('TM', 'Trunk motorway'),\n",
       " ('TR', 'Rural trunk road'),\n",
       " ('TU', 'Urban trunk road'),\n",
       " ('UR', 'Rural U road'),\n",
       " ('UU', 'Urban U road')]"
      ]
     },
     "execution_count": 9,
     "metadata": {},
     "output_type": "execute_result"
    }
   ],
   "source": [
    "sorted((c, label_of[l, c]) for l, c in label_of if l == 'RCat')"
   ]
  },
  {
   "cell_type": "code",
   "execution_count": 10,
   "metadata": {
    "collapsed": true
   },
   "outputs": [],
   "source": [
    "def normalise_road_name(road_class, road_number):\n",
    "    if road_number == 0:\n",
    "        return None\n",
    "    if road_class == 1:\n",
    "        return 'M' + str(road_number)\n",
    "    elif road_class == 2:\n",
    "        if road_number == 1:\n",
    "            return 'A1(M)'\n",
    "        else:\n",
    "            return 'A' + str(road_number) + 'M'\n",
    "    elif road_class >= 3 and road_class <= 5:\n",
    "        return label_of['2nd_Road_Class', road_class] + str(road_number)\n",
    "    else:\n",
    "        return None\n"
   ]
  },
  {
   "cell_type": "code",
   "execution_count": 12,
   "metadata": {},
   "outputs": [
    {
     "data": {
      "text/plain": [
       "[('A308', None),\n",
       " ('B412', None),\n",
       " ('A3220', None),\n",
       " (None, None),\n",
       " ('B325', None),\n",
       " ('A308', 'A3220'),\n",
       " ('A3216', 'A4'),\n",
       " ('B450', None),\n",
       " (None, None),\n",
       " (None, None),\n",
       " ('A315', None),\n",
       " ('A315', 'A3220'),\n",
       " ('A402', 'A4206'),\n",
       " ('B415', 'B450'),\n",
       " ('B450', 'B412'),\n",
       " ('A3217', None),\n",
       " (None, None),\n",
       " ('A3220', 'A3220'),\n",
       " ('B316', None),\n",
       " ('A4204', None)]"
      ]
     },
     "execution_count": 12,
     "metadata": {},
     "output_type": "execute_result"
    }
   ],
   "source": [
    "# test it works\n",
    "[(normalise_road_name(a['1st_Road_Class'], a['1st_Road_Number']),\n",
    "  normalise_road_name(a['2nd_Road_Class'], a['2nd_Road_Number']))\n",
    " for a in accidents.find(limit=20)]"
   ]
  },
  {
   "cell_type": "code",
   "execution_count": null,
   "metadata": {
    "collapsed": true
   },
   "outputs": [],
   "source": []
  },
  {
   "cell_type": "markdown",
   "metadata": {
    "activity": "activity"
   },
   "source": [
    "### Activity 2\n",
    "When given an accident, find the closest road census document for the same road. Return `None` if there isn't one for this road.\n",
    "\n",
    "Note that the relevant road could be for either the accident's first or second recorded road.\n",
    "\n",
    "Also note that you'll need to add\n",
    "\n",
    "```\n",
    "from bson.son import SON\n",
    "```\n",
    "\n",
    "and use the direct MongoDB command `geoNear` to find the nearest road segment to a given point. \n",
    "\n",
    "```\n",
    "road_result = db.command(SON([('geoNear', 'roads'), \n",
    "                ('near', <the given point>),\n",
    "                ('spherical', True),\n",
    "                ('query', <document for additional features on road segment>),\n",
    "                ('limit', 1)]))\n",
    "```\n",
    "For example, the cell below will pick an arbitrary accident, then find the motorway segment nearest to it."
   ]
  },
  {
   "cell_type": "code",
   "execution_count": 13,
   "metadata": {},
   "outputs": [
    {
     "name": "stdout",
     "output_type": "stream",
     "text": [
      "201201BS70001 {'coordinates': [-0.169101, 51.493429], 'type': 'Point'}\n",
      "47892 Hounslow M4\n"
     ]
    }
   ],
   "source": [
    "from bson.son import SON\n",
    "\n",
    "a = accidents.find_one()\n",
    "print(a['Accident_Index'], a['loc'])\n",
    "\n",
    "nearest_road_result = db.command(SON([('geoNear', 'roads'), \n",
    "                ('near', a['loc']),                      \n",
    "                ('spherical', True),\n",
    "                ('query', {'RCat': 'TM'}),\n",
    "                ('limit', 1)]))\n",
    "\n",
    "print(nearest_road_result['results'][0]['obj']['CP'], \n",
    "      nearest_road_result['results'][0]['obj']['ONS LA Name'],\n",
    "      nearest_road_result['results'][0]['obj']['Road'])"
   ]
  },
  {
   "cell_type": "code",
   "execution_count": 15,
   "metadata": {},
   "outputs": [
    {
     "data": {
      "text/plain": [
       "{'1st_Road_Class': 3,\n",
       " '1st_Road_Number': 308,\n",
       " '2nd_Road_Class': 5,\n",
       " '2nd_Road_Number': 0,\n",
       " 'Accident_Index': '201201BS70001',\n",
       " 'Accident_Severity': 3,\n",
       " 'Carriageway_Hazards': 0,\n",
       " 'Casualties': [{'Age_Band_of_Casualty': 7,\n",
       "   'Bus_or_Coach_Passenger': 0,\n",
       "   'Car_Passenger': 0,\n",
       "   'Casualty_Class': 1,\n",
       "   'Casualty_Home_Area_Type': 1,\n",
       "   'Casualty_Reference': 1,\n",
       "   'Casualty_Severity': 3,\n",
       "   'Casualty_Type': 1,\n",
       "   'Pedestrian_Location': 0,\n",
       "   'Pedestrian_Movement': 0,\n",
       "   'Pedestrian_Road_Maintenance_Worker': 0,\n",
       "   'Sex_of_Casualty': 1,\n",
       "   'Vehicle_Reference': 2}],\n",
       " 'Date': '19/01/2012',\n",
       " 'Datetime': datetime.datetime(2012, 1, 19, 20, 35),\n",
       " 'Day_of_Week': 5,\n",
       " 'Did_Police_Officer_Attend_Scene_of_Accident': 1,\n",
       " 'Junction_Control': 2,\n",
       " 'Junction_Detail': 6,\n",
       " 'LSOA_of_Accident_Location': 'E01002821',\n",
       " 'Latitude': 51.493429,\n",
       " 'Light_Conditions': 4,\n",
       " 'Local_Authority_(District)': 12,\n",
       " 'Local_Authority_(Highway)': 'E09000020',\n",
       " 'Location_Easting_OSGR': 527200,\n",
       " 'Location_Northing_OSGR': 178760,\n",
       " 'Longitude': -0.169101,\n",
       " 'Number_of_Casualties': 1,\n",
       " 'Number_of_Vehicles': 2,\n",
       " 'Pedestrian_Crossing-Human_Control': 0,\n",
       " 'Pedestrian_Crossing-Physical_Facilities': 5,\n",
       " 'Police_Force': 1,\n",
       " 'Road_Surface_Conditions': 1,\n",
       " 'Road_Type': 6,\n",
       " 'Special_Conditions_at_Site': 0,\n",
       " 'Speed_limit': 30,\n",
       " 'Time': '20:35',\n",
       " 'Urban_or_Rural_Area': 1,\n",
       " 'Vehicles': [{'1st_Point_of_Impact': 4,\n",
       "   'Age_Band_of_Driver': 4,\n",
       "   'Age_of_Vehicle': 5,\n",
       "   'Driver_Home_Area_Type': 1,\n",
       "   'Driver_IMD_Decile': 7,\n",
       "   'Engine_Capacity_(CC)': 1390,\n",
       "   'Hit_Object_in_Carriageway': 0,\n",
       "   'Hit_Object_off_Carriageway': 0,\n",
       "   'Journey_Purpose_of_Driver': 6,\n",
       "   'Junction_Location': 8,\n",
       "   'Propulsion_Code': 1,\n",
       "   'Sex_of_Driver': 2,\n",
       "   'Skidding_and_Overturning': 0,\n",
       "   'Towing_and_Articulation': 0,\n",
       "   'Vehicle_Leaving_Carriageway': 0,\n",
       "   'Vehicle_Location-Restricted_Lane': 0,\n",
       "   'Vehicle_Manoeuvre': 9,\n",
       "   'Vehicle_Reference': 1,\n",
       "   'Vehicle_Type': 9,\n",
       "   'Was_Vehicle_Left_Hand_Drive?': 1},\n",
       "  {'1st_Point_of_Impact': 1,\n",
       "   'Age_Band_of_Driver': 7,\n",
       "   'Age_of_Vehicle': -1,\n",
       "   'Driver_Home_Area_Type': 1,\n",
       "   'Driver_IMD_Decile': 3,\n",
       "   'Engine_Capacity_(CC)': -1,\n",
       "   'Hit_Object_in_Carriageway': 0,\n",
       "   'Hit_Object_off_Carriageway': 0,\n",
       "   'Journey_Purpose_of_Driver': 6,\n",
       "   'Junction_Location': 8,\n",
       "   'Propulsion_Code': -1,\n",
       "   'Sex_of_Driver': 1,\n",
       "   'Skidding_and_Overturning': 0,\n",
       "   'Towing_and_Articulation': 0,\n",
       "   'Vehicle_Leaving_Carriageway': 0,\n",
       "   'Vehicle_Location-Restricted_Lane': 0,\n",
       "   'Vehicle_Manoeuvre': 18,\n",
       "   'Vehicle_Reference': 2,\n",
       "   'Vehicle_Type': 1,\n",
       "   'Was_Vehicle_Left_Hand_Drive?': 1}],\n",
       " 'Weather_Conditions': 1,\n",
       " '_id': ObjectId('52a9c97c92c4e16686d13265'),\n",
       " 'loc': {'coordinates': [-0.169101, 51.493429], 'type': 'Point'}}"
      ]
     },
     "execution_count": 15,
     "metadata": {},
     "output_type": "execute_result"
    }
   ],
   "source": [
    "accidents.find_one()"
   ]
  },
  {
   "cell_type": "code",
   "execution_count": null,
   "metadata": {
    "collapsed": true
   },
   "outputs": [],
   "source": []
  }
 ],
 "metadata": {
  "kernelspec": {
   "display_name": "Python 3",
   "language": "python",
   "name": "python3"
  },
  "language_info": {
   "codemirror_mode": {
    "name": "ipython",
    "version": 3
   },
   "file_extension": ".py",
   "mimetype": "text/x-python",
   "name": "python",
   "nbconvert_exporter": "python",
   "pygments_lexer": "ipython3",
   "version": "3.5.2"
  }
 },
 "nbformat": 4,
 "nbformat_minor": 2
}
