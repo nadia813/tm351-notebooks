{
 "cells": [
  {
   "cell_type": "markdown",
   "metadata": {},
   "source": [
    "## Storing the data used for TMA 02 16J, Q2 in a mongoDB database"
   ]
  },
  {
   "cell_type": "code",
   "execution_count": 1,
   "metadata": {
    "scrolled": true
   },
   "outputs": [
    {
     "name": "stdout",
     "output_type": "stream",
     "text": [
      "\"id\",\"Region_Code\",\"Region\",\"Area_Code\",\"Area\",\"Electorate\",\"ExpectedBallots\",\"VerifiedBallotPapers\",\"Pct_Turnout\",\"Votes_Cast\",\"Valid_Votes\",\"Remain\",\"Leave\",\"Rejected_Ballots\",\"No_official_mark\",\"Voting_for_both_answers\",\"Writing_or_mark\",\"Unmarked_or_void\",\"Pct_Remain\",\"Pct_Leave\",\"Pct_Rejected\"\r",
      "\r\n",
      "\"108\",\"E12000006\",\"East\",\"E06000031\",\"Peterborough\",\"120892\",\"87474\",\"87469\",\"72.35\",\"87469\",\"87392\",\"34176\",\"53216\",\"77\",\"0\",\"32\",\"7\",\"38\",\"39.11\",\"60.89\",\"0.09\"\r",
      "\r\n",
      "\"109\",\"E12000006\",\"East\",\"E06000032\",\"Luton\",\"127612\",\"84633\",\"84636\",\"66.31\",\"84616\",\"84481\",\"36708\",\"47773\",\"135\",\"0\",\"85\",\"0\",\"50\",\"43.45\",\"56.55\",\"0.16\"\r",
      "\r\n",
      "\"112\",\"E12000006\",\"East\",\"E06000033\",\"Southend-on-Sea\",\"128856\",\"93948\",\"93939\",\"72.90\",\"93939\",\"93870\",\"39348\",\"54522\",\"69\",\"0\",\"21\",\"0\",\"48\",\"41.92\",\"58.08\",\"0.07\"\r",
      "\r\n",
      "\"113\",\"E12000006\",\"East\",\"E06000034\",\"Thurrock\",\"109897\",\"79969\",\"79954\",\"72.75\",\"79950\",\"79916\",\"22151\",\"57765\",\"34\",\"0\",\"8\",\"3\",\"23\",\"27.72\",\"72.28\",\"0.04\"\r",
      "\r\n"
     ]
    }
   ],
   "source": [
    "!head -5 'data/EU-referendum-result-data.csv'"
   ]
  },
  {
   "cell_type": "code",
   "execution_count": 2,
   "metadata": {
    "scrolled": false
   },
   "outputs": [
    {
     "name": "stdout",
     "output_type": "stream",
     "text": [
      "383 data/EU-referendum-result-data.csv\r\n"
     ]
    }
   ],
   "source": [
    "!wc -l 'data/EU-referendum-result-data.csv'"
   ]
  },
  {
   "cell_type": "markdown",
   "metadata": {},
   "source": [
    "The command to import files into Mongo is `mongoimport`. It imports a file into a specified collection in the specified database. It takes a number of parameters, but these are the most useful to you:\n",
    "\n",
    "* `drop` drops the collection if it exists already\n",
    "* `db` and `collection` specify where the imported data should go\n",
    "* `headerline` indicates that the first line in the file contains the column names, which will be used as keys for the created documents\n",
    "* `ignoreBlanks` means that keys with empty values will not be created in the imported documents\n",
    "* `file` tells `mongoimport` where the data resides."
   ]
  },
  {
   "cell_type": "code",
   "execution_count": 3,
   "metadata": {},
   "outputs": [
    {
     "name": "stdout",
     "output_type": "stream",
     "text": [
      "2018-02-22T18:21:21.146+0000\tconnected to: localhost:27351\n",
      "2018-02-22T18:21:21.147+0000\tdropping: referendum.resultsdata\n",
      "2018-02-22T18:21:21.237+0000\timported 382 documents\n"
     ]
    }
   ],
   "source": [
    "!/usr/bin/mongoimport --port 27351 --drop --db referendum --collection resultsdata \\\n",
    "    --type csv --headerline --ignoreBlanks \\\n",
    "    --file data/EU-referendum-result-data.csv"
   ]
  },
  {
   "cell_type": "code",
   "execution_count": 4,
   "metadata": {
    "collapsed": true
   },
   "outputs": [],
   "source": [
    "# Import the required libraries\n",
    "import pymongo\n",
    "import bson"
   ]
  },
  {
   "cell_type": "code",
   "execution_count": 5,
   "metadata": {
    "collapsed": true
   },
   "outputs": [],
   "source": [
    "# Open a connection to the Mongo server\n",
    "client = pymongo.MongoClient('mongodb://localhost:27351/')"
   ]
  },
  {
   "cell_type": "code",
   "execution_count": 6,
   "metadata": {
    "collapsed": true
   },
   "outputs": [],
   "source": [
    "# Open the imported database and collection.\n",
    "db = client.referendum\n",
    "results = db.resultsdata"
   ]
  },
  {
   "cell_type": "code",
   "execution_count": 8,
   "metadata": {},
   "outputs": [
    {
     "data": {
      "text/plain": [
       "382"
      ]
     },
     "execution_count": 8,
     "metadata": {},
     "output_type": "execute_result"
    }
   ],
   "source": [
    "# Check the number of documents matches that given above\n",
    "results.find().count()"
   ]
  },
  {
   "cell_type": "code",
   "execution_count": 9,
   "metadata": {
    "scrolled": false
   },
   "outputs": [
    {
     "data": {
      "text/plain": [
       "{'Area': 'Peterborough',\n",
       " 'Area_Code': 'E06000031',\n",
       " 'Electorate': 120892,\n",
       " 'ExpectedBallots': 87474,\n",
       " 'Leave': 53216,\n",
       " 'No_official_mark': 0,\n",
       " 'Pct_Leave': 60.89,\n",
       " 'Pct_Rejected': 0.09,\n",
       " 'Pct_Remain': 39.11,\n",
       " 'Pct_Turnout': 72.35,\n",
       " 'Region': 'East',\n",
       " 'Region_Code': 'E12000006',\n",
       " 'Rejected_Ballots': 77,\n",
       " 'Remain': 34176,\n",
       " 'Unmarked_or_void': 38,\n",
       " 'Valid_Votes': 87392,\n",
       " 'VerifiedBallotPapers': 87469,\n",
       " 'Votes_Cast': 87469,\n",
       " 'Voting_for_both_answers': 32,\n",
       " 'Writing_or_mark': 7,\n",
       " '_id': ObjectId('5a8f0a21da8ba752b13bccaa'),\n",
       " 'id': 108}"
      ]
     },
     "execution_count": 9,
     "metadata": {},
     "output_type": "execute_result"
    }
   ],
   "source": [
    "# Look at one document\n",
    "results.find_one()"
   ]
  }
 ],
 "metadata": {
  "kernelspec": {
   "display_name": "Python 3",
   "language": "python",
   "name": "python3"
  },
  "language_info": {
   "codemirror_mode": {
    "name": "ipython",
    "version": 3
   },
   "file_extension": ".py",
   "mimetype": "text/x-python",
   "name": "python",
   "nbconvert_exporter": "python",
   "pygments_lexer": "ipython3",
   "version": "3.5.2"
  }
 },
 "nbformat": 4,
 "nbformat_minor": 1
}
