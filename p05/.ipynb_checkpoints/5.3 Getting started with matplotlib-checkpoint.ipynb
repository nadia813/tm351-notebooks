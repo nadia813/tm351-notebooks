{
 "cells": [
  {
   "cell_type": "markdown",
   "metadata": {},
   "source": [
    "# Visualising data for reporting"
   ]
  },
  {
   "cell_type": "markdown",
   "metadata": {},
   "source": [
    "This Notebook will focus on the use of visualisation in the reporting stage of the analysis pipeline.  In the main text I made the distinction between the analyst's exploratory use of graphics (showing the datasets and identifying interesting issues for further analysis) and the explanatory nature of the reporting visualisations that aim to focus attention on the findings of the analysis.    \n",
    "\n",
    "Here we are assuming that the analysis is complete; we have our findings and we want to communicate those effectively, preferably to have the graphic we produce tell part of the stories of our data, the analysis results and our findings.    \n",
    "\n",
    "In Notebook `04.3 Simple Visualisations in pandas` we used the _pandas_ `plot()` method to draw some basic graphics and we used some features of the _matplotlib.pyplot_ library to add some enhancements to those basic graphics.   Our purpose there was to allow the raw data to be presented to identify areas of interest for exploration during analysis.\n",
    "\n",
    "We won't be developing reader-driven stories in our visualisations - the focus here will be on reporting our findings, so we will aim to produce explanatory, author-driven visualisations using one or more static charts.\n",
    "\n",
    "In addition to the worked example that is the main focus of this Notebook, there are also two additional, optional examples.  These show how visualisations similar to two that appear in main text can be  built.   They are based on the Medi-care graphic (Figure 5.5) and the life expectancy v. GDP graphic (Figure 5.15) in Part 5 of the module.   These worked examples follow the _What next?_ section below."
   ]
  },
  {
   "cell_type": "markdown",
   "metadata": {},
   "source": [
    "## `Matplotlib.plyplot` and pandas `plot()`\n",
    "_matplotlib_ is a Python 2D plotting library which produces good quality figures in a variety of hardcopy formats and interactive environments across platforms. matplotlib can be used in Python scripts, the Python and IPython shell, web application servers, and various graphical user interface toolkits.  matplotlib.pyplot provides simple plotting facilities tailored to the IPython environment.  \n",
    "\n",
    "The _pandas_ `plot()` mothod is a wrapper allowing simple combinations of the `matplotlib.pyplot.plot()` and _pandas_ data strutures.  It's a good starting point for generating the basic chart, to which additional pyplot features can be applied. Working directly from matplotlib offers the greatest control of the chart elements.\n",
    "\n",
    "We only cover a limited number of features of matplotlib and _pandas_ `plot()` in this Notebook.  Additional documentation can be found at http://pandas.pydata.org/pandas-docs/stable/visualization.html for _pandas_, and http://matplotlib.org/1.5.0/api/pyplot_summary.html for `.pyplot`."
   ]
  },
  {
   "cell_type": "markdown",
   "metadata": {},
   "source": [
    "## Setting the scene for our worked examples"
   ]
  },
  {
   "cell_type": "markdown",
   "metadata": {},
   "source": [
    "### The scenario\n",
    "Heathrow Airport, on the outskirts of London, is a busy international airport. It opened a major new terminal building in March 2008. Like most major airports it suffers from some big disruptions on occasions (bad winter weather, terrorists, etc.).  Heathrow is being considered for a new runway to increase its capacity.    \n",
    "\n",
    "The monthly data for Heathrow is available, from January 2005, showing passenger numbers, air transport movements, and metric tonnes of cargo for each month (although we are not interested specifically in the cargo, it was interesting to see the data).  \n",
    "\n",
    "I looked at this data to see how Heathrow activity was growing; had the new terminal increased passenger numbers and was there evidence that flight or passenger numbers had reached a peak supporting the argument that it required a new runway?  There was also a second investigation which was to identify the impact of some major disruptions on Heathrow activity.\n",
    "\n",
    "Note: the monthly data spreadsheet has a second sheet which contains details of the passenger markets (in terms of flight origin or destination by passenger numbers) broken down into seven regions. I did not use this in the following example."
   ]
  },
  {
   "cell_type": "code",
   "execution_count": 1,
   "metadata": {
    "collapsed": true,
    "scrolled": false
   },
   "outputs": [],
   "source": [
    "import pandas as pd\n",
    "import matplotlib.pyplot as plt"
   ]
  },
  {
   "cell_type": "markdown",
   "metadata": {},
   "source": [
    "### The Heathrow data"
   ]
  },
  {
   "cell_type": "code",
   "execution_count": 2,
   "metadata": {
    "scrolled": false
   },
   "outputs": [
    {
     "data": {
      "text/html": [
       "<div>\n",
       "<style>\n",
       "    .dataframe thead tr:only-child th {\n",
       "        text-align: right;\n",
       "    }\n",
       "\n",
       "    .dataframe thead th {\n",
       "        text-align: left;\n",
       "    }\n",
       "\n",
       "    .dataframe tbody tr th {\n",
       "        vertical-align: top;\n",
       "    }\n",
       "</style>\n",
       "<table border=\"1\" class=\"dataframe\">\n",
       "  <thead>\n",
       "    <tr style=\"text-align: right;\">\n",
       "      <th></th>\n",
       "      <th>Month</th>\n",
       "      <th>Passengers</th>\n",
       "      <th>Air Transport Movements</th>\n",
       "      <th>Cargo\n",
       "(Metric Tonnes)</th>\n",
       "    </tr>\n",
       "  </thead>\n",
       "  <tbody>\n",
       "    <tr>\n",
       "      <th>1</th>\n",
       "      <td>2005-02-01</td>\n",
       "      <td>4753591</td>\n",
       "      <td>35723</td>\n",
       "      <td>99555.454</td>\n",
       "    </tr>\n",
       "    <tr>\n",
       "      <th>2</th>\n",
       "      <td>2005-03-01</td>\n",
       "      <td>5708627</td>\n",
       "      <td>39634</td>\n",
       "      <td>109387.896</td>\n",
       "    </tr>\n",
       "    <tr>\n",
       "      <th>3</th>\n",
       "      <td>2005-04-01</td>\n",
       "      <td>5573022</td>\n",
       "      <td>39096</td>\n",
       "      <td>108057.553</td>\n",
       "    </tr>\n",
       "  </tbody>\n",
       "</table>\n",
       "</div>"
      ],
      "text/plain": [
       "       Month  Passengers  Air Transport Movements  Cargo\\n(Metric Tonnes)\n",
       "1 2005-02-01     4753591                    35723               99555.454\n",
       "2 2005-03-01     5708627                    39634              109387.896\n",
       "3 2005-04-01     5573022                    39096              108057.553"
      ]
     },
     "execution_count": 2,
     "metadata": {},
     "output_type": "execute_result"
    }
   ],
   "source": [
    "# Load the Heathrow dataset.\n",
    "#   The first two lines are metadata,\n",
    "#   then headers,\n",
    "#   then lines 4-132 are data,\n",
    "\n",
    "traffic_df = pd.read_excel('data/traffic_statistics-monthly-heathrow-200501_to_201509.xlsx',\n",
    "                           sheetname='Heathrow Traffic Statistics', skiprows=2)[1:132]\n",
    "traffic_df.head(3)"
   ]
  },
  {
   "cell_type": "markdown",
   "metadata": {},
   "source": [
    "When I started writing code to use the `traffic_df` column names I got an error message that `Cargo (Metric Tonnes)` was not an index (as you can see when you run the cell below)."
   ]
  },
  {
   "cell_type": "code",
   "execution_count": 3,
   "metadata": {
    "scrolled": false
   },
   "outputs": [
    {
     "ename": "KeyError",
     "evalue": "\"['Cargo (Metric Tonnes)'] not in index\"",
     "output_type": "error",
     "traceback": [
      "\u001b[0;31m---------------------------------------------------------------------------\u001b[0m",
      "\u001b[0;31mKeyError\u001b[0m                                  Traceback (most recent call last)",
      "\u001b[0;32m<ipython-input-3-28deccab1e2d>\u001b[0m in \u001b[0;36m<module>\u001b[0;34m()\u001b[0m\n\u001b[0;32m----> 1\u001b[0;31m \u001b[0mtraffic_df\u001b[0m\u001b[0;34m[\u001b[0m\u001b[0;34m[\u001b[0m\u001b[0;34m'Month'\u001b[0m\u001b[0;34m,\u001b[0m \u001b[0;34m'Cargo (Metric Tonnes)'\u001b[0m\u001b[0;34m]\u001b[0m\u001b[0;34m]\u001b[0m\u001b[0;34m.\u001b[0m\u001b[0mplot\u001b[0m\u001b[0;34m(\u001b[0m\u001b[0;34m)\u001b[0m\u001b[0;34m\u001b[0m\u001b[0m\n\u001b[0m",
      "\u001b[0;32m/usr/local/lib/python3.5/dist-packages/pandas/core/frame.py\u001b[0m in \u001b[0;36m__getitem__\u001b[0;34m(self, key)\u001b[0m\n\u001b[1;32m   1956\u001b[0m         \u001b[0;32mif\u001b[0m \u001b[0misinstance\u001b[0m\u001b[0;34m(\u001b[0m\u001b[0mkey\u001b[0m\u001b[0;34m,\u001b[0m \u001b[0;34m(\u001b[0m\u001b[0mSeries\u001b[0m\u001b[0;34m,\u001b[0m \u001b[0mnp\u001b[0m\u001b[0;34m.\u001b[0m\u001b[0mndarray\u001b[0m\u001b[0;34m,\u001b[0m \u001b[0mIndex\u001b[0m\u001b[0;34m,\u001b[0m \u001b[0mlist\u001b[0m\u001b[0;34m)\u001b[0m\u001b[0;34m)\u001b[0m\u001b[0;34m:\u001b[0m\u001b[0;34m\u001b[0m\u001b[0m\n\u001b[1;32m   1957\u001b[0m             \u001b[0;31m# either boolean or fancy integer index\u001b[0m\u001b[0;34m\u001b[0m\u001b[0;34m\u001b[0m\u001b[0m\n\u001b[0;32m-> 1958\u001b[0;31m             \u001b[0;32mreturn\u001b[0m \u001b[0mself\u001b[0m\u001b[0;34m.\u001b[0m\u001b[0m_getitem_array\u001b[0m\u001b[0;34m(\u001b[0m\u001b[0mkey\u001b[0m\u001b[0;34m)\u001b[0m\u001b[0;34m\u001b[0m\u001b[0m\n\u001b[0m\u001b[1;32m   1959\u001b[0m         \u001b[0;32melif\u001b[0m \u001b[0misinstance\u001b[0m\u001b[0;34m(\u001b[0m\u001b[0mkey\u001b[0m\u001b[0;34m,\u001b[0m \u001b[0mDataFrame\u001b[0m\u001b[0;34m)\u001b[0m\u001b[0;34m:\u001b[0m\u001b[0;34m\u001b[0m\u001b[0m\n\u001b[1;32m   1960\u001b[0m             \u001b[0;32mreturn\u001b[0m \u001b[0mself\u001b[0m\u001b[0;34m.\u001b[0m\u001b[0m_getitem_frame\u001b[0m\u001b[0;34m(\u001b[0m\u001b[0mkey\u001b[0m\u001b[0;34m)\u001b[0m\u001b[0;34m\u001b[0m\u001b[0m\n",
      "\u001b[0;32m/usr/local/lib/python3.5/dist-packages/pandas/core/frame.py\u001b[0m in \u001b[0;36m_getitem_array\u001b[0;34m(self, key)\u001b[0m\n\u001b[1;32m   2000\u001b[0m             \u001b[0;32mreturn\u001b[0m \u001b[0mself\u001b[0m\u001b[0;34m.\u001b[0m\u001b[0mtake\u001b[0m\u001b[0;34m(\u001b[0m\u001b[0mindexer\u001b[0m\u001b[0;34m,\u001b[0m \u001b[0maxis\u001b[0m\u001b[0;34m=\u001b[0m\u001b[0;36m0\u001b[0m\u001b[0;34m,\u001b[0m \u001b[0mconvert\u001b[0m\u001b[0;34m=\u001b[0m\u001b[0;32mFalse\u001b[0m\u001b[0;34m)\u001b[0m\u001b[0;34m\u001b[0m\u001b[0m\n\u001b[1;32m   2001\u001b[0m         \u001b[0;32melse\u001b[0m\u001b[0;34m:\u001b[0m\u001b[0;34m\u001b[0m\u001b[0m\n\u001b[0;32m-> 2002\u001b[0;31m             \u001b[0mindexer\u001b[0m \u001b[0;34m=\u001b[0m \u001b[0mself\u001b[0m\u001b[0;34m.\u001b[0m\u001b[0mloc\u001b[0m\u001b[0;34m.\u001b[0m\u001b[0m_convert_to_indexer\u001b[0m\u001b[0;34m(\u001b[0m\u001b[0mkey\u001b[0m\u001b[0;34m,\u001b[0m \u001b[0maxis\u001b[0m\u001b[0;34m=\u001b[0m\u001b[0;36m1\u001b[0m\u001b[0;34m)\u001b[0m\u001b[0;34m\u001b[0m\u001b[0m\n\u001b[0m\u001b[1;32m   2003\u001b[0m             \u001b[0;32mreturn\u001b[0m \u001b[0mself\u001b[0m\u001b[0;34m.\u001b[0m\u001b[0mtake\u001b[0m\u001b[0;34m(\u001b[0m\u001b[0mindexer\u001b[0m\u001b[0;34m,\u001b[0m \u001b[0maxis\u001b[0m\u001b[0;34m=\u001b[0m\u001b[0;36m1\u001b[0m\u001b[0;34m,\u001b[0m \u001b[0mconvert\u001b[0m\u001b[0;34m=\u001b[0m\u001b[0;32mTrue\u001b[0m\u001b[0;34m)\u001b[0m\u001b[0;34m\u001b[0m\u001b[0m\n\u001b[1;32m   2004\u001b[0m \u001b[0;34m\u001b[0m\u001b[0m\n",
      "\u001b[0;32m/usr/local/lib/python3.5/dist-packages/pandas/core/indexing.py\u001b[0m in \u001b[0;36m_convert_to_indexer\u001b[0;34m(self, obj, axis, is_setter)\u001b[0m\n\u001b[1;32m   1229\u001b[0m                 \u001b[0mmask\u001b[0m \u001b[0;34m=\u001b[0m \u001b[0mcheck\u001b[0m \u001b[0;34m==\u001b[0m \u001b[0;34m-\u001b[0m\u001b[0;36m1\u001b[0m\u001b[0;34m\u001b[0m\u001b[0m\n\u001b[1;32m   1230\u001b[0m                 \u001b[0;32mif\u001b[0m \u001b[0mmask\u001b[0m\u001b[0;34m.\u001b[0m\u001b[0many\u001b[0m\u001b[0;34m(\u001b[0m\u001b[0;34m)\u001b[0m\u001b[0;34m:\u001b[0m\u001b[0;34m\u001b[0m\u001b[0m\n\u001b[0;32m-> 1231\u001b[0;31m                     \u001b[0;32mraise\u001b[0m \u001b[0mKeyError\u001b[0m\u001b[0;34m(\u001b[0m\u001b[0;34m'%s not in index'\u001b[0m \u001b[0;34m%\u001b[0m \u001b[0mobjarr\u001b[0m\u001b[0;34m[\u001b[0m\u001b[0mmask\u001b[0m\u001b[0;34m]\u001b[0m\u001b[0;34m)\u001b[0m\u001b[0;34m\u001b[0m\u001b[0m\n\u001b[0m\u001b[1;32m   1232\u001b[0m \u001b[0;34m\u001b[0m\u001b[0m\n\u001b[1;32m   1233\u001b[0m                 \u001b[0;32mreturn\u001b[0m \u001b[0m_values_from_object\u001b[0m\u001b[0;34m(\u001b[0m\u001b[0mindexer\u001b[0m\u001b[0;34m)\u001b[0m\u001b[0;34m\u001b[0m\u001b[0m\n",
      "\u001b[0;31mKeyError\u001b[0m: \"['Cargo (Metric Tonnes)'] not in index\""
     ]
    }
   ],
   "source": [
    "traffic_df[['Month', 'Cargo (Metric Tonnes)']].plot()"
   ]
  },
  {
   "cell_type": "markdown",
   "metadata": {},
   "source": [
    "This was a bit puzzling as it clearly _is_ in the index, but eventually I displayed the column names for  `traffic_df` - at that point it became clear that the original spreadheet had a newline character in the column name."
   ]
  },
  {
   "cell_type": "code",
   "execution_count": null,
   "metadata": {
    "collapsed": true,
    "scrolled": false
   },
   "outputs": [],
   "source": [
    "traffic_df.columns"
   ]
  },
  {
   "cell_type": "code",
   "execution_count": null,
   "metadata": {
    "collapsed": true,
    "scrolled": false
   },
   "outputs": [],
   "source": [
    "# This revealed the column name had a newline character embedded in it.\n",
    "# We can replace this in traffic_df with column renaming.\n",
    "traffic_df.rename(columns={'Cargo\\n(Metric Tonnes)': 'Cargo (Metric Tonnes)'},\n",
    "                  inplace=True)\n",
    "traffic_df.columns"
   ]
  },
  {
   "cell_type": "markdown",
   "metadata": {},
   "source": [
    "### The 'raw' data"
   ]
  },
  {
   "cell_type": "raw",
   "metadata": {},
   "source": [
    "Let's start with a simple line chart of the various datasets against time. I've put each in their own plot, so that the individual traces can be seen clearly."
   ]
  },
  {
   "cell_type": "markdown",
   "metadata": {},
   "source": [
    "### Air transport movements: flights"
   ]
  },
  {
   "cell_type": "code",
   "execution_count": null,
   "metadata": {
    "collapsed": true,
    "scrolled": false
   },
   "outputs": [],
   "source": [
    "traffic_df[['Month', 'Air Transport Movements']].plot.line(x='Month', y='Air Transport Movements', \n",
    "                                                           figsize=(30,10), grid=True);"
   ]
  },
  {
   "cell_type": "markdown",
   "metadata": {},
   "source": [
    "There's clearly a repeating pattern, showing seasonal activity in this trace. There are three relatively noticable troughs in early 2009, and early and late 2010 which suggest some major disruption to flight patterns.  In general there has been a small increase in the peak activity each year (which looks to be around June and July each year).  However that's not a significant increase in flight numbers over the ten-year period.  Even allowing for the three notable troughs in flight numbers, there has been a small decrease in the flights at the quietest times of the year."
   ]
  },
  {
   "cell_type": "markdown",
   "metadata": {},
   "source": [
    "### Passenger numbers"
   ]
  },
  {
   "cell_type": "code",
   "execution_count": null,
   "metadata": {
    "collapsed": true,
    "scrolled": false
   },
   "outputs": [],
   "source": [
    "traffic_df[['Month', 'Passengers']].plot.line(x='Month', y='Passengers', \n",
    "                                              figsize=(30,10), grid=True);"
   ]
  },
  {
   "cell_type": "markdown",
   "metadata": {},
   "source": [
    "Passenger numbers show a similar seasonal variation with the data showing similar annual shape, but in general the trend at peak and at lowest points each year is showing an upward trend.  The noted cargo troughs also appear on the passenger numbers for early 2009 and early and late 2010.  "
   ]
  },
  {
   "cell_type": "markdown",
   "metadata": {},
   "source": [
    "### Noteable events impacting on Heathrow \n",
    "As reported, Terminal 5 opened at Heathrow in March 2008; neither graph is showing any particular variations at that time, or immediately following.\n",
    "\n",
    "A quick search for events that potentially had an impact on Heathrow, or general air traffic in Europe turned up the following:\n",
    "\n",
    "* A terror alert in August 2006\n",
    "* A global recession,  Q2 2008 to Q3 2009\n",
    "* The eruption of Eyjafjallajökull closed European airspace between 15 and 23 April 2010, continuing to affect air traffic in early May\n",
    "* A major period of bad weather in December 2010\n",
    "* A period of bad weather in February 2012 \n",
    "* The Anti-Austerity strikes across Europe in November 2012\n",
    "* A period of bad weather in January 2013\n",
    "\n",
    "We will want to identify these points in any story about disruptions to the airport."
   ]
  },
  {
   "cell_type": "markdown",
   "metadata": {},
   "source": [
    "### Cargo (metric tonnes) \n",
    "We aren't going to explore the cargo data further, but it is worth noting how different the chart's overall shape looks compared to the flight numbers and the passenger numbers."
   ]
  },
  {
   "cell_type": "code",
   "execution_count": null,
   "metadata": {
    "collapsed": true,
    "scrolled": false
   },
   "outputs": [],
   "source": [
    "traffic_df[['Month', 'Cargo (Metric Tonnes)']].plot.line(x='Month', y='Cargo (Metric Tonnes)', \n",
    "                                                         figsize=(30,10), grid=True);"
   ]
  },
  {
   "cell_type": "markdown",
   "metadata": {},
   "source": [
    "The cargo figures show a very different graphic, with a major trough from late 2008 through to later 2009 which reflects the period during which the UK (and many global markets) underwent a period of recession. It's quite noticeable that the periods before and after the winter of 2009 appear to show a step change in the highest and lowest points each year."
   ]
  },
  {
   "cell_type": "markdown",
   "metadata": {},
   "source": [
    "### The first story we want to tell: has peak capacity been reached?\n",
    "Our first story is around capacity and any indications that Heathrow is running at full capactity. The number of flights has not dramatically risen during the ten-year period of the graph, while passenger numbers have risen by a significant amount. We're going to want to draw attention to these differences.\n",
    "\n",
    "These are both noisy graphs, with a lot of seasonal movement evident, but the line graph does seem to be a good chart for this purpose.   Since it's airport capacity we are interested in, we can probably ignore the quiet months, and reshape the dataset so that, in each year, just the peak monthly figure is shown.  This will give us ten peak values over the ten years covered by the dataset.  \n",
    "\n",
    "We'll plot these first on separate plots, but then combine them onto one chart.  \n",
    "(Note that we can't just combine them by plotting the two lines on the same axes, as the difference in the scale of values between the two plots prevent a meaningful graph being produced. If you're not sure what I mean - try simply putting the two columns into the `y` parameter for a `plot()` and acccept the defaults.)"
   ]
  },
  {
   "cell_type": "code",
   "execution_count": null,
   "metadata": {
    "collapsed": true,
    "scrolled": false
   },
   "outputs": [],
   "source": [
    "# Load the Heathrow dataset.\n",
    "traffic_df = pd.read_excel('data/traffic_statistics-monthly-heathrow-200501_to_201509.xlsx',\n",
    "                           sheetname='Heathrow Traffic Statistics', skiprows=2)[1:132]\n",
    "\n",
    "# First let's make the year and month values explicit in our tables\n",
    "#  and rename the spreadsheet Month for convenience.\n",
    "traffic_df.rename(columns={'Month': 'Year-Month'}, inplace=True)\n",
    "traffic_df['Year'] = traffic_df['Year-Month'].dt.year\n",
    "traffic_df['Month'] = traffic_df['Year-Month'].dt.month\n",
    "\n",
    "traffic_df.head(2)"
   ]
  },
  {
   "cell_type": "code",
   "execution_count": null,
   "metadata": {
    "collapsed": true,
    "scrolled": false
   },
   "outputs": [],
   "source": [
    "# And we can rescale the Passenger Numbers and AirTransportNumbers \n",
    "# so their axes values lose the trailing 0's:\n",
    "traffic_df['PassengerMillions'] = traffic_df['Passengers']/1000000\n",
    "traffic_df['MovementThousands'] = traffic_df['Air Transport Movements']/1000\n",
    "\n",
    "traffic_df.head(2)"
   ]
  },
  {
   "cell_type": "code",
   "execution_count": null,
   "metadata": {
    "code_folding": [],
    "collapsed": true,
    "scrolled": false
   },
   "outputs": [],
   "source": [
    "# Now group traffic_df by year, and for each year get the maximum \n",
    "# passenger and air transport movements values.\n",
    "traffic_df_grouped = traffic_df.groupby(['Year'])\n",
    "\n",
    "PeakTraffic_df = traffic_df_grouped['PassengerMillions','MovementThousands'].aggregate('max')\n",
    "\n",
    "PeakTraffic_df.head(2)"
   ]
  },
  {
   "cell_type": "code",
   "execution_count": null,
   "metadata": {
    "collapsed": true,
    "scrolled": false
   },
   "outputs": [],
   "source": [
    "PeakTraffic_df['MovementThousands'].plot.bar(ylim=[35,45])\n",
    "plt.xlabel('Year')\n",
    "plt.ylabel('Peak Air Transport Movements (''000s)');"
   ]
  },
  {
   "cell_type": "code",
   "execution_count": null,
   "metadata": {
    "collapsed": true,
    "scrolled": false
   },
   "outputs": [],
   "source": [
    "PeakTraffic_df['PassengerMillions'].plot.bar(ylim=[4,8])\n",
    "plt.xlabel('Year')\n",
    "plt.ylabel('Peak Passenger numbers (Millions)');"
   ]
  },
  {
   "cell_type": "markdown",
   "metadata": {},
   "source": [
    "# Pause for thought\n",
    "The bar graphs look good individually, but won't overlay particularly well when we need two sets of axes - one with a range 4-8 and one with a range 30-50.\n",
    "Let's go back to a line graph for these values."
   ]
  },
  {
   "cell_type": "code",
   "execution_count": null,
   "metadata": {
    "collapsed": true,
    "scrolled": false
   },
   "outputs": [],
   "source": [
    "PeakTraffic_df['MovementThousands'].plot.line(ylim=[35,45])\n",
    "plt.xlabel('Year')\n",
    "plt.ylabel('Peak Air Transport Movements (''000s)');"
   ]
  },
  {
   "cell_type": "code",
   "execution_count": null,
   "metadata": {
    "collapsed": true,
    "scrolled": false
   },
   "outputs": [],
   "source": [
    "PeakTraffic_df['PassengerMillions'].plot.line(ylim=[4,8])\n",
    "plt.xlabel('Year')\n",
    "plt.ylabel('Peak Passenger numbers (Millions)');"
   ]
  },
  {
   "cell_type": "markdown",
   "metadata": {},
   "source": [
    "## Combining two plots into one figure\n",
    "Now I want to combine these two plots onto one figure so that we can do a direct \n",
    "comparison; but we need different _y_-axis scales for each graphic."
   ]
  },
  {
   "cell_type": "code",
   "execution_count": null,
   "metadata": {
    "collapsed": true,
    "scrolled": false
   },
   "outputs": [],
   "source": [
    "# We have to do some work ourselves rather than simply \n",
    "#  letting .plot and plt work things out.\n",
    "\n",
    "# Let's start with our figure object - the one in which the plots will appear.\n",
    "fig = plt.figure()\n",
    "\n",
    "# Now create our first axes object for our first subplot.\n",
    "# The 111 tells subplot that there we want a grid of 1 by 1 subplots (i.e. 1 of them)\n",
    "# and that we want this axes to refer to the first of these (i.e the only one):\n",
    "PassengerAxes = fig.add_subplot(111)\n",
    "PeakTraffic_df['PassengerMillions'].plot.line(ax=PassengerAxes, \n",
    "                                              ylim=[5,8], color='red')\n",
    "PassengerAxes.set_ylabel('Peak passenger numbers(Millions)')\n",
    "\n",
    "\n",
    "# We now want a second axes object, in the same place (twinned \n",
    "# with the PassengerAxes), furthermore we want the x-axis to \n",
    "# be shared (.twiny() would allow us to share the y-axes).\n",
    "AirTransportAxes = PassengerAxes.twinx()\n",
    "\n",
    "# Now we can plot onto the AirTransportAxes:\n",
    "PeakTraffic_df['MovementThousands'].plot.line(ax=AirTransportAxes,\n",
    "                                              ylim=[37,45], color='blue' )\n",
    "# and set the AirTransport Axes y-axis label,\n",
    "AirTransportAxes.set_ylabel('Peak Air Transport Movements (''000s)')\n",
    "\n",
    "# and we can set the position for each axes legend,\n",
    "PassengerAxes.legend(loc=2, frameon=False, fontsize=10)\n",
    "AirTransportAxes.legend(loc=4, frameon=False, fontsize=10)\n",
    "\n",
    "# and a title\n",
    "plt.title('Ten-year rise in\\nair transport and passenger numbers\\nat Heathrow 2005-2015', \n",
    "          fontsize=15);\n"
   ]
  },
  {
   "cell_type": "markdown",
   "metadata": {},
   "source": [
    "At this point there is plenty of white space to add descriptive text, perhaps reporting the ten-year percentage increases in each traffic; and of course a reminder that the two _y_-axes have different scales.\n",
    "\n",
    "So is Heathrow nearing peak capacity? It certainly looks as if the total number of flights is not growing dramatically, but with passenger numbers continuing to rise they're either putting more passengers into each aircraft or flying bigger aircraft (or maybe fewer of the flights are carrying cargo)."
   ]
  },
  {
   "cell_type": "markdown",
   "metadata": {},
   "source": [
    "### The second story\n",
    "Our second story requires a different approach: here we want to see the impact of specific events on passenger and flight numbers. \n",
    "\n",
    "The raw graphs could be labelled with simple point markers to indicate the months in which the 'point' events (those of short duration) took place. The longer duration period could be shown by placing a line or shading the graph between the two dates. However, the impact of the events requires comparison with the same period in preceeding and subsequent years.  We need to easily compare (say) January in 2010 with January in 2009 and 2011.  So we want to show data from the same month together.\n",
    "\n",
    "I chose to show each data point sorted by month; we're not aggregating the data as we want to see each actual data point, so there is no need to group the data.  As you will see this has the effect of stacking each months value into a column, and in that column we want to single out the specific year of interest. \n",
    "\n",
    "We also want to see which months were in long-term events - such as the recession - which span more than one month.  We can do this by colouring the scatter points.\n",
    "\n",
    "The colouring and the identification of data points of interest is a manual process (in this case); in a different kind of investigation it may be possible to automate this, using category, or lists of data points of interest.  Similarly the placement of text needs fine tuning to ensure it doesn't obscure the detail in the data. So the following cells represent the result of a number of iterations (even trying different colour combinations) to adjust parameters until I achieved something I was reasonably happy with."
   ]
  },
  {
   "cell_type": "code",
   "execution_count": null,
   "metadata": {
    "collapsed": true,
    "scrolled": false
   },
   "outputs": [],
   "source": [
    "# Set the default colour for all non-disrupted monthly data: \n",
    "traffic_df['Colour'] = 'orange'\n",
    "\n",
    "# Now to set the Colour values for periods of long-term disruption\n",
    "# (luckily there are no overlapping periods or we'd have had to do \n",
    "#  something different to simple colouring).\n",
    "\n",
    "# The global recession Q2, 2008 to Q3, 2009\n",
    "traffic_df.loc[((traffic_df.Year == 2008) & (traffic_df.Month >= 4)), ['Colour']] = 'purple'\n",
    "traffic_df.loc[((traffic_df.Year == 2009) & (traffic_df.Month <= 9)), ['Colour']] = 'purple'\n",
    "\n",
    "# The 2012 Olympics took place between July and August 2012.\n",
    "traffic_df.loc[((traffic_df.Year == 2012) & (traffic_df.Month == 7)), ['Colour']] = 'green'\n",
    "traffic_df.loc[((traffic_df.Year == 2012) & (traffic_df.Month == 8)), ['Colour']] = 'green'\n",
    "\n",
    "# I'll also use colour to tie together the dots for the three periods of bad \n",
    "# winter weather Dec 2010, Feb 2012, and Jan 2013.\n",
    "traffic_df.loc[((traffic_df.Year == 2010) & (traffic_df.Month == 12)), ['Colour']] = 'red'\n",
    "traffic_df.loc[((traffic_df.Year == 2012) & (traffic_df.Month ==  2)), ['Colour']] = 'red'\n",
    "traffic_df.loc[((traffic_df.Year == 2013) & (traffic_df.Month ==  1)), ['Colour']] = 'red'\n",
    "\n",
    "traffic_df.tail(5)"
   ]
  },
  {
   "cell_type": "code",
   "execution_count": null,
   "metadata": {
    "collapsed": true,
    "scrolled": false
   },
   "outputs": [],
   "source": [
    "# Now a quick check that sorting on Month gives us a sensible result:\n",
    "traffic_df_sorted = traffic_df.sort_values(by=['Month','Year'])\n",
    "\n",
    "# The following turned out to be handy when I needed to find the values of the data points\n",
    "# that I needed to annotate - I could change the month value to display the relevant data, \n",
    "# pick out the year of interest then cut and paste the relevant values into the later cells.\n",
    "\n",
    "traffic_df_sorted[traffic_df_sorted.Month == 1]"
   ]
  },
  {
   "cell_type": "code",
   "execution_count": null,
   "metadata": {
    "code_folding": [],
    "collapsed": true,
    "scrolled": false
   },
   "outputs": [],
   "source": [
    "# The basic plot has been constructed with pandas plot()\n",
    "# This creates a matplotlib plot figure that we can then add to using\n",
    "# matplotlib or matplotlib.pyplot functionality.\n",
    "\n",
    "# Here we show the data as a scatter plot, with each point 50 units in size (s).\n",
    "# We've set the ylim limits to avoid a lot of empty white space, and used the colour values \n",
    "# to colour the scatter points.\n",
    "traffic_df_sorted.plot.scatter(x='Month', y='MovementThousands', \n",
    "                               ylim=[30,44], figsize=(10,8),\n",
    "                               s=50, \n",
    "                               c=traffic_df_sorted['Colour'])"
   ]
  },
  {
   "cell_type": "code",
   "execution_count": null,
   "metadata": {
    "code_folding": [],
    "collapsed": true,
    "scrolled": false
   },
   "outputs": [],
   "source": [
    "# We now want to take this basic plot and add useful \n",
    "# information (like month names), a description of the \n",
    "# data on the axes, and to identify and describe the \n",
    "# points of interest.\n",
    "\n",
    "# So, we start with our basic plot:\n",
    "traffic_df_sorted.plot.scatter(x='Month', y='MovementThousands', \n",
    "                               ylim=[30,43], figsize=(10,8),\n",
    "                               s=50, \n",
    "                               c=traffic_df_sorted['Colour'])\n",
    "\n",
    "\n",
    "# Title and axes labels can be added:\n",
    "plt.title('Impact of disruption to Air Transport Movements', fontsize=20, color='Blue')\n",
    "plt.xlabel('Jan 2005 - Sep 2015, by month')\n",
    "plt.ylabel('Air Transport Movements (''000s)')\n",
    "\n",
    "# The basic plot uses the month numbers on the x-axis.\n",
    "# We want to supply the month names to use in their place.\n",
    "# The xticks(range(13),... says I want 13 ticks on the\n",
    "#    line with values 0,1,..12; the name list then says replace \n",
    "#    the numbers with the corresponding value from this list.\n",
    "#    Note the '' name at the start of the names list to match the 0 tick.\n",
    "plt.xticks(range(13),['','Jan','Feb','Mar','Apr', 'May','Jun',\n",
    "                        'Jul','Aug','Sep','Oct','Nov','Dec'])\n",
    "\n",
    "# We want to add annotations to the specific points that may have disrupted the airport.\n",
    "# Note that the xy and xytext values are data coordinates (x,y).\n",
    "plt.annotate('Eyjafjallajökull erupts\\nApr 2010', xy=(4,31.098), xytext=(4,32), \n",
    "             arrowprops=dict(arrowstyle='->', facecolor='black'))\n",
    "plt.annotate('                       \\n        ', xy=(5,37.899), xytext=(4,32.5), \n",
    "             arrowprops=dict(arrowstyle='->', facecolor='black'))\n",
    "plt.annotate('Dec 2010', xy=(12,32.481), xytext=(12,31), \n",
    "             arrowprops=dict(arrowstyle='->', facecolor='black'))\n",
    "plt.annotate('Jan 2013', xy=(1,36.872), xytext=(1,32), \n",
    "             arrowprops=dict(arrowstyle='->', facecolor='black'))\n",
    "plt.annotate('Feb 2012', xy=(2,36.8345), xytext=(2,33), \n",
    "             arrowprops=dict(arrowstyle='->', facecolor='black'))\n",
    "plt.annotate('Anti-austerity\\nstrikes across\\nEurope\\nNov 2012', xy=(11,37.305), xytext=(11,35), \n",
    "             arrowprops=dict(arrowstyle='->', facecolor='black'))\n",
    "plt.annotate('A terror alert\\nAug 2006', xy=(8,39.611), xytext=(8,34), \n",
    "             arrowprops=dict(arrowstyle='->', facecolor='black'))\n",
    "plt.annotate('Baggage handler\\nstrike\\nJun 2010', xy=(6,37.989), xytext=(5,36), \n",
    "             arrowprops=dict(arrowstyle='->', facecolor='black'))\n",
    "\n",
    "# Since we've created our own colouring scheme, we need to create a list of colour patches and\n",
    "# a text for use as the plots legend.  \n",
    "\n",
    "# The mpatches.Patch() from matplotlib creates an element that can \n",
    "# be used in the handles parameter of the plt.legend() function to create an entry in the legend.\n",
    "\n",
    "import matplotlib.patches as mpatches\n",
    "legendpatch_list = ([mpatches.Patch(color='red', label='Severe Winter Weather')]+\n",
    "                    [mpatches.Patch(color='green', label='London Olympics')]+\n",
    "                    [mpatches.Patch(color='purple', label='2008-9 Recession')])   \n",
    "# We want to show that legend with our graphic.\n",
    "# Here the x,y values for the location are figure coordinates between 0 and 1.\n",
    "#  If you exceed 1, the legend is drawn outside the figure (as shown in this example).\n",
    "plt.legend(handles=legendpatch_list, loc=(1.1,0.7) )\n",
    "\n",
    "# If you want to save the output, the defaut is to PNG format.\n",
    "# It's a simple call to which you supply the filename and path for the output\n",
    "# (Check the output directory path exists and if it doesnlt, create it.)\n",
    "!mkdir -p visualisation-output-files\n",
    "plt.savefig('visualisation-output-files/DisruptionToAirTransportMovements.png')\n",
    "# However note that the legend is outside the figure boundaries in this example,\n",
    "# so is not included in the PNG output."
   ]
  },
  {
   "cell_type": "markdown",
   "metadata": {},
   "source": [
    "Having built the above for the air transport movements it's a relatively easy step to change this for the passenger numbers - although there's a need to manually reset the annotated `xy` values.\n",
    "\n",
    "The colouring, and the sorted traffic DataFrame, remain the same: everything we need to adapt is in the last cell above, so we can copy it to the cell below and edit the values directly. (The following cell contains the result of my adjustments.)"
   ]
  },
  {
   "cell_type": "code",
   "execution_count": null,
   "metadata": {
    "code_folding": [],
    "collapsed": true,
    "scrolled": false
   },
   "outputs": [],
   "source": [
    "traffic_df_sorted.plot.scatter(x='Month', y='PassengerMillions', \n",
    "                               ylim=[4,8], figsize=(10,8),\n",
    "                               s=50, \n",
    "                               edgecolors=traffic_df_sorted['Colour'],\n",
    "                               c='white')\n",
    "\n",
    "# Title and axes labels:\n",
    "plt.title('Impact of disruption to Passenger numbers', fontsize=20, color='Blue')\n",
    "plt.xlabel('Jan 2005 - Sep 2015, by month')\n",
    "plt.ylabel('Passenger numbers (Millions)')\n",
    "\n",
    "# Use month names on the x-axis; the range(13) basically says I \n",
    "# want 13 ticks on the line with values 0,1,...,12\n",
    "plt.xticks(range(13),['','Jan','Feb','Mar','Apr', 'May','Jun',\n",
    "                        'Jul','Aug','Sep','Oct','Nov','Dec'])\n",
    "\n",
    "# Now add annotations to specific points.\n",
    "# The annotation uses the data points for x and y values,\n",
    "# so these need to be reset for the Passenger Numbers.\n",
    "plt.annotate('Eyjafjallajökull erupts\\nApr 2010', xy=(4,4.446530), xytext=(4,4.75), \n",
    "             arrowprops=dict(arrowstyle='->', facecolor='black'))\n",
    "plt.annotate('                       \\n        ', xy=(5,5.255772), xytext=(4,5), \n",
    "             arrowprops=dict(arrowstyle='->', facecolor='black'))\n",
    "plt.annotate('Dec 2010', xy=(12,4.809195), xytext=(12,4.5), \n",
    "             arrowprops=dict(arrowstyle='->', facecolor='black'))\n",
    "plt.annotate('Jan 2013', xy=(1,5.184924), xytext=(1,4.1), \n",
    "             arrowprops=dict(arrowstyle='->', facecolor='black'))\n",
    "plt.annotate('Feb 2012', xy=(2,4.798785), xytext=(3,4.25), \n",
    "             arrowprops=dict(arrowstyle='->', facecolor='black'))\n",
    "plt.annotate('Anti-austerity strikes\\nacross Europe\\nNov 2012', xy=(11,5.381138), xytext=(10,4.1), \n",
    "             arrowprops=dict(arrowstyle='->', facecolor='black'))\n",
    "plt.annotate('A terror alert\\nAug 2006', xy=(8,5.987755), xytext=(8,4.5), \n",
    "             arrowprops=dict(arrowstyle='->', facecolor='black'))\n",
    "plt.annotate('Baggage handler\\nstrike\\nJun 2010', xy=(6,5.783051), xytext=(6,5.25), \n",
    "             arrowprops=dict(arrowstyle='->', facecolor='black'))\n",
    "\n",
    "import matplotlib.patches as mpatches\n",
    "legendpatch_list = ([mpatches.Patch(color='red', label='Severe Winter Weather')]+\n",
    "                   [mpatches.Patch(color='green', label='London Olympics')]+\n",
    "                   [mpatches.Patch(color='pink', label='2008-9 Recession')])   \n",
    "# legend location uses figure coordinates not data coordinates:\n",
    "plt.legend(handles=legendpatch_list, loc=(0.65,0.85) )\n",
    "\n",
    "# And save it to include in our written report:\n",
    "plt.savefig('visualisation-output-files/DisruptionToPassengerNumbers.png')"
   ]
  },
  {
   "cell_type": "markdown",
   "metadata": {},
   "source": [
    "Well, that's two graphics, one showing air traffic and the other showing passenger movements.  There are clearly some interesting comparisons to be made (and of course I may have missed several important events, or underlying trends that make the above a misleading reporting visualisation).\n",
    "\n",
    "But does it tell any stories?  Sadly, not that well - I'm not a graphic designer - but even with the limitations in the charts above I've been able to draw attention to several things I would want my story to feature.   Winters are bad for Heathrow.  Recessions are bad for passenger numbers.  Volcanoes are bad for airports.  And, perhaps surprisingly, during the Olympic months the passenger numbers at Heathrow weren't the highest for those months in the ten years shown.\n",
    "\n",
    "One of the problems with these graphics is that they are trying to tell several distinct stories - as a result it's cluttered and there are to many things trying to attract the reader's attention.\n",
    "\n",
    "You may want to use these, or other datasets, to practice your story telling and reporting.  (I'm fairly sure there are some simple adjustments to the above examples that will improve things.)  You might want to critique the above, or suggest and implement some improvements on the module forums or in OpenStudio.  If you do decide to do this, I'd recommend picking one story and telling it well!"
   ]
  },
  {
   "cell_type": "markdown",
   "metadata": {},
   "source": [
    "# What next?\n",
    "In this Notebook, we have introduced some of the features of matplotlib that help in the production of graphics to support reporting results. \n",
    "\n",
    "As always, feel free to extend this Notebook as your own personal reference by adding further sections about additional chart types or adornments.\n",
    "\n",
    "If you are working through this Notebook as part of an inline exercise, return to the module materials now. \n",
    "\n",
    "If you are working through this set of Notebooks as a whole, you have completed the final Notebook in Parts 1-5 of the module."
   ]
  },
  {
   "cell_type": "markdown",
   "metadata": {},
   "source": [
    "## Using matplotlib to recreate two example figures from the main text (optional)"
   ]
  },
  {
   "cell_type": "markdown",
   "metadata": {},
   "source": [
    "### The Medicare graphic revisited\n",
    "####              (Figure 5.5, Projected costs of Medicare at various time points)"
   ]
  },
  {
   "cell_type": "markdown",
   "metadata": {},
   "source": [
    "Without access to the original datasets this would be very complex to recreate.  \n",
    "\n",
    "So, let's simplify it while aiming to achieve a similar effect. \n",
    "We're going to plot four line charts.  Three of these will be old (background) data; we want those lines to be faded/grey muted colours. We want the fourth to immediately catch the eye - the focus point of our story is the new data.\n",
    "\n",
    "In this example it doesn't really matter what the story is, we're simply demonstrating a range of pre-attentive attributes that were used in the original figure to draw the eye to the key player in our story."
   ]
  },
  {
   "cell_type": "code",
   "execution_count": null,
   "metadata": {
    "collapsed": true,
    "scrolled": false
   },
   "outputs": [],
   "source": [
    "# Here are our four datasets:\n",
    "data_df = pd.DataFrame({'Old1' : [1,8,12,16,23,27,30],\n",
    "                        'Old2' : [1,12,15,14,20,17,21],\n",
    "                        'Old3' : [3,9,12,15,18,16,25],\n",
    "                        'New'  : [1,9,14,18,21,18,22]\n",
    "                        })\n",
    "data_df"
   ]
  },
  {
   "cell_type": "code",
   "execution_count": null,
   "metadata": {
    "collapsed": true,
    "scrolled": false
   },
   "outputs": [],
   "source": [
    "# If we simply plot this data, our focal point isn't really that clear.\n",
    "\n",
    "data_df.plot.line();\n",
    "\n",
    "# We need to make the New data stand out. "
   ]
  },
  {
   "cell_type": "code",
   "execution_count": null,
   "metadata": {
    "collapsed": true,
    "scrolled": false
   },
   "outputs": [],
   "source": [
    "# To do this I'm going to split the plot into two, and will \n",
    "# use the matplotlib.pyplot features.\n",
    "\n",
    "# Starting with our 'interesting data':\n",
    "plt.plot(data_df['New'], 'red')\n",
    "\n",
    "# Now unless we tell matplotlib otherwise, it will continue \n",
    "# to use the 'current' plot for any additional plots or \n",
    "# annotations.\n",
    "\n",
    "# So we can simply plot the other three lines,  \n",
    "# but with greyscale values in place of colour,\n",
    "# and matplotlib will use the existing figure.\n",
    "\n",
    "plt.plot(data_df['Old1'], '0.7',\n",
    "         data_df['Old2'], '0.8',\n",
    "         data_df['Old3'], '0.9');\n"
   ]
  },
  {
   "cell_type": "code",
   "execution_count": null,
   "metadata": {
    "collapsed": true,
    "scrolled": false
   },
   "outputs": [],
   "source": [
    "plt.plot(data_df['New'], 'red')\n",
    "\n",
    "# To mute the second set of plot lines further I can also change \n",
    "# the continuous line to a dotted line.\n",
    "plt.plot(data_df['Old1'], '0.7', \n",
    "         data_df['Old2'], '0.8',\n",
    "         data_df['Old3'], '0.9', \n",
    "         linestyle = 'dotted');"
   ]
  },
  {
   "cell_type": "code",
   "execution_count": null,
   "metadata": {
    "collapsed": true,
    "scrolled": false
   },
   "outputs": [],
   "source": [
    "# If I want to emphasise the actual data points on the line, \n",
    "# I can use a marker (there are many different marker and \n",
    "# lines styles available).\n",
    "plt.plot(data_df['New'], color='red', marker='o' )\n",
    "\n",
    "# Let's point out the important line, with a big arrow:\n",
    "plt.annotate('This line is important', xy=(2,14), xytext=(3,5), \n",
    "             arrowprops=dict(facecolor='red', shrink=0.05, width=8))\n",
    "\n",
    "# I could put some descriptive, eye-catching text about the red line:\n",
    "plt.text(0.1, 26, 'An important red line',\n",
    "        fontsize=20, color='red')\n",
    "\n",
    "# And, in keeping with not wanting much attention to be drawn to the grey lines, \n",
    "# I can add grey, small text to describe those.\n",
    "plt.plot(data_df['Old1'], '0.7', \n",
    "         data_df['Old2'], '0.8',\n",
    "         data_df['Old3'], '0.9', \n",
    "         linestyle='dotted')\n",
    "plt.text(4, 13, 'much less important\\ngrey lines',\n",
    "        fontsize=10, color='grey');\n"
   ]
  },
  {
   "cell_type": "code",
   "execution_count": null,
   "metadata": {
    "collapsed": true,
    "scrolled": false
   },
   "outputs": [],
   "source": [
    "plt.plot(data_df['New'], color='red', marker='o' )\n",
    "plt.annotate('This line is important', xy=(2,14), xytext=(3,5), \n",
    "             arrowprops=dict(facecolor='red', shrink=0.05, width=8))\n",
    "plt.text(0.1, 26, 'An important red line',\n",
    "        fontsize=20, color='red')\n",
    "\n",
    "plt.plot(data_df['Old1'], '0.7', data_df['Old2'], '0.8', \n",
    "         data_df['Old3'], '0.9', linestyle='dotted')\n",
    "plt.text(4, 13, 'much less important\\ngrey lines',\n",
    "        fontsize=10, color='grey')\n",
    "\n",
    "# In the original Medicare graphic there was a vertical line \n",
    "# shown at 2010, we can add a vertical line to our plot with \n",
    "# the axvline() method, \n",
    "# axhline() does the same for horizontal lines.\n",
    "plt.axvline(x=1.5, linewidth=1, color='grey')\n",
    "\n",
    "# If you want the line to only cover part of the vertical range \n",
    "# you can specify which portion, but this uses figure coordinates \n",
    "# (values between 0 and 1) not data coordinates.\n",
    "plt.axvline(x=1.6, ymin=0.1, ymax=0.2, linewidth=2, linestyle='dashed', color='green')\n",
    "\n",
    "# For good measue we can see that axhline() can do the same.\n",
    "plt.axhline(y=10, xmin=0.6, xmax=0.85, linewidth=10, color='orange');\n"
   ]
  },
  {
   "cell_type": "code",
   "execution_count": null,
   "metadata": {
    "collapsed": true,
    "scrolled": false
   },
   "outputs": [],
   "source": [
    "# Tidying up a bit, we've got the majority of the features that \n",
    "# appear in the Medicare graphic recreated in this example.\n",
    "\n",
    "# First build up our main story character and draw attention to it.\n",
    "plt.plot(data_df['New'], color='red', marker='o' )\n",
    "plt.annotate('This line is important', xy=(2,14), xytext=(3,5), \n",
    "             arrowprops=dict(facecolor='red', shrink=0.05, width=8))\n",
    "plt.text(0.1, 26, 'An important red line',\n",
    "        fontsize=20, color='red')\n",
    "\n",
    "# Now address the less important data in our story (in this example\n",
    "# these are treated similarly, but we could take different \n",
    "# approaches for each dataset):\n",
    "plt.plot(data_df['Old1'], '0.7', data_df['Old2'], '0.8', \n",
    "         data_df['Old3'], '0.9', linestyle = 'dotted')\n",
    "plt.text(4, 13, 'much less important\\ngrey lines',\n",
    "        fontsize=10, color='grey')\n",
    "\n",
    "# Finally any additional annotations that supply context to the story:\n",
    "plt.axvline(x=1.5, linewidth=1, ymin=0.1, ymax=0.2, color='green')\n",
    "plt.text(1.55, 2, 'A significant event', fontsize=8, color='grey' );\n"
   ]
  },
  {
   "cell_type": "markdown",
   "metadata": {},
   "source": [
    "### The combined life expectancy, GDP and population graphic revisited \n",
    "####                       (Figure 5.15)"
   ]
  },
  {
   "cell_type": "markdown",
   "metadata": {},
   "source": [
    "This example will create a graphic similar to that in Part 5, Figure 5.15 showing countries' size, GDP and life expectancy using the 'bubble' version of the scatter chart.  For this I will use the _pandas_ `plot()` method and matplotlib features.\n",
    "\n",
    "It may not be the only way to generate a graphic of this kind, but the elements used will hopefully show how similar results can be achieved with other datasets."
   ]
  },
  {
   "cell_type": "markdown",
   "metadata": {
    "collapsed": true
   },
   "source": [
    "#### The data\n",
    "The data for these DataFrames can be found in the `data/World GDP Life expectancy Data` folder.  There are four raw files and four files with names beginning `focussed`; the focussed files have had the metadata and extraneous columns and rows removed using Excel.  What remains are the core datasets required for this graphic; these core datasets were all extracted from the raw files."
   ]
  },
  {
   "cell_type": "markdown",
   "metadata": {},
   "source": [
    "#### Read in the datasets\n",
    "All the datasets are held in `.xls` or `.xlsx` files with no metadata except the column headings, although some have multiple sheets, so need the sheet specifying.\n",
    "\n",
    "I've done some additional column renaming to save naming clashes later when merging the DataFrames."
   ]
  },
  {
   "cell_type": "code",
   "execution_count": null,
   "metadata": {
    "collapsed": true,
    "scrolled": true
   },
   "outputs": [],
   "source": [
    "# Read in the population data:\n",
    "population_df = pd.read_excel(\n",
    "               'data/World GDP Life expectancy Data/focussed 2010_TOTAL_POPULATION_BOTH_SEXES.XLS',\n",
    "                sheetname='ESTIMATES')\n",
    "population_df.rename(columns={'2010': 'Pop_2010', ' country or area': 'country'},\n",
    "                     inplace=True)\n",
    "#population_df.head(3)\n",
    "#population_df.tail(3)\n",
    "population_df.sort_values(by=['Pop_2010'])"
   ]
  },
  {
   "cell_type": "code",
   "execution_count": null,
   "metadata": {
    "collapsed": true,
    "scrolled": false
   },
   "outputs": [],
   "source": [
    "# Read in the GDP data:\n",
    "GDP_df = pd.read_excel('data/World GDP Life expectancy Data/focussed 2010 UIS World GDP US$.xlsx')\n",
    "GDP_df.rename(columns={'2010': 'GDP_2010'},\n",
    "              inplace=True)\n",
    "#GDP_df.head(3)\n",
    "GDP_df.tail(3)"
   ]
  },
  {
   "cell_type": "code",
   "execution_count": null,
   "metadata": {
    "collapsed": true,
    "scrolled": false
   },
   "outputs": [],
   "source": [
    "# Read in the life expectancy data:\n",
    "lifeexpectancy_df = pd.read_excel('data/World GDP Life expectancy Data/focussed 2010 LifeExpectancy.xls',\n",
    "                           sheetname='Data')\n",
    "lifeexpectancy_df.rename(columns={'ISO 3166-1 numeric code': 'numeric code', \n",
    "                                  '2010 - 2015': 'LE_2010'},\n",
    "                  inplace=True)\n",
    "#lifeexpectancy_df.head(3)\n",
    "lifeexpectancy_df.tail(3)"
   ]
  },
  {
   "cell_type": "code",
   "execution_count": null,
   "metadata": {
    "collapsed": true,
    "scrolled": false
   },
   "outputs": [],
   "source": [
    "# Read in the classification of country to world region, \n",
    "# using WorldBank classifications: \n",
    "regions_df = pd.read_excel('data/World GDP Life expectancy Data/focusssed Worldbank Country Classification.xls')\n",
    "#regions_df.head(3)\n",
    "regions_df.tail(3)"
   ]
  },
  {
   "cell_type": "markdown",
   "metadata": {
    "collapsed": true
   },
   "source": [
    "#### Now merge the datasets\n",
    "We'll first use outer horizontal joins on appropriate fields.  This will allow us to see which rows we would gain, or lose, if we applied an inner join. Country name spelling, and full v. abbreviated versions, may cause some failures to join.  Joining over the ISO `numeric_code` values should be trouble free.  Of course there is always the possibility that some countries don't appear in all the tables ('the Holy See' being one).\n",
    "\n",
    "I'll leave all the NaN's from the unmatched joins in for now - then we can see how they're distributed - remember the final graphic for our storytelling isn't about having every single data point plotted, so some loses might be acceptable. Although it may turn out that only a few countries need their names adjusting.\n",
    "\n",
    "Looking at the column headers we should be able to join regions and GDP, then population and life expectancy, then join the two tables that result."
   ]
  },
  {
   "cell_type": "code",
   "execution_count": null,
   "metadata": {
    "collapsed": true,
    "scrolled": false
   },
   "outputs": [],
   "source": [
    "regions_GDP_df = pd.merge(regions_df, GDP_df, how='outer',\n",
    "                     left_on='Economy', right_on='Country')\n",
    "regions_GDP_df.head(3)"
   ]
  },
  {
   "cell_type": "code",
   "execution_count": null,
   "metadata": {
    "collapsed": true,
    "scrolled": false
   },
   "outputs": [],
   "source": [
    "pop_le_df = pd.merge(population_df, lifeexpectancy_df, how='outer',\n",
    "                     left_on='country', right_on='Location_trimmed')\n",
    "pop_le_df.head(3)"
   ]
  },
  {
   "cell_type": "code",
   "execution_count": null,
   "metadata": {
    "collapsed": true,
    "scrolled": false
   },
   "outputs": [],
   "source": [
    "full_df = pd.merge(regions_GDP_df, pop_le_df, how = 'outer',\n",
    "                     left_on = 'Country', right_on = 'country')\n",
    "full_df.head(20)"
   ]
  },
  {
   "cell_type": "markdown",
   "metadata": {},
   "source": [
    "#### And now to data cleaning - _I thought it was all looking too easy!_\n",
    "It turned out there were rather a lot of NaNs appearing.\n",
    "\n",
    "After some attempts at tidying up the DataFrame produced above, a colleague suggested simply putting the DataFrame into a CSV file and tidying it in Excel. This proved quite straightforward.\n",
    "I saved the above DataFrame to a file `totidy_GDP_LE_Region.csv` and, once tidied I've copied that to `tidy_GDP_LE_Region.csv` so you can see the before and after versions."
   ]
  },
  {
   "cell_type": "code",
   "execution_count": null,
   "metadata": {
    "collapsed": true,
    "scrolled": false
   },
   "outputs": [],
   "source": [
    "full_df.to_csv('data/World GDP Life expectancy Data/totidy_GDP_LE_Region.csv', \n",
    "               index=False, header=True)"
   ]
  },
  {
   "cell_type": "markdown",
   "metadata": {},
   "source": [
    "The cleaning took about 30 minutes of matching names, abbreviations and spellings, and in a few cases researching the name of the country and working out which region to allocate it to.  There were a few economies and countries that couldn't be matched, so these were simply deleted (while I'm not suggesting these are insignificant countries, the graphic doesn't require every country to be represented).  There are still several empty values, but I think the plot command should be able to drop these without further manual intervention.   The '..' strings in several cells have now all been removed, leaving those cells empty."
   ]
  },
  {
   "cell_type": "code",
   "execution_count": null,
   "metadata": {
    "collapsed": true,
    "scrolled": false
   },
   "outputs": [],
   "source": [
    "tidyfull_df = pd.read_csv('data/World GDP Life expectancy Data/tidy_GDP_LE_Region.csv') \n",
    "tidyfull_df.head(20)"
   ]
  },
  {
   "cell_type": "code",
   "execution_count": null,
   "metadata": {
    "collapsed": true,
    "scrolled": false
   },
   "outputs": [],
   "source": [
    "# And now calculate the per capita GDP value and add it as a column:\n",
    "tidyfull_df['GDPperCapita'] = tidyfull_df['GDP_2010']/(tidyfull_df['Pop_2010']*1000)\n",
    "tidyfull_df.head(3)"
   ]
  },
  {
   "cell_type": "markdown",
   "metadata": {},
   "source": [
    "##### Note\n",
    "All the above has been to get the dataset into the format that we can use to easily produce the basic chart before enhancing it to turn it into an informative visualisation. So the above would have been done as part of the data acquistion, preparation and analysis stages and the final DataFrame would be the starting point for the reporting process. "
   ]
  },
  {
   "cell_type": "markdown",
   "metadata": {},
   "source": [
    "#### The basic plot\n",
    "You might want to take a quick look at Figure 5.15 to remind yourself what it looks like, and what I'm trying to recreate.\n",
    "\n",
    "The basic plot in Figure 5.15 is quite straightforward - a bubble scatter plot, with colour of the bubble controlled by the region and the size of the bubble by the population.  The _x_ and _y_ axes of the scatter plot are the GDP and life expectancy values. (The GDP per capita requires a log representation.)"
   ]
  },
  {
   "cell_type": "code",
   "execution_count": null,
   "metadata": {
    "collapsed": true,
    "scrolled": false
   },
   "outputs": [],
   "source": [
    "# Before doing anything further let's make sure this looks a bit like the \n",
    "# original graphic. (Allowing for differences in the data caused by picking \n",
    "# different years.)\n",
    "\n",
    "# Aside: The first few times I worked with this data I was getting a similar \n",
    "# but not quite close enough distribution of large and small bubbles - it took \n",
    "# me a while to spot that I had been working with the GDP not \n",
    "# GDP per capita figures!\n",
    "\n",
    "tidyfull_df.plot.scatter(x='GDPperCapita', y='LE_2010', logx=True,\n",
    "                         s=(tidyfull_df['Pop_2010']/1000))\n"
   ]
  },
  {
   "cell_type": "code",
   "execution_count": null,
   "metadata": {
    "collapsed": true,
    "scrolled": true
   },
   "outputs": [],
   "source": [
    "# I'm going to take a slightly different approach to what we \n",
    "# have seen in earlier examples. Each Region will be plotted \n",
    "# separately on the same set of axes; previously with the \n",
    "# four lines example, we've not worried about the detail of \n",
    "# using subplots, we've simply let .matplotlib figure it out.\n",
    "\n",
    "# Note: subplots are an extremly rich feature of matplotlib:\n",
    "# they allow multiple different plots to be combined on the \n",
    "# same axes, or multiple sets of axes to appear within the \n",
    "# same figure. We won't be able to explore these in detail here.\n",
    "\n",
    "\n",
    "# plt.subplots() creates a plotting object that can accept \n",
    "# multiple plots, this is embedded in a single figure.\n",
    "fig, ax = plt.subplots()\n",
    "\n",
    "# fig is the figure object in which the plot is embedded. (Recall \n",
    "# the distinction between figure cordinates and data coordindates: \n",
    "# some elements are drawn on the figure, and some on the axes.)\n",
    "\n",
    "# ax is the axes object that carries the plot axes; we are going to \n",
    "# tell the plot command to explicitly use the same axes object each \n",
    "# time it is called.\n",
    "\n",
    "# Set up the colour dict for each region:\n",
    "colours = {'East Asia & Pacific':'red',\n",
    "           'Europe & Central Asia':'green',\n",
    "           'Latin America & Caribbean':'blue',\n",
    "           'Middle East & North Africa':'black',\n",
    "           'North America':'yellow',\n",
    "           'South Asia':'magenta',\n",
    "           'Sub-Saharan Africa':'cyan'\n",
    "           }\n",
    "\n",
    "# We're going to be responsibile for our own legend, so we need \n",
    "# mpatches again.\n",
    "import matplotlib.patches as mpatches\n",
    "# We're going to build the legend patch list one element at a time;\n",
    "# it starts empty.\n",
    "legendpatch_list = []\n",
    "\n",
    "# We want to loop for each Region\n",
    "grouped = tidyfull_df.groupby('Region')\n",
    "for key, group in grouped:\n",
    "    # for each region create the legend patch\n",
    "    legendpatch_list = legendpatch_list+([mpatches.Patch(color=colours[key], label=key)]) \n",
    "    # and plot the data, explicitly telling plot() that the \n",
    "    # axes object to plot on is the same axes object we created \n",
    "    # using the .subplot() so, ax=ax is used each time.\n",
    "    group.plot.scatter(ax=ax,\n",
    "                       x='GDPperCapita', y='LE_2010', \n",
    "                       logx=True,\n",
    "                       s=(group['Pop_2010']/1000),\n",
    "                       c=colours[key],\n",
    "                       ylim=[35,90],\n",
    "                       figsize=(8,5))\n",
    "# Note that the default for the remaining commands is to \n",
    "# apply them to all the subplots - there are variations \n",
    "# to these that select single axes plots to change.\n",
    "\n",
    "# The original graphics had selected ticks shown using \n",
    "# comma-separated thousands.        \n",
    "plt.xticks([200, 400, 1000, 2000, 4000, 10000, 20000, 40000],\n",
    "           ['200','400','1,000','2,000','4,000','10,000','20,000','40,000'])             \n",
    "\n",
    "# The original x and y axes labels:\n",
    "plt.xlabel('GDP per capita, (current US$) - log')\n",
    "plt.ylabel('Life expectancy at birth (years) - linear')\n",
    "\n",
    "# And crediting the data source originators.\n",
    "plt.figtext(0.58, 0.15,\n",
    "            'Data Sources:\\n     World Bank\\n     UNESCO Institute for Statistics\\n'+\n",
    "            '     UN Population Division')\n",
    "\n",
    "# Finally, display the legend patch list - it looks a bit crowded, \n",
    "# but I haven't worked out how to include off-figure legends \n",
    "# in the png file.\n",
    "plt.legend(handles=legendpatch_list, loc=(0.68,0.2) )\n",
    "\n",
    "# Apart from the stark choices in the colour map, this is fairly close \n",
    "# to the original figure.\n",
    "plt.savefig('visualisation-output-files/GDPLEPOP.png', dpi=200)\n"
   ]
  },
  {
   "cell_type": "markdown",
   "metadata": {
    "collapsed": true
   },
   "source": [
    "It would be possible to create a second legend box that shows some different sized circles and their related population values. However, we've pretty much run out of space on our figure - and the code required, using matplotlib.patches, is quite complex! But if you do know how to create such a legend please share on the forums or in OpenStudio.\n"
   ]
  }
 ],
 "metadata": {
  "kernelspec": {
   "display_name": "Python 3",
   "language": "python",
   "name": "python3"
  },
  "language_info": {
   "codemirror_mode": {
    "name": "ipython",
    "version": 3
   },
   "file_extension": ".py",
   "mimetype": "text/x-python",
   "name": "python",
   "nbconvert_exporter": "python",
   "pygments_lexer": "ipython3",
   "version": "3.5.2"
  }
 },
 "nbformat": 4,
 "nbformat_minor": 1
}
