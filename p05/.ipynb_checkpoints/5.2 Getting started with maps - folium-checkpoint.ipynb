{
 "cells": [
  {
   "cell_type": "markdown",
   "metadata": {
    "code_folding": [
     0
    ]
   },
   "source": [
    "# Getting started with maps"
   ]
  },
  {
   "cell_type": "markdown",
   "metadata": {},
   "source": [
    "One of the most powerful - and intuitive - visualisation techniques for location-based data is to make use of maps.\n",
    "\n",
    "The technical subject of Geographic Information Systems (GIS) is a very broad one, but at its core are systems specifically tailored for the storage, display, interrogation and management of geographic, location-related data. The common feature of all GIS is the central role that location plays in the data - acting as a key to draw together data from different sources and forming the main relationship between data elements.  \n",
    "\n",
    "Latitiude and longitude values can be used to determine a point on the Earth's surface, but these are not the only coordinate systems that could be used.  There is also the problem that the Earth's spherical representation makes it difficult to accurately represent both area and shape when working on a flat surface (screen or paper).  For this reason different projections are available that convert the spherical reality of the Earth's surfce to the flat representation of our screens and atlases and, similar to choosing an appropriate visualisation for graphic data, choosing a suitable projection for mapping data can be important.  So, simply plotting the latitude and longitude position on a grid is not sufficient: a mathematical transformation to the chosen projection is required.  These and other complex issues (handling height above sea level, mapping areas as well as points) are concerns in mapping and GIS.\n",
    "\n",
    "In this introduction we're going to take a GIS-lite approach to maps.  We're going to use a library that has a single projection, and uses 'raw' latitude and longitude values for points on the map. We're also using maps to support the visualisation of data (rather than for capturing data), so we're interested in how to present data on the maps.\n",
    "\n",
    "There are typically three - or four, depending how you count them - ways of representing data on a map:\n",
    "\n",
    "- points, or markers\n",
    "- lines\n",
    "- regions, or shapes.\n",
    "\n",
    "The _fourth_ way is to use proportional symbol markers - that is, markers such as circles whose size is proportional to some quantity relevant to the marker location.\n",
    "\n",
    "There are several libraries available that can help us work with maps. One approach is to generate base maps using graphic visualisation libraries such as matplotlib to form quick, static sketch maps. If we require interactive JavaScript style maps, we can use the mplleaflet library to convert these static map representations to embedded interactive ones using the leaflet JavaScript library. Another is to use a package such as *folium* to create a leaflet map directly.\n",
    "\n",
    "We'll look at ways of representing location data with the _folium_ package, which integrates Python and _pandas_ data handling interactive, leaflet JavaScript, maps.  folium handles a lot of the underying details, letting us get on with presenting our location-based data.  \n",
    "\n",
    "The use of a package like folium is a compromise between the full power of the packages it uses and the flexibility and complexity of the features you can use in the full leaflet library.  \n",
    "\n",
    "We won't be working directly with leaflet or matplotlib maps in this module."
   ]
  },
  {
   "cell_type": "code",
   "execution_count": 1,
   "metadata": {
    "collapsed": true
   },
   "outputs": [],
   "source": [
    "import folium\n",
    "import pandas as pd"
   ]
  },
  {
   "cell_type": "markdown",
   "metadata": {},
   "source": [
    "####  A note on the need for an internet connection when working with folium output\n",
    "folium doesn't embedd the map tiles (the graphic used as the background display on a map) into the HTML document when you create the map.  It is not until the HTML is used to display the map that the tile set is retrieved.  This keeps the map files small, but means you cannot display a map if your are offline.    A network connection is required to retrieve the map tiles, so if you are not connected to the internet you cannot display the map in the HTML document.\n",
    "\n",
    "\n",
    "It is possible that a map will display if the tiles you require are held in the cache. However, if you move or zoom on that map it is unlikely the cache will contain the required tiles and the display will be blanked or corrupted."
   ]
  },
  {
   "cell_type": "markdown",
   "metadata": {},
   "source": [
    "#### A note on the location of the output files\n",
    "folium generates maps as `HTML` files, which are displayed in the Notebook; by default, the Notebook's own folder is used. This can get a bit untidy.  So, for these examples there is a folder `map-output-files`, in the usual `data/` folder, which is included in the map `path` parameter (which names the `HTML` output file) for each of the maps created in this Notebook.\n",
    "\n",
    "You're obviously free to save your maps wherever you want but, in keeping with the aims of the module, do try to _manage_ them, rather than just _collect_ them!"
   ]
  },
  {
   "cell_type": "markdown",
   "metadata": {},
   "source": [
    "# A simple map"
   ]
  },
  {
   "cell_type": "code",
   "execution_count": 2,
   "metadata": {
    "scrolled": true
   },
   "outputs": [
    {
     "data": {
      "text/html": [
       "<div style=\"width:100%;\"><div style=\"position:relative;width:100%;height:0;padding-bottom:60%;\"><iframe src=\"data:text/html;charset=utf-8;base64,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\" style=\"position:absolute;width:100%;height:100%;left:0;top:0;border:none !important;\" allowfullscreen webkitallowfullscreen mozallowfullscreen></iframe></div></div>"
      ],
      "text/plain": [
       "<folium.folium.Map at 0x7f484041b0b8>"
      ]
     },
     "execution_count": 2,
     "metadata": {},
     "output_type": "execute_result"
    }
   ],
   "source": [
    "# A first map, using all the defaults, supplying a location for the centre of the map,\n",
    "# and a size in pixels for the map.\n",
    "\n",
    "# This map is centred on the Open University campus, Walton Hall.\n",
    "# The location values are the latitude and longitude values for the location of interest.\n",
    "# The default is to use the OpenStreetMap tiling (how the background looks).\n",
    "map_OU = folium.Map(location=[52.024696,-0.710710], width=960, height=500)\n",
    "\n",
    "# The create_map() saves an HTML representation of the map object to the specified file.\n",
    "# (You can open this file in your browser as well as it displaying directly in the Notebook.)\n",
    "# This will not display a map if you are offline. A network connection is required to \n",
    "# retrieve the map tiles.\n",
    "\n",
    "# Once you've run this cell, and the map is rendered below, you'll see, \n",
    "# if you put your mouse over it and scroll, that it is zoomable.\n",
    "\n",
    "# This is the standard Notebook way of displaying the last object named in the cell.\n",
    "# It's a map object.\n",
    "map_OU"
   ]
  },
  {
   "cell_type": "code",
   "execution_count": 3,
   "metadata": {
    "collapsed": true
   },
   "outputs": [],
   "source": [
    "#We can save an HTML file that will render this map\n",
    "#First check the output firectory path exists and create it if it doesn't\n",
    "!mkdir -p map-output-files\n",
    "\n",
    "#Now save the HTML file\n",
    "map_OU.save('map-output-files/OU.html')"
   ]
  },
  {
   "cell_type": "code",
   "execution_count": 4,
   "metadata": {
    "scrolled": false
   },
   "outputs": [
    {
     "data": {
      "text/html": [
       "<div style=\"width:100%;\"><div style=\"position:relative;width:100%;height:0;padding-bottom:60%;\"><iframe src=\"data:text/html;charset=utf-8;base64,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\" style=\"position:absolute;width:100%;height:100%;left:0;top:0;border:none !important;\" allowfullscreen webkitallowfullscreen mozallowfullscreen></iframe></div></div>"
      ],
      "text/plain": [
       "<folium.folium.Map at 0x7f48403cc748>"
      ]
     },
     "execution_count": 4,
     "metadata": {},
     "output_type": "execute_result"
    }
   ],
   "source": [
    "# We can neaten this map: the Walton Hall campus is barely \n",
    "# visible at this level of detail, and the map is a \n",
    "# bit big for this demonstration.\n",
    "\n",
    "# This will not display a map if your are offline. A network connection is required to \n",
    "# retrieve the map tiles.\n",
    "map_OU2 = folium.Map(location=[52.024696,-0.710710], width=600, height=300,\n",
    "                    zoom_start=14, max_zoom=16)\n",
    "\n",
    "# zoom_start is the level of detail to show when the map is first opened,\n",
    "#     0 is the whole world, 18 appears to be the highest zoom level allowed.\n",
    "# You can limit the maximum level of zoom allowed using max_zoom:\n",
    "\n",
    "map_OU2"
   ]
  },
  {
   "cell_type": "markdown",
   "metadata": {},
   "source": [
    "# Adding markers to a map"
   ]
  },
  {
   "cell_type": "code",
   "execution_count": 5,
   "metadata": {},
   "outputs": [
    {
     "data": {
      "text/html": [
       "<div style=\"width:100%;\"><div style=\"position:relative;width:100%;height:0;padding-bottom:60%;\"><iframe src=\"data:text/html;charset=utf-8;base64,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\" style=\"position:absolute;width:100%;height:100%;left:0;top:0;border:none !important;\" allowfullscreen webkitallowfullscreen mozallowfullscreen></iframe></div></div>"
      ],
      "text/plain": [
       "<folium.folium.Map at 0x7f48403cc748>"
      ]
     },
     "execution_count": 5,
     "metadata": {},
     "output_type": "execute_result"
    }
   ],
   "source": [
    "# We can make use of markers to show everyone what the map contains, \n",
    "# and focus on any specific points of interest.\n",
    "\n",
    "# We can do this by adding a marker at the location we want\n",
    "folium.Marker([52.024697,-0.710711]).add_to(map_OU2)\n",
    "\n",
    "map_OU2"
   ]
  },
  {
   "cell_type": "code",
   "execution_count": 6,
   "metadata": {},
   "outputs": [
    {
     "data": {
      "text/html": [
       "<div style=\"width:100%;\"><div style=\"position:relative;width:100%;height:0;padding-bottom:60%;\"><iframe src=\"data:text/html;charset=utf-8;base64,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\" style=\"position:absolute;width:100%;height:100%;left:0;top:0;border:none !important;\" allowfullscreen webkitallowfullscreen mozallowfullscreen></iframe></div></div>"
      ],
      "text/plain": [
       "<folium.folium.Map at 0x7f48403cc748>"
      ]
     },
     "execution_count": 6,
     "metadata": {},
     "output_type": "execute_result"
    }
   ],
   "source": [
    "# Simply having a marker on it's own isn't very informative.\n",
    "# We can include pop-up text for the marker, which requires a mouse\n",
    "# click to display.   \n",
    "\n",
    "# Set the marker popup text using: popup='our text here'\n",
    "folium.Marker([52.025638,-0.702336], \n",
    "              popup='The East Campus of the Open University').add_to(map_OU2)\n",
    "\n",
    "map_OU2"
   ]
  },
  {
   "cell_type": "markdown",
   "metadata": {},
   "source": [
    "### Finding latitude and longitude values for locations\n",
    "If you are manually building a map, as we have done above, you can find the latitude and longitude values interactively from a service such as http://www.itouchmap.com/latlong.html.\n",
    "\n",
    "You can also find a lot of GPS-information on many electronic devices and device outputs.  If you have a GPS enabled mobile phone it's quite possible that any data you generate from it will be tagged with latitude and longitude information, and the metadata on photographs can include location. \n",
    " \n",
    "Sometimes you will find datasets that contain latitude and longitude values as column items. In other cases, you may be presented with a geodata file, such as a _KML_ file or _geojson_ file, that includes semantically declared geographical data points. These allow you to ingest the data files and use these values directly.\n",
    "\n",
    "In other cases, you will have to _geocode_ the data from an address or other form of location, converting it into latitude and longitude values. One common approach is to use postcode data and a lookup service such as UK Postcodes (http://www.uk-postcodes.com/) - this gives a marker within several tens or hundreds of meters of the actual location of an address.  We'll use a lookup table of postcode values in a later example.\n",
    "\n",
    "You can also use folium itself to give you the latitude and longitude values when you click on a map."
   ]
  },
  {
   "cell_type": "code",
   "execution_count": null,
   "metadata": {
    "collapsed": true
   },
   "outputs": [],
   "source": [
    "# You can switch on the ability to click anywhere on your map and have \n",
    "# folium display the location data, similar to the touchmap service.\n",
    "\n",
    "folium.LatLngPopup().add_to(map_OU2)\n",
    "\n",
    "map_OU2"
   ]
  },
  {
   "cell_type": "markdown",
   "metadata": {},
   "source": [
    "## More interesting markers"
   ]
  },
  {
   "cell_type": "markdown",
   "metadata": {},
   "source": [
    "We can also put circle markers and polygon markers on our maps.\n",
    "We can control the radius, colour, outline colour and opacity of the markers drawn.  A polygon marker is a multi-sided shape (triangle, square, pentagon, etc.).  And we can mix these on the same map."
   ]
  },
  {
   "cell_type": "code",
   "execution_count": null,
   "metadata": {
    "collapsed": true
   },
   "outputs": [],
   "source": [
    "map_OU3 = folium.Map(location=[52.024696,-0.710710],\n",
    "                    zoom_start=14, max_zoom=16)\n",
    "\n",
    "\n",
    "# Simple markers\n",
    "folium.Marker([52.024697,-0.710711]).add_to(map_OU3)\n",
    "folium.Marker([52.025638,-0.702336], \n",
    "              popup='The East Campus of the Open University').add_to(map_OU3)\n",
    "\n",
    "\n",
    "# Circle markers \n",
    "folium.CircleMarker(location=[52.0272,-0.7104], radius=40,\n",
    "                    popup='The Cricket Pitch at the Open University', \n",
    "                    color='#3186ec', fill_color='#3186ec',\n",
    "                    fill_opacity=0.6).add_to(map_OU3)\n",
    "\n",
    "# Polygon markers\n",
    "folium.RegularPolygonMarker(location=[52.0250,-0.7060], \n",
    "                            popup='Visitor car park',\n",
    "                            color='#2563e2', fill_color='#132b5e', \n",
    "                            fill_opacity=0.5,\n",
    "                            number_of_sides=3, radius=20, rotation=20).add_to(map_OU3)\n",
    "folium.RegularPolygonMarker(location=[52.0244,-0.7107], \n",
    "                            popup='3 Disabled parking spaces',\n",
    "                            fill_color='yellow', \n",
    "                            number_of_sides=6, radius=20, rotation=10).add_to(map_OU3)\n",
    "\n",
    "# Note the 'color' values are either hexadecimal colour values, \n",
    "# or a standard set of colour names which include: red, blue, \n",
    "# green, yellow, orange, grey, black and white.\n",
    "\n",
    "map_OU3"
   ]
  },
  {
   "cell_type": "markdown",
   "metadata": {},
   "source": [
    "# Using proportional sized markers\n",
    "Simple markers are fixed in size, but the other markers allow some variation in size. \n",
    "\n",
    "The _circle_ and _polygon_ markers have a `radius` parameter. This allows the size of the marker symbol to be set proportional to some quantity - the maps are then known as proportional symbol maps. A simple use for this might be to show the relative size of the car parks on the OU campus.\n",
    "\n",
    "Here's how to do this using a DataFrame holding the latitude and longitude values, and the number of parking spaces.\n",
    "\n",
    "Note that what's missing in the folium mapping is the ability to show a legend indicating how the marker relates to location. We'd really like to add some text saying 'The largest car park has 100 spaces, the smallest 5.' or some other description. (If you have a recipe to do this, please share it on the module forum or in OpenStudio)."
   ]
  },
  {
   "cell_type": "code",
   "execution_count": null,
   "metadata": {
    "code_folding": [],
    "collapsed": true
   },
   "outputs": [],
   "source": [
    "Carparking_df = pd.DataFrame({'latitude': [52.026, 52.0253, 52.0266, 52.0242, 52.0233],\n",
    "                              'longitude': [-0.7065,-0.7052, -0.7112, -0.7132, -0.7107],\n",
    "                              'absolutesize': [100, 90, 10, 50, 40]})\n",
    "\n",
    "# A quick check to see that we've got the Carparking DataFrame correct:\n",
    "for i in range(Carparking_df.shape[0]):\n",
    "    (lat, long, numspaces) = Carparking_df.loc[i,['latitude','longitude','absolutesize']]\n",
    "    print(lat, long, 'Car park with: '+ str(int(numspaces)) + ' spaces.')\n",
    "    "
   ]
  },
  {
   "cell_type": "code",
   "execution_count": null,
   "metadata": {
    "code_folding": [],
    "collapsed": true
   },
   "outputs": [],
   "source": [
    "# Create our base map, centred on Walton Hall,\n",
    "OU_carparks = folium.Map(location=[52.024696,-0.710710],\n",
    "                         zoom_start=16, max_zoom=18)\n",
    "# with a simple marker to say where it is.\n",
    "folium.Marker([52.024696,-0.710710], \n",
    "              popup='The Open University, Walton Hall').add_to(OU_carparks)\n",
    "\n",
    "# Now add proportional circle markers, one for each car park.\n",
    "# The radius is in pixels, using the absolute size value directly.\n",
    "# This code iterates through the index for Carparking_df, \n",
    "# creating a marker for each row.\n",
    "for i in range(Carparking_df.shape[0]):\n",
    "    (lat, long, numspaces) = Carparking_df.loc[i,['latitude','longitude','absolutesize']]\n",
    "    folium.CircleMarker(location=[lat, long], radius=numspaces,\n",
    "                        popup='Car park with: '+ str(int(numspaces)) + ' spaces.', \n",
    "                        color='orange', fill_color='yellow',\n",
    "                        fill_opacity=0.8).add_to(OU_carparks)\n",
    "\n",
    "OU_carparks"
   ]
  },
  {
   "cell_type": "markdown",
   "metadata": {},
   "source": [
    "### Note\n",
    "In this example the absolute size of the car parks fit our chosen map size.  However, imagine the OU also has a mega car park with 1000 spaces; using the absolute size for the marker radius would result in a circle marker the size of the map!\n",
    "\n",
    "In this situation you would need to scale the circle sizes to something more manageable, or use a binning approach to choose circle radius (say four bins with the threshold values [50,200,500]).\n",
    "\n",
    "If you're interested in how to do these (in a handy, reusable, data preparation way) I've included short examples of scaling and binning after the _Whats next?_ section below. (It's always good to collect data recipes for later use.)"
   ]
  },
  {
   "cell_type": "markdown",
   "metadata": {},
   "source": [
    "## Putting lines on maps"
   ]
  },
  {
   "cell_type": "markdown",
   "metadata": {},
   "source": [
    "Lines, or more usually sequences of connected lines, are sometimes useful on a map.  For example, tracing a route from location to location or connecting related points can be shown with lines. folium simply takes a list of coordinates and plots a straight line between them. Pop-up text is also permitted on folium lines.\n",
    "\n",
    "However, there are limitations to using straight lines on maps - they can be misleading.\n",
    "\n",
    "As a 2-dimensional (flat) map represents a projection from the 3-dimensional surface of the Earth, there will be some distortion depending on which projection is chosen.  The result will be that, for example, two lines of the same visible length may represent different distances depending on their being near the poles or the equator, or when used parallel to latitude or longitude great circles.  Also, as the scale increases the distortion due to the curve of the Earth may becomes more noticable, resulting in lines that clearly don't follow the great circles (airline routes shouldn't look as if they take the straightest/shortest/most direct route when shown on most 2D projections, as on the surface of the Earth the shortest distance is a 3D curve, for example).  We won't be looking at how to adapt our maps for these distortions - but don't forget these limitations if you explore GIS systems further."
   ]
  },
  {
   "cell_type": "code",
   "execution_count": null,
   "metadata": {
    "collapsed": true,
    "scrolled": false
   },
   "outputs": [],
   "source": [
    "# Our base map.\n",
    "map_OU4 = folium.Map(location=[52.024696,-0.710710],\n",
    "                    zoom_start=14, max_zoom=16)\n",
    "# Some simple markers.\n",
    "folium.Marker([52.024696,-0.710710],\n",
    "              popup='Walton Hall, The Open University').add_to(map_OU4)\n",
    "folium.Marker([52.025638,-0.702336],\n",
    "              popup='The East Campus of the Open University').add_to(map_OU4)\n",
    "\n",
    "# Now plot a connected series of lines, showing the walking route between the above locations\n",
    "# that follows footpaths and underpasses.\n",
    "\n",
    "# The locations parameter for line() is a list of location points.\n",
    "\n",
    "folium.PolyLine(locations = [[52.025638,-0.702336], [52.0249,-0.7020], [52.0246,-0.7035],\n",
    "                          [52.0270,-0.7056], [52.0265,-0.7072], [52.0243,-0.7062],\n",
    "                          [52.0237,-0.7101 ], [52.0245,-0.7107], [52.024696,-0.710710]], \n",
    "                        color='red', weight=10, opacity=0.5,\n",
    "                        popup='safe route').add_to(map_OU4)\n",
    "\n",
    "map_OU4"
   ]
  },
  {
   "cell_type": "markdown",
   "metadata": {},
   "source": [
    "### If we can draw lines, we can draw boundries ...\n",
    "#### ... and if we have boundaries we can show areas"
   ]
  },
  {
   "cell_type": "markdown",
   "metadata": {},
   "source": [
    "A boundary around an area is simply a sequence of lines (or curves) that form a closed polygon (multi-sided space).  In our line example above, adding the first point to the end of the list of locations will 'close' the shape.  \n",
    "\n",
    "Boundaries are useful as they can show the extent of an area, such as a postcode region, or an electoral or census boundary, or school catchment area, for example - some area of interest.  We'll see, in the next example, how to use GeoJSON files (specialist JSON formats) of boundaries to display them on a folium map.\n",
    "\n",
    "Once we have an area we can relate statistical and other data to that area. Then we can label or shade the areas to summarise data across the map. A range of UK statistical, political and other boundaries are available in geoJSON,  shapefile (`.shp`) and KML formats from sources such as [data.gov.uk](https://data.gov.uk/data/search?theme-primary=Mapping&res_format=GeoJSON), [Edina](http://census.edina.ac.uk/bds.html) and the [ONS](http://geoportal.statistics.gov.uk/).\n",
    "\n",
    "Maps that use bounded areas on which are shown statistical and other data (either with areas and markers, or shading of areas) are known as *choropleth maps*."
   ]
  },
  {
   "cell_type": "code",
   "execution_count": null,
   "metadata": {
    "collapsed": true,
    "scrolled": false
   },
   "outputs": [],
   "source": [
    "# We start with our standard map.\n",
    "map_MKPostcode = folium.Map(location=[52.024696,-0.710710], zoom_start=10, max_zoom=16)\n",
    "\n",
    "# Then overlay a GeoJSON formatted file using the geo_json() call.\n",
    "# In this case we've used the geo_path parameter to say where to find the GeoJSON file\n",
    "# and used the default settings for the other parameters (we'll explore these in a later example.)\n",
    "\n",
    "# This boundary map shows the postcode district boundaries for Milton Keynes\n",
    "# (the MKxx bit of the Milton Keynes postcodes).\n",
    "\n",
    "map_MKPostcode.choropleth(geo_path='data/mk.geoJSON.txt')\n",
    "\n",
    "map_MKPostcode"
   ]
  },
  {
   "cell_type": "markdown",
   "metadata": {},
   "source": [
    "#  A short worked example\n",
    "\n",
    "The remainder of this Notebook works through a short example using postcode mapping information, using both marker-based information and then reworking this as a choropleth map.  It starts with data acquisition and preparation and finishes with appropriate mapped output. \n",
    "\n",
    "We can think of it as working through an exploration of the following scenario (although we don't offer any 'findings' based on the maps produced).\n",
    "\n",
    "### The scenario and data capture \n",
    "The government compiles data on driving licences which is published under the OGL (Open Government Licence) at https://data.gov.uk/dataset/driving-licence-data.  These are snapshot data files, created at specific points in time, rather than representing real-time data.   The March 2015 spreadsheet bundle includes the DRL0102 dataset containing the number of Provisional and Full driving licences by postcode district.\t\t\n",
    "\n",
    "I wondered if there was a significant difference in the balance of Full and Provisional licences in the areas in and around Milton Keynes (specifically the MKxx postcode districts).  And, since I'm looking at folium capabilities, I thought I'd see if I could map these.     _The DRL0132 spreadsheet contains the number 'Penalty Points' by postcode district, which might make an interesting second study._\n",
    "\n",
    "There is a copy of the March 2015 driving licence data in the `data` folder for this Notebook, `Driving-licence-data-Mar15.xls`.  To avoid working with the full spreadsheet, and all six data sheets it contains, I've copied the _MKxx_ postcode district data to a new spreadsheet file `MKxx DRL0102 Driving-licence-data-Mar15.xls`; I've left the header information in the new file.\n",
    "\n",
    "You can examine both these files in a spreadsheet tool, or via OpenRefine."
   ]
  },
  {
   "cell_type": "code",
   "execution_count": null,
   "metadata": {
    "collapsed": true
   },
   "outputs": [],
   "source": [
    "!ls data/"
   ]
  },
  {
   "cell_type": "markdown",
   "metadata": {},
   "source": [
    "### The data preparation\n",
    "A quick look at the _MKxx_ data will tell you that the spreadsheet data has 27 metadata header lines before we reach the column headers for the data we are interested in. Row 28 has the data header line, and rows 29-54 have the data rows.  This should give us sufficient information to import the spreadsheet data into a DataFrame, and then we can take a quick look at it."
   ]
  },
  {
   "cell_type": "code",
   "execution_count": null,
   "metadata": {
    "collapsed": true
   },
   "outputs": [],
   "source": [
    "licences_df = pd.read_excel('data/MKxx DRL0102 Driving-licence-data-Mar15.xls',\n",
    "                            skiprows=27)[:(54-28)]\n",
    "\n",
    "licences_df.head(5)"
   ]
  },
  {
   "cell_type": "markdown",
   "metadata": {},
   "source": [
    "A quick check with the original file shows we've got all the rows and columns.\n",
    "By inspection, the data looks sensible: no odd values or strings in the location cells, sensible column names and the districts are as we expected."
   ]
  },
  {
   "cell_type": "markdown",
   "metadata": {},
   "source": [
    "Since I'm interested in the relative number of full to provisional licences I'll add the percentage of full licences for each district."
   ]
  },
  {
   "cell_type": "code",
   "execution_count": null,
   "metadata": {
    "collapsed": true
   },
   "outputs": [],
   "source": [
    "# For each row calculate the full total as a percentage \n",
    "# of the overall total and add this as a new column:\n",
    "licences_df['fullpercentage'] = (licences_df['Full - Total']/ \n",
    "                                (licences_df['Provisional - Total']+\n",
    "                                         licences_df['Full - Total'])) * 100\n",
    "licences_df.head(5)"
   ]
  },
  {
   "cell_type": "markdown",
   "metadata": {},
   "source": [
    "This dataset uses postcode district for location information, but folium uses latitude and longitude. That means we need to find a useable conversion from postcode district to latitude and longitude.  This is always going to be an approximate conversion as a postode district is an 'area' of irregular shape and size, and latitude and longitude is 'point' data.\n",
    "\n",
    "A quick hunt via a search engine identified the _freemaptools.com_ site which has a CSV file containing postcode districts (aka 'outcodes') and latitude and longitude values. I've copied this file, `postcode-outcodes src freemaptools 18-10-15.csv`, to the `data/` folder. \n",
    "\n",
    "A quick look with OpenRefine shows the first line in the file is the header line.  So, let's ingest the file and take a look."
   ]
  },
  {
   "cell_type": "code",
   "execution_count": null,
   "metadata": {
    "collapsed": true
   },
   "outputs": [],
   "source": [
    "outcodes_df = pd.read_csv('data/postcode-outcodes src freemaptools 18-10-15.csv')\n",
    "outcodes_df.head(10)"
   ]
  },
  {
   "cell_type": "markdown",
   "metadata": {},
   "source": [
    "Since I'm only interested in the MK districts, I went back to the spreadsheet at this point and simply removed all the non _MKxx_ district rows, and saved the result in a separate file (`data/postcode-outcodes MKxx src freemaptools 18-10-15.csv`). I could have done this programmatically - and would have done if this was going to be a regular task - but for a one-off exercise the fastest tool was the interactive spreadsheet.  So pragmatism won out!"
   ]
  },
  {
   "cell_type": "code",
   "execution_count": null,
   "metadata": {
    "collapsed": true
   },
   "outputs": [],
   "source": [
    "mk_outcodes_df = pd.read_csv('data/postcode-outcodes MKxx src freemaptools 18-10-15.csv')\n",
    "mk_outcodes_df.head(5)"
   ]
  },
  {
   "cell_type": "markdown",
   "metadata": {},
   "source": [
    "The values in the latitude and longitude cells look sensible, but the outcodes are in a different format (or at least some of them are): MK1 should be MK01 to match the driving licence data.\n",
    "For such a small batch of data, and the one-off nature of the exercise, I could do this by hand.\n",
    "But instead let's use regular expression pattern matching to correct this."
   ]
  },
  {
   "cell_type": "code",
   "execution_count": null,
   "metadata": {
    "collapsed": true
   },
   "outputs": [],
   "source": [
    "# The following looks for the pattern: MK followed by one digit and the end of the string.\n",
    "# It then does an inplace replacement putting MK0 followed by the matched digit. \n",
    "\n",
    "for i in range(mk_outcodes_df.shape[0]):\n",
    "    mk_outcodes_df.replace({'outcode', \"(MK)(\\d)$\"}, r'MK0\\2', \n",
    "                            regex=True, inplace=True)\n",
    "mk_outcodes_df.head(5)"
   ]
  },
  {
   "cell_type": "markdown",
   "metadata": {},
   "source": [
    "We can now form an equality inner join of the two datasets, using the `District` and `outcode` columns\n",
    "as the joining column."
   ]
  },
  {
   "cell_type": "code",
   "execution_count": null,
   "metadata": {
    "collapsed": true
   },
   "outputs": [],
   "source": [
    "licence_and_location_df = pd.merge(licences_df, mk_outcodes_df, \n",
    "                                   left_on=['District'], right_on=['outcode'] )\n",
    "licence_and_location_df.head(5)"
   ]
  },
  {
   "cell_type": "markdown",
   "metadata": {},
   "source": [
    "## Now let's map this data\n",
    "We want a zoomable map, centred on the MK region, with a marker for each postcode District location.\n",
    "\n",
    "That sounds like a variation of the car park pop-up recipe I used earlier. I'll use that as a template by cutting and pasting it into the next cell, and editting it for this purpose (the following is the end result of that work process)."
   ]
  },
  {
   "cell_type": "code",
   "execution_count": null,
   "metadata": {
    "collapsed": true
   },
   "outputs": [],
   "source": [
    "# Create our base map, centred on Milton Keynes:\n",
    "LicenceMap = folium.Map(location=[52.0218,-0.7599], zoom_start=10, max_zoom=15)\n",
    "\n",
    "# For each postcode area \n",
    "# let's use the pop-up string on simple_markers to report number of licences.\n",
    "for i in range(licence_and_location_df.shape[0]):\n",
    "    TotalProv = licence_and_location_df['Provisional - Total'][i]\n",
    "    TotalFull = licence_and_location_df['Full - Total'][i]\n",
    "    FullPercentage = round(licence_and_location_df['fullpercentage'][i],1)\n",
    "    \n",
    "    # Generate a caption using HTML, embedded within an iframe inside the popup\n",
    "    html=\"\"\"\n",
    "        <h1> District: {}</h1>\n",
    "        <ul><li>Full#: {}</li>\n",
    "        <li>Provisional#: {}</li> \n",
    "        <li>Full%: {}%</li></ul> \n",
    "    \"\"\".format(licence_and_location_df['District'][i],TotalFull,TotalProv,FullPercentage)\n",
    "    iframe = folium.IFrame(html=html, width=400, height=200)\n",
    "    \n",
    "    popup = folium.Popup(iframe, max_width=800)\n",
    "    folium.Marker(location = [licence_and_location_df['latitude'][i],\n",
    "                                         licence_and_location_df['longitude'][i]], \n",
    "                              popup=popup).add_to(LicenceMap)\n",
    "\n",
    "LicenceMap"
   ]
  },
  {
   "cell_type": "markdown",
   "metadata": {},
   "source": [
    "Actually this looks wholly unsatisfactory - we've taken area data about a postcode district and mapped it to point markers, but we've no sense of the areas to which the markers relate. We also have to click on each marker to see the associated values - this doesn't give any sense of the variations between each area.\n",
    "\n",
    "This looks like a good case in which to use choropleth mapping: we can show the boundary for each postcode area, then shade each postcode area based on the full licence percentage values."
   ]
  },
  {
   "cell_type": "markdown",
   "metadata": {},
   "source": [
    "### What do we need for a choropleth map?\n",
    "We need a shape file for the postcode district boundaries - which is handy, as the `mk.geoJSON` file  is just that.\n",
    "\n",
    "We need the data used to shade our map - well, we have the DataFrame `licence_and_location_df` which has the percentage of full licences in each postcode district. So, it looks like we're ready to go."
   ]
  },
  {
   "cell_type": "code",
   "execution_count": null,
   "metadata": {
    "collapsed": true
   },
   "outputs": [],
   "source": [
    "# Create our base map, centred on Milton Keynes.\n",
    "LicenceMap1 = folium.Map(location=[52.1,-0.7599], zoom_start=10, max_zoom=15)\n",
    "\n",
    "# The geo_path is the same file we used earlier - mk.geoJSON, \n",
    "# but now we need some additional parameters:\n",
    "#    data_out is where the data files that will be used to colour the map will be held,\n",
    "#    data is the name of the DataFrame with the mappable data items in it,\n",
    "#    columns are the two columns that are used to decide \n",
    "#       - which area (we use the outcode value) \n",
    "#       - and what colour (we use the fullpercentage value),\n",
    "#    key_on tells geo_json which property in the GeoJSON files data structure needs \n",
    "#       to join with the 'outcode' column, (you can open the GeoJSON file in OpenRefine, or \n",
    "#       other tools capable of reading JSON formats, to identify the property name to use)\n",
    "#    and finally we have the colour scheme, colour opacity and legend for the rendering.\n",
    "\n",
    "# The colour scheme is taken from the 'Color Brewer' sequential scales; \n",
    "#  the values here can be any of:\n",
    "#  BuGn, BuPu, GnBu, OrRd, PuBu, PuBuGn, PuRd, RdPu, YlGn, YlGnBu, YlOrBr, YlOrRd.\n",
    "\n",
    "LicenceMap1.choropleth(geo_path='data/mk.geoJSON.txt',\n",
    "                       data_out='map-output-files/MKdata1.json',\n",
    "                       data=licence_and_location_df, \n",
    "                       columns=['outcode', 'fullpercentage'], \n",
    "                       key_on='feature.properties.Name',\n",
    "                       fill_color='PuBuGn', fill_opacity=0.4, line_opacity=0.9,\n",
    "                       legend_name='Full licence percentages' )\n",
    "\n",
    "LicenceMap1"
   ]
  },
  {
   "cell_type": "markdown",
   "metadata": {},
   "source": [
    "This is not very informative: as you can see, the legend shows the data only packed into three bins, sized by default. We can override this default by defining up to seven bins of our own. This is done by listing the threshold values for each colour change used in the shading."
   ]
  },
  {
   "cell_type": "code",
   "execution_count": null,
   "metadata": {
    "collapsed": true,
    "scrolled": false
   },
   "outputs": [],
   "source": [
    "# Create our base map, centred on Milton Keynes.\n",
    "LicenceMap2 = folium.Map(location = [52.1,-0.7599], zoom_start=10, max_zoom=15)\n",
    "\n",
    "# This is the same map as plotted above, but with a 7 bin colour scale \n",
    "# and a Red-Purple colour scale.\n",
    "\n",
    "LicenceMap2.choropleth(geo_path='data/mk.geoJSON.txt',\n",
    "                       data_out='map-output-files/MKdata1.json',\n",
    "                       data=licence_and_location_df, \n",
    "                       columns=['outcode', 'fullpercentage'], \n",
    "                       key_on='feature.properties.Name',\n",
    "                       fill_color='PuBuGn', fill_opacity=0.4, line_opacity=0.9,\n",
    "                       legend_name='Full licence percentages',\n",
    "                       threshold_scale=[40,50,60,70,80,90]  )\n",
    "\n",
    "LicenceMap2"
   ]
  },
  {
   "cell_type": "markdown",
   "metadata": {},
   "source": [
    "This is beginning to look better.  \n",
    "\n",
    "However it shows up an odd, uncoloured section in the middle of the map!  Something went wrong here.  \n",
    "\n",
    "It turns out that I should have taken a closer look at the `mk.geoJSON` file - it uses the single-digit versions (MK1, MK2) of the MK01, MK02, etc. district names.  So when `.geo_json()` joined the `outcode` values and the `properties.Name` values it lost the MK1 to MK01 relationships and then had no `fullpercentage` value to use to colour these map areas."
   ]
  },
  {
   "cell_type": "code",
   "execution_count": null,
   "metadata": {
    "collapsed": true
   },
   "outputs": [],
   "source": [
    "import json\n",
    "with open('data/mk.geoJSON.txt') as data_file:    \n",
    "    jj = json.load(data_file)\n",
    "areas= [f['properties']['Name'] for f in jj['features']]\n",
    "print('GeoJSON keys: {} \\nData keys: {}'.format(','.join(areas),\n",
    "                                                 ','.join(licence_and_location_df['District'].unique()) ) )"
   ]
  },
  {
   "cell_type": "markdown",
   "metadata": {},
   "source": [
    "We have some more data preparation to do!\n",
    "\n",
    "We need the original `outcode` values to join with the GeoJSON file values.  We also don't need the postcode-to-location dataset, since we're using the GeoJSON mapping information for our display. So, the licence information alone is sufficient for the choropleth map requirements.\n",
    "\n",
    "So reusing the recipe from above, and adjusting for the new data file and preparation requirements:"
   ]
  },
  {
   "cell_type": "code",
   "execution_count": null,
   "metadata": {
    "collapsed": true
   },
   "outputs": [],
   "source": [
    "# Reload the driving licence data for MK\n",
    "licences2_df = pd.read_excel('data/MKxx DRL0102 Driving-licence-data-Mar15.xls',\n",
    "                             skiprows=27)[:(54-28)]\n",
    "\n",
    "# For each row calculate the full total as a percentage of the overall total \n",
    "#    and add this as a new column:\n",
    "licences2_df['fullpercentage'] = (licences2_df['Full - Total']/ \n",
    "                                 (licences2_df['Provisional - Total']+\n",
    "                                           licences2_df['Full - Total'])) * 100\n",
    "licences2_df.head(5)"
   ]
  },
  {
   "cell_type": "code",
   "execution_count": null,
   "metadata": {
    "collapsed": true
   },
   "outputs": [],
   "source": [
    "# We can add the adjusted District values as an outcode value for each row:\n",
    "for i in range(licences2_df.shape[0]):\n",
    "    licences2_df['outcode'] = licences2_df['District'].replace(\"(MK)(0)(\\d)$\", r'MK\\3',\n",
    "                                               regex=True, inplace=False)\n",
    "licences2_df.head(5)"
   ]
  },
  {
   "cell_type": "code",
   "execution_count": null,
   "metadata": {
    "collapsed": true
   },
   "outputs": [],
   "source": [
    "# Create our base map, centred on Milton Keynes.\n",
    "LicenceMap3 = folium.Map(location = [52.1,-0.7599],\n",
    "                    zoom_start=10, max_zoom=15)\n",
    "\n",
    "LicenceMap3.choropleth(geo_path='data/mk.geoJSON.txt',\n",
    "                       data_out='map-output-files/MKdata1.json',\n",
    "                       data=licences2_df, \n",
    "                       columns=['outcode', 'fullpercentage'], \n",
    "                       key_on='feature.properties.Name',\n",
    "                       fill_color='PuBuGn', fill_opacity=0.4, line_opacity=0.9,\n",
    "                       legend_name='Full licence percentages',\n",
    "                       threshold_scale=[40,50,60,70,80,90]  )\n",
    "\n",
    "LicenceMap3"
   ]
  },
  {
   "cell_type": "markdown",
   "metadata": {},
   "source": [
    "One final tweak:  with a low value for opacity you get the underlying colour showing through, which makes the relationship between the map colouring and the legend colours hard to gauge.  By increasing the opacity, a closer match between the colours is possible - however, you do lose access to the detail underlying the colouring if it is too opaque."
   ]
  },
  {
   "cell_type": "code",
   "execution_count": null,
   "metadata": {
    "collapsed": true
   },
   "outputs": [],
   "source": [
    "# Create our base map, centred on Milton Keynes.\n",
    "LicenceMap4 = folium.Map(location = [52.1,-0.7599],\n",
    "                    zoom_start=10, max_zoom=15)\n",
    "\n",
    "LicenceMap4.choropleth(geo_path='data/mk.geoJSON.txt',\n",
    "                       data_out='map-output-files/MKdata1.json',\n",
    "                       data=licences2_df, \n",
    "                       columns=['outcode', 'fullpercentage'], \n",
    "                       key_on='feature.properties.Name',\n",
    "                       fill_color='PuBuGn', fill_opacity=0.8, line_opacity=0.9,\n",
    "                       legend_name='Full licence percentages',\n",
    "                       threshold_scale=[40,50,60,70,80,90]  )\n",
    "\n",
    "LicenceMap4"
   ]
  },
  {
   "cell_type": "markdown",
   "metadata": {},
   "source": [
    "## What next?"
   ]
  },
  {
   "cell_type": "markdown",
   "metadata": {},
   "source": [
    "This Notebook contains a basic introduction to mapping using folium - a Python library that allows you to create interactive maps using the leaflet JavaScript library and map tiles served from OpenStreetMap. If you have a pressing need to create maps as part of your data investigations *right now*, it provides you with a starting point (but don't get too distracted!)\n",
    "\n",
    "If you are working through this Notebook as part of an inline exercise, return to the module materials now. If you are working through this set of Notebooks as a whole, move on to Notebook `05.3 Getting started with matplotlib.`"
   ]
  },
  {
   "cell_type": "markdown",
   "metadata": {},
   "source": [
    "# Optional material"
   ]
  },
  {
   "cell_type": "markdown",
   "metadata": {},
   "source": [
    "#### From KML to GeoJSON\n",
    "If you find a repository of KML files you'll find that they can be very large. One reason the http://census.edina.ac.uk/bds.html site is useful is that it allows you to do some narrowing down to the area you want to map without having to do so manually.\n",
    "\n",
    "So my approach to generating the MK postcode boundaries file was to start at the above site, choosing the _England_, _Postal_, _2012_ boundary data and using the _List Area_ feature to choose just the Milton Keynes data.  When I'd picked the data I wanted, I used the _format_ tab to select KML format for the output file.  Once I'd downloaded the output file I needed to convert the KML to GeoJSON.\n",
    "\n",
    "The interactive service http://ogre.adc4gis.com/ does this; the output from this is displayed to your browser page but it is possible to save this to a file.  A quick check with OpenRefine (open the file as a JSON format file) shows this parsed correctly, and allowed me to look for the property name used for the Districts - in this case `properties.Name`.\n",
    "\n",
    "All this is very manual and rather clunky; but for this investigation/example it worked, and didn't take me more than 30 minutes of web searching to find the repository and the ogre service, with a couple of false starts.  Next time it'll take less than 5 minutes if the repository contains the boundary data I need.\n",
    "\n",
    "If you're familiar with other repositories, or with converting boundary data (either manually, with services or with Python), why not share locations and recipes on the module forum or in OpenStudio for others to see."
   ]
  },
  {
   "cell_type": "markdown",
   "metadata": {},
   "source": [
    "### Using proportional markers: takes 2 and 3\n",
    "\n",
    "Earlier we used proportional markers based on the absolute count of car park spaces.  We also suggested that in most cases you would either need to scale, or bin, data to create markers, especially when absolute values might overwhelm the map.\n",
    "\n",
    "This is not particularly a mapping technique, but is a good example of two short data-preparation recipes and how mapping can then build on top of properly shaped datasets."
   ]
  },
  {
   "cell_type": "markdown",
   "metadata": {},
   "source": [
    "The following example re-builds the DataFrame used earlier, but we've adjusted the absolute size of the car parks, to include one very large one."
   ]
  },
  {
   "cell_type": "code",
   "execution_count": null,
   "metadata": {
    "collapsed": true
   },
   "outputs": [],
   "source": [
    "Carparking2_df = pd.DataFrame({'latitude': [52.026, 52.0253, 52.0266, 52.0242, 52.0233],\n",
    "                               'longitude': [-0.7065,-0.7052, -0.7112, -0.7132, -0.7107],\n",
    "                               'absolutesize': [1000, 255, 158, 50, 40]})\n",
    "\n",
    "# A quick check to see that we've got the Carparking DataFrame correct\n",
    "for i in range(Carparking2_df.shape[0]):\n",
    "    (lat, long, numspaces) = Carparking2_df.loc[i,['latitude','longitude','absolutesize']]\n",
    "    print(lat, long, 'Car park with: '+ str(int(numspaces)) + ' spaces.')"
   ]
  },
  {
   "cell_type": "markdown",
   "metadata": {
    "collapsed": true
   },
   "source": [
    "Next we can see what a mess this makes of our map if we try to use absolute values as we did earlier."
   ]
  },
  {
   "cell_type": "code",
   "execution_count": null,
   "metadata": {
    "collapsed": true,
    "scrolled": false
   },
   "outputs": [],
   "source": [
    "# Create our base map, centred on Walton Hall.\n",
    "OU_carparks2 = folium.Map(location=[52.024696,-0.710710], zoom_start=1, max_zoom=16)\n",
    "\n",
    "# Add a simple marker to say where we are\n",
    "folium.Marker([52.024696,-0.710710], popup='The Open University, Walton Hall').add_to(OU_carparks2)\n",
    "\n",
    "# Now add proportional circle markers, one for each car park.\n",
    "# The radius is in pixels, using the absolute value directly,\n",
    "for i in range(Carparking2_df.shape[0]):\n",
    "    (lat, long, numspaces) = Carparking2_df.loc[i,['latitude','longitude','absolutesize']]\n",
    "    folium.CircleMarker(location=[lat, long], radius=numspaces,\n",
    "                               popup='Car park with: '+ str(int(numspaces)) + 'spaces.', \n",
    "                               color='#3186ec', fill_color='#3186ec',\n",
    "                               fill_opacity=0.8).add_to(OU_carparks2)\n",
    "\n",
    "OU_carparks2"
   ]
  },
  {
   "cell_type": "markdown",
   "metadata": {},
   "source": [
    "#### Reshaping the data set with new columns\n",
    "To our `Carparking2_df` DataFrame we can add a column for scaled proportional data values, and then we'll add one for binning values."
   ]
  },
  {
   "cell_type": "code",
   "execution_count": null,
   "metadata": {
    "collapsed": true
   },
   "outputs": [],
   "source": [
    "import numpy as np\n",
    "# The following scales from the absolute sizes into a\n",
    "# new range, which I've chosen to be 100 maximum and 10 minimum; \n",
    "# you could adjust these by replacing the values in the code below.\n",
    "# (The code doesn't handle end conditions where you set the maximum and \n",
    "#  minimum values to the same value.)\n",
    "\n",
    "maxAbsoluteSize = Carparking2_df['absolutesize'].max()\n",
    "minAbsoluteSize = Carparking2_df['absolutesize'].min()\n",
    "rangeAbsoluteSize = (maxAbsoluteSize - minAbsoluteSize)\n",
    "\n",
    "maxScaledSize = 100\n",
    "minScaledSize = 10\n",
    "rangeScaledSize = (maxScaledSize - minScaledSize)\n",
    "\n",
    "# Now add the scaled values to the CarParking2_df DataFrame as a new column:\n",
    "Carparking2_df['scaledsize'] = ( (((Carparking2_df['absolutesize'] - minAbsoluteSize) * \n",
    "                                   rangeScaledSize)\n",
    "                                               / rangeAbsoluteSize) + minScaledSize)\n",
    "\n",
    "# If the above code is correct, the largest absolute size will now have scaledsize of 100,\n",
    "# and the smallest absolute size will have scaledsize 10. A quick check:\n",
    "Carparking2_df"
   ]
  },
  {
   "cell_type": "code",
   "execution_count": null,
   "metadata": {
    "collapsed": true
   },
   "outputs": [],
   "source": [
    "# Now add a column with bin numbers based on the car park size.\n",
    "# Earlier we suggested bins with boundaries [50, 200 and 500].\n",
    "# We add a lower bound (0) and an arbtrary upper bound (10000) to \n",
    "# this Series of bin thresholds.\n",
    "# The bin boundary condition is that the values in each bin are \n",
    "# higher than the lower threshold and less than or equal to the \n",
    "# upper bound.\n",
    "\n",
    "ThresholdSeries = pd.Series([0,50,200,500,10000])\n",
    "\n",
    "# Create the binvalue column:\n",
    "Carparking2_df['binvalue'] = 1\n",
    "\n",
    "# For each bin - if the car park absolute size is within the bin boundaries\n",
    "# we want to change the binvalue to the bin number.\n",
    "for Bin in range(ThresholdSeries.size-1):\n",
    "    Carparking2_df.loc[((Carparking2_df.absolutesize > ThresholdSeries[Bin]) &\n",
    "                        (Carparking2_df.absolutesize <= ThresholdSeries[Bin+1]) ), \n",
    "                      ['binvalue'] ] = (Bin+1)\n",
    "    \n",
    "Carparking2_df"
   ]
  },
  {
   "cell_type": "markdown",
   "metadata": {},
   "source": [
    "Now we can map the chosen values, using either the scaled size, or a function of bin number, to determine the radius of the proportional markers."
   ]
  },
  {
   "cell_type": "code",
   "execution_count": null,
   "metadata": {
    "collapsed": true,
    "scrolled": false
   },
   "outputs": [],
   "source": [
    "# Map using circle markers based on scaled size\n",
    "# Create our base map, centred on Walton Hall.\n",
    "OU_carparks3 = folium.Map(location=[52.024696,-0.710710],\n",
    "                     zoom_start=16, max_zoom=18)\n",
    "# Add a simple marker to say where it is.\n",
    "folium.Marker([52.024696,-0.710710], \n",
    "                           popup='The Open University, Walton Hall').add_to(OU_carparks3)\n",
    "\n",
    "# Now add proportional circle markers, one for each car park.\n",
    "# The radius is in pixels, using the scaledsize value directly.\n",
    "for i in range(Carparking2_df.shape[0]):\n",
    "    (lat, long, relsize, numspaces) = Carparking2_df.loc[i,['latitude','longitude','scaledsize','absolutesize']]\n",
    "    folium.CircleMarker(location=[lat, long], radius=relsize,\n",
    "                        popup='Car park with: '+ str(int(numspaces)) + 'spaces.', \n",
    "                        color='red', fill_color='orange',\n",
    "                        fill_opacity=0.8).add_to(OU_carparks3)\n",
    "\n",
    "OU_carparks3"
   ]
  },
  {
   "cell_type": "code",
   "execution_count": null,
   "metadata": {
    "collapsed": true
   },
   "outputs": [],
   "source": [
    "# Map using scaled polygons with size based on bin number.\n",
    "\n",
    "# Create our base map, centred on Walton Hall.\n",
    "OU_carparks4 = folium.Map(location=[52.024696,-0.710710], zoom_start=14, max_zoom=16)\n",
    "\n",
    "# Add a simple marker to say where it is\n",
    "folium.Marker([52.024696,-0.710710], \n",
    "                     popup='The Open University, Walton Hall').add_to(OU_carparks4)\n",
    "\n",
    "# Now addin proportional polygon markers, one for each car park.\n",
    "# The radius is using a multiple of 10 times the binnumber ,\n",
    "for i in range(Carparking2_df.shape[0]):\n",
    "    (lat, long, binnumber, numspaces) = Carparking2_df.loc[i,['latitude','longitude','binvalue','absolutesize']]\n",
    "    folium.RegularPolygonMarker(location=[lat,long], radius=(binnumber * 10),\n",
    "                                number_of_sides=8,\n",
    "                                popup='Car park with: '+ str(int(numspaces)) + 'spaces.', \n",
    "                                color='Black', fill_color='Blue',\n",
    "                                fill_opacity=0.8).add_to(OU_carparks4)\n",
    "\n",
    "OU_carparks4"
   ]
  }
 ],
 "metadata": {
  "kernelspec": {
   "display_name": "Python 3",
   "language": "python",
   "name": "python3"
  },
  "language_info": {
   "codemirror_mode": {
    "name": "ipython",
    "version": 3
   },
   "file_extension": ".py",
   "mimetype": "text/x-python",
   "name": "python",
   "nbconvert_exporter": "python",
   "pygments_lexer": "ipython3",
   "version": "3.5.2"
  }
 },
 "nbformat": 4,
 "nbformat_minor": 1
}
