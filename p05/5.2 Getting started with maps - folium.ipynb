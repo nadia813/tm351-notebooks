{
 "cells": [
  {
   "cell_type": "markdown",
   "metadata": {
    "code_folding": [
     0
    ]
   },
   "source": [
    "# Getting started with maps"
   ]
  },
  {
   "cell_type": "markdown",
   "metadata": {},
   "source": [
    "One of the most powerful - and intuitive - visualisation techniques for location-based data is to make use of maps.\n",
    "\n",
    "The technical subject of Geographic Information Systems (GIS) is a very broad one, but at its core are systems specifically tailored for the storage, display, interrogation and management of geographic, location-related data. The common feature of all GIS is the central role that location plays in the data - acting as a key to draw together data from different sources and forming the main relationship between data elements.  \n",
    "\n",
    "Latitiude and longitude values can be used to determine a point on the Earth's surface, but these are not the only coordinate systems that could be used.  There is also the problem that the Earth's spherical representation makes it difficult to accurately represent both area and shape when working on a flat surface (screen or paper).  For this reason different projections are available that convert the spherical reality of the Earth's surfce to the flat representation of our screens and atlases and, similar to choosing an appropriate visualisation for graphic data, choosing a suitable projection for mapping data can be important.  So, simply plotting the latitude and longitude position on a grid is not sufficient: a mathematical transformation to the chosen projection is required.  These and other complex issues (handling height above sea level, mapping areas as well as points) are concerns in mapping and GIS.\n",
    "\n",
    "In this introduction we're going to take a GIS-lite approach to maps.  We're going to use a library that has a single projection, and uses 'raw' latitude and longitude values for points on the map. We're also using maps to support the visualisation of data (rather than for capturing data), so we're interested in how to present data on the maps.\n",
    "\n",
    "There are typically three - or four, depending how you count them - ways of representing data on a map:\n",
    "\n",
    "- points, or markers\n",
    "- lines\n",
    "- regions, or shapes.\n",
    "\n",
    "The _fourth_ way is to use proportional symbol markers - that is, markers such as circles whose size is proportional to some quantity relevant to the marker location.\n",
    "\n",
    "There are several libraries available that can help us work with maps. One approach is to generate base maps using graphic visualisation libraries such as matplotlib to form quick, static sketch maps. If we require interactive JavaScript style maps, we can use the mplleaflet library to convert these static map representations to embedded interactive ones using the leaflet JavaScript library. Another is to use a package such as *folium* to create a leaflet map directly.\n",
    "\n",
    "We'll look at ways of representing location data with the _folium_ package, which integrates Python and _pandas_ data handling interactive, leaflet JavaScript, maps.  folium handles a lot of the underying details, letting us get on with presenting our location-based data.  \n",
    "\n",
    "The use of a package like folium is a compromise between the full power of the packages it uses and the flexibility and complexity of the features you can use in the full leaflet library.  \n",
    "\n",
    "We won't be working directly with leaflet or matplotlib maps in this module."
   ]
  },
  {
   "cell_type": "code",
   "execution_count": 2,
   "metadata": {
    "collapsed": true
   },
   "outputs": [],
   "source": [
    "import folium\n",
    "import pandas as pd"
   ]
  },
  {
   "cell_type": "markdown",
   "metadata": {},
   "source": [
    "####  A note on the need for an internet connection when working with folium output\n",
    "folium doesn't embedd the map tiles (the graphic used as the background display on a map) into the HTML document when you create the map.  It is not until the HTML is used to display the map that the tile set is retrieved.  This keeps the map files small, but means you cannot display a map if your are offline.    A network connection is required to retrieve the map tiles, so if you are not connected to the internet you cannot display the map in the HTML document.\n",
    "\n",
    "\n",
    "It is possible that a map will display if the tiles you require are held in the cache. However, if you move or zoom on that map it is unlikely the cache will contain the required tiles and the display will be blanked or corrupted."
   ]
  },
  {
   "cell_type": "markdown",
   "metadata": {},
   "source": [
    "#### A note on the location of the output files\n",
    "folium generates maps as `HTML` files, which are displayed in the Notebook; by default, the Notebook's own folder is used. This can get a bit untidy.  So, for these examples there is a folder `map-output-files`, in the usual `data/` folder, which is included in the map `path` parameter (which names the `HTML` output file) for each of the maps created in this Notebook.\n",
    "\n",
    "You're obviously free to save your maps wherever you want but, in keeping with the aims of the module, do try to _manage_ them, rather than just _collect_ them!"
   ]
  },
  {
   "cell_type": "markdown",
   "metadata": {},
   "source": [
    "# A simple map"
   ]
  },
  {
   "cell_type": "code",
   "execution_count": 2,
   "metadata": {
    "scrolled": true
   },
   "outputs": [
    {
     "data": {
      "text/html": [
       "<div style=\"width:100%;\"><div style=\"position:relative;width:100%;height:0;padding-bottom:60%;\"><iframe src=\"data:text/html;charset=utf-8;base64,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\" style=\"position:absolute;width:100%;height:100%;left:0;top:0;border:none !important;\" allowfullscreen webkitallowfullscreen mozallowfullscreen></iframe></div></div>"
      ],
      "text/plain": [
       "<folium.folium.Map at 0x7f1366f1f160>"
      ]
     },
     "execution_count": 2,
     "metadata": {},
     "output_type": "execute_result"
    }
   ],
   "source": [
    "# A first map, using all the defaults, supplying a location for the centre of the map,\n",
    "# and a size in pixels for the map.\n",
    "\n",
    "# This map is centred on the Open University campus, Walton Hall.\n",
    "# The location values are the latitude and longitude values for the location of interest.\n",
    "# The default is to use the OpenStreetMap tiling (how the background looks).\n",
    "map_OU = folium.Map(location=[52.024696,-0.710710], width=960, height=500)\n",
    "\n",
    "# The create_map() saves an HTML representation of the map object to the specified file.\n",
    "# (You can open this file in your browser as well as it displaying directly in the Notebook.)\n",
    "# This will not display a map if you are offline. A network connection is required to \n",
    "# retrieve the map tiles.\n",
    "\n",
    "# Once you've run this cell, and the map is rendered below, you'll see, \n",
    "# if you put your mouse over it and scroll, that it is zoomable.\n",
    "\n",
    "# This is the standard Notebook way of displaying the last object named in the cell.\n",
    "# It's a map object.\n",
    "map_OU"
   ]
  },
  {
   "cell_type": "code",
   "execution_count": null,
   "metadata": {
    "collapsed": true
   },
   "outputs": [],
   "source": [
    "#We can save an HTML file that will render this map\n",
    "#First check the output firectory path exists and create it if it doesn't\n",
    "!mkdir -p map-output-files\n",
    "\n",
    "#Now save the HTML file\n",
    "map_OU.save('map-output-files/OU.html')"
   ]
  },
  {
   "cell_type": "code",
   "execution_count": 3,
   "metadata": {
    "scrolled": false
   },
   "outputs": [
    {
     "data": {
      "text/html": [
       "<div style=\"width:100%;\"><div style=\"position:relative;width:100%;height:0;padding-bottom:60%;\"><iframe src=\"data:text/html;charset=utf-8;base64,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\" style=\"position:absolute;width:100%;height:100%;left:0;top:0;border:none !important;\" allowfullscreen webkitallowfullscreen mozallowfullscreen></iframe></div></div>"
      ],
      "text/plain": [
       "<folium.folium.Map at 0x7f1366f2e518>"
      ]
     },
     "execution_count": 3,
     "metadata": {},
     "output_type": "execute_result"
    }
   ],
   "source": [
    "# We can neaten this map: the Walton Hall campus is barely \n",
    "# visible at this level of detail, and the map is a \n",
    "# bit big for this demonstration.\n",
    "\n",
    "# This will not display a map if your are offline. A network connection is required to \n",
    "# retrieve the map tiles.\n",
    "map_OU2 = folium.Map(location=[52.024696,-0.710710], width=600, height=300,\n",
    "                    zoom_start=14, max_zoom=16)\n",
    "\n",
    "# zoom_start is the level of detail to show when the map is first opened,\n",
    "#     0 is the whole world, 18 appears to be the highest zoom level allowed.\n",
    "# You can limit the maximum level of zoom allowed using max_zoom:\n",
    "\n",
    "map_OU2"
   ]
  },
  {
   "cell_type": "markdown",
   "metadata": {},
   "source": [
    "# Adding markers to a map"
   ]
  },
  {
   "cell_type": "code",
   "execution_count": 4,
   "metadata": {},
   "outputs": [
    {
     "data": {
      "text/html": [
       "<div style=\"width:100%;\"><div style=\"position:relative;width:100%;height:0;padding-bottom:60%;\"><iframe src=\"data:text/html;charset=utf-8;base64,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\" style=\"position:absolute;width:100%;height:100%;left:0;top:0;border:none !important;\" allowfullscreen webkitallowfullscreen mozallowfullscreen></iframe></div></div>"
      ],
      "text/plain": [
       "<folium.folium.Map at 0x7f1366f2e518>"
      ]
     },
     "execution_count": 4,
     "metadata": {},
     "output_type": "execute_result"
    }
   ],
   "source": [
    "# We can make use of markers to show everyone what the map contains, \n",
    "# and focus on any specific points of interest.\n",
    "\n",
    "# We can do this by adding a marker at the location we want\n",
    "folium.Marker([52.024697,-0.710711]).add_to(map_OU2)\n",
    "\n",
    "map_OU2"
   ]
  },
  {
   "cell_type": "code",
   "execution_count": null,
   "metadata": {
    "collapsed": true
   },
   "outputs": [],
   "source": [
    "# Simply having a marker on it's own isn't very informative.\n",
    "# We can include pop-up text for the marker, which requires a mouse\n",
    "# click to display.   \n",
    "\n",
    "# Set the marker popup text using: popup='our text here'\n",
    "folium.Marker([52.025638,-0.702336], \n",
    "              popup='The East Campus of the Open University').add_to(map_OU2)\n",
    "\n",
    "map_OU2"
   ]
  },
  {
   "cell_type": "markdown",
   "metadata": {},
   "source": [
    "### Finding latitude and longitude values for locations\n",
    "If you are manually building a map, as we have done above, you can find the latitude and longitude values interactively from a service such as http://www.itouchmap.com/latlong.html.\n",
    "\n",
    "You can also find a lot of GPS-information on many electronic devices and device outputs.  If you have a GPS enabled mobile phone it's quite possible that any data you generate from it will be tagged with latitude and longitude information, and the metadata on photographs can include location. \n",
    " \n",
    "Sometimes you will find datasets that contain latitude and longitude values as column items. In other cases, you may be presented with a geodata file, such as a _KML_ file or _geojson_ file, that includes semantically declared geographical data points. These allow you to ingest the data files and use these values directly.\n",
    "\n",
    "In other cases, you will have to _geocode_ the data from an address or other form of location, converting it into latitude and longitude values. One common approach is to use postcode data and a lookup service such as UK Postcodes (http://www.uk-postcodes.com/) - this gives a marker within several tens or hundreds of meters of the actual location of an address.  We'll use a lookup table of postcode values in a later example.\n",
    "\n",
    "You can also use folium itself to give you the latitude and longitude values when you click on a map."
   ]
  },
  {
   "cell_type": "code",
   "execution_count": null,
   "metadata": {
    "collapsed": true
   },
   "outputs": [],
   "source": [
    "# You can switch on the ability to click anywhere on your map and have \n",
    "# folium display the location data, similar to the touchmap service.\n",
    "\n",
    "folium.LatLngPopup().add_to(map_OU2)\n",
    "\n",
    "map_OU2"
   ]
  },
  {
   "cell_type": "markdown",
   "metadata": {},
   "source": [
    "## More interesting markers"
   ]
  },
  {
   "cell_type": "markdown",
   "metadata": {},
   "source": [
    "We can also put circle markers and polygon markers on our maps.\n",
    "We can control the radius, colour, outline colour and opacity of the markers drawn.  A polygon marker is a multi-sided shape (triangle, square, pentagon, etc.).  And we can mix these on the same map."
   ]
  },
  {
   "cell_type": "code",
   "execution_count": 5,
   "metadata": {},
   "outputs": [
    {
     "data": {
      "text/html": [
       "<div style=\"width:100%;\"><div style=\"position:relative;width:100%;height:0;padding-bottom:60%;\"><iframe src=\"data:text/html;charset=utf-8;base64,PCFET0NUWVBFIGh0bWw+CjxoZWFkPiAgICAKICAgIDxtZXRhIGh0dHAtZXF1aXY9ImNvbnRlbnQtdHlwZSIgY29udGVudD0idGV4dC9odG1sOyBjaGFyc2V0PVVURi04IiAvPgogICAgPHNjcmlwdD5MX1BSRUZFUl9DQU5WQVMgPSBmYWxzZTsgTF9OT19UT1VDSCA9IGZhbHNlOyBMX0RJU0FCTEVfM0QgPSBmYWxzZTs8L3NjcmlwdD4KICAgIDxzY3JpcHQgc3JjPSJodHRwczovL3VucGtnLmNvbS9sZWFmbGV0QDEuMC4xL2Rpc3QvbGVhZmxldC5qcyI+PC9zY3JpcHQ+CiAgICA8c2NyaXB0IHNyYz0iaHR0cHM6Ly9hamF4Lmdvb2dsZWFwaXMuY29tL2FqYXgvbGlicy9qcXVlcnkvMS4xMS4xL2pxdWVyeS5taW4uanMiPjwvc2NyaXB0PgogICAgPHNjcmlwdCBzcmM9Imh0dHBzOi8vbWF4Y2RuLmJvb3RzdHJhcGNkbi5jb20vYm9vdHN0cmFwLzMuMi4wL2pzL2Jvb3RzdHJhcC5taW4uanMiPjwvc2NyaXB0PgogICAgPHNjcmlwdCBzcmM9Imh0dHBzOi8vY2RuanMuY2xvdWRmbGFyZS5jb20vYWpheC9saWJzL0xlYWZsZXQuYXdlc29tZS1tYXJrZXJzLzIuMC4yL2xlYWZsZXQuYXdlc29tZS1tYXJrZXJzLmpzIj48L3NjcmlwdD4KICAgIDxzY3JpcHQgc3JjPSJodHRwczovL2NkbmpzLmNsb3VkZmxhcmUuY29tL2FqYXgvbGlicy9sZWFmbGV0Lm1hcmtlcmNsdXN0ZXIvMS4wLjAvbGVhZmxldC5tYXJrZXJjbHVzdGVyLXNyYy5qcyI+PC9zY3JpcHQ+CiAgICA8c2NyaXB0IHNyYz0iaHR0cHM6Ly9jZG5qcy5jbG91ZGZsYXJlLmNvbS9hamF4L2xpYnMvbGVhZmxldC5tYXJrZXJjbHVzdGVyLzEuMC4wL2xlYWZsZXQubWFya2VyY2x1c3Rlci5qcyI+PC9zY3JpcHQ+CiAgICA8bGluayByZWw9InN0eWxlc2hlZXQiIGhyZWY9Imh0dHBzOi8vdW5wa2cuY29tL2xlYWZsZXRAMS4wLjEvZGlzdC9sZWFmbGV0LmNzcyIgLz4KICAgIDxsaW5rIHJlbD0ic3R5bGVzaGVldCIgaHJlZj0iaHR0cHM6Ly9tYXhjZG4uYm9vdHN0cmFwY2RuLmNvbS9ib290c3RyYXAvMy4yLjAvY3NzL2Jvb3RzdHJhcC5taW4uY3NzIiAvPgogICAgPGxpbmsgcmVsPSJzdHlsZXNoZWV0IiBocmVmPSJodHRwczovL21heGNkbi5ib290c3RyYXBjZG4uY29tL2Jvb3RzdHJhcC8zLjIuMC9jc3MvYm9vdHN0cmFwLXRoZW1lLm1pbi5jc3MiIC8+CiAgICA8bGluayByZWw9InN0eWxlc2hlZXQiIGhyZWY9Imh0dHBzOi8vbWF4Y2RuLmJvb3RzdHJhcGNkbi5jb20vZm9udC1hd2Vzb21lLzQuNi4zL2Nzcy9mb250LWF3ZXNvbWUubWluLmNzcyIgLz4KICAgIDxsaW5rIHJlbD0ic3R5bGVzaGVldCIgaHJlZj0iaHR0cHM6Ly9jZG5qcy5jbG91ZGZsYXJlLmNvbS9hamF4L2xpYnMvTGVhZmxldC5hd2Vzb21lLW1hcmtlcnMvMi4wLjIvbGVhZmxldC5hd2Vzb21lLW1hcmtlcnMuY3NzIiAvPgogICAgPGxpbmsgcmVsPSJzdHlsZXNoZWV0IiBocmVmPSJodHRwczovL2NkbmpzLmNsb3VkZmxhcmUuY29tL2FqYXgvbGlicy9sZWFmbGV0Lm1hcmtlcmNsdXN0ZXIvMS4wLjAvTWFya2VyQ2x1c3Rlci5EZWZhdWx0LmNzcyIgLz4KICAgIDxsaW5rIHJlbD0ic3R5bGVzaGVldCIgaHJlZj0iaHR0cHM6Ly9jZG5qcy5jbG91ZGZsYXJlLmNvbS9hamF4L2xpYnMvbGVhZmxldC5tYXJrZXJjbHVzdGVyLzEuMC4wL01hcmtlckNsdXN0ZXIuY3NzIiAvPgogICAgPGxpbmsgcmVsPSJzdHlsZXNoZWV0IiBocmVmPSJodHRwczovL3Jhd2dpdC5jb20vcHl0aG9uLXZpc3VhbGl6YXRpb24vZm9saXVtL21hc3Rlci9mb2xpdW0vdGVtcGxhdGVzL2xlYWZsZXQuYXdlc29tZS5yb3RhdGUuY3NzIiAvPgogICAgPHN0eWxlPmh0bWwsIGJvZHkge3dpZHRoOiAxMDAlO2hlaWdodDogMTAwJTttYXJnaW46IDA7cGFkZGluZzogMDt9PC9zdHlsZT4KICAgIDxzdHlsZT4jbWFwIHtwb3NpdGlvbjphYnNvbHV0ZTt0b3A6MDtib3R0b206MDtyaWdodDowO2xlZnQ6MDt9PC9zdHlsZT4KICAgIAogICAgICAgICAgICA8c3R5bGU+ICNtYXBfZWQyYTIxMGM4MDcxNDBkY2JhNTgxYTk2MWJjMDE3NjMgewogICAgICAgICAgICAgICAgcG9zaXRpb24gOiByZWxhdGl2ZTsKICAgICAgICAgICAgICAgIHdpZHRoIDogMTAwLjAlOwogICAgICAgICAgICAgICAgaGVpZ2h0OiAxMDAuMCU7CiAgICAgICAgICAgICAgICBsZWZ0OiAwLjAlOwogICAgICAgICAgICAgICAgdG9wOiAwLjAlOwogICAgICAgICAgICAgICAgfQogICAgICAgICAgICA8L3N0eWxlPgogICAgICAgIAogICAgPHNjcmlwdCBzcmM9Imh0dHBzOi8vY2RuanMuY2xvdWRmbGFyZS5jb20vYWpheC9saWJzL2xlYWZsZXQtZHZmLzAuMy4wL2xlYWZsZXQtZHZmLm1hcmtlcnMubWluLmpzIj48L3NjcmlwdD4KPC9oZWFkPgo8Ym9keT4gICAgCiAgICAKICAgICAgICAgICAgPGRpdiBjbGFzcz0iZm9saXVtLW1hcCIgaWQ9Im1hcF9lZDJhMjEwYzgwNzE0MGRjYmE1ODFhOTYxYmMwMTc2MyIgPjwvZGl2PgogICAgICAgIAo8L2JvZHk+CjxzY3JpcHQ+ICAgIAogICAgCgogICAgICAgICAgICAKICAgICAgICAgICAgICAgIHZhciBzb3V0aFdlc3QgPSBMLmxhdExuZygtOTAsIC0xODApOwogICAgICAgICAgICAgICAgdmFyIG5vcnRoRWFzdCA9IEwubGF0TG5nKDkwLCAxODApOwogICAgICAgICAgICAgICAgdmFyIGJvdW5kcyA9IEwubGF0TG5nQm91bmRzKHNvdXRoV2VzdCwgbm9ydGhFYXN0KTsKICAgICAgICAgICAgCgogICAgICAgICAgICB2YXIgbWFwX2VkMmEyMTBjODA3MTQwZGNiYTU4MWE5NjFiYzAxNzYzID0gTC5tYXAoCiAgICAgICAgICAgICAgICAgICAgICAgICAgICAgICAgICAnbWFwX2VkMmEyMTBjODA3MTQwZGNiYTU4MWE5NjFiYzAxNzYzJywKICAgICAgICAgICAgICAgICAgICAgICAgICAgICAgICAgIHtjZW50ZXI6IFs1Mi4wMjQ2OTYsLTAuNzEwNzFdLAogICAgICAgICAgICAgICAgICAgICAgICAgICAgICAgICAgem9vbTogMTQsCiAgICAgICAgICAgICAgICAgICAgICAgICAgICAgICAgICBtYXhCb3VuZHM6IGJvdW5kcywKICAgICAgICAgICAgICAgICAgICAgICAgICAgICAgICAgIGxheWVyczogW10sCiAgICAgICAgICAgICAgICAgICAgICAgICAgICAgICAgICB3b3JsZENvcHlKdW1wOiBmYWxzZSwKICAgICAgICAgICAgICAgICAgICAgICAgICAgICAgICAgIGNyczogTC5DUlMuRVBTRzM4NTcKICAgICAgICAgICAgICAgICAgICAgICAgICAgICAgICAgfSk7CiAgICAgICAgICAgIAogICAgICAgIAogICAgCiAgICAgICAgICAgIHZhciB0aWxlX2xheWVyX2E3ZjNkMWVkNjVkYjRhYmVhZWJkYmRiOTEzYmE1MjAzID0gTC50aWxlTGF5ZXIoCiAgICAgICAgICAgICAgICAnaHR0cHM6Ly97c30udGlsZS5vcGVuc3RyZWV0bWFwLm9yZy97en0ve3h9L3t5fS5wbmcnLAogICAgICAgICAgICAgICAgewogICAgICAgICAgICAgICAgICAgIG1heFpvb206IDE2LAogICAgICAgICAgICAgICAgICAgIG1pblpvb206IDEsCiAgICAgICAgICAgICAgICAgICAgY29udGludW91c1dvcmxkOiBmYWxzZSwKICAgICAgICAgICAgICAgICAgICBub1dyYXA6IGZhbHNlLAogICAgICAgICAgICAgICAgICAgIGF0dHJpYnV0aW9uOiAnRGF0YSBieSA8YSBocmVmPSJodHRwOi8vb3BlbnN0cmVldG1hcC5vcmciPk9wZW5TdHJlZXRNYXA8L2E+LCB1bmRlciA8YSBocmVmPSJodHRwOi8vd3d3Lm9wZW5zdHJlZXRtYXAub3JnL2NvcHlyaWdodCI+T0RiTDwvYT4uJywKICAgICAgICAgICAgICAgICAgICBkZXRlY3RSZXRpbmE6IGZhbHNlCiAgICAgICAgICAgICAgICAgICAgfQogICAgICAgICAgICAgICAgKS5hZGRUbyhtYXBfZWQyYTIxMGM4MDcxNDBkY2JhNTgxYTk2MWJjMDE3NjMpOwoKICAgICAgICAKICAgIAoKICAgICAgICAgICAgdmFyIG1hcmtlcl9iMTA4ZjAyN2Y5Mzg0OWZlOGJjNTkzZTI3N2I0ZWVjNCA9IEwubWFya2VyKAogICAgICAgICAgICAgICAgWzUyLjAyNDY5NywtMC43MTA3MTFdLAogICAgICAgICAgICAgICAgewogICAgICAgICAgICAgICAgICAgIGljb246IG5ldyBMLkljb24uRGVmYXVsdCgpCiAgICAgICAgICAgICAgICAgICAgfQogICAgICAgICAgICAgICAgKQogICAgICAgICAgICAgICAgLmFkZFRvKG1hcF9lZDJhMjEwYzgwNzE0MGRjYmE1ODFhOTYxYmMwMTc2Myk7CiAgICAgICAgICAgIAogICAgCgogICAgICAgICAgICB2YXIgbWFya2VyX2YxZjE2NjBjNjVhNDQ1NTU4NzZmZDcyYTc1OTg2MTUxID0gTC5tYXJrZXIoCiAgICAgICAgICAgICAgICBbNTIuMDI1NjM4LC0wLjcwMjMzNl0sCiAgICAgICAgICAgICAgICB7CiAgICAgICAgICAgICAgICAgICAgaWNvbjogbmV3IEwuSWNvbi5EZWZhdWx0KCkKICAgICAgICAgICAgICAgICAgICB9CiAgICAgICAgICAgICAgICApCiAgICAgICAgICAgICAgICAuYWRkVG8obWFwX2VkMmEyMTBjODA3MTQwZGNiYTU4MWE5NjFiYzAxNzYzKTsKICAgICAgICAgICAgCiAgICAKICAgICAgICAgICAgdmFyIHBvcHVwX2ViODY3NmU5NWU1NDRmZWNhOGRhMTE3NDViYjBlOTU3ID0gTC5wb3B1cCh7bWF4V2lkdGg6ICczMDAnfSk7CgogICAgICAgICAgICAKICAgICAgICAgICAgICAgIHZhciBodG1sX2U3OThiZDE5YTc1ZTRlNzQ4MmM4MzFlZjdlMWIxNDhjID0gJCgnPGRpdiBpZD0iaHRtbF9lNzk4YmQxOWE3NWU0ZTc0ODJjODMxZWY3ZTFiMTQ4YyIgc3R5bGU9IndpZHRoOiAxMDAuMCU7IGhlaWdodDogMTAwLjAlOyI+VGhlIEVhc3QgQ2FtcHVzIG9mIHRoZSBPcGVuIFVuaXZlcnNpdHk8L2Rpdj4nKVswXTsKICAgICAgICAgICAgICAgIHBvcHVwX2ViODY3NmU5NWU1NDRmZWNhOGRhMTE3NDViYjBlOTU3LnNldENvbnRlbnQoaHRtbF9lNzk4YmQxOWE3NWU0ZTc0ODJjODMxZWY3ZTFiMTQ4Yyk7CiAgICAgICAgICAgIAoKICAgICAgICAgICAgbWFya2VyX2YxZjE2NjBjNjVhNDQ1NTU4NzZmZDcyYTc1OTg2MTUxLmJpbmRQb3B1cChwb3B1cF9lYjg2NzZlOTVlNTQ0ZmVjYThkYTExNzQ1YmIwZTk1Nyk7CgogICAgICAgICAgICAKICAgICAgICAKICAgIAoKICAgICAgICAgICAgdmFyIGNpcmNsZV9tYXJrZXJfYmUyNmFjM2MyOGNkNDY1MWI3YzRiN2RjYTM1ZTFmOGQgPSBMLmNpcmNsZU1hcmtlcigKICAgICAgICAgICAgICAgIFs1Mi4wMjcyLC0wLjcxMDRdLAogICAgICAgICAgICAgICAgewogICAgICAgICAgICAgICAgICAgIGNvbG9yOiAnIzMxODZlYycsCiAgICAgICAgICAgICAgICAgICAgd2VpZ2h0OiAyLAogICAgICAgICAgICAgICAgICAgIGZpbGxDb2xvcjogJyMzMTg2ZWMnLAogICAgICAgICAgICAgICAgICAgIGZpbGxPcGFjaXR5OiAwLjYKICAgICAgICAgICAgICAgICAgICB9CiAgICAgICAgICAgICAgICApCiAgICAgICAgICAgICAgICAuc2V0UmFkaXVzKDQwKQogICAgICAgICAgICAgICAgLmFkZFRvKG1hcF9lZDJhMjEwYzgwNzE0MGRjYmE1ODFhOTYxYmMwMTc2Myk7CiAgICAgICAgICAgIAogICAgCiAgICAgICAgICAgIHZhciBwb3B1cF84ZDc0YjdjZmVkMTc0YmJhYWI3ZGFjZjMxZjkxOTA1MSA9IEwucG9wdXAoe21heFdpZHRoOiAnMzAwJ30pOwoKICAgICAgICAgICAgCiAgICAgICAgICAgICAgICB2YXIgaHRtbF9kY2RkNmU5YzM2YTM0NWQ0YjEzMDM3MzNlNjgxYWEwNiA9ICQoJzxkaXYgaWQ9Imh0bWxfZGNkZDZlOWMzNmEzNDVkNGIxMzAzNzMzZTY4MWFhMDYiIHN0eWxlPSJ3aWR0aDogMTAwLjAlOyBoZWlnaHQ6IDEwMC4wJTsiPlRoZSBDcmlja2V0IFBpdGNoIGF0IHRoZSBPcGVuIFVuaXZlcnNpdHk8L2Rpdj4nKVswXTsKICAgICAgICAgICAgICAgIHBvcHVwXzhkNzRiN2NmZWQxNzRiYmFhYjdkYWNmMzFmOTE5MDUxLnNldENvbnRlbnQoaHRtbF9kY2RkNmU5YzM2YTM0NWQ0YjEzMDM3MzNlNjgxYWEwNik7CiAgICAgICAgICAgIAoKICAgICAgICAgICAgY2lyY2xlX21hcmtlcl9iZTI2YWMzYzI4Y2Q0NjUxYjdjNGI3ZGNhMzVlMWY4ZC5iaW5kUG9wdXAocG9wdXBfOGQ3NGI3Y2ZlZDE3NGJiYWFiN2RhY2YzMWY5MTkwNTEpOwoKICAgICAgICAgICAgCiAgICAgICAgCiAgICAKICAgICAgICAgICAgdmFyIHJlZ3VsYXJfcG9seWdvbl9tYXJrZXJfOTRjNTE4MzhjYWY1NDM0NWI2YzIwMzFkNmI3ZTI1MTcgPSBuZXcgTC5SZWd1bGFyUG9seWdvbk1hcmtlcigKICAgICAgICAgICAgICAgIG5ldyBMLkxhdExuZyg1Mi4wMjUsLTAuNzA2KSwKICAgICAgICAgICAgICAgIHsKICAgICAgICAgICAgICAgICAgICBpY29uIDogbmV3IEwuSWNvbi5EZWZhdWx0KCksCiAgICAgICAgICAgICAgICAgICAgY29sb3I6ICcjMjU2M2UyJywKICAgICAgICAgICAgICAgICAgICBvcGFjaXR5OiAxLAogICAgICAgICAgICAgICAgICAgIHdlaWdodDogMiwKICAgICAgICAgICAgICAgICAgICBmaWxsQ29sb3I6ICcjMTMyYjVlJywKICAgICAgICAgICAgICAgICAgICBmaWxsT3BhY2l0eTogMC41LAogICAgICAgICAgICAgICAgICAgIG51bWJlck9mU2lkZXM6IDMsCiAgICAgICAgICAgICAgICAgICAgcm90YXRpb246IDIwLAogICAgICAgICAgICAgICAgICAgIHJhZGl1czogMjAKICAgICAgICAgICAgICAgICAgICB9CiAgICAgICAgICAgICAgICApCiAgICAgICAgICAgICAgICAuYWRkVG8obWFwX2VkMmEyMTBjODA3MTQwZGNiYTU4MWE5NjFiYzAxNzYzKTsKICAgICAgICAgICAgCiAgICAKICAgICAgICAgICAgdmFyIHBvcHVwX2VmYmM3MGIyZDMyZjRiZDhiOWVjOWYwZmRhNGZmOGIwID0gTC5wb3B1cCh7bWF4V2lkdGg6ICczMDAnfSk7CgogICAgICAgICAgICAKICAgICAgICAgICAgICAgIHZhciBodG1sXzNkOWFmYTA2YmYzNzRjMDI5NTUyZWNiZTI3MmJkZDY0ID0gJCgnPGRpdiBpZD0iaHRtbF8zZDlhZmEwNmJmMzc0YzAyOTU1MmVjYmUyNzJiZGQ2NCIgc3R5bGU9IndpZHRoOiAxMDAuMCU7IGhlaWdodDogMTAwLjAlOyI+VmlzaXRvciBjYXIgcGFyazwvZGl2PicpWzBdOwogICAgICAgICAgICAgICAgcG9wdXBfZWZiYzcwYjJkMzJmNGJkOGI5ZWM5ZjBmZGE0ZmY4YjAuc2V0Q29udGVudChodG1sXzNkOWFmYTA2YmYzNzRjMDI5NTUyZWNiZTI3MmJkZDY0KTsKICAgICAgICAgICAgCgogICAgICAgICAgICByZWd1bGFyX3BvbHlnb25fbWFya2VyXzk0YzUxODM4Y2FmNTQzNDViNmMyMDMxZDZiN2UyNTE3LmJpbmRQb3B1cChwb3B1cF9lZmJjNzBiMmQzMmY0YmQ4YjllYzlmMGZkYTRmZjhiMCk7CgogICAgICAgICAgICAKICAgICAgICAKICAgIAogICAgICAgICAgICB2YXIgcmVndWxhcl9wb2x5Z29uX21hcmtlcl9iODA1MTI2NzgzYWY0N2EwODI1ZTAyMjk5N2M3MmEyNiA9IG5ldyBMLlJlZ3VsYXJQb2x5Z29uTWFya2VyKAogICAgICAgICAgICAgICAgbmV3IEwuTGF0TG5nKDUyLjAyNDQsLTAuNzEwNyksCiAgICAgICAgICAgICAgICB7CiAgICAgICAgICAgICAgICAgICAgaWNvbiA6IG5ldyBMLkljb24uRGVmYXVsdCgpLAogICAgICAgICAgICAgICAgICAgIGNvbG9yOiAnYmxhY2snLAogICAgICAgICAgICAgICAgICAgIG9wYWNpdHk6IDEsCiAgICAgICAgICAgICAgICAgICAgd2VpZ2h0OiAyLAogICAgICAgICAgICAgICAgICAgIGZpbGxDb2xvcjogJ3llbGxvdycsCiAgICAgICAgICAgICAgICAgICAgZmlsbE9wYWNpdHk6IDEsCiAgICAgICAgICAgICAgICAgICAgbnVtYmVyT2ZTaWRlczogNiwKICAgICAgICAgICAgICAgICAgICByb3RhdGlvbjogMTAsCiAgICAgICAgICAgICAgICAgICAgcmFkaXVzOiAyMAogICAgICAgICAgICAgICAgICAgIH0KICAgICAgICAgICAgICAgICkKICAgICAgICAgICAgICAgIC5hZGRUbyhtYXBfZWQyYTIxMGM4MDcxNDBkY2JhNTgxYTk2MWJjMDE3NjMpOwogICAgICAgICAgICAKICAgIAogICAgICAgICAgICB2YXIgcG9wdXBfMTdmNDA1ZWM3N2Y4NDJjMjkwNTc2MGE4ZmU3NGE2NTkgPSBMLnBvcHVwKHttYXhXaWR0aDogJzMwMCd9KTsKCiAgICAgICAgICAgIAogICAgICAgICAgICAgICAgdmFyIGh0bWxfZThmZTA1OWRlMDVmNDE5ZTk4OTAxZmM0Njc1OTllY2UgPSAkKCc8ZGl2IGlkPSJodG1sX2U4ZmUwNTlkZTA1ZjQxOWU5ODkwMWZjNDY3NTk5ZWNlIiBzdHlsZT0id2lkdGg6IDEwMC4wJTsgaGVpZ2h0OiAxMDAuMCU7Ij4zIERpc2FibGVkIHBhcmtpbmcgc3BhY2VzPC9kaXY+JylbMF07CiAgICAgICAgICAgICAgICBwb3B1cF8xN2Y0MDVlYzc3Zjg0MmMyOTA1NzYwYThmZTc0YTY1OS5zZXRDb250ZW50KGh0bWxfZThmZTA1OWRlMDVmNDE5ZTk4OTAxZmM0Njc1OTllY2UpOwogICAgICAgICAgICAKCiAgICAgICAgICAgIHJlZ3VsYXJfcG9seWdvbl9tYXJrZXJfYjgwNTEyNjc4M2FmNDdhMDgyNWUwMjI5OTdjNzJhMjYuYmluZFBvcHVwKHBvcHVwXzE3ZjQwNWVjNzdmODQyYzI5MDU3NjBhOGZlNzRhNjU5KTsKCiAgICAgICAgICAgIAogICAgICAgIAo8L3NjcmlwdD4=\" style=\"position:absolute;width:100%;height:100%;left:0;top:0;border:none !important;\" allowfullscreen webkitallowfullscreen mozallowfullscreen></iframe></div></div>"
      ],
      "text/plain": [
       "<folium.folium.Map at 0x7f1366ef2080>"
      ]
     },
     "execution_count": 5,
     "metadata": {},
     "output_type": "execute_result"
    }
   ],
   "source": [
    "map_OU3 = folium.Map(location=[52.024696,-0.710710],\n",
    "                    zoom_start=14, max_zoom=16)\n",
    "\n",
    "\n",
    "# Simple markers\n",
    "folium.Marker([52.024697,-0.710711]).add_to(map_OU3)\n",
    "folium.Marker([52.025638,-0.702336], \n",
    "              popup='The East Campus of the Open University').add_to(map_OU3)\n",
    "\n",
    "\n",
    "# Circle markers \n",
    "folium.CircleMarker(location=[52.0272,-0.7104], radius=40,\n",
    "                    popup='The Cricket Pitch at the Open University', \n",
    "                    color='#3186ec', fill_color='#3186ec',\n",
    "                    fill_opacity=0.6).add_to(map_OU3)\n",
    "\n",
    "# Polygon markers\n",
    "folium.RegularPolygonMarker(location=[52.0250,-0.7060], \n",
    "                            popup='Visitor car park',\n",
    "                            color='#2563e2', fill_color='#132b5e', \n",
    "                            fill_opacity=0.5,\n",
    "                            number_of_sides=3, radius=20, rotation=20).add_to(map_OU3)\n",
    "folium.RegularPolygonMarker(location=[52.0244,-0.7107], \n",
    "                            popup='3 Disabled parking spaces',\n",
    "                            fill_color='yellow', \n",
    "                            number_of_sides=6, radius=20, rotation=10).add_to(map_OU3)\n",
    "\n",
    "# Note the 'color' values are either hexadecimal colour values, \n",
    "# or a standard set of colour names which include: red, blue, \n",
    "# green, yellow, orange, grey, black and white.\n",
    "\n",
    "map_OU3"
   ]
  },
  {
   "cell_type": "markdown",
   "metadata": {},
   "source": [
    "# Using proportional sized markers\n",
    "Simple markers are fixed in size, but the other markers allow some variation in size. \n",
    "\n",
    "The _circle_ and _polygon_ markers have a `radius` parameter. This allows the size of the marker symbol to be set proportional to some quantity - the maps are then known as proportional symbol maps. A simple use for this might be to show the relative size of the car parks on the OU campus.\n",
    "\n",
    "Here's how to do this using a DataFrame holding the latitude and longitude values, and the number of parking spaces.\n",
    "\n",
    "Note that what's missing in the folium mapping is the ability to show a legend indicating how the marker relates to location. We'd really like to add some text saying 'The largest car park has 100 spaces, the smallest 5.' or some other description. (If you have a recipe to do this, please share it on the module forum or in OpenStudio)."
   ]
  },
  {
   "cell_type": "code",
   "execution_count": 6,
   "metadata": {
    "code_folding": []
   },
   "outputs": [
    {
     "name": "stdout",
     "output_type": "stream",
     "text": [
      "52.026 -0.7065 Car park with: 100 spaces.\n",
      "52.0253 -0.7052 Car park with: 90 spaces.\n",
      "52.0266 -0.7112 Car park with: 10 spaces.\n",
      "52.0242 -0.7132 Car park with: 50 spaces.\n",
      "52.0233 -0.7107 Car park with: 40 spaces.\n"
     ]
    }
   ],
   "source": [
    "Carparking_df = pd.DataFrame({'latitude': [52.026, 52.0253, 52.0266, 52.0242, 52.0233],\n",
    "                              'longitude': [-0.7065,-0.7052, -0.7112, -0.7132, -0.7107],\n",
    "                              'absolutesize': [100, 90, 10, 50, 40]})\n",
    "\n",
    "# A quick check to see that we've got the Carparking DataFrame correct:\n",
    "for i in range(Carparking_df.shape[0]):\n",
    "    (lat, long, numspaces) = Carparking_df.loc[i,['latitude','longitude','absolutesize']]\n",
    "    print(lat, long, 'Car park with: '+ str(int(numspaces)) + ' spaces.')\n",
    "    "
   ]
  },
  {
   "cell_type": "code",
   "execution_count": 7,
   "metadata": {
    "code_folding": []
   },
   "outputs": [
    {
     "data": {
      "text/html": [
       "<div style=\"width:100%;\"><div style=\"position:relative;width:100%;height:0;padding-bottom:60%;\"><iframe src=\"data:text/html;charset=utf-8;base64,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\" style=\"position:absolute;width:100%;height:100%;left:0;top:0;border:none !important;\" allowfullscreen webkitallowfullscreen mozallowfullscreen></iframe></div></div>"
      ],
      "text/plain": [
       "<folium.folium.Map at 0x7f1366ee45c0>"
      ]
     },
     "execution_count": 7,
     "metadata": {},
     "output_type": "execute_result"
    }
   ],
   "source": [
    "# Create our base map, centred on Walton Hall,\n",
    "OU_carparks = folium.Map(location=[52.024696,-0.710710],\n",
    "                         zoom_start=16, max_zoom=18)\n",
    "# with a simple marker to say where it is.\n",
    "folium.Marker([52.024696,-0.710710], \n",
    "              popup='The Open University, Walton Hall').add_to(OU_carparks)\n",
    "\n",
    "# Now add proportional circle markers, one for each car park.\n",
    "# The radius is in pixels, using the absolute size value directly.\n",
    "# This code iterates through the index for Carparking_df, \n",
    "# creating a marker for each row.\n",
    "for i in range(Carparking_df.shape[0]):\n",
    "    (lat, long, numspaces) = Carparking_df.loc[i,['latitude','longitude','absolutesize']]\n",
    "    folium.CircleMarker(location=[lat, long], radius=numspaces,\n",
    "                        popup='Car park with: '+ str(int(numspaces)) + ' spaces.', \n",
    "                        color='orange', fill_color='yellow',\n",
    "                        fill_opacity=0.8).add_to(OU_carparks)\n",
    "\n",
    "OU_carparks"
   ]
  },
  {
   "cell_type": "markdown",
   "metadata": {},
   "source": [
    "### Note\n",
    "In this example the absolute size of the car parks fit our chosen map size.  However, imagine the OU also has a mega car park with 1000 spaces; using the absolute size for the marker radius would result in a circle marker the size of the map!\n",
    "\n",
    "In this situation you would need to scale the circle sizes to something more manageable, or use a binning approach to choose circle radius (say four bins with the threshold values [50,200,500]).\n",
    "\n",
    "If you're interested in how to do these (in a handy, reusable, data preparation way) I've included short examples of scaling and binning after the _Whats next?_ section below. (It's always good to collect data recipes for later use.)"
   ]
  },
  {
   "cell_type": "markdown",
   "metadata": {},
   "source": [
    "## Putting lines on maps"
   ]
  },
  {
   "cell_type": "markdown",
   "metadata": {},
   "source": [
    "Lines, or more usually sequences of connected lines, are sometimes useful on a map.  For example, tracing a route from location to location or connecting related points can be shown with lines. folium simply takes a list of coordinates and plots a straight line between them. Pop-up text is also permitted on folium lines.\n",
    "\n",
    "However, there are limitations to using straight lines on maps - they can be misleading.\n",
    "\n",
    "As a 2-dimensional (flat) map represents a projection from the 3-dimensional surface of the Earth, there will be some distortion depending on which projection is chosen.  The result will be that, for example, two lines of the same visible length may represent different distances depending on their being near the poles or the equator, or when used parallel to latitude or longitude great circles.  Also, as the scale increases the distortion due to the curve of the Earth may becomes more noticable, resulting in lines that clearly don't follow the great circles (airline routes shouldn't look as if they take the straightest/shortest/most direct route when shown on most 2D projections, as on the surface of the Earth the shortest distance is a 3D curve, for example).  We won't be looking at how to adapt our maps for these distortions - but don't forget these limitations if you explore GIS systems further."
   ]
  },
  {
   "cell_type": "code",
   "execution_count": 8,
   "metadata": {
    "scrolled": false
   },
   "outputs": [
    {
     "data": {
      "text/html": [
       "<div style=\"width:100%;\"><div style=\"position:relative;width:100%;height:0;padding-bottom:60%;\"><iframe src=\"data:text/html;charset=utf-8;base64,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\" style=\"position:absolute;width:100%;height:100%;left:0;top:0;border:none !important;\" allowfullscreen webkitallowfullscreen mozallowfullscreen></iframe></div></div>"
      ],
      "text/plain": [
       "<folium.folium.Map at 0x7f1366e48b70>"
      ]
     },
     "execution_count": 8,
     "metadata": {},
     "output_type": "execute_result"
    }
   ],
   "source": [
    "# Our base map.\n",
    "map_OU4 = folium.Map(location=[52.024696,-0.710710],\n",
    "                    zoom_start=14, max_zoom=16)\n",
    "# Some simple markers.\n",
    "folium.Marker([52.024696,-0.710710],\n",
    "              popup='Walton Hall, The Open University').add_to(map_OU4)\n",
    "folium.Marker([52.025638,-0.702336],\n",
    "              popup='The East Campus of the Open University').add_to(map_OU4)\n",
    "\n",
    "# Now plot a connected series of lines, showing the walking route between the above locations\n",
    "# that follows footpaths and underpasses.\n",
    "\n",
    "# The locations parameter for line() is a list of location points.\n",
    "\n",
    "folium.PolyLine(locations = [[52.025638,-0.702336], [52.0249,-0.7020], [52.0246,-0.7035],\n",
    "                          [52.0270,-0.7056], [52.0265,-0.7072], [52.0243,-0.7062],\n",
    "                          [52.0237,-0.7101 ], [52.0245,-0.7107], [52.024696,-0.710710]], \n",
    "                        color='red', weight=10, opacity=0.5,\n",
    "                        popup='safe route').add_to(map_OU4)\n",
    "\n",
    "map_OU4"
   ]
  },
  {
   "cell_type": "markdown",
   "metadata": {},
   "source": [
    "### If we can draw lines, we can draw boundries ...\n",
    "#### ... and if we have boundaries we can show areas"
   ]
  },
  {
   "cell_type": "markdown",
   "metadata": {},
   "source": [
    "A boundary around an area is simply a sequence of lines (or curves) that form a closed polygon (multi-sided space).  In our line example above, adding the first point to the end of the list of locations will 'close' the shape.  \n",
    "\n",
    "Boundaries are useful as they can show the extent of an area, such as a postcode region, or an electoral or census boundary, or school catchment area, for example - some area of interest.  We'll see, in the next example, how to use GeoJSON files (specialist JSON formats) of boundaries to display them on a folium map.\n",
    "\n",
    "Once we have an area we can relate statistical and other data to that area. Then we can label or shade the areas to summarise data across the map. A range of UK statistical, political and other boundaries are available in geoJSON,  shapefile (`.shp`) and KML formats from sources such as [data.gov.uk](https://data.gov.uk/data/search?theme-primary=Mapping&res_format=GeoJSON), [Edina](http://census.edina.ac.uk/bds.html) and the [ONS](http://geoportal.statistics.gov.uk/).\n",
    "\n",
    "Maps that use bounded areas on which are shown statistical and other data (either with areas and markers, or shading of areas) are known as *choropleth maps*."
   ]
  },
  {
   "cell_type": "code",
   "execution_count": 3,
   "metadata": {
    "scrolled": false
   },
   "outputs": [
    {
     "data": {
      "text/html": [
       "<div style=\"width:100%;\"><div style=\"position:relative;width:100%;height:0;padding-bottom:60%;\"><iframe src=\"data:text/html;charset=utf-8;base64,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\" style=\"position:absolute;width:100%;height:100%;left:0;top:0;border:none !important;\" allowfullscreen webkitallowfullscreen mozallowfullscreen></iframe></div></div>"
      ],
      "text/plain": [
       "<folium.folium.Map at 0x7f812dfa4710>"
      ]
     },
     "execution_count": 3,
     "metadata": {},
     "output_type": "execute_result"
    }
   ],
   "source": [
    "# We start with our standard map.\n",
    "map_MKPostcode = folium.Map(location=[52.024696,-0.710710], zoom_start=10, max_zoom=16)\n",
    "\n",
    "# Then overlay a GeoJSON formatted file using the geo_json() call.\n",
    "# In this case we've used the geo_path parameter to say where to find the GeoJSON file\n",
    "# and used the default settings for the other parameters (we'll explore these in a later example.)\n",
    "\n",
    "# This boundary map shows the postcode district boundaries for Milton Keynes\n",
    "# (the MKxx bit of the Milton Keynes postcodes).\n",
    "\n",
    "map_MKPostcode.choropleth(geo_path='data/mk.geoJSON.txt')\n",
    "\n",
    "map_MKPostcode"
   ]
  },
  {
   "cell_type": "markdown",
   "metadata": {},
   "source": [
    "#  A short worked example\n",
    "\n",
    "The remainder of this Notebook works through a short example using postcode mapping information, using both marker-based information and then reworking this as a choropleth map.  It starts with data acquisition and preparation and finishes with appropriate mapped output. \n",
    "\n",
    "We can think of it as working through an exploration of the following scenario (although we don't offer any 'findings' based on the maps produced).\n",
    "\n",
    "### The scenario and data capture \n",
    "The government compiles data on driving licences which is published under the OGL (Open Government Licence) at https://data.gov.uk/dataset/driving-licence-data.  These are snapshot data files, created at specific points in time, rather than representing real-time data.   The March 2015 spreadsheet bundle includes the DRL0102 dataset containing the number of Provisional and Full driving licences by postcode district.\t\t\n",
    "\n",
    "I wondered if there was a significant difference in the balance of Full and Provisional licences in the areas in and around Milton Keynes (specifically the MKxx postcode districts).  And, since I'm looking at folium capabilities, I thought I'd see if I could map these.     _The DRL0132 spreadsheet contains the number 'Penalty Points' by postcode district, which might make an interesting second study._\n",
    "\n",
    "There is a copy of the March 2015 driving licence data in the `data` folder for this Notebook, `Driving-licence-data-Mar15.xls`.  To avoid working with the full spreadsheet, and all six data sheets it contains, I've copied the _MKxx_ postcode district data to a new spreadsheet file `MKxx DRL0102 Driving-licence-data-Mar15.xls`; I've left the header information in the new file.\n",
    "\n",
    "You can examine both these files in a spreadsheet tool, or via OpenRefine."
   ]
  },
  {
   "cell_type": "code",
   "execution_count": 4,
   "metadata": {},
   "outputs": [
    {
     "name": "stdout",
     "output_type": "stream",
     "text": [
      "AnscombesDataSets\r\n",
      "Driving-licence-data-Mar15.xls\r\n",
      "mk.geoJSON.txt\r\n",
      "MKxx DRL0102 Driving-licence-data-Mar15.xls\r\n",
      "postcode-outcodes MKxx src freemaptools 18-10-15.csv\r\n",
      "postcode-outcodes src freemaptools 18-10-15.csv\r\n",
      "traffic_statistics-monthly-heathrow-200501_to_201509.xlsx\r\n",
      "World GDP Life expectancy Data\r\n"
     ]
    }
   ],
   "source": [
    "!ls data/"
   ]
  },
  {
   "cell_type": "markdown",
   "metadata": {},
   "source": [
    "### The data preparation\n",
    "A quick look at the _MKxx_ data will tell you that the spreadsheet data has 27 metadata header lines before we reach the column headers for the data we are interested in. Row 28 has the data header line, and rows 29-54 have the data rows.  This should give us sufficient information to import the spreadsheet data into a DataFrame, and then we can take a quick look at it."
   ]
  },
  {
   "cell_type": "code",
   "execution_count": 5,
   "metadata": {},
   "outputs": [
    {
     "data": {
      "text/html": [
       "<div>\n",
       "<style>\n",
       "    .dataframe thead tr:only-child th {\n",
       "        text-align: right;\n",
       "    }\n",
       "\n",
       "    .dataframe thead th {\n",
       "        text-align: left;\n",
       "    }\n",
       "\n",
       "    .dataframe tbody tr th {\n",
       "        vertical-align: top;\n",
       "    }\n",
       "</style>\n",
       "<table border=\"1\" class=\"dataframe\">\n",
       "  <thead>\n",
       "    <tr style=\"text-align: right;\">\n",
       "      <th></th>\n",
       "      <th>District</th>\n",
       "      <th>Provisional Licences - Male</th>\n",
       "      <th>Provisional Licences - Female</th>\n",
       "      <th>Provisional - Total</th>\n",
       "      <th>Full Licences - Male</th>\n",
       "      <th>Full Licences - Female</th>\n",
       "      <th>Full - Total</th>\n",
       "    </tr>\n",
       "  </thead>\n",
       "  <tbody>\n",
       "    <tr>\n",
       "      <th>0</th>\n",
       "      <td>MK01</td>\n",
       "      <td>70</td>\n",
       "      <td>56</td>\n",
       "      <td>126</td>\n",
       "      <td>291</td>\n",
       "      <td>167</td>\n",
       "      <td>458</td>\n",
       "    </tr>\n",
       "    <tr>\n",
       "      <th>1</th>\n",
       "      <td>MK02</td>\n",
       "      <td>1170</td>\n",
       "      <td>1546</td>\n",
       "      <td>2716</td>\n",
       "      <td>4636</td>\n",
       "      <td>3379</td>\n",
       "      <td>8015</td>\n",
       "    </tr>\n",
       "    <tr>\n",
       "      <th>2</th>\n",
       "      <td>MK03</td>\n",
       "      <td>1225</td>\n",
       "      <td>1597</td>\n",
       "      <td>2822</td>\n",
       "      <td>8085</td>\n",
       "      <td>6942</td>\n",
       "      <td>15027</td>\n",
       "    </tr>\n",
       "    <tr>\n",
       "      <th>3</th>\n",
       "      <td>MK04</td>\n",
       "      <td>848</td>\n",
       "      <td>1258</td>\n",
       "      <td>2106</td>\n",
       "      <td>7456</td>\n",
       "      <td>6970</td>\n",
       "      <td>14426</td>\n",
       "    </tr>\n",
       "    <tr>\n",
       "      <th>4</th>\n",
       "      <td>MK05</td>\n",
       "      <td>755</td>\n",
       "      <td>906</td>\n",
       "      <td>1661</td>\n",
       "      <td>5434</td>\n",
       "      <td>5054</td>\n",
       "      <td>10488</td>\n",
       "    </tr>\n",
       "  </tbody>\n",
       "</table>\n",
       "</div>"
      ],
      "text/plain": [
       "  District  Provisional Licences - Male  Provisional Licences - Female  \\\n",
       "0     MK01                           70                             56   \n",
       "1     MK02                         1170                           1546   \n",
       "2     MK03                         1225                           1597   \n",
       "3     MK04                          848                           1258   \n",
       "4     MK05                          755                            906   \n",
       "\n",
       "   Provisional - Total  Full Licences - Male  Full Licences - Female  \\\n",
       "0                  126                   291                     167   \n",
       "1                 2716                  4636                    3379   \n",
       "2                 2822                  8085                    6942   \n",
       "3                 2106                  7456                    6970   \n",
       "4                 1661                  5434                    5054   \n",
       "\n",
       "   Full - Total  \n",
       "0           458  \n",
       "1          8015  \n",
       "2         15027  \n",
       "3         14426  \n",
       "4         10488  "
      ]
     },
     "execution_count": 5,
     "metadata": {},
     "output_type": "execute_result"
    }
   ],
   "source": [
    "licences_df = pd.read_excel('data/MKxx DRL0102 Driving-licence-data-Mar15.xls',\n",
    "                            skiprows=27)[:(54-28)]\n",
    "\n",
    "licences_df.head(5)"
   ]
  },
  {
   "cell_type": "markdown",
   "metadata": {},
   "source": [
    "A quick check with the original file shows we've got all the rows and columns.\n",
    "By inspection, the data looks sensible: no odd values or strings in the location cells, sensible column names and the districts are as we expected."
   ]
  },
  {
   "cell_type": "markdown",
   "metadata": {},
   "source": [
    "Since I'm interested in the relative number of full to provisional licences I'll add the percentage of full licences for each district."
   ]
  },
  {
   "cell_type": "code",
   "execution_count": 6,
   "metadata": {},
   "outputs": [
    {
     "data": {
      "text/html": [
       "<div>\n",
       "<style>\n",
       "    .dataframe thead tr:only-child th {\n",
       "        text-align: right;\n",
       "    }\n",
       "\n",
       "    .dataframe thead th {\n",
       "        text-align: left;\n",
       "    }\n",
       "\n",
       "    .dataframe tbody tr th {\n",
       "        vertical-align: top;\n",
       "    }\n",
       "</style>\n",
       "<table border=\"1\" class=\"dataframe\">\n",
       "  <thead>\n",
       "    <tr style=\"text-align: right;\">\n",
       "      <th></th>\n",
       "      <th>District</th>\n",
       "      <th>Provisional Licences - Male</th>\n",
       "      <th>Provisional Licences - Female</th>\n",
       "      <th>Provisional - Total</th>\n",
       "      <th>Full Licences - Male</th>\n",
       "      <th>Full Licences - Female</th>\n",
       "      <th>Full - Total</th>\n",
       "      <th>fullpercentage</th>\n",
       "    </tr>\n",
       "  </thead>\n",
       "  <tbody>\n",
       "    <tr>\n",
       "      <th>0</th>\n",
       "      <td>MK01</td>\n",
       "      <td>70</td>\n",
       "      <td>56</td>\n",
       "      <td>126</td>\n",
       "      <td>291</td>\n",
       "      <td>167</td>\n",
       "      <td>458</td>\n",
       "      <td>78.424658</td>\n",
       "    </tr>\n",
       "    <tr>\n",
       "      <th>1</th>\n",
       "      <td>MK02</td>\n",
       "      <td>1170</td>\n",
       "      <td>1546</td>\n",
       "      <td>2716</td>\n",
       "      <td>4636</td>\n",
       "      <td>3379</td>\n",
       "      <td>8015</td>\n",
       "      <td>74.690150</td>\n",
       "    </tr>\n",
       "    <tr>\n",
       "      <th>2</th>\n",
       "      <td>MK03</td>\n",
       "      <td>1225</td>\n",
       "      <td>1597</td>\n",
       "      <td>2822</td>\n",
       "      <td>8085</td>\n",
       "      <td>6942</td>\n",
       "      <td>15027</td>\n",
       "      <td>84.189590</td>\n",
       "    </tr>\n",
       "    <tr>\n",
       "      <th>3</th>\n",
       "      <td>MK04</td>\n",
       "      <td>848</td>\n",
       "      <td>1258</td>\n",
       "      <td>2106</td>\n",
       "      <td>7456</td>\n",
       "      <td>6970</td>\n",
       "      <td>14426</td>\n",
       "      <td>87.261069</td>\n",
       "    </tr>\n",
       "    <tr>\n",
       "      <th>4</th>\n",
       "      <td>MK05</td>\n",
       "      <td>755</td>\n",
       "      <td>906</td>\n",
       "      <td>1661</td>\n",
       "      <td>5434</td>\n",
       "      <td>5054</td>\n",
       "      <td>10488</td>\n",
       "      <td>86.328093</td>\n",
       "    </tr>\n",
       "  </tbody>\n",
       "</table>\n",
       "</div>"
      ],
      "text/plain": [
       "  District  Provisional Licences - Male  Provisional Licences - Female  \\\n",
       "0     MK01                           70                             56   \n",
       "1     MK02                         1170                           1546   \n",
       "2     MK03                         1225                           1597   \n",
       "3     MK04                          848                           1258   \n",
       "4     MK05                          755                            906   \n",
       "\n",
       "   Provisional - Total  Full Licences - Male  Full Licences - Female  \\\n",
       "0                  126                   291                     167   \n",
       "1                 2716                  4636                    3379   \n",
       "2                 2822                  8085                    6942   \n",
       "3                 2106                  7456                    6970   \n",
       "4                 1661                  5434                    5054   \n",
       "\n",
       "   Full - Total  fullpercentage  \n",
       "0           458       78.424658  \n",
       "1          8015       74.690150  \n",
       "2         15027       84.189590  \n",
       "3         14426       87.261069  \n",
       "4         10488       86.328093  "
      ]
     },
     "execution_count": 6,
     "metadata": {},
     "output_type": "execute_result"
    }
   ],
   "source": [
    "# For each row calculate the full total as a percentage \n",
    "# of the overall total and add this as a new column:\n",
    "licences_df['fullpercentage'] = (licences_df['Full - Total']/ \n",
    "                                (licences_df['Provisional - Total']+\n",
    "                                         licences_df['Full - Total'])) * 100\n",
    "licences_df.head(5)"
   ]
  },
  {
   "cell_type": "markdown",
   "metadata": {},
   "source": [
    "This dataset uses postcode district for location information, but folium uses latitude and longitude. That means we need to find a useable conversion from postcode district to latitude and longitude.  This is always going to be an approximate conversion as a postode district is an 'area' of irregular shape and size, and latitude and longitude is 'point' data.\n",
    "\n",
    "A quick hunt via a search engine identified the _freemaptools.com_ site which has a CSV file containing postcode districts (aka 'outcodes') and latitude and longitude values. I've copied this file, `postcode-outcodes src freemaptools 18-10-15.csv`, to the `data/` folder. \n",
    "\n",
    "A quick look with OpenRefine shows the first line in the file is the header line.  So, let's ingest the file and take a look."
   ]
  },
  {
   "cell_type": "code",
   "execution_count": 8,
   "metadata": {},
   "outputs": [
    {
     "data": {
      "text/html": [
       "<div>\n",
       "<style>\n",
       "    .dataframe thead tr:only-child th {\n",
       "        text-align: right;\n",
       "    }\n",
       "\n",
       "    .dataframe thead th {\n",
       "        text-align: left;\n",
       "    }\n",
       "\n",
       "    .dataframe tbody tr th {\n",
       "        vertical-align: top;\n",
       "    }\n",
       "</style>\n",
       "<table border=\"1\" class=\"dataframe\">\n",
       "  <thead>\n",
       "    <tr style=\"text-align: right;\">\n",
       "      <th></th>\n",
       "      <th>id</th>\n",
       "      <th>outcode</th>\n",
       "      <th>latitude</th>\n",
       "      <th>longitude</th>\n",
       "    </tr>\n",
       "  </thead>\n",
       "  <tbody>\n",
       "    <tr>\n",
       "      <th>0</th>\n",
       "      <td>1</td>\n",
       "      <td>AB10</td>\n",
       "      <td>57.131086</td>\n",
       "      <td>-2.122482</td>\n",
       "    </tr>\n",
       "    <tr>\n",
       "      <th>1</th>\n",
       "      <td>2</td>\n",
       "      <td>AB11</td>\n",
       "      <td>57.131210</td>\n",
       "      <td>-2.082261</td>\n",
       "    </tr>\n",
       "    <tr>\n",
       "      <th>2</th>\n",
       "      <td>3</td>\n",
       "      <td>AB12</td>\n",
       "      <td>57.098381</td>\n",
       "      <td>-2.172400</td>\n",
       "    </tr>\n",
       "    <tr>\n",
       "      <th>3</th>\n",
       "      <td>4</td>\n",
       "      <td>AB13</td>\n",
       "      <td>57.108000</td>\n",
       "      <td>-2.237000</td>\n",
       "    </tr>\n",
       "    <tr>\n",
       "      <th>4</th>\n",
       "      <td>5</td>\n",
       "      <td>AB14</td>\n",
       "      <td>57.101000</td>\n",
       "      <td>-2.270000</td>\n",
       "    </tr>\n",
       "    <tr>\n",
       "      <th>5</th>\n",
       "      <td>6</td>\n",
       "      <td>AB15</td>\n",
       "      <td>57.143396</td>\n",
       "      <td>-2.199525</td>\n",
       "    </tr>\n",
       "    <tr>\n",
       "      <th>6</th>\n",
       "      <td>7</td>\n",
       "      <td>AB16</td>\n",
       "      <td>57.161000</td>\n",
       "      <td>-2.156000</td>\n",
       "    </tr>\n",
       "    <tr>\n",
       "      <th>7</th>\n",
       "      <td>8</td>\n",
       "      <td>AB21</td>\n",
       "      <td>57.245343</td>\n",
       "      <td>-2.225550</td>\n",
       "    </tr>\n",
       "    <tr>\n",
       "      <th>8</th>\n",
       "      <td>9</td>\n",
       "      <td>AB22</td>\n",
       "      <td>57.187186</td>\n",
       "      <td>-2.131376</td>\n",
       "    </tr>\n",
       "    <tr>\n",
       "      <th>9</th>\n",
       "      <td>10</td>\n",
       "      <td>AB23</td>\n",
       "      <td>57.230843</td>\n",
       "      <td>-2.092813</td>\n",
       "    </tr>\n",
       "  </tbody>\n",
       "</table>\n",
       "</div>"
      ],
      "text/plain": [
       "   id outcode   latitude  longitude\n",
       "0   1    AB10  57.131086  -2.122482\n",
       "1   2    AB11  57.131210  -2.082261\n",
       "2   3    AB12  57.098381  -2.172400\n",
       "3   4    AB13  57.108000  -2.237000\n",
       "4   5    AB14  57.101000  -2.270000\n",
       "5   6    AB15  57.143396  -2.199525\n",
       "6   7    AB16  57.161000  -2.156000\n",
       "7   8    AB21  57.245343  -2.225550\n",
       "8   9    AB22  57.187186  -2.131376\n",
       "9  10    AB23  57.230843  -2.092813"
      ]
     },
     "execution_count": 8,
     "metadata": {},
     "output_type": "execute_result"
    }
   ],
   "source": [
    "outcodes_df = pd.read_csv('data/postcode-outcodes src freemaptools 18-10-15.csv')\n",
    "outcodes_df.head(10)"
   ]
  },
  {
   "cell_type": "markdown",
   "metadata": {},
   "source": [
    "Since I'm only interested in the MK districts, I went back to the spreadsheet at this point and simply removed all the non _MKxx_ district rows, and saved the result in a separate file (`data/postcode-outcodes MKxx src freemaptools 18-10-15.csv`). I could have done this programmatically - and would have done if this was going to be a regular task - but for a one-off exercise the fastest tool was the interactive spreadsheet.  So pragmatism won out!"
   ]
  },
  {
   "cell_type": "code",
   "execution_count": null,
   "metadata": {
    "collapsed": true
   },
   "outputs": [],
   "source": [
    "mk_outcodes_df = pd.read_csv('data/postcode-outcodes MKxx src freemaptools 18-10-15.csv')\n",
    "mk_outcodes_df.head(5)"
   ]
  },
  {
   "cell_type": "markdown",
   "metadata": {},
   "source": [
    "The values in the latitude and longitude cells look sensible, but the outcodes are in a different format (or at least some of them are): MK1 should be MK01 to match the driving licence data.\n",
    "For such a small batch of data, and the one-off nature of the exercise, I could do this by hand.\n",
    "But instead let's use regular expression pattern matching to correct this."
   ]
  },
  {
   "cell_type": "code",
   "execution_count": 9,
   "metadata": {},
   "outputs": [
    {
     "ename": "NameError",
     "evalue": "name 'mk_outcodes_df' is not defined",
     "output_type": "error",
     "traceback": [
      "\u001b[0;31m---------------------------------------------------------------------------\u001b[0m",
      "\u001b[0;31mNameError\u001b[0m                                 Traceback (most recent call last)",
      "\u001b[0;32m<ipython-input-9-5a2e0aa5f609>\u001b[0m in \u001b[0;36m<module>\u001b[0;34m()\u001b[0m\n\u001b[1;32m      2\u001b[0m \u001b[0;31m# It then does an inplace replacement putting MK0 followed by the matched digit.\u001b[0m\u001b[0;34m\u001b[0m\u001b[0;34m\u001b[0m\u001b[0m\n\u001b[1;32m      3\u001b[0m \u001b[0;34m\u001b[0m\u001b[0m\n\u001b[0;32m----> 4\u001b[0;31m \u001b[0;32mfor\u001b[0m \u001b[0mi\u001b[0m \u001b[0;32min\u001b[0m \u001b[0mrange\u001b[0m\u001b[0;34m(\u001b[0m\u001b[0mmk_outcodes_df\u001b[0m\u001b[0;34m.\u001b[0m\u001b[0mshape\u001b[0m\u001b[0;34m[\u001b[0m\u001b[0;36m0\u001b[0m\u001b[0;34m]\u001b[0m\u001b[0;34m)\u001b[0m\u001b[0;34m:\u001b[0m\u001b[0;34m\u001b[0m\u001b[0m\n\u001b[0m\u001b[1;32m      5\u001b[0m     mk_outcodes_df.replace({'outcode', \"(MK)(\\d)$\"}, r'MK0\\2', \n\u001b[1;32m      6\u001b[0m                             regex=True, inplace=True)\n",
      "\u001b[0;31mNameError\u001b[0m: name 'mk_outcodes_df' is not defined"
     ]
    }
   ],
   "source": [
    "# The following looks for the pattern: MK followed by one digit and the end of the string.\n",
    "# It then does an inplace replacement putting MK0 followed by the matched digit. \n",
    "\n",
    "for i in range(mk_outcodes_df.shape[0]):\n",
    "    mk_outcodes_df.replace({'outcode', \"(MK)(\\d)$\"}, r'MK0\\2', \n",
    "                            regex=True, inplace=True)\n",
    "mk_outcodes_df.head(5)"
   ]
  },
  {
   "cell_type": "markdown",
   "metadata": {},
   "source": [
    "We can now form an equality inner join of the two datasets, using the `District` and `outcode` columns\n",
    "as the joining column."
   ]
  },
  {
   "cell_type": "code",
   "execution_count": null,
   "metadata": {
    "collapsed": true
   },
   "outputs": [],
   "source": [
    "licence_and_location_df = pd.merge(licences_df, mk_outcodes_df, \n",
    "                                   left_on=['District'], right_on=['outcode'] )\n",
    "licence_and_location_df.head(5)"
   ]
  },
  {
   "cell_type": "markdown",
   "metadata": {},
   "source": [
    "## Now let's map this data\n",
    "We want a zoomable map, centred on the MK region, with a marker for each postcode District location.\n",
    "\n",
    "That sounds like a variation of the car park pop-up recipe I used earlier. I'll use that as a template by cutting and pasting it into the next cell, and editting it for this purpose (the following is the end result of that work process)."
   ]
  },
  {
   "cell_type": "code",
   "execution_count": null,
   "metadata": {
    "collapsed": true
   },
   "outputs": [],
   "source": [
    "# Create our base map, centred on Milton Keynes:\n",
    "LicenceMap = folium.Map(location=[52.0218,-0.7599], zoom_start=10, max_zoom=15)\n",
    "\n",
    "# For each postcode area \n",
    "# let's use the pop-up string on simple_markers to report number of licences.\n",
    "for i in range(licence_and_location_df.shape[0]):\n",
    "    TotalProv = licence_and_location_df['Provisional - Total'][i]\n",
    "    TotalFull = licence_and_location_df['Full - Total'][i]\n",
    "    FullPercentage = round(licence_and_location_df['fullpercentage'][i],1)\n",
    "    \n",
    "    # Generate a caption using HTML, embedded within an iframe inside the popup\n",
    "    html=\"\"\"\n",
    "        <h1> District: {}</h1>\n",
    "        <ul><li>Full#: {}</li>\n",
    "        <li>Provisional#: {}</li> \n",
    "        <li>Full%: {}%</li></ul> \n",
    "    \"\"\".format(licence_and_location_df['District'][i],TotalFull,TotalProv,FullPercentage)\n",
    "    iframe = folium.IFrame(html=html, width=400, height=200)\n",
    "    \n",
    "    popup = folium.Popup(iframe, max_width=800)\n",
    "    folium.Marker(location = [licence_and_location_df['latitude'][i],\n",
    "                                         licence_and_location_df['longitude'][i]], \n",
    "                              popup=popup).add_to(LicenceMap)\n",
    "\n",
    "LicenceMap"
   ]
  },
  {
   "cell_type": "markdown",
   "metadata": {},
   "source": [
    "Actually this looks wholly unsatisfactory - we've taken area data about a postcode district and mapped it to point markers, but we've no sense of the areas to which the markers relate. We also have to click on each marker to see the associated values - this doesn't give any sense of the variations between each area.\n",
    "\n",
    "This looks like a good case in which to use choropleth mapping: we can show the boundary for each postcode area, then shade each postcode area based on the full licence percentage values."
   ]
  },
  {
   "cell_type": "markdown",
   "metadata": {},
   "source": [
    "### What do we need for a choropleth map?\n",
    "We need a shape file for the postcode district boundaries - which is handy, as the `mk.geoJSON` file  is just that.\n",
    "\n",
    "We need the data used to shade our map - well, we have the DataFrame `licence_and_location_df` which has the percentage of full licences in each postcode district. So, it looks like we're ready to go."
   ]
  },
  {
   "cell_type": "code",
   "execution_count": null,
   "metadata": {
    "collapsed": true
   },
   "outputs": [],
   "source": [
    "# Create our base map, centred on Milton Keynes.\n",
    "LicenceMap1 = folium.Map(location=[52.1,-0.7599], zoom_start=10, max_zoom=15)\n",
    "\n",
    "# The geo_path is the same file we used earlier - mk.geoJSON, \n",
    "# but now we need some additional parameters:\n",
    "#    data_out is where the data files that will be used to colour the map will be held,\n",
    "#    data is the name of the DataFrame with the mappable data items in it,\n",
    "#    columns are the two columns that are used to decide \n",
    "#       - which area (we use the outcode value) \n",
    "#       - and what colour (we use the fullpercentage value),\n",
    "#    key_on tells geo_json which property in the GeoJSON files data structure needs \n",
    "#       to join with the 'outcode' column, (you can open the GeoJSON file in OpenRefine, or \n",
    "#       other tools capable of reading JSON formats, to identify the property name to use)\n",
    "#    and finally we have the colour scheme, colour opacity and legend for the rendering.\n",
    "\n",
    "# The colour scheme is taken from the 'Color Brewer' sequential scales; \n",
    "#  the values here can be any of:\n",
    "#  BuGn, BuPu, GnBu, OrRd, PuBu, PuBuGn, PuRd, RdPu, YlGn, YlGnBu, YlOrBr, YlOrRd.\n",
    "\n",
    "LicenceMap1.choropleth(geo_path='data/mk.geoJSON.txt',\n",
    "                       data_out='map-output-files/MKdata1.json',\n",
    "                       data=licence_and_location_df, \n",
    "                       columns=['outcode', 'fullpercentage'], \n",
    "                       key_on='feature.properties.Name',\n",
    "                       fill_color='PuBuGn', fill_opacity=0.4, line_opacity=0.9,\n",
    "                       legend_name='Full licence percentages' )\n",
    "\n",
    "LicenceMap1"
   ]
  },
  {
   "cell_type": "markdown",
   "metadata": {},
   "source": [
    "This is not very informative: as you can see, the legend shows the data only packed into three bins, sized by default. We can override this default by defining up to seven bins of our own. This is done by listing the threshold values for each colour change used in the shading."
   ]
  },
  {
   "cell_type": "code",
   "execution_count": null,
   "metadata": {
    "collapsed": true,
    "scrolled": false
   },
   "outputs": [],
   "source": [
    "# Create our base map, centred on Milton Keynes.\n",
    "LicenceMap2 = folium.Map(location = [52.1,-0.7599], zoom_start=10, max_zoom=15)\n",
    "\n",
    "# This is the same map as plotted above, but with a 7 bin colour scale \n",
    "# and a Red-Purple colour scale.\n",
    "\n",
    "LicenceMap2.choropleth(geo_path='data/mk.geoJSON.txt',\n",
    "                       data_out='map-output-files/MKdata1.json',\n",
    "                       data=licence_and_location_df, \n",
    "                       columns=['outcode', 'fullpercentage'], \n",
    "                       key_on='feature.properties.Name',\n",
    "                       fill_color='PuBuGn', fill_opacity=0.4, line_opacity=0.9,\n",
    "                       legend_name='Full licence percentages',\n",
    "                       threshold_scale=[40,50,60,70,80,90]  )\n",
    "\n",
    "LicenceMap2"
   ]
  },
  {
   "cell_type": "markdown",
   "metadata": {},
   "source": [
    "This is beginning to look better.  \n",
    "\n",
    "However it shows up an odd, uncoloured section in the middle of the map!  Something went wrong here.  \n",
    "\n",
    "It turns out that I should have taken a closer look at the `mk.geoJSON` file - it uses the single-digit versions (MK1, MK2) of the MK01, MK02, etc. district names.  So when `.geo_json()` joined the `outcode` values and the `properties.Name` values it lost the MK1 to MK01 relationships and then had no `fullpercentage` value to use to colour these map areas."
   ]
  },
  {
   "cell_type": "code",
   "execution_count": null,
   "metadata": {
    "collapsed": true
   },
   "outputs": [],
   "source": [
    "import json\n",
    "with open('data/mk.geoJSON.txt') as data_file:    \n",
    "    jj = json.load(data_file)\n",
    "areas= [f['properties']['Name'] for f in jj['features']]\n",
    "print('GeoJSON keys: {} \\nData keys: {}'.format(','.join(areas),\n",
    "                                                 ','.join(licence_and_location_df['District'].unique()) ) )"
   ]
  },
  {
   "cell_type": "markdown",
   "metadata": {},
   "source": [
    "We have some more data preparation to do!\n",
    "\n",
    "We need the original `outcode` values to join with the GeoJSON file values.  We also don't need the postcode-to-location dataset, since we're using the GeoJSON mapping information for our display. So, the licence information alone is sufficient for the choropleth map requirements.\n",
    "\n",
    "So reusing the recipe from above, and adjusting for the new data file and preparation requirements:"
   ]
  },
  {
   "cell_type": "code",
   "execution_count": null,
   "metadata": {
    "collapsed": true
   },
   "outputs": [],
   "source": [
    "# Reload the driving licence data for MK\n",
    "licences2_df = pd.read_excel('data/MKxx DRL0102 Driving-licence-data-Mar15.xls',\n",
    "                             skiprows=27)[:(54-28)]\n",
    "\n",
    "# For each row calculate the full total as a percentage of the overall total \n",
    "#    and add this as a new column:\n",
    "licences2_df['fullpercentage'] = (licences2_df['Full - Total']/ \n",
    "                                 (licences2_df['Provisional - Total']+\n",
    "                                           licences2_df['Full - Total'])) * 100\n",
    "licences2_df.head(5)"
   ]
  },
  {
   "cell_type": "code",
   "execution_count": null,
   "metadata": {
    "collapsed": true
   },
   "outputs": [],
   "source": [
    "# We can add the adjusted District values as an outcode value for each row:\n",
    "for i in range(licences2_df.shape[0]):\n",
    "    licences2_df['outcode'] = licences2_df['District'].replace(\"(MK)(0)(\\d)$\", r'MK\\3',\n",
    "                                               regex=True, inplace=False)\n",
    "licences2_df.head(5)"
   ]
  },
  {
   "cell_type": "code",
   "execution_count": null,
   "metadata": {
    "collapsed": true
   },
   "outputs": [],
   "source": [
    "# Create our base map, centred on Milton Keynes.\n",
    "LicenceMap3 = folium.Map(location = [52.1,-0.7599],\n",
    "                    zoom_start=10, max_zoom=15)\n",
    "\n",
    "LicenceMap3.choropleth(geo_path='data/mk.geoJSON.txt',\n",
    "                       data_out='map-output-files/MKdata1.json',\n",
    "                       data=licences2_df, \n",
    "                       columns=['outcode', 'fullpercentage'], \n",
    "                       key_on='feature.properties.Name',\n",
    "                       fill_color='PuBuGn', fill_opacity=0.4, line_opacity=0.9,\n",
    "                       legend_name='Full licence percentages',\n",
    "                       threshold_scale=[40,50,60,70,80,90]  )\n",
    "\n",
    "LicenceMap3"
   ]
  },
  {
   "cell_type": "markdown",
   "metadata": {},
   "source": [
    "One final tweak:  with a low value for opacity you get the underlying colour showing through, which makes the relationship between the map colouring and the legend colours hard to gauge.  By increasing the opacity, a closer match between the colours is possible - however, you do lose access to the detail underlying the colouring if it is too opaque."
   ]
  },
  {
   "cell_type": "code",
   "execution_count": null,
   "metadata": {
    "collapsed": true
   },
   "outputs": [],
   "source": [
    "# Create our base map, centred on Milton Keynes.\n",
    "LicenceMap4 = folium.Map(location = [52.1,-0.7599],\n",
    "                    zoom_start=10, max_zoom=15)\n",
    "\n",
    "LicenceMap4.choropleth(geo_path='data/mk.geoJSON.txt',\n",
    "                       data_out='map-output-files/MKdata1.json',\n",
    "                       data=licences2_df, \n",
    "                       columns=['outcode', 'fullpercentage'], \n",
    "                       key_on='feature.properties.Name',\n",
    "                       fill_color='PuBuGn', fill_opacity=0.8, line_opacity=0.9,\n",
    "                       legend_name='Full licence percentages',\n",
    "                       threshold_scale=[40,50,60,70,80,90]  )\n",
    "\n",
    "LicenceMap4"
   ]
  },
  {
   "cell_type": "markdown",
   "metadata": {},
   "source": [
    "## What next?"
   ]
  },
  {
   "cell_type": "markdown",
   "metadata": {},
   "source": [
    "This Notebook contains a basic introduction to mapping using folium - a Python library that allows you to create interactive maps using the leaflet JavaScript library and map tiles served from OpenStreetMap. If you have a pressing need to create maps as part of your data investigations *right now*, it provides you with a starting point (but don't get too distracted!)\n",
    "\n",
    "If you are working through this Notebook as part of an inline exercise, return to the module materials now. If you are working through this set of Notebooks as a whole, move on to Notebook `05.3 Getting started with matplotlib.`"
   ]
  },
  {
   "cell_type": "markdown",
   "metadata": {},
   "source": [
    "# Optional material"
   ]
  },
  {
   "cell_type": "markdown",
   "metadata": {},
   "source": [
    "#### From KML to GeoJSON\n",
    "If you find a repository of KML files you'll find that they can be very large. One reason the http://census.edina.ac.uk/bds.html site is useful is that it allows you to do some narrowing down to the area you want to map without having to do so manually.\n",
    "\n",
    "So my approach to generating the MK postcode boundaries file was to start at the above site, choosing the _England_, _Postal_, _2012_ boundary data and using the _List Area_ feature to choose just the Milton Keynes data.  When I'd picked the data I wanted, I used the _format_ tab to select KML format for the output file.  Once I'd downloaded the output file I needed to convert the KML to GeoJSON.\n",
    "\n",
    "The interactive service http://ogre.adc4gis.com/ does this; the output from this is displayed to your browser page but it is possible to save this to a file.  A quick check with OpenRefine (open the file as a JSON format file) shows this parsed correctly, and allowed me to look for the property name used for the Districts - in this case `properties.Name`.\n",
    "\n",
    "All this is very manual and rather clunky; but for this investigation/example it worked, and didn't take me more than 30 minutes of web searching to find the repository and the ogre service, with a couple of false starts.  Next time it'll take less than 5 minutes if the repository contains the boundary data I need.\n",
    "\n",
    "If you're familiar with other repositories, or with converting boundary data (either manually, with services or with Python), why not share locations and recipes on the module forum or in OpenStudio for others to see."
   ]
  },
  {
   "cell_type": "markdown",
   "metadata": {},
   "source": [
    "### Using proportional markers: takes 2 and 3\n",
    "\n",
    "Earlier we used proportional markers based on the absolute count of car park spaces.  We also suggested that in most cases you would either need to scale, or bin, data to create markers, especially when absolute values might overwhelm the map.\n",
    "\n",
    "This is not particularly a mapping technique, but is a good example of two short data-preparation recipes and how mapping can then build on top of properly shaped datasets."
   ]
  },
  {
   "cell_type": "markdown",
   "metadata": {},
   "source": [
    "The following example re-builds the DataFrame used earlier, but we've adjusted the absolute size of the car parks, to include one very large one."
   ]
  },
  {
   "cell_type": "code",
   "execution_count": null,
   "metadata": {
    "collapsed": true
   },
   "outputs": [],
   "source": [
    "Carparking2_df = pd.DataFrame({'latitude': [52.026, 52.0253, 52.0266, 52.0242, 52.0233],\n",
    "                               'longitude': [-0.7065,-0.7052, -0.7112, -0.7132, -0.7107],\n",
    "                               'absolutesize': [1000, 255, 158, 50, 40]})\n",
    "\n",
    "# A quick check to see that we've got the Carparking DataFrame correct\n",
    "for i in range(Carparking2_df.shape[0]):\n",
    "    (lat, long, numspaces) = Carparking2_df.loc[i,['latitude','longitude','absolutesize']]\n",
    "    print(lat, long, 'Car park with: '+ str(int(numspaces)) + ' spaces.')"
   ]
  },
  {
   "cell_type": "markdown",
   "metadata": {
    "collapsed": true
   },
   "source": [
    "Next we can see what a mess this makes of our map if we try to use absolute values as we did earlier."
   ]
  },
  {
   "cell_type": "code",
   "execution_count": null,
   "metadata": {
    "collapsed": true,
    "scrolled": false
   },
   "outputs": [],
   "source": [
    "# Create our base map, centred on Walton Hall.\n",
    "OU_carparks2 = folium.Map(location=[52.024696,-0.710710], zoom_start=1, max_zoom=16)\n",
    "\n",
    "# Add a simple marker to say where we are\n",
    "folium.Marker([52.024696,-0.710710], popup='The Open University, Walton Hall').add_to(OU_carparks2)\n",
    "\n",
    "# Now add proportional circle markers, one for each car park.\n",
    "# The radius is in pixels, using the absolute value directly,\n",
    "for i in range(Carparking2_df.shape[0]):\n",
    "    (lat, long, numspaces) = Carparking2_df.loc[i,['latitude','longitude','absolutesize']]\n",
    "    folium.CircleMarker(location=[lat, long], radius=numspaces,\n",
    "                               popup='Car park with: '+ str(int(numspaces)) + 'spaces.', \n",
    "                               color='#3186ec', fill_color='#3186ec',\n",
    "                               fill_opacity=0.8).add_to(OU_carparks2)\n",
    "\n",
    "OU_carparks2"
   ]
  },
  {
   "cell_type": "markdown",
   "metadata": {},
   "source": [
    "#### Reshaping the data set with new columns\n",
    "To our `Carparking2_df` DataFrame we can add a column for scaled proportional data values, and then we'll add one for binning values."
   ]
  },
  {
   "cell_type": "code",
   "execution_count": null,
   "metadata": {
    "collapsed": true
   },
   "outputs": [],
   "source": [
    "import numpy as np\n",
    "# The following scales from the absolute sizes into a\n",
    "# new range, which I've chosen to be 100 maximum and 10 minimum; \n",
    "# you could adjust these by replacing the values in the code below.\n",
    "# (The code doesn't handle end conditions where you set the maximum and \n",
    "#  minimum values to the same value.)\n",
    "\n",
    "maxAbsoluteSize = Carparking2_df['absolutesize'].max()\n",
    "minAbsoluteSize = Carparking2_df['absolutesize'].min()\n",
    "rangeAbsoluteSize = (maxAbsoluteSize - minAbsoluteSize)\n",
    "\n",
    "maxScaledSize = 100\n",
    "minScaledSize = 10\n",
    "rangeScaledSize = (maxScaledSize - minScaledSize)\n",
    "\n",
    "# Now add the scaled values to the CarParking2_df DataFrame as a new column:\n",
    "Carparking2_df['scaledsize'] = ( (((Carparking2_df['absolutesize'] - minAbsoluteSize) * \n",
    "                                   rangeScaledSize)\n",
    "                                               / rangeAbsoluteSize) + minScaledSize)\n",
    "\n",
    "# If the above code is correct, the largest absolute size will now have scaledsize of 100,\n",
    "# and the smallest absolute size will have scaledsize 10. A quick check:\n",
    "Carparking2_df"
   ]
  },
  {
   "cell_type": "code",
   "execution_count": null,
   "metadata": {
    "collapsed": true
   },
   "outputs": [],
   "source": [
    "# Now add a column with bin numbers based on the car park size.\n",
    "# Earlier we suggested bins with boundaries [50, 200 and 500].\n",
    "# We add a lower bound (0) and an arbtrary upper bound (10000) to \n",
    "# this Series of bin thresholds.\n",
    "# The bin boundary condition is that the values in each bin are \n",
    "# higher than the lower threshold and less than or equal to the \n",
    "# upper bound.\n",
    "\n",
    "ThresholdSeries = pd.Series([0,50,200,500,10000])\n",
    "\n",
    "# Create the binvalue column:\n",
    "Carparking2_df['binvalue'] = 1\n",
    "\n",
    "# For each bin - if the car park absolute size is within the bin boundaries\n",
    "# we want to change the binvalue to the bin number.\n",
    "for Bin in range(ThresholdSeries.size-1):\n",
    "    Carparking2_df.loc[((Carparking2_df.absolutesize > ThresholdSeries[Bin]) &\n",
    "                        (Carparking2_df.absolutesize <= ThresholdSeries[Bin+1]) ), \n",
    "                      ['binvalue'] ] = (Bin+1)\n",
    "    \n",
    "Carparking2_df"
   ]
  },
  {
   "cell_type": "markdown",
   "metadata": {},
   "source": [
    "Now we can map the chosen values, using either the scaled size, or a function of bin number, to determine the radius of the proportional markers."
   ]
  },
  {
   "cell_type": "code",
   "execution_count": null,
   "metadata": {
    "collapsed": true,
    "scrolled": false
   },
   "outputs": [],
   "source": [
    "# Map using circle markers based on scaled size\n",
    "# Create our base map, centred on Walton Hall.\n",
    "OU_carparks3 = folium.Map(location=[52.024696,-0.710710],\n",
    "                     zoom_start=16, max_zoom=18)\n",
    "# Add a simple marker to say where it is.\n",
    "folium.Marker([52.024696,-0.710710], \n",
    "                           popup='The Open University, Walton Hall').add_to(OU_carparks3)\n",
    "\n",
    "# Now add proportional circle markers, one for each car park.\n",
    "# The radius is in pixels, using the scaledsize value directly.\n",
    "for i in range(Carparking2_df.shape[0]):\n",
    "    (lat, long, relsize, numspaces) = Carparking2_df.loc[i,['latitude','longitude','scaledsize','absolutesize']]\n",
    "    folium.CircleMarker(location=[lat, long], radius=relsize,\n",
    "                        popup='Car park with: '+ str(int(numspaces)) + 'spaces.', \n",
    "                        color='red', fill_color='orange',\n",
    "                        fill_opacity=0.8).add_to(OU_carparks3)\n",
    "\n",
    "OU_carparks3"
   ]
  },
  {
   "cell_type": "code",
   "execution_count": null,
   "metadata": {
    "collapsed": true
   },
   "outputs": [],
   "source": [
    "# Map using scaled polygons with size based on bin number.\n",
    "\n",
    "# Create our base map, centred on Walton Hall.\n",
    "OU_carparks4 = folium.Map(location=[52.024696,-0.710710], zoom_start=14, max_zoom=16)\n",
    "\n",
    "# Add a simple marker to say where it is\n",
    "folium.Marker([52.024696,-0.710710], \n",
    "                     popup='The Open University, Walton Hall').add_to(OU_carparks4)\n",
    "\n",
    "# Now addin proportional polygon markers, one for each car park.\n",
    "# The radius is using a multiple of 10 times the binnumber ,\n",
    "for i in range(Carparking2_df.shape[0]):\n",
    "    (lat, long, binnumber, numspaces) = Carparking2_df.loc[i,['latitude','longitude','binvalue','absolutesize']]\n",
    "    folium.RegularPolygonMarker(location=[lat,long], radius=(binnumber * 10),\n",
    "                                number_of_sides=8,\n",
    "                                popup='Car park with: '+ str(int(numspaces)) + 'spaces.', \n",
    "                                color='Black', fill_color='Blue',\n",
    "                                fill_opacity=0.8).add_to(OU_carparks4)\n",
    "\n",
    "OU_carparks4"
   ]
  },
  {
   "cell_type": "code",
   "execution_count": null,
   "metadata": {
    "collapsed": true
   },
   "outputs": [],
   "source": []
  }
 ],
 "metadata": {
  "kernelspec": {
   "display_name": "Python 3",
   "language": "python",
   "name": "python3"
  },
  "language_info": {
   "codemirror_mode": {
    "name": "ipython",
    "version": 3
   },
   "file_extension": ".py",
   "mimetype": "text/x-python",
   "name": "python",
   "nbconvert_exporter": "python",
   "pygments_lexer": "ipython3",
   "version": "3.5.2"
  }
 },
 "nbformat": 4,
 "nbformat_minor": 1
}
