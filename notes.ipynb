{
 "cells": [
  {
   "cell_type": "markdown",
   "metadata": {},
   "source": [
    "# Exploration notes"
   ]
  },
  {
   "cell_type": "markdown",
   "metadata": {},
   "source": [
    "## Open Refine work"
   ]
  },
  {
   "cell_type": "markdown",
   "metadata": {},
   "source": [
    "### fuitveg csv file.\n",
    "\n",
    "Creating a new project in OpenRefine and importing the file we quickly discover that it is a tab separated.  The preview shows that there are a lot of cells with incomplete data.  There appears to be an hierarchically structured first column with mixed data values (Year, Fruit). \n",
    "\n",
    "On previewing the table we can see that parsing the first row as column header brings up the year value 2004.  We will have to correct this after importing the file.  (This will be quicker than manually renaming each of the month columns afterwards).\n"
   ]
  },
  {
   "cell_type": "markdown",
   "metadata": {
    "heading_collapsed": true
   },
   "source": [
    "#### Step 1 - importing the file \n",
    "_Import Settings_\n",
    "<img src=\"images/fv001a.png\">\n",
    "\n",
    "\n",
    "_Imported Table_\n",
    "<img src=\"images/fv001b.png\"> \n",
    "\n"
   ]
  },
  {
   "cell_type": "markdown",
   "metadata": {
    "collapsed": true
   },
   "source": [
    "#### Step 2 - Correct the column names and edit first cell to retain year information\n",
    "Fix the Fruit column name and edit the first cell to the year (efffectively swapping the column header `2004` and `FRUIT`).  Then, renaming `Column` to `Variety`.\n",
    "\n",
    "a) Editing the first cell value\n",
    "<img src=\"images/fv002a.png\">\n",
    "b) renaming The columns\n",
    "<img src=\"images/fv002b.png\">\n",
    "c) Resulting table\n",
    "<img src=\"images/fv002c.png\">"
   ]
  },
  {
   "cell_type": "markdown",
   "metadata": {},
   "source": [
    "#### Step 3 - Creating a year column\n",
    "Now things are organised we can have a look at the table data and start to mould it into the shape we need it to be in.\n",
    "\n",
    "Looking through the table data, we can see that at row 64 there is another year value `2005`.  To preserve this information it is necessary to create a new column for the year.\n",
    "\n",
    "a) We can make a numeric text facet of `Fruit` to select only those that are year\n",
    "<img src=\"images/fv003a.png\">\n",
    "\n",
    "b) create new column based on only the year information\n",
    "<img src=\"images/fv003b.png\">\n",
    "\n",
    "c) De-select the text facet and use fill down so that each row has a year\n",
    "<img src=\"images/fv003c.png\">\n",
    "\n",
    "d) Finally reapply the numeric text facet on the Fruit once more, this time removing those rows that match. (Since they hold header information only)\n",
    "<img src=\"images/fv003d.png\">\n",
    "\n",
    "e) reorder the columns so that year is first:\n",
    "<img src=\"images/fv003e.png\">"
   ]
  },
  {
   "cell_type": "markdown",
   "metadata": {
    "heading_collapsed": true
   },
   "source": [
    "#### Step 4 - Filling missing Fruit values\n",
    "\n",
    "Again using the `filldown` option will populate the missing values for each row.\n",
    "<img src=\"images/fv004a.png\">"
   ]
  },
  {
   "cell_type": "markdown",
   "metadata": {
    "heading_collapsed": true
   },
   "source": [
    "#### Step 5 - Checking the Fruit Column for other apples\n",
    "The table is now getting into shape.  We should double check that there is no ambiguity or confusion with the Fruit names and varieties by looking text facets of the Fruit column.\n",
    "\n",
    "A quick check through all the facet values shows that there are only two for apples, 'Dessert apples' and 'Cooking apples'.  After checking through the cooking apples facet they are all Bramley Seedling, and not a Dessert apple.\n",
    "\n",
    "Also checking through the text bracketed text facets (such as `(new item this year)`) there are some ambiguous varieties `Red` that could be a dessert apple.  Flagging the row (678) and checking the context we can see that it is in the Bulb Onion Section.  Therefore, not an Apple. \n",
    "\n",
    "Satisfied that the dessert apples are correctly identified, we can invert the facet selection and remove all the other fruit rows.\n",
    "\n",
    "<img src=\"images/fv005a.png\">\n",
    "\n"
   ]
  },
  {
   "cell_type": "markdown",
   "metadata": {},
   "source": [
    "#### Step 6 - making the apple variety names consistent\n",
    "\n",
    "Taking a look at the the dessert apples text facet shows a few small details that would be good to clean up.\n",
    "\n",
    "<img src=images/fv006a.png>\n",
    "there are a number of 'Other ... Season' varieties.  These are unclear and would be better to be grouped together under one variety 'Other'.\n",
    "\n",
    "Also, renaming 'Cox's Orange-Group' to _'Cox'_, and Jonogold - group to just _Jonogold_\n",
    "\n",
    "After these changes we have a more simplified list of varieties:\n",
    "<img src=images/fv006b.png>"
   ]
  },
  {
   "cell_type": "markdown",
   "metadata": {},
   "source": [
    "#### Step 7 - exporting as CSV\n",
    "\n",
    "Finally, after transforming all the values in the year column to text, we are ready to export.\n",
    "\n",
    "<img src=\"images/fv007.png\">\n",
    "\n",
    "The fruitveg file is now ready to be exported and used in our investigation.  \n",
    "\n",
    "__Column selection__ It was determined that the unit information could be omitted as it is the same for all apples (£/KG).  A decidion had to be made about the quality column.  As there is no further information about the number of apples produced at a given quality level and the question asks only for the average sale price, It was determined to remove the column as we will not need to evaluate it, however the values would be kept in place so the average (mean) price can be calculated in pandas.  _it really comes down to how you interpret the average price part of the question_.\n",
    "\n",
    "We will need the Year, Variety and [Jan-Dec] columns.\n",
    "\n",
    "<img src=\"images/fv007a.png\">\n",
    "\n",
    "Download settings\n",
    "\n",
    "<img src=\"images/fv007b.png\">\n",
    "\n"
   ]
  },
  {
   "cell_type": "markdown",
   "metadata": {},
   "source": [
    "### Orchards file"
   ]
  },
  {
   "cell_type": "markdown",
   "metadata": {},
   "source": [
    "#### Importing\n",
    "After importing we have this table:\n",
    "\n",
    "<img src=\"images/of001.png\"> \n",
    "First impressions of this file is that it is much wider, with only 13 rows of data but many columns.  Not all of them are needed for our investigation and some relate to other fruits.  Also, the last few rows hold important information on how some varieties have been amalgamated into other categories.  We will need to bear this in mind when we attempt to join the two tables.\n",
    "\n",
    "_Notes_\n",
    " - Cameo, Jazz and Kanzi new 2009\n",
    " - Spartan included with other dessert apples from 2009\n",
    " - Fiesta / Red pippin included in other dessert apples from 2003\n",
    " - Katy included in other dessert apples until 2009"
   ]
  },
  {
   "cell_type": "markdown",
   "metadata": {},
   "source": [
    "#### Step 2 - removing irrelevant columns and extra information rows\n",
    "Our investigation calls for dessert apples, so we can remove the various cooking apples, cider apples, plums, nuts etc.\n",
    "I also decided to remove the totalApples column as we can calculate this directly from the data.\n",
    "<img src=\"images/of002a.png\">\n",
    "\n",
    "Having removed those columns, it is useful to rename the year columns to Year for when we want to merge witht e other dataset.Finally Having made a note about the metadata, we can remove those rows to give the final table:\n",
    "    \n",
    "<img src=\"images/of002b.png\">"
   ]
  },
  {
   "cell_type": "markdown",
   "metadata": {},
   "source": [
    "#### Step 3 - export the table as a csv file\n",
    "Finally we again export the orchard_dcs.csv file with comma seperated values\n",
    "<img src=\"images/of003.png\">"
   ]
  },
  {
   "cell_type": "code",
   "execution_count": null,
   "metadata": {
    "collapsed": true
   },
   "outputs": [],
   "source": []
  }
 ],
 "metadata": {
  "kernelspec": {
   "display_name": "Python 3",
   "language": "python",
   "name": "python3"
  },
  "language_info": {
   "codemirror_mode": {
    "name": "ipython",
    "version": 3
   },
   "file_extension": ".py",
   "mimetype": "text/x-python",
   "name": "python",
   "nbconvert_exporter": "python",
   "pygments_lexer": "ipython3",
   "version": "3.5.2"
  }
 },
 "nbformat": 4,
 "nbformat_minor": 2
}
