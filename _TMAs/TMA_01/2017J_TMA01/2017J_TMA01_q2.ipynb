{
 "cells": [
  {
   "cell_type": "markdown",
   "metadata": {},
   "source": [
    "# TMA 01, question 2 (40 marks)"
   ]
  },
  {
   "cell_type": "markdown",
   "metadata": {},
   "source": [
    "**Name**: Daniel Smith\n",
    "    \n",
    "**PI**: A7603242"
   ]
  },
  {
   "cell_type": "markdown",
   "metadata": {},
   "source": [
    "\n",
    "In this question, you will examine a set of data which represents the number of billionaires in the world, as published by [Forbes](https://www.forbes.com/billionaires), and collated as a [CORGIS](https://think.cs.vt.edu/corgis/csv/billionaires/billionaires.html) set."
   ]
  },
  {
   "cell_type": "markdown",
   "metadata": {},
   "source": [
    "The tasks in this notebook can be addressed using the techniques discussed in parts 2-5 of the module materials, and the associated notebooks."
   ]
  },
  {
   "cell_type": "markdown",
   "metadata": {},
   "source": [
    "The question has three parts, looking at different parts of the data analysis pipeline. "
   ]
  },
  {
   "cell_type": "markdown",
   "metadata": {},
   "source": [
    "Record all your activity and observations in this notebook. Generate additional notebook cells as required.\n"
   ]
  },
  {
   "cell_type": "code",
   "execution_count": null,
   "metadata": {
    "collapsed": true
   },
   "outputs": [],
   "source": [
    "# Load the necessary libraries here:\n",
    "import pandas as pd\n",
    "import numpy as np\n",
    "\n",
    "import matplotlib.pyplot as plt\n",
    "\n",
    "import seaborn as sn\n",
    "\n",
    "# If you require additional libraries to answer any questions \n",
    "# then import them as necessary."
   ]
  },
  {
   "cell_type": "markdown",
   "metadata": {},
   "source": [
    "## <a name=\"contents\"></a> Contents\n",
    "* [Importing and cleaning the data](#import) (15 marks)\n",
    "* [Visualising billionaires by country](#country) (10 marks)\n",
    "* [Total billionaires' wealth by category](#category) (15 marks)\n"
   ]
  },
  {
   "cell_type": "markdown",
   "metadata": {},
   "source": [
    "## <a name=\"import\"></a> Importing and cleaning the data (15 marks)\n",
    "([Contents](#contents))\n",
    "\n"
   ]
  },
  {
   "cell_type": "markdown",
   "metadata": {},
   "source": [
    "In this part of the question you will load and prepare the data file, making some adjustments for missing data in the original file. We have numbered each of the stages to align with the steps in question 3 of this TMA."
   ]
  },
  {
   "cell_type": "markdown",
   "metadata": {},
   "source": [
    "#### 1. Import the dataset\n",
    "\n",
    "First, read the csv file <code>billionaires.csv</code> in the directory <code>data</code> into a dataframe named <code>billionaires_df</code>. *(1 mark)*"
   ]
  },
  {
   "cell_type": "code",
   "execution_count": null,
   "metadata": {
    "collapsed": true
   },
   "outputs": [],
   "source": [
    "# Enter your code here\n"
   ]
  },
  {
   "cell_type": "markdown",
   "metadata": {},
   "source": [
    "To check that you have loaded the file correctly, you can use the following cell to ensure that your dataframe contains the correct number of rows (you will need to uncomment the lines of code):"
   ]
  },
  {
   "cell_type": "code",
   "execution_count": null,
   "metadata": {
    "collapsed": true
   },
   "outputs": [],
   "source": [
    "#if (len(billionaires_df) != 2614):\n",
    "#    print('Some rows missing check your answer')"
   ]
  },
  {
   "cell_type": "markdown",
   "metadata": {},
   "source": [
    "#### 2. Identify and handle missing data\n",
    "\n",
    "In the dataset there is a column whose name is <code>company.type</code>. In this column in the csv file, there are several missing values. Use the appropriate column in your dataframe to calculate how many values are missing from the <code>company.type</code> column. *(2 marks)*"
   ]
  },
  {
   "cell_type": "code",
   "execution_count": null,
   "metadata": {
    "collapsed": true
   },
   "outputs": [],
   "source": [
    "# Enter your code here\n"
   ]
  },
  {
   "cell_type": "markdown",
   "metadata": {},
   "source": [
    "Update your dataframe <code>billionaires_df</code> so that the missing values in the <code>company.type</code> column are replaced with the string \"unknown\". Then display 5 rows for which the value of <code>company.type</code> is \"unknown\". *(4 marks)*"
   ]
  },
  {
   "cell_type": "code",
   "execution_count": null,
   "metadata": {
    "collapsed": true
   },
   "outputs": [],
   "source": [
    "# Enter your code here\n"
   ]
  },
  {
   "cell_type": "markdown",
   "metadata": {},
   "source": [
    "#### 3. Identify and handle inconsistent or dirty data\n",
    "\n",
    "There are some typos in the \"company type\" column: \"new\" has sometimes been entered with unwanted whitespace (\" new\", \"new \"), and has sometimes been incorrectly entered as \"neew\". Correct each of these so they all contain the string \"new\". *(3 marks)*"
   ]
  },
  {
   "cell_type": "code",
   "execution_count": null,
   "metadata": {
    "collapsed": true
   },
   "outputs": [],
   "source": [
    "# Enter your code here\n"
   ]
  },
  {
   "cell_type": "markdown",
   "metadata": {},
   "source": [
    "#### 4. Identify and handle ambiguity and vagueness\n",
    "\n",
    "Next, suppose that you would like to know which of the billionaires make their money in the financial services sector.\n",
    "\n",
    "List (without repetitions) all the values in the <code>industry</code> column of your <code>billionaires_df</code> dataframe. *(1 mark)*"
   ]
  },
  {
   "cell_type": "code",
   "execution_count": null,
   "metadata": {
    "collapsed": true
   },
   "outputs": [],
   "source": [
    "# Enter your code here\n"
   ]
  },
  {
   "cell_type": "markdown",
   "metadata": {},
   "source": [
    "Now state which of these values represent businesses in the financial services sector, which do not, and any which you think it is unclear whether or not they represent financial services. Briefly justify your answer. *(4 marks)*"
   ]
  },
  {
   "cell_type": "markdown",
   "metadata": {},
   "source": [
    "*Write your answer in this cell*"
   ]
  },
  {
   "cell_type": "markdown",
   "metadata": {},
   "source": [
    "## <a name=\"country\"></a> Visualising billionaires by country (10 marks)\n",
    "([Contents](#contents))\n",
    "\n"
   ]
  },
  {
   "cell_type": "markdown",
   "metadata": {},
   "source": [
    "**Note:** You do *not* need to complete the previous sections on importing and cleaning the data to address the following sections. Your response to this section does not depend on any changes you may have made in the previous parts of this notebook: your answers here can use your original version of <code>billionaires_df</code> or the version with the missing data filled in."
   ]
  },
  {
   "cell_type": "markdown",
   "metadata": {},
   "source": [
    "If you examine the \"year\" column of the csv file, you will see that the data in the file is collected for the years 1996, 2001 and 2014."
   ]
  },
  {
   "cell_type": "markdown",
   "metadata": {},
   "source": [
    "You are required to plot a bar chart with the name of each country on the X axis, taken from the <code>citizenship</code> column, and on the Y axis, the number of billionaires with citizenship from that country. Your graph should contain *only* the 2014 data."
   ]
  },
  {
   "cell_type": "markdown",
   "metadata": {},
   "source": [
    "#### 5. Put the data into an appropriate form for plotting\n",
    "\n",
    "Use the <code>billionaires_df</code> dataframe to create a new dataframe containing just the data needed for the plot. *(2 marks)*"
   ]
  },
  {
   "cell_type": "code",
   "execution_count": null,
   "metadata": {
    "collapsed": true
   },
   "outputs": [],
   "source": [
    "# Enter your code here\n"
   ]
  },
  {
   "cell_type": "markdown",
   "metadata": {},
   "source": [
    "#### 6. Visualise the data\n",
    "\n",
    "Use your dataframe to generate the required bar chart: the name of each country on the X axis, and the number of billionaires with citizenship from that country on the Y axis. Your graph should contain *only* the 2014 data. Your graph should also have an appropriate title and axis labels. *(3 marks)*"
   ]
  },
  {
   "cell_type": "code",
   "execution_count": null,
   "metadata": {
    "collapsed": true
   },
   "outputs": [],
   "source": [
    "# Enter your code here\n"
   ]
  },
  {
   "cell_type": "markdown",
   "metadata": {
    "collapsed": true
   },
   "source": [
    "Your graph probably looks very cluttered. You should now plot the same graph, but only including those countries which have *more than 20* citizens who are billionaires. *(5 marks)*"
   ]
  },
  {
   "cell_type": "code",
   "execution_count": null,
   "metadata": {
    "collapsed": true
   },
   "outputs": [],
   "source": [
    "# Enter your code here\n"
   ]
  },
  {
   "cell_type": "markdown",
   "metadata": {},
   "source": [
    "## <a name=\"category\"></a> Total billionaires' wealth by category (15 marks)\n",
    "([Contents](#contents))"
   ]
  },
  {
   "cell_type": "markdown",
   "metadata": {},
   "source": [
    "For this section, you will create a graph showing how the amount of wealth owned by the world's billionaires has changed (or not) depending on the category from which the money is made. Your response to this section does not depend on any changes you may have made in the previous parts of this notebook: your answers here can use your original version of <code>billionaires_df</code> or the version with the missing data filled in."
   ]
  },
  {
   "cell_type": "markdown",
   "metadata": {},
   "source": [
    "To investigate the categories from which the billionaires' wealth was made, you decide to plot the data in the graph to show the total wealth, the year, and the category. The plot should show:\n",
    "    \n",
    "- The x axis should show years in the range covered by the dataset\n",
    "- The y axis should show the total wealth of the billionaires working in that category. The total wealth should be the sum of the values in the \"worth in billions\" column, and the categories are the values in the \"category\" column.\n",
    "- There should be several line graphs plotted, one for each different category, showing the total wealth of all the billionaires working in that sector in the given year. You should show all the lines on one plot, rather than creating a multiplot.\n",
    "- Do not include categories which do not appear in each of the years 1996, 2001 and 2014.\n",
    "- The graph should have an appropriate title and legend."
   ]
  },
  {
   "cell_type": "markdown",
   "metadata": {},
   "source": [
    "*(12 marks)*"
   ]
  },
  {
   "cell_type": "markdown",
   "metadata": {},
   "source": [
    "As before, you may find it helpful to define an intermediate dataframe from which to plot the final figure."
   ]
  },
  {
   "cell_type": "code",
   "execution_count": null,
   "metadata": {
    "collapsed": true
   },
   "outputs": [],
   "source": [
    "# Enter your code here.\n"
   ]
  },
  {
   "cell_type": "markdown",
   "metadata": {},
   "source": [
    "#### 7. Interpret your plot\n",
    "\n",
    "What do you think your plot tells you about the total wealth held by category? *(3 marks)*"
   ]
  },
  {
   "cell_type": "markdown",
   "metadata": {},
   "source": [
    "*Write your answer in this cell*"
   ]
  }
 ],
 "metadata": {
  "kernelspec": {
   "display_name": "Python 3",
   "language": "python",
   "name": "python3"
  },
  "language_info": {
   "codemirror_mode": {
    "name": "ipython",
    "version": 3
   },
   "file_extension": ".py",
   "mimetype": "text/x-python",
   "name": "python",
   "nbconvert_exporter": "python",
   "pygments_lexer": "ipython3",
   "version": "3.5.2"
  }
 },
 "nbformat": 4,
 "nbformat_minor": 1
}
