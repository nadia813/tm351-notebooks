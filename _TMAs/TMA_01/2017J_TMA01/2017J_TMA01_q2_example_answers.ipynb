{
 "cells": [
  {
   "cell_type": "markdown",
   "metadata": {},
   "source": [
    "# TMA 01, question 2 (40 marks)"
   ]
  },
  {
   "cell_type": "markdown",
   "metadata": {},
   "source": [
    "**Name**: [Enter your name here]\n",
    "    \n",
    "**PI**: [Enter your student id here]"
   ]
  },
  {
   "cell_type": "markdown",
   "metadata": {},
   "source": [
    "\n",
    "In this question, you will examine a set of data which represents the number of billionaires in the world, as published by [Forbes](https://www.forbes.com/billionaires), and collated as a [CORGIS](https://think.cs.vt.edu/corgis/csv/billionaires/billionaires.html) set."
   ]
  },
  {
   "cell_type": "markdown",
   "metadata": {},
   "source": [
    "The tasks in this notebook can be addressed using the techniques discussed in parts 2-5 of the module materials, and the associated notebooks."
   ]
  },
  {
   "cell_type": "markdown",
   "metadata": {},
   "source": [
    "The question has four parts, looking at different parts of the data analysis pipeline. "
   ]
  },
  {
   "cell_type": "markdown",
   "metadata": {},
   "source": [
    "Record all your activity and observations in this notebook. Generate additional notebook cells as required."
   ]
  },
  {
   "cell_type": "code",
   "execution_count": 1,
   "metadata": {
    "collapsed": true
   },
   "outputs": [],
   "source": [
    "# Load the necessary libraries here:\n",
    "import pandas as pd\n",
    "import numpy as np\n",
    "\n",
    "import matplotlib.pyplot as plt\n",
    "\n",
    "import seaborn as sn\n",
    "\n",
    "# If you require additional libraries to answer any questions \n",
    "# then import them as necessary."
   ]
  },
  {
   "cell_type": "markdown",
   "metadata": {},
   "source": [
    "<font color='red'>AW: I tend to import seaborn by default, as it makes the graphs a bit prettier. I think this is suggested somewhere to the students, but if not, it doesn't matter.</font> "
   ]
  },
  {
   "cell_type": "markdown",
   "metadata": {},
   "source": [
    "## <a name=\"contents\"></a> Contents\n",
    "* [Importing and cleaning the data](#import) (15 marks)\n",
    "* [Visualising billionaires by country](#country) (10 marks)\n",
    "* [Total billionaires' wealth by category](#category) (15 marks)\n"
   ]
  },
  {
   "cell_type": "markdown",
   "metadata": {},
   "source": [
    "## <a name=\"import\"></a> Importing and cleaning the data (11 marks)\n",
    "([Contents](#contents))\n",
    "\n"
   ]
  },
  {
   "cell_type": "markdown",
   "metadata": {},
   "source": [
    "In this part of the question you will load and prepare the data file, making some adjustments for missing data in the original file."
   ]
  },
  {
   "cell_type": "markdown",
   "metadata": {},
   "source": [
    "\n",
    "\n",
    "Read the csv file <code>billionaires.csv</code> in the directory <code>datasets</code> into a dataframe called <code>billionaires_df</code> and display the first 5 rows. *(1 mark)*"
   ]
  },
  {
   "cell_type": "markdown",
   "metadata": {},
   "source": [
    "**1.** First, load the data, and place it in a dataframe named <code>billionaires_df</code>. *(1 mark)*"
   ]
  },
  {
   "cell_type": "code",
   "execution_count": 2,
   "metadata": {},
   "outputs": [
    {
     "data": {
      "text/html": [
       "<div>\n",
       "<style>\n",
       "    .dataframe thead tr:only-child th {\n",
       "        text-align: right;\n",
       "    }\n",
       "\n",
       "    .dataframe thead th {\n",
       "        text-align: left;\n",
       "    }\n",
       "\n",
       "    .dataframe tbody tr th {\n",
       "        vertical-align: top;\n",
       "    }\n",
       "</style>\n",
       "<table border=\"1\" class=\"dataframe\">\n",
       "  <thead>\n",
       "    <tr style=\"text-align: right;\">\n",
       "      <th></th>\n",
       "      <th>age</th>\n",
       "      <th>category</th>\n",
       "      <th>citizenship</th>\n",
       "      <th>company.name</th>\n",
       "      <th>company.type</th>\n",
       "      <th>country code</th>\n",
       "      <th>founded</th>\n",
       "      <th>from emerging</th>\n",
       "      <th>gdp</th>\n",
       "      <th>gender</th>\n",
       "      <th>...</th>\n",
       "      <th>name</th>\n",
       "      <th>rank</th>\n",
       "      <th>region</th>\n",
       "      <th>relationship</th>\n",
       "      <th>sector</th>\n",
       "      <th>was founder</th>\n",
       "      <th>was political</th>\n",
       "      <th>wealth.type</th>\n",
       "      <th>worth in billions</th>\n",
       "      <th>year</th>\n",
       "    </tr>\n",
       "  </thead>\n",
       "  <tbody>\n",
       "    <tr>\n",
       "      <th>0</th>\n",
       "      <td>-1</td>\n",
       "      <td>Financial</td>\n",
       "      <td>Saudi Arabia</td>\n",
       "      <td>Rolaco Trading and Contracting Company</td>\n",
       "      <td>new</td>\n",
       "      <td>SAU</td>\n",
       "      <td>1968</td>\n",
       "      <td>True</td>\n",
       "      <td>1.580000e+11</td>\n",
       "      <td>male</td>\n",
       "      <td>...</td>\n",
       "      <td>Abdul Aziz Al-Sulaiman</td>\n",
       "      <td>404</td>\n",
       "      <td>Middle East/North Africa</td>\n",
       "      <td>founder</td>\n",
       "      <td>construction</td>\n",
       "      <td>True</td>\n",
       "      <td>False</td>\n",
       "      <td>self-made finance</td>\n",
       "      <td>1.0</td>\n",
       "      <td>1996</td>\n",
       "    </tr>\n",
       "    <tr>\n",
       "      <th>1</th>\n",
       "      <td>34</td>\n",
       "      <td>Financial</td>\n",
       "      <td>United States</td>\n",
       "      <td>Fidelity Investments</td>\n",
       "      <td>new</td>\n",
       "      <td>USA</td>\n",
       "      <td>1946</td>\n",
       "      <td>True</td>\n",
       "      <td>8.100000e+12</td>\n",
       "      <td>female</td>\n",
       "      <td>...</td>\n",
       "      <td>Abigail Johnson</td>\n",
       "      <td>145</td>\n",
       "      <td>North America</td>\n",
       "      <td>relation</td>\n",
       "      <td>investment banking</td>\n",
       "      <td>True</td>\n",
       "      <td>False</td>\n",
       "      <td>inherited</td>\n",
       "      <td>2.5</td>\n",
       "      <td>1996</td>\n",
       "    </tr>\n",
       "    <tr>\n",
       "      <th>2</th>\n",
       "      <td>59</td>\n",
       "      <td>Non-Traded Sectors</td>\n",
       "      <td>Brazil</td>\n",
       "      <td>Companhia Brasileira de Distribui?ao</td>\n",
       "      <td>new</td>\n",
       "      <td>BRA</td>\n",
       "      <td>1948</td>\n",
       "      <td>True</td>\n",
       "      <td>8.540000e+11</td>\n",
       "      <td>male</td>\n",
       "      <td>...</td>\n",
       "      <td>Abilio dos Santos Diniz</td>\n",
       "      <td>322</td>\n",
       "      <td>Latin America</td>\n",
       "      <td>relation</td>\n",
       "      <td>retail</td>\n",
       "      <td>True</td>\n",
       "      <td>False</td>\n",
       "      <td>inherited</td>\n",
       "      <td>1.2</td>\n",
       "      <td>1996</td>\n",
       "    </tr>\n",
       "    <tr>\n",
       "      <th>3</th>\n",
       "      <td>61</td>\n",
       "      <td>New Sectors</td>\n",
       "      <td>Germany</td>\n",
       "      <td>Ratiopharm</td>\n",
       "      <td>new</td>\n",
       "      <td>DEU</td>\n",
       "      <td>1881</td>\n",
       "      <td>True</td>\n",
       "      <td>2.500000e+12</td>\n",
       "      <td>male</td>\n",
       "      <td>...</td>\n",
       "      <td>Adolf Merckle</td>\n",
       "      <td>388</td>\n",
       "      <td>Europe</td>\n",
       "      <td>relation</td>\n",
       "      <td>pharmaceuticals</td>\n",
       "      <td>True</td>\n",
       "      <td>False</td>\n",
       "      <td>inherited</td>\n",
       "      <td>1.0</td>\n",
       "      <td>1996</td>\n",
       "    </tr>\n",
       "    <tr>\n",
       "      <th>4</th>\n",
       "      <td>-1</td>\n",
       "      <td>Financial</td>\n",
       "      <td>Hong Kong</td>\n",
       "      <td>Swire</td>\n",
       "      <td>new</td>\n",
       "      <td>HKG</td>\n",
       "      <td>1816</td>\n",
       "      <td>True</td>\n",
       "      <td>1.600000e+11</td>\n",
       "      <td>male</td>\n",
       "      <td>...</td>\n",
       "      <td>Adrian and John Swire</td>\n",
       "      <td>162</td>\n",
       "      <td>East Asia</td>\n",
       "      <td>relation</td>\n",
       "      <td>trading company</td>\n",
       "      <td>True</td>\n",
       "      <td>False</td>\n",
       "      <td>inherited</td>\n",
       "      <td>2.2</td>\n",
       "      <td>1996</td>\n",
       "    </tr>\n",
       "  </tbody>\n",
       "</table>\n",
       "<p>5 rows × 22 columns</p>\n",
       "</div>"
      ],
      "text/plain": [
       "   age            category    citizenship  \\\n",
       "0   -1           Financial   Saudi Arabia   \n",
       "1   34           Financial  United States   \n",
       "2   59  Non-Traded Sectors         Brazil   \n",
       "3   61         New Sectors        Germany   \n",
       "4   -1           Financial      Hong Kong   \n",
       "\n",
       "                             company.name company.type country code  founded  \\\n",
       "0  Rolaco Trading and Contracting Company          new          SAU     1968   \n",
       "1                    Fidelity Investments          new          USA     1946   \n",
       "2    Companhia Brasileira de Distribui?ao          new          BRA     1948   \n",
       "3                              Ratiopharm          new          DEU     1881   \n",
       "4                                   Swire          new          HKG     1816   \n",
       "\n",
       "   from emerging           gdp  gender  ...                      name  rank  \\\n",
       "0           True  1.580000e+11    male  ...    Abdul Aziz Al-Sulaiman   404   \n",
       "1           True  8.100000e+12  female  ...           Abigail Johnson   145   \n",
       "2           True  8.540000e+11    male  ...   Abilio dos Santos Diniz   322   \n",
       "3           True  2.500000e+12    male  ...             Adolf Merckle   388   \n",
       "4           True  1.600000e+11    male  ...     Adrian and John Swire   162   \n",
       "\n",
       "                     region  relationship              sector was founder  \\\n",
       "0  Middle East/North Africa       founder        construction        True   \n",
       "1             North America      relation  investment banking        True   \n",
       "2             Latin America      relation              retail        True   \n",
       "3                    Europe      relation     pharmaceuticals        True   \n",
       "4                 East Asia      relation     trading company        True   \n",
       "\n",
       "  was political        wealth.type  worth in billions  year  \n",
       "0         False  self-made finance                1.0  1996  \n",
       "1         False          inherited                2.5  1996  \n",
       "2         False          inherited                1.2  1996  \n",
       "3         False          inherited                1.0  1996  \n",
       "4         False          inherited                2.2  1996  \n",
       "\n",
       "[5 rows x 22 columns]"
      ]
     },
     "execution_count": 2,
     "metadata": {},
     "output_type": "execute_result"
    }
   ],
   "source": [
    "# Enter your code here\n",
    "\n",
    "# Notebook 02.2.2\n",
    "billionaires_df=pd.read_csv('datasets/billionaires.csv')\n",
    "billionaires_df.head(n=5)\n",
    "\n",
    "# AW: I've put n=5 as the argument to head() for \n",
    "# completeness, but n defaults to 5 so it doesn't need\n",
    "# to be explicit."
   ]
  },
  {
   "cell_type": "markdown",
   "metadata": {},
   "source": [
    "**2.** In the dataset there is a column whose name is <code>company.type</code>. In this column in the csv file, there are several missing values. How many values are missing? *(2 marks)*"
   ]
  },
  {
   "cell_type": "code",
   "execution_count": 3,
   "metadata": {},
   "outputs": [
    {
     "data": {
      "text/plain": [
       "36"
      ]
     },
     "execution_count": 3,
     "metadata": {},
     "output_type": "execute_result"
    }
   ],
   "source": [
    "# Enter your code here\n",
    "\n",
    "# Notebooks 03.2 and 03.4\n",
    "# We can select the rows for which company.type is null using the isnull() method\n",
    "# on the company.type series, and using that as a selector:\n",
    "billionaires_df[billionaires_df['company.type'].isnull()]\n",
    "\n",
    "# Then use the standard len function to get the answer:\n",
    "len(billionaires_df[billionaires_df['company.type'].isnull()])"
   ]
  },
  {
   "cell_type": "code",
   "execution_count": 4,
   "metadata": {},
   "outputs": [
    {
     "data": {
      "text/plain": [
       "36"
      ]
     },
     "execution_count": 4,
     "metadata": {},
     "output_type": "execute_result"
    }
   ],
   "source": [
    "# An alternative is to write a loop:\n",
    "i=0\n",
    "for tv in billionaires_df['company.type'].isnull():\n",
    "    if tv:\n",
    "        i+=1\n",
    "i"
   ]
  },
  {
   "cell_type": "markdown",
   "metadata": {},
   "source": [
    "**3.** Update your dataframe <code>billionaires_df</code> so that the missing values in the <code>company.type</code> column are replaced with the string \"unknown\". Then display 5 rows for which the value of <code>company.type</code> is \"unknown\". *(4 marks)*"
   ]
  },
  {
   "cell_type": "code",
   "execution_count": 5,
   "metadata": {},
   "outputs": [
    {
     "data": {
      "text/html": [
       "<div>\n",
       "<style>\n",
       "    .dataframe thead tr:only-child th {\n",
       "        text-align: right;\n",
       "    }\n",
       "\n",
       "    .dataframe thead th {\n",
       "        text-align: left;\n",
       "    }\n",
       "\n",
       "    .dataframe tbody tr th {\n",
       "        vertical-align: top;\n",
       "    }\n",
       "</style>\n",
       "<table border=\"1\" class=\"dataframe\">\n",
       "  <thead>\n",
       "    <tr style=\"text-align: right;\">\n",
       "      <th></th>\n",
       "      <th>age</th>\n",
       "      <th>category</th>\n",
       "      <th>citizenship</th>\n",
       "      <th>company.name</th>\n",
       "      <th>company.type</th>\n",
       "      <th>country code</th>\n",
       "      <th>founded</th>\n",
       "      <th>from emerging</th>\n",
       "      <th>gdp</th>\n",
       "      <th>gender</th>\n",
       "      <th>...</th>\n",
       "      <th>name</th>\n",
       "      <th>rank</th>\n",
       "      <th>region</th>\n",
       "      <th>relationship</th>\n",
       "      <th>sector</th>\n",
       "      <th>was founder</th>\n",
       "      <th>was political</th>\n",
       "      <th>wealth.type</th>\n",
       "      <th>worth in billions</th>\n",
       "      <th>year</th>\n",
       "    </tr>\n",
       "  </thead>\n",
       "  <tbody>\n",
       "    <tr>\n",
       "      <th>31</th>\n",
       "      <td>-1</td>\n",
       "      <td>Traded Sectors</td>\n",
       "      <td>Mexico</td>\n",
       "      <td>NaN</td>\n",
       "      <td>unknown</td>\n",
       "      <td>MEX</td>\n",
       "      <td>0</td>\n",
       "      <td>True</td>\n",
       "      <td>3.970000e+11</td>\n",
       "      <td>NaN</td>\n",
       "      <td>...</td>\n",
       "      <td>Autrey family</td>\n",
       "      <td>400</td>\n",
       "      <td>Latin America</td>\n",
       "      <td>NaN</td>\n",
       "      <td>NaN</td>\n",
       "      <td>True</td>\n",
       "      <td>False</td>\n",
       "      <td>NaN</td>\n",
       "      <td>1.0</td>\n",
       "      <td>1996</td>\n",
       "    </tr>\n",
       "    <tr>\n",
       "      <th>44</th>\n",
       "      <td>-1</td>\n",
       "      <td>Financial</td>\n",
       "      <td>Thailand</td>\n",
       "      <td>NaN</td>\n",
       "      <td>unknown</td>\n",
       "      <td>THA</td>\n",
       "      <td>0</td>\n",
       "      <td>True</td>\n",
       "      <td>1.820000e+11</td>\n",
       "      <td>male</td>\n",
       "      <td>...</td>\n",
       "      <td>Boonsong Asavabhokhin</td>\n",
       "      <td>408</td>\n",
       "      <td>East Asia</td>\n",
       "      <td>NaN</td>\n",
       "      <td>NaN</td>\n",
       "      <td>True</td>\n",
       "      <td>False</td>\n",
       "      <td>NaN</td>\n",
       "      <td>1.0</td>\n",
       "      <td>1996</td>\n",
       "    </tr>\n",
       "    <tr>\n",
       "      <th>64</th>\n",
       "      <td>-1</td>\n",
       "      <td>Non-Traded Sectors</td>\n",
       "      <td>Germany</td>\n",
       "      <td>Sirosa</td>\n",
       "      <td>unknown</td>\n",
       "      <td>DEU</td>\n",
       "      <td>0</td>\n",
       "      <td>True</td>\n",
       "      <td>2.500000e+12</td>\n",
       "      <td>NaN</td>\n",
       "      <td>...</td>\n",
       "      <td>Conle famle</td>\n",
       "      <td>328</td>\n",
       "      <td>Europe</td>\n",
       "      <td>NaN</td>\n",
       "      <td>real estate</td>\n",
       "      <td>True</td>\n",
       "      <td>False</td>\n",
       "      <td>NaN</td>\n",
       "      <td>1.2</td>\n",
       "      <td>1996</td>\n",
       "    </tr>\n",
       "    <tr>\n",
       "      <th>93</th>\n",
       "      <td>53</td>\n",
       "      <td>Financial</td>\n",
       "      <td>Japan</td>\n",
       "      <td>NaN</td>\n",
       "      <td>unknown</td>\n",
       "      <td>JPN</td>\n",
       "      <td>0</td>\n",
       "      <td>True</td>\n",
       "      <td>4.710000e+12</td>\n",
       "      <td>male</td>\n",
       "      <td>...</td>\n",
       "      <td>Eitaro Itoyama</td>\n",
       "      <td>155</td>\n",
       "      <td>East Asia</td>\n",
       "      <td>NaN</td>\n",
       "      <td>golf courses</td>\n",
       "      <td>True</td>\n",
       "      <td>False</td>\n",
       "      <td>self-made finance</td>\n",
       "      <td>2.3</td>\n",
       "      <td>1996</td>\n",
       "    </tr>\n",
       "    <tr>\n",
       "      <th>115</th>\n",
       "      <td>-1</td>\n",
       "      <td>Non-Traded Sectors</td>\n",
       "      <td>Germany</td>\n",
       "      <td>NaN</td>\n",
       "      <td>unknown</td>\n",
       "      <td>DEU</td>\n",
       "      <td>0</td>\n",
       "      <td>True</td>\n",
       "      <td>2.500000e+12</td>\n",
       "      <td>NaN</td>\n",
       "      <td>...</td>\n",
       "      <td>Funke family</td>\n",
       "      <td>174</td>\n",
       "      <td>Europe</td>\n",
       "      <td>NaN</td>\n",
       "      <td>NaN</td>\n",
       "      <td>True</td>\n",
       "      <td>False</td>\n",
       "      <td>NaN</td>\n",
       "      <td>2.1</td>\n",
       "      <td>1996</td>\n",
       "    </tr>\n",
       "  </tbody>\n",
       "</table>\n",
       "<p>5 rows × 22 columns</p>\n",
       "</div>"
      ],
      "text/plain": [
       "     age            category citizenship company.name company.type  \\\n",
       "31    -1      Traded Sectors      Mexico          NaN      unknown   \n",
       "44    -1           Financial    Thailand          NaN      unknown   \n",
       "64    -1  Non-Traded Sectors     Germany       Sirosa      unknown   \n",
       "93    53           Financial       Japan          NaN      unknown   \n",
       "115   -1  Non-Traded Sectors     Germany          NaN      unknown   \n",
       "\n",
       "    country code  founded  from emerging           gdp gender  ...   \\\n",
       "31           MEX        0           True  3.970000e+11    NaN  ...    \n",
       "44           THA        0           True  1.820000e+11   male  ...    \n",
       "64           DEU        0           True  2.500000e+12    NaN  ...    \n",
       "93           JPN        0           True  4.710000e+12   male  ...    \n",
       "115          DEU        0           True  2.500000e+12    NaN  ...    \n",
       "\n",
       "                      name  rank         region  relationship        sector  \\\n",
       "31           Autrey family   400  Latin America           NaN           NaN   \n",
       "44   Boonsong Asavabhokhin   408      East Asia           NaN           NaN   \n",
       "64             Conle famle   328         Europe           NaN   real estate   \n",
       "93          Eitaro Itoyama   155      East Asia           NaN  golf courses   \n",
       "115           Funke family   174         Europe           NaN           NaN   \n",
       "\n",
       "    was founder was political        wealth.type  worth in billions  year  \n",
       "31         True         False                NaN                1.0  1996  \n",
       "44         True         False                NaN                1.0  1996  \n",
       "64         True         False                NaN                1.2  1996  \n",
       "93         True         False  self-made finance                2.3  1996  \n",
       "115        True         False                NaN                2.1  1996  \n",
       "\n",
       "[5 rows x 22 columns]"
      ]
     },
     "execution_count": 5,
     "metadata": {},
     "output_type": "execute_result"
    }
   ],
   "source": [
    "# Enter your code here\n",
    "\n",
    "# Notebooks 03.2 and 03.4\n",
    "billionaires_df['company.type'].fillna('unknown', inplace=True)\n",
    "billionaires_df[billionaires_df['company.type']=='unknown'].head(n=5)"
   ]
  },
  {
   "cell_type": "markdown",
   "metadata": {},
   "source": [
    "**4.** There are some typos in the \"company type\" column: \"new\" has sometimes been entered with unwanted whitespace (\" new\", \"new \"), and has sometimes been incorrectly entered as \"neew\". Correct each of these so they all contain the string \"new\". *(3 marks)*"
   ]
  },
  {
   "cell_type": "code",
   "execution_count": 6,
   "metadata": {
    "collapsed": true
   },
   "outputs": [],
   "source": [
    "# Enter your code here\n",
    "\n",
    "# Notebook 03.1\n",
    "billionaires_df['company.type']=billionaires_df['company.type'].str.strip()\n",
    "billionaires_df['company.type']=billionaires_df['company.type'].str.replace('neew', 'new')\n",
    "\n",
    "# Don't penalise students who also use \"...str.replace(' new', 'new'):\n",
    "# both methods are acceptable, but I think it's easier to start with \n",
    "# the one at the top of the notebook\n"
   ]
  },
  {
   "cell_type": "markdown",
   "metadata": {},
   "source": [
    "**5.** Finally, we would like to fill in the missing data in the \"gender\" column. However, the fill result is to be different depending on whether the billionaire is an individual or a family. The two cases are:\n",
    "\n",
    "- If the row's value in the \"gender\" column is undefined, and the value in the \"name\" column contains the word \"family\" (such as \"Autrey Family\" in row 31), then the \"gender\" column should be updated to contain the string \"family\".\n",
    "\n",
    "- If the row's value in the \"gender\" column is undefined, and the value in the \"name\" column does not contain the word \"family\", then the \"gender\" column should be updated to contain the string \"other\".\n",
    "\n",
    "*(5 marks)*\n"
   ]
  },
  {
   "cell_type": "markdown",
   "metadata": {},
   "source": [
    "<font color='red'>Note that \"family\" appears both in upper case and in lower case in the \"name\" column. Students should identify this for themselves when examining the data. Give a maximum of 4 marks to students who miss either set of strings.</font>"
   ]
  },
  {
   "cell_type": "raw",
   "metadata": {},
   "source": [
    "# Enter your code here\n",
    "\n",
    "# Notebooks 03.1, 03.4 and 04.6\n",
    "\n",
    "# There are two ways of doing this: the pythonic way (using a\n",
    "# pd.Series of replacement values):\n",
    "\n",
    "replacements_ss=billionaires_df['name'].str.extract('([Ff]amily)', expand=False).fillna('other')\n",
    "\n",
    "billionaires_df['gender']=billionaires_df['gender'].fillna(replacements_ss.str.lower())\n",
    "\n",
    "# A couple of illustrative results (not asked for in the question):\n",
    "billionaires_df.loc[[31, 291, 365]].T"
   ]
  },
  {
   "cell_type": "code",
   "execution_count": 7,
   "metadata": {},
   "outputs": [
    {
     "name": "stderr",
     "output_type": "stream",
     "text": [
      "/usr/local/lib/python3.5/dist-packages/ipykernel_launcher.py:10: SettingWithCopyWarning: \n",
      "A value is trying to be set on a copy of a slice from a DataFrame\n",
      "\n",
      "See the caveats in the documentation: http://pandas.pydata.org/pandas-docs/stable/indexing.html#indexing-view-versus-copy\n",
      "  # Remove the CWD from sys.path while we load stuff.\n"
     ]
    },
    {
     "data": {
      "text/html": [
       "<div>\n",
       "<style>\n",
       "    .dataframe thead tr:only-child th {\n",
       "        text-align: right;\n",
       "    }\n",
       "\n",
       "    .dataframe thead th {\n",
       "        text-align: left;\n",
       "    }\n",
       "\n",
       "    .dataframe tbody tr th {\n",
       "        vertical-align: top;\n",
       "    }\n",
       "</style>\n",
       "<table border=\"1\" class=\"dataframe\">\n",
       "  <thead>\n",
       "    <tr style=\"text-align: right;\">\n",
       "      <th></th>\n",
       "      <th>31</th>\n",
       "      <th>291</th>\n",
       "      <th>365</th>\n",
       "    </tr>\n",
       "  </thead>\n",
       "  <tbody>\n",
       "    <tr>\n",
       "      <th>age</th>\n",
       "      <td>-1</td>\n",
       "      <td>-1</td>\n",
       "      <td>-1</td>\n",
       "    </tr>\n",
       "    <tr>\n",
       "      <th>category</th>\n",
       "      <td>Traded Sectors</td>\n",
       "      <td>Financial</td>\n",
       "      <td>Traded Sectors</td>\n",
       "    </tr>\n",
       "    <tr>\n",
       "      <th>citizenship</th>\n",
       "      <td>Mexico</td>\n",
       "      <td>Japan</td>\n",
       "      <td>South Korea</td>\n",
       "    </tr>\n",
       "    <tr>\n",
       "      <th>company.name</th>\n",
       "      <td>NaN</td>\n",
       "      <td>NaN</td>\n",
       "      <td>NaN</td>\n",
       "    </tr>\n",
       "    <tr>\n",
       "      <th>company.type</th>\n",
       "      <td>unknown</td>\n",
       "      <td>unknown</td>\n",
       "      <td>unknown</td>\n",
       "    </tr>\n",
       "    <tr>\n",
       "      <th>country code</th>\n",
       "      <td>MEX</td>\n",
       "      <td>JPN</td>\n",
       "      <td>KOR</td>\n",
       "    </tr>\n",
       "    <tr>\n",
       "      <th>founded</th>\n",
       "      <td>0</td>\n",
       "      <td>0</td>\n",
       "      <td>0</td>\n",
       "    </tr>\n",
       "    <tr>\n",
       "      <th>from emerging</th>\n",
       "      <td>True</td>\n",
       "      <td>True</td>\n",
       "      <td>True</td>\n",
       "    </tr>\n",
       "    <tr>\n",
       "      <th>gdp</th>\n",
       "      <td>3.97e+11</td>\n",
       "      <td>4.71e+12</td>\n",
       "      <td>6.03e+11</td>\n",
       "    </tr>\n",
       "    <tr>\n",
       "      <th>gender</th>\n",
       "      <td>family</td>\n",
       "      <td>family</td>\n",
       "      <td>other</td>\n",
       "    </tr>\n",
       "    <tr>\n",
       "      <th>industry</th>\n",
       "      <td>Non-consumer industrial</td>\n",
       "      <td>Real Estate</td>\n",
       "      <td>Consumer</td>\n",
       "    </tr>\n",
       "    <tr>\n",
       "      <th>inherited</th>\n",
       "      <td>True</td>\n",
       "      <td>True</td>\n",
       "      <td>True</td>\n",
       "    </tr>\n",
       "    <tr>\n",
       "      <th>name</th>\n",
       "      <td>Autrey family</td>\n",
       "      <td>Otani Family</td>\n",
       "      <td>Shin Kyuk-Ho</td>\n",
       "    </tr>\n",
       "    <tr>\n",
       "      <th>rank</th>\n",
       "      <td>400</td>\n",
       "      <td>394</td>\n",
       "      <td>69</td>\n",
       "    </tr>\n",
       "    <tr>\n",
       "      <th>region</th>\n",
       "      <td>Latin America</td>\n",
       "      <td>East Asia</td>\n",
       "      <td>East Asia</td>\n",
       "    </tr>\n",
       "    <tr>\n",
       "      <th>relationship</th>\n",
       "      <td>NaN</td>\n",
       "      <td>NaN</td>\n",
       "      <td>NaN</td>\n",
       "    </tr>\n",
       "    <tr>\n",
       "      <th>sector</th>\n",
       "      <td>NaN</td>\n",
       "      <td>NaN</td>\n",
       "      <td>NaN</td>\n",
       "    </tr>\n",
       "    <tr>\n",
       "      <th>was founder</th>\n",
       "      <td>True</td>\n",
       "      <td>True</td>\n",
       "      <td>True</td>\n",
       "    </tr>\n",
       "    <tr>\n",
       "      <th>was political</th>\n",
       "      <td>False</td>\n",
       "      <td>False</td>\n",
       "      <td>False</td>\n",
       "    </tr>\n",
       "    <tr>\n",
       "      <th>wealth.type</th>\n",
       "      <td>NaN</td>\n",
       "      <td>NaN</td>\n",
       "      <td>NaN</td>\n",
       "    </tr>\n",
       "    <tr>\n",
       "      <th>worth in billions</th>\n",
       "      <td>1</td>\n",
       "      <td>1</td>\n",
       "      <td>3.6</td>\n",
       "    </tr>\n",
       "    <tr>\n",
       "      <th>year</th>\n",
       "      <td>1996</td>\n",
       "      <td>1996</td>\n",
       "      <td>1996</td>\n",
       "    </tr>\n",
       "  </tbody>\n",
       "</table>\n",
       "</div>"
      ],
      "text/plain": [
       "                                       31            291             365\n",
       "age                                     -1            -1              -1\n",
       "category                    Traded Sectors     Financial  Traded Sectors\n",
       "citizenship                         Mexico         Japan     South Korea\n",
       "company.name                           NaN           NaN             NaN\n",
       "company.type                       unknown       unknown         unknown\n",
       "country code                           MEX           JPN             KOR\n",
       "founded                                  0             0               0\n",
       "from emerging                         True          True            True\n",
       "gdp                               3.97e+11      4.71e+12        6.03e+11\n",
       "gender                              family        family           other\n",
       "industry           Non-consumer industrial   Real Estate        Consumer\n",
       "inherited                             True          True            True\n",
       "name                         Autrey family  Otani Family    Shin Kyuk-Ho\n",
       "rank                                   400           394              69\n",
       "region                       Latin America     East Asia       East Asia\n",
       "relationship                           NaN           NaN             NaN\n",
       "sector                                 NaN           NaN             NaN\n",
       "was founder                           True          True            True\n",
       "was political                        False         False           False\n",
       "wealth.type                            NaN           NaN             NaN\n",
       "worth in billions                        1             1             3.6\n",
       "year                                  1996          1996            1996"
      ]
     },
     "execution_count": 7,
     "metadata": {},
     "output_type": "execute_result"
    }
   ],
   "source": [
    "# However, students who are not seasoned python or R users\n",
    "# will almost certainly not get this solution. I would\n",
    "# expect most students to propose a solution using a loop:\n",
    "\n",
    "# Notebook 02.1\n",
    "for i in billionaires_df.index:\n",
    "    if (pd.isnull(billionaires_df['gender'][i]) and \n",
    "        'family' in billionaires_df['name'][i].lower()):\n",
    "        billionaires_df['gender'][i]='family'\n",
    "        \n",
    "billionaires_df['gender'].fillna('other', inplace=True)\n",
    "\n",
    "# A couple of illustrative results (not asked for in the question):\n",
    "billionaires_df.loc[[31, 291, 365]].T\n",
    "\n",
    "# This is not pythonic, but is how I'd expect someone without any\n",
    "# experience of functional programming to address the task. Also,\n",
    "# this version throws a warning; I'm not sure why.\n",
    "\n",
    "# This can be treated as a teaching point to show that it is\n",
    "# *possible* in pandas, but in practice you'd probably use Open\n",
    "# Refine at this stage in the analysis."
   ]
  },
  {
   "cell_type": "markdown",
   "metadata": {},
   "source": [
    "## <a name=\"country\"></a> Visualising billionaires by country (10 marks)\n",
    "([Contents](#contents))\n",
    "\n"
   ]
  },
  {
   "cell_type": "markdown",
   "metadata": {},
   "source": [
    "For this section, you will create a bar chart showing the number of billionaires with citizenship in each country. Your response to this section does not depend on any changes you may have made in the previous parts of this notebook: your answers here can use your original version of <code>billionaires_df</code> or the version with the missing data filled in."
   ]
  },
  {
   "cell_type": "markdown",
   "metadata": {},
   "source": [
    "If you examine the \"year\" column of the csv file, you will see that the data in the file is collected for the years 1996, 2001 and 2014."
   ]
  },
  {
   "cell_type": "markdown",
   "metadata": {},
   "source": [
    "** 6. ** You are required to plot a bar chart with the name of each country on the X axis, taken from the \"citizenship\" column, and on the Y axis, the number of billionaires with citizenship from that country. Your graph should contain *only* the 2014 data. Your graph should also have an appropriate title and axis labels."
   ]
  },
  {
   "cell_type": "markdown",
   "metadata": {},
   "source": [
    "**Hint**: You may find it useful to start by creating a dataframe containing just the data needed for the plot."
   ]
  },
  {
   "cell_type": "markdown",
   "metadata": {},
   "source": [
    "*5 marks*"
   ]
  },
  {
   "cell_type": "code",
   "execution_count": 8,
   "metadata": {},
   "outputs": [
    {
     "data": {
      "text/html": [
       "<div>\n",
       "<style>\n",
       "    .dataframe thead tr:only-child th {\n",
       "        text-align: right;\n",
       "    }\n",
       "\n",
       "    .dataframe thead th {\n",
       "        text-align: left;\n",
       "    }\n",
       "\n",
       "    .dataframe tbody tr th {\n",
       "        vertical-align: top;\n",
       "    }\n",
       "</style>\n",
       "<table border=\"1\" class=\"dataframe\">\n",
       "  <thead>\n",
       "    <tr style=\"text-align: right;\">\n",
       "      <th>year</th>\n",
       "      <th>1996</th>\n",
       "      <th>2001</th>\n",
       "      <th>2014</th>\n",
       "    </tr>\n",
       "    <tr>\n",
       "      <th>citizenship</th>\n",
       "      <th></th>\n",
       "      <th></th>\n",
       "      <th></th>\n",
       "    </tr>\n",
       "  </thead>\n",
       "  <tbody>\n",
       "    <tr>\n",
       "      <th>Algeria</th>\n",
       "      <td>0</td>\n",
       "      <td>0</td>\n",
       "      <td>1</td>\n",
       "    </tr>\n",
       "    <tr>\n",
       "      <th>Angola</th>\n",
       "      <td>0</td>\n",
       "      <td>0</td>\n",
       "      <td>1</td>\n",
       "    </tr>\n",
       "    <tr>\n",
       "      <th>Argentina</th>\n",
       "      <td>3</td>\n",
       "      <td>4</td>\n",
       "      <td>5</td>\n",
       "    </tr>\n",
       "    <tr>\n",
       "      <th>Australia</th>\n",
       "      <td>1</td>\n",
       "      <td>3</td>\n",
       "      <td>29</td>\n",
       "    </tr>\n",
       "    <tr>\n",
       "      <th>Austria</th>\n",
       "      <td>0</td>\n",
       "      <td>0</td>\n",
       "      <td>10</td>\n",
       "    </tr>\n",
       "  </tbody>\n",
       "</table>\n",
       "</div>"
      ],
      "text/plain": [
       "year         1996  2001  2014\n",
       "citizenship                  \n",
       "Algeria         0     0     1\n",
       "Angola          0     0     1\n",
       "Argentina       3     4     5\n",
       "Australia       1     3    29\n",
       "Austria         0     0    10"
      ]
     },
     "execution_count": 8,
     "metadata": {},
     "output_type": "execute_result"
    }
   ],
   "source": [
    "# Enter your code here\n",
    "\n",
    "# Students will need to recognise that they need to group the\n",
    "# data in some way to get into the right form for plotting.\n",
    "# There are different ways of doing this, including pivot\n",
    "# tables, crosstabs or groupby. Let's use crosstabs here:\n",
    "\n",
    "# Notebook 04.1 and 04.3\n",
    "\n",
    "dataToPlot_df=pd.crosstab(billionaires_df['citizenship'],\n",
    "                          billionaires_df['year'])\n",
    "\n",
    "# (The students are not specifically asked for this intermediate dataframe,\n",
    "# but it's what the hint suggests)\n",
    "dataToPlot_df.head()"
   ]
  },
  {
   "cell_type": "code",
   "execution_count": 9,
   "metadata": {},
   "outputs": [
    {
     "data": {
      "text/plain": [
       "<matplotlib.axes._subplots.AxesSubplot at 0x7fa7ee901a58>"
      ]
     },
     "execution_count": 9,
     "metadata": {},
     "output_type": "execute_result"
    },
    {
     "data": {
      "image/png": "[encoded data removed]",
      "text/plain": [
       "<matplotlib.figure.Figure at 0x7fa7ffc8a668>"
      ]
     },
     "metadata": {},
     "output_type": "display_data"
    }
   ],
   "source": [
    "# Now that we've got the data, do a bar chart for 2014:\n",
    "\n",
    "dataToPlot_df[2014].plot.bar(title=\"Number of billionaires by citizenship in 2014\")\n"
   ]
  },
  {
   "cell_type": "markdown",
   "metadata": {
    "collapsed": true
   },
   "source": [
    "**7.** Your graph probably looks very cluttered. You should now plot the same graph, but only including those countries which have *more than 20* citizens who are billionaires. *(5 marks)*"
   ]
  },
  {
   "cell_type": "code",
   "execution_count": 10,
   "metadata": {},
   "outputs": [
    {
     "data": {
      "text/plain": [
       "<matplotlib.axes._subplots.AxesSubplot at 0x7fa7eebc62b0>"
      ]
     },
     "execution_count": 10,
     "metadata": {},
     "output_type": "execute_result"
    },
    {
     "data": {
      "image/png": "[encoded data removed]",
      "text/plain": [
       "<matplotlib.figure.Figure at 0x7fa7eea36f28>"
      ]
     },
     "metadata": {},
     "output_type": "display_data"
    }
   ],
   "source": [
    "# Enter your code here\n",
    "\n",
    "# In this case, it is probably easiest to create a new dataframe\n",
    "# from the 2014 data in the existing dataToPlot_df dataframe\n",
    "\n",
    "data2014_df=dataToPlot_df[2014]\n",
    "\n",
    "data2014_df[data2014_df>20].plot.bar(title=\"Number of billionaires by citizenship in 2014 (countries with more than 20 billionaires)\")"
   ]
  },
  {
   "cell_type": "markdown",
   "metadata": {},
   "source": [
    "## <a name=\"category\"></a> Total billionaires' wealth by category (15 marks)\n",
    "([Contents](#contents))"
   ]
  },
  {
   "cell_type": "markdown",
   "metadata": {},
   "source": [
    "For this section, you will create a graph showing how the amount of wealth owned by the world's billionaires has changed (or not) depending on the category from which the money is made. Your response to this section does not depend on any changes you may have made in the previous parts of this notebook: your answers here can use your original version of <code>billionaires_df</code> or the version with the missing data filled in."
   ]
  },
  {
   "cell_type": "markdown",
   "metadata": {},
   "source": [
    "**8.** To investigate the categories from which the billionaires' wealth was made, you decide to plot the data in the graph to show the total wealth, the year, and the category. The plot should show:\n",
    "    \n",
    "- The x axis should show years in the range covered by the dataset\n",
    "- The y axis should show the total wealth of the billionaires working in that category. The total wealth should be the sum of the values in the \"worth in billions\" column, and the categories are the values in the \"category\" column.\n",
    "- There should be several line graphs plotted, one for each different category, showing the total wealth of all the billionaires working in that sector in the given year.\n",
    "- Do not include categories which do not appear in each of the years 1996, 2001 and 2014.\n",
    "- The graph should have an appropriate title and legend."
   ]
  },
  {
   "cell_type": "markdown",
   "metadata": {},
   "source": [
    "*(12 marks)*"
   ]
  },
  {
   "cell_type": "markdown",
   "metadata": {},
   "source": [
    "As before, you may find it helpful to define an intermediate dataframe from which to plot the final figure."
   ]
  },
  {
   "cell_type": "markdown",
   "metadata": {},
   "source": [
    "<font color='red'>AW: is this description clear enough? If not, how to change?</font>"
   ]
  },
  {
   "cell_type": "code",
   "execution_count": 11,
   "metadata": {},
   "outputs": [
    {
     "data": {
      "text/html": [
       "<div>\n",
       "<style>\n",
       "    .dataframe thead tr:only-child th {\n",
       "        text-align: right;\n",
       "    }\n",
       "\n",
       "    .dataframe thead th {\n",
       "        text-align: left;\n",
       "    }\n",
       "\n",
       "    .dataframe tbody tr th {\n",
       "        vertical-align: top;\n",
       "    }\n",
       "</style>\n",
       "<table border=\"1\" class=\"dataframe\">\n",
       "  <thead>\n",
       "    <tr style=\"text-align: right;\">\n",
       "      <th>category</th>\n",
       "      <th>0</th>\n",
       "      <th>Finance</th>\n",
       "      <th>Financial</th>\n",
       "      <th>New Sectors</th>\n",
       "      <th>Non-Traded Sectors</th>\n",
       "      <th>Resource Related</th>\n",
       "      <th>Traded Sectors</th>\n",
       "      <th>Trucking</th>\n",
       "      <th>energy</th>\n",
       "    </tr>\n",
       "    <tr>\n",
       "      <th>year</th>\n",
       "      <th></th>\n",
       "      <th></th>\n",
       "      <th></th>\n",
       "      <th></th>\n",
       "      <th></th>\n",
       "      <th></th>\n",
       "      <th></th>\n",
       "      <th></th>\n",
       "      <th></th>\n",
       "    </tr>\n",
       "  </thead>\n",
       "  <tbody>\n",
       "    <tr>\n",
       "      <th>1996</th>\n",
       "      <td>19.9</td>\n",
       "      <td>1.3</td>\n",
       "      <td>354.5</td>\n",
       "      <td>122.9</td>\n",
       "      <td>251.2</td>\n",
       "      <td>53.3</td>\n",
       "      <td>245.2</td>\n",
       "      <td>1.2</td>\n",
       "      <td>NaN</td>\n",
       "    </tr>\n",
       "    <tr>\n",
       "      <th>2001</th>\n",
       "      <td>35.5</td>\n",
       "      <td>NaN</td>\n",
       "      <td>413.1</td>\n",
       "      <td>300.7</td>\n",
       "      <td>512.2</td>\n",
       "      <td>83.3</td>\n",
       "      <td>383.8</td>\n",
       "      <td>NaN</td>\n",
       "      <td>NaN</td>\n",
       "    </tr>\n",
       "    <tr>\n",
       "      <th>2014</th>\n",
       "      <td>145.5</td>\n",
       "      <td>NaN</td>\n",
       "      <td>1821.0</td>\n",
       "      <td>899.9</td>\n",
       "      <td>1486.8</td>\n",
       "      <td>705.4</td>\n",
       "      <td>1388.9</td>\n",
       "      <td>NaN</td>\n",
       "      <td>1.9</td>\n",
       "    </tr>\n",
       "  </tbody>\n",
       "</table>\n",
       "</div>"
      ],
      "text/plain": [
       "category      0  Finance  Financial  New Sectors  Non-Traded Sectors  \\\n",
       "year                                                                   \n",
       "1996       19.9      1.3      354.5        122.9               251.2   \n",
       "2001       35.5      NaN      413.1        300.7               512.2   \n",
       "2014      145.5      NaN     1821.0        899.9              1486.8   \n",
       "\n",
       "category  Resource Related  Traded Sectors  Trucking  energy  \n",
       "year                                                          \n",
       "1996                  53.3           245.2       1.2     NaN  \n",
       "2001                  83.3           383.8       NaN     NaN  \n",
       "2014                 705.4          1388.9       NaN     1.9  "
      ]
     },
     "execution_count": 11,
     "metadata": {},
     "output_type": "execute_result"
    }
   ],
   "source": [
    "# Enter your code here.\n",
    "\n",
    "# notebook 04.1\n",
    "# This question requires a sum rather than a count, so a pivot\n",
    "# table should be used rather than a crosstab.\n",
    "\n",
    "# Start by creating a basic pivot table\n",
    "\n",
    "plot_df=billionaires_df.pivot_table(index=['year'], columns=['category'], aggfunc=np.sum)['worth in billions']\n",
    "plot_df"
   ]
  },
  {
   "cell_type": "code",
   "execution_count": 12,
   "metadata": {},
   "outputs": [
    {
     "data": {
      "text/html": [
       "<div>\n",
       "<style>\n",
       "    .dataframe thead tr:only-child th {\n",
       "        text-align: right;\n",
       "    }\n",
       "\n",
       "    .dataframe thead th {\n",
       "        text-align: left;\n",
       "    }\n",
       "\n",
       "    .dataframe tbody tr th {\n",
       "        vertical-align: top;\n",
       "    }\n",
       "</style>\n",
       "<table border=\"1\" class=\"dataframe\">\n",
       "  <thead>\n",
       "    <tr style=\"text-align: right;\">\n",
       "      <th>category</th>\n",
       "      <th>0</th>\n",
       "      <th>Financial</th>\n",
       "      <th>New Sectors</th>\n",
       "      <th>Non-Traded Sectors</th>\n",
       "      <th>Resource Related</th>\n",
       "      <th>Traded Sectors</th>\n",
       "    </tr>\n",
       "    <tr>\n",
       "      <th>year</th>\n",
       "      <th></th>\n",
       "      <th></th>\n",
       "      <th></th>\n",
       "      <th></th>\n",
       "      <th></th>\n",
       "      <th></th>\n",
       "    </tr>\n",
       "  </thead>\n",
       "  <tbody>\n",
       "    <tr>\n",
       "      <th>1996</th>\n",
       "      <td>19.9</td>\n",
       "      <td>354.5</td>\n",
       "      <td>122.9</td>\n",
       "      <td>251.2</td>\n",
       "      <td>53.3</td>\n",
       "      <td>245.2</td>\n",
       "    </tr>\n",
       "    <tr>\n",
       "      <th>2001</th>\n",
       "      <td>35.5</td>\n",
       "      <td>413.1</td>\n",
       "      <td>300.7</td>\n",
       "      <td>512.2</td>\n",
       "      <td>83.3</td>\n",
       "      <td>383.8</td>\n",
       "    </tr>\n",
       "    <tr>\n",
       "      <th>2014</th>\n",
       "      <td>145.5</td>\n",
       "      <td>1821.0</td>\n",
       "      <td>899.9</td>\n",
       "      <td>1486.8</td>\n",
       "      <td>705.4</td>\n",
       "      <td>1388.9</td>\n",
       "    </tr>\n",
       "  </tbody>\n",
       "</table>\n",
       "</div>"
      ],
      "text/plain": [
       "category      0  Financial  New Sectors  Non-Traded Sectors  Resource Related  \\\n",
       "year                                                                            \n",
       "1996       19.9      354.5        122.9               251.2              53.3   \n",
       "2001       35.5      413.1        300.7               512.2              83.3   \n",
       "2014      145.5     1821.0        899.9              1486.8             705.4   \n",
       "\n",
       "category  Traded Sectors  \n",
       "year                      \n",
       "1996               245.2  \n",
       "2001               383.8  \n",
       "2014              1388.9  "
      ]
     },
     "execution_count": 12,
     "metadata": {},
     "output_type": "execute_result"
    }
   ],
   "source": [
    "\n",
    "# Notebooks 03.4 and 04.7\n",
    "\n",
    "# Next, remove those columns which contain NaN. Pythonic way is to use:\n",
    "\n",
    "# plot_df.dropna(axis=1, inplace=True)\n",
    "\n",
    "# However, the axis argument isn't the clearest, so we can use .T or \n",
    "# .transpose() to apply to columns instead of rows:\n",
    "\n",
    "plot_df=plot_df.T.dropna().T\n",
    "plot_df"
   ]
  },
  {
   "cell_type": "code",
   "execution_count": 13,
   "metadata": {},
   "outputs": [
    {
     "data": {
      "text/plain": [
       "<matplotlib.axes._subplots.AxesSubplot at 0x7fa7ec8836d8>"
      ]
     },
     "execution_count": 13,
     "metadata": {},
     "output_type": "execute_result"
    },
    {
     "data": {
      "image/png": "[encoded data removed]",
      "text/plain": [
       "<matplotlib.figure.Figure at 0x7fa7ee8c7320>"
      ]
     },
     "metadata": {},
     "output_type": "display_data"
    }
   ],
   "source": [
    "# And finally, plot the graph:\n",
    "\n",
    "plot_df.plot(title=\"Total billionaires' wealth by category and by year\")"
   ]
  },
  {
   "cell_type": "markdown",
   "metadata": {},
   "source": [
    "**9.** Finally, what does your plot tell you about the total wealth held by category? *(3 marks)*"
   ]
  },
  {
   "cell_type": "markdown",
   "metadata": {},
   "source": [
    "*Enter your answer here*\n",
    "\n",
    "<font color='red'>AW: Give marks for any appropriate comments. Students will probably note that the financial category has the highest wealth associated in 2014, as well as the highest rate of growth. The category \"0\" probably represents \"others\", and in any case, represents the lowest category by associated wealth."
   ]
  }
 ],
 "metadata": {
  "kernelspec": {
   "display_name": "Python 3",
   "language": "python",
   "name": "python3"
  },
  "language_info": {
   "codemirror_mode": {
    "name": "ipython",
    "version": 3
   },
   "file_extension": ".py",
   "mimetype": "text/x-python",
   "name": "python",
   "nbconvert_exporter": "python",
   "pygments_lexer": "ipython3",
   "version": "3.6.2"
  }
 },
 "nbformat": 4,
 "nbformat_minor": 1
}
