{
 "cells": [
  {
   "cell_type": "markdown",
   "metadata": {},
   "source": [
    "# Exploration notes"
   ]
  },
  {
   "cell_type": "markdown",
   "metadata": {},
   "source": [
    "## Open Refine work"
   ]
  },
  {
   "cell_type": "markdown",
   "metadata": {},
   "source": [
    "### fuitveg csv file.\n",
    "\n",
    "Open new project, it is tab separated and there are a number of cells without values.  THe information we require is Dessert apples yearly average price.  \n",
    "\n",
    "On previewing the table we can see that parsing the first row as column header brings up the year value 2004.  We will have to correct this after importing the file.  (This is quicker than manually renaming each of the month columns afterwards).  It is also useful to parse the cell text into numbers, dates,.. \n",
    "\n"
   ]
  },
  {
   "cell_type": "markdown",
   "metadata": {
    "heading_collapsed": true
   },
   "source": [
    "#### Step 1 - importing the file \n",
    "_Import Settings_\n",
    "<img src=\"images/fv001a.png\">\n",
    "\n",
    "\n",
    "_Imported Table_\n",
    "<img src=\"images/fv001b.png\"> \n",
    "\n"
   ]
  },
  {
   "cell_type": "markdown",
   "metadata": {
    "collapsed": true
   },
   "source": [
    "#### Step 2 - Correct the column names and edit first cell to retain year information\n",
    "Fix the Fruit column name and edit the first cell to the year (efffectively swapping the column header `2004` and `FRUIT`).  Then, renaming `Column` to `Variety`.\n",
    "\n",
    "a) Editing the first cell value\n",
    "<img src=\"images/fv002a.png\">\n",
    "b) renaming The columns\n",
    "<img src=\"images/fv002b.png\">\n",
    "c) Resulting table\n",
    "<img src=\"images/fv002c.png\">"
   ]
  },
  {
   "cell_type": "markdown",
   "metadata": {},
   "source": [
    "#### Step 3 - Creating a year column\n",
    "Now things are organised we can have a look at the table data and start to mould it into the shape we need it to be in.\n",
    "\n",
    "Looking through the table data, we can see that at row 64 there is another year value `2005`.  To preserve this information it is necessary to create a new column for the year.\n",
    "\n",
    "a) We can make a numeric text facet of `Fruit` to select only those that are year\n",
    "<img src=\"images/fv003a.png\">\n",
    "\n",
    "b) create new column based on only the year information\n",
    "<img src=\"images/fv003b.png\">\n",
    "\n",
    "c) Forward fill the values so each row has a year\n",
    "<img src=\"images/fv003c.png\">\n",
    "\n",
    "d) Finally using a numeric text facet on Fruit once more, remove those rows that match.\n",
    "<img src=\"images/fv003d.png\">\n",
    "\n",
    "_Resulting table_\n",
    "<img src=\"images/fv003e.png\">"
   ]
  },
  {
   "cell_type": "markdown",
   "metadata": {},
   "source": [
    "#### Step 4 - Filling missing Fruit values\n",
    "\n",
    "Again a forward fill will populate missing values for each row.\n",
    "<img src=\"images/fv004a.png\">"
   ]
  },
  {
   "cell_type": "markdown",
   "metadata": {},
   "source": [
    "#### Step 5 - Checking the Fruit Column for other apples\n",
    "The table is now getting into shape.  We should double check that there is no confusion with the Fruit names and varieties by looking text facets of the Fruit column.\n",
    "\n",
    "While there are no misspelled `Dessert Apples` I did find `Cooking Apples`.  Including them reveals that they are all `Bramley's Seedling`.  _this was easy to check as there were only 36 matches_\n",
    "\n",
    "<img src=\"images/fv005a.png\">\n",
    "\n",
    "Under the text facet `(new item this year)`  there are some ambiguous varieties `Red` that could be a dessert apple.  Flagging the row (678) and checking the context we can see that it is in the Bulb Onion Section.  Therefore, not an Apple. \n"
   ]
  },
  {
   "cell_type": "markdown",
   "metadata": {},
   "source": [
    "#### Step 6 - Selecting only Dessert Apples\n",
    "\n",
    "Applying a text facet to select the dessert apples. _note: the Year columns were rearranged to put `Year` to the front_\n",
    "<img src=\"images/fv006a.png\">\n",
    "\n",
    "The table is looking relatively clean and is probably ready to export.  However, there  are still a few problems that will need to be addressed by further cleaning or decision making.\n",
    "  \n",
    "  1. THe Quality column is inconsistent, and we don't know how important it is to calculating the average price for the audience.\n",
    "  2. There are rows that do not contain any price data, should they be dropped, or will that information be useful later.\n",
    "  \n",
    "For now though exporting seems like the right idea.\n"
   ]
  },
  {
   "cell_type": "markdown",
   "metadata": {},
   "source": [
    "#### Step 7 - exporting as CSV\n",
    "\n",
    "Column selection.  I decided we do not need the unit information as they are the same for all apples (£/KG).  I also, omitted the Fruit column as it is not needed going forward.\n",
    "\n",
    "<img src=\"images/fv007a.png\">\n",
    "\n",
    "Download settings\n",
    "\n",
    "<img src=\"images/fv007b.png\">\n",
    "\n"
   ]
  },
  {
   "cell_type": "markdown",
   "metadata": {},
   "source": [
    "### Orchards file"
   ]
  },
  {
   "cell_type": "markdown",
   "metadata": {},
   "source": [
    "#### Importing\n",
    "After importing we have this table:\n",
    "\n",
    "<img src=\"images/of001.png\"> \n",
    "First impressions of this file is that it is much wider, with only 13 rows of data but many columns.  Not all of them are needed for our investigation and some relate to other fruits.  Also, the last few rows hold important information on how some varieties have been amalgamated into other categories.  We will need to bear this in mind when we attempt to join the two tables.\n",
    "\n",
    "_Notes_\n",
    " - Cameo, Jazz and Kanzi new 2009\n",
    " - Spartan included with other dessert apples from 2009\n",
    " - Fiesta / Red pippin included in other dessert apples from 2003\n",
    " - Katy included in other dessert apples until 2009"
   ]
  },
  {
   "cell_type": "markdown",
   "metadata": {},
   "source": [
    "#### Step 2 - removing irrelevant columns and extra information rows\n",
    "Our investigation calls for dessert apples, so we can remove the various cooking apples, cider apples, plums, nuts etc.\n",
    "I also decided to remove the totalApples column as we can calculate this directly from the data.\n",
    "<img src=\"images/of002a.png\">\n",
    "\n",
    "Fianlly, having noted the metadata above, we can remove that row give the final table:\n",
    "    \n",
    "<img src=\"images/of002b.png\">"
   ]
  },
  {
   "cell_type": "markdown",
   "metadata": {},
   "source": [
    "#### Step 3 - export the table as a csv file\n",
    "Finally we again export the orchard_fruit_dcs.csv file with comma seperated values\n",
    "<img src=\"images/of003.png\">"
   ]
  },
  {
   "cell_type": "code",
   "execution_count": null,
   "metadata": {
    "collapsed": true
   },
   "outputs": [],
   "source": []
  }
 ],
 "metadata": {
  "kernelspec": {
   "display_name": "Python 3",
   "language": "python",
   "name": "python3"
  },
  "language_info": {
   "codemirror_mode": {
    "name": "ipython",
    "version": 3
   },
   "file_extension": ".py",
   "mimetype": "text/x-python",
   "name": "python",
   "nbconvert_exporter": "python",
   "pygments_lexer": "ipython3",
   "version": "3.5.2"
  }
 },
 "nbformat": 4,
 "nbformat_minor": 2
}
