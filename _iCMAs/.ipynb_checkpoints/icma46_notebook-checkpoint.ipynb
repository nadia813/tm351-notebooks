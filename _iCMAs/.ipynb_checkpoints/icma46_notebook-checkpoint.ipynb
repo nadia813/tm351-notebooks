{
 "cells": [
  {
   "cell_type": "markdown",
   "metadata": {},
   "source": [
    "# icma46 notebook"
   ]
  },
  {
   "cell_type": "markdown",
   "metadata": {},
   "source": [
    "# Q1 - kNN classifier exercise"
   ]
  },
  {
   "cell_type": "code",
   "execution_count": 2,
   "metadata": {
    "collapsed": true
   },
   "outputs": [],
   "source": [
    "# standard imports\n",
    "import pandas as pd\n",
    "import numpy as np\n",
    "\n",
    "import matplotlib.pyplot as plt\n",
    "import seaborn as sns"
   ]
  },
  {
   "cell_type": "code",
   "execution_count": 3,
   "metadata": {},
   "outputs": [],
   "source": [
    "# import KNeighbours classifier\n",
    "from sklearn.neighbors import KNeighborsClassifier"
   ]
  },
  {
   "cell_type": "code",
   "execution_count": 5,
   "metadata": {
    "collapsed": true
   },
   "outputs": [],
   "source": [
    "# helper functions\n",
    "def normalise(lowerlimit, upperlimit, x):\n",
    "    ''' scales a value to the range defined by the lower \n",
    "        and upper limits provided [0-1]\n",
    "    '''\n",
    "    return ((x-lowerlimit)/(upperlimit-lowerlimit))"
   ]
  },
  {
   "cell_type": "code",
   "execution_count": 7,
   "metadata": {
    "code_folding": [],
    "collapsed": true
   },
   "outputs": [],
   "source": [
    "def normalise_dataframe(df):\n",
    "    ''' scales values in a dataframe\n",
    "        assumes columns are numerical that can be scaled\n",
    "        returns a new dataFrame of the scaled values\n",
    "    '''\n",
    "    # set up resultant DataFrame\n",
    "    res = pd.DataFrame()\n",
    "    # Iterate through each column\n",
    "    for c in df.columns:\n",
    "        # apply the normalise function to each value in the column\n",
    "        # assign it to a new column in the resultant dataframe \n",
    "        res[c] = df[c].apply(lambda x: normalise(max(df[c]), min(df[c]), x))\n",
    "    # return the resultant DataFrame\n",
    "    return res"
   ]
  },
  {
   "cell_type": "code",
   "execution_count": 9,
   "metadata": {},
   "outputs": [
    {
     "data": {
      "text/html": [
       "<div>\n",
       "<style>\n",
       "    .dataframe thead tr:only-child th {\n",
       "        text-align: right;\n",
       "    }\n",
       "\n",
       "    .dataframe thead th {\n",
       "        text-align: left;\n",
       "    }\n",
       "\n",
       "    .dataframe tbody tr th {\n",
       "        vertical-align: top;\n",
       "    }\n",
       "</style>\n",
       "<table border=\"1\" class=\"dataframe\">\n",
       "  <thead>\n",
       "    <tr style=\"text-align: right;\">\n",
       "      <th></th>\n",
       "      <th>Sepal length</th>\n",
       "      <th>Sepal width</th>\n",
       "      <th>Petal length</th>\n",
       "      <th>Petal width</th>\n",
       "      <th>Species</th>\n",
       "    </tr>\n",
       "  </thead>\n",
       "  <tbody>\n",
       "    <tr>\n",
       "      <th>0</th>\n",
       "      <td>5.1</td>\n",
       "      <td>3.5</td>\n",
       "      <td>1.4</td>\n",
       "      <td>0.2</td>\n",
       "      <td>I. setosa</td>\n",
       "    </tr>\n",
       "    <tr>\n",
       "      <th>1</th>\n",
       "      <td>4.9</td>\n",
       "      <td>3.0</td>\n",
       "      <td>1.4</td>\n",
       "      <td>0.2</td>\n",
       "      <td>I. setosa</td>\n",
       "    </tr>\n",
       "    <tr>\n",
       "      <th>2</th>\n",
       "      <td>4.7</td>\n",
       "      <td>3.2</td>\n",
       "      <td>1.3</td>\n",
       "      <td>0.2</td>\n",
       "      <td>I. setosa</td>\n",
       "    </tr>\n",
       "    <tr>\n",
       "      <th>3</th>\n",
       "      <td>4.6</td>\n",
       "      <td>3.1</td>\n",
       "      <td>1.5</td>\n",
       "      <td>0.2</td>\n",
       "      <td>I. setosa</td>\n",
       "    </tr>\n",
       "    <tr>\n",
       "      <th>4</th>\n",
       "      <td>5.0</td>\n",
       "      <td>3.6</td>\n",
       "      <td>1.4</td>\n",
       "      <td>0.2</td>\n",
       "      <td>I. setosa</td>\n",
       "    </tr>\n",
       "  </tbody>\n",
       "</table>\n",
       "</div>"
      ],
      "text/plain": [
       "   Sepal length  Sepal width  Petal length  Petal width    Species\n",
       "0           5.1          3.5           1.4          0.2  I. setosa\n",
       "1           4.9          3.0           1.4          0.2  I. setosa\n",
       "2           4.7          3.2           1.3          0.2  I. setosa\n",
       "3           4.6          3.1           1.5          0.2  I. setosa\n",
       "4           5.0          3.6           1.4          0.2  I. setosa"
      ]
     },
     "execution_count": 9,
     "metadata": {},
     "output_type": "execute_result"
    }
   ],
   "source": [
    "# import the iris measurement and classification data\n",
    "irisdata_df = pd.read_csv('iCMA46/iris_data.csv')\n",
    "irisdata_df.head()"
   ]
  },
  {
   "cell_type": "code",
   "execution_count": 12,
   "metadata": {},
   "outputs": [
    {
     "data": {
      "text/html": [
       "<div>\n",
       "<style>\n",
       "    .dataframe thead tr:only-child th {\n",
       "        text-align: right;\n",
       "    }\n",
       "\n",
       "    .dataframe thead th {\n",
       "        text-align: left;\n",
       "    }\n",
       "\n",
       "    .dataframe tbody tr th {\n",
       "        vertical-align: top;\n",
       "    }\n",
       "</style>\n",
       "<table border=\"1\" class=\"dataframe\">\n",
       "  <thead>\n",
       "    <tr style=\"text-align: right;\">\n",
       "      <th></th>\n",
       "      <th>Sepal length</th>\n",
       "      <th>Sepal width</th>\n",
       "      <th>Petal length</th>\n",
       "      <th>Petal width</th>\n",
       "    </tr>\n",
       "  </thead>\n",
       "  <tbody>\n",
       "    <tr>\n",
       "      <th>0</th>\n",
       "      <td>0.777778</td>\n",
       "      <td>0.375000</td>\n",
       "      <td>0.932203</td>\n",
       "      <td>0.958333</td>\n",
       "    </tr>\n",
       "    <tr>\n",
       "      <th>1</th>\n",
       "      <td>0.833333</td>\n",
       "      <td>0.583333</td>\n",
       "      <td>0.932203</td>\n",
       "      <td>0.958333</td>\n",
       "    </tr>\n",
       "    <tr>\n",
       "      <th>2</th>\n",
       "      <td>0.888889</td>\n",
       "      <td>0.500000</td>\n",
       "      <td>0.949153</td>\n",
       "      <td>0.958333</td>\n",
       "    </tr>\n",
       "    <tr>\n",
       "      <th>3</th>\n",
       "      <td>0.916667</td>\n",
       "      <td>0.541667</td>\n",
       "      <td>0.915254</td>\n",
       "      <td>0.958333</td>\n",
       "    </tr>\n",
       "    <tr>\n",
       "      <th>4</th>\n",
       "      <td>0.805556</td>\n",
       "      <td>0.333333</td>\n",
       "      <td>0.932203</td>\n",
       "      <td>0.958333</td>\n",
       "    </tr>\n",
       "  </tbody>\n",
       "</table>\n",
       "</div>"
      ],
      "text/plain": [
       "   Sepal length  Sepal width  Petal length  Petal width\n",
       "0      0.777778     0.375000      0.932203     0.958333\n",
       "1      0.833333     0.583333      0.932203     0.958333\n",
       "2      0.888889     0.500000      0.949153     0.958333\n",
       "3      0.916667     0.541667      0.915254     0.958333\n",
       "4      0.805556     0.333333      0.932203     0.958333"
      ]
     },
     "execution_count": 12,
     "metadata": {},
     "output_type": "execute_result"
    }
   ],
   "source": [
    "# normalise the columns required\n",
    "n_iris_training_df = normalise_dataframe(irisdata_df[['Sepal length',\n",
    "                                                     'Sepal width',\n",
    "                                                     'Petal length',\n",
    "                                                     'Petal width']])\n",
    "# check it looks ok\n",
    "n_iris_training_df.head()\n"
   ]
  },
  {
   "cell_type": "code",
   "execution_count": 16,
   "metadata": {},
   "outputs": [],
   "source": [
    "# create the target values series\n",
    "iris_target_values = irisdata_df['Species']"
   ]
  },
  {
   "cell_type": "code",
   "execution_count": 28,
   "metadata": {},
   "outputs": [
    {
     "data": {
      "text/html": [
       "<div>\n",
       "<style>\n",
       "    .dataframe thead tr:only-child th {\n",
       "        text-align: right;\n",
       "    }\n",
       "\n",
       "    .dataframe thead th {\n",
       "        text-align: left;\n",
       "    }\n",
       "\n",
       "    .dataframe tbody tr th {\n",
       "        vertical-align: top;\n",
       "    }\n",
       "</style>\n",
       "<table border=\"1\" class=\"dataframe\">\n",
       "  <thead>\n",
       "    <tr style=\"text-align: right;\">\n",
       "      <th></th>\n",
       "      <th>Petal length</th>\n",
       "      <th>Petal width</th>\n",
       "      <th>Sample</th>\n",
       "      <th>Sepal length</th>\n",
       "      <th>Sepal width</th>\n",
       "    </tr>\n",
       "  </thead>\n",
       "  <tbody>\n",
       "    <tr>\n",
       "      <th>0</th>\n",
       "      <td>2.21</td>\n",
       "      <td>0.38</td>\n",
       "      <td>Sample 1</td>\n",
       "      <td>4.32</td>\n",
       "      <td>3.35</td>\n",
       "    </tr>\n",
       "    <tr>\n",
       "      <th>1</th>\n",
       "      <td>6.46</td>\n",
       "      <td>0.24</td>\n",
       "      <td>Sample 2</td>\n",
       "      <td>4.74</td>\n",
       "      <td>2.96</td>\n",
       "    </tr>\n",
       "    <tr>\n",
       "      <th>2</th>\n",
       "      <td>6.37</td>\n",
       "      <td>1.46</td>\n",
       "      <td>Sample 3</td>\n",
       "      <td>6.20</td>\n",
       "      <td>3.06</td>\n",
       "    </tr>\n",
       "    <tr>\n",
       "      <th>3</th>\n",
       "      <td>1.81</td>\n",
       "      <td>1.66</td>\n",
       "      <td>Sample 4</td>\n",
       "      <td>7.19</td>\n",
       "      <td>3.34</td>\n",
       "    </tr>\n",
       "  </tbody>\n",
       "</table>\n",
       "</div>"
      ],
      "text/plain": [
       "   Petal length  Petal width    Sample  Sepal length  Sepal width\n",
       "0          2.21         0.38  Sample 1          4.32         3.35\n",
       "1          6.46         0.24  Sample 2          4.74         2.96\n",
       "2          6.37         1.46  Sample 3          6.20         3.06\n",
       "3          1.81         1.66  Sample 4          7.19         3.34"
      ]
     },
     "execution_count": 28,
     "metadata": {},
     "output_type": "execute_result"
    }
   ],
   "source": [
    "# create a DataFrame of the test data\n",
    "test_iris_data_df = pd.DataFrame(\n",
    "    {'Sample': ['Sample 1','Sample 2','Sample 3','Sample 4'],\n",
    "                    'Sepal length':  [4.32, 4.74, 6.20, 7.19],\n",
    "                    'Sepal width': [3.35, 2.96, 3.06, 3.34],\n",
    "                     'Petal length': [2.21, 6.46, 6.37, 1.81],\n",
    "                    'Petal width': [0.38, 0.24, 1.46, 1.66]\n",
    "                    })\n",
    "test_iris_data_df.head()"
   ]
  },
  {
   "cell_type": "code",
   "execution_count": 29,
   "metadata": {},
   "outputs": [
    {
     "data": {
      "text/html": [
       "<div>\n",
       "<style>\n",
       "    .dataframe thead tr:only-child th {\n",
       "        text-align: right;\n",
       "    }\n",
       "\n",
       "    .dataframe thead th {\n",
       "        text-align: left;\n",
       "    }\n",
       "\n",
       "    .dataframe tbody tr th {\n",
       "        vertical-align: top;\n",
       "    }\n",
       "</style>\n",
       "<table border=\"1\" class=\"dataframe\">\n",
       "  <thead>\n",
       "    <tr style=\"text-align: right;\">\n",
       "      <th></th>\n",
       "      <th>Sepal length</th>\n",
       "      <th>Sepal width</th>\n",
       "      <th>Petal length</th>\n",
       "      <th>Petal width</th>\n",
       "    </tr>\n",
       "  </thead>\n",
       "  <tbody>\n",
       "    <tr>\n",
       "      <th>0</th>\n",
       "      <td>1.000000</td>\n",
       "      <td>-0.000000</td>\n",
       "      <td>0.913978</td>\n",
       "      <td>0.901408</td>\n",
       "    </tr>\n",
       "    <tr>\n",
       "      <th>1</th>\n",
       "      <td>0.853659</td>\n",
       "      <td>1.000000</td>\n",
       "      <td>-0.000000</td>\n",
       "      <td>1.000000</td>\n",
       "    </tr>\n",
       "    <tr>\n",
       "      <th>2</th>\n",
       "      <td>0.344948</td>\n",
       "      <td>0.743590</td>\n",
       "      <td>0.019355</td>\n",
       "      <td>0.140845</td>\n",
       "    </tr>\n",
       "    <tr>\n",
       "      <th>3</th>\n",
       "      <td>-0.000000</td>\n",
       "      <td>0.025641</td>\n",
       "      <td>1.000000</td>\n",
       "      <td>-0.000000</td>\n",
       "    </tr>\n",
       "  </tbody>\n",
       "</table>\n",
       "</div>"
      ],
      "text/plain": [
       "   Sepal length  Sepal width  Petal length  Petal width\n",
       "0      1.000000    -0.000000      0.913978     0.901408\n",
       "1      0.853659     1.000000     -0.000000     1.000000\n",
       "2      0.344948     0.743590      0.019355     0.140845\n",
       "3     -0.000000     0.025641      1.000000    -0.000000"
      ]
     },
     "execution_count": 29,
     "metadata": {},
     "output_type": "execute_result"
    }
   ],
   "source": [
    "# normalise the test_iris_data_df\n",
    "n_test_iris_df = normalise_dataframe(test_iris_data_df[['Sepal length',\n",
    "                                                      'Sepal width',\n",
    "                                                      'Petal length',\n",
    "                                                      'Petal width']])\n",
    "n_test_iris_df.head()"
   ]
  },
  {
   "cell_type": "code",
   "execution_count": 30,
   "metadata": {
    "collapsed": true
   },
   "outputs": [],
   "source": [
    "# create a classifier with the required k value (n_neighbors)\n",
    "iris_classifier = KNeighborsClassifier(n_neighbors=3, metric='euclidean', weights='uniform')"
   ]
  },
  {
   "cell_type": "code",
   "execution_count": 31,
   "metadata": {},
   "outputs": [
    {
     "data": {
      "text/plain": [
       "KNeighborsClassifier(algorithm='auto', leaf_size=30, metric='euclidean',\n",
       "           metric_params=None, n_jobs=1, n_neighbors=3, p=2,\n",
       "           weights='uniform')"
      ]
     },
     "execution_count": 31,
     "metadata": {},
     "output_type": "execute_result"
    }
   ],
   "source": [
    "# train the classifier with the training data and target values\n",
    "iris_classifier.fit(n_iris_training_df, iris_target_values)"
   ]
  },
  {
   "cell_type": "code",
   "execution_count": 32,
   "metadata": {
    "collapsed": true
   },
   "outputs": [],
   "source": [
    "# get the results of classification\n",
    "results = iris_classifier.predict(n_test_iris_df)"
   ]
  },
  {
   "cell_type": "code",
   "execution_count": 37,
   "metadata": {},
   "outputs": [
    {
     "data": {
      "text/html": [
       "<div>\n",
       "<style>\n",
       "    .dataframe thead tr:only-child th {\n",
       "        text-align: right;\n",
       "    }\n",
       "\n",
       "    .dataframe thead th {\n",
       "        text-align: left;\n",
       "    }\n",
       "\n",
       "    .dataframe tbody tr th {\n",
       "        vertical-align: top;\n",
       "    }\n",
       "</style>\n",
       "<table border=\"1\" class=\"dataframe\">\n",
       "  <thead>\n",
       "    <tr style=\"text-align: right;\">\n",
       "      <th></th>\n",
       "      <th>Sample</th>\n",
       "      <th>Sepal length</th>\n",
       "      <th>Sepal width</th>\n",
       "      <th>Petal length</th>\n",
       "      <th>Petal width</th>\n",
       "      <th>Classification</th>\n",
       "    </tr>\n",
       "  </thead>\n",
       "  <tbody>\n",
       "    <tr>\n",
       "      <th>0</th>\n",
       "      <td>Sample 1</td>\n",
       "      <td>4.32</td>\n",
       "      <td>3.35</td>\n",
       "      <td>2.21</td>\n",
       "      <td>0.38</td>\n",
       "      <td>I. setosa</td>\n",
       "    </tr>\n",
       "    <tr>\n",
       "      <th>1</th>\n",
       "      <td>Sample 2</td>\n",
       "      <td>4.74</td>\n",
       "      <td>2.96</td>\n",
       "      <td>6.46</td>\n",
       "      <td>0.24</td>\n",
       "      <td>I. versicolor</td>\n",
       "    </tr>\n",
       "    <tr>\n",
       "      <th>2</th>\n",
       "      <td>Sample 3</td>\n",
       "      <td>6.20</td>\n",
       "      <td>3.06</td>\n",
       "      <td>6.37</td>\n",
       "      <td>1.46</td>\n",
       "      <td>I. virginica</td>\n",
       "    </tr>\n",
       "    <tr>\n",
       "      <th>3</th>\n",
       "      <td>Sample 4</td>\n",
       "      <td>7.19</td>\n",
       "      <td>3.34</td>\n",
       "      <td>1.81</td>\n",
       "      <td>1.66</td>\n",
       "      <td>I. virginica</td>\n",
       "    </tr>\n",
       "  </tbody>\n",
       "</table>\n",
       "</div>"
      ],
      "text/plain": [
       "     Sample  Sepal length  Sepal width  Petal length  Petal width  \\\n",
       "0  Sample 1          4.32         3.35          2.21         0.38   \n",
       "1  Sample 2          4.74         2.96          6.46         0.24   \n",
       "2  Sample 3          6.20         3.06          6.37         1.46   \n",
       "3  Sample 4          7.19         3.34          1.81         1.66   \n",
       "\n",
       "  Classification  \n",
       "0      I. setosa  \n",
       "1  I. versicolor  \n",
       "2   I. virginica  \n",
       "3   I. virginica  "
      ]
     },
     "execution_count": 37,
     "metadata": {},
     "output_type": "execute_result"
    }
   ],
   "source": [
    "# add to dataframe to make viewing easier\n",
    "test_iris_data_df['Classification'] = results\n",
    "test_iris_data_df[['Sample','Sepal length', 'Sepal width', 'Petal length', 'Petal width', 'Classification']]"
   ]
  },
  {
   "cell_type": "markdown",
   "metadata": {},
   "source": [
    "# Q3 - K-means clustering exercise"
   ]
  },
  {
   "cell_type": "code",
   "execution_count": null,
   "metadata": {
    "collapsed": true
   },
   "outputs": [],
   "source": [
    "# standard imports and sklearn.cluster\n",
    "import pandas as pd\n",
    "\n",
    "import numpy as np\n",
    "import matplotlib.pyplot as plt\n",
    "\n",
    "import seaborn as sns\n",
    "\n",
    "from sklearn import cluster"
   ]
  },
  {
   "cell_type": "code",
   "execution_count": null,
   "metadata": {},
   "outputs": [],
   "source": [
    "!head -5 'iCMA46/icma_cluster_question.csv'"
   ]
  },
  {
   "cell_type": "code",
   "execution_count": null,
   "metadata": {},
   "outputs": [],
   "source": [
    "# create a df from the csv file\n",
    "icma_cluster_df = pd.read_csv('iCMA46/icma_cluster_question.csv')\n",
    "icma_cluster_df.head()"
   ]
  },
  {
   "cell_type": "code",
   "execution_count": null,
   "metadata": {},
   "outputs": [],
   "source": [
    "initial_centroids_df = pd.DataFrame({'A': [3, 60, 73], \n",
    "                                     'B': [69, 45, 20], \n",
    "                                     'C':[89, 34, 22],\n",
    "                                    'D':[7, -21, -5]})\n",
    "\n",
    "initial_centroids_df = pd.DataFrame({'X': [3, 69, 89, 7], \n",
    "                                     'Y': [60, 45, 34, -21],\n",
    "                                     'Z':[73, 20, 22, -5]})\n",
    "\n",
    "initial_centroids_df"
   ]
  },
  {
   "cell_type": "code",
   "execution_count": null,
   "metadata": {
    "collapsed": true
   },
   "outputs": [],
   "source": [
    "kmeans4 = cluster.KMeans(n_clusters=4, init=initial_centroids_df)"
   ]
  },
  {
   "cell_type": "code",
   "execution_count": null,
   "metadata": {},
   "outputs": [],
   "source": [
    "assignedClusters_clust = kmeans4.fit(icma_cluster_df)\n",
    "\n",
    "assignedClusters_clust.labels_"
   ]
  },
  {
   "cell_type": "code",
   "execution_count": null,
   "metadata": {},
   "outputs": [],
   "source": [
    "for i in range(4):\n",
    "    print(i, ': ')\n",
    "    print(list(assignedClusters_clust.labels_).count(i))\n",
    "    print('\\n')"
   ]
  },
  {
   "cell_type": "markdown",
   "metadata": {
    "collapsed": true
   },
   "source": [
    "# Question 5 - vector spce model."
   ]
  },
  {
   "cell_type": "code",
   "execution_count": null,
   "metadata": {
    "collapsed": true
   },
   "outputs": [],
   "source": [
    "def tokenise_document(docIn_str):\n",
    "    '''Return a list of the tokens in the input string docIN_str'''\n",
    "    return docIn_str.split()"
   ]
  },
  {
   "cell_type": "code",
   "execution_count": null,
   "metadata": {
    "collapsed": true
   },
   "outputs": [],
   "source": [
    "def build_term_index(tokenisedDocuments_coll):\n",
    "    ''' Return a set of all the terms appearing in \n",
    "        the documents in tokenisedDocuments_coll\n",
    "    '''\n",
    "    allTerms_set = set() # store the tokens as a set to remove repetitions\n",
    "    \n",
    "    for tokens_coll in tokenisedDocuments_coll:\n",
    "        allTerms_set = allTerms_set.union(set(tokens_coll))\n",
    "    \n",
    "    return list(allTerms_set) # Return the members as a list\n"
   ]
  },
  {
   "cell_type": "code",
   "execution_count": null,
   "metadata": {
    "collapsed": true
   },
   "outputs": [],
   "source": []
  },
  {
   "cell_type": "code",
   "execution_count": null,
   "metadata": {
    "collapsed": true
   },
   "outputs": [],
   "source": [
    "# importing the counter function to count all occurances of a term\n",
    "from collections import Counter"
   ]
  },
  {
   "cell_type": "code",
   "execution_count": null,
   "metadata": {
    "collapsed": true
   },
   "outputs": [],
   "source": [
    "doc_coll = ['the Coleoptera includes more species than any other order and constitute almost a quarter of all known types of animal life forms',\n",
    "           'the Curculionidae comprise the family of the true weevils and is the third largest animal family']"
   ]
  },
  {
   "cell_type": "code",
   "execution_count": null,
   "metadata": {},
   "outputs": [],
   "source": [
    "tokenised_docs_ls = [tokenise_document(doc_txt) for doc_txt in doc_coll]\n",
    "tokenised_docs_ls"
   ]
  },
  {
   "cell_type": "code",
   "execution_count": null,
   "metadata": {},
   "outputs": [],
   "source": [
    "term_index_ls = build_term_index(tokenised_docs_ls)\n",
    "term_index_ls"
   ]
  },
  {
   "cell_type": "code",
   "execution_count": null,
   "metadata": {
    "collapsed": true
   },
   "outputs": [],
   "source": [
    "def build_tf_vector(tokenisedDocument_ls, termIndex_ls):\n",
    "    '''Return a pandas Series representing the term \n",
    "       frequency vector of the tokenised document \n",
    "       tokenisedDocument_ls, and indexed with termIndex_ls\n",
    "    '''\n",
    "    \n",
    "    return pd.Series(Counter(tokenisedDocument_ls),\n",
    "                     index=termIndex_ls).fillna(0)"
   ]
  },
  {
   "cell_type": "code",
   "execution_count": null,
   "metadata": {
    "collapsed": true
   },
   "outputs": [],
   "source": [
    "termFreq_1_ss = build_tf_vector(tokenised_docs_ls[0], termIndex_ls=term_index_ls)"
   ]
  },
  {
   "cell_type": "code",
   "execution_count": null,
   "metadata": {
    "collapsed": true
   },
   "outputs": [],
   "source": [
    "termFreq_2_ss = build_tf_vector(tokenised_docs_ls[1], termIndex_ls=term_index_ls)"
   ]
  },
  {
   "cell_type": "code",
   "execution_count": null,
   "metadata": {
    "collapsed": true
   },
   "outputs": [],
   "source": []
  },
  {
   "cell_type": "code",
   "execution_count": null,
   "metadata": {
    "collapsed": true
   },
   "outputs": [],
   "source": [
    "# import scipy.spatial.distance.cosine function\n",
    "from scipy.spatial.distance import cosine"
   ]
  },
  {
   "cell_type": "code",
   "execution_count": null,
   "metadata": {},
   "outputs": [],
   "source": [
    "cosine(termFreq_1_ss, termFreq_2_ss)"
   ]
  },
  {
   "cell_type": "markdown",
   "metadata": {},
   "source": [
    "# Question 6"
   ]
  },
  {
   "cell_type": "code",
   "execution_count": null,
   "metadata": {},
   "outputs": [],
   "source": [
    "doc_coll2 = ['Victor Marie Hugo was a French poet and dramatist of the Romantic movement',\n",
    "            'Moliere was a French playwright and actor who is considered to be one of the greatest masters of comedy in Western literature',\n",
    "            'Alexandre Dumas was a French writer whose works have been translated into nearly 100 languages',\n",
    "            'Jose Zorrilla y Moral was a Spanish Romantic poet and dramatist',\n",
    "            'William Blake was an English poet who is now considered a seminal figure in the history of the poetry and visual arts of the Romantic Age']\n",
    "doc_coll2"
   ]
  },
  {
   "cell_type": "code",
   "execution_count": null,
   "metadata": {
    "collapsed": true
   },
   "outputs": [],
   "source": [
    "tokenised_docs_ls = [tokenise_document(doc_txt) for doc_txt in doc_coll2]\n",
    "# build term index\n",
    "term_index_ls = build_term_index(tokenised_docs_ls)\n",
    "\n"
   ]
  },
  {
   "cell_type": "code",
   "execution_count": null,
   "metadata": {
    "collapsed": true
   },
   "outputs": [],
   "source": [
    "from scipy.spatial.distance import cosine"
   ]
  },
  {
   "cell_type": "code",
   "execution_count": null,
   "metadata": {},
   "outputs": [],
   "source": [
    "term_index_ls = build_term_index(tokenised_docs_ls)\n",
    "# results list for easy comparison\n",
    "res_list = []\n",
    "for i in range(len(doc_coll2)):\n",
    "    termFreq = build_tf_vector(tokenised_docs_ls[i], term_index_ls)\n",
    "    if i == 0:\n",
    "        sen1_tf = termFreq\n",
    "    else:\n",
    "        res_list.append([i, cosine(sen1_tf, termFreq)])\n",
    "\n",
    "res_list"
   ]
  },
  {
   "cell_type": "code",
   "execution_count": null,
   "metadata": {
    "collapsed": true
   },
   "outputs": [],
   "source": []
  }
 ],
 "metadata": {
  "kernelspec": {
   "display_name": "Python 3",
   "language": "python",
   "name": "python3"
  },
  "language_info": {
   "codemirror_mode": {
    "name": "ipython",
    "version": 3
   },
   "file_extension": ".py",
   "mimetype": "text/x-python",
   "name": "python",
   "nbconvert_exporter": "python",
   "pygments_lexer": "ipython3",
   "version": "3.5.2"
  }
 },
 "nbformat": 4,
 "nbformat_minor": 2
}
