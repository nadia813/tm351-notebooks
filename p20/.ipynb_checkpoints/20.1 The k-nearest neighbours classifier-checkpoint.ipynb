{
 "cells": [
  {
   "cell_type": "markdown",
   "metadata": {},
   "source": [
    "# The *k*-nearest neighbours classifier"
   ]
  },
  {
   "cell_type": "code",
   "execution_count": 1,
   "metadata": {
    "activity": false,
    "collapsed": true
   },
   "outputs": [],
   "source": [
    "# Include some standard imports.\n",
    "\n",
    "import pandas as pd\n",
    "\n",
    "import matplotlib.pyplot as plt\n",
    "import seaborn as sns"
   ]
  },
  {
   "cell_type": "markdown",
   "metadata": {},
   "source": [
    "## The KNeighborsClassifier library functions"
   ]
  },
  {
   "cell_type": "markdown",
   "metadata": {},
   "source": [
    "In the module materials you have seen how the *k*-nearest neighbours algorithm (*k*-NN) can be used as a simple technique for classifying a new object based on how closely it matches the properties of other objects which have already been classified. In this Notebook we will work through some examples of how to use the Python libraries to build and use a *k*-NN classifier."
   ]
  },
  {
   "cell_type": "markdown",
   "metadata": {},
   "source": [
    "The `SKLearn` library in Python provides a set of functions for carrying out *k*-nearest neighbours analyses. In this Notebook you will use use this library to carry out some nearest neighbour classification tasks. The library is implemented in the `sklearn.neighbors` library."
   ]
  },
  {
   "cell_type": "markdown",
   "metadata": {},
   "source": [
    "To see how to use the library on a simple example, we will start by using the patient data (Part 20, Figure 20.3).\n",
    "\n",
    "The data has been saved in the file [patients.csv](./data/patients.csv), which we can import as a DataFrame:"
   ]
  },
  {
   "cell_type": "code",
   "execution_count": 2,
   "metadata": {
    "activity": false
   },
   "outputs": [
    {
     "data": {
      "text/html": [
       "<div>\n",
       "<style>\n",
       "    .dataframe thead tr:only-child th {\n",
       "        text-align: right;\n",
       "    }\n",
       "\n",
       "    .dataframe thead th {\n",
       "        text-align: left;\n",
       "    }\n",
       "\n",
       "    .dataframe tbody tr th {\n",
       "        vertical-align: top;\n",
       "    }\n",
       "</style>\n",
       "<table border=\"1\" class=\"dataframe\">\n",
       "  <thead>\n",
       "    <tr style=\"text-align: right;\">\n",
       "      <th></th>\n",
       "      <th>Patient group</th>\n",
       "      <th>Exercise time (hours)</th>\n",
       "      <th>Sleep time (hours)</th>\n",
       "    </tr>\n",
       "  </thead>\n",
       "  <tbody>\n",
       "    <tr>\n",
       "      <th>0</th>\n",
       "      <td>A</td>\n",
       "      <td>0.7</td>\n",
       "      <td>5.2</td>\n",
       "    </tr>\n",
       "    <tr>\n",
       "      <th>1</th>\n",
       "      <td>A</td>\n",
       "      <td>0.6</td>\n",
       "      <td>5.6</td>\n",
       "    </tr>\n",
       "    <tr>\n",
       "      <th>2</th>\n",
       "      <td>A</td>\n",
       "      <td>1.0</td>\n",
       "      <td>5.0</td>\n",
       "    </tr>\n",
       "    <tr>\n",
       "      <th>3</th>\n",
       "      <td>A</td>\n",
       "      <td>1.8</td>\n",
       "      <td>5.5</td>\n",
       "    </tr>\n",
       "    <tr>\n",
       "      <th>4</th>\n",
       "      <td>A</td>\n",
       "      <td>3.0</td>\n",
       "      <td>6.6</td>\n",
       "    </tr>\n",
       "  </tbody>\n",
       "</table>\n",
       "</div>"
      ],
      "text/plain": [
       "  Patient group  Exercise time (hours)  Sleep time (hours)\n",
       "0             A                    0.7                 5.2\n",
       "1             A                    0.6                 5.6\n",
       "2             A                    1.0                 5.0\n",
       "3             A                    1.8                 5.5\n",
       "4             A                    3.0                 6.6"
      ]
     },
     "execution_count": 2,
     "metadata": {},
     "output_type": "execute_result"
    }
   ],
   "source": [
    "patients_df = pd.read_csv('data/patients.csv')\n",
    "patients_df.head()"
   ]
  },
  {
   "cell_type": "markdown",
   "metadata": {},
   "source": [
    "The columns `Exercise time (hours)` and `Sleep time (hours)` give the values in hours of the two features of each patient. This DataFrame also contains a column `Patient group` which contains the classification of each of the patients into groups A and B."
   ]
  },
  {
   "cell_type": "markdown",
   "metadata": {},
   "source": [
    "To get a feel for the data, we can treat the `Exercise time (hours)` and `Sleep time (hours)` columns as points in a 2-dimensional space, and plot them with a scatter plot:"
   ]
  },
  {
   "cell_type": "code",
   "execution_count": 5,
   "metadata": {
    "activity": false,
    "commentate": false
   },
   "outputs": [
    {
     "data": {
      "text/plain": [
       "<matplotlib.axes._subplots.AxesSubplot at 0x7f0f0a532320>"
      ]
     },
     "execution_count": 5,
     "metadata": {},
     "output_type": "execute_result"
    },
    {
     "data": {
      "image/png": "[encoded data removed]",
      "text/plain": [
       "<matplotlib.figure.Figure at 0x7f0f0a4bd780>"
      ]
     },
     "metadata": {},
     "output_type": "display_data"
    }
   ],
   "source": [
    "groupA_df = patients_df[patients_df['Patient group']=='A']\n",
    "groupB_df = patients_df[patients_df['Patient group']=='B']\n",
    "\n",
    "ax = groupA_df.plot(x='Exercise time (hours)',\n",
    "                    y='Sleep time (hours)',\n",
    "                    kind='scatter', color='DarkBlue', label=\"Group A\", marker=\"o\",\n",
    "                    title=\"Scatter plot of patient data\")\n",
    "\n",
    "groupB_df.plot(x='Exercise time (hours)', \n",
    "               y='Sleep time (hours)',\n",
    "               kind='scatter', color='Red', label=\"Group B\", marker='s', ax=ax)\n"
   ]
  },
  {
   "cell_type": "markdown",
   "metadata": {},
   "source": [
    "Our aim is, given some new patients, if we're told how much time they have spent exercising, and how much time sleeping, can we classify them according to whether we think that they are of type A or type B?"
   ]
  },
  {
   "cell_type": "markdown",
   "metadata": {},
   "source": [
    "To carry out the classification, we will use the analyser in the `KNeighborsClassifier` library. Import the library with:"
   ]
  },
  {
   "cell_type": "code",
   "execution_count": null,
   "metadata": {
    "activity": false,
    "collapsed": true
   },
   "outputs": [],
   "source": [
    "from sklearn.neighbors import KNeighborsClassifier"
   ]
  },
  {
   "cell_type": "markdown",
   "metadata": {},
   "source": [
    "Now, the first step is to create a classifier instance from the `KNeighborsClassifier` class. In the first instance, we will build a classifier with *k*=3, which is set using the parameter `n_neighbors` in the initialisation. We will also set the chosen metric to be Euclidean separation, as discussed in Section 3.1 of Part 20."
   ]
  },
  {
   "cell_type": "code",
   "execution_count": null,
   "metadata": {
    "activity": false,
    "collapsed": true
   },
   "outputs": [],
   "source": [
    "classifier_3NN = KNeighborsClassifier(n_neighbors=3, metric='euclidean')"
   ]
  },
  {
   "cell_type": "markdown",
   "metadata": {},
   "source": [
    "Next we need to train the classifier on the training data. The `classifier_3NN` object has a method `fit(X, y)`, which takes an array of training data, `X` and a vector of classification values, `y`, to train the classifier."
   ]
  },
  {
   "cell_type": "markdown",
   "metadata": {},
   "source": [
    "When we use this library with *pandas*, we will usually pass the training data, `X`, to `fit` as a DataFrame, and the classification values, `y`, as a Series. "
   ]
  },
  {
   "cell_type": "markdown",
   "metadata": {},
   "source": [
    "In this case, we want the training data to be the columns `'Exercise time (hours)'` and `'Sleep time (hours)'` of `patients_df`, and the target values to be the column `patients_df['Patient group']`.\n"
   ]
  },
  {
   "cell_type": "code",
   "execution_count": null,
   "metadata": {
    "activity": false,
    "collapsed": true
   },
   "outputs": [],
   "source": [
    "\n",
    "trainingData_df = patients_df[['Exercise time (hours)', 'Sleep time (hours)']]\n",
    "targetValues_ss = patients_df['Patient group']\n",
    "\n",
    "classifier_3NN.fit(trainingData_df, targetValues_ss)"
   ]
  },
  {
   "cell_type": "markdown",
   "metadata": {},
   "source": [
    "Our 3-NN classifier is now ready to be used. To use the classifier to classify a new instance, we use the method `predict(X)` where `X` is an array of test data which the classifier will attempt to classify."
   ]
  },
  {
   "cell_type": "markdown",
   "metadata": {},
   "source": [
    "In this case, we will try to classify a new patient who has registered an exercise time of 2.5 hours, and a sleep time of 6.5 hours. This test case should be presented in the same format as the training data, so let's define a DataFrame with a single row and columns with the same headings as we used in the training data:"
   ]
  },
  {
   "cell_type": "code",
   "execution_count": null,
   "metadata": {
    "activity": false,
    "collapsed": true
   },
   "outputs": [],
   "source": [
    "testData_df = pd.DataFrame({'Exercise time (hours)':[2.5],\n",
    "                            'Sleep time (hours)':[6.5]})\n",
    "testData_df"
   ]
  },
  {
   "cell_type": "markdown",
   "metadata": {},
   "source": [
    "We then pass this to `predict`, which returns the class of the submitted data point."
   ]
  },
  {
   "cell_type": "code",
   "execution_count": null,
   "metadata": {
    "activity": false,
    "collapsed": true
   },
   "outputs": [],
   "source": [
    "classifier_3NN.predict(testData_df)"
   ]
  },
  {
   "cell_type": "markdown",
   "metadata": {},
   "source": [
    "In this case, the classifier has predicted that the new patient is of type A."
   ]
  },
  {
   "cell_type": "markdown",
   "metadata": {},
   "source": [
    "To classify several instances at once, we use more rows in the test data DataFrame:"
   ]
  },
  {
   "cell_type": "code",
   "execution_count": null,
   "metadata": {
    "activity": false,
    "collapsed": true
   },
   "outputs": [],
   "source": [
    "testData_df = pd.DataFrame({'Exercise time (hours)':[2.5, 1.7, 2.8, 3],\n",
    "                            'Sleep time (hours)':[6.5, 6.7, 7.0, 5.5]})\n",
    "testData_df"
   ]
  },
  {
   "cell_type": "markdown",
   "metadata": {},
   "source": [
    "When we pass this DataFrame to the classifier, a numpy array is returned with the *n*<sup>th</sup> value in the array being the class of the datapoint represented by the *n*<sup>th</sup> row of the test data. "
   ]
  },
  {
   "cell_type": "code",
   "execution_count": null,
   "metadata": {
    "activity": false,
    "collapsed": true
   },
   "outputs": [],
   "source": [
    "classifier_3NN.predict(testData_df)"
   ]
  },
  {
   "cell_type": "markdown",
   "metadata": {},
   "source": [
    "In fact, because the output of the classifier is a sequence of values rather than just a single value, it can be easier to see the classifications in a single DataFrame."
   ]
  },
  {
   "cell_type": "code",
   "execution_count": null,
   "metadata": {
    "activity": false,
    "collapsed": true
   },
   "outputs": [],
   "source": [
    "output_df = testData_df.copy()\n",
    "output_df['Patient group'] = classifier_3NN.predict(testData_df)\n",
    "\n",
    "output_df"
   ]
  },
  {
   "cell_type": "markdown",
   "metadata": {},
   "source": [
    "To see how well the classifier is working, we can plot the test data on the same axes as the training data:"
   ]
  },
  {
   "cell_type": "code",
   "execution_count": null,
   "metadata": {
    "activity": false,
    "collapsed": true
   },
   "outputs": [],
   "source": [
    "trainGroupA_df = patients_df[patients_df['Patient group']=='A']\n",
    "trainGroupB_df = patients_df[patients_df['Patient group']=='B']\n",
    "\n",
    "ax = trainGroupA_df.plot(x='Exercise time (hours)', y='Sleep time (hours)',\n",
    "                         kind='scatter', color='DarkBlue', label=\"Group A (train)\", marker=\"o\",\n",
    "                         title=\"Patient sleep data with test cases\")\n",
    "\n",
    "trainGroupB_df.plot(x='Exercise time (hours)', y='Sleep time (hours)',\n",
    "                    kind='scatter', color='Red', label=\"Group B (train)\", marker='s', ax=ax)\n",
    "\n",
    "testData_df.plot(x='Exercise time (hours)', y='Sleep time (hours)',\n",
    "                 kind='scatter', color='LightGreen', label=\"Test data\",\n",
    "                 marker='^', ax=ax)\n",
    "\n",
    "# Extend the x-axis to better accommodate the labelling box:\n",
    "plt.xlim((0, 8))\n",
    "\n",
    "pass # Don't show any return values\n"
   ]
  },
  {
   "cell_type": "markdown",
   "metadata": {},
   "source": [
    "In the previous scatter plot, the test data is shown as a collection of green triangles. To see how these points are classified, we can make another plot, using triangles to show where the new points are classified. As before, the test cases are shown by triangles, but they are now given the same colour as the class into which they have been classified."
   ]
  },
  {
   "cell_type": "code",
   "execution_count": null,
   "metadata": {
    "activity": false,
    "collapsed": true
   },
   "outputs": [],
   "source": [
    "trainGroupA_df = patients_df[patients_df['Patient group']=='A']\n",
    "trainGroupB_df = patients_df[patients_df['Patient group']=='B']\n",
    "\n",
    "ax = trainGroupA_df.plot(x='Exercise time (hours)', y='Sleep time (hours)',\n",
    "                         kind='scatter', color='DarkBlue', label=\"Group A (train)\", marker=\"o\",\n",
    "                         title=\"Scatter plot of patient sleep data\")\n",
    "\n",
    "trainGroupB_df.plot(x='Exercise time (hours)', y='Sleep time (hours)',\n",
    "                    kind='scatter', color='Red', label=\"Group B (train)\", marker='s', ax=ax)\n",
    "\n",
    "testGroupA_df=output_df[output_df['Patient group']=='A']\n",
    "testGroupB_df=output_df[output_df['Patient group']=='B']\n",
    "\n",
    "testGroupA_df.plot(x='Exercise time (hours)', y='Sleep time (hours)',\n",
    "                   kind='scatter', color='DarkBlue', label=\"Group A (test)\", \n",
    "                   marker='^', ax=ax)\n",
    "\n",
    "testGroupB_df.plot(x='Exercise time (hours)', y='Sleep time (hours)',\n",
    "                   kind='scatter', color='Red', label=\"Group B (test)\",\n",
    "                   marker='^', ax=ax)\n",
    "\n",
    "# Extend the x-axis to better accommodate the labelling box:\n",
    "plt.xlim((0, 8))\n",
    "\n",
    "pass # Don't show any return values"
   ]
  },
  {
   "cell_type": "markdown",
   "metadata": {
    "activity": "activity"
   },
   "source": [
    "### Activity 1\n",
    "As we discussed in Section 3.4 of Part 20, the choice of *k* for a *k*-NN classifier can affect the results of the classification process.\n",
    "\n",
    "Use the same training data that we used previously in the Notebook to train a *k*-NN classifier for *k*=2, *k*=4 and *k*=5. Then use these classifiers to classify the test data in the `testData_df` DataFrame.\n",
    "\n",
    "Which of the data points are classified differently for different values of *k*?\n",
    "\n",
    "Our solution is below."
   ]
  },
  {
   "cell_type": "markdown",
   "metadata": {
    "heading_collapsed": true
   },
   "source": [
    "#### Our solution\n",
    "\n",
    "To reveal our solution, click on the triangle symbol on the left-hand end of this cell."
   ]
  },
  {
   "cell_type": "markdown",
   "metadata": {
    "hidden": true
   },
   "source": [
    "A simple example which would generate the classifications for the new points at different values of *k* is given here:"
   ]
  },
  {
   "cell_type": "code",
   "execution_count": null,
   "metadata": {
    "collapsed": true,
    "hidden": true
   },
   "outputs": [],
   "source": [
    "output_df = testData_df.copy()\n",
    "\n",
    "for k in range(2, 6):\n",
    "    classifier_kNN = KNeighborsClassifier(n_neighbors=k, metric='euclidean')\n",
    "    classifier_kNN.fit(trainingData_df, targetValues_ss)\n",
    "    \n",
    "    output_df['Patient group (k={})'.format(k)] = classifier_kNN.predict(testData_df)\n",
    "\n",
    "output_df"
   ]
  },
  {
   "cell_type": "markdown",
   "metadata": {
    "hidden": true
   },
   "source": [
    "The test data points at (2.5, 6.5) and (2.8, 7.0) are both sensitive to the size of *k*. This could suggest that they are borderline cases. In a real task, the data analyst might want to single out these points for special consideration."
   ]
  },
  {
   "cell_type": "markdown",
   "metadata": {},
   "source": [
    "## Weighted voting"
   ]
  },
  {
   "cell_type": "markdown",
   "metadata": {},
   "source": [
    "In Section 3.3 of Part 20, we discussed that a possible tweak to the general *k*-NN model might be to use a weighted voting strategy, whereby each node's contribution is scaled according to its proximity to the test node."
   ]
  },
  {
   "cell_type": "markdown",
   "metadata": {},
   "source": [
    "A weighted voting scheme has been implemented in the `KNeighborsClassifier` constructor. To use a weighted classifier, the call:\n",
    "\n",
    "    KNeighborsClassifier(n_neighbors=k, metric='euclidean', weights='distance')\n",
    "   \n",
    "returns a classifier for *k* nearest neighbours, with Euclidean distance, and where the contribution of each point is weighted by the inverse of its distance from the new point.\n",
    "\n",
    "Note: The default value of `weights` is `uniform`, where each of the *k* nearest points contribute equally to the class selection."
   ]
  },
  {
   "cell_type": "markdown",
   "metadata": {},
   "source": [
    "### Activity 2\n",
    "Repeat Activity 20.1, but using a weighted classifier, rather than the uniform classifier.\n",
    "\n",
    "Which data points appear to be most susceptible to the size of *k* for the weighted classifier?\n"
   ]
  },
  {
   "cell_type": "markdown",
   "metadata": {
    "heading_collapsed": true
   },
   "source": [
    "#### Our solution\n",
    "\n",
    "To reveal our solution, click on the triangle symbol on the left-hand end of this cell."
   ]
  },
  {
   "cell_type": "markdown",
   "metadata": {
    "hidden": true
   },
   "source": [
    "For the weighted classifier, the data points are all given the same classification for values of *k*. A weighted classification strategy can be more robust than the uniform strategy, but may be less informative about the borderline cases.\n",
    "\n",
    "A code snippet to generate the figures for the test set is:"
   ]
  },
  {
   "cell_type": "code",
   "execution_count": null,
   "metadata": {
    "collapsed": true,
    "hidden": true
   },
   "outputs": [],
   "source": [
    "output_df = testData_df.copy()\n",
    "\n",
    "for k in range(2, 9):\n",
    "    classifier_kNN = KNeighborsClassifier(n_neighbors=k, metric='euclidean', weights='distance')\n",
    "    classifier_kNN.fit(trainingData_df, targetValues_ss)\n",
    "    \n",
    "    output_df['Patient group (k={})'.format(k)] = classifier_kNN.predict(testData_df)\n",
    "\n",
    "output_df"
   ]
  },
  {
   "cell_type": "markdown",
   "metadata": {
    "collapsed": true
   },
   "source": [
    "## What next?\n",
    "\n",
    "You have now completed this Notebook. You should now be able to tackle iCMA 46 Question 1.\n",
    "\n",
    "If you are working through this Notebook as part of an inline exercise, return to the module materials now.\n",
    "\n",
    "If you are working through this set of Notebooks as a whole, move on to `20.2 The leave-one-out algorithm`."
   ]
  }
 ],
 "metadata": {
  "kernelspec": {
   "display_name": "Python 3",
   "language": "python",
   "name": "python3"
  },
  "language_info": {
   "codemirror_mode": {
    "name": "ipython",
    "version": 3
   },
   "file_extension": ".py",
   "mimetype": "text/x-python",
   "name": "python",
   "nbconvert_exporter": "python",
   "pygments_lexer": "ipython3",
   "version": "3.5.2"
  }
 },
 "nbformat": 4,
 "nbformat_minor": 1
}
