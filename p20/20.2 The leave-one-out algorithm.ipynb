{
 "cells": [
  {
   "cell_type": "markdown",
   "metadata": {},
   "source": [
    "# The leave-one-out algorithm"
   ]
  },
  {
   "cell_type": "markdown",
   "metadata": {},
   "source": [
    "This Notebook will demonstrate the leave-one-out algorithm to estimate the best value of *k* to build a classifier for the patient dataset that is shown in Figure 20.3. As you saw in Section 3.4 of Part 20, we can use this algorithm to select a good value of *k* for the classifier."
   ]
  },
  {
   "cell_type": "markdown",
   "metadata": {},
   "source": [
    "You should spend about 1 hour on this Notebook."
   ]
  },
  {
   "cell_type": "code",
   "execution_count": null,
   "metadata": {
    "collapsed": true
   },
   "outputs": [],
   "source": [
    "# This Notebook uses the following libraries:\n",
    "\n",
    "import pandas as pd\n",
    "from sklearn.neighbors import KNeighborsClassifier\n",
    "\n",
    "\n",
    "# This line suppresses a warning about a future deprecation in\n",
    "# the KNeighborsClassifier functions; you should ignore it\n",
    "import warnings\n",
    "warnings.filterwarnings(\"ignore\", category=DeprecationWarning) "
   ]
  },
  {
   "cell_type": "markdown",
   "metadata": {},
   "source": [
    "## The leave-one-out algorithm"
   ]
  },
  {
   "cell_type": "markdown",
   "metadata": {},
   "source": [
    "In this case, our challenge is to use the leave-one-out algorithm to work out the optimum value of *k* for estimating whether a new patient should be classified as belonging to group A or group B. The algorithm was described in Part 20, and is repeated here (with Steps 6 and 7 added):"
   ]
  },
  {
   "cell_type": "markdown",
   "metadata": {},
   "source": [
    "Step 1: Select a value of *k* to examine.\n",
    "    \n",
    "Step 2: Select one of the *n* training data points as the validation data. The remaining *n*-1  data points are used as a training set.\n",
    "\n",
    "Step 3: Build a *k*-NN classifier with the *n*-1 training data points, and use this to predict the class of the validation data point. Check the predicted class against the actual class of the test data.  \n",
    "\n",
    "Step 4: Repeat Steps 2 and 3 for each of the *n* labelled data points by choosing a different data point as validation data and using the rest of the *n*-1 data instances as training data.\n",
    "\n",
    "Step 5: Calculate an error rate as a ratio of incorrect classifications (*f*) to the total number of points in the test dataset (*n*), i.e. error rate = *f*/*n*.\n",
    "\n",
    "Step 6: With a different value of *k*, repeat Steps 2 to 5. Repeat this step until all values of *k* are examined.\n",
    "\n",
    "Step 7: Choose the value of *k* with the lowest error rate as an empirical optimal value. If there is a tie, choose the smallest *k*.\n"
   ]
  },
  {
   "cell_type": "markdown",
   "metadata": {},
   "source": [
    "The task of implementing the leave-one-out algorithm here is best carried out in two stages. \n"
   ]
  },
  {
   "cell_type": "markdown",
   "metadata": {},
   "source": [
    "For stage 1, we will develop a function which takes a single member of a dataset, and uses the remaining data to classify it with the *k*-NN algorithm. "
   ]
  },
  {
   "cell_type": "markdown",
   "metadata": {},
   "source": [
    "For stage 2, we will develop a second function which uses the function from stage 1 to calculate how many members of the dataset were correctly classified.\n"
   ]
  },
  {
   "cell_type": "markdown",
   "metadata": {},
   "source": [
    "We have provided a description of the working function, and suggested solutions for both these two stages, which you can use. However, you will gain much more benefit if you attempt to write the function yourself before looking at our proposed solution, even if you do not manage to build complete working functions yourself."
   ]
  },
  {
   "cell_type": "markdown",
   "metadata": {},
   "source": [
    "### Stage 1"
   ]
  },
  {
   "cell_type": "markdown",
   "metadata": {},
   "source": [
    "As stated above, we first require a function which will take a single member of a dataset, and use the remaining data to classify it with the *k*-NN algorithm."
   ]
  },
  {
   "cell_type": "markdown",
   "metadata": {},
   "source": [
    "We will call the function `classify_single_case`. This function should take four values, consisting of a DataFrame of training data, a series of target values, an index term, and a value *k* for the classifier.\n",
    "\n",
    "The function should then create a *k*-NN classifier, train it with all the data *except* the data point indexed by the index term, and return the class which the trained classifier predicts for the indexed term."
   ]
  },
  {
   "cell_type": "markdown",
   "metadata": {
    "code_folding": [],
    "collapsed": true
   },
   "source": [
    "The following cell contains a suggested implementation of the function <code>classify_single_case</code>. Before reading the cell, you should consider how you would write the function, and possibly attempt to implement it."
   ]
  },
  {
   "cell_type": "code",
   "execution_count": null,
   "metadata": {
    "collapsed": true
   },
   "outputs": [],
   "source": [
    "def classify_single_case(trainingData_df, targetValues_ss, ix, k):\n",
    "    '''Use k-NN to classify the member of trainingData_df with index\n",
    "       ix using a k-nearest neighbours classifier. The classifier is\n",
    "       trained on the data in trainingData_df and the classes in\n",
    "       targetValues_ss, with the data point indexed by ix omitted.\n",
    "       Returns the class assigned to the data point with index ix.\n",
    "    '''\n",
    "\n",
    "    # Create a classifier instance to do k-nearest neighbours\n",
    "    myClassifier = KNeighborsClassifier(n_neighbors=k,\n",
    "                                        metric='euclidean',\n",
    "                                        weights='uniform')\n",
    "\n",
    "    # Now apply the classifier to all data points except\n",
    "    # the one indexed by ix\n",
    "    myClassifier.fit(trainingData_df.drop(ix, axis='index'),\n",
    "                     targetValues_ss.drop(ix))\n",
    "\n",
    "    # Return the class predicted by the trained classifier:\n",
    "\n",
    "    return myClassifier.predict(trainingData_df.loc[ix])[0]"
   ]
  },
  {
   "cell_type": "markdown",
   "metadata": {},
   "source": [
    "We can see the operation of `classify_single_case` by comparing the outputs to those in Figure 20.8 in Part 20, Section 3.4. In that table, we can see that the point B8 is correctly classified by the algorithm where *k*=3, but incorrectly classified for *k*=5."
   ]
  },
  {
   "cell_type": "markdown",
   "metadata": {},
   "source": [
    "Trying the function on the patients dataset, and applying it to point B8 (which has index 17 in the DataFrame):"
   ]
  },
  {
   "cell_type": "code",
   "execution_count": null,
   "metadata": {
    "collapsed": true
   },
   "outputs": [],
   "source": [
    "'''\n",
    "\n",
    "Predict the class of the data point with index 17, using a k-NN classifier\n",
    "with k=3\n",
    "\n",
    "The actual class of the data point with this index is 'B'\n",
    "\n",
    "'''\n",
    "    \n",
    "# Import the patient data as a DataFrame\n",
    "patientData_df = pd.read_csv('data/patients.csv')\n",
    "\n",
    "# Use the two columns 'Exercise time (hours)' and \n",
    "# 'Sleep time (hours)' for the training data\n",
    "trainingData_df = patientData_df[['Exercise time (hours)', 'Sleep time (hours)']]\n",
    "\n",
    "# Use the column 'Patient group' as the target values\n",
    "targetValues_ss = patientData_df['Patient group']\n",
    "\n",
    "# Return the predicted value of the data point with index 17 for k=3:\n",
    "classify_single_case(trainingData_df,\n",
    "                     targetValues_ss,\n",
    "                     17,\n",
    "                     3)"
   ]
  },
  {
   "cell_type": "code",
   "execution_count": null,
   "metadata": {
    "collapsed": true
   },
   "outputs": [],
   "source": [
    "'''\n",
    "\n",
    "Predict the class of the data point with index 17, using a k-NN classifier\n",
    "with k=5\n",
    "\n",
    "The actual class of the data point with this index is 'B'\n",
    "\n",
    "'''\n",
    "    \n",
    "# Import the patient data as a DataFrame\n",
    "patientData_df = pd.read_csv('data/patients.csv')\n",
    "\n",
    "# Use the two columns 'Exercise time (hours)' and \n",
    "# 'Sleep time (hours)' for the training data\n",
    "trainingData_df = patientData_df[['Exercise time (hours)', 'Sleep time (hours)']]\n",
    "\n",
    "# Use the column 'Patient group' as the target values\n",
    "targetValues_ss = patientData_df['Patient group']\n",
    "\n",
    "# Return the predicted value of the data point with index 17 for k=5:\n",
    "classify_single_case(trainingData_df,\n",
    "                     targetValues_ss,\n",
    "                     17,\n",
    "                     5)"
   ]
  },
  {
   "cell_type": "markdown",
   "metadata": {},
   "source": [
    "As we would hope, the function has correctly classified the point for *k*=3, but incorrectly for *k*=5."
   ]
  },
  {
   "cell_type": "markdown",
   "metadata": {},
   "source": [
    "### Stage 2"
   ]
  },
  {
   "cell_type": "markdown",
   "metadata": {},
   "source": [
    "Having defined the <code>classify_single_case</code> function in Stage 1, we can now use the function to estimate the best value of *k* to use for the classifier, when applied to the [Wholesale customers data full.csv](./data/Wholesale%20customers%20data%20full.csv) dataset. "
   ]
  },
  {
   "cell_type": "markdown",
   "metadata": {},
   "source": [
    "As before, we will use the `Channel` column as the target values, and the `Fresh`, `Milk`, `Grocery`, `Frozen`, `Detergents_Paper` and `Delicatessen` columns as the training data (that is, we will not use the `Region` column). First, import the data file, and create a DataFrame with the appropriate training data, and a Series with the appropriate classes."
   ]
  },
  {
   "cell_type": "code",
   "execution_count": null,
   "metadata": {
    "collapsed": true
   },
   "outputs": [],
   "source": [
    "icmaData_df = pd.read_csv('data/Wholesale customers data full.csv')\n",
    "\n",
    "icmaTrainingData_df = icmaData_df[['Fresh', 'Milk', 'Grocery', 'Frozen', \n",
    "                                   'Detergents_Paper','Delicatessen']]\n",
    "icmaTargetValues_ss = icmaData_df['Channel']\n"
   ]
  },
  {
   "cell_type": "markdown",
   "metadata": {},
   "source": [
    "Next, to obtain a list of predicted values for some *k*, we apply the function `classify_single_case` to the training data for each data point. For example, the predicted values for *k*=5 are:"
   ]
  },
  {
   "cell_type": "code",
   "execution_count": null,
   "metadata": {
    "collapsed": true
   },
   "outputs": [],
   "source": [
    "[classify_single_case(icmaTrainingData_df,\n",
    "                      icmaTargetValues_ss,\n",
    "                      i,\n",
    "                      5)\n",
    " for i in icmaTrainingData_df.index]"
   ]
  },
  {
   "cell_type": "markdown",
   "metadata": {},
   "source": [
    "To identify the number of discrepencies between the predicted values and the actual values, we can compare the Series of predicted classes with the Series of actual classes (where `True` means the predicted class is the same as the actual class, and `False` means that they are different):"
   ]
  },
  {
   "cell_type": "code",
   "execution_count": null,
   "metadata": {
    "collapsed": true
   },
   "outputs": [],
   "source": [
    "[classify_single_case(icmaTrainingData_df,\n",
    "                      icmaTargetValues_ss,\n",
    "                      i,\n",
    "                      5)\n",
    " for i in icmaTrainingData_df.index] == icmaTargetValues_ss"
   ]
  },
  {
   "cell_type": "markdown",
   "metadata": {},
   "source": [
    "We can then use the `count` method to find the total number of correctly classified predictions:"
   ]
  },
  {
   "cell_type": "code",
   "execution_count": null,
   "metadata": {
    "collapsed": true
   },
   "outputs": [],
   "source": [
    "list([classify_single_case(icmaTrainingData_df,\n",
    "                           icmaTargetValues_ss,\n",
    "                           i,\n",
    "                           5)\n",
    "      for i in icmaTrainingData_df.index] == icmaTargetValues_ss).count(True)"
   ]
  },
  {
   "cell_type": "markdown",
   "metadata": {},
   "source": [
    "To find the optimum value of *k* we want the value that gets the prediction correct most often. To determine this value, we just carry out the above calculation for a range of values of *k*. Here, we will try values from 1 to 7:"
   ]
  },
  {
   "cell_type": "code",
   "execution_count": null,
   "metadata": {
    "collapsed": true
   },
   "outputs": [],
   "source": [
    "for k in range(1, 8):\n",
    "    print('{}\\t{}'.format(k,\n",
    "                          list([classify_single_case(icmaTrainingData_df,\n",
    "                                                     icmaTargetValues_ss,\n",
    "                                                     i,\n",
    "                                                     k)\n",
    "                                for i in icmaTrainingData_df.index\n",
    "                               ] == icmaTargetValues_ss\n",
    "                              ).count(True)))\n",
    "    "
   ]
  },
  {
   "cell_type": "markdown",
   "metadata": {
    "code_folding": [
     2
    ]
   },
   "source": [
    "The highest values are for *k*=3 and *k*=4, so when building a classifier for unseen data, we would probably use one of these values."
   ]
  },
  {
   "cell_type": "markdown",
   "metadata": {},
   "source": [
    "## What next?\n",
    "If you are working through this Notebook as part of an inline exercise, return to the module materials now.\n",
    "\n",
    "If you are working through this set of Notebooks as a whole, you've completed the Part 20 Notebooks.\n"
   ]
  }
 ],
 "metadata": {
  "kernelspec": {
   "display_name": "Python 3",
   "language": "python",
   "name": "python3"
  },
  "language_info": {
   "codemirror_mode": {
    "name": "ipython",
    "version": 3
   },
   "file_extension": ".py",
   "mimetype": "text/x-python",
   "name": "python",
   "nbconvert_exporter": "python",
   "pygments_lexer": "ipython3",
   "version": "3.5.2"
  }
 },
 "nbformat": 4,
 "nbformat_minor": 1
}
