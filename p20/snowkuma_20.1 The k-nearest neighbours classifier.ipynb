{
 "cells": [
  {
   "cell_type": "markdown",
   "metadata": {},
   "source": [
    "# The *k*-nearest neighbours classifier"
   ]
  },
  {
   "cell_type": "code",
   "execution_count": 1,
   "metadata": {
    "activity": false,
    "collapsed": true
   },
   "outputs": [],
   "source": [
    "# Include some standard imports.\n",
    "\n",
    "import pandas as pd\n",
    "\n",
    "import matplotlib.pyplot as plt\n",
    "import seaborn as sns"
   ]
  },
  {
   "cell_type": "markdown",
   "metadata": {},
   "source": [
    "## The KNeighborsClassifier library functions"
   ]
  },
  {
   "cell_type": "markdown",
   "metadata": {},
   "source": [
    "In the module materials you have seen how the *k*-nearest neighbours algorithm (*k*-NN) can be used as a simple technique for classifying a new object based on how closely it matches the properties of other objects which have already been classified. In this Notebook we will work through some examples of how to use the Python libraries to build and use a *k*-NN classifier."
   ]
  },
  {
   "cell_type": "markdown",
   "metadata": {},
   "source": [
    "The `SKLearn` library in Python provides a set of functions for carrying out *k*-nearest neighbours analyses. In this Notebook you will use use this library to carry out some nearest neighbour classification tasks. The library is implemented in the `sklearn.neighbors` library."
   ]
  },
  {
   "cell_type": "markdown",
   "metadata": {},
   "source": [
    "To see how to use the library on a simple example, we will start by using the patient data (Part 20, Figure 20.3).\n",
    "\n",
    "The data has been saved in the file [patients.csv](./data/patients.csv), which we can import as a DataFrame:"
   ]
  },
  {
   "cell_type": "code",
   "execution_count": 2,
   "metadata": {
    "activity": false
   },
   "outputs": [
    {
     "data": {
      "text/html": [
       "<div>\n",
       "<style>\n",
       "    .dataframe thead tr:only-child th {\n",
       "        text-align: right;\n",
       "    }\n",
       "\n",
       "    .dataframe thead th {\n",
       "        text-align: left;\n",
       "    }\n",
       "\n",
       "    .dataframe tbody tr th {\n",
       "        vertical-align: top;\n",
       "    }\n",
       "</style>\n",
       "<table border=\"1\" class=\"dataframe\">\n",
       "  <thead>\n",
       "    <tr style=\"text-align: right;\">\n",
       "      <th></th>\n",
       "      <th>Patient group</th>\n",
       "      <th>Exercise time (hours)</th>\n",
       "      <th>Sleep time (hours)</th>\n",
       "    </tr>\n",
       "  </thead>\n",
       "  <tbody>\n",
       "    <tr>\n",
       "      <th>0</th>\n",
       "      <td>A</td>\n",
       "      <td>0.7</td>\n",
       "      <td>5.2</td>\n",
       "    </tr>\n",
       "    <tr>\n",
       "      <th>1</th>\n",
       "      <td>A</td>\n",
       "      <td>0.6</td>\n",
       "      <td>5.6</td>\n",
       "    </tr>\n",
       "    <tr>\n",
       "      <th>2</th>\n",
       "      <td>A</td>\n",
       "      <td>1.0</td>\n",
       "      <td>5.0</td>\n",
       "    </tr>\n",
       "    <tr>\n",
       "      <th>3</th>\n",
       "      <td>A</td>\n",
       "      <td>1.8</td>\n",
       "      <td>5.5</td>\n",
       "    </tr>\n",
       "    <tr>\n",
       "      <th>4</th>\n",
       "      <td>A</td>\n",
       "      <td>3.0</td>\n",
       "      <td>6.6</td>\n",
       "    </tr>\n",
       "  </tbody>\n",
       "</table>\n",
       "</div>"
      ],
      "text/plain": [
       "  Patient group  Exercise time (hours)  Sleep time (hours)\n",
       "0             A                    0.7                 5.2\n",
       "1             A                    0.6                 5.6\n",
       "2             A                    1.0                 5.0\n",
       "3             A                    1.8                 5.5\n",
       "4             A                    3.0                 6.6"
      ]
     },
     "execution_count": 2,
     "metadata": {},
     "output_type": "execute_result"
    }
   ],
   "source": [
    "patients_df = pd.read_csv('data/patients.csv')\n",
    "patients_df.head()"
   ]
  },
  {
   "cell_type": "markdown",
   "metadata": {},
   "source": [
    "The columns `Exercise time (hours)` and `Sleep time (hours)` give the values in hours of the two features of each patient. This DataFrame also contains a column `Patient group` which contains the classification of each of the patients into groups A and B."
   ]
  },
  {
   "cell_type": "markdown",
   "metadata": {},
   "source": [
    "To get a feel for the data, we can treat the `Exercise time (hours)` and `Sleep time (hours)` columns as points in a 2-dimensional space, and plot them with a scatter plot:"
   ]
  },
  {
   "cell_type": "code",
   "execution_count": 3,
   "metadata": {
    "activity": false,
    "commentate": false
   },
   "outputs": [
    {
     "data": {
      "text/plain": [
       "<matplotlib.axes._subplots.AxesSubplot at 0x7fd06a7d34a8>"
      ]
     },
     "execution_count": 3,
     "metadata": {},
     "output_type": "execute_result"
    },
    {
     "data": {
      "image/png": "[encoded data removed]",
      "text/plain": [
       "<matplotlib.figure.Figure at 0x7fd06a7bcf60>"
      ]
     },
     "metadata": {},
     "output_type": "display_data"
    }
   ],
   "source": [
    "groupA_df = patients_df[patients_df['Patient group']=='A']\n",
    "groupB_df = patients_df[patients_df['Patient group']=='B']\n",
    "\n",
    "ax = groupA_df.plot(x='Exercise time (hours)',\n",
    "                    y='Sleep time (hours)',\n",
    "                    kind='scatter', color='DarkBlue', label=\"Group A\", marker=\"o\",\n",
    "                    title=\"Scatter plot of patient data\")\n",
    "\n",
    "groupB_df.plot(x='Exercise time (hours)', \n",
    "               y='Sleep time (hours)',\n",
    "               kind='scatter', color='Red', label=\"Group B\", marker='s', ax=ax)\n"
   ]
  },
  {
   "cell_type": "markdown",
   "metadata": {},
   "source": [
    "Our aim is, given some new patients, if we're told how much time they have spent exercising, and how much time sleeping, can we classify them according to whether we think that they are of type A or type B?"
   ]
  },
  {
   "cell_type": "markdown",
   "metadata": {},
   "source": [
    "To carry out the classification, we will use the analyser in the `KNeighborsClassifier` library. Import the library with:"
   ]
  },
  {
   "cell_type": "code",
   "execution_count": 4,
   "metadata": {
    "activity": false,
    "collapsed": true
   },
   "outputs": [],
   "source": [
    "from sklearn.neighbors import KNeighborsClassifier"
   ]
  },
  {
   "cell_type": "markdown",
   "metadata": {},
   "source": [
    "Now, the first step is to create a classifier instance from the `KNeighborsClassifier` class. In the first instance, we will build a classifier with *k*=3, which is set using the parameter `n_neighbors` in the initialisation. We will also set the chosen metric to be Euclidean separation, as discussed in Section 3.1 of Part 20."
   ]
  },
  {
   "cell_type": "code",
   "execution_count": 5,
   "metadata": {
    "activity": false,
    "collapsed": true
   },
   "outputs": [],
   "source": [
    "classifier_3NN = KNeighborsClassifier(n_neighbors=3, metric='euclidean')"
   ]
  },
  {
   "cell_type": "markdown",
   "metadata": {},
   "source": [
    "Next we need to train the classifier on the training data. The `classifier_3NN` object has a method `fit(X, y)`, which takes an array of training data, `X` and a vector of classification values, `y`, to train the classifier."
   ]
  },
  {
   "cell_type": "markdown",
   "metadata": {},
   "source": [
    "When we use this library with *pandas*, we will usually pass the training data, `X`, to `fit` as a DataFrame, and the classification values, `y`, as a Series. "
   ]
  },
  {
   "cell_type": "markdown",
   "metadata": {},
   "source": [
    "In this case, we want the training data to be the columns `'Exercise time (hours)'` and `'Sleep time (hours)'` of `patients_df`, and the target values to be the column `patients_df['Patient group']`.\n"
   ]
  },
  {
   "cell_type": "code",
   "execution_count": 6,
   "metadata": {
    "activity": false
   },
   "outputs": [
    {
     "data": {
      "text/plain": [
       "KNeighborsClassifier(algorithm='auto', leaf_size=30, metric='euclidean',\n",
       "           metric_params=None, n_jobs=1, n_neighbors=3, p=2,\n",
       "           weights='uniform')"
      ]
     },
     "execution_count": 6,
     "metadata": {},
     "output_type": "execute_result"
    }
   ],
   "source": [
    "\n",
    "trainingData_df = patients_df[['Exercise time (hours)', 'Sleep time (hours)']]\n",
    "targetValues_ss = patients_df['Patient group']\n",
    "\n",
    "classifier_3NN.fit(trainingData_df, targetValues_ss)"
   ]
  },
  {
   "cell_type": "markdown",
   "metadata": {},
   "source": [
    "Our 3-NN classifier is now ready to be used. To use the classifier to classify a new instance, we use the method `predict(X)` where `X` is an array of test data which the classifier will attempt to classify."
   ]
  },
  {
   "cell_type": "markdown",
   "metadata": {},
   "source": [
    "In this case, we will try to classify a new patient who has registered an exercise time of 2.5 hours, and a sleep time of 6.5 hours. This test case should be presented in the same format as the training data, so let's define a DataFrame with a single row and columns with the same headings as we used in the training data:"
   ]
  },
  {
   "cell_type": "code",
   "execution_count": 7,
   "metadata": {
    "activity": false
   },
   "outputs": [
    {
     "data": {
      "text/html": [
       "<div>\n",
       "<style>\n",
       "    .dataframe thead tr:only-child th {\n",
       "        text-align: right;\n",
       "    }\n",
       "\n",
       "    .dataframe thead th {\n",
       "        text-align: left;\n",
       "    }\n",
       "\n",
       "    .dataframe tbody tr th {\n",
       "        vertical-align: top;\n",
       "    }\n",
       "</style>\n",
       "<table border=\"1\" class=\"dataframe\">\n",
       "  <thead>\n",
       "    <tr style=\"text-align: right;\">\n",
       "      <th></th>\n",
       "      <th>Exercise time (hours)</th>\n",
       "      <th>Sleep time (hours)</th>\n",
       "    </tr>\n",
       "  </thead>\n",
       "  <tbody>\n",
       "    <tr>\n",
       "      <th>0</th>\n",
       "      <td>2.5</td>\n",
       "      <td>6.5</td>\n",
       "    </tr>\n",
       "  </tbody>\n",
       "</table>\n",
       "</div>"
      ],
      "text/plain": [
       "   Exercise time (hours)  Sleep time (hours)\n",
       "0                    2.5                 6.5"
      ]
     },
     "execution_count": 7,
     "metadata": {},
     "output_type": "execute_result"
    }
   ],
   "source": [
    "testData_df = pd.DataFrame({'Exercise time (hours)':[2.5],\n",
    "                            'Sleep time (hours)':[6.5]})\n",
    "testData_df"
   ]
  },
  {
   "cell_type": "markdown",
   "metadata": {},
   "source": [
    "We then pass this to `predict`, which returns the class of the submitted data point."
   ]
  },
  {
   "cell_type": "code",
   "execution_count": 8,
   "metadata": {
    "activity": false
   },
   "outputs": [
    {
     "data": {
      "text/plain": [
       "array(['A'], dtype=object)"
      ]
     },
     "execution_count": 8,
     "metadata": {},
     "output_type": "execute_result"
    }
   ],
   "source": [
    "classifier_3NN.predict(testData_df)"
   ]
  },
  {
   "cell_type": "markdown",
   "metadata": {},
   "source": [
    "In this case, the classifier has predicted that the new patient is of type A."
   ]
  },
  {
   "cell_type": "markdown",
   "metadata": {},
   "source": [
    "To classify several instances at once, we use more rows in the test data DataFrame:"
   ]
  },
  {
   "cell_type": "code",
   "execution_count": 9,
   "metadata": {
    "activity": false
   },
   "outputs": [
    {
     "data": {
      "text/html": [
       "<div>\n",
       "<style>\n",
       "    .dataframe thead tr:only-child th {\n",
       "        text-align: right;\n",
       "    }\n",
       "\n",
       "    .dataframe thead th {\n",
       "        text-align: left;\n",
       "    }\n",
       "\n",
       "    .dataframe tbody tr th {\n",
       "        vertical-align: top;\n",
       "    }\n",
       "</style>\n",
       "<table border=\"1\" class=\"dataframe\">\n",
       "  <thead>\n",
       "    <tr style=\"text-align: right;\">\n",
       "      <th></th>\n",
       "      <th>Exercise time (hours)</th>\n",
       "      <th>Sleep time (hours)</th>\n",
       "    </tr>\n",
       "  </thead>\n",
       "  <tbody>\n",
       "    <tr>\n",
       "      <th>0</th>\n",
       "      <td>2.5</td>\n",
       "      <td>6.5</td>\n",
       "    </tr>\n",
       "    <tr>\n",
       "      <th>1</th>\n",
       "      <td>1.7</td>\n",
       "      <td>6.7</td>\n",
       "    </tr>\n",
       "    <tr>\n",
       "      <th>2</th>\n",
       "      <td>2.8</td>\n",
       "      <td>7.0</td>\n",
       "    </tr>\n",
       "    <tr>\n",
       "      <th>3</th>\n",
       "      <td>3.0</td>\n",
       "      <td>5.5</td>\n",
       "    </tr>\n",
       "  </tbody>\n",
       "</table>\n",
       "</div>"
      ],
      "text/plain": [
       "   Exercise time (hours)  Sleep time (hours)\n",
       "0                    2.5                 6.5\n",
       "1                    1.7                 6.7\n",
       "2                    2.8                 7.0\n",
       "3                    3.0                 5.5"
      ]
     },
     "execution_count": 9,
     "metadata": {},
     "output_type": "execute_result"
    }
   ],
   "source": [
    "testData_df = pd.DataFrame({'Exercise time (hours)':[2.5, 1.7, 2.8, 3],\n",
    "                            'Sleep time (hours)':[6.5, 6.7, 7.0, 5.5]})\n",
    "testData_df"
   ]
  },
  {
   "cell_type": "markdown",
   "metadata": {},
   "source": [
    "When we pass this DataFrame to the classifier, a numpy array is returned with the *n*<sup>th</sup> value in the array being the class of the datapoint represented by the *n*<sup>th</sup> row of the test data. "
   ]
  },
  {
   "cell_type": "code",
   "execution_count": 10,
   "metadata": {
    "activity": false
   },
   "outputs": [
    {
     "data": {
      "text/plain": [
       "array(['A', 'A', 'B', 'B'], dtype=object)"
      ]
     },
     "execution_count": 10,
     "metadata": {},
     "output_type": "execute_result"
    }
   ],
   "source": [
    "classifier_3NN.predict(testData_df)"
   ]
  },
  {
   "cell_type": "markdown",
   "metadata": {},
   "source": [
    "In fact, because the output of the classifier is a sequence of values rather than just a single value, it can be easier to see the classifications in a single DataFrame."
   ]
  },
  {
   "cell_type": "code",
   "execution_count": 11,
   "metadata": {
    "activity": false
   },
   "outputs": [
    {
     "data": {
      "text/html": [
       "<div>\n",
       "<style>\n",
       "    .dataframe thead tr:only-child th {\n",
       "        text-align: right;\n",
       "    }\n",
       "\n",
       "    .dataframe thead th {\n",
       "        text-align: left;\n",
       "    }\n",
       "\n",
       "    .dataframe tbody tr th {\n",
       "        vertical-align: top;\n",
       "    }\n",
       "</style>\n",
       "<table border=\"1\" class=\"dataframe\">\n",
       "  <thead>\n",
       "    <tr style=\"text-align: right;\">\n",
       "      <th></th>\n",
       "      <th>Exercise time (hours)</th>\n",
       "      <th>Sleep time (hours)</th>\n",
       "      <th>Patient group</th>\n",
       "    </tr>\n",
       "  </thead>\n",
       "  <tbody>\n",
       "    <tr>\n",
       "      <th>0</th>\n",
       "      <td>2.5</td>\n",
       "      <td>6.5</td>\n",
       "      <td>A</td>\n",
       "    </tr>\n",
       "    <tr>\n",
       "      <th>1</th>\n",
       "      <td>1.7</td>\n",
       "      <td>6.7</td>\n",
       "      <td>A</td>\n",
       "    </tr>\n",
       "    <tr>\n",
       "      <th>2</th>\n",
       "      <td>2.8</td>\n",
       "      <td>7.0</td>\n",
       "      <td>B</td>\n",
       "    </tr>\n",
       "    <tr>\n",
       "      <th>3</th>\n",
       "      <td>3.0</td>\n",
       "      <td>5.5</td>\n",
       "      <td>B</td>\n",
       "    </tr>\n",
       "  </tbody>\n",
       "</table>\n",
       "</div>"
      ],
      "text/plain": [
       "   Exercise time (hours)  Sleep time (hours) Patient group\n",
       "0                    2.5                 6.5             A\n",
       "1                    1.7                 6.7             A\n",
       "2                    2.8                 7.0             B\n",
       "3                    3.0                 5.5             B"
      ]
     },
     "execution_count": 11,
     "metadata": {},
     "output_type": "execute_result"
    }
   ],
   "source": [
    "output_df = testData_df.copy()\n",
    "output_df['Patient group'] = classifier_3NN.predict(testData_df)\n",
    "\n",
    "output_df"
   ]
  },
  {
   "cell_type": "markdown",
   "metadata": {},
   "source": [
    "To see how well the classifier is working, we can plot the test data on the same axes as the training data:"
   ]
  },
  {
   "cell_type": "code",
   "execution_count": 12,
   "metadata": {
    "activity": false
   },
   "outputs": [
    {
     "data": {
      "image/png": "[encoded data removed]",
      "text/plain": [
       "<matplotlib.figure.Figure at 0x7fd06558c390>"
      ]
     },
     "metadata": {},
     "output_type": "display_data"
    }
   ],
   "source": [
    "trainGroupA_df = patients_df[patients_df['Patient group']=='A']\n",
    "trainGroupB_df = patients_df[patients_df['Patient group']=='B']\n",
    "\n",
    "ax = trainGroupA_df.plot(x='Exercise time (hours)', y='Sleep time (hours)',\n",
    "                         kind='scatter', color='DarkBlue', label=\"Group A (train)\", marker=\"o\",\n",
    "                         title=\"Patient sleep data with test cases\")\n",
    "\n",
    "trainGroupB_df.plot(x='Exercise time (hours)', y='Sleep time (hours)',\n",
    "                    kind='scatter', color='Red', label=\"Group B (train)\", marker='s', ax=ax)\n",
    "\n",
    "testData_df.plot(x='Exercise time (hours)', y='Sleep time (hours)',\n",
    "                 kind='scatter', color='Green', label=\"Test data\",\n",
    "                 marker='^', ax=ax)\n",
    "\n",
    "# Extend the x-axis to better accommodate the labelling box:\n",
    "plt.xlim((0, 8))\n",
    "\n",
    "pass # Don't show any return values\n"
   ]
  },
  {
   "cell_type": "markdown",
   "metadata": {},
   "source": [
    "In the previous scatter plot, the test data is shown as a collection of green triangles. To see how these points are classified, we can make another plot, using triangles to show where the new points are classified. As before, the test cases are shown by triangles, but they are now given the same colour as the class into which they have been classified."
   ]
  },
  {
   "cell_type": "code",
   "execution_count": 13,
   "metadata": {
    "activity": false
   },
   "outputs": [
    {
     "data": {
      "image/png": "[encoded data removed]",
      "text/plain": [
       "<matplotlib.figure.Figure at 0x7fd0652cc390>"
      ]
     },
     "metadata": {},
     "output_type": "display_data"
    }
   ],
   "source": [
    "trainGroupA_df = patients_df[patients_df['Patient group']=='A']\n",
    "trainGroupB_df = patients_df[patients_df['Patient group']=='B']\n",
    "\n",
    "ax = trainGroupA_df.plot(x='Exercise time (hours)', y='Sleep time (hours)',\n",
    "                         kind='scatter', color='DarkBlue', label=\"Group A (train)\", marker=\"o\",\n",
    "                         title=\"Scatter plot of patient sleep data\")\n",
    "\n",
    "trainGroupB_df.plot(x='Exercise time (hours)', y='Sleep time (hours)',\n",
    "                    kind='scatter', color='Red', label=\"Group B (train)\", marker='s', ax=ax)\n",
    "\n",
    "testGroupA_df=output_df[output_df['Patient group']=='A']\n",
    "testGroupB_df=output_df[output_df['Patient group']=='B']\n",
    "\n",
    "testGroupA_df.plot(x='Exercise time (hours)', y='Sleep time (hours)',\n",
    "                   kind='scatter', color='DarkBlue', label=\"Group A (test)\", \n",
    "                   marker='^', ax=ax)\n",
    "\n",
    "testGroupB_df.plot(x='Exercise time (hours)', y='Sleep time (hours)',\n",
    "                   kind='scatter', color='Red', label=\"Group B (test)\",\n",
    "                   marker='^', ax=ax)\n",
    "\n",
    "# Extend the x-axis to better accommodate the labelling box:\n",
    "plt.xlim((0, 8))\n",
    "\n",
    "pass # Don't show any return values"
   ]
  },
  {
   "cell_type": "markdown",
   "metadata": {
    "activity": "activity"
   },
   "source": [
    "### Activity 1\n",
    "As we discussed in Section 3.4 of Part 20, the choice of *k* for a *k*-NN classifier can affect the results of the classification process.\n",
    "\n",
    "Use the same training data that we used previously in the Notebook to train a *k*-NN classifier for *k*=2, *k*=4 and *k*=5. Then use these classifiers to classify the test data in the `testData_df` DataFrame.\n",
    "\n",
    "Which of the data points are classified differently for different values of *k*?\n",
    "\n",
    "Our solution is below."
   ]
  },
  {
   "cell_type": "code",
   "execution_count": 14,
   "metadata": {
    "collapsed": true
   },
   "outputs": [],
   "source": [
    "# set up classifiers\n",
    "classifier_2NN = KNeighborsClassifier(n_neighbors=2, metric='euclidean')\n",
    "classifier_3NN = KNeighborsClassifier(n_neighbors=3, metric='euclidean')\n",
    "classifier_4NN = KNeighborsClassifier(n_neighbors=4, metric='euclidean')\n",
    "classifier_5NN = KNeighborsClassifier(n_neighbors=5, metric='euclidean')"
   ]
  },
  {
   "cell_type": "code",
   "execution_count": 15,
   "metadata": {},
   "outputs": [
    {
     "data": {
      "text/plain": [
       "KNeighborsClassifier(algorithm='auto', leaf_size=30, metric='euclidean',\n",
       "           metric_params=None, n_jobs=1, n_neighbors=5, p=2,\n",
       "           weights='uniform')"
      ]
     },
     "execution_count": 15,
     "metadata": {},
     "output_type": "execute_result"
    }
   ],
   "source": [
    "# input training data )using the DF and Series created earlier\n",
    "classifier_2NN.fit(trainingData_df, targetValues_ss)\n",
    "classifier_3NN.fit(trainingData_df, targetValues_ss)\n",
    "classifier_4NN.fit(trainingData_df, targetValues_ss)\n",
    "classifier_5NN.fit(trainingData_df, targetValues_ss)"
   ]
  },
  {
   "cell_type": "code",
   "execution_count": 17,
   "metadata": {},
   "outputs": [
    {
     "ename": "NameError",
     "evalue": "name 'testdata_df' is not defined",
     "output_type": "error",
     "traceback": [
      "\u001b[0;31m---------------------------------------------------------------------------\u001b[0m",
      "\u001b[0;31mNameError\u001b[0m                                 Traceback (most recent call last)",
      "\u001b[0;32m<ipython-input-17-fb659c6e0509>\u001b[0m in \u001b[0;36m<module>\u001b[0;34m()\u001b[0m\n\u001b[1;32m      1\u001b[0m \u001b[0;31m# classify the test data and put into single df\u001b[0m\u001b[0;34m\u001b[0m\u001b[0;34m\u001b[0m\u001b[0m\n\u001b[0;32m----> 2\u001b[0;31m \u001b[0moutput_df\u001b[0m \u001b[0;34m=\u001b[0m \u001b[0mtestdata_df\u001b[0m\u001b[0;34m.\u001b[0m\u001b[0mcopy\u001b[0m\u001b[0;34m(\u001b[0m\u001b[0;34m)\u001b[0m\u001b[0;34m\u001b[0m\u001b[0m\n\u001b[0m\u001b[1;32m      3\u001b[0m \u001b[0moutput_df\u001b[0m\u001b[0;34m[\u001b[0m\u001b[0;34m'Patient group k=2'\u001b[0m\u001b[0;34m]\u001b[0m \u001b[0;34m=\u001b[0m \u001b[0mclassifier_2NN\u001b[0m\u001b[0;34m.\u001b[0m\u001b[0mpredict\u001b[0m\u001b[0;34m(\u001b[0m\u001b[0mtestdata_df\u001b[0m\u001b[0;34m)\u001b[0m\u001b[0;34m\u001b[0m\u001b[0m\n\u001b[1;32m      4\u001b[0m \u001b[0moutput_df\u001b[0m\u001b[0;34m[\u001b[0m\u001b[0;34m'Patient group k=3'\u001b[0m\u001b[0;34m]\u001b[0m \u001b[0;34m=\u001b[0m \u001b[0mclassifier_3NN\u001b[0m\u001b[0;34m.\u001b[0m\u001b[0mpredict\u001b[0m\u001b[0;34m(\u001b[0m\u001b[0mtestdata_df\u001b[0m\u001b[0;34m)\u001b[0m\u001b[0;34m\u001b[0m\u001b[0m\n\u001b[1;32m      5\u001b[0m \u001b[0moutput_df\u001b[0m\u001b[0;34m[\u001b[0m\u001b[0;34m'Patient group k=4'\u001b[0m\u001b[0;34m]\u001b[0m \u001b[0;34m=\u001b[0m \u001b[0mclassifier_4NN\u001b[0m\u001b[0;34m.\u001b[0m\u001b[0mpredict\u001b[0m\u001b[0;34m(\u001b[0m\u001b[0mtestdata_df\u001b[0m\u001b[0;34m)\u001b[0m\u001b[0;34m\u001b[0m\u001b[0m\n",
      "\u001b[0;31mNameError\u001b[0m: name 'testdata_df' is not defined"
     ]
    }
   ],
   "source": [
    "# classify the test data and put into single df\n",
    "output_df = testdata_df.copy()\n",
    "output_df['Patient group k=2'] = classifier_2NN.predict(testdata_df)\n",
    "output_df['Patient group k=3'] = classifier_3NN.predict(testdata_df)\n",
    "output_df['Patient group k=4'] = classifier_4NN.predict(testdata_df)\n",
    "output_df['Patient group k=5'] = classifier_5NN.predict(testdata_df)\n",
    "\n",
    "output_df"
   ]
  },
  {
   "cell_type": "code",
   "execution_count": null,
   "metadata": {},
   "outputs": [],
   "source": [
    "output_df = testdata_df.copy()\n",
    "for k in range(2,6):\n",
    "    classifier_knn = KNeighborsClassifier(n_neighbors=k, metric='euclidean')\n",
    "    classifier_knn.fit(trainingData_df, targetValues_ss)\n",
    "\n",
    "    output_df['Patient Group (k={})'.format(k)] = classifier_knn.predict(testdata_df)\n",
    "\n",
    "output_df"
   ]
  },
  {
   "cell_type": "markdown",
   "metadata": {},
   "source": [
    "#### Our solution\n",
    "\n",
    "To reveal our solution, click on the triangle symbol on the left-hand end of this cell."
   ]
  },
  {
   "cell_type": "markdown",
   "metadata": {},
   "source": [
    "A simple example which would generate the classifications for the new points at different values of *k* is given here:"
   ]
  },
  {
   "cell_type": "code",
   "execution_count": null,
   "metadata": {},
   "outputs": [],
   "source": [
    "output_df = testData_df.copy()\n",
    "\n",
    "for k in range(2, 6):\n",
    "    classifier_kNN = KNeighborsClassifier(n_neighbors=k, metric='euclidean')\n",
    "    classifier_kNN.fit(trainingData_df, targetValues_ss)\n",
    "    \n",
    "    output_df['Patient group (k={})'.format(k)] = classifier_kNN.predict(testData_df)\n",
    "\n",
    "output_df"
   ]
  },
  {
   "cell_type": "markdown",
   "metadata": {},
   "source": [
    "The test data points at (2.5, 6.5) and (2.8, 7.0) are both sensitive to the size of *k*. This could suggest that they are borderline cases. In a real task, the data analyst might want to single out these points for special consideration."
   ]
  },
  {
   "cell_type": "markdown",
   "metadata": {},
   "source": [
    "## Weighted voting"
   ]
  },
  {
   "cell_type": "markdown",
   "metadata": {},
   "source": [
    "In Section 3.3 of Part 20, we discussed that a possible tweak to the general *k*-NN model might be to use a weighted voting strategy, whereby each node's contribution is scaled according to its proximity to the test node."
   ]
  },
  {
   "cell_type": "markdown",
   "metadata": {},
   "source": [
    "A weighted voting scheme has been implemented in the `KNeighborsClassifier` constructor. To use a weighted classifier, the call:\n",
    "\n",
    "    KNeighborsClassifier(n_neighbors=k, metric='euclidean', weights='distance')\n",
    "   \n",
    "returns a classifier for *k* nearest neighbours, with Euclidean distance, and where the contribution of each point is weighted by the inverse of its distance from the new point.\n",
    "\n",
    "Note: The default value of `weights` is `uniform`, where each of the *k* nearest points contribute equally to the class selection."
   ]
  },
  {
   "cell_type": "markdown",
   "metadata": {},
   "source": [
    "### Activity 2\n",
    "Repeat Activity 20.1, but using a weighted classifier, rather than the uniform classifier.\n",
    "\n",
    "Which data points appear to be most susceptible to the size of *k* for the weighted classifier?\n"
   ]
  },
  {
   "cell_type": "code",
   "execution_count": null,
   "metadata": {},
   "outputs": [],
   "source": [
    "output_df = testdata_df.copy()\n",
    "\n",
    "for k in range(2,9):\n",
    "    classifier_knn = KNeighborsClassifier(n_neighbors=k, metric='euclidean', weights='distance')\n",
    "    classifier_knn.fit(trainingData_df, targetValues_ss)\n",
    "    \n",
    "    output_df['PG weighted ({0})'.format(k)] = classifier_knn.predict(testdata_df)\n",
    "\n",
    "output_df"
   ]
  },
  {
   "cell_type": "markdown",
   "metadata": {},
   "source": [
    "#### Our solution\n",
    "\n",
    "To reveal our solution, click on the triangle symbol on the left-hand end of this cell."
   ]
  },
  {
   "cell_type": "markdown",
   "metadata": {},
   "source": [
    "For the weighted classifier, the data points are all given the same classification for values of *k*. A weighted classification strategy can be more robust than the uniform strategy, but may be less informative about the borderline cases.\n",
    "\n",
    "A code snippet to generate the figures for the test set is:"
   ]
  },
  {
   "cell_type": "code",
   "execution_count": null,
   "metadata": {},
   "outputs": [],
   "source": [
    "output_df = testData_df.copy()\n",
    "\n",
    "for k in range(2, 9):\n",
    "    classifier_kNN = KNeighborsClassifier(n_neighbors=k, metric='euclidean', weights='distance')\n",
    "    classifier_kNN.fit(trainingData_df, targetValues_ss)\n",
    "    \n",
    "    output_df['Patient group (k={})'.format(k)] = classifier_kNN.predict(testData_df)\n",
    "\n",
    "output_df"
   ]
  },
  {
   "cell_type": "markdown",
   "metadata": {
    "collapsed": true
   },
   "source": [
    "## What next?\n",
    "\n",
    "You have now completed this Notebook. You should now be able to tackle iCMA 46 Question 1.\n",
    "\n",
    "If you are working through this Notebook as part of an inline exercise, return to the module materials now.\n",
    "\n",
    "If you are working through this set of Notebooks as a whole, move on to `20.2 The leave-one-out algorithm`."
   ]
  },
  {
   "cell_type": "markdown",
   "metadata": {},
   "source": [
    "# ICMA46\n"
   ]
  },
  {
   "cell_type": "code",
   "execution_count": null,
   "metadata": {},
   "outputs": [],
   "source": [
    "! head iCMA46/Wholesale\\ customers\\ data\\ train.csv"
   ]
  },
  {
   "cell_type": "code",
   "execution_count": null,
   "metadata": {},
   "outputs": [],
   "source": [
    "wholesale_df = pd.read_csv('iCMA46/Wholesale customers data train.csv')\n",
    "wholesale_df.head()"
   ]
  },
  {
   "cell_type": "code",
   "execution_count": null,
   "metadata": {
    "collapsed": true
   },
   "outputs": [],
   "source": [
    "classifier = KNeighborsClassifier(n_neighbors=5, metric='euclidean', weights='uniform')"
   ]
  },
  {
   "cell_type": "code",
   "execution_count": null,
   "metadata": {
    "collapsed": true
   },
   "outputs": [],
   "source": [
    "training_data_df = wholesale_df[['Fresh','Milk','Grocery','Frozen','Detergents_Paper','Delicatessen']]\n",
    "target_values_ss = wholesale_df['Channel']\n"
   ]
  },
  {
   "cell_type": "code",
   "execution_count": null,
   "metadata": {},
   "outputs": [],
   "source": [
    "classifier.fit(training_data_df, target_values_ss)"
   ]
  },
  {
   "cell_type": "code",
   "execution_count": null,
   "metadata": {},
   "outputs": [],
   "source": [
    "test_data = pd.DataFrame({'Customer name': ['Bebiba',' Ementa', 'Presunto'],\n",
    "            'Fresh':[60080, 46681, 32204],\n",
    "            'Milk':[7550,3817,26890],\n",
    "            'Grocery':[42614,80473,11572],\n",
    "            'Frozen': [29190, 60059, 40667],\n",
    "            'Detergents_Paper': [38437,5463,22393],\n",
    "            'Delicatessen':[34238, 18367, 30986]})\n",
    "test_data.head()"
   ]
  },
  {
   "cell_type": "code",
   "execution_count": null,
   "metadata": {},
   "outputs": [],
   "source": [
    "classifier.predict(test_data[['Fresh','Milk','Grocery','Frozen','Detergents_Paper','Delicatessen']])"
   ]
  },
  {
   "cell_type": "code",
   "execution_count": null,
   "metadata": {},
   "outputs": [],
   "source": [
    "def normalise(lowerlimit, upperlimit, x):\n",
    "    '''scales a value to the range defined by the lower \n",
    "    and upper limits provided'''\n",
    "    \n",
    "    return ((x-lowerlimit)/(upperlimit-lowerlimit))\n",
    "\n",
    "normalise(2, 6, 4)"
   ]
  },
  {
   "cell_type": "code",
   "execution_count": 20,
   "metadata": {},
   "outputs": [
    {
     "ename": "FileNotFoundError",
     "evalue": "File b'iCMA46/iris_data.csv' does not exist",
     "output_type": "error",
     "traceback": [
      "\u001b[0;31m---------------------------------------------------------------------------\u001b[0m",
      "\u001b[0;31mFileNotFoundError\u001b[0m                         Traceback (most recent call last)",
      "\u001b[0;32m<ipython-input-20-a985e74d8e1a>\u001b[0m in \u001b[0;36m<module>\u001b[0;34m()\u001b[0m\n\u001b[0;32m----> 1\u001b[0;31m \u001b[0mirisdata_df\u001b[0m \u001b[0;34m=\u001b[0m \u001b[0mpd\u001b[0m\u001b[0;34m.\u001b[0m\u001b[0mread_csv\u001b[0m\u001b[0;34m(\u001b[0m\u001b[0;34m'iCMA46/iris_data.csv'\u001b[0m\u001b[0;34m)\u001b[0m\u001b[0;34m\u001b[0m\u001b[0m\n\u001b[0m\u001b[1;32m      2\u001b[0m \u001b[0mirisdata_df\u001b[0m\u001b[0;34m.\u001b[0m\u001b[0mhead\u001b[0m\u001b[0;34m(\u001b[0m\u001b[0;34m)\u001b[0m\u001b[0;34m\u001b[0m\u001b[0m\n",
      "\u001b[0;32m/usr/local/lib/python3.5/dist-packages/pandas/io/parsers.py\u001b[0m in \u001b[0;36mparser_f\u001b[0;34m(filepath_or_buffer, sep, delimiter, header, names, index_col, usecols, squeeze, prefix, mangle_dupe_cols, dtype, engine, converters, true_values, false_values, skipinitialspace, skiprows, nrows, na_values, keep_default_na, na_filter, verbose, skip_blank_lines, parse_dates, infer_datetime_format, keep_date_col, date_parser, dayfirst, iterator, chunksize, compression, thousands, decimal, lineterminator, quotechar, quoting, escapechar, comment, encoding, dialect, tupleize_cols, error_bad_lines, warn_bad_lines, skipfooter, skip_footer, doublequote, delim_whitespace, as_recarray, compact_ints, use_unsigned, low_memory, buffer_lines, memory_map, float_precision)\u001b[0m\n\u001b[1;32m    653\u001b[0m                     skip_blank_lines=skip_blank_lines)\n\u001b[1;32m    654\u001b[0m \u001b[0;34m\u001b[0m\u001b[0m\n\u001b[0;32m--> 655\u001b[0;31m         \u001b[0;32mreturn\u001b[0m \u001b[0m_read\u001b[0m\u001b[0;34m(\u001b[0m\u001b[0mfilepath_or_buffer\u001b[0m\u001b[0;34m,\u001b[0m \u001b[0mkwds\u001b[0m\u001b[0;34m)\u001b[0m\u001b[0;34m\u001b[0m\u001b[0m\n\u001b[0m\u001b[1;32m    656\u001b[0m \u001b[0;34m\u001b[0m\u001b[0m\n\u001b[1;32m    657\u001b[0m     \u001b[0mparser_f\u001b[0m\u001b[0;34m.\u001b[0m\u001b[0m__name__\u001b[0m \u001b[0;34m=\u001b[0m \u001b[0mname\u001b[0m\u001b[0;34m\u001b[0m\u001b[0m\n",
      "\u001b[0;32m/usr/local/lib/python3.5/dist-packages/pandas/io/parsers.py\u001b[0m in \u001b[0;36m_read\u001b[0;34m(filepath_or_buffer, kwds)\u001b[0m\n\u001b[1;32m    403\u001b[0m \u001b[0;34m\u001b[0m\u001b[0m\n\u001b[1;32m    404\u001b[0m     \u001b[0;31m# Create the parser.\u001b[0m\u001b[0;34m\u001b[0m\u001b[0;34m\u001b[0m\u001b[0m\n\u001b[0;32m--> 405\u001b[0;31m     \u001b[0mparser\u001b[0m \u001b[0;34m=\u001b[0m \u001b[0mTextFileReader\u001b[0m\u001b[0;34m(\u001b[0m\u001b[0mfilepath_or_buffer\u001b[0m\u001b[0;34m,\u001b[0m \u001b[0;34m**\u001b[0m\u001b[0mkwds\u001b[0m\u001b[0;34m)\u001b[0m\u001b[0;34m\u001b[0m\u001b[0m\n\u001b[0m\u001b[1;32m    406\u001b[0m \u001b[0;34m\u001b[0m\u001b[0m\n\u001b[1;32m    407\u001b[0m     \u001b[0;32mif\u001b[0m \u001b[0mchunksize\u001b[0m \u001b[0;32mor\u001b[0m \u001b[0miterator\u001b[0m\u001b[0;34m:\u001b[0m\u001b[0;34m\u001b[0m\u001b[0m\n",
      "\u001b[0;32m/usr/local/lib/python3.5/dist-packages/pandas/io/parsers.py\u001b[0m in \u001b[0;36m__init__\u001b[0;34m(self, f, engine, **kwds)\u001b[0m\n\u001b[1;32m    762\u001b[0m             \u001b[0mself\u001b[0m\u001b[0;34m.\u001b[0m\u001b[0moptions\u001b[0m\u001b[0;34m[\u001b[0m\u001b[0;34m'has_index_names'\u001b[0m\u001b[0;34m]\u001b[0m \u001b[0;34m=\u001b[0m \u001b[0mkwds\u001b[0m\u001b[0;34m[\u001b[0m\u001b[0;34m'has_index_names'\u001b[0m\u001b[0;34m]\u001b[0m\u001b[0;34m\u001b[0m\u001b[0m\n\u001b[1;32m    763\u001b[0m \u001b[0;34m\u001b[0m\u001b[0m\n\u001b[0;32m--> 764\u001b[0;31m         \u001b[0mself\u001b[0m\u001b[0;34m.\u001b[0m\u001b[0m_make_engine\u001b[0m\u001b[0;34m(\u001b[0m\u001b[0mself\u001b[0m\u001b[0;34m.\u001b[0m\u001b[0mengine\u001b[0m\u001b[0;34m)\u001b[0m\u001b[0;34m\u001b[0m\u001b[0m\n\u001b[0m\u001b[1;32m    765\u001b[0m \u001b[0;34m\u001b[0m\u001b[0m\n\u001b[1;32m    766\u001b[0m     \u001b[0;32mdef\u001b[0m \u001b[0mclose\u001b[0m\u001b[0;34m(\u001b[0m\u001b[0mself\u001b[0m\u001b[0;34m)\u001b[0m\u001b[0;34m:\u001b[0m\u001b[0;34m\u001b[0m\u001b[0m\n",
      "\u001b[0;32m/usr/local/lib/python3.5/dist-packages/pandas/io/parsers.py\u001b[0m in \u001b[0;36m_make_engine\u001b[0;34m(self, engine)\u001b[0m\n\u001b[1;32m    983\u001b[0m     \u001b[0;32mdef\u001b[0m \u001b[0m_make_engine\u001b[0m\u001b[0;34m(\u001b[0m\u001b[0mself\u001b[0m\u001b[0;34m,\u001b[0m \u001b[0mengine\u001b[0m\u001b[0;34m=\u001b[0m\u001b[0;34m'c'\u001b[0m\u001b[0;34m)\u001b[0m\u001b[0;34m:\u001b[0m\u001b[0;34m\u001b[0m\u001b[0m\n\u001b[1;32m    984\u001b[0m         \u001b[0;32mif\u001b[0m \u001b[0mengine\u001b[0m \u001b[0;34m==\u001b[0m \u001b[0;34m'c'\u001b[0m\u001b[0;34m:\u001b[0m\u001b[0;34m\u001b[0m\u001b[0m\n\u001b[0;32m--> 985\u001b[0;31m             \u001b[0mself\u001b[0m\u001b[0;34m.\u001b[0m\u001b[0m_engine\u001b[0m \u001b[0;34m=\u001b[0m \u001b[0mCParserWrapper\u001b[0m\u001b[0;34m(\u001b[0m\u001b[0mself\u001b[0m\u001b[0;34m.\u001b[0m\u001b[0mf\u001b[0m\u001b[0;34m,\u001b[0m \u001b[0;34m**\u001b[0m\u001b[0mself\u001b[0m\u001b[0;34m.\u001b[0m\u001b[0moptions\u001b[0m\u001b[0;34m)\u001b[0m\u001b[0;34m\u001b[0m\u001b[0m\n\u001b[0m\u001b[1;32m    986\u001b[0m         \u001b[0;32melse\u001b[0m\u001b[0;34m:\u001b[0m\u001b[0;34m\u001b[0m\u001b[0m\n\u001b[1;32m    987\u001b[0m             \u001b[0;32mif\u001b[0m \u001b[0mengine\u001b[0m \u001b[0;34m==\u001b[0m \u001b[0;34m'python'\u001b[0m\u001b[0;34m:\u001b[0m\u001b[0;34m\u001b[0m\u001b[0m\n",
      "\u001b[0;32m/usr/local/lib/python3.5/dist-packages/pandas/io/parsers.py\u001b[0m in \u001b[0;36m__init__\u001b[0;34m(self, src, **kwds)\u001b[0m\n\u001b[1;32m   1603\u001b[0m         \u001b[0mkwds\u001b[0m\u001b[0;34m[\u001b[0m\u001b[0;34m'allow_leading_cols'\u001b[0m\u001b[0;34m]\u001b[0m \u001b[0;34m=\u001b[0m \u001b[0mself\u001b[0m\u001b[0;34m.\u001b[0m\u001b[0mindex_col\u001b[0m \u001b[0;32mis\u001b[0m \u001b[0;32mnot\u001b[0m \u001b[0;32mFalse\u001b[0m\u001b[0;34m\u001b[0m\u001b[0m\n\u001b[1;32m   1604\u001b[0m \u001b[0;34m\u001b[0m\u001b[0m\n\u001b[0;32m-> 1605\u001b[0;31m         \u001b[0mself\u001b[0m\u001b[0;34m.\u001b[0m\u001b[0m_reader\u001b[0m \u001b[0;34m=\u001b[0m \u001b[0mparsers\u001b[0m\u001b[0;34m.\u001b[0m\u001b[0mTextReader\u001b[0m\u001b[0;34m(\u001b[0m\u001b[0msrc\u001b[0m\u001b[0;34m,\u001b[0m \u001b[0;34m**\u001b[0m\u001b[0mkwds\u001b[0m\u001b[0;34m)\u001b[0m\u001b[0;34m\u001b[0m\u001b[0m\n\u001b[0m\u001b[1;32m   1606\u001b[0m \u001b[0;34m\u001b[0m\u001b[0m\n\u001b[1;32m   1607\u001b[0m         \u001b[0;31m# XXX\u001b[0m\u001b[0;34m\u001b[0m\u001b[0;34m\u001b[0m\u001b[0m\n",
      "\u001b[0;32mpandas/_libs/parsers.pyx\u001b[0m in \u001b[0;36mpandas._libs.parsers.TextReader.__cinit__ (pandas/_libs/parsers.c:4209)\u001b[0;34m()\u001b[0m\n",
      "\u001b[0;32mpandas/_libs/parsers.pyx\u001b[0m in \u001b[0;36mpandas._libs.parsers.TextReader._setup_parser_source (pandas/_libs/parsers.c:8873)\u001b[0;34m()\u001b[0m\n",
      "\u001b[0;31mFileNotFoundError\u001b[0m: File b'iCMA46/iris_data.csv' does not exist"
     ]
    }
   ],
   "source": [
    "irisdata_df = pd.read_csv('iCMA46/iris_data.csv')\n",
    "irisdata_df.head()"
   ]
  },
  {
   "cell_type": "code",
   "execution_count": null,
   "metadata": {
    "collapsed": true
   },
   "outputs": [],
   "source": [
    "normalised_iris_df = irisdata_df.copy()[['Sepal length', 'Sepal width', 'Petal width']]"
   ]
  },
  {
   "cell_type": "code",
   "execution_count": 18,
   "metadata": {
    "collapsed": true
   },
   "outputs": [],
   "source": [
    "def normalise_dataframe(df):\n",
    "    res = pd.DataFrame()\n",
    "    for c in df.columns:\n",
    "        res[c] = df[c].apply(lambda x: normalise(max(df[c]), min(df[c]), x))\n",
    "    return res"
   ]
  },
  {
   "cell_type": "code",
   "execution_count": 19,
   "metadata": {},
   "outputs": [
    {
     "ename": "NameError",
     "evalue": "name 'irisdata_df' is not defined",
     "output_type": "error",
     "traceback": [
      "\u001b[0;31m---------------------------------------------------------------------------\u001b[0m",
      "\u001b[0;31mNameError\u001b[0m                                 Traceback (most recent call last)",
      "\u001b[0;32m<ipython-input-19-c28f39652549>\u001b[0m in \u001b[0;36m<module>\u001b[0;34m()\u001b[0m\n\u001b[0;32m----> 1\u001b[0;31m \u001b[0mn_iris_training_df\u001b[0m \u001b[0;34m=\u001b[0m \u001b[0mnormalise_dataframe\u001b[0m\u001b[0;34m(\u001b[0m\u001b[0mirisdata_df\u001b[0m\u001b[0;34m[\u001b[0m\u001b[0;34m[\u001b[0m\u001b[0;34m'Sepal length'\u001b[0m\u001b[0;34m,\u001b[0m \u001b[0;34m'Sepal width'\u001b[0m\u001b[0;34m,\u001b[0m \u001b[0;34m'Petal length'\u001b[0m\u001b[0;34m,\u001b[0m \u001b[0;34m'Petal width'\u001b[0m\u001b[0;34m]\u001b[0m\u001b[0;34m]\u001b[0m\u001b[0;34m)\u001b[0m\u001b[0;34m\u001b[0m\u001b[0m\n\u001b[0m\u001b[1;32m      2\u001b[0m \u001b[0miris_target_values_df\u001b[0m \u001b[0;34m=\u001b[0m \u001b[0mirisdata_df\u001b[0m\u001b[0;34m[\u001b[0m\u001b[0;34m'Species'\u001b[0m\u001b[0;34m]\u001b[0m\u001b[0;34m\u001b[0m\u001b[0m\n\u001b[1;32m      3\u001b[0m \u001b[0mnormalised_iris_df\u001b[0m\u001b[0;34m.\u001b[0m\u001b[0mhead\u001b[0m\u001b[0;34m(\u001b[0m\u001b[0;34m)\u001b[0m\u001b[0;34m\u001b[0m\u001b[0m\n",
      "\u001b[0;31mNameError\u001b[0m: name 'irisdata_df' is not defined"
     ]
    }
   ],
   "source": [
    "n_iris_training_df = normalise_dataframe(irisdata_df[['Sepal length', 'Sepal width', 'Petal length', 'Petal width']])\n",
    "iris_target_values_df = irisdata_df['Species']\n",
    "normalised_iris_df.head()"
   ]
  },
  {
   "cell_type": "code",
   "execution_count": null,
   "metadata": {},
   "outputs": [],
   "source": [
    "test_iris_data_df = pd.DataFrame(\n",
    "    {'Sample': ['Sample 1','Sample 2','Sample 3','Sample 4'],\n",
    "                    'Sepal length':  [4.32, 4.74, 6.20, 7.19],\n",
    "                    'Sepal width': [3.35, 2.96, 3.06, 3.34],\n",
    "                     'Petal length': [2.21, 6.46, 6.37, 1.81],\n",
    "                    'Petal width': [0.38, 0.24, 1.46, 1.66]\n",
    "                    })\n",
    "\n",
    "test_iris_data_df.head()"
   ]
  },
  {
   "cell_type": "code",
   "execution_count": null,
   "metadata": {},
   "outputs": [],
   "source": [
    "normalised_test_df = normalise_dataframe(test_iris_data_df[['Sepal length', 'Sepal width', 'Petal length', 'Petal width']])\n",
    "normalised_test_df.head()"
   ]
  },
  {
   "cell_type": "code",
   "execution_count": null,
   "metadata": {
    "collapsed": true
   },
   "outputs": [],
   "source": [
    "iris_classifier = KNeighborsClassifier(n_neighbors=3, metric='euclidean', weights='uniform')"
   ]
  },
  {
   "cell_type": "code",
   "execution_count": null,
   "metadata": {},
   "outputs": [],
   "source": [
    "iris_classifier.fit(n_iris_training_df, iris_target_values_df )"
   ]
  },
  {
   "cell_type": "code",
   "execution_count": null,
   "metadata": {
    "collapsed": true
   },
   "outputs": [],
   "source": [
    "test_iris_data_df['Classification'] = iris_classifier.predict(normalised_test_df)"
   ]
  },
  {
   "cell_type": "code",
   "execution_count": null,
   "metadata": {},
   "outputs": [],
   "source": [
    "test_iris_data_df"
   ]
  },
  {
   "cell_type": "code",
   "execution_count": null,
   "metadata": {},
   "outputs": [],
   "source": [
    "normalise_dataframe(test_iris_data_df)"
   ]
  },
  {
   "cell_type": "code",
   "execution_count": null,
   "metadata": {
    "collapsed": true
   },
   "outputs": [],
   "source": []
  }
 ],
 "metadata": {
  "kernelspec": {
   "display_name": "Python 3",
   "language": "python",
   "name": "python3"
  },
  "language_info": {
   "codemirror_mode": {
    "name": "ipython",
    "version": 3
   },
   "file_extension": ".py",
   "mimetype": "text/x-python",
   "name": "python",
   "nbconvert_exporter": "python",
   "pygments_lexer": "ipython3",
   "version": "3.5.2"
  }
 },
 "nbformat": 4,
 "nbformat_minor": 1
}
