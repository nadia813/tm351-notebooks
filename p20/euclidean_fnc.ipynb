{
 "cells": [
  {
   "cell_type": "markdown",
   "metadata": {},
   "source": [
    "# p20 Exercises"
   ]
  },
  {
   "cell_type": "code",
   "execution_count": 1,
   "metadata": {
    "collapsed": true
   },
   "outputs": [],
   "source": [
    "import math"
   ]
  },
  {
   "cell_type": "code",
   "execution_count": 22,
   "metadata": {
    "collapsed": true
   },
   "outputs": [],
   "source": [
    "def euclid(a, b):\n",
    "    res = math.sqrt((a[0] - b[0])**2 + (a[1] - b[1])**2)\n",
    "    return res"
   ]
  },
  {
   "cell_type": "code",
   "execution_count": 23,
   "metadata": {
    "collapsed": true
   },
   "outputs": [],
   "source": [
    "a1 = (0.7, 5.2)\n",
    "a2 = (0.6, 5.6)\n",
    "b1 = (2.7, 6.2)\n",
    "b2 = (4.2, 6.5)"
   ]
  },
  {
   "cell_type": "code",
   "execution_count": 24,
   "metadata": {
    "collapsed": true
   },
   "outputs": [],
   "source": [
    "p = (1.2, 5.9)"
   ]
  },
  {
   "cell_type": "code",
   "execution_count": 28,
   "metadata": {},
   "outputs": [
    {
     "name": "stdout",
     "output_type": "stream",
     "text": [
      "(0.7, 5.2) 0.8602325267042628\n",
      "(0.6, 5.6) 0.6708203932499373\n",
      "(2.7, 6.2) 1.5297058540778357\n",
      "(4.2, 6.5) 3.059411708155671\n",
      "Nearest neighbour is  ((0.6, 5.6), 0.6708203932499373)\n"
     ]
    }
   ],
   "source": [
    "training = [a1, a2, b1, b2]\n",
    "\n",
    "nn = None\n",
    "for td in training:\n",
    "    res = euclid(p, td)\n",
    "    print(td, res)\n",
    "    if nn==None:\n",
    "        nn = (td, res)\n",
    "    elif res < nn[1]:\n",
    "        nn = (td, res)\n",
    "print(\"Nearest neighbour is \", nn)"
   ]
  },
  {
   "cell_type": "code",
   "execution_count": null,
   "metadata": {
    "collapsed": true
   },
   "outputs": [],
   "source": []
  }
 ],
 "metadata": {
  "kernelspec": {
   "display_name": "Python 3",
   "language": "python",
   "name": "python3"
  },
  "language_info": {
   "codemirror_mode": {
    "name": "ipython",
    "version": 3
   },
   "file_extension": ".py",
   "mimetype": "text/x-python",
   "name": "python",
   "nbconvert_exporter": "python",
   "pygments_lexer": "ipython3",
   "version": "3.5.2"
  }
 },
 "nbformat": 4,
 "nbformat_minor": 2
}
