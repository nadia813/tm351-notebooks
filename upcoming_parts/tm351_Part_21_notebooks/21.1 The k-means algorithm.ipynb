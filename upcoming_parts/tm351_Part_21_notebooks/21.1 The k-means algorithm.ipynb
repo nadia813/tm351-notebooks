{
 "cells": [
  {
   "cell_type": "markdown",
   "metadata": {},
   "source": [
    "# The *k*-means clustering algorithm"
   ]
  },
  {
   "cell_type": "markdown",
   "metadata": {},
   "source": [
    "In this Notebook we will carry out some practical exercises to see the *k*-means algorithm in action. You should spend around an hour and a half on this Notebook."
   ]
  },
  {
   "cell_type": "markdown",
   "metadata": {},
   "source": [
    "The *k*-means algorithm has been implemented in Python in the `KMeans` class from the `sklearn` library. In this Notebook we will use the Python `KMeans` implementation on the example data given in Section 2 of Part 21."
   ]
  },
  {
   "cell_type": "code",
   "execution_count": 1,
   "metadata": {
    "activity": false,
    "collapsed": false,
    "run_control": {
     "read_only": false
    }
   },
   "outputs": [
    {
     "name": "stderr",
     "output_type": "stream",
     "text": [
      "/usr/local/lib/python3.4/dist-packages/matplotlib/__init__.py:872: UserWarning: axes.color_cycle is deprecated and replaced with axes.prop_cycle; please use the latter.\n",
      "  warnings.warn(self.msg_depr % (key, alt_key))\n"
     ]
    }
   ],
   "source": [
    "# Standard imports\n",
    "\n",
    "import pandas as pd\n",
    "\n",
    "import numpy as np\n",
    "import matplotlib.pyplot as plt\n",
    "\n",
    "import seaborn as sns"
   ]
  },
  {
   "cell_type": "markdown",
   "metadata": {},
   "source": [
    "To start, we will import the `sklearn.cluster` library, which contains the `KMeans` class. We will also use the same dataset that we used in Part 21:"
   ]
  },
  {
   "cell_type": "code",
   "execution_count": 2,
   "metadata": {
    "activity": false,
    "collapsed": false,
    "run_control": {
     "read_only": false
    }
   },
   "outputs": [],
   "source": [
    "from sklearn import cluster"
   ]
  },
  {
   "cell_type": "markdown",
   "metadata": {},
   "source": [
    "The first example we looked at, in Exercise 21.1, was the data from the 2013-2014 English football premier league table. This data is in the file `football_results.csv`. As before, we will import this data from the CSV file into a DataFrame:"
   ]
  },
  {
   "cell_type": "code",
   "execution_count": 3,
   "metadata": {
    "activity": false,
    "collapsed": false,
    "run_control": {
     "read_only": false
    }
   },
   "outputs": [
    {
     "data": {
      "text/html": [
       "<div>\n",
       "<table border=\"1\" class=\"dataframe\">\n",
       "  <thead>\n",
       "    <tr style=\"text-align: right;\">\n",
       "      <th></th>\n",
       "      <th>For</th>\n",
       "      <th>Against</th>\n",
       "      <th>Position</th>\n",
       "    </tr>\n",
       "    <tr>\n",
       "      <th>Team</th>\n",
       "      <th></th>\n",
       "      <th></th>\n",
       "      <th></th>\n",
       "    </tr>\n",
       "  </thead>\n",
       "  <tbody>\n",
       "    <tr>\n",
       "      <th>Arsenal</th>\n",
       "      <td>68</td>\n",
       "      <td>41</td>\n",
       "      <td>4</td>\n",
       "    </tr>\n",
       "    <tr>\n",
       "      <th>Aston Villa</th>\n",
       "      <td>39</td>\n",
       "      <td>61</td>\n",
       "      <td>15</td>\n",
       "    </tr>\n",
       "    <tr>\n",
       "      <th>Cardiff City</th>\n",
       "      <td>32</td>\n",
       "      <td>74</td>\n",
       "      <td>20</td>\n",
       "    </tr>\n",
       "    <tr>\n",
       "      <th>Chelsea</th>\n",
       "      <td>71</td>\n",
       "      <td>27</td>\n",
       "      <td>3</td>\n",
       "    </tr>\n",
       "    <tr>\n",
       "      <th>Crystal Palace</th>\n",
       "      <td>33</td>\n",
       "      <td>48</td>\n",
       "      <td>11</td>\n",
       "    </tr>\n",
       "  </tbody>\n",
       "</table>\n",
       "</div>"
      ],
      "text/plain": [
       "                For  Against  Position\n",
       "Team                                  \n",
       "Arsenal          68       41         4\n",
       "Aston Villa      39       61        15\n",
       "Cardiff City     32       74        20\n",
       "Chelsea          71       27         3\n",
       "Crystal Palace   33       48        11"
      ]
     },
     "execution_count": 3,
     "metadata": {},
     "output_type": "execute_result"
    }
   ],
   "source": [
    "footballResults_df = pd.read_csv('data/football_results.csv', index_col=0)\n",
    "footballResults_df.head()"
   ]
  },
  {
   "cell_type": "markdown",
   "metadata": {},
   "source": [
    "To visualise the data, we can do a simple scatter plot of the `For` and `Against` columns."
   ]
  },
  {
   "cell_type": "code",
   "execution_count": 4,
   "metadata": {
    "activity": false,
    "collapsed": false,
    "run_control": {
     "read_only": false
    }
   },
   "outputs": [
    {
     "data": {
      "text/plain": [
       "<matplotlib.text.Text at 0xae88d68c>"
      ]
     },
     "execution_count": 4,
     "metadata": {},
     "output_type": "execute_result"
    },
    {
     "data": {
      "image/png": "[encoded data removed]",
      "text/plain": [
       "<matplotlib.figure.Figure at 0xae94408c>"
      ]
     },
     "metadata": {},
     "output_type": "display_data"
    }
   ],
   "source": [
    "plt.scatter(footballResults_df['For'],\n",
    "            footballResults_df['Against'])\n",
    "\n",
    "plt.xlabel('Goals For')\n",
    "plt.ylabel('Goals Against')\n",
    "\n",
    "plt.title('English Premier League Teams 2013/2014 Season')"
   ]
  },
  {
   "cell_type": "markdown",
   "metadata": {},
   "source": [
    "Now, let's see what happens when we apply a clustering algorithm. As in the original exercise, we can try a number of different values of *k*. We will start with *k*=2."
   ]
  },
  {
   "cell_type": "markdown",
   "metadata": {},
   "source": [
    "To use the *k*-means clusterer, we first need to create an instance of the clusterer. When we create the object, the value of *k* is specified with the `n_clusters` parameter:"
   ]
  },
  {
   "cell_type": "code",
   "execution_count": 5,
   "metadata": {
    "collapsed": true,
    "run_control": {
     "read_only": false
    }
   },
   "outputs": [],
   "source": [
    "# Create an instance of the clusterer with k=2\n",
    "kmeans2 = cluster.KMeans(n_clusters=2)"
   ]
  },
  {
   "cell_type": "markdown",
   "metadata": {},
   "source": [
    "Unlike the *k*-nearest neighbours algorithm, we do not need a set of labelled training data. Rather, the only input to the algorithm is the set of data points. In this case, the data is the `For` and `Against` columns of the the `footballResults_df` DataFrame:"
   ]
  },
  {
   "cell_type": "code",
   "execution_count": 6,
   "metadata": {
    "activity": false,
    "collapsed": false,
    "run_control": {
     "read_only": false
    }
   },
   "outputs": [
    {
     "data": {
      "text/html": [
       "<div>\n",
       "<table border=\"1\" class=\"dataframe\">\n",
       "  <thead>\n",
       "    <tr style=\"text-align: right;\">\n",
       "      <th></th>\n",
       "      <th>For</th>\n",
       "      <th>Against</th>\n",
       "    </tr>\n",
       "    <tr>\n",
       "      <th>Team</th>\n",
       "      <th></th>\n",
       "      <th></th>\n",
       "    </tr>\n",
       "  </thead>\n",
       "  <tbody>\n",
       "    <tr>\n",
       "      <th>Arsenal</th>\n",
       "      <td>68</td>\n",
       "      <td>41</td>\n",
       "    </tr>\n",
       "    <tr>\n",
       "      <th>Aston Villa</th>\n",
       "      <td>39</td>\n",
       "      <td>61</td>\n",
       "    </tr>\n",
       "    <tr>\n",
       "      <th>Cardiff City</th>\n",
       "      <td>32</td>\n",
       "      <td>74</td>\n",
       "    </tr>\n",
       "    <tr>\n",
       "      <th>Chelsea</th>\n",
       "      <td>71</td>\n",
       "      <td>27</td>\n",
       "    </tr>\n",
       "    <tr>\n",
       "      <th>Crystal Palace</th>\n",
       "      <td>33</td>\n",
       "      <td>48</td>\n",
       "    </tr>\n",
       "  </tbody>\n",
       "</table>\n",
       "</div>"
      ],
      "text/plain": [
       "                For  Against\n",
       "Team                        \n",
       "Arsenal          68       41\n",
       "Aston Villa      39       61\n",
       "Cardiff City     32       74\n",
       "Chelsea          71       27\n",
       "Crystal Palace   33       48"
      ]
     },
     "execution_count": 6,
     "metadata": {},
     "output_type": "execute_result"
    }
   ],
   "source": [
    "clusteringData_df = footballResults_df[['For', 'Against']]\n",
    "clusteringData_df.head()"
   ]
  },
  {
   "cell_type": "markdown",
   "metadata": {},
   "source": [
    "We can now run the *k*-means algorithm with *k*=2 on this data. The `fit` method returns an object which we can use to obtain the assigned clusters:"
   ]
  },
  {
   "cell_type": "code",
   "execution_count": 7,
   "metadata": {
    "activity": false,
    "collapsed": false,
    "run_control": {
     "read_only": false
    }
   },
   "outputs": [],
   "source": [
    "# Call the fit function on the clusterer to fit the data to the 2 means.\n",
    "assignedClusters_clust = kmeans2.fit(clusteringData_df)"
   ]
  },
  {
   "cell_type": "markdown",
   "metadata": {},
   "source": [
    "The object `assignedClusters_clust` has an attribute `labels_`, which is an array of the clusters that each data point has been assigned to:"
   ]
  },
  {
   "cell_type": "code",
   "execution_count": 8,
   "metadata": {
    "activity": false,
    "collapsed": false,
    "run_control": {
     "read_only": false
    }
   },
   "outputs": [
    {
     "data": {
      "text/plain": [
       "array([1, 0, 0, 1, 0, 1, 0, 0, 1, 1, 1, 0, 0, 0, 0, 0, 0, 0, 0, 0])"
      ]
     },
     "execution_count": 8,
     "metadata": {},
     "output_type": "execute_result"
    }
   ],
   "source": [
    "assignedClusters_clust.labels_"
   ]
  },
  {
   "cell_type": "markdown",
   "metadata": {},
   "source": [
    "We asked for *k*=2, so the points are labelled either 0 or 1."
   ]
  },
  {
   "cell_type": "markdown",
   "metadata": {},
   "source": [
    "We can now use this array to show how the *k*-means algorithm assigned the points to different clusters. We will plot the points in cluster `0` in red, and the points in cluster `1` in blue:"
   ]
  },
  {
   "cell_type": "code",
   "execution_count": 9,
   "metadata": {
    "activity": false,
    "collapsed": false,
    "run_control": {
     "read_only": false
    }
   },
   "outputs": [
    {
     "data": {
      "text/plain": [
       "[]"
      ]
     },
     "execution_count": 9,
     "metadata": {},
     "output_type": "execute_result"
    },
    {
     "data": {
      "image/png": "[encoded data removed]",
      "text/plain": [
       "<matplotlib.figure.Figure at 0xae6e080c>"
      ]
     },
     "metadata": {},
     "output_type": "display_data"
    }
   ],
   "source": [
    "# Plot the data points which in the cluster labelled '0'\n",
    "plt.scatter(footballResults_df['For'][assignedClusters_clust.labels_==0],\n",
    "            footballResults_df['Against'][assignedClusters_clust.labels_==0],\n",
    "            color='red', marker='o', label='cluster 0')\n",
    "\n",
    "# Plot the data points which in the cluster labelled '1'\n",
    "plt.scatter(footballResults_df['For'][assignedClusters_clust.labels_==1],\n",
    "            footballResults_df['Against'][assignedClusters_clust.labels_==1],\n",
    "            color='blue', marker='o', label='cluster 0')\n",
    "\n",
    "plt.legend()\n",
    "\n",
    "plt.xlabel('Goals For')\n",
    "plt.ylabel('Goals Against')\n",
    "\n",
    "plt.title('2-means Clustering')\n",
    "\n",
    "plt.plot()"
   ]
  },
  {
   "cell_type": "markdown",
   "metadata": {},
   "source": [
    "To draw a comparison with *k*-means for *k*=3, we can carry out a similar experiment:"
   ]
  },
  {
   "cell_type": "code",
   "execution_count": 10,
   "metadata": {
    "activity": false,
    "collapsed": false,
    "run_control": {
     "read_only": false
    }
   },
   "outputs": [
    {
     "data": {
      "text/plain": [
       "array([0, 1, 1, 0, 1, 0, 1, 1, 2, 2, 0, 1, 1, 0, 1, 1, 0, 0, 1, 1])"
      ]
     },
     "execution_count": 10,
     "metadata": {},
     "output_type": "execute_result"
    }
   ],
   "source": [
    "# First, create an instance of the clusterer with k=3\n",
    "kmeans3 = cluster.KMeans(n_clusters=3)\n",
    "\n",
    "# Then call the fit function on the clusterer to fit the data to the 3 means.\n",
    "assignedClusters_clust = kmeans3.fit(clusteringData_df)\n",
    "\n",
    "# And see how the data points have been assigned to clusters:\n",
    "assignedClusters_clust.labels_"
   ]
  },
  {
   "cell_type": "markdown",
   "metadata": {},
   "source": [
    "As we have now clustered into three clusters, rather than two, the points are given labels of either 0, 1 or 2."
   ]
  },
  {
   "cell_type": "markdown",
   "metadata": {},
   "source": [
    "As before, we can use the assigned clusters to show the different clusters. We will plot the points in cluster `0` in red, cluster `1` in blue, and the points in cluster `2` in (light) green:"
   ]
  },
  {
   "cell_type": "code",
   "execution_count": 11,
   "metadata": {
    "activity": false,
    "collapsed": false,
    "run_control": {
     "read_only": false
    }
   },
   "outputs": [
    {
     "data": {
      "text/plain": [
       "[]"
      ]
     },
     "execution_count": 11,
     "metadata": {},
     "output_type": "execute_result"
    },
    {
     "data": {
      "image/png": "[encoded data removed]",
      "text/plain": [
       "<matplotlib.figure.Figure at 0xae7499ec>"
      ]
     },
     "metadata": {},
     "output_type": "display_data"
    }
   ],
   "source": [
    "# Plot the data points which in the cluster labelled '0'\n",
    "plt.scatter(footballResults_df['For'][assignedClusters_clust.labels_==0],\n",
    "            footballResults_df['Against'][assignedClusters_clust.labels_==0],\n",
    "            color='red', marker='o', label='cluster 0')\n",
    "\n",
    "# Plot the data points which in the cluster labelled '1'\n",
    "plt.scatter(footballResults_df['For'][assignedClusters_clust.labels_==1],\n",
    "            footballResults_df['Against'][assignedClusters_clust.labels_==1],\n",
    "            color='blue', marker='o', label='cluster 0')\n",
    "\n",
    "# Plot the data points which in the cluster labelled '2'\n",
    "plt.scatter(footballResults_df['For'][assignedClusters_clust.labels_==2],\n",
    "            footballResults_df['Against'][assignedClusters_clust.labels_==2],\n",
    "            color='lightGreen', marker='o', label='cluster 2')\n",
    "\n",
    "plt.legend()\n",
    "\n",
    "plt.xlabel('Goals For')\n",
    "plt.ylabel('Goals Against')\n",
    "\n",
    "plt.title('3-means Clustering')\n",
    "\n",
    "plt.plot()"
   ]
  },
  {
   "cell_type": "markdown",
   "metadata": {},
   "source": [
    "To see what values were eventually chosen as the centroids, we can use the `cluster_centers_` attribute which is defined on the trained `kmeans3` object (note that this returns a `numpy.array` rather than a *pandas* object):"
   ]
  },
  {
   "cell_type": "code",
   "execution_count": 12,
   "metadata": {
    "activity": false,
    "collapsed": false,
    "run_control": {
     "read_only": false
    }
   },
   "outputs": [
    {
     "data": {
      "text/plain": [
       "array([[  61.        ,   43.        ],\n",
       "       [  38.36363636,   60.36363636],\n",
       "       [ 101.5       ,   43.5       ]])"
      ]
     },
     "execution_count": 12,
     "metadata": {},
     "output_type": "execute_result"
    }
   ],
   "source": [
    "kmeans3.cluster_centers_"
   ]
  },
  {
   "cell_type": "markdown",
   "metadata": {},
   "source": [
    "To see where these appear on the graph, we can add them to the plot:"
   ]
  },
  {
   "cell_type": "code",
   "execution_count": 13,
   "metadata": {
    "activity": false,
    "collapsed": false,
    "run_control": {
     "read_only": false
    }
   },
   "outputs": [
    {
     "data": {
      "text/plain": [
       "[]"
      ]
     },
     "execution_count": 13,
     "metadata": {},
     "output_type": "execute_result"
    },
    {
     "data": {
      "image/png": "[encoded data removed]",
      "text/plain": [
       "<matplotlib.figure.Figure at 0xae768ecc>"
      ]
     },
     "metadata": {},
     "output_type": "display_data"
    }
   ],
   "source": [
    "# Plot the data points which in the cluster labelled '0'\n",
    "plt.scatter(footballResults_df['For'][assignedClusters_clust.labels_==0],\n",
    "            footballResults_df['Against'][assignedClusters_clust.labels_==0],\n",
    "            color='red', marker='o', label='cluster 0')\n",
    "\n",
    "# Plot the data points which in the cluster labelled '1'\n",
    "plt.scatter(footballResults_df['For'][assignedClusters_clust.labels_==1],\n",
    "            footballResults_df['Against'][assignedClusters_clust.labels_==1],\n",
    "            color='blue', marker='o', label='cluster 0')\n",
    "\n",
    "# Plot the data points which in the cluster labelled '2'\n",
    "plt.scatter(footballResults_df['For'][assignedClusters_clust.labels_==2],\n",
    "            footballResults_df['Against'][assignedClusters_clust.labels_==2],\n",
    "            color='lightGreen', marker='o', label='cluster 2')\n",
    "\n",
    "# Plot each of the centroids:\n",
    "for (cx, cy) in assignedClusters_clust.cluster_centers_:\n",
    "    plt.plot(cx, cy, color='black', marker='x', mew=2)\n",
    "\n",
    "plt.legend()\n",
    "\n",
    "plt.xlabel('Goals For')\n",
    "plt.ylabel('Goals Against')\n",
    "\n",
    "plt.title('3-means Clustering with centroids')\n",
    "\n",
    "plt.plot()"
   ]
  },
  {
   "cell_type": "markdown",
   "metadata": {},
   "source": [
    "The three crosses represent the three centroids, and each point in the graph is assigned a class depending on which of the three centroids it is closest to. (The `mew=2` parameter increases the thickness of the crosses, making them more visible.)"
   ]
  },
  {
   "cell_type": "markdown",
   "metadata": {},
   "source": [
    "## What next?\n",
    "\n",
    "You have now completed this Notebook. In the next Notebook we will look at how *k*-means can give different clusters depending on the initial values chosen in the algorithm. Go to the next Notebook now: [`21.2 k-means clustering - choosing initial values`](21.2 k-means clustering - choosing initial values.ipynb)."
   ]
  }
 ],
 "metadata": {
  "kernelspec": {
   "display_name": "Python 3",
   "language": "python",
   "name": "python3"
  },
  "language_info": {
   "codemirror_mode": {
    "name": "ipython",
    "version": 3
   },
   "file_extension": ".py",
   "mimetype": "text/x-python",
   "name": "python",
   "nbconvert_exporter": "python",
   "pygments_lexer": "ipython3",
   "version": "3.4.3"
  }
 },
 "nbformat": 4,
 "nbformat_minor": 0
}
