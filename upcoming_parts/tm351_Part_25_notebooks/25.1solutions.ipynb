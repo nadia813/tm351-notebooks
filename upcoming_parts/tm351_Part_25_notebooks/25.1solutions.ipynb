{
 "cells": [
  {
   "cell_type": "markdown",
   "metadata": {},
   "source": [
    "# Activity 1"
   ]
  },
  {
   "cell_type": "code",
   "execution_count": null,
   "metadata": {
    "collapsed": true
   },
   "outputs": [],
   "source": [
    "belgium = geogNS[\"Belgium\"]\n",
    "geog.add((belgium, rdflib.RDF[\"type\"], country))\n",
    "geog.add((belgium, locatedIn, europe))\n",
    "geog.add((belgium, hasPopulation, rdflib.Literal(11200000)))\n",
    "geog.add((belgium, hasName, rdflib.Literal(\"België\")))\n",
    "geog.add((belgium, hasName, rdflib.Literal(\"Belgique\")))\n",
    "geog.add((belgium, hasName, rdflib.Literal(\"Belgien\")))\n",
    "geog.add((belgium, hasBorder, germany))\n",
    "geog.add((belgium, hasBorder, france))\n",
    "geog.add((belgium, hasCapital, rdflib.Literal(\"Brussels\")))\n",
    "geog.add((france, hasPopulation, rdflib.Literal(66030000)))"
   ]
  },
  {
   "cell_type": "markdown",
   "metadata": {},
   "source": [
    "Check that all has worked well:"
   ]
  },
  {
   "cell_type": "code",
   "execution_count": null,
   "metadata": {
    "activity": false,
    "collapsed": false,
    "run_control": {
     "read_only": false
    }
   },
   "outputs": [],
   "source": [
    "print(len(geog))\n",
    "print('')\n",
    "# Pretty-print each triple\n",
    "printtriples(geog, 0)\n",
    "\n",
    "# Save in Turtle format\n",
    "geog.serialize(\"geog.ttl\", format=\"turtle\")\n",
    "geog.serialize(\"geog.xml\")"
   ]
  },
  {
   "cell_type": "markdown",
   "metadata": {},
   "source": [
    "# Activity 2"
   ]
  },
  {
   "cell_type": "code",
   "execution_count": null,
   "metadata": {
    "activity": false,
    "collapsed": false,
    "run_control": {
     "read_only": false
    }
   },
   "outputs": [],
   "source": [
    "agraph = rdflib.Graph()\n",
    "\n",
    "agraph.parse(\"geog.ttl\", format=\"turtle\")\n",
    "\n",
    "printtriples(agraph, 10)"
   ]
  }
 ],
 "metadata": {
  "kernelspec": {
   "display_name": "Python 3",
   "language": "python",
   "name": "python3"
  },
  "language_info": {
   "codemirror_mode": {
    "name": "ipython",
    "version": 3
   },
   "file_extension": ".py",
   "mimetype": "text/x-python",
   "name": "python",
   "nbconvert_exporter": "python",
   "pygments_lexer": "ipython3",
   "version": "3.4.3"
  }
 },
 "nbformat": 4,
 "nbformat_minor": 0
}
