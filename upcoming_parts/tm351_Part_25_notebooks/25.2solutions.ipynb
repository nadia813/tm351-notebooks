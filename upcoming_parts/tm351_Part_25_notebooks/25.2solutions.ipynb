{
 "cells": [
  {
   "cell_type": "markdown",
   "metadata": {},
   "source": [
    "# Activity 1"
   ]
  },
  {
   "cell_type": "code",
   "execution_count": null,
   "metadata": {
    "collapsed": true,
    "run_control": {
     "read_only": false
    }
   },
   "outputs": [],
   "source": [
    "# Set up query\n",
    "q1 = '''SELECT ?capital\n",
    "        WHERE { \n",
    "            <http://www.example.org/geography/Georgia>\n",
    "            <http://www.example.org/hasCapital>\n",
    "            ?capital\n",
    "        }'''\n",
    "\n",
    "# Run the query q1, and save the results in variable r1\n",
    "r1 = geog.query(q1)\n",
    "\n",
    "# Print out results\n",
    "for row in r1:\n",
    "    print (row[0])\n",
    "    print()\n",
    "\n",
    "# We amended the Moldova query from earlier.\n",
    "# No results were obtained. This implies that the data we requested \n",
    "# is not available in this dataset.\n",
    "# Notice that you do not get an 'error message' as you might with a \n",
    "# conventional database system. \n",
    "# A null return like this does not indicate an error, it simply means\n",
    "# that there is no data in the dataset that matches the query."
   ]
  },
  {
   "cell_type": "markdown",
   "metadata": {},
   "source": [
    "# Activity 2"
   ]
  },
  {
   "cell_type": "code",
   "execution_count": null,
   "metadata": {
    "collapsed": false,
    "run_control": {
     "read_only": false
    }
   },
   "outputs": [],
   "source": [
    "# The only change from the previous example is that we've asked for values of \n",
    "# the variable ?subject to be returned rather than those of ?predicate.\n",
    "\n",
    "# Find all different subjects in the graph\n",
    "q1 = '''SELECT DISTINCT ?subject\n",
    "        WHERE { \n",
    "            ?subject\n",
    "            ?predicate\n",
    "            ?object\n",
    "        }'''\n",
    "\n",
    "# Run the query q1, and save the results in variable r1\n",
    "r1 = geog.query(q1)\n",
    "\n",
    "# Print number of results\n",
    "# Placing end=\"\\n\\n\" as an argument to print() outputs two newlines \n",
    "# once the remainder of the print statement has been carried out.\n",
    "print(\"No of countries:\", len(r1), end=\"\\n\\n\")\n",
    "\n",
    "\n",
    "# Print the results\n",
    "for row in r1:\n",
    "    print (row[0])\n",
    "    print()"
   ]
  },
  {
   "cell_type": "markdown",
   "metadata": {},
   "source": [
    "# Activity 3"
   ]
  },
  {
   "cell_type": "markdown",
   "metadata": {},
   "source": [
    "Find the names of all those countries that border Switzerland.\n",
    "Hint: use the predicate `hasBorder`."
   ]
  },
  {
   "cell_type": "code",
   "execution_count": null,
   "metadata": {
    "collapsed": false,
    "run_control": {
     "read_only": false
    }
   },
   "outputs": [],
   "source": [
    "# Find the countires that border Switzerland\n",
    "q1 = '''SELECT DISTINCT ?country\n",
    "        WHERE { \n",
    "            <http://www.example.org/geography/Switzerland>\n",
    "            <http://www.example.org/hasBorder>\n",
    "            ?country\n",
    "        }LIMIT 10\n",
    "        '''\n",
    "\n",
    "# Run the query q1, and save the results in variable r1\n",
    "r1 = geog.query(q1)\n",
    "\n",
    "# Print the results\n",
    "for row in r1:\n",
    "    print (row[0])\n",
    "    print()"
   ]
  },
  {
   "cell_type": "markdown",
   "metadata": {},
   "source": [
    "# Activity 4"
   ]
  },
  {
   "cell_type": "code",
   "execution_count": null,
   "metadata": {
    "collapsed": false,
    "run_control": {
     "read_only": false
    }
   },
   "outputs": [],
   "source": [
    "# Find the countires that have a population greater than 50 million; place in alphabetical order\n",
    "q1 = '''SELECT DISTINCT ?country ?population\n",
    "        WHERE { \n",
    "            ?country <http://www.example.org/hasPopulation> ?population .\n",
    "            FILTER (?population > 50000000) \n",
    "        }ORDER BY ?population LIMIT 20 \n",
    "        '''\n",
    "\n",
    "# Run the query q1, and save the results in variable r1\n",
    "r1 = geog.query(q1)\n",
    "\n",
    "# Print the results\n",
    "for row in r1 :\n",
    "    print (row[0], \"has population\", row[1])\n",
    "    print()"
   ]
  },
  {
   "cell_type": "markdown",
   "metadata": {},
   "source": [
    "# Activity 5"
   ]
  },
  {
   "cell_type": "code",
   "execution_count": null,
   "metadata": {
    "collapsed": false,
    "run_control": {
     "read_only": false
    }
   },
   "outputs": [],
   "source": [
    "# Find all information held about Germany\n",
    "q1 = '''SELECT DISTINCT ?pred ?obj\n",
    "        WHERE { \n",
    "            <http://www.example.org/geography/Germany> ?pred ?obj .\n",
    "        }\n",
    "        '''\n",
    "\n",
    "# Run the query q1, and save the results in variable r1\n",
    "r1 = geog.query(q1)\n",
    "\n",
    "# Print the results\n",
    "for row in r1:\n",
    "    print (row[0], row[1])\n",
    "    print()"
   ]
  },
  {
   "cell_type": "markdown",
   "metadata": {},
   "source": [
    "# Activity 6"
   ]
  },
  {
   "cell_type": "code",
   "execution_count": null,
   "metadata": {
    "collapsed": true,
    "run_control": {
     "read_only": false
    }
   },
   "outputs": [],
   "source": [
    "# Find all countries that have German as an official language. \n",
    "q1 = '''SELECT DISTINCT ?country\n",
    "        WHERE { \n",
    "            ?country <http://www.example.org/hasOfficialLanguage> \"German\" .\n",
    "        }\n",
    "        '''\n",
    "\n",
    "# Run the query q1, and save the results in variable r1\n",
    "r1 = geog.query(q1)\n",
    "\n",
    "# Print the results\n",
    "for row in r1:\n",
    "    print (row[0])\n",
    "    print()"
   ]
  },
  {
   "cell_type": "markdown",
   "metadata": {},
   "source": [
    "# Activity 7"
   ]
  },
  {
   "cell_type": "code",
   "execution_count": null,
   "metadata": {
    "collapsed": true,
    "run_control": {
     "read_only": false
    }
   },
   "outputs": [],
   "source": [
    "# Find all countries that have German as an official language and which border Italy.\n",
    "q1 = '''SELECT DISTINCT ?country\n",
    "        WHERE { \n",
    "            ?country <http://www.example.org/hasOfficialLanguage> \"German\" .\n",
    "            ?country <http://www.example.org/hasBorder> <http://www.example.org/geography/Italy> .\n",
    "        }\n",
    "    '''\n",
    "\n",
    "# Run the query q1, and save the results in variable r1\n",
    "r1 = geog.query(q1)\n",
    "\n",
    "# Print the results\n",
    "for row in r1:\n",
    "    print (row[0])\n",
    "    print()"
   ]
  }
 ],
 "metadata": {
  "kernelspec": {
   "display_name": "Python 3",
   "language": "python",
   "name": "python3"
  },
  "language_info": {
   "codemirror_mode": {
    "name": "ipython",
    "version": 3
   },
   "file_extension": ".py",
   "mimetype": "text/x-python",
   "name": "python",
   "nbconvert_exporter": "python",
   "pygments_lexer": "ipython3",
   "version": "3.4.3"
  }
 },
 "nbformat": 4,
 "nbformat_minor": 0
}
