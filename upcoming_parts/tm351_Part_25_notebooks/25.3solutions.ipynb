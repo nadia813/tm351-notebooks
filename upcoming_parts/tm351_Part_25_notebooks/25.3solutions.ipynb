{
 "cells": [
  {
   "cell_type": "markdown",
   "metadata": {},
   "source": [
    "# Activity 1"
   ]
  },
  {
   "cell_type": "code",
   "execution_count": null,
   "metadata": {
    "collapsed": false,
    "run_control": {
     "read_only": false
    }
   },
   "outputs": [],
   "source": [
    "# Set up prefixes   \n",
    "prefix = '''PREFIX pers: <http://bnb.data.bl.uk/id/person/>\n",
    "            PREFIX dct: <http://purl.org/dc/terms/>\n",
    "         ''' \n",
    "\n",
    "# Set up query to find all predicates\n",
    "query = '''\n",
    "        SELECT DISTINCT ?title\n",
    "        WHERE {\n",
    "            \n",
    "            ?book dct:creator pers:RankinIan;\n",
    "                  dct:title ?title\n",
    "      } '''           \n",
    "    \n",
    "# Run query and print out a limited number of results\n",
    "printRunQuery(endpoint, prefix, query, limit=30)"
   ]
  },
  {
   "cell_type": "markdown",
   "metadata": {},
   "source": [
    "# Activity 3"
   ]
  },
  {
   "cell_type": "code",
   "execution_count": null,
   "metadata": {
    "collapsed": true,
    "run_control": {
     "read_only": false
    }
   },
   "outputs": [],
   "source": [
    "endpoint = 'http://data.open.ac.uk/query'\n",
    "\n",
    "prefix = '''\n",
    "PREFIX subj: <http://purl.org/dc/terms/>\n",
    "PREFIX top: <http://data.open.ac.uk/topic/>\n",
    "PREFIX cl: <http://data.open.ac.uk/saou/ontology#>\n",
    "PREFIX cw: <http://courseware.rkbexplorer.com/ontologies/courseware#>\n",
    "PREFIX xmls: <http://www.w3.org/2001/XMLSchema#>\n",
    "'''\n",
    "\n",
    "query = '''\n",
    "SELECT DISTINCT ?topic\n",
    "    FROM <http://data.open.ac.uk/context/course>\n",
    "    WHERE {\n",
    "        ?course subj:subject ?topic.\n",
    "            \n",
    "}\n",
    "'''\n",
    "\n",
    "printRunQuery(endpoint, prefix, query, limit=50)"
   ]
  },
  {
   "cell_type": "markdown",
   "metadata": {},
   "source": [
    "# Activity 4"
   ]
  },
  {
   "cell_type": "code",
   "execution_count": null,
   "metadata": {
    "collapsed": true,
    "run_control": {
     "read_only": false
    }
   },
   "outputs": [],
   "source": [
    "query = '''\n",
    "SELECT DISTINCT ?p\n",
    "    FROM <http://data.open.ac.uk/context/course>\n",
    "    WHERE {\n",
    "        ?course ?p ?topic.\n",
    "            \n",
    "}\n",
    "'''\n",
    "\n",
    "printRunQuery(endpoint, prefix, query, limit=50)"
   ]
  }
 ],
 "metadata": {
  "kernelspec": {
   "display_name": "Python 3",
   "language": "python",
   "name": "python3"
  },
  "language_info": {
   "codemirror_mode": {
    "name": "ipython",
    "version": 3
   },
   "file_extension": ".py",
   "mimetype": "text/x-python",
   "name": "python",
   "nbconvert_exporter": "python",
   "pygments_lexer": "ipython3",
   "version": "3.4.3"
  }
 },
 "nbformat": 4,
 "nbformat_minor": 0
}
