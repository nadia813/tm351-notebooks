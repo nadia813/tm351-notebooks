{
 "cells": [
  {
   "cell_type": "markdown",
   "metadata": {},
   "source": [
    "# Querying using SPARQL"
   ]
  },
  {
   "cell_type": "markdown",
   "metadata": {},
   "source": [
    "SPARQL is a query language for searching RDF graphs. Python's `rdflib` package supports querying using SPARQL. In this Notebook you will learn how to write SPARQL queries using `rdflib`."
   ]
  },
  {
   "cell_type": "markdown",
   "metadata": {},
   "source": [
    "## The SPARQL SELECT query"
   ]
  },
  {
   "cell_type": "markdown",
   "metadata": {},
   "source": [
    "Begin by importing the package `rdflib` and load a graph from a specified file using the `parse` method."
   ]
  },
  {
   "cell_type": "code",
   "execution_count": null,
   "metadata": {
    "activity": false,
    "collapsed": false,
    "run_control": {
     "read_only": false
    }
   },
   "outputs": [],
   "source": [
    "import rdflib\n",
    "\n",
    "# Set up a function to print out the first few triples of a graph \n",
    "def printtriples(agraph, limit): \n",
    "    n = 0\n",
    "    for subj, pred, obj in agraph:\n",
    "        print(subj)\n",
    "        print(pred)\n",
    "        print(obj)\n",
    "        print('')\n",
    "        if (limit > 0):\n",
    "            n = n+1\n",
    "            if n == limit:\n",
    "                break\n",
    "\n",
    "# Create a new empty graph in memory\n",
    "geog = rdflib.Graph()\n",
    "\n",
    "# Read the contents of a graph held in a file\n",
    "geog.parse(\"data/European Geography.ttl\", format=\"turtle\")\n",
    "\n",
    "# How many triples are there?\n",
    "print(\"No of triples in graph:\", len(geog))\n",
    "print(\"\")\n",
    "\n",
    "# View a few triples\n",
    "printtriples(geog, 10)"
   ]
  },
  {
   "cell_type": "markdown",
   "metadata": {},
   "source": [
    "So, there is a large number of triples similar to those you met in Notebook 25.1.\n",
    "\n",
    "One of the predicates in this graph is `hasCapital`, which relates a country to its capital city as in the following example:\n",
    "\n",
    "    (\n",
    "    http://www.example.org/geography/Germany\n",
    "    http://www.example.org/hasCapital\n",
    "    Berlin\n",
    "    )\n",
    "\n",
    "Suppose you wanted to find the capital of Moldova (assuming Moldova is a country in this graph). If such a relationship (triple) exists, it will be of the form:\n",
    "\n",
    "    (\n",
    "    http://www.example.org/geography/Moldova\n",
    "    http://www.example.org/hasCapital\n",
    "    ?capital\n",
    "    )\n",
    "\n",
    "where we've used `?capital` as the object to stand for the unknown name of the capital city.\n",
    "\n",
    "A straightforward querying mechanism would be to search the graph for triples that match this pattern. \n",
    "\n",
    "In SPARQL, a **pattern** is simply a triple in which one or more of its elements (subject, predicate, object) is a name starting with '`?`'. A name that starts with a '`?`' is known as a **variable**.  \n",
    "\n",
    "Therefore, if we search the graph and find a triple that matches this pattern, the variable `?capital` can be assigned the name of the capital city appearing in the found triple. When this happens we say that the value (the name of the capital city of Moldova) is **bound** to the variable `?capital`. Once a match for the variable has been found we can ask for the value bound to the variable to be returned as the result of the query.\n",
    "\n",
    "In SPARQL you construct a query in the form of one or more triple **patterns** specifying which triples you want to be retrieved from the graph and specify the variables whose values you want to be returned from the query. To do this you should use a SPARQL SELECT query (there are several other types of query in SPARQL) as follows.\n"
   ]
  },
  {
   "cell_type": "code",
   "execution_count": null,
   "metadata": {
    "activity": false,
    "collapsed": false,
    "run_control": {
     "read_only": false
    }
   },
   "outputs": [],
   "source": [
    "# A SPARQL SELECT query\n",
    "q1 = '''SELECT ?capital\n",
    "        WHERE { \n",
    "            <http://www.example.org/geography/Moldova>\n",
    "            <http://www.example.org/hasCapital>\n",
    "            ?capital\n",
    "        }'''\n",
    "\n",
    "print(q1)"
   ]
  },
  {
   "cell_type": "markdown",
   "metadata": {},
   "source": [
    "The query is wrapped up in a Python string and assigned to a variable (`q1`).\n",
    "\n",
    "Immediately following the SELECT keyword is a SPARQL variable (it starts with `?`) the value of which will be returned when the query has been run.\n",
    "\n",
    "In this example, the WHERE clause contains a single triple pattern. It is a triple because it contains three elements, the first two of which specify a subject (`Moldova`) and a predicate (`hasCapital`). The third element, the object, is a variable (`?capital`). \n",
    "\n",
    "There are three things to notice about the syntax of this query statement:\n",
    "\n",
    "1. The query string is enclosed in three quotes; this allows you to include newlines in the string to help layout the query in a more readable fashion (the newlines are ignored by the query engine).\n",
    "\n",
    "2. Each URI is enclosed within angle brackets; this is essential SPARQL syntax. \n",
    "\n",
    "3. Following the WHERE keyword is a pair of braces (curly brackets) in which the triple pattern has been placed.\n"
   ]
  },
  {
   "cell_type": "markdown",
   "metadata": {},
   "source": [
    "To run a query, use the rdflib function `query()` with a string argument containing the query."
   ]
  },
  {
   "cell_type": "code",
   "execution_count": null,
   "metadata": {
    "activity": false,
    "collapsed": false,
    "run_control": {
     "read_only": false
    }
   },
   "outputs": [],
   "source": [
    "# Run the query q1, and save the results in variable r1\n",
    "r1 = geog.query(q1)\n",
    "\n",
    "# Print out the results.\n",
    "# Results are returned as a set of tuples since it is expected that in most\n",
    "# queries there will be several results. Each tuple contains a value for \n",
    "# each variable mentioned after the SELECT keyword.\n",
    "# So, in this example, print first element of each tuple in the results:\n",
    "\n",
    "for row in r1:\n",
    "    print (row[0])\n",
    "    print()\n"
   ]
  },
  {
   "cell_type": "markdown",
   "metadata": {
    "activity": "activity"
   },
   "source": [
    "### Activity 1\n",
    "\n",
    "Devise and run a query that requests the capital of Georgia. Explain the result."
   ]
  },
  {
   "cell_type": "code",
   "execution_count": null,
   "metadata": {
    "activity": "activity",
    "collapsed": true,
    "run_control": {
     "read_only": false
    }
   },
   "outputs": [],
   "source": [
    "# Insert your solution here."
   ]
  },
  {
   "cell_type": "markdown",
   "metadata": {
    "activity": "activity"
   },
   "source": [
    "The solution is in the [`25.2solutions`](25.2solutions.ipynb) Notebook."
   ]
  },
  {
   "cell_type": "markdown",
   "metadata": {},
   "source": [
    "## What's in the graph?"
   ]
  },
  {
   "cell_type": "markdown",
   "metadata": {},
   "source": [
    "At this stage, you don't really know what data is contained in the graph. This is usually the case whenever you meet a graph for the first time. Therefore, it would be useful to know what predicates occur in the graph.\n",
    "\n",
    "At first you might be tempted to write the following query which finds all predicates associated with a country such as Switzerland. (Since we're only interested in the names of the predicates, that's the only variable after the SELECT keyword, and we've used `?object` as a variable that will match with any object.)\n",
    "\n",
    "This query illustrates that there can be multiple matches for a given pattern.\n"
   ]
  },
  {
   "cell_type": "code",
   "execution_count": null,
   "metadata": {
    "activity": false,
    "collapsed": false,
    "run_control": {
     "read_only": false
    }
   },
   "outputs": [],
   "source": [
    "# Find all predicates associated with 'Switzerland'\n",
    "q1 = '''SELECT ?predicate\n",
    "        WHERE { \n",
    "            <http://www.example.org/geography/Switzerland>\n",
    "            ?predicate\n",
    "            ?object\n",
    "        }'''\n",
    "\n",
    "# Run the query q1, and save the results in variable r1\n",
    "r1 = geog.query(q1)\n",
    "\n",
    "# Print the results\n",
    "for row in r1:\n",
    "    print (row[0])\n",
    "    print()"
   ]
  },
  {
   "cell_type": "markdown",
   "metadata": {},
   "source": [
    "Whenever the query engine (the code that performs the search) finds a triple that matches with the pattern, it continues to search for futher matches and returns all the matches as its result.\n",
    "\n",
    "If you look closely at the output, you will see that several predicates occur multiple times. For example, `hasOfficialLanguage` occurs four times because Switzerland has four different official languages. We can make the output of this query more useful if we ask that each predicate is returned only once by using the keyword DISTINCT (placed after the SELECT keyword) as follows."
   ]
  },
  {
   "cell_type": "code",
   "execution_count": null,
   "metadata": {
    "activity": false,
    "collapsed": false,
    "run_control": {
     "read_only": false
    }
   },
   "outputs": [],
   "source": [
    "# Find all predicates associated with 'Switzerland'\n",
    "q1 = '''SELECT DISTINCT ?predicate\n",
    "        WHERE { \n",
    "            <http://www.example.org/geography/Switzerland>\n",
    "            ?predicate\n",
    "            ?object\n",
    "        }'''\n",
    "\n",
    "# Run the query q1, and save the results in variable r1\n",
    "r1 = geog.query(q1)\n",
    "\n",
    "# Print the results\n",
    "for row in r1:\n",
    "    print (row[0])\n",
    "    print()"
   ]
  },
  {
   "cell_type": "markdown",
   "metadata": {},
   "source": [
    "Of course, this list of predicates associated with Switzerland may not represent all the predicates used in the graph. So let's amend the query to match with every triple in the graph and return only the distinct predicate names."
   ]
  },
  {
   "cell_type": "code",
   "execution_count": null,
   "metadata": {
    "activity": false,
    "collapsed": false,
    "run_control": {
     "read_only": false
    }
   },
   "outputs": [],
   "source": [
    "# Find all predicates used in the graph\n",
    "q1 = '''SELECT DISTINCT ?predicate\n",
    "        WHERE { \n",
    "            ?subject\n",
    "            ?predicate\n",
    "            ?object\n",
    "        }'''\n",
    "\n",
    "# Run the query q1, and save the results in variable r1\n",
    "r1 = geog.query(q1)\n",
    "\n",
    "# Print the results\n",
    "for row in r1:\n",
    "    print (row[0])\n",
    "    print()"
   ]
  },
  {
   "cell_type": "markdown",
   "metadata": {},
   "source": [
    "It turns out that there are no other predicates in this graph."
   ]
  },
  {
   "cell_type": "markdown",
   "metadata": {
    "activity": "activity"
   },
   "source": [
    "### Activity 2\n",
    "\n",
    "Find the names of all the different subjects contained in the graph."
   ]
  },
  {
   "cell_type": "code",
   "execution_count": null,
   "metadata": {
    "activity": "activity",
    "collapsed": false,
    "run_control": {
     "read_only": false
    }
   },
   "outputs": [],
   "source": [
    "# Insert your solution here."
   ]
  },
  {
   "cell_type": "markdown",
   "metadata": {
    "activity": "activity"
   },
   "source": [
    "The solution is in the [`25.2solutions`](25.2solutions.ipynb) Notebook."
   ]
  },
  {
   "cell_type": "markdown",
   "metadata": {
    "commentate": false
   },
   "source": [
    "There are a lot of results. When exploring a new graph you can often get into a situation in which the number of answers to your query is very large and the results are time consuming to produce (a waste of your time, too). Therefore, when experimenting like this it is a good idea to restrict the number of results returned using the LIMIT keyword placed after the closing brace, `}`, of the WHERE clause."
   ]
  },
  {
   "cell_type": "code",
   "execution_count": null,
   "metadata": {
    "activity": false,
    "collapsed": false,
    "run_control": {
     "read_only": false
    }
   },
   "outputs": [],
   "source": [
    "# Find the first 10 different subjects in the graph\n",
    "q1 = '''SELECT DISTINCT ?subject\n",
    "        WHERE { \n",
    "            ?subject\n",
    "            ?predicate\n",
    "            ?object\n",
    "        }LIMIT 10\n",
    "        '''\n",
    "\n",
    "# Run the query q1, and save the results in variable r1\n",
    "r1 = geog.query(q1)\n",
    "\n",
    "# Print the results\n",
    "for row in r1:\n",
    "    print (row[0])\n",
    "    print()"
   ]
  },
  {
   "cell_type": "markdown",
   "metadata": {},
   "source": [
    "If you wanted the next 10 results you can use the OFFSET keyword. The following example returns 10 results starting with the 11th result.\n"
   ]
  },
  {
   "cell_type": "code",
   "execution_count": null,
   "metadata": {
    "activity": false,
    "collapsed": false,
    "run_control": {
     "read_only": false
    }
   },
   "outputs": [],
   "source": [
    "# Find the the second set of 10 different subjects in the graph\n",
    "q1 = '''SELECT DISTINCT ?subject\n",
    "        WHERE { \n",
    "            ?subject\n",
    "            ?predicate\n",
    "            ?object\n",
    "        }LIMIT 10 OFFSET 10\n",
    "        '''\n",
    "\n",
    "# Run the query q1, and save the results in variable r1\n",
    "r1 = geog.query(q1)\n",
    "\n",
    "# Print the results\n",
    "for row in r1:\n",
    "    print (row[0])\n",
    "    print()"
   ]
  },
  {
   "cell_type": "markdown",
   "metadata": {},
   "source": [
    "So, when querying a graph for the first time, it is always a good idea to limit the results both in number (use LIMIT) and uniqueness (use DISTINCT)."
   ]
  },
  {
   "cell_type": "markdown",
   "metadata": {
    "activity": "activity"
   },
   "source": [
    "### Activity 3\n",
    "\n",
    "Find the names of all those countries that border Switzerland.\n",
    "Hint: use the predicate `hasBorder`."
   ]
  },
  {
   "cell_type": "code",
   "execution_count": null,
   "metadata": {
    "activity": "activity",
    "collapsed": false,
    "run_control": {
     "read_only": false
    }
   },
   "outputs": [],
   "source": [
    "# Insert your solution here."
   ]
  },
  {
   "cell_type": "markdown",
   "metadata": {
    "activity": "activity"
   },
   "source": [
    "The solution is in the [`25.2solutions`](25.2solutions.ipynb) Notebook."
   ]
  },
  {
   "cell_type": "markdown",
   "metadata": {},
   "source": [
    "There is another useful mechanism for limiting the number of results called **filtering**. The keyword FILTER is used to pick out from a set of results those that satisfy a particular condition. For example, to find all those countries with a population greater than 50 million, first find the population of a country and then check whether its population is more than 50 million."
   ]
  },
  {
   "cell_type": "code",
   "execution_count": null,
   "metadata": {
    "activity": false,
    "collapsed": false,
    "run_control": {
     "read_only": false
    }
   },
   "outputs": [],
   "source": [
    "# Find the countires that have a population greater than 50 million\n",
    "q1 = '''SELECT DISTINCT ?country ?population\n",
    "        WHERE { \n",
    "            ?country <http://www.example.org/hasPopulation> ?population .\n",
    "            FILTER (?population > 50000000) \n",
    "        }LIMIT 20 \n",
    "        '''\n",
    "\n",
    "# Run the query q1, and save the results in variable r1\n",
    "r1 = geog.query(q1)\n",
    "\n",
    "# Print the results\n",
    "for row in r1:\n",
    "    print (row[0], \"has population\", row[1])\n",
    "    print()"
   ]
  },
  {
   "cell_type": "markdown",
   "metadata": {},
   "source": [
    "In this example, the values of two variables have been returned: `?country` and `?population`.\n",
    "\n",
    "The processing of the query takes place in the order of the statements within the WHERE clause.\n",
    "\n",
    "First, a match is found for the pattern \n",
    "\n",
    "    ?country <http://www.example.org/hasPopulation> ?population .\n",
    "\n",
    "This might be, for example, `?country = Latvia` with `?population = 2165165`. \n",
    "\n",
    "We say that the value '`Latvia`' has been **bound** to the variable `?country` and the value `2165165` has been **bound** to the variable `?population`.\n",
    "\n",
    "The values of the bound variables are carried through to the second statement of the WHERE clause where the current  (i.e. bound) value of `?population` is compared with the value 50000000. Since the current (i.e. bound) value of `?population` is less than 50000000 this potential result is discarded and the processing returns to the first statement in the WHERE clause and a new match is found with the triple pattern (technically we say that the variables become unbound and new values are obtained and bound to them). The next match might result in the bindings `?country = Germany` and `?population = 80996685`. This time the value bound to `?population` is greater than 50 million and so this binding will be accepted as a result to be returned. \n",
    "\n",
    "Whenever the query engine reaches the end of the sequence of statements in a WHERE clause, it returns to the first statement and repeats the process to see whether further results can be found. If no results are found, processing stops.\n",
    "\n",
    "Note about the syntax: there is a full stop at the end of the first statement inside the WHERE clause to separate it from the second statement."
   ]
  },
  {
   "cell_type": "markdown",
   "metadata": {},
   "source": [
    "If you wanted to put the results of the last query in alphabetical order of country name you can use the ORDER BY keyword (which must be placed before the LIMIT keyword, if present):"
   ]
  },
  {
   "cell_type": "code",
   "execution_count": null,
   "metadata": {
    "activity": false,
    "collapsed": false,
    "run_control": {
     "read_only": false
    }
   },
   "outputs": [],
   "source": [
    "# Find the countires that have a population greater than 50 million; place in alphabetical order\n",
    "q1 = '''SELECT DISTINCT ?country ?population\n",
    "        WHERE { \n",
    "            ?country <http://www.example.org/hasPopulation> ?population .\n",
    "            FILTER (?population > 50000000) \n",
    "        }ORDER BY ?country LIMIT 20 \n",
    "        '''\n",
    "\n",
    "# Run the query q1, and save the results in variable r1\n",
    "r1 = geog.query(q1)\n",
    "\n",
    "# Print the results\n",
    "for row in r1:\n",
    "    print (row[0], \"has population\", row[1])\n",
    "    print()"
   ]
  },
  {
   "cell_type": "markdown",
   "metadata": {
    "activity": "activity"
   },
   "source": [
    "### Activity 4\n",
    "\n",
    "Ouput the results of the last query in order of increasing size of population. "
   ]
  },
  {
   "cell_type": "code",
   "execution_count": null,
   "metadata": {
    "activity": "activity",
    "collapsed": true,
    "run_control": {
     "read_only": false
    }
   },
   "outputs": [],
   "source": [
    "# Insert your solution here."
   ]
  },
  {
   "cell_type": "markdown",
   "metadata": {
    "activity": "activity",
    "collapsed": false,
    "run_control": {
     "read_only": false
    }
   },
   "source": [
    "The solution is in the [`25.2solutions`](25.2solutions.ipynb) Notebook."
   ]
  },
  {
   "cell_type": "markdown",
   "metadata": {},
   "source": [
    "To order items in reverse alphabetical order or decreasing numerical value, use the construct:\n",
    "\n",
    "    ORDER BY DESC()"
   ]
  },
  {
   "cell_type": "markdown",
   "metadata": {},
   "source": [
    "## Multiple patterns in a query"
   ]
  },
  {
   "cell_type": "markdown",
   "metadata": {},
   "source": [
    "So far we have used only one triple pattern in our queries. More complex queries require multiple patterns.\n",
    "\n",
    "For example, suppose you want to find the names of the countries that border those countries with a population greater than 5 million. This can be achieved by adding a further triple pattern to the last query.\n"
   ]
  },
  {
   "cell_type": "code",
   "execution_count": null,
   "metadata": {
    "activity": false,
    "collapsed": false,
    "run_control": {
     "read_only": false
    }
   },
   "outputs": [],
   "source": [
    "# Find the countires that border those countries with a population greater than 50 million\n",
    "q1 = '''SELECT DISTINCT ?country ?borderCountry\n",
    "        WHERE { \n",
    "            ?country <http://www.example.org/hasPopulation> ?population .\n",
    "            FILTER (?population > 50000000) .\n",
    "            ?country <http://www.example.org/hasBorder> ?borderCountry \n",
    "        }ORDER BY ?borderCountry\n",
    "        '''\n",
    "\n",
    "# Run the query q1, and save the results in variable r1\n",
    "r1 = geog.query(q1)\n",
    "\n",
    "# Print the results\n",
    "for row in r1:\n",
    "    print (row[1], \"borders\", row[0])\n",
    "    print()"
   ]
  },
  {
   "cell_type": "markdown",
   "metadata": {},
   "source": [
    "In this example, the bindings of `?country` and `?population` found in the first statement are carried through to the second and third statements. If any subsequent statement fails to find a match or returns `false` (as in the case of the FILTER statement) the processing reverts to the immediately preceeding statement.\n",
    "\n",
    "For example, if `?country` refers to a country with no borders (Iceland has no bordering countries), processing reverts or **backtracks** to the previous statement, in this case the FILTER statement. Since a FILTER statement doesn't make bindings, backtracking continues to the previous statement (i.e. the first statement in this example). The query engine will attempt to find new matches for the variables in the first pattern and, if it succeeds, the processing moves forward to the second statement as before. \n",
    "\n",
    "In this way, the query engine continually moves forwards and backwards through the sequence of statements in the WHERE clause trying to find new bindings (when moving forward) and discarding existing bindings (when moving backwards).\n",
    "\n",
    "Note the use of the full stop to separate the statements inside the WHERE clause."
   ]
  },
  {
   "cell_type": "markdown",
   "metadata": {
    "activity": "activity"
   },
   "source": [
    "### Activity 5\n",
    "\n",
    "Find all information held about Germany."
   ]
  },
  {
   "cell_type": "code",
   "execution_count": null,
   "metadata": {
    "activity": "activity",
    "collapsed": false,
    "run_control": {
     "read_only": false
    }
   },
   "outputs": [],
   "source": [
    "# Insert your solution here."
   ]
  },
  {
   "cell_type": "markdown",
   "metadata": {
    "activity": "activity"
   },
   "source": [
    "The solution is in the [`25.2solutions`](25.2solutions.ipynb) Notebook."
   ]
  },
  {
   "cell_type": "markdown",
   "metadata": {
    "activity": "activity"
   },
   "source": [
    "### Activity 6\n",
    "\n",
    "Find all countries that have German as an official language. (The term German is a literal value, so use `\"German\"` as the object in the pattern.)"
   ]
  },
  {
   "cell_type": "code",
   "execution_count": null,
   "metadata": {
    "activity": "activity",
    "collapsed": true,
    "run_control": {
     "read_only": false
    }
   },
   "outputs": [],
   "source": [
    "# Insert your solution here."
   ]
  },
  {
   "cell_type": "markdown",
   "metadata": {
    "activity": "activity"
   },
   "source": [
    "The solution is in the [`25.2solutions`](25.2solutions.ipynb) Notebook."
   ]
  },
  {
   "cell_type": "markdown",
   "metadata": {
    "activity": "activity"
   },
   "source": [
    "### Activity 7\n",
    "\n",
    "Find all countries that have German as an official language and which border Italy."
   ]
  },
  {
   "cell_type": "code",
   "execution_count": null,
   "metadata": {
    "activity": "activity",
    "collapsed": true,
    "run_control": {
     "read_only": false
    }
   },
   "outputs": [],
   "source": [
    "# Insert your solution here."
   ]
  },
  {
   "cell_type": "markdown",
   "metadata": {
    "activity": "activity"
   },
   "source": [
    "The solution is in the [`25.2solutions`](25.2solutions.ipynb) Notebook."
   ]
  },
  {
   "cell_type": "markdown",
   "metadata": {},
   "source": [
    "## Some shortcuts"
   ]
  },
  {
   "cell_type": "markdown",
   "metadata": {},
   "source": [
    "Queries can become quite unreadable when they contain several patterns; there are several ways to reduce the size of queries and make them easier to read. \n",
    "\n",
    "As you have already seen in Part 24, triples in a graph can be made more readable by use of prefixes for URIs. The same is true in SPARQL although the syntax is slightly different. Here is the previous example rewritten using a PREFIX statement."
   ]
  },
  {
   "cell_type": "code",
   "execution_count": null,
   "metadata": {
    "activity": false,
    "collapsed": false,
    "run_control": {
     "read_only": false
    }
   },
   "outputs": [],
   "source": [
    "# Find the countires that border those countries with a population greater than 50 million\n",
    "\n",
    "q1 = '''\n",
    "        PREFIX eg: <http://www.example.org/>\n",
    "        SELECT DISTINCT ?country ?borderCountry\n",
    "        WHERE { \n",
    "            ?country eg:hasPopulation ?population .\n",
    "            FILTER (?population > 50000000) .\n",
    "            ?country eg:hasBorder ?borderCountry .\n",
    "        } LIMIT 10\n",
    "        '''\n",
    "\n",
    "# Run the query q1, and save the results in variable r1\n",
    "r1 = geog.query(q1)\n",
    "\n",
    "# Print the results\n",
    "for row in r1:\n",
    "    print (row[1], \"borders\", row[0])\n",
    "    print()"
   ]
  },
  {
   "cell_type": "markdown",
   "metadata": {},
   "source": [
    "When there are patterns with the same subject, they can be combined into a single pattern using a semicolon to separate the predicate-object pairs. For example, suppose we wanted to find all countries that border Germany and have German as an official language. Here is one way to do this."
   ]
  },
  {
   "cell_type": "code",
   "execution_count": null,
   "metadata": {
    "activity": false,
    "collapsed": false,
    "run_control": {
     "read_only": false
    }
   },
   "outputs": [],
   "source": [
    "#Find countries that border Germany that have German as an official language\n",
    "q1 = '''\n",
    "        PREFIX eg: <http://www.example.org/>\n",
    "        PREFIX geo: <http://www.example.org/geography/>\n",
    "        SELECT DISTINCT ?country\n",
    "        WHERE { \n",
    "            ?country eg:hasBorder geo:Germany .\n",
    "            ?country eg:hasOfficialLanguage \"German\" .\n",
    "        } LIMIT 10\n",
    "        '''\n",
    "\n",
    "# Run the query q1, and save the results in variable r1\n",
    "r1 = geog.query(q1)\n",
    "\n",
    "# Print the results\n",
    "for row in r1:\n",
    "    print (row[0])\n",
    "    print()"
   ]
  },
  {
   "cell_type": "markdown",
   "metadata": {},
   "source": [
    "As the two patterns have the same subject, `?country`, they can be combined into a single pattern using a semicolon as follows:"
   ]
  },
  {
   "cell_type": "code",
   "execution_count": null,
   "metadata": {
    "activity": false,
    "collapsed": false,
    "run_control": {
     "read_only": false
    }
   },
   "outputs": [],
   "source": [
    "q1 = '''\n",
    "        PREFIX eg: <http://www.example.org/>\n",
    "        PREFIX geo: <http://www.example.org/geography/>\n",
    "        SELECT DISTINCT ?country\n",
    "        WHERE { \n",
    "            ?country eg:hasBorder geo:Germany ;\n",
    "                     eg:hasOfficialLanguage \"German\" .\n",
    "        } LIMIT 10\n",
    "        '''\n",
    "\n",
    "# Run the query q1, and save the results in variable r1\n",
    "r1 = geog.query(q1)\n",
    "\n",
    "# Print the results\n",
    "for row in r1:\n",
    "    print (row[0])\n",
    "    print()"
   ]
  },
  {
   "cell_type": "markdown",
   "metadata": {},
   "source": [
    "If two successive patterns have the same subject and predicate they can be combined using a comma. For example, to find countries that border both Germany and France you could write:"
   ]
  },
  {
   "cell_type": "code",
   "execution_count": null,
   "metadata": {
    "activity": false,
    "collapsed": false,
    "run_control": {
     "read_only": false
    }
   },
   "outputs": [],
   "source": [
    "q1 = '''\n",
    "        PREFIX eg: <http://www.example.org/>\n",
    "        PREFIX geo: <http://www.example.org/geography/>\n",
    "        SELECT DISTINCT ?country\n",
    "        WHERE { \n",
    "            ?country eg:hasBorder geo:Germany ,\n",
    "                                  geo:France .\n",
    "        } LIMIT 10\n",
    "        '''\n",
    "\n",
    "# Run the query q1, and save the results in variable r1\n",
    "r1 = geog.query(q1)\n",
    "\n",
    "# Print the results\n",
    "for row in r1:\n",
    "    print (row[0])\n",
    "    print()"
   ]
  },
  {
   "cell_type": "markdown",
   "metadata": {},
   "source": [
    "## Summary"
   ]
  },
  {
   "cell_type": "markdown",
   "metadata": {},
   "source": [
    "In this Notebook you have seen that a triple pattern is a triple in which one or more of its subject, predicate and object are variables. A variable is a name prefixed with `?`.\n",
    "\n",
    "A query engine searches the graph for triples that match the pattern(s) in the WHERE clause of a SELECT query. \n",
    "\n",
    "The query engine returns the values bound to the variables specified after the SELECT keyword.\n",
    "\n",
    "When searching, the query engine works through multiple patterns in the order in which they have been written down matching the patterns to triples in the graph. Whenever a match is found, the variables in the pattern are bound to the values in the triple. The bound values are carried on to the next pattern and a further match is sought for any variables that have not yet been bound. Once all patterns have been tried and values found for the variables, the search engine records the result and returns to the first pattern to see whether further matches (results) can be found. \n",
    "\n",
    "If, at any stage, the search engine fails to match a pattern it backtracks to the previous pattern, unbinds any variables that were bound in that previous pattern, and looks for new matches for the variables in that previous pattern. If it finds a new match it continues moving forward through the patterns.\n",
    "\n",
    "The FILTER statement enables you to carry forward the value of a variable if it meets a given criterion. Otherwise, the search engine unbinds that variable and backtracks.\n",
    "\n",
    "SPARQL contains a number of features for limiting the number of results returned (which can be extensive, especially when you are experimenting):\n",
    "\n",
    "1. LIMIT constrains the number of results returned\n",
    "2. DISTINCT ensures that a result is returned only once\n",
    "\n",
    "To print out a set of results in order, the ORDER BY keyword can be used.\n",
    "\n",
    "A variety of mechanisms are available to reduce the complexity of queries:\n",
    "\n",
    "1. the PREFIX statement can be used to replace parts of a long URI by a short name\n",
    "2. if successive patterns have the same subject but different predicates, the predicates (and associated objects) can be listed after the subject separated by semicolons\n",
    "3. if successive patterns have the same subject and predicate, the objects can be listed after the predicate separated by commas."
   ]
  },
  {
   "cell_type": "markdown",
   "metadata": {},
   "source": [
    "## What next?\n",
    "\n",
    "If you are working through this Notebook as part of an inline exercise, return to the module materials now.\n",
    "\n",
    "If you are working through this set of Notebooks as a whole, move on to `25.3 Endpoints accessing real data`."
   ]
  }
 ],
 "metadata": {
  "kernelspec": {
   "display_name": "Python 3",
   "language": "python",
   "name": "python3"
  },
  "language_info": {
   "codemirror_mode": {
    "name": "ipython",
    "version": 3
   },
   "file_extension": ".py",
   "mimetype": "text/x-python",
   "name": "python",
   "nbconvert_exporter": "python",
   "pygments_lexer": "ipython3",
   "version": "3.4.3"
  }
 },
 "nbformat": 4,
 "nbformat_minor": 0
}
