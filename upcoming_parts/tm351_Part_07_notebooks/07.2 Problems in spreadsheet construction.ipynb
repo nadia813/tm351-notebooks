{
 "cells": [
  {
   "cell_type": "markdown",
   "metadata": {},
   "source": [
    "# Problems in spreadsheet construction"
   ]
  },
  {
   "cell_type": "markdown",
   "metadata": {},
   "source": [
    "In this Notebook you are asked to complete a spreadsheet in ways that will illustrate some of the problems that can occur when building spreadsheets."
   ]
  },
  {
   "cell_type": "markdown",
   "metadata": {},
   "source": [
    "In the zip file you downloaded for Part 7 is a spreadsheet named ‘TM351 College Spreadsheet’. Open the spreadshet using Google Sheets (or any other spreadsheet application with which you are familiar).\n",
    "\n",
    "If you are using Google Sheets, open the file picker (icon on right-hand side of menu bar) and then click on Upload. Select the file from the Notebooks folder on your computer."
   ]
  },
  {
   "cell_type": "markdown",
   "metadata": {},
   "source": [
    "The spreadsheet contains data about the assignment and exam results of a cohort of students. \n",
    "\n",
    "There are three sheets labelled *Module X*, *Module Y* and *Overall*. \n",
    "\n",
    "All students have to attempt both Module X and Module Y, and their assignment and exam grades for the two modules are contained in the spreadsheet. \n",
    "\n",
    "To pass either module, a student must obtain an overall score of 50 or more as the average of their average assignment score and exam score. This information is also recorded in the spreadsheet. \n",
    "\n",
    "In the *Module X* sheet, hover your mouse cursor over cell I2 and then cell J2. In each case a brief note of the purpose of those cells is displayed. Any cell with a small triangle in the top-right corner has a note attached to it.\n",
    "\n",
    "To insert a note for a cell, right-click on the cell and select ‘Insert note’ from the pop-up menu and then type the note in the text box that appears."
   ]
  },
  {
   "cell_type": "markdown",
   "metadata": {},
   "source": [
    "### Exercise 1"
   ]
  },
  {
   "cell_type": "markdown",
   "metadata": {},
   "source": [
    "How is the average assignment grade calculated?"
   ]
  },
  {
   "cell_type": "markdown",
   "metadata": {
    "solution": "hidden"
   },
   "source": [
    "### Solution\n",
    "Our solution is hidden - click on the '+' symbol at the left-hand end of this cell to reveal it."
   ]
  },
  {
   "cell_type": "markdown",
   "metadata": {
    "solution": "hidden"
   },
   "source": [
    "The method for calculating the average assignment grade can be found by reading the note attached to cell H2: \n",
    "\n",
    "'Average of three assignments equally weighted'. \n",
    "\n",
    "You can confirm this by examining one of the cells in column H."
   ]
  },
  {
   "cell_type": "markdown",
   "metadata": {},
   "source": [
    "### Exercise 2"
   ]
  },
  {
   "cell_type": "markdown",
   "metadata": {},
   "source": [
    "How is the Pass/Fail status calculated?"
   ]
  },
  {
   "cell_type": "markdown",
   "metadata": {
    "solution": "hidden"
   },
   "source": [
    "### Solution\n",
    "Our solution is hidden - click on the '+' symbol at the left-hand end of this cell to reveal it."
   ]
  },
  {
   "cell_type": "markdown",
   "metadata": {
    "solution": "hidden"
   },
   "source": [
    "The Pass/Fail status is calculated using an IF function as found, for example, in cell J3, as:\n",
    "\n",
    "    =IF(I3>=50, \"Pass\", \"Fail\")\n",
    "            \n",
    "That is, if the value in cell I3 is greater than or equal to 50, display (in cell J3) the string \"Pass\", otherwise display the string \"Fail\"."
   ]
  },
  {
   "cell_type": "markdown",
   "metadata": {},
   "source": [
    "The assignment and exam grades for Module Y are given in the sheet labelled *Module Y*. However, the calculations of the averages, overall score and Pass/Fail status have not yet been added."
   ]
  },
  {
   "cell_type": "markdown",
   "metadata": {},
   "source": [
    "### Exercise 3"
   ]
  },
  {
   "cell_type": "markdown",
   "metadata": {},
   "source": [
    "Below the main table in sheet *Module X* are some statistics. How has the number of students passing the module been calculated?"
   ]
  },
  {
   "cell_type": "markdown",
   "metadata": {
    "solution": "hidden"
   },
   "source": [
    "### Solution\n",
    "Our solution is hidden - click on the '+' symbol at the left-hand end of this cell to reveal it."
   ]
  },
  {
   "cell_type": "markdown",
   "metadata": {
    "solution": "hidden"
   },
   "source": [
    "Cell H19 has the following note attached to it: \n",
    "\n",
    "'Count number of cells containing \"Pass\" in column J'. \n",
    "\n",
    "The formula used is:\n",
    "\n",
    "    =COUNTIF(J3:J14, \"Pass\")\n",
    "            \n",
    "Which means, count the number of cells in the range J3:J14 which contain precisely the string “Pass”. \n",
    "\n",
    "If you were to edit this formula to look for cells containing “pass” the total would be zero because the contents of the cells must match the string in the COUNTIF function exactly."
   ]
  },
  {
   "cell_type": "markdown",
   "metadata": {},
   "source": [
    "### Exercise 4"
   ]
  },
  {
   "cell_type": "markdown",
   "metadata": {},
   "source": [
    "Complete the sheet for Module Y."
   ]
  },
  {
   "cell_type": "markdown",
   "metadata": {
    "solution": "hidden"
   },
   "source": [
    "### Solution\n",
    "Our solution is hidden - click on the '+' symbol at the left-hand end of this cell to reveal it."
   ]
  },
  {
   "cell_type": "markdown",
   "metadata": {
    "solution": "hidden"
   },
   "source": [
    "Sheet *Module Y* is easily completed by copying the formulas from sheet *Module X*. \n",
    "\n",
    "For example, we copied the formula in cell G3 in sheet *Module X* into cell G3 in sheet *Module Y* and then dragged down column G to fill in the remaining formulas in that column."
   ]
  },
  {
   "cell_type": "markdown",
   "metadata": {},
   "source": [
    "### Exercise 5"
   ]
  },
  {
   "cell_type": "markdown",
   "metadata": {},
   "source": [
    "The third sheet, *Overall*, combines the results from the other two sheets to produce an overall grade. The details of the calculations required can be found in the notes attached to the various headings.\n",
    "\n",
    "Complete the *Overall* sheet, using the notes attached to cells C1 to F1."
   ]
  },
  {
   "cell_type": "markdown",
   "metadata": {
    "solution": "hidden"
   },
   "source": [
    "### Solution\n",
    "Our solution is hidden - click on the '+' symbol at the left-hand end of this cell to reveal it."
   ]
  },
  {
   "cell_type": "markdown",
   "metadata": {
    "solution": "hidden"
   },
   "source": [
    "How did you transfer the overall score for each module to the *Overall* sheet? \n",
    "\n",
    "Copying is not a great idea; better to use relative addressing as in:\n",
    "\n",
    "    'Module X'!B3\n",
    "    \n",
    "That is, the sheet name (in single quotes), an exclamation mark (!) and the cell address.\n",
    "\n",
    "For example, cell C2 in sheet *Overall* could contain the formula:\n",
    "\n",
    "    =’Module X’!I3\n"
   ]
  },
  {
   "cell_type": "markdown",
   "metadata": {},
   "source": [
    "### Exercise 6"
   ]
  },
  {
   "cell_type": "markdown",
   "metadata": {},
   "source": [
    "If you were told that, for Pete Citysend, the score for his exam on Module X is missing because he had asked for it to be remarked and the new score was 43, what effect, if any, does this have on:\n",
    "\n",
    "(a) his overall score on Module X\n",
    "\n",
    "(b) his overall grade?"
   ]
  },
  {
   "cell_type": "markdown",
   "metadata": {
    "solution": "hidden"
   },
   "source": [
    "### Solution\n",
    "Our solution is hidden - click on the '+' symbol at the left-hand end of this cell to reveal it."
   ]
  },
  {
   "cell_type": "markdown",
   "metadata": {
    "solution": "hidden"
   },
   "source": [
    "(a) His overall score on Module X increases from 30.7 (Fail) to 51.7 (Pass).\n",
    "\n",
    "(b) His overall score across the two modules increases from 43.133 (grade 3) to 56.03 (grade 2).\n",
    "\n",
    "Do these values change automatically in your spreadsheet? It would be best if they did."
   ]
  },
  {
   "cell_type": "markdown",
   "metadata": {},
   "source": [
    "### Exercise 7"
   ]
  },
  {
   "cell_type": "markdown",
   "metadata": {},
   "source": [
    "No scores have been entered for Clare Hare for Module Y. This is because she had to withdraw from the module before starting Module Y due to ill health. \n",
    "\n",
    "The college has agreed that she can take Module Y next year carrying forward her Module X score.  \n",
    "\n",
    "What confidence do you have in the calculated values for the average score for each assignment on Module Y?"
   ]
  },
  {
   "cell_type": "markdown",
   "metadata": {
    "solution": "hidden"
   },
   "source": [
    "### Solution\n",
    "Our solution is hidden - click on the '+' symbol at the left-hand end of this cell to reveal it."
   ]
  },
  {
   "cell_type": "markdown",
   "metadata": {
    "solution": "hidden"
   },
   "source": [
    "The average scores in sheet *Module Y* are calculated by summing the scores for each student and dividing by 12. Google Sheets, in common with many spreadsheets, views an empty cell in a column of numerical values as zero. Including Clare there are 12 students. However, the correct formula should divide by 11 to exclude the zero for Clare.\n",
    "\n",
    "Whenever you see a number, such as 12, in a formula you should be very wary of the result. It can be difficult to know what these numbers stand for and, as a result, they’re often referred to as ‘magic numbers’. It would have been better either to use the built-in function COUNT (which ignores blank cells) or perform a count of the number of valid cells, store it in a cell and use that value in the computation.\n",
    "\n",
    "However, if you do use a cell to store a count (or other variable) make sure you document what the cell is for (by adding a note, for example).\n",
    "\n",
    "You may have noticed that there are two versions of the built-in function for calculating an average. One, named AVERAGE, calculates the numerical average value in a dataset, ignoring text; the other, named AVERAGEA, calculates the numerical average value of all items in a dataset. Using AVERAGE to calculate average assignment scores, for example, would allow you to include non-numeric values in a dataset such as \"Pending\" or \"Absent\" which not only would calculate the appropriate values but also make the spreadsheet more readable. "
   ]
  },
  {
   "cell_type": "markdown",
   "metadata": {},
   "source": [
    "### Exercise 8"
   ]
  },
  {
   "cell_type": "markdown",
   "metadata": {},
   "source": [
    "In sheet *Overall*, drag your mouse across the column letters from C to H inclusive. Right click on one of the selected columns and a menu will appear. Choose 'Hide Columns C – H'.  Columns C to H inclusive will be hidden and you will have a view of the sheet which contains columns A, B, I and J. \n",
    "\n",
    "What problems can arise when columns are hidden (especially when the sheet contains a large number of columns)?"
   ]
  },
  {
   "cell_type": "markdown",
   "metadata": {
    "solution": "hidden"
   },
   "source": [
    "### Solution\n",
    "Our solution is hidden - click on the '+' symbol at the left-hand end of this cell to reveal it."
   ]
  },
  {
   "cell_type": "markdown",
   "metadata": {
    "solution": "hidden"
   },
   "source": [
    "Hiding data can be dangerous in the sense that, if someone is new to the spreadsheet and fails to notice that columns are hidden, they may come to some erroneous conclusions about the data since they cannot see it."
   ]
  },
  {
   "cell_type": "markdown",
   "metadata": {},
   "source": [
    "## Summary"
   ]
  },
  {
   "cell_type": "markdown",
   "metadata": {},
   "source": [
    "In this Notebook you have seen:\n",
    "\n",
    "1. How to add notes to individual cells.\n",
    "\n",
    "2. The use of an IF formula to perform alternative calculations.\n",
    "\n",
    "3. The use of the COUNTIF formula.\n",
    "\n",
    "4. The difference between the built-in functions AVERAGE and AVERAGEA.\n",
    "\n",
    "5. How to drag a formula into multiple cells so that the same calculation can be performed on several separate ranges of cells.\n",
    "\n",
    "\n",
    "To avoid problems:\n",
    "\n",
    "1. Avoid copying data (use relative addressing, if possible).\n",
    "\n",
    "2. Don't put 'magic numbers' in formulas.\n",
    "\n",
    "3. Ensure that, if a value is likely to change, any other value that depends on that value should be calculated via a formula.\n",
    "\n",
    "4. Document any cells that are used for holding variables occuring in formulas.\n",
    "\n",
    "5. Use appropriate functions when there are missing data.\n",
    "\n",
    "6. Avoid hiding data so that, if someone is new to the spreadsheet, they will be able to see all data.\n",
    "\n",
    "7. Document the spreadsheet using meaningful headings and notes."
   ]
  },
  {
   "cell_type": "markdown",
   "metadata": {},
   "source": [
    "## What next?"
   ]
  },
  {
   "cell_type": "markdown",
   "metadata": {},
   "source": [
    "If you are working through this Notebook as part of an inline exercise, return to the module materials now.\n",
    "\n",
    "If you are working through this set of Notebooks as a whole, you've completed the Part 7 Notebooks. It's time to move on to Part 8."
   ]
  }
 ],
 "metadata": {
  "kernelspec": {
   "display_name": "Python 3",
   "language": "python",
   "name": "python3"
  },
  "language_info": {
   "codemirror_mode": {
    "name": "ipython",
    "version": 3
   },
   "file_extension": ".py",
   "mimetype": "text/x-python",
   "name": "python",
   "nbconvert_exporter": "python",
   "pygments_lexer": "ipython3",
   "version": "3.4.3"
  }
 },
 "nbformat": 4,
 "nbformat_minor": 0
}
