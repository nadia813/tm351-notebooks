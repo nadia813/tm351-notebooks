{
 "cells": [
  {
   "cell_type": "markdown",
   "metadata": {},
   "source": [
    "# Spreadsheet basics"
   ]
  },
  {
   "cell_type": "markdown",
   "metadata": {},
   "source": [
    "> Although the Part 7 Notebooks do not contain any Python code, the Notebook format is still useful because - as explained in Part 1 - you can add your own notes to Notebooks."
   ]
  },
  {
   "cell_type": "markdown",
   "metadata": {},
   "source": [
    "## Download a spreadsheet"
   ]
  },
  {
   "cell_type": "markdown",
   "metadata": {},
   "source": [
    "Visit the Office for National Statistics (ONS) website at:\n",
    "\n",
    "[http://www.ons.gov.uk/ons/datasets-and-tables/index.html](http://www.ons.gov.uk/ons/datasets-and-tables/index.html)"
   ]
  },
  {
   "cell_type": "markdown",
   "metadata": {},
   "source": [
    "In  the text box next to the button labelled ‘Search datasets and reference tables’ type the word 'Crime' (without the quotes) and click the button.\n",
    "\n",
    "You should be provided with a list of datasets and reference tables relating to crime in England and Wales. Many of the datasets are provided as Microsoft Excel spreadsheets."
   ]
  },
  {
   "cell_type": "markdown",
   "metadata": {},
   "source": [
    "Click on the dataset labelled '01. Bulletin Tables - Crime in England and Wales, Year Ending March 2015 (Excel sheet 740Kb)'. Make sure you choose the the dataset for March 2015.\n",
    "\n",
    "Depending on your web browser, you may be asked whether you want to open or save the file. Choose to save the file. The chosen file will be downloaded to your computer."
   ]
  },
  {
   "cell_type": "markdown",
   "metadata": {},
   "source": [
    "The remainder of this activity uses the Google spreadsheet application, Google Sheets. If you are familiar with another spreadsheet application, such as Microsoft Excel, you can use that instead  (the instructions given below are designed specifically for Google Sheets but you should be able to interpret them for other spreadsheet systems)."
   ]
  },
  {
   "cell_type": "markdown",
   "metadata": {},
   "source": [
    "### Create a new empty spreadsheet"
   ]
  },
  {
   "cell_type": "markdown",
   "metadata": {},
   "source": [
    "Go to Google Sheets:\n",
    "\n",
    "[https://docs.google.com/spreadsheets/u/0/](https://docs.google.com/spreadsheets/u/0/)\n",
    "\n",
    "and click on the large button containing a '+' symbol to start a new blank spreadsheet."
   ]
  },
  {
   "cell_type": "markdown",
   "metadata": {},
   "source": [
    "### Download a spreadsheet from ONS"
   ]
  },
  {
   "cell_type": "markdown",
   "metadata": {},
   "source": [
    "In the File menu of the new spreadsheet choose ‘Open…’ and in the dialog box click on the ‘Upload’ tab (top right of the dialog box)."
   ]
  },
  {
   "cell_type": "markdown",
   "metadata": {},
   "source": [
    "Select the ONS crime file that you have just downloaded.\n",
    "\n",
    "Google Sheets will convert the downloaded spreadsheet from Excel format to Sheets format and you should be able to read the statistics for you chosen dataset."
   ]
  },
  {
   "cell_type": "markdown",
   "metadata": {},
   "source": [
    "### Examine the data"
   ]
  },
  {
   "cell_type": "markdown",
   "metadata": {},
   "source": [
    "Spend a few minutes becoming familiar with the structure of this spreadsheet. Initially you should see a list of the titles of tables contained in the dataset. There is a considerable number of tables and figures. You can select a particular table or figure by clicking on one of the tabs at the bottom of the spreadsheet. In the first instance, choose Table 2: ‘Number of police recorded crimes for year ending March 2015 and percentage change’."
   ]
  },
  {
   "cell_type": "markdown",
   "metadata": {},
   "source": [
    "The remainder of this activity asks you to interact with the spreadsheet you have just downloaded.\n",
    "\n",
    "The activity is divided into a number of sections, each of which points out a salient feature of the spreadsheet. Some sections simply ask you to observe a feature of the spreadsheet; others ask you to amend the spreadsheet."
   ]
  },
  {
   "cell_type": "markdown",
   "metadata": {},
   "source": [
    "## Observations: learning your way around a spreadsheet"
   ]
  },
  {
   "cell_type": "markdown",
   "metadata": {},
   "source": [
    "*This section is intended to familiarise you with the essential features of a spreadsheet. If you are already familiar with spreadsheets then skip to the section labelled 'Exercise 1'.*"
   ]
  },
  {
   "cell_type": "markdown",
   "metadata": {},
   "source": [
    "Clicking on a tab at the bottom of the spreadsheet takes you to a single **sheet**. A sheet can contain one or more tables, headings, notes and other information. In this dataset, each table has been placed on a separate sheet."
   ]
  },
  {
   "cell_type": "markdown",
   "metadata": {},
   "source": [
    "A **table** is a two-dimensional array of data; some data is numeric, some is text."
   ]
  },
  {
   "cell_type": "markdown",
   "metadata": {},
   "source": [
    "Click on any element in the table and it will be highlighted with a box drawn around it. Such an element is known as a **cell**. Try clicking on any cells to get a feeling for the structure of this table."
   ]
  },
  {
   "cell_type": "markdown",
   "metadata": {},
   "source": [
    "Each row in the table is numbered (the numbers are listed down the left-hand side) and each column is labelled with a letter (listed across the top). This enables each cell of the table to be identified by specifying its column letter and row number. For example, in Table 2 of the crime file, the number of 'Violence against the person offences' in the period April 2014 to March 2015 is recorded as 779,027  and is located at position B8. That is, cell B8 contains the (numeric) **value** 779,027. The label B8 is the **address** of the cell."
   ]
  },
  {
   "cell_type": "markdown",
   "metadata": {},
   "source": [
    "When you click on a cell, the value contained in the cell is also displayed in the **formula bar** located just beneath the menu bar (and is labelled fx in Google Sheets).\n",
    "\n",
    "The formula bar is used for editing the contents of a cell. Click on a cell, click in the formula bar and change its contents. Notice that, as you edit the contents of the formula bar, what you see in the corresponding cell also changes. \n",
    "\n",
    "Press Enter when you have finished editing the cell. The blue rectangle highlights the next cell in the column."
   ]
  },
  {
   "cell_type": "markdown",
   "metadata": {},
   "source": [
    "Table 2 is just a set of data. Each cell contains a value and you can change that value. Some cells, shown in bold type, contain totals. Clearly, someone or something has previously performed the additions to give these totals.  \n",
    "\n",
    "However, if you were to change the number of homicides in the year (the value in cell B9) because you were told that this number had been input incorrectly, this change would not be reflected in the total in cell B8. Try it and confirm that this is indeed the case.\n",
    "\n",
    "Clearly, it would be advantageous to arrange that a cell containing a value that depends on other values in the spreadsheet is updated automatically when one of those other values is changed. This is possible using an appropriate formula as you will see in the next section."
   ]
  },
  {
   "cell_type": "markdown",
   "metadata": {},
   "source": [
    "## Performing simple calculations"
   ]
  },
  {
   "cell_type": "markdown",
   "metadata": {},
   "source": [
    "### Summing values in a range of cells"
   ]
  },
  {
   "cell_type": "markdown",
   "metadata": {},
   "source": [
    "A really useful property of spreadsheets is that you can get them to perform calculations, such as summing the values in a column, very easily, as follows.\n",
    "\n",
    "a. Make a note of the value in cell B8 (779027).\n",
    "\n",
    "b. Click on cell B8.\n",
    "\n",
    "c. Replace the contents of cell B8 by editing the contents of the formula bar to become:\n",
    "\n",
    "        =SUM(B9:B11)\n",
    "    \n",
    "The equals sign is significant because it informs the spreadsheet that a calculation is to be performed (otherwise the text 'SUM(B9:B11)' would be stored in the cell). The text following the equals sign is known as a **formula**.\n",
    "\n",
    "The construct B9:B11 is known as a **range**. A contiguous set of cells, either horizontal or vertical, can be specified by a pair of cell references separated by a colon (:). Thus, `SUM(B9:B11)` means sum the values in the cells from B9 to B11 inclusive. Notice how the spreadsheet system highlights the cells appearing in the SUM functions by surrounding them with dashed lines. This is to help you to check that you have chosen the appropriate cells for your calculation."
   ]
  },
  {
   "cell_type": "markdown",
   "metadata": {},
   "source": [
    "Press Enter to see the result of editing cell B8. You should see that the value displayed in the cell is the same as before, but the actual contents of the cell is the function `=SUM(B9:B11)` which you see in the formula bar when you click on the cell."
   ]
  },
  {
   "cell_type": "markdown",
   "metadata": {},
   "source": [
    "Now edit the value in cell B9 (to 543, say, representing the correction of a transposition error when the value was first input). Press Enter and you will see that the value in cell B8 changes to take into account the change in B9.\n",
    "\n",
    "It may be useful to think of a cell as a box containing a value or a formula and what you see displayed on screen in the cell is a view of that value or the result of carrying out the calculation."
   ]
  },
  {
   "cell_type": "markdown",
   "metadata": {},
   "source": [
    "There are many functions (such as SUM) built into spreadsheets and you can place arbitrarily complex calculations (a complex formula) into a single cell. This is both a strength and a weakness of spreadsheets. Putting a formula into a cell allows you to specify a possibly complex calculation, the result of which will be accurately recorded. Whenever you change a value of one or more of the cells mentioned in a calculation, the result will automatically change as a consequence. This ease of use is a potential weakness as you will see later."
   ]
  },
  {
   "cell_type": "markdown",
   "metadata": {},
   "source": [
    "### Specifying a range of cells"
   ]
  },
  {
   "cell_type": "markdown",
   "metadata": {},
   "source": [
    "Most spreadsheet systems offer a visual way of specifying a range of cells. For example, click on cell B12 (it contains the value 88219). \n",
    "\n",
    "In the formula bar replace the value with the following (this is a deliberately incomplete formula, the remaining details will be added shortly):\n",
    "\n",
    "    =SUM(\n",
    "\n",
    "Notice how Google Sheets tries to help you by giving information about the SUM function.\n",
    "\n",
    "Click and hold on cell B13, then drag down to cell B14 and then release the mouse button.\n",
    "\n",
    "A dotted rectangle should have been drawn that surrounds the range of cells B13:B14. The range will have been automatically entered into the formula bar. \n",
    "\n",
    "Type a closing bracket into the formula bar and the appropriate formula will have been constructed. \n",
    "\n",
    "Press Enter and the calculation will be performed and the result will be displayed in the selected cell."
   ]
  },
  {
   "cell_type": "markdown",
   "metadata": {},
   "source": [
    "### Exercise 1"
   ]
  },
  {
   "cell_type": "markdown",
   "metadata": {},
   "source": [
    "Replace the contents of cell B18 with an appropriate formula. Be careful: simply summing the range of cells B19 to B29 does not give the correct answer - can you see why? You can sum two non-contiguous cells such as B1 and B5 by writing B1+B5."
   ]
  },
  {
   "cell_type": "markdown",
   "metadata": {
    "solution": "hidden"
   },
   "source": [
    "### Solution\n",
    "Our solution is hidden; to reveal it click on the '+' symbol at the left-hand end of this cell."
   ]
  },
  {
   "cell_type": "markdown",
   "metadata": {
    "solution": "hidden"
   },
   "source": [
    "One correct formula is:\n",
    "\n",
    "    =B19+B22+SUM(B26:B29)\n",
    "\n",
    "because B19 is itself the sum of B20 and B21, and B22 is the sum of B23 to B25.\n",
    "\n",
    "This illustrates that you have to be very diligent when reading spreadsheets, as the tables may not be uniform in their contents. This table contains lists and sublists, values and formulas which are not immediately obvious from the nice layout on the screen.\n"
   ]
  },
  {
   "cell_type": "markdown",
   "metadata": {},
   "source": [
    "## Relative addressing"
   ]
  },
  {
   "cell_type": "markdown",
   "metadata": {},
   "source": [
    "*If you know that an address such as B7 represents a relative address, skip to the section headed 'Absolute addressing'.*"
   ]
  },
  {
   "cell_type": "markdown",
   "metadata": {},
   "source": [
    "Now move to Figure 2 (click on the tab at the bottom of the spreadsheet). It contains selected victim-based recorded crime offences in England and Wales. Once again the table contains numeric values. Suppose that you wanted to replace the static values in row 7 (percentages) by formulas that will calculate the percentages. For example, to calculate the percentage in cell B7, you could replace the value (37.350729…) by the formula:\n",
    "\n",
    "    =(B6-B5)*100/B5\n",
    "\n",
    "Try it."
   ]
  },
  {
   "cell_type": "markdown",
   "metadata": {},
   "source": [
    "Rather than type what is essentially the same formula for the remaining percentages, there is a simpler way. \n",
    "\n",
    "Click on cell B7; it should have a box around it with a small square at the bottom right-hand corner. When you hover the mouse cursor over the square it turns into a large '+' symbol. Drag the small square to the right, across all the cells containing the percentages, and release the mouse button. The same values as before should still be visible in cells C7 to I7. \n",
    "\n",
    "Now click on any of the cells from C7 to I7. You should see, in the formula bar a formula for calculating the percentage. The formula will have the same structure as the original in B7 but the locations (cell addresses) will have been amended to fit the appropriate percentage cell. For example, cell C7 will contain the formula:\n",
    "\n",
    "    =(C6-C5)*100/C5\n",
    "\n",
    "and cell D7 will contain:\n",
    "\n",
    "    =(D6-D5)*100/D5\n",
    "\n",
    "Copying a formula in this way is clearly a great benefit, saving considerable effort. The spreadsheet system has many such efficiency features.\n"
   ]
  },
  {
   "cell_type": "markdown",
   "metadata": {},
   "source": [
    "Suppose that you now want to alter the spreadsheet to contain an additional row that contains data for the year April ’12 to March ’13. This is easily achieved by inserting a new (empty) row 5 and moving all the current data from row 5 and below by one row downwards as follows. \n",
    "\n",
    "Click on the number 5 at the left-hand end of row 5. The whole of row 5 will be highlighted.\n",
    "\n",
    "From the Insert menu select ‘Row above’.\n",
    "\n",
    "If you now click on cell B8 (a percentage) you will find that it contains a revised formula which has been changed to match the fact that the original data is now in different rows:\n",
    "\n",
    "    =(B7-B6)*100/B6\n",
    "            \n",
    "The same change will have been performed on all the formulas in row 8. This is another example where the spreadsheet system has amended formulas to match an editing activity.\n",
    "\n",
    "What do you think will happen to the percentage formulas if a row is inserted between the current rows 6 and 7? Try it to confirm your understanding.\n",
    "\n",
    "This form of cell referencing is called **relative addressing**. The system does not store the actual address, but instead stores the number of columns and the number of rows relative to the cell containing the formula.\n"
   ]
  },
  {
   "cell_type": "markdown",
   "metadata": {},
   "source": [
    "### Absolute addressing"
   ]
  },
  {
   "cell_type": "markdown",
   "metadata": {},
   "source": [
    "*If you know that an address such as \\$B\\$7 represents an absolute address, skip to the section headed 'Formatting: the presentation of data'.*"
   ]
  },
  {
   "cell_type": "markdown",
   "metadata": {},
   "source": [
    "There is another form of cell referencing known as **absolute addressing**. There are times when you don’t want the system to automatically change the references when you copy formulas. Try the following experiment.\n",
    "\n",
    "If necessary, return Figure 2 to its original state by removing the row you inserted in the previous section (either press the 'undo' button or select row 5 and use 'Delete row 5' from the Edit menu).\n",
    "\n",
    "Enter the value 100 into cell A12. \n",
    "\n",
    "Next, change the formula in cell B7 to:\n",
    "\n",
    "    =(B6-B5)*A12/B5\n",
    "\n",
    "In the formula, the value 100 has been replaced by the value contained in cell A12 (also 100). Clearly, the same result should be observed in cell B7.\n",
    "\n",
    "Now copy this formula (by dragging) to cells C7 to I7. You should now see zeros instead of the correct percentages in cells C7 to I7. Why? Examine cell C7 to see what is wrong.\n",
    "\n",
    "The formula in cell C7 is:\n",
    "\n",
    "    =(C6-C5)*B12/C5\n",
    "\n",
    "The system has changed the relative address A12 into B12; not what is wanted. You need the reference to cell A12 to remain as it is in all the copied formulas.\n",
    "\n",
    "Next, edit the formula in cell B7 to become:\n",
    "\n",
    "    =(B6-B5)*$A$12/B5\n",
    "\n",
    "That is, the the relative address A12 has been replaced by the absolute address \\$A$12 (a dollar sign has been placed in front of the column letter and in front of the row number). \n",
    "\n",
    "Copy this formula to cells C7 to I7 (by dragging). The correct percentages should appear. \n",
    "\n",
    "Examine the formula in cell C7; you should see that the reference \\$A$12 has not changed whereas the remaining addresses have.\n"
   ]
  },
  {
   "cell_type": "markdown",
   "metadata": {},
   "source": [
    "### Formatting: the presentation of data"
   ]
  },
  {
   "cell_type": "markdown",
   "metadata": {},
   "source": [
    "*If you know how to change the format of a numeric value, skip to the next section headed 'Built-in statistical functions'.*"
   ]
  },
  {
   "cell_type": "markdown",
   "metadata": {},
   "source": [
    "Throughout this activity you may have noticed that when you clicked on a value such as the original percentage in cell B7 in Figure 2, the value displayed in the formula bar was a decimal (37.350729…) whereas the value shown in the cell was an integer (37). This is an illustration of another feature of spreadsheets: the ability to set the format of cells."
   ]
  },
  {
   "cell_type": "markdown",
   "metadata": {},
   "source": [
    "Click on cell B7. \n",
    "\n",
    "On the tool bar there is a button labelled with '.00' with an arrow pointing to the right. Click on this tool two or three times and observe the effect on cell B7. \n",
    "\n",
    "Perform a similar experiment with the tool labelled with '.0' with an arrow pointing to the left.\n",
    "\n",
    "This is a way of indicating how the actual value (as shown in the formula bar) should be displayed in the cell."
   ]
  },
  {
   "cell_type": "markdown",
   "metadata": {},
   "source": [
    "There are a variety of standard formats. Click on the Format menu and then select the menu item ‘Number’. There you will see that it is possible to apply a variety of formats (to a single cell or a range of cells) including percentage, scientific, financial, currency, date and time."
   ]
  },
  {
   "cell_type": "markdown",
   "metadata": {},
   "source": [
    "### Built-in statistical functions"
   ]
  },
  {
   "cell_type": "markdown",
   "metadata": {},
   "source": [
    "*If you know how to use built-in functions, skip to the next section headed 'Visualising data in a spreadsheet'.*"
   ]
  },
  {
   "cell_type": "markdown",
   "metadata": {},
   "source": [
    "All spreadsheets come with a variety of built-in statistical functions. It is very easy, for example, to calculate the mean and standard deviation of a set of values in a range of cells."
   ]
  },
  {
   "cell_type": "markdown",
   "metadata": {},
   "source": [
    "Move to Figure 4, 'Trends in police recorded robberies'. \n",
    "\n",
    "Click on cell P4 and type the heading 'Mean'.\n",
    "\n",
    "Click on cell Q4 and type the heading 'St. dev.'.\n",
    "\n",
    "In cell P5 enter the following formula:\n",
    "\n",
    "    =AVERAGE(B5:N5)\n",
    "            \n",
    "In cell Q5 enter the formula:\n",
    "\n",
    "    =STDEVA(B5:N5)\n",
    "\n",
    "You should now have the mean and standard deviation of the data in row 5.\n"
   ]
  },
  {
   "cell_type": "markdown",
   "metadata": {},
   "source": [
    "### Visualising data in a spreadsheet: creating simple graphs"
   ]
  },
  {
   "cell_type": "markdown",
   "metadata": {},
   "source": [
    "The final exercise that we want you to carry out illustrates how easy it is to create visualisations of data held in a spreadsheet. \n",
    "\n",
    "In this part of the activity you will create a simple graph of the data in Figure 4 that graphically illustrates the trend data.\n",
    "\n",
    "To create a graph, the data must first be recorded in columns (rather than the rows in Figure 4). There is a facility that will help get the data in the correct form.\n",
    "\n",
    "Start by selecting all the headings and data in cells B4 to N5 (click in cell B4 and drag to cell N5).  Type Crtl+C to take a copy the data.\n",
    "\n",
    "Click in cell B12. \n",
    "\n",
    "From the Edit menu select ‘Paste special’ and then ‘Paste transpose’. \n",
    "\n",
    "The data that you selected will now have been copied but the values will have been arranged vertically rather than horizontally.\n",
    "\n",
    "Select the whole of the copied data (if you have not clicked on the spreadsheet since pasting the data, the copied data will already be selected). \n",
    "\n",
    "From the Insert menu select ‘Chart...’. \n",
    "\n",
    "This will reveal the Chart Editor which will recommend a variety of chart types to choose from.\n",
    "\n",
    "Click on the trend line chart icon. \n",
    "\n",
    "You should be presented with a preview of the chart showing the selected data with appropriate axes. \n",
    "\n",
    "Click on the button ‘Insert’. \n",
    "\n",
    "This will create the chart which will remain associated with the sheet labelled *Figure 4*. You can drag the cursor along the line to reveal the data points and their values."
   ]
  },
  {
   "cell_type": "markdown",
   "metadata": {},
   "source": [
    "Google Sheets automatically saves your spreadsheet into MyDrive in Google Drive. To give the spreadsheet a meaningful name, click on the name box at the top left-hand corner of the spreadsheet where it says ‘Untitled spreadsheet’ and type a suitable name. There is no need to explicitly close the spreadsheet. In other spreadsheet systems you may have to go to the File menu to save the spreadsheet file with a suitable name, and then explicitly close the spreadsheet."
   ]
  },
  {
   "cell_type": "markdown",
   "metadata": {},
   "source": [
    "## Concluding remarks"
   ]
  },
  {
   "cell_type": "markdown",
   "metadata": {},
   "source": [
    "Finally, we would like to draw your attention to some general points about the data provided by ONS. \n",
    "\n",
    "As you will have observed, the spreadsheet provided by ONS contains values alone: no formulas are provided. To discover how summary data has been calculated you have to examine the notes provided by ONS.\n",
    "\n",
    "Each table has meaningful labels for its columns and rows. There are a variety of notes to accompany each table and figure to help you understand the data presented. Even then, with this information it is not always easy to understand precisely what the data represents: in Table 1, what is the difference, if any, between robbery and theft, for example?\n",
    "\n",
    "Fortunately, ONS provides a wealth of additional information on its website. If you move to the first sheet, labelled *Notes*, there is a link to a set of explanatory notes for the statistics in this spreadsheet. There you will find that a robbery is an incident or offence in which force or the threat of force is used either during or immediately prior to a theft or attempted theft.\n",
    "\n",
    "Clearly, you need to become expert in the categorisation of offences in order to fully appreciate the data you are viewing."
   ]
  },
  {
   "cell_type": "markdown",
   "metadata": {},
   "source": [
    "## Summary"
   ]
  },
  {
   "cell_type": "markdown",
   "metadata": {},
   "source": [
    "In this Notebook you have seen:\n",
    "\n",
    "1.\tHow to create a new, empty spreadsheet using Google Sheets.\n",
    "2.\tThat a spreadsheet consists of one or more sheets, each sheet typically holds one two-dimensional table. \n",
    "3.\tThat a table consists of cells each one of which is identified, or addressed, by the letter of its column and the number of its row. \n",
    "4.\tThat a cell can contain a value (either numeric or string) or a formula (a calculation).\n",
    "5.\tWhen clicked on, the value in a cell is displayed in the formula bar ready for editing.\n",
    "6.\tThat the value shown in a cell is either a view of the value shown using a specific format, or the result of carrying out the formula stored in the cell.\n",
    "7.\tHow to specify a range of cells by giving the addresses of the first and last cells in the range.\n",
    "8.\tThat an address given in terms of a specific column letter and row number is a relative address. Relative addresses are adjusted automatically as necessary whenever rows or columns are inserted or deleted. \n",
    "9.\tThat references to a specific cell or range of cells that must not be automatically adjusted use absolute addresses in which either a column letter and/or a row number is preceded by a dollar sign, e.g. `$B$2`.\n",
    "10.\tThat data can be formatted using one of a number of in-built formats.\n",
    "11.\tThat spreadsheet systems provide in-built functions for performing common calculations.\n",
    "12.\tThat it is possible to generate simple graphs using the Chart function, provided the data has been suitably arranged in a table to fit the requirements of the function.\n"
   ]
  },
  {
   "cell_type": "markdown",
   "metadata": {},
   "source": [
    "## What next?"
   ]
  },
  {
   "cell_type": "markdown",
   "metadata": {},
   "source": [
    "If you are working through this Notebook as part of an inline exercise, return to the module materials now.\n",
    "\n",
    "If you are working through this set of Notebooks as a whole, move on to `07.2 Problems in spreadsheet construction`."
   ]
  }
 ],
 "metadata": {
  "kernelspec": {
   "display_name": "Python 3",
   "language": "python",
   "name": "python3"
  },
  "language_info": {
   "codemirror_mode": {
    "name": "ipython",
    "version": 3
   },
   "file_extension": ".py",
   "mimetype": "text/x-python",
   "name": "python",
   "nbconvert_exporter": "python",
   "pygments_lexer": "ipython3",
   "version": "3.4.3"
  }
 },
 "nbformat": 4,
 "nbformat_minor": 0
}
