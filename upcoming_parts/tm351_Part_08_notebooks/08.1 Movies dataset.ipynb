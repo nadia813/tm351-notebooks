{
 "cells": [
  {
   "cell_type": "markdown",
   "metadata": {
    "run_control": {
     "read_only": false
    }
   },
   "source": [
    "# Movies dataset"
   ]
  },
  {
   "cell_type": "markdown",
   "metadata": {},
   "source": [
    "In this Notebook you will explore the contents of the Movies dataset using the tools you have used previously to \n",
    "manipulate `DataFrames`. \n",
    "You will be using this dataset, which contains data about movies, their actors and directors, and audience and \n",
    "critics' ratings, as a relational database in some of the practical activities in Parts 9-12.\n",
    "\n",
    "This dataset is derived from the [MovieLens + IMDb/Rotten Tomatoes](http://grouplens.org/datasets/hetrec-2011/) dataset \n",
    "made available at the *2nd International Workshop on Information Heterogeneity and Fusion in Recommender Systems* \n",
    "([HetRec 2011](http://ir.ii.uam.es/hetrec2011)) at the *5th ACM Conference on Recommender Systems* \n",
    "([RecSys 2011](http://recsys.acm.org/2011)). \n",
    "It is an extension of the [MovieLens 10M](http://grouplens.org/datasets/movielens/) \n",
    "dataset containing additional data from the \n",
    "[Internet Movie Database (IMDb)](http://www.imdb.com/) and the [RottenTomatoes (RT)](http://www.rottentomatoes.com/) \n",
    "movie review system.\n",
    "\n",
    "This dataset comprises the following five individual datasets:\n",
    "\n",
    "`movie (movie_id, title, year, rt_all_critics_rating, rt_top_critics_rating, rt_audience_rating, ml_user_rating)`\n",
    "\n",
    "Each row records the following data about a particular movie identified by the `movie_id` primary key (PK) column.\n",
    "\n",
    "column | description\n",
    "------ | -----------\n",
    "movie_id  (PK) | movie identifier\n",
    "title | movie title\n",
    "year | year of release\n",
    "rt_all_critics_rating | RottenTomatoes - all critics: average rating\n",
    "rt_top_critics_rating | RottenTomatoes - top critics: average rating\n",
    "rt_audience_rating | RottenTomatoes - audience: average rating\n",
    "ml_user_rating | MovieLens - users: average rating\n",
    "\n",
    "\n",
    "`movie_actor (movie_id, actor_name, ranking)`\n",
    "\n",
    "Each movie features one or more actors. Each row records a particular actor featuring in a particular movie \n",
    "identified by the `movie_id` and `actor_name` primary key columns.\n",
    "\n",
    "\n",
    "column | description\n",
    "------ | -----------\n",
    "movie_id  (PK) | movie identifier\n",
    "actor_name  (PK) | actor's name\n",
    "ranking | position of actor on the movie's cast list\n",
    "\n",
    "`movie_country (movie_id, country)`\n",
    "\n",
    "Each movie has one country of origin. Each row records the country of origin of a particular movie \n",
    "identified by the `movie_id` primary key column.\n",
    "\n",
    "column | description\n",
    "------ | -----------\n",
    "movie_id  (PK) | movie identifier\n",
    "country | country of origin\n",
    "\n",
    "`movie_director (movie_id, director_name)`\n",
    "\n",
    "Each movie has one director. Each row records the director of a particular movie \n",
    "identified by the `movie_id` primary key column.\n",
    "\n",
    "\n",
    "column | description\n",
    "------ | -----------\n",
    "movie_id  (PK) | movie identifier\n",
    "director_name | director's name\n",
    "\n",
    "`movie_genre (movie_id, genre)`\n",
    "\n",
    "Each movie is categorised as belonging to one or more movie genres. Each row records a particular genre that \n",
    "categorises a particular movie identified by the `movie_id` and `genre` primary key columns.\n",
    "\n",
    "\n",
    "column | description\n",
    "------ | -----------\n",
    "movie_id  (PK) | movie identifier\n",
    "genre  (PK) | movie genre\n",
    "\n"
   ]
  },
  {
   "cell_type": "markdown",
   "metadata": {},
   "source": [
    "#### Create a separate DataFrame from each individual Movies dataset"
   ]
  },
  {
   "cell_type": "code",
   "execution_count": null,
   "metadata": {
    "collapsed": true,
    "run_control": {
     "read_only": false
    }
   },
   "outputs": [],
   "source": [
    "import pandas as pd"
   ]
  },
  {
   "cell_type": "markdown",
   "metadata": {},
   "source": [
    "`movie (movie_id, title, year, rt_all_critics_rating, rt_top_critics_rating, rt_audience_rating, ml_user_rating)`"
   ]
  },
  {
   "cell_type": "code",
   "execution_count": null,
   "metadata": {
    "collapsed": true,
    "run_control": {
     "read_only": false
    }
   },
   "outputs": [],
   "source": [
    "# Create the DataFrame 'movie' from the CSV data file 'movie.csv'.\n",
    "movie = pd.read_csv('data/movie.csv')\n",
    "# Display data about the movie with the movie identifier of '1'.\n",
    "movie[movie.movie_id==1]"
   ]
  },
  {
   "cell_type": "markdown",
   "metadata": {},
   "source": [
    "`movie_actor (movie_id, actor_name, ranking)`"
   ]
  },
  {
   "cell_type": "code",
   "execution_count": null,
   "metadata": {
    "collapsed": true,
    "run_control": {
     "read_only": false
    }
   },
   "outputs": [],
   "source": [
    "# Create the DataFrame 'movie_actor' from the CSV data file 'movie_actor.csv'.\n",
    "movie_actor = pd.read_csv('data/movie_actor.csv')\n",
    "# Display the actors featuring in the movie with the movie identifier of '1' in the order as given on the cast list.\n",
    "movie_actor[movie_actor.movie_id==1].sort_values(by=['ranking'])"
   ]
  },
  {
   "cell_type": "markdown",
   "metadata": {},
   "source": [
    "`movie_country (movie_id, country)`"
   ]
  },
  {
   "cell_type": "code",
   "execution_count": null,
   "metadata": {
    "collapsed": true,
    "run_control": {
     "read_only": false
    }
   },
   "outputs": [],
   "source": [
    "# Create the DataFrame 'movie_country' from the CSV data file 'movie_country.csv'.\n",
    "movie_country = pd.read_csv('data/movie_country.csv')\n",
    "# Display the country of origin of the movie with the movie identifier of '1'.\n",
    "movie_country[movie_country.movie_id==1]"
   ]
  },
  {
   "cell_type": "markdown",
   "metadata": {},
   "source": [
    "`movie_director (movie_id, director_name)`"
   ]
  },
  {
   "cell_type": "code",
   "execution_count": null,
   "metadata": {
    "collapsed": true,
    "run_control": {
     "read_only": false
    }
   },
   "outputs": [],
   "source": [
    "# Create the DataFrame 'movie_director' from the CSV data file 'movie_director.csv'.\n",
    "movie_director = pd.read_csv('data/movie_director.csv')\n",
    "# Display the director of the movie with the movie identifier of '1'.\n",
    "movie_director[movie_director.movie_id==1]"
   ]
  },
  {
   "cell_type": "markdown",
   "metadata": {},
   "source": [
    "`movie_genre (movie_id, genre)`"
   ]
  },
  {
   "cell_type": "code",
   "execution_count": null,
   "metadata": {
    "collapsed": true,
    "run_control": {
     "read_only": false
    }
   },
   "outputs": [],
   "source": [
    "# Create the DataFrame 'movie_genre' from the CSV data file 'movie_genre.csv'.\n",
    "movie_genre = pd.read_csv('data/movie_genre.csv')\n",
    "# Display the genres of the movie with the movie identifier of '1'.\n",
    "movie_genre[movie_genre.movie_id==1]"
   ]
  },
  {
   "cell_type": "markdown",
   "metadata": {
    "activity": "activity"
   },
   "source": [
    "## Activity\n",
    "Using the tools that you have used previously to manipulate `DataFrames`, characterise the Movies dataset by answering the following questions about the data recorded in the dataset:\n",
    "\n",
    "    1 How many movies, actors, directors and countries are there?\n",
    "    2 How many unique movie titles are there?\n",
    "    3 What are the earliest and latest years of release?\n",
    "    4 What are the ranges of values for critics, audience and user ratings?\n",
    "    5 How many movies are classified under each genre? \n",
    "    6 Missing data - How many movies are recorded without:\n",
    "        6.1 a title?\n",
    "        6.2 a year of release?\n",
    "        6.3 critics, audience or user ratings?\n",
    "        6.4 any actors?\n",
    "        6.5 a director?\n",
    "        6.6 a country of origin?\n",
    "        6.7 any genres?\n",
    "        "
   ]
  },
  {
   "cell_type": "code",
   "execution_count": null,
   "metadata": {
    "activity": "activity",
    "collapsed": true,
    "run_control": {
     "read_only": false
    }
   },
   "outputs": [],
   "source": [
    "# Try your code here"
   ]
  },
  {
   "cell_type": "markdown",
   "metadata": {
    "activity": "activity"
   },
   "source": [
    "Solutions can be found in the `08.1.soln Movies dataset` Notebook, but please DO attempt the activity yourself before looking at these solutions."
   ]
  },
  {
   "cell_type": "markdown",
   "metadata": {},
   "source": [
    "## Summary\n",
    "In this Notebook you have explored the Movies dataset in order to familiarise yourself with the data that you will\n",
    "using as a relational database in some of the practical activities in Parts 9-12. In particular, the presence of \n",
    "missing data, which you may need to accommodate when writing SQL queries against the data."
   ]
  },
  {
   "cell_type": "markdown",
   "metadata": {
    "collapsed": true,
    "run_control": {
     "read_only": false
    }
   },
   "source": [
    "## What next?\n",
    "If you are working through this Notebook as part of an inline exercise, return to the module materials now.\n",
    "\n",
    "If you are working through this set of Notebooks as a whole, move on to `Part 9` Notebooks."
   ]
  }
 ],
 "metadata": {
  "kernelspec": {
   "display_name": "Python 3",
   "language": "python",
   "name": "python3"
  },
  "language_info": {
   "codemirror_mode": {
    "name": "ipython",
    "version": 3
   },
   "file_extension": ".py",
   "mimetype": "text/x-python",
   "name": "python",
   "nbconvert_exporter": "python",
   "pygments_lexer": "ipython3",
   "version": "3.4.3"
  }
 },
 "nbformat": 4,
 "nbformat_minor": 0
}
