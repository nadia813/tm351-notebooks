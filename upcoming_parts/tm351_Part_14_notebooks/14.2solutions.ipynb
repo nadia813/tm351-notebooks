{
 "cells": [
  {
   "cell_type": "code",
   "execution_count": null,
   "metadata": {
    "collapsed": true,
    "run_control": {
     "read_only": false
    }
   },
   "outputs": [],
   "source": [
    "# Import the required libraries\n",
    "\n",
    "import pymongo\n",
    "import datetime\n",
    "import collections\n",
    "\n",
    "import pandas as pd\n",
    "import scipy.stats"
   ]
  },
  {
   "cell_type": "code",
   "execution_count": null,
   "metadata": {
    "collapsed": true,
    "run_control": {
     "read_only": false
    }
   },
   "outputs": [],
   "source": [
    "# Open a connection to the Mongo server, open the accidents database and name the collections of accidents and labels\n",
    "client = pymongo.MongoClient('mongodb://localhost:27351/')\n",
    "\n",
    "db = client.accidents\n",
    "accidents = db.accidents\n",
    "labels = db.labels"
   ]
  },
  {
   "cell_type": "code",
   "execution_count": null,
   "metadata": {
    "collapsed": true,
    "run_control": {
     "read_only": false
    }
   },
   "outputs": [],
   "source": [
    "# Load the expanded names of keys and human-readable codes into memory\n",
    "# Don't bother reading this cell yet: we'll use it in a bit.\n",
    "\n",
    "expanded_name = collections.defaultdict(str)\n",
    "for e in labels.find({'expanded': {\"$exists\": True}}):\n",
    "    expanded_name[e['label']] = e['expanded']\n",
    "    \n",
    "label_of = collections.defaultdict(str)\n",
    "for l in labels.find({'codes': {\"$exists\": True}}):\n",
    "    for c in l['codes']:\n",
    "        try:\n",
    "            label_of[l['label'], int(c)] = l['codes'][c]\n",
    "        except ValueError: \n",
    "            label_of[l['label'], c] = l['codes'][c]"
   ]
  },
  {
   "cell_type": "markdown",
   "metadata": {},
   "source": [
    "## Activity 1\n",
    "How many accidents were there at less than 30mph?\n",
    "\n",
    "Create a DataFrame that holds the accident index, number of vehicles, and number of casualties for each accident, where the speed limit is less than 30mph."
   ]
  },
  {
   "cell_type": "code",
   "execution_count": null,
   "metadata": {
    "collapsed": false,
    "run_control": {
     "read_only": false
    }
   },
   "outputs": [],
   "source": [
    "accidents.find({'Speed_limit': {'$lt': 30}}).count()"
   ]
  },
  {
   "cell_type": "code",
   "execution_count": null,
   "metadata": {
    "collapsed": false,
    "run_control": {
     "read_only": false
    },
    "scrolled": true
   },
   "outputs": [],
   "source": [
    "pd.DataFrame(list(accidents.find({'Speed_limit': {'$lt': 30}}, \n",
    "                                 ['Accident_Index', 'Number_of_Vehicles', 'Number_of_Casualties'])))"
   ]
  },
  {
   "cell_type": "markdown",
   "metadata": {},
   "source": [
    "### Activity 2\n",
    "Find and display the document in the `labels` collection that stores details of weather conditions. \n",
    "\n",
    "Use the `label_of` dict to find all the labels for `Weather_Conditions`.\n",
    "\n",
    "Use the `label_of` dict in a list comprehension to find all the labels for `Weather_Conditions` that refer to wind. Note that you can include more than one `if` clause in a list comprehension: just put them one after the other, like this:\n",
    "\n",
    "```\n",
    "[item for item in thing if condition1 if condition2]\n",
    "```\n",
    "    \n",
    "It will only return items where both conditions are true."
   ]
  },
  {
   "cell_type": "code",
   "execution_count": null,
   "metadata": {
    "collapsed": false,
    "run_control": {
     "read_only": false
    }
   },
   "outputs": [],
   "source": [
    "labels.find_one({'label': 'Weather_Conditions'})"
   ]
  },
  {
   "cell_type": "code",
   "execution_count": null,
   "metadata": {
    "collapsed": false,
    "run_control": {
     "read_only": false
    }
   },
   "outputs": [],
   "source": [
    "[label_of[key, code] for (key, code) in label_of if key == 'Weather_Conditions']"
   ]
  },
  {
   "cell_type": "code",
   "execution_count": null,
   "metadata": {
    "collapsed": false,
    "run_control": {
     "read_only": false
    }
   },
   "outputs": [],
   "source": [
    "[label_of[key, code] for (key, code) in label_of \n",
    " if key == 'Weather_Conditions' \n",
    " if 'wind' in label_of[key, code]]"
   ]
  },
  {
   "cell_type": "markdown",
   "metadata": {},
   "source": [
    "### Activity 3\n",
    "The earlier query is below, but it prints the results rather than putting them in a DataFrame.\n",
    "\n",
    "Repeat this query, but print the labels of the accident severity, road type, and weather conditions (e.g. \n",
    "```\n",
    "201201BS70001 Slight Single carriageway Fine no high winds\n",
    "```\n",
    ")"
   ]
  },
  {
   "cell_type": "code",
   "execution_count": null,
   "metadata": {
    "collapsed": false,
    "run_control": {
     "read_only": false
    }
   },
   "outputs": [],
   "source": [
    "for a in accidents.find({'Speed_limit': 30, 'Number_of_Casualties': 1, 'Number_of_Vehicles': 2}, limit=10):\n",
    "    print(a['Accident_Index'],  \n",
    "          label_of['Accident_Severity', a['Accident_Severity']],\n",
    "          label_of['Road_Type', a['Road_Type']], \n",
    "          label_of['Weather_Conditions', a['Weather_Conditions']])"
   ]
  },
  {
   "cell_type": "markdown",
   "metadata": {},
   "source": [
    "### Activity 4\n",
    "What are the numbers of accidents at each severity in 60mph zones? Show your results as a bar chart."
   ]
  },
  {
   "cell_type": "code",
   "execution_count": null,
   "metadata": {
    "collapsed": false,
    "run_control": {
     "read_only": false
    }
   },
   "outputs": [],
   "source": [
    "# Build a DataFrame, one row for each accident\n",
    "severities_60_unrolled_df = pd.DataFrame(list(accidents.find({'Speed_limit': 60}, ['Accident_Severity'])))\n",
    "\n",
    "# Count the number of each severity\n",
    "severities_60_ss = severities_60_unrolled_df['Accident_Severity'].value_counts()\n",
    "severities_60_ss.sort_index(inplace=True)\n",
    "severities_60_ss.index = [label_of['Accident_Severity', r] for r in severities_60_ss.index]\n",
    "severities_60_ss.plot(kind='bar')"
   ]
  },
  {
   "cell_type": "markdown",
   "metadata": {},
   "source": [
    "### Activity 5\n",
    "What are the proportions of accident severities by junction type (roundabout, crossroads, etc)?\n",
    "\n",
    "This is a more in-depth activity than before, so I've broken it down into steps.\n",
    "\n",
    "* What are the different types of junction? You'll need to look at the `label_of` dict to find the right key\n",
    "* What different severities happen at each junction type?"
   ]
  },
  {
   "cell_type": "code",
   "execution_count": null,
   "metadata": {
    "collapsed": false,
    "run_control": {
     "read_only": false
    }
   },
   "outputs": [],
   "source": [
    "# Find labels that refer to junctions\n",
    "set(key for key, _ in label_of if 'Junction' in key)"
   ]
  },
  {
   "cell_type": "code",
   "execution_count": null,
   "metadata": {
    "collapsed": false,
    "run_control": {
     "read_only": false
    }
   },
   "outputs": [],
   "source": [
    "# All the junction-related labels.\n",
    "list(sorted((key, label_of[key, code]) for key, code in label_of if 'Junction' in key))"
   ]
  },
  {
   "cell_type": "markdown",
   "metadata": {},
   "source": [
    "\"Junction_Detail\" is the information we want.\n",
    "\n",
    "We can now build a Counter that summarises the counts at each junction detail/severity combination."
   ]
  },
  {
   "cell_type": "code",
   "execution_count": null,
   "metadata": {
    "collapsed": false,
    "run_control": {
     "read_only": false
    }
   },
   "outputs": [],
   "source": [
    "# Build a DataFrame, one row for each accident\n",
    "severity_by_junction_unrolled_df = pd.DataFrame(list(accidents.find({}, ['Junction_Detail', 'Accident_Severity'])))\n",
    "\n",
    "# Count the number of each severity\n",
    "severity_by_junction_df = pd.crosstab(severity_by_junction_unrolled_df['Junction_Detail'], \n",
    "                                      severity_by_junction_unrolled_df['Accident_Severity'])\n",
    "severity_by_junction_df"
   ]
  },
  {
   "cell_type": "code",
   "execution_count": null,
   "metadata": {
    "collapsed": false,
    "run_control": {
     "read_only": false
    }
   },
   "outputs": [],
   "source": [
    "# Relabel the index to the junction types\n",
    "severity_by_junction_df.index = [label_of['Junction_Detail', code] for code in severity_by_junction_df.index]\n",
    "severity_by_junction_df.index.name = 'Junction type'\n",
    "\n",
    "# Relabel the columns\n",
    "severity_by_junction_df.columns = [label_of['Accident_Severity', s] for s in severity_by_junction_df.columns]\n",
    "severity_by_junction_df.columns.name = 'Accident severity'\n",
    "severity_by_junction_df"
   ]
  },
  {
   "cell_type": "code",
   "execution_count": null,
   "metadata": {
    "collapsed": false,
    "run_control": {
     "read_only": false
    }
   },
   "outputs": [],
   "source": [
    "severity_by_junction_df.plot(kind='bar')"
   ]
  },
  {
   "cell_type": "markdown",
   "metadata": {},
   "source": [
    "Again, it's difficult to judge if the proportions of accident severities are different for different junction types. We'll look at this later."
   ]
  },
  {
   "cell_type": "markdown",
   "metadata": {},
   "source": [
    "### Activity 6\n",
    "We can also ask if different age people respond to injuries differently. In other words, are old people more frail and so therefore more likely to be seriously or fatally injured?\n",
    "\n",
    "Following the examples above, let's build a DataFrame that counts the number of casualties for each age band / severity combination, and use the human-readable labels for the data rather than the codes.\n",
    "\n",
    "You should end up with a `DataFrame` called `severity_by_age_df` that looks like this:\n",
    "\n",
    "\n",
    "Severity | Fatal | Serious | Slight\n",
    "-|-|-|-\n",
    "Unknown | 0 | 0 | 8\n",
    "0 - 5 | 0 | 3 | 20\n",
    "6 - 10 | 0 | 1 | 28\n",
    "11 - 15 | 0 | 3 | 34\n",
    "16 - 20 | 1 | 11 | 115\n",
    "21 - 25 | 1 | 16 | 133\n",
    "26 - 35 | 2 | 15 | 219\n",
    "36 - 45 | 3 | 12 | 168\n",
    "46 - 55 | 0 | 10 | 125\n",
    "56 - 65 | 1 | 7 | 63\n",
    "66 - 75 | 0 | 9 | 28\n",
    "Over 75 | 2 | 2 | 20"
   ]
  },
  {
   "cell_type": "code",
   "execution_count": null,
   "metadata": {
    "collapsed": false,
    "run_control": {
     "read_only": false
    }
   },
   "outputs": [],
   "source": [
    "# Build a DataFrame, one row for each accident\n",
    "severity_by_age_unrolled_df = pd.DataFrame({'Age_Band_of_Casualty': c['Age_Band_of_Casualty'],\n",
    "  'Casualty_Severity': c['Casualty_Severity']}\n",
    "  for a in accidents.find({'Local_Authority_(Highway)': 'E06000042'})\n",
    " for c in a['Casualties'])\n",
    "\n",
    "# Count the number of each severity\n",
    "severity_by_age_df = pd.crosstab(severity_by_age_unrolled_df['Age_Band_of_Casualty'], \n",
    "                                      severity_by_age_unrolled_df['Casualty_Severity'])\n",
    "severity_by_age_df"
   ]
  },
  {
   "cell_type": "code",
   "execution_count": null,
   "metadata": {
    "collapsed": false,
    "run_control": {
     "read_only": false
    }
   },
   "outputs": [],
   "source": [
    "# Relabel the index to the age bands\n",
    "severity_by_age_df.index = [label_of['Age_Band_of_Casualty', code] for code in severity_by_age_df.index]\n",
    "severity_by_age_df.index = ['Unknown'] + list(severity_by_age_df.index[1:])\n",
    "severity_by_age_df.index.name = 'Age band'\n",
    "\n",
    "# Relabel the columns\n",
    "severity_by_age_df.columns = [label_of['Casualty_Severity', s] for s in severity_by_age_df.columns]\n",
    "severity_by_age_df.columns.name = 'Casualty severity'\n",
    "severity_by_age_df"
   ]
  },
  {
   "cell_type": "markdown",
   "metadata": {},
   "source": [
    "### Activity 7\n",
    "\n",
    "How does the number of vehicles in an accident vary with the speed limit?\n",
    "\n",
    "Find the results, find the line of best fit, then plot the data and line of best fit on a scatter graph."
   ]
  },
  {
   "cell_type": "code",
   "execution_count": null,
   "metadata": {
    "collapsed": false,
    "run_control": {
     "read_only": false
    }
   },
   "outputs": [],
   "source": [
    "# Build a DataFrame, one row for each accident\n",
    "speed_veh_unrolled_df = pd.DataFrame(list(accidents.find({}, ['Speed_limit', 'Number_of_Vehicles'])))\n",
    "\n",
    "# Count the number of each severity\n",
    "speed_veh_df = pd.crosstab(speed_veh_unrolled_df['Speed_limit'], \n",
    "                                      speed_veh_unrolled_df['Number_of_Vehicles'])\n",
    "speed_veh_df"
   ]
  },
  {
   "cell_type": "code",
   "execution_count": null,
   "metadata": {
    "collapsed": false,
    "run_control": {
     "read_only": false
    },
    "scrolled": true
   },
   "outputs": [],
   "source": [
    "speed_veh_long_df = speed_veh_df.stack().reset_index()\n",
    "speed_veh_long_df"
   ]
  },
  {
   "cell_type": "code",
   "execution_count": null,
   "metadata": {
    "collapsed": false,
    "run_control": {
     "read_only": false
    }
   },
   "outputs": [],
   "source": [
    "regressionline = scipy.stats.linregress(speed_veh_unrolled_df['Speed_limit'],\n",
    "                                       speed_veh_unrolled_df['Number_of_Vehicles'])\n",
    "# The regression line is of the form y = m x + b\n",
    "m = regressionline[0]\n",
    "b = regressionline[1]\n",
    "(m, b)"
   ]
  },
  {
   "cell_type": "code",
   "execution_count": null,
   "metadata": {
    "collapsed": false,
    "run_control": {
     "read_only": false
    }
   },
   "outputs": [],
   "source": [
    "plt.scatter(speed_veh_long_df['Speed_limit'], \n",
    "            speed_veh_long_df['Number_of_Vehicles'],\n",
    "            s=np.sqrt(speed_veh_long_df[0])*1.5,\n",
    "            alpha=0.5\n",
    "            )\n",
    "plt.xlabel('Speed limit')\n",
    "plt.ylabel('Number of vehicles')\n",
    "\n",
    "x = np.linspace(10, 70, 20)\n",
    "plt.plot(x, m*x + b)\n",
    "\n",
    "plt.show()"
   ]
  },
  {
   "cell_type": "code",
   "execution_count": null,
   "metadata": {
    "collapsed": false,
    "run_control": {
     "read_only": false
    }
   },
   "outputs": [],
   "source": [
    "small_svcl_df = speed_veh_long_df[(speed_veh_long_df['Speed_limit'] >= 30) & \n",
    "                                  (speed_veh_long_df['Number_of_Vehicles'] <= 20)]\n",
    "\n",
    "plt.scatter(small_svcl_df['Speed_limit'], \n",
    "            small_svcl_df['Number_of_Vehicles'],\n",
    "            s=np.sqrt(small_svcl_df[0])*3,\n",
    "            alpha=0.5\n",
    "            )\n",
    "plt.xlabel('Speed limit')\n",
    "plt.ylabel('Number of vehicles')\n",
    "\n",
    "x = np.linspace(30, 70, 20)\n",
    "plt.plot(x, m*x + b)\n",
    "\n",
    "plt.show()"
   ]
  },
  {
   "cell_type": "markdown",
   "metadata": {},
   "source": [
    "The flat regression line indicates that there's no real correlation between speed limit and number of vehicles involved in an accident."
   ]
  }
 ],
 "metadata": {
  "kernelspec": {
   "display_name": "Python 3",
   "language": "python",
   "name": "python3"
  },
  "language_info": {
   "codemirror_mode": {
    "name": "ipython",
    "version": 3
   },
   "file_extension": ".py",
   "mimetype": "text/x-python",
   "name": "python",
   "nbconvert_exporter": "python",
   "pygments_lexer": "ipython3",
   "version": "3.4.3"
  }
 },
 "nbformat": 4,
 "nbformat_minor": 0
}
