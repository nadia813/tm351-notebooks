{
 "cells": [
  {
   "cell_type": "markdown",
   "metadata": {
    "run_control": {
     "read_only": false
    }
   },
   "source": [
    "# Activity 1"
   ]
  },
  {
   "cell_type": "markdown",
   "metadata": {},
   "source": [
    "A simple example which would generate the classifications for the new points at different values of *k* is given here:"
   ]
  },
  {
   "cell_type": "code",
   "execution_count": null,
   "metadata": {
    "collapsed": true
   },
   "outputs": [],
   "source": [
    "output_df = testData_df.copy()\n",
    "\n",
    "for k in range(2, 6):\n",
    "    classifier_kNN = KNeighborsClassifier(n_neighbors=k, metric='euclidean')\n",
    "    classifier_kNN.fit(trainingData_df, targetValues_ss)\n",
    "    \n",
    "    output_df['Patient group (k={})'.format(k)] = classifier_kNN.predict(testData_df)\n",
    "\n",
    "output_df"
   ]
  },
  {
   "cell_type": "markdown",
   "metadata": {
    "collapsed": true,
    "run_control": {
     "read_only": false
    }
   },
   "source": [
    "The test data points at (2.5, 6.5) and (2.8, 7.0) are both sensitive to the size of *k*. This could suggest that they are borderline cases. In a real task, the data analyst might want to single out these points for special consideration."
   ]
  },
  {
   "cell_type": "markdown",
   "metadata": {
    "run_control": {
     "read_only": false
    }
   },
   "source": [
    "# Activity 2"
   ]
  },
  {
   "cell_type": "markdown",
   "metadata": {
    "collapsed": true,
    "run_control": {
     "read_only": false
    }
   },
   "source": [
    "For the weighted classifier, the data points are all given the same classification for values of *k*. A weighted classification strategy can be more robust than the uniform strategy, but may be less informative about the borderline cases.\n",
    "\n",
    "A code snippet to generate the figures for the test set is:"
   ]
  },
  {
   "cell_type": "code",
   "execution_count": null,
   "metadata": {
    "collapsed": true,
    "run_control": {
     "read_only": false
    }
   },
   "outputs": [],
   "source": [
    "output_df = testData_df.copy()\n",
    "\n",
    "for k in range(2, 9):\n",
    "    classifier_kNN = KNeighborsClassifier(n_neighbors=k, metric='euclidean', weights='distance')\n",
    "    classifier_kNN.fit(trainingData_df, targetValues_ss)\n",
    "    \n",
    "    output_df['Patient group (k={})'.format(k)] = classifier_kNN.predict(testData_df)\n",
    "\n",
    "output_df"
   ]
  }
 ],
 "metadata": {
  "kernelspec": {
   "display_name": "Python 3",
   "language": "python",
   "name": "python3"
  },
  "language_info": {
   "codemirror_mode": {
    "name": "ipython",
    "version": 3
   },
   "file_extension": ".py",
   "mimetype": "text/x-python",
   "name": "python",
   "nbconvert_exporter": "python",
   "pygments_lexer": "ipython3",
   "version": "3.4.3"
  }
 },
 "nbformat": 4,
 "nbformat_minor": 0
}
