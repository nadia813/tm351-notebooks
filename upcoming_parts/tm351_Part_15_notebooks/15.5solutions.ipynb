{
 "cells": [
  {
   "cell_type": "code",
   "execution_count": null,
   "metadata": {
    "collapsed": true,
    "run_control": {
     "read_only": false
    }
   },
   "outputs": [],
   "source": [
    "# Import the required libraries and open the connection to Mongo\n",
    "\n",
    "import collections\n",
    "import datetime\n",
    "import matplotlib as mpl\n",
    "\n",
    "import pandas as pd\n",
    "import scipy.stats\n",
    "\n",
    "import folium\n",
    "\n",
    "import pymongo"
   ]
  },
  {
   "cell_type": "code",
   "execution_count": null,
   "metadata": {
    "collapsed": true,
    "run_control": {
     "read_only": false
    }
   },
   "outputs": [],
   "source": [
    "# Open a connection to the Mongo server, open the accidents database and name the collections of accidents and labels\n",
    "client = pymongo.MongoClient('mongodb://localhost:27351/')\n",
    "\n",
    "db = client.accidents\n",
    "accidents = db.accidents\n",
    "labels = db.labels\n",
    "roads = db.roads"
   ]
  },
  {
   "cell_type": "code",
   "execution_count": null,
   "metadata": {
    "collapsed": true,
    "run_control": {
     "read_only": false
    }
   },
   "outputs": [],
   "source": [
    "# Load the expanded names of keys and human-readable codes into memory\n",
    "expanded_name = collections.defaultdict(str)\n",
    "for e in labels.find({'expanded': {\"$exists\": True}}):\n",
    "    expanded_name[e['label']] = e['expanded']\n",
    "    \n",
    "label_of = collections.defaultdict(str)\n",
    "for l in labels.find({'codes': {\"$exists\": True}}):\n",
    "    for c in l['codes']:\n",
    "        try:\n",
    "            label_of[l['label'], int(c)] = l['codes'][c]\n",
    "        except ValueError: \n",
    "            label_of[l['label'], c] = l['codes'][c]"
   ]
  },
  {
   "cell_type": "code",
   "execution_count": null,
   "metadata": {
    "collapsed": true,
    "run_control": {
     "read_only": false
    }
   },
   "outputs": [],
   "source": [
    "def add_accidents_markers(the_map, query, number_of_sides=5, fill_color='#769d96', limit=0,\n",
    "                     radius=5, rotation=54):\n",
    "    for a in accidents.find(query, \n",
    "                            ['loc.coordinates'],\n",
    "                            limit=limit):\n",
    "        folium.RegularPolygonMarker(location=[a['loc']['coordinates'][1], a['loc']['coordinates'][0]], \n",
    "                     number_of_sides=number_of_sides, radius=radius, rotation=rotation,\n",
    "                                   fill_color=fill_color).add_to(the_map)  "
   ]
  },
  {
   "cell_type": "code",
   "execution_count": null,
   "metadata": {
    "collapsed": true,
    "run_control": {
     "read_only": false
    }
   },
   "outputs": [],
   "source": [
    "def add_roads_markers(the_map, query, number_of_sides=5, fill_color='#769d96', limit=0,\n",
    "                     radius=5, rotation=54):\n",
    "    for r in roads.find(query, \n",
    "                        ['loc.coordinates'],\n",
    "                       limit=limit):\n",
    "        folium.RegularPolygonMarker(location=[r['loc']['coordinates'][1], r['loc']['coordinates'][0]], \n",
    "                     number_of_sides=number_of_sides, radius=radius, rotation=rotation,\n",
    "                                   fill_color=fill_color).add_to(the_map)   "
   ]
  },
  {
   "cell_type": "markdown",
   "metadata": {
    "run_control": {
     "read_only": false
    }
   },
   "source": [
    "# Activity 1"
   ]
  },
  {
   "cell_type": "code",
   "execution_count": null,
   "metadata": {
    "collapsed": false,
    "run_control": {
     "read_only": false
    },
    "scrolled": true
   },
   "outputs": [],
   "source": [
    "pipeline = [{'$group': {'_id': '$RCat',\n",
    "                        'FdAll_MV': {'$sum': '$FdAll_MV'}, \n",
    "                        'LenNet': {'$sum': '$LenNet'}, \n",
    "                        'nearby_accident_count': {'$sum': '$nearby_accident_count'}}},\n",
    "            {'$project': {'accidents_per_km': {'$divide': ['$nearby_accident_count', '$LenNet']},\n",
    "                          'accidents_per_vehicle_km': {'$divide': \n",
    "                                                       ['$nearby_accident_count', \n",
    "                                                        {'$multiply': ['$LenNet', '$FdAll_MV']}]}}}]\n",
    "\n",
    "results = list(roads.aggregate(pipeline))\n",
    "results_df = pd.DataFrame(results)\n",
    "results_df.set_index('_id', inplace=True)\n",
    "results_df"
   ]
  },
  {
   "cell_type": "markdown",
   "metadata": {},
   "source": [
    "# Activity 2"
   ]
  },
  {
   "cell_type": "code",
   "execution_count": null,
   "metadata": {
    "collapsed": false,
    "run_control": {
     "read_only": false
    }
   },
   "outputs": [],
   "source": [
    "import math\n",
    "\n",
    "# Plot all the road segments within 50km of Milton Keynes\n",
    "\n",
    "m = folium.Map([52.0395099, -0.7601851], zoom_start=9)\n",
    "\n",
    "query = {'loc': \n",
    "          {'$nearSphere':\n",
    "           {'$geometry': \n",
    "            {'type': 'Point', \n",
    "             'coordinates': [-0.7601851, 52.0395099]},\n",
    "            '$maxDistance': 50000}},\n",
    "         'LenNet': {'$exists': True},\n",
    "         'nearby_accident_count': {'$gt': 0}}\n",
    "\n",
    "for r in roads.find(query):\n",
    "    folium.RegularPolygonMarker(location=[r['loc']['coordinates'][1], r['loc']['coordinates'][0]], \n",
    "                     number_of_sides=9, fill_color='#ff0000',\n",
    "                    radius=(math.log10(r['nearby_accident_count'] / (r['LenNet'] * r['FdAll_MV'])) + 6) * 3).add_to(m)  \n",
    "m"
   ]
  },
  {
   "cell_type": "markdown",
   "metadata": {},
   "source": [
    "# Activity 3"
   ]
  },
  {
   "cell_type": "markdown",
   "metadata": {},
   "source": [
    "This question is deliberately vague. What is meant by \"most dangerous\"? It could be the segment with the most accidents, the most accidents per km, or the most accidents per vehicle-km."
   ]
  },
  {
   "cell_type": "code",
   "execution_count": null,
   "metadata": {
    "collapsed": false,
    "run_control": {
     "read_only": false
    }
   },
   "outputs": [],
   "source": [
    "# Most accidents\n",
    "pipeline = [{'$geoNear': {'near': {'type': 'Point', 'coordinates': [-0.7601851, 52.0395099]},\n",
    "                          'spherical': True,\n",
    "                          'maxDistance': 10000,\n",
    "                          'distanceField': 'distance'}},\n",
    "           {'$project': {'CP': '$CP', \n",
    "                         'Road': '$Road',\n",
    "                         'nearby_accident_count': '$nearby_accident_count'}},\n",
    "           {'$sort': {'nearby_accident_count': -1}},\n",
    "           {'$limit': 1}]\n",
    "results = list(roads.aggregate(pipeline))\n",
    "results"
   ]
  },
  {
   "cell_type": "code",
   "execution_count": null,
   "metadata": {
    "collapsed": false,
    "run_control": {
     "read_only": false
    }
   },
   "outputs": [],
   "source": [
    "# Most accidents per km\n",
    "pipeline = [{'$geoNear': {'near': {'type': 'Point', 'coordinates': [-0.7601851, 52.0395099]},\n",
    "                          'spherical': True,\n",
    "                          'maxDistance': 10000,\n",
    "                          'distanceField': 'distance'}},\n",
    "           {'$project': {'CP': '$CP', \n",
    "                         'Road': '$Road',\n",
    "                         'accidents_per_km': {'$divide': ['$nearby_accident_count', '$LenNet']}}},\n",
    "           {'$sort': {'accidents_per_km': -1}},\n",
    "           {'$limit': 1}]\n",
    "results = list(roads.aggregate(pipeline))\n",
    "results"
   ]
  },
  {
   "cell_type": "code",
   "execution_count": null,
   "metadata": {
    "collapsed": false,
    "run_control": {
     "read_only": false
    }
   },
   "outputs": [],
   "source": [
    "# Most accidents per vehicle-km\n",
    "pipeline = [{'$geoNear': {'near': {'type': 'Point', 'coordinates': [-0.7601851, 52.0395099]},\n",
    "                          'spherical': True,\n",
    "                          'maxDistance': 10000,\n",
    "                          'distanceField': 'distance'}},\n",
    "           {'$project': {'CP': '$CP', \n",
    "                         'Road': '$Road',\n",
    "                         'accidents_per_vehicle_km': \n",
    "                             {'$divide': ['$nearby_accident_count', \n",
    "                                          {'$multiply': ['$LenNet', '$FdAll_MV']}]}}},\n",
    "           {'$sort': {'accidents_per_vehicle_km': -1}},\n",
    "           {'$limit': 1}]\n",
    "results = list(roads.aggregate(pipeline))\n",
    "results"
   ]
  },
  {
   "cell_type": "markdown",
   "metadata": {},
   "source": [
    "# Activity 4"
   ]
  },
  {
   "cell_type": "markdown",
   "metadata": {},
   "source": [
    "We need to count the number of casualties for each casualty class and road category. We can get that as a DataFrame by using a `crosstab` on a list of <casualty-class> <road-category> pairs.\n",
    "\n",
    "As we can go from road to accidents using the `nearby-accidents` list, we should start by going through each road section in order, finding all the accidents near it, then finding all the casualities in each accident, and putting the results in some data struture. \n",
    "\n",
    "The natural approach is to use Mongo's aggregation pipeline, but that acts on only one collection at a time. Instead, we need to manually unwind the query from `road` to `accident` to each casualty sub-document in the accident.\n",
    "\n",
    "We could do this verbosely with some nested `for` loops:"
   ]
  },
  {
   "cell_type": "code",
   "execution_count": null,
   "metadata": {
    "collapsed": false,
    "run_control": {
     "read_only": false
    },
    "scrolled": true
   },
   "outputs": [],
   "source": [
    "casualty_class_by_road_cat_list = []\n",
    "\n",
    "for r in roads.find({'nearby_accidents': {'$exists': True}}):\n",
    "    for ai in r['nearby_accidents']:\n",
    "        a = accidents.find_one({'Accident_Index': ai})\n",
    "        for c in a['Casualties']:\n",
    "            casualty_class_by_road_cat_list += [{'RCat': r['RCat'], \n",
    "                'Casualty_Class': label_of[('Casualty_Class', c['Casualty_Class'])]}]\n",
    "\n",
    "casualty_class_by_road_cat_unrolled_df = pd.DataFrame(casualty_class_by_road_cat_list)\n",
    "casualty_class_by_road_cat_unrolled_df"
   ]
  },
  {
   "cell_type": "markdown",
   "metadata": {},
   "source": [
    "A more compact way of doing it is with a list comprehension, using the \"trick\" that we can use `accidents.find()` instead of `accidents.find_one()` to avoid the complication of trying to assign a temporary variable in the middle of the processing. "
   ]
  },
  {
   "cell_type": "code",
   "execution_count": null,
   "metadata": {
    "collapsed": true,
    "run_control": {
     "read_only": false
    }
   },
   "outputs": [],
   "source": [
    "casualty_class_by_road_cat_unrolled_df = pd.DataFrame([\n",
    " {'RCat': r['RCat'], 'Casualty_Class': label_of[('Casualty_Class', c['Casualty_Class'])]}\n",
    " for r in roads.find({'nearby_accidents': {'$exists': True}})\n",
    " for ai in r['nearby_accidents'] \n",
    " for a in accidents.find({'Accident_Index': ai})\n",
    " for c in a['Casualties']\n",
    " ])"
   ]
  },
  {
   "cell_type": "markdown",
   "metadata": {},
   "source": [
    "Either way, we then form the crosstab and move on to the rest of the processing."
   ]
  },
  {
   "cell_type": "code",
   "execution_count": null,
   "metadata": {
    "collapsed": false,
    "run_control": {
     "read_only": false
    }
   },
   "outputs": [],
   "source": [
    "# Count the number of each severity\n",
    "casualty_class_by_road_cat_df = pd.crosstab(casualty_class_by_road_cat_unrolled_df['RCat'], \n",
    "                                      casualty_class_by_road_cat_unrolled_df['Casualty_Class'])\n",
    "casualty_class_by_road_cat_df"
   ]
  },
  {
   "cell_type": "code",
   "execution_count": null,
   "metadata": {
    "collapsed": false,
    "run_control": {
     "read_only": false
    }
   },
   "outputs": [],
   "source": [
    "casualty_class_by_road_cat_df.plot(kind='bar')"
   ]
  },
  {
   "cell_type": "markdown",
   "metadata": {},
   "source": [
    "If we want to find statistical significance, we'll need to do a test. As the data is indexed by categories, a chi-squared test is appropriate. First, we calculate the expected number of casualties for each class and each road type, then perform the test by comparing the two DataFrames."
   ]
  },
  {
   "cell_type": "code",
   "execution_count": null,
   "metadata": {
    "collapsed": true,
    "run_control": {
     "read_only": false
    }
   },
   "outputs": [],
   "source": [
    "# From notebook 14.3\n",
    "def expected_of_df(actual_df):\n",
    "    df = pd.DataFrame(\n",
    "        {c: \n",
    "         {r: actual_df[c].sum() * actual_df.loc[r].sum() / actual_df.sum().sum()\n",
    "                  for r in actual_df[c].index} \n",
    "              for c in actual_df})\n",
    "    # Fix the order of columns and rows\n",
    "    df = df[actual_df.columns]\n",
    "    df = df.reindex(actual_df.index)\n",
    "    return df"
   ]
  },
  {
   "cell_type": "code",
   "execution_count": null,
   "metadata": {
    "collapsed": false,
    "run_control": {
     "read_only": false
    }
   },
   "outputs": [],
   "source": [
    "expected_casualty_class_by_road_cat_df = expected_of_df(casualty_class_by_road_cat_df)\n",
    "expected_casualty_class_by_road_cat_df"
   ]
  },
  {
   "cell_type": "code",
   "execution_count": null,
   "metadata": {
    "collapsed": false,
    "run_control": {
     "read_only": false
    }
   },
   "outputs": [],
   "source": [
    "scipy.stats.chisquare(casualty_class_by_road_cat_df, expected_casualty_class_by_road_cat_df, axis=None)"
   ]
  },
  {
   "cell_type": "markdown",
   "metadata": {
    "collapsed": true,
    "run_control": {
     "read_only": false
    }
   },
   "source": [
    "Yes, different types of road do have different mixes of casualties."
   ]
  },
  {
   "cell_type": "code",
   "execution_count": null,
   "metadata": {
    "collapsed": true,
    "run_control": {
     "read_only": false
    }
   },
   "outputs": [],
   "source": []
  }
 ],
 "metadata": {
  "kernelspec": {
   "display_name": "Python 3",
   "language": "python",
   "name": "python3"
  },
  "language_info": {
   "codemirror_mode": {
    "name": "ipython",
    "version": 3
   },
   "file_extension": ".py",
   "mimetype": "text/x-python",
   "name": "python",
   "nbconvert_exporter": "python",
   "pygments_lexer": "ipython3",
   "version": "3.4.3"
  }
 },
 "nbformat": 4,
 "nbformat_minor": 0
}
