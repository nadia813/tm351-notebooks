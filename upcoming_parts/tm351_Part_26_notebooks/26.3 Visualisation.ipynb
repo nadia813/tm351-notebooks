{
 "cells": [
  {
   "cell_type": "markdown",
   "metadata": {
    "run_control": {
     "read_only": false
    }
   },
   "source": [
    "# Visualisation"
   ]
  },
  {
   "cell_type": "markdown",
   "metadata": {},
   "source": [
    "In this Notebook you will look at a variety of visualisation techniques that can be used with the results from SPARQL queries.\n",
    "\n",
    "You will see how to use the folium package to draw maps and the matplotlib package to draw plots."
   ]
  },
  {
   "cell_type": "markdown",
   "metadata": {},
   "source": [
    "## Example 1: Using folium for geographical data"
   ]
  },
  {
   "cell_type": "markdown",
   "metadata": {},
   "source": [
    "In this example you will revisit a SPARQL query that you met in Notebook 26.1.\n",
    "\n",
    "First, import the SPARQLWrapper package and set up the usual helper functions."
   ]
  },
  {
   "cell_type": "code",
   "execution_count": null,
   "metadata": {
    "collapsed": false,
    "run_control": {
     "read_only": false
    }
   },
   "outputs": [],
   "source": [
    "# Import the necessary packages\n",
    "from SPARQLWrapper import SPARQLWrapper, JSON\n",
    "\n",
    "# Add some helper functions\n",
    "\n",
    "# A function that will return the results of running a SPARQL query with \n",
    "# a defined set of prefixes over a specified endpoint. \n",
    "# It follows the same five-step process apart from creating the query, which is\n",
    "# provided as an argument to the function.\n",
    "def runQuery(endpoint, prefix, q):\n",
    "    ''' Run a SPARQL query with a declared prefix over a specified endpoint '''\n",
    "    sparql = SPARQLWrapper(endpoint)\n",
    "    sparql.setQuery(prefix+q) # concatenate the strings representing the prefixes and the query\n",
    "    sparql.setReturnFormat(JSON)\n",
    "    return sparql.query().convert()\n",
    "    \n",
    "# Import pandas to provide facilities for creating a DataFrame to hold results\n",
    "import pandas as pd\n",
    "\n",
    "# Function to convert query results into a DataFrame\n",
    "def dict2df(results):\n",
    "    ''' A function to flatten the SPARQL query results and return the column values '''\n",
    "    data = []\n",
    "    for result in results[\"results\"][\"bindings\"]:\n",
    "        tmp = {}\n",
    "        for el in result:\n",
    "            tmp[el] = result[el]['value']\n",
    "        data.append(tmp)\n",
    "\n",
    "    df = pd.DataFrame(data)\n",
    "    return df\n",
    "\n",
    "# Function to run a query and return results in a DataFrame\n",
    "def dfResults(endpoint, prefix, q):\n",
    "    ''' Generate a DataFrame containing the results of running\n",
    "        a SPARQL query with a declared prefix over a specified endpoint \n",
    "    '''\n",
    "    return dict2df(runQuery(endpoint, prefix, q))\n",
    "        \n",
    "# Print a limited number of results of a query\n",
    "def printQuery(results, limit=''):\n",
    "    ''' Print the results from the SPARQL query '''\n",
    "    resdata = results[\"results\"][\"bindings\"]\n",
    "    if limit!='':\n",
    "        resdata = results[\"results\"][\"bindings\"][:limit]\n",
    "    for result in resdata:\n",
    "        for ans in result:\n",
    "            print('{0}: {1}'.format(ans, result[ans]['value']))\n",
    "        print()\n",
    "\n",
    "# Run a query and print out a limited number of results\n",
    "def printRunQuery(endpoint, prefix, q, limit=''):\n",
    "    ''' Print the results from the SPARQL query '''\n",
    "    results = runQuery(endpoint, prefix, q)\n",
    "    printQuery(results, limit)\n",
    "    \n",
    "print(\"Helper functions set up\")"
   ]
  },
  {
   "cell_type": "markdown",
   "metadata": {},
   "source": [
    "The aim is to use the Environment Agency's Bathing Water Linked Data store to find information about bathing water districts within the East Sussex area, including:\n",
    "\n",
    "* name, latitude and longitude, sediment name and location.\n",
    "\n",
    "The locations of the districts are found using Ordnance Survey data via a SERVICE request.\n"
   ]
  },
  {
   "cell_type": "code",
   "execution_count": null,
   "metadata": {
    "collapsed": false,
    "run_control": {
     "read_only": false
    }
   },
   "outputs": [],
   "source": [
    "endpoint_envAgency = 'http://environment.data.gov.uk/sparql/bwq/query'\n",
    "\n",
    "prefix = '''\n",
    "PREFIX rdfs: <http://www.w3.org/2000/01/rdf-schema#>\n",
    "PREFIX admingeo: <http://statistics.data.gov.uk/def/administrative-geography/>\n",
    "PREFIX ossr: <http://data.ordnancesurvey.co.uk/ontology/spatialrelations/>\n",
    "'''\n",
    "\n",
    "q = '''\n",
    "SELECT ?location ?districtname ?name ?sedimentname ?lat ?long\n",
    "WHERE {\n",
    "\n",
    "    SERVICE <http://data.ordnancesurvey.co.uk/datasets/boundary-line/apis/sparql> { \n",
    "        ?area rdfs:label \"East Sussex\" .\n",
    "        ?district ossr:within ?area .\n",
    "        ?district rdfs:label ?districtname .\n",
    "    }\n",
    "    \n",
    "    ?location a <http://environment.data.gov.uk/def/bathing-water/BathingWater> .\n",
    "    ?location <http://environment.data.gov.uk/def/bathing-water/sedimentTypesPresent> ?sediment .\n",
    "    ?location <http://statistics.data.gov.uk/def/administrative-geography/district> ?district .\n",
    "    ?location rdfs:label ?name .\n",
    "    ?sediment rdfs:label ?sedimentname .\n",
    "  \n",
    "     \n",
    "  \n",
    "    ?location <http://location.data.gov.uk/def/ef/SamplingPoint/samplingPoint> ?samplingpoint.\n",
    "    ?samplingpoint <http://www.w3.org/2003/01/geo/wgs84_pos#lat> ?lat.\n",
    "    ?samplingpoint <http://www.w3.org/2003/01/geo/wgs84_pos#long> ?long.\n",
    "    FILTER(LANG(?sedimentname) = \"\" || LANGMATCHES(LANG(?sedimentname), \"en\"))\n",
    "    \n",
    "}\n",
    "ORDER BY ?districtname\n",
    "'''\n",
    "\n",
    "printRunQuery(endpoint_envAgency, prefix, q, limit=5)"
   ]
  },
  {
   "cell_type": "markdown",
   "metadata": {},
   "source": [
    "The next step is to plot this data on a map using the Python library folium. For this we need the data in the form of a DataFrame.\n",
    "\n",
    "\n",
    "Convert data to a DataFrame and print out a few rows to see what they look like."
   ]
  },
  {
   "cell_type": "code",
   "execution_count": null,
   "metadata": {
    "collapsed": false,
    "run_control": {
     "read_only": false
    }
   },
   "outputs": [],
   "source": [
    "df = dfResults(endpoint_envAgency, prefix, q)\n",
    "df[:3]"
   ]
  },
  {
   "cell_type": "markdown",
   "metadata": {},
   "source": [
    "Import the folium package and define a function that will convert the HTML source of a folium map into a form suitable for displaying in a Python Notebook.\n",
    "\n",
    "The details of this conversion need not concern you."
   ]
  },
  {
   "cell_type": "code",
   "execution_count": null,
   "metadata": {
    "collapsed": true,
    "run_control": {
     "read_only": false
    }
   },
   "outputs": [],
   "source": [
    "# Helper function for displaying folium maps in a Notebook\n",
    "import folium\n",
    "from IPython.display import HTML\n",
    "\n",
    "# This function builds a folium map suitable for displaying in a Notebook.\n",
    "# The details of its implementation can be ignored.\n",
    "# The argument, map, is a folium map object created using folium.Map() - see later for an example.\n",
    "def inline_map(map):\n",
    "    '''Embeds the HTML source of the map directly into the IPython Notebook.\n",
    "       Note: use is made of the HTML5 srcdoc attribute which may not be \n",
    "       supported by all browsers.\n",
    "    '''\n",
    "    map._build_map()\n",
    "    srcdoc = map.HTML.replace('\"', '&quot;')\n",
    "    embed = HTML('<iframe srcdoc=\"{}\" '\n",
    "                 'style=\"width: 100%; height: 510px; '\n",
    "                 'border: none\"></iframe>'.format(srcdoc))\n",
    "    return embed\n"
   ]
  },
  {
   "cell_type": "markdown",
   "metadata": {},
   "source": [
    "Convert latitude and longitude values to floats for folium. Find mean values of results to centre the map."
   ]
  },
  {
   "cell_type": "code",
   "execution_count": null,
   "metadata": {
    "collapsed": true,
    "run_control": {
     "read_only": false
    }
   },
   "outputs": [],
   "source": [
    "# Cast the lat and long values to floats\n",
    "df['lat'] = df['lat'].astype(float)\n",
    "df['long'] = df['long'].astype(float)\n",
    "\n",
    "# Find their mean values to centre the map\n",
    "latMean = df['lat'].mean()\n",
    "longMean = df['long'].mean()"
   ]
  },
  {
   "cell_type": "markdown",
   "metadata": {},
   "source": [
    "Create the map with appropriate zoom level and centre it. The location argument specifies the centre of the map when it is rendered on the screen. The zoom level indicates the scale of the map: the larger the zoom value, the more detail can be seen but the physical area covered by the map is smaller."
   ]
  },
  {
   "cell_type": "code",
   "execution_count": null,
   "metadata": {
    "collapsed": true,
    "run_control": {
     "read_only": false
    }
   },
   "outputs": [],
   "source": [
    "# Create the map with an appropriate zoom level, and centre it\n",
    "bathingwater = folium.Map(location=[latMean, longMean], zoom_start=10)"
   ]
  },
  {
   "cell_type": "markdown",
   "metadata": {},
   "source": [
    "Iterate through the DataFrame, adding each sample point as a marker on the map."
   ]
  },
  {
   "cell_type": "code",
   "execution_count": null,
   "metadata": {
    "collapsed": false,
    "run_control": {
     "read_only": false
    }
   },
   "outputs": [],
   "source": [
    "# Iterate through the DataFrame, adding each sample point as a marker on the map.\n",
    "# The marker is a simple marker (a circle with a pointer), with centre specified by the location argument.\n",
    "# When you click on a marker, the text of the popup argument is revealed.\n",
    "for ix, row in df[['name','lat','long','sedimentname']].iterrows():\n",
    "    bathingwater.simple_marker(location=[row['lat'], row['long']], popup=row['sedimentname'])"
   ]
  },
  {
   "cell_type": "markdown",
   "metadata": {},
   "source": [
    "Render the map."
   ]
  },
  {
   "cell_type": "code",
   "execution_count": null,
   "metadata": {
    "collapsed": false,
    "run_control": {
     "read_only": false
    }
   },
   "outputs": [],
   "source": [
    "# Render the map\n",
    "inline_map(bathingwater)"
   ]
  },
  {
   "cell_type": "markdown",
   "metadata": {},
   "source": [
    "Folium offers a range of facilities including a variety of types of marker. Markers can have 'pop-ups', small pieces of text that are revealed when the marker is clicked; try it on the map above.\n",
    "\n",
    "Use the zoom tool in the top left-hand corner of the map to alter the scale of the map."
   ]
  },
  {
   "cell_type": "markdown",
   "metadata": {
    "activity": "activity"
   },
   "source": [
    "### Activity 1\n",
    "\n",
    "Change the value of the `zoom_start` argument in the following code to see what effect this has.\n",
    "\n",
    "The type of marker has been changed from simple marker to circle marker."
   ]
  },
  {
   "cell_type": "code",
   "execution_count": null,
   "metadata": {
    "activity": "activity",
    "collapsed": false,
    "run_control": {
     "read_only": false
    }
   },
   "outputs": [],
   "source": [
    "# Change the value of zoom_start\n",
    "bathingwater = folium.Map(location=[latMean, longMean], zoom_start=8)\n",
    "\n",
    "# Calculate the locations of the markers (these change as the value of zoom_start changes)\n",
    "for ix, row in df[['name','lat','long','sedimentname']].iterrows():\n",
    "    bathingwater.circle_marker(location=[row['lat'], row['long']], \n",
    "                               radius       = 1000,\n",
    "                               popup        = row['sedimentname'], \n",
    "                               line_color   = 'blue',\n",
    "                               fill_color   = 'blue', \n",
    "                               fill_opacity = 0.2)\n",
    "# Render the map\n",
    "inline_map(bathingwater)"
   ]
  },
  {
   "cell_type": "markdown",
   "metadata": {
    "activity": "activity"
   },
   "source": [
    "### Activity 2\n",
    "\n",
    "Change the arguments to the `circle_marker` method to see the effects."
   ]
  },
  {
   "cell_type": "code",
   "execution_count": null,
   "metadata": {
    "activity": "activity",
    "collapsed": false,
    "run_control": {
     "read_only": false
    }
   },
   "outputs": [],
   "source": [
    "bathingwater = folium.Map(location=[latMean, longMean], zoom_start=10)\n",
    "\n",
    "# Calculate the locations of the markers (these change as the value of zoom_start changes)\n",
    "for ix, row in df[['name','lat','long','sedimentname']].iterrows():\n",
    "    bathingwater.circle_marker(location = [row['lat'], row['long']], \n",
    "                               radius       = 500, #smaller circles\n",
    "                               popup        = row['sedimentname'], \n",
    "                               line_color   = 'blue',\n",
    "                               fill_color   = 'yellow', #different colour\n",
    "                               fill_opacity = 0.3 #different opacity of fill\n",
    "                               )\n",
    "# Render the map\n",
    "inline_map(bathingwater)"
   ]
  },
  {
   "cell_type": "markdown",
   "metadata": {},
   "source": [
    "Hence, to add markers to a map and render the results, the steps are:\n",
    "\n",
    "1. Run a query and return the results as a DataFrame (the data should contain latitude and longitude values).\n",
    "\n",
    "2. Import folium and HTML and set up the `inline_map()` helper function.\n",
    "\n",
    "3. Calculate the location (latitude, longitude) of the centre of the map and choose an appropriate zoom start level and create a folium map using:\n",
    "\n",
    "        myMap = folium.Map(location=[latMean, longMean], zoom_start=10)\n",
    "    \n",
    "4. Iterate through the DataFrame, adding each sample point as a marker to the map using:\n",
    "\n",
    "        myMap.circle_marker(...)\n",
    "\n",
    "    (other types of marker are available).\n",
    "\n",
    "5. Render the map using the `inline_map()` helper function.\n"
   ]
  },
  {
   "cell_type": "markdown",
   "metadata": {},
   "source": [
    "## Example 2: Using the matplotlib package to plot results"
   ]
  },
  {
   "cell_type": "markdown",
   "metadata": {},
   "source": [
    "Here is another visualisation technique, which uses the matplotlib package.\n",
    "\n",
    "In this example the aim is to work through the column of sediments in the DataFrame containing the query results, counting the number of each sediment type and then plotting the results.\n",
    "\n",
    "Start by importing the matplotlib package."
   ]
  },
  {
   "cell_type": "code",
   "execution_count": null,
   "metadata": {
    "collapsed": true,
    "run_control": {
     "read_only": false
    }
   },
   "outputs": [],
   "source": [
    "import matplotlib.pyplot as plt"
   ]
  },
  {
   "cell_type": "markdown",
   "metadata": {},
   "source": [
    "Use the 'ggplot' style; other styles are available.\n",
    "\n",
    "(The ggplot style emulates a popular plotting package for 'R', a software environment for statistical computing and graphics.)\n"
   ]
  },
  {
   "cell_type": "code",
   "execution_count": null,
   "metadata": {
    "collapsed": false,
    "run_control": {
     "read_only": false
    }
   },
   "outputs": [],
   "source": [
    "# matplotlib.style.use('ggplot')\n",
    "plt.style.use('ggplot')"
   ]
  },
  {
   "cell_type": "markdown",
   "metadata": {},
   "source": [
    "Set up a Series to record the number of each sediment type in the sample. The types of sediment were found in Notebook 26.1, Activity 3. The Series is initialised with counts of zero for each type of sediment."
   ]
  },
  {
   "cell_type": "code",
   "execution_count": null,
   "metadata": {
    "collapsed": true,
    "run_control": {
     "read_only": false
    }
   },
   "outputs": [],
   "source": [
    "s = pd.Series([0,0,0], index=['sand', 'shingle', 'other'])    "
   ]
  },
  {
   "cell_type": "markdown",
   "metadata": {},
   "source": [
    "Loop through the sediment column."
   ]
  },
  {
   "cell_type": "code",
   "execution_count": null,
   "metadata": {
    "collapsed": false,
    "run_control": {
     "read_only": false
    }
   },
   "outputs": [],
   "source": [
    "# Loop through the sediment \n",
    "for ix, row in df[['sedimentname']].iterrows(): \n",
    "    if (row['sedimentname'] == 'sand'):\n",
    "        s['sand'] = s['sand']+1\n",
    "    elif (row['sedimentname'] == 'shingle'):\n",
    "        s['shingle'] = s['shingle'] + 1\n",
    "    else:\n",
    "        s['other'] = s['other'] + 1\n",
    "s"
   ]
  },
  {
   "cell_type": "markdown",
   "metadata": {},
   "source": [
    "Print a bar chart of the sediment counts."
   ]
  },
  {
   "cell_type": "code",
   "execution_count": null,
   "metadata": {
    "collapsed": false,
    "run_control": {
     "read_only": false
    }
   },
   "outputs": [],
   "source": [
    "s.plot(kind='bar')"
   ]
  },
  {
   "cell_type": "markdown",
   "metadata": {},
   "source": [
    "Note how the plot routine has automatically used the row indexes of the DataFrame to label the horizontal axis. The vertical axis has been automatically scaled for the tallest bar.\n",
    "\n",
    "Next, render a pie chart of the sediment counts."
   ]
  },
  {
   "cell_type": "code",
   "execution_count": null,
   "metadata": {
    "collapsed": false,
    "run_control": {
     "read_only": false
    }
   },
   "outputs": [],
   "source": [
    "s.plot(kind='pie')"
   ]
  },
  {
   "cell_type": "markdown",
   "metadata": {},
   "source": [
    "While these have been particularly simple uses of the matplotlib package, they do illustrate how easily plots of data can be rendered.\n",
    "\n",
    "The plot routine illustrated here has many arguments for tailoring the plots to your requirements (colours, shapes, titles, axes and so forth).\n"
   ]
  },
  {
   "cell_type": "markdown",
   "metadata": {
    "activity": "activity"
   },
   "source": [
    "### Activity 3\n",
    "\n",
    "Extend the sediment column loop to count all sediment types (sand, shingle, rock, marsh, mud, other).\n",
    "\n",
    "Run the bathing water query again but for a different area (try a county) and plot the results on a pie chart."
   ]
  },
  {
   "cell_type": "code",
   "execution_count": null,
   "metadata": {
    "activity": "activity",
    "collapsed": true,
    "run_control": {
     "read_only": false
    }
   },
   "outputs": [],
   "source": [
    "# Insert your solution here"
   ]
  },
  {
   "cell_type": "markdown",
   "metadata": {
    "activity": "activity"
   },
   "source": [
    "The solution is in the [`26.3solutions`](26.3solutions.ipynb) Notebook."
   ]
  },
  {
   "cell_type": "markdown",
   "metadata": {},
   "source": [
    "## Example 3: Visualising house price data"
   ]
  },
  {
   "cell_type": "markdown",
   "metadata": {},
   "source": [
    "In this example you will examine house price data from the Land Registry. The aim is to compare the prices of the different types of houses in various locations. The results of the query will be displayed on a simple bar chart.\n",
    "\n",
    "The query finds the prices for different types of house in a single location. Since we want to find the prices in several locations, the query has been embeded in a function with a single argument: the name of the location.\n",
    "\n",
    "The data held by the Land Registry is in a resource we have labelled `localAuthorityMonth` with a typical value of:\n",
    "\n",
    "    http://landregistry.data.gov.uk/data/hpi/region/city-of-plymouth/month/2015-01\n",
    "\n",
    "This references the data for a specific region (local authority), `city-of-plymouth`, for a specific month, January 2015."
   ]
  },
  {
   "cell_type": "code",
   "execution_count": null,
   "metadata": {
    "collapsed": false,
    "run_control": {
     "read_only": false
    }
   },
   "outputs": [],
   "source": [
    "# Define a query to find the house price details of a given location\n",
    "def query(name):\n",
    "    s = '''\n",
    "   SELECT DISTINCT  ?avgDetached ?avgSemi ?avgFlats ?avgTerraced\n",
    "   WHERE\n",
    "      {\n",
    "         # Bind the location of the data for a local authority for the month of January 2015 \n",
    "         # to the variable ?localAuthorityMonth\n",
    "         VALUES ?localAuthorityMonth {<http://landregistry.data.gov.uk/data/hpi/region/'''\n",
    "    s = s + str(name)\n",
    "    s = s + '''/month/2015-01>}\n",
    "\n",
    "         # Extract the prices for different types of house \n",
    "         ?localAuthorityMonth\n",
    "            lrhpi:refRegion ?regionURI ;\n",
    "            lrhpi:averagePricesDetachedSASM ?avgDetached ;\n",
    "            lrhpi:averagePricesSemiDetachedSASM ?avgSemi ;\n",
    "            lrhpi:averagePricesFlatMaisonetteSASM ?avgFlats ;\n",
    "            lrhpi:averagePricesTerracedSASM ?avgTerraced .\n",
    "    \n",
    "         # Obtain name of region\n",
    "         ?regionURI rdfs:label ?regionName .\n",
    "      FILTER (langMatches(lang(?regionName), \"EN\") )\n",
    "   }\n",
    "   '''\n",
    "    return s\n",
    "    "
   ]
  },
  {
   "cell_type": "markdown",
   "metadata": {},
   "source": [
    "Run the query for three different local authorities."
   ]
  },
  {
   "cell_type": "code",
   "execution_count": null,
   "metadata": {
    "collapsed": false,
    "run_control": {
     "read_only": false
    }
   },
   "outputs": [],
   "source": [
    "endpoint_lr = 'http://landregistry.data.gov.uk/landregistry/query'\n",
    "\n",
    "prefix = '''\n",
    "PREFIX rdfs: <http://www.w3.org/2000/01/rdf-schema#>\n",
    "PREFIX lrhpi: <http://landregistry.data.gov.uk/def/hpi/>\n",
    "'''\n",
    "\n",
    "q1 = query('city-of-plymouth')\n",
    "df1 = dfResults(endpoint_lr, prefix, q1)\n",
    "\n",
    "q2 = query('tyne-and-wear')\n",
    "df2 = dfResults(endpoint_lr, prefix, q2)\n",
    "\n",
    "q3 = query('oldham')\n",
    "df3 = dfResults(endpoint_lr, prefix, q3)\n",
    "\n",
    "# Concatenate results into a single DataFrame with local authority names as indices\n",
    "frames = [df1, df2, df3]\n",
    "df = pd.concat(frames, ignore_index=True)\n",
    "\n",
    "# Convert the DataFrame to numeric values\n",
    "df = df.apply(pd.to_numeric)\n",
    "df.index = ['Plymouth', 'Tyne-and-Wear', 'Oldham']\n",
    "\n",
    "# Output results\n",
    "print(df)"
   ]
  },
  {
   "cell_type": "code",
   "execution_count": null,
   "metadata": {
    "collapsed": false,
    "run_control": {
     "read_only": false
    }
   },
   "outputs": [],
   "source": [
    "# Plot the results as a bar chart\n",
    "df.plot(kind='bar')"
   ]
  },
  {
   "cell_type": "markdown",
   "metadata": {},
   "source": [
    "This output draws your attention to the fact that, in 2015, it was cheaper, on average, to buy a terraced property in Oldham than to buy a flat, which is different from the cases of Plymouth and Tyne-and-Wear. Also, the average price of detached properties was considerably above that of other types of property (at least double) in each of these locations. "
   ]
  },
  {
   "cell_type": "markdown",
   "metadata": {
    "activity": "activity"
   },
   "source": [
    "### Activity 4\n",
    "\n",
    "Repeat the activity in Example 3 with three or four different towns or cities.\n",
    "\n",
    "In some cases, such as Plymouth, the name of the city is recorded as `city-of-plymouth` to distinguish it from other places with the same name. A list of local authority names and code numbers can be found at the ONS site https://geoportal.statistics.gov.uk/geoportal/catalog/content/filelist.page?redirect. However, it can be quite tricky to discover the name used for the local authority of a well-known town or city. You might like to try the Ordnance Survey's linked data site at http://data.ordnancesurvey.co.uk/ to view named places."
   ]
  },
  {
   "cell_type": "code",
   "execution_count": null,
   "metadata": {
    "activity": "activity",
    "collapsed": false,
    "run_control": {
     "read_only": false
    }
   },
   "outputs": [],
   "source": [
    "# Insert your solution here"
   ]
  },
  {
   "cell_type": "markdown",
   "metadata": {
    "activity": "activity"
   },
   "source": [
    "The solution is in the [`26.3solutions`](26.3solutions.ipynb) Notebook."
   ]
  },
  {
   "cell_type": "markdown",
   "metadata": {
    "activity": "activity"
   },
   "source": [
    "### Activity 5\n",
    "\n",
    "Find the average house price indices for detached houses in `city-of-plymouth` for each month of 2014.\n",
    "\n",
    "Plot the results on a line graph. In matplotlib a simple line graph (a series of points joined by straight lines) is easily obtained by using\n",
    "\n",
    "    plot(x,y)\n",
    "\n",
    "where `x` and `y` specify the coordinates of the points: `x` contains all the x coordinates and `y` contains all the y coordinates such that, for example, `(x[0], y[0])` is the first point.\n"
   ]
  },
  {
   "cell_type": "code",
   "execution_count": null,
   "metadata": {
    "activity": "activity",
    "collapsed": true,
    "run_control": {
     "read_only": false
    }
   },
   "outputs": [],
   "source": [
    "# Insert your solution here"
   ]
  },
  {
   "cell_type": "markdown",
   "metadata": {
    "activity": "activity"
   },
   "source": [
    "The solution is in the [`26.3solutions`](26.3solutions.ipynb) Notebook."
   ]
  },
  {
   "cell_type": "markdown",
   "metadata": {},
   "source": [
    "## Summary\n",
    "\n",
    "This Notebook has illustrated the use of two visualisation techniques: one for maps (folium) and one for plots (matplotlib).\n",
    "\n",
    "Using folium, you saw how to:\n",
    "\n",
    "1. identify part of the globe via latitude and longitude and zoom level\n",
    "2. add location markers to a map\n",
    "3. render a map.\n",
    "\n",
    "The data, which included latitude and longitude values, that was added to the map was extracted via a SPARQL query.\n",
    "\n",
    "Using matplotlib, you saw how to:\n",
    "\n",
    "1. add data to a DataFrame\n",
    "2. call the `plot()` function against the DataFrame to create a plot\n",
    "3. identify the kind of plot required using the `kind` argument to `plot()`\n",
    "4. draw a line graph.\n",
    "\n",
    "The data used to create a plot came from two sources:\n",
    "\n",
    "1. the Environment Agency's bathing water linked data store\n",
    "2. the Land Registry's house price data\n",
    "\n",
    "which were searched using SPARQL queries. The data returned from the SPARQL queries had to be transformed into a format suitable for plotting."
   ]
  },
  {
   "cell_type": "markdown",
   "metadata": {},
   "source": [
    "## What next?\n",
    "\n",
    "If you are working through this Notebook as part of an inline exercise, return to the module materials now.\n",
    "\n",
    "If you are working through this set of Notebooks as a whole, you've completed the Part 26 Notebooks."
   ]
  }
 ],
 "metadata": {
  "kernelspec": {
   "display_name": "Python 3",
   "language": "python",
   "name": "python3"
  },
  "language_info": {
   "codemirror_mode": {
    "name": "ipython",
    "version": 3
   },
   "file_extension": ".py",
   "mimetype": "text/x-python",
   "name": "python",
   "nbconvert_exporter": "python",
   "pygments_lexer": "ipython3",
   "version": "3.4.3"
  }
 },
 "nbformat": 4,
 "nbformat_minor": 0
}
