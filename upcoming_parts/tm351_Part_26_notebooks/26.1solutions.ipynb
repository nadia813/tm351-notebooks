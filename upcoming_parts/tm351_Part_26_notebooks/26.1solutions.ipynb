{
 "cells": [
  {
   "cell_type": "markdown",
   "metadata": {},
   "source": [
    "# Activity 2"
   ]
  },
  {
   "cell_type": "markdown",
   "metadata": {},
   "source": [
    "The required triple is:\n",
    "\n",
    "    ?districtID rdfs:label \"East Sussex\".\n",
    "    \n",
    "The resulting query is:"
   ]
  },
  {
   "cell_type": "code",
   "execution_count": null,
   "metadata": {
    "collapsed": true,
    "run_control": {
     "read_only": false
    }
   },
   "outputs": [],
   "source": [
    "q = '''\n",
    "    SELECT ?districtID\n",
    "        WHERE {\n",
    "            # Fill in the appropriate (single) triple pattern here\n",
    "            ?districtID rdfs:label \"East Sussex\".\n",
    "        }\n",
    "'''"
   ]
  },
  {
   "cell_type": "markdown",
   "metadata": {},
   "source": [
    "# Activity 4"
   ]
  },
  {
   "cell_type": "code",
   "execution_count": null,
   "metadata": {
    "collapsed": false,
    "run_control": {
     "read_only": false
    }
   },
   "outputs": [],
   "source": [
    "prefix = '''\n",
    "    PREFIX rdfs: <http://www.w3.org/2000/01/rdf-schema#>\n",
    "    PREFIX admingeo: <http://statistics.data.gov.uk/def/administrative-geography/>\n",
    "    PREFIX ossr: <http://data.ordnancesurvey.co.uk/ontology/spatialrelations/>\n",
    "'''\n",
    "\n",
    "q = '''\n",
    "    SELECT ?districtname ?sedimentname ?location\n",
    "    WHERE {\n",
    "        # Ask OS endpoint to find a district, and its name, \n",
    "        # within the area East Sussex\n",
    "        SERVICE <http://data.ordnancesurvey.co.uk/datasets/boundary-line/apis/sparql> {\n",
    "            ?area rdfs:label \"Devon\". # *** CHANGE THIS TRIPLE ***\n",
    "            ?district ossr:within ?area.\n",
    "            ?district rdfs:label ?districtname.\n",
    "        }\n",
    "\n",
    "        # Ask Environment Agency to find location and sediment type \n",
    "        # of district.\n",
    "        # Find location of district\n",
    "        ?location <http://statistics.data.gov.uk/def/administrative-geography/district> ?district .\n",
    "        \n",
    "        # Find whether location is that of a bathing water place\n",
    "        ?location a <http://environment.data.gov.uk/def/bathing-water/BathingWater> .\n",
    "\n",
    "        # Find type of sediment at this bathing water place\n",
    "        ?location <http://environment.data.gov.uk/def/bathing-water/sedimentTypesPresent> ?sediment .\n",
    "        ?sediment rdfs:label ?sedimentname.\n",
    "\n",
    "    }\n",
    "    ORDER BY ?districtname\n",
    "'''\n",
    "\n",
    "printRunQuery(endpoint_envAgency, prefix, q, limit=30)\n"
   ]
  }
 ],
 "metadata": {
  "kernelspec": {
   "display_name": "Python 3",
   "language": "python",
   "name": "python3"
  },
  "language_info": {
   "codemirror_mode": {
    "name": "ipython",
    "version": 3
   },
   "file_extension": ".py",
   "mimetype": "text/x-python",
   "name": "python",
   "nbconvert_exporter": "python",
   "pygments_lexer": "ipython3",
   "version": "3.4.3"
  }
 },
 "nbformat": 4,
 "nbformat_minor": 0
}
