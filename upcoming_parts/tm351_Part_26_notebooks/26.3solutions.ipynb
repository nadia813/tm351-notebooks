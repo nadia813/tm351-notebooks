{
 "cells": [
  {
   "cell_type": "markdown",
   "metadata": {},
   "source": [
    "# Activity 3"
   ]
  },
  {
   "cell_type": "code",
   "execution_count": null,
   "metadata": {
    "collapsed": false,
    "run_control": {
     "read_only": false
    }
   },
   "outputs": [],
   "source": [
    "# Modified query to find sediments (sampling point and other information not required)\n",
    "q = '''\n",
    "SELECT ?name ?sedimentname\n",
    "WHERE {\n",
    "\n",
    "    SERVICE <http://data.ordnancesurvey.co.uk/datasets/boundary-line/apis/sparql> { \n",
    "        ?area rdfs:label \"North Yorkshire\" .\n",
    "        ?district ossr:within ?area .\n",
    "        ?district rdfs:label ?districtname .\n",
    "    }\n",
    "    \n",
    "    ?location a <http://environment.data.gov.uk/def/bathing-water/BathingWater> .\n",
    "    ?location <http://environment.data.gov.uk/def/bathing-water/sedimentTypesPresent> ?sediment .\n",
    "    ?location <http://statistics.data.gov.uk/def/administrative-geography/district> ?district .\n",
    "    ?location rdfs:label ?name .\n",
    "    ?sediment rdfs:label ?sedimentname .\n",
    "         \n",
    "    FILTER(LANG(?sedimentname) = \"\" || LANGMATCHES(LANG(?sedimentname), \"en\"))\n",
    "    \n",
    "}\n",
    "'''\n",
    "\n",
    "# Run query\n",
    "df = dfResults(endpoint_envAgency, prefix, q)\n",
    "\n",
    "# Set up series for all sediment types to count occurrences\n",
    "s = pd.Series([0,0,0,0,0,0], index=['sand', 'shingle', 'rock', 'marsh', 'mud', 'other'])   \n",
    "\n",
    "# Loop through the sediment \n",
    "for ix, row in df[['sedimentname']].iterrows(): \n",
    "    if (row['sedimentname'] == 'sand'):\n",
    "        s['sand'] = s['sand']+1\n",
    "    elif (row['sedimentname'] == 'shingle'):\n",
    "        s['shingle'] = s['shingle'] + 1\n",
    "    elif (row['sedimentname'] == 'rock'):\n",
    "        s['rock'] = s['rock'] + 1\n",
    "    elif (row['sedimentname'] == 'marsh'):\n",
    "        s['marsh'] = s['marsh'] + 1\n",
    "    elif (row['sedimentname'] == 'mud'):\n",
    "        s['mud'] = s['mud'] + 1\n",
    "    else:\n",
    "        s['other'] = s['other']+1\n",
    "        \n",
    "print(s)\n",
    "\n",
    "# Plot results\n",
    "s.plot(kind='pie')"
   ]
  },
  {
   "cell_type": "markdown",
   "metadata": {},
   "source": [
    "# Activity 4"
   ]
  },
  {
   "cell_type": "code",
   "execution_count": null,
   "metadata": {
    "collapsed": false,
    "run_control": {
     "read_only": false
    }
   },
   "outputs": [],
   "source": [
    "q1 = query('stoke-on-trent')\n",
    "df1 = dfResults(endpoint_lr,prefix,q1)\n",
    "\n",
    "q2 = query('york')\n",
    "df2 =  dfResults(endpoint_lr,prefix,q2)\n",
    "\n",
    "q3 = query('poole')\n",
    "df3 =  dfResults(endpoint_lr,prefix,q3)\n",
    "\n",
    "frames = [df1, df2, df3]\n",
    "df = pd.concat(frames, ignore_index=True)\n",
    "\n",
    "df = df.apply(pd.to_numeric)\n",
    "df.index = ['Stoke-on-Trent', 'York', 'Poole']\n",
    "\n",
    "print(df)\n",
    "\n",
    "df.plot(kind='bar')"
   ]
  },
  {
   "cell_type": "markdown",
   "metadata": {},
   "source": [
    "From this data it is clear that the average house prices in Stoke-on-Trent were considerably lower than those in the more affluent areas of York and Poole."
   ]
  },
  {
   "cell_type": "markdown",
   "metadata": {},
   "source": [
    "# Activity 5"
   ]
  },
  {
   "cell_type": "markdown",
   "metadata": {},
   "source": [
    "Our attempt illustrates some futher features of the `plot()` function."
   ]
  },
  {
   "cell_type": "code",
   "execution_count": null,
   "metadata": {
    "collapsed": false,
    "run_control": {
     "read_only": false
    }
   },
   "outputs": [],
   "source": [
    "endpoint_lr = 'http://landregistry.data.gov.uk/landregistry/query'\n",
    "\n",
    "prefix = '''\n",
    "PREFIX rdfs: <http://www.w3.org/2000/01/rdf-schema#>\n",
    "PREFIX lrhpi: <http://landregistry.data.gov.uk/def/hpi/>\n",
    "'''\n",
    "\n",
    "# Amend the the query to specify the local authority name and the required month\n",
    "# VALUES statement requires amending\n",
    "def query(name, month):\n",
    "    s = '''\n",
    "    SELECT DISTINCT  ?avgDetached\n",
    "    WHERE{\n",
    "    \n",
    "        VALUES ?localAuthorityMonth {<http://landregistry.data.gov.uk/data/hpi/region/'''\n",
    "    s = s + str(name) + \"/month/2014-\" + str(month) + '''>\n",
    "    }\n",
    "\n",
    "  ?localAuthorityMonth\n",
    "    lrhpi:refRegion ?regionURI ;\n",
    "    lrhpi:averagePricesDetachedSASM ?avgDetached .\n",
    "    \n",
    "    \n",
    "  ?regionURI rdfs:label ?regionName .\n",
    "  FILTER (langMatches(lang(?regionName), \"EN\") )\n",
    "}\n",
    "'''\n",
    "    return s\n",
    "    \n",
    "# Loop through months; add result to series y\n",
    "# The month is specified as a two character string, '01' to '12'\n",
    "y = []\n",
    "x = []\n",
    "for m in range(1, 13):\n",
    "    month = str(m)\n",
    "    if len(month) == 1:\n",
    "        month = '0' + month\n",
    "    q2 = query('city-of-plymouth', month)   \n",
    "    df2 = dfResults(endpoint_lr, prefix, q2)\n",
    "    y.append(df2.iloc[0,0]) # House price\n",
    "    x.append(m) # Month\n",
    "\n",
    "# Find the maximum and minimum prices\n",
    "miny = int(min(y))\n",
    "maxy = int(max(y))\n",
    "\n",
    "# Set up the axes for the graph (range of values and labels)\n",
    "plt.axis([1, 12, miny, maxy])\n",
    "plt.xlabel('Month')\n",
    "plt.ylabel('Price')\n",
    "\n",
    "# Give the graph a title\n",
    "plt.title('Average Detached House Prices 2014 for Plymouth')\n",
    "\n",
    "# Plot the graph using blue lines (instead of the default red)\n",
    "plt.plot(x, y, 'b')\n",
    "\n",
    "# Some more results\n",
    "print('Yearly change: £', (int(y[11])- int(y[0])))\n",
    "print('Minimum average price: £', miny)\n",
    "print('Maximum average price: £', maxy)"
   ]
  }
 ],
 "metadata": {
  "kernelspec": {
   "display_name": "Python 3",
   "language": "python",
   "name": "python3"
  },
  "language_info": {
   "codemirror_mode": {
    "name": "ipython",
    "version": 3
   },
   "file_extension": ".py",
   "mimetype": "text/x-python",
   "name": "python",
   "nbconvert_exporter": "python",
   "pygments_lexer": "ipython3",
   "version": "3.4.3"
  }
 },
 "nbformat": 4,
 "nbformat_minor": 0
}
