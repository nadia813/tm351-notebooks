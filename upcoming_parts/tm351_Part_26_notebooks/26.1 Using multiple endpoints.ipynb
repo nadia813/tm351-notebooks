{
 "cells": [
  {
   "cell_type": "markdown",
   "metadata": {
    "run_control": {
     "read_only": false
    }
   },
   "source": [
    "# Using multiple endpoints"
   ]
  },
  {
   "cell_type": "markdown",
   "metadata": {},
   "source": [
    "Running queries against a dataset accessible from a single endpoint is a useful facility. Even more useful is the ability to extract and merge data from several datasets located at different endpoints. In this Notebook you will learn how to create a single query that extracts data from multiple endpoints and melds them together - a **federated query**.\n",
    "\n",
    "There are several ideas that you need to become familiar with before examining a federated query in detail, so we shall proceed through a series of incremental examples.\n",
    "\n",
    "Note that some queries may take several seconds to complete, depending on network speeds and the load on the processor at the endpoint.\n",
    "\n",
    "To start with, import SPARQLWrapper and create the usual helper functions for creating queries and printing results."
   ]
  },
  {
   "cell_type": "code",
   "execution_count": null,
   "metadata": {
    "collapsed": false,
    "run_control": {
     "read_only": false
    }
   },
   "outputs": [],
   "source": [
    "# Import the necessary packages\n",
    "from SPARQLWrapper import SPARQLWrapper, JSON\n",
    "\n",
    "# Add some helper functions\n",
    "\n",
    "# A function that will return the results of running a SPARQL query with\n",
    "# a defined set of prefixes over a specified endpoint.\n",
    "# It follows the usual five-step process apart from creating the query, \n",
    "# which is provided as an argument to the function.\n",
    "def runQuery(endpoint, prefix, q):\n",
    "    ''' Run a SPARQL query with a declared prefix over a specified endpoint'''\n",
    "    sparql = SPARQLWrapper(endpoint)\n",
    "    sparql.setQuery(prefix+q) # concatenate the strings representing the prefixes and the query\n",
    "    sparql.setReturnFormat(JSON)\n",
    "    return sparql.query().convert()\n",
    "\n",
    "# Import pandas to provide facilities for creating a DataFrame to hold results\n",
    "import pandas as pd\n",
    "\n",
    "# Function to convert query results into a DataFrame\n",
    "def dict2df(results):\n",
    "    ''' A function to flatten the SPARQL query results and return the column values '''\n",
    "    data = []\n",
    "    for result in results[\"results\"][\"bindings\"]:\n",
    "        tmp = {}\n",
    "        for el in result:\n",
    "            tmp[el] = result[el]['value']\n",
    "            data.append(tmp)\n",
    "            \n",
    "    df = pd.DataFrame(data)\n",
    "    return df\n",
    "\n",
    "# Function to run a query and return results in a DataFrame\n",
    "def dfResults(endpoint, prefix, q):\n",
    "    ''' Generate a DataFrame containing the results of running\n",
    "        a SPARQL query with a declared prefix over a specified endpoint '''\n",
    "    return dict2df(runQuery(endpoint, prefix, q))\n",
    "\n",
    "# Print a limited number of results of a query\n",
    "def printQuery(results, limit=''):\n",
    "    ''' Print the results from the SPARQL query '''\n",
    "    resdata = results[\"results\"][\"bindings\"]\n",
    "    if limit != '':\n",
    "        resdata = results[\"results\"][\"bindings\"][:limit]\n",
    "    for result in resdata:\n",
    "        for ans in result:\n",
    "            print('{0}: {1}'.format(ans, result[ans]['value']))\n",
    "        print()\n",
    "        \n",
    "# Run a query and print out a limited number of results\n",
    "def printRunQuery(endpoint, prefix, q, limit=''):\n",
    "    ''' Print the results from the SPARQL query '''\n",
    "    results = runQuery(endpoint, prefix, q)\n",
    "    printQuery(results, limit)\n",
    "    \n",
    "print(\"Helper functions set up\")    "
   ]
  },
  {
   "cell_type": "markdown",
   "metadata": {},
   "source": [
    "## Example 1: The Environment Agency's Bathing Water Linked Data"
   ]
  },
  {
   "cell_type": "markdown",
   "metadata": {},
   "source": [
    "Recall that the Environment Agency collects water quality data each year from May to September, to ensure that designated bathing water sites on the coast and inland are safe and clean for swimming and other activities.\n",
    "\n",
    "The Environment Agency splits up the country into counties, and counties are divided into districts. The following query prints out some of the attributes of bathing water places, specifically their district number and district name.\n",
    "\n",
    "There are three triple patterns in the query that do the following:\n",
    "\n",
    "   1. find a bathing water place and bind the resuls to variable `?x`\n",
    "   2. find the name of the bathing water place\n",
    "   3. find the district of the bathing water place."
   ]
  },
  {
   "cell_type": "code",
   "execution_count": null,
   "metadata": {
    "collapsed": false,
    "run_control": {
     "read_only": false
    }
   },
   "outputs": [],
   "source": [
    "# Define the endpoint\n",
    "endpoint_envAgency = 'http://environment.data.gov.uk/sparql/bwq/query'\n",
    "\n",
    "# Set up prefixes\n",
    "prefix = '''\n",
    "    PREFIX bw: <http://environment.data.gov.uk/def/bathing-water/>\n",
    "    PREFIX rdfs: <http://www.w3.org/2000/01/rdf-schema#>\n",
    "    PREFIX stats: <http://statistics.data.gov.uk/def/administrative-geography/>\n",
    "'''\n",
    "\n",
    "# Define the query\n",
    "query = '''\n",
    "    SELECT ?name ?district\n",
    "    WHERE {\n",
    "        ?x a bw:BathingWater . #find subjects that are of type (predicate a) bw:BathingWater\n",
    "        ?x rdfs:label ?name .  #obtain name of the subject\n",
    "        ?x stats:district ?district . #obtain district (number) of the subject\n",
    "    }\n",
    "'''\n",
    "\n",
    "# Run query and print out a limited number of results\n",
    "printRunQuery(endpoint_envAgency, prefix, query, limit=6)\n"
   ]
  },
  {
   "cell_type": "markdown",
   "metadata": {},
   "source": [
    "For each named district there are two results: one gives the location reference previously used by the Office for National Statistics (ONS) but which is no longer active, and the other gives an Ordnance Survey (OS) identification number."
   ]
  },
  {
   "cell_type": "markdown",
   "metadata": {
    "activity": "activity"
   },
   "source": [
    "### Activity 1\n",
    "Choose one of the districts and click on the URI for the OS location. This should show some data about the chosen district. What do you see?\n"
   ]
  },
  {
   "cell_type": "markdown",
   "metadata": {
    "activity": "activity"
   },
   "source": [
    "### Discussion 1\n",
    "You should see a map of the district in which the bathing area is located. For example, Ringstead Bay is located in the district of West Dorset.\n"
   ]
  },
  {
   "cell_type": "markdown",
   "metadata": {
    "activity": "activity"
   },
   "source": [
    "### Activity 2\n",
    "\n",
    "The Ordnance Survey endpoint provides a wealth of information. It uses the rdf:label predicate to associate a label with a given object. Use this predicate to find the OS district identifier for East Sussex by completing the following query."
   ]
  },
  {
   "cell_type": "code",
   "execution_count": null,
   "metadata": {
    "activity": "activity",
    "collapsed": false,
    "run_control": {
     "read_only": false
    }
   },
   "outputs": [],
   "source": [
    "endpoint_os = 'http://data.ordnancesurvey.co.uk/datasets/os-linked-data/apis/sparql'\n",
    "\n",
    "prefix = '''\n",
    "    PREFIX rdfs: <http://www.w3.org/2000/01/rdf-schema#>\n",
    "'''\n",
    "\n",
    "q = '''\n",
    "    SELECT ?districtID\n",
    "        WHERE {\n",
    "            # Fill in the appropriate (single) triple pattern here\n",
    "            \n",
    "        }\n",
    "'''\n",
    "\n",
    "printRunQuery(endpoint_os, prefix, q)\n"
   ]
  },
  {
   "cell_type": "markdown",
   "metadata": {
    "activity": "activity"
   },
   "source": [
    "The solution is in the [`26.1solutions`](26.1solutions.ipynb) Notebook."
   ]
  },
  {
   "cell_type": "markdown",
   "metadata": {},
   "source": [
    "## Example 2: Find information about bathing places in East Sussex"
   ]
  },
  {
   "cell_type": "markdown",
   "metadata": {},
   "source": [
    "In this example we are going to send a query to the Environment Agency's endpoint. However, this query will include a SERVICE request from another endpoint (OS) for some data that it will then use to complete the original query.\n",
    "\n",
    "Specifically, the SERVICE request will ask the OS endpoint for the name and identifier of a district in East Sussex. Then, using this data, the Environment Agency's endpoint will be asked to supply various data about the district.\n"
   ]
  },
  {
   "cell_type": "code",
   "execution_count": null,
   "metadata": {
    "collapsed": false,
    "run_control": {
     "read_only": false
    }
   },
   "outputs": [],
   "source": [
    "prefix = '''\n",
    "    PREFIX rdfs: <http://www.w3.org/2000/01/rdf-schema#>\n",
    "    PREFIX admingeo: <http://statistics.data.gov.uk/def/administrative-geography/>\n",
    "    PREFIX ossr: <http://data.ordnancesurvey.co.uk/ontology/spatialrelations/>\n",
    "'''\n",
    "\n",
    "q = '''\n",
    "    SELECT ?districtname ?sedimentname ?location\n",
    "    WHERE {\n",
    "        # Ask OS endpoint to find a district, and its name, \n",
    "        # within the area East Sussex\n",
    "        SERVICE <http://data.ordnancesurvey.co.uk/datasets/boundary-line/apis/sparql> {\n",
    "            ?area rdfs:label \"East Sussex\".\n",
    "            ?district ossr:within ?area.\n",
    "            ?district rdfs:label ?districtname.\n",
    "        }\n",
    "\n",
    "        # Ask Environment Agency to find location and sediment type\n",
    "        # of district.\n",
    "        \n",
    "        # Find location of district\n",
    "        ?location <http://statistics.data.gov.uk/def/administrative-geography/district> ?district .\n",
    "        #Find whether location is that of a bathing water place\n",
    "        ?location a <http://environment.data.gov.uk/def/bathing-water/BathingWater> .\n",
    "\n",
    "        #Find type of sediment at this bathing water place\n",
    "        ?location <http://environment.data.gov.uk/def/bathing-water/sedimentTypesPresent> ?sediment .\n",
    "        ?sediment rdfs:label ?sedimentname.\n",
    "\n",
    "    }\n",
    "    ORDER BY ?districtname\n",
    "'''\n",
    "\n",
    "printRunQuery(endpoint_envAgency, prefix, q, limit=30)"
   ]
  },
  {
   "cell_type": "markdown",
   "metadata": {},
   "source": [
    "The query, `q`, is sent to the Environment Agency's endpoint:\n",
    "\n",
    "    endpoint_envAgency = 'http://environment.data.gov.uk/sparql/bwq/query'\n",
    "\n",
    "Part of that SELECT query is a request for a SERVICE from the OS endpoint:\n",
    "\n",
    "    SERVICE <http://data.ordnancesurvey.co.uk/datasets/boundary-line/apis/sparql> { \n",
    "      ...\n",
    "    }\n",
    "\n",
    "The values returned from the OS endpoint, `?district` and `?districtname`, are available to the remainder of the query.\n"
   ]
  },
  {
   "cell_type": "markdown",
   "metadata": {
    "activity": "activity"
   },
   "source": [
    "### Activity 3\n",
    "\n",
    "Click on one of the location URLs returned by the previous query to see what kind of information is available about a specific bathing place. Then answer the following:\n",
    "\n",
    "1. What kind(s) of sediment are to be found at this place?\n",
    "2. What are the different categories of sediment used by the Environment Agency?\n"
   ]
  },
  {
   "cell_type": "markdown",
   "metadata": {
    "activity": "activity"
   },
   "source": [
    "### Discussion 3\n",
    "\n",
    "1. We visited Eastbourne at http://environment.data.gov.uk/id/bathing-water/ukj2201-14500 and found that both sand and shingle are present.\n",
    "\n",
    "2. Clicking on one of the sediment types, such as sand, reveals a definition of that sediment type including the link 'sediment type'. This downloads a Turtle file from which it is possible to discover the types of sediment used by the Environment Agency:\n",
    "\n",
    "    sand, shingle, rock, marsh, mud and other\n"
   ]
  },
  {
   "cell_type": "markdown",
   "metadata": {
    "activity": "activity"
   },
   "source": [
    "### Activity 4\n",
    "\n",
    "Amend the query in Example 2 to find information about bathing places in another area (e.g. West Sussex, Dorset, Devon or another area (county) of your own choice).\n",
    "\n",
    "The solution is in the [`26.1solutions`](26.1solutions.ipynb) Notebook."
   ]
  },
  {
   "cell_type": "markdown",
   "metadata": {},
   "source": [
    "## Example 3: Using a general-purpose endpoint and the FROM keyword"
   ]
  },
  {
   "cell_type": "markdown",
   "metadata": {},
   "source": [
    "This example differs from the earlier examples in that it uses a general-purpose endpoint (SPARQLer).\n",
    "\n",
    "Since SPARQLer is general purpose, it expects to receive queries accompanied by the URL of the dataset (graph) to be searched. In SPARQL, it is possible to include this URL within a query using the FROM keyword (which is placed immediately after the SELECT construct - as shown in the code below).\n",
    "\n",
    "The following query returns the names of individuals in Tim Berners-Lee's FOAF dataset.\n"
   ]
  },
  {
   "cell_type": "code",
   "execution_count": null,
   "metadata": {
    "collapsed": false,
    "run_control": {
     "read_only": false
    }
   },
   "outputs": [],
   "source": [
    "# Set the endpoint - here is a general purpose endpoint\n",
    "endpoint = 'http://sparql.org/sparql'\n",
    "\n",
    "# Set prefix\\n\",\n",
    "prefix = '''\n",
    "    PREFIX foaf: <http://xmlns.com/foaf/0.1/>\n",
    "'''\n",
    "\n",
    "# Create query\n",
    "q = '''\n",
    "    SELECT ?name\n",
    "        FROM <http://dig.csail.mit.edu/2008/webdav/timbl/foaf.rdf>\n",
    "        WHERE {\n",
    "           ?person a foaf:Person;\n",
    "                   foaf:name ?name.\n",
    "        } ORDER BY ?name\n",
    "'''\n",
    "\n",
    "printRunQuery(endpoint, prefix, q, limit=15)"
   ]
  },
  {
   "cell_type": "markdown",
   "metadata": {},
   "source": [
    "## Example 4: Linked Movie Database (LinkedMDB)"
   ]
  },
  {
   "cell_type": "markdown",
   "metadata": {},
   "source": [
    "This example sends a query to an endpoint via a SERVICE request.\n",
    "\n",
    "LinkedMDB publishes linked open data. It publishes an open semantic web database for movies, which includes a large number of interlinks to several datasets on the open data cloud and provides references to related webpages.\n",
    "\n",
    "LinkedMDB uses numeric identifiers for movies: movie 675 is 'Startrek: The Motion Picture'. The following query asks for the names of the actors in this movie.\n",
    "\n",
    "Since the service provided by the LinkedMDB endpoint is specialised for movie data, there is no need to pass the URL of the dataset. However, the SPARQLer endpoint expects to receive a URL. Therefore, we have provided a genuine URL, but one that will be ignored by the LinkedMDB endpoint. The FROM statement has been commented as having a 'placeholder graph'.\n"
   ]
  },
  {
   "cell_type": "code",
   "execution_count": null,
   "metadata": {
    "collapsed": false,
    "run_control": {
     "read_only": false
    }
   },
   "outputs": [],
   "source": [
    "endpoint = 'http://sparql.org/sparql'\n",
    "\n",
    "prefix = '''\n",
    "    PREFIX movie: <http://data.linkedmdb.org/resource/movie/>\n",
    "    PREFIX dbpedia: <http://dbpedia.org/ontology/>\n",
    "    PREFIX foaf: <http://xmlns.com/foaf/0.1/>\n",
    "    PREFIX film: <http://data.linkedmdb.org/resource/film/>\n",
    "'''\n",
    "\n",
    "q = '''\n",
    "    SELECT ?actor_name\n",
    "    FROM <http://dig.csail.mit.edu/2008/webdav/timbl/foaf.rdf> # placeholder graph\n",
    "    WHERE {\n",
    "        SERVICE <http://data.linkedmdb.org/sparql> {\n",
    "              film:675 movie:actor ?actor .\n",
    "              ?actor movie:actor_name ?actor_name\n",
    "        }\n",
    "    }\n",
    "'''\n",
    "\n",
    "printRunQuery(endpoint, prefix, q, limit=15)"
   ]
  },
  {
   "cell_type": "markdown",
   "metadata": {},
   "source": [
    "The query sent to the LinkedMDB endpoint has two triple patterns. The first finds an actor in the film with ID 675, the second finds the actor's name. The actor's name is returned to the SPARQLer endpoint that is dealing with the overall query. The results of the query are returned to the program to be printed out."
   ]
  },
  {
   "cell_type": "markdown",
   "metadata": {},
   "source": [
    "## Example 5: Multiple SERVICE requests"
   ]
  },
  {
   "cell_type": "markdown",
   "metadata": {},
   "source": [
    "Suppose that we now wish to find the birth dates of the actors in *Startrek: The Motion Picture*. This information is not available from the LinkedMDB dataset but is available from the DBpedia data. Therefore, we could try to send an actor's name to DBpedia and use its `birthdate` property.\n",
    "\n",
    "Here is the amended query which has a second SERVICE request. This request has three patterns. The first finds a subject (`?pers`) who is a member of the set `Person`. The second ensures that this person has the required name (`?actor_name_en`) and the third finds the birth date of this person.\n",
    "\n",
    "Note that in the first SERVICE request the result is found in the variable `?actor_name`. However, names in DBpedia have a language tag. That is, names with the tag 'en' are in English. However, the LinkedMDB names do not have a language tag. Therefore, the BIND function has been used to add a language tag to the value in `?actor_name`, using `STRLANG(?actor_name, \"en\")` and binds that new value to a new variable `?actor_name_en`. The latter is then used in the second SERVICE request.\n"
   ]
  },
  {
   "cell_type": "code",
   "execution_count": null,
   "metadata": {
    "collapsed": false,
    "run_control": {
     "read_only": false
    }
   },
   "outputs": [],
   "source": [
    "q = '''\n",
    "    SELECT ?actor_name ?birth_date\n",
    "    FROM <http://dig.csail.mit.edu/2008/webdav/timbl/foaf.rdf> # placeholder graph\n",
    "    WHERE {\n",
    "        {\n",
    "            SERVICE <http://data.linkedmdb.org/sparql> {\n",
    "                film:675 movie:actor ?actor .\n",
    "                ?actor movie:actor_name ?actor_name\n",
    "            }\n",
    "            BIND(STRLANG(?actor_name, \"en\") AS ?actor_name_en)\n",
    "        }\n",
    "        SERVICE <http://dbpedia.org/sparql> {\n",
    "            ?pers a foaf:Person ;\n",
    "                foaf:name ?actor_name_en ;\n",
    "                dbpedia:birthDate ?birth_date .\n",
    "        }\n",
    "    }\n",
    "'''\n",
    "\n",
    "printRunQuery(endpoint, prefix, q, limit=15)"
   ]
  },
  {
   "cell_type": "markdown",
   "metadata": {},
   "source": [
    "You should observe a problem with the results of this amended query. Several people have the same name but different birth dates. This is simply because DBpedia knows a lot about different people with the same names. In these results there is no way to distinguish the actors in Startrek from other people of the same name.\n",
    "\n",
    "You might like to investigate the DBpedia ontology further to see whether there is a property that might pick out the actors."
   ]
  },
  {
   "cell_type": "markdown",
   "metadata": {},
   "source": [
    "This last query has illustrated that a query can be sent to one endpoint which then requests services from several other endpoints before returning results. Such a query is known as a **federated query**.\n",
    "\n",
    "It also illustrates that different datasets can hold similar data but in different formats and some processing may be required to change the format of data obtained from one dataset before it can be used to query another dataset.\n"
   ]
  },
  {
   "cell_type": "markdown",
   "metadata": {},
   "source": [
    "## A case study of a federated query"
   ]
  },
  {
   "cell_type": "markdown",
   "metadata": {},
   "source": [
    "The next query involves extracting data from Open Data Communities, the Department for Communities and Local Government's (DCLG) linked data platfrom.\n",
    "\n",
    "Since the 1970s, the Department for Communities and Local Government has calculated local measures of deprivation in England. The increasing availability of administrative data at local levels has driven developments in the definition and measurement of deprivation. For the 2010 investigation, seven distinct domains have been identified: Income Deprivation, Employment Deprivation, Health Deprivation and Disability, Education Skills and Training Deprivation, Barriers to Housing and Services, Living Environment Deprivation, and Crime. They have been combined, using appropriate weights, into a single overall Index of Multiple Deprivation which can be used to rank every small area in England according to the deprivation experienced by the people living there.\n",
    "\n",
    "Further information about the 2010 data can be found at http://www.communities.gov.uk/documents/statistics/pdf/1871208.pdf.\n",
    "\n",
    "Suppose that we want to discover data about deprivation on the Isle of Wight.\n",
    "\n",
    "The UK is divided into administrative regions called unitary authorities. The first task is to find out the name of the unitary authority for the Isle of Wight. This can be done by searching the Open Data Communities dataset as follows."
   ]
  },
  {
   "cell_type": "code",
   "execution_count": null,
   "metadata": {
    "collapsed": false,
    "run_control": {
     "read_only": false
    }
   },
   "outputs": [],
   "source": [
    "endpoint_odc = 'http://opendatacommunities.org/sparql'\n",
    "\n",
    "prefix = '''\n",
    "    PREFIX rdfs: <http://www.w3.org/2000/01/rdf-schema#>\n",
    "    PREFIX rdf: <http://www.w3.org/1999/02/22-rdf-syntax-ns#>\n",
    "    PREFIX osadmingeo: <http://data.ordnancesurvey.co.uk/ontology/admingeo/>\n",
    "'''\n",
    "\n",
    "q = '''\n",
    "    SELECT ?uaname\n",
    "        WHERE {\n",
    "\n",
    "            # Find unitary authorities\n",
    "            ?ua rdf:type osadmingeo:UnitaryAuthority .\n",
    "            ?ua rdfs:label ?uaname .\n",
    "        }\n",
    "        LIMIT 60\n",
    "'''\n",
    "\n",
    "df = dfResults(endpoint_odc, prefix, q)\n",
    "s = df.uaname\n",
    "print(s)\n"
   ]
  },
  {
   "cell_type": "markdown",
   "metadata": {},
   "source": [
    "A search of the results shows that the required unitary authority is named 'Isle of Wight'.\n",
    "\n",
    "The second step is to use the name 'Isle of Wight' to find the object whose label is 'Isle of Wight' and is a unitary authority. This can be done by querying the Ordnance Survey's administrative regions. Then, the districts within this unitary authority can be found."
   ]
  },
  {
   "cell_type": "markdown",
   "metadata": {},
   "source": [
    "The next query finds the URL for the website of the local authority for a specficied region (Isle of Wight) and the council's IMD (Index of Multiple Deprivation) rank.\n",
    "\n",
    "Note: The ranking data is for 2010. A revised index for 2015 was published in September 2015 (see  http://www.gov.uk/government/uploads/system/uploads/attachment_data/file/465791/English_Indices_of_Deprivation_2015_-_Statistical_Release.pdf)."
   ]
  },
  {
   "cell_type": "code",
   "execution_count": null,
   "metadata": {
    "collapsed": false,
    "run_control": {
     "read_only": false
    }
   },
   "outputs": [],
   "source": [
    "#Open Data Communities endpoint\n",
    "endpoint_odc = 'http://opendatacommunities.org/sparql'\n",
    "\n",
    "#Define prefixes\n",
    "prefix = '''\n",
    "    PREFIX rdfs: <http://www.w3.org/2000/01/rdf-schema#>\n",
    "    PREFIX rdf: <http://www.w3.org/1999/02/22-rdf-syntax-ns#>\n",
    "    PREFIX osadmingeo: <http://data.ordnancesurvey.co.uk/ontology/admingeo/>\n",
    "    PREFIX ossr: <http://data.ordnancesurvey.co.uk/ontology/spatialrelations/>\n",
    "'''\n",
    "\n",
    "# Define query\n",
    "q = '''\n",
    "    SELECT ?councilwebsite ?imdrank ?authority ?authorityname\n",
    "    WHERE {\n",
    "    \n",
    "        # Find IMD rank for IoW\n",
    "        # 1. Find the unitary authority \"Isle of Wight\"\n",
    "        ?iow rdfs:label \"Isle of Wight\" ;\n",
    "            rdf:type osadmingeo:UnitaryAuthority .   \n",
    "            \n",
    "        # 2. Find the reference area for the unitary authority\n",
    "        ?s <http://purl.org/linked-data/sdmx/2009/dimension#refArea> ?iow .\n",
    "        \n",
    "        # 3. Find the overall rank of the reference area\n",
    "        ?s <http://opendatacommunities.org/def/IMD#IMD-rank> ?imdrank . \n",
    "\n",
    "        # Find council website and authority name for IoW\n",
    "        ?authority <http://opendatacommunities.org/def/local-government/governs> ?iow .\n",
    "        ?authority <http://xmlns.com/foaf/0.1/page> ?councilwebsite .\n",
    "        ?authority rdfs:label ?authorityname.\n",
    "    }\n",
    "'''\n",
    "\n",
    "printRunQuery(endpoint_odc, prefix, q, limit=15)"
   ]
  },
  {
   "cell_type": "markdown",
   "metadata": {},
   "source": [
    "You might like to re-run this query with other unitary authorities (say 'Cornwall',  'Hartlepool', 'Poole' and 'Windsor and Maidenhead') and find their ranks. The lower the rank, the more deprived the area."
   ]
  },
  {
   "cell_type": "markdown",
   "metadata": {},
   "source": [
    "We can combine the previous two queries into a single query, whose execution starts at one of the endpoints, in this case the Ordnance Survey endpoint. The SERVICE command then executes another query fragment on a remote endpoint, in this case the Open Data Communities endpoint."
   ]
  },
  {
   "cell_type": "code",
   "execution_count": null,
   "metadata": {
    "collapsed": false,
    "run_control": {
     "read_only": false
    }
   },
   "outputs": [],
   "source": [
    "q = '''\n",
    "    SELECT ?districtname ?councilwebsite ?imdrank ?authority ?authorityname\n",
    "    WHERE {\n",
    "\n",
    "        # Find the object whose label is 'Isle of Wight' and is a\n",
    "        # unitary authority\n",
    "        ?iow rdfs:label \"Isle of Wight\" ;\n",
    "            rdf:type osadmingeo:UnitaryAuthority .\n",
    "\n",
    "        # Find name of districts within IoW unitary authority\n",
    "        ?district ossr:within ?iow .\n",
    "        ?district rdfs:label ?districtname.\n",
    "\n",
    "        # Run a query at the opendatacommunities endpoint that\n",
    "        # finds the imd rank for IoW and \n",
    "        SERVICE <http://opendatacommunities.org/sparql> {\n",
    "\n",
    "            ?s <http://purl.org/linked-data/sdmx/2009/dimension#refArea> ?iow .\n",
    "            ?s <http://opendatacommunities.org/def/IMD#IMD-rank> ?imdrank . \n",
    "\n",
    "\n",
    "            ?authority <http://opendatacommunities.org/def/local-government/governs> ?iow .\n",
    "            ?authority <http://xmlns.com/foaf/0.1/page> ?councilwebsite .\n",
    "            ?authority rdfs:label ?authorityname.\n",
    "\n",
    "        }\n",
    "    }\n",
    "'''\n",
    "\n",
    "# Print out a few of the results\n",
    "printRunQuery(endpoint_os, prefix, q, limit=5)"
   ]
  },
  {
   "cell_type": "markdown",
   "metadata": {},
   "source": [
    "The aim of this case study was to illustrate another federated query in which a sub-query is sent by one endpoint to another endpoint.\n",
    "\n",
    "The specific details of the triple patterns used in the queries are not important (although trying to find the appropriate properties to use in the queries takes some time as you have to become familiar with the ontologies adopted for the different datasets).\n"
   ]
  },
  {
   "cell_type": "markdown",
   "metadata": {},
   "source": [
    "## Summary"
   ]
  },
  {
   "cell_type": "markdown",
   "metadata": {},
   "source": [
    "The primary purpose of this Notebook has been to give you practical experience of federated queries in which a single query gives rise to multiple sub-queries that are sent to different endpoints to be actioned. The main query can then combine the several sets of results from the sub-queries to answer the primary question.\n",
    "\n",
    "To send a query to a remote endpoint, you use SPARQL's SERVICE mechanism in which you specify the URL of the endpoint to be used to answer a specific sub-query. A remote endpoint will find suitable bindings for the variables mentioned in the sub-query which are then available to the main query to be  used in subsequent patterns (including further SERVICE requests).\n",
    "\n",
    "You saw that when the results of one SERVICE request are required by another SERVICE request (or even the main query itself), some manipulation is required to the format of the data: graphs dealing with the same subject matter may not use the same format for similar data. You saw an example where names in one graph had a language tag but the same names in another graph did not. In this case the BIND function was used to bind a new value to a variable. "
   ]
  },
  {
   "cell_type": "markdown",
   "metadata": {},
   "source": [
    "## What next?\n",
    "\n",
    "If you are working through this Notebook as part of an inline exercise, return to the module materials now.\n",
    "\n",
    "If you are working through this set of Notebooks as a whole, move on to `26.2 The SPARQL CONSTRUCT query and inferencing`."
   ]
  }
 ],
 "metadata": {
  "kernelspec": {
   "display_name": "Python 3",
   "language": "python",
   "name": "python3"
  },
  "language_info": {
   "codemirror_mode": {
    "name": "ipython",
    "version": 3
   },
   "file_extension": ".py",
   "mimetype": "text/x-python",
   "name": "python",
   "nbconvert_exporter": "python",
   "pygments_lexer": "ipython3",
   "version": "3.4.3"
  }
 },
 "nbformat": 4,
 "nbformat_minor": 0
}
