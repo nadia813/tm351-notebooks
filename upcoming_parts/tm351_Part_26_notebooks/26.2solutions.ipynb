{
 "cells": [
  {
   "cell_type": "markdown",
   "metadata": {},
   "source": [
    "# Activity 1"
   ]
  },
  {
   "cell_type": "code",
   "execution_count": null,
   "metadata": {
    "collapsed": true,
    "run_control": {
     "read_only": false
    }
   },
   "outputs": [],
   "source": [
    "# Create a new empty graph\n",
    "geog = rdflib.Graph()\n",
    "\n",
    "# File is in the data/ folder\n",
    "geog.parse('data/European Geography.ttl', format=\"turtle\")\n",
    "\n",
    "q = '''CONSTRUCT { ?country ?pred ?population . }\n",
    "        WHERE {\n",
    "            ?country <http://www.example.org/hasPopulation> ?population .\n",
    "            ?country ?pred ?population\n",
    "            FILTER (?population >= 10000000)\n",
    "        }'''\n",
    "\n",
    "newgraph = geog.query(q)\n",
    "\n",
    "# Print the triples in the constructed graph\n",
    "print(\"*** Populations of Countries ***\")\n",
    "\n",
    "printtriples(newgraph)\n",
    "    \n",
    "# Save in turtle format\n",
    "newgraph.serialize(\"populations.ttl\", format=\"turtle\")"
   ]
  },
  {
   "cell_type": "markdown",
   "metadata": {},
   "source": [
    "# Activity 2"
   ]
  },
  {
   "cell_type": "code",
   "execution_count": null,
   "metadata": {
    "collapsed": false,
    "run_control": {
     "read_only": false
    }
   },
   "outputs": [],
   "source": [
    "q3 = '''CONSTRUCT { ?resource1 ?property1 ?resource3 . }\n",
    "    WHERE {\n",
    "        #Find a property from the class transitive\n",
    "        ?property  a <http://www.example.org/transitive> .\n",
    "        \n",
    "        #Find two resources that are related by this property\n",
    "        ?resource1 ?property1 ?resource2 .\n",
    "        \n",
    "        #Find a third resource that is related in the same way to resource2\n",
    "        ?resource2 ?property1 ?resource3 .\n",
    "        \n",
    "        #If bindings for resource1 and resource3 have been found\n",
    "        #the query will create a triple.\n",
    "    }\n",
    "'''\n",
    "\n",
    "r3 = geog.query(q3)\n",
    "\n",
    "printCountriesLocatedInContinent(r3, \"Europe\")"
   ]
  }
 ],
 "metadata": {
  "kernelspec": {
   "display_name": "Python 3",
   "language": "python",
   "name": "python3"
  },
  "language_info": {
   "codemirror_mode": {
    "name": "ipython",
    "version": 3
   },
   "file_extension": ".py",
   "mimetype": "text/x-python",
   "name": "python",
   "nbconvert_exporter": "python",
   "pygments_lexer": "ipython3",
   "version": "3.4.3"
  }
 },
 "nbformat": 4,
 "nbformat_minor": 0
}
