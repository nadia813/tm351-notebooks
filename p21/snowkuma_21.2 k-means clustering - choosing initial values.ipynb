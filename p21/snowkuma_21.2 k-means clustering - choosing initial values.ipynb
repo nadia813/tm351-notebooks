{
 "cells": [
  {
   "cell_type": "markdown",
   "metadata": {},
   "source": [
    "# *k*-means clustering: choosing initial values"
   ]
  },
  {
   "cell_type": "markdown",
   "metadata": {
    "collapsed": true
   },
   "source": [
    "In this Notebook you will see how different choices of initial values can affect the final clustering.\n",
    "\n",
    "You should spend approximately 30 minutes on this Notebook, and around 30 minutes on the iCMA question referenced at the end of the Notebook."
   ]
  },
  {
   "cell_type": "code",
   "execution_count": 1,
   "metadata": {
    "code_folding": [],
    "collapsed": true
   },
   "outputs": [],
   "source": [
    "# Standard imports, as well as sklearn.cluster as in the previous Notebook\n",
    "\n",
    "import pandas as pd\n",
    "\n",
    "import numpy as np\n",
    "import matplotlib.pyplot as plt\n",
    "\n",
    "import seaborn as sns\n",
    "\n",
    "from sklearn import cluster"
   ]
  },
  {
   "cell_type": "markdown",
   "metadata": {},
   "source": [
    "As in the previous Notebook, we will use the football league data to illustrate the behaviour of the clustering algorithm. Again, we start by importing the data from the `football_results.csv` file:"
   ]
  },
  {
   "cell_type": "code",
   "execution_count": 2,
   "metadata": {},
   "outputs": [
    {
     "data": {
      "text/html": [
       "<div>\n",
       "<style>\n",
       "    .dataframe thead tr:only-child th {\n",
       "        text-align: right;\n",
       "    }\n",
       "\n",
       "    .dataframe thead th {\n",
       "        text-align: left;\n",
       "    }\n",
       "\n",
       "    .dataframe tbody tr th {\n",
       "        vertical-align: top;\n",
       "    }\n",
       "</style>\n",
       "<table border=\"1\" class=\"dataframe\">\n",
       "  <thead>\n",
       "    <tr style=\"text-align: right;\">\n",
       "      <th></th>\n",
       "      <th>For</th>\n",
       "      <th>Against</th>\n",
       "      <th>Position</th>\n",
       "    </tr>\n",
       "    <tr>\n",
       "      <th>Team</th>\n",
       "      <th></th>\n",
       "      <th></th>\n",
       "      <th></th>\n",
       "    </tr>\n",
       "  </thead>\n",
       "  <tbody>\n",
       "    <tr>\n",
       "      <th>Arsenal</th>\n",
       "      <td>68</td>\n",
       "      <td>41</td>\n",
       "      <td>4</td>\n",
       "    </tr>\n",
       "    <tr>\n",
       "      <th>Aston Villa</th>\n",
       "      <td>39</td>\n",
       "      <td>61</td>\n",
       "      <td>15</td>\n",
       "    </tr>\n",
       "    <tr>\n",
       "      <th>Cardiff City</th>\n",
       "      <td>32</td>\n",
       "      <td>74</td>\n",
       "      <td>20</td>\n",
       "    </tr>\n",
       "    <tr>\n",
       "      <th>Chelsea</th>\n",
       "      <td>71</td>\n",
       "      <td>27</td>\n",
       "      <td>3</td>\n",
       "    </tr>\n",
       "    <tr>\n",
       "      <th>Crystal Palace</th>\n",
       "      <td>33</td>\n",
       "      <td>48</td>\n",
       "      <td>11</td>\n",
       "    </tr>\n",
       "  </tbody>\n",
       "</table>\n",
       "</div>"
      ],
      "text/plain": [
       "                For  Against  Position\n",
       "Team                                  \n",
       "Arsenal          68       41         4\n",
       "Aston Villa      39       61        15\n",
       "Cardiff City     32       74        20\n",
       "Chelsea          71       27         3\n",
       "Crystal Palace   33       48        11"
      ]
     },
     "execution_count": 2,
     "metadata": {},
     "output_type": "execute_result"
    }
   ],
   "source": [
    "footballResults_df = pd.read_csv('data/football_results.csv', index_col=0)\n",
    "footballResults_df.head()"
   ]
  },
  {
   "cell_type": "markdown",
   "metadata": {},
   "source": [
    "## Initial values for *k*=2"
   ]
  },
  {
   "cell_type": "markdown",
   "metadata": {},
   "source": [
    "For the clustering algorithm, we can specify the initial centroids. Just making an intelligent guess at the initial values, some plausible starting centroids might be:\n",
    "\n",
    "    (40, 50)\n",
    "    \n",
    "and\n",
    "\n",
    "    (85, 40)."
   ]
  },
  {
   "cell_type": "markdown",
   "metadata": {},
   "source": [
    "We can define a DataFrame to contain these initial centroids:"
   ]
  },
  {
   "cell_type": "code",
   "execution_count": 3,
   "metadata": {},
   "outputs": [
    {
     "data": {
      "text/html": [
       "<div>\n",
       "<style>\n",
       "    .dataframe thead tr:only-child th {\n",
       "        text-align: right;\n",
       "    }\n",
       "\n",
       "    .dataframe thead th {\n",
       "        text-align: left;\n",
       "    }\n",
       "\n",
       "    .dataframe tbody tr th {\n",
       "        vertical-align: top;\n",
       "    }\n",
       "</style>\n",
       "<table border=\"1\" class=\"dataframe\">\n",
       "  <thead>\n",
       "    <tr style=\"text-align: right;\">\n",
       "      <th></th>\n",
       "      <th>For</th>\n",
       "      <th>Against</th>\n",
       "    </tr>\n",
       "  </thead>\n",
       "  <tbody>\n",
       "    <tr>\n",
       "      <th>0</th>\n",
       "      <td>40</td>\n",
       "      <td>50</td>\n",
       "    </tr>\n",
       "    <tr>\n",
       "      <th>1</th>\n",
       "      <td>85</td>\n",
       "      <td>40</td>\n",
       "    </tr>\n",
       "  </tbody>\n",
       "</table>\n",
       "</div>"
      ],
      "text/plain": [
       "   For  Against\n",
       "0   40       50\n",
       "1   85       40"
      ]
     },
     "execution_count": 3,
     "metadata": {},
     "output_type": "execute_result"
    }
   ],
   "source": [
    "initialCentroids_df = pd.DataFrame({'For':[40, 85], 'Against':[50, 40]}, columns=['For', 'Against'])\n",
    "\n",
    "initialCentroids_df"
   ]
  },
  {
   "cell_type": "markdown",
   "metadata": {},
   "source": [
    "and plot these on a scatter plot with the data points:"
   ]
  },
  {
   "cell_type": "code",
   "execution_count": 4,
   "metadata": {},
   "outputs": [
    {
     "data": {
      "image/png": "[encoded data removed]",
      "text/plain": [
       "<matplotlib.figure.Figure at 0x7f3b523a64a8>"
      ]
     },
     "metadata": {},
     "output_type": "display_data"
    }
   ],
   "source": [
    "plt.scatter(footballResults_df['For'],\n",
    "            footballResults_df['Against'])\n",
    "\n",
    "plt.xlabel('Goals For')\n",
    "plt.ylabel('Goals Against')\n",
    "\n",
    "plt.title('English Premier League Teams 2013/2014 Season with initial cluster centroids (1)')\n",
    "\n",
    "# Plot each of the centroids:\n",
    "for i in initialCentroids_df.index:\n",
    "    plt.plot(initialCentroids_df.loc[i]['For'],\n",
    "             initialCentroids_df.loc[i]['Against'],\n",
    "             color='black', marker='x', mew=2)\n"
   ]
  },
  {
   "cell_type": "markdown",
   "metadata": {},
   "source": [
    "To use these initial values, they need to be specified with the `init` parameter when initialising the clustering object:"
   ]
  },
  {
   "cell_type": "code",
   "execution_count": 5,
   "metadata": {
    "collapsed": true
   },
   "outputs": [],
   "source": [
    "# Initial centroids specified in the init parameter\n",
    "kmeans2 = cluster.KMeans(n_clusters=2,\n",
    "                         init=initialCentroids_df)"
   ]
  },
  {
   "cell_type": "markdown",
   "metadata": {},
   "source": [
    "Then as before, we call the `fit` method with the appropriate columns of `footballResults_df`:"
   ]
  },
  {
   "cell_type": "code",
   "execution_count": 6,
   "metadata": {},
   "outputs": [
    {
     "name": "stderr",
     "output_type": "stream",
     "text": [
      "/usr/local/lib/python3.5/dist-packages/sklearn/cluster/k_means_.py:889: RuntimeWarning: Explicit initial center position passed: performing only one init in k-means instead of n_init=10\n",
      "  return_n_iter=True)\n"
     ]
    },
    {
     "data": {
      "text/plain": [
       "array([1, 0, 0, 1, 0, 1, 0, 0, 1, 1, 1, 0, 0, 0, 0, 0, 0, 0, 0, 0], dtype=int32)"
      ]
     },
     "execution_count": 6,
     "metadata": {},
     "output_type": "execute_result"
    }
   ],
   "source": [
    "assignedClusters_clust = kmeans2.fit(footballResults_df[['For', 'Against']])\n",
    "\n",
    "assignedClusters_clust.labels_"
   ]
  },
  {
   "cell_type": "markdown",
   "metadata": {},
   "source": [
    "... and plot the clustered data along with the final centroids:"
   ]
  },
  {
   "cell_type": "code",
   "execution_count": 7,
   "metadata": {},
   "outputs": [
    {
     "data": {
      "text/plain": [
       "[]"
      ]
     },
     "execution_count": 7,
     "metadata": {},
     "output_type": "execute_result"
    },
    {
     "data": {
      "image/png": "[encoded data removed]",
      "text/plain": [
       "<matplotlib.figure.Figure at 0x7f3b52359668>"
      ]
     },
     "metadata": {},
     "output_type": "display_data"
    }
   ],
   "source": [
    "# Plot the data points which in the cluster labelled '0'\n",
    "plt.scatter(footballResults_df['For'][assignedClusters_clust.labels_==0],\n",
    "            footballResults_df['Against'][assignedClusters_clust.labels_==0],\n",
    "            color='red', marker='o', label='cluster 0')\n",
    "\n",
    "# Plot the data points which in the cluster labelled '1'\n",
    "plt.scatter(footballResults_df['For'][assignedClusters_clust.labels_==1],\n",
    "            footballResults_df['Against'][assignedClusters_clust.labels_==1],\n",
    "            color='blue', marker='o', label='cluster 0')\n",
    "\n",
    "# Plot each of the centroids:\n",
    "for (cx, cy) in assignedClusters_clust.cluster_centers_:\n",
    "    plt.plot(cx, cy, color='black', marker='x', mew=2)\n",
    "\n",
    "plt.legend()\n",
    "\n",
    "plt.xlabel('Goals For')\n",
    "plt.ylabel('Goals Against')\n",
    "\n",
    "plt.title('2-means Clustering with centroids')\n",
    "\n",
    "plt.plot()"
   ]
  },
  {
   "cell_type": "markdown",
   "metadata": {},
   "source": [
    "Now, suppose that different starting values had been chosen. We will run the clustering algorithm with starting centroids at:\n",
    "\n",
    "    (44, 45)\n",
    "    \n",
    "and\n",
    "\n",
    "    (53, 73)."
   ]
  },
  {
   "cell_type": "markdown",
   "metadata": {},
   "source": [
    "Again, we can define a DataFrame with these values:"
   ]
  },
  {
   "cell_type": "code",
   "execution_count": 8,
   "metadata": {},
   "outputs": [
    {
     "data": {
      "text/html": [
       "<div>\n",
       "<style>\n",
       "    .dataframe thead tr:only-child th {\n",
       "        text-align: right;\n",
       "    }\n",
       "\n",
       "    .dataframe thead th {\n",
       "        text-align: left;\n",
       "    }\n",
       "\n",
       "    .dataframe tbody tr th {\n",
       "        vertical-align: top;\n",
       "    }\n",
       "</style>\n",
       "<table border=\"1\" class=\"dataframe\">\n",
       "  <thead>\n",
       "    <tr style=\"text-align: right;\">\n",
       "      <th></th>\n",
       "      <th>For</th>\n",
       "      <th>Against</th>\n",
       "    </tr>\n",
       "  </thead>\n",
       "  <tbody>\n",
       "    <tr>\n",
       "      <th>0</th>\n",
       "      <td>44</td>\n",
       "      <td>45</td>\n",
       "    </tr>\n",
       "    <tr>\n",
       "      <th>1</th>\n",
       "      <td>53</td>\n",
       "      <td>73</td>\n",
       "    </tr>\n",
       "  </tbody>\n",
       "</table>\n",
       "</div>"
      ],
      "text/plain": [
       "   For  Against\n",
       "0   44       45\n",
       "1   53       73"
      ]
     },
     "execution_count": 8,
     "metadata": {},
     "output_type": "execute_result"
    }
   ],
   "source": [
    "initialCentroids_df = pd.DataFrame({'For':[44, 53], 'Against':[45, 73]}, columns=['For', 'Against'])\n",
    "\n",
    "initialCentroids_df"
   ]
  },
  {
   "cell_type": "markdown",
   "metadata": {},
   "source": [
    "and see where the initial centroids appear on a plot of the data:"
   ]
  },
  {
   "cell_type": "code",
   "execution_count": 9,
   "metadata": {},
   "outputs": [
    {
     "data": {
      "image/png": "[encoded data removed]",
      "text/plain": [
       "<matplotlib.figure.Figure at 0x7f3b5234a860>"
      ]
     },
     "metadata": {},
     "output_type": "display_data"
    }
   ],
   "source": [
    "plt.scatter(footballResults_df['For'],\n",
    "            footballResults_df['Against'])\n",
    "\n",
    "plt.xlabel('Goals For')\n",
    "plt.ylabel('Goals Against')\n",
    "\n",
    "plt.title('English Premier League Teams 2013/2014 Season with initial cluster centroids (2)')\n",
    "\n",
    "# Plot each of the centroids:\n",
    "for i in initialCentroids_df.index:\n",
    "    plt.plot(initialCentroids_df.loc[i]['For'],\n",
    "             initialCentroids_df.loc[i]['Against'],\n",
    "             color='black', marker='x', mew=2)\n"
   ]
  },
  {
   "cell_type": "markdown",
   "metadata": {},
   "source": [
    "Note that these initial values are very different from the ones we used last time. We can now apply the *k*-means algorithm with *k*=2, and see the result:"
   ]
  },
  {
   "cell_type": "code",
   "execution_count": 10,
   "metadata": {},
   "outputs": [
    {
     "name": "stderr",
     "output_type": "stream",
     "text": [
      "/usr/local/lib/python3.5/dist-packages/sklearn/cluster/k_means_.py:889: RuntimeWarning: Explicit initial center position passed: performing only one init in k-means instead of n_init=10\n",
      "  return_n_iter=True)\n"
     ]
    },
    {
     "data": {
      "text/plain": [
       "array([0, 0, 1, 0, 0, 0, 1, 0, 1, 0, 0, 0, 0, 0, 0, 0, 0, 0, 0, 0], dtype=int32)"
      ]
     },
     "execution_count": 10,
     "metadata": {},
     "output_type": "execute_result"
    }
   ],
   "source": [
    "kmeans2 = cluster.KMeans(n_clusters=2,\n",
    "                         init=initialCentroids_df)\n",
    "\n",
    "assignedClusters_clust = kmeans2.fit(footballResults_df[['For', 'Against']])\n",
    "\n",
    "assignedClusters_clust.labels_"
   ]
  },
  {
   "cell_type": "code",
   "execution_count": 11,
   "metadata": {},
   "outputs": [
    {
     "data": {
      "text/plain": [
       "[]"
      ]
     },
     "execution_count": 11,
     "metadata": {},
     "output_type": "execute_result"
    },
    {
     "data": {
      "image/png": "[encoded data removed]",
      "text/plain": [
       "<matplotlib.figure.Figure at 0x7f3b8c162438>"
      ]
     },
     "metadata": {},
     "output_type": "display_data"
    }
   ],
   "source": [
    "# Plot the data points which in the cluster labelled '0'\n",
    "plt.scatter(footballResults_df['For'][assignedClusters_clust.labels_==0],\n",
    "            footballResults_df['Against'][assignedClusters_clust.labels_==0],\n",
    "            color='red', marker='o', label='cluster 0')\n",
    "\n",
    "# Plot the data points which in the cluster labelled '1'\n",
    "plt.scatter(footballResults_df['For'][assignedClusters_clust.labels_==1],\n",
    "            footballResults_df['Against'][assignedClusters_clust.labels_==1],\n",
    "            color='blue', marker='o', label='cluster 0')\n",
    "\n",
    "# Plot each of the centroids:\n",
    "for (cx, cy) in assignedClusters_clust.cluster_centers_:\n",
    "    plt.plot(cx, cy, color='black', marker='x', mew=2)\n",
    "\n",
    "plt.legend()\n",
    "\n",
    "plt.xlabel('Goals For')\n",
    "plt.ylabel('Goals Against')\n",
    "\n",
    "plt.title('2-means Clustering with centroids')\n",
    "\n",
    "plt.plot()"
   ]
  },
  {
   "cell_type": "markdown",
   "metadata": {},
   "source": [
    "These initial conditions have led to a very different and possibly quite unintuitive clustering. Although some might find this clustering to be pretty unconvincing, it does demonstrate two important points. \n",
    "\n",
    "First, it is important that you don't assume that a single run of the clustering algorithm has necessarily given you a good result. It is important that you check the output of the clustering algorithm to ensure that the proposed clusters seem reasonable. \n",
    "\n",
    "Second, if you choose different starting conditions you won't always get the same results. Some clusterings may seem better than others, or all may seem equally plausible, but there is no such thing as 'the' correct clustering: the final result of the algorithm may be one of several alternative results, and it is important not to treat one set of results as though it is the One True Clustering.\n",
    "\n",
    "In fact, as the datasets you use get larger and more complex, it is increasingly likely that different initial conditions will lead to different final results."
   ]
  },
  {
   "cell_type": "code",
   "execution_count": 26,
   "metadata": {},
   "outputs": [
    {
     "ename": "SyntaxError",
     "evalue": "invalid syntax (<ipython-input-26-e4998c8ac132>, line 1)",
     "output_type": "error",
     "traceback": [
      "\u001b[0;36m  File \u001b[0;32m\"<ipython-input-26-e4998c8ac132>\"\u001b[0;36m, line \u001b[0;32m1\u001b[0m\n\u001b[0;31m    initialCentroids_df = pd.DataFrame({'A':[40, 50, 20, 60], 'B':[85, 40, 60, 80]}, columns=['A', 'B']}\u001b[0m\n\u001b[0m                                                                                                       ^\u001b[0m\n\u001b[0;31mSyntaxError\u001b[0m\u001b[0;31m:\u001b[0m invalid syntax\n"
     ]
    }
   ],
   "source": [
    "initialCentroids_df = pd.DataFrame({'A':[40, 50, 20, 60], 'B':[85, 40, 60, 80]}, columns=['A', 'B']}\n",
    "\n",
    "initialCentroids4_df"
   ]
  },
  {
   "cell_type": "code",
   "execution_count": 27,
   "metadata": {
    "collapsed": true
   },
   "outputs": [],
   "source": [
    "kmeans4 = cluster.KMeans(n_clusters=4, init=initialCentroids4_df)"
   ]
  },
  {
   "cell_type": "code",
   "execution_count": 28,
   "metadata": {},
   "outputs": [
    {
     "name": "stderr",
     "output_type": "stream",
     "text": [
      "/usr/local/lib/python3.5/dist-packages/sklearn/cluster/k_means_.py:889: RuntimeWarning: Explicit initial center position passed: performing only one init in k-means instead of n_init=10\n",
      "  return_n_iter=True)\n"
     ]
    },
    {
     "data": {
      "text/plain": [
       "array([1, 0, 0, 1, 0, 1, 0, 0, 2, 3, 1, 0, 0, 1, 0, 0, 1, 1, 0, 0], dtype=int32)"
      ]
     },
     "execution_count": 28,
     "metadata": {},
     "output_type": "execute_result"
    }
   ],
   "source": [
    "assignedClusters_clust = kmeans4.fit(footballResults_df[['For', 'Against']])\n",
    "\n",
    "assignedClusters_clust.labels_"
   ]
  },
  {
   "cell_type": "code",
   "execution_count": 29,
   "metadata": {},
   "outputs": [
    {
     "data": {
      "text/plain": [
       "[]"
      ]
     },
     "execution_count": 29,
     "metadata": {},
     "output_type": "execute_result"
    },
    {
     "data": {
      "image/png": "[encoded data removed]",
      "text/plain": [
       "<matplotlib.figure.Figure at 0x7f3b4e4ad5c0>"
      ]
     },
     "metadata": {},
     "output_type": "display_data"
    }
   ],
   "source": [
    "# Plot the data points which in the cluster labelled '0'\n",
    "plt.scatter(footballResults_df['For'][assignedClusters_clust.labels_==0],\n",
    "            footballResults_df['Against'][assignedClusters_clust.labels_==0],\n",
    "            color='red', marker='o', label='cluster 0')\n",
    "\n",
    "# Plot the data points which in the cluster labelled '1'\n",
    "plt.scatter(footballResults_df['For'][assignedClusters_clust.labels_==1],\n",
    "            footballResults_df['Against'][assignedClusters_clust.labels_==1],\n",
    "            color='blue', marker='o', label='cluster 1')\n",
    "\n",
    "# Plot the data points which in the cluster labelled '2'\n",
    "plt.scatter(footballResults_df['For'][assignedClusters_clust.labels_==2],\n",
    "            footballResults_df['Against'][assignedClusters_clust.labels_==2],\n",
    "            color='yellow', marker='o', label='cluster 2')\n",
    "\n",
    "# Plot the data points which in the cluster labelled '3'\n",
    "plt.scatter(footballResults_df['For'][assignedClusters_clust.labels_==3],\n",
    "            footballResults_df['Against'][assignedClusters_clust.labels_==3],\n",
    "            color='purple', marker='o', label='cluster 3')\n",
    "\n",
    "# Plot each of the centroids:\n",
    "for (cx, cy) in assignedClusters_clust.cluster_centers_:\n",
    "    plt.plot(cx, cy, color='black', marker='x', mew=1)\n",
    "\n",
    "plt.legend()\n",
    "\n",
    "plt.xlabel('Goals For')\n",
    "plt.ylabel('Goals Against')\n",
    "\n",
    "plt.title('4-means Clustering with centroids')\n",
    "\n",
    "plt.plot()"
   ]
  },
  {
   "cell_type": "markdown",
   "metadata": {},
   "source": [
    "## What next?\n",
    "\n",
    "You have now completed this Notebook. You should now be able to answer Question 3 of iCMA 46. You should expect to spend around half an hour on this iCMA question.\n",
    "\n",
    "If you are working through this Notebook as part of an inline exercise, return to the module materials now.\n",
    "\n",
    "If you are working through this set of Notebooks as a whole, move on to [`21.3 Visualising clusters with silhouette coefficients`](21.3 Visualising clusters with silhouette coefficients.ipynb)."
   ]
  }
 ],
 "metadata": {
  "kernelspec": {
   "display_name": "Python 3",
   "language": "python",
   "name": "python3"
  },
  "language_info": {
   "codemirror_mode": {
    "name": "ipython",
    "version": 3
   },
   "file_extension": ".py",
   "mimetype": "text/x-python",
   "name": "python",
   "nbconvert_exporter": "python",
   "pygments_lexer": "ipython3",
   "version": "3.5.2"
  }
 },
 "nbformat": 4,
 "nbformat_minor": 1
}
