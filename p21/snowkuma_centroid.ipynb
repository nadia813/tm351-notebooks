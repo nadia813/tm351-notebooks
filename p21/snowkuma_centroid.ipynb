{
 "cells": [
  {
   "cell_type": "markdown",
   "metadata": {},
   "source": [
    "# centroid\n"
   ]
  },
  {
   "cell_type": "code",
   "execution_count": 42,
   "metadata": {
    "collapsed": true
   },
   "outputs": [],
   "source": [
    "p1 = [4,1,14,1, 7, 8]\n",
    "p2 = [1,8,13,4, 2, 3]\n",
    "p3 = [5,13,6,14, 3, 6]\n",
    "p4 = [6,2,4,2, 21, 5]\n",
    "p5 = [11,7,6,13, -1, 5]"
   ]
  },
  {
   "cell_type": "code",
   "execution_count": 43,
   "metadata": {
    "collapsed": true
   },
   "outputs": [],
   "source": [
    "points = [p1, p2, p3, p4, p5]"
   ]
  },
  {
   "cell_type": "code",
   "execution_count": 44,
   "metadata": {
    "collapsed": true
   },
   "outputs": [],
   "source": [
    "def centroid(points):\n",
    "    res = []\n",
    "    for p in range(len(points[0])):\n",
    "        p_sum = 0\n",
    "        for d in range(len(points)):\n",
    "            p_sum += points[d][p]\n",
    "        res.append(p_sum / len(points))\n",
    "    return res\n",
    "        "
   ]
  },
  {
   "cell_type": "code",
   "execution_count": 45,
   "metadata": {},
   "outputs": [
    {
     "data": {
      "text/plain": [
       "[5.4, 6.2, 8.6, 6.8, 6.4, 5.4]"
      ]
     },
     "execution_count": 45,
     "metadata": {},
     "output_type": "execute_result"
    }
   ],
   "source": [
    "centroid(points)"
   ]
  },
  {
   "cell_type": "code",
   "execution_count": null,
   "metadata": {
    "collapsed": true
   },
   "outputs": [],
   "source": []
  }
 ],
 "metadata": {
  "kernelspec": {
   "display_name": "Python 3",
   "language": "python",
   "name": "python3"
  },
  "language_info": {
   "codemirror_mode": {
    "name": "ipython",
    "version": 3
   },
   "file_extension": ".py",
   "mimetype": "text/x-python",
   "name": "python",
   "nbconvert_exporter": "python",
   "pygments_lexer": "ipython3",
   "version": "3.5.2"
  }
 },
 "nbformat": 4,
 "nbformat_minor": 2
}
