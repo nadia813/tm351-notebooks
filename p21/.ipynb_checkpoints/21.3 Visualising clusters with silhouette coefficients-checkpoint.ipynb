{
 "cells": [
  {
   "cell_type": "markdown",
   "metadata": {},
   "source": [
    "# Visualising clusters with silhouette coefficients"
   ]
  },
  {
   "cell_type": "markdown",
   "metadata": {},
   "source": [
    "In this Notebook you will see how different clusterings can be visualised with silhouette plots.\n",
    "\n",
    "You should spend approximately an hour and ten minutes on this Notebook, and around 20 minutes on the iCMA question referenced at the end of the Notebook."
   ]
  },
  {
   "cell_type": "code",
   "execution_count": 1,
   "metadata": {
    "code_folding": [],
    "collapsed": true
   },
   "outputs": [],
   "source": [
    "# Standard imports\n",
    "\n",
    "import pandas as pd\n",
    "\n",
    "import matplotlib.pyplot as plt\n",
    "import seaborn as sns\n",
    "\n",
    "from sklearn.cluster import KMeans"
   ]
  },
  {
   "cell_type": "markdown",
   "metadata": {},
   "source": [
    "In the module materials we have discussed how silhouette coefficients can be used to visualise clusterings. In this Notebook we will look at how to use the library functions to find a dataset's silhouette coefficients, and how the properties of that dataset affect the silhouette plot."
   ]
  },
  {
   "cell_type": "markdown",
   "metadata": {},
   "source": [
    "To get an idea of how the silhouette coefficients might work in practice, let's have a look at how they might apply to some made-up data. First of all, note that the definition of the silhouette coefficient from Section 2.5 can be rewritten as:\n",
    "\n",
    "$$ s(i)=\\frac{b(i)-a(i)}{\\text{MAX}\\big(a(i), b(i)\\big)} $$\n",
    "\n",
    "where $a(i)$ is the average distance from the point $i$ to the points in the same cluster, and $b(i)$ is the average distance from the point $i$ to the points in the other clusters."
   ]
  },
  {
   "cell_type": "markdown",
   "metadata": {},
   "source": [
    "The `sklearn` library contains a built-in silhouette function, so we shall use that:"
   ]
  },
  {
   "cell_type": "code",
   "execution_count": 2,
   "metadata": {
    "collapsed": true
   },
   "outputs": [],
   "source": [
    "from sklearn.metrics import silhouette_samples"
   ]
  },
  {
   "cell_type": "markdown",
   "metadata": {},
   "source": [
    "Now, to try out the `silhouette_samples` function, we'll need some data. \n",
    "\n",
    "Some (made-up) illustrative data is in the file `data/silhouetteExampleData1.csv`. This file contains a set of points in 2-dimensional space, where each point has been placed into a cluster `A`, `B` or `C`.\n"
   ]
  },
  {
   "cell_type": "code",
   "execution_count": 3,
   "metadata": {},
   "outputs": [
    {
     "data": {
      "text/html": [
       "<div>\n",
       "<style>\n",
       "    .dataframe thead tr:only-child th {\n",
       "        text-align: right;\n",
       "    }\n",
       "\n",
       "    .dataframe thead th {\n",
       "        text-align: left;\n",
       "    }\n",
       "\n",
       "    .dataframe tbody tr th {\n",
       "        vertical-align: top;\n",
       "    }\n",
       "</style>\n",
       "<table border=\"1\" class=\"dataframe\">\n",
       "  <thead>\n",
       "    <tr style=\"text-align: right;\">\n",
       "      <th></th>\n",
       "      <th>X</th>\n",
       "      <th>Y</th>\n",
       "      <th>cluster</th>\n",
       "    </tr>\n",
       "  </thead>\n",
       "  <tbody>\n",
       "    <tr>\n",
       "      <th>0</th>\n",
       "      <td>47.960664</td>\n",
       "      <td>62.148807</td>\n",
       "      <td>C</td>\n",
       "    </tr>\n",
       "    <tr>\n",
       "      <th>1</th>\n",
       "      <td>21.665208</td>\n",
       "      <td>36.356117</td>\n",
       "      <td>A</td>\n",
       "    </tr>\n",
       "    <tr>\n",
       "      <th>2</th>\n",
       "      <td>47.286718</td>\n",
       "      <td>66.189507</td>\n",
       "      <td>C</td>\n",
       "    </tr>\n",
       "    <tr>\n",
       "      <th>3</th>\n",
       "      <td>78.749442</td>\n",
       "      <td>30.592090</td>\n",
       "      <td>B</td>\n",
       "    </tr>\n",
       "    <tr>\n",
       "      <th>4</th>\n",
       "      <td>47.164989</td>\n",
       "      <td>66.744426</td>\n",
       "      <td>C</td>\n",
       "    </tr>\n",
       "  </tbody>\n",
       "</table>\n",
       "</div>"
      ],
      "text/plain": [
       "           X          Y cluster\n",
       "0  47.960664  62.148807       C\n",
       "1  21.665208  36.356117       A\n",
       "2  47.286718  66.189507       C\n",
       "3  78.749442  30.592090       B\n",
       "4  47.164989  66.744426       C"
      ]
     },
     "execution_count": 3,
     "metadata": {},
     "output_type": "execute_result"
    }
   ],
   "source": [
    "silhouetteExampleData1_df = pd.read_csv('data/silhouetteExampleData1.csv')\n",
    "\n",
    "silhouetteExampleData1_df.head()"
   ]
  },
  {
   "cell_type": "markdown",
   "metadata": {},
   "source": [
    "To see what this data looks like, we can just plot it as a scatter diagram. To make it easier to see how the different clusters are coloured, we can define a colour map at the beginning of the cell, so that each cluster is associated with a particular colour:"
   ]
  },
  {
   "cell_type": "code",
   "execution_count": 4,
   "metadata": {},
   "outputs": [
    {
     "data": {
      "text/plain": [
       "<matplotlib.text.Text at 0x7fa212d31518>"
      ]
     },
     "execution_count": 4,
     "metadata": {},
     "output_type": "execute_result"
    },
    {
     "data": {
      "image/png": "[encoded data removed]",
      "text/plain": [
       "<matplotlib.figure.Figure at 0x7fa212d66748>"
      ]
     },
     "metadata": {},
     "output_type": "display_data"
    }
   ],
   "source": [
    "colourMap_dict = {'A':'red',\n",
    "                  'B':'blue',\n",
    "                  'C':'lightGreen'}\n",
    "\n",
    "# We can then loop through the different clusters:\n",
    "for cluster in set(silhouetteExampleData1_df['cluster']):\n",
    "    \n",
    "    plt.scatter(silhouetteExampleData1_df['X'][silhouetteExampleData1_df['cluster']==cluster],\n",
    "                silhouetteExampleData1_df['Y'][silhouetteExampleData1_df['cluster']==cluster],\n",
    "                color=colourMap_dict[cluster], label='Cluster ' + cluster\n",
    "               )\n",
    "\n",
    "plt.legend()\n",
    "\n",
    "plt.xlabel('X')\n",
    "plt.ylabel('Y')\n",
    "\n",
    "plt.title('Scatter plot of first dataset')"
   ]
  },
  {
   "cell_type": "markdown",
   "metadata": {},
   "source": [
    "For this dataset, you can see that the data forms three very distinct, highly separated clusters.\n",
    "\n",
    "We can use the in-built function `silhouette_samples` to find the silhouette coefficient for each of the data points. The function is called with:\n",
    "\n",
    "    silhouette_samples(dataframe, clusters_array)\n",
    "    \n",
    "where `dataframe` is a DataFrame containing the data, and `clusters_array` is an `np.array` of the clusters to which each data point is assigned:"
   ]
  },
  {
   "cell_type": "code",
   "execution_count": 5,
   "metadata": {},
   "outputs": [
    {
     "data": {
      "text/html": [
       "<div>\n",
       "<style>\n",
       "    .dataframe thead tr:only-child th {\n",
       "        text-align: right;\n",
       "    }\n",
       "\n",
       "    .dataframe thead th {\n",
       "        text-align: left;\n",
       "    }\n",
       "\n",
       "    .dataframe tbody tr th {\n",
       "        vertical-align: top;\n",
       "    }\n",
       "</style>\n",
       "<table border=\"1\" class=\"dataframe\">\n",
       "  <thead>\n",
       "    <tr style=\"text-align: right;\">\n",
       "      <th></th>\n",
       "      <th>X</th>\n",
       "      <th>Y</th>\n",
       "      <th>cluster</th>\n",
       "      <th>silhouette</th>\n",
       "    </tr>\n",
       "  </thead>\n",
       "  <tbody>\n",
       "    <tr>\n",
       "      <th>0</th>\n",
       "      <td>47.960664</td>\n",
       "      <td>62.148807</td>\n",
       "      <td>C</td>\n",
       "      <td>0.868199</td>\n",
       "    </tr>\n",
       "    <tr>\n",
       "      <th>1</th>\n",
       "      <td>21.665208</td>\n",
       "      <td>36.356117</td>\n",
       "      <td>A</td>\n",
       "      <td>0.882912</td>\n",
       "    </tr>\n",
       "    <tr>\n",
       "      <th>2</th>\n",
       "      <td>47.286718</td>\n",
       "      <td>66.189507</td>\n",
       "      <td>C</td>\n",
       "      <td>0.883629</td>\n",
       "    </tr>\n",
       "    <tr>\n",
       "      <th>3</th>\n",
       "      <td>78.749442</td>\n",
       "      <td>30.592090</td>\n",
       "      <td>B</td>\n",
       "      <td>0.849478</td>\n",
       "    </tr>\n",
       "    <tr>\n",
       "      <th>4</th>\n",
       "      <td>47.164989</td>\n",
       "      <td>66.744426</td>\n",
       "      <td>C</td>\n",
       "      <td>0.878176</td>\n",
       "    </tr>\n",
       "  </tbody>\n",
       "</table>\n",
       "</div>"
      ],
      "text/plain": [
       "           X          Y cluster  silhouette\n",
       "0  47.960664  62.148807       C    0.868199\n",
       "1  21.665208  36.356117       A    0.882912\n",
       "2  47.286718  66.189507       C    0.883629\n",
       "3  78.749442  30.592090       B    0.849478\n",
       "4  47.164989  66.744426       C    0.878176"
      ]
     },
     "execution_count": 5,
     "metadata": {},
     "output_type": "execute_result"
    }
   ],
   "source": [
    "# Add the silhouette coefficients as a new column in the\n",
    "# silhouetteExampleData1_df DataFrame:\n",
    "silhouetteExampleData1_df['silhouette'] = silhouette_samples(silhouetteExampleData1_df[['X', 'Y']],\n",
    "                                                             np.array(silhouetteExampleData1_df['cluster']))\n",
    "\n",
    "silhouetteExampleData1_df.head()"
   ]
  },
  {
   "cell_type": "markdown",
   "metadata": {},
   "source": [
    "**Note:** The second argument of `silhouette_samples` *must* be an `np.array`, not a Python `list`, a `pandas.Series` or a `pandas.Dataframe`. This is unusual: in most cases with *pandas*, it is possible to use a *pandas* Series instead of an array, but in this case the clusters must be provided as an array."
   ]
  },
  {
   "cell_type": "markdown",
   "metadata": {},
   "source": [
    "We can now plot the silhouette data as a bar chart. We will use the same colour map as for the scatter plot, to be able to see which cluster matches which silhouette."
   ]
  },
  {
   "cell_type": "code",
   "execution_count": 6,
   "metadata": {},
   "outputs": [
    {
     "data": {
      "text/plain": [
       "(0, 1.2)"
      ]
     },
     "execution_count": 6,
     "metadata": {},
     "output_type": "execute_result"
    },
    {
     "data": {
      "image/png": "[encoded data removed]",
      "text/plain": [
       "<matplotlib.figure.Figure at 0x7fa212d17898>"
      ]
     },
     "metadata": {},
     "output_type": "display_data"
    }
   ],
   "source": [
    "# Sort the DataFrame so we see the curve as in the module materials\n",
    "silhouettePlotData1_df = silhouetteExampleData1_df.sort_values(['cluster', 'silhouette'])\n",
    "silhouettePlotData1_df.index = list(range(len(silhouetteExampleData1_df)))\n",
    "\n",
    "for cluster in set(silhouettePlotData1_df['cluster']):\n",
    "    plt.bar(silhouettePlotData1_df[silhouettePlotData1_df['cluster']==cluster].index,\n",
    "            silhouettePlotData1_df[silhouettePlotData1_df['cluster']==cluster]['silhouette'], \n",
    "            color=colourMap_dict[cluster], label='Cluster ' + cluster)\n",
    "\n",
    "plt.title('Silhouette plot of first dataset')\n",
    "\n",
    "plt.legend()\n",
    "\n",
    "plt.xlabel('Number of data point')\n",
    "plt.ylabel('Silhouette coefficient')\n",
    "\n",
    "plt.ylim((0, 1.2))"
   ]
  },
  {
   "cell_type": "markdown",
   "metadata": {},
   "source": [
    "In this case the three blocks are of equal sizes, showing that there are the same number of points in each cluster. The values are generally high (between 0.8 and 1), suggesting that the clustering is quite tight."
   ]
  },
  {
   "cell_type": "markdown",
   "metadata": {},
   "source": [
    "What if there's a greater spread among the points? Let's look at a second dataset, in which there is a greater spread among the data points. The second data set is in the file `data/silhouetteExampleData2.csv`."
   ]
  },
  {
   "cell_type": "markdown",
   "metadata": {},
   "source": [
    "Let's import the data and plot it as a scatter diagram:"
   ]
  },
  {
   "cell_type": "code",
   "execution_count": 7,
   "metadata": {},
   "outputs": [
    {
     "data": {
      "text/html": [
       "<div>\n",
       "<style>\n",
       "    .dataframe thead tr:only-child th {\n",
       "        text-align: right;\n",
       "    }\n",
       "\n",
       "    .dataframe thead th {\n",
       "        text-align: left;\n",
       "    }\n",
       "\n",
       "    .dataframe tbody tr th {\n",
       "        vertical-align: top;\n",
       "    }\n",
       "</style>\n",
       "<table border=\"1\" class=\"dataframe\">\n",
       "  <thead>\n",
       "    <tr style=\"text-align: right;\">\n",
       "      <th></th>\n",
       "      <th>X</th>\n",
       "      <th>Y</th>\n",
       "      <th>cluster</th>\n",
       "    </tr>\n",
       "  </thead>\n",
       "  <tbody>\n",
       "    <tr>\n",
       "      <th>0</th>\n",
       "      <td>46.744289</td>\n",
       "      <td>61.198648</td>\n",
       "      <td>C</td>\n",
       "    </tr>\n",
       "    <tr>\n",
       "      <th>1</th>\n",
       "      <td>42.367320</td>\n",
       "      <td>60.973159</td>\n",
       "      <td>C</td>\n",
       "    </tr>\n",
       "    <tr>\n",
       "      <th>2</th>\n",
       "      <td>57.687492</td>\n",
       "      <td>65.373111</td>\n",
       "      <td>C</td>\n",
       "    </tr>\n",
       "    <tr>\n",
       "      <th>3</th>\n",
       "      <td>85.631036</td>\n",
       "      <td>34.063463</td>\n",
       "      <td>B</td>\n",
       "    </tr>\n",
       "    <tr>\n",
       "      <th>4</th>\n",
       "      <td>32.847252</td>\n",
       "      <td>31.071468</td>\n",
       "      <td>A</td>\n",
       "    </tr>\n",
       "  </tbody>\n",
       "</table>\n",
       "</div>"
      ],
      "text/plain": [
       "           X          Y cluster\n",
       "0  46.744289  61.198648       C\n",
       "1  42.367320  60.973159       C\n",
       "2  57.687492  65.373111       C\n",
       "3  85.631036  34.063463       B\n",
       "4  32.847252  31.071468       A"
      ]
     },
     "execution_count": 7,
     "metadata": {},
     "output_type": "execute_result"
    }
   ],
   "source": [
    "silhouetteExampleData2_df = pd.read_csv('data/silhouetteExampleData2.csv')\n",
    "\n",
    "silhouetteExampleData2_df.head()"
   ]
  },
  {
   "cell_type": "markdown",
   "metadata": {},
   "source": [
    "As last time, we can plot the points on a two-dimensional graph:"
   ]
  },
  {
   "cell_type": "code",
   "execution_count": 8,
   "metadata": {},
   "outputs": [
    {
     "data": {
      "text/plain": [
       "<matplotlib.text.Text at 0x7fa20f2bd358>"
      ]
     },
     "execution_count": 8,
     "metadata": {},
     "output_type": "execute_result"
    },
    {
     "data": {
      "image/png": "[encoded data removed]",
      "text/plain": [
       "<matplotlib.figure.Figure at 0x7fa20f439b38>"
      ]
     },
     "metadata": {},
     "output_type": "display_data"
    }
   ],
   "source": [
    "# And plot a scatterplot of each differently classified\n",
    "# set of points.\n",
    "colourMap_dict = {'A':'red',\n",
    "                  'B':'blue',\n",
    "                'C':'lightGreen'}\n",
    "\n",
    "# We can then loop through the different clusters:\n",
    "for cluster in set(silhouetteExampleData2_df['cluster']):\n",
    "    \n",
    "    plt.scatter(silhouetteExampleData2_df['X'][silhouetteExampleData2_df['cluster']==cluster],\n",
    "                silhouetteExampleData2_df['Y'][silhouetteExampleData2_df['cluster']==cluster],\n",
    "                color=colourMap_dict[cluster], label='Cluster ' + cluster\n",
    "               )\n",
    "\n",
    "plt.legend()\n",
    "\n",
    "plt.xlabel('X')\n",
    "plt.ylabel('Y')\n",
    "\n",
    "plt.title('Scatter plot of second dataset')   "
   ]
  },
  {
   "cell_type": "markdown",
   "metadata": {},
   "source": [
    "In this case, the points are more spread out than they were in the previous plot. How does that affect the silhouette plot?"
   ]
  },
  {
   "cell_type": "code",
   "execution_count": 9,
   "metadata": {},
   "outputs": [
    {
     "data": {
      "text/html": [
       "<div>\n",
       "<style>\n",
       "    .dataframe thead tr:only-child th {\n",
       "        text-align: right;\n",
       "    }\n",
       "\n",
       "    .dataframe thead th {\n",
       "        text-align: left;\n",
       "    }\n",
       "\n",
       "    .dataframe tbody tr th {\n",
       "        vertical-align: top;\n",
       "    }\n",
       "</style>\n",
       "<table border=\"1\" class=\"dataframe\">\n",
       "  <thead>\n",
       "    <tr style=\"text-align: right;\">\n",
       "      <th></th>\n",
       "      <th>X</th>\n",
       "      <th>Y</th>\n",
       "      <th>cluster</th>\n",
       "      <th>silhouette</th>\n",
       "    </tr>\n",
       "  </thead>\n",
       "  <tbody>\n",
       "    <tr>\n",
       "      <th>0</th>\n",
       "      <td>46.744289</td>\n",
       "      <td>61.198648</td>\n",
       "      <td>C</td>\n",
       "      <td>0.746658</td>\n",
       "    </tr>\n",
       "    <tr>\n",
       "      <th>1</th>\n",
       "      <td>42.367320</td>\n",
       "      <td>60.973159</td>\n",
       "      <td>C</td>\n",
       "      <td>0.667646</td>\n",
       "    </tr>\n",
       "    <tr>\n",
       "      <th>2</th>\n",
       "      <td>57.687492</td>\n",
       "      <td>65.373111</td>\n",
       "      <td>C</td>\n",
       "      <td>0.679763</td>\n",
       "    </tr>\n",
       "    <tr>\n",
       "      <th>3</th>\n",
       "      <td>85.631036</td>\n",
       "      <td>34.063463</td>\n",
       "      <td>B</td>\n",
       "      <td>0.712575</td>\n",
       "    </tr>\n",
       "    <tr>\n",
       "      <th>4</th>\n",
       "      <td>32.847252</td>\n",
       "      <td>31.071468</td>\n",
       "      <td>A</td>\n",
       "      <td>0.704021</td>\n",
       "    </tr>\n",
       "  </tbody>\n",
       "</table>\n",
       "</div>"
      ],
      "text/plain": [
       "           X          Y cluster  silhouette\n",
       "0  46.744289  61.198648       C    0.746658\n",
       "1  42.367320  60.973159       C    0.667646\n",
       "2  57.687492  65.373111       C    0.679763\n",
       "3  85.631036  34.063463       B    0.712575\n",
       "4  32.847252  31.071468       A    0.704021"
      ]
     },
     "execution_count": 9,
     "metadata": {},
     "output_type": "execute_result"
    }
   ],
   "source": [
    "silhouetteExampleData2_df['silhouette'] = silhouette_samples(silhouetteExampleData2_df[['X', 'Y']],\n",
    "                                                             np.array(silhouetteExampleData2_df['cluster']))\n",
    "\n",
    "silhouetteExampleData2_df.head()"
   ]
  },
  {
   "cell_type": "code",
   "execution_count": 10,
   "metadata": {},
   "outputs": [
    {
     "data": {
      "text/plain": [
       "(0, 1.1)"
      ]
     },
     "execution_count": 10,
     "metadata": {},
     "output_type": "execute_result"
    },
    {
     "data": {
      "image/png": "[encoded data removed]",
      "text/plain": [
       "<matplotlib.figure.Figure at 0x7fa20f27b438>"
      ]
     },
     "metadata": {},
     "output_type": "display_data"
    }
   ],
   "source": [
    "# Sort the DataFrame so we see the curve as in the module materials\n",
    "silhouettePlotData2_df = silhouetteExampleData2_df.sort_values(['cluster', 'silhouette'])\n",
    "silhouettePlotData2_df.index = list(range(len(silhouetteExampleData2_df)))\n",
    "\n",
    "for cluster in set(silhouettePlotData2_df['cluster']):\n",
    "    plt.bar(silhouettePlotData2_df[silhouettePlotData2_df['cluster']==cluster].index,\n",
    "            silhouettePlotData2_df[silhouettePlotData2_df['cluster']==cluster]['silhouette'], \n",
    "            color=colourMap_dict[cluster], label='Cluster ' + cluster)\n",
    "\n",
    "plt.title('Silhouette plot of second dataset')\n",
    "\n",
    "plt.xlabel('Number of data point')\n",
    "plt.ylabel('Silhouette coefficient')\n",
    "\n",
    "plt.legend()\n",
    "\n",
    "plt.ylim((0, 1.1))"
   ]
  },
  {
   "cell_type": "markdown",
   "metadata": {},
   "source": [
    "The three sets of bars are equally sized, as in the first case. This shows again that the three clusters each contain the same number of points. However, in this case the coefficients are much lower, ranging from about 0.3 to about 0.8. This shows that in this case the ratio of the cluster cohesion (how close together the points in the cluster are) to the cluster separation (how far apart the clusters are) is much smaller than for the first dataset."
   ]
  },
  {
   "cell_type": "markdown",
   "metadata": {
    "collapsed": true
   },
   "source": [
    "An even more extreme case is where there is overlap between the different clusters. This is illustrated in the data contained in the file `data/silhouetteExampleData3.csv`."
   ]
  },
  {
   "cell_type": "code",
   "execution_count": 11,
   "metadata": {},
   "outputs": [
    {
     "data": {
      "text/html": [
       "<div>\n",
       "<style>\n",
       "    .dataframe thead tr:only-child th {\n",
       "        text-align: right;\n",
       "    }\n",
       "\n",
       "    .dataframe thead th {\n",
       "        text-align: left;\n",
       "    }\n",
       "\n",
       "    .dataframe tbody tr th {\n",
       "        vertical-align: top;\n",
       "    }\n",
       "</style>\n",
       "<table border=\"1\" class=\"dataframe\">\n",
       "  <thead>\n",
       "    <tr style=\"text-align: right;\">\n",
       "      <th></th>\n",
       "      <th>X</th>\n",
       "      <th>Y</th>\n",
       "      <th>cluster</th>\n",
       "    </tr>\n",
       "  </thead>\n",
       "  <tbody>\n",
       "    <tr>\n",
       "      <th>0</th>\n",
       "      <td>20.776569</td>\n",
       "      <td>25.272324</td>\n",
       "      <td>A</td>\n",
       "    </tr>\n",
       "    <tr>\n",
       "      <th>1</th>\n",
       "      <td>37.522266</td>\n",
       "      <td>31.841936</td>\n",
       "      <td>A</td>\n",
       "    </tr>\n",
       "    <tr>\n",
       "      <th>2</th>\n",
       "      <td>52.965239</td>\n",
       "      <td>28.286296</td>\n",
       "      <td>A</td>\n",
       "    </tr>\n",
       "    <tr>\n",
       "      <th>3</th>\n",
       "      <td>52.151456</td>\n",
       "      <td>60.306102</td>\n",
       "      <td>C</td>\n",
       "    </tr>\n",
       "    <tr>\n",
       "      <th>4</th>\n",
       "      <td>35.564021</td>\n",
       "      <td>33.697903</td>\n",
       "      <td>A</td>\n",
       "    </tr>\n",
       "  </tbody>\n",
       "</table>\n",
       "</div>"
      ],
      "text/plain": [
       "           X          Y cluster\n",
       "0  20.776569  25.272324       A\n",
       "1  37.522266  31.841936       A\n",
       "2  52.965239  28.286296       A\n",
       "3  52.151456  60.306102       C\n",
       "4  35.564021  33.697903       A"
      ]
     },
     "execution_count": 11,
     "metadata": {},
     "output_type": "execute_result"
    }
   ],
   "source": [
    "silhouetteExampleData3_df = pd.read_csv('data/silhouetteExampleData3.csv')\n",
    "\n",
    "silhouetteExampleData3_df.head()"
   ]
  },
  {
   "cell_type": "code",
   "execution_count": 12,
   "metadata": {},
   "outputs": [
    {
     "data": {
      "text/plain": [
       "<matplotlib.text.Text at 0x7fa20f06add8>"
      ]
     },
     "execution_count": 12,
     "metadata": {},
     "output_type": "execute_result"
    },
    {
     "data": {
      "image/png": "[encoded data removed]",
      "text/plain": [
       "<matplotlib.figure.Figure at 0x7fa20f1fea20>"
      ]
     },
     "metadata": {},
     "output_type": "display_data"
    }
   ],
   "source": [
    "# And plot a scatterplot of each differently classified\n",
    "# set of points.\n",
    "colourMap_dict = {'A':'red',\n",
    "                  'B':'blue',\n",
    "                  'C':'lightGreen'}\n",
    "\n",
    "# We can then loop through the different clusters:\n",
    "for cluster in set(silhouetteExampleData3_df['cluster']):\n",
    "    \n",
    "    plt.scatter(silhouetteExampleData3_df['X'][silhouetteExampleData3_df['cluster']==cluster],\n",
    "                silhouetteExampleData3_df['Y'][silhouetteExampleData3_df['cluster']==cluster],\n",
    "                color=colourMap_dict[cluster], label='Cluster ' + cluster\n",
    "               )\n",
    "\n",
    "plt.legend()\n",
    "\n",
    "plt.xlabel('X')\n",
    "plt.ylabel('Y')\n",
    "\n",
    "plt.title('Scatter plot of third dataset')"
   ]
  },
  {
   "cell_type": "markdown",
   "metadata": {},
   "source": [
    "As before, we can plot the silhouette coefficients:"
   ]
  },
  {
   "cell_type": "code",
   "execution_count": 13,
   "metadata": {},
   "outputs": [
    {
     "data": {
      "text/html": [
       "<div>\n",
       "<style>\n",
       "    .dataframe thead tr:only-child th {\n",
       "        text-align: right;\n",
       "    }\n",
       "\n",
       "    .dataframe thead th {\n",
       "        text-align: left;\n",
       "    }\n",
       "\n",
       "    .dataframe tbody tr th {\n",
       "        vertical-align: top;\n",
       "    }\n",
       "</style>\n",
       "<table border=\"1\" class=\"dataframe\">\n",
       "  <thead>\n",
       "    <tr style=\"text-align: right;\">\n",
       "      <th></th>\n",
       "      <th>X</th>\n",
       "      <th>Y</th>\n",
       "      <th>cluster</th>\n",
       "      <th>silhouette</th>\n",
       "    </tr>\n",
       "  </thead>\n",
       "  <tbody>\n",
       "    <tr>\n",
       "      <th>0</th>\n",
       "      <td>20.776569</td>\n",
       "      <td>25.272324</td>\n",
       "      <td>A</td>\n",
       "      <td>0.552809</td>\n",
       "    </tr>\n",
       "    <tr>\n",
       "      <th>1</th>\n",
       "      <td>37.522266</td>\n",
       "      <td>31.841936</td>\n",
       "      <td>A</td>\n",
       "      <td>0.353429</td>\n",
       "    </tr>\n",
       "    <tr>\n",
       "      <th>2</th>\n",
       "      <td>52.965239</td>\n",
       "      <td>28.286296</td>\n",
       "      <td>A</td>\n",
       "      <td>-0.164909</td>\n",
       "    </tr>\n",
       "    <tr>\n",
       "      <th>3</th>\n",
       "      <td>52.151456</td>\n",
       "      <td>60.306102</td>\n",
       "      <td>C</td>\n",
       "      <td>0.498732</td>\n",
       "    </tr>\n",
       "    <tr>\n",
       "      <th>4</th>\n",
       "      <td>35.564021</td>\n",
       "      <td>33.697903</td>\n",
       "      <td>A</td>\n",
       "      <td>0.367012</td>\n",
       "    </tr>\n",
       "  </tbody>\n",
       "</table>\n",
       "</div>"
      ],
      "text/plain": [
       "           X          Y cluster  silhouette\n",
       "0  20.776569  25.272324       A    0.552809\n",
       "1  37.522266  31.841936       A    0.353429\n",
       "2  52.965239  28.286296       A   -0.164909\n",
       "3  52.151456  60.306102       C    0.498732\n",
       "4  35.564021  33.697903       A    0.367012"
      ]
     },
     "execution_count": 13,
     "metadata": {},
     "output_type": "execute_result"
    }
   ],
   "source": [
    "silhouetteExampleData3_df['silhouette'] = silhouette_samples(silhouetteExampleData3_df[['X', 'Y']],\n",
    "                                                             np.array(silhouetteExampleData3_df['cluster']))\n",
    "\n",
    "silhouetteExampleData3_df.head()"
   ]
  },
  {
   "cell_type": "code",
   "execution_count": 14,
   "metadata": {},
   "outputs": [
    {
     "data": {
      "text/plain": [
       "(-1, 1)"
      ]
     },
     "execution_count": 14,
     "metadata": {},
     "output_type": "execute_result"
    },
    {
     "data": {
      "image/png": "[encoded data removed]",
      "text/plain": [
       "<matplotlib.figure.Figure at 0x7fa20f0c34a8>"
      ]
     },
     "metadata": {},
     "output_type": "display_data"
    }
   ],
   "source": [
    "# Sort the DataFrame so we see the curve as in the module materials\n",
    "silhouettePlotData3_df = silhouetteExampleData3_df.sort_values(['cluster', 'silhouette'])\n",
    "silhouettePlotData3_df.index = list(range(len(silhouetteExampleData3_df)))\n",
    "\n",
    "for cluster in set(silhouettePlotData3_df['cluster']):\n",
    "    plt.bar(silhouettePlotData3_df[silhouettePlotData3_df['cluster']==cluster].index,\n",
    "            silhouettePlotData3_df[silhouettePlotData3_df['cluster']==cluster]['silhouette'], \n",
    "            color=colourMap_dict[cluster], label='Cluster ' + cluster)\n",
    "\n",
    "plt.title('Silhouette plot of third dataset')\n",
    "\n",
    "plt.xlabel('Number of data point')\n",
    "plt.ylabel('Silhouette coefficient')\n",
    "\n",
    "plt.legend()\n",
    "\n",
    "plt.ylim((-1, 1))"
   ]
  },
  {
   "cell_type": "markdown",
   "metadata": {},
   "source": [
    "In this case you can see that for each cluster there are several values which drop below zero. These cases are where the distance from the point to the centroid of its own cluster is greater than the distance to the nearest neighbouring cluster. This is the overlap seen on the scatterplot, and when negative values can be seen on a silhouette plot this indicates the overlap between the different clusters."
   ]
  },
  {
   "cell_type": "markdown",
   "metadata": {},
   "source": [
    "## Silhouette plots on clustering the wholesale dataset"
   ]
  },
  {
   "cell_type": "markdown",
   "metadata": {},
   "source": [
    "Now, let's have a look at some real data. Let's go back to the wholesale dataset and see what the silhouette plots look like, if we try applying *k*-means clustering to that dataset."
   ]
  },
  {
   "cell_type": "code",
   "execution_count": 15,
   "metadata": {},
   "outputs": [
    {
     "data": {
      "text/html": [
       "<div>\n",
       "<style>\n",
       "    .dataframe thead tr:only-child th {\n",
       "        text-align: right;\n",
       "    }\n",
       "\n",
       "    .dataframe thead th {\n",
       "        text-align: left;\n",
       "    }\n",
       "\n",
       "    .dataframe tbody tr th {\n",
       "        vertical-align: top;\n",
       "    }\n",
       "</style>\n",
       "<table border=\"1\" class=\"dataframe\">\n",
       "  <thead>\n",
       "    <tr style=\"text-align: right;\">\n",
       "      <th></th>\n",
       "      <th>Channel</th>\n",
       "      <th>Region</th>\n",
       "      <th>Fresh</th>\n",
       "      <th>Milk</th>\n",
       "      <th>Grocery</th>\n",
       "      <th>Frozen</th>\n",
       "      <th>Detergents_Paper</th>\n",
       "      <th>Delicatessen</th>\n",
       "    </tr>\n",
       "  </thead>\n",
       "  <tbody>\n",
       "    <tr>\n",
       "      <th>0</th>\n",
       "      <td>Retail</td>\n",
       "      <td>Other</td>\n",
       "      <td>12669</td>\n",
       "      <td>9656</td>\n",
       "      <td>7561</td>\n",
       "      <td>214</td>\n",
       "      <td>2674</td>\n",
       "      <td>1338</td>\n",
       "    </tr>\n",
       "    <tr>\n",
       "      <th>1</th>\n",
       "      <td>Retail</td>\n",
       "      <td>Other</td>\n",
       "      <td>7057</td>\n",
       "      <td>9810</td>\n",
       "      <td>9568</td>\n",
       "      <td>1762</td>\n",
       "      <td>3293</td>\n",
       "      <td>1776</td>\n",
       "    </tr>\n",
       "    <tr>\n",
       "      <th>2</th>\n",
       "      <td>Retail</td>\n",
       "      <td>Other</td>\n",
       "      <td>6353</td>\n",
       "      <td>8808</td>\n",
       "      <td>7684</td>\n",
       "      <td>2405</td>\n",
       "      <td>3516</td>\n",
       "      <td>7844</td>\n",
       "    </tr>\n",
       "    <tr>\n",
       "      <th>3</th>\n",
       "      <td>Horeca</td>\n",
       "      <td>Other</td>\n",
       "      <td>13265</td>\n",
       "      <td>1196</td>\n",
       "      <td>4221</td>\n",
       "      <td>6404</td>\n",
       "      <td>507</td>\n",
       "      <td>1788</td>\n",
       "    </tr>\n",
       "    <tr>\n",
       "      <th>4</th>\n",
       "      <td>Retail</td>\n",
       "      <td>Other</td>\n",
       "      <td>22615</td>\n",
       "      <td>5410</td>\n",
       "      <td>7198</td>\n",
       "      <td>3915</td>\n",
       "      <td>1777</td>\n",
       "      <td>5185</td>\n",
       "    </tr>\n",
       "  </tbody>\n",
       "</table>\n",
       "</div>"
      ],
      "text/plain": [
       "  Channel Region  Fresh  Milk  Grocery  Frozen  Detergents_Paper  Delicatessen\n",
       "0  Retail  Other  12669  9656     7561     214              2674          1338\n",
       "1  Retail  Other   7057  9810     9568    1762              3293          1776\n",
       "2  Retail  Other   6353  8808     7684    2405              3516          7844\n",
       "3  Horeca  Other  13265  1196     4221    6404               507          1788\n",
       "4  Retail  Other  22615  5410     7198    3915              1777          5185"
      ]
     },
     "execution_count": 15,
     "metadata": {},
     "output_type": "execute_result"
    }
   ],
   "source": [
    "wholesaleData_df = pd.read_csv('data/Wholesale customers data full.csv')\n",
    "wholesaleData_df.head()"
   ]
  },
  {
   "cell_type": "markdown",
   "metadata": {},
   "source": [
    "We can try clustering on the 6 numerical features. First, try *k*-means with *k*=3."
   ]
  },
  {
   "cell_type": "code",
   "execution_count": 16,
   "metadata": {
    "collapsed": true
   },
   "outputs": [],
   "source": [
    "# Run k-means algorithm on the data\n",
    "\n",
    "# Select only the features that we actually want to cluster on:\n",
    "wholesaleNumericData_df = wholesaleData_df[['Fresh',\n",
    "                                            'Milk',\n",
    "                                            'Grocery',\n",
    "                                            'Frozen',\n",
    "                                            'Detergents_Paper',\n",
    "                                            'Delicatessen']]\n",
    "\n",
    "# Then, create an instance of the clusterer\n",
    "kmeans3 = KMeans(n_clusters=3)\n",
    "assignedClusters = kmeans3.fit(wholesaleNumericData_df)"
   ]
  },
  {
   "cell_type": "markdown",
   "metadata": {
    "code_folding": []
   },
   "source": [
    "We can now use the clusters from `assignedClusters` to calculate the silhouette coefficients. We can store the assigned cluster and the silhouette coefficient for each point in a DataFrame:"
   ]
  },
  {
   "cell_type": "code",
   "execution_count": 17,
   "metadata": {},
   "outputs": [
    {
     "data": {
      "text/html": [
       "<div>\n",
       "<style>\n",
       "    .dataframe thead tr:only-child th {\n",
       "        text-align: right;\n",
       "    }\n",
       "\n",
       "    .dataframe thead th {\n",
       "        text-align: left;\n",
       "    }\n",
       "\n",
       "    .dataframe tbody tr th {\n",
       "        vertical-align: top;\n",
       "    }\n",
       "</style>\n",
       "<table border=\"1\" class=\"dataframe\">\n",
       "  <thead>\n",
       "    <tr style=\"text-align: right;\">\n",
       "      <th></th>\n",
       "      <th>cluster</th>\n",
       "      <th>silhouette</th>\n",
       "    </tr>\n",
       "  </thead>\n",
       "  <tbody>\n",
       "    <tr>\n",
       "      <th>0</th>\n",
       "      <td>0</td>\n",
       "      <td>0.569772</td>\n",
       "    </tr>\n",
       "    <tr>\n",
       "      <th>1</th>\n",
       "      <td>0</td>\n",
       "      <td>0.535501</td>\n",
       "    </tr>\n",
       "    <tr>\n",
       "      <th>2</th>\n",
       "      <td>0</td>\n",
       "      <td>0.535815</td>\n",
       "    </tr>\n",
       "    <tr>\n",
       "      <th>3</th>\n",
       "      <td>0</td>\n",
       "      <td>0.594550</td>\n",
       "    </tr>\n",
       "    <tr>\n",
       "      <th>4</th>\n",
       "      <td>2</td>\n",
       "      <td>-0.114145</td>\n",
       "    </tr>\n",
       "  </tbody>\n",
       "</table>\n",
       "</div>"
      ],
      "text/plain": [
       "   cluster  silhouette\n",
       "0        0    0.569772\n",
       "1        0    0.535501\n",
       "2        0    0.535815\n",
       "3        0    0.594550\n",
       "4        2   -0.114145"
      ]
     },
     "execution_count": 17,
     "metadata": {},
     "output_type": "execute_result"
    }
   ],
   "source": [
    "silhouetteData_df = pd.DataFrame({'silhouette':silhouette_samples(wholesaleNumericData_df,\n",
    "                                                                  assignedClusters.labels_),\n",
    "                                  'cluster':assignedClusters.labels_})\n",
    "\n",
    "silhouetteData_df.head()"
   ]
  },
  {
   "cell_type": "markdown",
   "metadata": {},
   "source": [
    "And as before, we can plot the data as a bar chart:"
   ]
  },
  {
   "cell_type": "code",
   "execution_count": 18,
   "metadata": {},
   "outputs": [
    {
     "data": {
      "text/plain": [
       "(-0.2, 1.1)"
      ]
     },
     "execution_count": 18,
     "metadata": {},
     "output_type": "execute_result"
    },
    {
     "data": {
      "image/png": "[encoded data removed]",
      "text/plain": [
       "<matplotlib.figure.Figure at 0x7fa20f196a20>"
      ]
     },
     "metadata": {},
     "output_type": "display_data"
    }
   ],
   "source": [
    "silhouetteData_df.sort_values(['cluster', 'silhouette'], inplace=True)\n",
    "silhouetteData_df.index = range(len(silhouetteData_df))\n",
    "\n",
    "colourMap = {0:'red',\n",
    "             1:'blue',\n",
    "             2:'lightGreen'}\n",
    "\n",
    "for cluster in set(silhouetteData_df['cluster']):\n",
    "    plt.bar(silhouetteData_df[silhouetteData_df['cluster']==cluster].index,\n",
    "            silhouetteData_df[silhouetteData_df['cluster']==cluster]['silhouette'],\n",
    "            color=colourMap[cluster],\n",
    "            label='Cluster {}'.format(cluster), width=1)\n",
    "\n",
    "plt.title('Silhouette plot of wholesale data, clustered with $k$-means, $k$=3')\n",
    "\n",
    "plt.xlabel('Number of data point')\n",
    "plt.ylabel('Silhouette coefficient')\n",
    "\n",
    "plt.legend()\n",
    "\n",
    "plt.ylim((-0.2, 1.1))"
   ]
  },
  {
   "cell_type": "markdown",
   "metadata": {},
   "source": [
    "In this case, the dataset is dominated by one main cluster, with the remaining two clusters appearing to be very spread out (because of the low values of their silhouette coefficients)."
   ]
  },
  {
   "cell_type": "markdown",
   "metadata": {
    "collapsed": true
   },
   "source": [
    "As a final investigation, we could try a clustering with *k*=5 rather than *k*=3, to see whether there is a more natural fit with a larger number of clusters:"
   ]
  },
  {
   "cell_type": "code",
   "execution_count": 19,
   "metadata": {
    "code_folding": [],
    "collapsed": true
   },
   "outputs": [],
   "source": [
    "# Run the same experiments, but using k=5\n",
    "\n",
    "# Select only the features that we actually want to cluster on:\n",
    "wholesaleNumericData_df = wholesaleData_df[['Fresh',\n",
    "                                            'Milk',\n",
    "                                            'Grocery',\n",
    "                                            'Frozen',\n",
    "                                            'Detergents_Paper',\n",
    "                                            'Delicatessen']]\n",
    "\n",
    "# Then, create an instance of the clusterer\n",
    "kmeans5 = KMeans(n_clusters=5)\n",
    "assignedClusters = kmeans5.fit(wholesaleNumericData_df)"
   ]
  },
  {
   "cell_type": "code",
   "execution_count": 20,
   "metadata": {},
   "outputs": [
    {
     "data": {
      "text/html": [
       "<div>\n",
       "<style>\n",
       "    .dataframe thead tr:only-child th {\n",
       "        text-align: right;\n",
       "    }\n",
       "\n",
       "    .dataframe thead th {\n",
       "        text-align: left;\n",
       "    }\n",
       "\n",
       "    .dataframe tbody tr th {\n",
       "        vertical-align: top;\n",
       "    }\n",
       "</style>\n",
       "<table border=\"1\" class=\"dataframe\">\n",
       "  <thead>\n",
       "    <tr style=\"text-align: right;\">\n",
       "      <th></th>\n",
       "      <th>cluster</th>\n",
       "      <th>silhouette</th>\n",
       "    </tr>\n",
       "  </thead>\n",
       "  <tbody>\n",
       "    <tr>\n",
       "      <th>0</th>\n",
       "      <td>2</td>\n",
       "      <td>0.225122</td>\n",
       "    </tr>\n",
       "    <tr>\n",
       "      <th>1</th>\n",
       "      <td>2</td>\n",
       "      <td>0.205127</td>\n",
       "    </tr>\n",
       "    <tr>\n",
       "      <th>2</th>\n",
       "      <td>2</td>\n",
       "      <td>0.279324</td>\n",
       "    </tr>\n",
       "    <tr>\n",
       "      <th>3</th>\n",
       "      <td>2</td>\n",
       "      <td>0.221892</td>\n",
       "    </tr>\n",
       "    <tr>\n",
       "      <th>4</th>\n",
       "      <td>0</td>\n",
       "      <td>0.441350</td>\n",
       "    </tr>\n",
       "  </tbody>\n",
       "</table>\n",
       "</div>"
      ],
      "text/plain": [
       "   cluster  silhouette\n",
       "0        2    0.225122\n",
       "1        2    0.205127\n",
       "2        2    0.279324\n",
       "3        2    0.221892\n",
       "4        0    0.441350"
      ]
     },
     "execution_count": 20,
     "metadata": {},
     "output_type": "execute_result"
    }
   ],
   "source": [
    "silhouetteData_df = pd.DataFrame({'silhouette':silhouette_samples(wholesaleNumericData_df,\n",
    "                                                                  assignedClusters.labels_),\n",
    "                                  'cluster':assignedClusters.labels_})\n",
    "\n",
    "silhouetteData_df.head()"
   ]
  },
  {
   "cell_type": "code",
   "execution_count": 21,
   "metadata": {},
   "outputs": [
    {
     "data": {
      "text/plain": [
       "(-0.3, 1.1)"
      ]
     },
     "execution_count": 21,
     "metadata": {},
     "output_type": "execute_result"
    },
    {
     "data": {
      "image/png": "[encoded data removed]",
      "text/plain": [
       "<matplotlib.figure.Figure at 0x7fa20f11f198>"
      ]
     },
     "metadata": {},
     "output_type": "display_data"
    }
   ],
   "source": [
    "silhouetteData_df.sort_values(['cluster', 'silhouette'], inplace=True)\n",
    "silhouetteData_df.index = range(len(silhouetteData_df))\n",
    "\n",
    "colourMap = {0:'red',\n",
    "             1:'blue',\n",
    "             2:'lightGreen',\n",
    "             3:'yellow',\n",
    "             4:'pink'}\n",
    "\n",
    "for cluster in set(silhouetteData_df['cluster']):\n",
    "    plt.bar(silhouetteData_df[silhouetteData_df['cluster']==cluster].index,\n",
    "            silhouetteData_df[silhouetteData_df['cluster']==cluster]['silhouette'],\n",
    "            color=colourMap[cluster],\n",
    "            label='Cluster {}'.format(cluster),\n",
    "            width=1)\n",
    "\n",
    "plt.title('Silhouette plot of wholesale data, clustered with $k$-means, $k$=5')\n",
    "\n",
    "plt.xlabel('Number of data point')\n",
    "plt.ylabel('Silhouette coefficient')\n",
    "\n",
    "plt.legend()\n",
    "\n",
    "plt.ylim((-0.3, 1.1))"
   ]
  },
  {
   "cell_type": "markdown",
   "metadata": {
    "collapsed": true
   },
   "source": [
    "It does not appear that increasing the number of clusters has led to a more balanced clustering. In this case two of the groups are very small, suggesting that they could be outliers. However, these outliers might be cases that are worth investigating as part of exploring the dataset."
   ]
  },
  {
   "cell_type": "markdown",
   "metadata": {},
   "source": [
    "## What next?\n",
    "\n",
    "You have now completed this Notebook. You should now be able to answer Question 4 of iCMA 46, which is about interpreting silhouette diagrams. You should spend around 20 minutes on this iCMA question.\n",
    "\n",
    "If you are working through this Notebook as part of an inline exercise, return to the module materials now.\n",
    "\n",
    "If you are working through this set of Notebooks as a whole, you've completed the Part 21 Notebooks."
   ]
  }
 ],
 "metadata": {
  "kernelspec": {
   "display_name": "Python 3",
   "language": "python",
   "name": "python3"
  },
  "language_info": {
   "codemirror_mode": {
    "name": "ipython",
    "version": 3
   },
   "file_extension": ".py",
   "mimetype": "text/x-python",
   "name": "python",
   "nbconvert_exporter": "python",
   "pygments_lexer": "ipython3",
   "version": "3.5.2"
  }
 },
 "nbformat": 4,
 "nbformat_minor": 1
}
