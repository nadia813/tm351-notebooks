{
 "cells": [
  {
   "cell_type": "markdown",
   "metadata": {},
   "source": [
    "# *k*-means clustering: choosing initial values"
   ]
  },
  {
   "cell_type": "markdown",
   "metadata": {
    "collapsed": true
   },
   "source": [
    "In this Notebook you will see how different choices of initial values can affect the final clustering.\n",
    "\n",
    "You should spend approximately 30 minutes on this Notebook, and around 30 minutes on the iCMA question referenced at the end of the Notebook."
   ]
  },
  {
   "cell_type": "code",
   "execution_count": null,
   "metadata": {
    "code_folding": [
     0
    ],
    "collapsed": true
   },
   "outputs": [],
   "source": [
    "# Standard imports, as well as sklearn.cluster as in the previous Notebook\n",
    "\n",
    "import pandas as pd\n",
    "\n",
    "import numpy as np\n",
    "import matplotlib.pyplot as plt\n",
    "\n",
    "import seaborn as sns\n",
    "\n",
    "from sklearn import cluster"
   ]
  },
  {
   "cell_type": "markdown",
   "metadata": {},
   "source": [
    "As in the previous Notebook, we will use the football league data to illustrate the behaviour of the clustering algorithm. Again, we start by importing the data from the `football_results.csv` file:"
   ]
  },
  {
   "cell_type": "code",
   "execution_count": null,
   "metadata": {},
   "outputs": [],
   "source": [
    "footballResults_df = pd.read_csv('data/football_results.csv', index_col=0)\n",
    "footballResults_df.head()"
   ]
  },
  {
   "cell_type": "markdown",
   "metadata": {},
   "source": [
    "## Initial values for *k*=2"
   ]
  },
  {
   "cell_type": "markdown",
   "metadata": {},
   "source": [
    "For the clustering algorithm, we can specify the initial centroids. Just making an intelligent guess at the initial values, some plausible starting centroids might be:\n",
    "\n",
    "    (40, 50)\n",
    "    \n",
    "and\n",
    "\n",
    "    (85, 40)."
   ]
  },
  {
   "cell_type": "markdown",
   "metadata": {},
   "source": [
    "We can define a DataFrame to contain these initial centroids:"
   ]
  },
  {
   "cell_type": "code",
   "execution_count": null,
   "metadata": {},
   "outputs": [],
   "source": [
    "initialCentroids_df = pd.DataFrame({'For':[40, 85], 'Against':[50, 40]}, columns=['For', 'Against'])\n",
    "\n",
    "initialCentroids_df"
   ]
  },
  {
   "cell_type": "markdown",
   "metadata": {},
   "source": [
    "and plot these on a scatter plot with the data points:"
   ]
  },
  {
   "cell_type": "code",
   "execution_count": null,
   "metadata": {},
   "outputs": [],
   "source": [
    "plt.scatter(footballResults_df['For'],\n",
    "            footballResults_df['Against'])\n",
    "\n",
    "plt.xlabel('Goals For')\n",
    "plt.ylabel('Goals Against')\n",
    "\n",
    "plt.title('English Premier League Teams 2013/2014 Season with initial cluster centroids (1)')\n",
    "\n",
    "# Plot each of the centroids:\n",
    "for i in initialCentroids_df.index:\n",
    "    plt.plot(initialCentroids_df.loc[i]['For'],\n",
    "             initialCentroids_df.loc[i]['Against'],\n",
    "             color='black', marker='x', mew=2)\n"
   ]
  },
  {
   "cell_type": "markdown",
   "metadata": {},
   "source": [
    "To use these initial values, they need to be specified with the `init` parameter when initialising the clustering object:"
   ]
  },
  {
   "cell_type": "code",
   "execution_count": null,
   "metadata": {
    "collapsed": true
   },
   "outputs": [],
   "source": [
    "# Initial centroids specified in the init parameter\n",
    "kmeans2 = cluster.KMeans(n_clusters=2,\n",
    "                         init=initialCentroids_df)"
   ]
  },
  {
   "cell_type": "markdown",
   "metadata": {},
   "source": [
    "Then as before, we call the `fit` method with the appropriate columns of `footballResults_df`:"
   ]
  },
  {
   "cell_type": "code",
   "execution_count": null,
   "metadata": {},
   "outputs": [],
   "source": [
    "assignedClusters_clust = kmeans2.fit(footballResults_df[['For', 'Against']])\n",
    "\n",
    "assignedClusters_clust.labels_"
   ]
  },
  {
   "cell_type": "markdown",
   "metadata": {},
   "source": [
    "... and plot the clustered data along with the final centroids:"
   ]
  },
  {
   "cell_type": "code",
   "execution_count": null,
   "metadata": {},
   "outputs": [],
   "source": [
    "# Plot the data points which in the cluster labelled '0'\n",
    "plt.scatter(footballResults_df['For'][assignedClusters_clust.labels_==0],\n",
    "            footballResults_df['Against'][assignedClusters_clust.labels_==0],\n",
    "            color='red', marker='o', label='cluster 0')\n",
    "\n",
    "# Plot the data points which in the cluster labelled '1'\n",
    "plt.scatter(footballResults_df['For'][assignedClusters_clust.labels_==1],\n",
    "            footballResults_df['Against'][assignedClusters_clust.labels_==1],\n",
    "            color='blue', marker='o', label='cluster 0')\n",
    "\n",
    "# Plot each of the centroids:\n",
    "for (cx, cy) in assignedClusters_clust.cluster_centers_:\n",
    "    plt.plot(cx, cy, color='black', marker='x', mew=2)\n",
    "\n",
    "plt.legend()\n",
    "\n",
    "plt.xlabel('Goals For')\n",
    "plt.ylabel('Goals Against')\n",
    "\n",
    "plt.title('2-means Clustering with centroids')\n",
    "\n",
    "plt.plot()"
   ]
  },
  {
   "cell_type": "markdown",
   "metadata": {},
   "source": [
    "Now, suppose that different starting values had been chosen. We will run the clustering algorithm with starting centroids at:\n",
    "\n",
    "    (44, 45)\n",
    "    \n",
    "and\n",
    "\n",
    "    (53, 73)."
   ]
  },
  {
   "cell_type": "markdown",
   "metadata": {},
   "source": [
    "Again, we can define a DataFrame with these values:"
   ]
  },
  {
   "cell_type": "code",
   "execution_count": null,
   "metadata": {},
   "outputs": [],
   "source": [
    "initialCentroids_df = pd.DataFrame({'For':[44, 53], 'Against':[45, 73]}, columns=['For', 'Against'])\n",
    "\n",
    "initialCentroids_df"
   ]
  },
  {
   "cell_type": "markdown",
   "metadata": {},
   "source": [
    "and see where the initial centroids appear on a plot of the data:"
   ]
  },
  {
   "cell_type": "code",
   "execution_count": null,
   "metadata": {},
   "outputs": [],
   "source": [
    "plt.scatter(footballResults_df['For'],\n",
    "            footballResults_df['Against'])\n",
    "\n",
    "plt.xlabel('Goals For')\n",
    "plt.ylabel('Goals Against')\n",
    "\n",
    "plt.title('English Premier League Teams 2013/2014 Season with initial cluster centroids (2)')\n",
    "\n",
    "# Plot each of the centroids:\n",
    "for i in initialCentroids_df.index:\n",
    "    plt.plot(initialCentroids_df.loc[i]['For'],\n",
    "             initialCentroids_df.loc[i]['Against'],\n",
    "             color='black', marker='x', mew=2)\n"
   ]
  },
  {
   "cell_type": "markdown",
   "metadata": {},
   "source": [
    "Note that these initial values are very different from the ones we used last time. We can now apply the *k*-means algorithm with *k*=2, and see the result:"
   ]
  },
  {
   "cell_type": "code",
   "execution_count": null,
   "metadata": {},
   "outputs": [],
   "source": [
    "kmeans2 = cluster.KMeans(n_clusters=2,\n",
    "                         init=initialCentroids_df)\n",
    "\n",
    "assignedClusters_clust = kmeans2.fit(footballResults_df[['For', 'Against']])\n",
    "\n",
    "assignedClusters_clust.labels_"
   ]
  },
  {
   "cell_type": "code",
   "execution_count": null,
   "metadata": {},
   "outputs": [],
   "source": [
    "# Plot the data points which in the cluster labelled '0'\n",
    "plt.scatter(footballResults_df['For'][assignedClusters_clust.labels_==0],\n",
    "            footballResults_df['Against'][assignedClusters_clust.labels_==0],\n",
    "            color='red', marker='o', label='cluster 0')\n",
    "\n",
    "# Plot the data points which in the cluster labelled '1'\n",
    "plt.scatter(footballResults_df['For'][assignedClusters_clust.labels_==1],\n",
    "            footballResults_df['Against'][assignedClusters_clust.labels_==1],\n",
    "            color='blue', marker='o', label='cluster 0')\n",
    "\n",
    "# Plot each of the centroids:\n",
    "for (cx, cy) in assignedClusters_clust.cluster_centers_:\n",
    "    plt.plot(cx, cy, color='black', marker='x', mew=2)\n",
    "\n",
    "plt.legend()\n",
    "\n",
    "plt.xlabel('Goals For')\n",
    "plt.ylabel('Goals Against')\n",
    "\n",
    "plt.title('2-means Clustering with centroids')\n",
    "\n",
    "plt.plot()"
   ]
  },
  {
   "cell_type": "markdown",
   "metadata": {},
   "source": [
    "These initial conditions have led to a very different and possibly quite unintuitive clustering. Although some might find this clustering to be pretty unconvincing, it does demonstrate two important points. \n",
    "\n",
    "First, it is important that you don't assume that a single run of the clustering algorithm has necessarily given you a good result. It is important that you check the output of the clustering algorithm to ensure that the proposed clusters seem reasonable. \n",
    "\n",
    "Second, if you choose different starting conditions you won't always get the same results. Some clusterings may seem better than others, or all may seem equally plausible, but there is no such thing as 'the' correct clustering: the final result of the algorithm may be one of several alternative results, and it is important not to treat one set of results as though it is the One True Clustering.\n",
    "\n",
    "In fact, as the datasets you use get larger and more complex, it is increasingly likely that different initial conditions will lead to different final results."
   ]
  },
  {
   "cell_type": "markdown",
   "metadata": {},
   "source": [
    "## What next?\n",
    "\n",
    "You have now completed this Notebook. You should now be able to answer Question 3 of iCMA 46. You should expect to spend around half an hour on this iCMA question.\n",
    "\n",
    "If you are working through this Notebook as part of an inline exercise, return to the module materials now.\n",
    "\n",
    "If you are working through this set of Notebooks as a whole, move on to [`21.3 Visualising clusters with silhouette coefficients`](21.3 Visualising clusters with silhouette coefficients.ipynb)."
   ]
  }
 ],
 "metadata": {
  "kernelspec": {
   "display_name": "Python 3",
   "language": "python",
   "name": "python3"
  },
  "language_info": {
   "codemirror_mode": {
    "name": "ipython",
    "version": 3
   },
   "file_extension": ".py",
   "mimetype": "text/x-python",
   "name": "python",
   "nbconvert_exporter": "python",
   "pygments_lexer": "ipython3",
   "version": "3.5.2"
  }
 },
 "nbformat": 4,
 "nbformat_minor": 1
}
