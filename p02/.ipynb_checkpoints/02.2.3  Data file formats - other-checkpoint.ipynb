{
 "cells": [
  {
   "cell_type": "markdown",
   "metadata": {},
   "source": [
    "# Other data file formats"
   ]
  },
  {
   "cell_type": "markdown",
   "metadata": {},
   "source": [
    "In this Notebook, you will learn how to work with a variety of other file formats. Details for some file formats are left deliberately sparse. If you find yourself spending a lot of time working with such file formats, feel free to add additional notes to this Notebook, or create a new Notebook to record the recipes you find useful."
   ]
  },
  {
   "cell_type": "markdown",
   "metadata": {},
   "source": [
    "## Spreadsheet files (Excel XLS and XLSX files)"
   ]
  },
  {
   "cell_type": "markdown",
   "metadata": {},
   "source": [
    "Although spreadsheet files are one of the most widely used file formats for sharing data, we have relegated them to this Notebook because we want you to get into the habit of using other file formats to publish and request data yourself.  \n",
    "\n",
    "Part 7 of the module looks at some of the weaknesses for analysis and management of data in spreadsheet form."
   ]
  },
  {
   "cell_type": "markdown",
   "metadata": {},
   "source": [
    "As one of the most widely used spreadsheet applications, the file formats used by Microsoft Excel by default are the ones most commonly encountered. Excel spreadsheet files can be recognised from the file extensions *.xls* and *.xlsx*."
   ]
  },
  {
   "cell_type": "markdown",
   "metadata": {},
   "source": [
    "You can open a file from a spreadsheet into a *pandas* DataFrame using the `read_excel()` function."
   ]
  },
  {
   "cell_type": "code",
   "execution_count": 1,
   "metadata": {
    "collapsed": true
   },
   "outputs": [],
   "source": [
    "# We can try to import a sheet directly into pandas using the read_excel() method.\n",
    "# We'll only read the first three lines to see what it brings in.\n",
    "import pandas as pd"
   ]
  },
  {
   "cell_type": "code",
   "execution_count": 2,
   "metadata": {},
   "outputs": [
    {
     "data": {
      "text/plain": [
       "odict_keys(['Metadata', 'Data'])"
      ]
     },
     "execution_count": 2,
     "metadata": {},
     "output_type": "execute_result"
    }
   ],
   "source": [
    "# The following spreadsheet is taken from the Greater London Authority, London DataStore.\n",
    "#                     https://londondatastore-upload.s3.amazonaws.com/tfl-buses-type.xls\n",
    "#                     [retrieved 20/07/15]\n",
    "\n",
    "#Set the sheetname parameter to None to load in all the sheets as a dict of dataframes\n",
    "xl = pd.read_excel('data/tfl-buses-type.xls',  sheetname=None)\n",
    "xl.keys()"
   ]
  },
  {
   "cell_type": "code",
   "execution_count": 3,
   "metadata": {},
   "outputs": [
    {
     "data": {
      "text/html": [
       "<div>\n",
       "<style>\n",
       "    .dataframe thead tr:only-child th {\n",
       "        text-align: right;\n",
       "    }\n",
       "\n",
       "    .dataframe thead th {\n",
       "        text-align: left;\n",
       "    }\n",
       "\n",
       "    .dataframe tbody tr th {\n",
       "        vertical-align: top;\n",
       "    }\n",
       "</style>\n",
       "<table border=\"1\" class=\"dataframe\">\n",
       "  <thead>\n",
       "    <tr style=\"text-align: right;\">\n",
       "      <th></th>\n",
       "      <th></th>\n",
       "      <th>Number of buses</th>\n",
       "      <th>Unnamed: 1</th>\n",
       "      <th>Unnamed: 2</th>\n",
       "      <th>Unnamed: 3</th>\n",
       "      <th>Unnamed: 4</th>\n",
       "    </tr>\n",
       "  </thead>\n",
       "  <tbody>\n",
       "    <tr>\n",
       "      <th>Bus Type</th>\n",
       "      <th>Drive train type</th>\n",
       "      <td>2010.0</td>\n",
       "      <td>2011.0</td>\n",
       "      <td>2012.0</td>\n",
       "      <td>2013.0</td>\n",
       "      <td>2014.0</td>\n",
       "    </tr>\n",
       "    <tr>\n",
       "      <th>New Routemaster</th>\n",
       "      <th>Hybrid</th>\n",
       "      <td>0.0</td>\n",
       "      <td>0.0</td>\n",
       "      <td>5.0</td>\n",
       "      <td>8.0</td>\n",
       "      <td>168.0</td>\n",
       "    </tr>\n",
       "    <tr>\n",
       "      <th>Routemaster</th>\n",
       "      <th>Diesel</th>\n",
       "      <td>18.0</td>\n",
       "      <td>18.0</td>\n",
       "      <td>19.0</td>\n",
       "      <td>20.0</td>\n",
       "      <td>19.0</td>\n",
       "    </tr>\n",
       "  </tbody>\n",
       "</table>\n",
       "</div>"
      ],
      "text/plain": [
       "                                  Number of buses  Unnamed: 1  Unnamed: 2  \\\n",
       "Bus Type        Drive train type           2010.0      2011.0      2012.0   \n",
       "New Routemaster Hybrid                        0.0         0.0         5.0   \n",
       "Routemaster     Diesel                       18.0        18.0        19.0   \n",
       "\n",
       "                                  Unnamed: 3  Unnamed: 4  \n",
       "Bus Type        Drive train type      2013.0      2014.0  \n",
       "New Routemaster Hybrid                   8.0       168.0  \n",
       "Routemaster     Diesel                  20.0        19.0  "
      ]
     },
     "execution_count": 3,
     "metadata": {},
     "output_type": "execute_result"
    }
   ],
   "source": [
    "#Preview the first few rows of the Data sheet\n",
    "xl['Data'][:3]"
   ]
  },
  {
   "cell_type": "code",
   "execution_count": 4,
   "metadata": {},
   "outputs": [
    {
     "data": {
      "text/html": [
       "<div>\n",
       "<style>\n",
       "    .dataframe thead tr:only-child th {\n",
       "        text-align: right;\n",
       "    }\n",
       "\n",
       "    .dataframe thead th {\n",
       "        text-align: left;\n",
       "    }\n",
       "\n",
       "    .dataframe tbody tr th {\n",
       "        vertical-align: top;\n",
       "    }\n",
       "</style>\n",
       "<table border=\"1\" class=\"dataframe\">\n",
       "  <thead>\n",
       "    <tr style=\"text-align: right;\">\n",
       "      <th></th>\n",
       "      <th></th>\n",
       "      <th>Number of buses</th>\n",
       "      <th>Unnamed: 1</th>\n",
       "      <th>Unnamed: 2</th>\n",
       "      <th>Unnamed: 3</th>\n",
       "      <th>Unnamed: 4</th>\n",
       "    </tr>\n",
       "  </thead>\n",
       "  <tbody>\n",
       "    <tr>\n",
       "      <th>Bus Type</th>\n",
       "      <th>Drive train type</th>\n",
       "      <td>2010.0</td>\n",
       "      <td>2011.0</td>\n",
       "      <td>2012.0</td>\n",
       "      <td>2013.0</td>\n",
       "      <td>2014.0</td>\n",
       "    </tr>\n",
       "    <tr>\n",
       "      <th>New Routemaster</th>\n",
       "      <th>Hybrid</th>\n",
       "      <td>0.0</td>\n",
       "      <td>0.0</td>\n",
       "      <td>5.0</td>\n",
       "      <td>8.0</td>\n",
       "      <td>168.0</td>\n",
       "    </tr>\n",
       "    <tr>\n",
       "      <th>Routemaster</th>\n",
       "      <th>Diesel</th>\n",
       "      <td>18.0</td>\n",
       "      <td>18.0</td>\n",
       "      <td>19.0</td>\n",
       "      <td>20.0</td>\n",
       "      <td>19.0</td>\n",
       "    </tr>\n",
       "  </tbody>\n",
       "</table>\n",
       "</div>"
      ],
      "text/plain": [
       "                                  Number of buses  Unnamed: 1  Unnamed: 2  \\\n",
       "Bus Type        Drive train type           2010.0      2011.0      2012.0   \n",
       "New Routemaster Hybrid                        0.0         0.0         5.0   \n",
       "Routemaster     Diesel                       18.0        18.0        19.0   \n",
       "\n",
       "                                  Unnamed: 3  Unnamed: 4  \n",
       "Bus Type        Drive train type      2013.0      2014.0  \n",
       "New Routemaster Hybrid                   8.0       168.0  \n",
       "Routemaster     Diesel                  20.0        19.0  "
      ]
     },
     "execution_count": 4,
     "metadata": {},
     "output_type": "execute_result"
    }
   ],
   "source": [
    "#Alternatively, we can read in a single sheet by name\n",
    "pd.read_excel('data/tfl-buses-type.xls', sheetname='Data')[:3]"
   ]
  },
  {
   "cell_type": "code",
   "execution_count": 5,
   "metadata": {},
   "outputs": [
    {
     "data": {
      "text/html": [
       "<div>\n",
       "<style>\n",
       "    .dataframe thead tr:only-child th {\n",
       "        text-align: right;\n",
       "    }\n",
       "\n",
       "    .dataframe thead th {\n",
       "        text-align: left;\n",
       "    }\n",
       "\n",
       "    .dataframe tbody tr th {\n",
       "        vertical-align: top;\n",
       "    }\n",
       "</style>\n",
       "<table border=\"1\" class=\"dataframe\">\n",
       "  <thead>\n",
       "    <tr style=\"text-align: right;\">\n",
       "      <th></th>\n",
       "      <th></th>\n",
       "      <th>Number of buses</th>\n",
       "      <th>Unnamed: 1</th>\n",
       "      <th>Unnamed: 2</th>\n",
       "      <th>Unnamed: 3</th>\n",
       "      <th>Unnamed: 4</th>\n",
       "    </tr>\n",
       "  </thead>\n",
       "  <tbody>\n",
       "    <tr>\n",
       "      <th>Bus Type</th>\n",
       "      <th>Drive train type</th>\n",
       "      <td>2010.0</td>\n",
       "      <td>2011.0</td>\n",
       "      <td>2012.0</td>\n",
       "      <td>2013.0</td>\n",
       "      <td>2014.0</td>\n",
       "    </tr>\n",
       "    <tr>\n",
       "      <th>New Routemaster</th>\n",
       "      <th>Hybrid</th>\n",
       "      <td>0.0</td>\n",
       "      <td>0.0</td>\n",
       "      <td>5.0</td>\n",
       "      <td>8.0</td>\n",
       "      <td>168.0</td>\n",
       "    </tr>\n",
       "    <tr>\n",
       "      <th>Routemaster</th>\n",
       "      <th>Diesel</th>\n",
       "      <td>18.0</td>\n",
       "      <td>18.0</td>\n",
       "      <td>19.0</td>\n",
       "      <td>20.0</td>\n",
       "      <td>19.0</td>\n",
       "    </tr>\n",
       "    <tr>\n",
       "      <th>Artic</th>\n",
       "      <th>Diesel</th>\n",
       "      <td>320.0</td>\n",
       "      <td>260.0</td>\n",
       "      <td>0.0</td>\n",
       "      <td>0.0</td>\n",
       "      <td>0.0</td>\n",
       "    </tr>\n",
       "    <tr>\n",
       "      <th>Single deck</th>\n",
       "      <th>Diesel</th>\n",
       "      <td>2676.0</td>\n",
       "      <td>2670.0</td>\n",
       "      <td>2661.0</td>\n",
       "      <td>2608.0</td>\n",
       "      <td>2606.0</td>\n",
       "    </tr>\n",
       "    <tr>\n",
       "      <th rowspan=\"3\" valign=\"top\">NaN</th>\n",
       "      <th>Fuel Cell/Hybrid</th>\n",
       "      <td>0.0</td>\n",
       "      <td>5.0</td>\n",
       "      <td>5.0</td>\n",
       "      <td>5.0</td>\n",
       "      <td>8.0</td>\n",
       "    </tr>\n",
       "    <tr>\n",
       "      <th>Hybrid</th>\n",
       "      <td>27.0</td>\n",
       "      <td>27.0</td>\n",
       "      <td>33.0</td>\n",
       "      <td>28.0</td>\n",
       "      <td>23.0</td>\n",
       "    </tr>\n",
       "    <tr>\n",
       "      <th>Electric</th>\n",
       "      <td>0.0</td>\n",
       "      <td>0.0</td>\n",
       "      <td>0.0</td>\n",
       "      <td>0.0</td>\n",
       "      <td>2.0</td>\n",
       "    </tr>\n",
       "    <tr>\n",
       "      <th>Double deck</th>\n",
       "      <th>Diesel</th>\n",
       "      <td>5554.0</td>\n",
       "      <td>5487.0</td>\n",
       "      <td>5787.0</td>\n",
       "      <td>5696.0</td>\n",
       "      <td>5296.0</td>\n",
       "    </tr>\n",
       "    <tr>\n",
       "      <th>NaN</th>\n",
       "      <th>Hybrid</th>\n",
       "      <td>29.0</td>\n",
       "      <td>79.0</td>\n",
       "      <td>233.0</td>\n",
       "      <td>352.0</td>\n",
       "      <td>643.0</td>\n",
       "    </tr>\n",
       "    <tr>\n",
       "      <th>TOTAL</th>\n",
       "      <th>NaN</th>\n",
       "      <td>8624.0</td>\n",
       "      <td>8546.0</td>\n",
       "      <td>8743.0</td>\n",
       "      <td>8717.0</td>\n",
       "      <td>8765.0</td>\n",
       "    </tr>\n",
       "    <tr>\n",
       "      <th rowspan=\"2\" valign=\"top\">NaN</th>\n",
       "      <th>NaN</th>\n",
       "      <td>NaN</td>\n",
       "      <td>NaN</td>\n",
       "      <td>NaN</td>\n",
       "      <td>NaN</td>\n",
       "      <td>NaN</td>\n",
       "    </tr>\n",
       "    <tr>\n",
       "      <th>NaN</th>\n",
       "      <td>NaN</td>\n",
       "      <td>NaN</td>\n",
       "      <td>NaN</td>\n",
       "      <td>NaN</td>\n",
       "      <td>NaN</td>\n",
       "    </tr>\n",
       "    <tr>\n",
       "      <th>Commentary: The figures supplied reflect the fleet as of March 31, 2014. The number of hybrid buses in the fleet which is tracked through the year, unlike other statistics, now stands at around 860 and is projected to rise to 1,700 (of which 600 will be NBfLs) by 2016.</th>\n",
       "      <th>NaN</th>\n",
       "      <td>NaN</td>\n",
       "      <td>NaN</td>\n",
       "      <td>NaN</td>\n",
       "      <td>NaN</td>\n",
       "      <td>NaN</td>\n",
       "    </tr>\n",
       "  </tbody>\n",
       "</table>\n",
       "</div>"
      ],
      "text/plain": [
       "                                                                     Number of buses  \\\n",
       "Bus Type                                           Drive train type           2010.0   \n",
       "New Routemaster                                    Hybrid                        0.0   \n",
       "Routemaster                                        Diesel                       18.0   \n",
       "Artic                                              Diesel                      320.0   \n",
       "Single deck                                        Diesel                     2676.0   \n",
       "NaN                                                Fuel Cell/Hybrid              0.0   \n",
       "                                                   Hybrid                       27.0   \n",
       "                                                   Electric                      0.0   \n",
       "Double deck                                        Diesel                     5554.0   \n",
       "NaN                                                Hybrid                       29.0   \n",
       "TOTAL                                              NaN                        8624.0   \n",
       "NaN                                                NaN                           NaN   \n",
       "                                                   NaN                           NaN   \n",
       "Commentary: The figures supplied reflect the fl... NaN                           NaN   \n",
       "\n",
       "                                                                     Unnamed: 1  \\\n",
       "Bus Type                                           Drive train type      2011.0   \n",
       "New Routemaster                                    Hybrid                   0.0   \n",
       "Routemaster                                        Diesel                  18.0   \n",
       "Artic                                              Diesel                 260.0   \n",
       "Single deck                                        Diesel                2670.0   \n",
       "NaN                                                Fuel Cell/Hybrid         5.0   \n",
       "                                                   Hybrid                  27.0   \n",
       "                                                   Electric                 0.0   \n",
       "Double deck                                        Diesel                5487.0   \n",
       "NaN                                                Hybrid                  79.0   \n",
       "TOTAL                                              NaN                   8546.0   \n",
       "NaN                                                NaN                      NaN   \n",
       "                                                   NaN                      NaN   \n",
       "Commentary: The figures supplied reflect the fl... NaN                      NaN   \n",
       "\n",
       "                                                                     Unnamed: 2  \\\n",
       "Bus Type                                           Drive train type      2012.0   \n",
       "New Routemaster                                    Hybrid                   5.0   \n",
       "Routemaster                                        Diesel                  19.0   \n",
       "Artic                                              Diesel                   0.0   \n",
       "Single deck                                        Diesel                2661.0   \n",
       "NaN                                                Fuel Cell/Hybrid         5.0   \n",
       "                                                   Hybrid                  33.0   \n",
       "                                                   Electric                 0.0   \n",
       "Double deck                                        Diesel                5787.0   \n",
       "NaN                                                Hybrid                 233.0   \n",
       "TOTAL                                              NaN                   8743.0   \n",
       "NaN                                                NaN                      NaN   \n",
       "                                                   NaN                      NaN   \n",
       "Commentary: The figures supplied reflect the fl... NaN                      NaN   \n",
       "\n",
       "                                                                     Unnamed: 3  \\\n",
       "Bus Type                                           Drive train type      2013.0   \n",
       "New Routemaster                                    Hybrid                   8.0   \n",
       "Routemaster                                        Diesel                  20.0   \n",
       "Artic                                              Diesel                   0.0   \n",
       "Single deck                                        Diesel                2608.0   \n",
       "NaN                                                Fuel Cell/Hybrid         5.0   \n",
       "                                                   Hybrid                  28.0   \n",
       "                                                   Electric                 0.0   \n",
       "Double deck                                        Diesel                5696.0   \n",
       "NaN                                                Hybrid                 352.0   \n",
       "TOTAL                                              NaN                   8717.0   \n",
       "NaN                                                NaN                      NaN   \n",
       "                                                   NaN                      NaN   \n",
       "Commentary: The figures supplied reflect the fl... NaN                      NaN   \n",
       "\n",
       "                                                                     Unnamed: 4  \n",
       "Bus Type                                           Drive train type      2014.0  \n",
       "New Routemaster                                    Hybrid                 168.0  \n",
       "Routemaster                                        Diesel                  19.0  \n",
       "Artic                                              Diesel                   0.0  \n",
       "Single deck                                        Diesel                2606.0  \n",
       "NaN                                                Fuel Cell/Hybrid         8.0  \n",
       "                                                   Hybrid                  23.0  \n",
       "                                                   Electric                 2.0  \n",
       "Double deck                                        Diesel                5296.0  \n",
       "NaN                                                Hybrid                 643.0  \n",
       "TOTAL                                              NaN                   8765.0  \n",
       "NaN                                                NaN                      NaN  \n",
       "                                                   NaN                      NaN  \n",
       "Commentary: The figures supplied reflect the fl... NaN                      NaN  "
      ]
     },
     "execution_count": 5,
     "metadata": {},
     "output_type": "execute_result"
    }
   ],
   "source": [
    "# It looks OK, so let's read the whole spreadsheet:\n",
    "data = pd.read_excel('data/tfl-buses-type.xls', sheetname='Data')\n",
    "data"
   ]
  },
  {
   "cell_type": "markdown",
   "metadata": {},
   "source": [
    "By inspecting this data, or by opening the spreadsheet using a spreadsheet application or the OpenRefine tool (which is introduced in Part 2 of the module), we can check to see how many of the first few rows are metadata or blank rows. We can discount a certain number of lines at the top of the sheet using the `skiprows` parameter, or we can specify the spreadsheet row number of the header row explictly and ignore the rows preceding that one. We can also define which columns we wish to import.  \n",
    "\n",
    "The NaNs sometimes indicate that cells are empty, or contain formula or other 'non' value data. In the cells under those containing 'Single deck' and 'Double deck' and alongside the description in the final row, the NaNs are there because the cells have been merged into a single spreadsheet spanning cell.\n",
    "\n",
    "(For more information, see the documentation for the [*pandas* read_excel method]( http://pandas.pydata.org/pandas-docs/stable/generated/pandas.read_excel.html)    "
   ]
  },
  {
   "cell_type": "markdown",
   "metadata": {},
   "source": [
    "### *xlrd*\n",
    "\n",
    "The `xlrd` package is a powerful package for reading and writing files using Excel's .xls and .xlsx formats, and lower level access to the contents of Excel spreadsheets than `pandas` provides. \n",
    "\n",
    "For more details see: http://xlrd.readthedocs.io/en/latest/"
   ]
  },
  {
   "cell_type": "code",
   "execution_count": 6,
   "metadata": {},
   "outputs": [
    {
     "name": "stdout",
     "output_type": "stream",
     "text": [
      "['Metadata', 'Data']\n"
     ]
    }
   ],
   "source": [
    "import xlrd\n",
    "\n",
    "workbook = xlrd.open_workbook('data/tfl-buses-type.xls')\n",
    "# The library also allows us to preview the sheet names.\n",
    "print(workbook.sheet_names())"
   ]
  },
  {
   "cell_type": "code",
   "execution_count": 7,
   "metadata": {},
   "outputs": [
    {
     "data": {
      "text/plain": [
       "'Commentary: The figures supplied reflect the fleet as of March 31, 2014. The number of hybrid buses in the fleet which is tracked through the year, unlike other statistics, now stands at around 860 and is projected to rise to 1,700 (of which 600 will be NBfLs) by 2016.'"
      ]
     },
     "execution_count": 7,
     "metadata": {},
     "output_type": "execute_result"
    }
   ],
   "source": [
    "# By manual inspection of the originally previewed sheet, we can use \n",
    "# xlrd to read the metadata from the metadata cell.\n",
    "# Note that row/columns indices are integer values, indexed on 0, \n",
    "# and also note that some cells span multiple rows.\n",
    "sheet = workbook.sheet_by_name('Data')\n",
    "sheet.cell_value(rowx=14, colx=0)"
   ]
  },
  {
   "cell_type": "markdown",
   "metadata": {},
   "source": [
    "## XML Files"
   ]
  },
  {
   "cell_type": "markdown",
   "metadata": {},
   "source": [
    "Importing XML data into a *pandas* DataFrame is currently a little trickier than importing JSON, as there are no default *pandas* methods for supporting the import.\n",
    "\n",
    "Instead, you need to load in a file, parse it using a third party parser such as `lxml`, and then handle the mapping to the DataFrame yourself.\n",
    "\n",
    "Alternatively, use OpenRefine to parse the elements of the XML document that you are interested in and then save the data out again as a tabular CSV document which is a little easier to import."
   ]
  },
  {
   "cell_type": "markdown",
   "metadata": {},
   "source": [
    "We will try to limit our use of XML-based datasets in this module, preferring instead CSV formats for tabular data and JSON for more elaborately structured datasets. You will, however, work with a particular style of XML later in the module when you look at Linked Data and the semantic web."
   ]
  },
  {
   "cell_type": "markdown",
   "metadata": {},
   "source": [
    "One thing worth bearing in mind is that popular versions of XML formats may have Python libraries defined to make it easier to parse them, and read and write files defined using the format. For example, the KML format that is used to transport geographical data (points, lines, boundaries) can be parsed using the `fastkml` library."
   ]
  },
  {
   "cell_type": "markdown",
   "metadata": {},
   "source": [
    "##  Working with KML Files"
   ]
  },
  {
   "cell_type": "code",
   "execution_count": 8,
   "metadata": {},
   "outputs": [
    {
     "name": "stdout",
     "output_type": "stream",
     "text": [
      "CarParks.kml\t    IOWcarparlocations.html  tmpfile.csv\r\n",
      "document.yaml\t    iwCouncilSpending\t     tmp.json\r\n",
      "IOWcarparlocations  tfl-buses-type.xls\t     tmp_snowkuma.json\r\n"
     ]
    }
   ],
   "source": [
    "# We can load in data from a KML file (a file format for geographic data sets) and \n",
    "# then render it onto a map quite easily.\n",
    "\n",
    "# For example, in the data directory is a file, 'CarParks.kml' that contains a list of car park \n",
    "# locations on the Isle of Wight.\n",
    "!ls data"
   ]
  },
  {
   "cell_type": "code",
   "execution_count": 9,
   "metadata": {},
   "outputs": [
    {
     "data": {
      "text/plain": [
       "['Sea Street, Newport',\n",
       " 'Brunswick Road, Cowes',\n",
       " 'Garfield Road, Ryde',\n",
       " 'Medina Avenue, Newport',\n",
       " 'Station Avenue, Sandown',\n",
       " 'The Grove, Ventnor',\n",
       " 'River Road, Yarmouth',\n",
       " 'Dudley Road, Ventnor',\n",
       " 'Atherley Road, Shanklin',\n",
       " 'Avenue Road, Freshwater',\n",
       " 'The Duver, Seaview',\n",
       " 'Freshwater Bay, Freshwater',\n",
       " 'Moa place, Freshwater',\n",
       " 'Pound Lane, Ventnor',\n",
       " 'Vernon Meadow, Shanklin',\n",
       " 'Little London, Newport',\n",
       " 'Lugley Street, Newport',\n",
       " 'Orchardleigh Road, Shanklin',\n",
       " 'Seaclose Recreation Ground, Newport',\n",
       " 'Quay Road, Ryde',\n",
       " 'Maresfield Road, East Cowes',\n",
       " 'Lind Place, Ryde',\n",
       " 'Cross Street, Cowes',\n",
       " 'Church Litten, Newport ',\n",
       " 'New Street, Newport',\n",
       " 'Shore Road, Bonchurch',\n",
       " 'Market Street, Ventnor',\n",
       " 'La Falaise, Ventnor',\n",
       " 'Lane End, Bembridge',\n",
       " 'Esplanade Gardens, Shanklin',\n",
       " 'St Thomas Street Upper/Lower, Ryde',\n",
       " 'The Duver, St Helens',\n",
       " 'Yaverland, Sandown',\n",
       " 'Chapel Street, Newport',\n",
       " 'St Johns Road, Sandown',\n",
       " 'Hope Road, Shanklin',\n",
       " 'Central (High Street), Ventnor',\n",
       " 'Green Street, Ryde',\n",
       " 'Victoria Street, Ryde',\n",
       " 'Mornington Road, Cowes',\n",
       " 'Spa, Shanklin',\n",
       " 'Newport Harbour, Newport',\n",
       " 'Winchester House, Shanklin',\n",
       " 'Coppins Bridge, Newport',\n",
       " 'Eastern Esplanade, Ventnor',\n",
       " 'County Hall Complex, Newport (Weekends Only)',\n",
       " 'Fort Street, Sandown',\n",
       " 'Colwell Bay, Colwell',\n",
       " 'New Road, Lake',\n",
       " 'Landguard Road, Shanklin']"
      ]
     },
     "execution_count": 9,
     "metadata": {},
     "output_type": "execute_result"
    }
   ],
   "source": [
    "from fastkml import kml\n",
    "k = kml.KML()\n",
    "\n",
    "# We need to open the file as a bytestream - and let the lxml parser \n",
    "#          used by the fastxml package identify the encoding itself:\n",
    "doc = open(\"data/CarParks.kml\",'rb').read()\n",
    "k.from_string(doc)\n",
    "\n",
    "# The alternative is to open the file with a UTF-8 encoding to get a Unicode string, \n",
    "#   then throw away the first line that now incorrectly declares the decoding to be UTF-8.\n",
    "#!head -n 3 data/CarParks.kml\n",
    "#doc = open(\"data/CarParks.kml\", encoding='utf-8')\n",
    "#lines = '\\n'.join(doc.readlines()[1:])\n",
    "#k.from_string(lines)\n",
    "\n",
    "# We can parse the locations of the carpark placemarks from the file\n",
    "locations = dict()\n",
    "for feature in k.features():\n",
    "    for placemark in feature.features():\n",
    "        locations.update({placemark.name: (placemark.geometry.y, placemark.geometry.x)})\n",
    "list(locations)"
   ]
  },
  {
   "cell_type": "code",
   "execution_count": 10,
   "metadata": {
    "code_folding": []
   },
   "outputs": [
    {
     "data": {
      "text/html": [
       "<div style=\"width:100%;\"><div style=\"position:relative;width:100%;height:0;padding-bottom:60%;\"><iframe src=\"data:text/html;charset=utf-8;base64,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\" style=\"position:absolute;width:100%;height:100%;left:0;top:0;border:none !important;\" allowfullscreen webkitallowfullscreen mozallowfullscreen></iframe></div></div>"
      ],
      "text/plain": [
       "<folium.folium.Map at 0x7f50b420c630>"
      ]
     },
     "execution_count": 10,
     "metadata": {},
     "output_type": "execute_result"
    }
   ],
   "source": [
    "# Let's quickly map the markers to show how the parser \n",
    "#       has pulled out the placemark information:\n",
    "import folium\n",
    "# We will look at folium in more detail in Notebooks for Part 5 of the module.\n",
    "\n",
    "# NOTE: folium uses an external tileset to render the map background appearance.\n",
    "#       This requires that you have an internet connection when the map is being\n",
    "#       displayed, it may use cached tile data, but some tiles will be missing if you \n",
    "#       change scale by zooming.\n",
    "\n",
    "# If we know the latitude and longitude at the centre of the map we want to display, \n",
    "#    we can set it directly:\n",
    "carparks = folium.Map(location=[50.68, -1.2667], width = 960, height = 500, zoom_start=11)\n",
    "\n",
    "# Alternatively, we could calculate it as the mean latitude and longitude \n",
    "#     of the points we wish to plot (a handy recipe):\n",
    "#latSum = lonSum = 0\n",
    "#for name, location in locations.items():\n",
    "#    latSum += location[0]\n",
    "#    lonSum += location[1]\n",
    "#carparks = folium.Map(location=[latSum/len(locations.items()), \n",
    "#                                lonSum/len(locations.items())], \n",
    "#                               width = 960, height = 500, zoom_start=11)\n",
    "\n",
    "# The following loops through the location items, splitting out the car part name\n",
    "#                    and the location as a pair of latitude and longitude values.\n",
    "# For each location, it then plots a circle marker on the map with the name as a popup string.\n",
    "# We will look at folium in more detail in Notebooks for Part 5 of the module.\n",
    "\n",
    "for name, location in locations.items():\n",
    "    folium.CircleMarker(location=location,\n",
    "                        popup=name,\n",
    "                        radius=20,\n",
    "                        fill_color='blue',\n",
    "                        fill_opacity=0.2\n",
    "                   ).add_to(carparks)\n",
    "\n",
    "# Display the map (this will not display a map if you are offline)\n",
    "carparks"
   ]
  },
  {
   "cell_type": "code",
   "execution_count": 11,
   "metadata": {
    "collapsed": true
   },
   "outputs": [],
   "source": [
    "# Finally we create the HTML file for the map, and display it below.\n",
    "#   (The HTML file can be opened directly from your browser)\n",
    "\n",
    "carparks.save('data/IOWcarparlocations.html')"
   ]
  },
  {
   "cell_type": "markdown",
   "metadata": {},
   "source": [
    "## YAML"
   ]
  },
  {
   "cell_type": "markdown",
   "metadata": {},
   "source": [
    "*pandas* does not support YAML imports directly, but it is possible to use libraries such as the `PyYaml` library to load in a YAML file and convert it to a Python dict that can then be transformed to a *pandas* DataFrame.\n",
    "\n",
    "WARNING:  The `yaml.load()` and `yaml.load_all()` should not be used to parse arbitrary content from unsafe sources.  These functions are capable of creating arbitrary Python objects, including code.  The `yaml.safe_load()` and `yaml.safe_load_all()` limit that ability to objects that cannot generate executable code.\n",
    "\n",
    "As with XML, we will tend *not* to focus on the use of YAML, preferring instead JSON and CSV representations."
   ]
  },
  {
   "cell_type": "code",
   "execution_count": null,
   "metadata": {
    "collapsed": true
   },
   "outputs": [],
   "source": [
    "import yaml\n",
    "\n",
    "# yaml.load() will accept a single document string, and parse it to generate\n",
    "# a Python dict, so will yaml.safe_load():\n",
    "document = \"\"\"\n",
    "image:\n",
    "    width: 800\n",
    "    height: 600\n",
    "    title:  View from 15th Floor\n",
    "    thumbnail:\n",
    "        url: http://www.example.com/image/481989943\n",
    "        height: 125\n",
    "        width:  100\n",
    "        animated : false\n",
    "    IDs:\n",
    "        - 116\n",
    "        - 943\n",
    "        - 234\n",
    "        - 38793\n",
    "\"\"\"\n",
    "parsedYAML = yaml.safe_load(document)\n",
    "parsedYAML"
   ]
  },
  {
   "cell_type": "code",
   "execution_count": null,
   "metadata": {
    "collapsed": true
   },
   "outputs": [],
   "source": [
    "# yaml.load() and yaml.safe_load() will also accept a file name and read that, \n",
    "#     converting it to a Python dict.\n",
    "\n",
    "# Note that yaml.load_all(stream) and yaml.safe_load_all() will parse a file \n",
    "#  containing a sequence of yaml documents to produce a sequence of dicts\n",
    "\n",
    "# Here 'document.yaml' contains a single YAML document.\n",
    "stream = open('data/document.yaml', 'r') \n",
    "yaml.safe_load(stream)\n"
   ]
  },
  {
   "cell_type": "code",
   "execution_count": null,
   "metadata": {
    "collapsed": true
   },
   "outputs": [],
   "source": [
    "# We can also cast a dict to YAML using the yaml.dump() function applied to a dict:\n",
    "print(yaml.dump(parsedYAML))"
   ]
  },
  {
   "cell_type": "markdown",
   "metadata": {},
   "source": [
    "For those interested in exploring Python's handling of YAML further\n",
    "the `PyYAML` library documentation can be found at  http://pyyaml.org/wiki/PyYAMLDocumentation."
   ]
  },
  {
   "cell_type": "markdown",
   "metadata": {},
   "source": [
    "## Summary\n",
    "In this Notebook you have seen how to:\n",
    "1. read .xls and .xlsx spreadsheet files\n",
    "2. handle XML files\n",
    "3. read KML files and seen map data plotted in folium\n",
    "4. parse YAML data and load it into a Python dict.\n"
   ]
  },
  {
   "cell_type": "markdown",
   "metadata": {},
   "source": [
    "## What next?"
   ]
  },
  {
   "cell_type": "markdown",
   "metadata": {},
   "source": [
    "That completes the coverage of data file formats for this module; we will make extensive use of CSV and JSON formats in the module and may introduce others as we work through different tools and techniques.\n",
    "\n",
    "Return to the module materials now."
   ]
  }
 ],
 "metadata": {
  "kernelspec": {
   "display_name": "Python 3",
   "language": "python",
   "name": "python3"
  },
  "language_info": {
   "codemirror_mode": {
    "name": "ipython",
    "version": 3
   },
   "file_extension": ".py",
   "mimetype": "text/x-python",
   "name": "python",
   "nbconvert_exporter": "python",
   "pygments_lexer": "ipython3",
   "version": "3.5.2"
  }
 },
 "nbformat": 4,
 "nbformat_minor": 1
}
