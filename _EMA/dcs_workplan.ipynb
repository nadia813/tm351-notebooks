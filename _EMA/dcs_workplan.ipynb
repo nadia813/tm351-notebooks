{
 "cells": [
  {
   "cell_type": "markdown",
   "metadata": {},
   "source": [
    "# Workplan"
   ]
  },
  {
   "cell_type": "markdown",
   "metadata": {},
   "source": [
    "## Intro\n",
    "There is around 2 months of study time remaining for me to complete the EMA.  During that time I also need to learn how to do the datamingin and improve my mongodb skills to the level that I can carry out the analysis effectively.  Basing this plan on 16 hours per week of study time and 8 weeks I have the following plan outline."
   ]
  },
  {
   "cell_type": "markdown",
   "metadata": {},
   "source": [
    "## Week 0 (March 26)\n",
    "  - continue working through remaining tm351 materials\n",
    "  - try to get ahead of the tm351 calendar if possible"
   ]
  },
  {
   "cell_type": "markdown",
   "metadata": {},
   "source": [
    "## Week 1 (April 2)\n",
    "\n",
    " - make a template EMA solution document\n",
    " - create a folder in the TM351VM notebooks folder to store the EMA data files needed and my ipynb files\n",
    " - create a mongodb for the analysis work\n",
    " - import the ks4 data into it\n",
    " - continue working through remaining tm351 materials"
   ]
  },
  {
   "cell_type": "markdown",
   "metadata": {},
   "source": [
    "## Week 2 (April 9)\n",
    " - do research on sources of data etc for report\n",
    " - write up summary, background and data sources into the report\n",
    " - continue working through the rmaining tm351 materials"
   ]
  },
  {
   "cell_type": "markdown",
   "metadata": {},
   "source": [
    "## Week 3 (April 16)\n",
    " - start exploring the data set\n",
    " - determine exactly what question I want to answer from the dataset\n",
    " - use mongodb to interact with the dataset and help answer question\n",
    " - continue working through the rmaining tm351 materials"
   ]
  },
  {
   "cell_type": "markdown",
   "metadata": {},
   "source": [
    "# Week 4 (April 23)\n",
    " - start processing the data and investigation\n",
    " - produce some initial visualisations that summarise the data\n",
    " - continue working through the rmaining tm351 materials"
   ]
  },
  {
   "cell_type": "markdown",
   "metadata": {},
   "source": [
    "## Week 5 (April 30)\n",
    " - start using datamining on the dataset\n",
    " - continue working through the rmaining tm351 materials (if appropriate)"
   ]
  },
  {
   "cell_type": "markdown",
   "metadata": {},
   "source": [
    "## Week 6 (May 7)\n",
    " - ask tutor for help if you are getting stuck\n",
    " - continue working through the rmaining tm351 materials (if appropriate)"
   ]
  },
  {
   "cell_type": "markdown",
   "metadata": {},
   "source": [
    "## Week 7 (May 14)\n",
    " - make tidy plots\n",
    " - look to see if I have made any silly mistakes in analysis"
   ]
  },
  {
   "cell_type": "markdown",
   "metadata": {},
   "source": [
    "# Week 8 (May 21)\n",
    " - Write up first full draft of the report\n",
    " - compare draft to marking guide.\n",
    " - have I missed anything?\n",
    " - ifyou need last minute help - ASK! (forums tutor)"
   ]
  },
  {
   "cell_type": "markdown",
   "metadata": {},
   "source": [
    "# Week 9 (May 28)\n",
    " - reread draft report\n",
    " - compare it to the maeking guide.\n",
    " - check if I have neglected anything.\n",
    " - IF ALL GOOD SUBMIT EARLY\n",
    " - if you need last minute help ASK!\n"
   ]
  },
  {
   "cell_type": "markdown",
   "metadata": {},
   "source": [
    "# Week 10 (Jun 4)\n",
    " - SUBMISSION WEEK\n",
    " - if still to submit, ensure marking guide is met"
   ]
  }
 ],
 "metadata": {
  "kernelspec": {
   "display_name": "Python 3",
   "language": "python",
   "name": "python3"
  },
  "language_info": {
   "codemirror_mode": {
    "name": "ipython",
    "version": 3
   },
   "file_extension": ".py",
   "mimetype": "text/x-python",
   "name": "python",
   "nbconvert_exporter": "python",
   "pygments_lexer": "ipython3",
   "version": "3.5.2"
  }
 },
 "nbformat": 4,
 "nbformat_minor": 2
}
