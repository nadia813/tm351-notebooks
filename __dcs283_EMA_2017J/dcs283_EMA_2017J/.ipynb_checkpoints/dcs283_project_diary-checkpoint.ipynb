{
 "cells": [
  {
   "cell_type": "markdown",
   "metadata": {},
   "source": [
    "# EMA Lab Notebook\n",
    "\n",
    "__Name:__ Daniel Smith\n",
    "\n",
    "__PI:__ A7603242\n"
   ]
  },
  {
   "cell_type": "code",
   "execution_count": 1,
   "metadata": {
    "collapsed": true
   },
   "outputs": [],
   "source": [
    "# import the required libraries\n",
    "# required imports\n",
    "import pandas as pd\n",
    "import scipy.stats\n",
    "import pymongo\n",
    "import bson\n",
    "import collections\n",
    "from matplotlib import pyplot\n",
    "import seaborn as sns"
   ]
  },
  {
   "cell_type": "markdown",
   "metadata": {
    "heading_collapsed": true
   },
   "source": [
    "## Contents \n",
    "\n",
    "- [Data preparation](#preparation)\n",
    "- [Cleaning the dataset](#cleaning)\n",
    "- [Q1. KS4 Investigation](#q1)\n",
    "- [Application of Machine Learning](#machine_learning)\n",
    "- [Q2. KS2 - KS4 Investigation](#q)\n"
   ]
  },
  {
   "cell_type": "markdown",
   "metadata": {},
   "source": [
    "# Data preparation\n",
    "<a name=\"importing\"></a>"
   ]
  },
  {
   "cell_type": "markdown",
   "metadata": {},
   "source": [
    "Before we can investigate the data we will to have a look at it, determine what cleaning if any needs doing, carry out the cleaning and store it for access in an appropriate form."
   ]
  },
  {
   "cell_type": "markdown",
   "metadata": {},
   "source": [
    "## Initial look at the KS4 results dataset\n",
    "Let's have a quick look at the data we will be looking at for the EMA."
   ]
  },
  {
   "cell_type": "code",
   "execution_count": 2,
   "metadata": {},
   "outputs": [
    {
     "name": "stdout",
     "output_type": "stream",
     "text": [
      "﻿RECTYPE,ALPHAIND,LEA,ESTAB,URN,SCHNAME,SCHNAME_AC,ADDRESS1,ADDRESS2,ADDRESS3,TOWN,PCODE,TELNUM,CONTFLAG,ICLOSE,NFTYPE,RELDENOM,ADMPOL,EGENDER,FEEDER,TABKS2,TAB1618,AGERANGE,CONFEXAM,TOTPUPS,NUMBOYS,NUMGIRLS,TPUP,BPUP,PBPUP,GPUP,PGPUP,KS2APS,TPRIORLO,PTPRIORLO,TPRIORAV,PTPRIORAV,TPRIORHI,PTPRIORHI,TFSM6CLA1A,PTFSM6CLA1A,TNOTFSM6CLA1A,PTNOTFSM6CLA1A,TEALGRP2,PTEALGRP2,TEALGRP1,PTEALGRP1,TEALGRP3,PTEALGRP3,TNMOB,PTNMOB,SENSE4,PSENSE4,SENAPK4,PSENAPK4,TOTATT8,ATT8SCR,TOTATT8ENG,ATT8SCRENG,TOTATT8MAT,ATT8SCRMAT,TOTATT8EBAC,ATT8SCREBAC,TOTATT8OPEN,ATT8SCROPEN,TOTATT8OPENG,ATT8SCROPENG,TOTATT8OPENNG,ATT8SCROPENNG,P8PUP,P8MEACOV,P8MEA,P8CILOW,P8CIUPP,P8MEAENG,P8MEAENG_CILOW,P8MEAENG_CIUPP,P8MEAMAT,P8MEAMAT_CILOW,P8MEAMAT_CIUPP,P8MEAEBAC,P8MEAEBAC_CILOW,P8MEAEBAC_CIUPP,P8MEAOPEN,P8MEAOPEN_CILOW,P8MEAOPEN_CIUPP,PTL2BASICS_LL_PTQ_EE,PTL2BASICS_3YR_PTQ_EE,TEBACC_E_PTQ_EE,PTEBACC_E_PTQ_EE,PTEBACC_PTQ_EE,TEBACENG_E_PTQ_EE,PTEBACENG_E_PTQ_EE,TEBACMAT_E_PTQ_EE,PTEBACMAT_E_PTQ_EE,TEBAC2SCI_E_PTQ_EE,PTEBAC2SCI_E_PTQ_EE,TEBACHUM_E_PTQ_EE,PTEBACHUM_E_PTQ_EE,TEBACLAN_E_PTQ_EE,PTEBACLAN_E_PTQ_EE,PTEBACENG_LL_PTQ_EE,PTEBACMAT_PTQ_EE,PTEBAC2SCI_PTQ_EE,PTEBACHUM_PTQ_EE,PTEBACLAN_PTQ_EE,SCIVACOV_PTQ_EE,HUMVACOV_PTQ_EE,LANVACOV_PTQ_EE,SCIVAMEA_PTQ_EE,SCIVALOW_PTQ_EE,SCIVAUPP_PTQ_EE,HUMVAMEA_PTQ_EE,HUMVALOW_PTQ_EE,HUMVAUPP_PTQ_EE,LANVAMEA_PTQ_EE,LANVALOW_PTQ_EE,LANVAUPP_PTQ_EE,TEBACENG_LL_PTQ_EE,TEBACMAT_PTQ_EE,TEBAC2SCI_PTQ_EE,TEBACHUM_PTQ_EE,TEBACLAN_PTQ_EE,TEBACCAG_PTQ_EE,PTEBACCAG_PTQ_EE,TEBACENGAG_LL_PTQ_EE,PTEBACENGAG_LL_PTQ_EE,TEBACMATAG_PTQ_EE,PTEBACMATAG_PTQ_EE,TEBAC2SCIAG_PTQ_EE,PTEBAC2SCIAG_PTQ_EE,TEBACHUMAG_PTQ_EE,PTEBACHUMAG_PTQ_EE,TEBACLANAG_PTQ_EE,PTEBACLANAG_PTQ_EE,ATT8SCR_FSM6CLA1A,P8PUP_FSM6CLA1A,P8MEA_FSM6CLA1A,P8CILOW_FSM6CLA1A,P8CIUPP_FSM6CLA1A,ATT8SCR_NFSM6CLA1A,P8PUP_NFSM6CLA1A,P8MEA_NFSM6CLA1A,P8CILOW_NFSM6CLA1A,P8CIUPP_NFSM6CLA1A,ATT8SCRENG_FSM6CLA1A,P8MEAENG_FSM6CLA1A,P8MEAENG_CILOW_FSM6CLA1A,P8MEAENG_CIUPP_FSM6CLA1A,ATT8SCRMAT_FSM6CLA1A,P8MEAMAT_FSM6CLA1A,P8MEAMAT_CILOW_FSM6CLA1A,P8MEAMAT_CIUPP_FSM6CLA1A,ATT8SCREBAC_FSM6CLA1A,P8MEAEBAC_FSM6CLA1A,P8MEAEBAC_CILOW_FSM6CLA1A,P8MEAEBAC_CIUPP_FSM6CLA1A,ATT8SCROPEN_FSM6CLA1A,P8MEAOPEN_FSM6CLA1A,P8MEAOPEN_CILOW_FSM6CLA1A,P8MEAOPEN_CIUPP_FSM6CLA1A,ATT8SCRENG_NFSM6CLA1A,P8MEAENG_NFSM6CLA1A,P8MEAENG_CILOW_NFSM6CLA1A,P8MEAENG_CIUPP_NFSM6CLA1A,ATT8SCRMAT_NFSM6CLA1A,P8MEAMAT_NFSM6CLA1A,P8MEAMAT_CILOW_NFSM6CLA1A,P8MEAMAT_CIUPP_NFSM6CLA1A,ATT8SCREBAC_NFSM6CLA1A,P8MEAEBAC_NFSM6CLA1A,P8MEAEBAC_CILOW_NFSM6CLA1A,P8MEAEBAC_CIUPP_NFSM6CLA1A,ATT8SCROPEN_NFSM6CLA1A,P8MEAOPEN_NFSM6CLA1A,P8MEAOPEN_CILOW_NFSM6CLA1A,P8MEAOPEN_CIUPP_NFSM6CLA1A,ATT8SCROPENG_FSM6CLA1A,ATT8SCROPENNG_FSM6CLA1A,ATT8SCROPENG_NFSM6CLA1A,ATT8SCROPENNG_NFSM6CLA1A,DIFFN_ATT8,DIFFN_P8MEA,ATT8SCR_LO,P8PUP_LO,P8MEA_LO,P8CILOW_LO,P8CIUPP_LO,ATT8SCR_AV,P8PUP_AV,P8MEA_AV,P8CILOW_AV,P8CIUPP_AV,ATT8SCR_HI,P8PUP_HI,P8MEA_HI,P8CILOW_HI,P8CIUPP_HI,ATT8SCR_EAL,P8PUP_EAL,P8MEA_EAL,P8CILOW_EAL,P8CIUPP_EAL,ATT8SCR_GIRLS,P8PUP_GIRLS,P8MEA_GIRLS,P8CILOW_GIRLS,P8CIUPP_GIRLS,ATT8SCR_BOYS,P8PUP_BOYS,P8MEA_BOYS,P8CILOW_BOYS,P8CIUPP_BOYS,ATT8SCR_NMOB,P8PUP_NMOB,P8MEA_NMOB,P8CILOW_NMOB,P8CIUPP_NMOB,ATT8SCR_15,P8PUP_15,P8MEA_15,P8CILOW_15,P8CIUPP_15,TEBACC_ELO_PTQ_EE,PTEBACC_ELO_PTQ_EE,PTEBACCLO_PTQ_EE,TEBACC_EAV_PTQ_EE,PTEBACC_EAV_PTQ_EE,PTEBACCAV_PTQ_EE,TEBACC_EHI_PTQ_EE,PTEBACC_EHI_PTQ_EE,PTEBACCHI_PTQ_EE,PTEBACC_EFSM6CLA1A_PTQ_EE,PTEBACC_ENFSM6CLA1A_PTQ_EE,PTEBACC_FSM6CLA1A_PTQ_EE,PTEBACC_NFSM6CLA1A_PTQ_EE,SCIVAMEA_LO_PTQ_EE,SCIVAMEA_AV_PTQ_EE,SCIVAMEA_HI_PTQ_EE,SCIVAMEA_FSM6CLA1A_PTQ_EE,SCIVAMEA_NFSM6CLA1A_PTQ_EE,HUMVAMEA_LO_PTQ_EE,HUMVAMEA_AV_PTQ_EE,HUMVAMEA_HI_PTQ_EE,HUMVAMEA_FSM6CLA1A_PTQ_EE,HUMVAMEA_NFSM6CLA1A_PTQ_EE,LANVAMEA_LO_PTQ_EE,LANVAMEA_AV_PTQ_EE,LANVAMEA_HI_PTQ_EE,LANVAMEA_FSM6CLA1A_PTQ_EE,LANVAMEA_NFSM6CLA1A_PTQ_EE,SCIVAUPP_FSM6CLA1A_PTQ_EE,SCIVALOW_FSM6CLA1A_PTQ_EE,SCIVAUPP_NFSM6CLA1A_PTQ_EE,SCIVALOW_NFSM6CLA1A_PTQ_EE,SCIVAUPP_LO_PTQ_EE,SCIVALOW_LO_PTQ_EE,SCIVAUPP_AV_PTQ_EE,SCIVALOW_AV_PTQ_EE,SCIVAUPP_HI_PTQ_EE,SCIVALOW_HI_PTQ_EE,HUMVAUPP_FSM6CLA1A_PTQ_EE,HUMVALOW_FSM6CLA1A_PTQ_EE,HUMVAUPP_NFSM6CLA1A_PTQ_EE,HUMVALOW_NFSM6CLA1A_PTQ_EE,HUMVAUPP_LO_PTQ_EE,HUMVALOW_LO_PTQ_EE,HUMVAUPP_AV_PTQ_EE,HUMVALOW_AV_PTQ_EE,HUMVAUPP_HI_PTQ_EE,HUMVALOW_HI_PTQ_EE,LANVAUPP_FSM6CLA1A_PTQ_EE,LANVALOW_FSM6CLA1A_PTQ_EE,LANVAUPP_NFSM6CLA1A_PTQ_EE,LANVALOW_NFSM6CLA1A_PTQ_EE,LANVAUPP_LO_PTQ_EE,LANVALOW_LO_PTQ_EE,LANVAUPP_AV_PTQ_EE,LANVALOW_AV_PTQ_EE,LANVAUPP_HI_PTQ_EE,LANVALOW_HI_PTQ_EE,PTEBACC_E_13,PTEBACC_13,PTEBACC_E_14_PTQ,PTEBACC_14_PTQ,PTEBACC_E_15_PTQ_EE,PTEBACC_15_PTQ_EE,PBEBACC_E_PTQ_EE,PBEBACC_PTQ_EE,PGEBACC_E_PTQ_EE,PGEBACC_PTQ_EE,PTEBACC_ENMOB_PTQ_EE,PTEBACCNMOB_PTQ_EE,PTEBACC_EEAL_PTQ_EE,PTEBACCEAL_PTQ_EE,PTEBACC_EFSM_13,PTEBACC_FSM_13,PTEBACC_ENFSM_13,PTEBACC_NFSM_13,PTEBACC_EFSM_14_PTQ,PTEBACC_FSM_14_PTQ,PTEBACC_ENFSM_14_PTQ,PTEBACC_NFSM_14_PTQ,PTEBACC_EFSM6CLA1A_15_PTQ_EE,PTEBACC_FSM6CLA1A_15_PTQ_EE,PTEBACC_ENFSM6CLA1A_15_PTQ_EE,PTEBACC_NFSM6CLA1A_15_PTQ_EE,PTAC5EM_PTQ_EE,AC5EM13,AC5EM14_PTQ,AC5EM15_PTQ_EE,AC5EM16_PTQ_EE,PTANYQ_PTQ_EE,PTL2BASICS_13,PTL2BASICS_14_PTQ,PTL2BASICS_15_PTQ_EE,PTFSM6CLA1ABASICS_LL_PTQ_EE,PTNOTFSM6CLA1ABASICS_LL_PTQ_EE,TBASICS_LL_LO_PTQ_EE,PTBASICS_LL_LO_PTQ_EE,TBASICS_LL_AV_PTQ_EE,PTBASICS_LL_AV_PTQ_EE,TBASICS_LL_HI_PTQ_EE,PTBASICS_LL_HI_PTQ_EE,PBL2BASICS_LL_PTQ_EE,PGL2BASICS_LL_PTQ_EE,PTL2BASICS_LL_EAL_PTQ_EE,PTL2BASICS_LL_NMOB_PTQ_EE,PTFSMBASICS_13,PTNOTFSMBASICS_13,PTFSMBASICS_14_PTQ,PTNOTFSMBASICS_14_PTQ,PTFSM6CLA1ABASICS_15_PTQ_EE,PTNOTFSM6CLA1ABASICS_15_PTQ_EE,PTmultiLan_E,PTtripleSci_E,TFSMCLA_13,PTFSMCLA_13,TNOTFSMCLA_13,PTNOTFSMCLA_13,TFSMCLA_14,PTFSMCLA_14,TNOTFSMCLA_14,PTNOTFSMCLA_14,TFSM6CLA1A_15,PTFSM6CLA1A_15,TNOTFSM6CLA1A_15,PTNOTFSM6CLA1A_15,TAVENT_E_3NG_PTQ_EE,TAVENT_E_3NG_LO_PTQ_EE,TAVENT_E_3NG_AV_PTQ_EE,TAVENT_E_3NG_HI_PTQ_EE,TAVENT_E_3NG_FSM6CLA1A_PTQ_EE,TAVENT_E_3NG_NFSM6CLA1A_PTQ_EE,TAVENT_EFSM_13,TAVENT_ENFSM_13,TAVENT_EFSM_14_PTQ,TAVENT_ENFSM_14_PTQ,TAVENT_EFSM6CLA1A_15_PTQ_EE,TAVENT_ENFSM6CLA1A_15_PTQ_EE,TAVENT_G_PTQ_EE,TAVENT_GLO_PTQ_EE,TAVENT_GAV_PTQ_EE,TAVENT_GHI_PTQ_EE,TAVENT_GFSM6CLA1A_PTQ_EE,TAVENT_GNFSM6CLA1A_PTQ_EE,TAVENT_GFSM_13,TAVENT_GNFSM_13,TAVENT_GFSM_14_PTQ,TAVENT_GNFSM_14_PTQ,TAVENT_GFSM6CLA1A_15_PTQ_EE,TAVENT_GNFSM6CLA1A_15_PTQ_EE\r",
      "\r\n",
      "1,11828,201,6007,100003,City of London School, ,Queen Victoria Street, , ,London,EC4V 3AL,0207 4890291,0,0,IND,None, ,BOYS,0,0,1,10-18, ,918,918,NA,139,139,100%,NA,NA,NP,NP,NP,NP,NP,NP,NP,NP,NP,NP,NP,NP,NP,NP,NP,NP,NP,NP,NP,NA,NA,NA,NA,5849,42.1,1012,7.3,0,0,3085.3,22.2,1751.8,12.6,1452.5,10.4,299.3,2.2,NP,NP,NP,NP,NP,NP,NP,NP,NP,NP,NP,NP,NP,NP,NP,NP,NP,0%,0%,0,0%,0%,0,0%,0,0%,0,0%,135,97%,139,100%,0%,0%,NE,100%,100%,NP,NP,NP,NP,NP,NP,NP,NP,NP,NP,NP,NP,0,0,NE,135,139,0,0%,0,0%,0,0%,NE,NE,135,100%,139,100%,NP,NP,NP,NP,NP,NP,NP,NP,NP,NP,NP,NP,NP,NP,NP,NP,NP,NP,NP,NP,NP,NP,NP,NP,NP,NP,NP,NP,NP,NP,NP,NP,NP,NP,NP,NP,NP,NP,NP,NP,NP,NP,NP,NP,NP,NP,NP,NP,NP,NP,NP,NP,NP,NP,NP,NP,NP,NP,NP,NP,NP,NP,NP,NP,NP,NP,NP,NP,NA,NA,NA,NA,NA,42.1,NP,NP,NP,NP,NP,NP,NP,NP,NP,NA,NA,NA,NA,NA,NP,NP,NP,NP,NP,NP,NP,NP,NP,NP,NP,NP,NP,NP,NP,NP,NP,NP,NP,NP,NP,NP,NP,NP,NP,NP,NP,NP,NP,NP,NP,NP,NP,NP,NP,NP,NP,NP,NP,NP,NP,NP,NP,NP,NP,NP,NP,NP,NP,NP,NP,NP,NP,NP,NP,NP,NP,NP,0%,0%,0%,0%,0%,0%,0%,0%,NE,NE,NP,NP,NP,NP,NA,NA,NA,NA,NA,NA,NA,NA,NA,NA,NA,NA,0%,0%,0%,0%,0%,100%,0%,0%,0%,NP,NP,NP,NP,NP,NP,NP,NP,0%,NE,NP,NP,NA,NA,NA,NA,NA,NA,68%,0%,NA,NA,NA,NA,NA,NA,NA,NA,NA,NA,NA,NA,5.6,NP,NP,NP,NP,NP,NA,NA,NA,NA,NA,NA,5.3,NP,NP,NP,NP,NP,NA,NA,NA,NA,NA,NA\r",
      "\r\n",
      "1,11830,201,6005,100001,City of London School for Girls, ,St Giles' Terrace,Barbican, ,London,EC2Y 8BB,0207 8475500,0,0,IND,None, ,GIRLS,0,0,1,7-18, ,730,NA,730,90,NA,NA,90,100%,NP,NP,NP,NP,NP,NP,NP,NP,NP,NP,NP,NP,NP,NP,NP,NP,NP,NP,NP,NA,NA,NA,NA,2900.3,32.2,0,0,19,0.2,1517.5,16.9,1363.8,15.2,1172.8,13,191,2.1,NP,NP,NP,NP,NP,NP,NP,NP,NP,NP,NP,NP,NP,NP,NP,NP,NP,0%,0%,0,0%,0%,0,0%,1,1%,0,0%,64,71%,79,88%,0%,1%,NE,100%,100%,NP,NP,NP,NP,NP,NP,NP,NP,NP,NP,NP,NP,0,1,NE,64,79,0,0%,0,0%,1,1%,NE,NE,64,100%,79,100%,NP,NP,NP,NP,NP,NP,NP,NP,NP,NP,NP,NP,NP,NP,NP,NP,NP,NP,NP,NP,NP,NP,NP,NP,NP,NP,NP,NP,NP,NP,NP,NP,NP,NP,NP,NP,NP,NP,NP,NP,NP,NP,NP,NP,NP,NP,NP,NP,NP,NP,NP,NP,NP,NP,NP,NP,NP,NP,NP,NP,NP,NP,NP,NP,NP,NP,NP,NP,32.2,NP,NP,NP,NP,NA,NA,NA,NA,NA,NP,NP,NP,NP,NP,NA,NA,NA,NA,NA,NP,NP,NP,NP,NP,NP,NP,NP,NP,NP,NP,NP,NP,NP,NP,NP,NP,NP,NP,NP,NP,NP,NP,NP,NP,NP,NP,NP,NP,NP,NP,NP,NP,NP,NP,NP,NP,NP,NP,NP,NP,NP,NP,NP,NP,NP,NP,NP,NP,NP,NP,NP,NP,NP,NP,NP,NP,NP,68%,68%,0%,0%,0%,0%,NE,NE,0%,0%,NP,NP,NP,NP,NA,NA,NA,NA,NA,NA,NA,NA,NA,NA,NA,NA,0%,100%,0%,0%,0%,99%,100%,0%,0%,NP,NP,NP,NP,NP,NP,NP,NP,NE,0%,NP,NP,NA,NA,NA,NA,NA,NA,42%,0%,NA,NA,NA,NA,NA,NA,NA,NA,NA,NA,NA,NA,4.2,NP,NP,NP,NP,NP,NA,NA,NA,NA,NA,NA,3.9,NP,NP,NP,NP,NP,NA,NA,NA,NA,NA,NA\r",
      "\r\n",
      "4, ,201, , , , , , , , , , , , , , , , , , , ,, , , , , , , , , , , , , , , , , , , , , , , , , , , , , , , , , , , , , , , , , , , , , , , , , , , , , , , , , , , , , , , , , , , , , , , , , , , , , , , , , , , , , , , , , , , , , , , , , , , , , , , , , , , , , , , , , , , , , , , , , , , , , , , , , , , , , , , , , , , , , , , , , , , , , , , , , , , , , , , , , , , , , , , , , , , , , , , , , , , , , , , , , , , , , , , , , , , , , , , , , , , , , , , , , , , , , , , , , , , , , , , , , , , , , , , , , , , , , , , , , , , , , , , , , , , , , , , , , , , , , , , , , , , , , , , , , , , , , , , , , , , , , , , , , , , , , , , , , , , , , , , , , , , , , , , , , , , , , , , , , , , , , , , , , , , , , , , , , , , , , , , , , , , , , \r",
      "\r\n",
      "1,368,202,4285,100053,Acland Burghley School, ,Burghley Road, , ,London,NW5 1UJ,0207 4858515,0,0,CY,Does not apply,COMP,MIXED,1,0,1,11-18, ,974,628,346,172,109,63%,63,37%,28.3,22,13%,81,48%,66,39%,98,57%,74,43%,55,32%,117,68%,0,0%,166,97%,9,5%,9,5%,8622.5,50.1,1900,11,1700,9.9,2443,14.2,2579.5,15,2496,14.5,83.5,0.5,169,98%,-0.26,-0.42,-0.1,-0.02,-0.19,0.15,-0.26,-0.44,-0.07,-0.15,-0.36,0.06,-0.53,-0.72,-0.35,60%,59%,74,43%,30%,170,99%,168,98%,139,81%,131,76%,96,56%,81%,62%,75%,63%,77%,100%,99%,99%,-0.06,-0.24,0.12,-0.21,-0.46,0.04,0.31,0.03,0.58,140,107,104,83,74,74,43%,170,99%,162,94%,137,99%,131,100%,96,100%,44.6,96,-0.38,-0.59,-0.16,57.4,73,-0.1,-0.35,0.14,10.1,-0.13,-0.35,0.1,8.6,-0.4,-0.65,-0.16,12.3,-0.23,-0.51,0.05,13.6,-0.67,-0.92,-0.43,12.3,0.13,-0.13,0.39,11.6,-0.06,-0.34,0.22,16.7,-0.04,-0.36,0.28,16.9,-0.35,-0.64,-0.07,12.8,0.8,16.8,0.1,-8.7,-0.48,26,22,-0.75,-1.19,-0.3,46.8,81,-0.21,-0.44,0.02,63.1,66,-0.16,-0.41,0.1,49.9,53,-0.13,-0.41,0.16,50.5,61,-0.13,-0.39,0.14,49.9,108,-0.33,-0.53,-0.13,50.6,164,-0.23,-0.39,-0.07,NA,NA,NA,NA,NA,1,5%,0%,28,35%,15%,45,68%,61%,33%,57%,21%,42%,-0.18,0.09,-0.2,-0.03,-0.09,0.36,-0.37,-0.17,-0.33,-0.04,SUPP,0.34,0.31,0.31,0.3,0.23,-0.28,0.16,-0.34,0.57,-0.92,0.34,-0.17,0.07,-0.46,0,-0.67,0.33,-0.42,1.18,-0.46,0.01,-0.75,0.19,-0.53,0.71,-0.09,0.68,-0.08,SUPP,SUPP,0.76,-0.08,0.7,-0.07,48%,30%,57%,34%,57%,37%,42%,31%,44%,29%,44%,31%,49%,33%,29%,12%,72%,51%,46%,21%,71%,51%,44%,26%,73%,51%,53%,57%,57%,56%,53%,99%,59%,59%,56%,47%,78%,2,9%,38,47%,63,95%,63%,56%,58%,61%,43%,78%,44%,77%,45%,71%,3%,32%,97,54%,81,46%,97,55%,79,45%,94,56%,75,44%,9.1,6.9,9.1,9.9,8.7,9.6,8.7,9.9,9.2,10.3,9.7,11.5,8.8,6.1,8.9,9.8,8.4,9.5,8.1,9.8,9,10.2,8.4,10.6\r",
      "\r\n"
     ]
    }
   ],
   "source": [
    "!head -5 'data/2015-2016/england_ks4final.csv'"
   ]
  },
  {
   "cell_type": "code",
   "execution_count": 3,
   "metadata": {},
   "outputs": [
    {
     "name": "stdout",
     "output_type": "stream",
     "text": [
      "5489 data/2015-2016/england_ks4final.csv\r\n"
     ]
    }
   ],
   "source": [
    "!wc -l 'data/2015-2016/england_ks4final.csv'"
   ]
  },
  {
   "cell_type": "markdown",
   "metadata": {},
   "source": [
    "The dataset has 5489 rows of data, there appears to be a large number of columns and a lot of codes that I'll need to look up.  There are a also a number of `NA` and `NP` values that could be missing data.  As well as this results data I will need to find and import the relevent metadata file."
   ]
  },
  {
   "cell_type": "markdown",
   "metadata": {},
   "source": [
    "Looking through the data/2015-2016 folder there are a number of files that have information on these codes."
   ]
  },
  {
   "cell_type": "code",
   "execution_count": 4,
   "metadata": {},
   "outputs": [
    {
     "name": "stdout",
     "output_type": "stream",
     "text": [
      "abbreviations.xlsx\t    england_swf.csv\r\n",
      "abs_meta.csv\t\t    england_vaqual.csv\r\n",
      "census_meta.csv\t\t    england_vasubj.csv\r\n",
      "england_abs.csv\t\t    ks2_meta.csv\r\n",
      "england_census.csv\t    ks4_meta.csv\r\n",
      "england_cfrfull.xlsx\t    ks4_meta_methodology.csv\r\n",
      "england_ks2final.csv\t    ks4-pupdest_meta.csv\r\n",
      "england_ks4final.csv\t    ks5_meta.csv\r\n",
      "england_ks4-pupdest.csv     ks5-studest_meta.csv\r\n",
      "england_ks4underlying.xlsx  la_and_region_codes_meta.csv\r\n",
      "england_ks5final.csv\t    sixth_form_centres_and_consortia_meta.xlsx\r\n",
      "england_ks5-studest.csv     spine_meta.csv\r\n",
      "england_ks5underlying.xlsx  swf_meta.csv\r\n",
      "england_spine.csv\r\n"
     ]
    }
   ],
   "source": [
    "!ls data/2015-2016/"
   ]
  },
  {
   "cell_type": "markdown",
   "metadata": {},
   "source": [
    "There is an abbreviations file, stored as an xlsx file.  I'll have a quick glance at it in excel.  Having looked the abbreviation up in the abbreviations file we can see that they have the following meanings:\n",
    "\n",
    "- _NA_: Not Applicable\n",
    "- _NP_: Not Published\n",
    "\n",
    "However, before importing the results data I want to look at it in Open Refine and decide what I will do with the missing data."
   ]
  },
  {
   "cell_type": "markdown",
   "metadata": {},
   "source": [
    "## Open Refine"
   ]
  },
  {
   "cell_type": "markdown",
   "metadata": {},
   "source": [
    "Looking at the `england_ks4final.csv` file in OpenRefine I can see that the NA and NP values are in many places there are also SUPP values.\n",
    "\n",
    "However, with there being so many columns to facet and edit one by one it will become very tedious, and a lot of them may have no bearing on my investigations.  Therefore it will actually be easier and more efficient to handle these in the querying of the database. Therefore no changes were made to the file in open refine."
   ]
  },
  {
   "cell_type": "markdown",
   "metadata": {},
   "source": [
    "## Choosing MongoDB"
   ]
  },
  {
   "cell_type": "markdown",
   "metadata": {},
   "source": [
    "With so many columns to investigate I am leaning towards using a DBMS to make the querying of the data more efficient than in a pandas dataframe.  Therefore, I will import the data into MongoDB.  I chose a document database system as they are far more flexible than a relational database.  In this investigation it may become necessary to add fields to certain documents for example.  \n",
    "\n",
    "\n",
    "\n"
   ]
  },
  {
   "cell_type": "markdown",
   "metadata": {
    "heading_collapsed": true
   },
   "source": [
    "## Importing KS4 results data into MongoDB"
   ]
  },
  {
   "cell_type": "code",
   "execution_count": 5,
   "metadata": {
    "hidden": true
   },
   "outputs": [
    {
     "name": "stdout",
     "output_type": "stream",
     "text": [
      "2018-05-19T09:02:54.999+0000\tconnected to: localhost:27351\n",
      "2018-05-19T09:02:54.999+0000\tdropping: schools_db.ks4final\n",
      "2018-05-19T09:02:56.998+0000\timported 5489 documents\n"
     ]
    }
   ],
   "source": [
    "# import the results data into mongo db\n",
    "!/usr/bin/mongoimport --port 27351 --drop --db schools_db --collection ks4final \\\n",
    "    --type csv --headerline --ignoreBlanks \\\n",
    "    --file data/2015-2016/england_ks4final.csv"
   ]
  },
  {
   "cell_type": "code",
   "execution_count": 6,
   "metadata": {
    "collapsed": true,
    "hidden": true
   },
   "outputs": [],
   "source": [
    "# open a connection to the mongo server\n",
    "client = pymongo.MongoClient('mongodb://localhost:27351/')"
   ]
  },
  {
   "cell_type": "code",
   "execution_count": 7,
   "metadata": {
    "collapsed": true,
    "hidden": true
   },
   "outputs": [],
   "source": [
    "# open the imported database and collection\n",
    "db = client.schools_db\n",
    "ks4results = db.ks4final"
   ]
  },
  {
   "cell_type": "code",
   "execution_count": 8,
   "metadata": {
    "hidden": true
   },
   "outputs": [
    {
     "data": {
      "text/plain": [
       "5489"
      ]
     },
     "execution_count": 8,
     "metadata": {},
     "output_type": "execute_result"
    }
   ],
   "source": [
    "# check the number of imported matches the line length of the file (5489)\n",
    "ks4results.find().count()"
   ]
  },
  {
   "cell_type": "markdown",
   "metadata": {
    "hidden": true
   },
   "source": [
    "Good, 5489 documents as expected.  Let's have a look at one."
   ]
  },
  {
   "cell_type": "code",
   "execution_count": 9,
   "metadata": {
    "hidden": true
   },
   "outputs": [
    {
     "data": {
      "text/plain": [
       "{'AC5EM13': '0%',\n",
       " 'AC5EM14_PTQ': '0%',\n",
       " 'AC5EM15_PTQ_EE': '0%',\n",
       " 'AC5EM16_PTQ_EE': '0%',\n",
       " 'ADDRESS1': 'Queen Victoria Street',\n",
       " 'AGERANGE': '10-18',\n",
       " 'ALPHAIND': 11828,\n",
       " 'ATT8SCR': 42.1,\n",
       " 'ATT8SCREBAC': 22.2,\n",
       " 'ATT8SCREBAC_FSM6CLA1A': 'NP',\n",
       " 'ATT8SCREBAC_NFSM6CLA1A': 'NP',\n",
       " 'ATT8SCRENG': 7.3,\n",
       " 'ATT8SCRENG_FSM6CLA1A': 'NP',\n",
       " 'ATT8SCRENG_NFSM6CLA1A': 'NP',\n",
       " 'ATT8SCRMAT': 0,\n",
       " 'ATT8SCRMAT_FSM6CLA1A': 'NP',\n",
       " 'ATT8SCRMAT_NFSM6CLA1A': 'NP',\n",
       " 'ATT8SCROPEN': 12.6,\n",
       " 'ATT8SCROPENG': 10.4,\n",
       " 'ATT8SCROPENG_FSM6CLA1A': 'NP',\n",
       " 'ATT8SCROPENG_NFSM6CLA1A': 'NP',\n",
       " 'ATT8SCROPENNG': 2.2,\n",
       " 'ATT8SCROPENNG_FSM6CLA1A': 'NP',\n",
       " 'ATT8SCROPENNG_NFSM6CLA1A': 'NP',\n",
       " 'ATT8SCROPEN_FSM6CLA1A': 'NP',\n",
       " 'ATT8SCROPEN_NFSM6CLA1A': 'NP',\n",
       " 'ATT8SCR_15': 'NA',\n",
       " 'ATT8SCR_AV': 'NP',\n",
       " 'ATT8SCR_BOYS': 42.1,\n",
       " 'ATT8SCR_EAL': 'NP',\n",
       " 'ATT8SCR_FSM6CLA1A': 'NP',\n",
       " 'ATT8SCR_GIRLS': 'NA',\n",
       " 'ATT8SCR_HI': 'NP',\n",
       " 'ATT8SCR_LO': 'NP',\n",
       " 'ATT8SCR_NFSM6CLA1A': 'NP',\n",
       " 'ATT8SCR_NMOB': 'NP',\n",
       " 'BPUP': 139,\n",
       " 'CONTFLAG': 0,\n",
       " 'DIFFN_ATT8': 'NP',\n",
       " 'DIFFN_P8MEA': 'NP',\n",
       " 'EGENDER': 'BOYS',\n",
       " 'ESTAB': 6007,\n",
       " 'FEEDER': 0,\n",
       " 'GPUP': 'NA',\n",
       " 'HUMVACOV_PTQ_EE': 'NP',\n",
       " 'HUMVALOW_AV_PTQ_EE': 'NP',\n",
       " 'HUMVALOW_FSM6CLA1A_PTQ_EE': 'NP',\n",
       " 'HUMVALOW_HI_PTQ_EE': 'NP',\n",
       " 'HUMVALOW_LO_PTQ_EE': 'NP',\n",
       " 'HUMVALOW_NFSM6CLA1A_PTQ_EE': 'NP',\n",
       " 'HUMVALOW_PTQ_EE': 'NP',\n",
       " 'HUMVAMEA_AV_PTQ_EE': 'NP',\n",
       " 'HUMVAMEA_FSM6CLA1A_PTQ_EE': 'NP',\n",
       " 'HUMVAMEA_HI_PTQ_EE': 'NP',\n",
       " 'HUMVAMEA_LO_PTQ_EE': 'NP',\n",
       " 'HUMVAMEA_NFSM6CLA1A_PTQ_EE': 'NP',\n",
       " 'HUMVAMEA_PTQ_EE': 'NP',\n",
       " 'HUMVAUPP_AV_PTQ_EE': 'NP',\n",
       " 'HUMVAUPP_FSM6CLA1A_PTQ_EE': 'NP',\n",
       " 'HUMVAUPP_HI_PTQ_EE': 'NP',\n",
       " 'HUMVAUPP_LO_PTQ_EE': 'NP',\n",
       " 'HUMVAUPP_NFSM6CLA1A_PTQ_EE': 'NP',\n",
       " 'HUMVAUPP_PTQ_EE': 'NP',\n",
       " 'ICLOSE': 0,\n",
       " 'KS2APS': 'NP',\n",
       " 'LANVACOV_PTQ_EE': 'NP',\n",
       " 'LANVALOW_AV_PTQ_EE': 'NP',\n",
       " 'LANVALOW_FSM6CLA1A_PTQ_EE': 'NP',\n",
       " 'LANVALOW_HI_PTQ_EE': 'NP',\n",
       " 'LANVALOW_LO_PTQ_EE': 'NP',\n",
       " 'LANVALOW_NFSM6CLA1A_PTQ_EE': 'NP',\n",
       " 'LANVALOW_PTQ_EE': 'NP',\n",
       " 'LANVAMEA_AV_PTQ_EE': 'NP',\n",
       " 'LANVAMEA_FSM6CLA1A_PTQ_EE': 'NP',\n",
       " 'LANVAMEA_HI_PTQ_EE': 'NP',\n",
       " 'LANVAMEA_LO_PTQ_EE': 'NP',\n",
       " 'LANVAMEA_NFSM6CLA1A_PTQ_EE': 'NP',\n",
       " 'LANVAMEA_PTQ_EE': 'NP',\n",
       " 'LANVAUPP_AV_PTQ_EE': 'NP',\n",
       " 'LANVAUPP_FSM6CLA1A_PTQ_EE': 'NP',\n",
       " 'LANVAUPP_HI_PTQ_EE': 'NP',\n",
       " 'LANVAUPP_LO_PTQ_EE': 'NP',\n",
       " 'LANVAUPP_NFSM6CLA1A_PTQ_EE': 'NP',\n",
       " 'LANVAUPP_PTQ_EE': 'NP',\n",
       " 'LEA': 201,\n",
       " 'NFTYPE': 'IND',\n",
       " 'NUMBOYS': 918,\n",
       " 'NUMGIRLS': 'NA',\n",
       " 'P8CILOW': 'NP',\n",
       " 'P8CILOW_15': 'NA',\n",
       " 'P8CILOW_AV': 'NP',\n",
       " 'P8CILOW_BOYS': 'NP',\n",
       " 'P8CILOW_EAL': 'NP',\n",
       " 'P8CILOW_FSM6CLA1A': 'NP',\n",
       " 'P8CILOW_GIRLS': 'NA',\n",
       " 'P8CILOW_HI': 'NP',\n",
       " 'P8CILOW_LO': 'NP',\n",
       " 'P8CILOW_NFSM6CLA1A': 'NP',\n",
       " 'P8CILOW_NMOB': 'NP',\n",
       " 'P8CIUPP': 'NP',\n",
       " 'P8CIUPP_15': 'NA',\n",
       " 'P8CIUPP_AV': 'NP',\n",
       " 'P8CIUPP_BOYS': 'NP',\n",
       " 'P8CIUPP_EAL': 'NP',\n",
       " 'P8CIUPP_FSM6CLA1A': 'NP',\n",
       " 'P8CIUPP_GIRLS': 'NA',\n",
       " 'P8CIUPP_HI': 'NP',\n",
       " 'P8CIUPP_LO': 'NP',\n",
       " 'P8CIUPP_NFSM6CLA1A': 'NP',\n",
       " 'P8CIUPP_NMOB': 'NP',\n",
       " 'P8MEA': 'NP',\n",
       " 'P8MEACOV': 'NP',\n",
       " 'P8MEAEBAC': 'NP',\n",
       " 'P8MEAEBAC_CILOW': 'NP',\n",
       " 'P8MEAEBAC_CILOW_FSM6CLA1A': 'NP',\n",
       " 'P8MEAEBAC_CILOW_NFSM6CLA1A': 'NP',\n",
       " 'P8MEAEBAC_CIUPP': 'NP',\n",
       " 'P8MEAEBAC_CIUPP_FSM6CLA1A': 'NP',\n",
       " 'P8MEAEBAC_CIUPP_NFSM6CLA1A': 'NP',\n",
       " 'P8MEAEBAC_FSM6CLA1A': 'NP',\n",
       " 'P8MEAEBAC_NFSM6CLA1A': 'NP',\n",
       " 'P8MEAENG': 'NP',\n",
       " 'P8MEAENG_CILOW': 'NP',\n",
       " 'P8MEAENG_CILOW_FSM6CLA1A': 'NP',\n",
       " 'P8MEAENG_CILOW_NFSM6CLA1A': 'NP',\n",
       " 'P8MEAENG_CIUPP': 'NP',\n",
       " 'P8MEAENG_CIUPP_FSM6CLA1A': 'NP',\n",
       " 'P8MEAENG_CIUPP_NFSM6CLA1A': 'NP',\n",
       " 'P8MEAENG_FSM6CLA1A': 'NP',\n",
       " 'P8MEAENG_NFSM6CLA1A': 'NP',\n",
       " 'P8MEAMAT': 'NP',\n",
       " 'P8MEAMAT_CILOW': 'NP',\n",
       " 'P8MEAMAT_CILOW_FSM6CLA1A': 'NP',\n",
       " 'P8MEAMAT_CILOW_NFSM6CLA1A': 'NP',\n",
       " 'P8MEAMAT_CIUPP': 'NP',\n",
       " 'P8MEAMAT_CIUPP_FSM6CLA1A': 'NP',\n",
       " 'P8MEAMAT_CIUPP_NFSM6CLA1A': 'NP',\n",
       " 'P8MEAMAT_FSM6CLA1A': 'NP',\n",
       " 'P8MEAMAT_NFSM6CLA1A': 'NP',\n",
       " 'P8MEAOPEN': 'NP',\n",
       " 'P8MEAOPEN_CILOW': 'NP',\n",
       " 'P8MEAOPEN_CILOW_FSM6CLA1A': 'NP',\n",
       " 'P8MEAOPEN_CILOW_NFSM6CLA1A': 'NP',\n",
       " 'P8MEAOPEN_CIUPP': 'NP',\n",
       " 'P8MEAOPEN_CIUPP_FSM6CLA1A': 'NP',\n",
       " 'P8MEAOPEN_CIUPP_NFSM6CLA1A': 'NP',\n",
       " 'P8MEAOPEN_FSM6CLA1A': 'NP',\n",
       " 'P8MEAOPEN_NFSM6CLA1A': 'NP',\n",
       " 'P8MEA_15': 'NA',\n",
       " 'P8MEA_AV': 'NP',\n",
       " 'P8MEA_BOYS': 'NP',\n",
       " 'P8MEA_EAL': 'NP',\n",
       " 'P8MEA_FSM6CLA1A': 'NP',\n",
       " 'P8MEA_GIRLS': 'NA',\n",
       " 'P8MEA_HI': 'NP',\n",
       " 'P8MEA_LO': 'NP',\n",
       " 'P8MEA_NFSM6CLA1A': 'NP',\n",
       " 'P8MEA_NMOB': 'NP',\n",
       " 'P8PUP': 'NP',\n",
       " 'P8PUP_15': 'NA',\n",
       " 'P8PUP_AV': 'NP',\n",
       " 'P8PUP_BOYS': 'NP',\n",
       " 'P8PUP_EAL': 'NP',\n",
       " 'P8PUP_FSM6CLA1A': 'NP',\n",
       " 'P8PUP_GIRLS': 'NA',\n",
       " 'P8PUP_HI': 'NP',\n",
       " 'P8PUP_LO': 'NP',\n",
       " 'P8PUP_NFSM6CLA1A': 'NP',\n",
       " 'P8PUP_NMOB': 'NP',\n",
       " 'PBEBACC_E_PTQ_EE': '0%',\n",
       " 'PBEBACC_PTQ_EE': '0%',\n",
       " 'PBL2BASICS_LL_PTQ_EE': '0%',\n",
       " 'PBPUP': '100%',\n",
       " 'PCODE': 'EC4V 3AL',\n",
       " 'PGEBACC_E_PTQ_EE': 'NE',\n",
       " 'PGEBACC_PTQ_EE': 'NE',\n",
       " 'PGL2BASICS_LL_PTQ_EE': 'NE',\n",
       " 'PGPUP': 'NA',\n",
       " 'PSENAPK4': 'NA',\n",
       " 'PSENSE4': 'NA',\n",
       " 'PTAC5EM_PTQ_EE': '0%',\n",
       " 'PTANYQ_PTQ_EE': '100%',\n",
       " 'PTBASICS_LL_AV_PTQ_EE': 'NP',\n",
       " 'PTBASICS_LL_HI_PTQ_EE': 'NP',\n",
       " 'PTBASICS_LL_LO_PTQ_EE': 'NP',\n",
       " 'PTEALGRP1': 'NP',\n",
       " 'PTEALGRP2': 'NP',\n",
       " 'PTEALGRP3': 'NP',\n",
       " 'PTEBAC2SCIAG_PTQ_EE': 'NE',\n",
       " 'PTEBAC2SCI_E_PTQ_EE': '0%',\n",
       " 'PTEBAC2SCI_PTQ_EE': 'NE',\n",
       " 'PTEBACCAG_PTQ_EE': '0%',\n",
       " 'PTEBACCAV_PTQ_EE': 'NP',\n",
       " 'PTEBACCEAL_PTQ_EE': 'NP',\n",
       " 'PTEBACCHI_PTQ_EE': 'NP',\n",
       " 'PTEBACCLO_PTQ_EE': 'NP',\n",
       " 'PTEBACCNMOB_PTQ_EE': 'NP',\n",
       " 'PTEBACC_13': '0%',\n",
       " 'PTEBACC_14_PTQ': '0%',\n",
       " 'PTEBACC_15_PTQ_EE': '0%',\n",
       " 'PTEBACC_EAV_PTQ_EE': 'NP',\n",
       " 'PTEBACC_EEAL_PTQ_EE': 'NP',\n",
       " 'PTEBACC_EFSM6CLA1A_15_PTQ_EE': 'NA',\n",
       " 'PTEBACC_EFSM6CLA1A_PTQ_EE': 'NP',\n",
       " 'PTEBACC_EFSM_13': 'NA',\n",
       " 'PTEBACC_EFSM_14_PTQ': 'NA',\n",
       " 'PTEBACC_EHI_PTQ_EE': 'NP',\n",
       " 'PTEBACC_ELO_PTQ_EE': 'NP',\n",
       " 'PTEBACC_ENFSM6CLA1A_15_PTQ_EE': 'NA',\n",
       " 'PTEBACC_ENFSM6CLA1A_PTQ_EE': 'NP',\n",
       " 'PTEBACC_ENFSM_13': 'NA',\n",
       " 'PTEBACC_ENFSM_14_PTQ': 'NA',\n",
       " 'PTEBACC_ENMOB_PTQ_EE': 'NP',\n",
       " 'PTEBACC_E_13': '0%',\n",
       " 'PTEBACC_E_14_PTQ': '0%',\n",
       " 'PTEBACC_E_15_PTQ_EE': '0%',\n",
       " 'PTEBACC_E_PTQ_EE': '0%',\n",
       " 'PTEBACC_FSM6CLA1A_15_PTQ_EE': 'NA',\n",
       " 'PTEBACC_FSM6CLA1A_PTQ_EE': 'NP',\n",
       " 'PTEBACC_FSM_13': 'NA',\n",
       " 'PTEBACC_FSM_14_PTQ': 'NA',\n",
       " 'PTEBACC_NFSM6CLA1A_15_PTQ_EE': 'NA',\n",
       " 'PTEBACC_NFSM6CLA1A_PTQ_EE': 'NP',\n",
       " 'PTEBACC_NFSM_13': 'NA',\n",
       " 'PTEBACC_NFSM_14_PTQ': 'NA',\n",
       " 'PTEBACC_PTQ_EE': '0%',\n",
       " 'PTEBACENGAG_LL_PTQ_EE': '0%',\n",
       " 'PTEBACENG_E_PTQ_EE': '0%',\n",
       " 'PTEBACENG_LL_PTQ_EE': '0%',\n",
       " 'PTEBACHUMAG_PTQ_EE': '100%',\n",
       " 'PTEBACHUM_E_PTQ_EE': '97%',\n",
       " 'PTEBACHUM_PTQ_EE': '100%',\n",
       " 'PTEBACLANAG_PTQ_EE': '100%',\n",
       " 'PTEBACLAN_E_PTQ_EE': '100%',\n",
       " 'PTEBACLAN_PTQ_EE': '100%',\n",
       " 'PTEBACMATAG_PTQ_EE': '0%',\n",
       " 'PTEBACMAT_E_PTQ_EE': '0%',\n",
       " 'PTEBACMAT_PTQ_EE': '0%',\n",
       " 'PTFSM6CLA1A': 'NP',\n",
       " 'PTFSM6CLA1ABASICS_15_PTQ_EE': 'NA',\n",
       " 'PTFSM6CLA1ABASICS_LL_PTQ_EE': 'NP',\n",
       " 'PTFSM6CLA1A_15': 'NA',\n",
       " 'PTFSMBASICS_13': 'NA',\n",
       " 'PTFSMBASICS_14_PTQ': 'NA',\n",
       " 'PTFSMCLA_13': 'NA',\n",
       " 'PTFSMCLA_14': 'NA',\n",
       " 'PTL2BASICS_13': '0%',\n",
       " 'PTL2BASICS_14_PTQ': '0%',\n",
       " 'PTL2BASICS_15_PTQ_EE': '0%',\n",
       " 'PTL2BASICS_3YR_PTQ_EE': '0%',\n",
       " 'PTL2BASICS_LL_EAL_PTQ_EE': 'NP',\n",
       " 'PTL2BASICS_LL_NMOB_PTQ_EE': 'NP',\n",
       " 'PTL2BASICS_LL_PTQ_EE': '0%',\n",
       " 'PTNMOB': 'NP',\n",
       " 'PTNOTFSM6CLA1A': 'NP',\n",
       " 'PTNOTFSM6CLA1ABASICS_15_PTQ_EE': 'NA',\n",
       " 'PTNOTFSM6CLA1ABASICS_LL_PTQ_EE': 'NP',\n",
       " 'PTNOTFSM6CLA1A_15': 'NA',\n",
       " 'PTNOTFSMBASICS_13': 'NA',\n",
       " 'PTNOTFSMBASICS_14_PTQ': 'NA',\n",
       " 'PTNOTFSMCLA_13': 'NA',\n",
       " 'PTNOTFSMCLA_14': 'NA',\n",
       " 'PTPRIORAV': 'NP',\n",
       " 'PTPRIORHI': 'NP',\n",
       " 'PTPRIORLO': 'NP',\n",
       " 'PTmultiLan_E': '68%',\n",
       " 'PTtripleSci_E': '0%',\n",
       " 'RECTYPE': 1,\n",
       " 'RELDENOM': 'None',\n",
       " 'SCHNAME': 'City of London School',\n",
       " 'SCIVACOV_PTQ_EE': 'NP',\n",
       " 'SCIVALOW_AV_PTQ_EE': 'NP',\n",
       " 'SCIVALOW_FSM6CLA1A_PTQ_EE': 'NP',\n",
       " 'SCIVALOW_HI_PTQ_EE': 'NP',\n",
       " 'SCIVALOW_LO_PTQ_EE': 'NP',\n",
       " 'SCIVALOW_NFSM6CLA1A_PTQ_EE': 'NP',\n",
       " 'SCIVALOW_PTQ_EE': 'NP',\n",
       " 'SCIVAMEA_AV_PTQ_EE': 'NP',\n",
       " 'SCIVAMEA_FSM6CLA1A_PTQ_EE': 'NP',\n",
       " 'SCIVAMEA_HI_PTQ_EE': 'NP',\n",
       " 'SCIVAMEA_LO_PTQ_EE': 'NP',\n",
       " 'SCIVAMEA_NFSM6CLA1A_PTQ_EE': 'NP',\n",
       " 'SCIVAMEA_PTQ_EE': 'NP',\n",
       " 'SCIVAUPP_AV_PTQ_EE': 'NP',\n",
       " 'SCIVAUPP_FSM6CLA1A_PTQ_EE': 'NP',\n",
       " 'SCIVAUPP_HI_PTQ_EE': 'NP',\n",
       " 'SCIVAUPP_LO_PTQ_EE': 'NP',\n",
       " 'SCIVAUPP_NFSM6CLA1A_PTQ_EE': 'NP',\n",
       " 'SCIVAUPP_PTQ_EE': 'NP',\n",
       " 'SENAPK4': 'NA',\n",
       " 'SENSE4': 'NA',\n",
       " 'TAB1618': 1,\n",
       " 'TABKS2': 0,\n",
       " 'TAVENT_EFSM6CLA1A_15_PTQ_EE': 'NA',\n",
       " 'TAVENT_EFSM_13': 'NA',\n",
       " 'TAVENT_EFSM_14_PTQ': 'NA',\n",
       " 'TAVENT_ENFSM6CLA1A_15_PTQ_EE': 'NA',\n",
       " 'TAVENT_ENFSM_13': 'NA',\n",
       " 'TAVENT_ENFSM_14_PTQ': 'NA',\n",
       " 'TAVENT_E_3NG_AV_PTQ_EE': 'NP',\n",
       " 'TAVENT_E_3NG_FSM6CLA1A_PTQ_EE': 'NP',\n",
       " 'TAVENT_E_3NG_HI_PTQ_EE': 'NP',\n",
       " 'TAVENT_E_3NG_LO_PTQ_EE': 'NP',\n",
       " 'TAVENT_E_3NG_NFSM6CLA1A_PTQ_EE': 'NP',\n",
       " 'TAVENT_E_3NG_PTQ_EE': 5.6,\n",
       " 'TAVENT_GAV_PTQ_EE': 'NP',\n",
       " 'TAVENT_GFSM6CLA1A_15_PTQ_EE': 'NA',\n",
       " 'TAVENT_GFSM6CLA1A_PTQ_EE': 'NP',\n",
       " 'TAVENT_GFSM_13': 'NA',\n",
       " 'TAVENT_GFSM_14_PTQ': 'NA',\n",
       " 'TAVENT_GHI_PTQ_EE': 'NP',\n",
       " 'TAVENT_GLO_PTQ_EE': 'NP',\n",
       " 'TAVENT_GNFSM6CLA1A_15_PTQ_EE': 'NA',\n",
       " 'TAVENT_GNFSM6CLA1A_PTQ_EE': 'NP',\n",
       " 'TAVENT_GNFSM_13': 'NA',\n",
       " 'TAVENT_GNFSM_14_PTQ': 'NA',\n",
       " 'TAVENT_G_PTQ_EE': 5.3,\n",
       " 'TBASICS_LL_AV_PTQ_EE': 'NP',\n",
       " 'TBASICS_LL_HI_PTQ_EE': 'NP',\n",
       " 'TBASICS_LL_LO_PTQ_EE': 'NP',\n",
       " 'TEALGRP1': 'NP',\n",
       " 'TEALGRP2': 'NP',\n",
       " 'TEALGRP3': 'NP',\n",
       " 'TEBAC2SCIAG_PTQ_EE': 'NE',\n",
       " 'TEBAC2SCI_E_PTQ_EE': 0,\n",
       " 'TEBAC2SCI_PTQ_EE': 'NE',\n",
       " 'TEBACCAG_PTQ_EE': 0,\n",
       " 'TEBACC_EAV_PTQ_EE': 'NP',\n",
       " 'TEBACC_EHI_PTQ_EE': 'NP',\n",
       " 'TEBACC_ELO_PTQ_EE': 'NP',\n",
       " 'TEBACC_E_PTQ_EE': 0,\n",
       " 'TEBACENGAG_LL_PTQ_EE': 0,\n",
       " 'TEBACENG_E_PTQ_EE': 0,\n",
       " 'TEBACENG_LL_PTQ_EE': 0,\n",
       " 'TEBACHUMAG_PTQ_EE': 135,\n",
       " 'TEBACHUM_E_PTQ_EE': 135,\n",
       " 'TEBACHUM_PTQ_EE': 135,\n",
       " 'TEBACLANAG_PTQ_EE': 139,\n",
       " 'TEBACLAN_E_PTQ_EE': 139,\n",
       " 'TEBACLAN_PTQ_EE': 139,\n",
       " 'TEBACMATAG_PTQ_EE': 0,\n",
       " 'TEBACMAT_E_PTQ_EE': 0,\n",
       " 'TEBACMAT_PTQ_EE': 0,\n",
       " 'TELNUM': '0207 4890291',\n",
       " 'TFSM6CLA1A': 'NP',\n",
       " 'TFSM6CLA1A_15': 'NA',\n",
       " 'TFSMCLA_13': 'NA',\n",
       " 'TFSMCLA_14': 'NA',\n",
       " 'TNMOB': 'NP',\n",
       " 'TNOTFSM6CLA1A': 'NP',\n",
       " 'TNOTFSM6CLA1A_15': 'NA',\n",
       " 'TNOTFSMCLA_13': 'NA',\n",
       " 'TNOTFSMCLA_14': 'NA',\n",
       " 'TOTATT8': 5849,\n",
       " 'TOTATT8EBAC': 3085.3,\n",
       " 'TOTATT8ENG': 1012,\n",
       " 'TOTATT8MAT': 0,\n",
       " 'TOTATT8OPEN': 1751.8,\n",
       " 'TOTATT8OPENG': 1452.5,\n",
       " 'TOTATT8OPENNG': 299.3,\n",
       " 'TOTPUPS': 918,\n",
       " 'TOWN': 'London',\n",
       " 'TPRIORAV': 'NP',\n",
       " 'TPRIORHI': 'NP',\n",
       " 'TPRIORLO': 'NP',\n",
       " 'TPUP': 139,\n",
       " 'URN': 100003,\n",
       " '_id': ObjectId('5affe83f7d77975b304df9cc')}"
      ]
     },
     "execution_count": 9,
     "metadata": {},
     "output_type": "execute_result"
    }
   ],
   "source": [
    "ks4results.find_one()"
   ]
  },
  {
   "cell_type": "markdown",
   "metadata": {
    "hidden": true
   },
   "source": [
    "Looking through the document we can see the large number of 'NA' and 'NP' we will need to bear them in mind as we carry out the investigation."
   ]
  },
  {
   "cell_type": "markdown",
   "metadata": {
    "heading_collapsed": true
   },
   "source": [
    "## Importing the KS4 Metadata file"
   ]
  },
  {
   "cell_type": "markdown",
   "metadata": {
    "hidden": true
   },
   "source": [
    "In the accidents dataset we explored in the module materials there were some handy functions for looking up human readable descriptions of the codes.  To help make this investigation easier I will try to do a similar thing  thing here."
   ]
  },
  {
   "cell_type": "code",
   "execution_count": 10,
   "metadata": {
    "hidden": true
   },
   "outputs": [
    {
     "name": "stdout",
     "output_type": "stream",
     "text": [
      "Column,Metafile heading,Metafile description,Methodology changes,Null field for special schools,Null field for local authority records,Null field for National (all schools) records,Null field for National (maintained schools) records,,\r",
      "1,RECTYPE,Record type (1=mainstream school; 2=special school; 4=local authority; 5=National (all schools); 7=National (maintained schools)),,,,,,,\r",
      "2,ALPHAIND,Alphabetic sorting index,,,Yes,Yes,Yes,,\r",
      "3,LEA,Local authority code (see separate list of local authorities and their codes),,,,Yes,Yes,,\r",
      "4,ESTAB,Establishment number,,,Yes,Yes,Yes,,\r",
      "5,URN,School Unique Reference Number,,,Yes,Yes,Yes,,\r",
      "6,SCHNAME,School name,,,Yes,Yes,Yes,,\r",
      "7,SCHNAME_AC,School now known as (used if the school has converted to an academy on or after 12 Sept 2015),,,Yes,Yes,Yes,,\r",
      "8,ADDRESS1,School address (1),,,Yes,Yes,Yes,,\r",
      "9,ADDRESS2,School address (2),,,Yes,Yes,Yes,,\r",
      "10,ADDRESS3,School address (3),,,Yes,Yes,Yes,,\r",
      "11,TOWN,School town,,,Yes,Yes,Yes,,\r",
      "12,PCODE,School postcode,,,Yes,Yes,Yes,,\r",
      "13,TELNUM,School telephone number,,,Yes,Yes,Yes,,\r",
      "14,CONTFLAG,Contingency flag - school results 'significantly affected'. This field is zero for all schools.,,,Yes,Yes,Yes,,\r",
      "15,ICLOSE,Closed school flag (0=open; 1=closed),,,Yes,Yes,Yes,,\r",
      "16,NFTYPE,School type (see separate list of abbreviations used in the tables),,,Yes,Yes,Yes,,\r",
      "17,RELDENOM,School religious character,,,Yes,Yes,Yes,,\r",
      "18,ADMPOL,School admissions policy (self-declared by schools on Edubase),,,Yes,Yes,Yes,,\r",
      "19,EGENDER,School gender of entry,,,Yes,Yes,Yes,,\r",
      "20,FEEDER,Indicates whether school is a feeder school for sixth form centre/consortia (0=No; 1=Yes),,,Yes,Yes,Yes,,\r",
      "21,TABKS2,Indicates whether school is published in the primary school (key stage 2) performance tables (0=No; 1=Yes),,,Yes,Yes,Yes,,\r",
      "22,TAB1618,Indicates whether school is published in the school and college (16-18) performance tables (0=No; 1=Yes),,,Yes,Yes,Yes,,\r",
      "23,AGERANGE,Age range,,,Yes,Yes,Yes,,\r",
      "24,CONFEXAM,Indicates whether the school has checked its results (R=No; blank=Yes),,,Yes,Yes,Yes,,\r",
      "25,TOTPUPS,Number of pupils on roll (all ages),,,,,,,\r",
      "26,NUMBOYS,Total boys on roll (including part-time pupils),,,,,,,\r",
      "27,NUMGIRLS,Total girls on roll (including part-time pupils),,,,,,,\r",
      "28,TPUP,Number of pupils at the end of key stage 4,,,,,,,\r",
      "29,BPUP,Number of boys at the end of key stage 4,,,,,,,\r",
      "30,PBPUP,Percentage of pupils at the end of key stage 4 who are boys,,,,,,,\r",
      "31,GPUP,Number of girls at the end of key stage 4,,,,,,,\r",
      "32,PGPUP,Percentage of pupils at the end key stage 4 who are girls,,,,,,,\r",
      "33,KS2APS,Key stage 2 Average Points Score of the cohort at the end of key stage 4,,,,Yes,,,\r",
      "34,TPRIORLO,Number of pupils at the end of key stage 4 with low prior attainment at the end of key stage 2,,,,Yes,,,\r",
      "35,PTPRIORLO,Percentage of pupils at the end of key stage 4 with low prior attainment at the end of key stage 2,,,,Yes,,,\r",
      "36,TPRIORAV,Number of pupils at the end of key stage 4 with middle prior attainment at the end of key stage 2,,,,Yes,,,\r",
      "37,PTPRIORAV,Percentage of pupils at the end of key stage 4 with middle prior attainment at the end of key stage 2,,,,Yes,,,\r",
      "38,TPRIORHI,Number of pupils at the end of key stage 4 with high prior attainment at the end of key stage 2,,,,Yes,,,\r",
      "39,PTPRIORHI,Percentage of pupils at the end of key stage 4 with high prior attainment at the end of key stage 2,,,,Yes,,,\r",
      "40,TFSM6CLA1A,Number of disadvantaged pupils at the end of key stage 4,,,,Yes,,,\r",
      "41,PTFSM6CLA1A,Percentage of pupils at the end of key stage 4 who are disadvantaged,,,,Yes,,,\r",
      "42,TNOTFSM6CLA1A,Number of non-disadvantaged pupils at the end of key stage 4,,,,Yes,,,\r",
      "43,PTNOTFSM6CLA1A,Percentage of pupils at the end of key stage 4 who are not disadvantaged,,,,Yes,,,\r",
      "44,TEALGRP2,Number of pupils at the end of key stage 4 with English as additional language (EAL),,,,Yes,,,\r",
      "45,PTEALGRP2,Percentage of pupils at the end of key stage 4 with English as additional language (EAL),,,,Yes,,,\r",
      "46,TEALGRP1,Number of pupils at the end of key stage 4 with English as their first language,,,,Yes,,,\r",
      "47,PTEALGRP1,Percentage of pupils at the end of key stage 4 with English as their first language,,,,Yes,,,\r",
      "48,TEALGRP3,Number of pupils at the end of key stage 4 whose first language is unclassified,,,,Yes,,,\r",
      "49,PTEALGRP3,Percentage of pupils at the end of key stage 4 whose first language is unclassified,,,,Yes,,,\r",
      "50,TNMOB,Number of pupils at the end of key stage 4 who are non-mobile,,,,Yes,,,\r",
      "51,PTNMOB,Percentage of pupils at the end of key stage 4 who are non-mobile,,,,Yes,,,\r",
      "52,SENSE4,\"Number of pupils at the end of key stage 4 with special educational needs (SEN) with a statement or Education, health and care (EHC) plan\",,Yes,,Yes,,,\r",
      "53,PSENSE4,\"Percentage of pupils at the end of key stage 4 with special educational needs (SEN) with a statement or Education, health and care (EHC) plan\",,Yes,,Yes,,,\r",
      "54,SENAPK4,\"Number of pupils at the end of key stage 4 with special educational needs (SEN) without a statement or Education, health and care (EHC) plan\",,Yes,,Yes,,,\r",
      "55,PSENAPK4,\"Percentage of pupils at the end of key stage 4 with special educational needs (SEN) without a statement or Education, health and care (EHC) plan\",,Yes,,Yes,,,\r",
      "56,TOTATT8,Total sum of Attainment 8 scores,,,,,,,\r",
      "57,ATT8SCR,Average Attainment 8 score per pupil,,,,,,,\r",
      "58,TOTATT8ENG,Total sum of Attainment 8 scores for English element,,,,,,,\r",
      "59,ATT8SCRENG,Average Attainment 8 score per pupil for English element,,,,,,,\r",
      "60,TOTATT8MAT,Total sum of Attainment 8 scores for mathematics element,,,,,,,\r",
      "61,ATT8SCRMAT,Average Attainment 8 score per pupil for mathematics element,,,,,,,\r",
      "62,TOTATT8EBAC,Total sum of Attainment 8 scores for EBacc element,,,,,,,\r",
      "63,ATT8SCREBAC,Average Attainment 8 score per pupil for EBacc element,,,,,,,\r",
      "64,TOTATT8OPEN,Total sum of Attainment 8 scores for open element,,,,,,,\r",
      "65,ATT8SCROPEN,Average Attainment 8 score per pupil for open element,,,,,,,\r",
      "66,TOTATT8OPENG,Total sum of Attainment 8 scores for open element - GCSE only,,,,,,,\r",
      "67,ATT8SCROPENG,Average Attainment 8 score per pupil for open element - GCSE only,,,,,,,\r",
      "68,TOTATT8OPENNG,Total sum of Attainment 8 scores for open element - non-GCSE only,,,,,,,\r",
      "69,ATT8SCROPENNG,Average Attainment 8 score per pupil for open element - non-GCSE only,,,,,,,\r",
      "70,P8PUP,Number of pupils included in Progress 8 measure,,,,Yes,,,\r",
      "71,P8MEACOV,Percentage of pupils at the end of key stage 4 included in Progress 8 measure,,,,Yes,,,\r",
      "72,P8MEA,Progress 8 measure,,,,Yes,,,\r",
      "73,P8CILOW,Lower 95% confidence interval for Progress 8 measure,,,,Yes,Yes,,\r",
      "74,P8CIUPP,Upper 95% confidence interval for Progress 8 measure,,,,Yes,Yes,,\r",
      "75,P8MEAENG,Progress 8 measure for English element,,,,Yes,,,\r",
      "76,P8MEAENG_CILOW,Lower 95% confidence interval for Progress 8 English element,,,,Yes,Yes,,\r",
      "77,P8MEAENG_CIUPP,Upper 95% confidence interval for Progress 8 English element,,,,Yes,Yes,,\r",
      "78,P8MEAMAT,Progress 8 measure for mathematics element,,,,Yes,,,\r",
      "79,P8MEAMAT_CILOW,Lower 95% confidence interval for Progress 8 maths element,,,,Yes,Yes,,\r",
      "80,P8MEAMAT_CIUPP,Upper 95% confidence interval for Progress 8 maths element,,,,Yes,Yes,,\r",
      "81,P8MEAEBAC,Progress 8 measure for EBacc element,,,,Yes,,,\r",
      "82,P8MEAEBAC_CILOW,Lower 95% confidence interval for Progress 8 EBacc element,,,,Yes,Yes,,\r",
      "83,P8MEAEBAC_CIUPP,Upper 95% confidence interval for Progress 8 EBacc element,,,,Yes,Yes,,\r",
      "84,P8MEAOPEN,Progress 8 measure for open element,,,,Yes,,,\r",
      "85,P8MEAOPEN_CILOW,Lower 95% confidence interval for Progress 8 open element,,,,Yes,Yes,,\r",
      "86,P8MEAOPEN_CIUPP,Upper 95% confidence interval for Progress 8 open element,,,,Yes,Yes,,\r",
      "87,PTL2BASICS_LL_PTQ_EE,Percentage of pupils achieving grades A*-C in both English and mathematics GCSEs,Yes - see 2016 methodology sheet for basics methodology change,,,,,,\r",
      "88,PTL2BASICS_3YR_PTQ_EE,\"Three year percentage of pupils achieving A*-C in both English and mathematics GCSEs over 2014, 2015 and 2016\",Yes - see 2016 methodology sheet for basics methodology change,,,,,,\r",
      "89,TEBACC_E_PTQ_EE,Number of key stage 4 pupils with entries in all English Baccalaureate subject areas,,,,,,,\r",
      "90,PTEBACC_E_PTQ_EE,Percentage of key stage 4 pupils with entries in all English Baccalaureate subject areas,,,,,,,\r",
      "91,PTEBACC_PTQ_EE,Percentage of key stage 4 pupils achieving the English Baccalaureate,Yes - see 2016 methodology sheet for EBacc English methodology change,,,,,,\r",
      "92,TEBACENG_E_PTQ_EE,Number of pupils entering the English Baccalaureate English subject area,,,,,,,\r",
      "93,PTEBACENG_E_PTQ_EE,Percentage of pupils entering the English Baccalaureate English subject area,,,,,,,\r",
      "94,TEBACMAT_E_PTQ_EE,Number of pupils entering the English Baccalaureate Maths subject area,,,,,,,\r",
      "95,PTEBACMAT_E_PTQ_EE,Percentage of pupils entering the English Baccalaureate Maths subject area,,,,,,,\r",
      "96,TEBAC2SCI_E_PTQ_EE,Number of pupils entering the English Baccalaureate Science subject area,,,,,,,\r",
      "97,PTEBAC2SCI_E_PTQ_EE,Percentage of pupils entering the English Baccalaureate Science subject area,,,,,,,\r",
      "98,TEBACHUM_E_PTQ_EE,Number of pupils entering the English Baccalaureate Humanities subject area,,,,,,,\r",
      "99,PTEBACHUM_E_PTQ_EE,Percentage of pupils entering the English Baccalaureate Humanities subject area,,,,,,,\r",
      "100,TEBACLAN_E_PTQ_EE,Number of pupils entering the English Baccalaureate Language subject area,,,,,,,\r",
      "101,PTEBACLAN_E_PTQ_EE,Percentage of pupils entering the English Baccalaureate Language subject area,,,,,,,\r",
      "102,PTEBACENG_LL_PTQ_EE,Percentage of pupils achieving the English Baccalaureate English subject area ,Yes - see 2016 methodology sheet for EBacc English methodology change,,,,,,\r",
      "103,PTEBACMAT_PTQ_EE,Percentage of pupils achieving the English Baccalaureate Maths subject area,,,,,,,\r",
      "104,PTEBAC2SCI_PTQ_EE,Percentage of entered pupils achieving the English Baccalaureate Science subject area,,,,,,,\r",
      "105,PTEBACHUM_PTQ_EE,Percentage of entered pupils achieving the English Baccalaureate Humanities subject area,,,,,,,\r",
      "106,PTEBACLAN_PTQ_EE,Percentage of entered pupils achieving the English Baccalaureate Language subject area,,,,,,,\r",
      "107,SCIVACOV_PTQ_EE,Coverage of the English Baccalaureate Science Value Added indicators of those who entered for science,,,Yes,Yes,Yes,,\r",
      "108,HUMVACOV_PTQ_EE,Coverage of the English Baccalaureate Humanities Value Added indicators of those who entered for humanities,,,Yes,Yes,Yes,,\r",
      "109,LANVACOV_PTQ_EE,Coverage of the English Baccalaureate Language Value Added indicators of those who entered for languages,,,Yes,Yes,Yes,,\r",
      "110,SCIVAMEA_PTQ_EE,English Baccalaureate Science Value Added measure,,,Yes,Yes,Yes,,\r",
      "111,SCIVALOW_PTQ_EE,English Baccalaureate Science Value Added lower 95% confidence limit,,,Yes,Yes,Yes,,\r",
      "112,SCIVAUPP_PTQ_EE,English Baccalaureate Science Value Added upper 95% confidence limit,,,Yes,Yes,Yes,,\r",
      "113,HUMVAMEA_PTQ_EE,English Baccalaureate Humanities Value Added measure,,,Yes,Yes,Yes,,\r",
      "114,HUMVALOW_PTQ_EE,English Baccalaureate Humanities Value Added lower 95% confidence limit,,,Yes,Yes,Yes,,\r",
      "115,HUMVAUPP_PTQ_EE,English Baccalaureate Humanities Value Added upper 95% confidence limit,,,Yes,Yes,Yes,,\r",
      "116,LANVAMEA_PTQ_EE,English Baccalaureate Languages Value Added measure,,,Yes,Yes,Yes,,\r",
      "117,LANVALOW_PTQ_EE,English Baccalaureate Languages Value Added lower 95% confidence limit,,,Yes,Yes,Yes,,\r",
      "118,LANVAUPP_PTQ_EE,English Baccalaureate Languages Value Added upper 95% confidence limit,,,Yes,Yes,Yes,,\r",
      "119,TEBACENG_LL_PTQ_EE,Number of pupils achieving EBacc English subject area,Yes - see 2016 methodology sheet for EBacc English methodology change,,,,,,\r",
      "120,TEBACMAT_PTQ_EE,Number of pupils achieving the English Baccalaureate Maths subject area,,,,,,,\r",
      "121,TEBAC2SCI_PTQ_EE,Number of pupils achieving the English Baccalaureate Science subject area,,,,,,,\r",
      "122,TEBACHUM_PTQ_EE,Number of pupils achieving the English Baccalaureate Humanities subject area,,,,,,,\r",
      "123,TEBACLAN_PTQ_EE,Number of pupils achieving the English Baccalaureate Language subject area,,,,,,,\r",
      "124,TEBACCAG_PTQ_EE,Number of pupils achieving the English Baccalaureate at grades A*-G,,,,,,,\r",
      "125,PTEBACCAG_PTQ_EE,Percentage of pupils achieving the English Baccalaureate at grades A*-G,,,,,,,\r",
      "126,TEBACENGAG_LL_PTQ_EE,Number of pupils achieving the English Baccalaureate English subject area at grade A*-G,Yes - see 2016 methodology sheet for EBacc English methodology change,,,,,,\r",
      "127,PTEBACENGAG_LL_PTQ_EE,Percentage of pupils achieving the English Baccalaureate English subject area at grade A*-G,Yes - see 2016 methodology sheet for EBacc English methodology change,,,,,,\r",
      "128,TEBACMATAG_PTQ_EE,Number of pupils achieving the English Baccalaureate Maths subject area at grade A*-G,,,,,,,\r",
      "129,PTEBACMATAG_PTQ_EE,Percentage of pupils achieving the English Baccalaureate Maths subject area at grade A*-G,,,,,,,\r",
      "130,TEBAC2SCIAG_PTQ_EE,Number of pupils achieving the English Baccalaureate Science subject area at grades A*-G,,,,,,,\r",
      "131,PTEBAC2SCIAG_PTQ_EE,Percentage of entered pupils achieving the English Baccalaureate Science subject area at grades A*-G,,,,,,,\r",
      "132,TEBACHUMAG_PTQ_EE,Number of pupils achieving the English Baccalaureate Humanities subject area at grade A*-G,,,,,,,\r",
      "133,PTEBACHUMAG_PTQ_EE,Percentage of entered pupils achieving the English Baccalaureate Humanities subject area at grades A*-G,,,,,,,\r",
      "134,TEBACLANAG_PTQ_EE,Number of pupils achieving the English Baccalaureate Language subject area at grade A*-G,,,,,,,\r",
      "135,PTEBACLANAG_PTQ_EE,Percentage of entered pupils achieving the English Baccalaureate Language subject area at grade A*-G,,,,,,,\r",
      "136,ATT8SCR_FSM6CLA1A,Average Attainment 8 score per disadvantaged pupil,,,,Yes,,,\r",
      "137,P8PUP_FSM6CLA1A,Number of disadvantaged pupils in Progress 8 measure,,,,Yes,,,\r",
      "138,P8MEA_FSM6CLA1A,Progress 8 measure - disadvantaged pupils,,,,Yes,,,\r",
      "139,P8CILOW_FSM6CLA1A,Progress 8 lower 95% confidence interval - disadvantaged pupils,,,,Yes,,,\r",
      "140,P8CIUPP_FSM6CLA1A,Progress 8 upper 95% confidence interval - disadvantaged pupils,,,,Yes,,,\r",
      "141,ATT8SCR_NFSM6CLA1A,Average Attainment 8 score per non-disadvantaged pupil,,,,Yes,,,\r",
      "142,P8PUP_NFSM6CLA1A,Number of non-disadvantaged pupils in Progress 8 measure,,,,Yes,,,\r",
      "143,P8MEA_NFSM6CLA1A,Progress 8 measure - non-disadvantaged pupils,,,,Yes,,,\r",
      "144,P8CILOW_NFSM6CLA1A,Progress 8 lower 95% confidence interval - non-disadvantaged pupils,,,,Yes,,,\r",
      "145,P8CIUPP_NFSM6CLA1A,Progress 8 upper 95% confidence interval - non-disadvantaged pupils,,,,Yes,,,\r",
      "146,ATT8SCRENG_FSM6CLA1A,Average Attainment 8 score per disadvantaged pupil for English element,,,,Yes,,,\r",
      "147,P8MEAENG_FSM6CLA1A,Progress 8 measure for English element - disadvantaged pupils,,,,Yes,,,\r",
      "148,P8MEAENG_CILOW_FSM6CLA1A,Lower 95% confidence interval for Progress 8 English element for disadvantaged pupils,,,,Yes,,,\r",
      "149,P8MEAENG_CIUPP_FSM6CLA1A,Upper 95% confidence interval for Progress 8 English element for disadvantaged pupils,,,,Yes,,,\r",
      "150,ATT8SCRMAT_FSM6CLA1A,Average Attainment 8 score per disadvantaged pupil for mathematics element,,,,Yes,,,\r",
      "151,P8MEAMAT_FSM6CLA1A,Progress 8 measure for maths element - disadvantaged pupils,,,,Yes,,,\r",
      "152,P8MEAMAT_CILOW_FSM6CLA1A,Lower 95% confidence interval for Progress 8 maths element for disadvantaged pupils,,,,Yes,,,\r",
      "153,P8MEAMAT_CIUPP_FSM6CLA1A,Upper 95% confidence interval for Progress 8 maths element for disadvantaged pupils,,,,Yes,,,\r",
      "154,ATT8SCREBAC_FSM6CLA1A,Average Attainment 8 score per disadvantaged pupil for EBacc element,,,,Yes,,,\r",
      "155,P8MEAEBAC_FSM6CLA1A,Progress 8 measure for EBacc element - disadvantaged pupils,,,,Yes,,,\r",
      "156,P8MEAEBAC_CILOW_FSM6CLA1A,Lower 95% confidence interval for Progress 8 EBacc element for disadvantaged pupils,,,,Yes,,,\r",
      "157,P8MEAEBAC_CIUPP_FSM6CLA1A,Upper 95% confidence interval for Progress 8 EBacc element for disadvantaged pupils,,,,Yes,,,\r",
      "158,ATT8SCROPEN_FSM6CLA1A,Average Attainment 8 score per disadvantaged pupil for open element,,,,Yes,,,\r",
      "159,P8MEAOPEN_FSM6CLA1A,Progress 8 measure for open element - disadvantaged pupils,,,,Yes,,,\r",
      "160,P8MEAOPEN_CILOW_FSM6CLA1A,Lower 95% confidence interval for Progress 8 open element for disadvantaged pupils,,,,Yes,,,\r",
      "161,P8MEAOPEN_CIUPP_FSM6CLA1A,Upper 95% confidence interval for Progress 8 open element for disadvantaged pupils,,,,Yes,,,\r",
      "162,ATT8SCRENG_NFSM6CLA1A,Average Attainment 8 score per non-disadvantaged pupil for English element,,,,Yes,,,\r",
      "163,P8MEAENG_NFSM6CLA1A,Progress 8 measure for English element - non-disadvantaged pupils,,,,Yes,,,\r",
      "164,P8MEAENG_CILOW_NFSM6CLA1A,Lower 95% confidence interval for Progress 8 English element for non-disadvantaged pupils,,,,Yes,,,\r",
      "165,P8MEAENG_CIUPP_NFSM6CLA1A,Upper 95% confidence interval for Progress 8 English element for non-disadvantaged pupils,,,,Yes,,,\r",
      "166,ATT8SCRMAT_NFSM6CLA1A,Average Attainment 8 score per non-disadvantaged pupil for mathematics element,,,,Yes,,,\r",
      "167,P8MEAMAT_NFSM6CLA1A,Progress 8 measure for maths element - non-disadvantaged pupils,,,,Yes,,,\r",
      "168,P8MEAMAT_CILOW_NFSM6CLA1A,Lower 95% confidence interval for Progress 8 maths element for non-disadvantaged pupils,,,,Yes,,,\r",
      "169,P8MEAMAT_CIUPP_NFSM6CLA1A,Upper 95% confidence interval for Progress 8 maths element for non-disadvantaged pupils,,,,Yes,,,\r",
      "170,ATT8SCREBAC_NFSM6CLA1A,Average Attainment 8 score per non-disadvantaged pupil for EBacc element,,,,Yes,,,\r",
      "171,P8MEAEBAC_NFSM6CLA1A,Progress 8 measure for EBacc element - non-disadvantaged pupils,,,,Yes,,,\r",
      "172,P8MEAEBAC_CILOW_NFSM6CLA1A,Lower 95% confidence interval for Progress 8 EBacc element for non-disadvantaged pupils,,,,Yes,,,\r",
      "173,P8MEAEBAC_CIUPP_NFSM6CLA1A,Upper 95% confidence interval for Progress 8 EBacc element for non-disadvantaged pupils,,,,Yes,,,\r",
      "174,ATT8SCROPEN_NFSM6CLA1A,Average Attainment 8 score per non-disadvantaged pupil for open element,,,,Yes,,,\r",
      "175,P8MEAOPEN_NFSM6CLA1A,Progress 8 measure for open element - non-disadvantaged pupils,,,,Yes,,,\r",
      "176,P8MEAOPEN_CILOW_NFSM6CLA1A,Lower 95% confidence interval for Progress 8 open element for non-disadvantaged pupils,,,,Yes,,,\r",
      "177,P8MEAOPEN_CIUPP_NFSM6CLA1A,Upper 95% confidence interval for Progress 8 open element for non-disadvantaged pupils,,,,Yes,,,\r",
      "178,ATT8SCROPENG_FSM6CLA1A,Average Attainment 8 score per disadvantaged pupil for open element - GCSE only,,,,Yes,,,\r",
      "179,ATT8SCROPENNG_FSM6CLA1A,Average Attainment 8 score per disadvantaged pupil for open element - non-GCSE only,,,,Yes,,,\r",
      "180,ATT8SCROPENG_NFSM6CLA1A,Average Attainment 8 score per non-disadvantaged pupil for open element - GCSE only,,,,Yes,,,\r",
      "181,ATT8SCROPENNG_NFSM6CLA1A,Average Attainment 8 score per non-disadvantaged pupil for open element - non-GCSE only,,,,Yes,,,\r",
      "182,DIFFN_ATT8,Difference between Attainment 8 for disadvantaged pupils in school/LA and non-disadvantaged pupils nationally,,,,Yes,Yes,,\r",
      "183,DIFFN_P8MEA,Difference between Progress 8 measure for disadvantaged pupils in school/LA and non-disadvantaged pupils nationally,,,,Yes,Yes,,\r",
      "184,ATT8SCR_LO,Average Attainment 8 score per pupil with low prior attainment,,,,Yes,,,\r",
      "185,P8PUP_LO,Number of pupils with low prior attainment included in Progress 8 measure,,,,Yes,,,\r",
      "186,P8MEA_LO,Progress 8 measure - pupils with low prior attainment,,,,Yes,,,\r",
      "187,P8CILOW_LO,Progress 8 lower 95% confidence interval - pupils with low prior attainment,,,,Yes,,,\r",
      "188,P8CIUPP_LO,Progress 8 upper 95% confidence interval - pupils with low prior attainment,,,,Yes,,,\r",
      "189,ATT8SCR_AV,Average Attainment 8 score per pupil with middle prior attainment,,,,Yes,,,\r",
      "190,P8PUP_AV,Number of pupils with middle prior attainment included in Progress 8 measure,,,,Yes,,,\r",
      "191,P8MEA_AV,Progress 8 measure - pupils with middle prior attainment,,,,Yes,,,\r",
      "192,P8CILOW_AV,Progress 8 lower 95% confidence interval - pupils with middle prior attainment,,,,Yes,,,\r",
      "193,P8CIUPP_AV,Progress 8 upper 95% confidence interval - pupils with middle prior attainment,,,,Yes,,,\r",
      "194,ATT8SCR_HI,Average Attainment 8 score per pupil with high prior attainment,,,,Yes,,,\r",
      "195,P8PUP_HI,Number of pupils with high prior attainment included in Progress 8 measure,,,,Yes,,,\r",
      "196,P8MEA_HI,Progress 8 measure - pupils with high prior attainment,,,,Yes,,,\r",
      "197,P8CILOW_HI,Progress 8 lower 95% confidence interval - pupils with high prior attainment,,,,Yes,,,\r",
      "198,P8CIUPP_HI,Progress 8 upper 95% confidence interval - pupils with high prior attainment,,,,Yes,,,\r",
      "199,ATT8SCR_EAL,Average Attainment 8 score per pupil for whom English is an additional language,,,,Yes,,,\r",
      "200,P8PUP_EAL,Number of pupils for whom English is an additional language included in Progress 8 measure,,,,Yes,,,\r",
      "201,P8MEA_EAL,Progress 8 measure - pupils for whom English is an additional language,,,,Yes,,,\r",
      "202,P8CILOW_EAL,Progress 8 lower 95% confidence interval - pupils for whom English is an additional language,,,,Yes,,,\r",
      "203,P8CIUPP_EAL,Progress 8 upper 95% confidence interval - pupils for whom English is an additional language,,,,Yes,,,\r",
      "204,ATT8SCR_GIRLS,Average Attainment 8 score per girl,,,,,,,\r",
      "205,P8PUP_GIRLS,Number of girls included in Progress 8 measure,,,,Yes,,,\r",
      "206,P8MEA_GIRLS,Progress 8 measure - girls,,,,Yes,,,\r",
      "207,P8CILOW_GIRLS,Progress 8 lower 95% confidence interval - girls,,,,Yes,,,\r",
      "208,P8CIUPP_GIRLS,Progress 8 upper 95% confidence interval - girls,,,,Yes,,,\r",
      "209,ATT8SCR_BOYS,Average Attainment 8 score per boy,,,,,,,\r",
      "210,P8PUP_BOYS,Number of boys included in Progress 8 measure,,,,Yes,,,\r",
      "211,P8MEA_BOYS,Progress 8 measure - boys,,,,Yes,,,\r",
      "212,P8CILOW_BOYS,Progress 8 lower 95% confidence interval - boys,,,,Yes,,,\r",
      "213,P8CIUPP_BOYS,Progress 8 upper 95% confidence interval - boys,,,,Yes,,,\r",
      "214,ATT8SCR_NMOB,Average Attainment 8 score per non-mobile pupil,,,,Yes,,,\r",
      "215,P8PUP_NMOB,Number of non-mobile pupils included in Progress 8 measure,,,,Yes,,,\r",
      "216,P8MEA_NMOB,Progress 8 measure - non-mobile pupils,,,,Yes,,,\r",
      "217,P8CILOW_NMOB,Progress 8 lower 95% confidence interval - non-mobile pupils,,,,Yes,,,\r",
      "218,P8CIUPP_NMOB,Progress 8 upper 95% confidence interval - non-mobile pupils,,,,Yes,,,\r",
      "219,ATT8SCR_15,Average Attainment 8 score per pupil  - 2015 opt-in schools only,,,,,,,\r",
      "220,P8PUP_15,Number of pupils included in Progress 8 measure - 2015 opt-in schools only,,,,Yes,,,\r",
      "221,P8MEA_15,Progress 8 measure - 2015 opt-in schools only,,,,Yes,,,\r",
      "222,P8CILOW_15,Progress 8 lower 95% confidence interval - 2015 opt-in schools only,,,,Yes,,,\r",
      "223,P8CIUPP_15,Progress 8 upper 95% confidence interval - 2015 opt-in schools only,,,,Yes,,,\r",
      "224,TEBACC_ELO_PTQ_EE,Number of pupils with low prior attainment with entries in all English Baccalaureate subject areas,,,,Yes,,,\r",
      "225,PTEBACC_ELO_PTQ_EE,Percentage of pupils with low prior attainment with entries in all English Baccalaureate subject areas,,,,Yes,,,\r",
      "226,PTEBACCLO_PTQ_EE,Percentage of pupils with low prior attainment achieving the English Baccalaureate,,,,Yes,,,\r",
      "227,TEBACC_EAV_PTQ_EE,Number of pupils with middle prior attainment with entries in all English Baccalaureate subject areas,,,,Yes,,,\r",
      "228,PTEBACC_EAV_PTQ_EE,Percentage of pupils with middle prior attainment with entries in all English Baccalaureate subject areas,,,,Yes,,,\r",
      "229,PTEBACCAV_PTQ_EE,Percentage of pupils with middle prior attainment achieving the English Baccalaureate,,,,Yes,,,\r",
      "230,TEBACC_EHI_PTQ_EE,Number of pupils with high prior attainment with entries in all English Baccalaureate subject areas,,,,Yes,,,\r",
      "231,PTEBACC_EHI_PTQ_EE,Percentage of pupils with high prior attainment with entries in all English Baccalaureate subject areas,,,,Yes,,,\r",
      "232,PTEBACCHI_PTQ_EE,Percentage of pupils with high prior attainment achieving the English Baccalaureate,,,,Yes,,,\r",
      "233,PTEBACC_EFSM6CLA1A_PTQ_EE,Percentage of disadvantaged pupils with entries in all English Baccalaureate subject areas,,,,Yes,,,\r",
      "234,PTEBACC_ENFSM6CLA1A_PTQ_EE,Percentage of non-disadvantaged pupils with entries in all English Baccalaureate subject areas,,,,Yes,,,\r",
      "235,PTEBACC_FSM6CLA1A_PTQ_EE,Percentage of disadvantaged pupils achieving the English Baccalaureate,,,,Yes,,,\r",
      "236,PTEBACC_NFSM6CLA1A_PTQ_EE,Percentage of non-disadvantaged pupils achieving the English Baccalaureate,,,,Yes,,,\r",
      "237,SCIVAMEA_LO_PTQ_EE,English Baccalaureate Science Value Added measure for pupils with low prior attainment,,,Yes,Yes,,,\r",
      "238,SCIVAMEA_AV_PTQ_EE,English Baccalaureate Science Value Added measure for pupils with middle prior attainment,,,Yes,Yes,,,\r",
      "239,SCIVAMEA_HI_PTQ_EE,English Baccalaureate Science Value Added measure for pupils with high prior attainment,,,Yes,Yes,,,\r",
      "240,SCIVAMEA_FSM6CLA1A_PTQ_EE,English Baccalaureate Science Value Added measure for disadvantaged pupils,,,Yes,Yes,,,\r",
      "241,SCIVAMEA_NFSM6CLA1A_PTQ_EE,English Baccalaureate Science Value Added measure for non-disadvantaged pupils,,,Yes,Yes,,,\r",
      "242,HUMVAMEA_LO_PTQ_EE,English Baccalaureate Humanities Value Added measure for pupils with low prior attainment,,,Yes,Yes,,,\r",
      "243,HUMVAMEA_AV_PTQ_EE,English Baccalaureate Humanities Value Added measure for pupils with middle prior attainment,,,Yes,Yes,,,\r",
      "244,HUMVAMEA_HI_PTQ_EE,English Baccalaureate Humanities Value Added measure for pupils with high prior attainment,,,Yes,Yes,,,\r",
      "245,HUMVAMEA_FSM6CLA1A_PTQ_EE,English Baccalaureate Humanities Value Added measure for disadvantaged pupils,,,Yes,Yes,,,\r",
      "246,HUMVAMEA_NFSM6CLA1A_PTQ_EE,English Baccalaureate Humanities Value Added measure for non-disadvantaged pupils,,,Yes,Yes,,,\r",
      "247,LANVAMEA_LO_PTQ_EE,English Baccalaureate Languages Value Added measure for pupils with low prior attainment,,,Yes,Yes,,,\r",
      "248,LANVAMEA_AV_PTQ_EE,English Baccalaureate Languages Value Added measure for pupils with middle prior attainment,,,Yes,Yes,,,\r",
      "249,LANVAMEA_HI_PTQ_EE,English Baccalaureate Languages Value Added measure for pupils with high prior attainment,,,Yes,Yes,,,\r",
      "250,LANVAMEA_FSM6CLA1A_PTQ_EE,English Baccalaureate Languages Value Added measure for disadvantaged pupils,,,Yes,Yes,,,\r",
      "251,LANVAMEA_NFSM6CLA1A_PTQ_EE,English Baccalaureate Languages Value Added measure for non-disadvantaged pupils,,,Yes,Yes,,,\r",
      "252,SCIVAUPP_FSM6CLA1A_PTQ_EE,Upper 95% confidence limit for English Baccalaureate Science Value Added measure for disadvantaged pupils,,,Yes,Yes,Yes,,\r",
      "253,SCIVALOW_FSM6CLA1A_PTQ_EE,Lower 95% confidence limit for English Baccalaureate Science Value Added measure for disadvantaged pupils,,,Yes,Yes,Yes,,\r",
      "254,SCIVAUPP_NFSM6CLA1A_PTQ_EE,Upper 95% confidence limit for English Baccalaureate Science Value Added measure for non-disadvantaged pupils,,,Yes,Yes,Yes,,\r",
      "255,SCIVALOW_NFSM6CLA1A_PTQ_EE,Lower 95% confidence limit for English Baccalaureate Science Value Added measure for non-disadvantaged pupils,,,Yes,Yes,Yes,,\r",
      "256,SCIVAUPP_LO_PTQ_EE,Upper 95% confidence limit for English Baccalaureate Science Value Added measure for pupils with low prior attainment,,,Yes,Yes,Yes,,\r",
      "257,SCIVALOW_LO_PTQ_EE,Lower 95% confidence limit for English Baccalaureate Science Value Added measure for pupils with low prior attainment,,,Yes,Yes,Yes,,\r",
      "258,SCIVAUPP_AV_PTQ_EE,Upper 95% confidence limit for English Baccalaureate Science Value Added measure for pupils with middle prior attainment,,,Yes,Yes,Yes,,\r",
      "259,SCIVALOW_AV_PTQ_EE,Lower 95% confidence limit for English Baccalaureate Science Value Added measure for pupils with middle prior attainment,,,Yes,Yes,Yes,,\r",
      "260,SCIVAUPP_HI_PTQ_EE,Upper 95% confidence limit for English Baccalaureate Science Value Added measure for pupils with high prior attainment,,,Yes,Yes,Yes,,\r",
      "261,SCIVALOW_HI_PTQ_EE,Lower 95% confidence limit for English Baccalaureate Science Value Added measure for pupils with high prior attainment,,,Yes,Yes,Yes,,\r",
      "262,HUMVAUPP_FSM6CLA1A_PTQ_EE,Upper 95% confidence limit for English Baccalaureate Humanities Value Added measure for disadvantaged pupils,,,Yes,Yes,Yes,,\r",
      "263,HUMVALOW_FSM6CLA1A_PTQ_EE,Lower 95% confidence limit for English Baccalaureate Humanities Value Added measure for disadvantaged pupils,,,Yes,Yes,Yes,,\r",
      "264,HUMVAUPP_NFSM6CLA1A_PTQ_EE,Upper 95% confidence limit for English Baccalaureate Humanities Value Added measure for non-disadvantaged pupils,,,Yes,Yes,Yes,,\r",
      "265,HUMVALOW_NFSM6CLA1A_PTQ_EE,Lower 95% confidence limit for English Baccalaureate Humanities Value Added measure for non-disadvantaged pupils,,,Yes,Yes,Yes,,\r",
      "266,HUMVAUPP_LO_PTQ_EE,Upper 95% confidence limit for English Baccalaureate Humanities Value Added measure for pupils with low prior attainment,,,Yes,Yes,Yes,,\r",
      "267,HUMVALOW_LO_PTQ_EE,Lower 95% confidence limit for English Baccalaureate Humanities Value Added measure for pupils with low prior attainment,,,Yes,Yes,Yes,,\r",
      "268,HUMVAUPP_AV_PTQ_EE,Upper 95% confidence limit for English Baccalaureate Humanities Value Added measure for pupils with middle prior attainment,,,Yes,Yes,Yes,,\r",
      "269,HUMVALOW_AV_PTQ_EE,Lower 95% confidence limit for English Baccalaureate Humanities Value Added measure for pupils with middle prior attainment,,,Yes,Yes,Yes,,\r",
      "270,HUMVAUPP_HI_PTQ_EE,Upper 95% confidence limit for English Baccalaureate Humanities Value Added measure for pupils with high prior attainment,,,Yes,Yes,Yes,,\r",
      "271,HUMVALOW_HI_PTQ_EE,Lower 95% confidence limit for English Baccalaureate Humanities Value Added measure for pupils with high prior attainment,,,Yes,Yes,Yes,,\r",
      "272,LANVAUPP_FSM6CLA1A_PTQ_EE,Upper 95% confidence limit for English Baccalaureate Languages Value Added measure for disadvantaged pupils,,,Yes,Yes,Yes,,\r",
      "273,LANVALOW_FSM6CLA1A_PTQ_EE,Lower 95% confidence limit for English Baccalaureate Languages Value Added measure for disadvantaged pupils,,,Yes,Yes,Yes,,\r",
      "274,LANVAUPP_NFSM6CLA1A_PTQ_EE,Upper 95% confidence limit for English Baccalaureate Languages Value Added measure for non-disadvantaged pupils,,,Yes,Yes,Yes,,\r",
      "275,LANVALOW_NFSM6CLA1A_PTQ_EE,Lower 95% confidence limit for English Baccalaureate Languages Value Added measure for non-disadvantaged pupils,,,Yes,Yes,Yes,,\r",
      "276,LANVAUPP_LO_PTQ_EE,Upper 95% confidence limit for English Baccalaureate Languages Value Added measure for pupils with low prior attainment,,,Yes,Yes,Yes,,\r",
      "277,LANVALOW_LO_PTQ_EE,Lower 95% confidence limit for English Baccalaureate Languages Value Added measure for pupils with low prior attainment,,,Yes,Yes,Yes,,\r",
      "278,LANVAUPP_AV_PTQ_EE,Upper 95% confidence limit for English Baccalaureate Languages Value Added measure for pupils with middle prior attainment,,,Yes,Yes,Yes,,\r",
      "279,LANVALOW_AV_PTQ_EE,Lower 95% confidence limit for English Baccalaureate Languages Value Added measure for pupils with middle prior attainment,,,Yes,Yes,Yes,,\r",
      "280,LANVAUPP_HI_PTQ_EE,Upper 95% confidence limit for English Baccalaureate Languages Value Added measure for pupils with high prior attainment,,,Yes,Yes,Yes,,\r",
      "281,LANVALOW_HI_PTQ_EE,Lower 95% confidence limit for English Baccalaureate Languages Value Added measure for pupils with high prior attainment,,,Yes,Yes,Yes,,\r",
      "282,PTEBACC_E_13,Percentage of pupils entering all English Baccalaureate subject areas in 2013,,,,,,,\r",
      "283,PTEBACC_13,Percentage of pupils achieving the English Baccalaureate in 2013,,,,,,,\r",
      "284,PTEBACC_E_14_PTQ,Percentage of pupils entering all English Baccalaureate subject areas in 2014,,,,,,,\r",
      "285,PTEBACC_14_PTQ,Percentage of pupils achieving the English Baccalaureate in 2014,,,,,,,\r",
      "286,PTEBACC_E_15_PTQ_EE,Percentage of pupils entering all English Baccalaureate subject areas in 2015,,,,,,,\r",
      "287,PTEBACC_15_PTQ_EE,Percentage of pupils achieving the English Baccalaureate in 2015,,,,,,,\r",
      "288,PBEBACC_E_PTQ_EE,Percentage of boys with entries in all English Baccalaureate subject areas,,,,,,,\r",
      "289,PBEBACC_PTQ_EE,Percentage of boys achieving the English Baccalaureate,,,,,,,\r",
      "290,PGEBACC_E_PTQ_EE,Percentage of girls with entries in all English Baccalaureate subject areas,,,,,,,\r",
      "291,PGEBACC_PTQ_EE,Percentage of girls achieving the English Baccalaureate,,,,,,,\r",
      "292,PTEBACC_ENMOB_PTQ_EE,Percentage of non-mobile pupils with entries in all English Baccalaureate subject areas,,,,Yes,,,\r",
      "293,PTEBACCNMOB_PTQ_EE,Percentage of non-mobile pupils achieving the English Baccalaureate,,,,Yes,,,\r",
      "294,PTEBACC_EEAL_PTQ_EE,Percentage of pupils for whom English is an additional language with entries in all English Baccalaureate subject areas,,,,Yes,,,\r",
      "295,PTEBACCEAL_PTQ_EE,Percentage of pupils for whom English is an additional language achieving the English Baccalaureate,,,,Yes,,,\r",
      "296,PTEBACC_EFSM_13,Percentage of disadvantaged pupils with entries in all English Baccalaureate subject areas in 2013,,,,Yes,,,\r",
      "297,PTEBACC_FSM_13,Percentage of disadvantaged pupils achieving the English Baccalaureate in 2013,,,,Yes,,,\r",
      "298,PTEBACC_ENFSM_13,Percentage of non-disadvantaged pupils with entries in all English Baccalaureate subject areas in 2013,,,,Yes,,,\r",
      "299,PTEBACC_NFSM_13,Percentage of non-disadvantaged pupils achieving the English Baccalaureate in 2013,,,,Yes,,,\r",
      "300,PTEBACC_EFSM_14_PTQ,Percentage of disadvantaged pupils entering all English Baccalaureate subject areas in 2014,,,,Yes,,,\r",
      "301,PTEBACC_FSM_14_PTQ,Percentage of disadvantaged pupils achieving the English Baccalaureate in 2014,,,,Yes,,,\r",
      "302,PTEBACC_ENFSM_14_PTQ,Percentage of non-disadvantaged pupils entering all English Baccalaureate subject areas in 2014,,,,Yes,,,\r",
      "303,PTEBACC_NFSM_14_PTQ,Percentage  non-disadvantaged pupils achieving the English Baccalaureate in 2014,,,,Yes,,,\r",
      "304,PTEBACC_EFSM6CLA1A_15_PTQ_EE,Percentage of disadvantaged pupils entering all English Baccalaureate subject areas in 2015,,,,Yes,,,\r",
      "305,PTEBACC_FSM6CLA1A_15_PTQ_EE,Percentage of disadvantaged pupils achieving the English Baccalaureate in 2015,,,,Yes,,,\r",
      "306,PTEBACC_ENFSM6CLA1A_15_PTQ_EE,Percentage of non-disadvantaged pupils entering all English Baccalaureate subject areas in 2015,,,,Yes,,,\r",
      "307,PTEBACC_NFSM6CLA1A_15_PTQ_EE,Percentage of non-disadvantaged pupils achieving the English Baccalaureate in 2015,,,,Yes,,,\r",
      "308,PTAC5EM_PTQ_EE,Percentage of pupils achieving 5+ A*-C or equivalents including A*-C in both English and mathematics GCSEs,,,,,,,\r",
      "309,AC5EM13,Percentage of pupils achieving 5+ A*-C or equivalents including A*-C in both English and mathematics GCSEs - 2013,,,,,,,\r",
      "310,AC5EM14_PTQ,Percentage of pupils achieving 5+ A*-C or equivalents including A*-C in both English and mathematics GCSEs - 2014,,,,,,,\r",
      "311,AC5EM15_PTQ_EE,Percentage of pupils achieving 5+ A*-C or equivalents including A*-C in both English and mathematics GCSEs - 2015,,,,,,,\r",
      "312,AC5EM16_PTQ_EE,Percentage of pupils achieving 5+ A*-C or equivalents including A*-C in both English and mathematics GCSEs - 2016,,,,,,,\r",
      "313,PTANYQ_PTQ_EE,Percentage of pupils achieving any qualifications,,,,,,,\r",
      "314,PTL2BASICS_13,Percentage of pupils achieving grades A*-C in both English and mathematics GCSEs in 2013,,,,,,,\r",
      "315,PTL2BASICS_14_PTQ,Percentage of pupils achieving grades A*-C in both English and mathematics GCSEs in 2014,,,,,,,\r",
      "316,PTL2BASICS_15_PTQ_EE,Percentage of pupils achieving grades A*-C in both English and mathematics GCSEs in 2015,,,,,,,\r",
      "317,PTFSM6CLA1ABASICS_LL_PTQ_EE,Percentage of disadvantaged pupils achieving grades A*-C in both English and mathematics GCSEs,Yes - see 2016 methodology sheet for basics methodology change,,,Yes,,,\r",
      "318,PTNOTFSM6CLA1ABASICS_LL_PTQ_EE,Percentage of non-disadvantaged pupils achieving grades A*-C in both English and mathematics GCSEs,Yes - see 2016 methodology sheet for basics methodology change,,,Yes,,,\r",
      "319,TBASICS_LL_LO_PTQ_EE,Number of pupils in low prior attainment band achieving grades A*-C in both English and mathematics GCSEs,Yes - see 2016 methodology sheet for basics methodology change,,,Yes,,,\r",
      "320,PTBASICS_LL_LO_PTQ_EE,Percentage of pupils in low prior attainment band achieving grades A*-C in both English and mathematics GCSEs,Yes - see 2016 methodology sheet for basics methodology change,,,Yes,,,\r",
      "321,TBASICS_LL_AV_PTQ_EE,Number of pupils in middle prior attainment band achieving grades A*-C in both English and mathematics GCSEs,Yes - see 2016 methodology sheet for basics methodology change,,,Yes,,,\r",
      "322,PTBASICS_LL_AV_PTQ_EE,Percentage pupils in middle prior attainment band achieving grades A*-C in both English and mathematics GCSEs,Yes - see 2016 methodology sheet for basics methodology change,,,Yes,,,\r",
      "323,TBASICS_LL_HI_PTQ_EE,Number of pupils in high prior attainment band achieving grades A*-C in both English and mathematics GCSEs,Yes - see 2016 methodology sheet for basics methodology change,,,Yes,,,\r",
      "324,PTBASICS_LL_HI_PTQ_EE,Percentage pupils in high prior attainment band achieving grades A*-C in both English and mathematics GCSEs,Yes - see 2016 methodology sheet for basics methodology change,,,Yes,,,\r",
      "325,PBL2BASICS_LL_PTQ_EE,Percentage of boys achieving grades A*-C in both English and mathematics GCSEs,Yes - see 2016 methodology sheet for basics methodology change,,,,,,\r",
      "326,PGL2BASICS_LL_PTQ_EE,Percentage of girls achieving grades A*-C in both English and mathematics GCSEs,Yes - see 2016 methodology sheet for basics methodology change,,,,,,\r",
      "327,PTL2BASICS_LL_EAL_PTQ_EE,Percentage of pupils for whom English is an additional language achieving grades A*-C in both English and mathematics GCSEs,Yes - see 2016 methodology sheet for basics methodology change,,,Yes,,,\r",
      "328,PTL2BASICS_LL_NMOB_PTQ_EE,Percentage of non-mobile pupils achieving grades A*-C in both English and mathematics GCSEs,Yes - see 2016 methodology sheet for basics methodology change,,,Yes,,,\r",
      "329,PTFSMBASICS_13,Percentage of disadvantaged pupils achieving grades A*-C in both English and mathematics GCSEs in 2013,,,,Yes,,,\r",
      "330,PTNOTFSMBASICS_13,Percentage of non-disadvantaged pupils achieving grades A*-C in both English and mathematics GCSEs in 2013,,,,Yes,,,\r",
      "331,PTFSMBASICS_14_PTQ,Percentage of disadvantaged pupils achieving grades A*-C in both English and mathematics GCSEs in 2014,,,,Yes,,,\r",
      "332,PTNOTFSMBASICS_14_PTQ,Percentage of non-disadvantaged pupils achieving grades A*-C in both English and mathematics GCSEs in 2014,,,,Yes,,,\r",
      "333,PTFSM6CLA1ABASICS_15_PTQ_EE,Percentage of disadvantaged pupils achieving grades A*-C in both English and mathematics GCSEs in 2015,,,,Yes,,,\r",
      "334,PTNOTFSM6CLA1ABASICS_15_PTQ_EE,Percentage of non-disadvantaged pupils achieving grades A*-C in both English and mathematics GCSEs in 2015,,,,Yes,,,\r",
      "335,PTmultiLan_E,Percentage of pupils entering more than one language,,,,,,,\r",
      "336,PTtripleSci_E,\"Percentage of pupils entering biology, chemistry and physics\",,,,,,,\r",
      "337,TFSMCLA_13,Number of disadvantaged pupils at the end of key stage 4 in 2013,,,,Yes,,,\r",
      "338,PTFSMCLA_13,Percentage of pupils at the end of key stage 4 who were disadvantaged in 2013,,,,Yes,,,\r",
      "339,TNOTFSMCLA_13,Number of non-disadvantaged pupils at the end of key stage 4 in 2013,,,,Yes,,,\r",
      "340,PTNOTFSMCLA_13,Percentage of pupils at the end of key stage 4 who were not disadvantaged in 2013,,,,Yes,,,\r",
      "341,TFSMCLA_14,Number of disadvantaged pupils at the end of key stage 4 in 2014,,,,Yes,,,\r",
      "342,PTFSMCLA_14,Percentage of pupils at the end of key stage 4 who were disadvantaged in 2014,,,,Yes,,,\r",
      "343,TNOTFSMCLA_14,Number of non-disadvantaged pupils at the end of key stage 4 in 2014,,,,Yes,,,\r",
      "344,PTNOTFSMCLA_14,Percentage of pupils at the end of key stage 4 who were not disadvantaged in 2014,,,,Yes,,,\r",
      "345,TFSM6CLA1A_15,Number of disadvantaged pupils at the end of key stage 4 in 2015,,,,Yes,,,\r",
      "346,PTFSM6CLA1A_15,Percentage of pupils at the end of key stage 4 who were disadvantaged in 2015,,,,Yes,,,\r",
      "347,TNOTFSM6CLA1A_15,Number of non-disadvantaged pupils at the end of key stage 4 in 2015,,,,Yes,,,\r",
      "348,PTNOTFSM6CLA1A_15,Percentage of pupils at the end of key stage 4 who were not disadvantaged in 2015,,,,Yes,,,\r",
      "349,TAVENT_E_3NG_PTQ_EE,Average number of GCSE and equivalents entries per pupil,Yes - see 2016 methodology sheet for average entries methodology change,,,,,,\r",
      "350,TAVENT_E_3NG_LO_PTQ_EE,Average number of GCSE and equivalents entries per pupil with low prior attainment,Yes - see 2016 methodology sheet for average entries methodology change,,,Yes,,,\r",
      "351,TAVENT_E_3NG_AV_PTQ_EE,Average number of GCSE and equivalents entries per pupil with middle prior attainment,Yes - see 2016 methodology sheet for average entries methodology change,,,Yes,,,\r",
      "352,TAVENT_E_3NG_HI_PTQ_EE,Average number of GCSE and equivalents entries per pupil with high prior attainment,Yes - see 2016 methodology sheet for average entries methodology change,,,Yes,,,\r",
      "353,TAVENT_E_3NG_FSM6CLA1A_PTQ_EE,Average number of GCSE and equivalents entries per disadvantaged pupil,Yes - see 2016 methodology sheet for average entries methodology change,,,Yes,,,\r",
      "354,TAVENT_E_3NG_NFSM6CLA1A_PTQ_EE,Average number of GCSE and equivalents entries per non-disadvantaged pupil,Yes - see 2016 methodology sheet for average entries methodology change,,,Yes,,,\r",
      "355,TAVENT_EFSM_13,Average number of GCSE and equivalents entries per disadvantaged pupil in 2013,,,,Yes,,,\r",
      "356,TAVENT_ENFSM_13,Average number of GCSE and equivalents entries per non-disadvantaged pupil in 2013,,,,Yes,,,\r",
      "357,TAVENT_EFSM_14_PTQ,Average number of GCSE and equivalents entries per disadvantaged pupil in 2014,,,,Yes,,,\r",
      "358,TAVENT_ENFSM_14_PTQ,Average number of GCSE and equivalents entries per non-disadvantaged pupil in 2014,,,,Yes,,,\r",
      "359,TAVENT_EFSM6CLA1A_15_PTQ_EE,Average number of GCSE and equivalents entries per disadvantaged pupil in 2015,,,,Yes,,,\r",
      "360,TAVENT_ENFSM6CLA1A_15_PTQ_EE,Average number of GCSE and equivalents entries per non-disadvantaged pupil in 2015,,,,Yes,,,\r",
      "361,TAVENT_G_PTQ_EE,Average number of GCSE entries per pupil,,,,,,,\r",
      "362,TAVENT_GLO_PTQ_EE,Average number of GCSE entries per pupil with low prior attainment,,,,Yes,,,\r",
      "363,TAVENT_GAV_PTQ_EE,Average number of GCSE entries per pupil with middle prior attainment,,,,Yes,,,\r",
      "364,TAVENT_GHI_PTQ_EE,Average number of GCSE entries per pupil with high prior attainment,,,,Yes,,,\r",
      "365,TAVENT_GFSM6CLA1A_PTQ_EE,Average number of GCSE entries per disadvantaged pupil,,,,Yes,,,\r",
      "366,TAVENT_GNFSM6CLA1A_PTQ_EE,Average number of GCSE entries per non-disadvantaged pupil,,,,Yes,,,\r",
      "367,TAVENT_GFSM_13,Average number of GCSE entries per disadvantaged pupil in 2013,,,,Yes,,,\r",
      "368,TAVENT_GNFSM_13,Average number of GCSE entries per non-disadvantaged pupil in 2013,,,,Yes,,,\r",
      "369,TAVENT_GFSM_14_PTQ,Average number of GCSE entries per disadvantaged pupil in 2014,,,,Yes,,,\r",
      "370,TAVENT_GNFSM_14_PTQ,Average number of GCSE entries per non-disadvantaged pupil in 2014,,,,Yes,,,\r",
      "371,TAVENT_GFSM6CLA1A_15_PTQ_EE,Average number of GCSE entries per disadvantaged pupil in 2015,,,,Yes,,,\r",
      "372,TAVENT_GNFSM6CLA1A_15_PTQ_EE,Average number of GCSE entries per non-disadvantaged pupil in 2015,,,,Yes,,,"
     ]
    }
   ],
   "source": [
    "!head -5 data/2015-2016/ks4_meta.csv"
   ]
  },
  {
   "cell_type": "code",
   "execution_count": 11,
   "metadata": {
    "hidden": true
   },
   "outputs": [
    {
     "name": "stdout",
     "output_type": "stream",
     "text": [
      "0 data/2015-2016/ks4_meta.csv\r\n"
     ]
    }
   ],
   "source": [
    "!wc -l data/2015-2016/ks4_meta.csv"
   ]
  },
  {
   "cell_type": "markdown",
   "metadata": {
    "hidden": true
   },
   "source": [
    "0 lines... strange, I'll try loading it into Mongo"
   ]
  },
  {
   "cell_type": "code",
   "execution_count": 12,
   "metadata": {
    "hidden": true
   },
   "outputs": [
    {
     "name": "stdout",
     "output_type": "stream",
     "text": [
      "2018-05-19T09:02:57.446+0000\tFailed: fields cannot be identical: '' and ''\r\n",
      "2018-05-19T09:02:57.446+0000\timported 0 documents\r\n"
     ]
    }
   ],
   "source": [
    "!/usr/bin/mongoimport --port 27351 --drop --db schools_db --collection ks4_labels \\\n",
    "    --type csv --headerline --ignoreBlanks \\\n",
    "    --file data/2015-2016/ks4_meta.csv"
   ]
  },
  {
   "cell_type": "markdown",
   "metadata": {
    "hidden": true
   },
   "source": [
    "Clearly there is an issue with the import.  I'll try importing it into a dataframe\n"
   ]
  },
  {
   "cell_type": "code",
   "execution_count": 13,
   "metadata": {
    "hidden": true,
    "scrolled": true
   },
   "outputs": [
    {
     "data": {
      "text/html": [
       "<div>\n",
       "<style>\n",
       "    .dataframe thead tr:only-child th {\n",
       "        text-align: right;\n",
       "    }\n",
       "\n",
       "    .dataframe thead th {\n",
       "        text-align: left;\n",
       "    }\n",
       "\n",
       "    .dataframe tbody tr th {\n",
       "        vertical-align: top;\n",
       "    }\n",
       "</style>\n",
       "<table border=\"1\" class=\"dataframe\">\n",
       "  <thead>\n",
       "    <tr style=\"text-align: right;\">\n",
       "      <th></th>\n",
       "      <th>Column</th>\n",
       "      <th>Metafile heading</th>\n",
       "      <th>Metafile description</th>\n",
       "      <th>Methodology changes</th>\n",
       "      <th>Null field for special schools</th>\n",
       "      <th>Null field for local authority records</th>\n",
       "      <th>Null field for National (all schools) records</th>\n",
       "      <th>Null field for National (maintained schools) records</th>\n",
       "      <th>Unnamed: 8</th>\n",
       "      <th>Unnamed: 9</th>\n",
       "    </tr>\n",
       "  </thead>\n",
       "  <tbody>\n",
       "    <tr>\n",
       "      <th>0</th>\n",
       "      <td>1</td>\n",
       "      <td>RECTYPE</td>\n",
       "      <td>Record type (1=mainstream school; 2=special sc...</td>\n",
       "      <td>NaN</td>\n",
       "      <td>NaN</td>\n",
       "      <td>NaN</td>\n",
       "      <td>NaN</td>\n",
       "      <td>NaN</td>\n",
       "      <td>NaN</td>\n",
       "      <td>NaN</td>\n",
       "    </tr>\n",
       "    <tr>\n",
       "      <th>1</th>\n",
       "      <td>2</td>\n",
       "      <td>ALPHAIND</td>\n",
       "      <td>Alphabetic sorting index</td>\n",
       "      <td>NaN</td>\n",
       "      <td>NaN</td>\n",
       "      <td>Yes</td>\n",
       "      <td>Yes</td>\n",
       "      <td>Yes</td>\n",
       "      <td>NaN</td>\n",
       "      <td>NaN</td>\n",
       "    </tr>\n",
       "    <tr>\n",
       "      <th>2</th>\n",
       "      <td>3</td>\n",
       "      <td>LEA</td>\n",
       "      <td>Local authority code (see separate list of loc...</td>\n",
       "      <td>NaN</td>\n",
       "      <td>NaN</td>\n",
       "      <td>NaN</td>\n",
       "      <td>Yes</td>\n",
       "      <td>Yes</td>\n",
       "      <td>NaN</td>\n",
       "      <td>NaN</td>\n",
       "    </tr>\n",
       "    <tr>\n",
       "      <th>3</th>\n",
       "      <td>4</td>\n",
       "      <td>ESTAB</td>\n",
       "      <td>Establishment number</td>\n",
       "      <td>NaN</td>\n",
       "      <td>NaN</td>\n",
       "      <td>Yes</td>\n",
       "      <td>Yes</td>\n",
       "      <td>Yes</td>\n",
       "      <td>NaN</td>\n",
       "      <td>NaN</td>\n",
       "    </tr>\n",
       "    <tr>\n",
       "      <th>4</th>\n",
       "      <td>5</td>\n",
       "      <td>URN</td>\n",
       "      <td>School Unique Reference Number</td>\n",
       "      <td>NaN</td>\n",
       "      <td>NaN</td>\n",
       "      <td>Yes</td>\n",
       "      <td>Yes</td>\n",
       "      <td>Yes</td>\n",
       "      <td>NaN</td>\n",
       "      <td>NaN</td>\n",
       "    </tr>\n",
       "  </tbody>\n",
       "</table>\n",
       "</div>"
      ],
      "text/plain": [
       "   Column Metafile heading                               Metafile description  \\\n",
       "0       1          RECTYPE  Record type (1=mainstream school; 2=special sc...   \n",
       "1       2         ALPHAIND                           Alphabetic sorting index   \n",
       "2       3              LEA  Local authority code (see separate list of loc...   \n",
       "3       4            ESTAB                               Establishment number   \n",
       "4       5              URN                     School Unique Reference Number   \n",
       "\n",
       "  Methodology changes Null field for special schools  \\\n",
       "0                 NaN                            NaN   \n",
       "1                 NaN                            NaN   \n",
       "2                 NaN                            NaN   \n",
       "3                 NaN                            NaN   \n",
       "4                 NaN                            NaN   \n",
       "\n",
       "  Null field for local authority records  \\\n",
       "0                                    NaN   \n",
       "1                                    Yes   \n",
       "2                                    NaN   \n",
       "3                                    Yes   \n",
       "4                                    Yes   \n",
       "\n",
       "  Null field for National (all schools) records  \\\n",
       "0                                           NaN   \n",
       "1                                           Yes   \n",
       "2                                           Yes   \n",
       "3                                           Yes   \n",
       "4                                           Yes   \n",
       "\n",
       "  Null field for National (maintained schools) records  Unnamed: 8  Unnamed: 9  \n",
       "0                                                NaN           NaN         NaN  \n",
       "1                                                Yes           NaN         NaN  \n",
       "2                                                Yes           NaN         NaN  \n",
       "3                                                Yes           NaN         NaN  \n",
       "4                                                Yes           NaN         NaN  "
      ]
     },
     "execution_count": 13,
     "metadata": {},
     "output_type": "execute_result"
    }
   ],
   "source": [
    "ks4_meta_df = pd.read_csv('data/2015-2016/ks4_meta.csv')\n",
    "ks4_meta_df.head()"
   ]
  },
  {
   "cell_type": "markdown",
   "metadata": {
    "hidden": true
   },
   "source": [
    "To look up the labels I only require the `Metafile heading` and `Metafile description` Columns, so I can drop the others."
   ]
  },
  {
   "cell_type": "code",
   "execution_count": 14,
   "metadata": {
    "hidden": true
   },
   "outputs": [
    {
     "data": {
      "text/html": [
       "<div>\n",
       "<style>\n",
       "    .dataframe thead tr:only-child th {\n",
       "        text-align: right;\n",
       "    }\n",
       "\n",
       "    .dataframe thead th {\n",
       "        text-align: left;\n",
       "    }\n",
       "\n",
       "    .dataframe tbody tr th {\n",
       "        vertical-align: top;\n",
       "    }\n",
       "</style>\n",
       "<table border=\"1\" class=\"dataframe\">\n",
       "  <thead>\n",
       "    <tr style=\"text-align: right;\">\n",
       "      <th></th>\n",
       "      <th>label</th>\n",
       "      <th>expanded</th>\n",
       "    </tr>\n",
       "  </thead>\n",
       "  <tbody>\n",
       "    <tr>\n",
       "      <th>0</th>\n",
       "      <td>RECTYPE</td>\n",
       "      <td>Record type (1=mainstream school; 2=special sc...</td>\n",
       "    </tr>\n",
       "    <tr>\n",
       "      <th>1</th>\n",
       "      <td>ALPHAIND</td>\n",
       "      <td>Alphabetic sorting index</td>\n",
       "    </tr>\n",
       "    <tr>\n",
       "      <th>2</th>\n",
       "      <td>LEA</td>\n",
       "      <td>Local authority code (see separate list of loc...</td>\n",
       "    </tr>\n",
       "    <tr>\n",
       "      <th>3</th>\n",
       "      <td>ESTAB</td>\n",
       "      <td>Establishment number</td>\n",
       "    </tr>\n",
       "    <tr>\n",
       "      <th>4</th>\n",
       "      <td>URN</td>\n",
       "      <td>School Unique Reference Number</td>\n",
       "    </tr>\n",
       "  </tbody>\n",
       "</table>\n",
       "</div>"
      ],
      "text/plain": [
       "      label                                           expanded\n",
       "0   RECTYPE  Record type (1=mainstream school; 2=special sc...\n",
       "1  ALPHAIND                           Alphabetic sorting index\n",
       "2       LEA  Local authority code (see separate list of loc...\n",
       "3     ESTAB                               Establishment number\n",
       "4       URN                     School Unique Reference Number"
      ]
     },
     "execution_count": 14,
     "metadata": {},
     "output_type": "execute_result"
    }
   ],
   "source": [
    "ks4_labels_df = ks4_meta_df[['Metafile heading', 'Metafile description']]\n",
    "# relabel the columns for easier access\n",
    "ks4_labels_df.columns = ['label', 'expanded']\n",
    "ks4_labels_df.head()"
   ]
  },
  {
   "cell_type": "code",
   "execution_count": 15,
   "metadata": {
    "collapsed": true,
    "hidden": true
   },
   "outputs": [],
   "source": [
    "# access the db ks4_labels collection\n",
    "ks4_labels = db.ks4_labels"
   ]
  },
  {
   "cell_type": "code",
   "execution_count": 16,
   "metadata": {
    "hidden": true
   },
   "outputs": [
    {
     "data": {
      "text/plain": [
       "{'_id': ObjectId('5affe8410fd01f09da3a8594'),\n",
       " 'expanded': 'Record type (1=mainstream school; 2=special school; 4=local authority; 5=National (all schools); 7=National (maintained schools))',\n",
       " 'label': 'RECTYPE'}"
      ]
     },
     "execution_count": 16,
     "metadata": {},
     "output_type": "execute_result"
    }
   ],
   "source": [
    "# iterate through each ks4_meta_df row and add it to the database\n",
    "# I will use the same keys as in\n",
    "for index, row in ks4_labels_df.iterrows():\n",
    "    ks4_labels.insert_one({'label': row['label'],\n",
    "                           'expanded': row['expanded']})\n",
    "# check it looks ok\n",
    "ks4_labels.find_one()"
   ]
  },
  {
   "cell_type": "markdown",
   "metadata": {
    "hidden": true
   },
   "source": [
    "I need to tidy up a little.  \n",
    "\n",
    "First, the `RECTYPE` expansion contains a list of codes that should be separated for easier access."
   ]
  },
  {
   "cell_type": "code",
   "execution_count": 26,
   "metadata": {
    "hidden": true
   },
   "outputs": [
    {
     "data": {
      "text/plain": [
       "{'_id': ObjectId('5affe8410fd01f09da3a8594'),\n",
       " 'codes': {'1': 'mainstream school',\n",
       "  '2': 'special school',\n",
       "  '4': 'local authority',\n",
       "  '5': 'National (all schools)',\n",
       "  '7': 'National (maintained schools)'},\n",
       " 'expanded': 'Record type',\n",
       " 'label': 'RECTYPE'}"
      ]
     },
     "execution_count": 26,
     "metadata": {},
     "output_type": "execute_result"
    }
   ],
   "source": [
    "# select the correct document\n",
    "r = ks4_labels.find_one({'label': 'RECTYPE'})\n",
    "\n",
    "# After checking that the codes have not already been created\n",
    "# splits the description string\n",
    "# adds a codes key to reference each school type\n",
    "if 'codes' not in r.keys():    \n",
    "    expanded = r['expanded']\n",
    "    e = expanded[:11]\n",
    "    codelist = expanded[13:-1].split('; ')\n",
    "    keys = [c[:1] for c in codelist]\n",
    "    values = [c[2:] for c in codelist]\n",
    "    codes = (dict(list(zip(keys, values))))\n",
    "    ks4_labels.update_one({'_id': r['_id']}, \n",
    "                        {'$set': {'expanded': e,\n",
    "                                  'codes': codes}})\n",
    "\n",
    "# check that it was procced correctly\n",
    "ks4_labels.find_one({'label': 'RECTYPE'})"
   ]
  },
  {
   "cell_type": "markdown",
   "metadata": {
    "hidden": true
   },
   "source": [
    "Second, the LEA data is kept in a different file `la_and_region_codes` meta.  However, for my investigation I don't think I need to import it."
   ]
  },
  {
   "cell_type": "markdown",
   "metadata": {
    "hidden": true
   },
   "source": [
    "In the tm351 course materials we used some in memory collections to access the labels information.  Because, I will need to do the same for the KS2 dataset, I'll wrap them in a function."
   ]
  },
  {
   "cell_type": "code",
   "execution_count": 19,
   "metadata": {
    "collapsed": true,
    "hidden": true
   },
   "outputs": [],
   "source": [
    "def expanded_label(meta):\n",
    "    # Load the expanded names of keys and human-readable codes into memory\n",
    "    expanded_name = collections.defaultdict(str)\n",
    "    for e in meta.find({'expanded': {\"$exists\": True}}):\n",
    "        expanded_name[e['label']] = e['expanded']\n",
    "\n",
    "    label_of = collections.defaultdict(str)\n",
    "    for l in meta.find({'codes': {\"$exists\": True}}):\n",
    "        for c in l['codes']:\n",
    "            try:\n",
    "                label_of[l['label'], int(c)] = l['codes'][c]\n",
    "            except ValueError: \n",
    "                label_of[l['label'], c] = l['codes'][c]\n",
    "    # return both as a tuple\n",
    "    return (expanded_name, label_of)"
   ]
  },
  {
   "cell_type": "code",
   "execution_count": 20,
   "metadata": {
    "hidden": true
   },
   "outputs": [],
   "source": [
    "# test the function works\n",
    "ks4_expanded_name, ks4_label_of = expanded_label(ks4_labels)"
   ]
  },
  {
   "cell_type": "code",
   "execution_count": 21,
   "metadata": {
    "hidden": true
   },
   "outputs": [
    {
     "data": {
      "text/plain": [
       "[(4, 'local authority'),\n",
       " (5, 'National (all schools)'),\n",
       " (7, 'National (maintained schools)'),\n",
       " (2, 'special school'),\n",
       " (1, 'mainstream school')]"
      ]
     },
     "execution_count": 21,
     "metadata": {},
     "output_type": "execute_result"
    }
   ],
   "source": [
    "# test it works\n",
    "[(c, ks4_label_of['RECTYPE', c]) for k, c in ks4_label_of if k == 'RECTYPE']"
   ]
  },
  {
   "cell_type": "markdown",
   "metadata": {
    "hidden": true
   },
   "source": [
    "Oh that reminds me - I will need to get the School Types from the abbreviations file as I did in TMA02.  Currently the description is: "
   ]
  },
  {
   "cell_type": "code",
   "execution_count": 32,
   "metadata": {
    "hidden": true
   },
   "outputs": [
    {
     "data": {
      "text/plain": [
       "'School type (see separate list of abbreviations used in the tables)'"
      ]
     },
     "execution_count": 32,
     "metadata": {},
     "output_type": "execute_result"
    }
   ],
   "source": [
    "ks4_expanded_name['NFTYPE']"
   ]
  },
  {
   "cell_type": "markdown",
   "metadata": {
    "hidden": true
   },
   "source": [
    "In TMA 02 I looked up this data from the abbreviations file and added made a dict to access it conveniently."
   ]
  },
  {
   "cell_type": "code",
   "execution_count": 30,
   "metadata": {
    "hidden": true
   },
   "outputs": [
    {
     "data": {
      "text/plain": [
       "12"
      ]
     },
     "execution_count": 30,
     "metadata": {},
     "output_type": "execute_result"
    }
   ],
   "source": [
    "school_type_dict = {'VA': 'Voluntary aided school',\n",
    "             'AC': 'Sponsored Academy',\n",
    "             'F': 'Free school - mainstream',\n",
    "             'CY': 'Community school',\n",
    "             'FS': 'Free school - special',\n",
    "             'CYS': 'Community special school',\n",
    "             'FD': 'Foundation school',\n",
    "             'ACC': 'Academy converter - mainstream',\n",
    "             'ACCS': 'Academy converter - special school',\n",
    "             'FDS': 'Foundation special school',\n",
    "             'ACS': 'Sponsored special academy',\n",
    "             'VC': 'Voluntary controlled school'}\n",
    "len(school_type_dict)"
   ]
  },
  {
   "cell_type": "markdown",
   "metadata": {
    "hidden": true
   },
   "source": [
    "I can put this into the `NFTYPE` document."
   ]
  },
  {
   "cell_type": "code",
   "execution_count": 33,
   "metadata": {
    "hidden": true
   },
   "outputs": [
    {
     "data": {
      "text/plain": [
       "{'_id': ObjectId('5affe8410fd01f09da3a85a3'),\n",
       " 'codes': {'AC': 'Sponsored Academy',\n",
       "  'ACC': 'Academy converter - mainstream',\n",
       "  'ACCS': 'Academy converter - special school',\n",
       "  'ACS': 'Sponsored special academy',\n",
       "  'CY': 'Community school',\n",
       "  'CYS': 'Community special school',\n",
       "  'F': 'Free school - mainstream',\n",
       "  'FD': 'Foundation school',\n",
       "  'FDS': 'Foundation special school',\n",
       "  'FS': 'Free school - special',\n",
       "  'VA': 'Voluntary aided school',\n",
       "  'VC': 'Voluntary controlled school'},\n",
       " 'expanded': 'School type (see separate list of abbreviations used in the tables)',\n",
       " 'label': 'NFTYPE'}"
      ]
     },
     "execution_count": 33,
     "metadata": {},
     "output_type": "execute_result"
    }
   ],
   "source": [
    "# update the database document\n",
    "ks4_labels.find_one_and_update({'label': 'NFTYPE'},\n",
    "                               {'$set': {'codes': school_type_dict}})\n",
    "# check it looks ok\n",
    "ks4_labels.find_one({'label': 'NFTYPE'})"
   ]
  },
  {
   "cell_type": "code",
   "execution_count": 35,
   "metadata": {
    "collapsed": true,
    "hidden": true
   },
   "outputs": [],
   "source": [
    "# update the ks4_label_of and expanded name collections\n",
    "ks4_expanded_name, ks4_label_of = expanded_label(ks4_labels)"
   ]
  },
  {
   "cell_type": "code",
   "execution_count": 36,
   "metadata": {
    "collapsed": true,
    "hidden": true
   },
   "outputs": [],
   "source": [
    "# check the codes"
   ]
  },
  {
   "cell_type": "code",
   "execution_count": 38,
   "metadata": {
    "hidden": true
   },
   "outputs": [
    {
     "data": {
      "text/plain": [
       "[('ACC', 'Academy converter - mainstream'),\n",
       " ('ACS', 'Sponsored special academy'),\n",
       " ('CYS', 'Community special school'),\n",
       " ('FS', 'Free school - special'),\n",
       " ('F', 'Free school - mainstream'),\n",
       " ('VC', 'Voluntary controlled school'),\n",
       " ('FD', 'Foundation school'),\n",
       " ('CY', 'Community school'),\n",
       " ('AC', 'Sponsored Academy'),\n",
       " ('FDS', 'Foundation special school'),\n",
       " ('VA', 'Voluntary aided school'),\n",
       " ('ACCS', 'Academy converter - special school')]"
      ]
     },
     "execution_count": 38,
     "metadata": {},
     "output_type": "execute_result"
    }
   ],
   "source": [
    "[(c, ks4_label_of['NFTYPE', c]) for k, c in ks4_label_of if k =='NFTYPE']"
   ]
  },
  {
   "cell_type": "code",
   "execution_count": 40,
   "metadata": {
    "hidden": true
   },
   "outputs": [
    {
     "data": {
      "text/plain": [
       "'Foundation school'"
      ]
     },
     "execution_count": 40,
     "metadata": {},
     "output_type": "execute_result"
    }
   ],
   "source": [
    "ks4_label_of['NFTYPE', 'FD']"
   ]
  },
  {
   "cell_type": "markdown",
   "metadata": {
    "hidden": true
   },
   "source": [
    "Great, now I'll quickly import the KS2 dataset for later on."
   ]
  },
  {
   "cell_type": "markdown",
   "metadata": {},
   "source": [
    "## Importing the KS2 data into MongoDB"
   ]
  },
  {
   "cell_type": "code",
   "execution_count": 24,
   "metadata": {},
   "outputs": [],
   "source": [
    "## Importing the KS2 results dataset\n",
    "\n"
   ]
  },
  {
   "cell_type": "markdown",
   "metadata": {},
   "source": [
    "# Q1 - KS4 Investigation\n",
    "<a name=\"q1\"></a>"
   ]
  },
  {
   "cell_type": "markdown",
   "metadata": {},
   "source": [
    "## Does the type of school impact the overall academic performance results of students at KS4?"
   ]
  },
  {
   "cell_type": "markdown",
   "metadata": {},
   "source": [
    "# Application of Machine Learning\n",
    "<a name=\"machine_learning\"></a>"
   ]
  },
  {
   "cell_type": "markdown",
   "metadata": {},
   "source": [
    "# Q2 - KS2-KS4 Investigation\n",
    "<a name=\"q2\"></a>"
   ]
  },
  {
   "cell_type": "markdown",
   "metadata": {},
   "source": [
    "## Do top performing schools at KS2 deliver similar  good or better results at KS4"
   ]
  },
  {
   "cell_type": "code",
   "execution_count": null,
   "metadata": {
    "collapsed": true
   },
   "outputs": [],
   "source": []
  },
  {
   "cell_type": "code",
   "execution_count": null,
   "metadata": {
    "collapsed": true
   },
   "outputs": [],
   "source": []
  },
  {
   "cell_type": "markdown",
   "metadata": {},
   "source": [
    "# Cleanup remove the database\n",
    "\n",
    "Uncomment the lines below to remove the MongoDB created in the investigation."
   ]
  },
  {
   "cell_type": "code",
   "execution_count": 25,
   "metadata": {},
   "outputs": [],
   "source": [
    "# uncomment to remove the database if needed\n",
    "# client.drop_database('schools_db')\n",
    "# client.database_names()"
   ]
  },
  {
   "cell_type": "code",
   "execution_count": null,
   "metadata": {
    "collapsed": true
   },
   "outputs": [],
   "source": []
  }
 ],
 "metadata": {
  "kernelspec": {
   "display_name": "Python 3",
   "language": "python",
   "name": "python3"
  },
  "language_info": {
   "codemirror_mode": {
    "name": "ipython",
    "version": 3
   },
   "file_extension": ".py",
   "mimetype": "text/x-python",
   "name": "python",
   "nbconvert_exporter": "python",
   "pygments_lexer": "ipython3",
   "version": "3.5.2"
  }
 },
 "nbformat": 4,
 "nbformat_minor": 2
}
