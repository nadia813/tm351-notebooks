{
 "cells": [
  {
   "cell_type": "markdown",
   "metadata": {},
   "source": [
    "# Open Refine"
   ]
  },
  {
   "cell_type": "markdown",
   "metadata": {},
   "source": [
    "## Cleaning england_ks4final.csv"
   ]
  },
  {
   "cell_type": "markdown",
   "metadata": {
    "collapsed": true
   },
   "source": [
    "### 1. import parameters\n",
    "Imported the `england_ks4final.csv` with the following parameters."
   ]
  },
  {
   "cell_type": "markdown",
   "metadata": {},
   "source": [
    "![ks4 import parameters](img/or_ks4_001.png)\n"
   ]
  },
  {
   "cell_type": "markdown",
   "metadata": {},
   "source": [
    "### 2. Remove the non-mainstream schools."
   ]
  },
  {
   "cell_type": "markdown",
   "metadata": {},
   "source": [
    "The questions posed only require the mainstream schools.  So we can reduce the file size by selecting only the rows that match `RECTYPE` == 1"
   ]
  },
  {
   "cell_type": "markdown",
   "metadata": {},
   "source": [
    "This can be done by running a text facet on the `RECTYPE` column and removing all non-matching rows.\n",
    "![ks4 remove non-mainstream schools](img/or_ks4_002.png)\n",
    "This reduces the file size by _1293_ rows."
   ]
  },
  {
   "cell_type": "markdown",
   "metadata": {},
   "source": [
    "### 3. Removing schools that are closed.\n",
    "\n",
    "Any schools with the `ICLOSE` flag set to 1 can also be removed:\n",
    "    \n",
    "![ks4 remove closed schools](img/or_ks4_003.png)\n",
    "    "
   ]
  },
  {
   "cell_type": "markdown",
   "metadata": {},
   "source": [
    "### 4. Removing columns that will not be used in the investigation\n",
    "\n",
    "Next we can remove any columns that are definitely not needed.  With well over 300 columns the simplest approach will be to exporting the columns we want to csv and then opening a new open refine project with this subset of data.The file is saved to `data/2015-2016/ks4_clean.csv`\n",
    "\n",
    "After exporting the file I then opened a new project from the CSV file just created.  The next step is to clean up the percentages as they are currently in a string format.\n"
   ]
  },
  {
   "cell_type": "code",
   "execution_count": null,
   "metadata": {
    "collapsed": true
   },
   "outputs": [],
   "source": [
    "### 5. Converting the % strings to numbers"
   ]
  },
  {
   "cell_type": "code",
   "execution_count": null,
   "metadata": {
    "collapsed": true
   },
   "outputs": [],
   "source": []
  },
  {
   "cell_type": "code",
   "execution_count": 12,
   "metadata": {
    "collapsed": true
   },
   "outputs": [],
   "source": [
    "import pandas as pd"
   ]
  },
  {
   "cell_type": "code",
   "execution_count": 21,
   "metadata": {},
   "outputs": [
    {
     "name": "stdout",
     "output_type": "stream",
     "text": [
      "<class 'pandas.core.frame.DataFrame'>\n",
      "RangeIndex: 4131 entries, 0 to 4130\n",
      "Data columns (total 24 columns):\n",
      "ALPHAIND                 4131 non-null int64\n",
      "LEA                      4131 non-null int64\n",
      "ESTAB                    4131 non-null int64\n",
      "URN                      4131 non-null int64\n",
      "SCHNAME                  4131 non-null object\n",
      "SCHNAME_AC               4131 non-null object\n",
      "NFTYPE                   4131 non-null object\n",
      "TABKS2                   4131 non-null int64\n",
      "PTPRIORLO                3930 non-null object\n",
      "PTPRIORAV                3930 non-null object\n",
      "PTPRIORHI                3930 non-null object\n",
      "PTL2BASICS_LL_PTQ_EE     3930 non-null object\n",
      "PTEBACC_15_PTQ_EE        3749 non-null object\n",
      "PTL2BASICS_3YR_PTQ_EE    3930 non-null object\n",
      "PTAC5EM_PTQ_EE           3930 non-null object\n",
      "ATT8SCR                  4131 non-null object\n",
      "ATT8SCRENG               4131 non-null object\n",
      "ATT8SCRMAT               4131 non-null object\n",
      "ATT8SCREBAC              4131 non-null object\n",
      "ATT8SCROPENG             4131 non-null object\n",
      "ATT8SCR_LO               4131 non-null object\n",
      "ATT8SCR_AV               4131 non-null object\n",
      "ATT8SCR_HI               4131 non-null object\n",
      "ATT8SCR_15               384 non-null object\n",
      "dtypes: int64(5), object(19)\n",
      "memory usage: 774.6+ KB\n"
     ]
    }
   ],
   "source": [
    "ks4_df = pd.read_csv('data/2015-2016/ks4_clean_reduced.tsv', delimiter='\\t')\n",
    "ks4_df.info()"
   ]
  },
  {
   "cell_type": "markdown",
   "metadata": {},
   "source": [
    "The columns I will be using are:"
   ]
  },
  {
   "cell_type": "code",
   "execution_count": 11,
   "metadata": {
    "collapsed": true
   },
   "outputs": [],
   "source": [
    "cols = ['LEA', 'ESTAB', 'URN', 'SCHNAME', 'SCHNAME_AC', 'NFTYPE',\n",
    " 'TABKS2', 'PTPRIORLO', 'PTPRIORAV', 'PTPRIORHI', 'ATT8SCR',\n",
    " 'ATT8SCRENG', 'ATT8SCRMAT', 'ATT8SCREBAC', 'ATT8SCROPENG',\n",
    " 'PTL2BASICS_LL_PTQ_EE', 'PTL2BASICS_3YR_PTQ_EE', 'ATT8SCR_AV',\n",
    " 'ATT8SCR_LO', 'ATT8SCR_HI', 'PTEBACC_15_PTQ_EE' 'PTAC5EM_PTQ_EE',\n",
    " ]"
   ]
  },
  {
   "cell_type": "code",
   "execution_count": null,
   "metadata": {
    "collapsed": true
   },
   "outputs": [],
   "source": []
  },
  {
   "cell_type": "code",
   "execution_count": null,
   "metadata": {
    "collapsed": true
   },
   "outputs": [],
   "source": []
  },
  {
   "cell_type": "code",
   "execution_count": null,
   "metadata": {
    "collapsed": true
   },
   "outputs": [],
   "source": [
    "![ks4 remove closed schools](img/or_ks4_003.png)\n",
    "\n"
   ]
  },
  {
   "cell_type": "code",
   "execution_count": null,
   "metadata": {
    "collapsed": true
   },
   "outputs": [],
   "source": [
    "![ks4 remove closed schools](img/or_ks4_003.png)\n",
    "\n"
   ]
  },
  {
   "cell_type": "code",
   "execution_count": 4,
   "metadata": {},
   "outputs": [
    {
     "ename": "SyntaxError",
     "evalue": "invalid syntax (<ipython-input-4-6cc8ecb354f2>, line 1)",
     "output_type": "error",
     "traceback": [
      "\u001b[0;36m  File \u001b[0;32m\"<ipython-input-4-6cc8ecb354f2>\"\u001b[0;36m, line \u001b[0;32m1\u001b[0m\n\u001b[0;31m    https://assets.publishing.service.gov.uk/government/uploads/system/uploads/attachment_data/file/696998/Secondary_accountability-measures.pdf\u001b[0m\n\u001b[0m         ^\u001b[0m\n\u001b[0;31mSyntaxError\u001b[0m\u001b[0;31m:\u001b[0m invalid syntax\n"
     ]
    }
   ],
   "source": [
    "https://assets.publishing.service.gov.uk/government/uploads/system/uploads/attachment_data/file/696998/Secondary_accountability-measures.pdf"
   ]
  },
  {
   "cell_type": "code",
   "execution_count": null,
   "metadata": {
    "collapsed": true
   },
   "outputs": [],
   "source": [
    "https://github.com/OpenRefine/OpenRefine/wiki/Recipes"
   ]
  },
  {
   "cell_type": "code",
   "execution_count": null,
   "metadata": {
    "collapsed": true
   },
   "outputs": [],
   "source": []
  },
  {
   "cell_type": "code",
   "execution_count": null,
   "metadata": {
    "collapsed": true
   },
   "outputs": [],
   "source": []
  }
 ],
 "metadata": {
  "kernelspec": {
   "display_name": "Python 3",
   "language": "python",
   "name": "python3"
  },
  "language_info": {
   "codemirror_mode": {
    "name": "ipython",
    "version": 3
   },
   "file_extension": ".py",
   "mimetype": "text/x-python",
   "name": "python",
   "nbconvert_exporter": "python",
   "pygments_lexer": "ipython3",
   "version": "3.5.2"
  }
 },
 "nbformat": 4,
 "nbformat_minor": 2
}
