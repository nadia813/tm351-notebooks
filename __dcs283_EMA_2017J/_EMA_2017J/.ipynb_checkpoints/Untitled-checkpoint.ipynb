{
 "cells": [
  {
   "cell_type": "markdown",
   "metadata": {},
   "source": [
    "# EMA Project Diary"
   ]
  },
  {
   "cell_type": "markdown",
   "metadata": {},
   "source": [
    "# Initial look at the KS4 dataset"
   ]
  },
  {
   "cell_type": "markdown",
   "metadata": {},
   "source": [
    "Let's have a quick look at the dataset we will be looking at for the EMA."
   ]
  },
  {
   "cell_type": "code",
   "execution_count": 37,
   "metadata": {},
   "outputs": [
    {
     "name": "stdout",
     "output_type": "stream",
     "text": [
      "﻿RECTYPE,ALPHAIND,LEA,ESTAB,URN,SCHNAME,SCHNAME_AC,ADDRESS1,ADDRESS2,ADDRESS3,TOWN,PCODE,TELNUM,CONTFLAG,ICLOSE,NFTYPE,RELDENOM,ADMPOL,EGENDER,FEEDER,TABKS2,TAB1618,AGERANGE,CONFEXAM,TOTPUPS,NUMBOYS,NUMGIRLS,TPUP,BPUP,PBPUP,GPUP,PGPUP,KS2APS,TPRIORLO,PTPRIORLO,TPRIORAV,PTPRIORAV,TPRIORHI,PTPRIORHI,TFSM6CLA1A,PTFSM6CLA1A,TNOTFSM6CLA1A,PTNOTFSM6CLA1A,TEALGRP2,PTEALGRP2,TEALGRP1,PTEALGRP1,TEALGRP3,PTEALGRP3,TNMOB,PTNMOB,SENSE4,PSENSE4,SENAPK4,PSENAPK4,TOTATT8,ATT8SCR,TOTATT8ENG,ATT8SCRENG,TOTATT8MAT,ATT8SCRMAT,TOTATT8EBAC,ATT8SCREBAC,TOTATT8OPEN,ATT8SCROPEN,TOTATT8OPENG,ATT8SCROPENG,TOTATT8OPENNG,ATT8SCROPENNG,P8PUP,P8MEACOV,P8MEA,P8CILOW,P8CIUPP,P8MEAENG,P8MEAENG_CILOW,P8MEAENG_CIUPP,P8MEAMAT,P8MEAMAT_CILOW,P8MEAMAT_CIUPP,P8MEAEBAC,P8MEAEBAC_CILOW,P8MEAEBAC_CIUPP,P8MEAOPEN,P8MEAOPEN_CILOW,P8MEAOPEN_CIUPP,PTL2BASICS_LL_PTQ_EE,PTL2BASICS_3YR_PTQ_EE,TEBACC_E_PTQ_EE,PTEBACC_E_PTQ_EE,PTEBACC_PTQ_EE,TEBACENG_E_PTQ_EE,PTEBACENG_E_PTQ_EE,TEBACMAT_E_PTQ_EE,PTEBACMAT_E_PTQ_EE,TEBAC2SCI_E_PTQ_EE,PTEBAC2SCI_E_PTQ_EE,TEBACHUM_E_PTQ_EE,PTEBACHUM_E_PTQ_EE,TEBACLAN_E_PTQ_EE,PTEBACLAN_E_PTQ_EE,PTEBACENG_LL_PTQ_EE,PTEBACMAT_PTQ_EE,PTEBAC2SCI_PTQ_EE,PTEBACHUM_PTQ_EE,PTEBACLAN_PTQ_EE,SCIVACOV_PTQ_EE,HUMVACOV_PTQ_EE,LANVACOV_PTQ_EE,SCIVAMEA_PTQ_EE,SCIVALOW_PTQ_EE,SCIVAUPP_PTQ_EE,HUMVAMEA_PTQ_EE,HUMVALOW_PTQ_EE,HUMVAUPP_PTQ_EE,LANVAMEA_PTQ_EE,LANVALOW_PTQ_EE,LANVAUPP_PTQ_EE,TEBACENG_LL_PTQ_EE,TEBACMAT_PTQ_EE,TEBAC2SCI_PTQ_EE,TEBACHUM_PTQ_EE,TEBACLAN_PTQ_EE,TEBACCAG_PTQ_EE,PTEBACCAG_PTQ_EE,TEBACENGAG_LL_PTQ_EE,PTEBACENGAG_LL_PTQ_EE,TEBACMATAG_PTQ_EE,PTEBACMATAG_PTQ_EE,TEBAC2SCIAG_PTQ_EE,PTEBAC2SCIAG_PTQ_EE,TEBACHUMAG_PTQ_EE,PTEBACHUMAG_PTQ_EE,TEBACLANAG_PTQ_EE,PTEBACLANAG_PTQ_EE,ATT8SCR_FSM6CLA1A,P8PUP_FSM6CLA1A,P8MEA_FSM6CLA1A,P8CILOW_FSM6CLA1A,P8CIUPP_FSM6CLA1A,ATT8SCR_NFSM6CLA1A,P8PUP_NFSM6CLA1A,P8MEA_NFSM6CLA1A,P8CILOW_NFSM6CLA1A,P8CIUPP_NFSM6CLA1A,ATT8SCRENG_FSM6CLA1A,P8MEAENG_FSM6CLA1A,P8MEAENG_CILOW_FSM6CLA1A,P8MEAENG_CIUPP_FSM6CLA1A,ATT8SCRMAT_FSM6CLA1A,P8MEAMAT_FSM6CLA1A,P8MEAMAT_CILOW_FSM6CLA1A,P8MEAMAT_CIUPP_FSM6CLA1A,ATT8SCREBAC_FSM6CLA1A,P8MEAEBAC_FSM6CLA1A,P8MEAEBAC_CILOW_FSM6CLA1A,P8MEAEBAC_CIUPP_FSM6CLA1A,ATT8SCROPEN_FSM6CLA1A,P8MEAOPEN_FSM6CLA1A,P8MEAOPEN_CILOW_FSM6CLA1A,P8MEAOPEN_CIUPP_FSM6CLA1A,ATT8SCRENG_NFSM6CLA1A,P8MEAENG_NFSM6CLA1A,P8MEAENG_CILOW_NFSM6CLA1A,P8MEAENG_CIUPP_NFSM6CLA1A,ATT8SCRMAT_NFSM6CLA1A,P8MEAMAT_NFSM6CLA1A,P8MEAMAT_CILOW_NFSM6CLA1A,P8MEAMAT_CIUPP_NFSM6CLA1A,ATT8SCREBAC_NFSM6CLA1A,P8MEAEBAC_NFSM6CLA1A,P8MEAEBAC_CILOW_NFSM6CLA1A,P8MEAEBAC_CIUPP_NFSM6CLA1A,ATT8SCROPEN_NFSM6CLA1A,P8MEAOPEN_NFSM6CLA1A,P8MEAOPEN_CILOW_NFSM6CLA1A,P8MEAOPEN_CIUPP_NFSM6CLA1A,ATT8SCROPENG_FSM6CLA1A,ATT8SCROPENNG_FSM6CLA1A,ATT8SCROPENG_NFSM6CLA1A,ATT8SCROPENNG_NFSM6CLA1A,DIFFN_ATT8,DIFFN_P8MEA,ATT8SCR_LO,P8PUP_LO,P8MEA_LO,P8CILOW_LO,P8CIUPP_LO,ATT8SCR_AV,P8PUP_AV,P8MEA_AV,P8CILOW_AV,P8CIUPP_AV,ATT8SCR_HI,P8PUP_HI,P8MEA_HI,P8CILOW_HI,P8CIUPP_HI,ATT8SCR_EAL,P8PUP_EAL,P8MEA_EAL,P8CILOW_EAL,P8CIUPP_EAL,ATT8SCR_GIRLS,P8PUP_GIRLS,P8MEA_GIRLS,P8CILOW_GIRLS,P8CIUPP_GIRLS,ATT8SCR_BOYS,P8PUP_BOYS,P8MEA_BOYS,P8CILOW_BOYS,P8CIUPP_BOYS,ATT8SCR_NMOB,P8PUP_NMOB,P8MEA_NMOB,P8CILOW_NMOB,P8CIUPP_NMOB,ATT8SCR_15,P8PUP_15,P8MEA_15,P8CILOW_15,P8CIUPP_15,TEBACC_ELO_PTQ_EE,PTEBACC_ELO_PTQ_EE,PTEBACCLO_PTQ_EE,TEBACC_EAV_PTQ_EE,PTEBACC_EAV_PTQ_EE,PTEBACCAV_PTQ_EE,TEBACC_EHI_PTQ_EE,PTEBACC_EHI_PTQ_EE,PTEBACCHI_PTQ_EE,PTEBACC_EFSM6CLA1A_PTQ_EE,PTEBACC_ENFSM6CLA1A_PTQ_EE,PTEBACC_FSM6CLA1A_PTQ_EE,PTEBACC_NFSM6CLA1A_PTQ_EE,SCIVAMEA_LO_PTQ_EE,SCIVAMEA_AV_PTQ_EE,SCIVAMEA_HI_PTQ_EE,SCIVAMEA_FSM6CLA1A_PTQ_EE,SCIVAMEA_NFSM6CLA1A_PTQ_EE,HUMVAMEA_LO_PTQ_EE,HUMVAMEA_AV_PTQ_EE,HUMVAMEA_HI_PTQ_EE,HUMVAMEA_FSM6CLA1A_PTQ_EE,HUMVAMEA_NFSM6CLA1A_PTQ_EE,LANVAMEA_LO_PTQ_EE,LANVAMEA_AV_PTQ_EE,LANVAMEA_HI_PTQ_EE,LANVAMEA_FSM6CLA1A_PTQ_EE,LANVAMEA_NFSM6CLA1A_PTQ_EE,SCIVAUPP_FSM6CLA1A_PTQ_EE,SCIVALOW_FSM6CLA1A_PTQ_EE,SCIVAUPP_NFSM6CLA1A_PTQ_EE,SCIVALOW_NFSM6CLA1A_PTQ_EE,SCIVAUPP_LO_PTQ_EE,SCIVALOW_LO_PTQ_EE,SCIVAUPP_AV_PTQ_EE,SCIVALOW_AV_PTQ_EE,SCIVAUPP_HI_PTQ_EE,SCIVALOW_HI_PTQ_EE,HUMVAUPP_FSM6CLA1A_PTQ_EE,HUMVALOW_FSM6CLA1A_PTQ_EE,HUMVAUPP_NFSM6CLA1A_PTQ_EE,HUMVALOW_NFSM6CLA1A_PTQ_EE,HUMVAUPP_LO_PTQ_EE,HUMVALOW_LO_PTQ_EE,HUMVAUPP_AV_PTQ_EE,HUMVALOW_AV_PTQ_EE,HUMVAUPP_HI_PTQ_EE,HUMVALOW_HI_PTQ_EE,LANVAUPP_FSM6CLA1A_PTQ_EE,LANVALOW_FSM6CLA1A_PTQ_EE,LANVAUPP_NFSM6CLA1A_PTQ_EE,LANVALOW_NFSM6CLA1A_PTQ_EE,LANVAUPP_LO_PTQ_EE,LANVALOW_LO_PTQ_EE,LANVAUPP_AV_PTQ_EE,LANVALOW_AV_PTQ_EE,LANVAUPP_HI_PTQ_EE,LANVALOW_HI_PTQ_EE,PTEBACC_E_13,PTEBACC_13,PTEBACC_E_14_PTQ,PTEBACC_14_PTQ,PTEBACC_E_15_PTQ_EE,PTEBACC_15_PTQ_EE,PBEBACC_E_PTQ_EE,PBEBACC_PTQ_EE,PGEBACC_E_PTQ_EE,PGEBACC_PTQ_EE,PTEBACC_ENMOB_PTQ_EE,PTEBACCNMOB_PTQ_EE,PTEBACC_EEAL_PTQ_EE,PTEBACCEAL_PTQ_EE,PTEBACC_EFSM_13,PTEBACC_FSM_13,PTEBACC_ENFSM_13,PTEBACC_NFSM_13,PTEBACC_EFSM_14_PTQ,PTEBACC_FSM_14_PTQ,PTEBACC_ENFSM_14_PTQ,PTEBACC_NFSM_14_PTQ,PTEBACC_EFSM6CLA1A_15_PTQ_EE,PTEBACC_FSM6CLA1A_15_PTQ_EE,PTEBACC_ENFSM6CLA1A_15_PTQ_EE,PTEBACC_NFSM6CLA1A_15_PTQ_EE,PTAC5EM_PTQ_EE,AC5EM13,AC5EM14_PTQ,AC5EM15_PTQ_EE,AC5EM16_PTQ_EE,PTANYQ_PTQ_EE,PTL2BASICS_13,PTL2BASICS_14_PTQ,PTL2BASICS_15_PTQ_EE,PTFSM6CLA1ABASICS_LL_PTQ_EE,PTNOTFSM6CLA1ABASICS_LL_PTQ_EE,TBASICS_LL_LO_PTQ_EE,PTBASICS_LL_LO_PTQ_EE,TBASICS_LL_AV_PTQ_EE,PTBASICS_LL_AV_PTQ_EE,TBASICS_LL_HI_PTQ_EE,PTBASICS_LL_HI_PTQ_EE,PBL2BASICS_LL_PTQ_EE,PGL2BASICS_LL_PTQ_EE,PTL2BASICS_LL_EAL_PTQ_EE,PTL2BASICS_LL_NMOB_PTQ_EE,PTFSMBASICS_13,PTNOTFSMBASICS_13,PTFSMBASICS_14_PTQ,PTNOTFSMBASICS_14_PTQ,PTFSM6CLA1ABASICS_15_PTQ_EE,PTNOTFSM6CLA1ABASICS_15_PTQ_EE,PTmultiLan_E,PTtripleSci_E,TFSMCLA_13,PTFSMCLA_13,TNOTFSMCLA_13,PTNOTFSMCLA_13,TFSMCLA_14,PTFSMCLA_14,TNOTFSMCLA_14,PTNOTFSMCLA_14,TFSM6CLA1A_15,PTFSM6CLA1A_15,TNOTFSM6CLA1A_15,PTNOTFSM6CLA1A_15,TAVENT_E_3NG_PTQ_EE,TAVENT_E_3NG_LO_PTQ_EE,TAVENT_E_3NG_AV_PTQ_EE,TAVENT_E_3NG_HI_PTQ_EE,TAVENT_E_3NG_FSM6CLA1A_PTQ_EE,TAVENT_E_3NG_NFSM6CLA1A_PTQ_EE,TAVENT_EFSM_13,TAVENT_ENFSM_13,TAVENT_EFSM_14_PTQ,TAVENT_ENFSM_14_PTQ,TAVENT_EFSM6CLA1A_15_PTQ_EE,TAVENT_ENFSM6CLA1A_15_PTQ_EE,TAVENT_G_PTQ_EE,TAVENT_GLO_PTQ_EE,TAVENT_GAV_PTQ_EE,TAVENT_GHI_PTQ_EE,TAVENT_GFSM6CLA1A_PTQ_EE,TAVENT_GNFSM6CLA1A_PTQ_EE,TAVENT_GFSM_13,TAVENT_GNFSM_13,TAVENT_GFSM_14_PTQ,TAVENT_GNFSM_14_PTQ,TAVENT_GFSM6CLA1A_15_PTQ_EE,TAVENT_GNFSM6CLA1A_15_PTQ_EE\r",
      "\r\n",
      "1,11828,201,6007,100003,City of London School, ,Queen Victoria Street, , ,London,EC4V 3AL,0207 4890291,0,0,IND,None, ,BOYS,0,0,1,10-18, ,918,918,NA,139,139,100%,NA,NA,NP,NP,NP,NP,NP,NP,NP,NP,NP,NP,NP,NP,NP,NP,NP,NP,NP,NP,NP,NA,NA,NA,NA,5849,42.1,1012,7.3,0,0,3085.3,22.2,1751.8,12.6,1452.5,10.4,299.3,2.2,NP,NP,NP,NP,NP,NP,NP,NP,NP,NP,NP,NP,NP,NP,NP,NP,NP,0%,0%,0,0%,0%,0,0%,0,0%,0,0%,135,97%,139,100%,0%,0%,NE,100%,100%,NP,NP,NP,NP,NP,NP,NP,NP,NP,NP,NP,NP,0,0,NE,135,139,0,0%,0,0%,0,0%,NE,NE,135,100%,139,100%,NP,NP,NP,NP,NP,NP,NP,NP,NP,NP,NP,NP,NP,NP,NP,NP,NP,NP,NP,NP,NP,NP,NP,NP,NP,NP,NP,NP,NP,NP,NP,NP,NP,NP,NP,NP,NP,NP,NP,NP,NP,NP,NP,NP,NP,NP,NP,NP,NP,NP,NP,NP,NP,NP,NP,NP,NP,NP,NP,NP,NP,NP,NP,NP,NP,NP,NP,NP,NA,NA,NA,NA,NA,42.1,NP,NP,NP,NP,NP,NP,NP,NP,NP,NA,NA,NA,NA,NA,NP,NP,NP,NP,NP,NP,NP,NP,NP,NP,NP,NP,NP,NP,NP,NP,NP,NP,NP,NP,NP,NP,NP,NP,NP,NP,NP,NP,NP,NP,NP,NP,NP,NP,NP,NP,NP,NP,NP,NP,NP,NP,NP,NP,NP,NP,NP,NP,NP,NP,NP,NP,NP,NP,NP,NP,NP,NP,0%,0%,0%,0%,0%,0%,0%,0%,NE,NE,NP,NP,NP,NP,NA,NA,NA,NA,NA,NA,NA,NA,NA,NA,NA,NA,0%,0%,0%,0%,0%,100%,0%,0%,0%,NP,NP,NP,NP,NP,NP,NP,NP,0%,NE,NP,NP,NA,NA,NA,NA,NA,NA,68%,0%,NA,NA,NA,NA,NA,NA,NA,NA,NA,NA,NA,NA,5.6,NP,NP,NP,NP,NP,NA,NA,NA,NA,NA,NA,5.3,NP,NP,NP,NP,NP,NA,NA,NA,NA,NA,NA\r",
      "\r\n",
      "1,11830,201,6005,100001,City of London School for Girls, ,St Giles' Terrace,Barbican, ,London,EC2Y 8BB,0207 8475500,0,0,IND,None, ,GIRLS,0,0,1,7-18, ,730,NA,730,90,NA,NA,90,100%,NP,NP,NP,NP,NP,NP,NP,NP,NP,NP,NP,NP,NP,NP,NP,NP,NP,NP,NP,NA,NA,NA,NA,2900.3,32.2,0,0,19,0.2,1517.5,16.9,1363.8,15.2,1172.8,13,191,2.1,NP,NP,NP,NP,NP,NP,NP,NP,NP,NP,NP,NP,NP,NP,NP,NP,NP,0%,0%,0,0%,0%,0,0%,1,1%,0,0%,64,71%,79,88%,0%,1%,NE,100%,100%,NP,NP,NP,NP,NP,NP,NP,NP,NP,NP,NP,NP,0,1,NE,64,79,0,0%,0,0%,1,1%,NE,NE,64,100%,79,100%,NP,NP,NP,NP,NP,NP,NP,NP,NP,NP,NP,NP,NP,NP,NP,NP,NP,NP,NP,NP,NP,NP,NP,NP,NP,NP,NP,NP,NP,NP,NP,NP,NP,NP,NP,NP,NP,NP,NP,NP,NP,NP,NP,NP,NP,NP,NP,NP,NP,NP,NP,NP,NP,NP,NP,NP,NP,NP,NP,NP,NP,NP,NP,NP,NP,NP,NP,NP,32.2,NP,NP,NP,NP,NA,NA,NA,NA,NA,NP,NP,NP,NP,NP,NA,NA,NA,NA,NA,NP,NP,NP,NP,NP,NP,NP,NP,NP,NP,NP,NP,NP,NP,NP,NP,NP,NP,NP,NP,NP,NP,NP,NP,NP,NP,NP,NP,NP,NP,NP,NP,NP,NP,NP,NP,NP,NP,NP,NP,NP,NP,NP,NP,NP,NP,NP,NP,NP,NP,NP,NP,NP,NP,NP,NP,NP,NP,68%,68%,0%,0%,0%,0%,NE,NE,0%,0%,NP,NP,NP,NP,NA,NA,NA,NA,NA,NA,NA,NA,NA,NA,NA,NA,0%,100%,0%,0%,0%,99%,100%,0%,0%,NP,NP,NP,NP,NP,NP,NP,NP,NE,0%,NP,NP,NA,NA,NA,NA,NA,NA,42%,0%,NA,NA,NA,NA,NA,NA,NA,NA,NA,NA,NA,NA,4.2,NP,NP,NP,NP,NP,NA,NA,NA,NA,NA,NA,3.9,NP,NP,NP,NP,NP,NA,NA,NA,NA,NA,NA\r",
      "\r\n",
      "4, ,201, , , , , , , , , , , , , , , , , , , ,, , , , , , , , , , , , , , , , , , , , , , , , , , , , , , , , , , , , , , , , , , , , , , , , , , , , , , , , , , , , , , , , , , , , , , , , , , , , , , , , , , , , , , , , , , , , , , , , , , , , , , , , , , , , , , , , , , , , , , , , , , , , , , , , , , , , , , , , , , , , , , , , , , , , , , , , , , , , , , , , , , , , , , , , , , , , , , , , , , , , , , , , , , , , , , , , , , , , , , , , , , , , , , , , , , , , , , , , , , , , , , , , , , , , , , , , , , , , , , , , , , , , , , , , , , , , , , , , , , , , , , , , , , , , , , , , , , , , , , , , , , , , , , , , , , , , , , , , , , , , , , , , , , , , , , , , , , , , , , , , , , , , , , , , , , , , , , , , , , , , , , , , , , , , , \r",
      "\r\n",
      "1,368,202,4285,100053,Acland Burghley School, ,Burghley Road, , ,London,NW5 1UJ,0207 4858515,0,0,CY,Does not apply,COMP,MIXED,1,0,1,11-18, ,974,628,346,172,109,63%,63,37%,28.3,22,13%,81,48%,66,39%,98,57%,74,43%,55,32%,117,68%,0,0%,166,97%,9,5%,9,5%,8622.5,50.1,1900,11,1700,9.9,2443,14.2,2579.5,15,2496,14.5,83.5,0.5,169,98%,-0.26,-0.42,-0.1,-0.02,-0.19,0.15,-0.26,-0.44,-0.07,-0.15,-0.36,0.06,-0.53,-0.72,-0.35,60%,59%,74,43%,30%,170,99%,168,98%,139,81%,131,76%,96,56%,81%,62%,75%,63%,77%,100%,99%,99%,-0.06,-0.24,0.12,-0.21,-0.46,0.04,0.31,0.03,0.58,140,107,104,83,74,74,43%,170,99%,162,94%,137,99%,131,100%,96,100%,44.6,96,-0.38,-0.59,-0.16,57.4,73,-0.1,-0.35,0.14,10.1,-0.13,-0.35,0.1,8.6,-0.4,-0.65,-0.16,12.3,-0.23,-0.51,0.05,13.6,-0.67,-0.92,-0.43,12.3,0.13,-0.13,0.39,11.6,-0.06,-0.34,0.22,16.7,-0.04,-0.36,0.28,16.9,-0.35,-0.64,-0.07,12.8,0.8,16.8,0.1,-8.7,-0.48,26,22,-0.75,-1.19,-0.3,46.8,81,-0.21,-0.44,0.02,63.1,66,-0.16,-0.41,0.1,49.9,53,-0.13,-0.41,0.16,50.5,61,-0.13,-0.39,0.14,49.9,108,-0.33,-0.53,-0.13,50.6,164,-0.23,-0.39,-0.07,NA,NA,NA,NA,NA,1,5%,0%,28,35%,15%,45,68%,61%,33%,57%,21%,42%,-0.18,0.09,-0.2,-0.03,-0.09,0.36,-0.37,-0.17,-0.33,-0.04,SUPP,0.34,0.31,0.31,0.3,0.23,-0.28,0.16,-0.34,0.57,-0.92,0.34,-0.17,0.07,-0.46,0,-0.67,0.33,-0.42,1.18,-0.46,0.01,-0.75,0.19,-0.53,0.71,-0.09,0.68,-0.08,SUPP,SUPP,0.76,-0.08,0.7,-0.07,48%,30%,57%,34%,57%,37%,42%,31%,44%,29%,44%,31%,49%,33%,29%,12%,72%,51%,46%,21%,71%,51%,44%,26%,73%,51%,53%,57%,57%,56%,53%,99%,59%,59%,56%,47%,78%,2,9%,38,47%,63,95%,63%,56%,58%,61%,43%,78%,44%,77%,45%,71%,3%,32%,97,54%,81,46%,97,55%,79,45%,94,56%,75,44%,9.1,6.9,9.1,9.9,8.7,9.6,8.7,9.9,9.2,10.3,9.7,11.5,8.8,6.1,8.9,9.8,8.4,9.5,8.1,9.8,9,10.2,8.4,10.6\r",
      "\r\n"
     ]
    }
   ],
   "source": [
    "!head -5 'data/2015-2016/england_ks4final.csv'"
   ]
  },
  {
   "cell_type": "code",
   "execution_count": 38,
   "metadata": {},
   "outputs": [
    {
     "name": "stdout",
     "output_type": "stream",
     "text": [
      "5489 data/2015-2016/england_ks4final.csv\r\n"
     ]
    }
   ],
   "source": [
    "!wc -l 'data/2015-2016/england_ks4final.csv'"
   ]
  },
  {
   "cell_type": "markdown",
   "metadata": {},
   "source": [
    "The dataset has 5489 rows of data, there looks to be a large number of columns and lots of these are codes that I'll need to look up.  There are also a number of `NA` and `NP` values that could be missing data.  I want to have a quick look at the dataset to determine which columns will be most relevant to my investigation, therefore I will import it into MongoDB to explore further. "
   ]
  },
  {
   "cell_type": "markdown",
   "metadata": {},
   "source": [
    "# Importing the datasets into memory\n",
    "\n",
    "This section is adapted from the OU teams tma02_question2b-pd file.  I'll reuse it here to start the importing of the KS4 data and then export it into mongodb for easy access later on."
   ]
  },
  {
   "cell_type": "code",
   "execution_count": 39,
   "metadata": {
    "collapsed": true
   },
   "outputs": [],
   "source": [
    "# import the required libraries\n",
    "import pandas as pd\n",
    "import scipy.stats"
   ]
  },
  {
   "cell_type": "markdown",
   "metadata": {},
   "source": [
    "## Import the LEA data"
   ]
  },
  {
   "cell_type": "code",
   "execution_count": 40,
   "metadata": {},
   "outputs": [
    {
     "data": {
      "text/html": [
       "<div>\n",
       "<style>\n",
       "    .dataframe thead tr:only-child th {\n",
       "        text-align: right;\n",
       "    }\n",
       "\n",
       "    .dataframe thead th {\n",
       "        text-align: left;\n",
       "    }\n",
       "\n",
       "    .dataframe tbody tr th {\n",
       "        vertical-align: top;\n",
       "    }\n",
       "</style>\n",
       "<table border=\"1\" class=\"dataframe\">\n",
       "  <thead>\n",
       "    <tr style=\"text-align: right;\">\n",
       "      <th></th>\n",
       "      <th>LEA</th>\n",
       "      <th>LA Name</th>\n",
       "      <th>REGION</th>\n",
       "      <th>REGION NAME</th>\n",
       "    </tr>\n",
       "  </thead>\n",
       "  <tbody>\n",
       "    <tr>\n",
       "      <th>0</th>\n",
       "      <td>841</td>\n",
       "      <td>Darlington</td>\n",
       "      <td>1</td>\n",
       "      <td>North East A</td>\n",
       "    </tr>\n",
       "    <tr>\n",
       "      <th>1</th>\n",
       "      <td>840</td>\n",
       "      <td>County Durham</td>\n",
       "      <td>1</td>\n",
       "      <td>North East A</td>\n",
       "    </tr>\n",
       "    <tr>\n",
       "      <th>2</th>\n",
       "      <td>805</td>\n",
       "      <td>Hartlepool</td>\n",
       "      <td>1</td>\n",
       "      <td>North East A</td>\n",
       "    </tr>\n",
       "    <tr>\n",
       "      <th>3</th>\n",
       "      <td>806</td>\n",
       "      <td>Middlesbrough</td>\n",
       "      <td>1</td>\n",
       "      <td>North East A</td>\n",
       "    </tr>\n",
       "    <tr>\n",
       "      <th>4</th>\n",
       "      <td>807</td>\n",
       "      <td>Redcar and Cleveland</td>\n",
       "      <td>1</td>\n",
       "      <td>North East A</td>\n",
       "    </tr>\n",
       "  </tbody>\n",
       "</table>\n",
       "</div>"
      ],
      "text/plain": [
       "   LEA               LA Name  REGION   REGION NAME\n",
       "0  841            Darlington       1  North East A\n",
       "1  840         County Durham       1  North East A\n",
       "2  805            Hartlepool       1  North East A\n",
       "3  806         Middlesbrough       1  North East A\n",
       "4  807  Redcar and Cleveland       1  North East A"
      ]
     },
     "execution_count": 40,
     "metadata": {},
     "output_type": "execute_result"
    }
   ],
   "source": [
    "leas_df = pd.read_csv('data/2015-2016/la_and_region_codes_meta.csv')\n",
    "leas_df.head()"
   ]
  },
  {
   "cell_type": "markdown",
   "metadata": {},
   "source": [
    "# Import the KS2 data\n",
    "\n",
    "Again this section has bee adopted from the tma02 file to import the ks2 data"
   ]
  },
  {
   "cell_type": "code",
   "execution_count": 41,
   "metadata": {},
   "outputs": [
    {
     "data": {
      "text/html": [
       "<div>\n",
       "<style>\n",
       "    .dataframe thead tr:only-child th {\n",
       "        text-align: right;\n",
       "    }\n",
       "\n",
       "    .dataframe thead th {\n",
       "        text-align: left;\n",
       "    }\n",
       "\n",
       "    .dataframe tbody tr th {\n",
       "        vertical-align: top;\n",
       "    }\n",
       "</style>\n",
       "<table border=\"1\" class=\"dataframe\">\n",
       "  <thead>\n",
       "    <tr style=\"text-align: right;\">\n",
       "      <th></th>\n",
       "      <th>Column</th>\n",
       "      <th>Field Name</th>\n",
       "      <th>Label/Description</th>\n",
       "    </tr>\n",
       "  </thead>\n",
       "  <tbody>\n",
       "    <tr>\n",
       "      <th>0</th>\n",
       "      <td>1</td>\n",
       "      <td>RECTYPE</td>\n",
       "      <td>Record type (1=mainstream school; 2=special sc...</td>\n",
       "    </tr>\n",
       "    <tr>\n",
       "      <th>1</th>\n",
       "      <td>2</td>\n",
       "      <td>ALPHAIND</td>\n",
       "      <td>Alphabetic index</td>\n",
       "    </tr>\n",
       "    <tr>\n",
       "      <th>2</th>\n",
       "      <td>3</td>\n",
       "      <td>LEA</td>\n",
       "      <td>Local authority number</td>\n",
       "    </tr>\n",
       "    <tr>\n",
       "      <th>3</th>\n",
       "      <td>4</td>\n",
       "      <td>ESTAB</td>\n",
       "      <td>Establishment number</td>\n",
       "    </tr>\n",
       "    <tr>\n",
       "      <th>4</th>\n",
       "      <td>5</td>\n",
       "      <td>URN</td>\n",
       "      <td>School unique reference number</td>\n",
       "    </tr>\n",
       "  </tbody>\n",
       "</table>\n",
       "</div>"
      ],
      "text/plain": [
       "   Column Field Name                                  Label/Description\n",
       "0       1    RECTYPE  Record type (1=mainstream school; 2=special sc...\n",
       "1       2   ALPHAIND                                   Alphabetic index\n",
       "2       3        LEA                             Local authority number\n",
       "3       4      ESTAB                               Establishment number\n",
       "4       5        URN                     School unique reference number"
      ]
     },
     "execution_count": 41,
     "metadata": {},
     "output_type": "execute_result"
    }
   ],
   "source": [
    "ks2cols = pd.read_csv('data/2015-2016/ks2_meta.csv')\n",
    "# clean the strings\n",
    "ks2cols['Field Name'] = ks2cols['Field Name'].apply(lambda r: r.strip(),)\n",
    "ks2cols.head()"
   ]
  },
  {
   "cell_type": "code",
   "execution_count": 42,
   "metadata": {},
   "outputs": [
    {
     "name": "stdout",
     "output_type": "stream",
     "text": [
      "<class 'pandas.core.frame.DataFrame'>\n",
      "RangeIndex: 259 entries, 0 to 258\n",
      "Data columns (total 3 columns):\n",
      "Column               259 non-null int64\n",
      "Field Name           259 non-null object\n",
      "Label/Description    259 non-null object\n",
      "dtypes: int64(1), object(2)\n",
      "memory usage: 6.1+ KB\n"
     ]
    }
   ],
   "source": [
    "ks2cols.info() "
   ]
  },
  {
   "cell_type": "code",
   "execution_count": 43,
   "metadata": {},
   "outputs": [
    {
     "data": {
      "text/html": [
       "<div>\n",
       "<style>\n",
       "    .dataframe thead tr:only-child th {\n",
       "        text-align: right;\n",
       "    }\n",
       "\n",
       "    .dataframe thead th {\n",
       "        text-align: left;\n",
       "    }\n",
       "\n",
       "    .dataframe tbody tr th {\n",
       "        vertical-align: top;\n",
       "    }\n",
       "</style>\n",
       "<table border=\"1\" class=\"dataframe\">\n",
       "  <thead>\n",
       "    <tr style=\"text-align: right;\">\n",
       "      <th></th>\n",
       "      <th>Field Name</th>\n",
       "      <th>Label/Description</th>\n",
       "    </tr>\n",
       "  </thead>\n",
       "  <tbody>\n",
       "    <tr>\n",
       "      <th>0</th>\n",
       "      <td>RECTYPE</td>\n",
       "      <td>Record type (1=mainstream school; 2=special sc...</td>\n",
       "    </tr>\n",
       "    <tr>\n",
       "      <th>1</th>\n",
       "      <td>ALPHAIND</td>\n",
       "      <td>Alphabetic index</td>\n",
       "    </tr>\n",
       "    <tr>\n",
       "      <th>2</th>\n",
       "      <td>LEA</td>\n",
       "      <td>Local authority number</td>\n",
       "    </tr>\n",
       "    <tr>\n",
       "      <th>3</th>\n",
       "      <td>ESTAB</td>\n",
       "      <td>Establishment number</td>\n",
       "    </tr>\n",
       "    <tr>\n",
       "      <th>4</th>\n",
       "      <td>URN</td>\n",
       "      <td>School unique reference number</td>\n",
       "    </tr>\n",
       "  </tbody>\n",
       "</table>\n",
       "</div>"
      ],
      "text/plain": [
       "  Field Name                                  Label/Description\n",
       "0    RECTYPE  Record type (1=mainstream school; 2=special sc...\n",
       "1   ALPHAIND                                   Alphabetic index\n",
       "2        LEA                             Local authority number\n",
       "3      ESTAB                               Establishment number\n",
       "4        URN                     School unique reference number"
      ]
     },
     "execution_count": 43,
     "metadata": {},
     "output_type": "execute_result"
    }
   ],
   "source": [
    "ks2cols = ks2cols[['Field Name', 'Label/Description']]\n",
    "ks2cols.head()"
   ]
  },
  {
   "cell_type": "markdown",
   "metadata": {},
   "source": [
    "# Import the KS4 and KS2 metadata"
   ]
  },
  {
   "cell_type": "markdown",
   "metadata": {},
   "source": [
    "Most of the field names are given in the ks4_meta file, so we will use that to enable us to decipher the codes held in the main dataset."
   ]
  },
  {
   "cell_type": "code",
   "execution_count": 44,
   "metadata": {},
   "outputs": [
    {
     "data": {
      "text/html": [
       "<div>\n",
       "<style>\n",
       "    .dataframe thead tr:only-child th {\n",
       "        text-align: right;\n",
       "    }\n",
       "\n",
       "    .dataframe thead th {\n",
       "        text-align: left;\n",
       "    }\n",
       "\n",
       "    .dataframe tbody tr th {\n",
       "        vertical-align: top;\n",
       "    }\n",
       "</style>\n",
       "<table border=\"1\" class=\"dataframe\">\n",
       "  <thead>\n",
       "    <tr style=\"text-align: right;\">\n",
       "      <th></th>\n",
       "      <th>Column</th>\n",
       "      <th>Metafile heading</th>\n",
       "      <th>Metafile description</th>\n",
       "      <th>Methodology changes</th>\n",
       "      <th>Null field for special schools</th>\n",
       "      <th>Null field for local authority records</th>\n",
       "      <th>Null field for National (all schools) records</th>\n",
       "      <th>Null field for National (maintained schools) records</th>\n",
       "      <th>Unnamed: 8</th>\n",
       "      <th>Unnamed: 9</th>\n",
       "    </tr>\n",
       "  </thead>\n",
       "  <tbody>\n",
       "    <tr>\n",
       "      <th>0</th>\n",
       "      <td>1</td>\n",
       "      <td>RECTYPE</td>\n",
       "      <td>Record type (1=mainstream school; 2=special sc...</td>\n",
       "      <td>NaN</td>\n",
       "      <td>NaN</td>\n",
       "      <td>NaN</td>\n",
       "      <td>NaN</td>\n",
       "      <td>NaN</td>\n",
       "      <td>NaN</td>\n",
       "      <td>NaN</td>\n",
       "    </tr>\n",
       "    <tr>\n",
       "      <th>1</th>\n",
       "      <td>2</td>\n",
       "      <td>ALPHAIND</td>\n",
       "      <td>Alphabetic sorting index</td>\n",
       "      <td>NaN</td>\n",
       "      <td>NaN</td>\n",
       "      <td>Yes</td>\n",
       "      <td>Yes</td>\n",
       "      <td>Yes</td>\n",
       "      <td>NaN</td>\n",
       "      <td>NaN</td>\n",
       "    </tr>\n",
       "    <tr>\n",
       "      <th>2</th>\n",
       "      <td>3</td>\n",
       "      <td>LEA</td>\n",
       "      <td>Local authority code (see separate list of loc...</td>\n",
       "      <td>NaN</td>\n",
       "      <td>NaN</td>\n",
       "      <td>NaN</td>\n",
       "      <td>Yes</td>\n",
       "      <td>Yes</td>\n",
       "      <td>NaN</td>\n",
       "      <td>NaN</td>\n",
       "    </tr>\n",
       "    <tr>\n",
       "      <th>3</th>\n",
       "      <td>4</td>\n",
       "      <td>ESTAB</td>\n",
       "      <td>Establishment number</td>\n",
       "      <td>NaN</td>\n",
       "      <td>NaN</td>\n",
       "      <td>Yes</td>\n",
       "      <td>Yes</td>\n",
       "      <td>Yes</td>\n",
       "      <td>NaN</td>\n",
       "      <td>NaN</td>\n",
       "    </tr>\n",
       "    <tr>\n",
       "      <th>4</th>\n",
       "      <td>5</td>\n",
       "      <td>URN</td>\n",
       "      <td>School Unique Reference Number</td>\n",
       "      <td>NaN</td>\n",
       "      <td>NaN</td>\n",
       "      <td>Yes</td>\n",
       "      <td>Yes</td>\n",
       "      <td>Yes</td>\n",
       "      <td>NaN</td>\n",
       "      <td>NaN</td>\n",
       "    </tr>\n",
       "  </tbody>\n",
       "</table>\n",
       "</div>"
      ],
      "text/plain": [
       "   Column Metafile heading                               Metafile description  \\\n",
       "0       1          RECTYPE  Record type (1=mainstream school; 2=special sc...   \n",
       "1       2         ALPHAIND                           Alphabetic sorting index   \n",
       "2       3              LEA  Local authority code (see separate list of loc...   \n",
       "3       4            ESTAB                               Establishment number   \n",
       "4       5              URN                     School Unique Reference Number   \n",
       "\n",
       "  Methodology changes Null field for special schools  \\\n",
       "0                 NaN                            NaN   \n",
       "1                 NaN                            NaN   \n",
       "2                 NaN                            NaN   \n",
       "3                 NaN                            NaN   \n",
       "4                 NaN                            NaN   \n",
       "\n",
       "  Null field for local authority records  \\\n",
       "0                                    NaN   \n",
       "1                                    Yes   \n",
       "2                                    NaN   \n",
       "3                                    Yes   \n",
       "4                                    Yes   \n",
       "\n",
       "  Null field for National (all schools) records  \\\n",
       "0                                           NaN   \n",
       "1                                           Yes   \n",
       "2                                           Yes   \n",
       "3                                           Yes   \n",
       "4                                           Yes   \n",
       "\n",
       "  Null field for National (maintained schools) records  Unnamed: 8  Unnamed: 9  \n",
       "0                                                NaN           NaN         NaN  \n",
       "1                                                Yes           NaN         NaN  \n",
       "2                                                Yes           NaN         NaN  \n",
       "3                                                Yes           NaN         NaN  \n",
       "4                                                Yes           NaN         NaN  "
      ]
     },
     "execution_count": 44,
     "metadata": {},
     "output_type": "execute_result"
    }
   ],
   "source": [
    "ks4cols = pd.read_csv('data/2015-2016/ks4_meta.csv')\n",
    "# clean the strings\n",
    "ks4cols['Metafile heading'] = ks4cols['Metafile heading'].apply(lambda r: r.strip(),)\n",
    "ks4cols.head()"
   ]
  },
  {
   "cell_type": "markdown",
   "metadata": {},
   "source": [
    "Unlike the `KS2_meta.csv` data file the `KS4_meta.csv` data file has more columns.  For my needs (expanding codes) the extra columns are not needed so I can drop them.  I'll also rename them to match the KS2."
   ]
  },
  {
   "cell_type": "code",
   "execution_count": 45,
   "metadata": {},
   "outputs": [
    {
     "data": {
      "text/html": [
       "<div>\n",
       "<style>\n",
       "    .dataframe thead tr:only-child th {\n",
       "        text-align: right;\n",
       "    }\n",
       "\n",
       "    .dataframe thead th {\n",
       "        text-align: left;\n",
       "    }\n",
       "\n",
       "    .dataframe tbody tr th {\n",
       "        vertical-align: top;\n",
       "    }\n",
       "</style>\n",
       "<table border=\"1\" class=\"dataframe\">\n",
       "  <thead>\n",
       "    <tr style=\"text-align: right;\">\n",
       "      <th></th>\n",
       "      <th>Field Name</th>\n",
       "      <th>Label/Description</th>\n",
       "    </tr>\n",
       "  </thead>\n",
       "  <tbody>\n",
       "    <tr>\n",
       "      <th>0</th>\n",
       "      <td>RECTYPE</td>\n",
       "      <td>Record type (1=mainstream school; 2=special sc...</td>\n",
       "    </tr>\n",
       "    <tr>\n",
       "      <th>1</th>\n",
       "      <td>ALPHAIND</td>\n",
       "      <td>Alphabetic sorting index</td>\n",
       "    </tr>\n",
       "    <tr>\n",
       "      <th>2</th>\n",
       "      <td>LEA</td>\n",
       "      <td>Local authority code (see separate list of loc...</td>\n",
       "    </tr>\n",
       "    <tr>\n",
       "      <th>3</th>\n",
       "      <td>ESTAB</td>\n",
       "      <td>Establishment number</td>\n",
       "    </tr>\n",
       "    <tr>\n",
       "      <th>4</th>\n",
       "      <td>URN</td>\n",
       "      <td>School Unique Reference Number</td>\n",
       "    </tr>\n",
       "  </tbody>\n",
       "</table>\n",
       "</div>"
      ],
      "text/plain": [
       "  Field Name                                  Label/Description\n",
       "0    RECTYPE  Record type (1=mainstream school; 2=special sc...\n",
       "1   ALPHAIND                           Alphabetic sorting index\n",
       "2        LEA  Local authority code (see separate list of loc...\n",
       "3      ESTAB                               Establishment number\n",
       "4        URN                     School Unique Reference Number"
      ]
     },
     "execution_count": 45,
     "metadata": {},
     "output_type": "execute_result"
    }
   ],
   "source": [
    "ks4cols = ks4cols[['Metafile heading', 'Metafile description']]\n",
    "ks4cols.columns = ['Field Name', 'Label/Description']\n",
    "ks4cols.head()"
   ]
  },
  {
   "cell_type": "code",
   "execution_count": 46,
   "metadata": {},
   "outputs": [
    {
     "data": {
      "text/plain": [
       "(372, 259)"
      ]
     },
     "execution_count": 46,
     "metadata": {},
     "output_type": "execute_result"
    }
   ],
   "source": [
    "# compare the number of rows of both ks4\n",
    "len(ks4cols), len(ks2cols)"
   ]
  },
  {
   "cell_type": "code",
   "execution_count": 53,
   "metadata": {},
   "outputs": [
    {
     "name": "stdout",
     "output_type": "stream",
     "text": [
      "<class 'pandas.core.frame.DataFrame'>\n",
      "RangeIndex: 259 entries, 0 to 258\n",
      "Data columns (total 2 columns):\n",
      "Field Name           259 non-null object\n",
      "Label/Description    259 non-null object\n",
      "dtypes: object(2)\n",
      "memory usage: 4.1+ KB\n"
     ]
    }
   ],
   "source": [
    "ks2cols.info()"
   ]
  },
  {
   "cell_type": "code",
   "execution_count": 48,
   "metadata": {},
   "outputs": [
    {
     "data": {
      "text/html": [
       "<div>\n",
       "<style>\n",
       "    .dataframe thead tr:only-child th {\n",
       "        text-align: right;\n",
       "    }\n",
       "\n",
       "    .dataframe thead th {\n",
       "        text-align: left;\n",
       "    }\n",
       "\n",
       "    .dataframe tbody tr th {\n",
       "        vertical-align: top;\n",
       "    }\n",
       "</style>\n",
       "<table border=\"1\" class=\"dataframe\">\n",
       "  <thead>\n",
       "    <tr style=\"text-align: right;\">\n",
       "      <th></th>\n",
       "      <th>Field Name</th>\n",
       "      <th>Label/Description</th>\n",
       "    </tr>\n",
       "  </thead>\n",
       "  <tbody>\n",
       "    <tr>\n",
       "      <th>0</th>\n",
       "      <td>RECTYPE</td>\n",
       "      <td>Record type (1=mainstream school; 2=special sc...</td>\n",
       "    </tr>\n",
       "    <tr>\n",
       "      <th>1</th>\n",
       "      <td>ALPHAIND</td>\n",
       "      <td>Alphabetic sorting index</td>\n",
       "    </tr>\n",
       "    <tr>\n",
       "      <th>2</th>\n",
       "      <td>LEA</td>\n",
       "      <td>Local authority code (see separate list of loc...</td>\n",
       "    </tr>\n",
       "    <tr>\n",
       "      <th>3</th>\n",
       "      <td>ESTAB</td>\n",
       "      <td>Establishment number</td>\n",
       "    </tr>\n",
       "    <tr>\n",
       "      <th>4</th>\n",
       "      <td>URN</td>\n",
       "      <td>School Unique Reference Number</td>\n",
       "    </tr>\n",
       "  </tbody>\n",
       "</table>\n",
       "</div>"
      ],
      "text/plain": [
       "  Field Name                                  Label/Description\n",
       "0    RECTYPE  Record type (1=mainstream school; 2=special sc...\n",
       "1   ALPHAIND                           Alphabetic sorting index\n",
       "2        LEA  Local authority code (see separate list of loc...\n",
       "3      ESTAB                               Establishment number\n",
       "4        URN                     School Unique Reference Number"
      ]
     },
     "execution_count": 48,
     "metadata": {},
     "output_type": "execute_result"
    }
   ],
   "source": [
    "ks4cols.head()"
   ]
  },
  {
   "cell_type": "code",
   "execution_count": 49,
   "metadata": {},
   "outputs": [
    {
     "data": {
      "text/plain": [
       "Field Name                                          SCIVALOW_AV_PTQ_EE\n",
       "Label/Description    Lower 95% confidence limit for English Baccala...\n",
       "Name: 258, dtype: object"
      ]
     },
     "execution_count": 49,
     "metadata": {},
     "output_type": "execute_result"
    }
   ],
   "source": [
    "ks4cols.iloc[258]"
   ]
  },
  {
   "cell_type": "code",
   "execution_count": 50,
   "metadata": {},
   "outputs": [
    {
     "data": {
      "text/plain": [
       "Field Name                                                     PSENELN\n",
       "Label/Description    Percentage of eligible pupils with SEN (Specia...\n",
       "Name: 258, dtype: object"
      ]
     },
     "execution_count": 50,
     "metadata": {},
     "output_type": "execute_result"
    }
   ],
   "source": [
    "ks2cols.iloc[258]"
   ]
  },
  {
   "cell_type": "markdown",
   "metadata": {},
   "source": [
    "Merging the two meta data files.\n"
   ]
  },
  {
   "cell_type": "code",
   "execution_count": 96,
   "metadata": {},
   "outputs": [
    {
     "name": "stdout",
     "output_type": "stream",
     "text": [
      "<class 'pandas.core.frame.DataFrame'>\n",
      "Int64Index: 632 entries, 0 to -1\n",
      "Data columns (total 2 columns):\n",
      "Field Name           632 non-null object\n",
      "Label/Description    632 non-null object\n",
      "dtypes: object(2)\n",
      "memory usage: 14.8+ KB\n"
     ]
    }
   ],
   "source": [
    "labels_df = pd.concat([ks2cols, ks4cols])\n",
    "labels_df.info()"
   ]
  },
  {
   "cell_type": "code",
   "execution_count": 97,
   "metadata": {},
   "outputs": [
    {
     "data": {
      "text/html": [
       "<div>\n",
       "<style>\n",
       "    .dataframe thead tr:only-child th {\n",
       "        text-align: right;\n",
       "    }\n",
       "\n",
       "    .dataframe thead th {\n",
       "        text-align: left;\n",
       "    }\n",
       "\n",
       "    .dataframe tbody tr th {\n",
       "        vertical-align: top;\n",
       "    }\n",
       "</style>\n",
       "<table border=\"1\" class=\"dataframe\">\n",
       "  <thead>\n",
       "    <tr style=\"text-align: right;\">\n",
       "      <th></th>\n",
       "      <th>Field Name</th>\n",
       "      <th>Label/Description</th>\n",
       "    </tr>\n",
       "  </thead>\n",
       "  <tbody>\n",
       "    <tr>\n",
       "      <th>308</th>\n",
       "      <td>AC5EM13</td>\n",
       "      <td>Percentage of pupils achieving 5+ A*-C or equi...</td>\n",
       "    </tr>\n",
       "    <tr>\n",
       "      <th>309</th>\n",
       "      <td>AC5EM14_PTQ</td>\n",
       "      <td>Percentage of pupils achieving 5+ A*-C or equi...</td>\n",
       "    </tr>\n",
       "    <tr>\n",
       "      <th>310</th>\n",
       "      <td>AC5EM15_PTQ_EE</td>\n",
       "      <td>Percentage of pupils achieving 5+ A*-C or equi...</td>\n",
       "    </tr>\n",
       "    <tr>\n",
       "      <th>311</th>\n",
       "      <td>AC5EM16_PTQ_EE</td>\n",
       "      <td>Percentage of pupils achieving 5+ A*-C or equi...</td>\n",
       "    </tr>\n",
       "    <tr>\n",
       "      <th>7</th>\n",
       "      <td>ADDRESS1</td>\n",
       "      <td>School address (1)</td>\n",
       "    </tr>\n",
       "    <tr>\n",
       "      <th>6</th>\n",
       "      <td>ADDRESS1</td>\n",
       "      <td>School address (1)</td>\n",
       "    </tr>\n",
       "    <tr>\n",
       "      <th>8</th>\n",
       "      <td>ADDRESS2</td>\n",
       "      <td>School address (2)</td>\n",
       "    </tr>\n",
       "    <tr>\n",
       "      <th>7</th>\n",
       "      <td>ADDRESS2</td>\n",
       "      <td>School address (2)</td>\n",
       "    </tr>\n",
       "    <tr>\n",
       "      <th>9</th>\n",
       "      <td>ADDRESS3</td>\n",
       "      <td>School address (3)</td>\n",
       "    </tr>\n",
       "    <tr>\n",
       "      <th>8</th>\n",
       "      <td>ADDRESS3</td>\n",
       "      <td>School address (3)</td>\n",
       "    </tr>\n",
       "    <tr>\n",
       "      <th>17</th>\n",
       "      <td>ADMPOL</td>\n",
       "      <td>School admissions policy (self-declared by sch...</td>\n",
       "    </tr>\n",
       "    <tr>\n",
       "      <th>22</th>\n",
       "      <td>AGERANGE</td>\n",
       "      <td>Age range</td>\n",
       "    </tr>\n",
       "    <tr>\n",
       "      <th>18</th>\n",
       "      <td>AGERANGE</td>\n",
       "      <td>Age range</td>\n",
       "    </tr>\n",
       "    <tr>\n",
       "      <th>1</th>\n",
       "      <td>ALPHAIND</td>\n",
       "      <td>Alphabetic sorting index</td>\n",
       "    </tr>\n",
       "    <tr>\n",
       "      <th>1</th>\n",
       "      <td>ALPHAIND</td>\n",
       "      <td>Alphabetic index</td>\n",
       "    </tr>\n",
       "    <tr>\n",
       "      <th>56</th>\n",
       "      <td>ATT8SCR</td>\n",
       "      <td>Average Attainment 8 score per pupil</td>\n",
       "    </tr>\n",
       "    <tr>\n",
       "      <th>62</th>\n",
       "      <td>ATT8SCREBAC</td>\n",
       "      <td>Average Attainment 8 score per pupil for EBacc...</td>\n",
       "    </tr>\n",
       "    <tr>\n",
       "      <th>153</th>\n",
       "      <td>ATT8SCREBAC_FSM6CLA1A</td>\n",
       "      <td>Average Attainment 8 score per disadvantaged p...</td>\n",
       "    </tr>\n",
       "    <tr>\n",
       "      <th>169</th>\n",
       "      <td>ATT8SCREBAC_NFSM6CLA1A</td>\n",
       "      <td>Average Attainment 8 score per non-disadvantag...</td>\n",
       "    </tr>\n",
       "    <tr>\n",
       "      <th>58</th>\n",
       "      <td>ATT8SCRENG</td>\n",
       "      <td>Average Attainment 8 score per pupil for Engli...</td>\n",
       "    </tr>\n",
       "    <tr>\n",
       "      <th>145</th>\n",
       "      <td>ATT8SCRENG_FSM6CLA1A</td>\n",
       "      <td>Average Attainment 8 score per disadvantaged p...</td>\n",
       "    </tr>\n",
       "    <tr>\n",
       "      <th>161</th>\n",
       "      <td>ATT8SCRENG_NFSM6CLA1A</td>\n",
       "      <td>Average Attainment 8 score per non-disadvantag...</td>\n",
       "    </tr>\n",
       "    <tr>\n",
       "      <th>60</th>\n",
       "      <td>ATT8SCRMAT</td>\n",
       "      <td>Average Attainment 8 score per pupil for mathe...</td>\n",
       "    </tr>\n",
       "    <tr>\n",
       "      <th>149</th>\n",
       "      <td>ATT8SCRMAT_FSM6CLA1A</td>\n",
       "      <td>Average Attainment 8 score per disadvantaged p...</td>\n",
       "    </tr>\n",
       "    <tr>\n",
       "      <th>165</th>\n",
       "      <td>ATT8SCRMAT_NFSM6CLA1A</td>\n",
       "      <td>Average Attainment 8 score per non-disadvantag...</td>\n",
       "    </tr>\n",
       "    <tr>\n",
       "      <th>64</th>\n",
       "      <td>ATT8SCROPEN</td>\n",
       "      <td>Average Attainment 8 score per pupil for open ...</td>\n",
       "    </tr>\n",
       "    <tr>\n",
       "      <th>66</th>\n",
       "      <td>ATT8SCROPENG</td>\n",
       "      <td>Average Attainment 8 score per pupil for open ...</td>\n",
       "    </tr>\n",
       "    <tr>\n",
       "      <th>177</th>\n",
       "      <td>ATT8SCROPENG_FSM6CLA1A</td>\n",
       "      <td>Average Attainment 8 score per disadvantaged p...</td>\n",
       "    </tr>\n",
       "    <tr>\n",
       "      <th>179</th>\n",
       "      <td>ATT8SCROPENG_NFSM6CLA1A</td>\n",
       "      <td>Average Attainment 8 score per non-disadvantag...</td>\n",
       "    </tr>\n",
       "    <tr>\n",
       "      <th>68</th>\n",
       "      <td>ATT8SCROPENNG</td>\n",
       "      <td>Average Attainment 8 score per pupil for open ...</td>\n",
       "    </tr>\n",
       "    <tr>\n",
       "      <th>...</th>\n",
       "      <td>...</td>\n",
       "      <td>...</td>\n",
       "    </tr>\n",
       "    <tr>\n",
       "      <th>54</th>\n",
       "      <td>WRITPROG</td>\n",
       "      <td>Writing progress measure</td>\n",
       "    </tr>\n",
       "    <tr>\n",
       "      <th>132</th>\n",
       "      <td>WRITPROG_B</td>\n",
       "      <td>Writing progress measure for boys</td>\n",
       "    </tr>\n",
       "    <tr>\n",
       "      <th>133</th>\n",
       "      <td>WRITPROG_B_LOWER</td>\n",
       "      <td>Writing progress measure for boys - lower conf...</td>\n",
       "    </tr>\n",
       "    <tr>\n",
       "      <th>134</th>\n",
       "      <td>WRITPROG_B_UPPER</td>\n",
       "      <td>Writing progress measure for boys - upper conf...</td>\n",
       "    </tr>\n",
       "    <tr>\n",
       "      <th>154</th>\n",
       "      <td>WRITPROG_EAL</td>\n",
       "      <td>Writing progress measure for EAL pupils</td>\n",
       "    </tr>\n",
       "    <tr>\n",
       "      <th>155</th>\n",
       "      <td>WRITPROG_EAL_LOWER</td>\n",
       "      <td>Writing progress measure for EAL pupils - lowe...</td>\n",
       "    </tr>\n",
       "    <tr>\n",
       "      <th>156</th>\n",
       "      <td>WRITPROG_EAL_UPPER</td>\n",
       "      <td>Writing progress measure for EAL pupils - uppe...</td>\n",
       "    </tr>\n",
       "    <tr>\n",
       "      <th>147</th>\n",
       "      <td>WRITPROG_FSM6CLA1A</td>\n",
       "      <td>Writing progress measure for disadvantaged pupils</td>\n",
       "    </tr>\n",
       "    <tr>\n",
       "      <th>148</th>\n",
       "      <td>WRITPROG_FSM6CLA1A_LOWER</td>\n",
       "      <td>Writing progress measure for disadvantaged pup...</td>\n",
       "    </tr>\n",
       "    <tr>\n",
       "      <th>149</th>\n",
       "      <td>WRITPROG_FSM6CLA1A_UPPER</td>\n",
       "      <td>Writing progress measure for disadvantaged pup...</td>\n",
       "    </tr>\n",
       "    <tr>\n",
       "      <th>135</th>\n",
       "      <td>WRITPROG_G</td>\n",
       "      <td>Wwriting progress measure for girls</td>\n",
       "    </tr>\n",
       "    <tr>\n",
       "      <th>136</th>\n",
       "      <td>WRITPROG_G_LOWER</td>\n",
       "      <td>Writing progress measure for girls - lower con...</td>\n",
       "    </tr>\n",
       "    <tr>\n",
       "      <th>137</th>\n",
       "      <td>WRITPROG_G_UPPER</td>\n",
       "      <td>Writing progress measure for girls - upper con...</td>\n",
       "    </tr>\n",
       "    <tr>\n",
       "      <th>144</th>\n",
       "      <td>WRITPROG_H</td>\n",
       "      <td>Writing progress measure for pupils with high ...</td>\n",
       "    </tr>\n",
       "    <tr>\n",
       "      <th>145</th>\n",
       "      <td>WRITPROG_H_LOWER</td>\n",
       "      <td>Writing progress measure for pupils with high ...</td>\n",
       "    </tr>\n",
       "    <tr>\n",
       "      <th>146</th>\n",
       "      <td>WRITPROG_H_UPPER</td>\n",
       "      <td>Writing progress measure for pupils with high ...</td>\n",
       "    </tr>\n",
       "    <tr>\n",
       "      <th>138</th>\n",
       "      <td>WRITPROG_L</td>\n",
       "      <td>Writing progress measure for pupils with low p...</td>\n",
       "    </tr>\n",
       "    <tr>\n",
       "      <th>55</th>\n",
       "      <td>WRITPROG_LOWER</td>\n",
       "      <td>Writing progress measure - lower confidence limit</td>\n",
       "    </tr>\n",
       "    <tr>\n",
       "      <th>139</th>\n",
       "      <td>WRITPROG_L_LOWER</td>\n",
       "      <td>Writing progress measure for pupils with low p...</td>\n",
       "    </tr>\n",
       "    <tr>\n",
       "      <th>140</th>\n",
       "      <td>WRITPROG_L_UPPER</td>\n",
       "      <td>Writing progress measure for pupils with low p...</td>\n",
       "    </tr>\n",
       "    <tr>\n",
       "      <th>141</th>\n",
       "      <td>WRITPROG_M</td>\n",
       "      <td>Writing progress measure for pupils with mediu...</td>\n",
       "    </tr>\n",
       "    <tr>\n",
       "      <th>157</th>\n",
       "      <td>WRITPROG_MOBN</td>\n",
       "      <td>Writing progress measure for non-mobile pupils</td>\n",
       "    </tr>\n",
       "    <tr>\n",
       "      <th>158</th>\n",
       "      <td>WRITPROG_MOBN_LOWER</td>\n",
       "      <td>Writing progress measure for non-mobile pupils...</td>\n",
       "    </tr>\n",
       "    <tr>\n",
       "      <th>159</th>\n",
       "      <td>WRITPROG_MOBN_UPPER</td>\n",
       "      <td>Writing progress measure for non-mobile pupils...</td>\n",
       "    </tr>\n",
       "    <tr>\n",
       "      <th>142</th>\n",
       "      <td>WRITPROG_M_LOWER</td>\n",
       "      <td>Writing progress measure for pupils with mediu...</td>\n",
       "    </tr>\n",
       "    <tr>\n",
       "      <th>143</th>\n",
       "      <td>WRITPROG_M_UPPER</td>\n",
       "      <td>Writing progress measure for pupils with mediu...</td>\n",
       "    </tr>\n",
       "    <tr>\n",
       "      <th>150</th>\n",
       "      <td>WRITPROG_NotFSM6CLA1A</td>\n",
       "      <td>Writing progress measure for non-disadvantaged...</td>\n",
       "    </tr>\n",
       "    <tr>\n",
       "      <th>151</th>\n",
       "      <td>WRITPROG_NotFSM6CLA1A_LOWER</td>\n",
       "      <td>Writing progress measure for non-disadvantaged...</td>\n",
       "    </tr>\n",
       "    <tr>\n",
       "      <th>152</th>\n",
       "      <td>WRITPROG_NotFSM6CLA1A_UPPER</td>\n",
       "      <td>Writing progress measure for non-disadvantaged...</td>\n",
       "    </tr>\n",
       "    <tr>\n",
       "      <th>56</th>\n",
       "      <td>WRITPROG_UPPER</td>\n",
       "      <td>Writing progress measure - upper confidence limit</td>\n",
       "    </tr>\n",
       "  </tbody>\n",
       "</table>\n",
       "<p>632 rows × 2 columns</p>\n",
       "</div>"
      ],
      "text/plain": [
       "                      Field Name  \\\n",
       "308                      AC5EM13   \n",
       "309                  AC5EM14_PTQ   \n",
       "310               AC5EM15_PTQ_EE   \n",
       "311               AC5EM16_PTQ_EE   \n",
       "7                       ADDRESS1   \n",
       "6                       ADDRESS1   \n",
       "8                       ADDRESS2   \n",
       "7                       ADDRESS2   \n",
       "9                       ADDRESS3   \n",
       "8                       ADDRESS3   \n",
       "17                        ADMPOL   \n",
       "22                      AGERANGE   \n",
       "18                      AGERANGE   \n",
       "1                       ALPHAIND   \n",
       "1                       ALPHAIND   \n",
       "56                       ATT8SCR   \n",
       "62                   ATT8SCREBAC   \n",
       "153        ATT8SCREBAC_FSM6CLA1A   \n",
       "169       ATT8SCREBAC_NFSM6CLA1A   \n",
       "58                    ATT8SCRENG   \n",
       "145         ATT8SCRENG_FSM6CLA1A   \n",
       "161        ATT8SCRENG_NFSM6CLA1A   \n",
       "60                    ATT8SCRMAT   \n",
       "149         ATT8SCRMAT_FSM6CLA1A   \n",
       "165        ATT8SCRMAT_NFSM6CLA1A   \n",
       "64                   ATT8SCROPEN   \n",
       "66                  ATT8SCROPENG   \n",
       "177       ATT8SCROPENG_FSM6CLA1A   \n",
       "179      ATT8SCROPENG_NFSM6CLA1A   \n",
       "68                 ATT8SCROPENNG   \n",
       "..                           ...   \n",
       "54                      WRITPROG   \n",
       "132                   WRITPROG_B   \n",
       "133             WRITPROG_B_LOWER   \n",
       "134             WRITPROG_B_UPPER   \n",
       "154                 WRITPROG_EAL   \n",
       "155           WRITPROG_EAL_LOWER   \n",
       "156           WRITPROG_EAL_UPPER   \n",
       "147           WRITPROG_FSM6CLA1A   \n",
       "148     WRITPROG_FSM6CLA1A_LOWER   \n",
       "149     WRITPROG_FSM6CLA1A_UPPER   \n",
       "135                   WRITPROG_G   \n",
       "136             WRITPROG_G_LOWER   \n",
       "137             WRITPROG_G_UPPER   \n",
       "144                   WRITPROG_H   \n",
       "145             WRITPROG_H_LOWER   \n",
       "146             WRITPROG_H_UPPER   \n",
       "138                   WRITPROG_L   \n",
       "55                WRITPROG_LOWER   \n",
       "139             WRITPROG_L_LOWER   \n",
       "140             WRITPROG_L_UPPER   \n",
       "141                   WRITPROG_M   \n",
       "157                WRITPROG_MOBN   \n",
       "158          WRITPROG_MOBN_LOWER   \n",
       "159          WRITPROG_MOBN_UPPER   \n",
       "142             WRITPROG_M_LOWER   \n",
       "143             WRITPROG_M_UPPER   \n",
       "150        WRITPROG_NotFSM6CLA1A   \n",
       "151  WRITPROG_NotFSM6CLA1A_LOWER   \n",
       "152  WRITPROG_NotFSM6CLA1A_UPPER   \n",
       "56                WRITPROG_UPPER   \n",
       "\n",
       "                                     Label/Description  \n",
       "308  Percentage of pupils achieving 5+ A*-C or equi...  \n",
       "309  Percentage of pupils achieving 5+ A*-C or equi...  \n",
       "310  Percentage of pupils achieving 5+ A*-C or equi...  \n",
       "311  Percentage of pupils achieving 5+ A*-C or equi...  \n",
       "7                                   School address (1)  \n",
       "6                                   School address (1)  \n",
       "8                                   School address (2)  \n",
       "7                                   School address (2)  \n",
       "9                                   School address (3)  \n",
       "8                                   School address (3)  \n",
       "17   School admissions policy (self-declared by sch...  \n",
       "22                                           Age range  \n",
       "18                                           Age range  \n",
       "1                             Alphabetic sorting index  \n",
       "1                                     Alphabetic index  \n",
       "56                Average Attainment 8 score per pupil  \n",
       "62   Average Attainment 8 score per pupil for EBacc...  \n",
       "153  Average Attainment 8 score per disadvantaged p...  \n",
       "169  Average Attainment 8 score per non-disadvantag...  \n",
       "58   Average Attainment 8 score per pupil for Engli...  \n",
       "145  Average Attainment 8 score per disadvantaged p...  \n",
       "161  Average Attainment 8 score per non-disadvantag...  \n",
       "60   Average Attainment 8 score per pupil for mathe...  \n",
       "149  Average Attainment 8 score per disadvantaged p...  \n",
       "165  Average Attainment 8 score per non-disadvantag...  \n",
       "64   Average Attainment 8 score per pupil for open ...  \n",
       "66   Average Attainment 8 score per pupil for open ...  \n",
       "177  Average Attainment 8 score per disadvantaged p...  \n",
       "179  Average Attainment 8 score per non-disadvantag...  \n",
       "68   Average Attainment 8 score per pupil for open ...  \n",
       "..                                                 ...  \n",
       "54                            Writing progress measure  \n",
       "132                  Writing progress measure for boys  \n",
       "133  Writing progress measure for boys - lower conf...  \n",
       "134  Writing progress measure for boys - upper conf...  \n",
       "154            Writing progress measure for EAL pupils  \n",
       "155  Writing progress measure for EAL pupils - lowe...  \n",
       "156  Writing progress measure for EAL pupils - uppe...  \n",
       "147  Writing progress measure for disadvantaged pupils  \n",
       "148  Writing progress measure for disadvantaged pup...  \n",
       "149  Writing progress measure for disadvantaged pup...  \n",
       "135                Wwriting progress measure for girls  \n",
       "136  Writing progress measure for girls - lower con...  \n",
       "137  Writing progress measure for girls - upper con...  \n",
       "144  Writing progress measure for pupils with high ...  \n",
       "145  Writing progress measure for pupils with high ...  \n",
       "146  Writing progress measure for pupils with high ...  \n",
       "138  Writing progress measure for pupils with low p...  \n",
       "55   Writing progress measure - lower confidence limit  \n",
       "139  Writing progress measure for pupils with low p...  \n",
       "140  Writing progress measure for pupils with low p...  \n",
       "141  Writing progress measure for pupils with mediu...  \n",
       "157     Writing progress measure for non-mobile pupils  \n",
       "158  Writing progress measure for non-mobile pupils...  \n",
       "159  Writing progress measure for non-mobile pupils...  \n",
       "142  Writing progress measure for pupils with mediu...  \n",
       "143  Writing progress measure for pupils with mediu...  \n",
       "150  Writing progress measure for non-disadvantaged...  \n",
       "151  Writing progress measure for non-disadvantaged...  \n",
       "152  Writing progress measure for non-disadvantaged...  \n",
       "56   Writing progress measure - upper confidence limit  \n",
       "\n",
       "[632 rows x 2 columns]"
      ]
     },
     "execution_count": 97,
     "metadata": {},
     "output_type": "execute_result"
    }
   ],
   "source": [
    "labels_df.sort_values('Field Name')"
   ]
  },
  {
   "cell_type": "code",
   "execution_count": 98,
   "metadata": {},
   "outputs": [
    {
     "data": {
      "text/plain": [
       "(603, 632)"
      ]
     },
     "execution_count": 98,
     "metadata": {},
     "output_type": "execute_result"
    }
   ],
   "source": [
    "labels_df['Field Name'].nunique(), len(labels_df['Field Name'])"
   ]
  },
  {
   "cell_type": "markdown",
   "metadata": {},
   "source": [
    "There appears to be a number of duplicates in the dataframe.  I'll remove those then store them as a labels collection for easy access later on."
   ]
  },
  {
   "cell_type": "code",
   "execution_count": 113,
   "metadata": {},
   "outputs": [
    {
     "name": "stdout",
     "output_type": "stream",
     "text": [
      "<class 'pandas.core.frame.DataFrame'>\n",
      "Int64Index: 603 entries, 0 to 371\n",
      "Data columns (total 2 columns):\n",
      "Field Name           603 non-null object\n",
      "Label/Description    603 non-null object\n",
      "dtypes: object(2)\n",
      "memory usage: 14.1+ KB\n"
     ]
    }
   ],
   "source": [
    "labels_df = labels_df.drop_duplicates(subset='Field Name')\n",
    "labels_df.info()"
   ]
  },
  {
   "cell_type": "code",
   "execution_count": 114,
   "metadata": {
    "collapsed": true
   },
   "outputs": [],
   "source": [
    "test = db.test"
   ]
  },
  {
   "cell_type": "code",
   "execution_count": 116,
   "metadata": {},
   "outputs": [
    {
     "data": {
      "text/plain": [
       "{'_id': ObjectId('5afdc2df0fd01f3d5eff23f1'),\n",
       " 'field': 'RECTYPE',\n",
       " 'label': 'Record type (1=mainstream school; 2=special school; 3=Local Authority; 4=National (all schools); 5=National (maintained schools))'}"
      ]
     },
     "execution_count": 116,
     "metadata": {},
     "output_type": "execute_result"
    }
   ],
   "source": [
    "for index, row in labels_df.iterrows():\n",
    "    test.insert_one({'field': row['Field Name'],\n",
    "                     'label':row['Label/Description']})\n",
    "test.find_one()"
   ]
  },
  {
   "cell_type": "markdown",
   "metadata": {},
   "source": [
    "Let's tidy up the rectype codes."
   ]
  },
  {
   "cell_type": "code",
   "execution_count": 120,
   "metadata": {},
   "outputs": [],
   "source": [
    "desc = test.find_one({'field': 'RECTYPE'})"
   ]
  },
  {
   "cell_type": "markdown",
   "metadata": {},
   "source": [
    "Great now I'll save that put that into a mongo collection for easy access later on.\n"
   ]
  },
  {
   "cell_type": "code",
   "execution_count": 88,
   "metadata": {
    "collapsed": true
   },
   "outputs": [],
   "source": [
    "!mkdir -p 'data/dcs283'"
   ]
  },
  {
   "cell_type": "code",
   "execution_count": 89,
   "metadata": {},
   "outputs": [
    {
     "name": "stdout",
     "output_type": "stream",
     "text": [
      "1279924960.csv\r\n",
      "2015-2016\r\n",
      "2016-17_Pupil_premium_School_level_allocations.xlsx\r\n",
      "codepo_gb.zip\r\n",
      "Data\r\n",
      "dcs283\r\n",
      "Doc\r\n",
      "Performancetables_150340.zip\r\n",
      "Performancetables_150345.zip\r\n",
      "Pupil_Premium_final_allocations_2015_to_2016_School_table.xlsx\r\n",
      "SFR27_2016_Main_Tables.xlsx\r\n",
      "SR63_2016_Tables.xlsx\r\n"
     ]
    }
   ],
   "source": [
    "!ls 'data/'"
   ]
  },
  {
   "cell_type": "code",
   "execution_count": 92,
   "metadata": {},
   "outputs": [],
   "source": [
    "labels.to_csv('data/dcs283/labels.csv')"
   ]
  },
  {
   "cell_type": "code",
   "execution_count": 106,
   "metadata": {},
   "outputs": [
    {
     "name": "stdout",
     "output_type": "stream",
     "text": [
      "2018-05-17T17:51:34.513+0000\tconnected to: localhost:27351\r\n",
      "2018-05-17T17:51:34.513+0000\tdropping: schools.labels\r\n",
      "2018-05-17T17:51:34.531+0000\timported 603 documents\r\n"
     ]
    }
   ],
   "source": [
    "!/usr/bin/mongoimport --port 27351 --drop --db schools --collection labels \\\n",
    "    --type csv --headerline --ignoreBlanks \\\n",
    "    --file data/dcs283/labels.csv"
   ]
  },
  {
   "cell_type": "code",
   "execution_count": 108,
   "metadata": {
    "collapsed": true
   },
   "outputs": [],
   "source": [
    "import pymongo\n",
    "import collections"
   ]
  },
  {
   "cell_type": "code",
   "execution_count": 109,
   "metadata": {},
   "outputs": [],
   "source": [
    "# open a connection to the mongodb\n",
    "client = pymongo.MongoClient('mongodb://localhost:27351')"
   ]
  },
  {
   "cell_type": "code",
   "execution_count": 110,
   "metadata": {
    "collapsed": true
   },
   "outputs": [],
   "source": [
    "db = client.schools\n",
    "ks4 = db.ks4\n",
    "labels = db.labels"
   ]
  },
  {
   "cell_type": "code",
   "execution_count": 111,
   "metadata": {},
   "outputs": [],
   "source": [
    "ks4.find_one()"
   ]
  },
  {
   "cell_type": "code",
   "execution_count": 112,
   "metadata": {},
   "outputs": [
    {
     "data": {
      "text/plain": [
       "{'': 0,\n",
       " 'Field Name': 'RECTYPE',\n",
       " 'Label/Description': 'Record type (1=mainstream school; 2=special school; 3=Local Authority; 4=National (all schools); 5=National (maintained schools))',\n",
       " '_id': ObjectId('5afdc126b70b0769c01d8ce1')}"
      ]
     },
     "execution_count": 112,
     "metadata": {},
     "output_type": "execute_result"
    }
   ],
   "source": [
    "labels.find_one()"
   ]
  },
  {
   "cell_type": "markdown",
   "metadata": {},
   "source": [
    "It looks like there is still a little tidying up to do"
   ]
  },
  {
   "cell_type": "code",
   "execution_count": null,
   "metadata": {
    "collapsed": true
   },
   "outputs": [],
   "source": []
  },
  {
   "cell_type": "markdown",
   "metadata": {},
   "source": [
    "Clean the values (as in tma02 file import)"
   ]
  },
  {
   "cell_type": "code",
   "execution_count": null,
   "metadata": {
    "collapsed": true
   },
   "outputs": [],
   "source": [
    "# Some columns contain integers, but _**pandas**_ will treat any numeric column \n",
    "# with `na` values as `float64`, due to NumPy's number type hierarchy.\n",
    "# adapted from the tma02 import\n",
    "def get_int_cols(df):\n",
    "    int_cols = [c for c in df['Field Name'] \n",
    "                if c.startswith('T') \n",
    "                if c not in ['TOWN', 'TELNUM', 'TKS1AVERAGE']]\n",
    "    int_cols += ['RECTYPE', 'ALPHAIND', 'LEA', 'ESTAB', 'URN', 'URN_AC', 'ICLOSE']\n",
    "    int_cols += ['READ_AVERAGE', 'GPS_AVERAGE', 'MAT_AVERAGE']\n",
    "    return int_cols"
   ]
  },
  {
   "cell_type": "code",
   "execution_count": null,
   "metadata": {},
   "outputs": [],
   "source": [
    "ks2_int_cols = get_int_cols(ks2cols)\n",
    "ks4_int_cols = get_int_cols(ks4cols)\n",
    "\n",
    "(len(ks2_int_cols), len(ks4_int_cols))"
   ]
  },
  {
   "cell_type": "code",
   "execution_count": null,
   "metadata": {
    "collapsed": true
   },
   "outputs": [],
   "source": [
    "# Some columns contain percentages. We'll convert these to floating point numbers on import.\n",
    "# \n",
    "# Note that we also need to handle the case of `SUPP` and `NEW` in the data.\n",
    "\n",
    "def p2f(x):\n",
    "    if x.strip('%').isnumeric():\n",
    "        return float(x.strip('%'))/100\n",
    "    elif x in ['SUPP', 'NEW', 'LOWCOV', 'NA', '']:\n",
    "        return 0.0\n",
    "    else:\n",
    "        return x"
   ]
  },
  {
   "cell_type": "code",
   "execution_count": null,
   "metadata": {
    "collapsed": true
   },
   "outputs": [],
   "source": [
    "# These are the columns to try to convert from percentages. Note that we can be generous here, as columns like \n",
    "# PCODE (postcode) will return the original value if the conversion fails.\n",
    "\n",
    "percent_cols = [f for f in ks2cols['Field Name'] if f.startswith('P')]\n",
    "percent_cols += ['WRITCOV', 'MATCOV', 'READCOV'] \n",
    "percent_cols += ['PTMAT_HIGH', 'PTREAD_HIGH', 'PSENELSAPK', 'PSENELK', 'PTGPS_HIGH']\n",
    "percent_converters = {c: p2f for c in percent_cols}\n",
    "\n",
    "ks2_df = pd.read_csv('data/2015-2016/england_ks2final.csv', \n",
    "                   na_values=['SUPP', 'NEW', 'LOWCOV', 'NA', ''],\n",
    "                   converters=percent_converters)\n",
    "\n"
   ]
  },
  {
   "cell_type": "code",
   "execution_count": null,
   "metadata": {
    "collapsed": true
   },
   "outputs": [],
   "source": [
    "# Drop the summary rows, keeping just the rows for mainstream and special schools.\n",
    "\n",
    "ks2_df = ks2_df[(ks2_df['RECTYPE'] == 1) | (ks2_df['RECTYPE'] == 2)]\n"
   ]
  },
  {
   "cell_type": "code",
   "execution_count": null,
   "metadata": {
    "collapsed": true
   },
   "outputs": [],
   "source": [
    "# Convert everything to numbers, if possible.\n",
    "\n",
    "ks2_df = ks2_df.apply(pd.to_numeric, errors='ignore')"
   ]
  },
  {
   "cell_type": "code",
   "execution_count": null,
   "metadata": {},
   "outputs": [],
   "source": [
    "# Merge the LEA data into the school data\n",
    "ks2_df = pd.merge(ks2_df, leas_df, on=['LEA'])\n",
    "ks2_df.head().T"
   ]
  },
  {
   "cell_type": "code",
   "execution_count": null,
   "metadata": {
    "collapsed": true
   },
   "outputs": [],
   "source": []
  }
 ],
 "metadata": {
  "kernelspec": {
   "display_name": "Python 3",
   "language": "python",
   "name": "python3"
  },
  "language_info": {
   "codemirror_mode": {
    "name": "ipython",
    "version": 3
   },
   "file_extension": ".py",
   "mimetype": "text/x-python",
   "name": "python",
   "nbconvert_exporter": "python",
   "pygments_lexer": "ipython3",
   "version": "3.5.2"
  }
 },
 "nbformat": 4,
 "nbformat_minor": 2
}
