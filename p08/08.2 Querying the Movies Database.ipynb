{
 "cells": [
  {
   "cell_type": "markdown",
   "metadata": {},
   "source": [
    "# Querying the Movies Database\n",
    "\n",
    "In this notebook, you will have the opportunity to practise converting questions into queries. We will give a series of questions which can be answered using the database, and give some hints as to how you might consider answering them.\n",
    "\n",
    "For each of the tables we looked at in notebook *08.1 Movies dataset*: `movie`, `movie_actor`, `movie_director` and `movie_genre`, we will give a question which could be answered with the table, some hints about what is needed to answer the question, and our own code to answer the question. In each case, of course, you should attempt to answer the question yourself before looking at our solutions.\n",
    "\n",
    "If you are not sure how to construct a query to answer one of the questions, do try to understand our description of how the query is constructed, rather than focussing excessively on SQL or pandas syntax. Understanding the *structure* of database-style queries is much more important than the syntax of the different implementations, and if you have a clear idea of how you think the query should be constructed, then you will find that your ability to write the particular SQL or pandas will improve over the next few weeks."
   ]
  },
  {
   "cell_type": "markdown",
   "metadata": {},
   "source": [
    "When formulating your queries, you may use either pandas dataframe methods or use pandasql (as introduced in notebook *03.2*) to run SQL queries over the dataframes.\n",
    "\n",
    "Remember that the dataframes have a suffix `_df`, so that the `movie_df` and `movieActor_df` dataframes (for example) contains the contents of the `movie` and `movie_actor` database tables respectively.\n"
   ]
  },
  {
   "cell_type": "markdown",
   "metadata": {},
   "source": [
    "This notebook contains several exercises or activities, which are presented with a space for you to try your own solution. In each case, you can see our solution by clicking on the small triangle next to the text \"**our solution**\", but in all cases, you should attempt the questions yourself before looking at our proposed solutions.\n",
    "\n"
   ]
  },
  {
   "cell_type": "code",
   "execution_count": null,
   "metadata": {
    "collapsed": true
   },
   "outputs": [],
   "source": [
    "# This cell imports the pandas and pandasql modules, and imports\n",
    "# the database tables as dataframes.\n",
    "\n",
    "import pandas as pd\n",
    "from pandasql import sqldf\n",
    "\n",
    "# To make it a bit easier to apply the sqldf function, we will create a \n",
    "# simple wrapper function to allow us to supply the query 'q' without the \n",
    "# surrounding syntax of the function call.\n",
    "pysqldf = lambda q: sqldf(q, globals())\n",
    "\n",
    "# Create the DataFrame 'movie' from the CSV data file 'movie.csv'.\n",
    "movie_df = pd.read_csv('data/movie.csv')\n",
    "\n",
    "# Create the DataFrame 'movie_actor' from the CSV data file 'movie_actor.csv'.\n",
    "movieActor_df = pd.read_csv('data/movie_actor.csv')\n",
    "\n",
    "# Create the DataFrame 'movie_country' from the CSV data file 'movie_country.csv'.\n",
    "movieCountry_df = pd.read_csv('data/movie_country.csv')\n",
    "\n",
    "# Create the DataFrame 'movie_director' from the CSV data file 'movie_director.csv'.\n",
    "movieDirector_df = pd.read_csv('data/movie_director.csv')\n",
    "\n",
    "# Create the DataFrame 'movie_genre' from the CSV data file 'movie_genre.csv'.\n",
    "movieGenre_df = pd.read_csv('data/movie_genre.csv')"
   ]
  },
  {
   "cell_type": "markdown",
   "metadata": {},
   "source": [
    "## Getting Started - Simple Questions into Queries\n",
    "\n",
    "Here are some simple questions to get you started, along with some hints on how to turn them into queries; the answers provide examples of queries that can be used to answer the questions."
   ]
  },
  {
   "cell_type": "markdown",
   "metadata": {},
   "source": [
    "### Exercise 1: The `movie` table - *How many movies are there?*\n",
    "\n",
    "This is a simple counting question that asks you to find the length of the table or the number of records in it."
   ]
  },
  {
   "cell_type": "code",
   "execution_count": null,
   "metadata": {
    "collapsed": true
   },
   "outputs": [],
   "source": [
    "# Remind ourselves what columns are available\n",
    "list(movie_df.columns)"
   ]
  },
  {
   "cell_type": "code",
   "execution_count": null,
   "metadata": {
    "collapsed": true
   },
   "outputs": [],
   "source": [
    "# Enter your query here\n"
   ]
  },
  {
   "cell_type": "markdown",
   "metadata": {
    "heading_collapsed": true
   },
   "source": [
    "#### Our solution\n",
    "\n",
    "To reveal our solution, click on the triangle symbol on the left-hand end of this cell.\n"
   ]
  },
  {
   "cell_type": "markdown",
   "metadata": {
    "hidden": true
   },
   "source": [
    "The Python built-in function <tt>len()</tt> returns the number of rows in the DataFrame specified (see the *01.3 Basic python data structures* Notebook):<br/>\n"
   ]
  },
  {
   "cell_type": "code",
   "execution_count": null,
   "metadata": {
    "collapsed": true,
    "hidden": true
   },
   "outputs": [],
   "source": [
    "# Find the number of rows in the movie_df dataframe\n",
    "\n",
    "len(movie_df)"
   ]
  },
  {
   "cell_type": "markdown",
   "metadata": {
    "hidden": true
   },
   "source": [
    "Alternatively, the SQL `COUNT()` function will count the number of row items returned within a query:"
   ]
  },
  {
   "cell_type": "code",
   "execution_count": null,
   "metadata": {
    "collapsed": true,
    "hidden": true
   },
   "outputs": [],
   "source": [
    "pysqldf('''\n",
    "        SELECT COUNT(*) AS number_of_titles\n",
    "        FROM movie_df\n",
    "        ''')"
   ]
  },
  {
   "cell_type": "markdown",
   "metadata": {
    "hidden": true
   },
   "source": [
    "__Related questions:__ *How many actors appear in the database? How many directors? How many countries?*"
   ]
  },
  {
   "cell_type": "markdown",
   "metadata": {},
   "source": [
    "### Exercise 2: The `movie` table - *how many *unique* movie titles are there?*\n",
    "This is a more refined/exact counting question that asks you to identify the *unique* or *distinct* elements in a column and then count them."
   ]
  },
  {
   "cell_type": "code",
   "execution_count": null,
   "metadata": {
    "collapsed": true
   },
   "outputs": [],
   "source": [
    "# Enter your query here"
   ]
  },
  {
   "cell_type": "markdown",
   "metadata": {
    "heading_collapsed": true
   },
   "source": [
    "#### Our solution\n",
    "\n",
    "To reveal our solution, click on the triangle symbol on the left-hand end of this cell.\n"
   ]
  },
  {
   "cell_type": "markdown",
   "metadata": {
    "hidden": true
   },
   "source": [
    "`movie_df['title']` returns a Series containing the values in the 'title' column. The `.unique()` method returns an array of unique values from the Series (see the *02.1 Pandas Dataframes* Notebook):"
   ]
  },
  {
   "cell_type": "code",
   "execution_count": null,
   "metadata": {
    "collapsed": true,
    "hidden": true
   },
   "outputs": [],
   "source": [
    "len(movie_df[\"title\"].unique())"
   ]
  },
  {
   "cell_type": "markdown",
   "metadata": {
    "hidden": true
   },
   "source": [
    "In SQL, if we select the `DISTINCT` titles, we can then count them:"
   ]
  },
  {
   "cell_type": "code",
   "execution_count": null,
   "metadata": {
    "collapsed": true,
    "hidden": true
   },
   "outputs": [],
   "source": [
    "pysqldf('''\n",
    "        SELECT COUNT (DISTINCT title) AS number_of_distinct_titles\n",
    "        FROM movie_df\n",
    "        ''')"
   ]
  },
  {
   "cell_type": "markdown",
   "metadata": {
    "hidden": true
   },
   "source": [
    "__Related questions:__ *How many uniquely named actors are there? How many uniquely named directors? Countries? Genres?*"
   ]
  },
  {
   "cell_type": "markdown",
   "metadata": {},
   "source": [
    "### Exercise 3: The `movie` table - *What release data period does the dataset cover?*"
   ]
  },
  {
   "cell_type": "markdown",
   "metadata": {},
   "source": [
    "\n",
    "This question can be asked by thinking about the range (maximum and minimum) of values in a particular column included in the dataset."
   ]
  },
  {
   "cell_type": "code",
   "execution_count": null,
   "metadata": {
    "collapsed": true
   },
   "outputs": [],
   "source": [
    "# Enter your query here"
   ]
  },
  {
   "cell_type": "markdown",
   "metadata": {
    "heading_collapsed": true
   },
   "source": [
    "#### Our solution\n",
    "\n",
    "To reveal our solution, click on the triangle symbol on the left-hand end of this cell.\n"
   ]
  },
  {
   "cell_type": "markdown",
   "metadata": {
    "hidden": true
   },
   "source": [
    "The DataFrame column methods `.min()` and `.max()` return the minimum and maximum of the values in the column specified (see the *04.2 Descriptive statistics in pandas* Notebook):"
   ]
  },
  {
   "cell_type": "code",
   "execution_count": null,
   "metadata": {
    "collapsed": true,
    "hidden": true
   },
   "outputs": [],
   "source": [
    "movie_df['year'].min(), movie_df['year'].max()"
   ]
  },
  {
   "cell_type": "markdown",
   "metadata": {
    "hidden": true
   },
   "source": [
    "The SQL `MIN()` and `MAX()` functions will find extreme values in a numerically ranged set of values:"
   ]
  },
  {
   "cell_type": "code",
   "execution_count": null,
   "metadata": {
    "collapsed": true,
    "hidden": true
   },
   "outputs": [],
   "source": [
    "pysqldf('''\n",
    "        SELECT MIN(year) AS minimum_year, MAX(year) AS maximum_year\n",
    "        FROM movie_df\n",
    "        ''')"
   ]
  },
  {
   "cell_type": "markdown",
   "metadata": {
    "hidden": true
   },
   "source": [
    "__Related questions:__ *what are the ranges of values for critics, audience and user ratings?*"
   ]
  },
  {
   "cell_type": "markdown",
   "metadata": {},
   "source": [
    "### Exercise 4: The `movie_genre` table - *How many movies are classified under each genre, sorted according to decreasing count?*"
   ]
  },
  {
   "cell_type": "markdown",
   "metadata": {},
   "source": [
    "\n",
    "This query requires a couple of steps: first, group items into particular sets, and second, count the number of items in each set.\n",
    "\n",
    "When developing your queries, pay particular attention to the range of genres listed. Are there any notable or distinguished values listed there?"
   ]
  },
  {
   "cell_type": "code",
   "execution_count": null,
   "metadata": {
    "collapsed": true
   },
   "outputs": [],
   "source": [
    "# Remind ourselves what columns are available\n",
    "\n",
    "list(movieGenre_df.columns)"
   ]
  },
  {
   "cell_type": "code",
   "execution_count": null,
   "metadata": {
    "collapsed": true
   },
   "outputs": [],
   "source": [
    "# Enter your query here"
   ]
  },
  {
   "cell_type": "markdown",
   "metadata": {
    "heading_collapsed": true
   },
   "source": [
    "#### Our solution\n",
    "\n",
    "To reveal our solution, click on the triangle symbol on the left-hand end of this cell.\n"
   ]
  },
  {
   "cell_type": "markdown",
   "metadata": {
    "hidden": true
   },
   "source": [
    "<div class='answer'>There are many different ways of forumulating queries to address this question. For example, we can use <tt>.groupby()</tt> on the `genre` column, and then use <tt>.size()</tt> to find the size of each group. The results can then be sorted in order of decreasing count value:"
   ]
  },
  {
   "cell_type": "code",
   "execution_count": null,
   "metadata": {
    "collapsed": true,
    "hidden": true
   },
   "outputs": [],
   "source": [
    "movieGenre_df.groupby('genre').size().sort_values(ascending=False)"
   ]
  },
  {
   "cell_type": "markdown",
   "metadata": {
    "hidden": true
   },
   "source": [
    "Alternatively, we could generate a pivot table indexed on *genre* and aggregated using a `size` function (as described in the *04.1 Crosstabs and pivot tables* Notebook):"
   ]
  },
  {
   "cell_type": "code",
   "execution_count": null,
   "metadata": {
    "collapsed": true,
    "hidden": true
   },
   "outputs": [],
   "source": [
    "movieGenre_df.pivot_table(index=['genre'], aggfunc='size').sort_values(ascending=False)"
   ]
  },
  {
   "cell_type": "markdown",
   "metadata": {
    "hidden": true
   },
   "source": [
    "In SQL terms, the grouping approach, using `GROUP BY`, is probably the simplest way, ordering the final result by count using `DESC`:"
   ]
  },
  {
   "cell_type": "code",
   "execution_count": null,
   "metadata": {
    "collapsed": true,
    "hidden": true
   },
   "outputs": [],
   "source": [
    "pysqldf('''\n",
    "        SELECT genre, COUNT(*) AS number_in_genre \n",
    "        FROM movieGenre_df \n",
    "        GROUP BY genre \n",
    "        ORDER BY number_in_genre DESC\n",
    "        ''')"
   ]
  },
  {
   "cell_type": "markdown",
   "metadata": {
    "hidden": true
   },
   "source": [
    "\n",
    "Of the *genre* values, one notable value is the *(no genres listed)* value which explicitly identifies a movie with no associated genres, rather than representing that information with a NULL value or by omitting the particular movie from the table altogether."
   ]
  },
  {
   "cell_type": "markdown",
   "metadata": {},
   "source": [
    "## More complex questions: missing data, and using multiple tables\n",
    "\n",
    "We will now try to answer some questions which seek to identify the number of records with a missing value in a particular column, or that appear in one table but not another. Different strategies may be required to calculate these numbers."
   ]
  },
  {
   "cell_type": "markdown",
   "metadata": {},
   "source": [
    "### Exercise 5: How many movies don't have an audience rating?\n",
    "This query requires us to identify which records are missing a value in a particular column."
   ]
  },
  {
   "cell_type": "code",
   "execution_count": null,
   "metadata": {
    "collapsed": true
   },
   "outputs": [],
   "source": [
    "# Start by checking which column of the movie table contains audience ratings:\n",
    "movie_df.head()"
   ]
  },
  {
   "cell_type": "code",
   "execution_count": null,
   "metadata": {
    "collapsed": true
   },
   "outputs": [],
   "source": [
    "# Enter your query here"
   ]
  },
  {
   "cell_type": "markdown",
   "metadata": {
    "heading_collapsed": true
   },
   "source": [
    "#### Our solution\n",
    "\n",
    "To reveal our solution, click on the triangle symbol on the left-hand end of this cell.\n"
   ]
  },
  {
   "cell_type": "markdown",
   "metadata": {
    "hidden": true
   },
   "source": [
    "The Series and DataFrame data structures have an <tt>.isnull()</tt> method whch returns a boolean for each element in the Series, which indicates whether the values are null (*03.4 Handling missing data* Notebook). These boolean values can be used to perform a selection on those rows where <tt>.isnull()</tt> returns `True` (see the *03.2 Selecting and projecting, sorting and limiting* Notebook):\n"
   ]
  },
  {
   "cell_type": "code",
   "execution_count": null,
   "metadata": {
    "collapsed": true,
    "hidden": true
   },
   "outputs": [],
   "source": [
    "movie_df[movie_df['rt_audience_rating'].isnull()]"
   ]
  },
  {
   "cell_type": "markdown",
   "metadata": {
    "hidden": true
   },
   "source": [
    "We can then use the `len()` function to count the number of such movies:"
   ]
  },
  {
   "cell_type": "code",
   "execution_count": null,
   "metadata": {
    "collapsed": true,
    "hidden": true
   },
   "outputs": [],
   "source": [
    "len(movie_df[movie_df['rt_audience_rating'].isnull()])"
   ]
  },
  {
   "cell_type": "markdown",
   "metadata": {
    "hidden": true
   },
   "source": [
    "In SQL, we can select rows where a specified column value contains NULL:"
   ]
  },
  {
   "cell_type": "code",
   "execution_count": null,
   "metadata": {
    "collapsed": true,
    "hidden": true
   },
   "outputs": [],
   "source": [
    "pysqldf('''\n",
    "        SELECT COUNT(*) AS number_of_movies\n",
    "        FROM movie_df\n",
    "        WHERE rt_audience_rating IS NULL\n",
    "        ''')"
   ]
  },
  {
   "cell_type": "markdown",
   "metadata": {},
   "source": [
    "### Exercise 6: How many movies don't have a country listed?\n",
    "\n",
    "This question requires us to compare the number of records that appear in one table (which we might exepct to contain a complete set records) compared to another."
   ]
  },
  {
   "cell_type": "code",
   "execution_count": null,
   "metadata": {
    "collapsed": true
   },
   "outputs": [],
   "source": [
    "# Remind ourselves what columns are available in the two tables:\n",
    "list(movie_df.columns)"
   ]
  },
  {
   "cell_type": "code",
   "execution_count": null,
   "metadata": {
    "collapsed": true
   },
   "outputs": [],
   "source": [
    "list(movieCountry_df.columns)"
   ]
  },
  {
   "cell_type": "code",
   "execution_count": null,
   "metadata": {
    "collapsed": true
   },
   "outputs": [],
   "source": [
    "# Enter your query here"
   ]
  },
  {
   "cell_type": "markdown",
   "metadata": {
    "heading_collapsed": true
   },
   "source": [
    "#### Our solution\n",
    "\n",
    "To reveal our solution, click on the triangle symbol on the left-hand end of this cell.\n"
   ]
  },
  {
   "cell_type": "markdown",
   "metadata": {
    "hidden": true
   },
   "source": [
    "If we assume that the `movie` table contains the complete set of movies, we could find the difference between the length of that table and the `movie_country` table:\n"
   ]
  },
  {
   "cell_type": "code",
   "execution_count": null,
   "metadata": {
    "collapsed": true,
    "hidden": true
   },
   "outputs": [],
   "source": [
    "len(movie_df)-len(movieCountry_df)"
   ]
  },
  {
   "cell_type": "markdown",
   "metadata": {
    "hidden": true
   },
   "source": [
    "A better approach (that is, one that is more generalisable, and which is more closely related to the particular question) might be to find the length of the set of movies which appear in the `movie` table but not the `movie_country` table:"
   ]
  },
  {
   "cell_type": "code",
   "execution_count": null,
   "metadata": {
    "collapsed": true,
    "hidden": true
   },
   "outputs": [],
   "source": [
    "len( set(movie_df['movie_id']).difference(set(movieCountry_df['movie_id'])) )"
   ]
  },
  {
   "cell_type": "markdown",
   "metadata": {
    "hidden": true
   },
   "source": [
    "In SQL, we can use a subquery to find the sent of movies which are associated with a country, and then use a `WHERE ... NOT IN ...` to select and count the movies which are *not* in that collection:"
   ]
  },
  {
   "cell_type": "code",
   "execution_count": null,
   "metadata": {
    "collapsed": true,
    "hidden": true
   },
   "outputs": [],
   "source": [
    "pysqldf('''\n",
    "        SELECT COUNT(*) AS number_of_movies \n",
    "        FROM movie_df\n",
    "        WHERE movie_id NOT IN (SELECT movie_id \n",
    "                               FROM movieCountry_df)\n",
    "        ''')"
   ]
  },
  {
   "cell_type": "markdown",
   "metadata": {
    "hidden": true
   },
   "source": [
    "__Related questions:__ *the same question could be asked of the directors, which also have at most one entry for each particular `movie_id`.*"
   ]
  },
  {
   "cell_type": "markdown",
   "metadata": {},
   "source": [
    "### Exercise 7: Combining the `movie` and `movie_actor` tables: which films released in 1995 did Tom Hanks appear in?"
   ]
  },
  {
   "cell_type": "markdown",
   "metadata": {},
   "source": [
    "To frame this query, we need to join two tables, and in each case, filter on one of the elements."
   ]
  },
  {
   "cell_type": "code",
   "execution_count": null,
   "metadata": {
    "collapsed": true
   },
   "outputs": [],
   "source": [
    "# Enter your query here"
   ]
  },
  {
   "cell_type": "markdown",
   "metadata": {
    "heading_collapsed": true
   },
   "source": [
    "#### Our solution\n",
    "\n",
    "To reveal our solution, click on the triangle symbol on the left-hand end of this cell.\n"
   ]
  },
  {
   "cell_type": "markdown",
   "metadata": {
    "hidden": true
   },
   "source": [
    "The pandas <tt>merge()</tt> function can be used to merge dataframes which share one or more common column values. In this case, we want to merge only the rows in the `movie_df` dataframe which have a value of *1995* in the `year` column, and only those rows in the `movieActor_df` dataframe which have an `actor_name` value of \n",
    "*Tom Hanks*:"
   ]
  },
  {
   "cell_type": "code",
   "execution_count": null,
   "metadata": {
    "collapsed": true,
    "hidden": true
   },
   "outputs": [],
   "source": [
    "pd.merge(movie_df[movie_df['year']==1995],movieActor_df[movieActor_df['actor_name']=='Tom Hanks'],on='movie_id')['title']"
   ]
  },
  {
   "cell_type": "markdown",
   "metadata": {
    "hidden": true
   },
   "source": [
    "For the SQL query, we can do a simple `JOIN` on the `movie` and `movie_actor` tables on the `movie_id` column, and then filter the rows as required in each separate table:"
   ]
  },
  {
   "cell_type": "code",
   "execution_count": null,
   "metadata": {
    "collapsed": true,
    "hidden": true
   },
   "outputs": [],
   "source": [
    "pysqldf('''\n",
    "        SELECT title\n",
    "        FROM movie_df JOIN movieActor_df\n",
    "            ON movie_df.movie_id=movieActor_df.movie_id\n",
    "        WHERE year=1995 AND actor_name=\"Tom Hanks\"\n",
    "        ''')"
   ]
  },
  {
   "cell_type": "markdown",
   "metadata": {},
   "source": [
    "### Exercise 8: Combining the `movie` and `movie_actor` tables: which of Tom Hanks' lead billing movies was least highly rated by all critics and in what year was it released?\n"
   ]
  },
  {
   "cell_type": "markdown",
   "metadata": {},
   "source": [
    "To create a query corresponding to this question, we need to:\n",
    "1. identify the tables containing the information we need,\n",
    "2. filter the data in the tables so that it contains only what is needed,\n",
    "3. join the tables,\n",
    "4. rank the result on non-null values and finally\n",
    "5. choose one of the extreme ranked values."
   ]
  },
  {
   "cell_type": "code",
   "execution_count": null,
   "metadata": {
    "collapsed": true
   },
   "outputs": [],
   "source": [
    "# Enter your query here"
   ]
  },
  {
   "cell_type": "markdown",
   "metadata": {
    "heading_collapsed": true
   },
   "source": [
    "#### Our solution\n",
    "\n",
    "To reveal our solution, click on the triangle symbol on the left-hand end of this cell.\n"
   ]
  },
  {
   "cell_type": "markdown",
   "metadata": {
    "hidden": true
   },
   "source": [
    "When generating complex queries, it can often be useful to split the problem into several separate pieces. For example, we can start by generating a dataframe that finds Tom Hanks movies where the actor had top billing:"
   ]
  },
  {
   "cell_type": "code",
   "execution_count": null,
   "metadata": {
    "collapsed": true,
    "hidden": true
   },
   "outputs": [],
   "source": [
    "tomHanksLead_df=movieActor_df[(movieActor_df['actor_name']=='Tom Hanks') & (movieActor_df['ranking']==1)]\n",
    "\n",
    "tomHanksLead_df.head()"
   ]
  },
  {
   "cell_type": "markdown",
   "metadata": {
    "hidden": true
   },
   "source": [
    "We can also find movies where the \"all critics\" rating is not null:"
   ]
  },
  {
   "cell_type": "code",
   "execution_count": null,
   "metadata": {
    "collapsed": true,
    "hidden": true
   },
   "outputs": [],
   "source": [
    "ratedMovies_df=movie_df[~movie_df['rt_all_critics_rating'].isnull()]\n",
    "\n",
    "ratedMovies_df.head()"
   ]
  },
  {
   "cell_type": "markdown",
   "metadata": {
    "hidden": true
   },
   "source": [
    "We can then merge these two dataframes by finding the values in the `movie_id` column:"
   ]
  },
  {
   "cell_type": "code",
   "execution_count": null,
   "metadata": {
    "collapsed": true,
    "hidden": true
   },
   "outputs": [],
   "source": [
    "tomHanksRated_df=pd.merge(ratedMovies_df,tomHanksLead_df,on='movie_id')\n",
    "\n",
    "tomHanksRated_df"
   ]
  },
  {
   "cell_type": "markdown",
   "metadata": {
    "hidden": true
   },
   "source": [
    "We can then sort the merged dataframe by the critics ratings, find the lowest critic rating value, and then project the `title` and `year` columns to produce our final result:"
   ]
  },
  {
   "cell_type": "code",
   "execution_count": null,
   "metadata": {
    "collapsed": true,
    "hidden": true
   },
   "outputs": [],
   "source": [
    "tomHanksRated_df.sort_values('rt_all_critics_rating').head(1)[['title','year','rt_all_critics_rating']]"
   ]
  },
  {
   "cell_type": "markdown",
   "metadata": {
    "hidden": true
   },
   "source": [
    "For an SQL query, the projection is provided by the `SELECT` clause, the `ON` clause is used to specify how the `JOIN` clause works, the rows are filtered with the `WHERE` clause, and the `ORDER BY` clause sorts the result and a `LIMIT 1` clause returns just the first extreme value:"
   ]
  },
  {
   "cell_type": "code",
   "execution_count": null,
   "metadata": {
    "collapsed": true,
    "hidden": true
   },
   "outputs": [],
   "source": [
    "pysqldf('''\n",
    "        SELECT title, year, rt_all_critics_rating \n",
    "        FROM movie_df JOIN movieActor_df \n",
    "            ON movie_df.movie_id=movieActor_df.movie_id\n",
    "        WHERE movieActor_df.actor_name=\"Tom Hanks\" \n",
    "            AND movieActor_df.ranking=1 \n",
    "            AND movie_df.rt_all_critics_rating IS NOT NULL\n",
    "        ORDER BY rt_all_critics_rating\n",
    "        LIMIT 1\n",
    "        ''')"
   ]
  },
  {
   "cell_type": "markdown",
   "metadata": {},
   "source": [
    "### Activity: Your own questions here...\n",
    "\n",
    "If you would like to try to turn some of your own questions, or questions posted by other students on the forums, into queries, add them here. Feel free to share your queries on the course forums.\n"
   ]
  },
  {
   "cell_type": "code",
   "execution_count": null,
   "metadata": {
    "collapsed": true
   },
   "outputs": [],
   "source": [
    "# YOUR OWN QUESTIONS INTO QUERIES...\n"
   ]
  },
  {
   "cell_type": "markdown",
   "metadata": {},
   "source": [
    "## Summary\n",
    "In this notebook you have had an opportunity to practice the conversion of *questions* into *queries*, as well as revising how to manipulate and query datasets using native *pandas* functions as well as simple SQL queries."
   ]
  },
  {
   "cell_type": "markdown",
   "metadata": {},
   "source": [
    "## What next?\n",
    "\n",
    "This completes the practical notebook activities for this week - return to the course materials on the VLE."
   ]
  }
 ],
 "metadata": {
  "kernelspec": {
   "display_name": "Python 3",
   "language": "python",
   "name": "python3"
  },
  "language_info": {
   "codemirror_mode": {
    "name": "ipython",
    "version": 3
   },
   "file_extension": ".py",
   "mimetype": "text/x-python",
   "name": "python",
   "nbconvert_exporter": "python",
   "pygments_lexer": "ipython3",
   "version": "3.5.2"
  }
 },
 "nbformat": 4,
 "nbformat_minor": 1
}
