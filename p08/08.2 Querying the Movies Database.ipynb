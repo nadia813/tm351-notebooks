{
 "cells": [
  {
   "cell_type": "markdown",
   "metadata": {},
   "source": [
    "# Querying the Movies Database\n",
    "\n",
    "In this notebook, you will have the opportunity to practise converting questions into queries. We will give a series of questions which can be answered using the database, and give some hints as to how you might consider answering them.\n",
    "\n",
    "For each of the tables we looked at in notebook *08.1 Movies dataset*: `movie`, `movie_actor`, `movie_director` and `movie_genre`, we will give a question which could be answered with the table, some hints about what is needed to answer the question, and our own code to answer the question. In each case, of course, you should attempt to answer the question yourself before looking at our solutions.\n",
    "\n",
    "If you are not sure how to construct a query to answer one of the questions, do try to understand our description of how the query is constructed, rather than focussing excessively on SQL or pandas syntax. Understanding the *structure* of database-style queries is much more important than the syntax of the different implementations, and if you have a clear idea of how you think the query should be constructed, then you will find that your ability to write the particular SQL or pandas will improve over the next few weeks."
   ]
  },
  {
   "cell_type": "markdown",
   "metadata": {},
   "source": [
    "When formulating your queries, you may use either pandas dataframe methods or use pandasql (as introduced in notebook *03.2*) to run SQL queries over the dataframes.\n",
    "\n",
    "Remember that the dataframes have a suffix `_df`, so that the `movie_df` and `movieActor_df` dataframes (for example) contains the contents of the `movie` and `movie_actor` database tables respectively.\n"
   ]
  },
  {
   "cell_type": "markdown",
   "metadata": {},
   "source": [
    "This notebook contains several exercises or activities, which are presented with a space for you to try your own solution. In each case, you can see our solution by clicking on the small triangle next to the text \"**our solution**\", but in all cases, you should attempt the questions yourself before looking at our proposed solutions.\n",
    "\n"
   ]
  },
  {
   "cell_type": "code",
   "execution_count": 1,
   "metadata": {
    "collapsed": true
   },
   "outputs": [],
   "source": [
    "# This cell imports the pandas and pandasql modules, and imports\n",
    "# the database tables as dataframes.\n",
    "\n",
    "import pandas as pd\n",
    "from pandasql import sqldf\n",
    "\n",
    "# To make it a bit easier to apply the sqldf function, we will create a \n",
    "# simple wrapper function to allow us to supply the query 'q' without the \n",
    "# surrounding syntax of the function call.\n",
    "pysqldf = lambda q: sqldf(q, globals())\n",
    "\n",
    "# Create the DataFrame 'movie' from the CSV data file 'movie.csv'.\n",
    "movie_df = pd.read_csv('data/movie.csv')\n",
    "\n",
    "# Create the DataFrame 'movie_actor' from the CSV data file 'movie_actor.csv'.\n",
    "movieActor_df = pd.read_csv('data/movie_actor.csv')\n",
    "\n",
    "# Create the DataFrame 'movie_country' from the CSV data file 'movie_country.csv'.\n",
    "movieCountry_df = pd.read_csv('data/movie_country.csv')\n",
    "\n",
    "# Create the DataFrame 'movie_director' from the CSV data file 'movie_director.csv'.\n",
    "movieDirector_df = pd.read_csv('data/movie_director.csv')\n",
    "\n",
    "# Create the DataFrame 'movie_genre' from the CSV data file 'movie_genre.csv'.\n",
    "movieGenre_df = pd.read_csv('data/movie_genre.csv')"
   ]
  },
  {
   "cell_type": "markdown",
   "metadata": {},
   "source": [
    "## Getting Started - Simple Questions into Queries\n",
    "\n",
    "Here are some simple questions to get you started, along with some hints on how to turn them into queries; the answers provide examples of queries that can be used to answer the questions."
   ]
  },
  {
   "cell_type": "markdown",
   "metadata": {},
   "source": [
    "### Exercise 1: The `movie` table - *How many movies are there?*\n",
    "\n",
    "This is a simple counting question that asks you to find the length of the table or the number of records in it."
   ]
  },
  {
   "cell_type": "code",
   "execution_count": 2,
   "metadata": {},
   "outputs": [
    {
     "data": {
      "text/plain": [
       "['movie_id',\n",
       " 'title',\n",
       " 'year',\n",
       " 'rt_all_critics_rating',\n",
       " 'rt_top_critics_rating',\n",
       " 'rt_audience_rating',\n",
       " 'ml_user_rating']"
      ]
     },
     "execution_count": 2,
     "metadata": {},
     "output_type": "execute_result"
    }
   ],
   "source": [
    "# Remind ourselves what columns are available\n",
    "list(movie_df.columns)"
   ]
  },
  {
   "cell_type": "code",
   "execution_count": 4,
   "metadata": {},
   "outputs": [
    {
     "data": {
      "text/plain": [
       "10681"
      ]
     },
     "execution_count": 4,
     "metadata": {},
     "output_type": "execute_result"
    }
   ],
   "source": [
    "# Enter your query here\n",
    "len(movie_df)"
   ]
  },
  {
   "cell_type": "markdown",
   "metadata": {
    "heading_collapsed": true
   },
   "source": [
    "#### Our solution\n",
    "\n",
    "To reveal our solution, click on the triangle symbol on the left-hand end of this cell.\n"
   ]
  },
  {
   "cell_type": "markdown",
   "metadata": {
    "hidden": true
   },
   "source": [
    "The Python built-in function <tt>len()</tt> returns the number of rows in the DataFrame specified (see the *01.3 Basic python data structures* Notebook):<br/>\n"
   ]
  },
  {
   "cell_type": "code",
   "execution_count": null,
   "metadata": {
    "collapsed": true,
    "hidden": true
   },
   "outputs": [],
   "source": [
    "# Find the number of rows in the movie_df dataframe\n",
    "\n",
    "len(movie_df)"
   ]
  },
  {
   "cell_type": "markdown",
   "metadata": {
    "hidden": true
   },
   "source": [
    "Alternatively, the SQL `COUNT()` function will count the number of row items returned within a query:"
   ]
  },
  {
   "cell_type": "code",
   "execution_count": null,
   "metadata": {
    "collapsed": true,
    "hidden": true
   },
   "outputs": [],
   "source": [
    "pysqldf('''\n",
    "        SELECT COUNT(*) AS number_of_titles\n",
    "        FROM movie_df\n",
    "        ''')"
   ]
  },
  {
   "cell_type": "markdown",
   "metadata": {
    "hidden": true
   },
   "source": [
    "__Related questions:__ *How many actors appear in the database? How many directors? How many countries?*"
   ]
  },
  {
   "cell_type": "markdown",
   "metadata": {},
   "source": [
    "### Exercise 2: The `movie` table - *how many *unique* movie titles are there?*\n",
    "This is a more refined/exact counting question that asks you to identify the *unique* or *distinct* elements in a column and then count them."
   ]
  },
  {
   "cell_type": "code",
   "execution_count": 8,
   "metadata": {},
   "outputs": [
    {
     "data": {
      "text/plain": [
       "10410"
      ]
     },
     "execution_count": 8,
     "metadata": {},
     "output_type": "execute_result"
    }
   ],
   "source": [
    "# Enter your query here\n",
    "# len(movie_df['title'].unique())\n",
    "movie_df['title'].nunique()"
   ]
  },
  {
   "cell_type": "markdown",
   "metadata": {},
   "source": [
    "#### Our solution\n",
    "\n",
    "To reveal our solution, click on the triangle symbol on the left-hand end of this cell.\n"
   ]
  },
  {
   "cell_type": "markdown",
   "metadata": {},
   "source": [
    "`movie_df['title']` returns a Series containing the values in the 'title' column. The `.unique()` method returns an array of unique values from the Series (see the *02.1 Pandas Dataframes* Notebook):"
   ]
  },
  {
   "cell_type": "code",
   "execution_count": 9,
   "metadata": {},
   "outputs": [
    {
     "data": {
      "text/plain": [
       "10410"
      ]
     },
     "execution_count": 9,
     "metadata": {},
     "output_type": "execute_result"
    }
   ],
   "source": [
    "len(movie_df[\"title\"].unique())"
   ]
  },
  {
   "cell_type": "markdown",
   "metadata": {},
   "source": [
    "In SQL, if we select the `DISTINCT` titles, we can then count them:"
   ]
  },
  {
   "cell_type": "code",
   "execution_count": 10,
   "metadata": {},
   "outputs": [
    {
     "data": {
      "text/html": [
       "<div>\n",
       "<style>\n",
       "    .dataframe thead tr:only-child th {\n",
       "        text-align: right;\n",
       "    }\n",
       "\n",
       "    .dataframe thead th {\n",
       "        text-align: left;\n",
       "    }\n",
       "\n",
       "    .dataframe tbody tr th {\n",
       "        vertical-align: top;\n",
       "    }\n",
       "</style>\n",
       "<table border=\"1\" class=\"dataframe\">\n",
       "  <thead>\n",
       "    <tr style=\"text-align: right;\">\n",
       "      <th></th>\n",
       "      <th>number_of_distinct_titles</th>\n",
       "    </tr>\n",
       "  </thead>\n",
       "  <tbody>\n",
       "    <tr>\n",
       "      <th>0</th>\n",
       "      <td>10410</td>\n",
       "    </tr>\n",
       "  </tbody>\n",
       "</table>\n",
       "</div>"
      ],
      "text/plain": [
       "   number_of_distinct_titles\n",
       "0                      10410"
      ]
     },
     "execution_count": 10,
     "metadata": {},
     "output_type": "execute_result"
    }
   ],
   "source": [
    "pysqldf('''\n",
    "        SELECT COUNT (DISTINCT title) AS number_of_distinct_titles\n",
    "        FROM movie_df\n",
    "        ''')"
   ]
  },
  {
   "cell_type": "markdown",
   "metadata": {},
   "source": [
    "__Related questions:__ *How many uniquely named actors are there? How many uniquely named directors? Countries? Genres?*"
   ]
  },
  {
   "cell_type": "code",
   "execution_count": 17,
   "metadata": {},
   "outputs": [
    {
     "name": "stdout",
     "output_type": "stream",
     "text": [
      "Unique actors: 95187\n",
      "Unique directors: 4052\n",
      "Unique countries: 71\n",
      "Unique genres: 20\n"
     ]
    }
   ],
   "source": [
    "# number of unique actors\n",
    "print(\"Unique actors: {0}\".format(movieActor_df[\"actor_name\"].nunique()))\n",
    "\n",
    "# number of unique directors\n",
    "print(\"Unique directors: {0}\".format(movieDirector_df[\"director_name\"].nunique()))\n",
    "\n",
    "# number of unique countries\n",
    "print(\"Unique countries: {0}\".format(movieCountry_df[\"country\"].nunique()))\n",
    "\n",
    "# number of unique genres\n",
    "print(\"Unique genres: {0}\".format(movieGenre_df[\"genre\"].nunique()))"
   ]
  },
  {
   "cell_type": "markdown",
   "metadata": {},
   "source": [
    "### Exercise 3: The `movie` table - *What release data period does the dataset cover?*"
   ]
  },
  {
   "cell_type": "markdown",
   "metadata": {},
   "source": [
    "\n",
    "This question can be asked by thinking about the range (maximum and minimum) of values in a particular column included in the dataset."
   ]
  },
  {
   "cell_type": "code",
   "execution_count": 26,
   "metadata": {},
   "outputs": [
    {
     "name": "stdout",
     "output_type": "stream",
     "text": [
      "Earliest movie: 1915\n",
      "Newest movie: 2008\n",
      "(1915 - 2008)\n"
     ]
    }
   ],
   "source": [
    "# Enter your query here\n",
    "print(\"Earliest movie: {0}\".format(movie_df['year'].min()))\n",
    "\n",
    "print(\"Newest movie: {}\". format(movie_df['year'].max()))\n",
    "\n",
    "print(\"({0} - {1})\".format(movie_df['year'].min(), movie_df['year'].max()))\n",
    "# movie_df['year'].max() - movie_df['year'].min()"
   ]
  },
  {
   "cell_type": "markdown",
   "metadata": {},
   "source": [
    "#### Our solution\n",
    "\n",
    "To reveal our solution, click on the triangle symbol on the left-hand end of this cell.\n"
   ]
  },
  {
   "cell_type": "markdown",
   "metadata": {},
   "source": [
    "The DataFrame column methods `.min()` and `.max()` return the minimum and maximum of the values in the column specified (see the *04.2 Descriptive statistics in pandas* Notebook):"
   ]
  },
  {
   "cell_type": "code",
   "execution_count": 27,
   "metadata": {},
   "outputs": [
    {
     "data": {
      "text/plain": [
       "(1915, 2008)"
      ]
     },
     "execution_count": 27,
     "metadata": {},
     "output_type": "execute_result"
    }
   ],
   "source": [
    "movie_df['year'].min(), movie_df['year'].max()"
   ]
  },
  {
   "cell_type": "markdown",
   "metadata": {},
   "source": [
    "The SQL `MIN()` and `MAX()` functions will find extreme values in a numerically ranged set of values:"
   ]
  },
  {
   "cell_type": "code",
   "execution_count": 28,
   "metadata": {},
   "outputs": [
    {
     "data": {
      "text/html": [
       "<div>\n",
       "<style>\n",
       "    .dataframe thead tr:only-child th {\n",
       "        text-align: right;\n",
       "    }\n",
       "\n",
       "    .dataframe thead th {\n",
       "        text-align: left;\n",
       "    }\n",
       "\n",
       "    .dataframe tbody tr th {\n",
       "        vertical-align: top;\n",
       "    }\n",
       "</style>\n",
       "<table border=\"1\" class=\"dataframe\">\n",
       "  <thead>\n",
       "    <tr style=\"text-align: right;\">\n",
       "      <th></th>\n",
       "      <th>minimum_year</th>\n",
       "      <th>maximum_year</th>\n",
       "    </tr>\n",
       "  </thead>\n",
       "  <tbody>\n",
       "    <tr>\n",
       "      <th>0</th>\n",
       "      <td>1915</td>\n",
       "      <td>2008</td>\n",
       "    </tr>\n",
       "  </tbody>\n",
       "</table>\n",
       "</div>"
      ],
      "text/plain": [
       "   minimum_year  maximum_year\n",
       "0          1915          2008"
      ]
     },
     "execution_count": 28,
     "metadata": {},
     "output_type": "execute_result"
    }
   ],
   "source": [
    "pysqldf('''\n",
    "        SELECT MIN(year) AS minimum_year, MAX(year) AS maximum_year\n",
    "        FROM movie_df\n",
    "        ''')"
   ]
  },
  {
   "cell_type": "markdown",
   "metadata": {},
   "source": [
    "__Related questions:__ *what are the ranges of values for critics, audience and user ratings?*"
   ]
  },
  {
   "cell_type": "markdown",
   "metadata": {},
   "source": [
    "### Exercise 4: The `movie_genre` table - *How many movies are classified under each genre, sorted according to decreasing count?*"
   ]
  },
  {
   "cell_type": "markdown",
   "metadata": {},
   "source": [
    "\n",
    "This query requires a couple of steps: first, group items into particular sets, and second, count the number of items in each set.\n",
    "\n",
    "When developing your queries, pay particular attention to the range of genres listed. Are there any notable or distinguished values listed there?"
   ]
  },
  {
   "cell_type": "code",
   "execution_count": 29,
   "metadata": {},
   "outputs": [
    {
     "data": {
      "text/plain": [
       "['movie_id', 'genre']"
      ]
     },
     "execution_count": 29,
     "metadata": {},
     "output_type": "execute_result"
    }
   ],
   "source": [
    "# Remind ourselves what columns are available\n",
    "\n",
    "list(movieGenre_df.columns)"
   ]
  },
  {
   "cell_type": "code",
   "execution_count": 39,
   "metadata": {},
   "outputs": [
    {
     "data": {
      "text/plain": [
       "genre\n",
       "Drama                 5339\n",
       "Comedy                3703\n",
       "Thriller              1706\n",
       "Romance               1685\n",
       "Action                1473\n",
       "Crime                 1118\n",
       "Adventure             1025\n",
       "Horror                1013\n",
       "Sci-Fi                 754\n",
       "Fantasy                543\n",
       "Children               528\n",
       "War                    511\n",
       "Mystery                509\n",
       "Documentary            482\n",
       "Musical                436\n",
       "Animation              286\n",
       "Western                275\n",
       "Film-Noir              148\n",
       "IMAX                    29\n",
       "(no genres listed)       1\n",
       "dtype: int64"
      ]
     },
     "execution_count": 39,
     "metadata": {},
     "output_type": "execute_result"
    }
   ],
   "source": [
    "# Enter your query here\n",
    "movieGenre_df.groupby('genre').size().sort_values(ascending=False)"
   ]
  },
  {
   "cell_type": "markdown",
   "metadata": {},
   "source": [
    "#### Our solution\n",
    "\n",
    "To reveal our solution, click on the triangle symbol on the left-hand end of this cell.\n"
   ]
  },
  {
   "cell_type": "markdown",
   "metadata": {},
   "source": [
    "<div class='answer'>There are many different ways of forumulating queries to address this question. For example, we can use <tt>.groupby()</tt> on the `genre` column, and then use <tt>.size()</tt> to find the size of each group. The results can then be sorted in order of decreasing count value:"
   ]
  },
  {
   "cell_type": "code",
   "execution_count": 40,
   "metadata": {},
   "outputs": [
    {
     "data": {
      "text/plain": [
       "genre\n",
       "Drama                 5339\n",
       "Comedy                3703\n",
       "Thriller              1706\n",
       "Romance               1685\n",
       "Action                1473\n",
       "Crime                 1118\n",
       "Adventure             1025\n",
       "Horror                1013\n",
       "Sci-Fi                 754\n",
       "Fantasy                543\n",
       "Children               528\n",
       "War                    511\n",
       "Mystery                509\n",
       "Documentary            482\n",
       "Musical                436\n",
       "Animation              286\n",
       "Western                275\n",
       "Film-Noir              148\n",
       "IMAX                    29\n",
       "(no genres listed)       1\n",
       "dtype: int64"
      ]
     },
     "execution_count": 40,
     "metadata": {},
     "output_type": "execute_result"
    }
   ],
   "source": [
    "movieGenre_df.groupby('genre').size().sort_values(ascending=False)"
   ]
  },
  {
   "cell_type": "markdown",
   "metadata": {},
   "source": [
    "Alternatively, we could generate a pivot table indexed on *genre* and aggregated using a `size` function (as described in the *04.1 Crosstabs and pivot tables* Notebook):"
   ]
  },
  {
   "cell_type": "code",
   "execution_count": 41,
   "metadata": {},
   "outputs": [
    {
     "data": {
      "text/plain": [
       "genre\n",
       "Drama                 5339\n",
       "Comedy                3703\n",
       "Thriller              1706\n",
       "Romance               1685\n",
       "Action                1473\n",
       "Crime                 1118\n",
       "Adventure             1025\n",
       "Horror                1013\n",
       "Sci-Fi                 754\n",
       "Fantasy                543\n",
       "Children               528\n",
       "War                    511\n",
       "Mystery                509\n",
       "Documentary            482\n",
       "Musical                436\n",
       "Animation              286\n",
       "Western                275\n",
       "Film-Noir              148\n",
       "IMAX                    29\n",
       "(no genres listed)       1\n",
       "dtype: int64"
      ]
     },
     "execution_count": 41,
     "metadata": {},
     "output_type": "execute_result"
    }
   ],
   "source": [
    "movieGenre_df.pivot_table(index=['genre'], aggfunc='size').sort_values(ascending=False)"
   ]
  },
  {
   "cell_type": "markdown",
   "metadata": {},
   "source": [
    "In SQL terms, the grouping approach, using `GROUP BY`, is probably the simplest way, ordering the final result by count using `DESC`:"
   ]
  },
  {
   "cell_type": "code",
   "execution_count": 42,
   "metadata": {},
   "outputs": [
    {
     "data": {
      "text/html": [
       "<div>\n",
       "<style>\n",
       "    .dataframe thead tr:only-child th {\n",
       "        text-align: right;\n",
       "    }\n",
       "\n",
       "    .dataframe thead th {\n",
       "        text-align: left;\n",
       "    }\n",
       "\n",
       "    .dataframe tbody tr th {\n",
       "        vertical-align: top;\n",
       "    }\n",
       "</style>\n",
       "<table border=\"1\" class=\"dataframe\">\n",
       "  <thead>\n",
       "    <tr style=\"text-align: right;\">\n",
       "      <th></th>\n",
       "      <th>genre</th>\n",
       "      <th>number_in_genre</th>\n",
       "    </tr>\n",
       "  </thead>\n",
       "  <tbody>\n",
       "    <tr>\n",
       "      <th>0</th>\n",
       "      <td>Drama</td>\n",
       "      <td>5339</td>\n",
       "    </tr>\n",
       "    <tr>\n",
       "      <th>1</th>\n",
       "      <td>Comedy</td>\n",
       "      <td>3703</td>\n",
       "    </tr>\n",
       "    <tr>\n",
       "      <th>2</th>\n",
       "      <td>Thriller</td>\n",
       "      <td>1706</td>\n",
       "    </tr>\n",
       "    <tr>\n",
       "      <th>3</th>\n",
       "      <td>Romance</td>\n",
       "      <td>1685</td>\n",
       "    </tr>\n",
       "    <tr>\n",
       "      <th>4</th>\n",
       "      <td>Action</td>\n",
       "      <td>1473</td>\n",
       "    </tr>\n",
       "    <tr>\n",
       "      <th>5</th>\n",
       "      <td>Crime</td>\n",
       "      <td>1118</td>\n",
       "    </tr>\n",
       "    <tr>\n",
       "      <th>6</th>\n",
       "      <td>Adventure</td>\n",
       "      <td>1025</td>\n",
       "    </tr>\n",
       "    <tr>\n",
       "      <th>7</th>\n",
       "      <td>Horror</td>\n",
       "      <td>1013</td>\n",
       "    </tr>\n",
       "    <tr>\n",
       "      <th>8</th>\n",
       "      <td>Sci-Fi</td>\n",
       "      <td>754</td>\n",
       "    </tr>\n",
       "    <tr>\n",
       "      <th>9</th>\n",
       "      <td>Fantasy</td>\n",
       "      <td>543</td>\n",
       "    </tr>\n",
       "    <tr>\n",
       "      <th>10</th>\n",
       "      <td>Children</td>\n",
       "      <td>528</td>\n",
       "    </tr>\n",
       "    <tr>\n",
       "      <th>11</th>\n",
       "      <td>War</td>\n",
       "      <td>511</td>\n",
       "    </tr>\n",
       "    <tr>\n",
       "      <th>12</th>\n",
       "      <td>Mystery</td>\n",
       "      <td>509</td>\n",
       "    </tr>\n",
       "    <tr>\n",
       "      <th>13</th>\n",
       "      <td>Documentary</td>\n",
       "      <td>482</td>\n",
       "    </tr>\n",
       "    <tr>\n",
       "      <th>14</th>\n",
       "      <td>Musical</td>\n",
       "      <td>436</td>\n",
       "    </tr>\n",
       "    <tr>\n",
       "      <th>15</th>\n",
       "      <td>Animation</td>\n",
       "      <td>286</td>\n",
       "    </tr>\n",
       "    <tr>\n",
       "      <th>16</th>\n",
       "      <td>Western</td>\n",
       "      <td>275</td>\n",
       "    </tr>\n",
       "    <tr>\n",
       "      <th>17</th>\n",
       "      <td>Film-Noir</td>\n",
       "      <td>148</td>\n",
       "    </tr>\n",
       "    <tr>\n",
       "      <th>18</th>\n",
       "      <td>IMAX</td>\n",
       "      <td>29</td>\n",
       "    </tr>\n",
       "    <tr>\n",
       "      <th>19</th>\n",
       "      <td>(no genres listed)</td>\n",
       "      <td>1</td>\n",
       "    </tr>\n",
       "  </tbody>\n",
       "</table>\n",
       "</div>"
      ],
      "text/plain": [
       "                 genre  number_in_genre\n",
       "0                Drama             5339\n",
       "1               Comedy             3703\n",
       "2             Thriller             1706\n",
       "3              Romance             1685\n",
       "4               Action             1473\n",
       "5                Crime             1118\n",
       "6            Adventure             1025\n",
       "7               Horror             1013\n",
       "8               Sci-Fi              754\n",
       "9              Fantasy              543\n",
       "10            Children              528\n",
       "11                 War              511\n",
       "12             Mystery              509\n",
       "13         Documentary              482\n",
       "14             Musical              436\n",
       "15           Animation              286\n",
       "16             Western              275\n",
       "17           Film-Noir              148\n",
       "18                IMAX               29\n",
       "19  (no genres listed)                1"
      ]
     },
     "execution_count": 42,
     "metadata": {},
     "output_type": "execute_result"
    }
   ],
   "source": [
    "pysqldf('''\n",
    "        SELECT genre, COUNT(*) AS number_in_genre \n",
    "        FROM movieGenre_df \n",
    "        GROUP BY genre \n",
    "        ORDER BY number_in_genre DESC\n",
    "        ''')"
   ]
  },
  {
   "cell_type": "markdown",
   "metadata": {},
   "source": [
    "\n",
    "Of the *genre* values, one notable value is the *(no genres listed)* value which explicitly identifies a movie with no associated genres, rather than representing that information with a NULL value or by omitting the particular movie from the table altogether."
   ]
  },
  {
   "cell_type": "markdown",
   "metadata": {},
   "source": [
    "## More complex questions: missing data, and using multiple tables\n",
    "\n",
    "We will now try to answer some questions which seek to identify the number of records with a missing value in a particular column, or that appear in one table but not another. Different strategies may be required to calculate these numbers."
   ]
  },
  {
   "cell_type": "markdown",
   "metadata": {},
   "source": [
    "### Exercise 5: How many movies don't have an audience rating?\n",
    "This query requires us to identify which records are missing a value in a particular column."
   ]
  },
  {
   "cell_type": "code",
   "execution_count": 43,
   "metadata": {},
   "outputs": [
    {
     "data": {
      "text/html": [
       "<div>\n",
       "<style>\n",
       "    .dataframe thead tr:only-child th {\n",
       "        text-align: right;\n",
       "    }\n",
       "\n",
       "    .dataframe thead th {\n",
       "        text-align: left;\n",
       "    }\n",
       "\n",
       "    .dataframe tbody tr th {\n",
       "        vertical-align: top;\n",
       "    }\n",
       "</style>\n",
       "<table border=\"1\" class=\"dataframe\">\n",
       "  <thead>\n",
       "    <tr style=\"text-align: right;\">\n",
       "      <th></th>\n",
       "      <th>movie_id</th>\n",
       "      <th>title</th>\n",
       "      <th>year</th>\n",
       "      <th>rt_all_critics_rating</th>\n",
       "      <th>rt_top_critics_rating</th>\n",
       "      <th>rt_audience_rating</th>\n",
       "      <th>ml_user_rating</th>\n",
       "    </tr>\n",
       "  </thead>\n",
       "  <tbody>\n",
       "    <tr>\n",
       "      <th>0</th>\n",
       "      <td>1</td>\n",
       "      <td>Toy Story</td>\n",
       "      <td>1995</td>\n",
       "      <td>9.0</td>\n",
       "      <td>8.5</td>\n",
       "      <td>3.7</td>\n",
       "      <td>3.9</td>\n",
       "    </tr>\n",
       "    <tr>\n",
       "      <th>1</th>\n",
       "      <td>2</td>\n",
       "      <td>Jumanji</td>\n",
       "      <td>1995</td>\n",
       "      <td>5.6</td>\n",
       "      <td>5.8</td>\n",
       "      <td>3.2</td>\n",
       "      <td>3.2</td>\n",
       "    </tr>\n",
       "    <tr>\n",
       "      <th>2</th>\n",
       "      <td>3</td>\n",
       "      <td>Grumpier Old Men</td>\n",
       "      <td>1995</td>\n",
       "      <td>5.9</td>\n",
       "      <td>7.0</td>\n",
       "      <td>3.2</td>\n",
       "      <td>3.2</td>\n",
       "    </tr>\n",
       "    <tr>\n",
       "      <th>3</th>\n",
       "      <td>4</td>\n",
       "      <td>Waiting to Exhale</td>\n",
       "      <td>1995</td>\n",
       "      <td>5.6</td>\n",
       "      <td>5.5</td>\n",
       "      <td>3.3</td>\n",
       "      <td>2.9</td>\n",
       "    </tr>\n",
       "    <tr>\n",
       "      <th>4</th>\n",
       "      <td>5</td>\n",
       "      <td>Father of the Bride Part II</td>\n",
       "      <td>1995</td>\n",
       "      <td>5.3</td>\n",
       "      <td>5.4</td>\n",
       "      <td>3.0</td>\n",
       "      <td>3.1</td>\n",
       "    </tr>\n",
       "  </tbody>\n",
       "</table>\n",
       "</div>"
      ],
      "text/plain": [
       "   movie_id                        title  year  rt_all_critics_rating  \\\n",
       "0         1                    Toy Story  1995                    9.0   \n",
       "1         2                      Jumanji  1995                    5.6   \n",
       "2         3             Grumpier Old Men  1995                    5.9   \n",
       "3         4            Waiting to Exhale  1995                    5.6   \n",
       "4         5  Father of the Bride Part II  1995                    5.3   \n",
       "\n",
       "   rt_top_critics_rating  rt_audience_rating  ml_user_rating  \n",
       "0                    8.5                 3.7             3.9  \n",
       "1                    5.8                 3.2             3.2  \n",
       "2                    7.0                 3.2             3.2  \n",
       "3                    5.5                 3.3             2.9  \n",
       "4                    5.4                 3.0             3.1  "
      ]
     },
     "execution_count": 43,
     "metadata": {},
     "output_type": "execute_result"
    }
   ],
   "source": [
    "# Start by checking which column of the movie table contains audience ratings:\n",
    "movie_df.head()"
   ]
  },
  {
   "cell_type": "code",
   "execution_count": 46,
   "metadata": {},
   "outputs": [
    {
     "data": {
      "text/plain": [
       "714"
      ]
     },
     "execution_count": 46,
     "metadata": {},
     "output_type": "execute_result"
    }
   ],
   "source": [
    "# Enter your query here\n",
    "len(movie_df[movie_df['rt_audience_rating'].isnull()])"
   ]
  },
  {
   "cell_type": "markdown",
   "metadata": {},
   "source": [
    "#### Our solution\n",
    "\n",
    "To reveal our solution, click on the triangle symbol on the left-hand end of this cell.\n"
   ]
  },
  {
   "cell_type": "markdown",
   "metadata": {},
   "source": [
    "The Series and DataFrame data structures have an <tt>.isnull()</tt> method whch returns a boolean for each element in the Series, which indicates whether the values are null (*03.4 Handling missing data* Notebook). These boolean values can be used to perform a selection on those rows where <tt>.isnull()</tt> returns `True` (see the *03.2 Selecting and projecting, sorting and limiting* Notebook):\n"
   ]
  },
  {
   "cell_type": "code",
   "execution_count": 47,
   "metadata": {},
   "outputs": [
    {
     "data": {
      "text/html": [
       "<div>\n",
       "<style>\n",
       "    .dataframe thead tr:only-child th {\n",
       "        text-align: right;\n",
       "    }\n",
       "\n",
       "    .dataframe thead th {\n",
       "        text-align: left;\n",
       "    }\n",
       "\n",
       "    .dataframe tbody tr th {\n",
       "        vertical-align: top;\n",
       "    }\n",
       "</style>\n",
       "<table border=\"1\" class=\"dataframe\">\n",
       "  <thead>\n",
       "    <tr style=\"text-align: right;\">\n",
       "      <th></th>\n",
       "      <th>movie_id</th>\n",
       "      <th>title</th>\n",
       "      <th>year</th>\n",
       "      <th>rt_all_critics_rating</th>\n",
       "      <th>rt_top_critics_rating</th>\n",
       "      <th>rt_audience_rating</th>\n",
       "      <th>ml_user_rating</th>\n",
       "    </tr>\n",
       "  </thead>\n",
       "  <tbody>\n",
       "    <tr>\n",
       "      <th>50</th>\n",
       "      <td>51</td>\n",
       "      <td>Guardian Angel</td>\n",
       "      <td>1994</td>\n",
       "      <td>NaN</td>\n",
       "      <td>NaN</td>\n",
       "      <td>NaN</td>\n",
       "      <td>2.7</td>\n",
       "    </tr>\n",
       "    <tr>\n",
       "      <th>106</th>\n",
       "      <td>108</td>\n",
       "      <td>Catwalk</td>\n",
       "      <td>1996</td>\n",
       "      <td>NaN</td>\n",
       "      <td>NaN</td>\n",
       "      <td>NaN</td>\n",
       "      <td>3.1</td>\n",
       "    </tr>\n",
       "    <tr>\n",
       "      <th>107</th>\n",
       "      <td>109</td>\n",
       "      <td>Headless Body in Topless Bar</td>\n",
       "      <td>1995</td>\n",
       "      <td>NaN</td>\n",
       "      <td>NaN</td>\n",
       "      <td>NaN</td>\n",
       "      <td>1.5</td>\n",
       "    </tr>\n",
       "    <tr>\n",
       "      <th>125</th>\n",
       "      <td>127</td>\n",
       "      <td>Silence of the Palace, The (Saimt el Qusur)</td>\n",
       "      <td>1994</td>\n",
       "      <td>NaN</td>\n",
       "      <td>NaN</td>\n",
       "      <td>NaN</td>\n",
       "      <td>3.3</td>\n",
       "    </tr>\n",
       "    <tr>\n",
       "      <th>131</th>\n",
       "      <td>133</td>\n",
       "      <td>Nueba Yol</td>\n",
       "      <td>1995</td>\n",
       "      <td>NaN</td>\n",
       "      <td>NaN</td>\n",
       "      <td>NaN</td>\n",
       "      <td>2.8</td>\n",
       "    </tr>\n",
       "    <tr>\n",
       "      <th>136</th>\n",
       "      <td>138</td>\n",
       "      <td>Neon Bible, The</td>\n",
       "      <td>1995</td>\n",
       "      <td>NaN</td>\n",
       "      <td>NaN</td>\n",
       "      <td>NaN</td>\n",
       "      <td>3.2</td>\n",
       "    </tr>\n",
       "    <tr>\n",
       "      <th>140</th>\n",
       "      <td>142</td>\n",
       "      <td>Shadows (Cienie)</td>\n",
       "      <td>1988</td>\n",
       "      <td>NaN</td>\n",
       "      <td>NaN</td>\n",
       "      <td>NaN</td>\n",
       "      <td>2.9</td>\n",
       "    </tr>\n",
       "    <tr>\n",
       "      <th>141</th>\n",
       "      <td>143</td>\n",
       "      <td>Gospa</td>\n",
       "      <td>1995</td>\n",
       "      <td>NaN</td>\n",
       "      <td>NaN</td>\n",
       "      <td>NaN</td>\n",
       "      <td>2.3</td>\n",
       "    </tr>\n",
       "    <tr>\n",
       "      <th>190</th>\n",
       "      <td>192</td>\n",
       "      <td>Show, The</td>\n",
       "      <td>1995</td>\n",
       "      <td>NaN</td>\n",
       "      <td>NaN</td>\n",
       "      <td>NaN</td>\n",
       "      <td>3.0</td>\n",
       "    </tr>\n",
       "    <tr>\n",
       "      <th>208</th>\n",
       "      <td>210</td>\n",
       "      <td>Wild Bill</td>\n",
       "      <td>1995</td>\n",
       "      <td>NaN</td>\n",
       "      <td>NaN</td>\n",
       "      <td>NaN</td>\n",
       "      <td>2.9</td>\n",
       "    </tr>\n",
       "    <tr>\n",
       "      <th>308</th>\n",
       "      <td>311</td>\n",
       "      <td>Relative Fear</td>\n",
       "      <td>1994</td>\n",
       "      <td>NaN</td>\n",
       "      <td>NaN</td>\n",
       "      <td>NaN</td>\n",
       "      <td>2.5</td>\n",
       "    </tr>\n",
       "    <tr>\n",
       "      <th>356</th>\n",
       "      <td>360</td>\n",
       "      <td>I Love Trouble</td>\n",
       "      <td>1994</td>\n",
       "      <td>NaN</td>\n",
       "      <td>NaN</td>\n",
       "      <td>NaN</td>\n",
       "      <td>2.7</td>\n",
       "    </tr>\n",
       "    <tr>\n",
       "      <th>395</th>\n",
       "      <td>399</td>\n",
       "      <td>Girl in the Cadillac</td>\n",
       "      <td>1995</td>\n",
       "      <td>NaN</td>\n",
       "      <td>NaN</td>\n",
       "      <td>NaN</td>\n",
       "      <td>2.2</td>\n",
       "    </tr>\n",
       "    <tr>\n",
       "      <th>396</th>\n",
       "      <td>400</td>\n",
       "      <td>Homage</td>\n",
       "      <td>1995</td>\n",
       "      <td>NaN</td>\n",
       "      <td>NaN</td>\n",
       "      <td>NaN</td>\n",
       "      <td>2.7</td>\n",
       "    </tr>\n",
       "    <tr>\n",
       "      <th>399</th>\n",
       "      <td>403</td>\n",
       "      <td>Two Crimes (Dos crimenes)</td>\n",
       "      <td>1995</td>\n",
       "      <td>NaN</td>\n",
       "      <td>NaN</td>\n",
       "      <td>NaN</td>\n",
       "      <td>2.1</td>\n",
       "    </tr>\n",
       "    <tr>\n",
       "      <th>407</th>\n",
       "      <td>411</td>\n",
       "      <td>You So Crazy</td>\n",
       "      <td>1994</td>\n",
       "      <td>NaN</td>\n",
       "      <td>NaN</td>\n",
       "      <td>NaN</td>\n",
       "      <td>2.8</td>\n",
       "    </tr>\n",
       "    <tr>\n",
       "      <th>408</th>\n",
       "      <td>412</td>\n",
       "      <td>Age of Innocence, The</td>\n",
       "      <td>1993</td>\n",
       "      <td>NaN</td>\n",
       "      <td>NaN</td>\n",
       "      <td>NaN</td>\n",
       "      <td>3.5</td>\n",
       "    </tr>\n",
       "    <tr>\n",
       "      <th>414</th>\n",
       "      <td>418</td>\n",
       "      <td>Being Human</td>\n",
       "      <td>1993</td>\n",
       "      <td>NaN</td>\n",
       "      <td>NaN</td>\n",
       "      <td>NaN</td>\n",
       "      <td>2.7</td>\n",
       "    </tr>\n",
       "    <tr>\n",
       "      <th>418</th>\n",
       "      <td>422</td>\n",
       "      <td>Blink</td>\n",
       "      <td>1994</td>\n",
       "      <td>NaN</td>\n",
       "      <td>NaN</td>\n",
       "      <td>NaN</td>\n",
       "      <td>3.2</td>\n",
       "    </tr>\n",
       "    <tr>\n",
       "      <th>435</th>\n",
       "      <td>439</td>\n",
       "      <td>Dangerous Game</td>\n",
       "      <td>1993</td>\n",
       "      <td>NaN</td>\n",
       "      <td>NaN</td>\n",
       "      <td>NaN</td>\n",
       "      <td>2.6</td>\n",
       "    </tr>\n",
       "    <tr>\n",
       "      <th>449</th>\n",
       "      <td>453</td>\n",
       "      <td>For Love or Money</td>\n",
       "      <td>1993</td>\n",
       "      <td>NaN</td>\n",
       "      <td>NaN</td>\n",
       "      <td>NaN</td>\n",
       "      <td>3.1</td>\n",
       "    </tr>\n",
       "    <tr>\n",
       "      <th>542</th>\n",
       "      <td>546</td>\n",
       "      <td>Super Mario Bros.</td>\n",
       "      <td>1993</td>\n",
       "      <td>NaN</td>\n",
       "      <td>NaN</td>\n",
       "      <td>NaN</td>\n",
       "      <td>2.0</td>\n",
       "    </tr>\n",
       "    <tr>\n",
       "      <th>550</th>\n",
       "      <td>554</td>\n",
       "      <td>Trial by Jury</td>\n",
       "      <td>1994</td>\n",
       "      <td>NaN</td>\n",
       "      <td>NaN</td>\n",
       "      <td>NaN</td>\n",
       "      <td>3.0</td>\n",
       "    </tr>\n",
       "    <tr>\n",
       "      <th>571</th>\n",
       "      <td>576</td>\n",
       "      <td>Fausto</td>\n",
       "      <td>1993</td>\n",
       "      <td>NaN</td>\n",
       "      <td>NaN</td>\n",
       "      <td>NaN</td>\n",
       "      <td>2.4</td>\n",
       "    </tr>\n",
       "    <tr>\n",
       "      <th>578</th>\n",
       "      <td>584</td>\n",
       "      <td>I Don't Want to Talk About It (De eso no se ha...</td>\n",
       "      <td>1993</td>\n",
       "      <td>NaN</td>\n",
       "      <td>NaN</td>\n",
       "      <td>NaN</td>\n",
       "      <td>3.2</td>\n",
       "    </tr>\n",
       "    <tr>\n",
       "      <th>582</th>\n",
       "      <td>588</td>\n",
       "      <td>Aladdin</td>\n",
       "      <td>1992</td>\n",
       "      <td>NaN</td>\n",
       "      <td>NaN</td>\n",
       "      <td>NaN</td>\n",
       "      <td>3.7</td>\n",
       "    </tr>\n",
       "    <tr>\n",
       "      <th>585</th>\n",
       "      <td>591</td>\n",
       "      <td>Tough and Deadly</td>\n",
       "      <td>1995</td>\n",
       "      <td>NaN</td>\n",
       "      <td>NaN</td>\n",
       "      <td>NaN</td>\n",
       "      <td>2.2</td>\n",
       "    </tr>\n",
       "    <tr>\n",
       "      <th>595</th>\n",
       "      <td>601</td>\n",
       "      <td>Wooden Man's Bride, The (Yan shen)</td>\n",
       "      <td>1994</td>\n",
       "      <td>NaN</td>\n",
       "      <td>NaN</td>\n",
       "      <td>NaN</td>\n",
       "      <td>3.4</td>\n",
       "    </tr>\n",
       "    <tr>\n",
       "      <th>598</th>\n",
       "      <td>604</td>\n",
       "      <td>Criminals</td>\n",
       "      <td>1996</td>\n",
       "      <td>NaN</td>\n",
       "      <td>NaN</td>\n",
       "      <td>NaN</td>\n",
       "      <td>1.8</td>\n",
       "    </tr>\n",
       "    <tr>\n",
       "      <th>601</th>\n",
       "      <td>607</td>\n",
       "      <td>Century</td>\n",
       "      <td>1993</td>\n",
       "      <td>NaN</td>\n",
       "      <td>NaN</td>\n",
       "      <td>NaN</td>\n",
       "      <td>2.6</td>\n",
       "    </tr>\n",
       "    <tr>\n",
       "      <th>...</th>\n",
       "      <td>...</td>\n",
       "      <td>...</td>\n",
       "      <td>...</td>\n",
       "      <td>...</td>\n",
       "      <td>...</td>\n",
       "      <td>...</td>\n",
       "      <td>...</td>\n",
       "    </tr>\n",
       "    <tr>\n",
       "      <th>10593</th>\n",
       "      <td>63840</td>\n",
       "      <td>Kanak Attack</td>\n",
       "      <td>2000</td>\n",
       "      <td>NaN</td>\n",
       "      <td>NaN</td>\n",
       "      <td>NaN</td>\n",
       "      <td>4.0</td>\n",
       "    </tr>\n",
       "    <tr>\n",
       "      <th>10596</th>\n",
       "      <td>63862</td>\n",
       "      <td>Revenge of the Zombies</td>\n",
       "      <td>1943</td>\n",
       "      <td>NaN</td>\n",
       "      <td>NaN</td>\n",
       "      <td>NaN</td>\n",
       "      <td>2.3</td>\n",
       "    </tr>\n",
       "    <tr>\n",
       "      <th>10605</th>\n",
       "      <td>64153</td>\n",
       "      <td>Devil's Chair, The</td>\n",
       "      <td>2006</td>\n",
       "      <td>NaN</td>\n",
       "      <td>NaN</td>\n",
       "      <td>NaN</td>\n",
       "      <td>2.5</td>\n",
       "    </tr>\n",
       "    <tr>\n",
       "      <th>10606</th>\n",
       "      <td>64197</td>\n",
       "      <td>Hunger</td>\n",
       "      <td>2008</td>\n",
       "      <td>NaN</td>\n",
       "      <td>NaN</td>\n",
       "      <td>NaN</td>\n",
       "      <td>3.8</td>\n",
       "    </tr>\n",
       "    <tr>\n",
       "      <th>10609</th>\n",
       "      <td>64234</td>\n",
       "      <td>Guyver, The</td>\n",
       "      <td>1991</td>\n",
       "      <td>NaN</td>\n",
       "      <td>NaN</td>\n",
       "      <td>NaN</td>\n",
       "      <td>2.0</td>\n",
       "    </tr>\n",
       "    <tr>\n",
       "      <th>10610</th>\n",
       "      <td>64243</td>\n",
       "      <td>Lady with the Dog, The (Dama s sobachkoy)</td>\n",
       "      <td>1960</td>\n",
       "      <td>NaN</td>\n",
       "      <td>NaN</td>\n",
       "      <td>NaN</td>\n",
       "      <td>3.5</td>\n",
       "    </tr>\n",
       "    <tr>\n",
       "      <th>10614</th>\n",
       "      <td>64275</td>\n",
       "      <td>Blue Light, The (Das Blaue Licht)</td>\n",
       "      <td>1932</td>\n",
       "      <td>NaN</td>\n",
       "      <td>NaN</td>\n",
       "      <td>NaN</td>\n",
       "      <td>5.0</td>\n",
       "    </tr>\n",
       "    <tr>\n",
       "      <th>10617</th>\n",
       "      <td>64283</td>\n",
       "      <td>Women of the Night (Yoru no onnatachi)</td>\n",
       "      <td>1948</td>\n",
       "      <td>NaN</td>\n",
       "      <td>NaN</td>\n",
       "      <td>NaN</td>\n",
       "      <td>3.5</td>\n",
       "    </tr>\n",
       "    <tr>\n",
       "      <th>10619</th>\n",
       "      <td>64288</td>\n",
       "      <td>Ace of Hearts</td>\n",
       "      <td>2008</td>\n",
       "      <td>NaN</td>\n",
       "      <td>NaN</td>\n",
       "      <td>NaN</td>\n",
       "      <td>2.0</td>\n",
       "    </tr>\n",
       "    <tr>\n",
       "      <th>10620</th>\n",
       "      <td>64321</td>\n",
       "      <td>Friend of Mine, A (Ein Freund von mir)</td>\n",
       "      <td>2006</td>\n",
       "      <td>NaN</td>\n",
       "      <td>NaN</td>\n",
       "      <td>NaN</td>\n",
       "      <td>3.8</td>\n",
       "    </tr>\n",
       "    <tr>\n",
       "      <th>10621</th>\n",
       "      <td>64325</td>\n",
       "      <td>Long Night, The</td>\n",
       "      <td>1947</td>\n",
       "      <td>NaN</td>\n",
       "      <td>NaN</td>\n",
       "      <td>NaN</td>\n",
       "      <td>3.0</td>\n",
       "    </tr>\n",
       "    <tr>\n",
       "      <th>10622</th>\n",
       "      <td>64327</td>\n",
       "      <td>Fools' Parade</td>\n",
       "      <td>1971</td>\n",
       "      <td>NaN</td>\n",
       "      <td>NaN</td>\n",
       "      <td>NaN</td>\n",
       "      <td>3.0</td>\n",
       "    </tr>\n",
       "    <tr>\n",
       "      <th>10624</th>\n",
       "      <td>64365</td>\n",
       "      <td>Malaya</td>\n",
       "      <td>1949</td>\n",
       "      <td>NaN</td>\n",
       "      <td>NaN</td>\n",
       "      <td>NaN</td>\n",
       "      <td>3.0</td>\n",
       "    </tr>\n",
       "    <tr>\n",
       "      <th>10626</th>\n",
       "      <td>64408</td>\n",
       "      <td>Sun Shines Bright, The</td>\n",
       "      <td>1953</td>\n",
       "      <td>NaN</td>\n",
       "      <td>NaN</td>\n",
       "      <td>NaN</td>\n",
       "      <td>4.3</td>\n",
       "    </tr>\n",
       "    <tr>\n",
       "      <th>10627</th>\n",
       "      <td>64410</td>\n",
       "      <td>Four Men and a Prayer</td>\n",
       "      <td>1938</td>\n",
       "      <td>NaN</td>\n",
       "      <td>NaN</td>\n",
       "      <td>NaN</td>\n",
       "      <td>3.3</td>\n",
       "    </tr>\n",
       "    <tr>\n",
       "      <th>10629</th>\n",
       "      <td>64427</td>\n",
       "      <td>Much Ado About Something</td>\n",
       "      <td>2001</td>\n",
       "      <td>NaN</td>\n",
       "      <td>NaN</td>\n",
       "      <td>NaN</td>\n",
       "      <td>4.0</td>\n",
       "    </tr>\n",
       "    <tr>\n",
       "      <th>10635</th>\n",
       "      <td>64550</td>\n",
       "      <td>The Strange Door</td>\n",
       "      <td>1951</td>\n",
       "      <td>NaN</td>\n",
       "      <td>NaN</td>\n",
       "      <td>NaN</td>\n",
       "      <td>2.5</td>\n",
       "    </tr>\n",
       "    <tr>\n",
       "      <th>10641</th>\n",
       "      <td>64652</td>\n",
       "      <td>Delgo</td>\n",
       "      <td>2008</td>\n",
       "      <td>NaN</td>\n",
       "      <td>NaN</td>\n",
       "      <td>NaN</td>\n",
       "      <td>2.0</td>\n",
       "    </tr>\n",
       "    <tr>\n",
       "      <th>10645</th>\n",
       "      <td>64754</td>\n",
       "      <td>Love</td>\n",
       "      <td>2005</td>\n",
       "      <td>NaN</td>\n",
       "      <td>NaN</td>\n",
       "      <td>NaN</td>\n",
       "      <td>3.5</td>\n",
       "    </tr>\n",
       "    <tr>\n",
       "      <th>10647</th>\n",
       "      <td>64895</td>\n",
       "      <td>Little Giant, The</td>\n",
       "      <td>1933</td>\n",
       "      <td>NaN</td>\n",
       "      <td>NaN</td>\n",
       "      <td>NaN</td>\n",
       "      <td>3.3</td>\n",
       "    </tr>\n",
       "    <tr>\n",
       "      <th>10648</th>\n",
       "      <td>64897</td>\n",
       "      <td>Mr. Wu</td>\n",
       "      <td>1927</td>\n",
       "      <td>NaN</td>\n",
       "      <td>NaN</td>\n",
       "      <td>NaN</td>\n",
       "      <td>3.0</td>\n",
       "    </tr>\n",
       "    <tr>\n",
       "      <th>10650</th>\n",
       "      <td>64903</td>\n",
       "      <td>Nazis Strike, The (Why We Fight, 2)</td>\n",
       "      <td>1943</td>\n",
       "      <td>NaN</td>\n",
       "      <td>NaN</td>\n",
       "      <td>NaN</td>\n",
       "      <td>3.3</td>\n",
       "    </tr>\n",
       "    <tr>\n",
       "      <th>10654</th>\n",
       "      <td>64923</td>\n",
       "      <td>Blackbird, The</td>\n",
       "      <td>1926</td>\n",
       "      <td>NaN</td>\n",
       "      <td>NaN</td>\n",
       "      <td>NaN</td>\n",
       "      <td>3.0</td>\n",
       "    </tr>\n",
       "    <tr>\n",
       "      <th>10655</th>\n",
       "      <td>64926</td>\n",
       "      <td>Battle of Russia, The (Why We Fight, 5)</td>\n",
       "      <td>1943</td>\n",
       "      <td>NaN</td>\n",
       "      <td>NaN</td>\n",
       "      <td>NaN</td>\n",
       "      <td>3.5</td>\n",
       "    </tr>\n",
       "    <tr>\n",
       "      <th>10658</th>\n",
       "      <td>64944</td>\n",
       "      <td>Face of a Fugitive</td>\n",
       "      <td>1959</td>\n",
       "      <td>NaN</td>\n",
       "      <td>NaN</td>\n",
       "      <td>NaN</td>\n",
       "      <td>3.0</td>\n",
       "    </tr>\n",
       "    <tr>\n",
       "      <th>10659</th>\n",
       "      <td>64953</td>\n",
       "      <td>Dirty Dozen, The: The Fatal Mission</td>\n",
       "      <td>1988</td>\n",
       "      <td>NaN</td>\n",
       "      <td>NaN</td>\n",
       "      <td>NaN</td>\n",
       "      <td>3.5</td>\n",
       "    </tr>\n",
       "    <tr>\n",
       "      <th>10661</th>\n",
       "      <td>64959</td>\n",
       "      <td>Divide and Conquer (Why We Fight, 3)</td>\n",
       "      <td>1943</td>\n",
       "      <td>NaN</td>\n",
       "      <td>NaN</td>\n",
       "      <td>NaN</td>\n",
       "      <td>NaN</td>\n",
       "    </tr>\n",
       "    <tr>\n",
       "      <th>10670</th>\n",
       "      <td>65001</td>\n",
       "      <td>Constantine's Sword</td>\n",
       "      <td>2007</td>\n",
       "      <td>NaN</td>\n",
       "      <td>NaN</td>\n",
       "      <td>NaN</td>\n",
       "      <td>4.8</td>\n",
       "    </tr>\n",
       "    <tr>\n",
       "      <th>10673</th>\n",
       "      <td>65025</td>\n",
       "      <td>Double Dynamite</td>\n",
       "      <td>1951</td>\n",
       "      <td>NaN</td>\n",
       "      <td>NaN</td>\n",
       "      <td>NaN</td>\n",
       "      <td>2.0</td>\n",
       "    </tr>\n",
       "    <tr>\n",
       "      <th>10674</th>\n",
       "      <td>65027</td>\n",
       "      <td>Death Kiss, The</td>\n",
       "      <td>1933</td>\n",
       "      <td>NaN</td>\n",
       "      <td>NaN</td>\n",
       "      <td>NaN</td>\n",
       "      <td>2.5</td>\n",
       "    </tr>\n",
       "  </tbody>\n",
       "</table>\n",
       "<p>714 rows × 7 columns</p>\n",
       "</div>"
      ],
      "text/plain": [
       "       movie_id                                              title  year  \\\n",
       "50           51                                     Guardian Angel  1994   \n",
       "106         108                                            Catwalk  1996   \n",
       "107         109                       Headless Body in Topless Bar  1995   \n",
       "125         127        Silence of the Palace, The (Saimt el Qusur)  1994   \n",
       "131         133                                          Nueba Yol  1995   \n",
       "136         138                                    Neon Bible, The  1995   \n",
       "140         142                                   Shadows (Cienie)  1988   \n",
       "141         143                                              Gospa  1995   \n",
       "190         192                                          Show, The  1995   \n",
       "208         210                                          Wild Bill  1995   \n",
       "308         311                                      Relative Fear  1994   \n",
       "356         360                                     I Love Trouble  1994   \n",
       "395         399                               Girl in the Cadillac  1995   \n",
       "396         400                                             Homage  1995   \n",
       "399         403                          Two Crimes (Dos crimenes)  1995   \n",
       "407         411                                       You So Crazy  1994   \n",
       "408         412                              Age of Innocence, The  1993   \n",
       "414         418                                        Being Human  1993   \n",
       "418         422                                              Blink  1994   \n",
       "435         439                                     Dangerous Game  1993   \n",
       "449         453                                  For Love or Money  1993   \n",
       "542         546                                  Super Mario Bros.  1993   \n",
       "550         554                                      Trial by Jury  1994   \n",
       "571         576                                             Fausto  1993   \n",
       "578         584  I Don't Want to Talk About It (De eso no se ha...  1993   \n",
       "582         588                                            Aladdin  1992   \n",
       "585         591                                   Tough and Deadly  1995   \n",
       "595         601                 Wooden Man's Bride, The (Yan shen)  1994   \n",
       "598         604                                          Criminals  1996   \n",
       "601         607                                            Century  1993   \n",
       "...         ...                                                ...   ...   \n",
       "10593     63840                                       Kanak Attack  2000   \n",
       "10596     63862                             Revenge of the Zombies  1943   \n",
       "10605     64153                                 Devil's Chair, The  2006   \n",
       "10606     64197                                             Hunger  2008   \n",
       "10609     64234                                        Guyver, The  1991   \n",
       "10610     64243          Lady with the Dog, The (Dama s sobachkoy)  1960   \n",
       "10614     64275                  Blue Light, The (Das Blaue Licht)  1932   \n",
       "10617     64283             Women of the Night (Yoru no onnatachi)  1948   \n",
       "10619     64288                                      Ace of Hearts  2008   \n",
       "10620     64321             Friend of Mine, A (Ein Freund von mir)  2006   \n",
       "10621     64325                                    Long Night, The  1947   \n",
       "10622     64327                                      Fools' Parade  1971   \n",
       "10624     64365                                             Malaya  1949   \n",
       "10626     64408                             Sun Shines Bright, The  1953   \n",
       "10627     64410                              Four Men and a Prayer  1938   \n",
       "10629     64427                           Much Ado About Something  2001   \n",
       "10635     64550                                   The Strange Door  1951   \n",
       "10641     64652                                              Delgo  2008   \n",
       "10645     64754                                               Love  2005   \n",
       "10647     64895                                  Little Giant, The  1933   \n",
       "10648     64897                                             Mr. Wu  1927   \n",
       "10650     64903                Nazis Strike, The (Why We Fight, 2)  1943   \n",
       "10654     64923                                     Blackbird, The  1926   \n",
       "10655     64926            Battle of Russia, The (Why We Fight, 5)  1943   \n",
       "10658     64944                                 Face of a Fugitive  1959   \n",
       "10659     64953                Dirty Dozen, The: The Fatal Mission  1988   \n",
       "10661     64959               Divide and Conquer (Why We Fight, 3)  1943   \n",
       "10670     65001                                Constantine's Sword  2007   \n",
       "10673     65025                                    Double Dynamite  1951   \n",
       "10674     65027                                    Death Kiss, The  1933   \n",
       "\n",
       "       rt_all_critics_rating  rt_top_critics_rating  rt_audience_rating  \\\n",
       "50                       NaN                    NaN                 NaN   \n",
       "106                      NaN                    NaN                 NaN   \n",
       "107                      NaN                    NaN                 NaN   \n",
       "125                      NaN                    NaN                 NaN   \n",
       "131                      NaN                    NaN                 NaN   \n",
       "136                      NaN                    NaN                 NaN   \n",
       "140                      NaN                    NaN                 NaN   \n",
       "141                      NaN                    NaN                 NaN   \n",
       "190                      NaN                    NaN                 NaN   \n",
       "208                      NaN                    NaN                 NaN   \n",
       "308                      NaN                    NaN                 NaN   \n",
       "356                      NaN                    NaN                 NaN   \n",
       "395                      NaN                    NaN                 NaN   \n",
       "396                      NaN                    NaN                 NaN   \n",
       "399                      NaN                    NaN                 NaN   \n",
       "407                      NaN                    NaN                 NaN   \n",
       "408                      NaN                    NaN                 NaN   \n",
       "414                      NaN                    NaN                 NaN   \n",
       "418                      NaN                    NaN                 NaN   \n",
       "435                      NaN                    NaN                 NaN   \n",
       "449                      NaN                    NaN                 NaN   \n",
       "542                      NaN                    NaN                 NaN   \n",
       "550                      NaN                    NaN                 NaN   \n",
       "571                      NaN                    NaN                 NaN   \n",
       "578                      NaN                    NaN                 NaN   \n",
       "582                      NaN                    NaN                 NaN   \n",
       "585                      NaN                    NaN                 NaN   \n",
       "595                      NaN                    NaN                 NaN   \n",
       "598                      NaN                    NaN                 NaN   \n",
       "601                      NaN                    NaN                 NaN   \n",
       "...                      ...                    ...                 ...   \n",
       "10593                    NaN                    NaN                 NaN   \n",
       "10596                    NaN                    NaN                 NaN   \n",
       "10605                    NaN                    NaN                 NaN   \n",
       "10606                    NaN                    NaN                 NaN   \n",
       "10609                    NaN                    NaN                 NaN   \n",
       "10610                    NaN                    NaN                 NaN   \n",
       "10614                    NaN                    NaN                 NaN   \n",
       "10617                    NaN                    NaN                 NaN   \n",
       "10619                    NaN                    NaN                 NaN   \n",
       "10620                    NaN                    NaN                 NaN   \n",
       "10621                    NaN                    NaN                 NaN   \n",
       "10622                    NaN                    NaN                 NaN   \n",
       "10624                    NaN                    NaN                 NaN   \n",
       "10626                    NaN                    NaN                 NaN   \n",
       "10627                    NaN                    NaN                 NaN   \n",
       "10629                    NaN                    NaN                 NaN   \n",
       "10635                    NaN                    NaN                 NaN   \n",
       "10641                    NaN                    NaN                 NaN   \n",
       "10645                    NaN                    NaN                 NaN   \n",
       "10647                    NaN                    NaN                 NaN   \n",
       "10648                    NaN                    NaN                 NaN   \n",
       "10650                    NaN                    NaN                 NaN   \n",
       "10654                    NaN                    NaN                 NaN   \n",
       "10655                    NaN                    NaN                 NaN   \n",
       "10658                    NaN                    NaN                 NaN   \n",
       "10659                    NaN                    NaN                 NaN   \n",
       "10661                    NaN                    NaN                 NaN   \n",
       "10670                    NaN                    NaN                 NaN   \n",
       "10673                    NaN                    NaN                 NaN   \n",
       "10674                    NaN                    NaN                 NaN   \n",
       "\n",
       "       ml_user_rating  \n",
       "50                2.7  \n",
       "106               3.1  \n",
       "107               1.5  \n",
       "125               3.3  \n",
       "131               2.8  \n",
       "136               3.2  \n",
       "140               2.9  \n",
       "141               2.3  \n",
       "190               3.0  \n",
       "208               2.9  \n",
       "308               2.5  \n",
       "356               2.7  \n",
       "395               2.2  \n",
       "396               2.7  \n",
       "399               2.1  \n",
       "407               2.8  \n",
       "408               3.5  \n",
       "414               2.7  \n",
       "418               3.2  \n",
       "435               2.6  \n",
       "449               3.1  \n",
       "542               2.0  \n",
       "550               3.0  \n",
       "571               2.4  \n",
       "578               3.2  \n",
       "582               3.7  \n",
       "585               2.2  \n",
       "595               3.4  \n",
       "598               1.8  \n",
       "601               2.6  \n",
       "...               ...  \n",
       "10593             4.0  \n",
       "10596             2.3  \n",
       "10605             2.5  \n",
       "10606             3.8  \n",
       "10609             2.0  \n",
       "10610             3.5  \n",
       "10614             5.0  \n",
       "10617             3.5  \n",
       "10619             2.0  \n",
       "10620             3.8  \n",
       "10621             3.0  \n",
       "10622             3.0  \n",
       "10624             3.0  \n",
       "10626             4.3  \n",
       "10627             3.3  \n",
       "10629             4.0  \n",
       "10635             2.5  \n",
       "10641             2.0  \n",
       "10645             3.5  \n",
       "10647             3.3  \n",
       "10648             3.0  \n",
       "10650             3.3  \n",
       "10654             3.0  \n",
       "10655             3.5  \n",
       "10658             3.0  \n",
       "10659             3.5  \n",
       "10661             NaN  \n",
       "10670             4.8  \n",
       "10673             2.0  \n",
       "10674             2.5  \n",
       "\n",
       "[714 rows x 7 columns]"
      ]
     },
     "execution_count": 47,
     "metadata": {},
     "output_type": "execute_result"
    }
   ],
   "source": [
    "movie_df[movie_df['rt_audience_rating'].isnull()]"
   ]
  },
  {
   "cell_type": "markdown",
   "metadata": {},
   "source": [
    "We can then use the `len()` function to count the number of such movies:"
   ]
  },
  {
   "cell_type": "code",
   "execution_count": 48,
   "metadata": {},
   "outputs": [
    {
     "data": {
      "text/plain": [
       "714"
      ]
     },
     "execution_count": 48,
     "metadata": {},
     "output_type": "execute_result"
    }
   ],
   "source": [
    "len(movie_df[movie_df['rt_audience_rating'].isnull()])"
   ]
  },
  {
   "cell_type": "markdown",
   "metadata": {},
   "source": [
    "In SQL, we can select rows where a specified column value contains NULL:"
   ]
  },
  {
   "cell_type": "code",
   "execution_count": 49,
   "metadata": {},
   "outputs": [
    {
     "data": {
      "text/html": [
       "<div>\n",
       "<style>\n",
       "    .dataframe thead tr:only-child th {\n",
       "        text-align: right;\n",
       "    }\n",
       "\n",
       "    .dataframe thead th {\n",
       "        text-align: left;\n",
       "    }\n",
       "\n",
       "    .dataframe tbody tr th {\n",
       "        vertical-align: top;\n",
       "    }\n",
       "</style>\n",
       "<table border=\"1\" class=\"dataframe\">\n",
       "  <thead>\n",
       "    <tr style=\"text-align: right;\">\n",
       "      <th></th>\n",
       "      <th>number_of_movies</th>\n",
       "    </tr>\n",
       "  </thead>\n",
       "  <tbody>\n",
       "    <tr>\n",
       "      <th>0</th>\n",
       "      <td>714</td>\n",
       "    </tr>\n",
       "  </tbody>\n",
       "</table>\n",
       "</div>"
      ],
      "text/plain": [
       "   number_of_movies\n",
       "0               714"
      ]
     },
     "execution_count": 49,
     "metadata": {},
     "output_type": "execute_result"
    }
   ],
   "source": [
    "pysqldf('''\n",
    "        SELECT COUNT(*) AS number_of_movies\n",
    "        FROM movie_df\n",
    "        WHERE rt_audience_rating IS NULL\n",
    "        ''')"
   ]
  },
  {
   "cell_type": "markdown",
   "metadata": {},
   "source": [
    "### Exercise 6: How many movies don't have a country listed?\n",
    "\n",
    "This question requires us to compare the number of records that appear in one table (which we might exepct to contain a complete set records) compared to another."
   ]
  },
  {
   "cell_type": "code",
   "execution_count": 50,
   "metadata": {},
   "outputs": [
    {
     "data": {
      "text/plain": [
       "['movie_id',\n",
       " 'title',\n",
       " 'year',\n",
       " 'rt_all_critics_rating',\n",
       " 'rt_top_critics_rating',\n",
       " 'rt_audience_rating',\n",
       " 'ml_user_rating']"
      ]
     },
     "execution_count": 50,
     "metadata": {},
     "output_type": "execute_result"
    }
   ],
   "source": [
    "# Remind ourselves what columns are available in the two tables:\n",
    "list(movie_df.columns)"
   ]
  },
  {
   "cell_type": "code",
   "execution_count": 51,
   "metadata": {},
   "outputs": [
    {
     "data": {
      "text/plain": [
       "['movie_id', 'country']"
      ]
     },
     "execution_count": 51,
     "metadata": {},
     "output_type": "execute_result"
    }
   ],
   "source": [
    "list(movieCountry_df.columns)"
   ]
  },
  {
   "cell_type": "code",
   "execution_count": 56,
   "metadata": {},
   "outputs": [
    {
     "data": {
      "text/plain": [
       "484"
      ]
     },
     "execution_count": 56,
     "metadata": {},
     "output_type": "execute_result"
    }
   ],
   "source": [
    "# Enter your query here\n",
    "\n",
    "# assuming that both tables are complete\n",
    "# find the difference compare lengths of both movie_id\n",
    "len(movie_df['movie_id']) - len(movieCountry_df['movie_id'])"
   ]
  },
  {
   "cell_type": "code",
   "execution_count": 57,
   "metadata": {},
   "outputs": [
    {
     "data": {
      "text/plain": [
       "484"
      ]
     },
     "execution_count": 57,
     "metadata": {},
     "output_type": "execute_result"
    }
   ],
   "source": [
    "# better approach\n",
    "len( set(movie_df['movie_id']).difference(set(movieCountry_df['movie_id'])) )"
   ]
  },
  {
   "cell_type": "markdown",
   "metadata": {},
   "source": [
    "#### Our solution\n",
    "\n",
    "To reveal our solution, click on the triangle symbol on the left-hand end of this cell.\n"
   ]
  },
  {
   "cell_type": "markdown",
   "metadata": {},
   "source": [
    "If we assume that the `movie` table contains the complete set of movies, we could find the difference between the length of that table and the `movie_country` table:\n"
   ]
  },
  {
   "cell_type": "code",
   "execution_count": 53,
   "metadata": {},
   "outputs": [
    {
     "data": {
      "text/plain": [
       "484"
      ]
     },
     "execution_count": 53,
     "metadata": {},
     "output_type": "execute_result"
    }
   ],
   "source": [
    "len(movie_df)-len(movieCountry_df)"
   ]
  },
  {
   "cell_type": "markdown",
   "metadata": {},
   "source": [
    "A better approach (that is, one that is more generalisable, and which is more closely related to the particular question) might be to find the length of the set of movies which appear in the `movie` table but not the `movie_country` table:"
   ]
  },
  {
   "cell_type": "code",
   "execution_count": 58,
   "metadata": {},
   "outputs": [
    {
     "data": {
      "text/plain": [
       "484"
      ]
     },
     "execution_count": 58,
     "metadata": {},
     "output_type": "execute_result"
    }
   ],
   "source": [
    "len( set(movie_df['movie_id']).difference(set(movieCountry_df['movie_id'])) )"
   ]
  },
  {
   "cell_type": "markdown",
   "metadata": {},
   "source": [
    "In SQL, we can use a subquery to find the sent of movies which are associated with a country, and then use a `WHERE ... NOT IN ...` to select and count the movies which are *not* in that collection:"
   ]
  },
  {
   "cell_type": "code",
   "execution_count": 59,
   "metadata": {},
   "outputs": [
    {
     "data": {
      "text/html": [
       "<div>\n",
       "<style>\n",
       "    .dataframe thead tr:only-child th {\n",
       "        text-align: right;\n",
       "    }\n",
       "\n",
       "    .dataframe thead th {\n",
       "        text-align: left;\n",
       "    }\n",
       "\n",
       "    .dataframe tbody tr th {\n",
       "        vertical-align: top;\n",
       "    }\n",
       "</style>\n",
       "<table border=\"1\" class=\"dataframe\">\n",
       "  <thead>\n",
       "    <tr style=\"text-align: right;\">\n",
       "      <th></th>\n",
       "      <th>number_of_movies</th>\n",
       "    </tr>\n",
       "  </thead>\n",
       "  <tbody>\n",
       "    <tr>\n",
       "      <th>0</th>\n",
       "      <td>484</td>\n",
       "    </tr>\n",
       "  </tbody>\n",
       "</table>\n",
       "</div>"
      ],
      "text/plain": [
       "   number_of_movies\n",
       "0               484"
      ]
     },
     "execution_count": 59,
     "metadata": {},
     "output_type": "execute_result"
    }
   ],
   "source": [
    "pysqldf('''\n",
    "        SELECT COUNT(*) AS number_of_movies \n",
    "        FROM movie_df\n",
    "        WHERE movie_id NOT IN (SELECT movie_id \n",
    "                               FROM movieCountry_df)\n",
    "        ''')"
   ]
  },
  {
   "cell_type": "markdown",
   "metadata": {},
   "source": [
    "__Related questions:__ *the same question could be asked of the directors, which also have at most one entry for each particular `movie_id`.*"
   ]
  },
  {
   "cell_type": "markdown",
   "metadata": {},
   "source": [
    "### Exercise 7: Combining the `movie` and `movie_actor` tables: which films released in 1995 did Tom Hanks appear in?"
   ]
  },
  {
   "cell_type": "markdown",
   "metadata": {},
   "source": [
    "To frame this query, we need to join two tables, and in each case, filter on one of the elements."
   ]
  },
  {
   "cell_type": "code",
   "execution_count": 60,
   "metadata": {
    "collapsed": true
   },
   "outputs": [],
   "source": [
    "# Enter your query here\n"
   ]
  },
  {
   "cell_type": "code",
   "execution_count": 63,
   "metadata": {},
   "outputs": [
    {
     "data": {
      "text/plain": [
       "0                Toy Story\n",
       "1                Apollo 13\n",
       "2    Celluloid Closet, The\n",
       "Name: title, dtype: object"
      ]
     },
     "execution_count": 63,
     "metadata": {},
     "output_type": "execute_result"
    }
   ],
   "source": [
    "pd.merge( movie_df[movie_df['year']==1995], movieActor_df[movieActor_df['actor_name']==\"Tom Hanks\"],on='movie_id')['title']"
   ]
  },
  {
   "cell_type": "markdown",
   "metadata": {},
   "source": [
    "#### Our solution\n",
    "\n",
    "To reveal our solution, click on the triangle symbol on the left-hand end of this cell.\n"
   ]
  },
  {
   "cell_type": "markdown",
   "metadata": {},
   "source": [
    "The pandas <tt>merge()</tt> function can be used to merge dataframes which share one or more common column values. In this case, we want to merge only the rows in the `movie_df` dataframe which have a value of *1995* in the `year` column, and only those rows in the `movieActor_df` dataframe which have an `actor_name` value of \n",
    "*Tom Hanks*:"
   ]
  },
  {
   "cell_type": "code",
   "execution_count": 64,
   "metadata": {},
   "outputs": [
    {
     "data": {
      "text/plain": [
       "0                Toy Story\n",
       "1                Apollo 13\n",
       "2    Celluloid Closet, The\n",
       "Name: title, dtype: object"
      ]
     },
     "execution_count": 64,
     "metadata": {},
     "output_type": "execute_result"
    }
   ],
   "source": [
    "pd.merge(movie_df[movie_df['year']==1995],movieActor_df[movieActor_df['actor_name']=='Tom Hanks'],on='movie_id')['title']"
   ]
  },
  {
   "cell_type": "markdown",
   "metadata": {},
   "source": [
    "For the SQL query, we can do a simple `JOIN` on the `movie` and `movie_actor` tables on the `movie_id` column, and then filter the rows as required in each separate table:"
   ]
  },
  {
   "cell_type": "code",
   "execution_count": 65,
   "metadata": {},
   "outputs": [
    {
     "data": {
      "text/html": [
       "<div>\n",
       "<style>\n",
       "    .dataframe thead tr:only-child th {\n",
       "        text-align: right;\n",
       "    }\n",
       "\n",
       "    .dataframe thead th {\n",
       "        text-align: left;\n",
       "    }\n",
       "\n",
       "    .dataframe tbody tr th {\n",
       "        vertical-align: top;\n",
       "    }\n",
       "</style>\n",
       "<table border=\"1\" class=\"dataframe\">\n",
       "  <thead>\n",
       "    <tr style=\"text-align: right;\">\n",
       "      <th></th>\n",
       "      <th>title</th>\n",
       "    </tr>\n",
       "  </thead>\n",
       "  <tbody>\n",
       "    <tr>\n",
       "      <th>0</th>\n",
       "      <td>Toy Story</td>\n",
       "    </tr>\n",
       "    <tr>\n",
       "      <th>1</th>\n",
       "      <td>Apollo 13</td>\n",
       "    </tr>\n",
       "    <tr>\n",
       "      <th>2</th>\n",
       "      <td>Celluloid Closet, The</td>\n",
       "    </tr>\n",
       "  </tbody>\n",
       "</table>\n",
       "</div>"
      ],
      "text/plain": [
       "                   title\n",
       "0              Toy Story\n",
       "1              Apollo 13\n",
       "2  Celluloid Closet, The"
      ]
     },
     "execution_count": 65,
     "metadata": {},
     "output_type": "execute_result"
    }
   ],
   "source": [
    "pysqldf('''\n",
    "        SELECT title\n",
    "        FROM movie_df JOIN movieActor_df\n",
    "            ON movie_df.movie_id=movieActor_df.movie_id\n",
    "        WHERE year=1995 AND actor_name=\"Tom Hanks\"\n",
    "        ''')"
   ]
  },
  {
   "cell_type": "markdown",
   "metadata": {},
   "source": [
    "### Exercise 8: Combining the `movie` and `movie_actor` tables: which of Tom Hanks' lead billing movies was least highly rated by all critics and in what year was it released?\n"
   ]
  },
  {
   "cell_type": "markdown",
   "metadata": {},
   "source": [
    "To create a query corresponding to this question, we need to:\n",
    "1. identify the tables containing the information we need,\n",
    "2. filter the data in the tables so that it contains only what is needed,\n",
    "3. join the tables,\n",
    "4. rank the result on non-null values and finally\n",
    "5. choose one of the extreme ranked values."
   ]
  },
  {
   "cell_type": "code",
   "execution_count": 67,
   "metadata": {},
   "outputs": [
    {
     "data": {
      "text/plain": [
       "['movie_id',\n",
       " 'title',\n",
       " 'year',\n",
       " 'rt_all_critics_rating',\n",
       " 'rt_top_critics_rating',\n",
       " 'rt_audience_rating',\n",
       " 'ml_user_rating']"
      ]
     },
     "execution_count": 67,
     "metadata": {},
     "output_type": "execute_result"
    }
   ],
   "source": [
    "# Enter your query here\n",
    "list(movie_df.columns)"
   ]
  },
  {
   "cell_type": "code",
   "execution_count": 70,
   "metadata": {},
   "outputs": [
    {
     "data": {
      "text/plain": [
       "['movie_id', 'actor_name', 'ranking']"
      ]
     },
     "execution_count": 70,
     "metadata": {},
     "output_type": "execute_result"
    }
   ],
   "source": [
    "list(movieActor_df.columns)"
   ]
  },
  {
   "cell_type": "code",
   "execution_count": 74,
   "metadata": {},
   "outputs": [
    {
     "data": {
      "text/html": [
       "<div>\n",
       "<style>\n",
       "    .dataframe thead tr:only-child th {\n",
       "        text-align: right;\n",
       "    }\n",
       "\n",
       "    .dataframe thead th {\n",
       "        text-align: left;\n",
       "    }\n",
       "\n",
       "    .dataframe tbody tr th {\n",
       "        vertical-align: top;\n",
       "    }\n",
       "</style>\n",
       "<table border=\"1\" class=\"dataframe\">\n",
       "  <thead>\n",
       "    <tr style=\"text-align: right;\">\n",
       "      <th></th>\n",
       "      <th>movie_id</th>\n",
       "      <th>actor_name</th>\n",
       "      <th>ranking</th>\n",
       "    </tr>\n",
       "  </thead>\n",
       "  <tbody>\n",
       "    <tr>\n",
       "      <th>22</th>\n",
       "      <td>1</td>\n",
       "      <td>Tom Hanks</td>\n",
       "      <td>1</td>\n",
       "    </tr>\n",
       "    <tr>\n",
       "      <th>3384</th>\n",
       "      <td>150</td>\n",
       "      <td>Tom Hanks</td>\n",
       "      <td>1</td>\n",
       "    </tr>\n",
       "    <tr>\n",
       "      <th>8127</th>\n",
       "      <td>356</td>\n",
       "      <td>Tom Hanks</td>\n",
       "      <td>1</td>\n",
       "    </tr>\n",
       "    <tr>\n",
       "      <th>11976</th>\n",
       "      <td>508</td>\n",
       "      <td>Tom Hanks</td>\n",
       "      <td>1</td>\n",
       "    </tr>\n",
       "    <tr>\n",
       "      <th>12947</th>\n",
       "      <td>539</td>\n",
       "      <td>Tom Hanks</td>\n",
       "      <td>1</td>\n",
       "    </tr>\n",
       "  </tbody>\n",
       "</table>\n",
       "</div>"
      ],
      "text/plain": [
       "       movie_id actor_name  ranking\n",
       "22            1  Tom Hanks        1\n",
       "3384        150  Tom Hanks        1\n",
       "8127        356  Tom Hanks        1\n",
       "11976       508  Tom Hanks        1\n",
       "12947       539  Tom Hanks        1"
      ]
     },
     "execution_count": 74,
     "metadata": {},
     "output_type": "execute_result"
    }
   ],
   "source": [
    "tomHanksLead_df = movieActor_df[(movieActor_df['actor_name']=='Tom Hanks') & (movieActor_df['ranking']==1)]\n",
    "tomHanksLead_df.head()"
   ]
  },
  {
   "cell_type": "code",
   "execution_count": 77,
   "metadata": {},
   "outputs": [
    {
     "data": {
      "text/html": [
       "<div>\n",
       "<style>\n",
       "    .dataframe thead tr:only-child th {\n",
       "        text-align: right;\n",
       "    }\n",
       "\n",
       "    .dataframe thead th {\n",
       "        text-align: left;\n",
       "    }\n",
       "\n",
       "    .dataframe tbody tr th {\n",
       "        vertical-align: top;\n",
       "    }\n",
       "</style>\n",
       "<table border=\"1\" class=\"dataframe\">\n",
       "  <thead>\n",
       "    <tr style=\"text-align: right;\">\n",
       "      <th></th>\n",
       "      <th>movie_id</th>\n",
       "      <th>title</th>\n",
       "      <th>year</th>\n",
       "      <th>rt_all_critics_rating</th>\n",
       "      <th>rt_top_critics_rating</th>\n",
       "      <th>rt_audience_rating</th>\n",
       "      <th>ml_user_rating</th>\n",
       "    </tr>\n",
       "  </thead>\n",
       "  <tbody>\n",
       "    <tr>\n",
       "      <th>0</th>\n",
       "      <td>1</td>\n",
       "      <td>Toy Story</td>\n",
       "      <td>1995</td>\n",
       "      <td>9.0</td>\n",
       "      <td>8.5</td>\n",
       "      <td>3.7</td>\n",
       "      <td>3.9</td>\n",
       "    </tr>\n",
       "    <tr>\n",
       "      <th>1</th>\n",
       "      <td>2</td>\n",
       "      <td>Jumanji</td>\n",
       "      <td>1995</td>\n",
       "      <td>5.6</td>\n",
       "      <td>5.8</td>\n",
       "      <td>3.2</td>\n",
       "      <td>3.2</td>\n",
       "    </tr>\n",
       "    <tr>\n",
       "      <th>2</th>\n",
       "      <td>3</td>\n",
       "      <td>Grumpier Old Men</td>\n",
       "      <td>1995</td>\n",
       "      <td>5.9</td>\n",
       "      <td>7.0</td>\n",
       "      <td>3.2</td>\n",
       "      <td>3.2</td>\n",
       "    </tr>\n",
       "    <tr>\n",
       "      <th>3</th>\n",
       "      <td>4</td>\n",
       "      <td>Waiting to Exhale</td>\n",
       "      <td>1995</td>\n",
       "      <td>5.6</td>\n",
       "      <td>5.5</td>\n",
       "      <td>3.3</td>\n",
       "      <td>2.9</td>\n",
       "    </tr>\n",
       "    <tr>\n",
       "      <th>4</th>\n",
       "      <td>5</td>\n",
       "      <td>Father of the Bride Part II</td>\n",
       "      <td>1995</td>\n",
       "      <td>5.3</td>\n",
       "      <td>5.4</td>\n",
       "      <td>3.0</td>\n",
       "      <td>3.1</td>\n",
       "    </tr>\n",
       "  </tbody>\n",
       "</table>\n",
       "</div>"
      ],
      "text/plain": [
       "   movie_id                        title  year  rt_all_critics_rating  \\\n",
       "0         1                    Toy Story  1995                    9.0   \n",
       "1         2                      Jumanji  1995                    5.6   \n",
       "2         3             Grumpier Old Men  1995                    5.9   \n",
       "3         4            Waiting to Exhale  1995                    5.6   \n",
       "4         5  Father of the Bride Part II  1995                    5.3   \n",
       "\n",
       "   rt_top_critics_rating  rt_audience_rating  ml_user_rating  \n",
       "0                    8.5                 3.7             3.9  \n",
       "1                    5.8                 3.2             3.2  \n",
       "2                    7.0                 3.2             3.2  \n",
       "3                    5.5                 3.3             2.9  \n",
       "4                    5.4                 3.0             3.1  "
      ]
     },
     "execution_count": 77,
     "metadata": {},
     "output_type": "execute_result"
    }
   ],
   "source": [
    "allRatings_df = movie_df[~movie_df['rt_all_critics_rating'].isnull()]\n",
    "allRatings_df.head()"
   ]
  },
  {
   "cell_type": "code",
   "execution_count": 79,
   "metadata": {},
   "outputs": [
    {
     "data": {
      "text/html": [
       "<div>\n",
       "<style>\n",
       "    .dataframe thead tr:only-child th {\n",
       "        text-align: right;\n",
       "    }\n",
       "\n",
       "    .dataframe thead th {\n",
       "        text-align: left;\n",
       "    }\n",
       "\n",
       "    .dataframe tbody tr th {\n",
       "        vertical-align: top;\n",
       "    }\n",
       "</style>\n",
       "<table border=\"1\" class=\"dataframe\">\n",
       "  <thead>\n",
       "    <tr style=\"text-align: right;\">\n",
       "      <th></th>\n",
       "      <th>movie_id</th>\n",
       "      <th>title</th>\n",
       "      <th>year</th>\n",
       "      <th>rt_all_critics_rating</th>\n",
       "      <th>rt_top_critics_rating</th>\n",
       "      <th>rt_audience_rating</th>\n",
       "      <th>ml_user_rating</th>\n",
       "      <th>actor_name</th>\n",
       "      <th>ranking</th>\n",
       "    </tr>\n",
       "  </thead>\n",
       "  <tbody>\n",
       "    <tr>\n",
       "      <th>0</th>\n",
       "      <td>1</td>\n",
       "      <td>Toy Story</td>\n",
       "      <td>1995</td>\n",
       "      <td>9.0</td>\n",
       "      <td>8.5</td>\n",
       "      <td>3.7</td>\n",
       "      <td>3.9</td>\n",
       "      <td>Tom Hanks</td>\n",
       "      <td>1</td>\n",
       "    </tr>\n",
       "    <tr>\n",
       "      <th>1</th>\n",
       "      <td>150</td>\n",
       "      <td>Apollo 13</td>\n",
       "      <td>1995</td>\n",
       "      <td>8.0</td>\n",
       "      <td>7.9</td>\n",
       "      <td>3.6</td>\n",
       "      <td>3.9</td>\n",
       "      <td>Tom Hanks</td>\n",
       "      <td>1</td>\n",
       "    </tr>\n",
       "    <tr>\n",
       "      <th>2</th>\n",
       "      <td>356</td>\n",
       "      <td>Forrest Gump</td>\n",
       "      <td>1994</td>\n",
       "      <td>6.9</td>\n",
       "      <td>7.0</td>\n",
       "      <td>4.1</td>\n",
       "      <td>4.0</td>\n",
       "      <td>Tom Hanks</td>\n",
       "      <td>1</td>\n",
       "    </tr>\n",
       "    <tr>\n",
       "      <th>3</th>\n",
       "      <td>508</td>\n",
       "      <td>Philadelphia</td>\n",
       "      <td>1993</td>\n",
       "      <td>6.5</td>\n",
       "      <td>6.7</td>\n",
       "      <td>3.7</td>\n",
       "      <td>3.8</td>\n",
       "      <td>Tom Hanks</td>\n",
       "      <td>1</td>\n",
       "    </tr>\n",
       "    <tr>\n",
       "      <th>4</th>\n",
       "      <td>539</td>\n",
       "      <td>Sleepless in Seattle</td>\n",
       "      <td>1993</td>\n",
       "      <td>6.5</td>\n",
       "      <td>5.6</td>\n",
       "      <td>3.3</td>\n",
       "      <td>3.5</td>\n",
       "      <td>Tom Hanks</td>\n",
       "      <td>1</td>\n",
       "    </tr>\n",
       "    <tr>\n",
       "      <th>5</th>\n",
       "      <td>1827</td>\n",
       "      <td>Big One, The</td>\n",
       "      <td>1997</td>\n",
       "      <td>7.9</td>\n",
       "      <td>6.8</td>\n",
       "      <td>3.4</td>\n",
       "      <td>3.9</td>\n",
       "      <td>Tom Hanks</td>\n",
       "      <td>1</td>\n",
       "    </tr>\n",
       "    <tr>\n",
       "      <th>6</th>\n",
       "      <td>2028</td>\n",
       "      <td>Saving Private Ryan</td>\n",
       "      <td>1998</td>\n",
       "      <td>8.2</td>\n",
       "      <td>8.1</td>\n",
       "      <td>4.0</td>\n",
       "      <td>4.1</td>\n",
       "      <td>Tom Hanks</td>\n",
       "      <td>1</td>\n",
       "    </tr>\n",
       "    <tr>\n",
       "      <th>7</th>\n",
       "      <td>2072</td>\n",
       "      <td>'burbs, The</td>\n",
       "      <td>1989</td>\n",
       "      <td>5.2</td>\n",
       "      <td>0.0</td>\n",
       "      <td>3.3</td>\n",
       "      <td>3.0</td>\n",
       "      <td>Tom Hanks</td>\n",
       "      <td>1</td>\n",
       "    </tr>\n",
       "    <tr>\n",
       "      <th>8</th>\n",
       "      <td>2100</td>\n",
       "      <td>Splash</td>\n",
       "      <td>1984</td>\n",
       "      <td>6.9</td>\n",
       "      <td>5.6</td>\n",
       "      <td>3.0</td>\n",
       "      <td>3.3</td>\n",
       "      <td>Tom Hanks</td>\n",
       "      <td>1</td>\n",
       "    </tr>\n",
       "    <tr>\n",
       "      <th>9</th>\n",
       "      <td>2418</td>\n",
       "      <td>Nothing in Common</td>\n",
       "      <td>1986</td>\n",
       "      <td>5.8</td>\n",
       "      <td>0.0</td>\n",
       "      <td>2.8</td>\n",
       "      <td>3.0</td>\n",
       "      <td>Tom Hanks</td>\n",
       "      <td>1</td>\n",
       "    </tr>\n",
       "    <tr>\n",
       "      <th>10</th>\n",
       "      <td>2424</td>\n",
       "      <td>You've Got Mail</td>\n",
       "      <td>1998</td>\n",
       "      <td>6.2</td>\n",
       "      <td>6.4</td>\n",
       "      <td>3.1</td>\n",
       "      <td>3.1</td>\n",
       "      <td>Tom Hanks</td>\n",
       "      <td>1</td>\n",
       "    </tr>\n",
       "    <tr>\n",
       "      <th>11</th>\n",
       "      <td>2797</td>\n",
       "      <td>Big</td>\n",
       "      <td>1988</td>\n",
       "      <td>7.9</td>\n",
       "      <td>6.8</td>\n",
       "      <td>3.4</td>\n",
       "      <td>3.6</td>\n",
       "      <td>Tom Hanks</td>\n",
       "      <td>1</td>\n",
       "    </tr>\n",
       "    <tr>\n",
       "      <th>12</th>\n",
       "      <td>3114</td>\n",
       "      <td>Toy Story 2</td>\n",
       "      <td>1999</td>\n",
       "      <td>9.0</td>\n",
       "      <td>8.5</td>\n",
       "      <td>3.7</td>\n",
       "      <td>3.9</td>\n",
       "      <td>Tom Hanks</td>\n",
       "      <td>1</td>\n",
       "    </tr>\n",
       "    <tr>\n",
       "      <th>13</th>\n",
       "      <td>3130</td>\n",
       "      <td>Bonfire of the Vanities</td>\n",
       "      <td>1990</td>\n",
       "      <td>3.8</td>\n",
       "      <td>0.0</td>\n",
       "      <td>2.6</td>\n",
       "      <td>2.4</td>\n",
       "      <td>Tom Hanks</td>\n",
       "      <td>1</td>\n",
       "    </tr>\n",
       "    <tr>\n",
       "      <th>14</th>\n",
       "      <td>3147</td>\n",
       "      <td>Green Mile, The</td>\n",
       "      <td>1999</td>\n",
       "      <td>6.8</td>\n",
       "      <td>6.2</td>\n",
       "      <td>4.1</td>\n",
       "      <td>4.0</td>\n",
       "      <td>Tom Hanks</td>\n",
       "      <td>1</td>\n",
       "    </tr>\n",
       "    <tr>\n",
       "      <th>15</th>\n",
       "      <td>3385</td>\n",
       "      <td>Volunteers</td>\n",
       "      <td>1985</td>\n",
       "      <td>4.6</td>\n",
       "      <td>0.0</td>\n",
       "      <td>0.0</td>\n",
       "      <td>2.6</td>\n",
       "      <td>Tom Hanks</td>\n",
       "      <td>1</td>\n",
       "    </tr>\n",
       "    <tr>\n",
       "      <th>16</th>\n",
       "      <td>3525</td>\n",
       "      <td>Bachelor Party</td>\n",
       "      <td>1984</td>\n",
       "      <td>5.4</td>\n",
       "      <td>0.0</td>\n",
       "      <td>3.0</td>\n",
       "      <td>3.1</td>\n",
       "      <td>Tom Hanks</td>\n",
       "      <td>1</td>\n",
       "    </tr>\n",
       "    <tr>\n",
       "      <th>17</th>\n",
       "      <td>4022</td>\n",
       "      <td>Cast Away</td>\n",
       "      <td>2000</td>\n",
       "      <td>7.4</td>\n",
       "      <td>7.2</td>\n",
       "      <td>3.5</td>\n",
       "      <td>3.6</td>\n",
       "      <td>Tom Hanks</td>\n",
       "      <td>1</td>\n",
       "    </tr>\n",
       "    <tr>\n",
       "      <th>18</th>\n",
       "      <td>4677</td>\n",
       "      <td>Turner &amp; Hooch</td>\n",
       "      <td>1989</td>\n",
       "      <td>5.2</td>\n",
       "      <td>0.0</td>\n",
       "      <td>0.0</td>\n",
       "      <td>2.8</td>\n",
       "      <td>Tom Hanks</td>\n",
       "      <td>1</td>\n",
       "    </tr>\n",
       "    <tr>\n",
       "      <th>19</th>\n",
       "      <td>4929</td>\n",
       "      <td>Toy, The</td>\n",
       "      <td>1982</td>\n",
       "      <td>9.0</td>\n",
       "      <td>8.5</td>\n",
       "      <td>3.7</td>\n",
       "      <td>2.7</td>\n",
       "      <td>Tom Hanks</td>\n",
       "      <td>1</td>\n",
       "    </tr>\n",
       "    <tr>\n",
       "      <th>20</th>\n",
       "      <td>5303</td>\n",
       "      <td>Joe Versus the Volcano</td>\n",
       "      <td>1990</td>\n",
       "      <td>5.4</td>\n",
       "      <td>0.0</td>\n",
       "      <td>2.7</td>\n",
       "      <td>2.8</td>\n",
       "      <td>Tom Hanks</td>\n",
       "      <td>1</td>\n",
       "    </tr>\n",
       "    <tr>\n",
       "      <th>21</th>\n",
       "      <td>5464</td>\n",
       "      <td>Road to Perdition</td>\n",
       "      <td>2002</td>\n",
       "      <td>7.5</td>\n",
       "      <td>7.1</td>\n",
       "      <td>3.5</td>\n",
       "      <td>3.7</td>\n",
       "      <td>Tom Hanks</td>\n",
       "      <td>1</td>\n",
       "    </tr>\n",
       "    <tr>\n",
       "      <th>22</th>\n",
       "      <td>5602</td>\n",
       "      <td>Ladykillers, The</td>\n",
       "      <td>1955</td>\n",
       "      <td>6.1</td>\n",
       "      <td>5.8</td>\n",
       "      <td>2.8</td>\n",
       "      <td>3.8</td>\n",
       "      <td>Tom Hanks</td>\n",
       "      <td>1</td>\n",
       "    </tr>\n",
       "    <tr>\n",
       "      <th>23</th>\n",
       "      <td>7367</td>\n",
       "      <td>Ladykillers, The</td>\n",
       "      <td>2004</td>\n",
       "      <td>6.1</td>\n",
       "      <td>5.8</td>\n",
       "      <td>2.8</td>\n",
       "      <td>3.0</td>\n",
       "      <td>Tom Hanks</td>\n",
       "      <td>1</td>\n",
       "    </tr>\n",
       "    <tr>\n",
       "      <th>24</th>\n",
       "      <td>8529</td>\n",
       "      <td>Terminal, The</td>\n",
       "      <td>2004</td>\n",
       "      <td>6.2</td>\n",
       "      <td>5.8</td>\n",
       "      <td>3.4</td>\n",
       "      <td>3.5</td>\n",
       "      <td>Tom Hanks</td>\n",
       "      <td>1</td>\n",
       "    </tr>\n",
       "    <tr>\n",
       "      <th>25</th>\n",
       "      <td>8884</td>\n",
       "      <td>Man with One Red Shoe, The</td>\n",
       "      <td>1985</td>\n",
       "      <td>4.6</td>\n",
       "      <td>0.0</td>\n",
       "      <td>2.8</td>\n",
       "      <td>3.0</td>\n",
       "      <td>Tom Hanks</td>\n",
       "      <td>1</td>\n",
       "    </tr>\n",
       "    <tr>\n",
       "      <th>26</th>\n",
       "      <td>8965</td>\n",
       "      <td>Polar Express, The</td>\n",
       "      <td>2004</td>\n",
       "      <td>6.4</td>\n",
       "      <td>6.2</td>\n",
       "      <td>3.2</td>\n",
       "      <td>3.2</td>\n",
       "      <td>Tom Hanks</td>\n",
       "      <td>1</td>\n",
       "    </tr>\n",
       "    <tr>\n",
       "      <th>27</th>\n",
       "      <td>45447</td>\n",
       "      <td>Da Vinci Code, The</td>\n",
       "      <td>2006</td>\n",
       "      <td>4.8</td>\n",
       "      <td>4.1</td>\n",
       "      <td>3.2</td>\n",
       "      <td>3.1</td>\n",
       "      <td>Tom Hanks</td>\n",
       "      <td>1</td>\n",
       "    </tr>\n",
       "    <tr>\n",
       "      <th>28</th>\n",
       "      <td>56788</td>\n",
       "      <td>Charlie Wilson's War</td>\n",
       "      <td>2007</td>\n",
       "      <td>7.0</td>\n",
       "      <td>6.9</td>\n",
       "      <td>3.5</td>\n",
       "      <td>3.7</td>\n",
       "      <td>Tom Hanks</td>\n",
       "      <td>1</td>\n",
       "    </tr>\n",
       "  </tbody>\n",
       "</table>\n",
       "</div>"
      ],
      "text/plain": [
       "    movie_id                       title  year  rt_all_critics_rating  \\\n",
       "0          1                   Toy Story  1995                    9.0   \n",
       "1        150                   Apollo 13  1995                    8.0   \n",
       "2        356                Forrest Gump  1994                    6.9   \n",
       "3        508                Philadelphia  1993                    6.5   \n",
       "4        539        Sleepless in Seattle  1993                    6.5   \n",
       "5       1827                Big One, The  1997                    7.9   \n",
       "6       2028         Saving Private Ryan  1998                    8.2   \n",
       "7       2072                 'burbs, The  1989                    5.2   \n",
       "8       2100                      Splash  1984                    6.9   \n",
       "9       2418           Nothing in Common  1986                    5.8   \n",
       "10      2424             You've Got Mail  1998                    6.2   \n",
       "11      2797                         Big  1988                    7.9   \n",
       "12      3114                 Toy Story 2  1999                    9.0   \n",
       "13      3130     Bonfire of the Vanities  1990                    3.8   \n",
       "14      3147             Green Mile, The  1999                    6.8   \n",
       "15      3385                  Volunteers  1985                    4.6   \n",
       "16      3525              Bachelor Party  1984                    5.4   \n",
       "17      4022                   Cast Away  2000                    7.4   \n",
       "18      4677              Turner & Hooch  1989                    5.2   \n",
       "19      4929                    Toy, The  1982                    9.0   \n",
       "20      5303      Joe Versus the Volcano  1990                    5.4   \n",
       "21      5464           Road to Perdition  2002                    7.5   \n",
       "22      5602            Ladykillers, The  1955                    6.1   \n",
       "23      7367            Ladykillers, The  2004                    6.1   \n",
       "24      8529               Terminal, The  2004                    6.2   \n",
       "25      8884  Man with One Red Shoe, The  1985                    4.6   \n",
       "26      8965          Polar Express, The  2004                    6.4   \n",
       "27     45447          Da Vinci Code, The  2006                    4.8   \n",
       "28     56788        Charlie Wilson's War  2007                    7.0   \n",
       "\n",
       "    rt_top_critics_rating  rt_audience_rating  ml_user_rating actor_name  \\\n",
       "0                     8.5                 3.7             3.9  Tom Hanks   \n",
       "1                     7.9                 3.6             3.9  Tom Hanks   \n",
       "2                     7.0                 4.1             4.0  Tom Hanks   \n",
       "3                     6.7                 3.7             3.8  Tom Hanks   \n",
       "4                     5.6                 3.3             3.5  Tom Hanks   \n",
       "5                     6.8                 3.4             3.9  Tom Hanks   \n",
       "6                     8.1                 4.0             4.1  Tom Hanks   \n",
       "7                     0.0                 3.3             3.0  Tom Hanks   \n",
       "8                     5.6                 3.0             3.3  Tom Hanks   \n",
       "9                     0.0                 2.8             3.0  Tom Hanks   \n",
       "10                    6.4                 3.1             3.1  Tom Hanks   \n",
       "11                    6.8                 3.4             3.6  Tom Hanks   \n",
       "12                    8.5                 3.7             3.9  Tom Hanks   \n",
       "13                    0.0                 2.6             2.4  Tom Hanks   \n",
       "14                    6.2                 4.1             4.0  Tom Hanks   \n",
       "15                    0.0                 0.0             2.6  Tom Hanks   \n",
       "16                    0.0                 3.0             3.1  Tom Hanks   \n",
       "17                    7.2                 3.5             3.6  Tom Hanks   \n",
       "18                    0.0                 0.0             2.8  Tom Hanks   \n",
       "19                    8.5                 3.7             2.7  Tom Hanks   \n",
       "20                    0.0                 2.7             2.8  Tom Hanks   \n",
       "21                    7.1                 3.5             3.7  Tom Hanks   \n",
       "22                    5.8                 2.8             3.8  Tom Hanks   \n",
       "23                    5.8                 2.8             3.0  Tom Hanks   \n",
       "24                    5.8                 3.4             3.5  Tom Hanks   \n",
       "25                    0.0                 2.8             3.0  Tom Hanks   \n",
       "26                    6.2                 3.2             3.2  Tom Hanks   \n",
       "27                    4.1                 3.2             3.1  Tom Hanks   \n",
       "28                    6.9                 3.5             3.7  Tom Hanks   \n",
       "\n",
       "    ranking  \n",
       "0         1  \n",
       "1         1  \n",
       "2         1  \n",
       "3         1  \n",
       "4         1  \n",
       "5         1  \n",
       "6         1  \n",
       "7         1  \n",
       "8         1  \n",
       "9         1  \n",
       "10        1  \n",
       "11        1  \n",
       "12        1  \n",
       "13        1  \n",
       "14        1  \n",
       "15        1  \n",
       "16        1  \n",
       "17        1  \n",
       "18        1  \n",
       "19        1  \n",
       "20        1  \n",
       "21        1  \n",
       "22        1  \n",
       "23        1  \n",
       "24        1  \n",
       "25        1  \n",
       "26        1  \n",
       "27        1  \n",
       "28        1  "
      ]
     },
     "execution_count": 79,
     "metadata": {},
     "output_type": "execute_result"
    }
   ],
   "source": [
    "tomHanks_rated = pd.merge(allRatings_df,tomHanksLead_df,on='movie_id')\n",
    "tomHanks_rated"
   ]
  },
  {
   "cell_type": "code",
   "execution_count": null,
   "metadata": {
    "collapsed": true
   },
   "outputs": [],
   "source": [
    "tomHanks_rated.sort_values('rt_all_critics_rating').head(1)"
   ]
  },
  {
   "cell_type": "markdown",
   "metadata": {},
   "source": [
    "#### Our solution\n",
    "\n",
    "To reveal our solution, click on the triangle symbol on the left-hand end of this cell.\n"
   ]
  },
  {
   "cell_type": "markdown",
   "metadata": {},
   "source": [
    "When generating complex queries, it can often be useful to split the problem into several separate pieces. For example, we can start by generating a dataframe that finds Tom Hanks movies where the actor had top billing:"
   ]
  },
  {
   "cell_type": "code",
   "execution_count": null,
   "metadata": {
    "collapsed": true
   },
   "outputs": [],
   "source": [
    "tomHanksLead_df=movieActor_df[(movieActor_df['actor_name']=='Tom Hanks') & (movieActor_df['ranking']==1)]\n",
    "\n",
    "tomHanksLead_df.head()"
   ]
  },
  {
   "cell_type": "markdown",
   "metadata": {},
   "source": [
    "We can also find movies where the \"all critics\" rating is not null:"
   ]
  },
  {
   "cell_type": "code",
   "execution_count": null,
   "metadata": {
    "collapsed": true
   },
   "outputs": [],
   "source": [
    "ratedMovies_df=movie_df[~movie_df['rt_all_critics_rating'].isnull()]\n",
    "\n",
    "ratedMovies_df.head()"
   ]
  },
  {
   "cell_type": "markdown",
   "metadata": {},
   "source": [
    "We can then merge these two dataframes by finding the values in the `movie_id` column:"
   ]
  },
  {
   "cell_type": "code",
   "execution_count": null,
   "metadata": {
    "collapsed": true
   },
   "outputs": [],
   "source": [
    "tomHanksRated_df=pd.merge(ratedMovies_df,tomHanksLead_df,on='movie_id')\n",
    "\n",
    "tomHanksRated_df"
   ]
  },
  {
   "cell_type": "markdown",
   "metadata": {},
   "source": [
    "We can then sort the merged dataframe by the critics ratings, find the lowest critic rating value, and then project the `title` and `year` columns to produce our final result:"
   ]
  },
  {
   "cell_type": "code",
   "execution_count": null,
   "metadata": {
    "collapsed": true
   },
   "outputs": [],
   "source": [
    "tomHanksRated_df.sort_values('rt_all_critics_rating').head(1)[['title','year','rt_all_critics_rating']]"
   ]
  },
  {
   "cell_type": "markdown",
   "metadata": {},
   "source": [
    "For an SQL query, the projection is provided by the `SELECT` clause, the `ON` clause is used to specify how the `JOIN` clause works, the rows are filtered with the `WHERE` clause, and the `ORDER BY` clause sorts the result and a `LIMIT 1` clause returns just the first extreme value:"
   ]
  },
  {
   "cell_type": "code",
   "execution_count": null,
   "metadata": {
    "collapsed": true
   },
   "outputs": [],
   "source": [
    "pysqldf('''\n",
    "        SELECT title, year, rt_all_critics_rating \n",
    "        FROM movie_df JOIN movieActor_df \n",
    "            ON movie_df.movie_id=movieActor_df.movie_id\n",
    "        WHERE movieActor_df.actor_name=\"Tom Hanks\" \n",
    "            AND movieActor_df.ranking=1 \n",
    "            AND movie_df.rt_all_critics_rating IS NOT NULL\n",
    "        ORDER BY rt_all_critics_rating\n",
    "        LIMIT 1\n",
    "        ''')"
   ]
  },
  {
   "cell_type": "markdown",
   "metadata": {},
   "source": [
    "### Activity: Your own questions here...\n",
    "\n",
    "If you would like to try to turn some of your own questions, or questions posted by other students on the forums, into queries, add them here. Feel free to share your queries on the course forums.\n"
   ]
  },
  {
   "cell_type": "code",
   "execution_count": null,
   "metadata": {
    "collapsed": true
   },
   "outputs": [],
   "source": [
    "# YOUR OWN QUESTIONS INTO QUERIES...\n"
   ]
  },
  {
   "cell_type": "markdown",
   "metadata": {},
   "source": [
    "## Summary\n",
    "In this notebook you have had an opportunity to practice the conversion of *questions* into *queries*, as well as revising how to manipulate and query datasets using native *pandas* functions as well as simple SQL queries."
   ]
  },
  {
   "cell_type": "markdown",
   "metadata": {},
   "source": [
    "## What next?\n",
    "\n",
    "This completes the practical notebook activities for this week - return to the course materials on the VLE."
   ]
  }
 ],
 "metadata": {
  "kernelspec": {
   "display_name": "Python 3",
   "language": "python",
   "name": "python3"
  },
  "language_info": {
   "codemirror_mode": {
    "name": "ipython",
    "version": 3
   },
   "file_extension": ".py",
   "mimetype": "text/x-python",
   "name": "python",
   "nbconvert_exporter": "python",
   "pygments_lexer": "ipython3",
   "version": "3.5.2"
  }
 },
 "nbformat": 4,
 "nbformat_minor": 1
}
