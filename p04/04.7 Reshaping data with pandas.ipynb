{
 "cells": [
  {
   "cell_type": "markdown",
   "metadata": {},
   "source": [
    "# Reshaping data with _pandas_"
   ]
  },
  {
   "cell_type": "markdown",
   "metadata": {},
   "source": [
    "This Notebook describes some simple patterns for reshaping datasets in *pandas* including transposing rows and columns, and considers the difference between *long* and *wide* formatted data tables and moving between them."
   ]
  },
  {
   "cell_type": "code",
   "execution_count": 1,
   "metadata": {
    "collapsed": true
   },
   "outputs": [],
   "source": [
    "import pandas as pd\n",
    "import numpy as np"
   ]
  },
  {
   "cell_type": "markdown",
   "metadata": {},
   "source": [
    "## Sample data in a simple DataFrame"
   ]
  },
  {
   "cell_type": "markdown",
   "metadata": {},
   "source": [
    "Let's start by considering a simple example - creating a DataFrame of a particular size and shape from a sequence of numbers.\n",
    "\n",
    "In the following `arange(n)` generates a list with values `0` to `n`.  `reshape(m,n)` produces an array with `m` rows and `n` columns filled in 'column order'.   This array is then turned into a DataFrame with named columns."
   ]
  },
  {
   "cell_type": "code",
   "execution_count": 2,
   "metadata": {},
   "outputs": [
    {
     "data": {
      "text/html": [
       "<div>\n",
       "<style>\n",
       "    .dataframe thead tr:only-child th {\n",
       "        text-align: right;\n",
       "    }\n",
       "\n",
       "    .dataframe thead th {\n",
       "        text-align: left;\n",
       "    }\n",
       "\n",
       "    .dataframe tbody tr th {\n",
       "        vertical-align: top;\n",
       "    }\n",
       "</style>\n",
       "<table border=\"1\" class=\"dataframe\">\n",
       "  <thead>\n",
       "    <tr style=\"text-align: right;\">\n",
       "      <th></th>\n",
       "      <th>a</th>\n",
       "      <th>b</th>\n",
       "    </tr>\n",
       "  </thead>\n",
       "  <tbody>\n",
       "    <tr>\n",
       "      <th>0</th>\n",
       "      <td>0</td>\n",
       "      <td>1</td>\n",
       "    </tr>\n",
       "    <tr>\n",
       "      <th>1</th>\n",
       "      <td>2</td>\n",
       "      <td>3</td>\n",
       "    </tr>\n",
       "    <tr>\n",
       "      <th>2</th>\n",
       "      <td>4</td>\n",
       "      <td>5</td>\n",
       "    </tr>\n",
       "  </tbody>\n",
       "</table>\n",
       "</div>"
      ],
      "text/plain": [
       "   a  b\n",
       "0  0  1\n",
       "1  2  3\n",
       "2  4  5"
      ]
     },
     "execution_count": 2,
     "metadata": {},
     "output_type": "execute_result"
    }
   ],
   "source": [
    "df = pd.DataFrame(np.arange(6).reshape(3,2), columns=['a','b'])\n",
    "df"
   ]
  },
  {
   "cell_type": "markdown",
   "metadata": {},
   "source": [
    "The following simple functions describe the shape of a DataFrame, given the DataFrame or its name, in the form of a short sentence."
   ]
  },
  {
   "cell_type": "code",
   "execution_count": 3,
   "metadata": {
    "collapsed": true
   },
   "outputs": [],
   "source": [
    "def shape(df):\n",
    "    rows,cols = df.shape\n",
    "    return \"That DataFrame has {0} rows and {1} columns.\".format(rows, cols)\n",
    "\n",
    "def shape_name(df_name):\n",
    "    df = eval(df_name)\n",
    "    rows,cols = df.shape\n",
    "    return \"The DataFrame '{0}' has {1} rows and {2} columns.\".format(df_name, rows, cols)"
   ]
  },
  {
   "cell_type": "code",
   "execution_count": 4,
   "metadata": {},
   "outputs": [
    {
     "data": {
      "text/plain": [
       "'That DataFrame has 3 rows and 2 columns.'"
      ]
     },
     "execution_count": 4,
     "metadata": {},
     "output_type": "execute_result"
    }
   ],
   "source": [
    "shape(df)"
   ]
  },
  {
   "cell_type": "code",
   "execution_count": 5,
   "metadata": {},
   "outputs": [
    {
     "data": {
      "text/plain": [
       "\"The DataFrame 'df' has 3 rows and 2 columns.\""
      ]
     },
     "execution_count": 5,
     "metadata": {},
     "output_type": "execute_result"
    }
   ],
   "source": [
    "shape_name('df')"
   ]
  },
  {
   "cell_type": "markdown",
   "metadata": {},
   "source": [
    "# `transpose()` - turning rows into columns, and columns into rows"
   ]
  },
  {
   "cell_type": "markdown",
   "metadata": {},
   "source": [
    "The `transpose()` method can be applied to a DataFrame to transpose columns and rows."
   ]
  },
  {
   "cell_type": "code",
   "execution_count": 6,
   "metadata": {},
   "outputs": [
    {
     "data": {
      "text/html": [
       "<div>\n",
       "<style>\n",
       "    .dataframe thead tr:only-child th {\n",
       "        text-align: right;\n",
       "    }\n",
       "\n",
       "    .dataframe thead th {\n",
       "        text-align: left;\n",
       "    }\n",
       "\n",
       "    .dataframe tbody tr th {\n",
       "        vertical-align: top;\n",
       "    }\n",
       "</style>\n",
       "<table border=\"1\" class=\"dataframe\">\n",
       "  <thead>\n",
       "    <tr style=\"text-align: right;\">\n",
       "      <th></th>\n",
       "      <th>0</th>\n",
       "      <th>1</th>\n",
       "      <th>2</th>\n",
       "    </tr>\n",
       "  </thead>\n",
       "  <tbody>\n",
       "    <tr>\n",
       "      <th>a</th>\n",
       "      <td>0</td>\n",
       "      <td>2</td>\n",
       "      <td>4</td>\n",
       "    </tr>\n",
       "    <tr>\n",
       "      <th>b</th>\n",
       "      <td>1</td>\n",
       "      <td>3</td>\n",
       "      <td>5</td>\n",
       "    </tr>\n",
       "  </tbody>\n",
       "</table>\n",
       "</div>"
      ],
      "text/plain": [
       "   0  1  2\n",
       "a  0  2  4\n",
       "b  1  3  5"
      ]
     },
     "execution_count": 6,
     "metadata": {},
     "output_type": "execute_result"
    }
   ],
   "source": [
    "df2 = df.transpose()\n",
    "df2"
   ]
  },
  {
   "cell_type": "code",
   "execution_count": null,
   "metadata": {
    "collapsed": true
   },
   "outputs": [],
   "source": [
    "shape_name('df2')"
   ]
  },
  {
   "cell_type": "markdown",
   "metadata": {},
   "source": [
    "## Long and wide table representations"
   ]
  },
  {
   "cell_type": "markdown",
   "metadata": {},
   "source": [
    "Tabular data can be arranged in several different representations - two common forms are the _long_ and _wide_ versions of tables.   \n",
    "\n",
    "Let's start by creating a fictitious dataset containing total expenses by expense area for a set of local council directorates.\n",
    "\n",
    "We start by defining some directorates and expense areas."
   ]
  },
  {
   "cell_type": "code",
   "execution_count": 7,
   "metadata": {
    "collapsed": true
   },
   "outputs": [],
   "source": [
    "directorates = ['Community Wellbeing & Social Care',\n",
    "                'Childrens Services',\n",
    "                'Economy & Environment',\n",
    "                'Resources',\n",
    "                'Corporate']\n",
    "expensetypes = ['Accommodation Costs',\n",
    "                'Payment to Private Contractors',\n",
    "                'Operational Equipment',\n",
    "                'Professional Services']"
   ]
  },
  {
   "cell_type": "markdown",
   "metadata": {},
   "source": [
    "We want to create a dummy value for each expense type in each directorate. \n",
    "\n",
    "The Python `itertools` library has a `product` function that will generate every possible combination of values in these two lists as a list of two tuples, `[ (directorate1, expensetype1), (directorate1, expensetype2), ..., (directorateN, expensetypeN) ]`. \n",
    "\n",
    "The `zip` function can then be used to 'unzip' the two tuple lists to give us separate lists that we can then use to create a dataframe. \n",
    "\n",
    "We can also add in a `Total` column that contains a randomly generated dummy amount."
   ]
  },
  {
   "cell_type": "code",
   "execution_count": 8,
   "metadata": {},
   "outputs": [
    {
     "data": {
      "text/html": [
       "<div>\n",
       "<style>\n",
       "    .dataframe thead tr:only-child th {\n",
       "        text-align: right;\n",
       "    }\n",
       "\n",
       "    .dataframe thead th {\n",
       "        text-align: left;\n",
       "    }\n",
       "\n",
       "    .dataframe tbody tr th {\n",
       "        vertical-align: top;\n",
       "    }\n",
       "</style>\n",
       "<table border=\"1\" class=\"dataframe\">\n",
       "  <thead>\n",
       "    <tr style=\"text-align: right;\">\n",
       "      <th></th>\n",
       "      <th>directorates</th>\n",
       "      <th>expense types</th>\n",
       "      <th>total</th>\n",
       "    </tr>\n",
       "  </thead>\n",
       "  <tbody>\n",
       "    <tr>\n",
       "      <th>0</th>\n",
       "      <td>Community Wellbeing &amp; Social Care</td>\n",
       "      <td>Accommodation Costs</td>\n",
       "      <td>12860</td>\n",
       "    </tr>\n",
       "    <tr>\n",
       "      <th>1</th>\n",
       "      <td>Community Wellbeing &amp; Social Care</td>\n",
       "      <td>Payment to Private Contractors</td>\n",
       "      <td>19354</td>\n",
       "    </tr>\n",
       "    <tr>\n",
       "      <th>2</th>\n",
       "      <td>Community Wellbeing &amp; Social Care</td>\n",
       "      <td>Operational Equipment</td>\n",
       "      <td>18678</td>\n",
       "    </tr>\n",
       "    <tr>\n",
       "      <th>3</th>\n",
       "      <td>Community Wellbeing &amp; Social Care</td>\n",
       "      <td>Professional Services</td>\n",
       "      <td>5504</td>\n",
       "    </tr>\n",
       "    <tr>\n",
       "      <th>4</th>\n",
       "      <td>Childrens Services</td>\n",
       "      <td>Accommodation Costs</td>\n",
       "      <td>6164</td>\n",
       "    </tr>\n",
       "    <tr>\n",
       "      <th>5</th>\n",
       "      <td>Childrens Services</td>\n",
       "      <td>Payment to Private Contractors</td>\n",
       "      <td>170</td>\n",
       "    </tr>\n",
       "  </tbody>\n",
       "</table>\n",
       "</div>"
      ],
      "text/plain": [
       "                        directorates                   expense types  total\n",
       "0  Community Wellbeing & Social Care             Accommodation Costs  12860\n",
       "1  Community Wellbeing & Social Care  Payment to Private Contractors  19354\n",
       "2  Community Wellbeing & Social Care           Operational Equipment  18678\n",
       "3  Community Wellbeing & Social Care           Professional Services   5504\n",
       "4                 Childrens Services             Accommodation Costs   6164\n",
       "5                 Childrens Services  Payment to Private Contractors    170"
      ]
     },
     "execution_count": 8,
     "metadata": {},
     "output_type": "execute_result"
    }
   ],
   "source": [
    "import itertools\n",
    "a = list(itertools.product(directorates, expensetypes))\n",
    "unzipa = [t for t in zip(*a)]\n",
    "df_long = pd.DataFrame({'directorates':unzipa[0],\n",
    "                        'expense types':unzipa[1],\n",
    "                        'total':np.random.randint(0,20000,len(directorates)*len(expensetypes))\n",
    "                      })\n",
    "df_long[:6]"
   ]
  },
  {
   "cell_type": "markdown",
   "metadata": {},
   "source": [
    "Here's what the shape of the long DataFrame looks like."
   ]
  },
  {
   "cell_type": "code",
   "execution_count": 9,
   "metadata": {},
   "outputs": [
    {
     "data": {
      "text/plain": [
       "\"The DataFrame 'df_long' has 20 rows and 3 columns.\""
      ]
     },
     "execution_count": 9,
     "metadata": {},
     "output_type": "execute_result"
    }
   ],
   "source": [
    "shape_name('df_long')"
   ]
  },
  {
   "cell_type": "markdown",
   "metadata": {},
   "source": [
    "This is in _long_ format as each directorate has many rows of data, one for each expense type in our example.  \n",
    "\n",
    "Note: it's not long because it has more rows than columns: it's long because each 'thing' in the table (each directorate) has attribute values in multiple rows."
   ]
  },
  {
   "cell_type": "markdown",
   "metadata": {
    "activity": "activityAns"
   },
   "source": [
    "## Exercise\n",
    "\n",
    "How would you find the accommodation costs by directorate?"
   ]
  },
  {
   "cell_type": "code",
   "execution_count": 10,
   "metadata": {
    "activity": "activity",
    "collapsed": true
   },
   "outputs": [],
   "source": [
    "# Accommodation costs by directorate\n"
   ]
  },
  {
   "cell_type": "code",
   "execution_count": 11,
   "metadata": {
    "activity": "activity",
    "code_folding": []
   },
   "outputs": [
    {
     "data": {
      "text/html": [
       "<div>\n",
       "<style>\n",
       "    .dataframe thead tr:only-child th {\n",
       "        text-align: right;\n",
       "    }\n",
       "\n",
       "    .dataframe thead th {\n",
       "        text-align: left;\n",
       "    }\n",
       "\n",
       "    .dataframe tbody tr th {\n",
       "        vertical-align: top;\n",
       "    }\n",
       "</style>\n",
       "<table border=\"1\" class=\"dataframe\">\n",
       "  <thead>\n",
       "    <tr style=\"text-align: right;\">\n",
       "      <th></th>\n",
       "      <th>directorates</th>\n",
       "      <th>expense types</th>\n",
       "      <th>total</th>\n",
       "    </tr>\n",
       "  </thead>\n",
       "  <tbody>\n",
       "    <tr>\n",
       "      <th>0</th>\n",
       "      <td>Community Wellbeing &amp; Social Care</td>\n",
       "      <td>Accommodation Costs</td>\n",
       "      <td>12860</td>\n",
       "    </tr>\n",
       "    <tr>\n",
       "      <th>4</th>\n",
       "      <td>Childrens Services</td>\n",
       "      <td>Accommodation Costs</td>\n",
       "      <td>6164</td>\n",
       "    </tr>\n",
       "    <tr>\n",
       "      <th>8</th>\n",
       "      <td>Economy &amp; Environment</td>\n",
       "      <td>Accommodation Costs</td>\n",
       "      <td>8053</td>\n",
       "    </tr>\n",
       "    <tr>\n",
       "      <th>12</th>\n",
       "      <td>Resources</td>\n",
       "      <td>Accommodation Costs</td>\n",
       "      <td>11820</td>\n",
       "    </tr>\n",
       "    <tr>\n",
       "      <th>16</th>\n",
       "      <td>Corporate</td>\n",
       "      <td>Accommodation Costs</td>\n",
       "      <td>10490</td>\n",
       "    </tr>\n",
       "  </tbody>\n",
       "</table>\n",
       "</div>"
      ],
      "text/plain": [
       "                         directorates        expense types  total\n",
       "0   Community Wellbeing & Social Care  Accommodation Costs  12860\n",
       "4                  Childrens Services  Accommodation Costs   6164\n",
       "8               Economy & Environment  Accommodation Costs   8053\n",
       "12                          Resources  Accommodation Costs  11820\n",
       "16                          Corporate  Accommodation Costs  10490"
      ]
     },
     "execution_count": 11,
     "metadata": {},
     "output_type": "execute_result"
    }
   ],
   "source": [
    "# Sample solution.\n",
    "#      One way would be to filter the long DataFrame based on the values \n",
    "#      contained in the *expense types* column. \n",
    "df_long[df_long['expense types']=='Accommodation Costs']"
   ]
  },
  {
   "cell_type": "markdown",
   "metadata": {
    "code_folding": []
   },
   "source": [
    "## Moving between long and wide representations \n",
    "###      `pivot()`:   long to wide, for three-columned DataFrames"
   ]
  },
  {
   "cell_type": "markdown",
   "metadata": {},
   "source": [
    "Suppose we want to reorder this _long_ table into a _wide_ format with the expense types as rows, and the directorates as columns:"
   ]
  },
  {
   "cell_type": "code",
   "execution_count": 12,
   "metadata": {},
   "outputs": [
    {
     "data": {
      "text/html": [
       "<div>\n",
       "<style>\n",
       "    .dataframe thead tr:only-child th {\n",
       "        text-align: right;\n",
       "    }\n",
       "\n",
       "    .dataframe thead th {\n",
       "        text-align: left;\n",
       "    }\n",
       "\n",
       "    .dataframe tbody tr th {\n",
       "        vertical-align: top;\n",
       "    }\n",
       "</style>\n",
       "<table border=\"1\" class=\"dataframe\">\n",
       "  <thead>\n",
       "    <tr style=\"text-align: right;\">\n",
       "      <th>directorates</th>\n",
       "      <th>Childrens Services</th>\n",
       "      <th>Community Wellbeing &amp; Social Care</th>\n",
       "      <th>Corporate</th>\n",
       "      <th>Economy &amp; Environment</th>\n",
       "      <th>Resources</th>\n",
       "    </tr>\n",
       "    <tr>\n",
       "      <th>expense types</th>\n",
       "      <th></th>\n",
       "      <th></th>\n",
       "      <th></th>\n",
       "      <th></th>\n",
       "      <th></th>\n",
       "    </tr>\n",
       "  </thead>\n",
       "  <tbody>\n",
       "    <tr>\n",
       "      <th>Accommodation Costs</th>\n",
       "      <td>6164</td>\n",
       "      <td>12860</td>\n",
       "      <td>10490</td>\n",
       "      <td>8053</td>\n",
       "      <td>11820</td>\n",
       "    </tr>\n",
       "    <tr>\n",
       "      <th>Operational Equipment</th>\n",
       "      <td>18788</td>\n",
       "      <td>18678</td>\n",
       "      <td>14640</td>\n",
       "      <td>7130</td>\n",
       "      <td>12045</td>\n",
       "    </tr>\n",
       "    <tr>\n",
       "      <th>Payment to Private Contractors</th>\n",
       "      <td>170</td>\n",
       "      <td>19354</td>\n",
       "      <td>7306</td>\n",
       "      <td>19777</td>\n",
       "      <td>11523</td>\n",
       "    </tr>\n",
       "    <tr>\n",
       "      <th>Professional Services</th>\n",
       "      <td>11311</td>\n",
       "      <td>5504</td>\n",
       "      <td>11962</td>\n",
       "      <td>14690</td>\n",
       "      <td>1077</td>\n",
       "    </tr>\n",
       "  </tbody>\n",
       "</table>\n",
       "</div>"
      ],
      "text/plain": [
       "directorates                    Childrens Services  \\\n",
       "expense types                                        \n",
       "Accommodation Costs                           6164   \n",
       "Operational Equipment                        18788   \n",
       "Payment to Private Contractors                 170   \n",
       "Professional Services                        11311   \n",
       "\n",
       "directorates                    Community Wellbeing & Social Care  Corporate  \\\n",
       "expense types                                                                  \n",
       "Accommodation Costs                                         12860      10490   \n",
       "Operational Equipment                                       18678      14640   \n",
       "Payment to Private Contractors                              19354       7306   \n",
       "Professional Services                                        5504      11962   \n",
       "\n",
       "directorates                    Economy & Environment  Resources  \n",
       "expense types                                                     \n",
       "Accommodation Costs                              8053      11820  \n",
       "Operational Equipment                            7130      12045  \n",
       "Payment to Private Contractors                  19777      11523  \n",
       "Professional Services                           14690       1077  "
      ]
     },
     "execution_count": 12,
     "metadata": {},
     "output_type": "execute_result"
    }
   ],
   "source": [
    "df_wide = df_long.pivot('expense types', 'directorates', 'total')\n",
    "df_wide"
   ]
  },
  {
   "cell_type": "code",
   "execution_count": 13,
   "metadata": {},
   "outputs": [
    {
     "data": {
      "text/plain": [
       "\"The DataFrame 'df_wide' has 4 rows and 5 columns.\""
      ]
     },
     "execution_count": 13,
     "metadata": {},
     "output_type": "execute_result"
    }
   ],
   "source": [
    "shape_name('df_wide')"
   ]
  },
  {
   "cell_type": "markdown",
   "metadata": {},
   "source": [
    "Notice how the pivot operation has created a DataFrame with a row index made up from the expense types. The cell values represent the *total*, though this explict label has been lost.\n",
    "\n",
    "This DataFrame contains the same information as our original data table, but in a more powerfully structured way. Properly indexed dataframes are much richer representations than simple tables and as such can support a wider range of transformations."
   ]
  },
  {
   "cell_type": "markdown",
   "metadata": {
    "activity": "activity"
   },
   "source": [
    "## Exercise\n",
    "Using `df_wide`, write Python code to:\n",
    "- display a list of expenses associated with the 'Economy & Environment' directorate\n",
    "- display a list of the accommodation costs by directorate\n",
    "- show the total amount associated with corporate accommodation costs.\n"
   ]
  },
  {
   "cell_type": "code",
   "execution_count": null,
   "metadata": {
    "activity": "activity",
    "collapsed": true
   },
   "outputs": [],
   "source": [
    "# Display a list of expenses associated with the Economy & Environment directorate.\n"
   ]
  },
  {
   "cell_type": "code",
   "execution_count": 14,
   "metadata": {
    "activity": "activity",
    "code_folding": []
   },
   "outputs": [
    {
     "data": {
      "text/plain": [
       "expense types\n",
       "Accommodation Costs                8053\n",
       "Operational Equipment              7130\n",
       "Payment to Private Contractors    19777\n",
       "Professional Services             14690\n",
       "Name: Economy & Environment, dtype: int64"
      ]
     },
     "execution_count": 14,
     "metadata": {},
     "output_type": "execute_result"
    }
   ],
   "source": [
    "# Sample solution\n",
    "#     Remember there are usually several different ways to achieve something like this in Python.\n",
    "\n",
    "# We pull just the column associated with the required expenses from the DataFrame.\n",
    "df_wide['Economy & Environment']"
   ]
  },
  {
   "cell_type": "code",
   "execution_count": 15,
   "metadata": {
    "activity": "activity",
    "collapsed": true
   },
   "outputs": [],
   "source": [
    "# Display a list of the accommodation costs by directorate.\n"
   ]
  },
  {
   "cell_type": "code",
   "execution_count": 16,
   "metadata": {
    "activity": "activity",
    "code_folding": []
   },
   "outputs": [
    {
     "name": "stderr",
     "output_type": "stream",
     "text": [
      "/usr/local/lib/python3.5/dist-packages/ipykernel_launcher.py:4: DeprecationWarning: \n",
      ".ix is deprecated. Please use\n",
      ".loc for label based indexing or\n",
      ".iloc for positional indexing\n",
      "\n",
      "See the documentation here:\n",
      "http://pandas.pydata.org/pandas-docs/stable/indexing.html#deprecate_ix\n",
      "  after removing the cwd from sys.path.\n"
     ]
    },
    {
     "data": {
      "text/plain": [
       "directorates\n",
       "Childrens Services                    6164\n",
       "Community Wellbeing & Social Care    12860\n",
       "Corporate                            10490\n",
       "Economy & Environment                 8053\n",
       "Resources                            11820\n",
       "Name: Accommodation Costs, dtype: int64"
      ]
     },
     "execution_count": 16,
     "metadata": {},
     "output_type": "execute_result"
    }
   ],
   "source": [
    "# Sample solution\n",
    "\n",
    "# To find the accommodation costs by directorate, we can call the appropriate row index value. \n",
    "df_wide.ix['Accommodation Costs']"
   ]
  },
  {
   "cell_type": "code",
   "execution_count": 17,
   "metadata": {
    "activity": "activity",
    "collapsed": true
   },
   "outputs": [],
   "source": [
    "# What amount is associated with corporate accommodation costs?\n"
   ]
  },
  {
   "cell_type": "code",
   "execution_count": 18,
   "metadata": {
    "activity": "activity",
    "code_folding": [
     0
    ]
   },
   "outputs": [
    {
     "data": {
      "text/plain": [
       "10490"
      ]
     },
     "execution_count": 18,
     "metadata": {},
     "output_type": "execute_result"
    }
   ],
   "source": [
    "# Sample solution\n",
    "\n",
    "# Either\n",
    "df_wide.ix['Accommodation Costs']['Corporate']\n",
    "\n",
    "#  or\n",
    "#df_wide['Corporate'].ix['Accommodation Costs']"
   ]
  },
  {
   "cell_type": "markdown",
   "metadata": {
    "activity": "activity",
    "code_folding": []
   },
   "source": [
    "## Exercise\n",
    "For the previous examples, how does the `pivot()` operation differ from the `transpose()` method?\n"
   ]
  },
  {
   "cell_type": "code",
   "execution_count": null,
   "metadata": {
    "collapsed": true
   },
   "outputs": [],
   "source": [
    "# Discussion\n",
    "# `transpose()` is used to simply switch rows and columns.  \n",
    "# `pivot()` reorganises values that appear in columns, to form rows."
   ]
  },
  {
   "cell_type": "markdown",
   "metadata": {
    "activity": "activity"
   },
   "source": [
    "## Exercise\n",
    "\n",
    "Suppose we want to reorder this _long_ table into a _wide_ format, but this time with the expense types as rows and the directorate as columns - can you do that?"
   ]
  },
  {
   "cell_type": "code",
   "execution_count": null,
   "metadata": {
    "activity": "activity",
    "collapsed": true
   },
   "outputs": [],
   "source": [
    "#df_wide2 = df_long.pivot('<replace this with your parameters>')\n",
    "#df_wide2"
   ]
  },
  {
   "cell_type": "code",
   "execution_count": 19,
   "metadata": {
    "activity": "activity",
    "code_folding": []
   },
   "outputs": [
    {
     "data": {
      "text/html": [
       "<div>\n",
       "<style>\n",
       "    .dataframe thead tr:only-child th {\n",
       "        text-align: right;\n",
       "    }\n",
       "\n",
       "    .dataframe thead th {\n",
       "        text-align: left;\n",
       "    }\n",
       "\n",
       "    .dataframe tbody tr th {\n",
       "        vertical-align: top;\n",
       "    }\n",
       "</style>\n",
       "<table border=\"1\" class=\"dataframe\">\n",
       "  <thead>\n",
       "    <tr style=\"text-align: right;\">\n",
       "      <th>expense types</th>\n",
       "      <th>Accommodation Costs</th>\n",
       "      <th>Operational Equipment</th>\n",
       "      <th>Payment to Private Contractors</th>\n",
       "      <th>Professional Services</th>\n",
       "    </tr>\n",
       "    <tr>\n",
       "      <th>directorates</th>\n",
       "      <th></th>\n",
       "      <th></th>\n",
       "      <th></th>\n",
       "      <th></th>\n",
       "    </tr>\n",
       "  </thead>\n",
       "  <tbody>\n",
       "    <tr>\n",
       "      <th>Childrens Services</th>\n",
       "      <td>6164</td>\n",
       "      <td>18788</td>\n",
       "      <td>170</td>\n",
       "      <td>11311</td>\n",
       "    </tr>\n",
       "    <tr>\n",
       "      <th>Community Wellbeing &amp; Social Care</th>\n",
       "      <td>12860</td>\n",
       "      <td>18678</td>\n",
       "      <td>19354</td>\n",
       "      <td>5504</td>\n",
       "    </tr>\n",
       "    <tr>\n",
       "      <th>Corporate</th>\n",
       "      <td>10490</td>\n",
       "      <td>14640</td>\n",
       "      <td>7306</td>\n",
       "      <td>11962</td>\n",
       "    </tr>\n",
       "    <tr>\n",
       "      <th>Economy &amp; Environment</th>\n",
       "      <td>8053</td>\n",
       "      <td>7130</td>\n",
       "      <td>19777</td>\n",
       "      <td>14690</td>\n",
       "    </tr>\n",
       "    <tr>\n",
       "      <th>Resources</th>\n",
       "      <td>11820</td>\n",
       "      <td>12045</td>\n",
       "      <td>11523</td>\n",
       "      <td>1077</td>\n",
       "    </tr>\n",
       "  </tbody>\n",
       "</table>\n",
       "</div>"
      ],
      "text/plain": [
       "expense types                      Accommodation Costs  Operational Equipment  \\\n",
       "directorates                                                                    \n",
       "Childrens Services                                6164                  18788   \n",
       "Community Wellbeing & Social Care                12860                  18678   \n",
       "Corporate                                        10490                  14640   \n",
       "Economy & Environment                             8053                   7130   \n",
       "Resources                                        11820                  12045   \n",
       "\n",
       "expense types                      Payment to Private Contractors  \\\n",
       "directorates                                                        \n",
       "Childrens Services                                            170   \n",
       "Community Wellbeing & Social Care                           19354   \n",
       "Corporate                                                    7306   \n",
       "Economy & Environment                                       19777   \n",
       "Resources                                                   11523   \n",
       "\n",
       "expense types                      Professional Services  \n",
       "directorates                                              \n",
       "Childrens Services                                 11311  \n",
       "Community Wellbeing & Social Care                   5504  \n",
       "Corporate                                          11962  \n",
       "Economy & Environment                              14690  \n",
       "Resources                                           1077  "
      ]
     },
     "execution_count": 19,
     "metadata": {},
     "output_type": "execute_result"
    }
   ],
   "source": [
    "# Sample solution\n",
    "df_wide2 = df_long.pivot('directorates', 'expense types', 'total')\n",
    "df_wide2"
   ]
  },
  {
   "cell_type": "code",
   "execution_count": null,
   "metadata": {
    "activity": "activity",
    "collapsed": true
   },
   "outputs": [],
   "source": [
    "shape_name('df_wide2')"
   ]
  },
  {
   "cell_type": "markdown",
   "metadata": {},
   "source": [
    "###  `stack()`: from wide to long form\n",
    "\n",
    "We can recreate a _long_ form by 'stacking' the data; in this case we will 'stack' the directorate column headings as sub-levels within each expense type.   This creates a Series with a hierarchical row index."
   ]
  },
  {
   "cell_type": "code",
   "execution_count": 20,
   "metadata": {},
   "outputs": [
    {
     "data": {
      "text/plain": [
       "expense types                   directorates                     \n",
       "Accommodation Costs             Childrens Services                    6164\n",
       "                                Community Wellbeing & Social Care    12860\n",
       "                                Corporate                            10490\n",
       "                                Economy & Environment                 8053\n",
       "                                Resources                            11820\n",
       "Operational Equipment           Childrens Services                   18788\n",
       "                                Community Wellbeing & Social Care    18678\n",
       "                                Corporate                            14640\n",
       "                                Economy & Environment                 7130\n",
       "                                Resources                            12045\n",
       "Payment to Private Contractors  Childrens Services                     170\n",
       "                                Community Wellbeing & Social Care    19354\n",
       "                                Corporate                             7306\n",
       "                                Economy & Environment                19777\n",
       "                                Resources                            11523\n",
       "Professional Services           Childrens Services                   11311\n",
       "                                Community Wellbeing & Social Care     5504\n",
       "                                Corporate                            11962\n",
       "                                Economy & Environment                14690\n",
       "                                Resources                             1077\n",
       "dtype: int64"
      ]
     },
     "execution_count": 20,
     "metadata": {},
     "output_type": "execute_result"
    }
   ],
   "source": [
    "df_new_long = df_wide.stack()\n",
    "df_new_long"
   ]
  },
  {
   "cell_type": "code",
   "execution_count": 21,
   "metadata": {},
   "outputs": [
    {
     "data": {
      "text/plain": [
       "expense types                   directorates                     \n",
       "Accommodation Costs             Childrens Services                    6164\n",
       "                                Community Wellbeing & Social Care    12860\n",
       "                                Corporate                            10490\n",
       "                                Economy & Environment                 8053\n",
       "                                Resources                            11820\n",
       "Operational Equipment           Childrens Services                   18788\n",
       "                                Community Wellbeing & Social Care    18678\n",
       "                                Corporate                            14640\n",
       "                                Economy & Environment                 7130\n",
       "                                Resources                            12045\n",
       "Payment to Private Contractors  Childrens Services                     170\n",
       "                                Community Wellbeing & Social Care    19354\n",
       "                                Corporate                             7306\n",
       "                                Economy & Environment                19777\n",
       "                                Resources                            11523\n",
       "Professional Services           Childrens Services                   11311\n",
       "                                Community Wellbeing & Social Care     5504\n",
       "                                Corporate                            11962\n",
       "                                Economy & Environment                14690\n",
       "                                Resources                             1077\n",
       "dtype: int64"
      ]
     },
     "execution_count": 21,
     "metadata": {},
     "output_type": "execute_result"
    }
   ],
   "source": [
    "# The output when we stack the df_wide2 DataFrame shouldn't come as a suprise.\n",
    "df_new_long2 = df_wide2.stack()\n",
    "df_new_long"
   ]
  },
  {
   "cell_type": "markdown",
   "metadata": {},
   "source": [
    "If it *was* a surprise, remember that the long, wide, stacked and unstacked forms are just re-shaping the data, they're not changing the data - so if there is a total value for a directorate and expense type in one form it will be the same in all the forms."
   ]
  },
  {
   "cell_type": "markdown",
   "metadata": {},
   "source": [
    "Note that the `Total` attribute name was lost in the `pivot()` operation - it can't be recreated once lost.\n",
    "\n",
    "If you prefer the simple, non-hierarchical, tabular format of the original, we can generate that from the hierarchical stacked form by adding `resetIndex()` after applying the `stack`."
   ]
  },
  {
   "cell_type": "code",
   "execution_count": 22,
   "metadata": {},
   "outputs": [
    {
     "data": {
      "text/html": [
       "<div>\n",
       "<style>\n",
       "    .dataframe thead tr:only-child th {\n",
       "        text-align: right;\n",
       "    }\n",
       "\n",
       "    .dataframe thead th {\n",
       "        text-align: left;\n",
       "    }\n",
       "\n",
       "    .dataframe tbody tr th {\n",
       "        vertical-align: top;\n",
       "    }\n",
       "</style>\n",
       "<table border=\"1\" class=\"dataframe\">\n",
       "  <thead>\n",
       "    <tr style=\"text-align: right;\">\n",
       "      <th></th>\n",
       "      <th>expense types</th>\n",
       "      <th>directorates</th>\n",
       "      <th>0</th>\n",
       "    </tr>\n",
       "  </thead>\n",
       "  <tbody>\n",
       "    <tr>\n",
       "      <th>0</th>\n",
       "      <td>Accommodation Costs</td>\n",
       "      <td>Childrens Services</td>\n",
       "      <td>6164</td>\n",
       "    </tr>\n",
       "    <tr>\n",
       "      <th>1</th>\n",
       "      <td>Accommodation Costs</td>\n",
       "      <td>Community Wellbeing &amp; Social Care</td>\n",
       "      <td>12860</td>\n",
       "    </tr>\n",
       "    <tr>\n",
       "      <th>2</th>\n",
       "      <td>Accommodation Costs</td>\n",
       "      <td>Corporate</td>\n",
       "      <td>10490</td>\n",
       "    </tr>\n",
       "    <tr>\n",
       "      <th>3</th>\n",
       "      <td>Accommodation Costs</td>\n",
       "      <td>Economy &amp; Environment</td>\n",
       "      <td>8053</td>\n",
       "    </tr>\n",
       "    <tr>\n",
       "      <th>4</th>\n",
       "      <td>Accommodation Costs</td>\n",
       "      <td>Resources</td>\n",
       "      <td>11820</td>\n",
       "    </tr>\n",
       "    <tr>\n",
       "      <th>5</th>\n",
       "      <td>Operational Equipment</td>\n",
       "      <td>Childrens Services</td>\n",
       "      <td>18788</td>\n",
       "    </tr>\n",
       "    <tr>\n",
       "      <th>6</th>\n",
       "      <td>Operational Equipment</td>\n",
       "      <td>Community Wellbeing &amp; Social Care</td>\n",
       "      <td>18678</td>\n",
       "    </tr>\n",
       "    <tr>\n",
       "      <th>7</th>\n",
       "      <td>Operational Equipment</td>\n",
       "      <td>Corporate</td>\n",
       "      <td>14640</td>\n",
       "    </tr>\n",
       "    <tr>\n",
       "      <th>8</th>\n",
       "      <td>Operational Equipment</td>\n",
       "      <td>Economy &amp; Environment</td>\n",
       "      <td>7130</td>\n",
       "    </tr>\n",
       "    <tr>\n",
       "      <th>9</th>\n",
       "      <td>Operational Equipment</td>\n",
       "      <td>Resources</td>\n",
       "      <td>12045</td>\n",
       "    </tr>\n",
       "    <tr>\n",
       "      <th>10</th>\n",
       "      <td>Payment to Private Contractors</td>\n",
       "      <td>Childrens Services</td>\n",
       "      <td>170</td>\n",
       "    </tr>\n",
       "    <tr>\n",
       "      <th>11</th>\n",
       "      <td>Payment to Private Contractors</td>\n",
       "      <td>Community Wellbeing &amp; Social Care</td>\n",
       "      <td>19354</td>\n",
       "    </tr>\n",
       "    <tr>\n",
       "      <th>12</th>\n",
       "      <td>Payment to Private Contractors</td>\n",
       "      <td>Corporate</td>\n",
       "      <td>7306</td>\n",
       "    </tr>\n",
       "    <tr>\n",
       "      <th>13</th>\n",
       "      <td>Payment to Private Contractors</td>\n",
       "      <td>Economy &amp; Environment</td>\n",
       "      <td>19777</td>\n",
       "    </tr>\n",
       "    <tr>\n",
       "      <th>14</th>\n",
       "      <td>Payment to Private Contractors</td>\n",
       "      <td>Resources</td>\n",
       "      <td>11523</td>\n",
       "    </tr>\n",
       "    <tr>\n",
       "      <th>15</th>\n",
       "      <td>Professional Services</td>\n",
       "      <td>Childrens Services</td>\n",
       "      <td>11311</td>\n",
       "    </tr>\n",
       "    <tr>\n",
       "      <th>16</th>\n",
       "      <td>Professional Services</td>\n",
       "      <td>Community Wellbeing &amp; Social Care</td>\n",
       "      <td>5504</td>\n",
       "    </tr>\n",
       "    <tr>\n",
       "      <th>17</th>\n",
       "      <td>Professional Services</td>\n",
       "      <td>Corporate</td>\n",
       "      <td>11962</td>\n",
       "    </tr>\n",
       "    <tr>\n",
       "      <th>18</th>\n",
       "      <td>Professional Services</td>\n",
       "      <td>Economy &amp; Environment</td>\n",
       "      <td>14690</td>\n",
       "    </tr>\n",
       "    <tr>\n",
       "      <th>19</th>\n",
       "      <td>Professional Services</td>\n",
       "      <td>Resources</td>\n",
       "      <td>1077</td>\n",
       "    </tr>\n",
       "  </tbody>\n",
       "</table>\n",
       "</div>"
      ],
      "text/plain": [
       "                     expense types                       directorates      0\n",
       "0              Accommodation Costs                 Childrens Services   6164\n",
       "1              Accommodation Costs  Community Wellbeing & Social Care  12860\n",
       "2              Accommodation Costs                          Corporate  10490\n",
       "3              Accommodation Costs              Economy & Environment   8053\n",
       "4              Accommodation Costs                          Resources  11820\n",
       "5            Operational Equipment                 Childrens Services  18788\n",
       "6            Operational Equipment  Community Wellbeing & Social Care  18678\n",
       "7            Operational Equipment                          Corporate  14640\n",
       "8            Operational Equipment              Economy & Environment   7130\n",
       "9            Operational Equipment                          Resources  12045\n",
       "10  Payment to Private Contractors                 Childrens Services    170\n",
       "11  Payment to Private Contractors  Community Wellbeing & Social Care  19354\n",
       "12  Payment to Private Contractors                          Corporate   7306\n",
       "13  Payment to Private Contractors              Economy & Environment  19777\n",
       "14  Payment to Private Contractors                          Resources  11523\n",
       "15           Professional Services                 Childrens Services  11311\n",
       "16           Professional Services  Community Wellbeing & Social Care   5504\n",
       "17           Professional Services                          Corporate  11962\n",
       "18           Professional Services              Economy & Environment  14690\n",
       "19           Professional Services                          Resources   1077"
      ]
     },
     "execution_count": 22,
     "metadata": {},
     "output_type": "execute_result"
    }
   ],
   "source": [
    "df_new_long.reset_index()"
   ]
  },
  {
   "cell_type": "markdown",
   "metadata": {},
   "source": [
    "With the hierarchically indexed `df_new_long` series, we can go back to the long form by using `unstack()`. By default this unstacks the 'last' level of the hierarchy, but we can also declare which level to unstack explicitly.\n",
    "\n",
    "Both `stack()` and `unstack()` operate over hierarchical indexes and columns.\n",
    "`pivot()` is simpler, operating with just three-columned _long_ table forms (Object, Attribute, Value). \n",
    "\n",
    "Here's `unstack()` with a named hierarchical level to unstack:"
   ]
  },
  {
   "cell_type": "code",
   "execution_count": 23,
   "metadata": {},
   "outputs": [
    {
     "data": {
      "text/html": [
       "<div>\n",
       "<style>\n",
       "    .dataframe thead tr:only-child th {\n",
       "        text-align: right;\n",
       "    }\n",
       "\n",
       "    .dataframe thead th {\n",
       "        text-align: left;\n",
       "    }\n",
       "\n",
       "    .dataframe tbody tr th {\n",
       "        vertical-align: top;\n",
       "    }\n",
       "</style>\n",
       "<table border=\"1\" class=\"dataframe\">\n",
       "  <thead>\n",
       "    <tr style=\"text-align: right;\">\n",
       "      <th>directorates</th>\n",
       "      <th>Childrens Services</th>\n",
       "      <th>Community Wellbeing &amp; Social Care</th>\n",
       "      <th>Corporate</th>\n",
       "      <th>Economy &amp; Environment</th>\n",
       "      <th>Resources</th>\n",
       "    </tr>\n",
       "    <tr>\n",
       "      <th>expense types</th>\n",
       "      <th></th>\n",
       "      <th></th>\n",
       "      <th></th>\n",
       "      <th></th>\n",
       "      <th></th>\n",
       "    </tr>\n",
       "  </thead>\n",
       "  <tbody>\n",
       "    <tr>\n",
       "      <th>Accommodation Costs</th>\n",
       "      <td>6164</td>\n",
       "      <td>12860</td>\n",
       "      <td>10490</td>\n",
       "      <td>8053</td>\n",
       "      <td>11820</td>\n",
       "    </tr>\n",
       "    <tr>\n",
       "      <th>Operational Equipment</th>\n",
       "      <td>18788</td>\n",
       "      <td>18678</td>\n",
       "      <td>14640</td>\n",
       "      <td>7130</td>\n",
       "      <td>12045</td>\n",
       "    </tr>\n",
       "    <tr>\n",
       "      <th>Payment to Private Contractors</th>\n",
       "      <td>170</td>\n",
       "      <td>19354</td>\n",
       "      <td>7306</td>\n",
       "      <td>19777</td>\n",
       "      <td>11523</td>\n",
       "    </tr>\n",
       "    <tr>\n",
       "      <th>Professional Services</th>\n",
       "      <td>11311</td>\n",
       "      <td>5504</td>\n",
       "      <td>11962</td>\n",
       "      <td>14690</td>\n",
       "      <td>1077</td>\n",
       "    </tr>\n",
       "  </tbody>\n",
       "</table>\n",
       "</div>"
      ],
      "text/plain": [
       "directorates                    Childrens Services  \\\n",
       "expense types                                        \n",
       "Accommodation Costs                           6164   \n",
       "Operational Equipment                        18788   \n",
       "Payment to Private Contractors                 170   \n",
       "Professional Services                        11311   \n",
       "\n",
       "directorates                    Community Wellbeing & Social Care  Corporate  \\\n",
       "expense types                                                                  \n",
       "Accommodation Costs                                         12860      10490   \n",
       "Operational Equipment                                       18678      14640   \n",
       "Payment to Private Contractors                              19354       7306   \n",
       "Professional Services                                        5504      11962   \n",
       "\n",
       "directorates                    Economy & Environment  Resources  \n",
       "expense types                                                     \n",
       "Accommodation Costs                              8053      11820  \n",
       "Operational Equipment                            7130      12045  \n",
       "Payment to Private Contractors                  19777      11523  \n",
       "Professional Services                           14690       1077  "
      ]
     },
     "execution_count": 23,
     "metadata": {},
     "output_type": "execute_result"
    }
   ],
   "source": [
    "df_new_long.unstack('directorates')"
   ]
  },
  {
   "cell_type": "code",
   "execution_count": null,
   "metadata": {
    "collapsed": true
   },
   "outputs": [],
   "source": [
    "# And here we unstack using the 'other' level of the hierarchy:\n",
    "df_new_long.unstack('expense types')"
   ]
  },
  {
   "cell_type": "markdown",
   "metadata": {},
   "source": [
    "### Transforming wide to long data: *pandas* `melt()`"
   ]
  },
  {
   "cell_type": "markdown",
   "metadata": {},
   "source": [
    "Data is often provided in wide  formats and we can use the `.melt()` function to select which columns of the wide table to put in long form.\n",
    "\n",
    "Let's start by creating another dummy dataset in a simple table with no meaningful index - the sort of DataFrame we might create by simple reading in a CSV file, or a spreadsheet summary table."
   ]
  },
  {
   "cell_type": "code",
   "execution_count": 24,
   "metadata": {},
   "outputs": [
    {
     "data": {
      "text/html": [
       "<div>\n",
       "<style>\n",
       "    .dataframe thead tr:only-child th {\n",
       "        text-align: right;\n",
       "    }\n",
       "\n",
       "    .dataframe thead th {\n",
       "        text-align: left;\n",
       "    }\n",
       "\n",
       "    .dataframe tbody tr th {\n",
       "        vertical-align: top;\n",
       "    }\n",
       "</style>\n",
       "<table border=\"1\" class=\"dataframe\">\n",
       "  <thead>\n",
       "    <tr style=\"text-align: right;\">\n",
       "      <th></th>\n",
       "      <th>directorates</th>\n",
       "      <th>Accommodation Costs</th>\n",
       "      <th>Payment to Private Contractors</th>\n",
       "      <th>Operational Equipment</th>\n",
       "      <th>Professional Services</th>\n",
       "    </tr>\n",
       "  </thead>\n",
       "  <tbody>\n",
       "    <tr>\n",
       "      <th>0</th>\n",
       "      <td>Community Wellbeing &amp; Social Care</td>\n",
       "      <td>17018</td>\n",
       "      <td>10326</td>\n",
       "      <td>13877</td>\n",
       "      <td>17659</td>\n",
       "    </tr>\n",
       "    <tr>\n",
       "      <th>1</th>\n",
       "      <td>Childrens Services</td>\n",
       "      <td>10913</td>\n",
       "      <td>10937</td>\n",
       "      <td>17307</td>\n",
       "      <td>6360</td>\n",
       "    </tr>\n",
       "    <tr>\n",
       "      <th>2</th>\n",
       "      <td>Economy &amp; Environment</td>\n",
       "      <td>10973</td>\n",
       "      <td>15847</td>\n",
       "      <td>17283</td>\n",
       "      <td>10718</td>\n",
       "    </tr>\n",
       "    <tr>\n",
       "      <th>3</th>\n",
       "      <td>Resources</td>\n",
       "      <td>10080</td>\n",
       "      <td>11123</td>\n",
       "      <td>16914</td>\n",
       "      <td>9486</td>\n",
       "    </tr>\n",
       "    <tr>\n",
       "      <th>4</th>\n",
       "      <td>Corporate</td>\n",
       "      <td>13596</td>\n",
       "      <td>19292</td>\n",
       "      <td>6875</td>\n",
       "      <td>12682</td>\n",
       "    </tr>\n",
       "  </tbody>\n",
       "</table>\n",
       "</div>"
      ],
      "text/plain": [
       "                        directorates  Accommodation Costs  \\\n",
       "0  Community Wellbeing & Social Care                17018   \n",
       "1                 Childrens Services                10913   \n",
       "2              Economy & Environment                10973   \n",
       "3                          Resources                10080   \n",
       "4                          Corporate                13596   \n",
       "\n",
       "   Payment to Private Contractors  Operational Equipment  \\\n",
       "0                           10326                  13877   \n",
       "1                           10937                  17307   \n",
       "2                           15847                  17283   \n",
       "3                           11123                  16914   \n",
       "4                           19292                   6875   \n",
       "\n",
       "   Professional Services  \n",
       "0                  17659  \n",
       "1                   6360  \n",
       "2                  10718  \n",
       "3                   9486  \n",
       "4                  12682  "
      ]
     },
     "execution_count": 24,
     "metadata": {},
     "output_type": "execute_result"
    }
   ],
   "source": [
    "simple_wide = pd.DataFrame(np.random.randint(0,20000,\n",
    "       len(directorates)*len(expensetypes)).reshape(len(directorates), len(expensetypes)),\n",
    "       columns=expensetypes)\n",
    "simple_wide['directorates'] = directorates\n",
    "simple_wide = simple_wide[['directorates']+expensetypes]\n",
    "simple_wide"
   ]
  },
  {
   "cell_type": "code",
   "execution_count": 25,
   "metadata": {},
   "outputs": [
    {
     "data": {
      "text/plain": [
       "\"The DataFrame 'simple_wide' has 5 rows and 5 columns.\""
      ]
     },
     "execution_count": 25,
     "metadata": {},
     "output_type": "execute_result"
    }
   ],
   "source": [
    "shape_name('simple_wide')"
   ]
  },
  {
   "cell_type": "markdown",
   "metadata": {},
   "source": [
    "The pandas `.melt()` function allows us to 'melt' selected columns in a wide format data table into a long format.\n",
    "\n",
    "First we indicate the `id_vars`, the columns whose values will form the identifier (keys) for the long format rows (remember the information about specific things in a long table is spread over several rows, each with the same key values).  \n",
    "\n",
    "We can then specify where a 'variable' column identifies the original column name of the melted data and a 'value' column contains the corresponding cell value.\n",
    "\n",
    "The next cell turns our `simple_wide` table into the long form using _all_ the `expensetypes` columns.  \n",
    "The cell below that shows how to select only one or more specific columns from the original `simple_wide` DataFrame."
   ]
  },
  {
   "cell_type": "code",
   "execution_count": 26,
   "metadata": {},
   "outputs": [
    {
     "data": {
      "text/html": [
       "<div>\n",
       "<style>\n",
       "    .dataframe thead tr:only-child th {\n",
       "        text-align: right;\n",
       "    }\n",
       "\n",
       "    .dataframe thead th {\n",
       "        text-align: left;\n",
       "    }\n",
       "\n",
       "    .dataframe tbody tr th {\n",
       "        vertical-align: top;\n",
       "    }\n",
       "</style>\n",
       "<table border=\"1\" class=\"dataframe\">\n",
       "  <thead>\n",
       "    <tr style=\"text-align: right;\">\n",
       "      <th></th>\n",
       "      <th>directorates</th>\n",
       "      <th>variable</th>\n",
       "      <th>value</th>\n",
       "    </tr>\n",
       "  </thead>\n",
       "  <tbody>\n",
       "    <tr>\n",
       "      <th>0</th>\n",
       "      <td>Community Wellbeing &amp; Social Care</td>\n",
       "      <td>Accommodation Costs</td>\n",
       "      <td>17018</td>\n",
       "    </tr>\n",
       "    <tr>\n",
       "      <th>1</th>\n",
       "      <td>Childrens Services</td>\n",
       "      <td>Accommodation Costs</td>\n",
       "      <td>10913</td>\n",
       "    </tr>\n",
       "    <tr>\n",
       "      <th>2</th>\n",
       "      <td>Economy &amp; Environment</td>\n",
       "      <td>Accommodation Costs</td>\n",
       "      <td>10973</td>\n",
       "    </tr>\n",
       "    <tr>\n",
       "      <th>3</th>\n",
       "      <td>Resources</td>\n",
       "      <td>Accommodation Costs</td>\n",
       "      <td>10080</td>\n",
       "    </tr>\n",
       "    <tr>\n",
       "      <th>4</th>\n",
       "      <td>Corporate</td>\n",
       "      <td>Accommodation Costs</td>\n",
       "      <td>13596</td>\n",
       "    </tr>\n",
       "    <tr>\n",
       "      <th>5</th>\n",
       "      <td>Community Wellbeing &amp; Social Care</td>\n",
       "      <td>Payment to Private Contractors</td>\n",
       "      <td>10326</td>\n",
       "    </tr>\n",
       "    <tr>\n",
       "      <th>6</th>\n",
       "      <td>Childrens Services</td>\n",
       "      <td>Payment to Private Contractors</td>\n",
       "      <td>10937</td>\n",
       "    </tr>\n",
       "    <tr>\n",
       "      <th>7</th>\n",
       "      <td>Economy &amp; Environment</td>\n",
       "      <td>Payment to Private Contractors</td>\n",
       "      <td>15847</td>\n",
       "    </tr>\n",
       "    <tr>\n",
       "      <th>8</th>\n",
       "      <td>Resources</td>\n",
       "      <td>Payment to Private Contractors</td>\n",
       "      <td>11123</td>\n",
       "    </tr>\n",
       "    <tr>\n",
       "      <th>9</th>\n",
       "      <td>Corporate</td>\n",
       "      <td>Payment to Private Contractors</td>\n",
       "      <td>19292</td>\n",
       "    </tr>\n",
       "    <tr>\n",
       "      <th>10</th>\n",
       "      <td>Community Wellbeing &amp; Social Care</td>\n",
       "      <td>Operational Equipment</td>\n",
       "      <td>13877</td>\n",
       "    </tr>\n",
       "    <tr>\n",
       "      <th>11</th>\n",
       "      <td>Childrens Services</td>\n",
       "      <td>Operational Equipment</td>\n",
       "      <td>17307</td>\n",
       "    </tr>\n",
       "    <tr>\n",
       "      <th>12</th>\n",
       "      <td>Economy &amp; Environment</td>\n",
       "      <td>Operational Equipment</td>\n",
       "      <td>17283</td>\n",
       "    </tr>\n",
       "    <tr>\n",
       "      <th>13</th>\n",
       "      <td>Resources</td>\n",
       "      <td>Operational Equipment</td>\n",
       "      <td>16914</td>\n",
       "    </tr>\n",
       "    <tr>\n",
       "      <th>14</th>\n",
       "      <td>Corporate</td>\n",
       "      <td>Operational Equipment</td>\n",
       "      <td>6875</td>\n",
       "    </tr>\n",
       "    <tr>\n",
       "      <th>15</th>\n",
       "      <td>Community Wellbeing &amp; Social Care</td>\n",
       "      <td>Professional Services</td>\n",
       "      <td>17659</td>\n",
       "    </tr>\n",
       "    <tr>\n",
       "      <th>16</th>\n",
       "      <td>Childrens Services</td>\n",
       "      <td>Professional Services</td>\n",
       "      <td>6360</td>\n",
       "    </tr>\n",
       "    <tr>\n",
       "      <th>17</th>\n",
       "      <td>Economy &amp; Environment</td>\n",
       "      <td>Professional Services</td>\n",
       "      <td>10718</td>\n",
       "    </tr>\n",
       "    <tr>\n",
       "      <th>18</th>\n",
       "      <td>Resources</td>\n",
       "      <td>Professional Services</td>\n",
       "      <td>9486</td>\n",
       "    </tr>\n",
       "    <tr>\n",
       "      <th>19</th>\n",
       "      <td>Corporate</td>\n",
       "      <td>Professional Services</td>\n",
       "      <td>12682</td>\n",
       "    </tr>\n",
       "  </tbody>\n",
       "</table>\n",
       "</div>"
      ],
      "text/plain": [
       "                         directorates                        variable  value\n",
       "0   Community Wellbeing & Social Care             Accommodation Costs  17018\n",
       "1                  Childrens Services             Accommodation Costs  10913\n",
       "2               Economy & Environment             Accommodation Costs  10973\n",
       "3                           Resources             Accommodation Costs  10080\n",
       "4                           Corporate             Accommodation Costs  13596\n",
       "5   Community Wellbeing & Social Care  Payment to Private Contractors  10326\n",
       "6                  Childrens Services  Payment to Private Contractors  10937\n",
       "7               Economy & Environment  Payment to Private Contractors  15847\n",
       "8                           Resources  Payment to Private Contractors  11123\n",
       "9                           Corporate  Payment to Private Contractors  19292\n",
       "10  Community Wellbeing & Social Care           Operational Equipment  13877\n",
       "11                 Childrens Services           Operational Equipment  17307\n",
       "12              Economy & Environment           Operational Equipment  17283\n",
       "13                          Resources           Operational Equipment  16914\n",
       "14                          Corporate           Operational Equipment   6875\n",
       "15  Community Wellbeing & Social Care           Professional Services  17659\n",
       "16                 Childrens Services           Professional Services   6360\n",
       "17              Economy & Environment           Professional Services  10718\n",
       "18                          Resources           Professional Services   9486\n",
       "19                          Corporate           Professional Services  12682"
      ]
     },
     "execution_count": 26,
     "metadata": {},
     "output_type": "execute_result"
    }
   ],
   "source": [
    "simple_melt = pd.melt(simple_wide, id_vars=['directorates'], value_vars=expensetypes)\n",
    "simple_melt"
   ]
  },
  {
   "cell_type": "code",
   "execution_count": 27,
   "metadata": {},
   "outputs": [
    {
     "data": {
      "text/plain": [
       "\"The DataFrame 'simple_melt' has 20 rows and 3 columns.\""
      ]
     },
     "execution_count": 27,
     "metadata": {},
     "output_type": "execute_result"
    }
   ],
   "source": [
    "shape_name('simple_melt')\n"
   ]
  },
  {
   "cell_type": "code",
   "execution_count": 28,
   "metadata": {},
   "outputs": [
    {
     "data": {
      "text/html": [
       "<div>\n",
       "<style>\n",
       "    .dataframe thead tr:only-child th {\n",
       "        text-align: right;\n",
       "    }\n",
       "\n",
       "    .dataframe thead th {\n",
       "        text-align: left;\n",
       "    }\n",
       "\n",
       "    .dataframe tbody tr th {\n",
       "        vertical-align: top;\n",
       "    }\n",
       "</style>\n",
       "<table border=\"1\" class=\"dataframe\">\n",
       "  <thead>\n",
       "    <tr style=\"text-align: right;\">\n",
       "      <th></th>\n",
       "      <th>directorates</th>\n",
       "      <th>variable</th>\n",
       "      <th>value</th>\n",
       "    </tr>\n",
       "  </thead>\n",
       "  <tbody>\n",
       "    <tr>\n",
       "      <th>0</th>\n",
       "      <td>Community Wellbeing &amp; Social Care</td>\n",
       "      <td>Accommodation Costs</td>\n",
       "      <td>17018</td>\n",
       "    </tr>\n",
       "    <tr>\n",
       "      <th>1</th>\n",
       "      <td>Childrens Services</td>\n",
       "      <td>Accommodation Costs</td>\n",
       "      <td>10913</td>\n",
       "    </tr>\n",
       "    <tr>\n",
       "      <th>2</th>\n",
       "      <td>Economy &amp; Environment</td>\n",
       "      <td>Accommodation Costs</td>\n",
       "      <td>10973</td>\n",
       "    </tr>\n",
       "    <tr>\n",
       "      <th>3</th>\n",
       "      <td>Resources</td>\n",
       "      <td>Accommodation Costs</td>\n",
       "      <td>10080</td>\n",
       "    </tr>\n",
       "    <tr>\n",
       "      <th>4</th>\n",
       "      <td>Corporate</td>\n",
       "      <td>Accommodation Costs</td>\n",
       "      <td>13596</td>\n",
       "    </tr>\n",
       "    <tr>\n",
       "      <th>5</th>\n",
       "      <td>Community Wellbeing &amp; Social Care</td>\n",
       "      <td>Operational Equipment</td>\n",
       "      <td>13877</td>\n",
       "    </tr>\n",
       "    <tr>\n",
       "      <th>6</th>\n",
       "      <td>Childrens Services</td>\n",
       "      <td>Operational Equipment</td>\n",
       "      <td>17307</td>\n",
       "    </tr>\n",
       "    <tr>\n",
       "      <th>7</th>\n",
       "      <td>Economy &amp; Environment</td>\n",
       "      <td>Operational Equipment</td>\n",
       "      <td>17283</td>\n",
       "    </tr>\n",
       "    <tr>\n",
       "      <th>8</th>\n",
       "      <td>Resources</td>\n",
       "      <td>Operational Equipment</td>\n",
       "      <td>16914</td>\n",
       "    </tr>\n",
       "    <tr>\n",
       "      <th>9</th>\n",
       "      <td>Corporate</td>\n",
       "      <td>Operational Equipment</td>\n",
       "      <td>6875</td>\n",
       "    </tr>\n",
       "  </tbody>\n",
       "</table>\n",
       "</div>"
      ],
      "text/plain": [
       "                        directorates               variable  value\n",
       "0  Community Wellbeing & Social Care    Accommodation Costs  17018\n",
       "1                 Childrens Services    Accommodation Costs  10913\n",
       "2              Economy & Environment    Accommodation Costs  10973\n",
       "3                          Resources    Accommodation Costs  10080\n",
       "4                          Corporate    Accommodation Costs  13596\n",
       "5  Community Wellbeing & Social Care  Operational Equipment  13877\n",
       "6                 Childrens Services  Operational Equipment  17307\n",
       "7              Economy & Environment  Operational Equipment  17283\n",
       "8                          Resources  Operational Equipment  16914\n",
       "9                          Corporate  Operational Equipment   6875"
      ]
     },
     "execution_count": 28,
     "metadata": {},
     "output_type": "execute_result"
    }
   ],
   "source": [
    "simple_melt_select = pd.melt(simple_wide,\n",
    "                             id_vars=['directorates'],\n",
    "                             value_vars=['Accommodation Costs','Operational Equipment'])\n",
    "simple_melt_select"
   ]
  },
  {
   "cell_type": "code",
   "execution_count": 29,
   "metadata": {},
   "outputs": [
    {
     "data": {
      "text/plain": [
       "\"The DataFrame 'simple_melt_select' has 10 rows and 3 columns.\""
      ]
     },
     "execution_count": 29,
     "metadata": {},
     "output_type": "execute_result"
    }
   ],
   "source": [
    "shape_name('simple_melt_select')\n"
   ]
  },
  {
   "cell_type": "markdown",
   "metadata": {},
   "source": [
    "We can unmelt using a `pivot()`, followed by `reset_index()` to convert the hierarchical index values to columns. Note, however, that we are left with the index column named as `variable`. (This doesn't matter, but it's not very tidy!)"
   ]
  },
  {
   "cell_type": "code",
   "execution_count": null,
   "metadata": {
    "collapsed": true
   },
   "outputs": [],
   "source": [
    "simple_unmelt = simple_melt.pivot('directorates', 'variable', 'value').reset_index()\n",
    "simple_unmelt"
   ]
  },
  {
   "cell_type": "markdown",
   "metadata": {},
   "source": [
    "## Why is reshaping data useful?"
   ]
  },
  {
   "cell_type": "markdown",
   "metadata": {},
   "source": [
    "By this stage, you may be thinking: *this is all very interesting, but so what?*\n",
    "\n",
    "Many datasets that you are likely to find will come in shapes determined by the publisher. By reshaping a dataset, you may be able to filter it naturally by row or column in a way that is at worst impossible, or at best difficult or clumsy to achieve, using the data in a different shape.\n",
    "\n",
    "In addition, many plotting tools require data to be in a particular shape in order to produce charts of a particular style. The graphics libraries can do the plotting work for you, but only if you give the data to them in the shape they need."
   ]
  },
  {
   "cell_type": "markdown",
   "metadata": {},
   "source": [
    "## What next?"
   ]
  },
  {
   "cell_type": "markdown",
   "metadata": {
    "code_folding": [
     0
    ]
   },
   "source": [
    "If you are working through this Notebook as part of an inline exercise, return to the module materials now.\n",
    "\n",
    "If you are working through this set of Notebooks as a whole, you've completed the Part 4 Notebooks. It's time to move on to Part 5."
   ]
  }
 ],
 "metadata": {
  "kernelspec": {
   "display_name": "Python 3",
   "language": "python",
   "name": "python3"
  },
  "language_info": {
   "codemirror_mode": {
    "name": "ipython",
    "version": 3
   },
   "file_extension": ".py",
   "mimetype": "text/x-python",
   "name": "python",
   "nbconvert_exporter": "python",
   "pygments_lexer": "ipython3",
   "version": "3.5.2"
  }
 },
 "nbformat": 4,
 "nbformat_minor": 1
}
