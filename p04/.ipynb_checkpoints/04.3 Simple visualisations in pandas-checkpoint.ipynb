{
 "cells": [
  {
   "cell_type": "markdown",
   "metadata": {},
   "source": [
    "# Descriptive visualisations \n",
    "## Using *pandas* `plot()`"
   ]
  },
  {
   "cell_type": "code",
   "execution_count": null,
   "metadata": {
    "collapsed": true
   },
   "outputs": [],
   "source": [
    "import pandas as pd\n",
    "\n",
    "import matplotlib.pyplot as plt"
   ]
  },
  {
   "cell_type": "markdown",
   "metadata": {},
   "source": [
    "In this Notebook we're going to take a quick look at a way to visualise data stored in a _pandas_ Series or DataFrame. We will, in a later part of the module, take a more in-depth look at producing visualisations of data - but for now we just want to be able to look at the content of our data in a quick and easy way.\n",
    "\n",
    "Here we'll use _pandas_ `plot()` - because it's got a handful of useful keyword parameters, and throw in a couple of features from the more complex `matplotlib.pyplot` library that underpins the _pandas_ `plot()` code - just to show they're compatible.  \n",
    "\n",
    "You can use `plot()` to get the majority of a chart plotted, then 'tweak' it with the `matplotlib.pyplot` facilities."
   ]
  },
  {
   "cell_type": "markdown",
   "metadata": {},
   "source": [
    "# Plotting a Series"
   ]
  },
  {
   "cell_type": "code",
   "execution_count": null,
   "metadata": {},
   "outputs": [],
   "source": [
    "# Remember the pandas Series data structure.\n",
    "Aseries = pd.Series([1, 3, 2, 6, 5])\n",
    "print(Aseries)"
   ]
  },
  {
   "cell_type": "code",
   "execution_count": null,
   "metadata": {},
   "outputs": [],
   "source": [
    "# Well here's how it looks as a very simple line plot.\n",
    "Aseries.plot()"
   ]
  },
  {
   "cell_type": "markdown",
   "metadata": {},
   "source": [
    "OK, well that doesn't look very interesting - what it has done is taken the `Aseries` values as the _y_ coordinate values and the `Aseries` index values as the _x_ coordinate values and joined the points they represent with a blue line. I'll add some axes names to show this."
   ]
  },
  {
   "cell_type": "code",
   "execution_count": null,
   "metadata": {},
   "outputs": [],
   "source": [
    "Aseries.plot(title='A simple line plot')\n",
    "plt.xlabel('The Aseries index values')\n",
    "plt.ylabel('The Aseries values')\n",
    "# The plt methods are applied to the 'active' plot object, \n",
    "#     which isn't displayed until the end of the cell is reached.\n",
    "# Note: in some versions of the Notebooks it is necessary to execute a plt.show() \n",
    "#       method to see the chart.\n",
    "# plt.show()"
   ]
  },
  {
   "cell_type": "markdown",
   "metadata": {},
   "source": [
    "Hmm, that still looks a bit messy - let's put some space around the _x_ and _y_ limits to show that the plot isn't just running off the chart edges."
   ]
  },
  {
   "cell_type": "code",
   "execution_count": null,
   "metadata": {},
   "outputs": [],
   "source": [
    "Aseries.plot(title='A simple line plot', xlim=(-0.5, 4.5), ylim=(0,7))\n",
    "# xlim and ylim are tuples showing the lowest and highest values to show on the axes \n",
    "plt.xlabel('The Aseries index values')\n",
    "plt.ylabel('The Aseries values')\n"
   ]
  },
  {
   "cell_type": "markdown",
   "metadata": {},
   "source": [
    "I'd prefer a bar plot rather than a line plot, and blue really isn't my favourite colour right now."
   ]
  },
  {
   "cell_type": "code",
   "execution_count": null,
   "metadata": {},
   "outputs": [],
   "source": [
    "Aseries.plot.bar(title='A simple bar plot', xlim=(-0.5, 4.5), ylim=(0,7), color='red')\n",
    "plt.xlabel('The Aseries index values')\n",
    "plt.ylabel('The Aseries values')"
   ]
  },
  {
   "cell_type": "markdown",
   "metadata": {},
   "source": [
    "And it could do with being drawn a bit bigger:"
   ]
  },
  {
   "cell_type": "code",
   "execution_count": null,
   "metadata": {},
   "outputs": [],
   "source": [
    "Aseries.plot.bar(title='A simple bar plot', xlim=(-0.5, 4.5), ylim=(0,7), \n",
    "                 color='red', figsize=(10,10))\n",
    "plt.xlabel('The Aseries index values')\n",
    "plt.ylabel('The Aseries values')\n",
    "# figsize is (width, height) both in inches."
   ]
  },
  {
   "cell_type": "markdown",
   "metadata": {},
   "source": [
    "Not bad, but there's more.  Recall we could set our own index names - well `plot()` will use those too."
   ]
  },
  {
   "cell_type": "code",
   "execution_count": null,
   "metadata": {},
   "outputs": [],
   "source": [
    "NewSeries = pd.Series([1, 4, 5, 7, 2], \n",
    "                      index=['Andy', 'Anne', 'Arnold', 'Arthur', 'Ardvark'])"
   ]
  },
  {
   "cell_type": "code",
   "execution_count": null,
   "metadata": {},
   "outputs": [],
   "source": [
    "NewSeries.plot()\n",
    "# Note that since we not included any additional instructions to plot\n",
    "# the default is to produce a line plot"
   ]
  },
  {
   "cell_type": "code",
   "execution_count": null,
   "metadata": {},
   "outputs": [],
   "source": [
    "# We can do better than that.\n",
    "NewSeries.plot.bar(title=\"It's not that simple a plot any more\", \n",
    "                   xlim=(-1, 5), ylim=(0,max(NewSeries.values)+1), \n",
    "                   color='green')\n",
    "plt.xlabel('The NewSeries index values')\n",
    "plt.ylabel('The NewSeries values')"
   ]
  },
  {
   "cell_type": "code",
   "execution_count": null,
   "metadata": {},
   "outputs": [],
   "source": [
    "# And of course, a sorted Series will be plotted in sorted order:\n",
    "NewSeries.sort_values(inplace=True)\n",
    "NewSeries.plot.bar(title=\"It's not that simple a plot any more\", \n",
    "                      xlim=(-1, 5), ylim=(0,max(NewSeries.values)+1),\n",
    "                      color='green')\n",
    "plt.xlabel('The NewSeries index values')\n",
    "plt.ylabel('The Sorted NewSeries values')"
   ]
  },
  {
   "cell_type": "markdown",
   "metadata": {},
   "source": [
    "One last thing - I'm told that simple bar charts should have the category value on the _y_-axis, and the values on the _x_-axis. It's such common practice there's a `plot()` specialisation for that too - the `barh` for bar-horizontal."
   ]
  },
  {
   "cell_type": "code",
   "execution_count": null,
   "metadata": {},
   "outputs": [],
   "source": [
    "# BUT do remember you've just switched the v and y axes, so xlim and ylim need switching too!\n",
    "#   Oh yes, and the xlabel and ylabel too.\n",
    "NewSeries.sort_values(inplace=True)\n",
    "NewSeries.plot.barh(title=\"It's not that simple a plot any more\", \n",
    "                      ylim=(-1, 5), xlim=(0,max(NewSeries.values)+1), \n",
    "                      color='green')\n",
    "plt.ylabel('The NewSeries index values')\n",
    "plt.xlabel('The Sorted NewSeries values')"
   ]
  },
  {
   "cell_type": "markdown",
   "metadata": {},
   "source": [
    "# Plotting from a DataFrame"
   ]
  },
  {
   "cell_type": "markdown",
   "metadata": {},
   "source": [
    "The DataFrame structure can have several named columns, and each column is a Series; we can use these columns to plot two variables (one from one column, one from another).  This gives us an ability to plot without depending on the use of the index column.  (Having `plot()` use named index columns is a very useful way to plot data about named things (rows).)"
   ]
  },
  {
   "cell_type": "markdown",
   "metadata": {},
   "source": [
    "We'll start with a simple DataFrame and chose which columns to use as our _x_ and _y_ value pairs to plot. This will allow us to create another kind of plot: a scatter plot."
   ]
  },
  {
   "cell_type": "code",
   "execution_count": null,
   "metadata": {},
   "outputs": [],
   "source": [
    "# Here's our DataFrame - it has five columns: itemname, price, postcost, weight, size\n",
    "# and we've created it with 9 rows.\n",
    "PostData = pd.DataFrame( [('Box', 3, 10, 10, 3), ('Case', 8, 10,17,5), \n",
    "                          ('Drawer',12,23,32,12), ('Shelf', 52,23,46,17), \n",
    "                          ('Cabinet',7,10,27,9), ('Rack', 47,23,30,10), \n",
    "                          ('Bag',3,30,147,59), ('Hanger',30,23,62,23), \n",
    "                          ('Bracket', 3,30,92.5,37) ], \n",
    "                        columns=['itemname','price','postcost','weight','size'])\n",
    "print(PostData)"
   ]
  },
  {
   "cell_type": "markdown",
   "metadata": {},
   "source": [
    "Now let's plot `itemname` against `weight` as a horizontal bar chart."
   ]
  },
  {
   "cell_type": "code",
   "execution_count": null,
   "metadata": {},
   "outputs": [],
   "source": [
    "PostData.plot.barh(x='itemname', y='weight')"
   ]
  },
  {
   "cell_type": "markdown",
   "metadata": {},
   "source": [
    "Here's a scatter plot of `size` against `postcost`; in the scatter plot, each point is shown as a dot."
   ]
  },
  {
   "cell_type": "code",
   "execution_count": null,
   "metadata": {},
   "outputs": [],
   "source": [
    "PostData.plot.scatter(x='size', y='postcost', color='black')"
   ]
  },
  {
   "cell_type": "markdown",
   "metadata": {},
   "source": [
    "For this very small sample, there does seem to be some kind of relationship between `size` and `postcost`: as `size` increases so does `postcode` in a step manner.  \n",
    "\n",
    "Scatter diagrams are good for getting a quick peek at how reasonable it is to look for a correlation between two variables (but of course, we need to treat correlation carefully)."
   ]
  },
  {
   "cell_type": "markdown",
   "metadata": {
    "activity": "activity"
   },
   "source": [
    "## Exercise\n",
    "Why not plot some other column pairs to see if there is any similar suggestions of correlations?"
   ]
  },
  {
   "cell_type": "code",
   "execution_count": null,
   "metadata": {
    "activity": "activity"
   },
   "outputs": [],
   "source": [
    "# Your turn. \n",
    "# PostData.plot(x='', y='', kind='scatter') "
   ]
  },
  {
   "cell_type": "markdown",
   "metadata": {},
   "source": [
    "# More than one DataFrame column on the same chart"
   ]
  },
  {
   "cell_type": "markdown",
   "metadata": {},
   "source": [
    "A DataFrame has multiple columns.  What happens if we just tell `plot()` which to use as the _x_ axis and leave it to decide what to do with the other columns?"
   ]
  },
  {
   "cell_type": "code",
   "execution_count": null,
   "metadata": {},
   "outputs": [],
   "source": [
    "PostData.plot.barh(x='itemname')"
   ]
  },
  {
   "cell_type": "markdown",
   "metadata": {},
   "source": [
    "OK, that's neat: `plot()` has spotted the multiple columns and plotted each one in a different colour and shown us what the relationship is between colour and column name (The mini-table is called a legend.)"
   ]
  },
  {
   "cell_type": "code",
   "execution_count": null,
   "metadata": {},
   "outputs": [],
   "source": [
    "# By setting the parameter subplots to 'True', we can plot each column in its own subplot.\n",
    "PostData.plot.barh(x='itemname', subplots='True', figsize=(30,20))"
   ]
  },
  {
   "cell_type": "markdown",
   "metadata": {},
   "source": [
    "We also have control over which columns to include on the _y_-axis by supplying a list for the `y` parameter."
   ]
  },
  {
   "cell_type": "code",
   "execution_count": null,
   "metadata": {},
   "outputs": [],
   "source": [
    "PostData.plot.bar(x='itemname', y=['size','price'])"
   ]
  },
  {
   "cell_type": "code",
   "execution_count": null,
   "metadata": {},
   "outputs": [],
   "source": [
    "# Since we have multiple columns, we need a list if we're going to set our own colours.\n",
    "PostData.plot.bar(x='itemname', y=['size','price'], color=['red','black'])"
   ]
  },
  {
   "cell_type": "markdown",
   "metadata": {},
   "source": [
    "`plot()` detects when datatypes in the columns wouldn't make for a sensible plot; in the following cell we've plotted `postcost` as the _x_-axis, and left `plot()` to sort out the rest. Since `itemname` wouldn't be sensible to plot on a numeric scale, it's omitted.  \n",
    "\n",
    "Note: because bar charts are usually used to represent catagorical data, the `postcost` values are not sorted on the axis, although we could if we chose."
   ]
  },
  {
   "cell_type": "code",
   "execution_count": null,
   "metadata": {},
   "outputs": [],
   "source": [
    "PostData.plot.barh(x='postcost')"
   ]
  },
  {
   "cell_type": "code",
   "execution_count": null,
   "metadata": {},
   "outputs": [],
   "source": [
    "PostData.sort_values('postcost').plot.barh(x='postcost')"
   ]
  },
  {
   "cell_type": "markdown",
   "metadata": {},
   "source": [
    "There's a variation on the `bar` and `barh` plot specialisations when plotting multiple values - you can stack the columns into a single bar."
   ]
  },
  {
   "cell_type": "code",
   "execution_count": null,
   "metadata": {},
   "outputs": [],
   "source": [
    "PostData.plot.bar(x='itemname', stacked='True')"
   ]
  },
  {
   "cell_type": "markdown",
   "metadata": {},
   "source": [
    "Finally, if you don't like the colour scheme chosen by `plot()`, you can apply one from a range of built-in colour maps (just put `'x'` as the name of the colormap to see what names are possible; they get listed at the end of the error message)."
   ]
  },
  {
   "cell_type": "code",
   "execution_count": null,
   "metadata": {},
   "outputs": [],
   "source": [
    "PostData.plot.bar(x='itemname', y=['price','postcost'], stacked='true', colormap='x')"
   ]
  },
  {
   "cell_type": "code",
   "execution_count": null,
   "metadata": {},
   "outputs": [],
   "source": [
    "PostData.plot.bar(x='itemname', y=['price','postcost'], stacked='true', colormap='Oranges')"
   ]
  },
  {
   "cell_type": "code",
   "execution_count": null,
   "metadata": {},
   "outputs": [],
   "source": [
    "# And using the list form for y, you can reorder the way the columns stack.\n",
    "PostData.plot.bar(x='itemname', y=['postcost','size', 'price', 'weight'], \n",
    "                stacked='true', colormap='Dark2_r')"
   ]
  },
  {
   "cell_type": "markdown",
   "metadata": {
    "collapsed": true
   },
   "source": [
    "### Another use for `colormap`\n",
    "Now that we've seen the `colormap` parameter we can do one more thing on scatter diagram: using an additional column.\n",
    "\n",
    "We can plot two variables onto the chart, and colour each dot based on the values in a third column.\n",
    "In the plot below, the `c` parameter is the column name whose value determines the colour of the dot used in the scatter plot."
   ]
  },
  {
   "cell_type": "code",
   "execution_count": null,
   "metadata": {},
   "outputs": [],
   "source": [
    "PostData.plot.scatter(x='size', y='weight', c='postcost', colormap='autumn')"
   ]
  },
  {
   "cell_type": "markdown",
   "metadata": {
    "collapsed": true
   },
   "source": [
    "It doesn't look very impressive with only nine elements in the DataFrame, but this is another way of spotting clustering and grouping within values in a DataFrame."
   ]
  },
  {
   "cell_type": "markdown",
   "metadata": {},
   "source": [
    "## Summary\n",
    "This has been a very quick overview of the `plot()` method and its specialisations (`bar`, `barh`, `scatter`, `line`).   Later in the module we'll look in more detail at visualisation, and other examples of plot types that are available from _pandas_ `plot()` and the `matplotlib` library.\n",
    "\n",
    "In this Notebook we've looked at:\n",
    "\n",
    "- `plot()` using *pandas* Series and DataFrames (including using multiple columns)\n",
    "- line, bar, bar-horizontal and scatter plots\n",
    "- using index values as catagory labels in bar charts\n",
    "- setting the title for the chart and the axes\n",
    "- using sorting, colour, colour maps and axes limit parameters to make the chart look tidier.\n",
    "\n",
    "That's probably sufficient for this point in the module."
   ]
  },
  {
   "cell_type": "markdown",
   "metadata": {},
   "source": [
    "# What next?"
   ]
  },
  {
   "cell_type": "markdown",
   "metadata": {},
   "source": [
    "If you are working through this Notebook as part of an inline exercise, return to the module materials now.\n",
    "\n",
    "If you are working through this set of Notebooks as a whole, move on to `04.5 Split-apply-combine with SQL and pandas`.\n",
    "\n",
    "Note: Notebook `04.4 Activity 4.4 walkthrough` accompanies Activity 4.4 in Part 4."
   ]
  }
 ],
 "metadata": {
  "kernelspec": {
   "display_name": "Python 3",
   "language": "python",
   "name": "python3"
  },
  "language_info": {
   "codemirror_mode": {
    "name": "ipython",
    "version": 3
   },
   "file_extension": ".py",
   "mimetype": "text/x-python",
   "name": "python",
   "nbconvert_exporter": "python",
   "pygments_lexer": "ipython3",
   "version": "3.5.2"
  }
 },
 "nbformat": 4,
 "nbformat_minor": 1
}
