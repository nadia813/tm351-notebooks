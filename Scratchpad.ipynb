{
 "cells": [
  {
   "cell_type": "markdown",
   "metadata": {},
   "source": [
    "# Pandas Library"
   ]
  },
  {
   "cell_type": "code",
   "execution_count": 2,
   "metadata": {
    "collapsed": true
   },
   "outputs": [],
   "source": [
    "# first we need to import pandas.  Convention is variable pd\n",
    "import pandas as pd\n",
    "\n",
    "# make a list and dict to use pandas on\n",
    "simple_list = ['apples', 'oranges', 'bananas', 'pears']\n"
   ]
  },
  {
   "cell_type": "code",
   "execution_count": 8,
   "metadata": {},
   "outputs": [
    {
     "name": "stdout",
     "output_type": "stream",
     "text": [
      "First list item (simple_list[0]) is apples\n",
      "Third list item (simple_list[2]) is bananas\n",
      "Last list item (simple_list[-1]) is pears\n",
      "2nd last list item (simple_list[-2]) is bananas\n"
     ]
    }
   ],
   "source": [
    "# print out list\n",
    "print('First list item (simple_list[0]) is {0}'.format(simple_list[0]))\n",
    "print('Third list item (simple_list[2]) is {0}'.format(simple_list[2]))\n",
    "print('Last list item (simple_list[-1]) is {0}'.format(simple_list[-1]))\n",
    "print('2nd last list item (simple_list[-2]) is {0}'.format(simple_list[-2]))"
   ]
  },
  {
   "cell_type": "markdown",
   "metadata": {},
   "source": [
    "Make a simple dictionary"
   ]
  },
  {
   "cell_type": "code",
   "execution_count": 9,
   "metadata": {},
   "outputs": [
    {
     "name": "stdout",
     "output_type": "stream",
     "text": [
      "Item with key (index) '4' has value: four\n"
     ]
    }
   ],
   "source": [
    "simple_dict = {1:'one', 2:'two', 4:'four', 3:'three'}\n",
    "print(\"Item with key (index) '4' has value: {}\".format(simple_dict[4]))"
   ]
  },
  {
   "cell_type": "markdown",
   "metadata": {},
   "source": [
    "We can iterate through all keys using for loop"
   ]
  },
  {
   "cell_type": "code",
   "execution_count": 10,
   "metadata": {},
   "outputs": [
    {
     "name": "stdout",
     "output_type": "stream",
     "text": [
      "one\n",
      "two\n",
      "three\n",
      "four\n"
     ]
    }
   ],
   "source": [
    "for key in simple_dict:\n",
    "    print(simple_dict[key])"
   ]
  },
  {
   "cell_type": "markdown",
   "metadata": {},
   "source": [
    "<span style=\"color:#3388CC\">\n",
    "Indigo note.\n",
    "</span>"
   ]
  },
  {
   "cell_type": "markdown",
   "metadata": {},
   "source": [
    "Or we can use _list comprehension_<span style=\"color:#3A9C35\">\n",
    "Kuma\n",
    "</span>\n",
    "iterm\n",
    "\n",
    "test"
   ]
  },
  {
   "cell_type": "code",
   "execution_count": 14,
   "metadata": {},
   "outputs": [
    {
     "name": "stdout",
     "output_type": "stream",
     "text": [
      "[1, 2, 3, 4]\n",
      "['one', 'two', 'three', 'four']\n"
     ]
    }
   ],
   "source": [
    "print(list(simple_dict.keys()))\n",
    "print(list(simple_dict.values()))"
   ]
  },
  {
   "cell_type": "markdown",
   "metadata": {},
   "source": [
    "we can use a list or dict comprehension to filter the contents of an object according to a test condition."
   ]
  },
  {
   "cell_type": "code",
   "execution_count": 15,
   "metadata": {},
   "outputs": [
    {
     "data": {
      "text/plain": [
       "['three', 'four']"
      ]
     },
     "execution_count": 15,
     "metadata": {},
     "output_type": "execute_result"
    }
   ],
   "source": [
    "[simple_dict[k] for k in simple_dict if k>2]"
   ]
  },
  {
   "cell_type": "markdown",
   "metadata": {},
   "source": [
    "Simple way to reverse a dictionary using zip()"
   ]
  },
  {
   "cell_type": "code",
   "execution_count": 24,
   "metadata": {},
   "outputs": [
    {
     "name": "stdout",
     "output_type": "stream",
     "text": [
      "('one', 1)\n",
      "('two', 2)\n",
      "('three', 3)\n",
      "('four', 4)\n"
     ]
    }
   ],
   "source": [
    "# zip into a collection of tuples\n",
    "alt_dict = zip(simple_dict.values(), simple_dict.keys())\n",
    "for e in alt_dict:\n",
    "    print(e)"
   ]
  },
  {
   "cell_type": "code",
   "execution_count": 28,
   "metadata": {},
   "outputs": [
    {
     "name": "stdout",
     "output_type": "stream",
     "text": [
      "{'four': 4, 'two': 2, 'one': 1, 'three': 3}\n"
     ]
    }
   ],
   "source": [
    "# concise method:\n",
    "alternative_dict = dict(zip(simple_dict.values(), simple_dict.keys()))\n",
    "\n",
    "print(alternative_dict)"
   ]
  },
  {
   "cell_type": "markdown",
   "metadata": {},
   "source": [
    "## Pandas Series and Dataframes"
   ]
  },
  {
   "cell_type": "code",
   "execution_count": 30,
   "metadata": {},
   "outputs": [
    {
     "data": {
      "text/plain": [
       "0      one\n",
       "1      two\n",
       "2    three\n",
       "3     four\n",
       "dtype: object"
      ]
     },
     "execution_count": 30,
     "metadata": {},
     "output_type": "execute_result"
    }
   ],
   "source": [
    "pd.Series( ['one', 'two', 'three', 'four'] )"
   ]
  },
  {
   "cell_type": "code",
   "execution_count": 31,
   "metadata": {},
   "outputs": [
    {
     "data": {
      "text/plain": [
       "0    101\n",
       "1    102\n",
       "2    103\n",
       "3    104\n",
       "dtype: int64"
      ]
     },
     "execution_count": 31,
     "metadata": {},
     "output_type": "execute_result"
    }
   ],
   "source": [
    "# we can simplify the creation of a Series by importingi it from pandas directly\n",
    "from pandas import Series\n",
    "simple_series = Series( [101, 102, 103, 104])\n",
    "simple_series"
   ]
  },
  {
   "cell_type": "code",
   "execution_count": 32,
   "metadata": {},
   "outputs": [
    {
     "data": {
      "text/plain": [
       "102"
      ]
     },
     "execution_count": 32,
     "metadata": {},
     "output_type": "execute_result"
    }
   ],
   "source": [
    "simple_series[1]"
   ]
  },
  {
   "cell_type": "code",
   "execution_count": 33,
   "metadata": {},
   "outputs": [
    {
     "data": {
      "text/plain": [
       "1    102\n",
       "0    101\n",
       "3    104\n",
       "dtype: int64"
      ]
     },
     "execution_count": 33,
     "metadata": {},
     "output_type": "execute_result"
    }
   ],
   "source": [
    "simple_series[[1, 0, 3]]"
   ]
  },
  {
   "cell_type": "code",
   "execution_count": 34,
   "metadata": {},
   "outputs": [
    {
     "name": "stdout",
     "output_type": "stream",
     "text": [
      "Index(['one', 'two', 'three', 'four'], dtype='object')\n"
     ]
    },
    {
     "data": {
      "text/plain": [
       "one       apple\n",
       "two      orange\n",
       "three      pear\n",
       "four       plum\n",
       "dtype: object"
      ]
     },
     "execution_count": 34,
     "metadata": {},
     "output_type": "execute_result"
    }
   ],
   "source": [
    "myindex_series = Series( ['apple', 'orange', 'pear', 'plum'],\n",
    "                       index=['one', 'two', 'three', 'four'])\n",
    "print(myindex_series.index)\n",
    "myindex_series"
   ]
  },
  {
   "cell_type": "code",
   "execution_count": null,
   "metadata": {
    "collapsed": true
   },
   "outputs": [],
   "source": []
  }
 ],
 "metadata": {
  "kernelspec": {
   "display_name": "Python 3",
   "language": "python",
   "name": "python3"
  },
  "language_info": {
   "codemirror_mode": {
    "name": "ipython",
    "version": 3
   },
   "file_extension": ".py",
   "mimetype": "text/x-python",
   "name": "python",
   "nbconvert_exporter": "python",
   "pygments_lexer": "ipython3",
   "version": "3.5.2"
  }
 },
 "nbformat": 4,
 "nbformat_minor": 2
}
