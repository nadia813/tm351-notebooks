{
 "cells": [
  {
   "cell_type": "markdown",
   "metadata": {},
   "source": [
    "# Exploring the RDFLib package"
   ]
  },
  {
   "cell_type": "markdown",
   "metadata": {},
   "source": [
    "***Before you start working through this notebook please take note of the following.***\n",
    "\n",
    "*When attempting to access data from a remote website you may find that the website is down for maintenance. In this circumstance, you are likely to see a great deal of output from the Python system culminating in an error message such as 'URLError'. The only way forward is to leave what you are doing and check back later to see whether the website has become available.*\n",
    "\n",
    "*However, there is another scenario in which a similar URLError occurs. If you have allowed your computer to sleep or hibernate, it is possible that your virtual machine (VM) will lose information about the ports used to access resources across the Web. In this case you should restart the VM as follows:*\n",
    "\n",
    "    close all browser tabs relating to the Notebooks\n",
    "    \n",
    "*then, either*\n",
    "\n",
    "    double-click on the shortcut 'vagrant reload'\n",
    "    \n",
    "*or, at a command prompt, execute the commands, in order:*\n",
    "\n",
    "    vagrant halt\n",
    "\n",
    "    vagrant up\n",
    "\n",
    "    vagrant provision\n",
    "\n",
    "*You can then reopen your Notebooks.*"
   ]
  },
  {
   "cell_type": "markdown",
   "metadata": {},
   "source": [
    "## 1 Loading data from a file"
   ]
  },
  {
   "cell_type": "markdown",
   "metadata": {},
   "source": [
    "This Notebook will take you through the basic steps for writing Python code to read, create and save RDF graphs (sets of triples).\n",
    "\n",
    "The first thing to do is import the appropriate library, in this case rdflib."
   ]
  },
  {
   "cell_type": "code",
   "execution_count": 1,
   "metadata": {
    "activity": false,
    "collapsed": true
   },
   "outputs": [],
   "source": [
    "import rdflib"
   ]
  },
  {
   "cell_type": "markdown",
   "metadata": {},
   "source": [
    "Next, create an empty graph in memory and assign it to a variable of your choice."
   ]
  },
  {
   "cell_type": "code",
   "execution_count": 2,
   "metadata": {
    "activity": false,
    "collapsed": true
   },
   "outputs": [],
   "source": [
    "mygraph = rdflib.Graph()"
   ]
  },
  {
   "cell_type": "markdown",
   "metadata": {},
   "source": [
    "Now you are ready to read triples from a dataset, located at a specified Web address, into the graph. \n",
    "\n",
    "The format of the dataset might be Turtle, XML or some other encoding, but the rdflib `parse` routine will attempt to convert the dataset into a Python data structure whatever the format. However, it is a good idea to specify the encoding using the `format` argument, e.g. `format=\"xml\"`.\n",
    "\n",
    "**Important:** Normally, the result should appear quite quickly (a few seconds). If you find that the query takes a long time and/or an error is reported such as *URLError* it is likely that the dataset is currently unavailble. Your only choice is to try again at a later time. Unfortunately, in such circumstances the error message is not very helpful in telling you what the underlying problem is.\n",
    "\n",
    "If you find that the dataset is unavailable, skip to 'Alternative example' below which uses a dataset that is stored in your Notebooks file; you can return to the main thread of this Notebook later."
   ]
  },
  {
   "cell_type": "code",
   "execution_count": 3,
   "metadata": {
    "activity": false
   },
   "outputs": [
    {
     "data": {
      "text/plain": [
       "<Graph identifier=N36526bbea28f434989c299dd34c31639 (<class 'rdflib.graph.Graph'>)>"
      ]
     },
     "execution_count": 3,
     "metadata": {},
     "output_type": "execute_result"
    }
   ],
   "source": [
    "mygraph.parse(\"http://www.w3.org/People/Berners-Lee/card.rdf\", format=\"xml\")"
   ]
  },
  {
   "cell_type": "markdown",
   "metadata": {},
   "source": [
    "To check that all is well, compute the number of triples in the graph."
   ]
  },
  {
   "cell_type": "code",
   "execution_count": 4,
   "metadata": {
    "activity": false
   },
   "outputs": [
    {
     "data": {
      "text/plain": [
       "87"
      ]
     },
     "execution_count": 4,
     "metadata": {},
     "output_type": "execute_result"
    }
   ],
   "source": [
    "len(mygraph)"
   ]
  },
  {
   "cell_type": "markdown",
   "metadata": {},
   "source": [
    "rdflib graphs emulate Python's container types and are best thought of as a *set* of unordered triples.\n",
    "\n",
    "The rdflib library also redefines some of Python's methods to behave in ways appropriate to RDF triples; the `len` function is one.\n",
    "\n",
    "Putting this all together:"
   ]
  },
  {
   "cell_type": "code",
   "execution_count": 5,
   "metadata": {
    "activity": false,
    "raw_mimetype": "text/x-python"
   },
   "outputs": [
    {
     "data": {
      "text/plain": [
       "87"
      ]
     },
     "execution_count": 5,
     "metadata": {},
     "output_type": "execute_result"
    }
   ],
   "source": [
    "import rdflib\n",
    "\n",
    "# Create a new graph named mygraph\n",
    "mygraph = rdflib.Graph()\n",
    "\n",
    "# Get data from a dataset \n",
    "mygraph.parse(\"http://www.w3.org/People/Berners-Lee/card.rdf\", format=\"xml\")\n",
    "\n",
    "# Query the data (find the number of triples)\n",
    "len(mygraph)"
   ]
  },
  {
   "cell_type": "markdown",
   "metadata": {},
   "source": [
    "### Alternative example"
   ]
  },
  {
   "cell_type": "markdown",
   "metadata": {},
   "source": [
    "Try the following which uses a dataset that is stored in the `data/` folder."
   ]
  },
  {
   "cell_type": "code",
   "execution_count": 6,
   "metadata": {},
   "outputs": [
    {
     "data": {
      "text/plain": [
       "533"
      ]
     },
     "execution_count": 6,
     "metadata": {},
     "output_type": "execute_result"
    }
   ],
   "source": [
    "import rdflib\n",
    "\n",
    "# Create a new graph named mygraph\n",
    "mygraph = rdflib.Graph()\n",
    "\n",
    "# Get data from a dataset \n",
    "mygraph.parse(\"data/European Geography.ttl\", format=\"turtle\")\n",
    "\n",
    "# Query the data (find the number of triples)\n",
    "len(mygraph)"
   ]
  },
  {
   "cell_type": "markdown",
   "metadata": {},
   "source": [
    "### Summary"
   ]
  },
  {
   "cell_type": "markdown",
   "metadata": {},
   "source": [
    "To read a graph into memory: import rdflib, create a new empty graph using `rdflib.Graph()`, and then read in the data from a file (specified as a URI) using the `parse()` method."
   ]
  },
  {
   "cell_type": "markdown",
   "metadata": {},
   "source": [
    "## 2 Viewing the triples"
   ]
  },
  {
   "cell_type": "markdown",
   "metadata": {},
   "source": [
    "You can iterate through the triples in a graph using a FOR loop (in the following code, `trip` is an arbitrary variable name).\n",
    "\n",
    "Examine a few of the triples (there are quite a few) to get a feeling for the format of the output. The output will depend on whether you attempted the alternative example or not."
   ]
  },
  {
   "cell_type": "code",
   "execution_count": 7,
   "metadata": {
    "activity": false
   },
   "outputs": [
    {
     "name": "stdout",
     "output_type": "stream",
     "text": [
      "(rdflib.term.URIRef('http://www.example.org/geography/Georgia'), rdflib.term.URIRef('http://www.example.org/locatedIn'), rdflib.term.URIRef('http://www.example.org/geography/Asia'))\n",
      "\n",
      "(rdflib.term.URIRef('http://www.example.org/geography/Serbia'), rdflib.term.URIRef('http://www.example.org/hasArea'), rdflib.term.Literal('77474', datatype=rdflib.term.URIRef('http://www.w3.org/2001/XMLSchema#integer')))\n",
      "\n",
      "(rdflib.term.URIRef('http://www.example.org/geography/Austria'), rdflib.term.URIRef('http://www.example.org/hasBorder'), rdflib.term.URIRef('http://www.example.org/geography/Switzerland'))\n",
      "\n",
      "(rdflib.term.URIRef('http://www.example.org/geography/Slovenia'), rdflib.term.URIRef('http://www.example.org/hasBorder'), rdflib.term.URIRef('http://www.example.org/geography/Italy'))\n",
      "\n",
      "(rdflib.term.URIRef('http://www.example.org/geography/Austria'), rdflib.term.URIRef('http://www.example.org/hasName'), rdflib.term.Literal('Oesterreich'))\n",
      "\n",
      "(rdflib.term.URIRef('http://www.example.org/geography/Hungary'), rdflib.term.URIRef('http://www.example.org/hasArea'), rdflib.term.Literal('93028', datatype=rdflib.term.URIRef('http://www.w3.org/2001/XMLSchema#integer')))\n",
      "\n",
      "(rdflib.term.URIRef('http://www.example.org/geography/Latvia'), rdflib.term.URIRef('http://www.example.org/hasArea'), rdflib.term.Literal('64589', datatype=rdflib.term.URIRef('http://www.w3.org/2001/XMLSchema#integer')))\n",
      "\n",
      "(rdflib.term.URIRef('http://www.example.org/geography/Russia'), rdflib.term.URIRef('http://www.example.org/hasBorder'), rdflib.term.URIRef('http://www.example.org/geography/Norway'))\n",
      "\n",
      "(rdflib.term.URIRef('http://www.example.org/geography/Portugal'), rdflib.term.URIRef('http://www.example.org/hasPopulation'), rdflib.term.Literal('10813834', datatype=rdflib.term.URIRef('http://www.w3.org/2001/XMLSchema#integer')))\n",
      "\n",
      "(rdflib.term.URIRef('http://www.example.org/geography/Belorus'), rdflib.term.URIRef('http://www.example.org/hasBorder'), rdflib.term.URIRef('http://www.example.org/geography/Russia'))\n",
      "\n"
     ]
    }
   ],
   "source": [
    "# A routine to print out the first few triples\n",
    "def printtriples(graph, limit):\n",
    "    n = 0\n",
    "    for trip in graph:\n",
    "        print(trip)\n",
    "        print('')\n",
    "        n = n+1\n",
    "        if n >= limit:\n",
    "            break\n",
    "        \n",
    "printtriples(mygraph, 10)"
   ]
  },
  {
   "cell_type": "markdown",
   "metadata": {},
   "source": [
    "The first few triples illustrate all you need to know about the representation of a triple using rdflib. At this stage just concentrate on the structure of the triples.\n",
    "\n",
    "In the output, each triple is enclosed in parentheses and its three elements - subject, predicate and object - are separated by commas. As expected, each subject and predicate is represented by a URI and an object is either a URI or a literal. For example, if you were to lay out the subject, predicate and object of one of the triples printed above on separate lines you would see something like:\n",
    "\n",
    "    (\n",
    "    rdflib.term.URIRef('https://www.w3.org/People/Berners-Lee/card#i'),\n",
    "\n",
    "    rdflib.term.URIRef('http://xmlns.com/foaf/0.1/givenname'),\n",
    "\n",
    "    rdflib.term.Literal('Timothy')\n",
    "    )\n",
    "\n",
    "Or, if you attempted the alternative example:\n",
    "\n",
    "    (\n",
    "    rdflib.term.URIRef('http://www.example.org/geography/Bosnia_Hertzogovena'), \n",
    "\n",
    "    rdflib.term.URIRef('http://www.example.org/hasName'),\n",
    "\n",
    "    rdflib.term.Literal('Bosnia and Herzegovina')\n",
    "    )\n",
    "\n",
    "Note: You may not actually see either of these particular triples in your output as there is no guarantee that you will obtain the same 10 triples each time you print them out (they are stored in a Python set).\n",
    "\n",
    "In our examples, the meaning of the first triple is 'the given name of the person is Timothy', and the second is 'the country Bosnia_Hertzogovena has the name Bosnia and Herzegovina' but it is the structure of a triple that we want you to focus on at this stage.\n",
    "\n",
    "Take care here. In this discussion the term 'object' refers to the third element of an RDF triple. To distinguish this use of the word 'object' with that used in an object-oriented programming language (OOPL) we shall refer to the OOPL use of 'object' as a 'Pythom object'.\n",
    "\n",
    "In rdflib, each element that is represented by a URI is an `rdflib.term.URIRef` Python object with the actual URI given as a string argument as in:\n",
    "\n",
    "    rdflib.term.URIRef('http://www.w3.org/People/Berners-Lee/card#i')\n",
    "\n",
    "and\n",
    "\n",
    "    rdflib.term.URIRef('http://www.example.org/geography/Bosnia_Hertzogovena')\n",
    "\n",
    "A literal is an `rdflib.term.Literal` Python object with the value given as a string argument. For example,\n",
    "\n",
    "    rdflib.term.Literal('Timothy')\n",
    "\n",
    "or\n",
    "\n",
    "    rdflib.term.Literal('Bosnia and Herzegovina')\n",
    "\n",
    "The encoding of some literal arguments can be quite large!\n",
    "\n",
    "There is a fourth type of Python object in rdflib, `rdf.term.BNode`, which you may observe as either the subject or the object of a triple. For example,\n",
    "\n",
    "    rdflib.term.BNode('N9e3a51b39d754597995f08f84f7962c8')\n",
    "\n",
    "A BNode is a *blank node* which has several uses within RDF. One use of a blank node is to represent a resource that has not yet been identified either because we don't know what it should be (it is missing in the data) or it will never exist (it isn't meaningful). \n",
    "\n",
    "A BNode has a (long) reference string as argument (two BNodes with the same argument represent the same missing item of data). For now, accept that a specific BNode reference string can appear both as the subject of one triple and the object of another. To discover more about blank nodes see Part 25, Section 3.1 of the module text."
   ]
  },
  {
   "cell_type": "markdown",
   "metadata": {},
   "source": [
    "## 3  Getting to the content of the triples"
   ]
  },
  {
   "cell_type": "markdown",
   "metadata": {},
   "source": [
    "A better way of printing out a triple is to print the subject, predicate and object on separate lines.  In this format, the URIs are easier to read and the literal values and BNodes are easier to identify. The following function prints out a limited number of triples in a given graph (if the argument `limit` is set to zero, all triples in the graph are printed)."
   ]
  },
  {
   "cell_type": "code",
   "execution_count": 8,
   "metadata": {
    "activity": false
   },
   "outputs": [
    {
     "name": "stdout",
     "output_type": "stream",
     "text": [
      "http://www.example.org/geography/Georgia\n",
      "http://www.example.org/locatedIn\n",
      "http://www.example.org/geography/Asia\n",
      "\n",
      "http://www.example.org/geography/Serbia\n",
      "http://www.example.org/hasArea\n",
      "77474\n",
      "\n",
      "http://www.example.org/geography/Austria\n",
      "http://www.example.org/hasBorder\n",
      "http://www.example.org/geography/Switzerland\n",
      "\n",
      "http://www.example.org/geography/Slovenia\n",
      "http://www.example.org/hasBorder\n",
      "http://www.example.org/geography/Italy\n",
      "\n",
      "http://www.example.org/geography/Austria\n",
      "http://www.example.org/hasName\n",
      "Oesterreich\n",
      "\n"
     ]
    }
   ],
   "source": [
    "def printtriples(agraph, limit): \n",
    "    n = 0\n",
    "    for subj, pred, obj in agraph:\n",
    "        print(subj)\n",
    "        print(pred)\n",
    "        print(obj)\n",
    "        print('')\n",
    "        if limit > 0:\n",
    "            n = n+1\n",
    "            if n == limit:\n",
    "                break\n",
    "            \n",
    "        \n",
    "# Try it out (print only the first 5 triples)\n",
    "printtriples(mygraph, 5)\n"
   ]
  },
  {
   "cell_type": "markdown",
   "metadata": {},
   "source": [
    "## 4  Saving a graph to a file"
   ]
  },
  {
   "cell_type": "markdown",
   "metadata": {},
   "source": [
    "An rdfLib graph can be saved to a file very easily using the `serialize` method. Serializing a graph means transforming the graph into a linear text format, which can then be written to a file. As you already know, there are several standard syntaxes for RDF including Turtle, NTriples and JSON, so the `serialize` method should specify both the name of the file to be written to and the format of the triples. \n",
    "\n",
    "Try the following, which should create three new files in the same folder as this Notebook with different formats. Run the code and then examine the contents of your Notebook folder."
   ]
  },
  {
   "cell_type": "code",
   "execution_count": 9,
   "metadata": {
    "activity": false,
    "collapsed": true
   },
   "outputs": [],
   "source": [
    "mygraph.serialize(\"mygraph.ttl\", format=\"turtle\")\n",
    "mygraph.serialize(\"mygraph.nt\", format=\"nt\") # nt stands for NTriples\n",
    "mygraph.serialize(\"mygraph.xml\") # default is RDF/XML "
   ]
  },
  {
   "cell_type": "markdown",
   "metadata": {},
   "source": [
    "The names given to the files in the first argument of `serialize` are your choice, although it is best to use the standard file extensions (`ttl`, `nt` and `xml`). \n",
    "\n",
    "You should give a full pathname rather than just a filename when you want files to be stored in a different folder (than the one containing your Notebooks).\n",
    "\n",
    "To specify the formats you should use the strings shown in the examples above which are rdflib standards. The default RDF/XML can also be specified by writing `format=\"pretty-xml\"`.\n"
   ]
  },
  {
   "cell_type": "markdown",
   "metadata": {},
   "source": [
    "## 5  Adding triples to a graph"
   ]
  },
  {
   "cell_type": "markdown",
   "metadata": {},
   "source": [
    "An RDF graph consists of nodes (representing resources) related via properties (predicates). You can create individual nodes in rdflib and then combine them into triples which can then be added to a graph.\n",
    "\n",
    "As you have seen, in rdflib there are three kinds of node: URIRef, Literal and BNode. The following code creates three nodes and adds them in the form of a triple to a new, empty graph named `geog`. The variable names `germany`, `population` and `germanyPopulation` are arbitrary but hopefully meaningful.\n",
    "\n",
    "The URIs used in this example use the domain www.example.org which is a real domain that has been established for use in illustrative examples in documents. You may use this domain in examples without prior consent.\n",
    "\n",
    "Notice the two sets of parentheses after `add`. The inner set surround the three nodes, as in `(subject,predicate,object)`, to form a triple. The triple, with its parentheses, is then an argument to the `add` method and is placed inside the outer set of parentheses."
   ]
  },
  {
   "cell_type": "code",
   "execution_count": 10,
   "metadata": {
    "activity": false,
    "commentate": false
   },
   "outputs": [
    {
     "name": "stdout",
     "output_type": "stream",
     "text": [
      "http://www.example.org/geography/Germany\n",
      "http://www.example.org/population\n",
      "82000000\n",
      "\n"
     ]
    }
   ],
   "source": [
    "geog = rdflib.Graph()\n",
    "\n",
    "# Create a node with the URI for the subject 'Germany'\n",
    "germany = rdflib.URIRef(\"http://www.example.org/geography/Germany\")\n",
    "# Create a node with the URI for the predicate 'population'\n",
    "hasPopulation = rdflib.URIRef(\"http://www.example.org/population\")\n",
    "# Create a node with the literal value '82000000'\n",
    "germanyPopulation = rdflib.Literal(82000000)\n",
    "\n",
    "# Add the triple consisting of a subject, predicate and object to the graph\n",
    "geog.add((germany, hasPopulation, germanyPopulation))\n",
    "\n",
    "printtriples(geog, 0)"
   ]
  },
  {
   "cell_type": "markdown",
   "metadata": {},
   "source": [
    "The next step adds several triples to the graph `geog`. This requires having to repeat the same URI many times. You already know that the same kind of problem occurred when building RDF graphs in Part 24. The answer there was to use the idea of a prefix: define a short name to stand for the initial part of a URI. You can do something similar in rdflib where you use the rdflib class `Namespace` to create a variable representing the complete URI. You can then create nodes quite easily with a shorter syntax as illustrated in the code below."
   ]
  },
  {
   "cell_type": "code",
   "execution_count": 12,
   "metadata": {
    "activity": false
   },
   "outputs": [
    {
     "name": "stdout",
     "output_type": "stream",
     "text": [
      "http://www.example.org/geography/country\n"
     ]
    }
   ],
   "source": [
    "# Create a namespace\n",
    "geogNS = rdflib.Namespace(\"http://www.example.org/geography/\")\n",
    "\n",
    "# Create a resource with this namespace\n",
    "germany = geogNS[\"Germany\"]  \n",
    "# This is shorter than rdflib.URIRef(\"http://www.example.org/geography/Germany\")\n",
    "\n",
    "# See if it works\n",
    "# print(germany)\n",
    "\n",
    "# Create more resources with the same namespace\n",
    "france = geogNS[\"France\"] \n",
    "austria = geogNS[\"Austria\"]\n",
    "europe = geogNS[\"Europe\"]\n",
    "country = geogNS[\"country\"]\n",
    "continent = geogNS[\"continent\"]\n",
    "\n",
    "# see if it works still\n",
    "print(country)"
   ]
  },
  {
   "cell_type": "markdown",
   "metadata": {},
   "source": [
    "In this example, you will use properties representing the concepts of `hasBorder` (a country that borders another country), `locatedIn` (the continent that a country is within), `hasPopulation` (the size of a country's population), `hasName` (the common name of a country) and `hasCapital` (the name of a country's capital city). \n",
    "\n",
    "To do this, create the appropriate URIRef nodes for the properties (predicates)."
   ]
  },
  {
   "cell_type": "code",
   "execution_count": 13,
   "metadata": {
    "activity": false,
    "collapsed": true,
    "commentate": false
   },
   "outputs": [],
   "source": [
    "hasBorder = rdflib.URIRef(\"http://www.example.org/hasBorder\")\n",
    "locatedIn = rdflib.URIRef(\"http://www.example.org/locatedIn\")\n",
    "hasPopulation = rdflib.URIRef(\"http://www.example.org/hasPopulation\")\n",
    "hasName = rdflib.URIRef(\"http://www.example.org/name\")\n",
    "hasCapital = rdflib.URIRef(\"http://www.example.org/hasCapital\")\n"
   ]
  },
  {
   "cell_type": "markdown",
   "metadata": {},
   "source": [
    "It's always a good idea to define the domains of the subjects. This can be done by using the RDF `type` predicate. In rdflib this is easily done by using `rdflib.RDF[\"type\"]` (which stands for http://www.w3.org/1999/02/22-rdf-syntax-ns#type).\n",
    "\n",
    "Hence, to state that 'Germany is a country' you construct the triple:\n",
    "\n",
    "    (germany, rdflib.RDF[\"type\"], country)\n",
    "    \n",
    "Aside: rdflib contains predefined namespaces for the most common RDF schemas (ontologies) including RDF and FOAF. For example, `rdflib.FOAF[\"knows\"]` is equivalent to http://xmls.com/foaf/0.1/knows.\n",
    "\n",
    "We can put all this together to contruct a set of triples representing assertional data about some countries that we know about."
   ]
  },
  {
   "cell_type": "code",
   "execution_count": 14,
   "metadata": {
    "collapsed": true,
    "raw_mimetype": "text/x-python"
   },
   "outputs": [],
   "source": [
    "# germany, france, and austria are countries\n",
    "geog.add((germany, rdflib.RDF[\"type\"], country))\n",
    "geog.add((france, rdflib.RDF[\"type\"], country))\n",
    "geog.add((austria, rdflib.RDF[\"type\"], country))\n",
    "# europe is a continent\n",
    "geog.add((europe, rdflib.RDF[\"type\"], continent))\n",
    "# these countries are located in europe\n",
    "geog.add((germany, locatedIn, europe))\n",
    "geog.add((france, locatedIn, europe))\n",
    "geog.add((austria, locatedIn, europe))\n",
    "# france and austria border germany\n",
    "geog.add((germany, hasBorder, france))\n",
    "geog.add((germany, hasBorder, austria))\n",
    "# the current population of germany\n",
    "geog.add((germany, hasPopulation, rdflib.Literal(82000000)))\n",
    "# the names by which germany is commonly known\n",
    "geog.add((germany, hasName, rdflib.Literal(\"Deutschland\")))\n",
    "geog.add((germany, hasName, rdflib.Literal(\"Germany\")))\n",
    "# the capital city of germany\n",
    "geog.add((germany, hasCapital, rdflib.Literal(\"Berlin\")))\n"
   ]
  },
  {
   "cell_type": "markdown",
   "metadata": {},
   "source": [
    "We have used many variables in this example which isn't strictly necessary. We could have written, for example,\n",
    "\n",
    "    geog.add((geogNS[\"Germany\"], rdflib.RDF[\"type\"], geogNS[\"country\"]))\n",
    "\n",
    "and avoided introducing the variables `germany` and `country`. However, we think that using variables with well-chosen identifiers makes for easier reading."
   ]
  },
  {
   "cell_type": "markdown",
   "metadata": {},
   "source": [
    "Now let's see what has been created and store it in a file."
   ]
  },
  {
   "cell_type": "code",
   "execution_count": 15,
   "metadata": {
    "activity": false
   },
   "outputs": [
    {
     "name": "stdout",
     "output_type": "stream",
     "text": [
      "14\n",
      "\n",
      "http://www.example.org/geography/Germany\n",
      "http://www.example.org/locatedIn\n",
      "http://www.example.org/geography/Europe\n",
      "\n",
      "http://www.example.org/geography/Germany\n",
      "http://www.example.org/hasCapital\n",
      "Berlin\n",
      "\n",
      "http://www.example.org/geography/Germany\n",
      "http://www.example.org/hasPopulation\n",
      "82000000\n",
      "\n",
      "http://www.example.org/geography/Germany\n",
      "http://www.example.org/name\n",
      "Germany\n",
      "\n",
      "http://www.example.org/geography/France\n",
      "http://www.example.org/locatedIn\n",
      "http://www.example.org/geography/Europe\n",
      "\n",
      "http://www.example.org/geography/Germany\n",
      "http://www.example.org/hasBorder\n",
      "http://www.example.org/geography/Austria\n",
      "\n",
      "http://www.example.org/geography/Germany\n",
      "http://www.w3.org/1999/02/22-rdf-syntax-ns#type\n",
      "http://www.example.org/geography/country\n",
      "\n",
      "http://www.example.org/geography/Austria\n",
      "http://www.example.org/locatedIn\n",
      "http://www.example.org/geography/Europe\n",
      "\n",
      "http://www.example.org/geography/Germany\n",
      "http://www.example.org/population\n",
      "82000000\n",
      "\n",
      "http://www.example.org/geography/Germany\n",
      "http://www.example.org/hasBorder\n",
      "http://www.example.org/geography/France\n",
      "\n",
      "http://www.example.org/geography/Austria\n",
      "http://www.w3.org/1999/02/22-rdf-syntax-ns#type\n",
      "http://www.example.org/geography/country\n",
      "\n",
      "http://www.example.org/geography/France\n",
      "http://www.w3.org/1999/02/22-rdf-syntax-ns#type\n",
      "http://www.example.org/geography/country\n",
      "\n",
      "http://www.example.org/geography/Europe\n",
      "http://www.w3.org/1999/02/22-rdf-syntax-ns#type\n",
      "http://www.example.org/geography/continent\n",
      "\n",
      "http://www.example.org/geography/Germany\n",
      "http://www.example.org/name\n",
      "Deutschland\n",
      "\n"
     ]
    }
   ],
   "source": [
    "# Output the number of triples in the store\n",
    "print(len(geog))\n",
    "print('')\n",
    "# Pretty-print each triple\n",
    "printtriples(geog, 0)\n",
    " \n",
    "# Save in Turtle format\n",
    "geog.serialize(\"geog.ttl\", format=\"turtle\")\n"
   ]
  },
  {
   "cell_type": "markdown",
   "metadata": {},
   "source": [
    "You should now have a new file named `geog.ttl` stored in your Notebooks folder. "
   ]
  },
  {
   "cell_type": "markdown",
   "metadata": {
    "activity": "activity"
   },
   "source": [
    "### Activity 1\n",
    "\n",
    "1. Add more triples to the `geog` dataset. Use the following data:\n",
    "\n",
    "    France borders Germany and Belgium    \n",
    "    The population of France is 66030000    \n",
    "    The capital of France is Paris    \n",
    "    Belgium borders France and Germany    \n",
    "    The population of Belgium is 11200000    \n",
    "    The capital of Belgium is Brussels    \n",
    "    Belgium has several names: België, Belgique and Belgien\n",
    "\n",
    "\n",
    "2. Print the contents of the updated `geog` dataset.\n",
    "\n",
    "3. Save the updated `geog` dataset to a file.\n",
    "\n",
    "4. Open the saved file to check that all worked well. \n",
    "\n",
    "Add, and run, your code in the cell below."
   ]
  },
  {
   "cell_type": "code",
   "execution_count": 18,
   "metadata": {
    "activity": "activity"
   },
   "outputs": [],
   "source": [
    "belgium = geogNS[\"Belgium\"]\n",
    "\n",
    "geog.add((france, hasBorder, belgium))\n",
    "geog.add((france, hasBorder, germany))\n",
    "\n",
    "geog.add((france, hasPopulation, rdflib.Literal(66030000)))\n",
    "geog.add((france, hasCapital, rdflib.Literal(\"Paris\")))\n",
    "\n",
    "geog.add((belgium, rdflib.RDF[\"type\"], country))\n",
    "\n",
    "geog.add((belgium, hasBorder, france))\n",
    "geog.add((belgium, hasBorder, germany))\n",
    "\n",
    "geog.add((belgium, hasPopulation, rdflib.Literal(11200000)))\n",
    "geog.add((belgium, hasCapital, rdflib.Literal(\"Brussels\")))\n",
    "\n",
    "geog.add((belgium, hasName, rdflib.Literal('België')))\n",
    "geog.add((belgium, hasName, rdflib.Literal('Belgique')))\n",
    "geog.add((belgium, hasName, rdflib.Literal('Belgien')))\n"
   ]
  },
  {
   "cell_type": "code",
   "execution_count": 21,
   "metadata": {},
   "outputs": [
    {
     "name": "stdout",
     "output_type": "stream",
     "text": [
      "http://www.example.org/geography/Germany\n",
      "http://www.example.org/locatedIn\n",
      "http://www.example.org/geography/Europe\n",
      "\n",
      "http://www.example.org/geography/Germany\n",
      "http://www.example.org/hasCapital\n",
      "Berlin\n",
      "\n",
      "http://www.example.org/geography/France\n",
      "http://www.example.org/locatedIn\n",
      "http://www.example.org/geography/Europe\n",
      "\n",
      "http://www.example.org/geography/Germany\n",
      "http://www.w3.org/1999/02/22-rdf-syntax-ns#type\n",
      "http://www.example.org/geography/country\n",
      "\n",
      "http://www.example.org/geography/Austria\n",
      "http://www.example.org/locatedIn\n",
      "http://www.example.org/geography/Europe\n",
      "\n",
      "http://www.example.org/geography/France\n",
      "http://www.example.org/hasBorder\n",
      "http://www.example.org/geography/Belgium\n",
      "\n",
      "http://www.example.org/geography/Belgium\n",
      "http://www.example.org/name\n",
      "België\n",
      "\n",
      "http://www.example.org/geography/Belgium\n",
      "http://www.example.org/name\n",
      "Belgique\n",
      "\n",
      "http://www.example.org/geography/Germany\n",
      "http://www.example.org/population\n",
      "82000000\n",
      "\n",
      "http://www.example.org/geography/Austria\n",
      "http://www.w3.org/1999/02/22-rdf-syntax-ns#type\n",
      "http://www.example.org/geography/country\n",
      "\n",
      "http://www.example.org/geography/France\n",
      "http://www.w3.org/1999/02/22-rdf-syntax-ns#type\n",
      "http://www.example.org/geography/country\n",
      "\n",
      "http://www.example.org/geography/Belgium\n",
      "http://www.example.org/name\n",
      "Belgien\n",
      "\n",
      "http://www.example.org/geography/Germany\n",
      "http://www.example.org/name\n",
      "Deutschland\n",
      "\n",
      "http://www.example.org/geography/Belgium\n",
      "http://www.example.org/hasCapital\n",
      "Brussels\n",
      "\n",
      "http://www.example.org/geography/Germany\n",
      "http://www.example.org/hasPopulation\n",
      "82000000\n",
      "\n",
      "http://www.example.org/geography/Germany\n",
      "http://www.example.org/name\n",
      "Germany\n",
      "\n",
      "http://www.example.org/geography/France\n",
      "http://www.example.org/hasCapital\n",
      "Paris\n",
      "\n",
      "http://www.example.org/geography/Germany\n",
      "http://www.example.org/hasBorder\n",
      "http://www.example.org/geography/Austria\n",
      "\n",
      "http://www.example.org/geography/Belgium\n",
      "http://www.example.org/hasBorder\n",
      "http://www.example.org/geography/France\n",
      "\n",
      "http://www.example.org/geography/Belgium\n",
      "http://www.w3.org/1999/02/22-rdf-syntax-ns#type\n",
      "http://www.example.org/geography/country\n",
      "\n",
      "http://www.example.org/geography/France\n",
      "http://www.example.org/hasPopulation\n",
      "66030000\n",
      "\n",
      "http://www.example.org/geography/Belgium\n",
      "http://www.example.org/hasBorder\n",
      "http://www.example.org/geography/Germany\n",
      "\n",
      "http://www.example.org/geography/Belgium\n",
      "http://www.example.org/hasPopulation\n",
      "11200000\n",
      "\n",
      "http://www.example.org/geography/Germany\n",
      "http://www.example.org/hasBorder\n",
      "http://www.example.org/geography/France\n",
      "\n",
      "http://www.example.org/geography/France\n",
      "http://www.example.org/hasBorder\n",
      "http://www.example.org/geography/Germany\n",
      "\n",
      "http://www.example.org/geography/Europe\n",
      "http://www.w3.org/1999/02/22-rdf-syntax-ns#type\n",
      "http://www.example.org/geography/continent\n",
      "\n"
     ]
    }
   ],
   "source": [
    "printtriples(geog, 0)"
   ]
  },
  {
   "cell_type": "code",
   "execution_count": 22,
   "metadata": {
    "collapsed": true
   },
   "outputs": [],
   "source": [
    "# Save in Turtle format\n",
    "geog.serialize(\"geog.ttl\", format=\"turtle\")\n",
    "\n"
   ]
  },
  {
   "cell_type": "code",
   "execution_count": null,
   "metadata": {
    "collapsed": true
   },
   "outputs": [],
   "source": []
  },
  {
   "cell_type": "markdown",
   "metadata": {
    "activity": "activity"
   },
   "source": [
    "#### Our solution\n",
    "\n",
    "To reveal our solution, click on the triangle symbol on the left-hand end of this cell.\n"
   ]
  },
  {
   "cell_type": "code",
   "execution_count": null,
   "metadata": {
    "collapsed": true
   },
   "outputs": [],
   "source": [
    "#Add country namespace\n",
    "belgium = geogNS[\"Belgium\"]\n",
    "\n",
    "#Add data elements\n",
    "geog.add((belgium, rdflib.RDF[\"type\"], country))\n",
    "geog.add((belgium, locatedIn, europe))\n",
    "geog.add((belgium, hasPopulation, rdflib.Literal(11200000)))\n",
    "\n",
    "geog.add((belgium, hasName, rdflib.Literal(\"België\")))\n",
    "geog.add((belgium, hasName, rdflib.Literal(\"Belgique\")))\n",
    "geog.add((belgium, hasName, rdflib.Literal(\"Belgien\")))\n",
    "\n",
    "geog.add((belgium, hasBorder, germany))\n",
    "geog.add((belgium, hasBorder, france))\n",
    "geog.add((belgium, hasCapital, rdflib.Literal(\"Brussels\")))\n",
    "\n",
    "geog.add((france, hasPopulation, rdflib.Literal(66030000)))"
   ]
  },
  {
   "cell_type": "markdown",
   "metadata": {},
   "source": [
    "Check that all has worked well:"
   ]
  },
  {
   "cell_type": "code",
   "execution_count": null,
   "metadata": {
    "collapsed": true
   },
   "outputs": [],
   "source": [
    "print(len(geog))\n",
    "print('')\n",
    "# Pretty-print each triple\n",
    "printtriples(geog, 0)\n",
    "\n",
    "# Save in Turtle format\n",
    "geog.serialize(\"geog.ttl\", format=\"turtle\")\n",
    "geog.serialize(\"geog.xml\")"
   ]
  },
  {
   "cell_type": "code",
   "execution_count": 23,
   "metadata": {},
   "outputs": [
    {
     "name": "stdout",
     "output_type": "stream",
     "text": [
      "@prefix ns1: <http://www.example.org/> .\r\n",
      "@prefix rdf: <http://www.w3.org/1999/02/22-rdf-syntax-ns#> .\r\n",
      "@prefix rdfs: <http://www.w3.org/2000/01/rdf-schema#> .\r\n",
      "@prefix xml: <http://www.w3.org/XML/1998/namespace> .\r\n",
      "@prefix xsd: <http://www.w3.org/2001/XMLSchema#> .\r\n",
      "\r\n",
      "<http://www.example.org/geography/Austria> a <http://www.example.org/geography/country> ;\r\n",
      "    ns1:locatedIn <http://www.example.org/geography/Europe> .\r\n",
      "\r\n",
      "<http://www.example.org/geography/Belgium> a <http://www.example.org/geography/country> ;\r\n"
     ]
    }
   ],
   "source": [
    "!head geog.ttl"
   ]
  },
  {
   "cell_type": "markdown",
   "metadata": {
    "activity": "activity"
   },
   "source": [
    "### Activity 2\n",
    "\n",
    "Write code that will read the data stored in the file `geog.ttl` and print out 10 triples and verify that these are indeed triples that you saved to the file in the previous activity."
   ]
  },
  {
   "cell_type": "code",
   "execution_count": 25,
   "metadata": {
    "activity": "activity"
   },
   "outputs": [
    {
     "name": "stdout",
     "output_type": "stream",
     "text": [
      "http://www.example.org/geography/France\n",
      "http://www.example.org/hasBorder\n",
      "http://www.example.org/geography/Germany\n",
      "\n",
      "http://www.example.org/geography/Germany\n",
      "http://www.example.org/hasBorder\n",
      "http://www.example.org/geography/France\n",
      "\n",
      "http://www.example.org/geography/Belgium\n",
      "http://www.example.org/name\n",
      "Belgien\n",
      "\n",
      "http://www.example.org/geography/France\n",
      "http://www.example.org/hasPopulation\n",
      "66030000\n",
      "\n",
      "http://www.example.org/geography/Austria\n",
      "http://www.w3.org/1999/02/22-rdf-syntax-ns#type\n",
      "http://www.example.org/geography/country\n",
      "\n",
      "http://www.example.org/geography/Austria\n",
      "http://www.example.org/locatedIn\n",
      "http://www.example.org/geography/Europe\n",
      "\n",
      "http://www.example.org/geography/Germany\n",
      "http://www.example.org/population\n",
      "82000000\n",
      "\n",
      "http://www.example.org/geography/France\n",
      "http://www.example.org/hasBorder\n",
      "http://www.example.org/geography/Belgium\n",
      "\n",
      "http://www.example.org/geography/Belgium\n",
      "http://www.example.org/name\n",
      "Belgique\n",
      "\n",
      "http://www.example.org/geography/France\n",
      "http://www.example.org/hasCapital\n",
      "Paris\n",
      "\n"
     ]
    }
   ],
   "source": [
    "# Insert your solution here.\"]))\n",
    "agraph = rdflib.Graph()\n",
    "\n",
    "agraph.parse(\"geog.ttl\", format=\"turtle\")\n",
    "\n",
    "printtriples(agraph, 10)"
   ]
  },
  {
   "cell_type": "code",
   "execution_count": 31,
   "metadata": {},
   "outputs": [
    {
     "ename": "SyntaxError",
     "evalue": "invalid syntax (<ipython-input-31-45fb237a3c90>, line 4)",
     "output_type": "error",
     "traceback": [
      "\u001b[0;36m  File \u001b[0;32m\"<ipython-input-31-45fb237a3c90>\"\u001b[0;36m, line \u001b[0;32m4\u001b[0m\n\u001b[0;31m    graph1List = [t[0], t[1], t[2] for t in graph1]\u001b[0m\n\u001b[0m                                     ^\u001b[0m\n\u001b[0;31mSyntaxError\u001b[0m\u001b[0;31m:\u001b[0m invalid syntax\n"
     ]
    }
   ],
   "source": []
  },
  {
   "cell_type": "code",
   "execution_count": null,
   "metadata": {
    "collapsed": true
   },
   "outputs": [],
   "source": []
  },
  {
   "cell_type": "markdown",
   "metadata": {
    "activity": "activity"
   },
   "source": [
    "#### Our solution\n",
    "\n",
    "To reveal our solution, click on the triangle symbol on the left-hand end of this cell.\n"
   ]
  },
  {
   "cell_type": "code",
   "execution_count": null,
   "metadata": {
    "collapsed": true
   },
   "outputs": [],
   "source": [
    "agraph = rdflib.Graph()\n",
    "\n",
    "agraph.parse(\"geog.ttl\", format=\"turtle\")\n",
    "\n",
    "printtriples(agraph, 10)"
   ]
  },
  {
   "cell_type": "markdown",
   "metadata": {},
   "source": [
    "## Summary"
   ]
  },
  {
   "cell_type": "markdown",
   "metadata": {},
   "source": [
    "In this Notebook you have seen how to create a graph of triples using the features of the Python library rdflib.\n",
    "\n",
    "To create a new, empty graph, use: \n",
    "\n",
    "    mygraph = rdflib.Graph()\n",
    "\n",
    "To copy data from an existing graph held in a file use the `parse` function as in:\n",
    "\n",
    "    mygraph.parse(\"geog.ttl\", format=\"turtle\")\n",
    "\n",
    "where the first argument of `parse` is the URL of the file and the second parameter is the format of the triples in the file.\n",
    "\n",
    "The data held in memory can be written to a file using the `serialize` function as in:\n",
    "\n",
    "    mygraph.serialize(\"mygraph.ttl\", format=\"turtle\")\n",
    "\n",
    "where the first parameter is the name of the file and the second parameter is the format of the triples in the file.\n",
    "\n",
    "It is a good idea to create a function that will print out (some of) the triples held in the graph so that you can check the contents of the graph.\n",
    "\n",
    "A new triple can be added to a graph using the `add` function as in:\n",
    "\n",
    "    geog.add((germany, hasPopulation, germanyPopulation))\n",
    "\n",
    "Here the variables `germany`, `hasPopulation` and `germanyPopulation` refer to the subject, predicate and object of the triple. The variables representing the subject and predicate must be Python objects of type `rdflib.URIRef` specifying the appropriate URI as in:\n",
    "\n",
    "    germany = rdflib.URIRef(\"http://www.example.org/geography/Germany\")\n",
    "    \n",
    "    hasPopulation = rdflib.URIRef(\"http://www.example.org/population\")\n",
    "\n",
    "The third element of the triple, the object, must be either of type `redflib.URIRef` or a literal value of type `rdf.Literal` as in:\n",
    "\n",
    "    germanyPopulation = rdflib.Literal(82000000)\n",
    "\n",
    "In any realistic situation there will be many triples utilising the same URIs so, to make the job of creating the data easier and to make the resulting graph easier to read, use the function `Namespace` to create a namespaces as in:\n",
    "\n",
    "    geogNS = rdflib.Namespace(\"http://www.example.org/geography/\")\n",
    "\n",
    "It is then possible to use the shorter construct:\n",
    "\n",
    "    geogNS[\"Germany\"} \n",
    "\n",
    "in place of:\n",
    "\n",
    "    rdflib.URIRef(\"http://www.example.org/geography/Germany\")"
   ]
  },
  {
   "cell_type": "markdown",
   "metadata": {},
   "source": [
    "## What next?\n",
    "\n",
    "If you are working through this Notebook as part of an inline exercise, return to the module materials now.\n",
    "\n",
    "If you are working through this set of Notebooks as a whole, move on to 25.2 Querying using SPARQL."
   ]
  }
 ],
 "metadata": {
  "kernelspec": {
   "display_name": "Python 3",
   "language": "python",
   "name": "python3"
  },
  "language_info": {
   "codemirror_mode": {
    "name": "ipython",
    "version": 3
   },
   "file_extension": ".py",
   "mimetype": "text/x-python",
   "name": "python",
   "nbconvert_exporter": "python",
   "pygments_lexer": "ipython3",
   "version": "3.5.2"
  }
 },
 "nbformat": 4,
 "nbformat_minor": 1
}
