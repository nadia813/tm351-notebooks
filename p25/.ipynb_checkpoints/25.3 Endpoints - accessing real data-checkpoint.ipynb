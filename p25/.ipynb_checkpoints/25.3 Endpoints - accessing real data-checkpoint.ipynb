{
 "cells": [
  {
   "cell_type": "markdown",
   "metadata": {},
   "source": [
    "# Endpoints: accessing real data"
   ]
  },
  {
   "cell_type": "markdown",
   "metadata": {},
   "source": [
    "In this Notebook you will learn how to use SPARQLWrapper, which enables you to access endpoints via a Python application. In so doing you will visit a variety of endpoints and examine a wide variety of datasets. You will also see how to capture data from an RDF graph in a Python data structure ready for analysis. Further SPARQL filtering mechanisms are also introduced."
   ]
  },
  {
   "cell_type": "markdown",
   "metadata": {},
   "source": [
    "*As the datasets and endpoints are not under the control of the Open University, it may be the case that some have changed or are unavailable. Should you encounter such a situation, please read the discussion as there should be enough information there for you to understand the points being made in the activities.*"
   ]
  },
  {
   "cell_type": "markdown",
   "metadata": {},
   "source": [
    "*We want to encourage you to experiment for yourself wherever possible. We suggest that you try the activities as given and then see what happens when you slightly alter the queries. When you amend a query it is very likely that you will make mistakes. Most query engines are good at providing error messages should you make mistakes in the syntax of a query. However, they vary in the helpfulness of error reporting should a website be unavailable. You may come across error messages such as 'Error 400: Failed to load URL http://dbpedia.org/' which probably means that one of the websites mentioned in a query is unavailable (perhaps because it is being updated). In such circumstances, move on to the next activity and return to the one that failed at a later time.*"
   ]
  },
  {
   "cell_type": "markdown",
   "metadata": {},
   "source": [
    "The process for accessing data from an endpoint using SPARQLWrapper is quite straightforward, consisting of the following steps:\n",
    "\n",
    "1. Import the features of SPARQLWrapper using a `from ... import` statement.\n",
    "\n",
    "2. Create a reference to the required endpoint.\n",
    "\n",
    "3. Create a query (in the same way that you saw in Notebook 25.2).\n",
    "\n",
    "4. Choose the format of the results to be returned. Most endpoints offer a variety of formats: JSON is a common format to choose.\n",
    "\n",
    "5. Send the query to the endpoint using the `query()` method (this time there are several arguments that must be provided).\n",
    "\n",
    "6. Convert the results from the chosen format (such as JSON) to a Python dictionary using the `convert()` method.\n",
    "\n",
    "It is usual to combine steps 5 and 6 as you will see."
   ]
  },
  {
   "cell_type": "markdown",
   "metadata": {},
   "source": [
    "## Example: accessing the DBpedia dataset"
   ]
  },
  {
   "cell_type": "markdown",
   "metadata": {},
   "source": [
    "This example sends a query to the DBpedia endpoint asking for all the names by which Germany is known in different languages. It follows the five steps outlined above.\n",
    "\n",
    "Read the code and then run the cell."
   ]
  },
  {
   "cell_type": "code",
   "execution_count": 1,
   "metadata": {
    "activity": false
   },
   "outputs": [
    {
     "name": "stdout",
     "output_type": "stream",
     "text": [
      "{'results': {'bindings': [{'label': {'xml:lang': 'en', 'value': 'Germany', 'type': 'literal'}}, {'label': {'xml:lang': 'ar', 'value': 'ألمانيا', 'type': 'literal'}}, {'label': {'xml:lang': 'de', 'value': 'Deutschland', 'type': 'literal'}}, {'label': {'xml:lang': 'es', 'value': 'Alemania', 'type': 'literal'}}, {'label': {'xml:lang': 'fr', 'value': 'Allemagne', 'type': 'literal'}}, {'label': {'xml:lang': 'it', 'value': 'Germania', 'type': 'literal'}}, {'label': {'xml:lang': 'nl', 'value': 'Duitsland', 'type': 'literal'}}, {'label': {'xml:lang': 'ja', 'value': 'ドイツ', 'type': 'literal'}}, {'label': {'xml:lang': 'pl', 'value': 'Niemcy', 'type': 'literal'}}, {'label': {'xml:lang': 'pt', 'value': 'Alemanha', 'type': 'literal'}}, {'label': {'xml:lang': 'ru', 'value': 'Германия', 'type': 'literal'}}, {'label': {'xml:lang': 'zh', 'value': '德国', 'type': 'literal'}}], 'distinct': False, 'ordered': True}, 'head': {'vars': ['label'], 'link': []}}\n",
      "\n",
      "Germany\n",
      "ألمانيا\n",
      "Deutschland\n",
      "Alemania\n",
      "Allemagne\n",
      "Germania\n",
      "Duitsland\n",
      "ドイツ\n",
      "Niemcy\n",
      "Alemanha\n",
      "Германия\n",
      "德国\n"
     ]
    }
   ],
   "source": [
    "# Step 1: Obtain a SPARQLWrapper and JSON classes\n",
    "from SPARQLWrapper import SPARQLWrapper, JSON\n",
    "\n",
    "# Step 2: Create a SPARQL wrapper object that references an endpoint (dbpedia)\n",
    "endpoint = \"http://dbpedia.org/sparql\"\n",
    "sparql = SPARQLWrapper(endpoint)\n",
    "\n",
    "# Step 3: Create the query and associate it with the wrapper object \n",
    "# using the setQuery() method\n",
    "query = '''\n",
    "        PREFIX rdfs: <http://www.w3.org/2000/01/rdf-schema#>\n",
    "        PREFIX dbpedia: <http://dbpedia.org/resource/>\n",
    "        \n",
    "        SELECT ?label\n",
    "        WHERE { \n",
    "            dbpedia:Germany rdfs:label ?label \n",
    "        }\n",
    "     '''\n",
    "\n",
    "sparql.setQuery(query)\n",
    "\n",
    "# Step 4: Choose the format of the results to be returned by the query\n",
    "sparql.setReturnFormat(JSON)\n",
    "\n",
    "# Step 5: Obtain results and convert to Python dictionary based on\n",
    "# JSON format\n",
    "results = sparql.query().convert()\n",
    "\n",
    "# Print out results in JSON format\n",
    "\n",
    "print(results)\n",
    "print()\n",
    "\n",
    "# When the return format is set to JSON, the Python dictionary will have \n",
    "# the results indexed by 'results' and then 'bindings'. \n",
    "# In this example, the bindings are pairs indexed by 'label' and 'value'.\n",
    "# The index 'label' is the name of the variable used in the SELECT query \n",
    "# above.\n",
    "\n",
    "# A more readable output is as follows, which just lists the values\n",
    " \n",
    "for result in results[\"results\"][\"bindings\"]:\n",
    "    print(result[\"label\"][\"value\"]) "
   ]
  },
  {
   "cell_type": "markdown",
   "metadata": {},
   "source": [
    "## A better approach to outputting the results"
   ]
  },
  {
   "cell_type": "markdown",
   "metadata": {},
   "source": [
    "Printing the results in this way is not very helpful and you need to know the index terms in order to print the results in a more meaningful way. Here are some helper functions that make the process of running a query and printing the results much easier.\n",
    "\n",
    "You will find that PREFIXes have been separated out from the SELECT part of the query (easy to do as both are strings that can be concatenated to form the complete query). This can be a useful time saver when you want to experiment with many queries that use the same prefixes.\n",
    "\n",
    "Run the code in the following cell.\n",
    "\n",
    "The details of the code need not concern you; simply be aware of the purpose of each function."
   ]
  },
  {
   "cell_type": "code",
   "execution_count": 2,
   "metadata": {
    "activity": false
   },
   "outputs": [
    {
     "name": "stdout",
     "output_type": "stream",
     "text": [
      "Helper functions set up\n"
     ]
    }
   ],
   "source": [
    "# Import the necessary packages\n",
    "from SPARQLWrapper import SPARQLWrapper, JSON\n",
    "\n",
    "# Add some helper functions\n",
    "\n",
    "# A function that will return the results of running a SPARQL query with \n",
    "# a defined set of prefixes over a specified endpoint.\n",
    "# It follows the same five-step process apart from creating the query, which \n",
    "# is provided as an argument to the function.\n",
    "def runQuery(endpoint, prefix, q):\n",
    "    ''' Run a SPARQL query with a declared prefix over a specified endpoint '''\n",
    "    sparql = SPARQLWrapper(endpoint)\n",
    "    sparql.setQuery(prefix+q) # concatenate the strings representing the prefixes and the query\n",
    "    sparql.setReturnFormat(JSON)\n",
    "    return sparql.query().convert()\n",
    "    \n",
    "# Import pandas to provide facilities for creating a DataFrame to hold results\n",
    "import pandas as pd\n",
    "\n",
    "# Function to convert query results into a DataFrame\n",
    "# The results are assumed to be in JSON format and therefore the Python dictionary will have  \n",
    "# the results indexed by 'results' and then 'bindings'. \n",
    "def dict2df(results):\n",
    "    ''' A function to flatten the SPARQL query results and return the column values '''\n",
    "    data = []\n",
    "    for result in results[\"results\"][\"bindings\"]:\n",
    "        tmp = {}\n",
    "        for el in result:\n",
    "            tmp[el] = result[el]['value']\n",
    "        data.append(tmp)\n",
    "\n",
    "    df = pd.DataFrame(data)\n",
    "    return df\n",
    "\n",
    "# Function to run a query and return results in a DataFrame\n",
    "def dfResults(endpoint, prefix, q):\n",
    "    ''' Generate a data frame containing the results of running\n",
    "        a SPARQL query with a declared prefix over a specified endpoint '''\n",
    "    return dict2df(runQuery(endpoint, prefix, q))\n",
    "        \n",
    "# Print a limited number of results of a query\n",
    "def printQuery(results, limit=''):\n",
    "    ''' Print the results from the SPARQL query '''\n",
    "    resdata = results[\"results\"][\"bindings\"]\n",
    "    if limit != '':\n",
    "        resdata = results[\"results\"][\"bindings\"][:limit]\n",
    "    for result in resdata:\n",
    "        for ans in result:\n",
    "            print('{0}: {1}'.format(ans, result[ans]['value']))\n",
    "        print()\n",
    "\n",
    "# Run a query and print out a limited number of results\n",
    "def printRunQuery(endpoint, prefix, q, limit=''):\n",
    "    ''' Print the results from the SPARQL query '''\n",
    "    results = runQuery(endpoint, prefix, q)\n",
    "    printQuery(results, limit)\n",
    "    \n",
    "print(\"Helper functions set up\")"
   ]
  },
  {
   "cell_type": "markdown",
   "metadata": {},
   "source": [
    "The previous query can now be written in a much briefer way as follows."
   ]
  },
  {
   "cell_type": "code",
   "execution_count": 3,
   "metadata": {
    "activity": false
   },
   "outputs": [
    {
     "data": {
      "text/html": [
       "<div>\n",
       "<style>\n",
       "    .dataframe thead tr:only-child th {\n",
       "        text-align: right;\n",
       "    }\n",
       "\n",
       "    .dataframe thead th {\n",
       "        text-align: left;\n",
       "    }\n",
       "\n",
       "    .dataframe tbody tr th {\n",
       "        vertical-align: top;\n",
       "    }\n",
       "</style>\n",
       "<table border=\"1\" class=\"dataframe\">\n",
       "  <thead>\n",
       "    <tr style=\"text-align: right;\">\n",
       "      <th></th>\n",
       "      <th>label</th>\n",
       "    </tr>\n",
       "  </thead>\n",
       "  <tbody>\n",
       "    <tr>\n",
       "      <th>0</th>\n",
       "      <td>Germany</td>\n",
       "    </tr>\n",
       "    <tr>\n",
       "      <th>1</th>\n",
       "      <td>ألمانيا</td>\n",
       "    </tr>\n",
       "    <tr>\n",
       "      <th>2</th>\n",
       "      <td>Deutschland</td>\n",
       "    </tr>\n",
       "    <tr>\n",
       "      <th>3</th>\n",
       "      <td>Alemania</td>\n",
       "    </tr>\n",
       "    <tr>\n",
       "      <th>4</th>\n",
       "      <td>Allemagne</td>\n",
       "    </tr>\n",
       "  </tbody>\n",
       "</table>\n",
       "</div>"
      ],
      "text/plain": [
       "         label\n",
       "0      Germany\n",
       "1      ألمانيا\n",
       "2  Deutschland\n",
       "3     Alemania\n",
       "4    Allemagne"
      ]
     },
     "execution_count": 3,
     "metadata": {},
     "output_type": "execute_result"
    }
   ],
   "source": [
    "# Define the endpoint\n",
    "endpoint =\"http://dbpedia.org/sparql\"\n",
    "\n",
    "# Define any prefixes\n",
    "prefix = '''\n",
    "    PREFIX rdfs: <http://www.w3.org/2000/01/rdf-schema#>\n",
    "    PREFIX dbpedia: <http://dbpedia.org/resource/>\n",
    "'''\n",
    "\n",
    "# Define the query\n",
    "query = '''\n",
    "        SELECT ?label\n",
    "            WHERE { \n",
    "                dbpedia:Germany rdfs:label ?label \n",
    "            }\n",
    "        '''\n",
    "\n",
    "# Carry out query against the defined endpoint and put results into a DataFrame\n",
    "df = dfResults(endpoint, prefix, query)\n",
    "\n",
    "# Output the first 5 results\n",
    "df[:5]\n"
   ]
  },
  {
   "cell_type": "markdown",
   "metadata": {},
   "source": [
    "## Example: accessing the British National Bibliography (BNB) endpoint"
   ]
  },
  {
   "cell_type": "markdown",
   "metadata": {},
   "source": [
    "The British National Bibliography (BNB) lists the books and new journal titles published or distributed in the United Kingdom and Ireland since 1950.\n",
    "\n",
    "The following query finds details of the book whose ISBN number is '9780729408745' (this is a book that you may find useful in this module).\n",
    "\n",
    "Note that there is only one pattern with one subject (`?book`) but there are three predicates."
   ]
  },
  {
   "cell_type": "code",
   "execution_count": 4,
   "metadata": {
    "activity": false
   },
   "outputs": [
    {
     "name": "stdout",
     "output_type": "stream",
     "text": [
      "title: G.E. Moore's ethical theory : resistance and reconciliation\n",
      "book: http://bnb.data.bl.uk/id/resource/013735897\n",
      "author: http://bnb.data.bl.uk/id/person/HutchinsonBrian1953-\n",
      "\n"
     ]
    }
   ],
   "source": [
    "# Get SPARQL wrapper\n",
    "from SPARQLWrapper import SPARQLWrapper, JSON\n",
    "\n",
    "# Declare the BNB endpoint\n",
    "endpoint = \"http://bnb.data.bl.uk/sparql\"\n",
    "\n",
    "# Define any prefixes\n",
    "# The prefixes bibo and dct are related to the Dublin Core vocabulary (see commentary below)\n",
    "# The blt prefix relates to British Library terms\n",
    "prefix = '''\n",
    "    PREFIX bibo: <http://purl.org/ontology/bibo/>\n",
    "    PREFIX blt: <http://www.bl.uk/schemas/bibliographic/blterms#>\n",
    "    PREFIX dct: <http://purl.org/dc/terms/>\n",
    "'''\n",
    "\n",
    "# Define the query\n",
    "query = '''\n",
    "        SELECT ?book ?author ?title \n",
    "        WHERE {\n",
    "            #Match the book using the 13 character ISBN (International Standard Book Number)\n",
    "            ?book bibo:isbn13 \"9780521037822\" ; \n",
    "    \n",
    "            #bind the book's other attributes to variables\n",
    "                dct:creator ?author;\n",
    "                dct:title ?title. \n",
    "}'''\n",
    "\n",
    "# Run query and print out a limited number of results\n",
    "printRunQuery(endpoint, prefix, query, limit='')\n"
   ]
  },
  {
   "cell_type": "markdown",
   "metadata": {},
   "source": [
    "Knowing what predicates and vocabulary are used in the BNB dataset requires some investigation. \n",
    "\n",
    "As a first step you might think of finding some of the predicates used, as follows:"
   ]
  },
  {
   "cell_type": "code",
   "execution_count": 5,
   "metadata": {
    "activity": false
   },
   "outputs": [
    {
     "name": "stdout",
     "output_type": "stream",
     "text": [
      "p: http://xmlns.com/foaf/0.1/familyName\n",
      "\n",
      "p: http://purl.org/ontology/bibo/isbn13\n",
      "\n",
      "p: http://iflastandards.info/ns/isbd/elements/P1099\n",
      "\n",
      "p: http://purl.org/ontology/bibo/numVolumes\n",
      "\n",
      "p: http://purl.org/vocab/bio/0.1/date\n",
      "\n",
      "p: http://iflastandards.info/ns/isbd/elements/P1053\n",
      "\n",
      "p: http://xmlns.com/foaf/0.1/givenName\n",
      "\n",
      "p: http://iflastandards.info/ns/isbd/elements/P1073\n",
      "\n",
      "p: http://iflastandards.info/ns/isbd/elements/P1042\n",
      "\n",
      "p: http://rdaregistry.info/Elements/u/P60076\n",
      "\n",
      "p: http://purl.org/dc/terms/alternative\n",
      "\n",
      "p: http://purl.org/dc/terms/description\n",
      "\n",
      "p: http://iflastandards.info/ns/isbd/elements/P1008\n",
      "\n",
      "p: http://iflastandards.info/ns/isbd/elements/P1065\n",
      "\n",
      "p: http://purl.org/dc/terms/tableOfContents\n",
      "\n",
      "p: http://rdaregistry.info/Elements/u/P60565\n",
      "\n",
      "p: http://www.w3.org/2004/02/skos/core#prefLabel\n",
      "\n",
      "p: http://purl.org/dc/terms/title\n",
      "\n",
      "p: http://www.w3.org/2004/02/skos/core#notation\n",
      "\n",
      "p: http://purl.org/ontology/bibo/issn\n",
      "\n",
      "p: http://purl.org/dc/terms/abstract\n",
      "\n",
      "p: http://www.bl.uk/schemas/bibliographic/blterms#bnb\n",
      "\n",
      "p: http://iflastandards.info/ns/isbd/elements/P1038\n",
      "\n",
      "p: http://purl.org/ontology/bibo/isbn10\n",
      "\n",
      "p: http://iflastandards.info/ns/isbd/elements/P1044\n",
      "\n",
      "p: http://xmlns.com/foaf/0.1/name\n",
      "\n",
      "p: http://www.w3.org/2000/01/rdf-schema#label\n",
      "\n",
      "p: http://www.w3.org/2004/02/skos/core#hiddenLabel\n",
      "\n",
      "p: http://purl.org/NET/c4dm/event.owl#time\n",
      "\n",
      "p: http://www.bl.uk/schemas/bibliographic/blterms#hasCreated\n",
      "\n"
     ]
    }
   ],
   "source": [
    "prefix = '' # No prefixes required\n",
    "\n",
    "# Set up query to find all predicates\n",
    "query = '''\n",
    "        SELECT DISTINCT ?p \n",
    "        WHERE {\n",
    "            ?s ?p ?o\n",
    "    \n",
    "      } '''\n",
    "\n",
    "# Run query and print out a limited number of results\n",
    "printRunQuery(endpoint, prefix, query, limit=30)\n"
   ]
  },
  {
   "cell_type": "markdown",
   "metadata": {},
   "source": [
    "Several terms are defined in the FOAF ontology and some are W3C terms. However, there are a number of terms which come from purl.org/cd and purl.org.ontology (these occur as prefixes in the earlier query). These come from The Dublin Core Metadata Initiative (DCMI) which supports shared innovation in metadata design and best practices across a broad range of purposes and business models. If you wish, you can find out more about the Dublin Core by visiting http://dublincore.org/about-us/.\n",
    "\n",
    "You should click on some of the URLs given in the results of the last query to find out more about the terms being used. For example, click on one of the results involving the Dublin Core bibliographic ontology such as http://purl.org/ontology/bibo/isbn13.\n",
    "\n",
    "Note that in the Dubin Core terms vocabulary there is no 'author' predicate: instead there is a generic dct:creator predicate."
   ]
  },
  {
   "cell_type": "markdown",
   "metadata": {
    "activity": "activityAns"
   },
   "source": [
    "### Activity 1\n",
    "\n",
    "Create and run a query against the BNB endpoint which finds the titles of all novels written by Ian Rankin. \n",
    "\n",
    "In the BNB dataset an author (creator) is specified by writing their name in the form surname followed by given name as in:\n",
    "\n",
    "<http://bnb.data.bl.uk/id/person/RankinIan>"
   ]
  },
  {
   "cell_type": "code",
   "execution_count": 6,
   "metadata": {
    "activity": "activity"
   },
   "outputs": [
    {
     "name": "stdout",
     "output_type": "stream",
     "text": [
      "title: Black & blue\n",
      "\n",
      "title: Strip Jack\n",
      "\n",
      "title: The Complaints\n",
      "\n",
      "title: Doors open)\n",
      "\n",
      "title: Set in darkness\n",
      "\n",
      "title: Doors open\n",
      "\n",
      "title: Resurrection men\n",
      "\n",
      "title: The travelling companion\n",
      "\n",
      "title: Let it bleed\n",
      "\n",
      "title: The impossible dead\n",
      "\n",
      "title: Ian Rankin : the complete short stories\n",
      "\n",
      "title: Exit music\n",
      "\n",
      "title: Watchman\n",
      "\n",
      "title: Herbert in motion and other stories\n",
      "\n",
      "title: Wolfman : a John Rebus novel\n",
      "\n",
      "title: The hanging garden\n",
      "\n",
      "title: Standing in another man's grave\n",
      "\n",
      "title: The complaints\n",
      "\n",
      "title: Hide & seek\n",
      "\n",
      "title: Knots & crosses\n",
      "\n",
      "title: Fleshmarket Close\n",
      "\n",
      "title: Wolfman\n",
      "\n",
      "title: The flood\n",
      "\n",
      "title: Blood hunt\n",
      "\n",
      "title: The hanging garden : an Inspector Rebus novel\n",
      "\n",
      "title: Knots & crosses : an Inspector Rebus novel\n",
      "\n",
      "title: Knots and crosses\n",
      "\n",
      "title: The black book\n",
      "\n",
      "title: Dark road\n",
      "\n",
      "title: Rather be the devil\n",
      "\n"
     ]
    }
   ],
   "source": [
    "endpoint = \"http://bnb.data.bl.uk/sparql\"\n",
    "\n",
    "# set up prefixes\n",
    "prefix = '''PREFIX pers: <http://bnb.data.bl.uk/id/person/>\n",
    "            PREFIX dct: <http://purl.org/dc/terms/>\n",
    "        '''\n",
    "\n",
    "# set up query to find all predicated\n",
    "query = '''\n",
    "        SELECT DISTINCT ?title\n",
    "        WHERE {\n",
    "            ?book dct:creator pers:RankinIan;\n",
    "                dct:title ?title\n",
    "        }\n",
    "        '''\n",
    "\n",
    "# Run the query and print out a limited number of results\n",
    "printRunQuery(endpoint, prefix, query, limit=30)"
   ]
  },
  {
   "cell_type": "markdown",
   "metadata": {
    "activity": "activityAns"
   },
   "source": [
    "#### Our solution\n",
    "\n",
    "To reveal our solution, click on the triangle symbol on the left-hand end of this cell.\n"
   ]
  },
  {
   "cell_type": "code",
   "execution_count": 7,
   "metadata": {},
   "outputs": [
    {
     "name": "stdout",
     "output_type": "stream",
     "text": [
      "title: Black & blue\n",
      "\n",
      "title: Strip Jack\n",
      "\n",
      "title: The Complaints\n",
      "\n",
      "title: Doors open)\n",
      "\n",
      "title: Set in darkness\n",
      "\n",
      "title: Doors open\n",
      "\n",
      "title: Resurrection men\n",
      "\n",
      "title: The travelling companion\n",
      "\n",
      "title: Let it bleed\n",
      "\n",
      "title: The impossible dead\n",
      "\n",
      "title: Ian Rankin : the complete short stories\n",
      "\n",
      "title: Exit music\n",
      "\n",
      "title: Watchman\n",
      "\n",
      "title: Herbert in motion and other stories\n",
      "\n",
      "title: Wolfman : a John Rebus novel\n",
      "\n",
      "title: The hanging garden\n",
      "\n",
      "title: Standing in another man's grave\n",
      "\n",
      "title: The complaints\n",
      "\n",
      "title: Hide & seek\n",
      "\n",
      "title: Knots & crosses\n",
      "\n",
      "title: Fleshmarket Close\n",
      "\n",
      "title: Wolfman\n",
      "\n",
      "title: The flood\n",
      "\n",
      "title: Blood hunt\n",
      "\n",
      "title: The hanging garden : an Inspector Rebus novel\n",
      "\n",
      "title: Knots & crosses : an Inspector Rebus novel\n",
      "\n",
      "title: Knots and crosses\n",
      "\n",
      "title: The black book\n",
      "\n",
      "title: Dark road\n",
      "\n",
      "title: Rather be the devil\n",
      "\n"
     ]
    }
   ],
   "source": [
    "endpoint = \"http://bnb.data.bl.uk/sparql\"\n",
    "\n",
    "# Set up prefixes   \n",
    "prefix = '''PREFIX pers: <http://bnb.data.bl.uk/id/person/>\n",
    "            PREFIX dct: <http://purl.org/dc/terms/>\n",
    "         ''' \n",
    "\n",
    "# Set up query to find all predicates\n",
    "query = '''\n",
    "        SELECT DISTINCT ?title\n",
    "        WHERE {\n",
    "            \n",
    "            ?book dct:creator pers:RankinIan;\n",
    "                  dct:title ?title\n",
    "      } '''           \n",
    "    \n",
    "# Run query and print out a limited number of results\n",
    "printRunQuery(endpoint, prefix, query, limit=30)"
   ]
  },
  {
   "cell_type": "markdown",
   "metadata": {},
   "source": [
    "### FILTERing with a regular expression"
   ]
  },
  {
   "cell_type": "markdown",
   "metadata": {},
   "source": [
    "If you wanted to restrict the results of the last query to titles containing the word 'Rebus' (the name of a character in many of Ian Rankin's novels) you can use the FILTER keyword together with a regular expression as illustrated in the following example. \n",
    "\n",
    "The function `regex()`, short for regular expression, is a SPARQL function that returns `true` if the value of `?title`, a string, contains the substring 'Rebus'."
   ]
  },
  {
   "cell_type": "code",
   "execution_count": 8,
   "metadata": {
    "activity": false
   },
   "outputs": [
    {
     "name": "stdout",
     "output_type": "stream",
     "text": [
      "title: Wolfman : a John Rebus novel\n",
      "\n",
      "title: The hanging garden : an Inspector Rebus novel\n",
      "\n",
      "title: Knots & crosses : an Inspector Rebus novel\n",
      "\n",
      "title: Rebus : the lost years\n",
      "\n",
      "title: Mortal causes : an Inspector Rebus novel\n",
      "\n",
      "title: Tooth & nail : an Inspector Rebus novel\n",
      "\n",
      "title: Rebus's Scotland : a personal journey\n",
      "\n",
      "title: Rebus - the early years\n",
      "\n",
      "title: Rebus : capital crimes\n",
      "\n",
      "title: The beat goes on : the complete Rebus stories\n",
      "\n",
      "title: Death is not the end : an Inspector Rebus novella\n",
      "\n",
      "title: Rebus : the early years\n",
      "\n",
      "title: Strip Jack : an inspector Rebus novel\n",
      "\n",
      "title: Taghadh de sgeulachdan Inspeactair Rebus\n",
      "\n",
      "title: 10 great Rebus novels\n",
      "\n",
      "title: Dead souls : an Inspector Rebus novel\n",
      "\n",
      "title: In the nick of time : John Rebus vs Roy Grace\n",
      "\n",
      "title: Black & blue : an Inspector Rebus novel\n",
      "\n"
     ]
    }
   ],
   "source": [
    "# Set up query to find all predicates\n",
    "# Set up prefixes   \n",
    "prefix = '''PREFIX pers: <http://bnb.data.bl.uk/id/person/>\n",
    "            PREFIX dct: <http://purl.org/dc/terms/>\n",
    "         ''' \n",
    "\n",
    "# Set up query to find all predicates\n",
    "query = '''\n",
    "        SELECT DISTINCT ?title\n",
    "        WHERE {\n",
    "            \n",
    "            ?book dct:creator pers:RankinIan;\n",
    "                  dct:title ?title\n",
    "                  \n",
    "            FILTER(regex(?title, 'Rebus'))\n",
    "      } '''           \n",
    "    \n",
    "# Run query and print out a limited number of results\n",
    "printRunQuery(endpoint, prefix, query, limit=30)"
   ]
  },
  {
   "cell_type": "markdown",
   "metadata": {},
   "source": [
    "## Example: The Environment Agency's Bathing Water Linked Data store"
   ]
  },
  {
   "cell_type": "markdown",
   "metadata": {},
   "source": [
    "The Environment Agency collects water-quality data each year from May to September, to ensure that designated bathing water sites on the coast and inland are safe and clean for swimming and other activities. See http://environment.data.gov.uk/bwq/index.html.\n",
    "\n",
    "The Environment Agency splits up the country into counties, and counties are divided into districts. The following query prints out some of the attributes of bathing water places, specifically their district number and district name. "
   ]
  },
  {
   "cell_type": "code",
   "execution_count": 9,
   "metadata": {
    "activity": false
   },
   "outputs": [
    {
     "name": "stdout",
     "output_type": "stream",
     "text": [
      "district: http://statistics.data.gov.uk/id/statistical-geography/E07000052\n",
      "name: Ringstead Bay\n",
      "\n",
      "district: http://data.ordnancesurvey.co.uk/id/7000000000014539\n",
      "name: Ringstead Bay\n",
      "\n",
      "district: http://data.ordnancesurvey.co.uk/id/7000000000022569\n",
      "name: Wembury\n",
      "\n",
      "district: http://statistics.data.gov.uk/id/statistical-geography/E07000044\n",
      "name: Wembury\n",
      "\n",
      "district: http://data.ordnancesurvey.co.uk/id/7000000000043750\n",
      "name: Cawsand\n",
      "\n",
      "district: http://statistics.data.gov.uk/id/statistical-geography/E06000052\n",
      "name: Cawsand\n",
      "\n"
     ]
    }
   ],
   "source": [
    "# Define the endpoint\n",
    "endpoint = 'http://environment.data.gov.uk/sparql/bwq/query'\n",
    "\n",
    "# Set up prefixes\n",
    "prefix = '''\n",
    "    PREFIX bw: <http://environment.data.gov.uk/def/bathing-water/> \n",
    "    PREFIX rdfs: <http://www.w3.org/2000/01/rdf-schema#>\n",
    "    PREFIX stats: <http://statistics.data.gov.uk/def/administrative-geography/>\n",
    "    '''\n",
    "\n",
    "# Define the query\n",
    "query = '''\n",
    "SELECT ?name ?district\n",
    "WHERE {\n",
    "    ?x a bw:BathingWater . #find subjects that are of type (predicate a) bw:BathingWater\n",
    "    ?x rdfs:label ?name .  #obtain name of the subject\n",
    "    ?x stats:district ?district . #obtain district (number) of the subject\n",
    "    }\n",
    "'''\n",
    "\n",
    "# Run query and print out a limited number of results\n",
    "printRunQuery(endpoint, prefix, query, limit=6)\n"
   ]
  },
  {
   "cell_type": "markdown",
   "metadata": {},
   "source": [
    "The output provides two results for each district: one provides the location reference of the Office for National Statistics (ONS) and the other an Ordnance Survey (OS) location. The ONS references no longer exist (try one!) - the result of data owners changing the structure or contents of their datasets and other providers not keeping up with the changes."
   ]
  },
  {
   "cell_type": "markdown",
   "metadata": {
    "activity": "activity"
   },
   "source": [
    "### Activity 2\n",
    "\n",
    "Choose one of the districts and click on the URI for the OS location. You should see a map of where the district is located."
   ]
  },
  {
   "cell_type": "markdown",
   "metadata": {
    "activity": "activity"
   },
   "source": [
    "### Discussion\n",
    "\n",
    "You should see a map of the district in which the bathing area is located. For example, Ringstead Bay is located in the district of West Dorset."
   ]
  },
  {
   "cell_type": "markdown",
   "metadata": {},
   "source": [
    "## Example: Ordnance Survey (OS)"
   ]
  },
  {
   "cell_type": "markdown",
   "metadata": {},
   "source": [
    "Ordnance Survey is Great Britain's national mapping agency, providing accurate and up-to-date geographic data. Details of their open Linked Data store can be found at http://data.ordnancesurvey.co.uk/datasets/os-linked-data.\n",
    "\n",
    "1. Click on the above link and visit the OS website. Read the introduction.\n",
    "2. Scroll down the page and click on the link labelled 'SPARQL' (in a box containing the label 'powered by SPARQL'). This will take you to a page entitled 'OS Linked Data SPARQL API' where you can experiment by running SPARQL queries against OS datasets.\n",
    "\n",
    "You can either continue to experiment with the examples at the endpoint or run the following query (to find Roman antiquities - one of the examples at the endpoint)."
   ]
  },
  {
   "cell_type": "code",
   "execution_count": 10,
   "metadata": {
    "activity": false
   },
   "outputs": [
    {
     "name": "stdout",
     "output_type": "stream",
     "text": [
      "northing: 116500\n",
      "twenty: http://data.ordnancesurvey.co.uk/id/20kmgridsquare/SU00\n",
      "easting: 401500\n",
      "map: http://data.ordnancesurvey.co.uk/id/OSLandrangerMap/184\n",
      "one: http://data.ordnancesurvey.co.uk/id/1kmgridsquare/SU0116\n",
      "label: Ackling Dyke (Roman Road)\n",
      "uri: http://data.ordnancesurvey.co.uk/id/50kGazetteer/1487\n",
      "\n",
      "northing: 566500\n",
      "twenty: http://data.ordnancesurvey.co.uk/id/20kmgridsquare/NY66\n",
      "easting: 370500\n",
      "map: http://data.ordnancesurvey.co.uk/id/OSLandrangerMap/86\n",
      "one: http://data.ordnancesurvey.co.uk/id/1kmgridsquare/NY7066\n",
      "label: Aesica (Roman Fort)\n",
      "uri: http://data.ordnancesurvey.co.uk/id/50kGazetteer/1798\n",
      "\n",
      "northing: 566500\n",
      "twenty: http://data.ordnancesurvey.co.uk/id/20kmgridsquare/NY66\n",
      "easting: 370500\n",
      "map: http://data.ordnancesurvey.co.uk/id/OSLandrangerMap/87\n",
      "one: http://data.ordnancesurvey.co.uk/id/1kmgridsquare/NY7066\n",
      "label: Aesica (Roman Fort)\n",
      "uri: http://data.ordnancesurvey.co.uk/id/50kGazetteer/1798\n",
      "\n",
      "northing: 206500\n",
      "twenty: http://data.ordnancesurvey.co.uk/id/20kmgridsquare/SP00\n",
      "easting: 417500\n",
      "map: http://data.ordnancesurvey.co.uk/id/OSLandrangerMap/163\n",
      "one: http://data.ordnancesurvey.co.uk/id/1kmgridsquare/SP1706\n",
      "label: Akeman Street (Roman Road)\n",
      "uri: http://data.ordnancesurvey.co.uk/id/50kGazetteer/2880\n",
      "\n",
      "northing: 220500\n",
      "twenty: http://data.ordnancesurvey.co.uk/id/20kmgridsquare/SP42\n",
      "easting: 450500\n",
      "map: http://data.ordnancesurvey.co.uk/id/OSLandrangerMap/164\n",
      "one: http://data.ordnancesurvey.co.uk/id/1kmgridsquare/SP5020\n",
      "label: Akeman Street (Roman Road)\n",
      "uri: http://data.ordnancesurvey.co.uk/id/50kGazetteer/2881\n",
      "\n"
     ]
    }
   ],
   "source": [
    "endpoint = 'http://data.ordnancesurvey.co.uk/datasets/os-linked-data/apis/sparql'\n",
    "\n",
    "prefix = '''\n",
    "PREFIX rdfs: <http://www.w3.org/2000/01/rdf-schema#>\n",
    "PREFIX spatial: <http://data.ordnancesurvey.co.uk/ontology/spatialrelations/>\n",
    "PREFIX gaz: <http://data.ordnancesurvey.co.uk/ontology/50kGazetteer/>\n",
    "'''\n",
    "\n",
    "query = '''\n",
    "SELECT ?uri ?label ?easting ?northing ?one ?twenty ?map \n",
    "WHERE {\n",
    "  ?uri \n",
    "    #filter on type\n",
    "    gaz:featureType gaz:RomanAntiquity;\n",
    "\n",
    "    #bind everything we want to return\n",
    "    rdfs:label ?label;\n",
    "    spatial:easting ?easting;\n",
    "    spatial:northing ?northing;\n",
    "    spatial:oneKMGridReference ?one;\n",
    "    spatial:twentyKMGridReference ?twenty;\n",
    "    gaz:mapReference ?map.    \n",
    "}\n",
    "'''\n",
    "\n",
    "printRunQuery(endpoint, prefix, query, limit=5)\n"
   ]
  },
  {
   "cell_type": "markdown",
   "metadata": {},
   "source": [
    "The results show the OS grid references (easting and northing) of various Roman antiquities. Also given are the areas relative to various maps (OS LandRanger, 1km grid square and 20km grid square)."
   ]
  },
  {
   "cell_type": "markdown",
   "metadata": {},
   "source": [
    "## Example: DCLG Open Data Communities\n",
    "\n",
    "The next query involves extracting data from Open Data Communities, the Department for Communities and Local Government's (DCLG) linked data platform.\n",
    "\n",
    "Since the 1970s, the Department for Communities and Local Government has calculated local measures of deprivation in England. The increasing availability of administrative data at local levels has driven developments in the definition and measurement of deprivation. For the 2010 investigation, seven distinct domains have been identified: Income Deprivation, Employment Deprivation, Health Deprivation and Disability, Education Skills and Training Deprivation, Barriers to Housing and Services, Living Environment Deprivation, and Crime. They have been combined, using appropriate weights, into a single overall Index of Multiple Deprivation which can be used to rank every small area in England according to the deprivation experienced by the people living there.\n",
    "\n",
    "Further information about the 2010 data can be found at http://www.communities.gov.uk/documents/statistics/pdf/1871208.pdf.\n",
    "\n",
    "Suppose that we want to discover data about deprivation on the Isle of Wight. The following query shows how we need to combine several conditions to retrieve just the data item we want -  the IMD rank for a particular local authority for a particular year."
   ]
  },
  {
   "cell_type": "code",
   "execution_count": 11,
   "metadata": {},
   "outputs": [
    {
     "name": "stdout",
     "output_type": "stream",
     "text": [
      "iow: http://opendatacommunities.org/id/unitary-authority/isle-of-wight\n",
      "councilwebsite: http://www.iwight.com\n",
      "s: http://opendatacommunities.org/id/geography/administration/ua/E06000046\n",
      "authorityname: Isle of Wight\n",
      "imdrank: 106\n",
      "\n"
     ]
    }
   ],
   "source": [
    "#Open Data Communities endpoint\n",
    "endpoint_odc = 'http://opendatacommunities.org/sparql'\n",
    "\n",
    "#Define prefixes\n",
    "prefix = '''\n",
    "    PREFIX rdfs: <http://www.w3.org/2000/01/rdf-schema#>\n",
    "    PREFIX rdf: <http://www.w3.org/1999/02/22-rdf-syntax-ns#>\n",
    "    PREFIX osadmingeo: <http://data.ordnancesurvey.co.uk/ontology/admingeo/>\n",
    "    PREFIX ossr: <http://data.ordnancesurvey.co.uk/ontology/spatialrelations/>\n",
    "'''\n",
    "\n",
    "# Define query\n",
    "q = '''\n",
    "    SELECT DISTINCT ?councilwebsite ?imdrank ?iow ?authorityname ?s\n",
    "    WHERE {\n",
    "    \n",
    "        # Find IMD rank for IoW\n",
    "        # 1. Find the unitary authority \"Isle of Wight\"\n",
    "        ?iow rdfs:label \"Isle of Wight\" ;\n",
    "            rdf:type <http://opendatacommunities.org/def/local-government/UnitaryAuthority>.\n",
    "            \n",
    "        # 2. Find the geographic reference area for the unitary authority\n",
    "        ?s <http://opendatacommunities.org/def/local-government/isGovernedBy> ?iow ;\n",
    "            rdf:type <http://opendatacommunities.org/def/ontology/admingeo/UnitaryAuthority> .\n",
    "        \n",
    "        # 2.5 Find the geographic reference area data point observation in the 2010 IMD data set\n",
    "        ?obs <http://opendatacommunities.org/def/ontology/geography/refArea> ?s ;\n",
    "           <http://purl.org/linked-data/cube#dataSet> \n",
    "           <http://opendatacommunities.org/data/societal-wellbeing/deprivation/imd-rank-la-2010>.\n",
    "        \n",
    "        # 3. Find the overall rank of the reference area\n",
    "        ?obs <http://opendatacommunities.org/def/ontology/societal-wellbeing/deprivation/imdRank> ?imdrank . \n",
    "\n",
    "        # Find council website and authority name for IoW\n",
    "        ?iow <http://xmlns.com/foaf/0.1/page> ?councilwebsite .\n",
    "        ?iow rdfs:label ?authorityname.\n",
    "        ?iow <http://www.w3.org/2002/07/owl#sameAs> ?z.\n",
    "    }\n",
    "'''\n",
    "\n",
    "printRunQuery(endpoint_odc, prefix, q, limit=50)"
   ]
  },
  {
   "cell_type": "markdown",
   "metadata": {},
   "source": [
    "You might like to re-run this query with other unitary authorities (say 'Cornwall', 'Hartlepool', 'Poole' and 'Windsor and Maidenhead') and find their ranks. The lower the rank, the more deprived the area."
   ]
  },
  {
   "cell_type": "markdown",
   "metadata": {},
   "source": [
    "## Example: UK's Land Registry Linked Open Data"
   ]
  },
  {
   "cell_type": "markdown",
   "metadata": {},
   "source": [
    "The Land Registry publishes the following public datasets:\n",
    "\n",
    "* House Price Index background data – available from January 1995 and updated in full \n",
    "    each month.\n",
    "* Price paid data – available from January 1995 and updated in full each month.\n",
    "* Transaction data – available from December 2011.\n",
    "    \n",
    "At the top of the Land Registry's home page at http://landregistry.data.gov.uk, immediately below the title, are four links labelled 'House Price Index', 'Price Paid Data', 'Standard Reports' and 'SPARQL query'. Visit the Land Registry's home page and click on the 'House Price Index' link where you will find a form for obtaining the house price indices for regions within England and Wales. Enter an area, choose a date range, and choose the data items you are interested in. The result should be displayed on your screen immediately below the form.\n",
    "\n",
    "You may like to view a tutorial prior to perfoming the search; if so, press the button labelled 'tutorial' at the top right-hand corner of the form.\n",
    "\n",
    "If you do not obtain any results, that is, nothing appears below the form, it is probably because you have entered an invalid value for the area. We suggest that you click on the button displaying a map of England and Wales (it can be found to the right of the area selection box), select a region and then an area."
   ]
  },
  {
   "cell_type": "markdown",
   "metadata": {},
   "source": [
    "The following query returns the price paid data from the default graph for each transaction record having an address with the given postcode.\n",
    "The postcode to query is set in the line `?addr lrcommon:postcode \"PL6 8RU\"^^xsd:string .`\n"
   ]
  },
  {
   "cell_type": "code",
   "execution_count": 12,
   "metadata": {
    "activity": false
   },
   "outputs": [
    {
     "name": "stdout",
     "output_type": "stream",
     "text": [
      "paon: 58\n",
      "county: CITY OF PLYMOUTH\n",
      "postcode: PL6 8RU\n",
      "town: PLYMOUTH\n",
      "street: PATTINSON DRIVE\n",
      "date: 1999-11-08\n",
      "amount: 56000\n",
      "\n",
      "paon: 62\n",
      "county: CITY OF PLYMOUTH\n",
      "postcode: PL6 8RU\n",
      "town: PLYMOUTH\n",
      "street: PATTINSON DRIVE\n",
      "date: 2000-05-19\n",
      "amount: 58000\n",
      "\n",
      "paon: 100\n",
      "county: CITY OF PLYMOUTH\n",
      "postcode: PL6 8RU\n",
      "town: PLYMOUTH\n",
      "street: PATTINSON DRIVE\n",
      "date: 2003-04-17\n",
      "amount: 100000\n",
      "\n",
      "paon: 66\n",
      "county: CITY OF PLYMOUTH\n",
      "postcode: PL6 8RU\n",
      "town: PLYMOUTH\n",
      "street: PATTINSON DRIVE\n",
      "date: 2003-09-05\n",
      "amount: 113000\n",
      "\n",
      "paon: 62\n",
      "county: CITY OF PLYMOUTH\n",
      "postcode: PL6 8RU\n",
      "town: PLYMOUTH\n",
      "street: PATTINSON DRIVE\n",
      "date: 2004-03-26\n",
      "amount: 120000\n",
      "\n"
     ]
    }
   ],
   "source": [
    "endpoint = 'http://landregistry.data.gov.uk/landregistry/query'\n",
    "\n",
    "prefix = '''\n",
    "PREFIX xsd: <http://www.w3.org/2001/XMLSchema#>\n",
    "PREFIX lrppi: <http://landregistry.data.gov.uk/def/ppi/>\n",
    "PREFIX lrcommon: <http://landregistry.data.gov.uk/def/common/>\n",
    "'''\n",
    "\n",
    "query = '''\n",
    "SELECT ?paon ?saon ?street ?town ?county ?postcode ?amount ?date\n",
    "WHERE\n",
    "{\n",
    "  ?transx lrppi:pricePaid ?amount ;\n",
    "          lrppi:transactionDate ?date ;\n",
    "          lrppi:propertyAddress ?addr.\n",
    "  \n",
    "  ?addr lrcommon:postcode \"PL6 8RU\"^^xsd:string.\n",
    "  ?addr lrcommon:postcode ?postcode.\n",
    "  \n",
    "  OPTIONAL {?addr lrcommon:county ?county}\n",
    "  OPTIONAL {?addr lrcommon:paon ?paon}\n",
    "  OPTIONAL {?addr lrcommon:saon ?saon}\n",
    "  OPTIONAL {?addr lrcommon:street ?street}\n",
    "  OPTIONAL {?addr lrcommon:town ?town}\n",
    "\n",
    "}\n",
    "ORDER BY ?amount\n",
    "\n",
    "'''\n",
    "\n",
    "printRunQuery(endpoint, prefix, query, limit=5)"
   ]
  },
  {
   "cell_type": "markdown",
   "metadata": {},
   "source": [
    "The majority of index terms are self explanatory, but there are two acronyms related to addresses. The first, `paon`, stands for 'primary addressable object name' and is either a number, name or description of the property (technically it is a 'basic land and property unit'). The second, `saon`, is a 'secondary addressable object name' and is similar to a `paon`. A `soan` usually only exists where a building has been divided into sub-buildings such as flats. \n",
    "\n",
    "In this example, there are no saons in the results even though they are requested in the list of variables following the SELECT keyword. This is a result of the use of the OPTIONAL patterns at the end of the WHERE clause. The patterns (there can be more than one) inside an OPTIONAL construct are either matched, in which case new bindings are made, or are not matched, in which case no further bindings are made and the pattern is effectively ignored. "
   ]
  },
  {
   "cell_type": "markdown",
   "metadata": {},
   "source": [
    "The following query returns the house price indices for Plymouth for the month of January 2015."
   ]
  },
  {
   "cell_type": "code",
   "execution_count": 13,
   "metadata": {
    "activity": false
   },
   "outputs": [
    {
     "name": "stdout",
     "output_type": "stream",
     "text": [
      "regionName: City of Plymouth\n",
      "avgPriceAll: 130860\n",
      "avgTerraced: 122538\n",
      "avgSemi: 145330\n",
      "avgDetached: 282701\n",
      "yearmonth: 2015-01\n",
      "indexr: 257.43\n",
      "avgFlats: 79737\n",
      "annual: 3.30\n",
      "volume: 249\n",
      "\n"
     ]
    }
   ],
   "source": [
    "prefix = '''\n",
    "PREFIX rdfs: <http://www.w3.org/2000/01/rdf-schema#>\n",
    "PREFIX lrhpi: <http://landregistry.data.gov.uk/def/hpi/>\n",
    "'''\n",
    "\n",
    "# Returns the house price indices for a particular region (Plymouth) for a particular month (Jan 2015)\n",
    "query = '''\n",
    "SELECT DISTINCT ?regionName ?yearmonth ?indexr ?region ?avgPriceAll ?avgDetached ?avgSemi \\\n",
    "?avgFlats ?avgTerraced ?annual ?volume\n",
    "WHERE\n",
    "{\n",
    "  VALUES ?localAuthorityMonth {<http://landregistry.data.gov.uk/data/hpi/region/city-of-plymouth/month/2015-01>}\n",
    "\n",
    "  ?localAuthorityMonth\n",
    "    lrhpi:refRegion ?regionURI ;\n",
    "    lrhpi:indicesSASM ?indexr ;\n",
    "    lrhpi:refPeriod ?yearmonth ;\n",
    "    lrhpi:averagePricesSASM ?avgPriceAll ;\n",
    "    lrhpi:monthlyChange ?monthly ;\n",
    "    lrhpi:averagePricesDetachedSASM ?avgDetached ;\n",
    "    lrhpi:averagePricesSemiDetachedSASM ?avgSemi ;\n",
    "    lrhpi:averagePricesFlatMaisonetteSASM ?avgFlats ;\n",
    "    lrhpi:averagePricesTerracedSASM ?avgTerraced ;\n",
    "    lrhpi:annualChange ?annual .\n",
    "\n",
    "  OPTIONAL { ?localAuthorityMonth lrhpi:salesVolume ?volume }\n",
    "\n",
    "  ?regionURI rdfs:label ?regionName .\n",
    "  FILTER (langMatches( lang(?regionName), \"EN\") )\n",
    "}\n",
    "'''\n",
    "\n",
    "printRunQuery(endpoint, prefix, query, limit=5)"
   ]
  },
  {
   "cell_type": "markdown",
   "metadata": {},
   "source": [
    "This example uses another construct to restrict the number of results returned: the VALUES keyword. In general, the VALUES keyword is followed by one or more variable names which are followed by a set of values placed inside curly braces. There should be one value for each of the variables. The idea is that the query will only return results for which the variables named in the VALUES clause have the specific values specified in the braces. In this case, only results for the local authority Plymouth for the month of January 2015 have been requested."
   ]
  },
  {
   "cell_type": "markdown",
   "metadata": {},
   "source": [
    "## Summary"
   ]
  },
  {
   "cell_type": "markdown",
   "metadata": {},
   "source": [
    "In this Notebook you have been introduced to a variety of real linked datasets including DBpedia, the British National Bibliography, the Environment Agency's Bathing Water Linked Data store, Ordnance Survey, the UK's Land Registry Linked Open Data and the Open University's datasets.\n",
    "\n",
    "You have seen how to use the SPARQLWrapper library. To do so, you create a SPARQLWrapper object and associate it with: the URL of an endpoint, a query (as a Python string) and the output format (we used JSON). The results of a query are then converted to a Python dictionary data structure.\n",
    "\n",
    "The queries in this Notebook are more complex than in previous Notebooks. To make the process of creating a query and outputting the results in a more useful way, we provided a number of helper functions.\n",
    "\n",
    "Several new filtering mechanisms were introduced, including:\n",
    "\n",
    "* `regex(string, substring)`, a regular expression function used to determine whether a string contains a specific substring\n",
    "* `OPTIONAL {pattern}`, to make bindings only when the pattern is matched\n",
    "* `VALUES variable list {values list}`, binds the values to the variables.\n",
    "\n",
    "You will have also observed that whenever you meet a new dataset for the first time, you need to devote some time to finding out and understanding the predicates used. We have shown you how a simple query can reveal all the predicates, but you then have to discover their meaning. A useful first step is to determine the domain and range of the predicates. Also, it is to be hoped that the names used for the predicates provide a clue as to their meaning.\n",
    "\n",
    "You should also have noticed that there are several ontologies and vocabularies that have occurred frequently in our examples such as the Dublin Core, FOAF, xmls, rdf and rdfs. It is well worth getting familiar with these (or at least know how to access them to discover their contents). Most developers of datasets will use well-accepted vocabularies and then add on new vocabularies suited to their particular domains."
   ]
  },
  {
   "cell_type": "markdown",
   "metadata": {},
   "source": [
    "## What next?\n",
    "\n",
    "If you are working through this Notebook as part of an inline exercise, return to the module materials now.\n",
    "\n",
    "If you are working through this set of Notebooks as a whole, you've completed the Part 25 Notebooks. It's time to move on to Part 26."
   ]
  }
 ],
 "metadata": {
  "kernelspec": {
   "display_name": "Python 3",
   "language": "python",
   "name": "python3"
  },
  "language_info": {
   "codemirror_mode": {
    "name": "ipython",
    "version": 3
   },
   "file_extension": ".py",
   "mimetype": "text/x-python",
   "name": "python",
   "nbconvert_exporter": "python",
   "pygments_lexer": "ipython3",
   "version": "3.5.2"
  }
 },
 "nbformat": 4,
 "nbformat_minor": 1
}
