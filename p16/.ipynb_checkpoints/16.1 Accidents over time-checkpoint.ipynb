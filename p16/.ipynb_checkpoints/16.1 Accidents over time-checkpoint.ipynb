{
 "cells": [
  {
   "cell_type": "markdown",
   "metadata": {},
   "source": [
    "# Accidents over time\n",
    "Given a sharded MongoDB cluster, we can now use it to store and query the entire accidents database, from 2009–12 inclusive. \n",
    "\n",
    "Note that this database only just fits in the memory of the VM. Before you start the activities in this Notebook, make sure you have no other running Notebooks. \n",
    "\n",
    "If any of the queries takes more than a few minutes to complete, it's probably because one of the shard servers has run out of memory and failed. Rerun the first three cells and try again. \n",
    "\n",
    "If you get more than a couple of failures, reboot the whole VM (_not_ suspend) and try again."
   ]
  },
  {
   "cell_type": "markdown",
   "metadata": {},
   "source": [
    "Stop the single-server Mongo instance and start the shard cluster. Look at the output of this command: it could well have failures the first time you run it. If so, just run it again until it works."
   ]
  },
  {
   "cell_type": "code",
   "execution_count": 1,
   "metadata": {},
   "outputs": [
    {
     "name": "stdout",
     "output_type": "stream",
     "text": [
      "/etc/mongo-shards-down: line 4: /vagrant/logs/mongocluster_*pid: No such file or directory\n",
      "Killing process  found in /vagrant/logs/mongocluster_*pid\n",
      "kill: usage: kill [-s sigspec | -n signum | -sigspec] pid | jobspec ... or kill -l [sigspec]\n",
      "Wait a mo to check processes are down...\n",
      "...ok\n",
      "Starting config server...\n",
      "about to fork child process, waiting until server is ready for connections.\n",
      "forked process: 4334\n",
      "child process started successfully, parent exiting\n",
      "Sleep for 5...\n",
      "...done\n",
      "Configuring config replica set\n",
      "MongoDB shell version v3.4.4\n",
      "connecting to: mongodb://127.0.0.1:57050/\n",
      "MongoDB server version: 3.4.4\n",
      "{\n",
      "\t\"_id\" : \"c1\",\n",
      "\t\"members\" : [\n",
      "\t\t{\n",
      "\t\t\t\"_id\" : 0,\n",
      "\t\t\t\"host\" : \"localhost:57050\"\n",
      "\t\t}\n",
      "\t]\n",
      "}\n",
      "{\n",
      "\t\"info\" : \"try querying local.system.replset to see current configuration\",\n",
      "\t\"ok\" : 0,\n",
      "\t\"errmsg\" : \"already initialized\",\n",
      "\t\"code\" : 23,\n",
      "\t\"codeName\" : \"AlreadyInitialized\"\n",
      "}\n",
      "bye\n",
      "Sleep for 5...\n",
      "...done\n",
      "2018-03-12T16:36:47.819+0000 W SHARDING [main] Running a sharded cluster with fewer than 3 config servers should only be done for testing purposes and is not recommended for production.\n",
      "about to fork child process, waiting until server is ready for connections.\n",
      "forked process: 4426\n",
      "child process started successfully, parent exiting\n",
      "Sleep for 5...\n",
      "...done\n",
      "starting servers for shard 0\n",
      "about to fork child process, waiting until server is ready for connections.\n",
      "forked process: 4450\n",
      "child process started successfully, parent exiting\n",
      "Sleep for 5...\n",
      "...done\n",
      "Configuring s0 replica set\n",
      "MongoDB shell version v3.4.4\n",
      "connecting to: mongodb://127.0.0.1:37017/\n",
      "MongoDB server version: 3.4.4\n",
      "{\n",
      "\t\"_id\" : \"s0\",\n",
      "\t\"members\" : [\n",
      "\t\t{\n",
      "\t\t\t\"_id\" : 0,\n",
      "\t\t\t\"host\" : \"localhost:37017\"\n",
      "\t\t}\n",
      "\t]\n",
      "}\n",
      "{\n",
      "\t\"info\" : \"try querying local.system.replset to see current configuration\",\n",
      "\t\"ok\" : 0,\n",
      "\t\"errmsg\" : \"already initialized\",\n",
      "\t\"code\" : 23,\n",
      "\t\"codeName\" : \"AlreadyInitialized\"\n",
      "}\n",
      "bye\n",
      "starting servers for shard 1\n",
      "about to fork child process, waiting until server is ready for connections.\n",
      "forked process: 4545\n",
      "child process started successfully, parent exiting\n",
      "Sleep for 5...\n",
      "...done\n",
      "Configuring s1 replica set\n",
      "MongoDB shell version v3.4.4\n",
      "connecting to: mongodb://127.0.0.1:47017/\n",
      "MongoDB server version: 3.4.4\n",
      "{\n",
      "\t\"_id\" : \"s1\",\n",
      "\t\"members\" : [\n",
      "\t\t{\n",
      "\t\t\t\"_id\" : 0,\n",
      "\t\t\t\"host\" : \"localhost:47017\"\n",
      "\t\t}\n",
      "\t]\n",
      "}\n",
      "{\n",
      "\t\"info\" : \"try querying local.system.replset to see current configuration\",\n",
      "\t\"ok\" : 0,\n",
      "\t\"errmsg\" : \"already initialized\",\n",
      "\t\"code\" : 23,\n",
      "\t\"codeName\" : \"AlreadyInitialized\"\n",
      "}\n",
      "bye\n",
      "starting servers for shard 2\n",
      "about to fork child process, waiting until server is ready for connections.\n",
      "forked process: 4640\n",
      "child process started successfully, parent exiting\n",
      "Sleep for 5...\n",
      "...done\n",
      "Configuring s2 replica set\n",
      "MongoDB shell version v3.4.4\n",
      "connecting to: mongodb://127.0.0.1:57017/\n",
      "MongoDB server version: 3.4.4\n",
      "{\n",
      "\t\"_id\" : \"s2\",\n",
      "\t\"members\" : [\n",
      "\t\t{\n",
      "\t\t\t\"_id\" : 0,\n",
      "\t\t\t\"host\" : \"localhost:57017\"\n",
      "\t\t}\n",
      "\t]\n",
      "}\n",
      "{\n",
      "\t\"info\" : \"try querying local.system.replset to see current configuration\",\n",
      "\t\"ok\" : 0,\n",
      "\t\"errmsg\" : \"already initialized\",\n",
      "\t\"code\" : 23,\n",
      "\t\"codeName\" : \"AlreadyInitialized\"\n",
      "}\n",
      "bye\n",
      "Waiting 10 seconds for the replica sets to fully come online...\n",
      "...done: should be online now\n"
     ]
    }
   ],
   "source": [
    "!sudo service mongod stop\n",
    "!sudo /etc/mongo-shards-down\n",
    "!sudo /etc/mongo-shards-up"
   ]
  },
  {
   "cell_type": "code",
   "execution_count": 2,
   "metadata": {
    "collapsed": true
   },
   "outputs": [],
   "source": [
    "# Import the required libraries and open the connection to Mongo\n",
    "\n",
    "import collections\n",
    "import datetime\n",
    "import matplotlib as mpl\n",
    "\n",
    "import pandas as pd\n",
    "import scipy.stats\n",
    "\n",
    "import folium\n",
    "import uuid\n",
    "\n",
    "import pymongo"
   ]
  },
  {
   "cell_type": "code",
   "execution_count": 3,
   "metadata": {
    "collapsed": true
   },
   "outputs": [],
   "source": [
    "# Open a connection to the Mongo server, open the accidents database and name the collections of accidents and labels\n",
    "\n",
    "# Note the different port number for this cluster\n",
    "client = pymongo.MongoClient('mongodb://localhost:27017/')\n",
    "\n",
    "db = client.accidents\n",
    "accidents = db.accidents\n",
    "labels = db.labels\n",
    "roads = db.roads"
   ]
  },
  {
   "cell_type": "markdown",
   "metadata": {},
   "source": [
    "## Rerun cells above\n",
    "If a map-reduce query fails, try rerunning the cells above to restart the Mongo shard cluster."
   ]
  },
  {
   "cell_type": "code",
   "execution_count": 4,
   "metadata": {
    "collapsed": true
   },
   "outputs": [],
   "source": [
    "# Load the expanded names of keys and human-readable codes into memory\n",
    "\n",
    "expanded_name = collections.defaultdict(str)\n",
    "for e in labels.find({'expanded': {\"$exists\": True}}):\n",
    "    expanded_name[e['label']] = e['expanded']\n",
    "    \n",
    "label_of = collections.defaultdict(str)\n",
    "for l in labels.find({'codes': {\"$exists\": True}}):\n",
    "    for c in l['codes']:\n",
    "        try:\n",
    "            label_of[l['label'], int(c)] = l['codes'][c]\n",
    "        except ValueError: \n",
    "            label_of[l['label'], c] = l['codes'][c]"
   ]
  },
  {
   "cell_type": "markdown",
   "metadata": {},
   "source": [
    "The small_accidents database only included data for 2012. The full database includes data from 2009–12. How much data?"
   ]
  },
  {
   "cell_type": "code",
   "execution_count": 5,
   "metadata": {},
   "outputs": [
    {
     "data": {
      "text/plain": [
       "615013"
      ]
     },
     "execution_count": 5,
     "metadata": {},
     "output_type": "execute_result"
    }
   ],
   "source": [
    "accidents.find().count()"
   ]
  },
  {
   "cell_type": "code",
   "execution_count": 6,
   "metadata": {},
   "outputs": [
    {
     "data": {
      "text/plain": [
       "103529"
      ]
     },
     "execution_count": 6,
     "metadata": {},
     "output_type": "execute_result"
    }
   ],
   "source": [
    "roads.find().count()"
   ]
  },
  {
   "cell_type": "markdown",
   "metadata": {},
   "source": [
    "We can summarise the data with an aggregation pipeline that will show the number of accidents each month over the seven years."
   ]
  },
  {
   "cell_type": "code",
   "execution_count": 7,
   "metadata": {
    "scrolled": true
   },
   "outputs": [
    {
     "data": {
      "text/plain": [
       "[{'_id': {'month': 1, 'year': 2009}, 'count': 13417},\n",
       " {'_id': {'month': 1, 'year': 2010}, 'count': 10637},\n",
       " {'_id': {'month': 1, 'year': 2011}, 'count': 11761},\n",
       " {'_id': {'month': 1, 'year': 2012}, 'count': 11836},\n",
       " {'_id': {'month': 2, 'year': 2009}, 'count': 10950},\n",
       " {'_id': {'month': 2, 'year': 2010}, 'count': 11724},\n",
       " {'_id': {'month': 2, 'year': 2011}, 'count': 11150},\n",
       " {'_id': {'month': 2, 'year': 2012}, 'count': 10863},\n",
       " {'_id': {'month': 3, 'year': 2009}, 'count': 13202},\n",
       " {'_id': {'month': 3, 'year': 2010}, 'count': 13165},\n",
       " {'_id': {'month': 3, 'year': 2011}, 'count': 12432},\n",
       " {'_id': {'month': 3, 'year': 2012}, 'count': 12171},\n",
       " {'_id': {'month': 4, 'year': 2009}, 'count': 12715},\n",
       " {'_id': {'month': 4, 'year': 2010}, 'count': 12248},\n",
       " {'_id': {'month': 4, 'year': 2011}, 'count': 12342},\n",
       " {'_id': {'month': 4, 'year': 2012}, 'count': 10820},\n",
       " {'_id': {'month': 5, 'year': 2009}, 'count': 13811},\n",
       " {'_id': {'month': 5, 'year': 2010}, 'count': 13220},\n",
       " {'_id': {'month': 5, 'year': 2011}, 'count': 12623},\n",
       " {'_id': {'month': 5, 'year': 2012}, 'count': 12439},\n",
       " {'_id': {'month': 6, 'year': 2009}, 'count': 13936},\n",
       " {'_id': {'month': 6, 'year': 2010}, 'count': 13644},\n",
       " {'_id': {'month': 6, 'year': 2011}, 'count': 13048},\n",
       " {'_id': {'month': 6, 'year': 2012}, 'count': 11470},\n",
       " {'_id': {'month': 7, 'year': 2009}, 'count': 14300},\n",
       " {'_id': {'month': 7, 'year': 2010}, 'count': 13527},\n",
       " {'_id': {'month': 7, 'year': 2011}, 'count': 13118},\n",
       " {'_id': {'month': 7, 'year': 2012}, 'count': 12818},\n",
       " {'_id': {'month': 8, 'year': 2009}, 'count': 13415},\n",
       " {'_id': {'month': 8, 'year': 2010}, 'count': 13027},\n",
       " {'_id': {'month': 8, 'year': 2011}, 'count': 12031},\n",
       " {'_id': {'month': 8, 'year': 2012}, 'count': 11878},\n",
       " {'_id': {'month': 9, 'year': 2009}, 'count': 13792},\n",
       " {'_id': {'month': 9, 'year': 2010}, 'count': 13904},\n",
       " {'_id': {'month': 9, 'year': 2011}, 'count': 13339},\n",
       " {'_id': {'month': 9, 'year': 2012}, 'count': 13066},\n",
       " {'_id': {'month': 10, 'year': 2009}, 'count': 14834},\n",
       " {'_id': {'month': 10, 'year': 2010}, 'count': 14429},\n",
       " {'_id': {'month': 10, 'year': 2011}, 'count': 13748},\n",
       " {'_id': {'month': 10, 'year': 2012}, 'count': 13120},\n",
       " {'_id': {'month': 11, 'year': 2009}, 'count': 15473},\n",
       " {'_id': {'month': 11, 'year': 2010}, 'count': 14544},\n",
       " {'_id': {'month': 11, 'year': 2011}, 'count': 13197},\n",
       " {'_id': {'month': 11, 'year': 2012}, 'count': 13305},\n",
       " {'_id': {'month': 12, 'year': 2009}, 'count': 13709},\n",
       " {'_id': {'month': 12, 'year': 2010}, 'count': 10345},\n",
       " {'_id': {'month': 12, 'year': 2011}, 'count': 12685},\n",
       " {'_id': {'month': 12, 'year': 2012}, 'count': 11785}]"
      ]
     },
     "execution_count": 7,
     "metadata": {},
     "output_type": "execute_result"
    }
   ],
   "source": [
    "pipeline = [\n",
    "    {'$project': {'month': {'$month': '$Datetime'},\n",
    "                  'year': {'$year': '$Datetime'}}},\n",
    "    {'$group': {'_id': {'month': '$month', 'year': '$year'},\n",
    "                'count': {'$sum': 1}}},\n",
    "    {'$sort': {'_id': 1}}\n",
    "]\n",
    "results = list(accidents.aggregate(pipeline))\n",
    "results"
   ]
  },
  {
   "cell_type": "markdown",
   "metadata": {},
   "source": [
    "We can put that in a *pandas* Series and plot the number of accidents over time. Note that we're building the series from a `dict` so that *pandas* will keep the data items in date order."
   ]
  },
  {
   "cell_type": "code",
   "execution_count": null,
   "metadata": {
    "collapsed": true,
    "scrolled": true
   },
   "outputs": [],
   "source": [
    "accidents_by_month_ss = pd.Series({datetime.datetime(m['_id']['year'], m['_id']['month'], 1): \n",
    "                                m['count'] for m in results})\n",
    "# A hack to change the dates to the end of the month\n",
    "accidents_by_month_ss.index = accidents_by_month_ss.index.to_period('M').to_timestamp('M')\n",
    "accidents_by_month_ss.plot()\n",
    "accidents_by_month_ss"
   ]
  },
  {
   "cell_type": "code",
   "execution_count": null,
   "metadata": {
    "collapsed": true
   },
   "outputs": [],
   "source": [
    "accidents_by_month_ss.plot()"
   ]
  },
  {
   "cell_type": "markdown",
   "metadata": {},
   "source": [
    "That looks like a significant drop in the number of accidents, though the plot could be deceptive as the *y*-axis doesn't go to zero. Let's plot that again showing zero on the *y*-axis."
   ]
  },
  {
   "cell_type": "code",
   "execution_count": null,
   "metadata": {
    "collapsed": true
   },
   "outputs": [],
   "source": [
    "accidents_by_month_ss.plot(ylim=(0, accidents_by_month_ss.max() * 1.1))"
   ]
  },
  {
   "cell_type": "markdown",
   "metadata": {},
   "source": [
    "Still a significant decrease in the number of accidents. Is this because people were driving less?\n",
    "\n",
    "Let's summarise the road data, but that's only data for each year."
   ]
  },
  {
   "cell_type": "markdown",
   "metadata": {
    "activity": "activityAns"
   },
   "source": [
    "## Activity 1\n",
    "Use an aggregation pipeline to find the total volume of traffic, grouped by year.\n",
    "\n",
    "Were the lower accident volumes reported since 2009 because of less traffic?\n",
    "\n",
    "The solution is in the [`16.1solutions`](16.1solutions.ipynb) Notebook."
   ]
  },
  {
   "cell_type": "code",
   "execution_count": null,
   "metadata": {
    "collapsed": true
   },
   "outputs": [],
   "source": [
    "# Insert your solution here."
   ]
  },
  {
   "cell_type": "markdown",
   "metadata": {
    "activity": "activityAns"
   },
   "source": [
    "## Activity 2: Proportions of accidents at severity levels over time\n",
    "Are cars getting safer? In other words, are there proportionally more slight accidents than serious or fatal, and more serious accidents than fatal?\n",
    "\n",
    "Use an aggregation pipeline to find the number of accidents of each severity for each year. Use an appropriate statistical test to see if the proportions of accidents at each severity are significantly different over time.\n",
    "\n",
    "The solution is in the [`16.1solutions`](16.1solutions.ipynb) Notebook."
   ]
  },
  {
   "cell_type": "code",
   "execution_count": null,
   "metadata": {
    "collapsed": true
   },
   "outputs": [],
   "source": [
    "# Insert your solution here."
   ]
  },
  {
   "cell_type": "markdown",
   "metadata": {},
   "source": [
    "## Cleanup"
   ]
  },
  {
   "cell_type": "code",
   "execution_count": null,
   "metadata": {
    "collapsed": true
   },
   "outputs": [],
   "source": [
    "!sudo /etc/mongo-shards-down\n",
    "!sudo service mongod start"
   ]
  },
  {
   "cell_type": "markdown",
   "metadata": {},
   "source": [
    "## What next?\n",
    "If you are working through this Notebook as part of an inline exercise, return to the module materials now.\n",
    "\n",
    "If you are working through this set of Notebooks as a whole, move on to `16.2 Python map-reduce`."
   ]
  }
 ],
 "metadata": {
  "kernelspec": {
   "display_name": "Python 3",
   "language": "python",
   "name": "python3"
  },
  "language_info": {
   "codemirror_mode": {
    "name": "ipython",
    "version": 3
   },
   "file_extension": ".py",
   "mimetype": "text/x-python",
   "name": "python",
   "nbconvert_exporter": "python",
   "pygments_lexer": "ipython3",
   "version": "3.5.2"
  }
 },
 "nbformat": 4,
 "nbformat_minor": 1
}
