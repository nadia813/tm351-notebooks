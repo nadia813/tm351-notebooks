{
 "cells": [
  {
   "cell_type": "markdown",
   "metadata": {},
   "source": [
    "# Accidents over time\n",
    "Given a sharded MongoDB cluster, we can now use it to store and query the entire accidents database, from 2009–12 inclusive. \n",
    "\n",
    "Note that this database only just fits in the memory of the VM. Before you start the activities in this Notebook, make sure you have no other running Notebooks. \n",
    "\n",
    "If any of the queries takes more than a few minutes to complete, it's probably because one of the shard servers has run out of memory and failed. Rerun the first three cells and try again. \n",
    "\n",
    "If you get more than a couple of failures, reboot the whole VM (_not_ suspend) and try again."
   ]
  },
  {
   "cell_type": "markdown",
   "metadata": {},
   "source": [
    "Stop the single-server Mongo instance and start the shard cluster. Look at the output of this command: it could well have failures the first time you run it. If so, just run it again until it works."
   ]
  },
  {
   "cell_type": "code",
   "execution_count": 1,
   "metadata": {},
   "outputs": [
    {
     "name": "stdout",
     "output_type": "stream",
     "text": [
      "/etc/mongo-shards-down: line 4: /vagrant/logs/mongocluster_*pid: No such file or directory\n",
      "Killing process  found in /vagrant/logs/mongocluster_*pid\n",
      "kill: usage: kill [-s sigspec | -n signum | -sigspec] pid | jobspec ... or kill -l [sigspec]\n",
      "Wait a mo to check processes are down...\n",
      "...ok\n",
      "Starting config server...\n",
      "about to fork child process, waiting until server is ready for connections.\n",
      "forked process: 4334\n",
      "child process started successfully, parent exiting\n",
      "Sleep for 5...\n",
      "...done\n",
      "Configuring config replica set\n",
      "MongoDB shell version v3.4.4\n",
      "connecting to: mongodb://127.0.0.1:57050/\n",
      "MongoDB server version: 3.4.4\n",
      "{\n",
      "\t\"_id\" : \"c1\",\n",
      "\t\"members\" : [\n",
      "\t\t{\n",
      "\t\t\t\"_id\" : 0,\n",
      "\t\t\t\"host\" : \"localhost:57050\"\n",
      "\t\t}\n",
      "\t]\n",
      "}\n",
      "{\n",
      "\t\"info\" : \"try querying local.system.replset to see current configuration\",\n",
      "\t\"ok\" : 0,\n",
      "\t\"errmsg\" : \"already initialized\",\n",
      "\t\"code\" : 23,\n",
      "\t\"codeName\" : \"AlreadyInitialized\"\n",
      "}\n",
      "bye\n",
      "Sleep for 5...\n",
      "...done\n",
      "2018-03-12T16:36:47.819+0000 W SHARDING [main] Running a sharded cluster with fewer than 3 config servers should only be done for testing purposes and is not recommended for production.\n",
      "about to fork child process, waiting until server is ready for connections.\n",
      "forked process: 4426\n",
      "child process started successfully, parent exiting\n",
      "Sleep for 5...\n",
      "...done\n",
      "starting servers for shard 0\n",
      "about to fork child process, waiting until server is ready for connections.\n",
      "forked process: 4450\n",
      "child process started successfully, parent exiting\n",
      "Sleep for 5...\n",
      "...done\n",
      "Configuring s0 replica set\n",
      "MongoDB shell version v3.4.4\n",
      "connecting to: mongodb://127.0.0.1:37017/\n",
      "MongoDB server version: 3.4.4\n",
      "{\n",
      "\t\"_id\" : \"s0\",\n",
      "\t\"members\" : [\n",
      "\t\t{\n",
      "\t\t\t\"_id\" : 0,\n",
      "\t\t\t\"host\" : \"localhost:37017\"\n",
      "\t\t}\n",
      "\t]\n",
      "}\n",
      "{\n",
      "\t\"info\" : \"try querying local.system.replset to see current configuration\",\n",
      "\t\"ok\" : 0,\n",
      "\t\"errmsg\" : \"already initialized\",\n",
      "\t\"code\" : 23,\n",
      "\t\"codeName\" : \"AlreadyInitialized\"\n",
      "}\n",
      "bye\n",
      "starting servers for shard 1\n",
      "about to fork child process, waiting until server is ready for connections.\n",
      "forked process: 4545\n",
      "child process started successfully, parent exiting\n",
      "Sleep for 5...\n",
      "...done\n",
      "Configuring s1 replica set\n",
      "MongoDB shell version v3.4.4\n",
      "connecting to: mongodb://127.0.0.1:47017/\n",
      "MongoDB server version: 3.4.4\n",
      "{\n",
      "\t\"_id\" : \"s1\",\n",
      "\t\"members\" : [\n",
      "\t\t{\n",
      "\t\t\t\"_id\" : 0,\n",
      "\t\t\t\"host\" : \"localhost:47017\"\n",
      "\t\t}\n",
      "\t]\n",
      "}\n",
      "{\n",
      "\t\"info\" : \"try querying local.system.replset to see current configuration\",\n",
      "\t\"ok\" : 0,\n",
      "\t\"errmsg\" : \"already initialized\",\n",
      "\t\"code\" : 23,\n",
      "\t\"codeName\" : \"AlreadyInitialized\"\n",
      "}\n",
      "bye\n",
      "starting servers for shard 2\n",
      "about to fork child process, waiting until server is ready for connections.\n",
      "forked process: 4640\n",
      "child process started successfully, parent exiting\n",
      "Sleep for 5...\n",
      "...done\n",
      "Configuring s2 replica set\n",
      "MongoDB shell version v3.4.4\n",
      "connecting to: mongodb://127.0.0.1:57017/\n",
      "MongoDB server version: 3.4.4\n",
      "{\n",
      "\t\"_id\" : \"s2\",\n",
      "\t\"members\" : [\n",
      "\t\t{\n",
      "\t\t\t\"_id\" : 0,\n",
      "\t\t\t\"host\" : \"localhost:57017\"\n",
      "\t\t}\n",
      "\t]\n",
      "}\n",
      "{\n",
      "\t\"info\" : \"try querying local.system.replset to see current configuration\",\n",
      "\t\"ok\" : 0,\n",
      "\t\"errmsg\" : \"already initialized\",\n",
      "\t\"code\" : 23,\n",
      "\t\"codeName\" : \"AlreadyInitialized\"\n",
      "}\n",
      "bye\n",
      "Waiting 10 seconds for the replica sets to fully come online...\n",
      "...done: should be online now\n"
     ]
    }
   ],
   "source": [
    "!sudo service mongod stop\n",
    "!sudo /etc/mongo-shards-down\n",
    "!sudo /etc/mongo-shards-up"
   ]
  },
  {
   "cell_type": "code",
   "execution_count": 2,
   "metadata": {
    "collapsed": true
   },
   "outputs": [],
   "source": [
    "# Import the required libraries and open the connection to Mongo\n",
    "\n",
    "import collections\n",
    "import datetime\n",
    "import matplotlib as mpl\n",
    "\n",
    "import pandas as pd\n",
    "import scipy.stats\n",
    "\n",
    "import folium\n",
    "import uuid\n",
    "\n",
    "import pymongo"
   ]
  },
  {
   "cell_type": "code",
   "execution_count": 3,
   "metadata": {
    "collapsed": true
   },
   "outputs": [],
   "source": [
    "# Open a connection to the Mongo server, open the accidents database and name the collections of accidents and labels\n",
    "\n",
    "# Note the different port number for this cluster\n",
    "client = pymongo.MongoClient('mongodb://localhost:27017/')\n",
    "\n",
    "db = client.accidents\n",
    "accidents = db.accidents\n",
    "labels = db.labels\n",
    "roads = db.roads"
   ]
  },
  {
   "cell_type": "markdown",
   "metadata": {},
   "source": [
    "## Rerun cells above\n",
    "If a map-reduce query fails, try rerunning the cells above to restart the Mongo shard cluster."
   ]
  },
  {
   "cell_type": "code",
   "execution_count": 4,
   "metadata": {
    "collapsed": true
   },
   "outputs": [],
   "source": [
    "# Load the expanded names of keys and human-readable codes into memory\n",
    "\n",
    "expanded_name = collections.defaultdict(str)\n",
    "for e in labels.find({'expanded': {\"$exists\": True}}):\n",
    "    expanded_name[e['label']] = e['expanded']\n",
    "    \n",
    "label_of = collections.defaultdict(str)\n",
    "for l in labels.find({'codes': {\"$exists\": True}}):\n",
    "    for c in l['codes']:\n",
    "        try:\n",
    "            label_of[l['label'], int(c)] = l['codes'][c]\n",
    "        except ValueError: \n",
    "            label_of[l['label'], c] = l['codes'][c]"
   ]
  },
  {
   "cell_type": "markdown",
   "metadata": {},
   "source": [
    "The small_accidents database only included data for 2012. The full database includes data from 2009–12. How much data?"
   ]
  },
  {
   "cell_type": "code",
   "execution_count": 5,
   "metadata": {},
   "outputs": [
    {
     "data": {
      "text/plain": [
       "615013"
      ]
     },
     "execution_count": 5,
     "metadata": {},
     "output_type": "execute_result"
    }
   ],
   "source": [
    "accidents.find().count()"
   ]
  },
  {
   "cell_type": "code",
   "execution_count": 6,
   "metadata": {},
   "outputs": [
    {
     "data": {
      "text/plain": [
       "103529"
      ]
     },
     "execution_count": 6,
     "metadata": {},
     "output_type": "execute_result"
    }
   ],
   "source": [
    "roads.find().count()"
   ]
  },
  {
   "cell_type": "markdown",
   "metadata": {},
   "source": [
    "We can summarise the data with an aggregation pipeline that will show the number of accidents each month over the seven years."
   ]
  },
  {
   "cell_type": "code",
   "execution_count": 7,
   "metadata": {
    "scrolled": true
   },
   "outputs": [
    {
     "data": {
      "text/plain": [
       "[{'_id': {'month': 1, 'year': 2009}, 'count': 13417},\n",
       " {'_id': {'month': 1, 'year': 2010}, 'count': 10637},\n",
       " {'_id': {'month': 1, 'year': 2011}, 'count': 11761},\n",
       " {'_id': {'month': 1, 'year': 2012}, 'count': 11836},\n",
       " {'_id': {'month': 2, 'year': 2009}, 'count': 10950},\n",
       " {'_id': {'month': 2, 'year': 2010}, 'count': 11724},\n",
       " {'_id': {'month': 2, 'year': 2011}, 'count': 11150},\n",
       " {'_id': {'month': 2, 'year': 2012}, 'count': 10863},\n",
       " {'_id': {'month': 3, 'year': 2009}, 'count': 13202},\n",
       " {'_id': {'month': 3, 'year': 2010}, 'count': 13165},\n",
       " {'_id': {'month': 3, 'year': 2011}, 'count': 12432},\n",
       " {'_id': {'month': 3, 'year': 2012}, 'count': 12171},\n",
       " {'_id': {'month': 4, 'year': 2009}, 'count': 12715},\n",
       " {'_id': {'month': 4, 'year': 2010}, 'count': 12248},\n",
       " {'_id': {'month': 4, 'year': 2011}, 'count': 12342},\n",
       " {'_id': {'month': 4, 'year': 2012}, 'count': 10820},\n",
       " {'_id': {'month': 5, 'year': 2009}, 'count': 13811},\n",
       " {'_id': {'month': 5, 'year': 2010}, 'count': 13220},\n",
       " {'_id': {'month': 5, 'year': 2011}, 'count': 12623},\n",
       " {'_id': {'month': 5, 'year': 2012}, 'count': 12439},\n",
       " {'_id': {'month': 6, 'year': 2009}, 'count': 13936},\n",
       " {'_id': {'month': 6, 'year': 2010}, 'count': 13644},\n",
       " {'_id': {'month': 6, 'year': 2011}, 'count': 13048},\n",
       " {'_id': {'month': 6, 'year': 2012}, 'count': 11470},\n",
       " {'_id': {'month': 7, 'year': 2009}, 'count': 14300},\n",
       " {'_id': {'month': 7, 'year': 2010}, 'count': 13527},\n",
       " {'_id': {'month': 7, 'year': 2011}, 'count': 13118},\n",
       " {'_id': {'month': 7, 'year': 2012}, 'count': 12818},\n",
       " {'_id': {'month': 8, 'year': 2009}, 'count': 13415},\n",
       " {'_id': {'month': 8, 'year': 2010}, 'count': 13027},\n",
       " {'_id': {'month': 8, 'year': 2011}, 'count': 12031},\n",
       " {'_id': {'month': 8, 'year': 2012}, 'count': 11878},\n",
       " {'_id': {'month': 9, 'year': 2009}, 'count': 13792},\n",
       " {'_id': {'month': 9, 'year': 2010}, 'count': 13904},\n",
       " {'_id': {'month': 9, 'year': 2011}, 'count': 13339},\n",
       " {'_id': {'month': 9, 'year': 2012}, 'count': 13066},\n",
       " {'_id': {'month': 10, 'year': 2009}, 'count': 14834},\n",
       " {'_id': {'month': 10, 'year': 2010}, 'count': 14429},\n",
       " {'_id': {'month': 10, 'year': 2011}, 'count': 13748},\n",
       " {'_id': {'month': 10, 'year': 2012}, 'count': 13120},\n",
       " {'_id': {'month': 11, 'year': 2009}, 'count': 15473},\n",
       " {'_id': {'month': 11, 'year': 2010}, 'count': 14544},\n",
       " {'_id': {'month': 11, 'year': 2011}, 'count': 13197},\n",
       " {'_id': {'month': 11, 'year': 2012}, 'count': 13305},\n",
       " {'_id': {'month': 12, 'year': 2009}, 'count': 13709},\n",
       " {'_id': {'month': 12, 'year': 2010}, 'count': 10345},\n",
       " {'_id': {'month': 12, 'year': 2011}, 'count': 12685},\n",
       " {'_id': {'month': 12, 'year': 2012}, 'count': 11785}]"
      ]
     },
     "execution_count": 7,
     "metadata": {},
     "output_type": "execute_result"
    }
   ],
   "source": [
    "pipeline = [\n",
    "    {'$project': {'month': {'$month': '$Datetime'},\n",
    "                  'year': {'$year': '$Datetime'}}},\n",
    "    {'$group': {'_id': {'month': '$month', 'year': '$year'},\n",
    "                'count': {'$sum': 1}}},\n",
    "    {'$sort': {'_id': 1}}\n",
    "]\n",
    "results = list(accidents.aggregate(pipeline))\n",
    "results"
   ]
  },
  {
   "cell_type": "markdown",
   "metadata": {},
   "source": [
    "We can put that in a *pandas* Series and plot the number of accidents over time. Note that we're building the series from a `dict` so that *pandas* will keep the data items in date order."
   ]
  },
  {
   "cell_type": "code",
   "execution_count": 8,
   "metadata": {
    "scrolled": true
   },
   "outputs": [
    {
     "data": {
      "text/plain": [
       "2009-01-31    13417\n",
       "2009-02-28    10950\n",
       "2009-03-31    13202\n",
       "2009-04-30    12715\n",
       "2009-05-31    13811\n",
       "2009-06-30    13936\n",
       "2009-07-31    14300\n",
       "2009-08-31    13415\n",
       "2009-09-30    13792\n",
       "2009-10-31    14834\n",
       "2009-11-30    15473\n",
       "2009-12-31    13709\n",
       "2010-01-31    10637\n",
       "2010-02-28    11724\n",
       "2010-03-31    13165\n",
       "2010-04-30    12248\n",
       "2010-05-31    13220\n",
       "2010-06-30    13644\n",
       "2010-07-31    13527\n",
       "2010-08-31    13027\n",
       "2010-09-30    13904\n",
       "2010-10-31    14429\n",
       "2010-11-30    14544\n",
       "2010-12-31    10345\n",
       "2011-01-31    11761\n",
       "2011-02-28    11150\n",
       "2011-03-31    12432\n",
       "2011-04-30    12342\n",
       "2011-05-31    12623\n",
       "2011-06-30    13048\n",
       "2011-07-31    13118\n",
       "2011-08-31    12031\n",
       "2011-09-30    13339\n",
       "2011-10-31    13748\n",
       "2011-11-30    13197\n",
       "2011-12-31    12685\n",
       "2012-01-31    11836\n",
       "2012-02-29    10863\n",
       "2012-03-31    12171\n",
       "2012-04-30    10820\n",
       "2012-05-31    12439\n",
       "2012-06-30    11470\n",
       "2012-07-31    12818\n",
       "2012-08-31    11878\n",
       "2012-09-30    13066\n",
       "2012-10-31    13120\n",
       "2012-11-30    13305\n",
       "2012-12-31    11785\n",
       "Freq: M, dtype: int64"
      ]
     },
     "execution_count": 8,
     "metadata": {},
     "output_type": "execute_result"
    },
    {
     "data": {
      "image/png": "[encoded data removed]",
      "text/plain": [
       "<matplotlib.figure.Figure at 0x7f744771c550>"
      ]
     },
     "metadata": {},
     "output_type": "display_data"
    }
   ],
   "source": [
    "accidents_by_month_ss = pd.Series({datetime.datetime(m['_id']['year'], m['_id']['month'], 1): \n",
    "                                m['count'] for m in results})\n",
    "# A hack to change the dates to the end of the month\n",
    "accidents_by_month_ss.index = accidents_by_month_ss.index.to_period('M').to_timestamp('M')\n",
    "accidents_by_month_ss.plot()\n",
    "accidents_by_month_ss"
   ]
  },
  {
   "cell_type": "code",
   "execution_count": 9,
   "metadata": {},
   "outputs": [
    {
     "data": {
      "text/plain": [
       "<matplotlib.axes._subplots.AxesSubplot at 0x7f744771c588>"
      ]
     },
     "execution_count": 9,
     "metadata": {},
     "output_type": "execute_result"
    },
    {
     "data": {
      "image/png": "[encoded data removed]",
      "text/plain": [
       "<matplotlib.figure.Figure at 0x7f744737ab70>"
      ]
     },
     "metadata": {},
     "output_type": "display_data"
    }
   ],
   "source": [
    "accidents_by_month_ss.plot()"
   ]
  },
  {
   "cell_type": "markdown",
   "metadata": {},
   "source": [
    "That looks like a significant drop in the number of accidents, though the plot could be deceptive as the *y*-axis doesn't go to zero. Let's plot that again showing zero on the *y*-axis."
   ]
  },
  {
   "cell_type": "code",
   "execution_count": 13,
   "metadata": {},
   "outputs": [
    {
     "data": {
      "text/plain": [
       "<matplotlib.axes._subplots.AxesSubplot at 0x7f74447245f8>"
      ]
     },
     "execution_count": 13,
     "metadata": {},
     "output_type": "execute_result"
    },
    {
     "data": {
      "image/png": "[encoded data removed]",
      "text/plain": [
       "<matplotlib.figure.Figure at 0x7f74447352b0>"
      ]
     },
     "metadata": {},
     "output_type": "display_data"
    }
   ],
   "source": [
    "accidents_by_month_ss.plot(ylim=(0, accidents_by_month_ss.max() * 1.1))"
   ]
  },
  {
   "cell_type": "markdown",
   "metadata": {},
   "source": [
    "Still a significant decrease in the number of accidents. Is this because people were driving less?\n",
    "\n",
    "Let's summarise the road data, but that's only data for each year."
   ]
  },
  {
   "cell_type": "markdown",
   "metadata": {
    "activity": "activityAns"
   },
   "source": [
    "## Activity 1\n",
    "Use an aggregation pipeline to find the total volume of traffic, grouped by year.\n",
    "\n",
    "Were the lower accident volumes reported since 2009 because of less traffic?\n",
    "\n",
    "The solution is in the [`16.1solutions`](16.1solutions.ipynb) Notebook."
   ]
  },
  {
   "cell_type": "code",
   "execution_count": 15,
   "metadata": {},
   "outputs": [
    {
     "data": {
      "text/plain": [
       "[{'_id': 2009, 'count': 394596306.0},\n",
       " {'_id': 2010, 'count': 383385741.0},\n",
       " {'_id': 2011, 'count': 384445046.0},\n",
       " {'_id': 2012, 'count': 383755811.0},\n",
       " {'_id': 2013, 'count': 13863156}]"
      ]
     },
     "execution_count": 15,
     "metadata": {},
     "output_type": "execute_result"
    }
   ],
   "source": [
    "pipeline = [\n",
    "    {'$group': {'_id': '$AADFYear',\n",
    "               'count': {'$sum': '$FdAll_MV'}}},\n",
    "    {'$sort': {'_id': 1}}\n",
    "]\n",
    "results = list(roads.aggregate(pipeline))\n",
    "results"
   ]
  },
  {
   "cell_type": "code",
   "execution_count": 17,
   "metadata": {},
   "outputs": [
    {
     "data": {
      "text/plain": [
       "<matplotlib.axes._subplots.AxesSubplot at 0x7f7447358ac8>"
      ]
     },
     "execution_count": 17,
     "metadata": {},
     "output_type": "execute_result"
    },
    {
     "data": {
      "image/png": "[encoded data removed]",
      "text/plain": [
       "<matplotlib.figure.Figure at 0x7f7444605e80>"
      ]
     },
     "metadata": {},
     "output_type": "display_data"
    }
   ],
   "source": [
    "traffic_volume_by_year = pd.Series([y['count'] for y in results],\n",
    "                                  index=pd.to_datetime([datetime.datetime(y['_id'], 12, 31) for y in results]))\n",
    "traffic_volume_by_year.plot()"
   ]
  },
  {
   "cell_type": "markdown",
   "metadata": {},
   "source": [
    "lets look at traffic volume from just 2009-2012"
   ]
  },
  {
   "cell_type": "code",
   "execution_count": 19,
   "metadata": {},
   "outputs": [
    {
     "data": {
      "text/plain": [
       "<matplotlib.axes._subplots.AxesSubplot at 0x7f744460ecc0>"
      ]
     },
     "execution_count": 19,
     "metadata": {},
     "output_type": "execute_result"
    },
    {
     "data": {
      "image/png": "[encoded data removed]",
      "text/plain": [
       "<matplotlib.figure.Figure at 0x7f7444631cc0>"
      ]
     },
     "metadata": {},
     "output_type": "display_data"
    }
   ],
   "source": [
    "pipeline = [\n",
    "    {'$match': {'AADFYear': {'$lte': 2012}}},\n",
    "    {'$group': {'_id': '$AADFYear',\n",
    "               'count': {'$sum': '$FdAll_MV'}}},\n",
    "    {'$sort': {'_id': 1}}\n",
    "]\n",
    "results = list(roads.aggregate(pipeline))\n",
    "traffic_volume_by_year = pd.Series([y['count'] for y in results],\n",
    "                                  index=pd.to_datetime([datetime.datetime(y['_id'], 12, 31) for y in results]))\n",
    "# add ylim 0 to get a better sense of any change\n",
    "traffic_volume_by_year.plot(ylim=(0, traffic_volume_by_year.max()*1.1))"
   ]
  },
  {
   "cell_type": "markdown",
   "metadata": {
    "activity": "activityAns"
   },
   "source": [
    "## Activity 2: Proportions of accidents at severity levels over time\n",
    "Are cars getting safer? In other words, are there proportionally more slight accidents than serious or fatal, and more serious accidents than fatal?\n",
    "\n",
    "Use an aggregation pipeline to find the number of accidents of each severity for each year. Use an appropriate statistical test to see if the proportions of accidents at each severity are significantly different over time.\n",
    "\n",
    "The solution is in the [`16.1solutions`](16.1solutions.ipynb) Notebook."
   ]
  },
  {
   "cell_type": "code",
   "execution_count": 21,
   "metadata": {},
   "outputs": [
    {
     "data": {
      "text/plain": [
       "[{'_id': {'Accident_Severity': 1, 'year': 2009}, 'count': 2057},\n",
       " {'_id': {'Accident_Severity': 2, 'year': 2009}, 'count': 21997},\n",
       " {'_id': {'Accident_Severity': 3, 'year': 2009}, 'count': 139500},\n",
       " {'_id': {'Accident_Severity': 1, 'year': 2010}, 'count': 1731},\n",
       " {'_id': {'Accident_Severity': 2, 'year': 2010}, 'count': 20440},\n",
       " {'_id': {'Accident_Severity': 3, 'year': 2010}, 'count': 132243},\n",
       " {'_id': {'Accident_Severity': 1, 'year': 2011}, 'count': 1797},\n",
       " {'_id': {'Accident_Severity': 2, 'year': 2011}, 'count': 20986},\n",
       " {'_id': {'Accident_Severity': 3, 'year': 2011}, 'count': 128691},\n",
       " {'_id': {'Accident_Severity': 1, 'year': 2012}, 'count': 1637},\n",
       " {'_id': {'Accident_Severity': 2, 'year': 2012}, 'count': 20901},\n",
       " {'_id': {'Accident_Severity': 3, 'year': 2012}, 'count': 123033}]"
      ]
     },
     "execution_count": 21,
     "metadata": {},
     "output_type": "execute_result"
    }
   ],
   "source": [
    "# Generate the data.\n",
    "pipeline = [\n",
    "    {'$project': {'Accident_Severity': '$Accident_Severity',\n",
    "                  'year': {'$year': '$Datetime'}}},\n",
    "    {'$group': {'_id': {'Accident_Severity': '$Accident_Severity',\n",
    "                        'year': '$year'},\n",
    "                'count': {'$sum': 1}}},\n",
    "    {'$sort': {'_id': 1}}\n",
    "]\n",
    "results = list(accidents.aggregate(pipeline))\n",
    "results"
   ]
  },
  {
   "cell_type": "code",
   "execution_count": 22,
   "metadata": {},
   "outputs": [
    {
     "data": {
      "text/html": [
       "<div>\n",
       "<style>\n",
       "    .dataframe thead tr:only-child th {\n",
       "        text-align: right;\n",
       "    }\n",
       "\n",
       "    .dataframe thead th {\n",
       "        text-align: left;\n",
       "    }\n",
       "\n",
       "    .dataframe tbody tr th {\n",
       "        vertical-align: top;\n",
       "    }\n",
       "</style>\n",
       "<table border=\"1\" class=\"dataframe\">\n",
       "  <thead>\n",
       "    <tr style=\"text-align: right;\">\n",
       "      <th></th>\n",
       "      <th>Accident_Severity</th>\n",
       "      <th>count</th>\n",
       "      <th>year</th>\n",
       "    </tr>\n",
       "  </thead>\n",
       "  <tbody>\n",
       "    <tr>\n",
       "      <th>0</th>\n",
       "      <td>1</td>\n",
       "      <td>2057</td>\n",
       "      <td>2009</td>\n",
       "    </tr>\n",
       "    <tr>\n",
       "      <th>1</th>\n",
       "      <td>2</td>\n",
       "      <td>21997</td>\n",
       "      <td>2009</td>\n",
       "    </tr>\n",
       "    <tr>\n",
       "      <th>2</th>\n",
       "      <td>3</td>\n",
       "      <td>139500</td>\n",
       "      <td>2009</td>\n",
       "    </tr>\n",
       "    <tr>\n",
       "      <th>3</th>\n",
       "      <td>1</td>\n",
       "      <td>1731</td>\n",
       "      <td>2010</td>\n",
       "    </tr>\n",
       "    <tr>\n",
       "      <th>4</th>\n",
       "      <td>2</td>\n",
       "      <td>20440</td>\n",
       "      <td>2010</td>\n",
       "    </tr>\n",
       "    <tr>\n",
       "      <th>5</th>\n",
       "      <td>3</td>\n",
       "      <td>132243</td>\n",
       "      <td>2010</td>\n",
       "    </tr>\n",
       "    <tr>\n",
       "      <th>6</th>\n",
       "      <td>1</td>\n",
       "      <td>1797</td>\n",
       "      <td>2011</td>\n",
       "    </tr>\n",
       "    <tr>\n",
       "      <th>7</th>\n",
       "      <td>2</td>\n",
       "      <td>20986</td>\n",
       "      <td>2011</td>\n",
       "    </tr>\n",
       "    <tr>\n",
       "      <th>8</th>\n",
       "      <td>3</td>\n",
       "      <td>128691</td>\n",
       "      <td>2011</td>\n",
       "    </tr>\n",
       "    <tr>\n",
       "      <th>9</th>\n",
       "      <td>1</td>\n",
       "      <td>1637</td>\n",
       "      <td>2012</td>\n",
       "    </tr>\n",
       "    <tr>\n",
       "      <th>10</th>\n",
       "      <td>2</td>\n",
       "      <td>20901</td>\n",
       "      <td>2012</td>\n",
       "    </tr>\n",
       "    <tr>\n",
       "      <th>11</th>\n",
       "      <td>3</td>\n",
       "      <td>123033</td>\n",
       "      <td>2012</td>\n",
       "    </tr>\n",
       "  </tbody>\n",
       "</table>\n",
       "</div>"
      ],
      "text/plain": [
       "    Accident_Severity   count  year\n",
       "0                   1    2057  2009\n",
       "1                   2   21997  2009\n",
       "2                   3  139500  2009\n",
       "3                   1    1731  2010\n",
       "4                   2   20440  2010\n",
       "5                   3  132243  2010\n",
       "6                   1    1797  2011\n",
       "7                   2   20986  2011\n",
       "8                   3  128691  2011\n",
       "9                   1    1637  2012\n",
       "10                  2   20901  2012\n",
       "11                  3  123033  2012"
      ]
     },
     "execution_count": 22,
     "metadata": {},
     "output_type": "execute_result"
    }
   ],
   "source": [
    "# put in to a dataframe\n",
    "severity_by_year_long_df = pd.DataFrame([\n",
    "        {'Accident_Severity': r['_id']['Accident_Severity'],\n",
    "         'year': r['_id']['year'],\n",
    "         'count': r['count']}\n",
    "        for r in results\n",
    "    ])\n",
    "severity_by_year_long_df"
   ]
  },
  {
   "cell_type": "code",
   "execution_count": 24,
   "metadata": {},
   "outputs": [
    {
     "data": {
      "text/html": [
       "<div>\n",
       "<style>\n",
       "    .dataframe thead tr:only-child th {\n",
       "        text-align: right;\n",
       "    }\n",
       "\n",
       "    .dataframe thead th {\n",
       "        text-align: left;\n",
       "    }\n",
       "\n",
       "    .dataframe tbody tr th {\n",
       "        vertical-align: top;\n",
       "    }\n",
       "</style>\n",
       "<table border=\"1\" class=\"dataframe\">\n",
       "  <thead>\n",
       "    <tr style=\"text-align: right;\">\n",
       "      <th></th>\n",
       "      <th>Fatal</th>\n",
       "      <th>Serious</th>\n",
       "      <th>Slight</th>\n",
       "    </tr>\n",
       "    <tr>\n",
       "      <th>year</th>\n",
       "      <th></th>\n",
       "      <th></th>\n",
       "      <th></th>\n",
       "    </tr>\n",
       "  </thead>\n",
       "  <tbody>\n",
       "    <tr>\n",
       "      <th>2009</th>\n",
       "      <td>2057</td>\n",
       "      <td>21997</td>\n",
       "      <td>139500</td>\n",
       "    </tr>\n",
       "    <tr>\n",
       "      <th>2010</th>\n",
       "      <td>1731</td>\n",
       "      <td>20440</td>\n",
       "      <td>132243</td>\n",
       "    </tr>\n",
       "    <tr>\n",
       "      <th>2011</th>\n",
       "      <td>1797</td>\n",
       "      <td>20986</td>\n",
       "      <td>128691</td>\n",
       "    </tr>\n",
       "    <tr>\n",
       "      <th>2012</th>\n",
       "      <td>1637</td>\n",
       "      <td>20901</td>\n",
       "      <td>123033</td>\n",
       "    </tr>\n",
       "  </tbody>\n",
       "</table>\n",
       "</div>"
      ],
      "text/plain": [
       "      Fatal  Serious  Slight\n",
       "year                        \n",
       "2009   2057    21997  139500\n",
       "2010   1731    20440  132243\n",
       "2011   1797    20986  128691\n",
       "2012   1637    20901  123033"
      ]
     },
     "execution_count": 24,
     "metadata": {},
     "output_type": "execute_result"
    }
   ],
   "source": [
    "# pivot the df, index by year and relabel the columns\n",
    "severity_by_year_df = severity_by_year_long_df.pivot('year', 'Accident_Severity', 'count')\n",
    "severity_by_year_df.columns = [label_of['Accident_Severity', c] for c in severity_by_year_df.columns]\n",
    "severity_by_year_df"
   ]
  },
  {
   "cell_type": "code",
   "execution_count": 25,
   "metadata": {},
   "outputs": [
    {
     "data": {
      "text/plain": [
       "<matplotlib.axes._subplots.AxesSubplot at 0x7f744453e1d0>"
      ]
     },
     "execution_count": 25,
     "metadata": {},
     "output_type": "execute_result"
    },
    {
     "data": {
      "image/png": "[encoded data removed]",
      "text/plain": [
       "<matplotlib.figure.Figure at 0x7f74445f19b0>"
      ]
     },
     "metadata": {},
     "output_type": "display_data"
    }
   ],
   "source": [
    "severity_by_year_df.plot()"
   ]
  },
  {
   "cell_type": "markdown",
   "metadata": {},
   "source": [
    "The trends are difficult to spot because there are so many more slight accidents compared to the other types. What if we plot the trends using different y axes?"
   ]
  },
  {
   "cell_type": "code",
   "execution_count": 26,
   "metadata": {},
   "outputs": [
    {
     "data": {
      "text/plain": [
       "<matplotlib.axes._subplots.AxesSubplot at 0x7f74443fe438>"
      ]
     },
     "execution_count": 26,
     "metadata": {},
     "output_type": "execute_result"
    },
    {
     "data": {
      "image/png": "[encoded data removed]",
      "text/plain": [
       "<matplotlib.figure.Figure at 0x7f7444625278>"
      ]
     },
     "metadata": {},
     "output_type": "display_data"
    }
   ],
   "source": [
    "severity_by_year_df['Slight'].plot(legend=True)\n",
    "severity_by_year_df['Serious'].plot(secondary_y=True, legend=True)\n",
    "severity_by_year_df['Fatal'].plot(secondary_y=True, legend=True)"
   ]
  },
  {
   "cell_type": "markdown",
   "metadata": {},
   "source": [
    "This plot shows that the numbers of fatal and serious accidents have declined slightly faster than slight accidents. \n",
    "\n",
    "Now we have the data, do pairwise Pearson's *R*<sup>2</sup> tests to see if the correlations are significant. If the mix of accidents changes, we should expect to see non-significant correlations."
   ]
  },
  {
   "cell_type": "code",
   "execution_count": 27,
   "metadata": {},
   "outputs": [
    {
     "data": {
      "text/plain": [
       "(0.63704780013140527, 0.36295219986859478)"
      ]
     },
     "execution_count": 27,
     "metadata": {},
     "output_type": "execute_result"
    }
   ],
   "source": [
    "scipy.stats.pearsonr(severity_by_year_df['Slight'], severity_by_year_df['Serious'])"
   ]
  },
  {
   "cell_type": "code",
   "execution_count": 28,
   "metadata": {},
   "outputs": [
    {
     "data": {
      "text/plain": [
       "(0.9150934674927067, 0.084906532507293311)"
      ]
     },
     "execution_count": 28,
     "metadata": {},
     "output_type": "execute_result"
    }
   ],
   "source": [
    "scipy.stats.pearsonr(severity_by_year_df['Slight'], severity_by_year_df['Fatal'])"
   ]
  },
  {
   "cell_type": "code",
   "execution_count": 29,
   "metadata": {},
   "outputs": [
    {
     "data": {
      "text/plain": [
       "(0.87262050802359192, 0.1273794919764081)"
      ]
     },
     "execution_count": 29,
     "metadata": {},
     "output_type": "execute_result"
    }
   ],
   "source": [
    "scipy.stats.pearsonr(severity_by_year_df['Serious'], severity_by_year_df['Fatal'])"
   ]
  },
  {
   "cell_type": "markdown",
   "metadata": {},
   "source": [
    "These results all have _p_ values (the second of the two returned) greater than 0.05, so we cannot reject the null hypothesis that the trends are uncorrelated. In other words, we cannot say that the proportions of accidents have remained the same."
   ]
  },
  {
   "cell_type": "markdown",
   "metadata": {},
   "source": [
    "## Cleanup"
   ]
  },
  {
   "cell_type": "code",
   "execution_count": 31,
   "metadata": {},
   "outputs": [
    {
     "name": "stdout",
     "output_type": "stream",
     "text": [
      "Killing process 4334 found in /vagrant/logs/mongocluster_cfg-a2.pid\n",
      "Killing process 4426 found in /vagrant/logs/mongocluster_mongos-2.pid\n",
      "Killing process 4450 found in /vagrant/logs/mongocluster_s0-r0.pid\n",
      "Killing process 4545 found in /vagrant/logs/mongocluster_s1-r0.pid\n",
      "Killing process 4640 found in /vagrant/logs/mongocluster_s2-r0.pid\n",
      "Wait a mo to check processes are down...\n",
      "...ok\n"
     ]
    }
   ],
   "source": [
    "!sudo /etc/mongo-shards-down\n",
    "!sudo service mongod start"
   ]
  },
  {
   "cell_type": "markdown",
   "metadata": {},
   "source": [
    "## What next?\n",
    "If you are working through this Notebook as part of an inline exercise, return to the module materials now.\n",
    "\n",
    "If you are working through this set of Notebooks as a whole, move on to `16.2 Python map-reduce`."
   ]
  }
 ],
 "metadata": {
  "kernelspec": {
   "display_name": "Python 3",
   "language": "python",
   "name": "python3"
  },
  "language_info": {
   "codemirror_mode": {
    "name": "ipython",
    "version": 3
   },
   "file_extension": ".py",
   "mimetype": "text/x-python",
   "name": "python",
   "nbconvert_exporter": "python",
   "pygments_lexer": "ipython3",
   "version": "3.5.2"
  }
 },
 "nbformat": 4,
 "nbformat_minor": 1
}
